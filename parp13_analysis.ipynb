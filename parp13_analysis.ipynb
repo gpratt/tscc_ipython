{
 "cells": [
  {
   "cell_type": "code",
   "execution_count": 180,
   "metadata": {
    "collapsed": false
   },
   "outputs": [],
   "source": [
    "%matplotlib inline\n",
    "\n",
    "import pybedtools\n",
    "from clipper.src import CLIP_analysis\n",
    "from gscripts.general import region_helpers\n",
    "\n",
    "import os\n",
    "from gscripts.general import dataviz\n",
    "from matplotlib_venn import venn2\n",
    "import glob\n",
    "import os\n",
    "import numpy as np\n",
    "import pandas as pd\n",
    "\n",
    "img_dir = \"/home/gpratt/Dropbox/random_figure/\""
   ]
  },
  {
   "cell_type": "code",
   "execution_count": 7,
   "metadata": {
    "collapsed": false
   },
   "outputs": [
    {
     "name": "stdout",
     "output_type": "stream",
     "text": [
      "The autoreload extension is already loaded. To reload it, use:\n",
      "  %reload_ext autoreload\n"
     ]
    },
    {
     "data": {
      "text/plain": [
       "<module 'clipper.src.CLIP_analysis' from '/home/gpratt/clipper/clipper/src/CLIP_analysis.py'>"
      ]
     },
     "execution_count": 7,
     "metadata": {},
     "output_type": "execute_result"
    }
   ],
   "source": [
    "%load_ext autoreload\n",
    "%autoreload 2\n",
    "\n",
    "reload(CLIP_analysis)"
   ]
  },
  {
   "cell_type": "code",
   "execution_count": 213,
   "metadata": {
    "collapsed": true
   },
   "outputs": [],
   "source": [
    "def make_clipper_ish(interval):\n",
    "    interval.name = interval[7]\n",
    "    interval[6] = interval.start\n",
    "    interval[7] = interval.stop\n",
    "    return interval\n",
    "\n",
    "def filter_data(interval):\n",
    "    #col4 is -log10 p-val\n",
    "    #col5 is -log2 fold enrichment\n",
    "    return (float(interval[4]) >= 3) and (float(interval[3]) >= 5)"
   ]
  },
  {
   "cell_type": "code",
   "execution_count": null,
   "metadata": {
    "collapsed": true
   },
   "outputs": [],
   "source": [
    "gene_id_to_name = region_helpers.gene_id_to_name(\"/projects/ps-yeolab/genomes/hg19/gencode/v19/gencode.v19.annotation.gtf.db\")\n",
    "gene_id_to_type = region_helpers.gene_id_to_type(\"/projects/ps-yeolab/genomes/hg19/gencode/v19/gencode.v19.annotation.gtf.db\")\n",
    "ensembl_id_to_name = {key.split(\".\")[0]: value for key, value in gene_id_to_name.items()}\n",
    "\n",
    "name_to_gene_id = {value: key for key, value in gene_id_to_name.items()}"
   ]
  },
  {
   "cell_type": "code",
   "execution_count": 67,
   "metadata": {
    "collapsed": false
   },
   "outputs": [],
   "source": [
    "inputnorm_dir = '/home/bay001/projects/parp13_ago2_20151203/data/input_norm'\n",
    "wt = pybedtools.BedTool(os.path.join(inputnorm_dir,'SA2_01.basedon_SA2_01.peaks.l2inputnormnew.bed.compressed.bed.annotated'))\n",
    "mimic = pybedtools.BedTool(os.path.join(inputnorm_dir,'SA4_01.basedon_SA4_01.peaks.l2inputnormnew.bed.compressed.bed.annotated'))\n",
    "ko = pybedtools.BedTool(os.path.join(inputnorm_dir,'SA6_01.basedon_SA6_01.peaks.l2inputnormnew.bed.compressed.bed'))"
   ]
  },
  {
   "cell_type": "code",
   "execution_count": 84,
   "metadata": {
    "collapsed": false
   },
   "outputs": [
    {
     "data": {
      "text/plain": [
       "(157, 307, 517)"
      ]
     },
     "execution_count": 84,
     "metadata": {},
     "output_type": "execute_result"
    }
   ],
   "source": [
    "len(wt.filter(filter_data)), len(mimic.filter(filter_data)), len(ko.filter(filter_data))"
   ]
  },
  {
   "cell_type": "code",
   "execution_count": 72,
   "metadata": {
    "collapsed": false
   },
   "outputs": [],
   "source": [
    "wt_cleaned = wt.intersect(ko, v=True, s=True).filter(filter_data).saveas(\"SA2_01.basedon_SA2_01.peaks.l2inputnormnew.bed.compressed.bed.annotated\")\n",
    "mimic_cleaned = mimic.intersect(ko, v=True, s=True).filter(filter_data).saveas(\"SA4_01.basedon_SA4_01.peaks.l2inputnormnew.bed.compressed.bed.annotated\")"
   ]
  },
  {
   "cell_type": "code",
   "execution_count": 190,
   "metadata": {
    "collapsed": false
   },
   "outputs": [
    {
     "data": {
      "text/plain": [
       "0"
      ]
     },
     "execution_count": 190,
     "metadata": {},
     "output_type": "execute_result"
    }
   ],
   "source": [
    "len(mimic_cleaned.intersect(wt_cleaned, s=True, u=True)), len(wt_cleaned.intersect(mimic_cleaned, s=True, u=True))"
   ]
  },
  {
   "cell_type": "code",
   "execution_count": 206,
   "metadata": {
    "collapsed": false
   },
   "outputs": [],
   "source": [
    "diff_exp_parp = pd.concat({os.path.basename(item.split(\".\")[0]): pd.read_csv(item, index_col=0) for item in glob.glob(\"/home/gpratt/ad-hoc/*.csv\")})\n",
    "sig_diff_exp_parp = diff_exp_parp[(diff_exp_parp.padj < .05) & (np.abs(np.power(diff_exp_parp.log2FoldChange, 2)) > 1.5)]\n",
    "#sig_diff_exp_parp = diff_exp_parp[(diff_exp_parp.padj < .05)]"
   ]
  },
  {
   "cell_type": "code",
   "execution_count": 207,
   "metadata": {
    "collapsed": false
   },
   "outputs": [
    {
     "data": {
      "text/html": [
       "<div>\n",
       "<table border=\"1\" class=\"dataframe\">\n",
       "  <thead>\n",
       "    <tr style=\"text-align: right;\">\n",
       "      <th></th>\n",
       "      <th>Gencode V19</th>\n",
       "      <th>baseMean</th>\n",
       "      <th>log2FoldChange</th>\n",
       "      <th>lfcSE</th>\n",
       "      <th>stat</th>\n",
       "      <th>pvalue</th>\n",
       "      <th>padj</th>\n",
       "      <th>Gene_name</th>\n",
       "    </tr>\n",
       "  </thead>\n",
       "  <tbody>\n",
       "    <tr>\n",
       "      <th>ko_vs_wt_3p-ssRNA_diffexp_gene_name</th>\n",
       "      <td>469</td>\n",
       "      <td>469</td>\n",
       "      <td>469</td>\n",
       "      <td>469</td>\n",
       "      <td>469</td>\n",
       "      <td>469</td>\n",
       "      <td>469</td>\n",
       "      <td>331</td>\n",
       "    </tr>\n",
       "    <tr>\n",
       "      <th>ko_vs_wt_ssRNA_diffexp_gene_name</th>\n",
       "      <td>427</td>\n",
       "      <td>427</td>\n",
       "      <td>427</td>\n",
       "      <td>427</td>\n",
       "      <td>427</td>\n",
       "      <td>427</td>\n",
       "      <td>427</td>\n",
       "      <td>305</td>\n",
       "    </tr>\n",
       "    <tr>\n",
       "      <th>ss_vs_3p_ko_diffexp_gene_name</th>\n",
       "      <td>64</td>\n",
       "      <td>64</td>\n",
       "      <td>64</td>\n",
       "      <td>64</td>\n",
       "      <td>64</td>\n",
       "      <td>64</td>\n",
       "      <td>64</td>\n",
       "      <td>42</td>\n",
       "    </tr>\n",
       "    <tr>\n",
       "      <th>ss_vs_3p_wt_diffexp_gene_name</th>\n",
       "      <td>103</td>\n",
       "      <td>103</td>\n",
       "      <td>103</td>\n",
       "      <td>103</td>\n",
       "      <td>103</td>\n",
       "      <td>103</td>\n",
       "      <td>103</td>\n",
       "      <td>68</td>\n",
       "    </tr>\n",
       "  </tbody>\n",
       "</table>\n",
       "</div>"
      ],
      "text/plain": [
       "                                     Gencode V19  baseMean  log2FoldChange  \\\n",
       "ko_vs_wt_3p-ssRNA_diffexp_gene_name          469       469             469   \n",
       "ko_vs_wt_ssRNA_diffexp_gene_name             427       427             427   \n",
       "ss_vs_3p_ko_diffexp_gene_name                 64        64              64   \n",
       "ss_vs_3p_wt_diffexp_gene_name                103       103             103   \n",
       "\n",
       "                                     lfcSE  stat  pvalue  padj  Gene_name  \n",
       "ko_vs_wt_3p-ssRNA_diffexp_gene_name    469   469     469   469        331  \n",
       "ko_vs_wt_ssRNA_diffexp_gene_name       427   427     427   427        305  \n",
       "ss_vs_3p_ko_diffexp_gene_name           64    64      64    64         42  \n",
       "ss_vs_3p_wt_diffexp_gene_name          103   103     103   103         68  "
      ]
     },
     "execution_count": 207,
     "metadata": {},
     "output_type": "execute_result"
    }
   ],
   "source": [
    "sig_diff_exp_parp.groupby(level=0).count()"
   ]
  },
  {
   "cell_type": "code",
   "execution_count": 208,
   "metadata": {
    "collapsed": false
   },
   "outputs": [
    {
     "data": {
      "text/html": [
       "<div>\n",
       "<table border=\"1\" class=\"dataframe\">\n",
       "  <thead>\n",
       "    <tr style=\"text-align: right;\">\n",
       "      <th></th>\n",
       "      <th>Gencode V19</th>\n",
       "      <th>baseMean</th>\n",
       "      <th>log2FoldChange</th>\n",
       "      <th>lfcSE</th>\n",
       "      <th>stat</th>\n",
       "      <th>pvalue</th>\n",
       "      <th>padj</th>\n",
       "      <th>Gene_name</th>\n",
       "    </tr>\n",
       "  </thead>\n",
       "  <tbody>\n",
       "    <tr>\n",
       "      <th>ko_vs_wt_3p-ssRNA_diffexp_gene_name</th>\n",
       "      <td>191</td>\n",
       "      <td>191</td>\n",
       "      <td>191</td>\n",
       "      <td>191</td>\n",
       "      <td>191</td>\n",
       "      <td>191</td>\n",
       "      <td>191</td>\n",
       "      <td>139</td>\n",
       "    </tr>\n",
       "    <tr>\n",
       "      <th>ko_vs_wt_ssRNA_diffexp_gene_name</th>\n",
       "      <td>190</td>\n",
       "      <td>190</td>\n",
       "      <td>190</td>\n",
       "      <td>190</td>\n",
       "      <td>190</td>\n",
       "      <td>190</td>\n",
       "      <td>190</td>\n",
       "      <td>136</td>\n",
       "    </tr>\n",
       "    <tr>\n",
       "      <th>ss_vs_3p_ko_diffexp_gene_name</th>\n",
       "      <td>64</td>\n",
       "      <td>64</td>\n",
       "      <td>64</td>\n",
       "      <td>64</td>\n",
       "      <td>64</td>\n",
       "      <td>64</td>\n",
       "      <td>64</td>\n",
       "      <td>42</td>\n",
       "    </tr>\n",
       "    <tr>\n",
       "      <th>ss_vs_3p_wt_diffexp_gene_name</th>\n",
       "      <td>103</td>\n",
       "      <td>103</td>\n",
       "      <td>103</td>\n",
       "      <td>103</td>\n",
       "      <td>103</td>\n",
       "      <td>103</td>\n",
       "      <td>103</td>\n",
       "      <td>68</td>\n",
       "    </tr>\n",
       "  </tbody>\n",
       "</table>\n",
       "</div>"
      ],
      "text/plain": [
       "                                     Gencode V19  baseMean  log2FoldChange  \\\n",
       "ko_vs_wt_3p-ssRNA_diffexp_gene_name          191       191             191   \n",
       "ko_vs_wt_ssRNA_diffexp_gene_name             190       190             190   \n",
       "ss_vs_3p_ko_diffexp_gene_name                 64        64              64   \n",
       "ss_vs_3p_wt_diffexp_gene_name                103       103             103   \n",
       "\n",
       "                                     lfcSE  stat  pvalue  padj  Gene_name  \n",
       "ko_vs_wt_3p-ssRNA_diffexp_gene_name    191   191     191   191        139  \n",
       "ko_vs_wt_ssRNA_diffexp_gene_name       190   190     190   190        136  \n",
       "ss_vs_3p_ko_diffexp_gene_name           64    64      64    64         42  \n",
       "ss_vs_3p_wt_diffexp_gene_name          103   103     103   103         68  "
      ]
     },
     "execution_count": 208,
     "metadata": {},
     "output_type": "execute_result"
    }
   ],
   "source": [
    "sig_diff_exp_parp[sig_diff_exp_parp.log2FoldChange > 0].groupby(level=0).count()"
   ]
  },
  {
   "cell_type": "code",
   "execution_count": 209,
   "metadata": {
    "collapsed": false
   },
   "outputs": [
    {
     "data": {
      "text/html": [
       "<div>\n",
       "<table border=\"1\" class=\"dataframe\">\n",
       "  <thead>\n",
       "    <tr style=\"text-align: right;\">\n",
       "      <th></th>\n",
       "      <th>Gencode V19</th>\n",
       "      <th>baseMean</th>\n",
       "      <th>log2FoldChange</th>\n",
       "      <th>lfcSE</th>\n",
       "      <th>stat</th>\n",
       "      <th>pvalue</th>\n",
       "      <th>padj</th>\n",
       "      <th>Gene_name</th>\n",
       "    </tr>\n",
       "  </thead>\n",
       "  <tbody>\n",
       "    <tr>\n",
       "      <th>ko_vs_wt_3p-ssRNA_diffexp_gene_name</th>\n",
       "      <td>278</td>\n",
       "      <td>278</td>\n",
       "      <td>278</td>\n",
       "      <td>278</td>\n",
       "      <td>278</td>\n",
       "      <td>278</td>\n",
       "      <td>278</td>\n",
       "      <td>192</td>\n",
       "    </tr>\n",
       "    <tr>\n",
       "      <th>ko_vs_wt_ssRNA_diffexp_gene_name</th>\n",
       "      <td>237</td>\n",
       "      <td>237</td>\n",
       "      <td>237</td>\n",
       "      <td>237</td>\n",
       "      <td>237</td>\n",
       "      <td>237</td>\n",
       "      <td>237</td>\n",
       "      <td>169</td>\n",
       "    </tr>\n",
       "  </tbody>\n",
       "</table>\n",
       "</div>"
      ],
      "text/plain": [
       "                                     Gencode V19  baseMean  log2FoldChange  \\\n",
       "ko_vs_wt_3p-ssRNA_diffexp_gene_name          278       278             278   \n",
       "ko_vs_wt_ssRNA_diffexp_gene_name             237       237             237   \n",
       "\n",
       "                                     lfcSE  stat  pvalue  padj  Gene_name  \n",
       "ko_vs_wt_3p-ssRNA_diffexp_gene_name    278   278     278   278        192  \n",
       "ko_vs_wt_ssRNA_diffexp_gene_name       237   237     237   237        169  "
      ]
     },
     "execution_count": 209,
     "metadata": {},
     "output_type": "execute_result"
    }
   ],
   "source": [
    "sig_diff_exp_parp[sig_diff_exp_parp.log2FoldChange < 0].groupby(level=0).count()"
   ]
  },
  {
   "cell_type": "code",
   "execution_count": 212,
   "metadata": {
    "collapsed": false
   },
   "outputs": [
    {
     "data": {
      "text/html": [
       "<div>\n",
       "<table border=\"1\" class=\"dataframe\">\n",
       "  <thead>\n",
       "    <tr style=\"text-align: right;\">\n",
       "      <th></th>\n",
       "      <th></th>\n",
       "      <th>Gencode V19</th>\n",
       "      <th>baseMean</th>\n",
       "      <th>log2FoldChange</th>\n",
       "      <th>lfcSE</th>\n",
       "      <th>stat</th>\n",
       "      <th>pvalue</th>\n",
       "      <th>padj</th>\n",
       "      <th>Gene_name</th>\n",
       "    </tr>\n",
       "    <tr>\n",
       "      <th></th>\n",
       "      <th>Ensembl</th>\n",
       "      <th></th>\n",
       "      <th></th>\n",
       "      <th></th>\n",
       "      <th></th>\n",
       "      <th></th>\n",
       "      <th></th>\n",
       "      <th></th>\n",
       "      <th></th>\n",
       "    </tr>\n",
       "  </thead>\n",
       "  <tbody>\n",
       "    <tr>\n",
       "      <th>ko_vs_wt_3p-ssRNA_diffexp_gene_name</th>\n",
       "      <th>ENSG00000119922</th>\n",
       "      <td>ENSG00000119922.7</td>\n",
       "      <td>26344.143902</td>\n",
       "      <td>-1.032045</td>\n",
       "      <td>0.222075</td>\n",
       "      <td>-4.647274</td>\n",
       "      <td>3.363509e-06</td>\n",
       "      <td>1.621211e-04</td>\n",
       "      <td>IFIT2</td>\n",
       "    </tr>\n",
       "    <tr>\n",
       "      <th>ko_vs_wt_ssRNA_diffexp_gene_name</th>\n",
       "      <th>ENSG00000119922</th>\n",
       "      <td>ENSG00000119922.7</td>\n",
       "      <td>34.414440</td>\n",
       "      <td>-0.737931</td>\n",
       "      <td>0.325009</td>\n",
       "      <td>-2.270493</td>\n",
       "      <td>2.317771e-02</td>\n",
       "      <td>7.193661e-02</td>\n",
       "      <td>IFIT2</td>\n",
       "    </tr>\n",
       "    <tr>\n",
       "      <th>ss_vs_3p_ko_diffexp_gene_name</th>\n",
       "      <th>ENSG00000119922</th>\n",
       "      <td>ENSG00000119922.7</td>\n",
       "      <td>8939.443919</td>\n",
       "      <td>5.878435</td>\n",
       "      <td>0.105081</td>\n",
       "      <td>55.942124</td>\n",
       "      <td>0.000000e+00</td>\n",
       "      <td>0.000000e+00</td>\n",
       "      <td>IFIT2</td>\n",
       "    </tr>\n",
       "    <tr>\n",
       "      <th>ss_vs_3p_wt_diffexp_gene_name</th>\n",
       "      <th>ENSG00000119922</th>\n",
       "      <td>ENSG00000119922.7</td>\n",
       "      <td>18502.431263</td>\n",
       "      <td>5.910270</td>\n",
       "      <td>0.180191</td>\n",
       "      <td>32.799972</td>\n",
       "      <td>5.893599e-236</td>\n",
       "      <td>2.043142e-232</td>\n",
       "      <td>IFIT2</td>\n",
       "    </tr>\n",
       "  </tbody>\n",
       "</table>\n",
       "</div>"
      ],
      "text/plain": [
       "                                                           Gencode V19  \\\n",
       "                                    Ensembl                              \n",
       "ko_vs_wt_3p-ssRNA_diffexp_gene_name ENSG00000119922  ENSG00000119922.7   \n",
       "ko_vs_wt_ssRNA_diffexp_gene_name    ENSG00000119922  ENSG00000119922.7   \n",
       "ss_vs_3p_ko_diffexp_gene_name       ENSG00000119922  ENSG00000119922.7   \n",
       "ss_vs_3p_wt_diffexp_gene_name       ENSG00000119922  ENSG00000119922.7   \n",
       "\n",
       "                                                         baseMean  \\\n",
       "                                    Ensembl                         \n",
       "ko_vs_wt_3p-ssRNA_diffexp_gene_name ENSG00000119922  26344.143902   \n",
       "ko_vs_wt_ssRNA_diffexp_gene_name    ENSG00000119922     34.414440   \n",
       "ss_vs_3p_ko_diffexp_gene_name       ENSG00000119922   8939.443919   \n",
       "ss_vs_3p_wt_diffexp_gene_name       ENSG00000119922  18502.431263   \n",
       "\n",
       "                                                     log2FoldChange     lfcSE  \\\n",
       "                                    Ensembl                                     \n",
       "ko_vs_wt_3p-ssRNA_diffexp_gene_name ENSG00000119922       -1.032045  0.222075   \n",
       "ko_vs_wt_ssRNA_diffexp_gene_name    ENSG00000119922       -0.737931  0.325009   \n",
       "ss_vs_3p_ko_diffexp_gene_name       ENSG00000119922        5.878435  0.105081   \n",
       "ss_vs_3p_wt_diffexp_gene_name       ENSG00000119922        5.910270  0.180191   \n",
       "\n",
       "                                                          stat         pvalue  \\\n",
       "                                    Ensembl                                     \n",
       "ko_vs_wt_3p-ssRNA_diffexp_gene_name ENSG00000119922  -4.647274   3.363509e-06   \n",
       "ko_vs_wt_ssRNA_diffexp_gene_name    ENSG00000119922  -2.270493   2.317771e-02   \n",
       "ss_vs_3p_ko_diffexp_gene_name       ENSG00000119922  55.942124   0.000000e+00   \n",
       "ss_vs_3p_wt_diffexp_gene_name       ENSG00000119922  32.799972  5.893599e-236   \n",
       "\n",
       "                                                              padj Gene_name  \n",
       "                                    Ensembl                                   \n",
       "ko_vs_wt_3p-ssRNA_diffexp_gene_name ENSG00000119922   1.621211e-04     IFIT2  \n",
       "ko_vs_wt_ssRNA_diffexp_gene_name    ENSG00000119922   7.193661e-02     IFIT2  \n",
       "ss_vs_3p_ko_diffexp_gene_name       ENSG00000119922   0.000000e+00     IFIT2  \n",
       "ss_vs_3p_wt_diffexp_gene_name       ENSG00000119922  2.043142e-232     IFIT2  "
      ]
     },
     "execution_count": 212,
     "metadata": {},
     "output_type": "execute_result"
    }
   ],
   "source": [
    "diff_exp_parp[diff_exp_parp.Gene_name == \"IFIT2\"]"
   ]
  },
  {
   "cell_type": "code",
   "execution_count": null,
   "metadata": {
    "collapsed": false
   },
   "outputs": [],
   "source": [
    "# overlappning targets\n",
    "foo = set([gene_id_to_name[interval[-1]] for interval in wt_cleaned])\n",
    "bar = set([gene_id_to_name[interval[-1].split(\"|\")[0]] for interval in mimic_cleaned])\n",
    "print foo & bar"
   ]
  },
  {
   "cell_type": "code",
   "execution_count": 203,
   "metadata": {
    "collapsed": false
   },
   "outputs": [
    {
     "name": "stdout",
     "output_type": "stream",
     "text": [
      "WT vs ko_vs_wt_3p-ssRNA_diffexp_gene_name\n",
      "IFIT2, FANCB, NEAT1, PTPRU, XIST\n",
      "mock vs ko_vs_wt_3p-ssRNA_diffexp_gene_name\n",
      "HNRNPA0, CUL4B, PMAIP1, CCL5, HLA-B, SDC4, FOXC1, IFIT2, SAP18, MIDN, ZBTB10, RSAD2, ARL6IP1, NEAT1, ZNF428, HIC1\n",
      "WT vs ko_vs_wt_ssRNA_diffexp_gene_name\n",
      "PABPN1, FBRSL1, SPIDR, TNRC6B, PTPRU, FANCB, ZNF431, NEAT1, UBE3C\n",
      "mock vs ko_vs_wt_ssRNA_diffexp_gene_name\n",
      "CBS, H1FX, CANX, PHF6, SYNE2, H1F0, KMT2A, TNPO2, MRPL37, CDV3, ATP6AP2, STAG2, MYCBP2, AMOT, SQSTM1, JMJD8, HOXB3, NEAT1, HIST1H4H, RPS21, EIF1, PLS3, HIC1, UBE2J2, SELO, FOXC1, SAP18, MIDN, ZBTB10, UBA1, SFPQ, SLC27A4, APP, HNRNPA0, PMAIP1, HLA-B, DZIP1, ZNF703, ZNF787, LSM14B\n",
      "WT vs ss_vs_3p_ko_diffexp_gene_name\n",
      "IFIT2\n",
      "mock vs ss_vs_3p_ko_diffexp_gene_name\n",
      "CUL4B, CCL5, HLA-B, IFIT2, RSAD2, UBFD1\n",
      "WT vs ss_vs_3p_wt_diffexp_gene_name\n",
      "IFIT2\n",
      "mock vs ss_vs_3p_wt_diffexp_gene_name\n",
      "CUL4B, PMAIP1, CCL5, HLA-B, IFIT2, SDC4, RSAD2\n"
     ]
    },
    {
     "data": {
      "image/png": "[encoded data removed]",
      "text/plain": [
       "<matplotlib.figure.Figure at 0x2b02345c0750>"
      ]
     },
     "metadata": {},
     "output_type": "display_data"
    }
   ],
   "source": [
    "count = 0\n",
    "with dataviz.Figure(os.path.join(img_dir, \"de_vs_binding_parp.svg\"), figsize=(10, 10)) as fig:\n",
    "    \n",
    "    for x, (name, df) in enumerate(sig_diff_exp_parp.groupby(level=0)):\n",
    "        count += 1\n",
    "        ax = fig.add_subplot(4,2,count)\n",
    "\n",
    "        venn2([set(df['Gencode V19'].values), set([interval[-1] for interval in wt_cleaned])],\n",
    "           set_labels =(\"Differentally Expressed\", \"Bound\"),\n",
    "               ax=ax\n",
    "               \n",
    "\n",
    "          )\n",
    "        \n",
    "        print \"WT vs {}\".format(name)\n",
    "        print \", \".join([gene_id_to_name[item] for item in set(df['Gencode V19'].values) & set([interval[-1] for interval in wt_cleaned])])\n",
    "        ax.set_title(\"WT vs {}\".format(name), fontsize=12)\n",
    "        count += 1\n",
    "        ax = fig.add_subplot(4,2,count)\n",
    "\n",
    "        venn2([set(df['Gencode V19'].values), set([interval[-1] for interval in mimic_cleaned])],\n",
    "           set_labels =(\"Differentally Expressed\", \"Bound\"),\n",
    "              ax=ax\n",
    "    )\n",
    "        ax.set_title(\"mock vs {}\".format(name), fontsize=12)\n",
    "        \n",
    "        print \"mock vs {}\".format(name)\n",
    "        print \", \".join([gene_id_to_name[item] for item in set(df['Gencode V19'].values) & set([interval[-1] for interval in mimic_cleaned])])"
   ]
  },
  {
   "cell_type": "markdown",
   "metadata": {
    "collapsed": true
   },
   "source": [
    "Send Anthony and co overlapping genes for DE and binding"
   ]
  },
  {
   "cell_type": "code",
   "execution_count": 77,
   "metadata": {
    "collapsed": false
   },
   "outputs": [
    {
     "data": {
      "text/plain": [
       "<BedTool(SA4_01.basedon_SA4_01.peaks.l2inputnormnew.bed.compressed.bed.annotated.clipper)>"
      ]
     },
     "execution_count": 77,
     "metadata": {},
     "output_type": "execute_result"
    }
   ],
   "source": [
    "wt_cleaned.each(make_clipper_ish).saveas(os.path.basename(wt_cleaned.fn) + \".clipper\")\n",
    "mimic_cleaned.each(make_clipper_ish).saveas(os.path.basename(mimic_cleaned.fn) + \".clipper\")"
   ]
  },
  {
   "cell_type": "code",
   "execution_count": null,
   "metadata": {
    "collapsed": true
   },
   "outputs": [],
   "source": [
    "clip_analysis  '--clusters' '/home/gpratt/ipython_notebook/SA2_01.basedon_SA2_01.peaks.l2inputnormnew.bed.compressed.bed.annotated.clipper'  '-s' 'hg19_v19'  '--bam' '/projects/ps-yeolab/encode/analysis/encode_v13/SA2_WT_SS_PARP_PARP.merged.r2.bam'  '--AS_Structure' '/projects/ps-yeolab/genomes/hg19/hg19data4'  '--genome_location' '/projects/ps-yeolab/genomes/hg19/chromosomes/all.fa'  '--phastcons_location' '/projects/ps-yeolab/genomes/hg19/hg19_phastcons.bw'  '--nrand' '3'  '--runPhast'  '--metrics' 'SA4.metrics'  '--gff_db' '/projects/ps-yeolab/genomes/hg19/gencode/v19/gencode.v19.annotation.gtf.db'"
   ]
  },
  {
   "cell_type": "code",
   "execution_count": null,
   "metadata": {
    "collapsed": true
   },
   "outputs": [],
   "source": [
    "clip_analysis  '--clusters' '/home/gpratt/ipython_notebook/SA4_01.basedon_SA4_01.peaks.l2inputnormnew.bed.compressed.bed.annotated.clipper'  '-s' 'hg19_v19'  '--bam' '/projectencode/analysis/encode_v13/SA4_WT_3P_PARP_PARP.merged.r2.bam'  '--AS_Structure' '/projects/ps-yeolab/genomes/hg19/hg19data4'  '--genome_location' '/projects/ps-yeolab/genomes/hg19/chromosomes/all.fa'  'location' '/projects/ps-yeolab/genomes/hg19/hg19_phastcons.bw'  '--nrand' '3'  '--runPhast'  '--metrics' 'rbfox2.metrics'  '--gff_db' '/projects/ps-yeolab/genomes/hg19/gencode/v19/gencode.v19.annotationSA4.metrics'  '--gff_db' '/projects/ps-yeolab/genomes/hg19/gencode/v19/gencode.v19.annotation.gtf.db'\n"
   ]
  },
  {
   "cell_type": "code",
   "execution_count": 214,
   "metadata": {
    "collapsed": true
   },
   "outputs": [],
   "source": [
    "bedtool.slop(b=50)"
   ]
  },
  {
   "cell_type": "code",
   "execution_count": 216,
   "metadata": {
    "collapsed": false
   },
   "outputs": [],
   "source": [
    "bedtool = pybedtools.BedTool(\"/home/elvannostrand/data/clip/CLIPseq_analysis/ALLCLIP_v12_20160112/EV71-2_01.basedon_EV71-2_01.peaks.l2inputnormnew.bed.compressed.bed.annotated_test\")\n",
    "bedtool = bedtool.slop(b=50, g=\"/projects/ps-yeolab/genomes/hg19/hg19.chrom.sizes\").filter(filter_data).each(make_clipper_ish).saveas(\"EV71-2_01.basedon_EV71-2_01.peaks.l2inputnormnew.bed.compressed.bed.clipper\")"
   ]
  },
  {
   "cell_type": "markdown",
   "metadata": {
    "collapsed": true
   },
   "source": [
    "clip_analysis  '--clusters' 'EV71-2_01.basedon_EV71-2_01.peaks.l2inputnormnew.bed.compressed.bed.clipper'  '-s' 'hg19_v19'  '--bam' '/projects/ps-yeolab2/encode/analysis/enco2_H1ES_1to25_RBFOX2.merged.r2.bam'  '--AS_Structure' '/projects/ps-yeolab/genomes/hg19/hg19data4'  '--genome_location' '/projects/ps-yeolab/genomes/hg19/chromosomes/all.fa'  '--phastcons_location' '/prolab/genomes/hg19/hg19_phastcons.bw'  '--nrand' '3'  '--runPhast'  '--metrics' 'rbfox2.metrics'  '--gff_db' '/projects/ps-yeolab/genomes/hg19/gencode/v19/gencode.v19.annotation.gtf.db'"
   ]
  },
  {
   "cell_type": "code",
   "execution_count": null,
   "metadata": {
    "collapsed": true
   },
   "outputs": [],
   "source": []
  }
 ],
 "metadata": {
  "kernelspec": {
   "display_name": "Python 2",
   "language": "python",
   "name": "python2"
  },
  "language_info": {
   "codemirror_mode": {
    "name": "ipython",
    "version": 2
   },
   "file_extension": ".py",
   "mimetype": "text/x-python",
   "name": "python",
   "nbconvert_exporter": "python",
   "pygments_lexer": "ipython2",
   "version": "2.7.11"
  }
 },
 "nbformat": 4,
 "nbformat_minor": 0
}
