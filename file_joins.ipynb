{
 "cells": [
  {
   "cell_type": "code",
   "execution_count": 1,
   "metadata": {
    "collapsed": true
   },
   "outputs": [],
   "source": [
    "import pandas as pd\n",
    "import os"
   ]
  },
  {
   "cell_type": "code",
   "execution_count": 2,
   "metadata": {
    "collapsed": false
   },
   "outputs": [],
   "source": [
    "old_condo = pd.read_csv(\"/projects/ps-yeolab3/gabe_encode_comparison/yeolab_c18_encode_v12_2.csv\", header=None,\n",
    "                       names=['md5sum', 'fn', 'condo'])\n",
    "old_condo['old_basename'] = old_condo.fn.apply(os.path.basename)"
   ]
  },
  {
   "cell_type": "code",
   "execution_count": 3,
   "metadata": {
    "collapsed": true
   },
   "outputs": [],
   "source": [
    "new_condo = pd.read_csv(\"/projects/ps-yeolab3/gabe_encode_comparison/yeolab_c25_encode_v12_2.csv\", header=None,\n",
    "                       names=['md5sum', 'fn', 'condo'])\n",
    "new_condo['new_basename'] = new_condo.fn.apply(os.path.basename)"
   ]
  },
  {
   "cell_type": "code",
   "execution_count": 5,
   "metadata": {
    "collapsed": false
   },
   "outputs": [
    {
     "ename": "MemoryError",
     "evalue": "",
     "output_type": "error",
     "traceback": [
      "\u001b[1;31m---------------------------------------------------------------------------\u001b[0m",
      "\u001b[1;31mMemoryError\u001b[0m                               Traceback (most recent call last)",
      "\u001b[1;32m<ipython-input-5-24a396c08daa>\u001b[0m in \u001b[0;36m<module>\u001b[1;34m()\u001b[0m\n\u001b[1;32m----> 1\u001b[1;33m \u001b[0mpd\u001b[0m\u001b[1;33m.\u001b[0m\u001b[0mmerge\u001b[0m\u001b[1;33m(\u001b[0m\u001b[0mnew_condo\u001b[0m\u001b[1;33m,\u001b[0m \u001b[0mold_condo\u001b[0m\u001b[1;33m,\u001b[0m \u001b[0mhow\u001b[0m\u001b[1;33m=\u001b[0m\u001b[1;34m\"outer\"\u001b[0m\u001b[1;33m,\u001b[0m \u001b[0mleft_on\u001b[0m\u001b[1;33m=\u001b[0m\u001b[1;34m\"new_basename\"\u001b[0m\u001b[1;33m,\u001b[0m \u001b[0mright_on\u001b[0m\u001b[1;33m=\u001b[0m\u001b[1;34m\"old_basename\"\u001b[0m\u001b[1;33m)\u001b[0m\u001b[1;33m\u001b[0m\u001b[0m\n\u001b[0m",
      "\u001b[1;32m/home/gpratt/anaconda/lib/python2.7/site-packages/pandas/tools/merge.pyc\u001b[0m in \u001b[0;36mmerge\u001b[1;34m(left, right, how, on, left_on, right_on, left_index, right_index, sort, suffixes, copy, indicator)\u001b[0m\n\u001b[0;32m     33\u001b[0m                          \u001b[0mright_index\u001b[0m\u001b[1;33m=\u001b[0m\u001b[0mright_index\u001b[0m\u001b[1;33m,\u001b[0m \u001b[0msort\u001b[0m\u001b[1;33m=\u001b[0m\u001b[0msort\u001b[0m\u001b[1;33m,\u001b[0m \u001b[0msuffixes\u001b[0m\u001b[1;33m=\u001b[0m\u001b[0msuffixes\u001b[0m\u001b[1;33m,\u001b[0m\u001b[1;33m\u001b[0m\u001b[0m\n\u001b[0;32m     34\u001b[0m                          copy=copy, indicator=indicator)\n\u001b[1;32m---> 35\u001b[1;33m     \u001b[1;32mreturn\u001b[0m \u001b[0mop\u001b[0m\u001b[1;33m.\u001b[0m\u001b[0mget_result\u001b[0m\u001b[1;33m(\u001b[0m\u001b[1;33m)\u001b[0m\u001b[1;33m\u001b[0m\u001b[0m\n\u001b[0m\u001b[0;32m     36\u001b[0m \u001b[1;32mif\u001b[0m \u001b[0m__debug__\u001b[0m\u001b[1;33m:\u001b[0m\u001b[1;33m\u001b[0m\u001b[0m\n\u001b[0;32m     37\u001b[0m     \u001b[0mmerge\u001b[0m\u001b[1;33m.\u001b[0m\u001b[0m__doc__\u001b[0m \u001b[1;33m=\u001b[0m \u001b[0m_merge_doc\u001b[0m \u001b[1;33m%\u001b[0m \u001b[1;34m'\\nleft : DataFrame'\u001b[0m\u001b[1;33m\u001b[0m\u001b[0m\n",
      "\u001b[1;32m/home/gpratt/anaconda/lib/python2.7/site-packages/pandas/tools/merge.pyc\u001b[0m in \u001b[0;36mget_result\u001b[1;34m(self)\u001b[0m\n\u001b[0;32m    204\u001b[0m                 self.left, self.right)\n\u001b[0;32m    205\u001b[0m \u001b[1;33m\u001b[0m\u001b[0m\n\u001b[1;32m--> 206\u001b[1;33m         \u001b[0mjoin_index\u001b[0m\u001b[1;33m,\u001b[0m \u001b[0mleft_indexer\u001b[0m\u001b[1;33m,\u001b[0m \u001b[0mright_indexer\u001b[0m \u001b[1;33m=\u001b[0m \u001b[0mself\u001b[0m\u001b[1;33m.\u001b[0m\u001b[0m_get_join_info\u001b[0m\u001b[1;33m(\u001b[0m\u001b[1;33m)\u001b[0m\u001b[1;33m\u001b[0m\u001b[0m\n\u001b[0m\u001b[0;32m    207\u001b[0m \u001b[1;33m\u001b[0m\u001b[0m\n\u001b[0;32m    208\u001b[0m         \u001b[0mldata\u001b[0m\u001b[1;33m,\u001b[0m \u001b[0mrdata\u001b[0m \u001b[1;33m=\u001b[0m \u001b[0mself\u001b[0m\u001b[1;33m.\u001b[0m\u001b[0mleft\u001b[0m\u001b[1;33m.\u001b[0m\u001b[0m_data\u001b[0m\u001b[1;33m,\u001b[0m \u001b[0mself\u001b[0m\u001b[1;33m.\u001b[0m\u001b[0mright\u001b[0m\u001b[1;33m.\u001b[0m\u001b[0m_data\u001b[0m\u001b[1;33m\u001b[0m\u001b[0m\n",
      "\u001b[1;32m/home/gpratt/anaconda/lib/python2.7/site-packages/pandas/tools/merge.pyc\u001b[0m in \u001b[0;36m_get_join_info\u001b[1;34m(self)\u001b[0m\n\u001b[0;32m    340\u001b[0m              \u001b[0mright_indexer\u001b[0m\u001b[1;33m)\u001b[0m \u001b[1;33m=\u001b[0m \u001b[0m_get_join_indexers\u001b[0m\u001b[1;33m(\u001b[0m\u001b[0mself\u001b[0m\u001b[1;33m.\u001b[0m\u001b[0mleft_join_keys\u001b[0m\u001b[1;33m,\u001b[0m\u001b[1;33m\u001b[0m\u001b[0m\n\u001b[0;32m    341\u001b[0m                                                  \u001b[0mself\u001b[0m\u001b[1;33m.\u001b[0m\u001b[0mright_join_keys\u001b[0m\u001b[1;33m,\u001b[0m\u001b[1;33m\u001b[0m\u001b[0m\n\u001b[1;32m--> 342\u001b[1;33m                                                  sort=self.sort, how=self.how)\n\u001b[0m\u001b[0;32m    343\u001b[0m             \u001b[1;32mif\u001b[0m \u001b[0mself\u001b[0m\u001b[1;33m.\u001b[0m\u001b[0mright_index\u001b[0m\u001b[1;33m:\u001b[0m\u001b[1;33m\u001b[0m\u001b[0m\n\u001b[0;32m    344\u001b[0m                 \u001b[1;32mif\u001b[0m \u001b[0mlen\u001b[0m\u001b[1;33m(\u001b[0m\u001b[0mself\u001b[0m\u001b[1;33m.\u001b[0m\u001b[0mleft\u001b[0m\u001b[1;33m)\u001b[0m \u001b[1;33m>\u001b[0m \u001b[1;36m0\u001b[0m\u001b[1;33m:\u001b[0m\u001b[1;33m\u001b[0m\u001b[0m\n",
      "\u001b[1;32m/home/gpratt/anaconda/lib/python2.7/site-packages/pandas/tools/merge.pyc\u001b[0m in \u001b[0;36m_get_join_indexers\u001b[1;34m(left_keys, right_keys, sort, how)\u001b[0m\n\u001b[0;32m    546\u001b[0m     \u001b[0mkwargs\u001b[0m \u001b[1;33m=\u001b[0m \u001b[1;33m{\u001b[0m\u001b[1;34m'sort'\u001b[0m\u001b[1;33m:\u001b[0m \u001b[0msort\u001b[0m\u001b[1;33m}\u001b[0m \u001b[1;32mif\u001b[0m \u001b[0mhow\u001b[0m \u001b[1;33m==\u001b[0m \u001b[1;34m'left'\u001b[0m \u001b[1;32melse\u001b[0m \u001b[1;33m{\u001b[0m\u001b[1;33m}\u001b[0m\u001b[1;33m\u001b[0m\u001b[0m\n\u001b[0;32m    547\u001b[0m     \u001b[0mjoin_func\u001b[0m \u001b[1;33m=\u001b[0m \u001b[0m_join_functions\u001b[0m\u001b[1;33m[\u001b[0m\u001b[0mhow\u001b[0m\u001b[1;33m]\u001b[0m\u001b[1;33m\u001b[0m\u001b[0m\n\u001b[1;32m--> 548\u001b[1;33m     \u001b[1;32mreturn\u001b[0m \u001b[0mjoin_func\u001b[0m\u001b[1;33m(\u001b[0m\u001b[0mlkey\u001b[0m\u001b[1;33m,\u001b[0m \u001b[0mrkey\u001b[0m\u001b[1;33m,\u001b[0m \u001b[0mcount\u001b[0m\u001b[1;33m,\u001b[0m \u001b[1;33m**\u001b[0m\u001b[0mkwargs\u001b[0m\u001b[1;33m)\u001b[0m\u001b[1;33m\u001b[0m\u001b[0m\n\u001b[0m\u001b[0;32m    549\u001b[0m \u001b[1;33m\u001b[0m\u001b[0m\n\u001b[0;32m    550\u001b[0m \u001b[1;33m\u001b[0m\u001b[0m\n",
      "\u001b[1;32mpandas/src/join.pyx\u001b[0m in \u001b[0;36mpandas.algos.full_outer_join (pandas/algos.c:50345)\u001b[1;34m()\u001b[0m\n",
      "\u001b[1;31mMemoryError\u001b[0m: "
     ]
    }
   ],
   "source": [
    "pd.merge(new_condo, old_condo, how=\"outer\", left_on=\"new_basename\", right_on=\"old_basename\")"
   ]
  },
  {
   "cell_type": "code",
   "execution_count": 56,
   "metadata": {
    "collapsed": false
   },
   "outputs": [],
   "source": [
    "new_condo = pd.read_table(\"~/md5sum_v12_new.txt\", header=None,\n",
    "                       names=['md5sum', \"null\", 'fn'], sep=\" \")\n",
    "\n",
    "old_condo = pd.read_table(\"~/md5sum_v12_old.txt\", header=None,\n",
    "                       names=['md5sum', \"null\", 'fn'], sep=\" \")\n",
    "\n",
    "result_v12 = pd.merge(old_condo, new_condo, left_on=\"fn\", right_on=\"fn\", how=\"outer\")\n",
    "result_v12_inner = pd.merge(old_condo, new_condo, left_on=\"fn\", right_on=\"fn\", how=\"inner\")"
   ]
  },
  {
   "cell_type": "code",
   "execution_count": 65,
   "metadata": {
    "collapsed": false
   },
   "outputs": [
    {
     "data": {
      "text/html": [
       "<div>\n",
       "<table border=\"1\" class=\"dataframe\">\n",
       "  <thead>\n",
       "    <tr style=\"text-align: right;\">\n",
       "      <th></th>\n",
       "      <th>md5sum_x</th>\n",
       "      <th>null_x</th>\n",
       "      <th>fn</th>\n",
       "      <th>md5sum_y</th>\n",
       "      <th>null_y</th>\n",
       "    </tr>\n",
       "  </thead>\n",
       "  <tbody>\n",
       "  </tbody>\n",
       "</table>\n",
       "</div>"
      ],
      "text/plain": [
       "Empty DataFrame\n",
       "Columns: [md5sum_x, null_x, fn, md5sum_y, null_y]\n",
       "Index: []"
      ]
     },
     "execution_count": 65,
     "metadata": {},
     "output_type": "execute_result"
    }
   ],
   "source": [
    "result_v12_inner[result_v12_inner.md5sum_x != result_v12_inner.md5sum_y]"
   ]
  },
  {
   "cell_type": "code",
   "execution_count": 49,
   "metadata": {
    "collapsed": false
   },
   "outputs": [],
   "source": [
    "not_in_old = result_v12[result_v12.md5sum_x.isnull()]"
   ]
  },
  {
   "cell_type": "code",
   "execution_count": 50,
   "metadata": {
    "collapsed": false
   },
   "outputs": [
    {
     "data": {
      "text/plain": [
       "array([ '10_GM12878_CLIP_1_Infminus_AND_12_GM12878_CLIP_1_Infplus_ATTCAGAA-ATAGAGGC_R1.A03_10_GM12878_CLIP_1_Infminus_R60.adapterTrim.round2.rmRep.rmDup.sorted.r2.neg.bg',\n",
       "       '10_GM12878_CLIP_1_Infminus_AND_12_GM12878_CLIP_1_Infplus_ATTCAGAA-ATAGAGGC_R1.A03_10_GM12878_CLIP_1_Infminus_R60.adapterTrim.round2.rmRep.rmDup.sorted.r2.norm.neg.bg',\n",
       "       '10_GM12878_CLIP_1_Infminus_AND_12_GM12878_CLIP_1_Infplus_ATTCAGAA-ATAGAGGC_R1.A03_10_GM12878_CLIP_1_Infminus_R60.adapterTrim.round2.rmRep.rmDup.sorted.r2.norm.neg.bw',\n",
       "       '10_GM12878_CLIP_1_Infminus_AND_12_GM12878_CLIP_1_Infplus_ATTCAGAA-ATAGAGGC_R1.A03_10_GM12878_CLIP_1_Infminus_R60.adapterTrim.round2.rmRep.rmDup.sorted.r2.norm.neg.t.bg',\n",
       "       '10_GM12878_CLIP_1_Infminus_AND_12_GM12878_CLIP_1_Infplus_ATTCAGAA-ATAGAGGC_R1.A03_10_GM12878_CLIP_1_Infminus_R60.adapterTrim.round2.rmRep.rmDup.sorted.r2.norm.pos.bg',\n",
       "       '10_GM12878_CLIP_1_Infminus_AND_12_GM12878_CLIP_1_Infplus_ATTCAGAA-ATAGAGGC_R1.A03_10_GM12878_CLIP_1_Infminus_R60.adapterTrim.round2.rmRep.rmDup.sorted.r2.norm.pos.bw',\n",
       "       '10_GM12878_CLIP_1_Infminus_AND_12_GM12878_CLIP_1_Infplus_ATTCAGAA-ATAGAGGC_R1.A03_10_GM12878_CLIP_1_Infminus_R60.adapterTrim.round2.rmRep.rmDup.sorted.r2.pos.bg',\n",
       "       '10_GM12878_CLIP_1_Infminus_AND_12_GM12878_CLIP_1_Infplus_ATTCAGAA-ATAGAGGC_R1.A04_12_GM12878_CLIP_1_Infplus_R60.adapterTrim.round2.rmRep.rmDup.sorted.r2.neg.bg',\n",
       "       '10_GM12878_CLIP_1_Infminus_AND_12_GM12878_CLIP_1_Infplus_ATTCAGAA-ATAGAGGC_R1.A04_12_GM12878_CLIP_1_Infplus_R60.adapterTrim.round2.rmRep.rmDup.sorted.r2.norm.neg.bg',\n",
       "       '10_GM12878_CLIP_1_Infminus_AND_12_GM12878_CLIP_1_Infplus_ATTCAGAA-ATAGAGGC_R1.A04_12_GM12878_CLIP_1_Infplus_R60.adapterTrim.round2.rmRep.rmDup.sorted.r2.norm.neg.bw',\n",
       "       '10_GM12878_CLIP_1_Infminus_AND_12_GM12878_CLIP_1_Infplus_ATTCAGAA-ATAGAGGC_R1.A04_12_GM12878_CLIP_1_Infplus_R60.adapterTrim.round2.rmRep.rmDup.sorted.r2.norm.neg.t.bg',\n",
       "       '10_GM12878_CLIP_1_Infminus_AND_12_GM12878_CLIP_1_Infplus_ATTCAGAA-ATAGAGGC_R1.A04_12_GM12878_CLIP_1_Infplus_R60.adapterTrim.round2.rmRep.rmDup.sorted.r2.norm.pos.bg',\n",
       "       '10_GM12878_CLIP_1_Infminus_AND_12_GM12878_CLIP_1_Infplus_ATTCAGAA-ATAGAGGC_R1.A04_12_GM12878_CLIP_1_Infplus_R60.adapterTrim.round2.rmRep.rmDup.sorted.r2.norm.pos.bw',\n",
       "       '10_GM12878_CLIP_1_Infminus_AND_12_GM12878_CLIP_1_Infplus_ATTCAGAA-ATAGAGGC_R1.A04_12_GM12878_CLIP_1_Infplus_R60.adapterTrim.round2.rmRep.rmDup.sorted.r2.pos.bg',\n",
       "       '10_GM12878_CLIP_1_Infminus_AND_12_GM12878_CLIP_1_Infplus_ATTCAGAA-ATAGAGGC_R1.F05_12_GM12878_CLIP_1_Infplus_R60.adapterTrim.round2.rmRep.rmDup.sorted.r2.neg.bg',\n",
       "       '10_GM12878_CLIP_1_Infminus_AND_12_GM12878_CLIP_1_Infplus_ATTCAGAA-ATAGAGGC_R1.F05_12_GM12878_CLIP_1_Infplus_R60.adapterTrim.round2.rmRep.rmDup.sorted.r2.norm.neg.bg',\n",
       "       '10_GM12878_CLIP_1_Infminus_AND_12_GM12878_CLIP_1_Infplus_ATTCAGAA-ATAGAGGC_R1.F05_12_GM12878_CLIP_1_Infplus_R60.adapterTrim.round2.rmRep.rmDup.sorted.r2.norm.neg.bw',\n",
       "       '10_GM12878_CLIP_1_Infminus_AND_12_GM12878_CLIP_1_Infplus_ATTCAGAA-ATAGAGGC_R1.F05_12_GM12878_CLIP_1_Infplus_R60.adapterTrim.round2.rmRep.rmDup.sorted.r2.norm.neg.t.bg',\n",
       "       '10_GM12878_CLIP_1_Infminus_AND_12_GM12878_CLIP_1_Infplus_ATTCAGAA-ATAGAGGC_R1.F05_12_GM12878_CLIP_1_Infplus_R60.adapterTrim.round2.rmRep.rmDup.sorted.r2.norm.pos.bg',\n",
       "       '10_GM12878_CLIP_1_Infminus_AND_12_GM12878_CLIP_1_Infplus_ATTCAGAA-ATAGAGGC_R1.F05_12_GM12878_CLIP_1_Infplus_R60.adapterTrim.round2.rmRep.rmDup.sorted.r2.norm.pos.bw',\n",
       "       '10_GM12878_CLIP_1_Infminus_AND_12_GM12878_CLIP_1_Infplus_ATTCAGAA-ATAGAGGC_R1.F05_12_GM12878_CLIP_1_Infplus_R60.adapterTrim.round2.rmRep.rmDup.sorted.r2.pos.bg',\n",
       "       '10_GM12878_CLIP_1_Infminus_AND_12_GM12878_CLIP_1_Infplus_ATTCAGAA-ATAGAGGC_R1.G07_10_GM12878_CLIP_1_Infminus_R60.adapterTrim.round2.rmRep.rmDup.sorted.r2.neg.bg',\n",
       "       '10_GM12878_CLIP_1_Infminus_AND_12_GM12878_CLIP_1_Infplus_ATTCAGAA-ATAGAGGC_R1.G07_10_GM12878_CLIP_1_Infminus_R60.adapterTrim.round2.rmRep.rmDup.sorted.r2.norm.neg.bg',\n",
       "       '10_GM12878_CLIP_1_Infminus_AND_12_GM12878_CLIP_1_Infplus_ATTCAGAA-ATAGAGGC_R1.G07_10_GM12878_CLIP_1_Infminus_R60.adapterTrim.round2.rmRep.rmDup.sorted.r2.norm.neg.bw',\n",
       "       '10_GM12878_CLIP_1_Infminus_AND_12_GM12878_CLIP_1_Infplus_ATTCAGAA-ATAGAGGC_R1.G07_10_GM12878_CLIP_1_Infminus_R60.adapterTrim.round2.rmRep.rmDup.sorted.r2.norm.neg.t.bg',\n",
       "       '10_GM12878_CLIP_1_Infminus_AND_12_GM12878_CLIP_1_Infplus_ATTCAGAA-ATAGAGGC_R1.G07_10_GM12878_CLIP_1_Infminus_R60.adapterTrim.round2.rmRep.rmDup.sorted.r2.norm.pos.bg',\n",
       "       '10_GM12878_CLIP_1_Infminus_AND_12_GM12878_CLIP_1_Infplus_ATTCAGAA-ATAGAGGC_R1.G07_10_GM12878_CLIP_1_Infminus_R60.adapterTrim.round2.rmRep.rmDup.sorted.r2.norm.pos.bw',\n",
       "       '10_GM12878_CLIP_1_Infminus_AND_12_GM12878_CLIP_1_Infplus_ATTCAGAA-ATAGAGGC_R1.G07_10_GM12878_CLIP_1_Infminus_R60.adapterTrim.round2.rmRep.rmDup.sorted.r2.pos.bg',\n",
       "       '10_GM12878_CLIP_1_Infminus_R60.merged.r2.norm.neg.t.bg',\n",
       "       '11_GM12878_Input_1_Infplus_GAGATTCC-ATAGAGGC_R1.unassigned.adapterTrim.round2.rmRep.rmDup.sorted.r2.neg.bg',\n",
       "       '11_GM12878_Input_1_Infplus_GAGATTCC-ATAGAGGC_R1.unassigned.adapterTrim.round2.rmRep.rmDup.sorted.r2.norm.neg.bg',\n",
       "       '11_GM12878_Input_1_Infplus_GAGATTCC-ATAGAGGC_R1.unassigned.adapterTrim.round2.rmRep.rmDup.sorted.r2.norm.neg.bw',\n",
       "       '11_GM12878_Input_1_Infplus_GAGATTCC-ATAGAGGC_R1.unassigned.adapterTrim.round2.rmRep.rmDup.sorted.r2.norm.neg.t.bg',\n",
       "       '11_GM12878_Input_1_Infplus_GAGATTCC-ATAGAGGC_R1.unassigned.adapterTrim.round2.rmRep.rmDup.sorted.r2.norm.pos.bg',\n",
       "       '11_GM12878_Input_1_Infplus_GAGATTCC-ATAGAGGC_R1.unassigned.adapterTrim.round2.rmRep.rmDup.sorted.r2.norm.pos.bw',\n",
       "       '11_GM12878_Input_1_Infplus_GAGATTCC-ATAGAGGC_R1.unassigned.adapterTrim.round2.rmRep.rmDup.sorted.r2.pos.bg',\n",
       "       '12_GM12878_CLIP_1_Infplus_R60.merged.r2.norm.neg.t.bg',\n",
       "       '13_GM12878_Input_2_Infminus_ATTACTCG-ATAGAGGC_R1.unassigned.adapterTrim.round2.rmRep.rmDup.sorted.r2.neg.bg',\n",
       "       '13_GM12878_Input_2_Infminus_ATTACTCG-ATAGAGGC_R1.unassigned.adapterTrim.round2.rmRep.rmDup.sorted.r2.norm.neg.bg',\n",
       "       '13_GM12878_Input_2_Infminus_ATTACTCG-ATAGAGGC_R1.unassigned.adapterTrim.round2.rmRep.rmDup.sorted.r2.norm.neg.bw',\n",
       "       '13_GM12878_Input_2_Infminus_ATTACTCG-ATAGAGGC_R1.unassigned.adapterTrim.round2.rmRep.rmDup.sorted.r2.norm.neg.t.bg',\n",
       "       '13_GM12878_Input_2_Infminus_ATTACTCG-ATAGAGGC_R1.unassigned.adapterTrim.round2.rmRep.rmDup.sorted.r2.norm.pos.bg',\n",
       "       '13_GM12878_Input_2_Infminus_ATTACTCG-ATAGAGGC_R1.unassigned.adapterTrim.round2.rmRep.rmDup.sorted.r2.norm.pos.bw',\n",
       "       '13_GM12878_Input_2_Infminus_ATTACTCG-ATAGAGGC_R1.unassigned.adapterTrim.round2.rmRep.rmDup.sorted.r2.pos.bg',\n",
       "       '14_GM12878_CLIP_2_Infminus_AND_16_GM12878_CLIP_2_Infplus_GAATTCGT-ATAGAGGC_R1.A01_16_GM12878_CLIP_2_Infplus_R60.adapterTrim.round2.rmRep.rmDup.sorted.r2.neg.bg',\n",
       "       '14_GM12878_CLIP_2_Infminus_AND_16_GM12878_CLIP_2_Infplus_GAATTCGT-ATAGAGGC_R1.A01_16_GM12878_CLIP_2_Infplus_R60.adapterTrim.round2.rmRep.rmDup.sorted.r2.norm.neg.bg',\n",
       "       '14_GM12878_CLIP_2_Infminus_AND_16_GM12878_CLIP_2_Infplus_GAATTCGT-ATAGAGGC_R1.A01_16_GM12878_CLIP_2_Infplus_R60.adapterTrim.round2.rmRep.rmDup.sorted.r2.norm.neg.bw',\n",
       "       '14_GM12878_CLIP_2_Infminus_AND_16_GM12878_CLIP_2_Infplus_GAATTCGT-ATAGAGGC_R1.A01_16_GM12878_CLIP_2_Infplus_R60.adapterTrim.round2.rmRep.rmDup.sorted.r2.norm.neg.t.bg',\n",
       "       '14_GM12878_CLIP_2_Infminus_AND_16_GM12878_CLIP_2_Infplus_GAATTCGT-ATAGAGGC_R1.A01_16_GM12878_CLIP_2_Infplus_R60.adapterTrim.round2.rmRep.rmDup.sorted.r2.norm.pos.bg',\n",
       "       '14_GM12878_CLIP_2_Infminus_AND_16_GM12878_CLIP_2_Infplus_GAATTCGT-ATAGAGGC_R1.A01_16_GM12878_CLIP_2_Infplus_R60.adapterTrim.round2.rmRep.rmDup.sorted.r2.norm.pos.bw',\n",
       "       '14_GM12878_CLIP_2_Infminus_AND_16_GM12878_CLIP_2_Infplus_GAATTCGT-ATAGAGGC_R1.A01_16_GM12878_CLIP_2_Infplus_R60.adapterTrim.round2.rmRep.rmDup.sorted.r2.pos.bg',\n",
       "       '14_GM12878_CLIP_2_Infminus_AND_16_GM12878_CLIP_2_Infplus_GAATTCGT-ATAGAGGC_R1.B06_16_GM12878_CLIP_2_Infplus_R60.adapterTrim.round2.rmRep.rmDup.sorted.r2.neg.bg',\n",
       "       '14_GM12878_CLIP_2_Infminus_AND_16_GM12878_CLIP_2_Infplus_GAATTCGT-ATAGAGGC_R1.B06_16_GM12878_CLIP_2_Infplus_R60.adapterTrim.round2.rmRep.rmDup.sorted.r2.norm.neg.bg',\n",
       "       '14_GM12878_CLIP_2_Infminus_AND_16_GM12878_CLIP_2_Infplus_GAATTCGT-ATAGAGGC_R1.B06_16_GM12878_CLIP_2_Infplus_R60.adapterTrim.round2.rmRep.rmDup.sorted.r2.norm.neg.bw',\n",
       "       '14_GM12878_CLIP_2_Infminus_AND_16_GM12878_CLIP_2_Infplus_GAATTCGT-ATAGAGGC_R1.B06_16_GM12878_CLIP_2_Infplus_R60.adapterTrim.round2.rmRep.rmDup.sorted.r2.norm.neg.t.bg',\n",
       "       '14_GM12878_CLIP_2_Infminus_AND_16_GM12878_CLIP_2_Infplus_GAATTCGT-ATAGAGGC_R1.B06_16_GM12878_CLIP_2_Infplus_R60.adapterTrim.round2.rmRep.rmDup.sorted.r2.norm.pos.bg',\n",
       "       '14_GM12878_CLIP_2_Infminus_AND_16_GM12878_CLIP_2_Infplus_GAATTCGT-ATAGAGGC_R1.B06_16_GM12878_CLIP_2_Infplus_R60.adapterTrim.round2.rmRep.rmDup.sorted.r2.norm.pos.bw',\n",
       "       '14_GM12878_CLIP_2_Infminus_AND_16_GM12878_CLIP_2_Infplus_GAATTCGT-ATAGAGGC_R1.B06_16_GM12878_CLIP_2_Infplus_R60.adapterTrim.round2.rmRep.rmDup.sorted.r2.pos.bg',\n",
       "       '14_GM12878_CLIP_2_Infminus_AND_16_GM12878_CLIP_2_Infplus_GAATTCGT-ATAGAGGC_R1.C01_14_GM12878_CLIP_2_Infminus_R60.adapterTrim.round2.rmRep.rmDup.sorted.r2.neg.bg',\n",
       "       '14_GM12878_CLIP_2_Infminus_AND_16_GM12878_CLIP_2_Infplus_GAATTCGT-ATAGAGGC_R1.C01_14_GM12878_CLIP_2_Infminus_R60.adapterTrim.round2.rmRep.rmDup.sorted.r2.norm.neg.bg',\n",
       "       '14_GM12878_CLIP_2_Infminus_AND_16_GM12878_CLIP_2_Infplus_GAATTCGT-ATAGAGGC_R1.C01_14_GM12878_CLIP_2_Infminus_R60.adapterTrim.round2.rmRep.rmDup.sorted.r2.norm.neg.bw',\n",
       "       '14_GM12878_CLIP_2_Infminus_AND_16_GM12878_CLIP_2_Infplus_GAATTCGT-ATAGAGGC_R1.C01_14_GM12878_CLIP_2_Infminus_R60.adapterTrim.round2.rmRep.rmDup.sorted.r2.norm.neg.t.bg',\n",
       "       '14_GM12878_CLIP_2_Infminus_AND_16_GM12878_CLIP_2_Infplus_GAATTCGT-ATAGAGGC_R1.C01_14_GM12878_CLIP_2_Infminus_R60.adapterTrim.round2.rmRep.rmDup.sorted.r2.norm.pos.bg',\n",
       "       '14_GM12878_CLIP_2_Infminus_AND_16_GM12878_CLIP_2_Infplus_GAATTCGT-ATAGAGGC_R1.C01_14_GM12878_CLIP_2_Infminus_R60.adapterTrim.round2.rmRep.rmDup.sorted.r2.norm.pos.bw',\n",
       "       '14_GM12878_CLIP_2_Infminus_AND_16_GM12878_CLIP_2_Infplus_GAATTCGT-ATAGAGGC_R1.C01_14_GM12878_CLIP_2_Infminus_R60.adapterTrim.round2.rmRep.rmDup.sorted.r2.pos.bg',\n",
       "       '14_GM12878_CLIP_2_Infminus_AND_16_GM12878_CLIP_2_Infplus_GAATTCGT-ATAGAGGC_R1.D08fixed_14_GM12878_CLIP_2_Infminus_R60.adapterTrim.round2.rmRep.rmDup.sorted.r2.neg.bg',\n",
       "       '14_GM12878_CLIP_2_Infminus_AND_16_GM12878_CLIP_2_Infplus_GAATTCGT-ATAGAGGC_R1.D08fixed_14_GM12878_CLIP_2_Infminus_R60.adapterTrim.round2.rmRep.rmDup.sorted.r2.norm.neg.bg',\n",
       "       '14_GM12878_CLIP_2_Infminus_AND_16_GM12878_CLIP_2_Infplus_GAATTCGT-ATAGAGGC_R1.D08fixed_14_GM12878_CLIP_2_Infminus_R60.adapterTrim.round2.rmRep.rmDup.sorted.r2.norm.neg.bw',\n",
       "       '14_GM12878_CLIP_2_Infminus_AND_16_GM12878_CLIP_2_Infplus_GAATTCGT-ATAGAGGC_R1.D08fixed_14_GM12878_CLIP_2_Infminus_R60.adapterTrim.round2.rmRep.rmDup.sorted.r2.norm.neg.t.bg',\n",
       "       '14_GM12878_CLIP_2_Infminus_AND_16_GM12878_CLIP_2_Infplus_GAATTCGT-ATAGAGGC_R1.D08fixed_14_GM12878_CLIP_2_Infminus_R60.adapterTrim.round2.rmRep.rmDup.sorted.r2.norm.pos.bg',\n",
       "       '14_GM12878_CLIP_2_Infminus_AND_16_GM12878_CLIP_2_Infplus_GAATTCGT-ATAGAGGC_R1.D08fixed_14_GM12878_CLIP_2_Infminus_R60.adapterTrim.round2.rmRep.rmDup.sorted.r2.norm.pos.bw',\n",
       "       '14_GM12878_CLIP_2_Infminus_AND_16_GM12878_CLIP_2_Infplus_GAATTCGT-ATAGAGGC_R1.D08fixed_14_GM12878_CLIP_2_Infminus_R60.adapterTrim.round2.rmRep.rmDup.sorted.r2.pos.bg',\n",
       "       '14_GM12878_CLIP_2_Infminus_R60.merged.r2.norm.neg.t.bg',\n",
       "       '15_GM12878_Input_2_Infplus_TCCGGAGA-ATAGAGGC_R1.unassigned.adapterTrim.round2.rmRep.rmDup.sorted.r2.neg.bg',\n",
       "       '15_GM12878_Input_2_Infplus_TCCGGAGA-ATAGAGGC_R1.unassigned.adapterTrim.round2.rmRep.rmDup.sorted.r2.norm.neg.bg',\n",
       "       '15_GM12878_Input_2_Infplus_TCCGGAGA-ATAGAGGC_R1.unassigned.adapterTrim.round2.rmRep.rmDup.sorted.r2.norm.neg.bw',\n",
       "       '15_GM12878_Input_2_Infplus_TCCGGAGA-ATAGAGGC_R1.unassigned.adapterTrim.round2.rmRep.rmDup.sorted.r2.norm.neg.t.bg',\n",
       "       '15_GM12878_Input_2_Infplus_TCCGGAGA-ATAGAGGC_R1.unassigned.adapterTrim.round2.rmRep.rmDup.sorted.r2.norm.pos.bg',\n",
       "       '15_GM12878_Input_2_Infplus_TCCGGAGA-ATAGAGGC_R1.unassigned.adapterTrim.round2.rmRep.rmDup.sorted.r2.norm.pos.bw',\n",
       "       '15_GM12878_Input_2_Infplus_TCCGGAGA-ATAGAGGC_R1.unassigned.adapterTrim.round2.rmRep.rmDup.sorted.r2.pos.bg',\n",
       "       '16_GM12878_CLIP_2_Infplus_R60.merged.r2.norm.neg.t.bg',\n",
       "       '1_K562_Input_1_Infminus_ATTACTCG-TATAGCCT_R1.unassigned.adapterTrim.round2.rmRep.rmDup.sorted.r2.neg.bg',\n",
       "       '1_K562_Input_1_Infminus_ATTACTCG-TATAGCCT_R1.unassigned.adapterTrim.round2.rmRep.rmDup.sorted.r2.norm.neg.bg',\n",
       "       '1_K562_Input_1_Infminus_ATTACTCG-TATAGCCT_R1.unassigned.adapterTrim.round2.rmRep.rmDup.sorted.r2.norm.neg.bw',\n",
       "       '1_K562_Input_1_Infminus_ATTACTCG-TATAGCCT_R1.unassigned.adapterTrim.round2.rmRep.rmDup.sorted.r2.norm.neg.t.bg',\n",
       "       '1_K562_Input_1_Infminus_ATTACTCG-TATAGCCT_R1.unassigned.adapterTrim.round2.rmRep.rmDup.sorted.r2.norm.pos.bg',\n",
       "       '1_K562_Input_1_Infminus_ATTACTCG-TATAGCCT_R1.unassigned.adapterTrim.round2.rmRep.rmDup.sorted.r2.norm.pos.bw',\n",
       "       '1_K562_Input_1_Infminus_ATTACTCG-TATAGCCT_R1.unassigned.adapterTrim.round2.rmRep.rmDup.sorted.r2.pos.bg',\n",
       "       '202_01_PTBP1.merged.r2.in_genes.metrics',\n",
       "       '202_01_PTBP1.merged.r2.norm.neg.t.bg',\n",
       "       '202_02_PTBP1.merged.r2.norm.neg.t.bg',\n",
       "       '203-CLIPs_S6_R1.A01_203_02_HNRNPC.adapterTrim.round2.rmRep.rmDup.sorted.r2.neg.bg',\n",
       "       '203-CLIPs_S6_R1.A01_203_02_HNRNPC.adapterTrim.round2.rmRep.rmDup.sorted.r2.norm.neg.bg',\n",
       "       '203-CLIPs_S6_R1.A01_203_02_HNRNPC.adapterTrim.round2.rmRep.rmDup.sorted.r2.norm.neg.bw',\n",
       "       '203-CLIPs_S6_R1.A01_203_02_HNRNPC.adapterTrim.round2.rmRep.rmDup.sorted.r2.norm.neg.t.bg',\n",
       "       '203-CLIPs_S6_R1.A01_203_02_HNRNPC.adapterTrim.round2.rmRep.rmDup.sorted.r2.norm.pos.bg',\n",
       "       '203-CLIPs_S6_R1.A01_203_02_HNRNPC.adapterTrim.round2.rmRep.rmDup.sorted.r2.norm.pos.bw',\n",
       "       '203-CLIPs_S6_R1.A01_203_02_HNRNPC.adapterTrim.round2.rmRep.rmDup.sorted.r2.pos.bg',\n",
       "       '203-CLIPs_S6_R1.B06_203_02_HNRNPC.adapterTrim.round2.rmRep.rmDup.sorted.r2.neg.bg',\n",
       "       '203-CLIPs_S6_R1.B06_203_02_HNRNPC.adapterTrim.round2.rmRep.rmDup.sorted.r2.norm.neg.bg'], dtype=object)"
      ]
     },
     "execution_count": 50,
     "metadata": {},
     "output_type": "execute_result"
    }
   ],
   "source": [
    "not_in_old.fn[:100].values"
   ]
  },
  {
   "cell_type": "code",
   "execution_count": 51,
   "metadata": {
    "collapsed": true
   },
   "outputs": [],
   "source": [
    "not_in_new = result[result.md5sum_y.isnull()]"
   ]
  },
  {
   "cell_type": "code",
   "execution_count": 52,
   "metadata": {
    "collapsed": false
   },
   "outputs": [
    {
     "data": {
      "text/html": [
       "<div>\n",
       "<table border=\"1\" class=\"dataframe\">\n",
       "  <thead>\n",
       "    <tr style=\"text-align: right;\">\n",
       "      <th></th>\n",
       "      <th>md5sum_x</th>\n",
       "      <th>null_x</th>\n",
       "      <th>fn</th>\n",
       "      <th>md5sum_y</th>\n",
       "      <th>null_y</th>\n",
       "    </tr>\n",
       "  </thead>\n",
       "  <tbody>\n",
       "  </tbody>\n",
       "</table>\n",
       "</div>"
      ],
      "text/plain": [
       "Empty DataFrame\n",
       "Columns: [md5sum_x, null_x, fn, md5sum_y, null_y]\n",
       "Index: []"
      ]
     },
     "execution_count": 52,
     "metadata": {},
     "output_type": "execute_result"
    }
   ],
   "source": [
    "not_in_new"
   ]
  },
  {
   "cell_type": "code",
   "execution_count": 66,
   "metadata": {
    "collapsed": true
   },
   "outputs": [],
   "source": [
    "new_condo = pd.read_table(\"~/md5sum_v13_new.txt\", header=None,\n",
    "                       names=['md5sum', \"null\", 'fn'], sep=\" \")\n",
    "\n",
    "old_condo = pd.read_table(\"~/md5sum_v13_old.txt\", header=None,\n",
    "                       names=['md5sum', \"null\", 'fn'], sep=\" \")\n",
    "\n",
    "result_v13 = pd.merge(old_condo, new_condo, left_on=\"fn\", right_on=\"fn\", how=\"outer\")\n",
    "result_v13_inner = pd.merge(old_condo, new_condo, left_on=\"fn\", right_on=\"fn\", how=\"inner\")"
   ]
  },
  {
   "cell_type": "code",
   "execution_count": 67,
   "metadata": {
    "collapsed": false
   },
   "outputs": [
    {
     "data": {
      "text/html": [
       "<div>\n",
       "<table border=\"1\" class=\"dataframe\">\n",
       "  <thead>\n",
       "    <tr style=\"text-align: right;\">\n",
       "      <th></th>\n",
       "      <th>md5sum_x</th>\n",
       "      <th>null_x</th>\n",
       "      <th>fn</th>\n",
       "      <th>md5sum_y</th>\n",
       "      <th>null_y</th>\n",
       "    </tr>\n",
       "  </thead>\n",
       "  <tbody>\n",
       "  </tbody>\n",
       "</table>\n",
       "</div>"
      ],
      "text/plain": [
       "Empty DataFrame\n",
       "Columns: [md5sum_x, null_x, fn, md5sum_y, null_y]\n",
       "Index: []"
      ]
     },
     "execution_count": 67,
     "metadata": {},
     "output_type": "execute_result"
    }
   ],
   "source": [
    "result_v13_inner[result_v13_inner.md5sum_x != result_v13_inner.md5sum_y]"
   ]
  },
  {
   "cell_type": "code",
   "execution_count": 69,
   "metadata": {
    "collapsed": false
   },
   "outputs": [],
   "source": [
    "not_in_old = result_v13[result_v13.md5sum_x.isnull()]"
   ]
  },
  {
   "cell_type": "code",
   "execution_count": 70,
   "metadata": {
    "collapsed": false
   },
   "outputs": [
    {
     "data": {
      "text/plain": [
       "array(['235_01_4000_XRN2.merged.r2.norm.neg.t.bg',\n",
       "       '235_02_4000_XRN2.merged.r2.norm.neg.t.bg',\n",
       "       '235_CLIP_S53_L006_R1_001.A03_235_02_4000_XRN2.adapterTrim.round2.rmRep.rmDup.sorted.r2.neg.bg',\n",
       "       '235_CLIP_S53_L006_R1_001.A03_235_02_4000_XRN2.adapterTrim.round2.rmRep.rmDup.sorted.r2.norm.neg.bg',\n",
       "       '235_CLIP_S53_L006_R1_001.A03_235_02_4000_XRN2.adapterTrim.round2.rmRep.rmDup.sorted.r2.norm.neg.bw',\n",
       "       '235_CLIP_S53_L006_R1_001.A03_235_02_4000_XRN2.adapterTrim.round2.rmRep.rmDup.sorted.r2.norm.neg.t.bg',\n",
       "       '235_CLIP_S53_L006_R1_001.A03_235_02_4000_XRN2.adapterTrim.round2.rmRep.rmDup.sorted.r2.norm.pos.bg',\n",
       "       '235_CLIP_S53_L006_R1_001.A03_235_02_4000_XRN2.adapterTrim.round2.rmRep.rmDup.sorted.r2.norm.pos.bw',\n",
       "       '235_CLIP_S53_L006_R1_001.A03_235_02_4000_XRN2.adapterTrim.round2.rmRep.rmDup.sorted.r2.pos.bg',\n",
       "       '235_CLIP_S53_L006_R1_001.A04_235_01_4000_XRN2.adapterTrim.round2.rmRep.rmDup.sorted.r2.neg.bg',\n",
       "       '235_CLIP_S53_L006_R1_001.A04_235_01_4000_XRN2.adapterTrim.round2.rmRep.rmDup.sorted.r2.norm.neg.bg',\n",
       "       '235_CLIP_S53_L006_R1_001.A04_235_01_4000_XRN2.adapterTrim.round2.rmRep.rmDup.sorted.r2.norm.neg.bw',\n",
       "       '235_CLIP_S53_L006_R1_001.A04_235_01_4000_XRN2.adapterTrim.round2.rmRep.rmDup.sorted.r2.norm.neg.t.bg',\n",
       "       '235_CLIP_S53_L006_R1_001.A04_235_01_4000_XRN2.adapterTrim.round2.rmRep.rmDup.sorted.r2.norm.pos.bg',\n",
       "       '235_CLIP_S53_L006_R1_001.A04_235_01_4000_XRN2.adapterTrim.round2.rmRep.rmDup.sorted.r2.norm.pos.bw',\n",
       "       '235_CLIP_S53_L006_R1_001.A04_235_01_4000_XRN2.adapterTrim.round2.rmRep.rmDup.sorted.r2.pos.bg',\n",
       "       '235_CLIP_S53_L006_R1_001.F05_235_01_4000_XRN2.adapterTrim.round2.rmRep.rmDup.sorted.r2.neg.bg',\n",
       "       '235_CLIP_S53_L006_R1_001.F05_235_01_4000_XRN2.adapterTrim.round2.rmRep.rmDup.sorted.r2.norm.neg.bg',\n",
       "       '235_CLIP_S53_L006_R1_001.F05_235_01_4000_XRN2.adapterTrim.round2.rmRep.rmDup.sorted.r2.norm.neg.bw',\n",
       "       '235_CLIP_S53_L006_R1_001.F05_235_01_4000_XRN2.adapterTrim.round2.rmRep.rmDup.sorted.r2.norm.neg.t.bg',\n",
       "       '235_CLIP_S53_L006_R1_001.F05_235_01_4000_XRN2.adapterTrim.round2.rmRep.rmDup.sorted.r2.norm.pos.bg',\n",
       "       '235_CLIP_S53_L006_R1_001.F05_235_01_4000_XRN2.adapterTrim.round2.rmRep.rmDup.sorted.r2.norm.pos.bw',\n",
       "       '235_CLIP_S53_L006_R1_001.F05_235_01_4000_XRN2.adapterTrim.round2.rmRep.rmDup.sorted.r2.pos.bg',\n",
       "       '235_CLIP_S53_L006_R1_001.G07_235_02_4000_XRN2.adapterTrim.round2.rmRep.rmDup.sorted.r2.neg.bg',\n",
       "       '235_CLIP_S53_L006_R1_001.G07_235_02_4000_XRN2.adapterTrim.round2.rmRep.rmDup.sorted.r2.norm.neg.bg',\n",
       "       '235_CLIP_S53_L006_R1_001.G07_235_02_4000_XRN2.adapterTrim.round2.rmRep.rmDup.sorted.r2.norm.neg.bw',\n",
       "       '235_CLIP_S53_L006_R1_001.G07_235_02_4000_XRN2.adapterTrim.round2.rmRep.rmDup.sorted.r2.norm.neg.t.bg',\n",
       "       '235_CLIP_S53_L006_R1_001.G07_235_02_4000_XRN2.adapterTrim.round2.rmRep.rmDup.sorted.r2.norm.pos.bg',\n",
       "       '235_CLIP_S53_L006_R1_001.G07_235_02_4000_XRN2.adapterTrim.round2.rmRep.rmDup.sorted.r2.norm.pos.bw',\n",
       "       '235_CLIP_S53_L006_R1_001.G07_235_02_4000_XRN2.adapterTrim.round2.rmRep.rmDup.sorted.r2.pos.bg',\n",
       "       '235_INPUT_S54_L006_R1_001.unassigned.adapterTrim.round2.rmRep.rmDup.sorted.r2.neg.bg',\n",
       "       '235_INPUT_S54_L006_R1_001.unassigned.adapterTrim.round2.rmRep.rmDup.sorted.r2.norm.neg.bg',\n",
       "       '235_INPUT_S54_L006_R1_001.unassigned.adapterTrim.round2.rmRep.rmDup.sorted.r2.norm.neg.bw',\n",
       "       '235_INPUT_S54_L006_R1_001.unassigned.adapterTrim.round2.rmRep.rmDup.sorted.r2.norm.neg.t.bg',\n",
       "       '235_INPUT_S54_L006_R1_001.unassigned.adapterTrim.round2.rmRep.rmDup.sorted.r2.norm.pos.bg',\n",
       "       '235_INPUT_S54_L006_R1_001.unassigned.adapterTrim.round2.rmRep.rmDup.sorted.r2.norm.pos.bw',\n",
       "       '235_INPUT_S54_L006_R1_001.unassigned.adapterTrim.round2.rmRep.rmDup.sorted.r2.pos.bg',\n",
       "       '284_01_4000_DDX21.merged.r2.norm.neg.t.bg',\n",
       "       '284_01_4000_fixed_DDX21.merged.r2.norm.neg.t.bg',\n",
       "       '284_02_4000_DDX21.merged.r2.norm.neg.t.bg',\n",
       "       '284_02_4000_fixed_DDX21.merged.r2.norm.neg.t.bg',\n",
       "       '284_CLIP_S55_L006_R1_001.unassigned.adapterTrim.round2.rmRep.rmDup.sorted.r2.neg.bg',\n",
       "       '284_CLIP_S55_L006_R1_001.unassigned.adapterTrim.round2.rmRep.rmDup.sorted.r2.norm.neg.bg',\n",
       "       '284_CLIP_S55_L006_R1_001.unassigned.adapterTrim.round2.rmRep.rmDup.sorted.r2.norm.neg.bw',\n",
       "       '284_CLIP_S55_L006_R1_001.unassigned.adapterTrim.round2.rmRep.rmDup.sorted.r2.norm.neg.t.bg',\n",
       "       '284_CLIP_S55_L006_R1_001.unassigned.adapterTrim.round2.rmRep.rmDup.sorted.r2.norm.pos.bg',\n",
       "       '284_CLIP_S55_L006_R1_001.unassigned.adapterTrim.round2.rmRep.rmDup.sorted.r2.norm.pos.bw',\n",
       "       '284_CLIP_S55_L006_R1_001.unassigned.adapterTrim.round2.rmRep.rmDup.sorted.r2.pos.bg',\n",
       "       '284_INPUT_S56_L006_R1_001.A01_284_01_4000_fixed_DDX21.adapterTrim.round2.rmRep.rmDup.sorted.r2.neg.bg',\n",
       "       '284_INPUT_S56_L006_R1_001.A01_284_01_4000_fixed_DDX21.adapterTrim.round2.rmRep.rmDup.sorted.r2.norm.neg.bg',\n",
       "       '284_INPUT_S56_L006_R1_001.A01_284_01_4000_fixed_DDX21.adapterTrim.round2.rmRep.rmDup.sorted.r2.norm.neg.bw',\n",
       "       '284_INPUT_S56_L006_R1_001.A01_284_01_4000_fixed_DDX21.adapterTrim.round2.rmRep.rmDup.sorted.r2.norm.neg.t.bg',\n",
       "       '284_INPUT_S56_L006_R1_001.A01_284_01_4000_fixed_DDX21.adapterTrim.round2.rmRep.rmDup.sorted.r2.norm.pos.bg',\n",
       "       '284_INPUT_S56_L006_R1_001.A01_284_01_4000_fixed_DDX21.adapterTrim.round2.rmRep.rmDup.sorted.r2.norm.pos.bw',\n",
       "       '284_INPUT_S56_L006_R1_001.A01_284_01_4000_fixed_DDX21.adapterTrim.round2.rmRep.rmDup.sorted.r2.pos.bg',\n",
       "       '284_INPUT_S56_L006_R1_001.A04_284_02_4000_fixed_DDX21.adapterTrim.round2.rmRep.rmDup.sorted.r2.neg.bg',\n",
       "       '284_INPUT_S56_L006_R1_001.A04_284_02_4000_fixed_DDX21.adapterTrim.round2.rmRep.rmDup.sorted.r2.norm.neg.bg',\n",
       "       '284_INPUT_S56_L006_R1_001.A04_284_02_4000_fixed_DDX21.adapterTrim.round2.rmRep.rmDup.sorted.r2.norm.neg.bw',\n",
       "       '284_INPUT_S56_L006_R1_001.A04_284_02_4000_fixed_DDX21.adapterTrim.round2.rmRep.rmDup.sorted.r2.norm.neg.t.bg',\n",
       "       '284_INPUT_S56_L006_R1_001.A04_284_02_4000_fixed_DDX21.adapterTrim.round2.rmRep.rmDup.sorted.r2.norm.pos.bg',\n",
       "       '284_INPUT_S56_L006_R1_001.A04_284_02_4000_fixed_DDX21.adapterTrim.round2.rmRep.rmDup.sorted.r2.norm.pos.bw',\n",
       "       '284_INPUT_S56_L006_R1_001.A04_284_02_4000_fixed_DDX21.adapterTrim.round2.rmRep.rmDup.sorted.r2.pos.bg',\n",
       "       '284_INPUT_S56_L006_R1_001.B06_284_01_4000_fixed_DDX21.adapterTrim.round2.rmRep.rmDup.sorted.r2.neg.bg',\n",
       "       '284_INPUT_S56_L006_R1_001.B06_284_01_4000_fixed_DDX21.adapterTrim.round2.rmRep.rmDup.sorted.r2.norm.neg.bg',\n",
       "       '284_INPUT_S56_L006_R1_001.B06_284_01_4000_fixed_DDX21.adapterTrim.round2.rmRep.rmDup.sorted.r2.norm.neg.bw',\n",
       "       '284_INPUT_S56_L006_R1_001.B06_284_01_4000_fixed_DDX21.adapterTrim.round2.rmRep.rmDup.sorted.r2.norm.neg.t.bg',\n",
       "       '284_INPUT_S56_L006_R1_001.B06_284_01_4000_fixed_DDX21.adapterTrim.round2.rmRep.rmDup.sorted.r2.norm.pos.bg',\n",
       "       '284_INPUT_S56_L006_R1_001.B06_284_01_4000_fixed_DDX21.adapterTrim.round2.rmRep.rmDup.sorted.r2.norm.pos.bw',\n",
       "       '284_INPUT_S56_L006_R1_001.B06_284_01_4000_fixed_DDX21.adapterTrim.round2.rmRep.rmDup.sorted.r2.pos.bg',\n",
       "       '284_INPUT_S56_L006_R1_001.F05_284_02_4000_fixed_DDX21.adapterTrim.round2.rmRep.rmDup.sorted.r2.neg.bg',\n",
       "       '284_INPUT_S56_L006_R1_001.F05_284_02_4000_fixed_DDX21.adapterTrim.round2.rmRep.rmDup.sorted.r2.norm.neg.bg',\n",
       "       '284_INPUT_S56_L006_R1_001.F05_284_02_4000_fixed_DDX21.adapterTrim.round2.rmRep.rmDup.sorted.r2.norm.neg.bw',\n",
       "       '284_INPUT_S56_L006_R1_001.F05_284_02_4000_fixed_DDX21.adapterTrim.round2.rmRep.rmDup.sorted.r2.norm.neg.t.bg',\n",
       "       '284_INPUT_S56_L006_R1_001.F05_284_02_4000_fixed_DDX21.adapterTrim.round2.rmRep.rmDup.sorted.r2.norm.pos.bg',\n",
       "       '284_INPUT_S56_L006_R1_001.F05_284_02_4000_fixed_DDX21.adapterTrim.round2.rmRep.rmDup.sorted.r2.norm.pos.bw',\n",
       "       '284_INPUT_S56_L006_R1_001.F05_284_02_4000_fixed_DDX21.adapterTrim.round2.rmRep.rmDup.sorted.r2.pos.bg',\n",
       "       '285_01_4000_TIA1.merged.r2.norm.neg.t.bg',\n",
       "       '285_02_4000_TIA1.merged.r2.norm.neg.t.bg',\n",
       "       '285_CLIP_S57_L006_R1_001.A01_285_01_4000_TIA1.adapterTrim.round2.rmRep.rmDup.sorted.r2.neg.bg',\n",
       "       '285_CLIP_S57_L006_R1_001.A01_285_01_4000_TIA1.adapterTrim.round2.rmRep.rmDup.sorted.r2.norm.neg.bg',\n",
       "       '285_CLIP_S57_L006_R1_001.A01_285_01_4000_TIA1.adapterTrim.round2.rmRep.rmDup.sorted.r2.norm.neg.bw',\n",
       "       '285_CLIP_S57_L006_R1_001.A01_285_01_4000_TIA1.adapterTrim.round2.rmRep.rmDup.sorted.r2.norm.neg.t.bg',\n",
       "       '285_CLIP_S57_L006_R1_001.A01_285_01_4000_TIA1.adapterTrim.round2.rmRep.rmDup.sorted.r2.norm.pos.bg',\n",
       "       '285_CLIP_S57_L006_R1_001.A01_285_01_4000_TIA1.adapterTrim.round2.rmRep.rmDup.sorted.r2.norm.pos.bw',\n",
       "       '285_CLIP_S57_L006_R1_001.A01_285_01_4000_TIA1.adapterTrim.round2.rmRep.rmDup.sorted.r2.pos.bg',\n",
       "       '285_CLIP_S57_L006_R1_001.B06_285_01_4000_TIA1.adapterTrim.round2.rmRep.rmDup.sorted.r2.neg.bg',\n",
       "       '285_CLIP_S57_L006_R1_001.B06_285_01_4000_TIA1.adapterTrim.round2.rmRep.rmDup.sorted.r2.norm.neg.bg',\n",
       "       '285_CLIP_S57_L006_R1_001.B06_285_01_4000_TIA1.adapterTrim.round2.rmRep.rmDup.sorted.r2.norm.neg.bw',\n",
       "       '285_CLIP_S57_L006_R1_001.B06_285_01_4000_TIA1.adapterTrim.round2.rmRep.rmDup.sorted.r2.norm.neg.t.bg',\n",
       "       '285_CLIP_S57_L006_R1_001.B06_285_01_4000_TIA1.adapterTrim.round2.rmRep.rmDup.sorted.r2.norm.pos.bg',\n",
       "       '285_CLIP_S57_L006_R1_001.B06_285_01_4000_TIA1.adapterTrim.round2.rmRep.rmDup.sorted.r2.norm.pos.bw',\n",
       "       '285_CLIP_S57_L006_R1_001.B06_285_01_4000_TIA1.adapterTrim.round2.rmRep.rmDup.sorted.r2.pos.bg',\n",
       "       '285_CLIP_S57_L006_R1_001.C01_285_02_4000_TIA1.adapterTrim.round2.rmRep.rmDup.sorted.r2.neg.bg',\n",
       "       '285_CLIP_S57_L006_R1_001.C01_285_02_4000_TIA1.adapterTrim.round2.rmRep.rmDup.sorted.r2.norm.neg.bg',\n",
       "       '285_CLIP_S57_L006_R1_001.C01_285_02_4000_TIA1.adapterTrim.round2.rmRep.rmDup.sorted.r2.norm.neg.bw',\n",
       "       '285_CLIP_S57_L006_R1_001.C01_285_02_4000_TIA1.adapterTrim.round2.rmRep.rmDup.sorted.r2.norm.neg.t.bg',\n",
       "       '285_CLIP_S57_L006_R1_001.C01_285_02_4000_TIA1.adapterTrim.round2.rmRep.rmDup.sorted.r2.norm.pos.bg',\n",
       "       '285_CLIP_S57_L006_R1_001.C01_285_02_4000_TIA1.adapterTrim.round2.rmRep.rmDup.sorted.r2.norm.pos.bw',\n",
       "       '285_CLIP_S57_L006_R1_001.C01_285_02_4000_TIA1.adapterTrim.round2.rmRep.rmDup.sorted.r2.pos.bg',\n",
       "       '285_CLIP_S57_L006_R1_001.D08fixed_285_02_4000_TIA1.adapterTrim.round2.rmRep.rmDup.sorted.r2.neg.bg'], dtype=object)"
      ]
     },
     "execution_count": 70,
     "metadata": {},
     "output_type": "execute_result"
    }
   ],
   "source": [
    "not_in_old.fn[:100].values"
   ]
  },
  {
   "cell_type": "code",
   "execution_count": 71,
   "metadata": {
    "collapsed": true
   },
   "outputs": [],
   "source": [
    "not_in_new = result_v13[result_v13.md5sum_y.isnull()]"
   ]
  },
  {
   "cell_type": "code",
   "execution_count": 72,
   "metadata": {
    "collapsed": false
   },
   "outputs": [
    {
     "data": {
      "text/html": [
       "<div>\n",
       "<table border=\"1\" class=\"dataframe\">\n",
       "  <thead>\n",
       "    <tr style=\"text-align: right;\">\n",
       "      <th></th>\n",
       "      <th>md5sum_x</th>\n",
       "      <th>null_x</th>\n",
       "      <th>fn</th>\n",
       "      <th>md5sum_y</th>\n",
       "      <th>null_y</th>\n",
       "    </tr>\n",
       "  </thead>\n",
       "  <tbody>\n",
       "  </tbody>\n",
       "</table>\n",
       "</div>"
      ],
      "text/plain": [
       "Empty DataFrame\n",
       "Columns: [md5sum_x, null_x, fn, md5sum_y, null_y]\n",
       "Index: []"
      ]
     },
     "execution_count": 72,
     "metadata": {},
     "output_type": "execute_result"
    }
   ],
   "source": [
    "not_in_new"
   ]
  },
  {
   "cell_type": "code",
   "execution_count": null,
   "metadata": {
    "collapsed": true
   },
   "outputs": [],
   "source": []
  }
 ],
 "metadata": {
  "kernelspec": {
   "display_name": "Python 2",
   "language": "python",
   "name": "python2"
  },
  "language_info": {
   "codemirror_mode": {
    "name": "ipython",
    "version": 2
   },
   "file_extension": ".py",
   "mimetype": "text/x-python",
   "name": "python",
   "nbconvert_exporter": "python",
   "pygments_lexer": "ipython2",
   "version": "2.7.11"
  }
 },
 "nbformat": 4,
 "nbformat_minor": 0
}
