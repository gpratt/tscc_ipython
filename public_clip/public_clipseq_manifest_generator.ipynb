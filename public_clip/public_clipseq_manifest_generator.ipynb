{
 "cells": [
  {
   "cell_type": "code",
   "execution_count": 3,
   "metadata": {
    "collapsed": false
   },
   "outputs": [],
   "source": [
    "import gspread\n",
    "import pandas as pd\n",
    "import os\n",
    "from IPython.core.display import HTML\n",
    "from oauth2client.client import SignedJwtAssertionCredentials\n",
    "import json\n"
   ]
  },
  {
   "cell_type": "code",
   "execution_count": 4,
   "metadata": {
    "collapsed": false
   },
   "outputs": [],
   "source": [
    "json_key = json.load(open(\"/home/gpratt/ipython_notebook/public clip-588adbc137f3.json\"))\n",
    "scope = ['https://spreadsheets.google.com/feeds']\n",
    "\n",
    "credentials = SignedJwtAssertionCredentials(json_key['client_email'], json_key['private_key'], scope)\n",
    "gc = gspread.authorize(credentials)\n",
    "\n",
    "sht1 = gc.open_by_url(\"https://docs.google.com/spreadsheets/d/1ZU2mQh54jentqvhR_oMnviLGWR8Nw_x338gULzKjNDI/edit#gid=0\")\n",
    "ws = sht1.worksheet(\"public_clip_database\")\n",
    "list_of_lists = ws.get_all_values()\n",
    "df = pd.DataFrame(list_of_lists[1:], columns=list_of_lists[0])\n",
    "df.index = df.SRA\n",
    "\n",
    "clip_df = df[df['CLIP-seq?'] == \"Yes\"]\n",
    "clip_df = clip_df[clip_df.type != \"iclip\"]\n",
    "clip_df['file_names'] = clip_df.SRA.apply(lambda x: os.path.join(\"/home/gpratt/projects/public_clip/analysis/public_clip_v4\", x.strip()) + \".fastq.gz\")"
   ]
  },
  {
   "cell_type": "code",
   "execution_count": 5,
   "metadata": {
    "collapsed": false
   },
   "outputs": [],
   "source": [
    "#manifest\n",
    "clip_df.to_csv(\"/home/gpratt/projects/public_clip/scripts/public_fastq.txt\", columns=['file_names', 'Species', 'replicate'], sep=\"\\t\", index=False, header=False)"
   ]
  },
  {
   "cell_type": "code",
   "execution_count": 6,
   "metadata": {
    "collapsed": false
   },
   "outputs": [],
   "source": [
    "#demux sra files\n",
    "result_file = []\n",
    "with open(\"/home/gpratt/projects/public_clip/scripts/sra_files.txt\", 'w') as out_file:\n",
    "    for root, subFolders, files in os.walk(\"/projects/ps-yeolab/clip_public/clip/\"):\n",
    "        for fn in files:\n",
    "            if fn.endswith(\"sra\"):\n",
    "                result_file.append(os.path.abspath(os.path.join(root, fn)))"
   ]
  },
  {
   "cell_type": "code",
   "execution_count": 7,
   "metadata": {
    "collapsed": false
   },
   "outputs": [],
   "source": [
    "cmd_list = []\n",
    "\n",
    "with open(\"/home/gpratt/projects/public_clip/scripts/fastq_dump_clip.sh\", 'w') as out_file:\n",
    "\n",
    "    out_file.write(\"\"\"#!/bin/bash                                                                                                                                           \n",
    "#PBS -N fastq_dump_clip                                                                                                                                       \n",
    "#PBS -o fastq_dump_clip.sh.out                                                                                                                                \n",
    "#PBS -e fastq_dump_clip.sh.err                                                                                                                                \n",
    "#PBS -V                                                                                                                                                       \n",
    "#PBS -l walltime=4:00:00                                                                                                                                      \n",
    "#PBS -l nodes=1:ppn=1                                                                                                                                         \n",
    "#PBS -A yeo-group                                                                                                                                             \n",
    "#PBS -q home-yeo                                                                                                                                                 \n",
    "#PBS -t 1-335                                                                                                                                                  \n",
    "# Go to the directory from which the script was called                                                                                                         \n",
    "cd /home/gpratt/projects/public_clip/analysis/public_clip_v4\n",
    "\"\"\")\n",
    "\n",
    "    for line in result_file:\n",
    "            line = line.strip()\n",
    "            sra_name = os.path.basename(line).split(\".\")[0]\n",
    "            cmd_list.append('fastq-dump --gzip %s' % (line))\n",
    "\n",
    "    for x,  line in enumerate(cmd_list):\n",
    "            out_file.write(\"cmd[{}]=\\\"{}\\\"\\n\".format(x, line))\n",
    "\n",
    "    out_file.write(\"eval ${cmd[$PBS_ARRAYID]}\\n\")\n"
   ]
  },
  {
   "cell_type": "code",
   "execution_count": null,
   "metadata": {
    "collapsed": true
   },
   "outputs": [],
   "source": []
  }
 ],
 "metadata": {
  "kernelspec": {
   "display_name": "Python 2",
   "language": "python",
   "name": "python2"
  },
  "language_info": {
   "codemirror_mode": {
    "name": "ipython",
    "version": 2
   },
   "file_extension": ".py",
   "mimetype": "text/x-python",
   "name": "python",
   "nbconvert_exporter": "python",
   "pygments_lexer": "ipython2",
   "version": "2.7.10"
  }
 },
 "nbformat": 4,
 "nbformat_minor": 0
}
