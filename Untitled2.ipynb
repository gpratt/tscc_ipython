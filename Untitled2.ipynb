{
 "cells": [
  {
   "cell_type": "code",
   "execution_count": 9,
   "metadata": {
    "collapsed": true
   },
   "outputs": [],
   "source": [
    "import gzip\n",
    "\n",
    "from Bio import SeqIO\n",
    "from collections import Counter"
   ]
  },
  {
   "cell_type": "code",
   "execution_count": 13,
   "metadata": {
    "collapsed": false
   },
   "outputs": [
    {
     "data": {
      "text/plain": [
       "[('ATTACTCG+TCAGAGCC', 6141092),\n",
       " ('GAGATTCC+ACGTCCTG', 77654),\n",
       " ('ATTACTCG+TNAGAGCC', 59677),\n",
       " ('ATTACTCG+ACGTCCTG', 50999),\n",
       " ('ATTACTCG+NCAGAGCC', 35828),\n",
       " ('CGGCTATG+TCAGAGCC', 34130),\n",
       " ('CGGCTATG+GCCTCTAT', 23259),\n",
       " ('ATTACTCG+TAAGAGCC', 22634),\n",
       " ('ATTACTCG+TCCGAGCC', 17877),\n",
       " ('ATTACTCG+TCAGCGCC', 17159)]"
      ]
     },
     "execution_count": 13,
     "metadata": {},
     "output_type": "execute_result"
    }
   ],
   "source": [
    "result = Counter()\n",
    "with gzip.open(\"/home/gpratt/scratch/ad-hoc/Undetermined_S0_L008_R1_001.G07.fastq.gz\") as handle:\n",
    "    for x, line in enumerate(handle):\n",
    "        if (x % 4) == 0:\n",
    "            barcode = line.strip().split(\":\")[-1]\n",
    "            result[barcode] += 1\n",
    "result.most_common(10)    "
   ]
  },
  {
   "cell_type": "code",
   "execution_count": 14,
   "metadata": {
    "collapsed": false
   },
   "outputs": [
    {
     "data": {
      "text/plain": [
       "[('ATTACTCG+TCAGAGCC', 16211096),\n",
       " ('GAGATTCC+ACGTCCTG', 187810),\n",
       " ('ATTACTCG+TNAGAGCC', 157826),\n",
       " ('ATTACTCG+ACGTCCTG', 101649),\n",
       " ('ATTACTCG+NCAGAGCC', 94427),\n",
       " ('CGGCTATG+TCAGAGCC', 87046),\n",
       " ('CGGCTATG+GCCTCTAT', 69263),\n",
       " ('ATTACTCG+TAAGAGCC', 59833),\n",
       " ('CTGAAGCT+GCCTCTAT', 47906),\n",
       " ('ATTACTCG+TCCGAGCC', 47099)]"
      ]
     },
     "execution_count": 14,
     "metadata": {},
     "output_type": "execute_result"
    }
   ],
   "source": [
    "result = Counter()\n",
    "with gzip.open(\"/home/gpratt/scratch/ad-hoc/Undetermined_S0_L008_R1_001.A03.fastq.gz\") as handle:\n",
    "    for x, line in enumerate(handle):\n",
    "        if (x % 4) == 0:\n",
    "            barcode = line.strip().split(\":\")[-1]\n",
    "            result[barcode] += 1\n",
    "result.most_common(10)    "
   ]
  },
  {
   "cell_type": "code",
   "execution_count": 17,
   "metadata": {
    "collapsed": false
   },
   "outputs": [
    {
     "data": {
      "text/plain": [
       "[('AAGCCT', 429275),\n",
       " ('GCCGGC', 337130),\n",
       " ('AGCGAC', 311919),\n",
       " ('AAAGCC', 290510),\n",
       " ('GACAGG', 244174),\n",
       " ('GCGGGG', 243004),\n",
       " ('ACAGGT', 222468),\n",
       " ('GCGGCG', 189078),\n",
       " ('ACGACG', 149694),\n",
       " ('AACGCT', 146582)]"
      ]
     },
     "execution_count": 17,
     "metadata": {},
     "output_type": "execute_result"
    }
   ],
   "source": [
    "result = Counter()\n",
    "with gzip.open(\"/projects/ps-yeolab/seqdata/igm-storage1.ucsd.edu/160817_K00180_0234_BHCTHMBBXX/Data/Fastq_lane3/ENCODE83_unk_704502_S9_L003_R1_001.fastq.gz\") as handle:\n",
    "    for x, line in enumerate(handle):\n",
    "        if (x % 4) == 1:\n",
    "            barcode = line.strip()[:6]\n",
    "            result[barcode] += 1\n",
    "result.most_common(10)    "
   ]
  },
  {
   "cell_type": "code",
   "execution_count": 23,
   "metadata": {
    "collapsed": false
   },
   "outputs": [
    {
     "data": {
      "text/plain": [
       "0.015173799073909578"
      ]
     },
     "execution_count": 23,
     "metadata": {},
     "output_type": "execute_result"
    }
   ],
   "source": [
    "429275. / 28290542 "
   ]
  },
  {
   "cell_type": "code",
   "execution_count": 24,
   "metadata": {
    "collapsed": false
   },
   "outputs": [
    {
     "data": {
      "text/plain": [
       "[('AAGCC', 505542),\n",
       " ('GCCGG', 385911),\n",
       " ('GCGGG', 328613),\n",
       " ('AGCGA', 322769),\n",
       " ('AAAGC', 307475),\n",
       " ('GACAG', 268386),\n",
       " ('ACAGG', 240403),\n",
       " ('GCGGC', 219854),\n",
       " ('GGGCC', 196514),\n",
       " ('ACGAC', 193098)]"
      ]
     },
     "execution_count": 24,
     "metadata": {},
     "output_type": "execute_result"
    }
   ],
   "source": [
    "result = Counter()\n",
    "with gzip.open(\"/projects/ps-yeolab/seqdata/igm-storage1.ucsd.edu/160817_K00180_0234_BHCTHMBBXX/Data/Fastq_lane3/ENCODE83_unk_704502_S9_L003_R1_001.fastq.gz\") as handle:\n",
    "    for x, line in enumerate(handle):\n",
    "        if (x % 4) == 1:\n",
    "            barcode = line.strip()[:5]\n",
    "            result[barcode] += 1\n",
    "result.most_common(10)    "
   ]
  },
  {
   "cell_type": "code",
   "execution_count": 22,
   "metadata": {
    "collapsed": false
   },
   "outputs": [
    {
     "data": {
      "text/plain": [
       "28290542"
      ]
     },
     "execution_count": 22,
     "metadata": {},
     "output_type": "execute_result"
    }
   ],
   "source": [
    "sum(result.values())"
   ]
  },
  {
   "cell_type": "code",
   "execution_count": null,
   "metadata": {
    "collapsed": true
   },
   "outputs": [],
   "source": [
    "ACAAGTT\n",
    "AAGCAAT\n",
    "GGATACNNNNT"
   ]
  },
  {
   "cell_type": "code",
   "execution_count": null,
   "metadata": {
    "collapsed": true
   },
   "outputs": [],
   "source": [
    "/projects/ps-yeolab/seqdata/igm-storage1.ucsd.edu/160817_K00180_0234_BHCTHMBBXX/Data/Fastq_lane3"
   ]
  },
  {
   "cell_type": "code",
   "execution_count": null,
   "metadata": {
    "collapsed": true
   },
   "outputs": [],
   "source": [
    " demux_paired_end.py --fastq_1 ENCODE83_unk_704502_S9_L003_R1_001.fastq.gz --fastq_2 ENCODE83_unk_704502_S9_L003_R2_001.fastq.gz -b /home/gpratt/projects/encode/scripts/barcodes/encode_barcodes/new_barcodes.txt --out_file_1 ~/scratch/ad-hoc/ENCODE83_unk_704502_S9_L003_R1_001.fastq.gz --out_file_2 ~/scratch/ad-hoc/ENCODE83_unk_704502_S9_L003_R2_001.fastq.gz --length 10 -m /projects/ps-yeolab3/encode/analysis/barcode_metrics/new_barcodes.txt"
   ]
  }
 ],
 "metadata": {
  "kernelspec": {
   "display_name": "Python 2",
   "language": "python",
   "name": "python2"
  },
  "language_info": {
   "codemirror_mode": {
    "name": "ipython",
    "version": 2
   },
   "file_extension": ".py",
   "mimetype": "text/x-python",
   "name": "python",
   "nbconvert_exporter": "python",
   "pygments_lexer": "ipython2",
   "version": "2.7.12"
  }
 },
 "nbformat": 4,
 "nbformat_minor": 0
}
