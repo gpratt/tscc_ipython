{
 "cells": [
  {
   "cell_type": "code",
   "execution_count": 47,
   "metadata": {
    "collapsed": true
   },
   "outputs": [],
   "source": [
    "import datetime\n",
    "import glob\n",
    "import functools\n",
    "import urllib2\n",
    "from collections import defaultdict\n",
    "\n",
    "import pandas as pd\n",
    "import json\n",
    "import gspread\n",
    "import pandas as pd\n",
    "import os\n",
    "from IPython.core.display import HTML\n",
    "from oauth2client.client import SignedJwtAssertionCredentials\n",
    "import numpy as np\n",
    "import shutil\n",
    "\n",
    "import boto"
   ]
  },
  {
   "cell_type": "code",
   "execution_count": 48,
   "metadata": {
    "collapsed": false
   },
   "outputs": [
    {
     "data": {
      "text/plain": [
       "u'207616352313-2f8roamtn52fs13qvgg6vap7qj18mjh0@developer.gserviceaccount.com'"
      ]
     },
     "execution_count": 48,
     "metadata": {},
     "output_type": "execute_result"
    }
   ],
   "source": [
    "json_key['client_email']"
   ]
  },
  {
   "cell_type": "code",
   "execution_count": 49,
   "metadata": {
    "collapsed": true
   },
   "outputs": [],
   "source": [
    "json_key = json.load(open(\"/home/gpratt/ipython_notebook/public clip-588adbc137f3.json\"))\n",
    "scope = ['https://spreadsheets.google.com/feeds']\n",
    "\n",
    "credentials = SignedJwtAssertionCredentials(json_key['client_email'], json_key['private_key'], scope)\n",
    "gc = gspread.authorize(credentials)\n",
    "\n",
    "sht1 = gc.open_by_url(\"https://docs.google.com/spreadsheets/d/1v2f1mIcxGVa0sKHjnT9fvu9Wf-ckDu-tYQxmrwPDPiY/edit#gid=0\")\n",
    "ws = sht1.worksheet(\"Sheet1\")\n",
    "list_of_lists = ws.get_all_values()\n",
    "manifest = pd.DataFrame(list_of_lists, columns=['paper_name', 'people'])"
   ]
  },
  {
   "cell_type": "code",
   "execution_count": 50,
   "metadata": {
    "collapsed": false
   },
   "outputs": [],
   "source": [
    "manifest.people = manifest.people.apply(lambda x: x.split(\",\"))"
   ]
  },
  {
   "cell_type": "code",
   "execution_count": 51,
   "metadata": {
    "collapsed": false
   },
   "outputs": [],
   "source": [
    "person_paper = defaultdict(list)\n",
    "for name, row in manifest.iterrows():\n",
    "    for person in row.people:\n",
    "        person_paper[person.strip()].append(row.paper_name)"
   ]
  },
  {
   "cell_type": "code",
   "execution_count": 54,
   "metadata": {
    "collapsed": false
   },
   "outputs": [],
   "source": [
    "with open(\"/home/gpratt/Dropbox/people.txt\", 'w') as out_file:\n",
    "    for name, row in person_paper.iteritems():\n",
    "        result = (\"\\t\".join([name] + row) + \"\\n\").encode('utf8')\n",
    "        out_file.write(result)"
   ]
  },
  {
   "cell_type": "code",
   "execution_count": null,
   "metadata": {
    "collapsed": true
   },
   "outputs": [],
   "source": []
  }
 ],
 "metadata": {
  "kernelspec": {
   "display_name": "Python 2",
   "language": "python",
   "name": "python2"
  },
  "language_info": {
   "codemirror_mode": {
    "name": "ipython",
    "version": 2
   },
   "file_extension": ".py",
   "mimetype": "text/x-python",
   "name": "python",
   "nbconvert_exporter": "python",
   "pygments_lexer": "ipython2",
   "version": "2.7.12"
  }
 },
 "nbformat": 4,
 "nbformat_minor": 0
}
