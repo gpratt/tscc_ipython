{
 "cells": [
  {
   "cell_type": "code",
   "execution_count": 542,
   "metadata": {
    "collapsed": false
   },
   "outputs": [],
   "source": [
    "import pandas as pd\n",
    "import pybedtools\n",
    "import numpy as np\n",
    "from pybedtools import featurefuncs"
   ]
  },
  {
   "cell_type": "code",
   "execution_count": 543,
   "metadata": {
    "collapsed": true
   },
   "outputs": [],
   "source": [
    "annotated_exons = pybedtools.BedTool(\"/home/gpratt/projects/cryptic_exons/analysis/ad-hoc/gencode.v17.annotation.exons.gtf\").sort().saveas()\n",
    "annotated_exons_bed = annotated_exons.each(featurefuncs.gff2bed).saveas()\n",
    "\n",
    "#annotated_exons = pybedtools.BedTool(\"/home/gpratt/clipper/clipper/data/regions/hg19_exons.bed\").sort().saveas()\n",
    "annotated_genes = pybedtools.BedTool(\"/home/gpratt/clipper/clipper/data/regions/hg19_genes.bed\")"
   ]
  },
  {
   "cell_type": "code",
   "execution_count": 544,
   "metadata": {
    "collapsed": false
   },
   "outputs": [],
   "source": [
    "results = pd.concat({\"ctrl\": pd.read_table(\"/home/gpratt/projects/cryptic_exons/analysis/ling_et_al_v1/SRR2002765_1.polyATrim.adapterTrim.rmRep.bamSJ.out.tab\",\n",
    "                  header=None, names=['chrom', 'start', 'stop', 'strand', 'intron_motif', 'annotated', 'unique_reads',\n",
    "                                      'multi_reads', 'max_overhang']),\n",
    "\"kd\": pd.read_table(\"/home/gpratt/projects/cryptic_exons/analysis/ling_et_al_v1/SRR2002766_1.polyATrim.adapterTrim.rmRep.bamSJ.out.tab\",\n",
    "                    header=None, names=['chrom', 'start', 'stop', 'strand', 'intron_motif', 'annotated', 'unique_reads',\n",
    "                                      'multi_reads', 'max_overhang'])}, names=['condition', 'sj'])\n"
   ]
  },
  {
   "cell_type": "code",
   "execution_count": 631,
   "metadata": {
    "collapsed": true
   },
   "outputs": [],
   "source": [
    "two_pass =  pd.read_table(\"/home/gpratt/projects/cryptic_exons/analysis/ad-hoc/SRR2096921_1.polyATrim.adapterTrim.rmRep.bamSJ.out.tab\",\n",
    "                    header=None, names=['chrom', 'start', 'stop', 'strand', 'intron_motif', 'annotated', 'unique_reads',\n",
    "                                      'multi_reads', 'max_overhang'])"
   ]
  },
  {
   "cell_type": "markdown",
   "metadata": {},
   "source": [
    "#Identify all possible exons given constraints\n",
    "1. Exons are no more than max_exon_size away from each other \n",
    "2. They are on the same strand"
   ]
  },
  {
   "cell_type": "code",
   "execution_count": 675,
   "metadata": {
    "collapsed": true
   },
   "outputs": [],
   "source": [
    "results['total_reads'] = results.unique_reads + results.multi_reads \n",
    "ctrl_unfiltered = results.ix['kd']\n",
    "\n"
   ]
  },
  {
   "cell_type": "code",
   "execution_count": 676,
   "metadata": {
    "collapsed": true
   },
   "outputs": [],
   "source": [
    "#Data filtering\n",
    "\n",
    "#Try to get a bit more confidence in the splice junctions\n",
    "ctrl = ctrl_unfiltered[ctrl_unfiltered.total_reads  >= 5]\n",
    "\n",
    "#explicily not looking for unique reads, I lose a bunch of real splice junctions that way"
   ]
  },
  {
   "cell_type": "code",
   "execution_count": 677,
   "metadata": {
    "collapsed": false
   },
   "outputs": [],
   "source": [
    "ctrl_pos = ctrl[ctrl.strand == 1]\n",
    "ctrl_neg = ctrl[ctrl.strand == 2]\n"
   ]
  },
  {
   "cell_type": "code",
   "execution_count": 718,
   "metadata": {
    "collapsed": false
   },
   "outputs": [],
   "source": [
    "#chr12:117,215,631-117,227,208\n",
    "#chr14:0-\n",
    "#chr2:242,608,004-242,610,160\n",
    "start = 242608004\n",
    "stop = 242610160\n",
    "\n"
   ]
  },
  {
   "cell_type": "code",
   "execution_count": 719,
   "metadata": {
    "collapsed": false
   },
   "outputs": [
    {
     "data": {
      "text/html": [
       "<div>\n",
       "<table border=\"1\" class=\"dataframe\">\n",
       "  <thead>\n",
       "    <tr style=\"text-align: right;\">\n",
       "      <th></th>\n",
       "      <th>chrom</th>\n",
       "      <th>start</th>\n",
       "      <th>stop</th>\n",
       "      <th>strand</th>\n",
       "      <th>intron_motif</th>\n",
       "      <th>annotated</th>\n",
       "      <th>unique_reads</th>\n",
       "      <th>multi_reads</th>\n",
       "      <th>max_overhang</th>\n",
       "      <th>total_reads</th>\n",
       "    </tr>\n",
       "    <tr>\n",
       "      <th>sj</th>\n",
       "      <th></th>\n",
       "      <th></th>\n",
       "      <th></th>\n",
       "      <th></th>\n",
       "      <th></th>\n",
       "      <th></th>\n",
       "      <th></th>\n",
       "      <th></th>\n",
       "      <th></th>\n",
       "      <th></th>\n",
       "    </tr>\n",
       "  </thead>\n",
       "  <tbody>\n",
       "    <tr>\n",
       "      <th>53621</th>\n",
       "      <td>chr2</td>\n",
       "      <td>242608101</td>\n",
       "      <td>242608196</td>\n",
       "      <td>1</td>\n",
       "      <td>1</td>\n",
       "      <td>0</td>\n",
       "      <td>7</td>\n",
       "      <td>0</td>\n",
       "      <td>50</td>\n",
       "      <td>7</td>\n",
       "    </tr>\n",
       "    <tr>\n",
       "      <th>53622</th>\n",
       "      <td>chr2</td>\n",
       "      <td>242608101</td>\n",
       "      <td>242608289</td>\n",
       "      <td>1</td>\n",
       "      <td>1</td>\n",
       "      <td>0</td>\n",
       "      <td>4</td>\n",
       "      <td>0</td>\n",
       "      <td>39</td>\n",
       "      <td>4</td>\n",
       "    </tr>\n",
       "    <tr>\n",
       "      <th>53623</th>\n",
       "      <td>chr2</td>\n",
       "      <td>242608101</td>\n",
       "      <td>242610140</td>\n",
       "      <td>1</td>\n",
       "      <td>1</td>\n",
       "      <td>1</td>\n",
       "      <td>40</td>\n",
       "      <td>0</td>\n",
       "      <td>49</td>\n",
       "      <td>40</td>\n",
       "    </tr>\n",
       "    <tr>\n",
       "      <th>53624</th>\n",
       "      <td>chr2</td>\n",
       "      <td>242608401</td>\n",
       "      <td>242610140</td>\n",
       "      <td>1</td>\n",
       "      <td>1</td>\n",
       "      <td>0</td>\n",
       "      <td>16</td>\n",
       "      <td>0</td>\n",
       "      <td>46</td>\n",
       "      <td>16</td>\n",
       "    </tr>\n",
       "    <tr>\n",
       "      <th>53625</th>\n",
       "      <td>chr2</td>\n",
       "      <td>242609278</td>\n",
       "      <td>242610140</td>\n",
       "      <td>1</td>\n",
       "      <td>1</td>\n",
       "      <td>0</td>\n",
       "      <td>4</td>\n",
       "      <td>0</td>\n",
       "      <td>42</td>\n",
       "      <td>4</td>\n",
       "    </tr>\n",
       "  </tbody>\n",
       "</table>\n",
       "</div>"
      ],
      "text/plain": [
       "      chrom      start       stop  strand  intron_motif  annotated  \\\n",
       "sj                                                                   \n",
       "53621  chr2  242608101  242608196       1             1          0   \n",
       "53622  chr2  242608101  242608289       1             1          0   \n",
       "53623  chr2  242608101  242610140       1             1          1   \n",
       "53624  chr2  242608401  242610140       1             1          0   \n",
       "53625  chr2  242609278  242610140       1             1          0   \n",
       "\n",
       "       unique_reads  multi_reads  max_overhang  total_reads  \n",
       "sj                                                           \n",
       "53621             7            0            50            7  \n",
       "53622             4            0            39            4  \n",
       "53623            40            0            49           40  \n",
       "53624            16            0            46           16  \n",
       "53625             4            0            42            4  "
      ]
     },
     "execution_count": 719,
     "metadata": {},
     "output_type": "execute_result"
    }
   ],
   "source": [
    "ctrl_unfiltered[(ctrl_unfiltered.start > start) & (ctrl_unfiltered.stop < stop)]"
   ]
  },
  {
   "cell_type": "code",
   "execution_count": 720,
   "metadata": {
    "collapsed": false
   },
   "outputs": [
    {
     "data": {
      "text/html": [
       "<div>\n",
       "<table border=\"1\" class=\"dataframe\">\n",
       "  <thead>\n",
       "    <tr style=\"text-align: right;\">\n",
       "      <th></th>\n",
       "      <th>chrom</th>\n",
       "      <th>start</th>\n",
       "      <th>stop</th>\n",
       "      <th>strand</th>\n",
       "      <th>intron_motif</th>\n",
       "      <th>annotated</th>\n",
       "      <th>unique_reads</th>\n",
       "      <th>multi_reads</th>\n",
       "      <th>max_overhang</th>\n",
       "      <th>total_reads</th>\n",
       "    </tr>\n",
       "    <tr>\n",
       "      <th>sj</th>\n",
       "      <th></th>\n",
       "      <th></th>\n",
       "      <th></th>\n",
       "      <th></th>\n",
       "      <th></th>\n",
       "      <th></th>\n",
       "      <th></th>\n",
       "      <th></th>\n",
       "      <th></th>\n",
       "      <th></th>\n",
       "    </tr>\n",
       "  </thead>\n",
       "  <tbody>\n",
       "    <tr>\n",
       "      <th>53621</th>\n",
       "      <td>chr2</td>\n",
       "      <td>242608101</td>\n",
       "      <td>242608196</td>\n",
       "      <td>1</td>\n",
       "      <td>1</td>\n",
       "      <td>0</td>\n",
       "      <td>7</td>\n",
       "      <td>0</td>\n",
       "      <td>50</td>\n",
       "      <td>7</td>\n",
       "    </tr>\n",
       "    <tr>\n",
       "      <th>53623</th>\n",
       "      <td>chr2</td>\n",
       "      <td>242608101</td>\n",
       "      <td>242610140</td>\n",
       "      <td>1</td>\n",
       "      <td>1</td>\n",
       "      <td>1</td>\n",
       "      <td>40</td>\n",
       "      <td>0</td>\n",
       "      <td>49</td>\n",
       "      <td>40</td>\n",
       "    </tr>\n",
       "    <tr>\n",
       "      <th>53624</th>\n",
       "      <td>chr2</td>\n",
       "      <td>242608401</td>\n",
       "      <td>242610140</td>\n",
       "      <td>1</td>\n",
       "      <td>1</td>\n",
       "      <td>0</td>\n",
       "      <td>16</td>\n",
       "      <td>0</td>\n",
       "      <td>46</td>\n",
       "      <td>16</td>\n",
       "    </tr>\n",
       "  </tbody>\n",
       "</table>\n",
       "</div>"
      ],
      "text/plain": [
       "      chrom      start       stop  strand  intron_motif  annotated  \\\n",
       "sj                                                                   \n",
       "53621  chr2  242608101  242608196       1             1          0   \n",
       "53623  chr2  242608101  242610140       1             1          1   \n",
       "53624  chr2  242608401  242610140       1             1          0   \n",
       "\n",
       "       unique_reads  multi_reads  max_overhang  total_reads  \n",
       "sj                                                           \n",
       "53621             7            0            50            7  \n",
       "53623            40            0            49           40  \n",
       "53624            16            0            46           16  "
      ]
     },
     "execution_count": 720,
     "metadata": {},
     "output_type": "execute_result"
    }
   ],
   "source": [
    "ctrl[(ctrl.start > start) & (ctrl.stop < stop)]"
   ]
  },
  {
   "cell_type": "code",
   "execution_count": 693,
   "metadata": {
    "collapsed": false
   },
   "outputs": [],
   "source": [
    "exons = set([])\n",
    "chroms = set(ctrl.chrom)\n",
    "#chroms = [\"chr14\"]\n",
    "for chrom in chroms:\n",
    "    #Positive Strand\n",
    "    ctrl_pos_chrom = ctrl_pos[ctrl_pos.chrom == chrom]\n",
    "\n",
    "    result = {}\n",
    "    for name, row in ctrl_pos_chrom.iterrows():\n",
    "        possible_junctions = row.stop - ctrl_pos_chrom.start\n",
    "        possible_junctions = possible_junctions[(0 > possible_junctions) & (np.abs(possible_junctions) < max_exon_size)]\n",
    "        result[name] = possible_junctions\n",
    "    \n",
    "    for x, (exon_start, possible_ends) in enumerate(result.items()):\n",
    "        if len(possible_ends) == 0:\n",
    "            continue\n",
    "\n",
    "        possible_ends = possible_ends.apply(np.abs)\n",
    "        shortest_possible_exon = possible_ends.min()\n",
    "\n",
    "        key = possible_ends[possible_ends == shortest_possible_exon].index[0]\n",
    "        start = ctrl_pos_chrom.ix[exon_start].stop\n",
    "        stop = ctrl_pos_chrom.ix[key].start - 1\n",
    "        if stop < start:\n",
    "            continue\n",
    "        exons.add((chrom, start,stop, \"foo\", \"0\",\"+\"))\n",
    "\n",
    "    #Negative Strand\n",
    "    ctrl_neg_chrom = ctrl_neg[ctrl_neg.chrom == chrom]\n",
    "\n",
    "    result = {}\n",
    "    for start_id, row in ctrl_neg_chrom.iterrows():\n",
    "        possible_junctions = row.start - ctrl_neg_chrom.stop\n",
    "        possible_junctions = possible_junctions[(0 < possible_junctions) & (np.abs(possible_junctions) < max_exon_size)]\n",
    "        result[start_id] = possible_junctions\n",
    "\n",
    "    for x, (exon_start, possible_ends) in enumerate(result.items()):\n",
    "        if len(possible_ends) == 0:\n",
    "            continue\n",
    "\n",
    "        possible_ends = possible_ends.apply(np.abs)\n",
    "        shortest_possible_exon = possible_ends.min()\n",
    "\n",
    "        key = possible_ends[possible_ends == shortest_possible_exon].index[0]\n",
    "        stop = ctrl_neg_chrom.ix[exon_start].start - 1\n",
    "        start = ctrl_neg_chrom.ix[key].stop\n",
    "        if stop < start:\n",
    "            continue\n",
    "        exons.add((chrom, start,stop, \"foo\", \"0\",\"-\"))\n",
    "\n",
    "    \n",
    "    \n",
    "exons = pybedtools.BedTool([pybedtools.create_interval_from_list(list(exon)) for exon in exons]).sort().saveas()"
   ]
  },
  {
   "cell_type": "code",
   "execution_count": 694,
   "metadata": {
    "collapsed": true
   },
   "outputs": [],
   "source": [
    "#only get exons in known genes\n",
    "gene_exons = exons.intersect(annotated_genes, s=True, f=1.0, u=True).saveas()"
   ]
  },
  {
   "cell_type": "code",
   "execution_count": 695,
   "metadata": {
    "collapsed": false
   },
   "outputs": [
    {
     "data": {
      "text/plain": [
       "<BedTool(/home/gpratt/Dropbox/cryptic_splicing/data/splice_juncions/SRR2002766_1.bed)>"
      ]
     },
     "execution_count": 695,
     "metadata": {},
     "output_type": "execute_result"
    }
   ],
   "source": [
    "gene_exons.saveas(\"/home/gpratt/Dropbox/cryptic_splicing/data/splice_juncions/SRR2002766_1.bed\")"
   ]
  },
  {
   "cell_type": "code",
   "execution_count": 696,
   "metadata": {
    "collapsed": false
   },
   "outputs": [
    {
     "data": {
      "text/plain": [
       "(120826, 120370)"
      ]
     },
     "execution_count": 696,
     "metadata": {},
     "output_type": "execute_result"
    }
   ],
   "source": [
    "len(exons), len(gene_exons)\n",
    "#Doesn't remove too many exons, but enough to take care of some false positives"
   ]
  },
  {
   "cell_type": "code",
   "execution_count": 697,
   "metadata": {
    "collapsed": false
   },
   "outputs": [],
   "source": [
    "#only get cryptic exons that don't overlap known exons\n",
    "#this should really be called cryptic exons\n",
    "kd_unannotated_exons = gene_exons.intersect(annotated_exons, s=True, v=True).saveas()\n",
    "kd_possible_annotated_exons = gene_exons.intersect(annotated_exons, u=True, s=True).saveas()\n",
    "\n",
    "kd_annotated_exons = kd_possible_annotated_exons.intersect(annotated_exons, s=True, u=True, f=1.0, r=True, sorted=True).saveas()\n",
    "kd_not_annotated_exons = kd_possible_annotated_exons.intersect(annotated_exons, s=True, v=True, f=1.0, r=True, sorted=True).saveas()"
   ]
  },
  {
   "cell_type": "code",
   "execution_count": null,
   "metadata": {
    "collapsed": false
   },
   "outputs": [],
   "source": [
    "exons.filter(lambda x: x.stop == 242608401).saveas().head()"
   ]
  },
  {
   "cell_type": "code",
   "execution_count": 698,
   "metadata": {
    "collapsed": false
   },
   "outputs": [
    {
     "data": {
      "text/plain": [
       "(1192403, 119709, 114145, 5564, 661)"
      ]
     },
     "execution_count": 698,
     "metadata": {},
     "output_type": "execute_result"
    }
   ],
   "source": [
    "#Total number of exons, annotated and detected and unannotated and detected using my method.  \n",
    "\n",
    "len(annotated_exons), len(kd_possible_annotated_exons), len(kd_annotated_exons), len(kd_not_annotated_exons), len(kd_unannotated_exons)"
   ]
  },
  {
   "cell_type": "code",
   "execution_count": 699,
   "metadata": {
    "collapsed": false
   },
   "outputs": [
    {
     "data": {
      "text/plain": [
       "<BedTool(/tmp/pybedtools.GVRbtC.tmp)>"
      ]
     },
     "execution_count": 699,
     "metadata": {},
     "output_type": "execute_result"
    }
   ],
   "source": [
    "kd_not_annotated_exons"
   ]
  },
  {
   "cell_type": "markdown",
   "metadata": {},
   "source": [
    "Mostly fixed negative strand exon idenitifcation bug, but there is a subtle one still there, could actually just be a splicing error, should keep digging."
   ]
  },
  {
   "cell_type": "code",
   "execution_count": 700,
   "metadata": {
    "collapsed": false
   },
   "outputs": [
    {
     "data": {
      "text/plain": [
       "57512"
      ]
     },
     "execution_count": 700,
     "metadata": {},
     "output_type": "execute_result"
    }
   ],
   "source": [
    "#Number of exons on chr 1 on positive strand\n",
    "len(annotated_exons.filter(lambda x: x.chrom == \"chr1\" and x.strand == \"+\"))"
   ]
  },
  {
   "cell_type": "markdown",
   "metadata": {},
   "source": [
    "Looks like I might have a high false negative rate.  Let me filter out false positives a bit more and I'll figure out what I'm missing.\n",
    "\n",
    "Notes on Progress:\n",
    "1. Taking next splice junction isn't a bad strat, identifies 6365 / ??? expressed exons\n",
    "2. Identified False positives from junction spanning reads spanning two genes (fix by intersect bed making sure the exon is within a gene\n",
    "3. Identified False positives where one or two reads were leading to stuff that didn't quite look like exons.  Filter via hurestrics?  \n",
    "\n",
    "I need a way to assess my false positive and negative rate.  Read bowtie paper for this?  Figure out how many annotated exons are expressed vs how many I identify?"
   ]
  },
  {
   "cell_type": "markdown",
   "metadata": {},
   "source": [
    "#Odd things:\n",
    "This should have been filtered: \n",
    "\n",
    "1. Filter splice sites in genes without exons.  Need to dig into gencode tags for this one.  Might just create a list of all the RPs and remove them, I think they are the main culprate for now.\n",
    "* chr1\t353809\t353865\n",
    "* chr1\t355353\t355386\n",
    " \n",
    "2. Filer odd short jumps.  Can do this by only taking half annotated splice junctions.  \n",
    "\n",
    "3. looks wrong, don't have a good patterns\n",
    "\n",
    "chr1\t2324708\t2324794\tfoo\t0\t+ --double splicing event, might want to handle this eventually\n",
    "chr1\t46466630\t46466651 -- looks real just real short, possibly noise\n",
    "chr1\t100474843\t100474879 -- looks really short, just ugly\n",
    "chr1\t144048708\t144048769 -- really short\n",
    "chr1\t156165803\t156165964 -- major mis-splicing\n",
    "chr1\t196644579\t196644659 -- doesn't look super real, not enough reads spanning splice junctions\n",
    "chr1\t179013907\t179013976 -- multiple 5' splice sites, what should I do about this?\n",
    "chr1\t203803064\t203803230 -- doesn't look super real, come back to this\n",
    "chr1\t203803064\t203803230 -- doesn't look super real, come back to this\n",
    "chr1\t225898204\t225898270 -- looks real, but not really in an annotated, gene, splice sites don't reconstruct well\n",
    "chr1\t225898204\t225898270 -- looks real, but not really in an annotated, gene, splice sites don't reconstruct well\n",
    "chr1\t100474843\t100474879 -- lots of noise, shouldn't keep.  Need to figure out how to remove\n",
    " \n",
    " \n",
    "chr1\t109438938\t109439053 -- bound by TDP43\n",
    "chr1\t154214175\t154214273 -- slightly bound by TDP-43\n",
    " chr1\t213299108\t213299186 -- bound nicely by TDP-43\n",
    "\n",
    "#Random Thoughts\n",
    "Argn has some crazy splicing patterns\n",
    "1. chr1\t980267\t980367\tfoo\t0\t+\n",
    "2. chr1\t980271\t980367\tfoo\t0\t+\n",
    "3. chr1\t980355\t980367\tfoo\t0\t+\n",
    "\n",
    "#Possible Next options.\n",
    "1. Try to figure out if I've got false negatives\n",
    "1. Keep filtering\n",
    "3. Add in neagative strand + rest of the chromosomes.  \n",
    "4. Think ahead even more"
   ]
  },
  {
   "cell_type": "markdown",
   "metadata": {},
   "source": [
    "#Assessing False Negatives\n",
    "General Stragety will be to look at featurecounts counts, see what things are covered (and have splice junctions) that I should know about"
   ]
  },
  {
   "cell_type": "code",
   "execution_count": 701,
   "metadata": {
    "collapsed": false
   },
   "outputs": [],
   "source": [
    "all_exons = pd.read_table(\"/home/gpratt/projects/cryptic_exons/analysis/ling_et_al_v1/hg19_counts.txt\", skiprows=1)"
   ]
  },
  {
   "cell_type": "code",
   "execution_count": 702,
   "metadata": {
    "collapsed": false
   },
   "outputs": [],
   "source": [
    "expressed_exons = all_exons[all_exons['SRR2002766_1.polyATrim.adapterTrim.rmRep.bam'] != 0]"
   ]
  },
  {
   "cell_type": "code",
   "execution_count": 703,
   "metadata": {
    "collapsed": false
   },
   "outputs": [],
   "source": [
    "expressed_exons_chr1 = expressed_exons[(expressed_exons.Chr == \"chr1\") & (expressed_exons.Strand == \"+\")]"
   ]
  },
  {
   "cell_type": "code",
   "execution_count": 704,
   "metadata": {
    "collapsed": false
   },
   "outputs": [],
   "source": [
    "all_exons_chr1 = exon_expression[(all_exons.Chr == \"chr1\") & (all_exons.Strand == \"+\")]"
   ]
  },
  {
   "cell_type": "code",
   "execution_count": 705,
   "metadata": {
    "collapsed": false
   },
   "outputs": [
    {
     "name": "stdout",
     "output_type": "stream",
     "text": [
      "57512 45637\n"
     ]
    }
   ],
   "source": [
    "#Number of exons on chr1 and the expressed exons on chr1\n",
    "print len(all_exons_chr1), len(expressed_exons_chr1)"
   ]
  },
  {
   "cell_type": "markdown",
   "metadata": {},
   "source": [
    "#Get the exons I didn't detect with my algorithm"
   ]
  },
  {
   "cell_type": "code",
   "execution_count": 706,
   "metadata": {
    "collapsed": false
   },
   "outputs": [],
   "source": [
    "expressed_exons_chr1_bed = []\n",
    "for name, row in expressed_exons_chr1.iterrows():\n",
    "    expressed_exons_chr1_bed.append(pybedtools.create_interval_from_list([row.Chr, \n",
    "                                          row.Start, \n",
    "                                          row.End, \n",
    "                                          row.Geneid, \n",
    "                                          row['SRR2002766_1.polyATrim.adapterTrim.rmRep.bam'], \n",
    "                                          row.Strand]))\n",
    "expressed_exons_chr1_bed = pybedtools.BedTool(expressed_exons_chr1_bed)"
   ]
  },
  {
   "cell_type": "markdown",
   "metadata": {},
   "source": [
    "chr1\t321032\t321290\tENSG00000237094.6"
   ]
  },
  {
   "cell_type": "code",
   "execution_count": 707,
   "metadata": {
    "collapsed": false
   },
   "outputs": [
    {
     "name": "stdout",
     "output_type": "stream",
     "text": [
      "chr1\t11869\t12227\tENSG00000223972.4\t18\t+\n",
      " chr1\t12613\t12721\tENSG00000223972.4\t5\t+\n",
      " chr1\t13221\t14409\tENSG00000223972.4\t115\t+\n",
      " chr1\t11872\t12227\tENSG00000223972.4\t18\t+\n",
      " chr1\t12613\t12721\tENSG00000223972.4\t5\t+\n",
      " chr1\t13225\t14412\tENSG00000223972.4\t125\t+\n",
      " chr1\t11874\t12227\tENSG00000223972.4\t18\t+\n",
      " chr1\t12595\t12721\tENSG00000223972.4\t5\t+\n",
      " chr1\t13403\t13655\tENSG00000223972.4\t30\t+\n",
      " chr1\t13661\t14409\tENSG00000223972.4\t84\t+\n",
      " chr1\t12010\t12057\tENSG00000223972.4\t11\t+\n",
      " chr1\t12179\t12227\tENSG00000223972.4\t3\t+\n",
      " chr1\t12613\t12697\tENSG00000223972.4\t4\t+\n",
      " chr1\t12975\t13052\tENSG00000223972.4\t3\t+\n",
      " chr1\t13221\t13374\tENSG00000223972.4\t15\t+\n",
      " chr1\t13453\t13670\tENSG00000223972.4\t27\t+\n",
      " chr1\t29554\t30039\tENSG00000243485.1\t27\t+\n",
      " chr1\t30267\t30667\tENSG00000243485.1\t1\t+\n",
      " chr1\t53049\t53067\tENSG00000268020.1\t1\t+\n",
      " chr1\t131025\t134836\tENSG00000233750.3\t201\t+\n",
      " chr1\t160446\t160690\tENSG00000241599.1\t1\t+\n",
      " chr1\t317720\t317781\tENSG00000237094.6\t18\t+\n",
      " chr1\t324439\t324873\tENSG00000237094.6\t93\t+\n",
      " chr1\t320162\t320653\tENSG00000237094.6\t41\t+\n",
      " chr1\t320881\t320938\tENSG00000237094.6\t40\t+\n",
      " chr1\t320162\t320653\tENSG00000237094.6\t41\t+\n",
      " chr1\t324439\t324461\tENSG00000237094.6\t22\t+\n",
      " chr1\t320335\t320653\tENSG00000237094.6\t34\t+\n",
      " chr1\t320881\t320938\tENSG00000237094.6\t40\t+\n",
      " chr1\t320881\t320938\tENSG00000237094.6\t40\t+\n",
      " chr1\t334129\t334297\tENSG00000237094.6\t104\t+\n",
      " chr1\t342392\t342806\tENSG00000237094.6\t23\t+\n",
      " chr1\t322672\t323073\tENSG00000237094.6\t57\t+\n",
      " chr1\t324751\t324955\tENSG00000237094.6\t84\t+\n",
      " chr1\t323861\t324060\tENSG00000237094.6\t9\t+\n",
      " chr1\t334129\t334505\tENSG00000237094.6\t142\t+\n",
      " chr1\t324756\t326514\tENSG00000237094.6\t333\t+\n",
      " chr1\t327552\t328453\tENSG00000237094.6\t93\t+\n",
      " chr1\t329784\t329976\tENSG00000237094.6\t19\t+\n",
      " chr1\t334129\t334271\tENSG00000237094.6\t92\t+\n",
      " chr1\t334129\t334297\tENSG00000237094.6\t104\t+\n",
      " chr1\t446014\t446155\tENSG00000237094.6\t13\t+\n",
      " chr1\t439365\t439568\tENSG00000237094.6\t1\t+\n",
      " chr1\t446014\t446193\tENSG00000237094.6\t16\t+\n",
      " chr1\t453645\t453722\tENSG00000237094.6\t10\t+\n",
      " chr1\t450887\t451086\tENSG00000237094.6\t2\t+\n",
      " chr1\t453645\t453942\tENSG00000237094.6\t29\t+\n",
      " chr1\t453217\t453318\tENSG00000237094.6\t2\t+\n",
      " chr1\t453645\t453948\tENSG00000237094.6\t29\t+\n",
      " chr1\t326096\t326569\tENSG00000250575.1\t73\t+\n",
      " chr1\t327348\t328112\tENSG00000250575.1\t53\t+\n",
      " chr1\t334126\t334305\tENSG00000224813.2\t106\t+\n",
      " chr1\t367640\t368634\tENSG00000235249.1\t28\t+\n",
      " chr1\t461154\t461288\tENSG00000236743.1\t10\t+\n",
      " chr1\t461751\t461954\tENSG00000236743.1\t20\t+\n",
      " chr1\t470971\t471355\tENSG00000236679.2\t64\t+\n",
      " chr1\t529615\t530148\tENSG00000235146.2\t10\t+\n",
      " chr1\t529615\t529954\tENSG00000235146.2\t10\t+\n",
      " chr1\t564442\t564813\tENSG00000225972.1\t240\t+\n",
      " chr1\t565020\t566063\tENSG00000225630.1\t1137\t+\n",
      " chr1\t566454\t567996\tENSG00000237973.1\t34384\t+\n",
      " chr1\t568137\t568818\tENSG00000229344.1\t218\t+\n",
      " chr1\t568915\t569121\tENSG00000240409.1\t18\t+\n",
      " chr1\t569076\t569756\tENSG00000248527.1\t705\t+\n",
      " chr1\t569756\t570302\tENSG00000198744.5\t2945\t+\n",
      " chr1\t610222\t610645\tENSG00000268663.1\t3\t+\n",
      " chr1\t657472\t659740\tENSG00000229376.3\t123\t+\n",
      " chr1\t660098\t660283\tENSG00000229376.3\t5\t+\n",
      " chr1\t696291\t696534\tENSG00000229905.1\t15\t+\n",
      " chr1\t697158\t697369\tENSG00000229905.1\t5\t+\n",
      " chr1\t714162\t714472\tENSG00000237491.3\t29\t+\n",
      " chr1\t717317\t717571\tENSG00000237491.3\t40\t+\n",
      " chr1\t714310\t714472\tENSG00000237491.3\t26\t+\n",
      " chr1\t717317\t717423\tENSG00000237491.3\t25\t+\n",
      " chr1\t718491\t718743\tENSG00000237491.3\t37\t+\n",
      " chr1\t719750\t720035\tENSG00000237491.3\t22\t+\n",
      " chr1\t714436\t714472\tENSG00000237491.3\t17\t+\n",
      " chr1\t739299\t739602\tENSG00000237491.3\t11\t+\n",
      " chr1\t740156\t740255\tENSG00000237491.3\t7\t+\n",
      " chr1\t717325\t717516\tENSG00000237491.3\t30\t+\n",
      " chr1\t719750\t720070\tENSG00000237491.3\t23\t+\n",
      " chr1\t719750\t720139\tENSG00000237491.3\t23\t+\n",
      " chr1\t719750\t720357\tENSG00000237491.3\t31\t+\n",
      " chr1\t719750\t719873\tENSG00000237491.3\t12\t+\n",
      " chr1\t721773\t722246\tENSG00000237491.3\t24\t+\n",
      " chr1\t719750\t719873\tENSG00000237491.3\t12\t+\n",
      " chr1\t730850\t730893\tENSG00000237491.3\t2\t+\n",
      " chr1\t719750\t719873\tENSG00000237491.3\t12\t+\n",
      " chr1\t736987\t737256\tENSG00000237491.3\t8\t+\n",
      " chr1\t719750\t719873\tENSG00000237491.3\t12\t+\n",
      " chr1\t728262\t728421\tENSG00000237491.3\t2\t+\n",
      " chr1\t730850\t730962\tENSG00000237491.3\t3\t+\n",
      " chr1\t739331\t739602\tENSG00000237491.3\t11\t+\n",
      " chr1\t740156\t740212\tENSG00000237491.3\t5\t+\n",
      " chr1\t719750\t719873\tENSG00000237491.3\t12\t+\n",
      " chr1\t738947\t739047\tENSG00000237491.3\t3\t+\n",
      " chr1\t739299\t739602\tENSG00000237491.3\t11\t+\n",
      " chr1\t740156\t740507\tENSG00000237491.3\t20\t+\n",
      " chr1\t719750\t719873\tENSG00000237491.3\t12\t+\n",
      " chr1\t739299\t739602\tENSG00000237491.3\t11\t+\n",
      " "
     ]
    }
   ],
   "source": [
    "expressed_exons_chr1_bed.intersect(kd_annotated_exons, v=True).head(n=100)"
   ]
  },
  {
   "cell_type": "markdown",
   "metadata": {},
   "source": [
    "Ok, so it looks like I'm not detecting a lot of the annotated exons because there aren't any reads that span splice junctions, or meet my cutoff for what a \"true\" splice junction looks like.  \n",
    "\n",
    "This is both good and bad.  Good in that I'm not going to over-call peaks.  Bad in that I could be missing a lot of cryptic sites because I'm taking a splice junctino centric view.  I still like this approach.  I'm going to try using the STAR two pass approach to try and recover a few more reads and have things pass my thresholds a bit better.  In the mean time I'll generalize my algorithm to all chromosomes / strands.  "
   ]
  },
  {
   "cell_type": "markdown",
   "metadata": {},
   "source": [
    "#How Many Novel Exons overlap with exons called by Ling et. al?"
   ]
  },
  {
   "cell_type": "code",
   "execution_count": 708,
   "metadata": {
    "collapsed": true
   },
   "outputs": [],
   "source": [
    "ling_et_al_exons = \"\"\"chr5:111602907-111602981\n",
    "chr5:648215-648338\n",
    "chr19:7169645-7169842\n",
    "chr5:153416928-153417015\n",
    "chr10:3141749-3142011\n",
    "chr11:8797739-8801798\n",
    "chr12:117226441-117226517\n",
    "chr12:117227839-117228527\n",
    "chr12:85689446-85689514\n",
    "chr1:980268-980367\n",
    "chr1:980272-980367\n",
    "chr2:242608197-242608400\n",
    "chr1:980268-980460\n",
    "chr1:980272-980460\n",
    "chr11:8801680-8801798\n",
    "chr3:9510260-9510300\n",
    "chr11:108368528-108368891\n",
    "chr19:9112157-9112234\n",
    "chr19:14560900-14561129\n",
    "chr14:24630911-24631099\n",
    "chr10:11968921-11971863\n",
    "chr1:109438939-109439053\n",
    "chr13:21374252-21374294\n",
    "chr7:102227839-102228081\n",
    "chr7:102128667-102128909\n",
    "chr15:72557611-72557753\n",
    "chr12:52631354-52631501\n",
    "chr2:3462025-3462286\n",
    "chr22:20110103-20110220\n",
    "chr4:89319549-89319596\n",
    "chr1:169337730-169337948\n",
    "chr11:58384466-58384527\n",
    "chr19:4492012-4492149\n",
    "chr10:30731500-30731565\n",
    "chr2:182775853-182775960\n",
    "chr5:64836755-64836979\n",
    "chr6:33626324-33626446\n",
    "chr2:143722222-143728961\n",
    "chr14:24634266-24634392\n",
    "chrX:107465095-107465143\n",
    "chr2:143728740-143728961\"\"\".replace(\":\", \" \").replace(\"-\", \" \")\n",
    "\n",
    "ling_et_al_exons = pybedtools.BedTool(ling_et_al_exons, from_string=True).saveas(\"ling_et_al_exons.bed\")"
   ]
  },
  {
   "cell_type": "code",
   "execution_count": 709,
   "metadata": {
    "collapsed": false
   },
   "outputs": [
    {
     "data": {
      "text/plain": [
       "41"
      ]
     },
     "execution_count": 709,
     "metadata": {},
     "output_type": "execute_result"
    }
   ],
   "source": [
    "len(ling_et_al_exons)"
   ]
  },
  {
   "cell_type": "code",
   "execution_count": 710,
   "metadata": {
    "collapsed": false
   },
   "outputs": [
    {
     "data": {
      "text/plain": [
       "16"
      ]
     },
     "execution_count": 710,
     "metadata": {},
     "output_type": "execute_result"
    }
   ],
   "source": [
    "len(ling_et_al_exons.intersect(kd_unannotated_exons, u=True))"
   ]
  },
  {
   "cell_type": "markdown",
   "metadata": {},
   "source": [
    "#of the ones that I miss, why?"
   ]
  },
  {
   "cell_type": "code",
   "execution_count": 711,
   "metadata": {
    "collapsed": false
   },
   "outputs": [
    {
     "data": {
      "text/plain": [
       "25"
      ]
     },
     "execution_count": 711,
     "metadata": {},
     "output_type": "execute_result"
    }
   ],
   "source": [
    "len(ling_et_al_exons.intersect(kd_unannotated_exons, v=True))"
   ]
  },
  {
   "cell_type": "code",
   "execution_count": 713,
   "metadata": {
    "collapsed": true
   },
   "outputs": [],
   "source": []
  },
  {
   "cell_type": "code",
   "execution_count": 712,
   "metadata": {
    "collapsed": false
   },
   "outputs": [
    {
     "name": "stdout",
     "output_type": "stream",
     "text": [
      "chr19\t7169645\t7169842\n",
      " chr12\t117226441\t117226517\n",
      " chr12\t117227839\t117228527\n",
      " chr12\t85689446\t85689514\n",
      " chr2\t242608197\t242608400\n",
      " chr3\t9510260\t9510300\n",
      " chr11\t108368528\t108368891\n",
      " chr19\t9112157\t9112234\n",
      " chr19\t14560900\t14561129\n",
      " chr14\t24630911\t24631099\n",
      " chr10\t11968921\t11971863\n",
      " chr13\t21374252\t21374294\n",
      " chr7\t102227839\t102228081\n",
      " chr7\t102128667\t102128909\n",
      " chr15\t72557611\t72557753\n",
      " chr12\t52631354\t52631501\n",
      " chr2\t3462025\t3462286\n",
      " chr22\t20110103\t20110220\n",
      " chr4\t89319549\t89319596\n",
      " chr1\t169337730\t169337948\n",
      " chr5\t64836755\t64836979\n",
      " chr6\t33626324\t33626446\n",
      " chr2\t143722222\t143728961\n",
      " chr14\t24634266\t24634392\n",
      " chr2\t143728740\t143728961\n",
      " "
     ]
    }
   ],
   "source": [
    "ling_et_al_exons.intersect(kd_unannotated_exons, v=True).head(n=30)"
   ]
  },
  {
   "cell_type": "markdown",
   "metadata": {
    "collapsed": true
   },
   "source": [
    "chr19\t7169645\t7169842 -- no splice junction on the 5' end\n",
    "chr12\t117226441\t117226517 -- not quite enough splice junctions (maybe have some off by one bugs)\n",
    "chr12\t117227839\t117228527 -- no splice junctions on the 3' end\n",
    "chr12\t85689446\t85689514 -- not enough splice junctions on the 5' end\n",
    "chr2\t242608197\t242608400 -- possibly call slightly shorter exon, need to look into this, also might just not be eonugh reads\n",
    "chr3\t9510260\t9510300 -- miss called, exon near but not overlapping, I think (but there is TDP-43 binding)\n",
    "chr11\t108368528\t108368891 -- not enough reads on the 3' end (but TDP-43 binding)\n",
    "chr19\t9112157\t9112234 --I shouldn't have missed this one, look into it (no gene?)\n",
    "chr19\t14560900\t14561129 --not real cryptic exon\n",
    "chr14\t24630911\t24631099 -- no 5' reads\n",
    "chr10\t11968921\t11971863 -- no spliced reads detected\n",
    "chr13\t21374252\t21374294 -- 5' extention event, I wouldn't have detected this\n",
    "chr7\t102227839\t102228081 -- extention event I think.  Wouldn't have detected this\n",
    "chr7\t102128667\t102128909 -- extention event I think.  Wouldn't have detected this\n",
    "chr15\t72557611\t72557753  -- extention event I think.  Wouldn't have detected this\n",
    "chr12\t52631354\t52631501  -- extention event I think.  Wouldn't have detected this\n",
    "chr2\t3462025\t3462286  -- no 5' reads (there is another exon near here, may have called that)\n",
    "chr22\t20110103\t20110220 -- known exon (with TDP-43 binding though)\n",
    "chr4\t89319549\t89319596 -- should have detected this, don't know why I didn't\n",
    "chr1\t169337730\t169337948 -- no 5' reads \n",
    "chr5\t64836755\t64836979 -- no 5' reads\n",
    "chr6\t33626324\t33626446 -- looks like an extention\n",
    "chr2\t143722222\t143728961 -- this looks just kind of fucked up\n",
    "chr14\t24634266\t24634392 --should have caught this one, look into it overlaps with a known exon\n",
    "chr2\t143728740\t143728961 -- no 3' reads\n",
    " "
   ]
  },
  {
   "cell_type": "code",
   "execution_count": null,
   "metadata": {
    "collapsed": true
   },
   "outputs": [],
   "source": []
  }
 ],
 "metadata": {
  "kernelspec": {
   "display_name": "Python 2",
   "language": "python",
   "name": "python2"
  },
  "language_info": {
   "codemirror_mode": {
    "name": "ipython",
    "version": 2
   },
   "file_extension": ".py",
   "mimetype": "text/x-python",
   "name": "python",
   "nbconvert_exporter": "python",
   "pygments_lexer": "ipython2",
   "version": "2.7.10"
  }
 },
 "nbformat": 4,
 "nbformat_minor": 0
}
