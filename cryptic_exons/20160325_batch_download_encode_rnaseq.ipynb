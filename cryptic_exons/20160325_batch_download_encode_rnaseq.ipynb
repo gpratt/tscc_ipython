{
 "cells": [
  {
   "cell_type": "code",
   "execution_count": 55,
   "metadata": {
    "collapsed": true
   },
   "outputs": [],
   "source": [
    "import requests\n",
    "import os\n",
    "import pandas as pd\n",
    "import json\n",
    "\n",
    "from IPython.core.display import HTML\n",
    "from gscripts.general import region_helpers"
   ]
  },
  {
   "cell_type": "code",
   "execution_count": 36,
   "metadata": {
    "collapsed": true
   },
   "outputs": [],
   "source": [
    "def get_brents_bams(biosample_id):\n",
    "    \n",
    "    #This gets the gravely labs bams\n",
    "    URL = \"https://www.encodeproject.org/search/?type=file&dataset=/experiments/{}/&file_format=bam&output_type=alignments&format=json&assembly=hg19&frame=object&limit=all\".format(biosample_id)\n",
    "    response_file = requests.get(URL, headers=HEADERS)\n",
    "    response_json_dict_file = response_file.json()\n",
    "    ecc_ids = []\n",
    "    for item in response_json_dict_file['@graph']:\n",
    "        if item['lab'] == \"/labs/brenton-graveley/\":\n",
    "            ecc_ids.append(item['accession'])\n",
    "    return ecc_ids\n",
    "\n",
    "def get_bams_and_controls(accession):\n",
    "    #Given a bio-sample accession gets brents bams and controls, returns as a dict, possibly formatted as a dataframe\n",
    "    #This gets the paired control\n",
    "    URL = \"https://www.encodeproject.org/biosample/{}/?frame=object\".format(accession)\n",
    "\n",
    "    response_file = requests.get(URL, headers=HEADERS)\n",
    "    control_json = response_file.json()\n",
    "    ctrl_accession = control_json['possible_controls'][0].split(\"/\")[-2]\n",
    "    replicate = control_json['replicates'][0]\n",
    "    ctrl_ids = get_brents_bams(ctrl_accession)\n",
    "    kd_ids = get_brents_bams(accession)\n",
    "    \n",
    "    result_dict = {}\n",
    "    result_dict['kd_1'] = kd_ids[0]\n",
    "    result_dict['kd_2'] = kd_ids[1]\n",
    "    result_dict['ctrl_1'] = ctrl_ids[0]\n",
    "    result_dict['ctrl_2'] = ctrl_ids[1]\n",
    "    \n",
    "    return ctrl_accession, replicate, result_dict\n",
    "\n",
    "def format_bam_for_download(file_id):\n",
    "     return \"wget https://www.encodeproject.org/files/{0}/@@download/{0}.bam\".format(file_id)\n"
   ]
  },
  {
   "cell_type": "code",
   "execution_count": 163,
   "metadata": {
    "collapsed": false,
    "scrolled": true
   },
   "outputs": [
    {
     "name": "stdout",
     "output_type": "stream",
     "text": [
      "ENCSR096BEN\n",
      "ENCSR703QFF\n"
     ]
    }
   ],
   "source": [
    "#Get everything\n",
    "HEADERS = {'accept': 'application/json'}\n",
    "URL = \"https://www.encodeproject.org/search/?type=Experiment&files.file_type=bam&lab.title=Brenton+Graveley%2C+UConn&replicates.library.biosample.donor.organism.scientific_name=Homo+sapiens&assay_title=shRNA+RNA-seq&limit=all&format=json\"\n",
    "\n",
    "response = requests.get(URL, headers=HEADERS)\n",
    "response_json_dict = response.json()\n",
    "\n",
    "datasets = []\n",
    "for experiment_json in response_json_dict['@graph']:\n",
    "                \n",
    "    if experiment_json['target']['label'] == 'Non-specific target control':\n",
    "        continue\n",
    "    \n",
    "    accession = experiment_json['accession']\n",
    "    \n",
    "    try:    \n",
    "        ctrl_accession, replicate, kd_exp = get_bams_and_controls(accession)\n",
    "    except IndexError as e:\n",
    "        print accession\n",
    "        continue\n",
    "        \n",
    "    URL = \"https://www.encodeproject.org/{}\".format(replicate) \n",
    "    response_file = requests.get(URL, headers=HEADERS)\n",
    "    replicate_json = response_file.json()\n",
    "    selection_method = replicate_json['library']['nucleic_acid_term_name']\n",
    "    kd_exp['cell_type'] = experiment_json['biosample_term_name']\n",
    "    kd_exp['rbp'] = experiment_json['target']['label']\n",
    "    kd_exp['kd_accession'] = accession\n",
    "    kd_exp['ctrl_accession'] = ctrl_accession\n",
    "    kd_exp['selection_method'] = selection_method\n",
    "    \n",
    "    datasets.append(kd_exp)\n",
    "\n",
    "datasets = pd.DataFrame(datasets)"
   ]
  },
  {
   "cell_type": "code",
   "execution_count": 196,
   "metadata": {
    "collapsed": false
   },
   "outputs": [],
   "source": [
    "datasets.to_csv(\"/projects/ps-yeolab2/encode/analysis/rnaseq_bams_v2/20160325_rnai_manifest.csv\")\n",
    "datasets.to_csv(\"/home/gpratt/Dropbox/encode_integration/rnai_processing/20160325_rnai_manifest.csv\")\n",
    "\n",
    "manifest = datasets"
   ]
  },
  {
   "cell_type": "code",
   "execution_count": 198,
   "metadata": {
    "collapsed": false
   },
   "outputs": [
    {
     "data": {
      "text/html": [
       "<div>\n",
       "<table border=\"1\" class=\"dataframe\">\n",
       "  <thead>\n",
       "    <tr style=\"text-align: right;\">\n",
       "      <th></th>\n",
       "      <th>cell_type</th>\n",
       "      <th>ctrl_1</th>\n",
       "      <th>ctrl_2</th>\n",
       "      <th>ctrl_accession</th>\n",
       "      <th>kd_1</th>\n",
       "      <th>kd_2</th>\n",
       "      <th>kd_accession</th>\n",
       "      <th>rbp</th>\n",
       "      <th>selection_method</th>\n",
       "    </tr>\n",
       "  </thead>\n",
       "  <tbody>\n",
       "    <tr>\n",
       "      <th>274</th>\n",
       "      <td>HepG2</td>\n",
       "      <td>ENCFF705LNP</td>\n",
       "      <td>ENCFF038LUH</td>\n",
       "      <td>ENCSR856ZRV</td>\n",
       "      <td>ENCFF402SKG</td>\n",
       "      <td>ENCFF544JIA</td>\n",
       "      <td>ENCSR167JPY</td>\n",
       "      <td>SRP68</td>\n",
       "      <td>polyadenylated mRNA</td>\n",
       "    </tr>\n",
       "    <tr>\n",
       "      <th>362</th>\n",
       "      <td>K562</td>\n",
       "      <td>ENCFF742XEQ</td>\n",
       "      <td>ENCFF362TIW</td>\n",
       "      <td>ENCSR661HEL</td>\n",
       "      <td>ENCFF778BJG</td>\n",
       "      <td>ENCFF605SWX</td>\n",
       "      <td>ENCSR312SRB</td>\n",
       "      <td>SRP68</td>\n",
       "      <td>polyadenylated mRNA</td>\n",
       "    </tr>\n",
       "  </tbody>\n",
       "</table>\n",
       "</div>"
      ],
      "text/plain": [
       "    cell_type       ctrl_1       ctrl_2 ctrl_accession         kd_1  \\\n",
       "274     HepG2  ENCFF705LNP  ENCFF038LUH    ENCSR856ZRV  ENCFF402SKG   \n",
       "362      K562  ENCFF742XEQ  ENCFF362TIW    ENCSR661HEL  ENCFF778BJG   \n",
       "\n",
       "            kd_2 kd_accession    rbp     selection_method  \n",
       "274  ENCFF544JIA  ENCSR167JPY  SRP68  polyadenylated mRNA  \n",
       "362  ENCFF605SWX  ENCSR312SRB  SRP68  polyadenylated mRNA  "
      ]
     },
     "execution_count": 198,
     "metadata": {},
     "output_type": "execute_result"
    }
   ],
   "source": [
    "datasets[datasets.rbp == \"SRP68\"]"
   ]
  },
  {
   "cell_type": "code",
   "execution_count": 199,
   "metadata": {
    "collapsed": false
   },
   "outputs": [],
   "source": [
    "all_commands = set(datasets['kd_1'].apply(format_bam_for_download).values) | set(datasets['kd_2'].apply(format_bam_for_download).values) | set(datasets['ctrl_1'].apply(format_bam_for_download).values) | set(datasets['ctrl_2'].apply(format_bam_for_download).values)\n",
    "\n",
    "with open(\"/projects/ps-yeolab2/encode/analysis/rnaseq_bams_v2/batch_download.sh\", 'w') as outfile:\n",
    "    for line in all_commands:\n",
    "        outfile.write(line + \"\\n\")"
   ]
  },
  {
   "cell_type": "markdown",
   "metadata": {
    "collapsed": false
   },
   "source": [
    "# Make the DESeq formats"
   ]
  },
  {
   "cell_type": "code",
   "execution_count": 200,
   "metadata": {
    "collapsed": false
   },
   "outputs": [],
   "source": [
    "count_df = pd.read_table(\"/projects/ps-yeolab2/encode/analysis/rnaseq_bams_v2/all_counts.txt\", skiprows=1, index_col=0)\n",
    "count_df.columns = [os.path.basename(item).split(\".\")[0] for item in count_df.columns]\n",
    "count_df[count_df.columns[5:]].to_csv(\"/home/gpratt/Dropbox/encode_integration/important_counts.csv\")"
   ]
  },
  {
   "cell_type": "code",
   "execution_count": 213,
   "metadata": {
    "collapsed": false
   },
   "outputs": [],
   "source": [
    "sampleData = pd.concat([manifest[['cell_type', 'ctrl_1', 'ctrl_accession', 'rbp']].rename(columns={\"ctrl_1\": \"bam_id\", \"ctrl_accession\": \"accession\"}),\n",
    "manifest[['cell_type', 'ctrl_2', 'ctrl_accession', 'rbp']].rename(columns={\"ctrl_2\": \"bam_id\", \"ctrl_accession\": \"accession\"}),\n",
    "manifest[['cell_type', 'kd_1', 'kd_accession', 'rbp']].rename(columns={\"kd_1\": \"bam_id\", \"kd_accession\": \"accession\"}),\n",
    "manifest[['cell_type', 'kd_2', 'kd_accession', 'rbp']].rename(columns={\"kd_2\": \"bam_id\", \"kd_accession\": \"accession\"}),\n",
    "          ])\n",
    "\n",
    "sampleData = sampleData.drop_duplicates(subset=\"bam_id\")"
   ]
  },
  {
   "cell_type": "code",
   "execution_count": 216,
   "metadata": {
    "collapsed": true
   },
   "outputs": [],
   "source": [
    "sampleData.to_csv(\"/home/gpratt/Dropbox/encode_integration/SampleInfo.csv\")"
   ]
  },
  {
   "cell_type": "code",
   "execution_count": 215,
   "metadata": {
    "collapsed": false
   },
   "outputs": [
    {
     "data": {
      "text/html": [
       "<div>\n",
       "<table border=\"1\" class=\"dataframe\">\n",
       "  <thead>\n",
       "    <tr style=\"text-align: right;\">\n",
       "      <th></th>\n",
       "      <th>cell_type</th>\n",
       "      <th>bam_id</th>\n",
       "      <th>accession</th>\n",
       "      <th>rbp</th>\n",
       "    </tr>\n",
       "  </thead>\n",
       "  <tbody>\n",
       "    <tr>\n",
       "      <th>7</th>\n",
       "      <td>HepG2</td>\n",
       "      <td>ENCFF705LNP</td>\n",
       "      <td>ENCSR856ZRV</td>\n",
       "      <td>CSTF2</td>\n",
       "    </tr>\n",
       "    <tr>\n",
       "      <th>7</th>\n",
       "      <td>HepG2</td>\n",
       "      <td>ENCFF038LUH</td>\n",
       "      <td>ENCSR856ZRV</td>\n",
       "      <td>CSTF2</td>\n",
       "    </tr>\n",
       "    <tr>\n",
       "      <th>69</th>\n",
       "      <td>HepG2</td>\n",
       "      <td>ENCFF788JGG</td>\n",
       "      <td>ENCSR573UBF</td>\n",
       "      <td>TFIP11</td>\n",
       "    </tr>\n",
       "    <tr>\n",
       "      <th>69</th>\n",
       "      <td>HepG2</td>\n",
       "      <td>ENCFF132PEP</td>\n",
       "      <td>ENCSR573UBF</td>\n",
       "      <td>TFIP11</td>\n",
       "    </tr>\n",
       "  </tbody>\n",
       "</table>\n",
       "</div>"
      ],
      "text/plain": [
       "   cell_type       bam_id    accession     rbp\n",
       "7      HepG2  ENCFF705LNP  ENCSR856ZRV   CSTF2\n",
       "7      HepG2  ENCFF038LUH  ENCSR856ZRV   CSTF2\n",
       "69     HepG2  ENCFF788JGG  ENCSR573UBF  TFIP11\n",
       "69     HepG2  ENCFF132PEP  ENCSR573UBF  TFIP11"
      ]
     },
     "execution_count": 215,
     "metadata": {},
     "output_type": "execute_result"
    }
   ],
   "source": [
    "sampleData[(sampleData.accession == \"ENCSR856ZRV\") | (sampleData.accession == \"ENCSR573UBF\")]"
   ]
  },
  {
   "cell_type": "markdown",
   "metadata": {},
   "source": [
    "# Make Master Spreadsheet joining all encode RBPs"
   ]
  },
  {
   "cell_type": "code",
   "execution_count": 189,
   "metadata": {
    "collapsed": false
   },
   "outputs": [],
   "source": [
    "gene_id_to_name = region_helpers.gene_id_to_name(\"/projects/ps-yeolab/genomes/hg19/gencode/v19/gencode.v19.annotation.gtf.db\")\n",
    "gene_id_to_type = region_helpers.gene_id_to_type(\"/projects/ps-yeolab/genomes/hg19/gencode/v19/gencode.v19.annotation.gtf.db\")\n",
    "ensembl_id_to_name = {key.split(\".\")[0]: value for key, value in gene_id_to_name.items()}\n",
    "\n",
    "name_to_gene_id = {value: key for key, value in gene_id_to_name.items()}"
   ]
  },
  {
   "cell_type": "code",
   "execution_count": 190,
   "metadata": {
    "collapsed": false
   },
   "outputs": [],
   "source": [
    "clip_analysis = pd.read_table(\"/home/elvannostrand/data/clip/CLIPseq_analysis/ALLCLIP_v12_20160112/encode_v12_filelist.allencode_20160314.txt.fixedgenename.txt\")"
   ]
  },
  {
   "cell_type": "code",
   "execution_count": 191,
   "metadata": {
    "collapsed": false
   },
   "outputs": [
    {
     "data": {
      "text/html": [
       "<div>\n",
       "<table border=\"1\" class=\"dataframe\">\n",
       "  <thead>\n",
       "    <tr style=\"text-align: right;\">\n",
       "      <th></th>\n",
       "      <th>cell_type</th>\n",
       "      <th>ctrl_1</th>\n",
       "      <th>ctrl_2</th>\n",
       "      <th>ctrl_accession</th>\n",
       "      <th>kd_1</th>\n",
       "      <th>kd_2</th>\n",
       "      <th>kd_accession</th>\n",
       "      <th>rbp</th>\n",
       "      <th>selection_method</th>\n",
       "    </tr>\n",
       "  </thead>\n",
       "  <tbody>\n",
       "    <tr>\n",
       "      <th>78</th>\n",
       "      <td>HepG2</td>\n",
       "      <td>ENCFF610JDV</td>\n",
       "      <td>ENCFF481PMW</td>\n",
       "      <td>ENCSR279HMU</td>\n",
       "      <td>ENCFF616QND</td>\n",
       "      <td>ENCFF549PGZ</td>\n",
       "      <td>ENCSR660MZN</td>\n",
       "      <td>HNRNPD</td>\n",
       "      <td>polyadenylated mRNA</td>\n",
       "    </tr>\n",
       "  </tbody>\n",
       "</table>\n",
       "</div>"
      ],
      "text/plain": [
       "   cell_type       ctrl_1       ctrl_2 ctrl_accession         kd_1  \\\n",
       "78     HepG2  ENCFF610JDV  ENCFF481PMW    ENCSR279HMU  ENCFF616QND   \n",
       "\n",
       "           kd_2 kd_accession     rbp     selection_method  \n",
       "78  ENCFF549PGZ  ENCSR660MZN  HNRNPD  polyadenylated mRNA  "
      ]
     },
     "execution_count": 191,
     "metadata": {},
     "output_type": "execute_result"
    }
   ],
   "source": [
    "manifest[manifest.kd_accession == \"ENCSR660MZN\"]"
   ]
  },
  {
   "cell_type": "code",
   "execution_count": 192,
   "metadata": {
    "collapsed": false
   },
   "outputs": [],
   "source": [
    "merged = pd.merge(clip_analysis, manifest, left_on=['Cell line', 'RBP'], right_on=['cell_type', 'rbp'], how=\"outer\")\n",
    "merged['RBP'] = [rbp_1 if not pd.isnull(rbp_1) else rbp_2 for rbp_1, rbp_2 in zip(merged.rbp, merged.RBP)]\n",
    "merged['Cell line'] = [cell_1 if not pd.isnull(cell_1) else cell_2 for cell_1, cell_2 in zip(merged.cell_type, merged['Cell line'])]\n",
    "merged['RBP_ENSG'] = [name_to_gene_id[rbp] for rbp in merged.RBP]\n",
    "merged = merged.drop([\"rbp\", 'cell_type'], axis=1)\n",
    "merged = merged.rename(columns={\"RBP\": \"RBP_gID\", \n",
    "              \"Cell line\": \"CellLine\",\n",
    "              \"kd_accession\": \"RNASEQ_ENCODEAccID\",\n",
    "              \"ctrl_accession\": \"RNASEQ_ControlENC\",\n",
    "              'kd_1': \"RNASEQ_KDRep1Bam\",\n",
    "              'kd_2': \"RNASEQ_KDRep2Bam\",\n",
    "              \"ctrl_1\": \"RNASEQ_ControlRep1Bam\",\n",
    "              \"ctrl_2\": \"RNASEQ_ControlRep2Bam\",}\n",
    "             )\n",
    "\n",
    "merged.RNASEQ_ControlRep1Bam += \".bam\"\n",
    "merged.RNASEQ_ControlRep2Bam += \".bam\"\n",
    "merged.RNASEQ_KDRep1Bam += \".bam\"\n",
    "merged.RNASEQ_KDRep2Bam += \".bam\""
   ]
  },
  {
   "cell_type": "code",
   "execution_count": 193,
   "metadata": {
    "collapsed": false
   },
   "outputs": [],
   "source": [
    "merged.to_csv(\"/home/gpratt/Dropbox/encode_integration/20160408_ENCODE_MASTER_ID_LIST_AllDatasets.csv\", sep=\"\\t\")"
   ]
  },
  {
   "cell_type": "code",
   "execution_count": 194,
   "metadata": {
    "collapsed": false
   },
   "outputs": [
    {
     "data": {
      "text/html": [
       "<div>\n",
       "<table border=\"1\" class=\"dataframe\">\n",
       "  <thead>\n",
       "    <tr style=\"text-align: right;\">\n",
       "      <th></th>\n",
       "      <th>uID</th>\n",
       "      <th>RBP_gID</th>\n",
       "      <th>CellLine</th>\n",
       "      <th>CLIP_rep1</th>\n",
       "      <th>CLIP_rep2</th>\n",
       "      <th>INPUT</th>\n",
       "      <th>RNASEQ_ControlRep1Bam</th>\n",
       "      <th>RNASEQ_ControlRep2Bam</th>\n",
       "      <th>RNASEQ_ControlENC</th>\n",
       "      <th>RNASEQ_KDRep1Bam</th>\n",
       "      <th>RNASEQ_KDRep2Bam</th>\n",
       "      <th>RNASEQ_ENCODEAccID</th>\n",
       "      <th>selection_method</th>\n",
       "      <th>RBP_ENSG</th>\n",
       "    </tr>\n",
       "  </thead>\n",
       "  <tbody>\n",
       "    <tr>\n",
       "      <th>165</th>\n",
       "      <td>481</td>\n",
       "      <td>DROSHA</td>\n",
       "      <td>K562</td>\n",
       "      <td>/projects/ps-yeolab2/encode/analysis/encode_v1...</td>\n",
       "      <td>/projects/ps-yeolab2/encode/analysis/encode_v1...</td>\n",
       "      <td>/projects/ps-yeolab2/encode/analysis/encode_v1...</td>\n",
       "      <td>ENCFF490QNF.bam</td>\n",
       "      <td>ENCFF669VSB.bam</td>\n",
       "      <td>ENCSR164MUK</td>\n",
       "      <td>ENCFF772BWX.bam</td>\n",
       "      <td>ENCFF475GCB.bam</td>\n",
       "      <td>ENCSR624XHG</td>\n",
       "      <td>polyadenylated mRNA</td>\n",
       "      <td>ENSG00000113360.12</td>\n",
       "    </tr>\n",
       "  </tbody>\n",
       "</table>\n",
       "</div>"
      ],
      "text/plain": [
       "     uID RBP_gID CellLine                                          CLIP_rep1  \\\n",
       "165  481  DROSHA     K562  /projects/ps-yeolab2/encode/analysis/encode_v1...   \n",
       "\n",
       "                                             CLIP_rep2  \\\n",
       "165  /projects/ps-yeolab2/encode/analysis/encode_v1...   \n",
       "\n",
       "                                                 INPUT RNASEQ_ControlRep1Bam  \\\n",
       "165  /projects/ps-yeolab2/encode/analysis/encode_v1...       ENCFF490QNF.bam   \n",
       "\n",
       "    RNASEQ_ControlRep2Bam RNASEQ_ControlENC RNASEQ_KDRep1Bam RNASEQ_KDRep2Bam  \\\n",
       "165       ENCFF669VSB.bam       ENCSR164MUK  ENCFF772BWX.bam  ENCFF475GCB.bam   \n",
       "\n",
       "    RNASEQ_ENCODEAccID     selection_method            RBP_ENSG  \n",
       "165        ENCSR624XHG  polyadenylated mRNA  ENSG00000113360.12  "
      ]
     },
     "execution_count": 194,
     "metadata": {},
     "output_type": "execute_result"
    }
   ],
   "source": [
    "merged[merged.RNASEQ_ENCODEAccID == \"ENCSR624XHG\"]"
   ]
  },
  {
   "cell_type": "code",
   "execution_count": 195,
   "metadata": {
    "collapsed": false
   },
   "outputs": [
    {
     "data": {
      "text/html": [
       "<div>\n",
       "<table border=\"1\" class=\"dataframe\">\n",
       "  <thead>\n",
       "    <tr style=\"text-align: right;\">\n",
       "      <th></th>\n",
       "      <th>uID</th>\n",
       "      <th>RBP_gID</th>\n",
       "      <th>CellLine</th>\n",
       "      <th>CLIP_rep1</th>\n",
       "      <th>CLIP_rep2</th>\n",
       "      <th>INPUT</th>\n",
       "      <th>RNASEQ_ControlRep1Bam</th>\n",
       "      <th>RNASEQ_ControlRep2Bam</th>\n",
       "      <th>RNASEQ_ControlENC</th>\n",
       "      <th>RNASEQ_KDRep1Bam</th>\n",
       "      <th>RNASEQ_KDRep2Bam</th>\n",
       "      <th>RNASEQ_ENCODEAccID</th>\n",
       "      <th>selection_method</th>\n",
       "      <th>RBP_ENSG</th>\n",
       "    </tr>\n",
       "  </thead>\n",
       "  <tbody>\n",
       "    <tr>\n",
       "      <th>165</th>\n",
       "      <td>481</td>\n",
       "      <td>DROSHA</td>\n",
       "      <td>K562</td>\n",
       "      <td>/projects/ps-yeolab2/encode/analysis/encode_v1...</td>\n",
       "      <td>/projects/ps-yeolab2/encode/analysis/encode_v1...</td>\n",
       "      <td>/projects/ps-yeolab2/encode/analysis/encode_v1...</td>\n",
       "      <td>ENCFF490QNF.bam</td>\n",
       "      <td>ENCFF669VSB.bam</td>\n",
       "      <td>ENCSR164MUK</td>\n",
       "      <td>ENCFF772BWX.bam</td>\n",
       "      <td>ENCFF475GCB.bam</td>\n",
       "      <td>ENCSR624XHG</td>\n",
       "      <td>polyadenylated mRNA</td>\n",
       "      <td>ENSG00000113360.12</td>\n",
       "    </tr>\n",
       "  </tbody>\n",
       "</table>\n",
       "</div>"
      ],
      "text/plain": [
       "     uID RBP_gID CellLine                                          CLIP_rep1  \\\n",
       "165  481  DROSHA     K562  /projects/ps-yeolab2/encode/analysis/encode_v1...   \n",
       "\n",
       "                                             CLIP_rep2  \\\n",
       "165  /projects/ps-yeolab2/encode/analysis/encode_v1...   \n",
       "\n",
       "                                                 INPUT RNASEQ_ControlRep1Bam  \\\n",
       "165  /projects/ps-yeolab2/encode/analysis/encode_v1...       ENCFF490QNF.bam   \n",
       "\n",
       "    RNASEQ_ControlRep2Bam RNASEQ_ControlENC RNASEQ_KDRep1Bam RNASEQ_KDRep2Bam  \\\n",
       "165       ENCFF669VSB.bam       ENCSR164MUK  ENCFF772BWX.bam  ENCFF475GCB.bam   \n",
       "\n",
       "    RNASEQ_ENCODEAccID     selection_method            RBP_ENSG  \n",
       "165        ENCSR624XHG  polyadenylated mRNA  ENSG00000113360.12  "
      ]
     },
     "execution_count": 195,
     "metadata": {},
     "output_type": "execute_result"
    }
   ],
   "source": [
    "merged[merged.RBP_gID == \"DROSHA\"]"
   ]
  },
  {
   "cell_type": "code",
   "execution_count": null,
   "metadata": {
    "collapsed": true
   },
   "outputs": [],
   "source": []
  }
 ],
 "metadata": {
  "kernelspec": {
   "display_name": "Python 2",
   "language": "python",
   "name": "python2"
  },
  "language_info": {
   "codemirror_mode": {
    "name": "ipython",
    "version": 2
   },
   "file_extension": ".py",
   "mimetype": "text/x-python",
   "name": "python",
   "nbconvert_exporter": "python",
   "pygments_lexer": "ipython2",
   "version": "2.7.11"
  }
 },
 "nbformat": 4,
 "nbformat_minor": 0
}
