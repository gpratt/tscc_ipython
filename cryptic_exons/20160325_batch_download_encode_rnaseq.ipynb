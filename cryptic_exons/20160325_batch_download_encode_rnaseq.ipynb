{
 "cells": [
  {
   "cell_type": "code",
   "execution_count": 2,
   "metadata": {
    "collapsed": true
   },
   "outputs": [],
   "source": [
    "import requests\n",
    "import os\n",
    "import pandas as pd\n",
    "import json"
   ]
  },
  {
   "cell_type": "code",
   "execution_count": 2,
   "metadata": {
    "collapsed": true
   },
   "outputs": [],
   "source": []
  },
  {
   "cell_type": "code",
   "execution_count": 226,
   "metadata": {
    "collapsed": true
   },
   "outputs": [],
   "source": [
    "def get_brents_bams(biosample_id):\n",
    "    \n",
    "    #This gets the gravely labs bams\n",
    "\n",
    "    URL = \"https://www.encodeproject.org/search/?type=file&dataset=/experiments/{}/&file_format=bam&output_type=alignments&format=json&assembly=hg19&frame=object&limit=all\".format(biosample_id)\n",
    "    response_file = requests.get(URL, headers=HEADERS)\n",
    "    response_json_dict_file = response_file.json()\n",
    "    ecc_ids = []\n",
    "    for item in response_json_dict_file['@graph']:\n",
    "        if item['lab'] == \"/labs/brenton-graveley/\":\n",
    "            ecc_ids.append(item['accession'])\n",
    "    return ecc_ids\n",
    "\n",
    "def get_bams_and_controls(accession):\n",
    "    #Given a bio-sample accession gets brents bams and controls, returns as a dict, possibly formatted as a dataframe\n",
    "    #This gets the paired control\n",
    "    URL = \"https://www.encodeproject.org/biosample/{}/?frame=object\".format(accession)\n",
    "\n",
    "    response_file = requests.get(URL, headers=HEADERS)\n",
    "    control_json = response_file.json()\n",
    "    ctrl_accession = control_json['possible_controls'][0].split(\"/\")[-2]\n",
    "    ctrl_ids = get_brents_bams(ctrl_accession)\n",
    "    kd_ids = get_brents_bams(accession)\n",
    "    \n",
    "    result_dict = {}\n",
    "    result_dict['kd_1'] = kd_ids[0]\n",
    "    result_dict['kd_2'] = kd_ids[1]\n",
    "    result_dict['ctrl_1'] = ctrl_ids[0]\n",
    "    result_dict['ctrl_2'] = ctrl_ids[1]\n",
    "    \n",
    "    return ctrl_accession, result_dict\n",
    "\n",
    "def format_bam_for_download(file_id):\n",
    "     return \"wget https://www.encodeproject.org/files/{0}/@@download/{0}.bam\".format(file_id)\n"
   ]
  },
  {
   "cell_type": "code",
   "execution_count": null,
   "metadata": {
    "collapsed": false
   },
   "outputs": [],
   "source": [
    "#Get everything\n",
    "HEADERS = {'accept': 'application/json'}\n",
    "URL = \"https://www.encodeproject.org/search/?type=Experiment&files.file_type=bam&lab.title=Brenton+Graveley%2C+UConn&replicates.library.biosample.donor.organism.scientific_name=Homo+sapiens&assay_title=shRNA+RNA-seq&limit=all&format=json\"\n",
    "\n",
    "response = requests.get(URL, headers=HEADERS)\n",
    "response_json_dict = response.json()\n",
    "\n",
    "datasets = []\n",
    "for count, experiment_json in enumerate(response_json_dict['@graph']):\n",
    "    if experiment_json['target']['label'] == 'Non-specific target control':\n",
    "        continue\n",
    "    \n",
    "    accession = experiment_json['accession']\n",
    "\n",
    "    try:    \n",
    "        ctrl_accession, kd_exp = get_bams_and_controls(accession)\n",
    "    except IndexError as e:\n",
    "        print accession\n",
    "    kd_exp['cell_type'] = experiment_json['biosample_term_name']\n",
    "    kd_exp['rbp'] = experiment_json['target']['label']\n",
    "    kd_exp['kd_accession'] = accession\n",
    "    kd_exp['ctrl_accession'] = ctrl_accession\n",
    "    datasets.append(kd_exp)\n",
    "    \n",
    "datasets = pd.DataFrame(datasets)"
   ]
  },
  {
   "cell_type": "code",
   "execution_count": null,
   "metadata": {
    "collapsed": false
   },
   "outputs": [],
   "source": [
    "datasets.to_csv(\"/projects/ps-yeolab2/encode/analysis/rnaseq_bams_v2/20160325_rnai_manifest.csv\")"
   ]
  },
  {
   "cell_type": "code",
   "execution_count": 225,
   "metadata": {
    "collapsed": false
   },
   "outputs": [],
   "source": [
    "all_commands = set(datasets['kd_1'].apply(format_bam_for_download).values) | set(datasets['kd_2'].apply(format_bam_for_download).values) | set(datasets['ctrl_1'].apply(format_bam_for_download).values) | set(datasets['ctrl_2'].apply(format_bam_for_download).values)\n",
    "\n",
    "with open(\"/projects/ps-yeolab2/encode/analysis/rnaseq_bams_v2/batch_download.sh\", 'w') as outfile:\n",
    "    for line in all_commands:\n",
    "        outfile.write(line + \"\\n\")"
   ]
  },
  {
   "cell_type": "markdown",
   "metadata": {
    "collapsed": false
   },
   "source": [
    "#Make the DESeq formats"
   ]
  },
  {
   "cell_type": "code",
   "execution_count": 5,
   "metadata": {
    "collapsed": false
   },
   "outputs": [],
   "source": [
    "manifest = pd.read_csv(\"/projects/ps-yeolab2/encode/analysis/rnaseq_bams_v2/20160325_rnai_manifest.csv\", index_col=0)"
   ]
  },
  {
   "cell_type": "code",
   "execution_count": 15,
   "metadata": {
    "collapsed": false
   },
   "outputs": [],
   "source": [
    "count_df = pd.read_table(\"/projects/ps-yeolab2/encode/analysis/rnaseq_bams_v2/all_counts.txt\", skiprows=1, index_col=0)\n",
    "count_df.columns = [os.path.basename(item).split(\".\")[0] for item in count_df.columns]\n",
    "count_df[count_df.columns[5:]].to_csv(\"/home/gpratt/Dropbox/encode_integration/important_counts.csv\")"
   ]
  },
  {
   "cell_type": "code",
   "execution_count": 28,
   "metadata": {
    "collapsed": false
   },
   "outputs": [],
   "source": [
    "sampleData = pd.concat([manifest[['cell_type', 'ctrl_1', 'ctrl_accession', 'rbp']].rename(columns={\"ctrl_1\": \"bam_id\", \"ctrl_accession\": \"accession\"}),\n",
    "manifest[['cell_type', 'ctrl_2', 'ctrl_accession', 'rbp']].rename(columns={\"ctrl_2\": \"bam_id\", \"ctrl_accession\": \"accession\"}),\n",
    "manifest[['cell_type', 'kd_1', 'kd_accession', 'rbp']].rename(columns={\"kd_1\": \"bam_id\", \"kd_accession\": \"accession\"}),\n",
    "manifest[['cell_type', 'kd_2', 'kd_accession', 'rbp']].rename(columns={\"kd_2\": \"bam_id\", \"kd_accession\": \"accession\"}),\n",
    "          ])"
   ]
  },
  {
   "cell_type": "code",
   "execution_count": 37,
   "metadata": {
    "collapsed": false
   },
   "outputs": [
    {
     "data": {
      "text/html": [
       "<div>\n",
       "<table border=\"1\" class=\"dataframe\">\n",
       "  <thead>\n",
       "    <tr style=\"text-align: right;\">\n",
       "      <th></th>\n",
       "      <th>cell_type</th>\n",
       "      <th>ctrl_1</th>\n",
       "      <th>ctrl_2</th>\n",
       "      <th>ctrl_accession</th>\n",
       "      <th>kd_1</th>\n",
       "      <th>kd_2</th>\n",
       "      <th>kd_accession</th>\n",
       "      <th>rbp</th>\n",
       "    </tr>\n",
       "  </thead>\n",
       "  <tbody>\n",
       "    <tr>\n",
       "      <th>0</th>\n",
       "      <td>HepG2</td>\n",
       "      <td>ENCFF350VVR</td>\n",
       "      <td>ENCFF829TUN</td>\n",
       "      <td>ENCSR042QTH</td>\n",
       "      <td>ENCFF450QLW</td>\n",
       "      <td>ENCFF584LUS</td>\n",
       "      <td>ENCSR648BSC</td>\n",
       "      <td>PUF60</td>\n",
       "    </tr>\n",
       "    <tr>\n",
       "      <th>1</th>\n",
       "      <td>K562</td>\n",
       "      <td>ENCFF584WAF</td>\n",
       "      <td>ENCFF674JPQ</td>\n",
       "      <td>ENCSR245BNJ</td>\n",
       "      <td>ENCFF860NWB</td>\n",
       "      <td>ENCFF288KRJ</td>\n",
       "      <td>ENCSR410ZPU</td>\n",
       "      <td>BCLAF1</td>\n",
       "    </tr>\n",
       "    <tr>\n",
       "      <th>2</th>\n",
       "      <td>HepG2</td>\n",
       "      <td>ENCFF350VVR</td>\n",
       "      <td>ENCFF829TUN</td>\n",
       "      <td>ENCSR042QTH</td>\n",
       "      <td>ENCFF997JOB</td>\n",
       "      <td>ENCFF904ZSQ</td>\n",
       "      <td>ENCSR459EMR</td>\n",
       "      <td>TUFM</td>\n",
       "    </tr>\n",
       "    <tr>\n",
       "      <th>3</th>\n",
       "      <td>K562</td>\n",
       "      <td>ENCFF092XAP</td>\n",
       "      <td>ENCFF265ZZB</td>\n",
       "      <td>ENCSR344XID</td>\n",
       "      <td>ENCFF280ZIB</td>\n",
       "      <td>ENCFF708KBX</td>\n",
       "      <td>ENCSR256PLH</td>\n",
       "      <td>QKI</td>\n",
       "    </tr>\n",
       "    <tr>\n",
       "      <th>4</th>\n",
       "      <td>HepG2</td>\n",
       "      <td>ENCFF561UZL</td>\n",
       "      <td>ENCFF628UPI</td>\n",
       "      <td>ENCSR689PHN</td>\n",
       "      <td>ENCFF500VFR</td>\n",
       "      <td>ENCFF962VUU</td>\n",
       "      <td>ENCSR771QMJ</td>\n",
       "      <td>GEMIN5</td>\n",
       "    </tr>\n",
       "  </tbody>\n",
       "</table>\n",
       "</div>"
      ],
      "text/plain": [
       "  cell_type       ctrl_1       ctrl_2 ctrl_accession         kd_1  \\\n",
       "0     HepG2  ENCFF350VVR  ENCFF829TUN    ENCSR042QTH  ENCFF450QLW   \n",
       "1      K562  ENCFF584WAF  ENCFF674JPQ    ENCSR245BNJ  ENCFF860NWB   \n",
       "2     HepG2  ENCFF350VVR  ENCFF829TUN    ENCSR042QTH  ENCFF997JOB   \n",
       "3      K562  ENCFF092XAP  ENCFF265ZZB    ENCSR344XID  ENCFF280ZIB   \n",
       "4     HepG2  ENCFF561UZL  ENCFF628UPI    ENCSR689PHN  ENCFF500VFR   \n",
       "\n",
       "          kd_2 kd_accession     rbp  \n",
       "0  ENCFF584LUS  ENCSR648BSC   PUF60  \n",
       "1  ENCFF288KRJ  ENCSR410ZPU  BCLAF1  \n",
       "2  ENCFF904ZSQ  ENCSR459EMR    TUFM  \n",
       "3  ENCFF708KBX  ENCSR256PLH     QKI  \n",
       "4  ENCFF962VUU  ENCSR771QMJ  GEMIN5  "
      ]
     },
     "execution_count": 37,
     "metadata": {},
     "output_type": "execute_result"
    }
   ],
   "source": [
    "manifest.head()"
   ]
  },
  {
   "cell_type": "code",
   "execution_count": 38,
   "metadata": {
    "collapsed": true
   },
   "outputs": [],
   "source": [
    "sampleData.drop_duplicates(subset=\"bam_id\").to_csv(\"/home/gpratt/Dropbox/encode_integration/SampleInfo.csv\")"
   ]
  },
  {
   "cell_type": "code",
   "execution_count": 36,
   "metadata": {
    "collapsed": false
   },
   "outputs": [
    {
     "data": {
      "text/html": [
       "<div>\n",
       "<table border=\"1\" class=\"dataframe\">\n",
       "  <thead>\n",
       "    <tr style=\"text-align: right;\">\n",
       "      <th></th>\n",
       "      <th>cell_type</th>\n",
       "      <th>bam_id</th>\n",
       "      <th>accession</th>\n",
       "      <th>rbp</th>\n",
       "    </tr>\n",
       "  </thead>\n",
       "  <tbody>\n",
       "    <tr>\n",
       "      <th>0</th>\n",
       "      <td>HepG2</td>\n",
       "      <td>ENCFF350VVR</td>\n",
       "      <td>ENCSR042QTH</td>\n",
       "      <td>PUF60</td>\n",
       "    </tr>\n",
       "    <tr>\n",
       "      <th>1</th>\n",
       "      <td>K562</td>\n",
       "      <td>ENCFF584WAF</td>\n",
       "      <td>ENCSR245BNJ</td>\n",
       "      <td>BCLAF1</td>\n",
       "    </tr>\n",
       "    <tr>\n",
       "      <th>2</th>\n",
       "      <td>HepG2</td>\n",
       "      <td>ENCFF350VVR</td>\n",
       "      <td>ENCSR042QTH</td>\n",
       "      <td>TUFM</td>\n",
       "    </tr>\n",
       "    <tr>\n",
       "      <th>3</th>\n",
       "      <td>K562</td>\n",
       "      <td>ENCFF092XAP</td>\n",
       "      <td>ENCSR344XID</td>\n",
       "      <td>QKI</td>\n",
       "    </tr>\n",
       "    <tr>\n",
       "      <th>4</th>\n",
       "      <td>HepG2</td>\n",
       "      <td>ENCFF561UZL</td>\n",
       "      <td>ENCSR689PHN</td>\n",
       "      <td>GEMIN5</td>\n",
       "    </tr>\n",
       "  </tbody>\n",
       "</table>\n",
       "</div>"
      ],
      "text/plain": [
       "  cell_type       bam_id    accession     rbp\n",
       "0     HepG2  ENCFF350VVR  ENCSR042QTH   PUF60\n",
       "1      K562  ENCFF584WAF  ENCSR245BNJ  BCLAF1\n",
       "2     HepG2  ENCFF350VVR  ENCSR042QTH    TUFM\n",
       "3      K562  ENCFF092XAP  ENCSR344XID     QKI\n",
       "4     HepG2  ENCFF561UZL  ENCSR689PHN  GEMIN5"
      ]
     },
     "execution_count": 36,
     "metadata": {},
     "output_type": "execute_result"
    }
   ],
   "source": [
    "sampleData.head()"
   ]
  },
  {
   "cell_type": "code",
   "execution_count": 43,
   "metadata": {
    "collapsed": false
   },
   "outputs": [
    {
     "data": {
      "text/html": [
       "<div>\n",
       "<table border=\"1\" class=\"dataframe\">\n",
       "  <thead>\n",
       "    <tr style=\"text-align: right;\">\n",
       "      <th></th>\n",
       "      <th>cell_type</th>\n",
       "      <th>ctrl_1</th>\n",
       "      <th>ctrl_2</th>\n",
       "      <th>ctrl_accession</th>\n",
       "      <th>kd_1</th>\n",
       "      <th>kd_2</th>\n",
       "      <th>kd_accession</th>\n",
       "      <th>rbp</th>\n",
       "    </tr>\n",
       "  </thead>\n",
       "  <tbody>\n",
       "    <tr>\n",
       "      <th>38</th>\n",
       "      <td>K562</td>\n",
       "      <td>ENCFF178NNK</td>\n",
       "      <td>ENCFF098BEA</td>\n",
       "      <td>ENCSR084SCN</td>\n",
       "      <td>ENCFF635XVZ</td>\n",
       "      <td>ENCFF312ZOZ</td>\n",
       "      <td>ENCSR608IAI</td>\n",
       "      <td>FASTKD2</td>\n",
       "    </tr>\n",
       "    <tr>\n",
       "      <th>83</th>\n",
       "      <td>K562</td>\n",
       "      <td>ENCFF178NNK</td>\n",
       "      <td>ENCFF098BEA</td>\n",
       "      <td>ENCSR084SCN</td>\n",
       "      <td>ENCFF244QXH</td>\n",
       "      <td>ENCFF653PZL</td>\n",
       "      <td>ENCSR268JDD</td>\n",
       "      <td>AGO1</td>\n",
       "    </tr>\n",
       "    <tr>\n",
       "      <th>125</th>\n",
       "      <td>K562</td>\n",
       "      <td>ENCFF178NNK</td>\n",
       "      <td>ENCFF098BEA</td>\n",
       "      <td>ENCSR084SCN</td>\n",
       "      <td>ENCFF907AFR</td>\n",
       "      <td>ENCFF174XOJ</td>\n",
       "      <td>ENCSR143UET</td>\n",
       "      <td>EIF3G</td>\n",
       "    </tr>\n",
       "    <tr>\n",
       "      <th>132</th>\n",
       "      <td>K562</td>\n",
       "      <td>ENCFF178NNK</td>\n",
       "      <td>ENCFF098BEA</td>\n",
       "      <td>ENCSR084SCN</td>\n",
       "      <td>ENCFF587FDO</td>\n",
       "      <td>ENCFF020XNJ</td>\n",
       "      <td>ENCSR234YMW</td>\n",
       "      <td>SLTM</td>\n",
       "    </tr>\n",
       "    <tr>\n",
       "      <th>155</th>\n",
       "      <td>K562</td>\n",
       "      <td>ENCFF178NNK</td>\n",
       "      <td>ENCFF098BEA</td>\n",
       "      <td>ENCSR084SCN</td>\n",
       "      <td>ENCFF459YMO</td>\n",
       "      <td>ENCFF922IOC</td>\n",
       "      <td>ENCSR004RGI</td>\n",
       "      <td>RPS10</td>\n",
       "    </tr>\n",
       "    <tr>\n",
       "      <th>167</th>\n",
       "      <td>K562</td>\n",
       "      <td>ENCFF178NNK</td>\n",
       "      <td>ENCFF098BEA</td>\n",
       "      <td>ENCSR084SCN</td>\n",
       "      <td>ENCFF985GAR</td>\n",
       "      <td>ENCFF403FGR</td>\n",
       "      <td>ENCSR410MIQ</td>\n",
       "      <td>RPS3</td>\n",
       "    </tr>\n",
       "    <tr>\n",
       "      <th>257</th>\n",
       "      <td>K562</td>\n",
       "      <td>ENCFF178NNK</td>\n",
       "      <td>ENCFF098BEA</td>\n",
       "      <td>ENCSR084SCN</td>\n",
       "      <td>ENCFF983UYL</td>\n",
       "      <td>ENCFF564EFE</td>\n",
       "      <td>ENCSR325OOM</td>\n",
       "      <td>FUS</td>\n",
       "    </tr>\n",
       "    <tr>\n",
       "      <th>360</th>\n",
       "      <td>K562</td>\n",
       "      <td>ENCFF178NNK</td>\n",
       "      <td>ENCFF098BEA</td>\n",
       "      <td>ENCSR084SCN</td>\n",
       "      <td>ENCFF774LJE</td>\n",
       "      <td>ENCFF422SED</td>\n",
       "      <td>ENCSR232XRZ</td>\n",
       "      <td>SND1</td>\n",
       "    </tr>\n",
       "    <tr>\n",
       "      <th>406</th>\n",
       "      <td>K562</td>\n",
       "      <td>ENCFF178NNK</td>\n",
       "      <td>ENCFF098BEA</td>\n",
       "      <td>ENCSR084SCN</td>\n",
       "      <td>ENCFF749HGR</td>\n",
       "      <td>ENCFF406LTN</td>\n",
       "      <td>ENCSR891AXF</td>\n",
       "      <td>SSB</td>\n",
       "    </tr>\n",
       "  </tbody>\n",
       "</table>\n",
       "</div>"
      ],
      "text/plain": [
       "    cell_type       ctrl_1       ctrl_2 ctrl_accession         kd_1  \\\n",
       "38       K562  ENCFF178NNK  ENCFF098BEA    ENCSR084SCN  ENCFF635XVZ   \n",
       "83       K562  ENCFF178NNK  ENCFF098BEA    ENCSR084SCN  ENCFF244QXH   \n",
       "125      K562  ENCFF178NNK  ENCFF098BEA    ENCSR084SCN  ENCFF907AFR   \n",
       "132      K562  ENCFF178NNK  ENCFF098BEA    ENCSR084SCN  ENCFF587FDO   \n",
       "155      K562  ENCFF178NNK  ENCFF098BEA    ENCSR084SCN  ENCFF459YMO   \n",
       "167      K562  ENCFF178NNK  ENCFF098BEA    ENCSR084SCN  ENCFF985GAR   \n",
       "257      K562  ENCFF178NNK  ENCFF098BEA    ENCSR084SCN  ENCFF983UYL   \n",
       "360      K562  ENCFF178NNK  ENCFF098BEA    ENCSR084SCN  ENCFF774LJE   \n",
       "406      K562  ENCFF178NNK  ENCFF098BEA    ENCSR084SCN  ENCFF749HGR   \n",
       "\n",
       "            kd_2 kd_accession      rbp  \n",
       "38   ENCFF312ZOZ  ENCSR608IAI  FASTKD2  \n",
       "83   ENCFF653PZL  ENCSR268JDD     AGO1  \n",
       "125  ENCFF174XOJ  ENCSR143UET    EIF3G  \n",
       "132  ENCFF020XNJ  ENCSR234YMW     SLTM  \n",
       "155  ENCFF922IOC  ENCSR004RGI    RPS10  \n",
       "167  ENCFF403FGR  ENCSR410MIQ     RPS3  \n",
       "257  ENCFF564EFE  ENCSR325OOM      FUS  \n",
       "360  ENCFF422SED  ENCSR232XRZ     SND1  \n",
       "406  ENCFF406LTN  ENCSR891AXF      SSB  "
      ]
     },
     "execution_count": 43,
     "metadata": {},
     "output_type": "execute_result"
    }
   ],
   "source": [
    "manifest[manifest.ctrl_accession == \"ENCSR084SCN\"]"
   ]
  },
  {
   "cell_type": "code",
   "execution_count": null,
   "metadata": {
    "collapsed": true
   },
   "outputs": [],
   "source": []
  }
 ],
 "metadata": {
  "kernelspec": {
   "display_name": "Python 2",
   "language": "python",
   "name": "python2"
  },
  "language_info": {
   "codemirror_mode": {
    "name": "ipython",
    "version": 2
   },
   "file_extension": ".py",
   "mimetype": "text/x-python",
   "name": "python",
   "nbconvert_exporter": "python",
   "pygments_lexer": "ipython2",
   "version": "2.7.11"
  }
 },
 "nbformat": 4,
 "nbformat_minor": 0
}
