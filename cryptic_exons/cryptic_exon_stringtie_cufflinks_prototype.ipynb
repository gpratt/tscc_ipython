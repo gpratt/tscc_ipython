{
 "cells": [
  {
   "cell_type": "code",
   "execution_count": 1,
   "metadata": {
    "collapsed": false
   },
   "outputs": [],
   "source": [
    "from Bio import SeqIO\n",
    "import pandas as pd\n",
    "import pybedtools\n",
    "import numpy as np\n",
    "import gffutils\n",
    "\n",
    "from IPython.core.display import HTML"
   ]
  },
  {
   "cell_type": "code",
   "execution_count": 151,
   "metadata": {
    "collapsed": false
   },
   "outputs": [],
   "source": [
    "annotated_exons = pybedtools.BedTool(\"/home/gpratt/clipper/clipper/data/regions/hg19_exons.bed\").sort().saveas()\n",
    "kd_exons = pybedtools.BedTool(\"/home/gpratt/projects/cryptic_exons/analysis/ad-hoc/SRR2002766_1.polyATrim.adapterTrim.rmRep_XS_tag.sorted.gtf\")\n",
    "ctrl_exons = pybedtools.BedTool(\"/home/gpratt/projects/cryptic_exons/analysis/ad-hoc/2002765/transcripts.gtf\")"
   ]
  },
  {
   "cell_type": "code",
   "execution_count": 152,
   "metadata": {
    "collapsed": false
   },
   "outputs": [
    {
     "name": "stdout",
     "output_type": "stream",
     "text": [
      "Traceback (most recent call last):\r\n",
      "  File \"/home/gpratt/anaconda/bin/gffutils-cli\", line 5, in <module>\r\n",
      "    pkg_resources.run_script('gffutils==0.8.2', 'gffutils-cli')\r\n",
      "  File \"/home/gpratt/anaconda/lib/python2.7/site-packages/distribute-0.6.35-py2.7.egg/pkg_resources.py\", line 505, in run_script\r\n",
      "    self.require(requires)[0].run_script(script_name, ns)\r\n",
      "  File \"/home/gpratt/anaconda/lib/python2.7/site-packages/distribute-0.6.35-py2.7.egg/pkg_resources.py\", line 1245, in run_script\r\n",
      "    execfile(script_filename, namespace, namespace)\r\n",
      "  File \"/home/gpratt/anaconda/lib/python2.7/site-packages/gffutils-0.8.2-py2.7.egg/EGG-INFO/scripts/gffutils-cli\", line 297, in <module>\r\n",
      "    rmdups\r\n",
      "  File \"/home/gpratt/anaconda/lib/python2.7/site-packages/argh-0.26.1-py2.7.egg/argh/dispatching.py\", line 328, in dispatch_commands\r\n",
      "    dispatch(parser, *args, **kwargs)\r\n",
      "  File \"/home/gpratt/anaconda/lib/python2.7/site-packages/argh-0.26.1-py2.7.egg/argh/dispatching.py\", line 174, in dispatch\r\n",
      "    for line in lines:\r\n",
      "  File \"/home/gpratt/anaconda/lib/python2.7/site-packages/argh-0.26.1-py2.7.egg/argh/dispatching.py\", line 277, in _execute_command\r\n",
      "    for line in result:\r\n",
      "  File \"/home/gpratt/anaconda/lib/python2.7/site-packages/argh-0.26.1-py2.7.egg/argh/dispatching.py\", line 260, in _call\r\n",
      "    result = function(*positional, **keywords)\r\n",
      "  File \"/home/gpratt/anaconda/lib/python2.7/site-packages/gffutils-0.8.2-py2.7.egg/EGG-INFO/scripts/gffutils-cli\", line 181, in create\r\n",
      "    infer_gene_extent=infer_gene_extent)\r\n",
      "  File \"/home/gpratt/anaconda/lib/python2.7/site-packages/gffutils-0.8.2-py2.7.egg/gffutils/create.py\", line 1116, in create_db\r\n",
      "    c.create()\r\n",
      "  File \"/home/gpratt/anaconda/lib/python2.7/site-packages/gffutils-0.8.2-py2.7.egg/gffutils/create.py\", line 449, in create\r\n",
      "    self._init_tables()\r\n",
      "  File \"/home/gpratt/anaconda/lib/python2.7/site-packages/gffutils-0.8.2-py2.7.egg/gffutils/create.py\", line 393, in _init_tables\r\n",
      "    c.executescript(constants.SCHEMA)\r\n",
      "sqlite3.OperationalError: table features already exists\r\n"
     ]
    }
   ],
   "source": [
    "!gffutils-cli create /home/gpratt/projects/cryptic_exons/analysis/ad-hoc/SRR2002766_1.polyATrim.adapterTrim.rmRep_XS_tag.sorted.gtf --disable-infer"
   ]
  },
  {
   "cell_type": "code",
   "execution_count": 153,
   "metadata": {
    "collapsed": false
   },
   "outputs": [],
   "source": [
    "kd_db = gffutils.FeatureDB(\"/home/gpratt/projects/cryptic_exons/analysis/ad-hoc/SRR2002766_1.polyATrim.adapterTrim.rmRep_XS_tag.sorted.gtf.db\")\n",
    "ctrl_db = gffutils.FeatureDB(\"/home/gpratt/projects/cryptic_exons/analysis/ad-hoc/2002765/ctrl.db\")"
   ]
  },
  {
   "cell_type": "code",
   "execution_count": 154,
   "metadata": {
    "collapsed": false
   },
   "outputs": [],
   "source": [
    "kd_exons = kd_exons.filter(lambda x: x[2] == \"exon\").sort().saveas()\n",
    "ctrl_exons = ctrl_exons.filter(lambda x: x[2] == \"exon\").sort().saveas()"
   ]
  },
  {
   "cell_type": "code",
   "execution_count": 155,
   "metadata": {
    "collapsed": false
   },
   "outputs": [
    {
     "data": {
      "text/plain": [
       "(571868, 132896)"
      ]
     },
     "execution_count": 155,
     "metadata": {},
     "output_type": "execute_result"
    }
   ],
   "source": [
    "len(kd_exons), len(ctrl_exons)"
   ]
  },
  {
   "cell_type": "code",
   "execution_count": 156,
   "metadata": {
    "collapsed": false
   },
   "outputs": [],
   "source": [
    "kd_annotated_exons = kd_exons.intersect(annotated_exons, s=True, u=True, f=1.0, r=True, sorted=True).saveas()\n",
    "ctrl_annotated_exons = ctrl_exons.intersect(annotated_exons, s=True, u=True, f=1.0, r=True, sorted=True).saveas()"
   ]
  },
  {
   "cell_type": "code",
   "execution_count": 157,
   "metadata": {
    "collapsed": false
   },
   "outputs": [
    {
     "data": {
      "text/plain": [
       "(1767, 306)"
      ]
     },
     "execution_count": 157,
     "metadata": {},
     "output_type": "execute_result"
    }
   ],
   "source": [
    "len(kd_annotated_exons), len(ctrl_annotated_exons)"
   ]
  },
  {
   "cell_type": "markdown",
   "metadata": {},
   "source": [
    "Cufflinks is recovering a fairly large fraction of annotated exons, but there are look to be a pretty gigantic number of exons that are unannoated in both ctrl and kd, more in knockdown.  Which is useful."
   ]
  },
  {
   "cell_type": "code",
   "execution_count": 158,
   "metadata": {
    "collapsed": true
   },
   "outputs": [],
   "source": [
    "kd_exon"
   ]
  },
  {
   "cell_type": "code",
   "execution_count": 159,
   "metadata": {
    "collapsed": false
   },
   "outputs": [],
   "source": [
    "kd_unannotated_exons = kd_exons.intersect(annotated_exons, s=True, f=1.0, r=True, sorted=True, v=True).saveas()\n",
    "ctrl_unannotated_exons = ctrl_exons.intersect(annotated_exons, s=True, f=1.0, r=True, sorted=True, v=True).saveas()"
   ]
  },
  {
   "cell_type": "code",
   "execution_count": 164,
   "metadata": {
    "collapsed": false
   },
   "outputs": [],
   "source": [
    "foo = kd_exons.filter(lambda x: x.end == 111602981).saveas()"
   ]
  },
  {
   "cell_type": "code",
   "execution_count": 169,
   "metadata": {
    "collapsed": true
   },
   "outputs": [],
   "source": [
    "kd_unannotated_cryptic_exons = kd_exons.intersect(annotated_exons, s=True, v=True).intersect(hg19_genes, s=True).saveas()\n",
    "ctrl_unannotated_cryptic_exons = ctrl_exons.intersect(annotated_exons, s=True, v=True).intersect(hg19_genes, s=True).saveas()"
   ]
  },
  {
   "cell_type": "code",
   "execution_count": 170,
   "metadata": {
    "collapsed": false
   },
   "outputs": [
    {
     "name": "stdout",
     "output_type": "stream",
     "text": [
      "570101 132590\n",
      "78 21\n"
     ]
    }
   ],
   "source": [
    "print len(kd_unannotated_exons), len(ctrl_unannotated_exons)\n",
    "print len(kd_unannotated_cryptic_exons), len(ctrl_unannotated_cryptic_exons)"
   ]
  },
  {
   "cell_type": "code",
   "execution_count": 175,
   "metadata": {
    "collapsed": true
   },
   "outputs": [],
   "source": [
    "foo = \"\"\"chr5:111602907-111602981\n",
    "chr5:648215-648338\n",
    "chr19:7169645-7169842\n",
    "chr5:153416928-153417015\n",
    "chr10:3141749-3142011\n",
    "chr11:8797739-8801798\n",
    "chr12:117226441-117226517\n",
    "chr12:117227839-117228527\n",
    "chr12:85689446-85689514\n",
    "chr1:980268-980367\n",
    "chr1:980272-980367\n",
    "chr2:242608197-242608400\n",
    "chr1:980268-980460\n",
    "chr1:980272-980460\n",
    "chr11:8801680-8801798\n",
    "chr3:9510260-9510300\n",
    "chr11:108368528-108368891\n",
    "chr19:9112157-9112234\n",
    "chr19:14560900-14561129\n",
    "chr14:24630911-24631099\n",
    "chr10:11968921-11971863\n",
    "chr1:109438939-109439053\n",
    "chr13:21374252-21374294\n",
    "chr7:102227839-102228081\n",
    "chr7:102128667-102128909\n",
    "chr15:72557611-72557753\n",
    "chr12:52631354-52631501\n",
    "chr2:3462025-3462286\n",
    "chr22:20110103-20110220\n",
    "chr4:89319549-89319596\n",
    "chr1:169337730-169337948\n",
    "chr11:58384466-58384527\n",
    "chr19:4492012-4492149\n",
    "chr10:30731500-30731565\n",
    "chr2:182775853-182775960\n",
    "chr5:64836755-64836979\n",
    "chr6:33626324-33626446\n",
    "chr2:143722222-143728961\n",
    "chr14:24634266-24634392\n",
    "chrX:107465095-107465143\n",
    "chr2:143728740-143728961\"\"\".split()"
   ]
  },
  {
   "cell_type": "code",
   "execution_count": 180,
   "metadata": {
    "collapsed": false
   },
   "outputs": [],
   "source": [
    "annotated_cryptic_exons = []\n",
    "for line in foo:\n",
    "    chrom, loc = line.split(\":\")\n",
    "    start, stop = loc.split(\"-\")\n",
    "    annotated_cryptic_exons.append(pybedtools.create_interval_from_list([chrom, start, stop]))\n",
    "    \n",
    "annotated_cryptic_exons = pybedtools.BedTool(annotated_cryptic_exons)"
   ]
  },
  {
   "cell_type": "code",
   "execution_count": 183,
   "metadata": {
    "collapsed": false
   },
   "outputs": [
    {
     "data": {
      "text/plain": [
       "41"
      ]
     },
     "execution_count": 183,
     "metadata": {},
     "output_type": "execute_result"
    }
   ],
   "source": [
    "len(annotated_cryptic_exons)"
   ]
  },
  {
   "cell_type": "code",
   "execution_count": 184,
   "metadata": {
    "collapsed": false
   },
   "outputs": [
    {
     "data": {
      "text/plain": [
       "78"
      ]
     },
     "execution_count": 184,
     "metadata": {},
     "output_type": "execute_result"
    }
   ],
   "source": [
    "len(kd_unannotated_cryptic_exons)"
   ]
  },
  {
   "cell_type": "code",
   "execution_count": 187,
   "metadata": {
    "collapsed": false
   },
   "outputs": [
    {
     "name": "stdout",
     "output_type": "stream",
     "text": [
      "chr5\t111602907\t111602981\n",
      " chr10\t3141749\t3142011\n",
      " "
     ]
    }
   ],
   "source": [
    "annotated_cryptic_exons.intersect(kd_unannotated_cryptic_exons).head()"
   ]
  },
  {
   "cell_type": "code",
   "execution_count": 173,
   "metadata": {
    "collapsed": false,
    "scrolled": false
   },
   "outputs": [
    {
     "name": "stdout",
     "output_type": "stream",
     "text": [
      "chr1\tStringTie\texon\t21080549\t21081897\t1000\t-\t.\tgene_id \"STRG.319\"; transcript_id \"STRG.319.4\"; exon_number \"1\"; cov \"38.064098\";\n",
      " chr1\tStringTie\texon\t32605356\t32605465\t1000\t+\t.\tgene_id \"STRG.519\"; transcript_id \"STRG.519.2\"; exon_number \"2\"; cov \"24.732277\";\n",
      " chr1\tStringTie\texon\t38477104\t38477240\t1000\t+\t.\tgene_id \"STRG.606\"; transcript_id \"STRG.606.1\"; exon_number \"2\"; cov \"1.569343\";\n",
      " chr1\tStringTie\texon\t146649723\t146650958\t1000\t-\t.\tgene_id \"STRG.1384\"; transcript_id \"STRG.1384.1\"; exon_number \"1\"; cov \"149.560471\";\n",
      " chr1\tStringTie\texon\t179825193\t179825305\t1000\t-\t.\tgene_id \"STRG.1877\"; transcript_id \"STRG.1877.3\"; exon_number \"5\"; cov \"65.685844\";\n",
      " chr10\tStringTie\texon\t3141749\t3142011\t1000\t+\t.\tgene_id \"STRG.12684\"; transcript_id \"STRG.12684.2\"; exon_number \"4\"; cov \"24.359905\";\n",
      " chr10\tStringTie\texon\t7452823\t7452929\t1000\t-\t.\tgene_id \"STRG.12729\"; transcript_id \"STRG.12729.1\"; exon_number \"21\"; cov \"8.296545\";\n",
      " chr10\tStringTie\texon\t51338277\t51338363\t1000\t-\t.\tgene_id \"STRG.13002\"; transcript_id \"STRG.13002.2\"; exon_number \"11\"; cov \"6.715860\";\n",
      " chr10\tStringTie\texon\t51338277\t51338363\t1000\t-\t.\tgene_id \"STRG.13002\"; transcript_id \"STRG.13002.2\"; exon_number \"11\"; cov \"6.715860\";\n",
      " chr10\tStringTie\texon\t51338277\t51338363\t1000\t-\t.\tgene_id \"STRG.13002\"; transcript_id \"STRG.13002.2\"; exon_number \"11\"; cov \"6.715860\";\n",
      " chr10\tStringTie\texon\t88278340\t88278422\t1000\t-\t.\tgene_id \"STRG.13230\"; transcript_id \"STRG.13230.4\"; exon_number \"16\"; cov \"3.176707\";\n",
      " chr10\tStringTie\texon\t127573934\t127574245\t1000\t-\t.\tgene_id \"STRG.13617\"; transcript_id \"STRG.13617.1\"; exon_number \"12\"; cov \"57.094875\";\n",
      " chr11\tStringTie\texon\t319675\t319991\t1000\t+\t.\tgene_id \"STRG.13671\"; transcript_id \"STRG.13671.10\"; exon_number \"1\"; cov \"29.160051\";\n",
      " chr11\tStringTie\texon\t68229095\t68229168\t1000\t+\t.\tgene_id \"STRG.14462\"; transcript_id \"STRG.14462.5\"; exon_number \"2\"; cov \"1.817861\";\n",
      " chr11\tStringTie\texon\t130764840\t130765051\t1000\t-\t.\tgene_id \"STRG.14986\"; transcript_id \"STRG.14986.5\"; exon_number \"1\"; cov \"8.783552\";\n",
      " chr12\tStringTie\texon\t51636114\t51636114\t1000\t+\t.\tgene_id \"STRG.15502\"; transcript_id \"STRG.15502.3\"; exon_number \"2\"; reference_id \"ENST00000552459.1\"; ref_gene_id \"ENSG00000183283.10\"; ref_gene_name \"DAZAP2\"; cov \"16046.799805\";\n",
      " chr12\tStringTie\texon\t62252900\t62252999\t1000\t-\t.\tgene_id \"STRG.15695\"; transcript_id \"STRG.15695.1\"; exon_number \"4\"; cov \"37.542355\";\n",
      " chr12\tStringTie\texon\t122885199\t122891472\t1000\t-\t.\tgene_id \"STRG.16221\"; transcript_id \"STRG.16221.4\"; exon_number \"25\"; cov \"1.289651\";\n",
      " chr12\tStringTie\texon\t122901874\t122902010\t1000\t-\t.\tgene_id \"STRG.16221\"; transcript_id \"STRG.16221.4\"; exon_number \"26\"; cov \"4.099784\";\n",
      " chr13\tStringTie\texon\t79892956\t79893014\t1000\t-\t.\tgene_id \"STRG.16675\"; transcript_id \"STRG.16675.1\"; exon_number \"2\"; cov \"40.746906\";\n",
      " chr14\tStringTie\texon\t81790361\t81790531\t1000\t-\t.\tgene_id \"STRG.17375\"; transcript_id \"STRG.17375.1\"; exon_number \"4\"; cov \"34.236721\";\n",
      " chr15\tStringTie\texon\t66650169\t66650286\t1000\t-\t.\tgene_id \"STRG.18091\"; transcript_id \"STRG.18091.2\"; exon_number \"10\"; cov \"1.127119\";\n",
      " chr15\tStringTie\texon\t75659852\t75659852\t1000\t-\t.\tgene_id \"STRG.18206\"; transcript_id \"STRG.18206.27\"; exon_number \"9\"; reference_id \"ENST00000570257.1\"; ref_gene_id \"ENSG00000140400.9\"; ref_gene_name \"MAN2C1\"; cov \"0.000000\";\n",
      " chr15\tStringTie\texon\t91414736\t91414835\t1000\t+\t.\tgene_id \"STRG.18402\"; transcript_id \"STRG.18402.1\"; exon_number \"1\"; cov \"70.055283\";\n",
      " chr16\tStringTie\texon\t24123697\t24123956\t1000\t+\t.\tgene_id \"STRG.18832\"; transcript_id \"STRG.18832.1\"; exon_number \"1\"; cov \"59.281345\";\n",
      " chr17\tStringTie\texon\t37695059\t37699921\t1000\t+\t.\tgene_id \"STRG.20066\"; transcript_id \"STRG.20066.2\"; exon_number \"15\"; cov \"0.302045\";\n",
      " chr19\tStringTie\texon\t46676678\t46676777\t1000\t-\t.\tgene_id \"STRG.22331\"; transcript_id \"STRG.22331.1\"; exon_number \"1\"; cov \"15.406239\";\n",
      " chr19\tStringTie\texon\t46676678\t46676777\t1000\t-\t.\tgene_id \"STRG.22331\"; transcript_id \"STRG.22331.2\"; exon_number \"1\"; cov \"0.285326\";\n",
      " chr2\tStringTie\texon\t37438984\t37439184\t1000\t+\t.\tgene_id \"STRG.2798\"; transcript_id \"STRG.2798.1\"; exon_number \"1\"; cov \"22.647470\";\n",
      " chr2\tStringTie\texon\t48018062\t48018288\t1000\t-\t.\tgene_id \"STRG.2895\"; transcript_id \"STRG.2895.1\"; exon_number \"1\"; cov \"36.106037\";\n",
      " chr2\tStringTie\texon\t48025747\t48030827\t1000\t-\t.\tgene_id \"STRG.2895\"; transcript_id \"STRG.2895.4\"; exon_number \"1\"; cov \"97.597153\";\n",
      " chr2\tStringTie\texon\t134024085\t134025038\t1000\t-\t.\tgene_id \"STRG.3525\"; transcript_id \"STRG.3525.1\"; exon_number \"17\"; cov \"16.594948\";\n",
      " chr2\tStringTie\texon\t162196032\t162196815\t1000\t+\t.\tgene_id \"STRG.3643\"; transcript_id \"STRG.3643.3\"; exon_number \"4\"; cov \"124.786072\";\n",
      " chr2\tStringTie\texon\t233351670\t233351793\t1000\t-\t.\tgene_id \"STRG.4205\"; transcript_id \"STRG.4205.3\"; exon_number \"18\"; cov \"5.750268\";\n",
      " chr2\tStringTie\texon\t237476749\t237477244\t1000\t+\t.\tgene_id \"STRG.4239\"; transcript_id \"STRG.4239.2\"; exon_number \"2\"; cov \"1.070269\";\n",
      " chr20\tStringTie\texon\t61482857\t61484240\t1000\t-\t.\tgene_id \"STRG.23266\"; transcript_id \"STRG.23266.1\"; exon_number \"1\"; cov \"71.753235\";\n",
      " chr22\tStringTie\texon\t19422257\t19423590\t1000\t-\t.\tgene_id \"STRG.23648\"; transcript_id \"STRG.23648.1\"; exon_number \"1\"; cov \"168.910049\";\n",
      " chr22\tStringTie\texon\t19422257\t19423590\t1000\t-\t.\tgene_id \"STRG.23648\"; transcript_id \"STRG.23648.1\"; exon_number \"1\"; cov \"168.910049\";\n",
      " chr22\tStringTie\texon\t31217543\t31217693\t1000\t+\t.\tgene_id \"STRG.23852\"; transcript_id \"STRG.23852.4\"; exon_number \"1\"; cov \"11.586637\";\n",
      " chr22\tStringTie\texon\t31217543\t31217693\t1000\t+\t.\tgene_id \"STRG.23852\"; transcript_id \"STRG.23852.5\"; exon_number \"1\"; cov \"14.167499\";\n",
      " chr22\tStringTie\texon\t50733806\t50733858\t1000\t-\t.\tgene_id \"STRG.24115\"; transcript_id \"STRG.24115.2\"; exon_number \"37\"; cov \"28.100431\";\n",
      " chr3\tStringTie\texon\t42623621\t42623727\t1000\t+\t.\tgene_id \"STRG.4589\"; transcript_id \"STRG.4589.1\"; exon_number \"1\"; cov \"0.649282\";\n",
      " chr3\tStringTie\texon\t42630249\t42630419\t1000\t+\t.\tgene_id \"STRG.4589\"; transcript_id \"STRG.4589.1\"; exon_number \"2\"; cov \"2.339849\";\n",
      " chr3\tStringTie\texon\t51526405\t51526504\t1000\t-\t.\tgene_id \"STRG.4721\"; transcript_id \"STRG.4721.1\"; exon_number \"23\"; cov \"2.992656\";\n",
      " chr3\tStringTie\texon\t51530750\t51530796\t1000\t-\t.\tgene_id \"STRG.4721\"; transcript_id \"STRG.4721.1\"; exon_number \"24\"; cov \"0.000000\";\n",
      " chr3\tStringTie\texon\t54353925\t54354124\t1000\t+\t.\tgene_id \"STRG.4768\"; transcript_id \"STRG.4768.2\"; exon_number \"1\"; cov \"17.575001\";\n",
      " chr3\tStringTie\texon\t122249602\t122249742\t1000\t-\t.\tgene_id \"STRG.5070\"; transcript_id \"STRG.5070.4\"; exon_number \"2\"; cov \"72.177521\";\n",
      " chr3\tStringTie\texon\t195942771\t195942788\t1000\t-\t.\tgene_id \"STRG.5619\"; transcript_id \"STRG.5619.1\"; exon_number \"1\"; cov \"1.322783\";\n",
      " chr4\tStringTie\texon\t1091708\t1091825\t1000\t-\t.\tgene_id \"STRG.5677\"; transcript_id \"STRG.5677.2\"; exon_number \"11\"; cov \"30.293783\";\n",
      " chr4\tStringTie\texon\t1091708\t1091825\t1000\t-\t.\tgene_id \"STRG.5677\"; transcript_id \"STRG.5677.3\"; exon_number \"3\"; cov \"28.827654\";\n",
      " chr4\tStringTie\texon\t6867919\t6867990\t1000\t+\t.\tgene_id \"STRG.5761\"; transcript_id \"STRG.5761.2\"; exon_number \"7\"; cov \"26.855455\";\n",
      " chr4\tStringTie\texon\t15668750\t15669663\t1000\t-\t.\tgene_id \"STRG.5814\"; transcript_id \"STRG.5814.1\"; exon_number \"12\"; cov \"29.553249\";\n",
      " chr4\tStringTie\texon\t75167414\t75167414\t1000\t+\t.\tgene_id \"STRG.6119\"; transcript_id \"STRG.6119.3\"; exon_number \"9\"; reference_id \"ENST00000359107.4\"; ref_gene_id \"ENSG00000163738.13\"; ref_gene_name \"MTHFD2L\"; cov \"700.917786\";\n",
      " chr4\tStringTie\texon\t87870656\t87870941\t1000\t+\t.\tgene_id \"STRG.6216\"; transcript_id \"STRG.6216.1\"; exon_number \"1\"; cov \"132.686066\";\n",
      " chr5\tStringTie\texon\t43136771\t43138060\t1000\t+\t.\tgene_id \"STRG.7043\"; transcript_id \"STRG.7043.14\"; exon_number \"4\"; cov \"20.369576\";\n",
      " chr5\tStringTie\texon\t56479624\t56479745\t1000\t+\t.\tgene_id \"STRG.7119\"; transcript_id \"STRG.7119.4\"; exon_number \"3\"; cov \"22.886847\";\n",
      " chr5\tStringTie\texon\t111602907\t111602981\t1000\t-\t.\tgene_id \"STRG.7431\"; transcript_id \"STRG.7431.1\"; exon_number \"20\"; cov \"104.370255\";\n",
      " chr5\tStringTie\texon\t132605818\t132606355\t1000\t-\t.\tgene_id \"STRG.7551\"; transcript_id \"STRG.7551.1\"; exon_number \"1\"; cov \"90.912666\";\n",
      " chr5\tStringTie\texon\t137667884\t137668038\t1000\t+\t.\tgene_id \"STRG.7600\"; transcript_id \"STRG.7600.1\"; exon_number \"1\"; cov \"1.495400\";\n",
      " chr5\tStringTie\texon\t173786285\t173790072\t1000\t+\t.\tgene_id \"STRG.7919\"; transcript_id \"STRG.7919.1\"; exon_number \"2\"; cov \"31.812922\";\n",
      " chr5\tStringTie\texon\t178977953\t178978730\t1000\t+\t.\tgene_id \"STRG.7984\"; transcript_id \"STRG.7984.2\"; exon_number \"1\"; cov \"2.293702\";\n",
      " chr6\tStringTie\texon\t26127926\t26127989\t1000\t+\t.\tgene_id \"STRG.8216\"; transcript_id \"STRG.8216.2\"; exon_number \"2\"; cov \"99.535629\";\n",
      " chr6\tStringTie\texon\t36842490\t36845883\t1000\t+\t.\tgene_id \"STRG.8538\"; transcript_id \"STRG.8538.2\"; exon_number \"1\"; cov \"1.787660\";\n",
      " chr6\tStringTie\texon\t42903150\t42903211\t1000\t+\t.\tgene_id \"STRG.8601\"; transcript_id \"STRG.8601.2\"; exon_number \"3\"; cov \"59.217041\";\n",
      " chr6\tStringTie\texon\t117888002\t117888201\t1000\t+\t.\tgene_id \"STRG.9032\"; transcript_id \"STRG.9032.1\"; exon_number \"1\"; cov \"51.212418\";\n",
      " chr6\tStringTie\texon\t158979526\t158981264\t1000\t+\t.\tgene_id \"STRG.9280\"; transcript_id \"STRG.9280.1\"; exon_number \"1\"; cov \"2.774364\";\n",
      " chr7\tStringTie\texon\t2594675\t2595036\t1000\t-\t.\tgene_id \"STRG.9393\"; transcript_id \"STRG.9393.2\"; exon_number \"14\"; cov \"13.432782\";\n",
      " chr7\tStringTie\texon\t35076709\t35077264\t1000\t-\t.\tgene_id \"STRG.9628\"; transcript_id \"STRG.9628.2\"; exon_number \"22\"; cov \"2.011222\";\n",
      " chr7\tStringTie\texon\t35076709\t35077118\t1000\t-\t.\tgene_id \"STRG.9628\"; transcript_id \"STRG.9628.1\"; exon_number \"16\"; cov \"35.361256\";\n",
      " chr7\tStringTie\texon\t92094001\t92094244\t1000\t+\t.\tgene_id \"STRG.10012\"; transcript_id \"STRG.10012.1\"; exon_number \"7\"; cov \"1.885246\";\n",
      " chr7\tStringTie\texon\t93436516\t93437384\t1000\t+\t.\tgene_id \"STRG.10022\"; transcript_id \"STRG.10022.2\"; exon_number \"2\"; cov \"71.664284\";\n",
      " chr8\tStringTie\texon\t145508970\t145509168\t1000\t-\t.\tgene_id \"STRG.11573\"; transcript_id \"STRG.11573.3\"; exon_number \"15\"; cov \"1.038047\";\n",
      " chr9\tStringTie\texon\t426885\t426885\t1000\t+\t.\tgene_id \"STRG.11608\"; transcript_id \"STRG.11608.1\"; exon_number \"5\"; reference_id \"ENST00000493666.1\"; ref_gene_id \"ENSG00000107099.10\"; ref_gene_name \"DOCK8\"; cov \"0.000000\";\n",
      " chr9\tStringTie\texon\t68727457\t68727638\t1000\t+\t.\tgene_id \"STRG.11957\"; transcript_id \"STRG.11957.1\"; exon_number \"2\"; cov \"30.684978\";\n",
      " chr9\tStringTie\texon\t68741663\t68741832\t1000\t+\t.\tgene_id \"STRG.11957\"; transcript_id \"STRG.11957.1\"; exon_number \"4\"; cov \"32.917004\";\n",
      " chr9\tStringTie\texon\t88913682\t88913745\t1000\t-\t.\tgene_id \"STRG.12064\"; transcript_id \"STRG.12064.2\"; exon_number \"2\"; cov \"14.219512\";\n",
      " chr9\tStringTie\texon\t101900141\t101900141\t1000\t+\t.\tgene_id \"STRG.12201\"; transcript_id \"STRG.12201.4\"; exon_number \"4\"; reference_id \"ENST00000552573.1\"; ref_gene_id \"ENSG00000106799.7\"; ref_gene_name \"TGFBR1\"; cov \"111.266663\";\n",
      " chr9\tStringTie\texon\t131269495\t131269619\t1000\t+\t.\tgene_id \"STRG.12470\"; transcript_id \"STRG.12470.2\"; exon_number \"2\"; cov \"45.542130\";\n",
      " "
     ]
    }
   ],
   "source": [
    "kd_unannotated_cryptic_exons.head(n=100)"
   ]
  },
  {
   "cell_type": "markdown",
   "metadata": {},
   "source": [
    "Conclusions from today:\n",
    "StringTie is fast as hell, but its max flow approach doesn't identify all possible exons.  This is probbably by design from the max flow algorithm.  \n",
    "\n",
    "cufflinks looks like it idenitifes a bit more, I'm testing it out seriously right now.  We'll see how it goes, Going to put it on a 4 day time limit.  "
   ]
  },
  {
   "cell_type": "code",
   "execution_count": 171,
   "metadata": {
    "collapsed": false
   },
   "outputs": [
    {
     "name": "stdout",
     "output_type": "stream",
     "text": [
      "570101 132590\n",
      "78 21\n"
     ]
    }
   ],
   "source": [
    "print len(kd_unannotated_exons), len(ctrl_unannotated_exons)\n",
    "print len(kd_unannotated_cryptic_exons), len(ctrl_unannotated_cryptic_exons)"
   ]
  },
  {
   "cell_type": "code",
   "execution_count": 140,
   "metadata": {
    "collapsed": false
   },
   "outputs": [
    {
     "data": {
      "text/plain": [
       "<BedTool(cryptic_exons.gtf)>"
      ]
     },
     "execution_count": 140,
     "metadata": {},
     "output_type": "execute_result"
    }
   ],
   "source": [
    "kd_unannotated_cryptic_exons.saveas(\"cryptic_exons.gtf\")"
   ]
  },
  {
   "cell_type": "code",
   "execution_count": 141,
   "metadata": {
    "collapsed": false
   },
   "outputs": [
    {
     "name": "stdout",
     "output_type": "stream",
     "text": [
      "chr1\tStringTie\texon\t1779317\t1783702\t1000\t-\t.\tgene_id \"STRG.121\"; transcript_id \"STRG.121.3\"; exon_number \"12\"; cov \"0.750693\";\n",
      " chr1\tStringTie\texon\t1784591\t1784736\t1000\t-\t.\tgene_id \"STRG.121\"; transcript_id \"STRG.121.4\"; exon_number \"12\"; cov \"14.770548\";\n",
      " chr1\tStringTie\texon\t1811226\t1811341\t1000\t-\t.\tgene_id \"STRG.121\"; transcript_id \"STRG.121.2\"; exon_number \"12\"; cov \"0.719212\";\n",
      " chr1\tStringTie\texon\t12227722\t12227757\t1000\t+\t.\tgene_id \"STRG.264\"; transcript_id \"STRG.264.1\"; exon_number \"2\"; cov \"1.383438\";\n",
      " chr1\tStringTie\texon\t55680279\t55680370\t1000\t-\t.\tgene_id \"STRG.935\"; transcript_id \"STRG.935.1\"; exon_number \"68\"; cov \"2.165092\";\n",
      " chr1\tStringTie\texon\t161171100\t161171123\t1000\t+\t.\tgene_id \"STRG.1803\"; transcript_id \"STRG.1803.1\"; exon_number \"1\"; cov \"1.000000\";\n",
      " chr1\tStringTie\texon\t212977662\t212977662\t1000\t+\t.\tgene_id \"STRG.2247\"; transcript_id \"STRG.2247.14\"; exon_number \"6\"; reference_id \"ENST00000497768.2\"; ref_gene_id \"ENSG00000203705.5\"; ref_gene_name \"TATDN3\"; cov \"0.000000\";\n",
      " chr1\tStringTie\texon\t212981078\t212981078\t1000\t+\t.\tgene_id \"STRG.2247\"; transcript_id \"STRG.2247.8\"; exon_number \"8\"; reference_id \"ENST00000530399.1\"; ref_gene_id \"ENSG00000203705.5\"; ref_gene_name \"TATDN3\"; cov \"116.667435\";\n",
      " chr10\tStringTie\texon\t26964623\t26964722\t1000\t-\t.\tgene_id \"STRG.2729\"; transcript_id \"STRG.2729.1\"; exon_number \"3\"; cov \"17.006689\";\n",
      " chr10\tStringTie\texon\t70433158\t70433244\t1000\t+\t.\tgene_id \"STRG.2987\"; transcript_id \"STRG.2987.1\"; exon_number \"9\"; cov \"41.938366\";\n",
      " chr11\tStringTie\texon\t43702670\t43702733\t1000\t+\t.\tgene_id \"STRG.4000\"; transcript_id \"STRG.4000.2\"; exon_number \"1\"; cov \"2.574067\";\n",
      " chr11\tStringTie\texon\t59424553\t59424626\t1000\t-\t.\tgene_id \"STRG.4124\"; transcript_id \"STRG.4124.2\"; exon_number \"15\"; cov \"8.233240\";\n",
      " chr11\tStringTie\texon\t64891974\t64892130\t1000\t-\t.\tgene_id \"STRG.4288\"; transcript_id \"STRG.4288.1\"; exon_number \"6\"; cov \"0.878630\";\n",
      " chr12\tStringTie\texon\t51636114\t51636114\t1000\t+\t.\tgene_id \"STRG.5499\"; transcript_id \"STRG.5499.12\"; exon_number \"2\"; reference_id \"ENST00000552459.1\"; ref_gene_id \"ENSG00000183283.10\"; ref_gene_name \"DAZAP2\"; cov \"3862.086914\";\n",
      " chr12\tStringTie\texon\t53421565\t53421703\t1000\t-\t.\tgene_id \"STRG.5525\"; transcript_id \"STRG.5525.1\"; exon_number \"1\"; cov \"50.514858\";\n",
      " chr12\tStringTie\texon\t53421799\t53421972\t1000\t-\t.\tgene_id \"STRG.5525\"; transcript_id \"STRG.5525.1\"; exon_number \"2\"; cov \"37.885353\";\n",
      " chr12\tStringTie\texon\t53427590\t53427818\t1000\t-\t.\tgene_id \"STRG.5525\"; transcript_id \"STRG.5525.1\"; exon_number \"3\"; cov \"1.693052\";\n",
      " chr12\tStringTie\texon\t53428396\t53428493\t1000\t-\t.\tgene_id \"STRG.5525\"; transcript_id \"STRG.5525.1\"; exon_number \"4\"; cov \"18.558424\";\n",
      " chr12\tStringTie\texon\t53431193\t53431407\t1000\t-\t.\tgene_id \"STRG.5525\"; transcript_id \"STRG.5525.1\"; exon_number \"5\"; cov \"11.254783\";\n",
      " chr14\tStringTie\texon\t24616732\t24616732\t1000\t-\t.\tgene_id \"STRG.6881\"; transcript_id \"STRG.6881.3\"; exon_number \"13\"; cov \"0.500000\";\n",
      " chr14\tStringTie\texon\t78184710\t78184873\t1000\t+\t.\tgene_id \"STRG.7359\"; transcript_id \"STRG.7359.1\"; exon_number \"5\"; cov \"16.619932\";\n",
      " chr14\tStringTie\texon\t78189524\t78189620\t1000\t+\t.\tgene_id \"STRG.7359\"; transcript_id \"STRG.7359.1\"; exon_number \"7\"; cov \"1.049878\";\n",
      " chr14\tStringTie\texon\t78197331\t78198971\t1000\t+\t.\tgene_id \"STRG.7359\"; transcript_id \"STRG.7359.1\"; exon_number \"8\"; cov \"0.105002\";\n",
      " chr15\tStringTie\texon\t25660862\t25660989\t1000\t-\t.\tgene_id \"STRG.7653\"; transcript_id \"STRG.7653.1\"; exon_number \"14\"; cov \"4.294557\";\n",
      " chr16\tStringTie\texon\t57481573\t57481603\t1000\t+\t.\tgene_id \"STRG.9221\"; transcript_id \"STRG.9221.1\"; exon_number \"1\"; cov \"2.109694\";\n",
      " chr17\tStringTie\texon\t7789580\t7789651\t1000\t+\t.\tgene_id \"STRG.9828\"; transcript_id \"STRG.9828.1\"; exon_number \"1\"; cov \"2.190476\";\n",
      " chr19\tStringTie\texon\t3479123\t3479501\t1000\t-\t.\tgene_id \"STRG.11607\"; transcript_id \"STRG.11607.1\"; exon_number \"4\"; cov \"0.735158\";\n",
      " chr19\tStringTie\texon\t29035532\t29035631\t1000\t-\t.\tgene_id \"STRG.12222\"; transcript_id \"STRG.12222.7\"; exon_number \"4\"; cov \"45.806019\";\n",
      " chr19\tStringTie\texon\t29035532\t29035631\t1000\t-\t.\tgene_id \"STRG.12222\"; transcript_id \"STRG.12222.7\"; exon_number \"4\"; cov \"45.806019\";\n",
      " chr19\tStringTie\texon\t29035532\t29035631\t1000\t-\t.\tgene_id \"STRG.12222\"; transcript_id \"STRG.12222.5\"; exon_number \"5\"; cov \"90.852097\";\n",
      " chr19\tStringTie\texon\t29035532\t29035631\t1000\t-\t.\tgene_id \"STRG.12222\"; transcript_id \"STRG.12222.5\"; exon_number \"5\"; cov \"90.852097\";\n",
      " chr19\tStringTie\texon\t34920998\t34921091\t1000\t+\t.\tgene_id \"STRG.12270\"; transcript_id \"STRG.12270.2\"; exon_number \"2\"; cov \"57.038185\";\n",
      " chr2\tStringTie\texon\t55479613\t55479613\t1000\t-\t.\tgene_id \"STRG.13533\"; transcript_id \"STRG.13533.4\"; exon_number \"7\"; reference_id \"ENST00000418823.3\"; ref_gene_id \"ENSG00000085760.9\"; ref_gene_name \"MTIF2\"; cov \"28.001547\";\n",
      " chr2\tStringTie\texon\t131849382\t131850504\t1000\t-\t.\tgene_id \"STRG.14091\"; transcript_id \"STRG.14091.1\"; exon_number \"7\"; cov \"1.586410\";\n",
      " chr2\tStringTie\texon\t170667368\t170667554\t1000\t-\t.\tgene_id \"STRG.14279\"; transcript_id \"STRG.14279.2\"; exon_number \"5\"; cov \"6.908380\";\n",
      " chr2\tStringTie\texon\t170667368\t170667554\t1000\t-\t.\tgene_id \"STRG.14279\"; transcript_id \"STRG.14279.1\"; exon_number \"5\"; cov \"67.878761\";\n",
      " chr2\tStringTie\texon\t170667693\t170667833\t1000\t-\t.\tgene_id \"STRG.14279\"; transcript_id \"STRG.14279.1\"; exon_number \"6\"; cov \"8.600841\";\n",
      " chr2\tStringTie\texon\t170667693\t170667833\t1000\t-\t.\tgene_id \"STRG.14279\"; transcript_id \"STRG.14279.2\"; exon_number \"6\"; cov \"0.765328\";\n",
      " chr20\tStringTie\texon\t21186274\t21186274\t1000\t+\t.\tgene_id \"STRG.15034\"; transcript_id \"STRG.15034.5\"; exon_number \"8\"; reference_id \"ENST00000458446.2\"; ref_gene_id \"ENSG00000088970.11\"; ref_gene_name \"PLK1S1\"; cov \"0.000000\";\n",
      " chr20\tStringTie\texon\t34362410\t34362982\t1000\t+\t.\tgene_id \"STRG.15173\"; transcript_id \"STRG.15173.1\"; exon_number \"2\"; cov \"52.112457\";\n",
      " chr21\tStringTie\texon\t17102985\t17103007\t1000\t+\t.\tgene_id \"STRG.15515\"; transcript_id \"STRG.15515.1\"; exon_number \"1\"; cov \"1.248373\";\n",
      " chr5\tStringTie\texon\t175824608\t175824686\t1000\t+\t.\tgene_id \"STRG.19898\"; transcript_id \"STRG.19898.1\"; exon_number \"3\"; cov \"0.995781\";\n",
      " chr6\tStringTie\texon\t26127926\t26127989\t1000\t+\t.\tgene_id \"STRG.20178\"; transcript_id \"STRG.20178.4\"; exon_number \"2\"; cov \"15.107587\";\n",
      " chr6\tStringTie\texon\t36842728\t36842823\t1000\t+\t.\tgene_id \"STRG.20456\"; transcript_id \"STRG.20456.1\"; exon_number \"1\"; cov \"1.387500\";\n",
      " chr6\tStringTie\texon\t75953936\t75956834\t1000\t-\t.\tgene_id \"STRG.20695\"; transcript_id \"STRG.20695.6\"; exon_number \"5\"; cov \"0.256603\";\n",
      " chr6\tStringTie\texon\t105405535\t105405726\t1000\t+\t.\tgene_id \"STRG.20819\"; transcript_id \"STRG.20819.3\"; exon_number \"1\"; cov \"12.968033\";\n",
      " chr6\tStringTie\texon\t105405535\t105405662\t1000\t+\t.\tgene_id \"STRG.20819\"; transcript_id \"STRG.20819.2\"; exon_number \"1\"; cov \"12.484474\";\n",
      " chr6\tStringTie\texon\t122803044\t122803411\t1000\t+\t.\tgene_id \"STRG.20944\"; transcript_id \"STRG.20944.1\"; exon_number \"3\"; cov \"4.635067\";\n",
      " chr6\tStringTie\texon\t122906638\t122906698\t1000\t+\t.\tgene_id \"STRG.20944\"; transcript_id \"STRG.20944.1\"; exon_number \"4\"; cov \"7.944515\";\n",
      " chr6\tStringTie\texon\t135503080\t135503142\t1000\t+\t.\tgene_id \"STRG.21005\"; transcript_id \"STRG.21005.2\"; exon_number \"1\"; cov \"1.375661\";\n",
      " chr6\tStringTie\texon\t135503178\t135504431\t1000\t+\t.\tgene_id \"STRG.21005\"; transcript_id \"STRG.21005.3\"; exon_number \"1\"; cov \"0.663654\";\n",
      " chr7\tStringTie\texon\t12385365\t12385586\t1000\t-\t.\tgene_id \"STRG.21363\"; transcript_id \"STRG.21363.4\"; exon_number \"11\"; cov \"60.391735\";\n",
      " chr7\tStringTie\texon\t120725123\t120725437\t1000\t+\t.\tgene_id \"STRG.22122\"; transcript_id \"STRG.22122.3\"; exon_number \"2\"; cov \"78.665855\";\n",
      " chr8\tStringTie\texon\t30511220\t30512417\t1000\t-\t.\tgene_id \"STRG.22643\"; transcript_id \"STRG.22643.2\"; exon_number \"8\"; cov \"1.885472\";\n",
      " chr8\tStringTie\texon\t129057444\t129057676\t1000\t+\t.\tgene_id \"STRG.23218\"; transcript_id \"STRG.23218.1\"; exon_number \"1\"; cov \"187.064499\";\n",
      " chr8\tStringTie\texon\t129057444\t129057676\t1000\t+\t.\tgene_id \"STRG.23218\"; transcript_id \"STRG.23218.3\"; exon_number \"1\"; cov \"28.869047\";\n",
      " chr8\tStringTie\texon\t129057444\t129057676\t1000\t+\t.\tgene_id \"STRG.23218\"; transcript_id \"STRG.23218.2\"; exon_number \"1\"; cov \"81.574898\";\n",
      " chr9\tStringTie\texon\t4985705\t4985788\t1000\t+\t.\tgene_id \"STRG.23407\"; transcript_id \"STRG.23407.1\"; exon_number \"1\"; cov \"5.644231\";\n",
      " chr9\tStringTie\texon\t86594516\t86594590\t1000\t-\t.\tgene_id \"STRG.23765\"; transcript_id \"STRG.23765.7\"; exon_number \"17\"; cov \"9.773867\";\n",
      " chrX\tStringTie\texon\t53710315\t53710673\t1000\t-\t.\tgene_id \"STRG.24749\"; transcript_id \"STRG.24749.1\"; exon_number \"84\"; cov \"2.713092\";\n",
      " "
     ]
    }
   ],
   "source": [
    "kd_unannotated_cryptic_exons.head(n=1000)"
   ]
  },
  {
   "cell_type": "code",
   "execution_count": 68,
   "metadata": {
    "collapsed": false
   },
   "outputs": [
    {
     "name": "stdout",
     "output_type": "stream",
     "text": [
      "131026 51446\n"
     ]
    }
   ],
   "source": [
    "print 83806 + 47220,\n",
    "print 32267 + 19179 \n",
    "#unannotated + annotated is equal to total.  Good sanity check.  "
   ]
  },
  {
   "cell_type": "code",
   "execution_count": 69,
   "metadata": {
    "collapsed": false
   },
   "outputs": [],
   "source": [
    "overlapping_annotated_kd_ctrl = kd_unannotated_exons.intersect(ctrl_unannotated_exons, s=True, u=True, f=1.0, r=True, sorted=True).saveas()\n",
    "overlapping_annotated_ctrl_kd = ctrl_unannotated_exons.intersect(kd_unannotated_exons, s=True, u=True, f=1.0, r=True, sorted=True).saveas()\n"
   ]
  },
  {
   "cell_type": "code",
   "execution_count": 70,
   "metadata": {
    "collapsed": false
   },
   "outputs": [
    {
     "data": {
      "text/plain": [
       "(1661, 1676)"
      ]
     },
     "execution_count": 70,
     "metadata": {},
     "output_type": "execute_result"
    }
   ],
   "source": [
    "len(overlapping_annotated_kd_ctrl), len(overlapping_annotated_ctrl_kd)"
   ]
  },
  {
   "cell_type": "markdown",
   "metadata": {},
   "source": [
    "This is interesting, cryptic exons don't really overlap, but there are bunches of cryptic exons in both ctrl and kd that weren't reported.  Time to dig into this.  \n",
    "\n",
    "Important Questions:\n",
    "\n",
    "1. Do these unannoated exons have correct splice junctions?\n",
    "2. What is the PSI score / general coverage of these exons?"
   ]
  },
  {
   "cell_type": "markdown",
   "metadata": {},
   "source": [
    "#1. What do splice junctions look like?"
   ]
  },
  {
   "cell_type": "code",
   "execution_count": 90,
   "metadata": {
    "collapsed": true
   },
   "outputs": [],
   "source": [
    "def make_interval(interval):\n",
    "    #Might still need this code\n",
    "    if interval.start > 2:\n",
    "        interval.start -= 2\n",
    "        interval.stop += 2\n",
    "    transcript_gene_id = (interval.attrs['transcript_id'][0], [0])\n",
    "    if interval.start > interval.stop:\n",
    "        print interval\n",
    "    name = \"{}:{}-{}({}) {} {} {}\".format(interval.chrom, \n",
    "                                          interval.start, \n",
    "                                          interval.stop, \n",
    "                                          interval.strand,\n",
    "                                          interval.attrs['exon_number'], \n",
    "                                          interval.attrs['transcript_id'],\n",
    "                                          interval.attrs['gene_id'])\n",
    "    interval = pybedtools.create_interval_from_list([interval.chrom, interval.start, interval.stop, name, \"0\", interval.strand])\n",
    "    return interval "
   ]
  },
  {
   "cell_type": "code",
   "execution_count": 72,
   "metadata": {
    "collapsed": false
   },
   "outputs": [],
   "source": [
    "ctrl_annotated_exons_bed = ctrl_annotated_exons.each(make_interval).saveas()\n",
    "ctrl_annotated_exons_fasta = ctrl_annotated_exons_bed.sequence(fi=\"/projects/ps-yeolab/genomes/hg19/chromosomes/all.fa\", fo=\"ctrl_annotated_exons.fasta\", name=True, fullHeader=True, s=True)"
   ]
  },
  {
   "cell_type": "code",
   "execution_count": 73,
   "metadata": {
    "collapsed": false
   },
   "outputs": [],
   "source": [
    "def make_exon_count_dict(db):\n",
    "    exon_count_dict = {}\n",
    "    for transcript in db.features_of_type(\"transcript\"):\n",
    "        exons = list(db.children(transcript, featuretype=\"exon\", order_by=\"start\"))\n",
    "\n",
    "        exon_numbers = [interval.attributes['exon_number'][0] for interval in exons]\n",
    "        transcript_id = exons[0].attributes['transcript_id'][0]\n",
    "        transcript_gene_id = (transcript.attributes['transcript_id'][0], transcript.attributes['gene_id'][0])\n",
    "\n",
    "        exon_count_dict[transcript_gene_id] = {\"min\": min(exon_numbers),\n",
    "                                 \"max\": max(exon_numbers)}\n",
    "\n",
    "        if transcript_id in exon_count_dict:\n",
    "            print transcript_id\n",
    "    return exon_count_dict\n",
    "    \n",
    "ctrl_exon_count_dict = make_exon_count_dict(ctrl_db)\n",
    "kd_exon_count_dict = make_exon_count_dict(kd_db)"
   ]
  },
  {
   "cell_type": "code",
   "execution_count": 74,
   "metadata": {
    "collapsed": false
   },
   "outputs": [],
   "source": [
    "def count_splice_junctions(fasta_file, exon_count_dict):\n",
    "    result = {}\n",
    "    for exon in SeqIO.parse(fasta_file, \"fasta\"):\n",
    "        strand = exon.name[-2]\n",
    "        five_prime = exon.seq[-2:].upper() == \"GT\"\n",
    "        three_prime = exon.seq[:2].upper() == \"AG\"\n",
    "        exon_number = int(exon.description.split()[1])\n",
    "        transcript_id =  exon.description.split()[2]\n",
    "        gene_id =  exon.description.split()[3]\n",
    "        try:\n",
    "            max_exon = exon_count_dict[(transcript_id, gene_id)]['max']\n",
    "            min_exon = exon_count_dict[(transcript_id, gene_id)]['min']\n",
    "        except KeyError:\n",
    "            continue\n",
    "\n",
    "        if strand == \"+\":\n",
    "            if exon_number == int(min_exon):\n",
    "                five_prime = \"first_exon\"\n",
    "            if exon_number == int(max_exon):\n",
    "                three_prime = \"last_exon\"\n",
    "        elif strand == \"-\":\n",
    "            if exon_number == int(max_exon):\n",
    "                five_prime = \"first_exon\"\n",
    "            if exon_number == int(min_exon):\n",
    "                three_prime = \"last_exon\"\n",
    "        else:\n",
    "            print \"strand not right\"\n",
    "            continue\n",
    "            \n",
    "            #raise(\"Strand not right\")\n",
    "        result[exon.id] = {\"exon_number\": exon_number,\n",
    "                           \"five_prime\": five_prime, \n",
    "                           \"three_prime\": three_prime,\n",
    "                           \"five_prime_seq\": \"\".join(exon.seq[-2:]).upper(), \n",
    "                           \"three_prime_seq\": \"\".join(exon.seq[:2]).upper()}\n",
    "\n",
    "    result = pd.DataFrame(result).T\n",
    "    return result"
   ]
  },
  {
   "cell_type": "markdown",
   "metadata": {},
   "source": [
    "#Conclusions from initial QC\n",
    "1. I'm missing some transcripts using my approach of getting an exon counting dict\n",
    "2. There are some non-canonical splice events, about 1/4 of my data doesn't have canonical splice sites, breif manual exmaination didn't show anything suprising about these splice sites.  Above is the frequencies of the non-canonoical splice sites, there isn't anything odd about the distribution.  One thing I noticed is that we are likely to have one good 3' or 5' site and one bad 3' or 5' site on the exon level.  This is the weakness of taking an exon centric approach instead of an intron centric approach.  \n",
    "\n",
    "I think I'm good to move on to looking at differences between cananoical exons and non-canonical exons.  Going to try that now"
   ]
  },
  {
   "cell_type": "markdown",
   "metadata": {},
   "source": [
    "#Non-canonical exon Stats"
   ]
  },
  {
   "cell_type": "code",
   "execution_count": 91,
   "metadata": {
    "collapsed": false
   },
   "outputs": [
    {
     "name": "stderr",
     "output_type": "stream",
     "text": [
      "WARNING. chromosome (ERCC-00002) was not found in the FASTA file. Skipping.\n",
      "WARNING. chromosome (ERCC-00004) was not found in the FASTA file. Skipping.\n",
      "WARNING. chromosome (ERCC-00009) was not found in the FASTA file. Skipping.\n",
      "WARNING. chromosome (ERCC-00012) was not found in the FASTA file. Skipping.\n",
      "WARNING. chromosome (ERCC-00019) was not found in the FASTA file. Skipping.\n",
      "WARNING. chromosome (ERCC-00024) was not found in the FASTA file. Skipping.\n",
      "WARNING. chromosome (ERCC-00025) was not found in the FASTA file. Skipping.\n",
      "WARNING. chromosome (ERCC-00033) was not found in the FASTA file. Skipping.\n",
      "WARNING. chromosome (ERCC-00039) was not found in the FASTA file. Skipping.\n",
      "WARNING. chromosome (ERCC-00042) was not found in the FASTA file. Skipping.\n",
      "WARNING. chromosome (ERCC-00043) was not found in the FASTA file. Skipping.\n",
      "WARNING. chromosome (ERCC-00044) was not found in the FASTA file. Skipping.\n",
      "WARNING. chromosome (ERCC-00046) was not found in the FASTA file. Skipping.\n",
      "WARNING. chromosome (ERCC-00051) was not found in the FASTA file. Skipping.\n",
      "WARNING. chromosome (ERCC-00054) was not found in the FASTA file. Skipping.\n",
      "WARNING. chromosome (ERCC-00059) was not found in the FASTA file. Skipping.\n",
      "WARNING. chromosome (ERCC-00060) was not found in the FASTA file. Skipping.\n",
      "WARNING. chromosome (ERCC-00062) was not found in the FASTA file. Skipping.\n",
      "WARNING. chromosome (ERCC-00067) was not found in the FASTA file. Skipping.\n",
      "WARNING. chromosome (ERCC-00073) was not found in the FASTA file. Skipping.\n",
      "WARNING. chromosome (ERCC-00074) was not found in the FASTA file. Skipping.\n",
      "WARNING. chromosome (ERCC-00075) was not found in the FASTA file. Skipping.\n",
      "WARNING. chromosome (ERCC-00077) was not found in the FASTA file. Skipping.\n",
      "WARNING. chromosome (ERCC-00078) was not found in the FASTA file. Skipping.\n",
      "WARNING. chromosome (ERCC-00081) was not found in the FASTA file. Skipping.\n",
      "WARNING. chromosome (ERCC-00085) was not found in the FASTA file. Skipping.\n",
      "WARNING. chromosome (ERCC-00095) was not found in the FASTA file. Skipping.\n",
      "WARNING. chromosome (ERCC-00096) was not found in the FASTA file. Skipping.\n",
      "WARNING. chromosome (ERCC-00097) was not found in the FASTA file. Skipping.\n",
      "WARNING. chromosome (ERCC-00104) was not found in the FASTA file. Skipping.\n",
      "WARNING. chromosome (ERCC-00108) was not found in the FASTA file. Skipping.\n",
      "WARNING. chromosome (ERCC-00111) was not found in the FASTA file. Skipping.\n",
      "WARNING. chromosome (ERCC-00120) was not found in the FASTA file. Skipping.\n",
      "WARNING. chromosome (ERCC-00123) was not found in the FASTA file. Skipping.\n",
      "WARNING. chromosome (ERCC-00131) was not found in the FASTA file. Skipping.\n",
      "WARNING. chromosome (ERCC-00134) was not found in the FASTA file. Skipping.\n",
      "WARNING. chromosome (ERCC-00137) was not found in the FASTA file. Skipping.\n",
      "WARNING. chromosome (ERCC-00138) was not found in the FASTA file. Skipping.\n",
      "WARNING. chromosome (ERCC-00143) was not found in the FASTA file. Skipping.\n",
      "WARNING. chromosome (ERCC-00144) was not found in the FASTA file. Skipping.\n",
      "WARNING. chromosome (ERCC-00145) was not found in the FASTA file. Skipping.\n",
      "WARNING. chromosome (ERCC-00148) was not found in the FASTA file. Skipping.\n",
      "WARNING. chromosome (ERCC-00157) was not found in the FASTA file. Skipping.\n",
      "WARNING. chromosome (ERCC-00158) was not found in the FASTA file. Skipping.\n",
      "WARNING. chromosome (ERCC-00160) was not found in the FASTA file. Skipping.\n",
      "WARNING. chromosome (ERCC-00162) was not found in the FASTA file. Skipping.\n",
      "WARNING. chromosome (ERCC-00171) was not found in the FASTA file. Skipping.\n",
      "Feature (chrM:14793-16573) beyond the length of chrM size (16571 bp).  Skipping.\n",
      "Feature (chrM:14793-16573) beyond the length of chrM size (16571 bp).  Skipping.\n"
     ]
    }
   ],
   "source": [
    "ctrl_annotated_exons_bed = ctrl_annotated_exons.each(make_interval).saveas()\n",
    "ctrl_annotated_exons_fasta = ctrl_annotated_exons_bed.sequence(fi=\"/projects/ps-yeolab/genomes/hg19/chromosomes/all.fa\", fo=\"ctrl_annotated_exons.fasta\", name=True, fullHeader=True, s=True)\n",
    "\n",
    "kd_annotated_exons_bed = kd_annotated_exons.each(make_interval).saveas()\n",
    "kd_annotated_exons_fasta = kd_annotated_exons_bed.sequence(fi=\"/projects/ps-yeolab/genomes/hg19/chromosomes/all.fa\", fo=\"kd_annotated_exons.fasta\", name=True, fullHeader=True, s=True)\n",
    "\n",
    "ctrl_unannotated_exons_bed = ctrl_unannotated_exons.each(make_interval).saveas()\n",
    "ctrl_unannotated_exons_fasta = ctrl_unannotated_exons_bed.sequence(fi=\"/projects/ps-yeolab/genomes/hg19/chromosomes/all.fa\", fo=\"ctrl_unannotated_exons.fasta\", name=True, fullHeader=True, s=True)\n",
    "\n",
    "kd_unannotated_exons_bed = kd_unannotated_exons.each(make_interval).saveas()\n",
    "kd_unannotated_exons_fasta = kd_unannotated_exons_bed.sequence(fi=\"/projects/ps-yeolab/genomes/hg19/chromosomes/all.fa\", fo=\"kd_unannotated_exons.fasta\", name=True, fullHeader=True, s=True)"
   ]
  },
  {
   "cell_type": "code",
   "execution_count": 92,
   "metadata": {
    "collapsed": false
   },
   "outputs": [],
   "source": [
    "ctrl_annotated_junctions = count_splice_junctions(\"ctrl_annotated_exons.fasta\", ctrl_exon_count_dict)\n",
    "kd_annotated_junctions = count_splice_junctions(\"kd_annotated_exons.fasta\", kd_exon_count_dict)\n",
    "ctrl_unannotated_junctions = count_splice_junctions(\"ctrl_unannotated_exons.fasta\", ctrl_exon_count_dict)\n",
    "kd_unannotated_junctions = count_splice_junctions(\"kd_unannotated_exons.fasta\", kd_exon_count_dict)"
   ]
  },
  {
   "cell_type": "code",
   "execution_count": 93,
   "metadata": {
    "collapsed": false
   },
   "outputs": [
    {
     "data": {
      "text/html": [
       "<div>\n",
       "<table border=\"1\" class=\"dataframe\">\n",
       "  <thead>\n",
       "    <tr style=\"text-align: right;\">\n",
       "      <th></th>\n",
       "      <th>exon_number</th>\n",
       "      <th>five_prime_seq</th>\n",
       "      <th>three_prime</th>\n",
       "      <th>three_prime_seq</th>\n",
       "    </tr>\n",
       "    <tr>\n",
       "      <th>five_prime</th>\n",
       "      <th></th>\n",
       "      <th></th>\n",
       "      <th></th>\n",
       "      <th></th>\n",
       "    </tr>\n",
       "  </thead>\n",
       "  <tbody>\n",
       "    <tr>\n",
       "      <th>False</th>\n",
       "      <td>4650</td>\n",
       "      <td>4650</td>\n",
       "      <td>4650</td>\n",
       "      <td>4650</td>\n",
       "    </tr>\n",
       "    <tr>\n",
       "      <th>True</th>\n",
       "      <td>16663</td>\n",
       "      <td>16663</td>\n",
       "      <td>16663</td>\n",
       "      <td>16663</td>\n",
       "    </tr>\n",
       "    <tr>\n",
       "      <th>first_exon</th>\n",
       "      <td>7056</td>\n",
       "      <td>7056</td>\n",
       "      <td>7056</td>\n",
       "      <td>7056</td>\n",
       "    </tr>\n",
       "  </tbody>\n",
       "</table>\n",
       "</div>"
      ],
      "text/plain": [
       "            exon_number  five_prime_seq  three_prime  three_prime_seq\n",
       "five_prime                                                           \n",
       "False              4650            4650         4650             4650\n",
       "True              16663           16663        16663            16663\n",
       "first_exon         7056            7056         7056             7056"
      ]
     },
     "execution_count": 93,
     "metadata": {},
     "output_type": "execute_result"
    }
   ],
   "source": [
    "ctrl_annotated_junctions.groupby(\"five_prime\").count()"
   ]
  },
  {
   "cell_type": "code",
   "execution_count": 94,
   "metadata": {
    "collapsed": false
   },
   "outputs": [
    {
     "data": {
      "text/html": [
       "<div>\n",
       "<table border=\"1\" class=\"dataframe\">\n",
       "  <thead>\n",
       "    <tr style=\"text-align: right;\">\n",
       "      <th></th>\n",
       "      <th>exon_number</th>\n",
       "      <th>five_prime_seq</th>\n",
       "      <th>three_prime</th>\n",
       "      <th>three_prime_seq</th>\n",
       "    </tr>\n",
       "    <tr>\n",
       "      <th>five_prime</th>\n",
       "      <th></th>\n",
       "      <th></th>\n",
       "      <th></th>\n",
       "      <th></th>\n",
       "    </tr>\n",
       "  </thead>\n",
       "  <tbody>\n",
       "    <tr>\n",
       "      <th>False</th>\n",
       "      <td>14383</td>\n",
       "      <td>14383</td>\n",
       "      <td>14383</td>\n",
       "      <td>14383</td>\n",
       "    </tr>\n",
       "    <tr>\n",
       "      <th>True</th>\n",
       "      <td>70637</td>\n",
       "      <td>70637</td>\n",
       "      <td>70637</td>\n",
       "      <td>70637</td>\n",
       "    </tr>\n",
       "    <tr>\n",
       "      <th>first_exon</th>\n",
       "      <td>21306</td>\n",
       "      <td>21306</td>\n",
       "      <td>21306</td>\n",
       "      <td>21306</td>\n",
       "    </tr>\n",
       "  </tbody>\n",
       "</table>\n",
       "</div>"
      ],
      "text/plain": [
       "            exon_number  five_prime_seq  three_prime  three_prime_seq\n",
       "five_prime                                                           \n",
       "False             14383           14383        14383            14383\n",
       "True              70637           70637        70637            70637\n",
       "first_exon        21306           21306        21306            21306"
      ]
     },
     "execution_count": 94,
     "metadata": {},
     "output_type": "execute_result"
    }
   ],
   "source": [
    "kd_annotated_junctions.groupby(\"five_prime\").count()"
   ]
  },
  {
   "cell_type": "code",
   "execution_count": 98,
   "metadata": {
    "collapsed": false
   },
   "outputs": [
    {
     "data": {
      "text/html": [
       "<div>\n",
       "<table border=\"1\" class=\"dataframe\">\n",
       "  <thead>\n",
       "    <tr style=\"text-align: right;\">\n",
       "      <th></th>\n",
       "      <th>exon_number</th>\n",
       "      <th>five_prime</th>\n",
       "      <th>five_prime_seq</th>\n",
       "      <th>three_prime</th>\n",
       "      <th>three_prime_seq</th>\n",
       "    </tr>\n",
       "  </thead>\n",
       "  <tbody>\n",
       "    <tr>\n",
       "      <th>chr10:100003845-100004323(+)</th>\n",
       "      <td>9</td>\n",
       "      <td>False</td>\n",
       "      <td>AA</td>\n",
       "      <td>last_exon</td>\n",
       "      <td>AG</td>\n",
       "    </tr>\n",
       "    <tr>\n",
       "      <th>chr10:100003845-100004656(+)</th>\n",
       "      <td>10</td>\n",
       "      <td>False</td>\n",
       "      <td>TC</td>\n",
       "      <td>True</td>\n",
       "      <td>AG</td>\n",
       "    </tr>\n",
       "    <tr>\n",
       "      <th>chr10:100007444-100028009(-)</th>\n",
       "      <td>1</td>\n",
       "      <td>first_exon</td>\n",
       "      <td>GA</td>\n",
       "      <td>last_exon</td>\n",
       "      <td>GG</td>\n",
       "    </tr>\n",
       "    <tr>\n",
       "      <th>chr10:100143319-100174943(-)</th>\n",
       "      <td>1</td>\n",
       "      <td>first_exon</td>\n",
       "      <td>TT</td>\n",
       "      <td>last_exon</td>\n",
       "      <td>AG</td>\n",
       "    </tr>\n",
       "    <tr>\n",
       "      <th>chr10:100154972-100155066(-)</th>\n",
       "      <td>1</td>\n",
       "      <td>first_exon</td>\n",
       "      <td>GT</td>\n",
       "      <td>last_exon</td>\n",
       "      <td>CT</td>\n",
       "    </tr>\n",
       "    <tr>\n",
       "      <th>chr10:100175952-100206686(-)</th>\n",
       "      <td>1</td>\n",
       "      <td>first_exon</td>\n",
       "      <td>TC</td>\n",
       "      <td>last_exon</td>\n",
       "      <td>GC</td>\n",
       "    </tr>\n",
       "    <tr>\n",
       "      <th>chr10:100177929-100178016(-)</th>\n",
       "      <td>2</td>\n",
       "      <td>True</td>\n",
       "      <td>GT</td>\n",
       "      <td>True</td>\n",
       "      <td>AG</td>\n",
       "    </tr>\n",
       "    <tr>\n",
       "      <th>chr10:100179799-100180128(-)</th>\n",
       "      <td>2</td>\n",
       "      <td>first_exon</td>\n",
       "      <td>GT</td>\n",
       "      <td>False</td>\n",
       "      <td>TT</td>\n",
       "    </tr>\n",
       "    <tr>\n",
       "      <th>chr10:100183362-100183427(-)</th>\n",
       "      <td>1</td>\n",
       "      <td>True</td>\n",
       "      <td>GT</td>\n",
       "      <td>last_exon</td>\n",
       "      <td>AG</td>\n",
       "    </tr>\n",
       "    <tr>\n",
       "      <th>chr10:100183634-100183646(-)</th>\n",
       "      <td>1</td>\n",
       "      <td>False</td>\n",
       "      <td>AG</td>\n",
       "      <td>last_exon</td>\n",
       "      <td>AG</td>\n",
       "    </tr>\n",
       "    <tr>\n",
       "      <th>chr10:100185572-100185744(-)</th>\n",
       "      <td>5</td>\n",
       "      <td>True</td>\n",
       "      <td>GT</td>\n",
       "      <td>True</td>\n",
       "      <td>AG</td>\n",
       "    </tr>\n",
       "    <tr>\n",
       "      <th>chr10:100188910-100189401(-)</th>\n",
       "      <td>1</td>\n",
       "      <td>False</td>\n",
       "      <td>AA</td>\n",
       "      <td>last_exon</td>\n",
       "      <td>AG</td>\n",
       "    </tr>\n",
       "    <tr>\n",
       "      <th>chr10:100189327-100189401(-)</th>\n",
       "      <td>11</td>\n",
       "      <td>True</td>\n",
       "      <td>GT</td>\n",
       "      <td>True</td>\n",
       "      <td>AG</td>\n",
       "    </tr>\n",
       "    <tr>\n",
       "      <th>chr10:100190885-100191041(-)</th>\n",
       "      <td>9</td>\n",
       "      <td>first_exon</td>\n",
       "      <td>GT</td>\n",
       "      <td>True</td>\n",
       "      <td>AG</td>\n",
       "    </tr>\n",
       "    <tr>\n",
       "      <th>chr10:100193737-100193850(-)</th>\n",
       "      <td>15</td>\n",
       "      <td>True</td>\n",
       "      <td>GT</td>\n",
       "      <td>True</td>\n",
       "      <td>AG</td>\n",
       "    </tr>\n",
       "    <tr>\n",
       "      <th>chr10:100195026-100195173(-)</th>\n",
       "      <td>16</td>\n",
       "      <td>True</td>\n",
       "      <td>GT</td>\n",
       "      <td>True</td>\n",
       "      <td>AG</td>\n",
       "    </tr>\n",
       "    <tr>\n",
       "      <th>chr10:100205054-100205163(-)</th>\n",
       "      <td>19</td>\n",
       "      <td>True</td>\n",
       "      <td>GT</td>\n",
       "      <td>True</td>\n",
       "      <td>AG</td>\n",
       "    </tr>\n",
       "    <tr>\n",
       "      <th>chr10:100206561-100206621(-)</th>\n",
       "      <td>7</td>\n",
       "      <td>first_exon</td>\n",
       "      <td>GT</td>\n",
       "      <td>False</td>\n",
       "      <td>CC</td>\n",
       "    </tr>\n",
       "    <tr>\n",
       "      <th>chr10:100206561-100206669(-)</th>\n",
       "      <td>20</td>\n",
       "      <td>True</td>\n",
       "      <td>GT</td>\n",
       "      <td>False</td>\n",
       "      <td>CG</td>\n",
       "    </tr>\n",
       "    <tr>\n",
       "      <th>chr10:100206561-100206672(-)</th>\n",
       "      <td>10</td>\n",
       "      <td>True</td>\n",
       "      <td>GT</td>\n",
       "      <td>True</td>\n",
       "      <td>AG</td>\n",
       "    </tr>\n",
       "    <tr>\n",
       "      <th>chr10:100206561-100206685(-)</th>\n",
       "      <td>20</td>\n",
       "      <td>True</td>\n",
       "      <td>GT</td>\n",
       "      <td>False</td>\n",
       "      <td>CC</td>\n",
       "    </tr>\n",
       "    <tr>\n",
       "      <th>chr10:100206561-100206686(-)</th>\n",
       "      <td>4</td>\n",
       "      <td>first_exon</td>\n",
       "      <td>GT</td>\n",
       "      <td>False</td>\n",
       "      <td>GC</td>\n",
       "    </tr>\n",
       "    <tr>\n",
       "      <th>chr10:100218872-100995621(-)</th>\n",
       "      <td>1</td>\n",
       "      <td>first_exon</td>\n",
       "      <td>CT</td>\n",
       "      <td>last_exon</td>\n",
       "      <td>AT</td>\n",
       "    </tr>\n",
       "    <tr>\n",
       "      <th>chr10:100772857-100773711(-)</th>\n",
       "      <td>1</td>\n",
       "      <td>first_exon</td>\n",
       "      <td>TT</td>\n",
       "      <td>last_exon</td>\n",
       "      <td>GA</td>\n",
       "    </tr>\n",
       "    <tr>\n",
       "      <th>chr10:101156624-101190383(-)</th>\n",
       "      <td>1</td>\n",
       "      <td>first_exon</td>\n",
       "      <td>CA</td>\n",
       "      <td>last_exon</td>\n",
       "      <td>CC</td>\n",
       "    </tr>\n",
       "    <tr>\n",
       "      <th>chr10:101157217-101157445(-)</th>\n",
       "      <td>1</td>\n",
       "      <td>False</td>\n",
       "      <td>GG</td>\n",
       "      <td>last_exon</td>\n",
       "      <td>AG</td>\n",
       "    </tr>\n",
       "    <tr>\n",
       "      <th>chr10:101157219-101157445(-)</th>\n",
       "      <td>1</td>\n",
       "      <td>False</td>\n",
       "      <td>AT</td>\n",
       "      <td>last_exon</td>\n",
       "      <td>AG</td>\n",
       "    </tr>\n",
       "    <tr>\n",
       "      <th>chr10:101163223-101163508(-)</th>\n",
       "      <td>3</td>\n",
       "      <td>first_exon</td>\n",
       "      <td>GT</td>\n",
       "      <td>False</td>\n",
       "      <td>TC</td>\n",
       "    </tr>\n",
       "    <tr>\n",
       "      <th>chr10:101163478-101163633(-)</th>\n",
       "      <td>4</td>\n",
       "      <td>True</td>\n",
       "      <td>GT</td>\n",
       "      <td>True</td>\n",
       "      <td>AG</td>\n",
       "    </tr>\n",
       "    <tr>\n",
       "      <th>chr10:101180378-101180564(-)</th>\n",
       "      <td>8</td>\n",
       "      <td>True</td>\n",
       "      <td>GT</td>\n",
       "      <td>True</td>\n",
       "      <td>AG</td>\n",
       "    </tr>\n",
       "    <tr>\n",
       "      <th>...</th>\n",
       "      <td>...</td>\n",
       "      <td>...</td>\n",
       "      <td>...</td>\n",
       "      <td>...</td>\n",
       "      <td>...</td>\n",
       "    </tr>\n",
       "    <tr>\n",
       "      <th>chrX:86772749-86925052(+)</th>\n",
       "      <td>1</td>\n",
       "      <td>first_exon</td>\n",
       "      <td>TT</td>\n",
       "      <td>last_exon</td>\n",
       "      <td>GC</td>\n",
       "    </tr>\n",
       "    <tr>\n",
       "      <th>chrX:86958340-86959205(-)</th>\n",
       "      <td>1</td>\n",
       "      <td>first_exon</td>\n",
       "      <td>GC</td>\n",
       "      <td>last_exon</td>\n",
       "      <td>AA</td>\n",
       "    </tr>\n",
       "    <tr>\n",
       "      <th>chrX:86978937-86979214(-)</th>\n",
       "      <td>1</td>\n",
       "      <td>False</td>\n",
       "      <td>CA</td>\n",
       "      <td>last_exon</td>\n",
       "      <td>AG</td>\n",
       "    </tr>\n",
       "    <tr>\n",
       "      <th>chrX:86983441-86983681(-)</th>\n",
       "      <td>2</td>\n",
       "      <td>first_exon</td>\n",
       "      <td>GT</td>\n",
       "      <td>False</td>\n",
       "      <td>GT</td>\n",
       "    </tr>\n",
       "    <tr>\n",
       "      <th>chrX:87062546-87064885(-)</th>\n",
       "      <td>1</td>\n",
       "      <td>first_exon</td>\n",
       "      <td>AG</td>\n",
       "      <td>last_exon</td>\n",
       "      <td>TT</td>\n",
       "    </tr>\n",
       "    <tr>\n",
       "      <th>chrX:8992270-9132682(-)</th>\n",
       "      <td>1</td>\n",
       "      <td>first_exon</td>\n",
       "      <td>AA</td>\n",
       "      <td>last_exon</td>\n",
       "      <td>TC</td>\n",
       "    </tr>\n",
       "    <tr>\n",
       "      <th>chrX:8993033-8993420(-)</th>\n",
       "      <td>1</td>\n",
       "      <td>False</td>\n",
       "      <td>AG</td>\n",
       "      <td>last_exon</td>\n",
       "      <td>AG</td>\n",
       "    </tr>\n",
       "    <tr>\n",
       "      <th>chrX:9000168-9000204(-)</th>\n",
       "      <td>6</td>\n",
       "      <td>True</td>\n",
       "      <td>GT</td>\n",
       "      <td>True</td>\n",
       "      <td>AG</td>\n",
       "    </tr>\n",
       "    <tr>\n",
       "      <th>chrX:9000997-9001118(-)</th>\n",
       "      <td>8</td>\n",
       "      <td>first_exon</td>\n",
       "      <td>GT</td>\n",
       "      <td>True</td>\n",
       "      <td>AG</td>\n",
       "    </tr>\n",
       "    <tr>\n",
       "      <th>chrX:91034257-91878231(+)</th>\n",
       "      <td>1</td>\n",
       "      <td>first_exon</td>\n",
       "      <td>CA</td>\n",
       "      <td>last_exon</td>\n",
       "      <td>GT</td>\n",
       "    </tr>\n",
       "    <tr>\n",
       "      <th>chrX:91715448-91715546(+)</th>\n",
       "      <td>1</td>\n",
       "      <td>first_exon</td>\n",
       "      <td>CA</td>\n",
       "      <td>last_exon</td>\n",
       "      <td>CG</td>\n",
       "    </tr>\n",
       "    <tr>\n",
       "      <th>chrX:92929009-92967275(+)</th>\n",
       "      <td>1</td>\n",
       "      <td>first_exon</td>\n",
       "      <td>TT</td>\n",
       "      <td>last_exon</td>\n",
       "      <td>AA</td>\n",
       "    </tr>\n",
       "    <tr>\n",
       "      <th>chrX:93891659-93894571(-)</th>\n",
       "      <td>1</td>\n",
       "      <td>first_exon</td>\n",
       "      <td>AG</td>\n",
       "      <td>last_exon</td>\n",
       "      <td>AT</td>\n",
       "    </tr>\n",
       "    <tr>\n",
       "      <th>chrX:9431332-9687782(+)</th>\n",
       "      <td>1</td>\n",
       "      <td>first_exon</td>\n",
       "      <td>GA</td>\n",
       "      <td>last_exon</td>\n",
       "      <td>CT</td>\n",
       "    </tr>\n",
       "    <tr>\n",
       "      <th>chrX:9431349-9431504(+)</th>\n",
       "      <td>1</td>\n",
       "      <td>first_exon</td>\n",
       "      <td>GT</td>\n",
       "      <td>False</td>\n",
       "      <td>TC</td>\n",
       "    </tr>\n",
       "    <tr>\n",
       "      <th>chrX:9431357-9431504(+)</th>\n",
       "      <td>1</td>\n",
       "      <td>first_exon</td>\n",
       "      <td>GT</td>\n",
       "      <td>True</td>\n",
       "      <td>AG</td>\n",
       "    </tr>\n",
       "    <tr>\n",
       "      <th>chrX:9431368-9431504(+)</th>\n",
       "      <td>1</td>\n",
       "      <td>first_exon</td>\n",
       "      <td>GT</td>\n",
       "      <td>False</td>\n",
       "      <td>GC</td>\n",
       "    </tr>\n",
       "    <tr>\n",
       "      <th>chrX:950953-955102(+)</th>\n",
       "      <td>1</td>\n",
       "      <td>first_exon</td>\n",
       "      <td>GA</td>\n",
       "      <td>last_exon</td>\n",
       "      <td>AT</td>\n",
       "    </tr>\n",
       "    <tr>\n",
       "      <th>chrX:95939659-96859998(+)</th>\n",
       "      <td>1</td>\n",
       "      <td>first_exon</td>\n",
       "      <td>TG</td>\n",
       "      <td>last_exon</td>\n",
       "      <td>GG</td>\n",
       "    </tr>\n",
       "    <tr>\n",
       "      <th>chrX:9622252-9622364(+)</th>\n",
       "      <td>5</td>\n",
       "      <td>True</td>\n",
       "      <td>GT</td>\n",
       "      <td>True</td>\n",
       "      <td>AG</td>\n",
       "    </tr>\n",
       "    <tr>\n",
       "      <th>chrX:9656054-9656079(+)</th>\n",
       "      <td>6</td>\n",
       "      <td>False</td>\n",
       "      <td>CG</td>\n",
       "      <td>last_exon</td>\n",
       "      <td>AG</td>\n",
       "    </tr>\n",
       "    <tr>\n",
       "      <th>chrX:96686254-96897590(-)</th>\n",
       "      <td>1</td>\n",
       "      <td>first_exon</td>\n",
       "      <td>TA</td>\n",
       "      <td>last_exon</td>\n",
       "      <td>GC</td>\n",
       "    </tr>\n",
       "    <tr>\n",
       "      <th>chrX:9684257-9684304(+)</th>\n",
       "      <td>18</td>\n",
       "      <td>False</td>\n",
       "      <td>AA</td>\n",
       "      <td>True</td>\n",
       "      <td>AG</td>\n",
       "    </tr>\n",
       "    <tr>\n",
       "      <th>chrX:9684257-9687782(+)</th>\n",
       "      <td>18</td>\n",
       "      <td>False</td>\n",
       "      <td>GA</td>\n",
       "      <td>True</td>\n",
       "      <td>AG</td>\n",
       "    </tr>\n",
       "    <tr>\n",
       "      <th>chrX:98716597-98976158(-)</th>\n",
       "      <td>1</td>\n",
       "      <td>first_exon</td>\n",
       "      <td>TT</td>\n",
       "      <td>last_exon</td>\n",
       "      <td>CA</td>\n",
       "    </tr>\n",
       "    <tr>\n",
       "      <th>chrX:9983599-10112520(+)</th>\n",
       "      <td>1</td>\n",
       "      <td>first_exon</td>\n",
       "      <td>GT</td>\n",
       "      <td>last_exon</td>\n",
       "      <td>CG</td>\n",
       "    </tr>\n",
       "    <tr>\n",
       "      <th>chrX:99839796-99854884(+)</th>\n",
       "      <td>1</td>\n",
       "      <td>first_exon</td>\n",
       "      <td>CA</td>\n",
       "      <td>last_exon</td>\n",
       "      <td>TC</td>\n",
       "    </tr>\n",
       "    <tr>\n",
       "      <th>chrX:99929485-99987112(-)</th>\n",
       "      <td>1</td>\n",
       "      <td>first_exon</td>\n",
       "      <td>CG</td>\n",
       "      <td>last_exon</td>\n",
       "      <td>CC</td>\n",
       "    </tr>\n",
       "    <tr>\n",
       "      <th>chrX:99929488-99931175(-)</th>\n",
       "      <td>1</td>\n",
       "      <td>False</td>\n",
       "      <td>AA</td>\n",
       "      <td>last_exon</td>\n",
       "      <td>AG</td>\n",
       "    </tr>\n",
       "    <tr>\n",
       "      <th>chrX:99933385-99933782(-)</th>\n",
       "      <td>2</td>\n",
       "      <td>first_exon</td>\n",
       "      <td>GT</td>\n",
       "      <td>False</td>\n",
       "      <td>AT</td>\n",
       "    </tr>\n",
       "  </tbody>\n",
       "</table>\n",
       "<p>125786 rows × 5 columns</p>\n",
       "</div>"
      ],
      "text/plain": [
       "                             exon_number  five_prime five_prime_seq  \\\n",
       "chr10:100003845-100004323(+)           9       False             AA   \n",
       "chr10:100003845-100004656(+)          10       False             TC   \n",
       "chr10:100007444-100028009(-)           1  first_exon             GA   \n",
       "chr10:100143319-100174943(-)           1  first_exon             TT   \n",
       "chr10:100154972-100155066(-)           1  first_exon             GT   \n",
       "chr10:100175952-100206686(-)           1  first_exon             TC   \n",
       "chr10:100177929-100178016(-)           2        True             GT   \n",
       "chr10:100179799-100180128(-)           2  first_exon             GT   \n",
       "chr10:100183362-100183427(-)           1        True             GT   \n",
       "chr10:100183634-100183646(-)           1       False             AG   \n",
       "chr10:100185572-100185744(-)           5        True             GT   \n",
       "chr10:100188910-100189401(-)           1       False             AA   \n",
       "chr10:100189327-100189401(-)          11        True             GT   \n",
       "chr10:100190885-100191041(-)           9  first_exon             GT   \n",
       "chr10:100193737-100193850(-)          15        True             GT   \n",
       "chr10:100195026-100195173(-)          16        True             GT   \n",
       "chr10:100205054-100205163(-)          19        True             GT   \n",
       "chr10:100206561-100206621(-)           7  first_exon             GT   \n",
       "chr10:100206561-100206669(-)          20        True             GT   \n",
       "chr10:100206561-100206672(-)          10        True             GT   \n",
       "chr10:100206561-100206685(-)          20        True             GT   \n",
       "chr10:100206561-100206686(-)           4  first_exon             GT   \n",
       "chr10:100218872-100995621(-)           1  first_exon             CT   \n",
       "chr10:100772857-100773711(-)           1  first_exon             TT   \n",
       "chr10:101156624-101190383(-)           1  first_exon             CA   \n",
       "chr10:101157217-101157445(-)           1       False             GG   \n",
       "chr10:101157219-101157445(-)           1       False             AT   \n",
       "chr10:101163223-101163508(-)           3  first_exon             GT   \n",
       "chr10:101163478-101163633(-)           4        True             GT   \n",
       "chr10:101180378-101180564(-)           8        True             GT   \n",
       "...                                  ...         ...            ...   \n",
       "chrX:86772749-86925052(+)              1  first_exon             TT   \n",
       "chrX:86958340-86959205(-)              1  first_exon             GC   \n",
       "chrX:86978937-86979214(-)              1       False             CA   \n",
       "chrX:86983441-86983681(-)              2  first_exon             GT   \n",
       "chrX:87062546-87064885(-)              1  first_exon             AG   \n",
       "chrX:8992270-9132682(-)                1  first_exon             AA   \n",
       "chrX:8993033-8993420(-)                1       False             AG   \n",
       "chrX:9000168-9000204(-)                6        True             GT   \n",
       "chrX:9000997-9001118(-)                8  first_exon             GT   \n",
       "chrX:91034257-91878231(+)              1  first_exon             CA   \n",
       "chrX:91715448-91715546(+)              1  first_exon             CA   \n",
       "chrX:92929009-92967275(+)              1  first_exon             TT   \n",
       "chrX:93891659-93894571(-)              1  first_exon             AG   \n",
       "chrX:9431332-9687782(+)                1  first_exon             GA   \n",
       "chrX:9431349-9431504(+)                1  first_exon             GT   \n",
       "chrX:9431357-9431504(+)                1  first_exon             GT   \n",
       "chrX:9431368-9431504(+)                1  first_exon             GT   \n",
       "chrX:950953-955102(+)                  1  first_exon             GA   \n",
       "chrX:95939659-96859998(+)              1  first_exon             TG   \n",
       "chrX:9622252-9622364(+)                5        True             GT   \n",
       "chrX:9656054-9656079(+)                6       False             CG   \n",
       "chrX:96686254-96897590(-)              1  first_exon             TA   \n",
       "chrX:9684257-9684304(+)               18       False             AA   \n",
       "chrX:9684257-9687782(+)               18       False             GA   \n",
       "chrX:98716597-98976158(-)              1  first_exon             TT   \n",
       "chrX:9983599-10112520(+)               1  first_exon             GT   \n",
       "chrX:99839796-99854884(+)              1  first_exon             CA   \n",
       "chrX:99929485-99987112(-)              1  first_exon             CG   \n",
       "chrX:99929488-99931175(-)              1       False             AA   \n",
       "chrX:99933385-99933782(-)              2  first_exon             GT   \n",
       "\n",
       "                             three_prime three_prime_seq  \n",
       "chr10:100003845-100004323(+)   last_exon              AG  \n",
       "chr10:100003845-100004656(+)        True              AG  \n",
       "chr10:100007444-100028009(-)   last_exon              GG  \n",
       "chr10:100143319-100174943(-)   last_exon              AG  \n",
       "chr10:100154972-100155066(-)   last_exon              CT  \n",
       "chr10:100175952-100206686(-)   last_exon              GC  \n",
       "chr10:100177929-100178016(-)        True              AG  \n",
       "chr10:100179799-100180128(-)       False              TT  \n",
       "chr10:100183362-100183427(-)   last_exon              AG  \n",
       "chr10:100183634-100183646(-)   last_exon              AG  \n",
       "chr10:100185572-100185744(-)        True              AG  \n",
       "chr10:100188910-100189401(-)   last_exon              AG  \n",
       "chr10:100189327-100189401(-)        True              AG  \n",
       "chr10:100190885-100191041(-)        True              AG  \n",
       "chr10:100193737-100193850(-)        True              AG  \n",
       "chr10:100195026-100195173(-)        True              AG  \n",
       "chr10:100205054-100205163(-)        True              AG  \n",
       "chr10:100206561-100206621(-)       False              CC  \n",
       "chr10:100206561-100206669(-)       False              CG  \n",
       "chr10:100206561-100206672(-)        True              AG  \n",
       "chr10:100206561-100206685(-)       False              CC  \n",
       "chr10:100206561-100206686(-)       False              GC  \n",
       "chr10:100218872-100995621(-)   last_exon              AT  \n",
       "chr10:100772857-100773711(-)   last_exon              GA  \n",
       "chr10:101156624-101190383(-)   last_exon              CC  \n",
       "chr10:101157217-101157445(-)   last_exon              AG  \n",
       "chr10:101157219-101157445(-)   last_exon              AG  \n",
       "chr10:101163223-101163508(-)       False              TC  \n",
       "chr10:101163478-101163633(-)        True              AG  \n",
       "chr10:101180378-101180564(-)        True              AG  \n",
       "...                                  ...             ...  \n",
       "chrX:86772749-86925052(+)      last_exon              GC  \n",
       "chrX:86958340-86959205(-)      last_exon              AA  \n",
       "chrX:86978937-86979214(-)      last_exon              AG  \n",
       "chrX:86983441-86983681(-)          False              GT  \n",
       "chrX:87062546-87064885(-)      last_exon              TT  \n",
       "chrX:8992270-9132682(-)        last_exon              TC  \n",
       "chrX:8993033-8993420(-)        last_exon              AG  \n",
       "chrX:9000168-9000204(-)             True              AG  \n",
       "chrX:9000997-9001118(-)             True              AG  \n",
       "chrX:91034257-91878231(+)      last_exon              GT  \n",
       "chrX:91715448-91715546(+)      last_exon              CG  \n",
       "chrX:92929009-92967275(+)      last_exon              AA  \n",
       "chrX:93891659-93894571(-)      last_exon              AT  \n",
       "chrX:9431332-9687782(+)        last_exon              CT  \n",
       "chrX:9431349-9431504(+)            False              TC  \n",
       "chrX:9431357-9431504(+)             True              AG  \n",
       "chrX:9431368-9431504(+)            False              GC  \n",
       "chrX:950953-955102(+)          last_exon              AT  \n",
       "chrX:95939659-96859998(+)      last_exon              GG  \n",
       "chrX:9622252-9622364(+)             True              AG  \n",
       "chrX:9656054-9656079(+)        last_exon              AG  \n",
       "chrX:96686254-96897590(-)      last_exon              GC  \n",
       "chrX:9684257-9684304(+)             True              AG  \n",
       "chrX:9684257-9687782(+)             True              AG  \n",
       "chrX:98716597-98976158(-)      last_exon              CA  \n",
       "chrX:9983599-10112520(+)       last_exon              CG  \n",
       "chrX:99839796-99854884(+)      last_exon              TC  \n",
       "chrX:99929485-99987112(-)      last_exon              CC  \n",
       "chrX:99929488-99931175(-)      last_exon              AG  \n",
       "chrX:99933385-99933782(-)          False              AT  \n",
       "\n",
       "[125786 rows x 5 columns]"
      ]
     },
     "execution_count": 98,
     "metadata": {},
     "output_type": "execute_result"
    }
   ],
   "source": [
    "kd_unannotated_junctions"
   ]
  },
  {
   "cell_type": "code",
   "execution_count": 95,
   "metadata": {
    "collapsed": false
   },
   "outputs": [
    {
     "data": {
      "text/html": [
       "<div>\n",
       "<table border=\"1\" class=\"dataframe\">\n",
       "  <thead>\n",
       "    <tr style=\"text-align: right;\">\n",
       "      <th></th>\n",
       "      <th>exon_number</th>\n",
       "      <th>five_prime_seq</th>\n",
       "      <th>three_prime</th>\n",
       "      <th>three_prime_seq</th>\n",
       "    </tr>\n",
       "    <tr>\n",
       "      <th>five_prime</th>\n",
       "      <th></th>\n",
       "      <th></th>\n",
       "      <th></th>\n",
       "      <th></th>\n",
       "    </tr>\n",
       "  </thead>\n",
       "  <tbody>\n",
       "    <tr>\n",
       "      <th>False</th>\n",
       "      <td>8496</td>\n",
       "      <td>8496</td>\n",
       "      <td>8496</td>\n",
       "      <td>8496</td>\n",
       "    </tr>\n",
       "    <tr>\n",
       "      <th>True</th>\n",
       "      <td>7202</td>\n",
       "      <td>7202</td>\n",
       "      <td>7202</td>\n",
       "      <td>7202</td>\n",
       "    </tr>\n",
       "    <tr>\n",
       "      <th>first_exon</th>\n",
       "      <td>12108</td>\n",
       "      <td>12108</td>\n",
       "      <td>12108</td>\n",
       "      <td>12108</td>\n",
       "    </tr>\n",
       "  </tbody>\n",
       "</table>\n",
       "</div>"
      ],
      "text/plain": [
       "            exon_number  five_prime_seq  three_prime  three_prime_seq\n",
       "five_prime                                                           \n",
       "False              8496            8496         8496             8496\n",
       "True               7202            7202         7202             7202\n",
       "first_exon        12108           12108        12108            12108"
      ]
     },
     "execution_count": 95,
     "metadata": {},
     "output_type": "execute_result"
    }
   ],
   "source": [
    "ctrl_unannotated_junctions.groupby(\"five_prime\").count()`"
   ]
  },
  {
   "cell_type": "code",
   "execution_count": 96,
   "metadata": {
    "collapsed": false
   },
   "outputs": [
    {
     "data": {
      "text/html": [
       "<div>\n",
       "<table border=\"1\" class=\"dataframe\">\n",
       "  <thead>\n",
       "    <tr style=\"text-align: right;\">\n",
       "      <th></th>\n",
       "      <th>exon_number</th>\n",
       "      <th>five_prime_seq</th>\n",
       "      <th>three_prime</th>\n",
       "      <th>three_prime_seq</th>\n",
       "    </tr>\n",
       "    <tr>\n",
       "      <th>five_prime</th>\n",
       "      <th></th>\n",
       "      <th></th>\n",
       "      <th></th>\n",
       "      <th></th>\n",
       "    </tr>\n",
       "  </thead>\n",
       "  <tbody>\n",
       "    <tr>\n",
       "      <th>False</th>\n",
       "      <td>35598</td>\n",
       "      <td>35598</td>\n",
       "      <td>35598</td>\n",
       "      <td>35598</td>\n",
       "    </tr>\n",
       "    <tr>\n",
       "      <th>True</th>\n",
       "      <td>34082</td>\n",
       "      <td>34082</td>\n",
       "      <td>34082</td>\n",
       "      <td>34082</td>\n",
       "    </tr>\n",
       "    <tr>\n",
       "      <th>first_exon</th>\n",
       "      <td>56106</td>\n",
       "      <td>56106</td>\n",
       "      <td>56106</td>\n",
       "      <td>56106</td>\n",
       "    </tr>\n",
       "  </tbody>\n",
       "</table>\n",
       "</div>"
      ],
      "text/plain": [
       "            exon_number  five_prime_seq  three_prime  three_prime_seq\n",
       "five_prime                                                           \n",
       "False             35598           35598        35598            35598\n",
       "True              34082           34082        34082            34082\n",
       "first_exon        56106           56106        56106            56106"
      ]
     },
     "execution_count": 96,
     "metadata": {},
     "output_type": "execute_result"
    }
   ],
   "source": [
    "kd_unannotated_junctions.groupby(\"five_prime\").count()"
   ]
  },
  {
   "cell_type": "markdown",
   "metadata": {},
   "source": [
    "A breif look at these exons doesn't make any sense.  I'm trying to get cufflinks running faster, but until its totally done, I don't think I can use this approach.  I'll switch to trying to find novel exons via STAR now."
   ]
  },
  {
   "cell_type": "markdown",
   "metadata": {},
   "source": [
    "#Junction Based Approach for annotating exons\n",
    "\n",
    "I'm going to try something hacky to identify unannotated exons in rna-seq data\n",
    "\n",
    "1. Create coverage map of all of hg19 using HTSeq and or a wiggle file (I'll try with HTSeq first)\n",
    "2. Load in all splice junction annotations from STAR\n",
    "3. Start with the first splice junction, create a splice graph based on coverage to define exons and any splice junctions contained in that covered region.  Any region and has a two splice junctions can be punatively defined as an exon.  I'm NOT going to try to infer full transcripts, just exons in those transcripts"
   ]
  },
  {
   "cell_type": "code",
   "execution_count": null,
   "metadata": {
    "collapsed": true
   },
   "outputs": [],
   "source": [
    "import HTSeq"
   ]
  },
  {
   "cell_type": "code",
   "execution_count": 491,
   "metadata": {
    "collapsed": true
   },
   "outputs": [],
   "source": [
    "bam = HTSeq.BAM_Reader(\"/home/gpratt/projects/cryptic_exons/analysis/ling_et_al_v1/SRR2002765_1.polyATrim.adapterTrim.rmRep.sorted.rg.bam\")"
   ]
  },
  {
   "cell_type": "code",
   "execution_count": 496,
   "metadata": {
    "collapsed": true
   },
   "outputs": [],
   "source": [
    "coverage = HTSeq.GenomicArray( \"auto\", stranded=True, typecode=\"i\" )"
   ]
  },
  {
   "cell_type": "code",
   "execution_count": 499,
   "metadata": {
    "collapsed": true
   },
   "outputs": [],
   "source": [
    "HTSeq.pair_SAM_alignments??"
   ]
  },
  {
   "cell_type": "code",
   "execution_count": 504,
   "metadata": {
    "collapsed": true
   },
   "outputs": [],
   "source": [
    "def get_bam_coverage(bamfile):\n",
    "    \"\"\"\n",
    "    \n",
    "    Given a bam file returns a properly covered htseq coverage file (this is slow)\n",
    "    \n",
    "    \"\"\"\n",
    "    bam = HTSeq.BAM_Reader(bamfile)\n",
    "    coverage = HTSeq.GenomicArray(\"auto\", typecode=\"i\", stranded=True)\n",
    "    for read in bam:\n",
    "        if read.aligned:\n",
    "            for cigop in read.cigar:\n",
    "                if cigop.type != \"M\":\n",
    "                    continue\n",
    "                coverage[cigop.ref_iv] += 1\n",
    "    return coverage"
   ]
  },
  {
   "cell_type": "code",
   "execution_count": null,
   "metadata": {
    "collapsed": true
   },
   "outputs": [],
   "source": [
    "coverage = get_bam_coverage(\"/home/gpratt/projects/cryptic_exons/analysis/ling_et_al_v1/SRR2002765_1.polyATrim.adapterTrim.rmRep.sorted.rg.bam\")"
   ]
  },
  {
   "cell_type": "code",
   "execution_count": 503,
   "metadata": {
    "collapsed": false
   },
   "outputs": [
    {
     "data": {
      "text/plain": [
       "[< CigarOperation: 100 base(s) matched on ref iv chr1:[11389,11489)/+, query iv [0,100) >]"
      ]
     },
     "execution_count": 503,
     "metadata": {},
     "output_type": "execute_result"
    }
   ],
   "source": [
    "for cigop in r1.cigar:"
   ]
  },
  {
   "cell_type": "code",
   "execution_count": 494,
   "metadata": {
    "collapsed": false
   },
   "outputs": [
    {
     "name": "stdout",
     "output_type": "stream",
     "text": [
      "<SAM_Alignment object: Paired-end read 'SRR2002765.64014174' aligned to chr1:[11389,11489)/+>\n"
     ]
    }
   ],
   "source": [
    "print r1"
   ]
  },
  {
   "cell_type": "code",
   "execution_count": 495,
   "metadata": {
    "collapsed": false
   },
   "outputs": [
    {
     "name": "stdout",
     "output_type": "stream",
     "text": [
      "<SAM_Alignment object: Paired-end read 'SRR2002765.64014174' aligned to chr1:[11524,11624)/->\n"
     ]
    }
   ],
   "source": [
    "print r2"
   ]
  },
  {
   "cell_type": "markdown",
   "metadata": {
    "collapsed": true
   },
   "source": [
    "#Intron Centric Approach"
   ]
  },
  {
   "cell_type": "code",
   "execution_count": null,
   "metadata": {
    "collapsed": true
   },
   "outputs": [],
   "source": [
    "for transcript in ctrl_db.features_of_type(\"transcript\"):\n",
    "    exons = ctrl_db.children(transcript, featuretype=\"exon\", order_by=\"start\")\n",
    "    result = list(ctrl_db.interfeatures(exons))\n",
    "    if len(result) > 5:\n",
    "        break\n",
    "\n",
    "def _to_bed(interval):\n",
    "    \"\"\"\n",
    "    interval: gffutils interval\n",
    "\n",
    "    converts gffutils to bed format, setting id to be the \n",
    "    id of the gene\n",
    "\n",
    "    \"\"\"\n",
    "    gene_id = interval.attributes['gene_id']\n",
    "    if type(gene_id) is list:\n",
    "        gene_id = gene_id[0]        \n",
    "    return pybedtools.create_interval_from_list([interval.chrom, interval.start, \n",
    "            interval.stop, gene_id, \"0\", interval.strand])"
   ]
  },
  {
   "cell_type": "code",
   "execution_count": null,
   "metadata": {
    "collapsed": true
   },
   "outputs": [],
   "source": [
    "for x in ctrl_db.features_of_type(\"transcript\"):\n",
    "    print x\n",
    "    break"
   ]
  },
  {
   "cell_type": "code",
   "execution_count": null,
   "metadata": {
    "collapsed": true
   },
   "outputs": [],
   "source": [
    "list(ctrl_db.children(transcript_id, featuretype=\"transcript_id\"))"
   ]
  }
 ],
 "metadata": {
  "kernelspec": {
   "display_name": "Python 2",
   "language": "python",
   "name": "python2"
  },
  "language_info": {
   "codemirror_mode": {
    "name": "ipython",
    "version": 2
   },
   "file_extension": ".py",
   "mimetype": "text/x-python",
   "name": "python",
   "nbconvert_exporter": "python",
   "pygments_lexer": "ipython2",
   "version": "2.7.11"
  }
 },
 "nbformat": 4,
 "nbformat_minor": 0
}
