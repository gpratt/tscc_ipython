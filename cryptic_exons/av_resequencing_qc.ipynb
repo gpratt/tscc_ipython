{
 "cells": [
  {
   "cell_type": "code",
   "execution_count": 1,
   "metadata": {
    "collapsed": true
   },
   "outputs": [],
   "source": [
    "from gscripts.general import parsers\n",
    "from IPython.core.display import HTML"
   ]
  },
  {
   "cell_type": "code",
   "execution_count": 2,
   "metadata": {
    "collapsed": false
   },
   "outputs": [
    {
     "name": "stdout",
     "output_type": "stream",
     "text": [
      "cutadapt file maybe be broken, ignoring calculation\n"
     ]
    },
    {
     "ename": "ValueError",
     "evalue": "labels ['Finished on' 'Mapping speed, Million of reads per hour' 'Started job on'\n 'Started mapping on'] not contained in axis",
     "output_type": "error",
     "traceback": [
      "\u001b[0;31m---------------------------------------------------------------------------\u001b[0m",
      "\u001b[0;31mValueError\u001b[0m                                Traceback (most recent call last)",
      "\u001b[0;32m<ipython-input-2-998e3f78e928>\u001b[0m in \u001b[0;36m<module>\u001b[0;34m()\u001b[0m\n\u001b[0;32m----> 1\u001b[0;31m \u001b[0mav_resequencing\u001b[0m \u001b[0;34m=\u001b[0m \u001b[0mparsers\u001b[0m\u001b[0;34m.\u001b[0m\u001b[0mrnaseq_metrics\u001b[0m\u001b[0;34m(\u001b[0m\u001b[0;34m\"/home/gpratt/projects/cryptic_exons/analysis/av_resequencing_v1/\"\u001b[0m\u001b[0;34m)\u001b[0m\u001b[0;34m\u001b[0m\u001b[0m\n\u001b[0m",
      "\u001b[0;32m/home/gpratt/anaconda/lib/python2.7/site-packages/gscripts-0.1.6-py2.7.egg/gscripts/general/parsers.pyc\u001b[0m in \u001b[0;36mrnaseq_metrics\u001b[0;34m(analysis_dir, num_seps, sep)\u001b[0m\n\u001b[1;32m     82\u001b[0m                                     \u001b[0;34m\"Mapping speed, Million of reads per hour\"\u001b[0m\u001b[0;34m,\u001b[0m\u001b[0;34m\u001b[0m\u001b[0m\n\u001b[1;32m     83\u001b[0m                                     \u001b[0;34m\"Started job on\"\u001b[0m\u001b[0;34m,\u001b[0m\u001b[0;34m\u001b[0m\u001b[0m\n\u001b[0;32m---> 84\u001b[0;31m                                     \"Started mapping on\"], axis=1)\n\u001b[0m\u001b[1;32m     85\u001b[0m \u001b[0;34m\u001b[0m\u001b[0m\n\u001b[1;32m     86\u001b[0m     \u001b[0;32mreturn\u001b[0m \u001b[0mcombined_df\u001b[0m\u001b[0;34m\u001b[0m\u001b[0m\n",
      "\u001b[0;32m/home/gpratt/anaconda/lib/python2.7/site-packages/pandas/core/generic.pyc\u001b[0m in \u001b[0;36mdrop\u001b[0;34m(self, labels, axis, level, inplace, errors)\u001b[0m\n\u001b[1;32m   1871\u001b[0m                 \u001b[0mnew_axis\u001b[0m \u001b[0;34m=\u001b[0m \u001b[0maxis\u001b[0m\u001b[0;34m.\u001b[0m\u001b[0mdrop\u001b[0m\u001b[0;34m(\u001b[0m\u001b[0mlabels\u001b[0m\u001b[0;34m,\u001b[0m \u001b[0mlevel\u001b[0m\u001b[0;34m=\u001b[0m\u001b[0mlevel\u001b[0m\u001b[0;34m,\u001b[0m \u001b[0merrors\u001b[0m\u001b[0;34m=\u001b[0m\u001b[0merrors\u001b[0m\u001b[0;34m)\u001b[0m\u001b[0;34m\u001b[0m\u001b[0m\n\u001b[1;32m   1872\u001b[0m             \u001b[0;32melse\u001b[0m\u001b[0;34m:\u001b[0m\u001b[0;34m\u001b[0m\u001b[0m\n\u001b[0;32m-> 1873\u001b[0;31m                 \u001b[0mnew_axis\u001b[0m \u001b[0;34m=\u001b[0m \u001b[0maxis\u001b[0m\u001b[0;34m.\u001b[0m\u001b[0mdrop\u001b[0m\u001b[0;34m(\u001b[0m\u001b[0mlabels\u001b[0m\u001b[0;34m,\u001b[0m \u001b[0merrors\u001b[0m\u001b[0;34m=\u001b[0m\u001b[0merrors\u001b[0m\u001b[0;34m)\u001b[0m\u001b[0;34m\u001b[0m\u001b[0m\n\u001b[0m\u001b[1;32m   1874\u001b[0m             \u001b[0mdropped\u001b[0m \u001b[0;34m=\u001b[0m \u001b[0mself\u001b[0m\u001b[0;34m.\u001b[0m\u001b[0mreindex\u001b[0m\u001b[0;34m(\u001b[0m\u001b[0;34m**\u001b[0m\u001b[0;34m{\u001b[0m\u001b[0maxis_name\u001b[0m\u001b[0;34m:\u001b[0m \u001b[0mnew_axis\u001b[0m\u001b[0;34m}\u001b[0m\u001b[0;34m)\u001b[0m\u001b[0;34m\u001b[0m\u001b[0m\n\u001b[1;32m   1875\u001b[0m             \u001b[0;32mtry\u001b[0m\u001b[0;34m:\u001b[0m\u001b[0;34m\u001b[0m\u001b[0m\n",
      "\u001b[0;32m/home/gpratt/anaconda/lib/python2.7/site-packages/pandas/indexes/base.pyc\u001b[0m in \u001b[0;36mdrop\u001b[0;34m(self, labels, errors)\u001b[0m\n\u001b[1;32m   2964\u001b[0m             \u001b[0;32mif\u001b[0m \u001b[0merrors\u001b[0m \u001b[0;34m!=\u001b[0m \u001b[0;34m'ignore'\u001b[0m\u001b[0;34m:\u001b[0m\u001b[0;34m\u001b[0m\u001b[0m\n\u001b[1;32m   2965\u001b[0m                 raise ValueError('labels %s not contained in axis' %\n\u001b[0;32m-> 2966\u001b[0;31m                                  labels[mask])\n\u001b[0m\u001b[1;32m   2967\u001b[0m             \u001b[0mindexer\u001b[0m \u001b[0;34m=\u001b[0m \u001b[0mindexer\u001b[0m\u001b[0;34m[\u001b[0m\u001b[0;34m~\u001b[0m\u001b[0mmask\u001b[0m\u001b[0;34m]\u001b[0m\u001b[0;34m\u001b[0m\u001b[0m\n\u001b[1;32m   2968\u001b[0m         \u001b[0;32mreturn\u001b[0m \u001b[0mself\u001b[0m\u001b[0;34m.\u001b[0m\u001b[0mdelete\u001b[0m\u001b[0;34m(\u001b[0m\u001b[0mindexer\u001b[0m\u001b[0;34m)\u001b[0m\u001b[0;34m\u001b[0m\u001b[0m\n",
      "\u001b[0;31mValueError\u001b[0m: labels ['Finished on' 'Mapping speed, Million of reads per hour' 'Started job on'\n 'Started mapping on'] not contained in axis"
     ]
    }
   ],
   "source": [
    "av_resequencing = parsers.rnaseq_metrics(\"/home/gpratt/projects/cryptic_exons/analysis/av_resequencing_v1/\")"
   ]
  },
  {
   "cell_type": "code",
   "execution_count": 6,
   "metadata": {
    "collapsed": false
   },
   "outputs": [
    {
     "data": {
      "text/html": [
       "<table border=\"1\" class=\"dataframe\">\n",
       "  <thead>\n",
       "    <tr style=\"text-align: right;\">\n",
       "      <th></th>\n",
       "      <th>Input Reads</th>\n",
       "      <th>Uniquely Mapped Reads</th>\n",
       "      <th>Uniquely mapped reads %</th>\n",
       "    </tr>\n",
       "  </thead>\n",
       "  <tbody>\n",
       "    <tr>\n",
       "      <th>AV_47d_1_S50_L008_R1_001</th>\n",
       "      <td>59,843,628</td>\n",
       "      <td>54,344,732</td>\n",
       "      <td>92.49%</td>\n",
       "    </tr>\n",
       "    <tr>\n",
       "      <th>AV_47d_puro_1_S51_L008_R1_001</th>\n",
       "      <td>57,384,835</td>\n",
       "      <td>51,819,262</td>\n",
       "      <td>92.07%</td>\n",
       "    </tr>\n",
       "    <tr>\n",
       "      <th>AV_ALS17_5_1_S45_L007_R1_001</th>\n",
       "      <td>71,241,670</td>\n",
       "      <td>63,896,359</td>\n",
       "      <td>92.65%</td>\n",
       "    </tr>\n",
       "    <tr>\n",
       "      <th>AV_ALS17_5_puro_1_S46_L007_R1_001</th>\n",
       "      <td>52,293,038</td>\n",
       "      <td>47,728,984</td>\n",
       "      <td>92.53%</td>\n",
       "    </tr>\n",
       "    <tr>\n",
       "      <th>AV_CVB_S56_L008_R1_001</th>\n",
       "      <td>44,984,033</td>\n",
       "      <td>37,751,320</td>\n",
       "      <td>85.16%</td>\n",
       "    </tr>\n",
       "    <tr>\n",
       "      <th>AV_CVB_puro_S49_L007_R1_001</th>\n",
       "      <td>40,718,674</td>\n",
       "      <td>34,615,800</td>\n",
       "      <td>86.18%</td>\n",
       "    </tr>\n",
       "    <tr>\n",
       "      <th>AV_GY6_2_1_S43_L007_R1_001</th>\n",
       "      <td>74,158,247</td>\n",
       "      <td>67,369,731</td>\n",
       "      <td>92.54%</td>\n",
       "    </tr>\n",
       "    <tr>\n",
       "      <th>AV_GY6_2_puro_1_S44_L007_R1_001</th>\n",
       "      <td>85,135,133</td>\n",
       "      <td>77,529,147</td>\n",
       "      <td>92.47%</td>\n",
       "    </tr>\n",
       "    <tr>\n",
       "      <th>AV_Kin1ALS17_3_S47_L007_R1_001</th>\n",
       "      <td>31,138,025</td>\n",
       "      <td>25,459,767</td>\n",
       "      <td>85.31%</td>\n",
       "    </tr>\n",
       "    <tr>\n",
       "      <th>AV_Kin1ALS17_3_puro_S48_L007_R1_001</th>\n",
       "      <td>37,534,645</td>\n",
       "      <td>30,532,535</td>\n",
       "      <td>86.46%</td>\n",
       "    </tr>\n",
       "    <tr>\n",
       "      <th>KK_MN_shFUS_7_S55_L008_R1_001</th>\n",
       "      <td>57,282,627</td>\n",
       "      <td>52,204,544</td>\n",
       "      <td>92.96%</td>\n",
       "    </tr>\n",
       "    <tr>\n",
       "      <th>KK_MN_shSCR_3_S53_L008_R1_001</th>\n",
       "      <td>61,832,940</td>\n",
       "      <td>56,709,205</td>\n",
       "      <td>93.45%</td>\n",
       "    </tr>\n",
       "    <tr>\n",
       "      <th>KK_MN_shTAF_5_S54_L008_R1_001</th>\n",
       "      <td>59,449,633</td>\n",
       "      <td>54,431,534</td>\n",
       "      <td>93.32%</td>\n",
       "    </tr>\n",
       "    <tr>\n",
       "      <th>KK_MN_shTDP_1_S52_L008_R1_001</th>\n",
       "      <td>54,683,685</td>\n",
       "      <td>50,176,408</td>\n",
       "      <td>93.47%</td>\n",
       "    </tr>\n",
       "  </tbody>\n",
       "</table>"
      ],
      "text/plain": [
       "<IPython.core.display.HTML object>"
      ]
     },
     "execution_count": 6,
     "metadata": {},
     "output_type": "execute_result"
    }
   ],
   "source": [
    "av_resequencing_filtered = av_resequencing[[ \"Input Reads\",\n",
    "                            #\"Reads After Triming\",\n",
    "                            \"Uniquely Mapped Reads\",\n",
    "                            \"Uniquely mapped reads %\",\n",
    "                            ]]\n",
    "\n",
    "HTML(av_resequencing_filtered.to_html(formatters={\"Input Reads\" : parsers.commas,\n",
    "                                     \"Reads After Triming\" : parsers.commas,\n",
    "                                     \"Reads after Quality Filtering\" : parsers.commas,\n",
    "                                     \"Uniquely Mapped Reads\" : parsers.commas,\n",
    "                                     } ))"
   ]
  },
  {
   "cell_type": "code",
   "execution_count": null,
   "metadata": {
    "collapsed": true
   },
   "outputs": [],
   "source": []
  }
 ],
 "metadata": {
  "kernelspec": {
   "display_name": "Python 2",
   "language": "python",
   "name": "python2"
  },
  "language_info": {
   "codemirror_mode": {
    "name": "ipython",
    "version": 2
   },
   "file_extension": ".py",
   "mimetype": "text/x-python",
   "name": "python",
   "nbconvert_exporter": "python",
   "pygments_lexer": "ipython2",
   "version": "2.7.12"
  }
 },
 "nbformat": 4,
 "nbformat_minor": 0
}
