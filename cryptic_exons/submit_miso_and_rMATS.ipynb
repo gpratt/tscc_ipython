{
 "cells": [
  {
   "cell_type": "code",
   "execution_count": 3,
   "metadata": {
    "collapsed": true
   },
   "outputs": [],
   "source": [
    "import pandas as pd\n",
    "import os\n",
    "import glob\n",
    "import functools"
   ]
  },
  {
   "cell_type": "code",
   "execution_count": 4,
   "metadata": {
    "collapsed": true
   },
   "outputs": [],
   "source": [
    "def make_miso_submitter(bam, cell_type):\n",
    "    id_name = bam.split(\".\")[0]\n",
    "    bam_loc = os.path.join(\"/home/elvannostrand/scratch/ENCODE_rnaseq/bam_files_shashank/\", cell_type, bam + \".sorted.bam\")\n",
    "    return \"submit_miso_pipeline.py  '--bam' '{0}'  '--sample-id' '{1}'  '--genome' 'hg19'  '--do-not-submit'  '--output-sh' '{1}.miso.sh'  &&  'sh' '{1}.miso.sh'  &&  'touch' '/home/gpratt/projects/encode/analysis/miso_out/{1}.miso'\".format(bam_loc, id_name) "
   ]
  },
  {
   "cell_type": "code",
   "execution_count": 5,
   "metadata": {
    "collapsed": true
   },
   "outputs": [],
   "source": [
    "master_processing_table = pd.read_table(\"/home/elvannostrand/data/ENCODE/project_stuff/ENCODE_MASTER_ID_LIST_20160301_AllDatasets.txt\", \n",
    "                                        sep=\"\\t\",\n",
    "                                        skiprows=1,\n",
    "                                        names=[\"UID\", \"RBP_gID\", \"CellLine\", \"RBP_ENSG\", \"Antibody\", \"Lot\", \"CLIP_ENCODEAccID\", \"CLIP_Rep1ENC\", \"CLIP_Rep2ENC\", \"CLIP_InputENC\", \"RNASEQ_ENCODEAccID\",  \"Duplicate_RNASEQ_ENCODEAccID\", \"RNASEQ_ControlENC\", \"RNASEQ_KDRep1Bam\", \"RNASEQ_KDRep2Bam\", \"RNASEQ_ControlRep1Bam\", \"RNASEQ_ControlRep2Bam\", \"bar\"]\n",
    ")"
   ]
  },
  {
   "cell_type": "code",
   "execution_count": 6,
   "metadata": {
    "collapsed": false
   },
   "outputs": [
    {
     "ename": "AttributeError",
     "evalue": "'Series' object has no attribute 'KD_Bam_Rep1'",
     "output_type": "error",
     "traceback": [
      "\u001b[1;31m---------------------------------------------------------------------------\u001b[0m",
      "\u001b[1;31mAttributeError\u001b[0m                            Traceback (most recent call last)",
      "\u001b[1;32m<ipython-input-6-ea56893a169d>\u001b[0m in \u001b[0;36m<module>\u001b[1;34m()\u001b[0m\n\u001b[0;32m      1\u001b[0m \u001b[0mmiso_commands\u001b[0m \u001b[1;33m=\u001b[0m \u001b[1;33m[\u001b[0m\u001b[1;33m]\u001b[0m\u001b[1;33m\u001b[0m\u001b[0m\n\u001b[0;32m      2\u001b[0m \u001b[1;32mfor\u001b[0m \u001b[0mname\u001b[0m\u001b[1;33m,\u001b[0m \u001b[0mrow\u001b[0m \u001b[1;32min\u001b[0m \u001b[0mmaster_processing_table\u001b[0m\u001b[1;33m.\u001b[0m\u001b[0miterrows\u001b[0m\u001b[1;33m(\u001b[0m\u001b[1;33m)\u001b[0m\u001b[1;33m:\u001b[0m\u001b[1;33m\u001b[0m\u001b[0m\n\u001b[1;32m----> 3\u001b[1;33m     \u001b[0mmiso_commands\u001b[0m\u001b[1;33m.\u001b[0m\u001b[0mappend\u001b[0m\u001b[1;33m(\u001b[0m\u001b[0mmake_miso_submitter\u001b[0m\u001b[1;33m(\u001b[0m\u001b[0mrow\u001b[0m\u001b[1;33m.\u001b[0m\u001b[0mKD_Bam_Rep1\u001b[0m\u001b[1;33m,\u001b[0m \u001b[0mrow\u001b[0m\u001b[1;33m.\u001b[0m\u001b[0mCell_Type\u001b[0m\u001b[1;33m)\u001b[0m\u001b[1;33m)\u001b[0m\u001b[1;33m\u001b[0m\u001b[0m\n\u001b[0m\u001b[0;32m      4\u001b[0m     \u001b[0mmiso_commands\u001b[0m\u001b[1;33m.\u001b[0m\u001b[0mappend\u001b[0m\u001b[1;33m(\u001b[0m\u001b[0mmake_miso_submitter\u001b[0m\u001b[1;33m(\u001b[0m\u001b[0mrow\u001b[0m\u001b[1;33m.\u001b[0m\u001b[0mKD_Bam_Rep2\u001b[0m\u001b[1;33m,\u001b[0m \u001b[0mrow\u001b[0m\u001b[1;33m.\u001b[0m\u001b[0mCell_Type\u001b[0m\u001b[1;33m)\u001b[0m\u001b[1;33m)\u001b[0m\u001b[1;33m\u001b[0m\u001b[0m\n\u001b[0;32m      5\u001b[0m     \u001b[0mmiso_commands\u001b[0m\u001b[1;33m.\u001b[0m\u001b[0mappend\u001b[0m\u001b[1;33m(\u001b[0m\u001b[0mmake_miso_submitter\u001b[0m\u001b[1;33m(\u001b[0m\u001b[0mrow\u001b[0m\u001b[1;33m.\u001b[0m\u001b[0mCtrl_Bam_Rep1\u001b[0m\u001b[1;33m,\u001b[0m \u001b[0mrow\u001b[0m\u001b[1;33m.\u001b[0m\u001b[0mCell_Type\u001b[0m\u001b[1;33m)\u001b[0m\u001b[1;33m)\u001b[0m\u001b[1;33m\u001b[0m\u001b[0m\n",
      "\u001b[1;32m/home/gpratt/anaconda/lib/python2.7/site-packages/pandas/core/generic.pyc\u001b[0m in \u001b[0;36m__getattr__\u001b[1;34m(self, name)\u001b[0m\n\u001b[0;32m   2244\u001b[0m                 \u001b[1;32mreturn\u001b[0m \u001b[0mself\u001b[0m\u001b[1;33m[\u001b[0m\u001b[0mname\u001b[0m\u001b[1;33m]\u001b[0m\u001b[1;33m\u001b[0m\u001b[0m\n\u001b[0;32m   2245\u001b[0m             raise AttributeError(\"'%s' object has no attribute '%s'\" %\n\u001b[1;32m-> 2246\u001b[1;33m                                  (type(self).__name__, name))\n\u001b[0m\u001b[0;32m   2247\u001b[0m \u001b[1;33m\u001b[0m\u001b[0m\n\u001b[0;32m   2248\u001b[0m     \u001b[1;32mdef\u001b[0m \u001b[0m__setattr__\u001b[0m\u001b[1;33m(\u001b[0m\u001b[0mself\u001b[0m\u001b[1;33m,\u001b[0m \u001b[0mname\u001b[0m\u001b[1;33m,\u001b[0m \u001b[0mvalue\u001b[0m\u001b[1;33m)\u001b[0m\u001b[1;33m:\u001b[0m\u001b[1;33m\u001b[0m\u001b[0m\n",
      "\u001b[1;31mAttributeError\u001b[0m: 'Series' object has no attribute 'KD_Bam_Rep1'"
     ]
    }
   ],
   "source": [
    "miso_commands = []\n",
    "for name, row in master_processing_table.iterrows():\n",
    "    miso_commands.append(make_miso_submitter(row.KD_Bam_Rep1, row.Cell_Type))\n",
    "    miso_commands.append(make_miso_submitter(row.KD_Bam_Rep2, row.Cell_Type))\n",
    "    miso_commands.append(make_miso_submitter(row.Ctrl_Bam_Rep1, row.Cell_Type))\n",
    "    miso_commands.append(make_miso_submitter(row.Ctrl_Bam_Rep2, row.Cell_Type))"
   ]
  },
  {
   "cell_type": "code",
   "execution_count": 7,
   "metadata": {
    "collapsed": true
   },
   "outputs": [],
   "source": [
    "class ArrayJob():\n",
    "    def __init__(self):\n",
    "        self._epilogue = \"eval ${cmd[$PBS_ARRAYID]}\"\n",
    "\n",
    "    def _prologue(self, name, count, run_dir, ppn=1, walltime=8):\n",
    "        return \"\"\"#!/bin/bash\n",
    "#PBS -N {0}\n",
    "#PBS -l nodes=1:ppn={3}\n",
    "#PBS -o {0}.out\n",
    "#PBS -e {0}.err\n",
    "#PBS -V\n",
    "#PBS -q home-yeo\n",
    "#PBS -W group_list=yeo-group\n",
    "#PBS -t 1-{1}\n",
    "#PBS -l walltime={4}:00:00\n",
    "cd {2}\n",
    "echo \"hello, starting\"\n",
    "\n",
    "\"\"\".format(os.path.basename(name), count, run_dir, ppn, walltime)\n",
    "\n",
    "        \n",
    "    def make_script(self, commands, script_name, run_dir, ppn=1, walltime=8):\n",
    "        total = 0 \n",
    "        result = []\n",
    "        num_out = 0\n",
    "        for cmd in commands:\n",
    "            total += 1\n",
    "            result.append('cmd[{}]=\"{}\"'.format(total, cmd))\n",
    "            if total >= 500:\n",
    "                with open(\"{}_{}.sh\".format(script_name, num_out), 'w') as out_file:\n",
    "                    out_file.write(self._prologue(\"{}_{}\".format(script_name, num_out), total, run_dir, ppn, walltime ))\n",
    "                    for line in result:\n",
    "                        out_file.write(line + \"\\n\\n\")\n",
    "                    out_file.write(self._epilogue + \"\\n\")\n",
    "                total = 0 \n",
    "                num_out += 1\n",
    "                result = []\n",
    "\n",
    "        with open(\"{}_{}.sh\".format(script_name, num_out), 'w') as out_file:\n",
    "            out_file.write(self._prologue(\"{}_{}\".format(script_name, num_out), total, run_dir, ppn, walltime))\n",
    "            for line in result:\n",
    "                out_file.write(line + \"\\n\\n\")\n",
    "            out_file.write(self._epilogue + \"\\n\")"
   ]
  },
  {
   "cell_type": "code",
   "execution_count": 8,
   "metadata": {
    "collapsed": true
   },
   "outputs": [],
   "source": [
    "job_maker = ArrayJob()\n",
    "job_maker.make_script(miso_commands, \n",
    "                     script_name=\"/home/gpratt/projects/encode/scripts/miso_call_v2\", \n",
    "                     run_dir=\"/home/gpratt/projects/encode/analysis/miso_out/\",\n",
    "                     ppn=16)"
   ]
  },
  {
   "cell_type": "markdown",
   "metadata": {},
   "source": [
    "#Get Mean and Standard Deveation for all datasets"
   ]
  },
  {
   "cell_type": "code",
   "execution_count": 9,
   "metadata": {
    "collapsed": false
   },
   "outputs": [],
   "source": [
    "bam_files = glob.glob(\"/projects/ps-yeolab/seqdata/20160222_sebas_stress_encode/*.bam\")\n",
    "cryptic_exons = pd.DataFrame(pd.Series({os.path.basename(fn).split(\".\")[0]: fn for fn in bam_files}, name=\"bam_files\"))\n",
    "cryptic_exons = cryptic_exons.join(pd.read_excel(\"/home/gpratt/Dropbox/cryptic_splicing/data/human_data/data_annotations.xlsx\", \"Sheet1\", index_col=4)).dropna()"
   ]
  },
  {
   "cell_type": "markdown",
   "metadata": {},
   "source": [
    "#Download all the bam files\n",
    "cat bams.txt | xargs -n 2 sh -c 'wget -b \"$0\" -O \"$1\".bam' "
   ]
  },
  {
   "cell_type": "markdown",
   "metadata": {},
   "source": [
    "#Get size stats"
   ]
  },
  {
   "cell_type": "code",
   "execution_count": 14,
   "metadata": {
    "collapsed": true
   },
   "outputs": [],
   "source": [
    "def collect_insert_size_metrics(bam, out_dir):\n",
    "    \n",
    "    name = os.path.basename(bam).split(\".\")[0]\n",
    "    out_txt = os.path.join(out_dir, name) + \".txt\"\n",
    "    out_pdf = os.path.join(out_dir, name) + \".pdf\"\n",
    "\n",
    "    if os.path.exists(out_txt):\n",
    "       return None\n",
    "\n",
    "    return \"java -jar /home/yeo-lab/software/picard-tools-1.141/picard.jar CollectInsertSizeMetrics I={} O={} H={} VALIDATION_STRINGENCY=SILENT\".format(bam, out_txt, out_pdf)"
   ]
  },
  {
   "cell_type": "code",
   "execution_count": 15,
   "metadata": {
    "collapsed": false
   },
   "outputs": [],
   "source": [
    "insert_size_metrics = [collect_insert_size_metrics(bam_file, \"/home/gpratt/projects/cryptic_exons/analysis/ad-hoc/size_metrics\") for bam_file in bam_files]\n"
   ]
  },
  {
   "cell_type": "code",
   "execution_count": null,
   "metadata": {
    "collapsed": false,
    "scrolled": true
   },
   "outputs": [
    {
     "name": "stdout",
     "output_type": "stream",
     "text": [
      "[Thu Mar 24 12:29:12 PDT 2016] picard.analysis.CollectInsertSizeMetrics HISTOGRAM_FILE=/home/gpratt/projects/cryptic_exons/analysis/ad-hoc/size_metrics/HepG2_ut3.pdf INPUT=/projects/ps-yeolab/seqdata/20160222_sebas_stress_encode/HepG2_ut3.bam OUTPUT=/home/gpratt/projects/cryptic_exons/analysis/ad-hoc/size_metrics/HepG2_ut3.txt VALIDATION_STRINGENCY=SILENT    DEVIATIONS=10.0 MINIMUM_PCT=0.05 METRIC_ACCUMULATION_LEVEL=[ALL_READS] ASSUME_SORTED=true STOP_AFTER=0 VERBOSITY=INFO QUIET=false COMPRESSION_LEVEL=5 MAX_RECORDS_IN_RAM=500000 CREATE_INDEX=false CREATE_MD5_FILE=false GA4GH_CLIENT_SECRETS=client_secrets.json\n",
      "[Thu Mar 24 12:29:12 PDT 2016] Executing as gpratt@tscc-1-32.sdsc.edu on Linux 2.6.32-504.16.2.el6.x86_64 amd64; OpenJDK 64-Bit Server VM 1.7.0_75-mockbuild_2015_01_20_23_39-b00; Picard version: 1.141(8ece590411350163e7689e9e77aab8efcb622170_1447695087) IntelDeflater\n",
      "INFO\t2016-03-24 12:29:14\tSinglePassSamProgram\tProcessed     1,000,000 records.  Elapsed time: 00:00:02s.  Time for last 1,000,000:    2s.  Last read position: chr1:8,072,620\n",
      "INFO\t2016-03-24 12:29:16\tSinglePassSamProgram\tProcessed     2,000,000 records.  Elapsed time: 00:00:04s.  Time for last 1,000,000:    1s.  Last read position: chr1:40,042,323\n",
      "INFO\t2016-03-24 12:29:18\tSinglePassSamProgram\tProcessed     3,000,000 records.  Elapsed time: 00:00:05s.  Time for last 1,000,000:    1s.  Last read position: chr1:110,565,854\n",
      "INFO\t2016-03-24 12:29:20\tSinglePassSamProgram\tProcessed     4,000,000 records.  Elapsed time: 00:00:07s.  Time for last 1,000,000:    2s.  Last read position: chr1:162,536,127\n",
      "INFO\t2016-03-24 12:29:21\tSinglePassSamProgram\tProcessed     5,000,000 records.  Elapsed time: 00:00:09s.  Time for last 1,000,000:    1s.  Last read position: chr10:5,014,472\n",
      "INFO\t2016-03-24 12:29:23\tSinglePassSamProgram\tProcessed     6,000,000 records.  Elapsed time: 00:00:10s.  Time for last 1,000,000:    1s.  Last read position: chr10:88,817,478\n",
      "INFO\t2016-03-24 12:29:24\tSinglePassSamProgram\tProcessed     7,000,000 records.  Elapsed time: 00:00:12s.  Time for last 1,000,000:    1s.  Last read position: chr11:2,153,091\n",
      "INFO\t2016-03-24 12:29:26\tSinglePassSamProgram\tProcessed     8,000,000 records.  Elapsed time: 00:00:14s.  Time for last 1,000,000:    1s.  Last read position: chr11:61,732,575\n",
      "INFO\t2016-03-24 12:29:28\tSinglePassSamProgram\tProcessed     9,000,000 records.  Elapsed time: 00:00:15s.  Time for last 1,000,000:    1s.  Last read position: chr11:116,706,954\n",
      "INFO\t2016-03-24 12:29:29\tSinglePassSamProgram\tProcessed    10,000,000 records.  Elapsed time: 00:00:17s.  Time for last 1,000,000:    1s.  Last read position: chr12:9,246,141\n",
      "INFO\t2016-03-24 12:29:31\tSinglePassSamProgram\tProcessed    11,000,000 records.  Elapsed time: 00:00:19s.  Time for last 1,000,000:    1s.  Last read position: chr12:56,498,497\n",
      "INFO\t2016-03-24 12:29:33\tSinglePassSamProgram\tProcessed    12,000,000 records.  Elapsed time: 00:00:20s.  Time for last 1,000,000:    1s.  Last read position: chr12:112,846,048\n",
      "INFO\t2016-03-24 12:29:34\tSinglePassSamProgram\tProcessed    13,000,000 records.  Elapsed time: 00:00:22s.  Time for last 1,000,000:    1s.  Last read position: chr13:73,333,904\n",
      "INFO\t2016-03-24 12:29:36\tSinglePassSamProgram\tProcessed    14,000,000 records.  Elapsed time: 00:00:23s.  Time for last 1,000,000:    1s.  Last read position: chr14:32,562,524\n",
      "INFO\t2016-03-24 12:29:37\tSinglePassSamProgram\tProcessed    15,000,000 records.  Elapsed time: 00:00:25s.  Time for last 1,000,000:    1s.  Last read position: chr14:94,847,338\n",
      "INFO\t2016-03-24 12:29:39\tSinglePassSamProgram\tProcessed    16,000,000 records.  Elapsed time: 00:00:27s.  Time for last 1,000,000:    1s.  Last read position: chr15:45,366,152\n",
      "INFO\t2016-03-24 12:29:41\tSinglePassSamProgram\tProcessed    17,000,000 records.  Elapsed time: 00:00:29s.  Time for last 1,000,000:    1s.  Last read position: chr16:1,394,266\n",
      "INFO\t2016-03-24 12:29:43\tSinglePassSamProgram\tProcessed    18,000,000 records.  Elapsed time: 00:00:30s.  Time for last 1,000,000:    1s.  Last read position: chr16:21,964,740\n",
      "INFO\t2016-03-24 12:29:44\tSinglePassSamProgram\tProcessed    19,000,000 records.  Elapsed time: 00:00:32s.  Time for last 1,000,000:    1s.  Last read position: chr16:66,975,675\n",
      "INFO\t2016-03-24 12:29:46\tSinglePassSamProgram\tProcessed    20,000,000 records.  Elapsed time: 00:00:33s.  Time for last 1,000,000:    1s.  Last read position: chr17:4,849,967\n",
      "INFO\t2016-03-24 12:29:47\tSinglePassSamProgram\tProcessed    21,000,000 records.  Elapsed time: 00:00:35s.  Time for last 1,000,000:    1s.  Last read position: chr17:37,358,574\n",
      "INFO\t2016-03-24 12:29:49\tSinglePassSamProgram\tProcessed    22,000,000 records.  Elapsed time: 00:00:36s.  Time for last 1,000,000:    1s.  Last read position: chr17:57,184,850\n",
      "INFO\t2016-03-24 12:29:50\tSinglePassSamProgram\tProcessed    23,000,000 records.  Elapsed time: 00:00:38s.  Time for last 1,000,000:    1s.  Last read position: chr17:79,804,481\n",
      "INFO\t2016-03-24 12:29:52\tSinglePassSamProgram\tProcessed    24,000,000 records.  Elapsed time: 00:00:39s.  Time for last 1,000,000:    1s.  Last read position: chr19:3,980,581\n",
      "INFO\t2016-03-24 12:29:54\tSinglePassSamProgram\tProcessed    25,000,000 records.  Elapsed time: 00:00:42s.  Time for last 1,000,000:    2s.  Last read position: chr19:23,849,772\n",
      "INFO\t2016-03-24 12:29:56\tSinglePassSamProgram\tProcessed    26,000,000 records.  Elapsed time: 00:00:44s.  Time for last 1,000,000:    2s.  Last read position: chr19:49,469,951\n",
      "INFO\t2016-03-24 12:29:58\tSinglePassSamProgram\tProcessed    27,000,000 records.  Elapsed time: 00:00:46s.  Time for last 1,000,000:    1s.  Last read position: chr2:21,225,385\n",
      "INFO\t2016-03-24 12:30:00\tSinglePassSamProgram\tProcessed    28,000,000 records.  Elapsed time: 00:00:47s.  Time for last 1,000,000:    1s.  Last read position: chr2:37,315,551\n",
      "INFO\t2016-03-24 12:30:01\tSinglePassSamProgram\tProcessed    29,000,000 records.  Elapsed time: 00:00:49s.  Time for last 1,000,000:    1s.  Last read position: chr2:87,144,613\n",
      "INFO\t2016-03-24 12:30:03\tSinglePassSamProgram\tProcessed    30,000,000 records.  Elapsed time: 00:00:51s.  Time for last 1,000,000:    2s.  Last read position: chr2:176,043,867\n",
      "INFO\t2016-03-24 12:30:05\tSinglePassSamProgram\tProcessed    31,000,000 records.  Elapsed time: 00:00:53s.  Time for last 1,000,000:    1s.  Last read position: chr2:216,248,795\n",
      "INFO\t2016-03-24 12:30:07\tSinglePassSamProgram\tProcessed    32,000,000 records.  Elapsed time: 00:00:54s.  Time for last 1,000,000:    1s.  Last read position: chr2:242,187,458\n",
      "INFO\t2016-03-24 12:30:08\tSinglePassSamProgram\tProcessed    33,000,000 records.  Elapsed time: 00:00:56s.  Time for last 1,000,000:    1s.  Last read position: chr20:33,592,276\n",
      "INFO\t2016-03-24 12:30:10\tSinglePassSamProgram\tProcessed    34,000,000 records.  Elapsed time: 00:00:57s.  Time for last 1,000,000:    1s.  Last read position: chr21:16,334,894\n",
      "INFO\t2016-03-24 12:30:11\tSinglePassSamProgram\tProcessed    35,000,000 records.  Elapsed time: 00:00:59s.  Time for last 1,000,000:    1s.  Last read position: chr22:39,710,917\n",
      "INFO\t2016-03-24 12:30:13\tSinglePassSamProgram\tProcessed    36,000,000 records.  Elapsed time: 00:01:00s.  Time for last 1,000,000:    1s.  Last read position: chr3:49,065,215\n",
      "INFO\t2016-03-24 12:30:14\tSinglePassSamProgram\tProcessed    37,000,000 records.  Elapsed time: 00:01:02s.  Time for last 1,000,000:    1s.  Last read position: chr3:133,478,106\n",
      "INFO\t2016-03-24 12:30:16\tSinglePassSamProgram\tProcessed    38,000,000 records.  Elapsed time: 00:01:03s.  Time for last 1,000,000:    1s.  Last read position: chr4:2,475,684\n",
      "INFO\t2016-03-24 12:30:18\tSinglePassSamProgram\tProcessed    39,000,000 records.  Elapsed time: 00:01:05s.  Time for last 1,000,000:    1s.  Last read position: chr4:74,282,055\n",
      "INFO\t2016-03-24 12:30:19\tSinglePassSamProgram\tProcessed    40,000,000 records.  Elapsed time: 00:01:07s.  Time for last 1,000,000:    1s.  Last read position: chr4:74,319,525\n",
      "INFO\t2016-03-24 12:30:21\tSinglePassSamProgram\tProcessed    41,000,000 records.  Elapsed time: 00:01:09s.  Time for last 1,000,000:    2s.  Last read position: chr4:185,552,265\n",
      "INFO\t2016-03-24 12:30:23\tSinglePassSamProgram\tProcessed    42,000,000 records.  Elapsed time: 00:01:11s.  Time for last 1,000,000:    1s.  Last read position: chr5:130,730,002\n",
      "INFO\t2016-03-24 12:30:25\tSinglePassSamProgram\tProcessed    43,000,000 records.  Elapsed time: 00:01:13s.  Time for last 1,000,000:    1s.  Last read position: chr5:179,149,990\n",
      "INFO\t2016-03-24 12:30:27\tSinglePassSamProgram\tProcessed    44,000,000 records.  Elapsed time: 00:01:15s.  Time for last 1,000,000:    1s.  Last read position: chr6:32,136,552\n",
      "INFO\t2016-03-24 12:30:29\tSinglePassSamProgram\tProcessed    45,000,000 records.  Elapsed time: 00:01:17s.  Time for last 1,000,000:    2s.  Last read position: chr6:74,227,966\n",
      "INFO\t2016-03-24 12:30:31\tSinglePassSamProgram\tProcessed    46,000,000 records.  Elapsed time: 00:01:19s.  Time for last 1,000,000:    1s.  Last read position: chr6:150,063,641\n",
      "INFO\t2016-03-24 12:30:33\tSinglePassSamProgram\tProcessed    47,000,000 records.  Elapsed time: 00:01:20s.  Time for last 1,000,000:    1s.  Last read position: chr7:56,146,177\n",
      "INFO\t2016-03-24 12:30:35\tSinglePassSamProgram\tProcessed    48,000,000 records.  Elapsed time: 00:01:22s.  Time for last 1,000,000:    1s.  Last read position: chr7:130,040,067\n",
      "INFO\t2016-03-24 12:30:36\tSinglePassSamProgram\tProcessed    49,000,000 records.  Elapsed time: 00:01:24s.  Time for last 1,000,000:    1s.  Last read position: chr8:82,192,905\n",
      "INFO\t2016-03-24 12:30:38\tSinglePassSamProgram\tProcessed    50,000,000 records.  Elapsed time: 00:01:25s.  Time for last 1,000,000:    1s.  Last read position: chr9:70,483,258\n",
      "INFO\t2016-03-24 12:30:40\tSinglePassSamProgram\tProcessed    51,000,000 records.  Elapsed time: 00:01:27s.  Time for last 1,000,000:    1s.  Last read position: chr9:131,767,730\n",
      "INFO\t2016-03-24 12:30:41\tSinglePassSamProgram\tProcessed    52,000,000 records.  Elapsed time: 00:01:29s.  Time for last 1,000,000:    1s.  Last read position: chrM:2,124\n",
      "INFO\t2016-03-24 12:30:42\tSinglePassSamProgram\tProcessed    53,000,000 records.  Elapsed time: 00:01:30s.  Time for last 1,000,000:    1s.  Last read position: chrM:4,626\n",
      "INFO\t2016-03-24 12:30:44\tSinglePassSamProgram\tProcessed    54,000,000 records.  Elapsed time: 00:01:31s.  Time for last 1,000,000:    1s.  Last read position: chrM:6,378\n",
      "INFO\t2016-03-24 12:30:45\tSinglePassSamProgram\tProcessed    55,000,000 records.  Elapsed time: 00:01:33s.  Time for last 1,000,000:    1s.  Last read position: chrM:7,184\n",
      "INFO\t2016-03-24 12:30:47\tSinglePassSamProgram\tProcessed    56,000,000 records.  Elapsed time: 00:01:34s.  Time for last 1,000,000:    1s.  Last read position: chrM:7,934\n",
      "INFO\t2016-03-24 12:30:48\tSinglePassSamProgram\tProcessed    57,000,000 records.  Elapsed time: 00:01:35s.  Time for last 1,000,000:    1s.  Last read position: chrM:8,966\n",
      "INFO\t2016-03-24 12:30:49\tSinglePassSamProgram\tProcessed    58,000,000 records.  Elapsed time: 00:01:37s.  Time for last 1,000,000:    1s.  Last read position: chrM:10,121\n",
      "INFO\t2016-03-24 12:30:51\tSinglePassSamProgram\tProcessed    59,000,000 records.  Elapsed time: 00:01:38s.  Time for last 1,000,000:    1s.  Last read position: chrM:11,380\n",
      "INFO\t2016-03-24 12:30:52\tSinglePassSamProgram\tProcessed    60,000,000 records.  Elapsed time: 00:01:40s.  Time for last 1,000,000:    1s.  Last read position: chrM:13,137\n",
      "INFO\t2016-03-24 12:30:53\tSinglePassSamProgram\tProcessed    61,000,000 records.  Elapsed time: 00:01:41s.  Time for last 1,000,000:    1s.  Last read position: chrX:46,320,213\n",
      "INFO\t2016-03-24 12:30:57\tRExecutor\tExecuting R script via command: Rscript /tmp/gpratt/script934460096974735767.R /home/gpratt/projects/cryptic_exons/analysis/ad-hoc/size_metrics/HepG2_ut3.txt /home/gpratt/projects/cryptic_exons/analysis/ad-hoc/size_metrics/HepG2_ut3.pdf HepG2_ut3.bam\n",
      "INFO\t2016-03-24 12:30:58\tProcessExecutor\tnull device \n",
      "INFO\t2016-03-24 12:30:58\tProcessExecutor\t          1 \n",
      "[Thu Mar 24 12:30:58 PDT 2016] picard.analysis.CollectInsertSizeMetrics done. Elapsed time: 1.78 minutes.\n",
      "Runtime.totalMemory()=1853358080\n",
      "[Thu Mar 24 12:30:59 PDT 2016] picard.analysis.CollectInsertSizeMetrics HISTOGRAM_FILE=/home/gpratt/projects/cryptic_exons/analysis/ad-hoc/size_metrics/HepG2_hs3.pdf INPUT=/projects/ps-yeolab/seqdata/20160222_sebas_stress_encode/HepG2_hs3.bam OUTPUT=/home/gpratt/projects/cryptic_exons/analysis/ad-hoc/size_metrics/HepG2_hs3.txt VALIDATION_STRINGENCY=SILENT    DEVIATIONS=10.0 MINIMUM_PCT=0.05 METRIC_ACCUMULATION_LEVEL=[ALL_READS] ASSUME_SORTED=true STOP_AFTER=0 VERBOSITY=INFO QUIET=false COMPRESSION_LEVEL=5 MAX_RECORDS_IN_RAM=500000 CREATE_INDEX=false CREATE_MD5_FILE=false GA4GH_CLIENT_SECRETS=client_secrets.json\n",
      "[Thu Mar 24 12:30:59 PDT 2016] Executing as gpratt@tscc-1-32.sdsc.edu on Linux 2.6.32-504.16.2.el6.x86_64 amd64; OpenJDK 64-Bit Server VM 1.7.0_75-mockbuild_2015_01_20_23_39-b00; Picard version: 1.141(8ece590411350163e7689e9e77aab8efcb622170_1447695087) IntelDeflater\n",
      "INFO\t2016-03-24 12:31:02\tSinglePassSamProgram\tProcessed     1,000,000 records.  Elapsed time: 00:00:02s.  Time for last 1,000,000:    2s.  Last read position: chr1:23,409,840\n",
      "INFO\t2016-03-24 12:31:04\tSinglePassSamProgram\tProcessed     2,000,000 records.  Elapsed time: 00:00:04s.  Time for last 1,000,000:    1s.  Last read position: chr1:67,891,888\n",
      "INFO\t2016-03-24 12:31:05\tSinglePassSamProgram\tProcessed     3,000,000 records.  Elapsed time: 00:00:06s.  Time for last 1,000,000:    1s.  Last read position: chr1:156,221,263\n",
      "INFO\t2016-03-24 12:31:07\tSinglePassSamProgram\tProcessed     4,000,000 records.  Elapsed time: 00:00:08s.  Time for last 1,000,000:    2s.  Last read position: chr1:247,463,297\n",
      "INFO\t2016-03-24 12:31:09\tSinglePassSamProgram\tProcessed     5,000,000 records.  Elapsed time: 00:00:09s.  Time for last 1,000,000:    1s.  Last read position: chr10:95,351,862\n",
      "INFO\t2016-03-24 12:31:11\tSinglePassSamProgram\tProcessed     6,000,000 records.  Elapsed time: 00:00:11s.  Time for last 1,000,000:    2s.  Last read position: chr11:14,512,207\n",
      "INFO\t2016-03-24 12:31:13\tSinglePassSamProgram\tProcessed     7,000,000 records.  Elapsed time: 00:00:13s.  Time for last 1,000,000:    1s.  Last read position: chr11:71,154,552\n",
      "INFO\t2016-03-24 12:31:14\tSinglePassSamProgram\tProcessed     8,000,000 records.  Elapsed time: 00:00:15s.  Time for last 1,000,000:    1s.  Last read position: chr12:6,666,486\n",
      "INFO\t2016-03-24 12:31:16\tSinglePassSamProgram\tProcessed     9,000,000 records.  Elapsed time: 00:00:16s.  Time for last 1,000,000:    1s.  Last read position: chr12:56,217,854\n"
     ]
    }
   ],
   "source": [
    "for x in insert_size_metrics:\n",
    "    !$x"
   ]
  },
  {
   "cell_type": "code",
   "execution_count": 16,
   "metadata": {
    "collapsed": false
   },
   "outputs": [],
   "source": [
    "job_maker.make_script(insert_size_metrics, \n",
    "                     script_name=\"/home/gpratt/projects/cryptic_exons/scripts/get_distributions\", \n",
    "                     run_dir=\"/home/gpratt/projects/cryptic_exons/analysis/ad-hoc/size_metrics/\",\n",
    "                     ppn=1)"
   ]
  },
  {
   "cell_type": "code",
   "execution_count": 17,
   "metadata": {
    "collapsed": false
   },
   "outputs": [],
   "source": [
    "def parse_insert_size_metrics(CollectInsertSizeMetricsFile):\n",
    "    try:\n",
    "        with open(CollectInsertSizeMetricsFile) as metrics_file:\n",
    "            metrics_file.next()\n",
    "            metrics_file.next()\n",
    "            metrics_file.next()\n",
    "            metrics_file.next()\n",
    "            metrics_file.next()\n",
    "            metrics_file.next()\n",
    "            header = metrics_file.next().split()\n",
    "            data = metrics_file.next().split()\n",
    "            return pd.Series({key: value for key, value in zip(header, data)})\n",
    "    except Exception as e:\n",
    "        print \"error\", os.path.basename(CollectInsertSizeMetricsFile)\n",
    "        raise e"
   ]
  },
  {
   "cell_type": "code",
   "execution_count": 18,
   "metadata": {
    "collapsed": false
   },
   "outputs": [],
   "source": [
    "cryptic_exons['metrics'] = [os.path.join(\"/home/gpratt/projects/cryptic_exons/analysis/ad-hoc/size_metrics/\", item + \".txt\") for item in cryptic_exons.index]\n",
    "cryptic_exons = cryptic_exons.join(cryptic_exons.metrics.apply(parse_insert_size_metrics))"
   ]
  },
  {
   "cell_type": "code",
   "execution_count": 19,
   "metadata": {
    "collapsed": true
   },
   "outputs": [],
   "source": [
    "def run_rmats(b1, b2, b1_mean, b2_mean, b1_std, b2_std, read_len, gtf, out_dir):\n",
    "    b1 = \",\".join(b1)\n",
    "    b2 = \",\".join(b2)\n",
    "    b1_mean = \",\".join(b1_mean)\n",
    "    b2_mean = \",\".join(b2_mean)\n",
    "    b1_std = \",\".join(b1_std)\n",
    "    b2_std = \",\".join(b2_std)\n",
    "\n",
    "    return \"python /home/gpratt/software/rMATS.3.2.1.beta/RNASeq-MATS.py -b1 {0} -b2 {1} -r1 {2} -r2 {3} -sd1 {4} -sd2 {5} -gtf {6} -t paired -len {7} -a 8 -o {8}\".format(b1, b2, b1_mean, b2_mean, b1_std, b2_std, gtf, read_len, out_dir)"
   ]
  },
  {
   "cell_type": "code",
   "execution_count": 20,
   "metadata": {
    "collapsed": true
   },
   "outputs": [],
   "source": [
    "interesting_combinations = {(('ars1', 'K562'), ('WT', 'K562')),\n",
    "                            (('PQ1', 'K562'), ('WT', 'K562')),\n",
    "                            (('PQCA1', 'K562'), ('WT', 'K562')),\n",
    "                            (('hs1', 'K562'), ('WT', 'K562')),\n",
    "                            (('CA', 'K562'), ('WT', 'K562')),\n",
    "                            (('ars1', 'HepG2'), ('WT', 'HepG2')),\n",
    "                            (('PQ1', 'HepG2'), ('WT', 'HepG2')),\n",
    "                            (('PQCA1', 'HepG2'), ('WT', 'HepG2')),\n",
    "                            (('hs1', 'HepG2'), ('WT', 'HepG2')),\n",
    "                            (('CA', 'HepG2'), ('WT', 'HepG2')),\n",
    "                           }"
   ]
  },
  {
   "cell_type": "code",
   "execution_count": 21,
   "metadata": {
    "collapsed": false
   },
   "outputs": [],
   "source": [
    "#Stringent Method\n",
    "results = []\n",
    "for (genotype_1, cell_type_1), (genotype_2, cell_type_2) in interesting_combinations:\n",
    "    kd = cryptic_exons[(cryptic_exons.rep  == genotype_1) & (cryptic_exons.stress  == cell_type_1)]\n",
    "    ctrl = cryptic_exons[(cryptic_exons.rep == genotype_2) & (cryptic_exons.stress  == cell_type_2)]\n",
    "    results.append(run_rmats(kd.bam_files, \n",
    "              ctrl.bam_files, \n",
    "              kd.MEAN_INSERT_SIZE, \n",
    "              ctrl.MEAN_INSERT_SIZE, \n",
    "              kd.STANDARD_DEVIATION,  \n",
    "              ctrl.STANDARD_DEVIATION, \n",
    "              read_len = 100,\n",
    "              gtf=\"/projects/ps-yeolab/genomes/hg19/gencode/v19/gencode.v19.annotation.gtf\",\n",
    "              out_dir=\"/home/gpratt/projects/cryptic_exons/analysis/ad-hoc/rMATS/{}_{}_vs_{}_{}\".format(genotype_1, cell_type_1, genotype_2, cell_type_2)))"
   ]
  },
  {
   "cell_type": "code",
   "execution_count": 22,
   "metadata": {
    "collapsed": false
   },
   "outputs": [],
   "source": [
    "job_maker.make_script(results, \n",
    "                     script_name=\"/home/gpratt/projects/cryptic_exons/scripts/rMATS\", \n",
    "                     run_dir=\"/home/gpratt/projects/cryptic_exons/analysis/ad-hoc/rMATS/\",\n",
    "                     ppn=8,\n",
    "                     walltime=48)"
   ]
  },
  {
   "cell_type": "markdown",
   "metadata": {},
   "source": [
    "#This is for later, after I generate means and standard devations for all my stressed cells"
   ]
  },
  {
   "cell_type": "code",
   "execution_count": 23,
   "metadata": {
    "collapsed": true
   },
   "outputs": [],
   "source": [
    "def make_full_path(row, bam_column):\n",
    "    return os.path.join(\"/projects/ps-yeolab2/encode/analysis/rnaseq_bams_v2/\", row[bam_column] + \".bam\")\n",
    "\n",
    "def make_size_metrics(row, bam_column):\n",
    "    return os.path.join(\"/home/gpratt/projects/encode/analysis/ad-hoc/size_metrics/\", row[bam_column].split(\".\")[0] + \".txt\")"
   ]
  },
  {
   "cell_type": "code",
   "execution_count": 24,
   "metadata": {
    "collapsed": false
   },
   "outputs": [],
   "source": [
    "master_processing_table = pd.read_csv(\"/projects/ps-yeolab2/encode/analysis/rnaseq_bams_v2/20160325_rnai_manifest.csv\", index_col=0)\n",
    "#master_processing_table = master_processing_table.dropna(subset=[\"CellLine\"], axis=0)"
   ]
  },
  {
   "cell_type": "code",
   "execution_count": 25,
   "metadata": {
    "collapsed": false
   },
   "outputs": [
    {
     "data": {
      "text/plain": [
       "407"
      ]
     },
     "execution_count": 25,
     "metadata": {},
     "output_type": "execute_result"
    }
   ],
   "source": [
    "len(master_processing_table)"
   ]
  },
  {
   "cell_type": "code",
   "execution_count": 26,
   "metadata": {
    "collapsed": false
   },
   "outputs": [
    {
     "data": {
      "text/plain": [
       "405"
      ]
     },
     "execution_count": 26,
     "metadata": {},
     "output_type": "execute_result"
    }
   ],
   "source": [
    "len(set(master_processing_table.kd_2))"
   ]
  },
  {
   "cell_type": "code",
   "execution_count": 27,
   "metadata": {
    "collapsed": false
   },
   "outputs": [],
   "source": [
    "kd_bam_rep1 = functools.partial(make_full_path, bam_column=\"ctrl_1\")\n",
    "kd_bam_rep2 = functools.partial(make_full_path, bam_column=\"ctrl_2\")\n",
    "ctrl_bam_rep1 = functools.partial(make_full_path, bam_column=\"kd_1\")\n",
    "ctrl_bam_rep2 = functools.partial(make_full_path, bam_column=\"kd_2\")\n",
    "\n",
    "master_processing_table[\"kd_bam_rep1\"] = master_processing_table.apply(kd_bam_rep1, axis=1)\n",
    "master_processing_table[\"kd_bam_rep2\"] = master_processing_table.apply(kd_bam_rep2, axis=1)\n",
    "master_processing_table[\"ctrl_bam_rep1\"] = master_processing_table.apply(ctrl_bam_rep1, axis=1)\n",
    "master_processing_table[\"ctrl_bam_rep2\"] = master_processing_table.apply(ctrl_bam_rep2, axis=1)\n",
    "\n",
    "kd_bam_rep1 = functools.partial(make_size_metrics, bam_column=\"ctrl_1\")\n",
    "kd_bam_rep2 = functools.partial(make_size_metrics, bam_column=\"ctrl_2\")\n",
    "ctrl_bam_rep1 = functools.partial(make_size_metrics, bam_column=\"kd_1\")\n",
    "ctrl_bam_rep2 = functools.partial(make_size_metrics, bam_column=\"kd_2\")\n",
    "\n",
    "master_processing_table[\"kd_bam_rep1_size\"] = master_processing_table.apply(kd_bam_rep1, axis=1)\n",
    "master_processing_table[\"kd_bam_rep2_size\"] = master_processing_table.apply(kd_bam_rep2, axis=1)\n",
    "master_processing_table[\"ctrl_bam_rep1_size\"] = master_processing_table.apply(ctrl_bam_rep1, axis=1)\n",
    "master_processing_table[\"ctrl_bam_rep2_size\"] = master_processing_table.apply(ctrl_bam_rep2, axis=1)"
   ]
  },
  {
   "cell_type": "code",
   "execution_count": 28,
   "metadata": {
    "collapsed": false
   },
   "outputs": [],
   "source": [
    "insert_size_metrics = [collect_insert_size_metrics(bam_file, \"/home/gpratt/projects/encode/analysis/ad-hoc/size_metrics\") for bam_file in master_processing_table['ctrl_bam_rep1']]\n",
    "insert_size_metrics += [collect_insert_size_metrics(bam_file, \"/home/gpratt/projects/encode/analysis/ad-hoc/size_metrics\") for bam_file in master_processing_table['ctrl_bam_rep2']]\n",
    "insert_size_metrics += [collect_insert_size_metrics(bam_file, \"/home/gpratt/projects/encode/analysis/ad-hoc/size_metrics\") for bam_file in master_processing_table['kd_bam_rep1']]\n",
    "insert_size_metrics += [collect_insert_size_metrics(bam_file, \"/home/gpratt/projects/encode/analysis/ad-hoc/size_metrics\") for bam_file in master_processing_table['kd_bam_rep2']]\n",
    "insert_size_metrics = [cmd for cmd in insert_size_metrics if cmd is not None] "
   ]
  },
  {
   "cell_type": "code",
   "execution_count": 29,
   "metadata": {
    "collapsed": false
   },
   "outputs": [],
   "source": [
    "job_maker.make_script(insert_size_metrics, \n",
    "                     script_name=\"/home/gpratt/projects/encode/scripts/get_distributions\", \n",
    "                     run_dir=\"/home/gpratt/projects/encode/analysis/ad-hoc/size_metrics/\",\n",
    "                     ppn=1,\n",
    "                     walltime=1)"
   ]
  },
  {
   "cell_type": "code",
   "execution_count": 30,
   "metadata": {
    "collapsed": false
   },
   "outputs": [],
   "source": [
    "# # exclude_kd_bam_rep1 = [\"ENCFF979AOI.bam\", \"ENCFF148JEE.bam\"]\n",
    "# # exclude_kd_bam_rep2 = [\"ENCFF791RLG.bam\", \"ENCFF099GGP.bam\", \"ENCFF108HHU.bam\"]\n",
    "# #exclude_ctrl_bam_rep2  \n",
    "# master_processing_table_small = master_processing_table[~master_processing_table.KD_Bam_Rep2.isin(exclude_kd_bam_rep2)]\n",
    "# master_processing_table_small = master_processing_table_small[~master_processing_table_small.KD_Bam_Rep1.isin(exclude_kd_bam_rep1)]"
   ]
  },
  {
   "cell_type": "code",
   "execution_count": 31,
   "metadata": {
    "collapsed": false
   },
   "outputs": [],
   "source": [
    "results = []\n",
    "for name, row in master_processing_table.iterrows():\n",
    "    out_dir=\"/home/gpratt/projects/encode/analysis/ad-hoc/rMATS/{}_vs_{}\".format(row['kd_accession'], row['ctrl_accession'])\n",
    "    #if os.path.exists(out_dir):\n",
    "    #    continue\n",
    "    try:\n",
    "        kd_stats = pd.concat({\"rep1\": parse_insert_size_metrics(row.kd_bam_rep1_size), \n",
    "                              \"rep2\": parse_insert_size_metrics(row.kd_bam_rep2_size)}).unstack()\n",
    "\n",
    "        ctrl_stats = pd.concat({\"rep1\": parse_insert_size_metrics(row.ctrl_bam_rep1_size), \n",
    "                                \"rep2\": parse_insert_size_metrics(row.ctrl_bam_rep2_size)}).unstack()\n",
    "\n",
    "        results.append(run_rmats([row.kd_bam_rep1, row.kd_bam_rep2],\n",
    "                                 [row.ctrl_bam_rep1, row.ctrl_bam_rep2],\n",
    "                                 kd_stats.MEAN_INSERT_SIZE, \n",
    "                                 ctrl_stats.MEAN_INSERT_SIZE, \n",
    "                                 kd_stats.STANDARD_DEVIATION,  \n",
    "                                 ctrl_stats.STANDARD_DEVIATION,\n",
    "                                 read_len = 100,\n",
    "                                 gtf=\"/projects/ps-yeolab/genomes/hg19/gencode/v19/gencode.v19.annotation.gtf\",\n",
    "                                 out_dir=out_dir))\n",
    "    except:\n",
    "        pass\n",
    "        #print row['Unnamed: 0']"
   ]
  },
  {
   "cell_type": "code",
   "execution_count": 32,
   "metadata": {
    "collapsed": false
   },
   "outputs": [],
   "source": [
    "job_maker.make_script(results, script_name=\"/home/gpratt/projects/encode/scripts/rMATS\", \n",
    "                     run_dir=\"/home/gpratt/projects/encode/analysis/ad-hoc/rMATS/\",\n",
    "                     ppn=8,\n",
    "                     walltime=48)"
   ]
  },
  {
   "cell_type": "markdown",
   "metadata": {
    "collapsed": true
   },
   "source": [
    "#Run rMATS for human brain"
   ]
  },
  {
   "cell_type": "code",
   "execution_count": 33,
   "metadata": {
    "collapsed": false
   },
   "outputs": [],
   "source": [
    "metadata = pd.read_csv(\"/home/gpratt/Dropbox/cryptic_splicing/data/human_data/SampleInfo.csv\")\n",
    "\n",
    "metadata['bam_file'] = metadata.sample_id.apply(lambda x: os.path.join(\"/home/gpratt/projects/cryptic_exons/analysis/av_resequencing_v3\", x + \".sorted.bam\"))\n",
    "insert_size_metrics = [collect_insert_size_metrics(bam_file, \"/home/gpratt/projects/cryptic_exons/analysis/ad-hoc/size_metrics\") for bam_file in metadata.bam_file]"
   ]
  },
  {
   "cell_type": "code",
   "execution_count": 34,
   "metadata": {
    "collapsed": false
   },
   "outputs": [],
   "source": [
    "def make_size_metrics(row, bam_column):\n",
    "    return os.path.join(\"/home/gpratt/projects/cryptic_exons/analysis/ad-hoc/size_metrics\", os.path.basename(row[bam_column]).split(\".\")[0] + \".txt\")\n",
    "\n",
    "mn_metrics = functools.partial(make_size_metrics, bam_column=\"bam_file\")\n",
    "metadata['bam_size'] = metadata.apply(mn_metrics, axis=1)"
   ]
  },
  {
   "cell_type": "code",
   "execution_count": null,
   "metadata": {
    "collapsed": false,
    "scrolled": true
   },
   "outputs": [
    {
     "name": "stdout",
     "output_type": "stream",
     "text": [
      "[Sun Apr 03 18:50:40 PDT 2016] picard.analysis.CollectInsertSizeMetrics HISTOGRAM_FILE=/home/gpratt/projects/cryptic_exons/analysis/ad-hoc/size_metrics/AV_47d_1_S50_L008_R1_001.pdf INPUT=/home/gpratt/projects/cryptic_exons/analysis/av_resequencing_v3/AV_47d_1_S50_L008_R1_001.sorted.bam OUTPUT=/home/gpratt/projects/cryptic_exons/analysis/ad-hoc/size_metrics/AV_47d_1_S50_L008_R1_001.txt VALIDATION_STRINGENCY=SILENT    DEVIATIONS=10.0 MINIMUM_PCT=0.05 METRIC_ACCUMULATION_LEVEL=[ALL_READS] ASSUME_SORTED=true STOP_AFTER=0 VERBOSITY=INFO QUIET=false COMPRESSION_LEVEL=5 MAX_RECORDS_IN_RAM=500000 CREATE_INDEX=false CREATE_MD5_FILE=false GA4GH_CLIENT_SECRETS=client_secrets.json\n",
      "[Sun Apr 03 18:50:40 PDT 2016] Executing as gpratt@tscc-1-52.sdsc.edu on Linux 2.6.32-504.16.2.el6.x86_64 amd64; OpenJDK 64-Bit Server VM 1.7.0_75-mockbuild_2015_01_20_23_39-b00; Picard version: 1.141(8ece590411350163e7689e9e77aab8efcb622170_1447695087) IntelDeflater\n",
      "INFO\t2016-04-03 18:50:43\tSinglePassSamProgram\tProcessed     1,000,000 records.  Elapsed time: 00:00:02s.  Time for last 1,000,000:    2s.  Last read position: chr1:6,680,011\n",
      "INFO\t2016-04-03 18:50:44\tSinglePassSamProgram\tProcessed     2,000,000 records.  Elapsed time: 00:00:04s.  Time for last 1,000,000:    1s.  Last read position: chr1:20,812,383\n",
      "INFO\t2016-04-03 18:50:46\tSinglePassSamProgram\tProcessed     3,000,000 records.  Elapsed time: 00:00:06s.  Time for last 1,000,000:    1s.  Last read position: chr1:32,799,786\n",
      "INFO\t2016-04-03 18:50:48\tSinglePassSamProgram\tProcessed     4,000,000 records.  Elapsed time: 00:00:07s.  Time for last 1,000,000:    1s.  Last read position: chr1:43,841,585\n",
      "INFO\t2016-04-03 18:50:49\tSinglePassSamProgram\tProcessed     5,000,000 records.  Elapsed time: 00:00:09s.  Time for last 1,000,000:    1s.  Last read position: chr1:70,693,659\n",
      "INFO\t2016-04-03 18:50:51\tSinglePassSamProgram\tProcessed     6,000,000 records.  Elapsed time: 00:00:11s.  Time for last 1,000,000:    1s.  Last read position: chr1:111,998,842\n",
      "INFO\t2016-04-03 18:50:53\tSinglePassSamProgram\tProcessed     7,000,000 records.  Elapsed time: 00:00:12s.  Time for last 1,000,000:    1s.  Last read position: chr1:151,039,861\n",
      "INFO\t2016-04-03 18:50:55\tSinglePassSamProgram\tProcessed     8,000,000 records.  Elapsed time: 00:00:14s.  Time for last 1,000,000:    1s.  Last read position: chr1:159,170,980\n",
      "INFO\t2016-04-03 18:50:56\tSinglePassSamProgram\tProcessed     9,000,000 records.  Elapsed time: 00:00:16s.  Time for last 1,000,000:    1s.  Last read position: chr1:184,592,666\n",
      "INFO\t2016-04-03 18:50:58\tSinglePassSamProgram\tProcessed    10,000,000 records.  Elapsed time: 00:00:18s.  Time for last 1,000,000:    1s.  Last read position: chr1:223,945,928\n",
      "INFO\t2016-04-03 18:51:00\tSinglePassSamProgram\tProcessed    11,000,000 records.  Elapsed time: 00:00:19s.  Time for last 1,000,000:    1s.  Last read position: chr2:1,746,582\n",
      "INFO\t2016-04-03 18:51:01\tSinglePassSamProgram\tProcessed    12,000,000 records.  Elapsed time: 00:00:21s.  Time for last 1,000,000:    1s.  Last read position: chr2:27,604,176\n",
      "INFO\t2016-04-03 18:51:03\tSinglePassSamProgram\tProcessed    13,000,000 records.  Elapsed time: 00:00:23s.  Time for last 1,000,000:    1s.  Last read position: chr2:55,646,604\n",
      "INFO\t2016-04-03 18:51:05\tSinglePassSamProgram\tProcessed    14,000,000 records.  Elapsed time: 00:00:24s.  Time for last 1,000,000:    1s.  Last read position: chr2:85,133,556\n",
      "INFO\t2016-04-03 18:51:06\tSinglePassSamProgram\tProcessed    15,000,000 records.  Elapsed time: 00:00:26s.  Time for last 1,000,000:    1s.  Last read position: chr2:105,952,456\n",
      "INFO\t2016-04-03 18:51:08\tSinglePassSamProgram\tProcessed    16,000,000 records.  Elapsed time: 00:00:28s.  Time for last 1,000,000:    1s.  Last read position: chr2:149,835,451\n",
      "INFO\t2016-04-03 18:51:14\tSinglePassSamProgram\tProcessed    17,000,000 records.  Elapsed time: 00:00:34s.  Time for last 1,000,000:    6s.  Last read position: chr2:190,535,190\n",
      "INFO\t2016-04-03 18:51:16\tSinglePassSamProgram\tProcessed    18,000,000 records.  Elapsed time: 00:00:36s.  Time for last 1,000,000:    1s.  Last read position: chr2:220,040,955\n",
      "INFO\t2016-04-03 18:51:18\tSinglePassSamProgram\tProcessed    19,000,000 records.  Elapsed time: 00:00:38s.  Time for last 1,000,000:    1s.  Last read position: chr2:242,188,011\n",
      "INFO\t2016-04-03 18:51:20\tSinglePassSamProgram\tProcessed    20,000,000 records.  Elapsed time: 00:00:40s.  Time for last 1,000,000:    2s.  Last read position: chr3:33,910,247\n",
      "INFO\t2016-04-03 18:51:22\tSinglePassSamProgram\tProcessed    21,000,000 records.  Elapsed time: 00:00:42s.  Time for last 1,000,000:    1s.  Last read position: chr3:50,150,666\n",
      "INFO\t2016-04-03 18:51:24\tSinglePassSamProgram\tProcessed    22,000,000 records.  Elapsed time: 00:00:43s.  Time for last 1,000,000:    1s.  Last read position: chr3:105,258,882\n",
      "INFO\t2016-04-03 18:51:25\tSinglePassSamProgram\tProcessed    23,000,000 records.  Elapsed time: 00:00:45s.  Time for last 1,000,000:    1s.  Last read position: chr3:134,076,258\n",
      "INFO\t2016-04-03 18:51:27\tSinglePassSamProgram\tProcessed    24,000,000 records.  Elapsed time: 00:00:46s.  Time for last 1,000,000:    1s.  Last read position: chr3:184,055,373\n",
      "INFO\t2016-04-03 18:51:29\tSinglePassSamProgram\tProcessed    25,000,000 records.  Elapsed time: 00:00:49s.  Time for last 1,000,000:    2s.  Last read position: chr4:4,420,290\n",
      "INFO\t2016-04-03 18:51:31\tSinglePassSamProgram\tProcessed    26,000,000 records.  Elapsed time: 00:00:50s.  Time for last 1,000,000:    1s.  Last read position: chr4:41,267,342\n",
      "INFO\t2016-04-03 18:51:32\tSinglePassSamProgram\tProcessed    27,000,000 records.  Elapsed time: 00:00:52s.  Time for last 1,000,000:    1s.  Last read position: chr4:96,171,747\n",
      "INFO\t2016-04-03 18:51:34\tSinglePassSamProgram\tProcessed    28,000,000 records.  Elapsed time: 00:00:53s.  Time for last 1,000,000:    1s.  Last read position: chr4:159,790,312\n",
      "INFO\t2016-04-03 18:51:35\tSinglePassSamProgram\tProcessed    29,000,000 records.  Elapsed time: 00:00:55s.  Time for last 1,000,000:    1s.  Last read position: chr5:33,462,273\n",
      "INFO\t2016-04-03 18:51:37\tSinglePassSamProgram\tProcessed    30,000,000 records.  Elapsed time: 00:00:56s.  Time for last 1,000,000:    1s.  Last read position: chr5:71,493,194\n",
      "INFO\t2016-04-03 18:51:38\tSinglePassSamProgram\tProcessed    31,000,000 records.  Elapsed time: 00:00:58s.  Time for last 1,000,000:    1s.  Last read position: chr5:111,066,038\n",
      "INFO\t2016-04-03 18:51:40\tSinglePassSamProgram\tProcessed    32,000,000 records.  Elapsed time: 00:00:59s.  Time for last 1,000,000:    1s.  Last read position: chr5:139,250,473\n",
      "INFO\t2016-04-03 18:51:41\tSinglePassSamProgram\tProcessed    33,000,000 records.  Elapsed time: 00:01:01s.  Time for last 1,000,000:    1s.  Last read position: chr5:153,833,047\n",
      "INFO\t2016-04-03 18:51:43\tSinglePassSamProgram\tProcessed    34,000,000 records.  Elapsed time: 00:01:02s.  Time for last 1,000,000:    1s.  Last read position: chr5:179,041,550\n",
      "INFO\t2016-04-03 18:51:44\tSinglePassSamProgram\tProcessed    35,000,000 records.  Elapsed time: 00:01:04s.  Time for last 1,000,000:    1s.  Last read position: chr6:13,359,872\n",
      "INFO\t2016-04-03 18:51:48\tSinglePassSamProgram\tProcessed    36,000,000 records.  Elapsed time: 00:01:07s.  Time for last 1,000,000:    3s.  Last read position: chr6:31,604,366\n",
      "INFO\t2016-04-03 18:51:49\tSinglePassSamProgram\tProcessed    37,000,000 records.  Elapsed time: 00:01:09s.  Time for last 1,000,000:    1s.  Last read position: chr6:43,027,943\n",
      "INFO\t2016-04-03 18:51:51\tSinglePassSamProgram\tProcessed    38,000,000 records.  Elapsed time: 00:01:10s.  Time for last 1,000,000:    1s.  Last read position: chr6:74,229,704\n",
      "INFO\t2016-04-03 18:51:52\tSinglePassSamProgram\tProcessed    39,000,000 records.  Elapsed time: 00:01:12s.  Time for last 1,000,000:    1s.  Last read position: chr6:123,392,012\n",
      "INFO\t2016-04-03 18:51:54\tSinglePassSamProgram\tProcessed    40,000,000 records.  Elapsed time: 00:01:13s.  Time for last 1,000,000:    1s.  Last read position: chr7:1,525,081\n",
      "INFO\t2016-04-03 18:51:55\tSinglePassSamProgram\tProcessed    41,000,000 records.  Elapsed time: 00:01:15s.  Time for last 1,000,000:    1s.  Last read position: chr7:27,139,062\n",
      "INFO\t2016-04-03 18:51:57\tSinglePassSamProgram\tProcessed    42,000,000 records.  Elapsed time: 00:01:16s.  Time for last 1,000,000:    1s.  Last read position: chr7:66,453,218\n",
      "INFO\t2016-04-03 18:51:58\tSinglePassSamProgram\tProcessed    43,000,000 records.  Elapsed time: 00:01:18s.  Time for last 1,000,000:    1s.  Last read position: chr7:87,822,483\n",
      "INFO\t2016-04-03 18:52:00\tSinglePassSamProgram\tProcessed    44,000,000 records.  Elapsed time: 00:01:19s.  Time for last 1,000,000:    1s.  Last read position: chr7:105,183,855\n",
      "INFO\t2016-04-03 18:52:01\tSinglePassSamProgram\tProcessed    45,000,000 records.  Elapsed time: 00:01:21s.  Time for last 1,000,000:    1s.  Last read position: chr7:143,548,645\n",
      "INFO\t2016-04-03 18:52:03\tSinglePassSamProgram\tProcessed    46,000,000 records.  Elapsed time: 00:01:22s.  Time for last 1,000,000:    1s.  Last read position: chr8:20,105,349\n",
      "INFO\t2016-04-03 18:52:04\tSinglePassSamProgram\tProcessed    47,000,000 records.  Elapsed time: 00:01:24s.  Time for last 1,000,000:    1s.  Last read position: chr8:26,484,179\n",
      "INFO\t2016-04-03 18:52:06\tSinglePassSamProgram\tProcessed    48,000,000 records.  Elapsed time: 00:01:25s.  Time for last 1,000,000:    1s.  Last read position: chr8:67,834,271\n",
      "INFO\t2016-04-03 18:52:07\tSinglePassSamProgram\tProcessed    49,000,000 records.  Elapsed time: 00:01:27s.  Time for last 1,000,000:    1s.  Last read position: chr8:101,936,396\n",
      "INFO\t2016-04-03 18:52:09\tSinglePassSamProgram\tProcessed    50,000,000 records.  Elapsed time: 00:01:28s.  Time for last 1,000,000:    1s.  Last read position: chr8:146,281,224\n",
      "INFO\t2016-04-03 18:52:10\tSinglePassSamProgram\tProcessed    51,000,000 records.  Elapsed time: 00:01:30s.  Time for last 1,000,000:    1s.  Last read position: chr9:42,427,428\n",
      "INFO\t2016-04-03 18:52:12\tSinglePassSamProgram\tProcessed    52,000,000 records.  Elapsed time: 00:01:31s.  Time for last 1,000,000:    1s.  Last read position: chr9:99,270,407\n",
      "INFO\t2016-04-03 18:52:13\tSinglePassSamProgram\tProcessed    53,000,000 records.  Elapsed time: 00:01:33s.  Time for last 1,000,000:    1s.  Last read position: chr9:130,453,918\n",
      "INFO\t2016-04-03 18:52:15\tSinglePassSamProgram\tProcessed    54,000,000 records.  Elapsed time: 00:01:34s.  Time for last 1,000,000:    1s.  Last read position: chr9:135,982,509\n",
      "INFO\t2016-04-03 18:52:16\tSinglePassSamProgram\tProcessed    55,000,000 records.  Elapsed time: 00:01:36s.  Time for last 1,000,000:    1s.  Last read position: chr10:15,824,195\n",
      "INFO\t2016-04-03 18:52:18\tSinglePassSamProgram\tProcessed    56,000,000 records.  Elapsed time: 00:01:38s.  Time for last 1,000,000:    1s.  Last read position: chr10:71,858,185\n",
      "INFO\t2016-04-03 18:52:19\tSinglePassSamProgram\tProcessed    57,000,000 records.  Elapsed time: 00:01:39s.  Time for last 1,000,000:    1s.  Last read position: chr10:98,771,106\n",
      "INFO\t2016-04-03 18:52:21\tSinglePassSamProgram\tProcessed    58,000,000 records.  Elapsed time: 00:01:41s.  Time for last 1,000,000:    1s.  Last read position: chr10:117,818,685\n",
      "INFO\t2016-04-03 18:52:22\tSinglePassSamProgram\tProcessed    59,000,000 records.  Elapsed time: 00:01:42s.  Time for last 1,000,000:    1s.  Last read position: chr11:3,741,962\n",
      "INFO\t2016-04-03 18:52:24\tSinglePassSamProgram\tProcessed    60,000,000 records.  Elapsed time: 00:01:44s.  Time for last 1,000,000:    1s.  Last read position: chr11:34,112,210\n",
      "INFO\t2016-04-03 18:52:26\tSinglePassSamProgram\tProcessed    61,000,000 records.  Elapsed time: 00:01:45s.  Time for last 1,000,000:    1s.  Last read position: chr11:62,327,809\n",
      "INFO\t2016-04-03 18:52:27\tSinglePassSamProgram\tProcessed    62,000,000 records.  Elapsed time: 00:01:47s.  Time for last 1,000,000:    1s.  Last read position: chr11:66,306,827\n",
      "INFO\t2016-04-03 18:52:29\tSinglePassSamProgram\tProcessed    63,000,000 records.  Elapsed time: 00:01:49s.  Time for last 1,000,000:    1s.  Last read position: chr11:89,901,186\n",
      "INFO\t2016-04-03 18:52:31\tSinglePassSamProgram\tProcessed    64,000,000 records.  Elapsed time: 00:01:51s.  Time for last 1,000,000:    1s.  Last read position: chr11:119,289,705\n",
      "INFO\t2016-04-03 18:52:32\tSinglePassSamProgram\tProcessed    65,000,000 records.  Elapsed time: 00:01:52s.  Time for last 1,000,000:    1s.  Last read position: chr12:6,646,956\n",
      "INFO\t2016-04-03 18:52:34\tSinglePassSamProgram\tProcessed    66,000,000 records.  Elapsed time: 00:01:54s.  Time for last 1,000,000:    1s.  Last read position: chr12:25,380,253\n",
      "INFO\t2016-04-03 18:52:35\tSinglePassSamProgram\tProcessed    67,000,000 records.  Elapsed time: 00:01:55s.  Time for last 1,000,000:    1s.  Last read position: chr12:49,579,092\n",
      "INFO\t2016-04-03 18:52:37\tSinglePassSamProgram\tProcessed    68,000,000 records.  Elapsed time: 00:01:56s.  Time for last 1,000,000:    1s.  Last read position: chr12:52,233,137\n",
      "INFO\t2016-04-03 18:52:38\tSinglePassSamProgram\tProcessed    69,000,000 records.  Elapsed time: 00:01:58s.  Time for last 1,000,000:    1s.  Last read position: chr12:57,908,581\n",
      "INFO\t2016-04-03 18:52:40\tSinglePassSamProgram\tProcessed    70,000,000 records.  Elapsed time: 00:01:59s.  Time for last 1,000,000:    1s.  Last read position: chr12:100,733,523\n",
      "INFO\t2016-04-03 18:52:42\tSinglePassSamProgram\tProcessed    71,000,000 records.  Elapsed time: 00:02:01s.  Time for last 1,000,000:    1s.  Last read position: chr12:120,934,324\n",
      "INFO\t2016-04-03 18:52:43\tSinglePassSamProgram\tProcessed    72,000,000 records.  Elapsed time: 00:02:03s.  Time for last 1,000,000:    1s.  Last read position: chr13:25,503,619\n",
      "INFO\t2016-04-03 18:52:45\tSinglePassSamProgram\tProcessed    73,000,000 records.  Elapsed time: 00:02:05s.  Time for last 1,000,000:    1s.  Last read position: chr13:98,118,877\n",
      "INFO\t2016-04-03 18:52:53\tSinglePassSamProgram\tProcessed    74,000,000 records.  Elapsed time: 00:02:12s.  Time for last 1,000,000:    7s.  Last read position: chr14:31,355,038\n",
      "INFO\t2016-04-03 18:53:00\tSinglePassSamProgram\tProcessed    75,000,000 records.  Elapsed time: 00:02:19s.  Time for last 1,000,000:    6s.  Last read position: chr14:68,144,919\n",
      "INFO\t2016-04-03 18:53:03\tSinglePassSamProgram\tProcessed    76,000,000 records.  Elapsed time: 00:02:23s.  Time for last 1,000,000:    3s.  Last read position: chr14:97,032,944\n",
      "INFO\t2016-04-03 18:53:04\tSinglePassSamProgram\tProcessed    77,000,000 records.  Elapsed time: 00:02:24s.  Time for last 1,000,000:    1s.  Last read position: chr15:22,997,837\n",
      "INFO\t2016-04-03 18:53:06\tSinglePassSamProgram\tProcessed    78,000,000 records.  Elapsed time: 00:02:26s.  Time for last 1,000,000:    1s.  Last read position: chr15:43,036,874\n",
      "INFO\t2016-04-03 18:53:08\tSinglePassSamProgram\tProcessed    79,000,000 records.  Elapsed time: 00:02:28s.  Time for last 1,000,000:    2s.  Last read position: chr15:63,946,405\n",
      "INFO\t2016-04-03 18:53:10\tSinglePassSamProgram\tProcessed    80,000,000 records.  Elapsed time: 00:02:30s.  Time for last 1,000,000:    2s.  Last read position: chr15:78,557,240\n",
      "INFO\t2016-04-03 18:53:12\tSinglePassSamProgram\tProcessed    81,000,000 records.  Elapsed time: 00:02:32s.  Time for last 1,000,000:    1s.  Last read position: chr16:324,524\n",
      "INFO\t2016-04-03 18:53:14\tSinglePassSamProgram\tProcessed    82,000,000 records.  Elapsed time: 00:02:34s.  Time for last 1,000,000:    1s.  Last read position: chr16:8,877,319\n",
      "INFO\t2016-04-03 18:53:16\tSinglePassSamProgram\tProcessed    83,000,000 records.  Elapsed time: 00:02:36s.  Time for last 1,000,000:    2s.  Last read position: chr16:24,985,844\n",
      "INFO\t2016-04-03 18:53:19\tSinglePassSamProgram\tProcessed    84,000,000 records.  Elapsed time: 00:02:39s.  Time for last 1,000,000:    2s.  Last read position: chr16:50,368,643\n",
      "INFO\t2016-04-03 18:53:21\tSinglePassSamProgram\tProcessed    85,000,000 records.  Elapsed time: 00:02:40s.  Time for last 1,000,000:    1s.  Last read position: chr16:72,143,234\n",
      "INFO\t2016-04-03 18:53:22\tSinglePassSamProgram\tProcessed    86,000,000 records.  Elapsed time: 00:02:42s.  Time for last 1,000,000:    1s.  Last read position: chr17:703,064\n",
      "INFO\t2016-04-03 18:53:24\tSinglePassSamProgram\tProcessed    87,000,000 records.  Elapsed time: 00:02:44s.  Time for last 1,000,000:    2s.  Last read position: chr17:7,815,797\n",
      "INFO\t2016-04-03 18:53:26\tSinglePassSamProgram\tProcessed    88,000,000 records.  Elapsed time: 00:02:46s.  Time for last 1,000,000:    2s.  Last read position: chr17:27,076,106\n",
      "INFO\t2016-04-03 18:53:28\tSinglePassSamProgram\tProcessed    89,000,000 records.  Elapsed time: 00:02:47s.  Time for last 1,000,000:    1s.  Last read position: chr17:39,845,147\n",
      "INFO\t2016-04-03 18:53:30\tSinglePassSamProgram\tProcessed    90,000,000 records.  Elapsed time: 00:02:49s.  Time for last 1,000,000:    1s.  Last read position: chr17:45,235,660\n",
      "INFO\t2016-04-03 18:53:32\tSinglePassSamProgram\tProcessed    91,000,000 records.  Elapsed time: 00:02:51s.  Time for last 1,000,000:    2s.  Last read position: chr17:61,500,730\n",
      "INFO\t2016-04-03 18:53:34\tSinglePassSamProgram\tProcessed    92,000,000 records.  Elapsed time: 00:02:54s.  Time for last 1,000,000:    2s.  Last read position: chr17:76,791,957\n",
      "INFO\t2016-04-03 18:53:36\tSinglePassSamProgram\tProcessed    93,000,000 records.  Elapsed time: 00:02:56s.  Time for last 1,000,000:    2s.  Last read position: chr18:12,329,280\n",
      "INFO\t2016-04-03 18:53:38\tSinglePassSamProgram\tProcessed    94,000,000 records.  Elapsed time: 00:02:58s.  Time for last 1,000,000:    1s.  Last read position: chr18:60,646,659\n",
      "INFO\t2016-04-03 18:53:40\tSinglePassSamProgram\tProcessed    95,000,000 records.  Elapsed time: 00:02:59s.  Time for last 1,000,000:    1s.  Last read position: chr19:3,976,547\n",
      "INFO\t2016-04-03 18:53:44\tSinglePassSamProgram\tProcessed    96,000,000 records.  Elapsed time: 00:03:03s.  Time for last 1,000,000:    3s.  Last read position: chr19:11,146,783\n",
      "INFO\t2016-04-03 18:53:45\tSinglePassSamProgram\tProcessed    97,000,000 records.  Elapsed time: 00:03:05s.  Time for last 1,000,000:    1s.  Last read position: chr19:18,890,970\n",
      "INFO\t2016-04-03 18:53:47\tSinglePassSamProgram\tProcessed    98,000,000 records.  Elapsed time: 00:03:06s.  Time for last 1,000,000:    1s.  Last read position: chr19:39,882,111\n",
      "INFO\t2016-04-03 18:53:48\tSinglePassSamProgram\tProcessed    99,000,000 records.  Elapsed time: 00:03:08s.  Time for last 1,000,000:    1s.  Last read position: chr19:47,341,680\n",
      "INFO\t2016-04-03 18:53:50\tSinglePassSamProgram\tProcessed   100,000,000 records.  Elapsed time: 00:03:10s.  Time for last 1,000,000:    1s.  Last read position: chr19:54,969,508\n",
      "INFO\t2016-04-03 18:53:52\tSinglePassSamProgram\tProcessed   101,000,000 records.  Elapsed time: 00:03:11s.  Time for last 1,000,000:    1s.  Last read position: chr20:10,271,386\n",
      "INFO\t2016-04-03 18:53:54\tSinglePassSamProgram\tProcessed   102,000,000 records.  Elapsed time: 00:03:13s.  Time for last 1,000,000:    2s.  Last read position: chr20:35,826,891\n",
      "INFO\t2016-04-03 18:53:55\tSinglePassSamProgram\tProcessed   103,000,000 records.  Elapsed time: 00:03:15s.  Time for last 1,000,000:    1s.  Last read position: chr20:57,485,415\n",
      "INFO\t2016-04-03 18:53:57\tSinglePassSamProgram\tProcessed   104,000,000 records.  Elapsed time: 00:03:17s.  Time for last 1,000,000:    2s.  Last read position: chr21:34,805,143\n",
      "INFO\t2016-04-03 18:54:03\tSinglePassSamProgram\tProcessed   105,000,000 records.  Elapsed time: 00:03:22s.  Time for last 1,000,000:    5s.  Last read position: chr22:20,121,623\n",
      "INFO\t2016-04-03 18:54:11\tSinglePassSamProgram\tProcessed   106,000,000 records.  Elapsed time: 00:03:31s.  Time for last 1,000,000:    8s.  Last read position: chr22:32,352,796\n",
      "INFO\t2016-04-03 18:54:13\tSinglePassSamProgram\tProcessed   107,000,000 records.  Elapsed time: 00:03:33s.  Time for last 1,000,000:    1s.  Last read position: chr22:42,070,644\n",
      "INFO\t2016-04-03 18:54:15\tSinglePassSamProgram\tProcessed   108,000,000 records.  Elapsed time: 00:03:34s.  Time for last 1,000,000:    1s.  Last read position: chrX:13,793,463\n",
      "INFO\t2016-04-03 18:54:16\tSinglePassSamProgram\tProcessed   109,000,000 records.  Elapsed time: 00:03:36s.  Time for last 1,000,000:    1s.  Last read position: chrX:53,560,166\n",
      "INFO\t2016-04-03 18:54:18\tSinglePassSamProgram\tProcessed   110,000,000 records.  Elapsed time: 00:03:38s.  Time for last 1,000,000:    1s.  Last read position: chrX:101,970,690\n",
      "INFO\t2016-04-03 18:54:19\tSinglePassSamProgram\tProcessed   111,000,000 records.  Elapsed time: 00:03:39s.  Time for last 1,000,000:    1s.  Last read position: chrX:134,172,461\n",
      "INFO\t2016-04-03 18:54:21\tSinglePassSamProgram\tProcessed   112,000,000 records.  Elapsed time: 00:03:41s.  Time for last 1,000,000:    2s.  Last read position: chrY:2,588,458\n",
      "INFO\t2016-04-03 18:54:23\tSinglePassSamProgram\tProcessed   113,000,000 records.  Elapsed time: 00:03:43s.  Time for last 1,000,000:    1s.  Last read position: chrM:3,825\n",
      "INFO\t2016-04-03 18:54:25\tSinglePassSamProgram\tProcessed   114,000,000 records.  Elapsed time: 00:03:45s.  Time for last 1,000,000:    1s.  Last read position: chrM:6,490\n",
      "INFO\t2016-04-03 18:54:34\tSinglePassSamProgram\tProcessed   115,000,000 records.  Elapsed time: 00:03:54s.  Time for last 1,000,000:    8s.  Last read position: chrM:7,890\n",
      "INFO\t2016-04-03 18:54:37\tSinglePassSamProgram\tProcessed   116,000,000 records.  Elapsed time: 00:03:56s.  Time for last 1,000,000:    2s.  Last read position: chrM:10,575\n",
      "INFO\t2016-04-03 18:54:39\tSinglePassSamProgram\tProcessed   117,000,000 records.  Elapsed time: 00:03:58s.  Time for last 1,000,000:    1s.  Last read position: chrM:14,862\n",
      "INFO\t2016-04-03 18:54:40\tRExecutor\tExecuting R script via command: Rscript /tmp/gpratt/script8778762044945875398.R /home/gpratt/projects/cryptic_exons/analysis/ad-hoc/size_metrics/AV_47d_1_S50_L008_R1_001.txt /home/gpratt/projects/cryptic_exons/analysis/ad-hoc/size_metrics/AV_47d_1_S50_L008_R1_001.pdf AV_47d_1_S50_L008_R1_001.sorted.bam\n",
      "INFO\t2016-04-03 18:54:41\tProcessExecutor\tnull device \n",
      "INFO\t2016-04-03 18:54:41\tProcessExecutor\t          1 \n",
      "[Sun Apr 03 18:54:41 PDT 2016] picard.analysis.CollectInsertSizeMetrics done. Elapsed time: 4.02 minutes.\n",
      "Runtime.totalMemory()=1665662976\n",
      "[Sun Apr 03 18:54:41 PDT 2016] picard.analysis.CollectInsertSizeMetrics HISTOGRAM_FILE=/home/gpratt/projects/cryptic_exons/analysis/ad-hoc/size_metrics/AV_47d_puro_1_S51_L008_R1_001.pdf INPUT=/home/gpratt/projects/cryptic_exons/analysis/av_resequencing_v3/AV_47d_puro_1_S51_L008_R1_001.sorted.bam OUTPUT=/home/gpratt/projects/cryptic_exons/analysis/ad-hoc/size_metrics/AV_47d_puro_1_S51_L008_R1_001.txt VALIDATION_STRINGENCY=SILENT    DEVIATIONS=10.0 MINIMUM_PCT=0.05 METRIC_ACCUMULATION_LEVEL=[ALL_READS] ASSUME_SORTED=true STOP_AFTER=0 VERBOSITY=INFO QUIET=false COMPRESSION_LEVEL=5 MAX_RECORDS_IN_RAM=500000 CREATE_INDEX=false CREATE_MD5_FILE=false GA4GH_CLIENT_SECRETS=client_secrets.json\n",
      "[Sun Apr 03 18:54:41 PDT 2016] Executing as gpratt@tscc-1-52.sdsc.edu on Linux 2.6.32-504.16.2.el6.x86_64 amd64; OpenJDK 64-Bit Server VM 1.7.0_75-mockbuild_2015_01_20_23_39-b00; Picard version: 1.141(8ece590411350163e7689e9e77aab8efcb622170_1447695087) IntelDeflater\n",
      "INFO\t2016-04-03 18:54:45\tSinglePassSamProgram\tProcessed     1,000,000 records.  Elapsed time: 00:00:03s.  Time for last 1,000,000:    3s.  Last read position: chr1:9,815,261\n",
      "INFO\t2016-04-03 18:54:46\tSinglePassSamProgram\tProcessed     2,000,000 records.  Elapsed time: 00:00:04s.  Time for last 1,000,000:    1s.  Last read position: chr1:24,025,464\n",
      "INFO\t2016-04-03 18:54:48\tSinglePassSamProgram\tProcessed     3,000,000 records.  Elapsed time: 00:00:06s.  Time for last 1,000,000:    1s.  Last read position: chr1:35,658,407\n"
     ]
    }
   ],
   "source": [
    "for x in insert_size_metrics:\n",
    "    !$x"
   ]
  },
  {
   "cell_type": "code",
   "execution_count": 35,
   "metadata": {
    "collapsed": false
   },
   "outputs": [
    {
     "name": "stdout",
     "output_type": "stream",
     "text": [
      "AV_47d\n",
      "AV_ALS17_5\n",
      "AV_CVB\n",
      "AV_GY6_2\n",
      "AV_Kin1ALS17_3\n",
      "KK_MN\n"
     ]
    }
   ],
   "source": [
    "results = []\n",
    "\n",
    "for name, row in metadata.groupby(\"genotype\"):\n",
    "    print name\n",
    "    if name == \"KK_MN\":\n",
    "        continue\n",
    "        \n",
    "    unstressed_name, stressed_name = row.sample_id\n",
    "    unstressed, stressed = row.bam_file\n",
    "    unstressed_size, stressed_size = row.bam_size\n",
    "    out_dir=\"/home/gpratt/projects/cryptic_exons/analysis/ad-hoc/rMATS/{}_vs_{}\".format(stressed_name, unstressed_name)\n",
    "    #if os.path.exists(out_dir):\n",
    "    #    continue\n",
    "#     try:\n",
    "    kd_stats = pd.concat({\"rep1\": parse_insert_size_metrics(stressed_size), \n",
    "                         }).unstack()\n",
    "\n",
    "    ctrl_stats = pd.concat({\"rep1\": parse_insert_size_metrics(unstressed_size), \n",
    "                           }).unstack()\n",
    "\n",
    "    results.append(run_rmats([stressed],\n",
    "                             [unstressed],\n",
    "                             kd_stats.MEAN_INSERT_SIZE, \n",
    "                             ctrl_stats.MEAN_INSERT_SIZE, \n",
    "                             kd_stats.STANDARD_DEVIATION,  \n",
    "                             ctrl_stats.STANDARD_DEVIATION,\n",
    "                             read_len = 100,\n",
    "                             gtf=\"/projects/ps-yeolab/genomes/hg19/gencode/v19/gencode.v19.annotation.gtf\",\n",
    "                             out_dir=out_dir))\n",
    "#     except:\n",
    "#         pass\n",
    "#         #print row['Unnamed: 0']"
   ]
  },
  {
   "cell_type": "code",
   "execution_count": 36,
   "metadata": {
    "collapsed": false
   },
   "outputs": [],
   "source": [
    "job_maker.make_script(results, script_name=\"/home/gpratt/projects/cryptic_exons/scripts/rMATS_MN\", \n",
    "                     run_dir=\"/home/gpratt/projects/encode/analysis/ad-hoc/rMATS/\",\n",
    "                     ppn=8,\n",
    "                     walltime=48)"
   ]
  },
  {
   "cell_type": "code",
   "execution_count": 37,
   "metadata": {
    "collapsed": false
   },
   "outputs": [],
   "source": [
    "results = []\n",
    "\n",
    "row = metadata.groupby(\"genotype\").get_group(\"KK_MN\")\n",
    "        \n",
    "fus_name, scr_name, taf15_name, tdp_name = row.sample_id\n",
    "fus, scr, taf15, tdp = row.bam_file\n",
    "fus_size, scr_size, taf15_size, tdp_size = row.bam_size\n",
    "\n",
    "out_dir=\"/home/gpratt/projects/cryptic_exons/analysis/ad-hoc/rMATS/{}_vs_{}\".format(fus_name, scr_name)\n",
    "kd_stats = pd.concat({\"rep1\": parse_insert_size_metrics(fus_size), \n",
    "                     }).unstack()\n",
    "\n",
    "ctrl_stats = pd.concat({\"rep1\": parse_insert_size_metrics(scr_size), \n",
    "                       }).unstack()\n",
    "\n",
    "results.append(run_rmats([fus],\n",
    "                         [scr],\n",
    "                         kd_stats.MEAN_INSERT_SIZE, \n",
    "                         ctrl_stats.MEAN_INSERT_SIZE, \n",
    "                         kd_stats.STANDARD_DEVIATION,  \n",
    "                         ctrl_stats.STANDARD_DEVIATION,\n",
    "                         read_len = 100,\n",
    "                         gtf=\"/projects/ps-yeolab/genomes/hg19/gencode/v19/gencode.v19.annotation.gtf\",\n",
    "                         out_dir=out_dir))\n",
    "\n",
    "out_dir=\"/home/gpratt/projects/cryptic_exons/analysis/ad-hoc/rMATS/{}_vs_{}\".format(taf15_name, scr_name)\n",
    "kd_stats = pd.concat({\"rep1\": parse_insert_size_metrics(taf15_size), \n",
    "                     }).unstack()\n",
    "\n",
    "ctrl_stats = pd.concat({\"rep1\": parse_insert_size_metrics(scr_size), \n",
    "                       }).unstack()\n",
    "\n",
    "results.append(run_rmats([taf15],\n",
    "                         [scr],\n",
    "                         kd_stats.MEAN_INSERT_SIZE, \n",
    "                         ctrl_stats.MEAN_INSERT_SIZE, \n",
    "                         kd_stats.STANDARD_DEVIATION,  \n",
    "                         ctrl_stats.STANDARD_DEVIATION,\n",
    "                         read_len = 100,\n",
    "                         gtf=\"/projects/ps-yeolab/genomes/hg19/gencode/v19/gencode.v19.annotation.gtf\",\n",
    "                         out_dir=out_dir))\n",
    "\n",
    "out_dir=\"/home/gpratt/projects/cryptic_exons/analysis/ad-hoc/rMATS/{}_vs_{}\".format(tdp_name, scr_name)\n",
    "kd_stats = pd.concat({\"rep1\": parse_insert_size_metrics(tdp_size), \n",
    "                     }).unstack()\n",
    "\n",
    "ctrl_stats = pd.concat({\"rep1\": parse_insert_size_metrics(scr_size), \n",
    "                       }).unstack()\n",
    "\n",
    "results.append(run_rmats([tdp_size],\n",
    "                         [scr],\n",
    "                         kd_stats.MEAN_INSERT_SIZE, \n",
    "                         ctrl_stats.MEAN_INSERT_SIZE, \n",
    "                         kd_stats.STANDARD_DEVIATION,  \n",
    "                         ctrl_stats.STANDARD_DEVIATION,\n",
    "                         read_len = 100,\n",
    "                         gtf=\"/projects/ps-yeolab/genomes/hg19/gencode/v19/gencode.v19.annotation.gtf\",\n",
    "                         out_dir=out_dir))\n",
    "\n",
    "#     except:\n",
    "#         pass\n",
    "#         #print row['Unnamed: 0']"
   ]
  },
  {
   "cell_type": "code",
   "execution_count": 38,
   "metadata": {
    "collapsed": true
   },
   "outputs": [],
   "source": [
    "job_maker.make_script(results, script_name=\"/home/gpratt/projects/cryptic_exons/scripts/rMATS_MN_KD\", \n",
    "                     run_dir=\"/home/gpratt/projects/encode/analysis/ad-hoc/rMATS/\",\n",
    "                     ppn=8,\n",
    "                     walltime=48)"
   ]
  },
  {
   "cell_type": "code",
   "execution_count": null,
   "metadata": {
    "collapsed": true
   },
   "outputs": [],
   "source": []
  },
  {
   "cell_type": "code",
   "execution_count": null,
   "metadata": {
    "collapsed": true
   },
   "outputs": [],
   "source": []
  }
 ],
 "metadata": {
  "kernelspec": {
   "display_name": "Python 2",
   "language": "python",
   "name": "python2"
  },
  "language_info": {
   "codemirror_mode": {
    "name": "ipython",
    "version": 2
   },
   "file_extension": ".py",
   "mimetype": "text/x-python",
   "name": "python",
   "nbconvert_exporter": "python",
   "pygments_lexer": "ipython2",
   "version": "2.7.11"
  }
 },
 "nbformat": 4,
 "nbformat_minor": 0
}
