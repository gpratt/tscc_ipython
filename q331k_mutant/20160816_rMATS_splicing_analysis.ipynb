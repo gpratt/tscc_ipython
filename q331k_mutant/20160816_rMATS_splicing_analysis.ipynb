{
 "cells": [
  {
   "cell_type": "code",
   "execution_count": 287,
   "metadata": {
    "collapsed": true
   },
   "outputs": [],
   "source": [
    "%matplotlib inline\n",
    "\n",
    "from collections import Counter\n",
    "from collections import defaultdict\n",
    "import functools\n",
    "import glob\n",
    "import itertools\n",
    "from itertools import izip\n",
    "import os\n",
    "\n",
    "import matplotlib.pyplot as plt\n",
    "import seaborn as sns\n",
    "from matplotlib import pyplot\n",
    "from matplotlib_venn import venn2, venn3\n",
    "import pybedtools\n",
    "import numpy as np\n",
    "from IPython.core.display import HTML\n",
    "import pandas as pd\n",
    "import matplotlib as mpl\n",
    "\n",
    "from gscripts import GO\n",
    "from gscripts.rnaseq import splicing_map\n",
    "from gscripts.general import dataviz\n",
    "from gscripts.general import region_helpers"
   ]
  },
  {
   "cell_type": "code",
   "execution_count": 288,
   "metadata": {
    "collapsed": false
   },
   "outputs": [],
   "source": [
    "legend = None\n",
    "\n",
    "OUTSIDE_LEGEND_SAVEFIG_KWS = dict(bbox_extra_artists=(legend,),\n",
    "                                  bbox_inches='tight')\n",
    "from matplotlib import rc\n",
    "\n",
    "mpl.rcParams['svg.fonttype'] = 'none'\n",
    "\n",
    "rc('text', usetex=False) \n",
    "rc('font',**{'family':'sans-serif','sans-serif':['Helvetica']})"
   ]
  },
  {
   "cell_type": "code",
   "execution_count": 276,
   "metadata": {
    "collapsed": true
   },
   "outputs": [],
   "source": [
    "names = {'hWT': 'WT/GT-hWT',\n",
    "         'gt': 'WT/GT',\n",
    "         'rev': 'WT/WT',\n",
    "         \"q331k\": 'WT/GT-Q331K'}"
   ]
  },
  {
   "cell_type": "code",
   "execution_count": 25,
   "metadata": {
    "collapsed": true
   },
   "outputs": [],
   "source": [
    "class ArrayJob():\n",
    "    def __init__(self):\n",
    "        self._epilogue = \"eval ${cmd[$PBS_ARRAYID]}\"\n",
    "\n",
    "    def _prologue(self, name, count, run_dir, ppn=1, walltime=8):\n",
    "        return \"\"\"#!/bin/bash\n",
    "#PBS -N {0}\n",
    "#PBS -l nodes=1:ppn={3}\n",
    "#PBS -o {0}.out\n",
    "#PBS -e {0}.err\n",
    "#PBS -V\n",
    "#PBS -q home-yeo\n",
    "#PBS -W group_list=yeo-group\n",
    "#PBS -t 1-{1}\n",
    "#PBS -l walltime={4}:00:00\n",
    "cd {2}\n",
    "echo \"hello, starting\"\n",
    "\n",
    "\"\"\".format(os.path.basename(name), count, run_dir, ppn, walltime)\n",
    "\n",
    "        \n",
    "    def make_script(self, commands, script_name, run_dir, ppn=1, walltime=8):\n",
    "        total = 0 \n",
    "        result = []\n",
    "        num_out = 0\n",
    "        for cmd in commands:\n",
    "            total += 1\n",
    "            result.append('cmd[{}]=\"{}\"'.format(total, cmd))\n",
    "            if total >= 500:\n",
    "                with open(\"{}_{}.sh\".format(script_name, num_out), 'w') as out_file:\n",
    "                    out_file.write(self._prologue(\"{}_{}\".format(script_name, num_out), total, run_dir, ppn, walltime ))\n",
    "                    for line in result:\n",
    "                        out_file.write(line + \"\\n\\n\")\n",
    "                    out_file.write(self._epilogue + \"\\n\")\n",
    "                total = 0 \n",
    "                num_out += 1\n",
    "                result = []\n",
    "\n",
    "        with open(\"{}_{}.sh\".format(script_name, num_out), 'w') as out_file:\n",
    "            out_file.write(self._prologue(\"{}_{}\".format(script_name, num_out), total, run_dir, ppn, walltime))\n",
    "            for line in result:\n",
    "                out_file.write(line + \"\\n\\n\")\n",
    "            out_file.write(self._epilogue + \"\\n\")"
   ]
  },
  {
   "cell_type": "code",
   "execution_count": 3,
   "metadata": {
    "collapsed": false
   },
   "outputs": [],
   "source": [
    "job_maker = ArrayJob()"
   ]
  },
  {
   "cell_type": "code",
   "execution_count": null,
   "metadata": {
    "collapsed": true
   },
   "outputs": [],
   "source": [
    "#Old rMATS version\n",
    "/home/yeo-lab/software/rMATS.3.2.4/RNASeq-MATS.py"
   ]
  },
  {
   "cell_type": "code",
   "execution_count": 14,
   "metadata": {
    "collapsed": true
   },
   "outputs": [],
   "source": [
    "def make_miso_submitter(bam, cell_type):\n",
    "    id_name = bam.split(\".\")[0]\n",
    "    bam_loc = os.path.join(\"/home/elvannostrand/scratch/ENCODE_rnaseq/bam_files_shashank/\", cell_type, bam + \".sorted.bam\")\n",
    "    return \"submit_miso_pipeline.py  '--bam' '{0}'  '--sample-id' '{1}'  '--genome' 'hg19'  '--do-not-submit'  '--output-sh' '{1}.miso.sh'  &&  'sh' '{1}.miso.sh'  &&  'touch' '/home/gpratt/projects/encode/analysis/miso_out/{1}.miso'\".format(bam_loc, id_name) \n",
    "\n",
    "def run_rmats(b1, b2, b1_mean, b2_mean, b1_std, b2_std, read_len, gtf, out_dir):\n",
    "    b1 = \",\".join(b1)\n",
    "    b2 = \",\".join(b2)\n",
    "    b1_mean = \",\".join(b1_mean)\n",
    "    b2_mean = \",\".join(b2_mean)\n",
    "    b1_std = \",\".join(b1_std)\n",
    "    b2_std = \",\".join(b2_std)\n",
    "\n",
    "    return \"python /home/gpratt/software/rMATS.3.2.5/RNASeq-MATS.py -b1 {0} -b2 {1} -r1 {2} -r2 {3} -sd1 {4} -sd2 {5} -gtf {6} -t paired -len {7} -a 8 -o {8} -novelSS 1\".format(b1, b2, b1_mean, b2_mean, b1_std, b2_std, gtf, read_len, out_dir)\n",
    "\n",
    "def collect_insert_size_metrics(bam, out_dir):\n",
    "    \n",
    "    name = os.path.basename(bam).split(\".\")[0]\n",
    "    out_txt = os.path.join(out_dir, name) + \".txt\"\n",
    "    out_pdf = os.path.join(out_dir, name) + \".pdf\"\n",
    "\n",
    "    if os.path.exists(out_txt):\n",
    "       return None\n",
    "\n",
    "    return \"java -jar /home/yeo-lab/software/picard-tools-1.141/picard.jar CollectInsertSizeMetrics I={} O={} H={} VALIDATION_STRINGENCY=SILENT\".format(bam, out_txt, out_pdf)\n",
    "\n",
    "def parse_insert_size_metrics(CollectInsertSizeMetricsFile):\n",
    "    try:\n",
    "        with open(CollectInsertSizeMetricsFile) as metrics_file:\n",
    "            metrics_file.next()\n",
    "            metrics_file.next()\n",
    "            metrics_file.next()\n",
    "            metrics_file.next()\n",
    "            metrics_file.next()\n",
    "            metrics_file.next()\n",
    "            header = metrics_file.next().split()\n",
    "            data = metrics_file.next().split()\n",
    "            return pd.Series({key: value for key, value in zip(header, data)})\n",
    "    except Exception as e:\n",
    "        print \"error\", os.path.basename(CollectInsertSizeMetricsFile)\n",
    "        raise e"
   ]
  },
  {
   "cell_type": "code",
   "execution_count": 15,
   "metadata": {
    "collapsed": true
   },
   "outputs": [],
   "source": [
    "bam_files = glob.glob(\"/projects/ps-yeolab3/from_hotel_node/for_anthony/analysis/av_mouse_stress_v4/*.rg.bam\")\n",
    "insert_size_metrics = [collect_insert_size_metrics(bam_file, \"/projects/ps-yeolab3/from_hotel_node/for_anthony/analysis/insert_sizes\") for bam_file in bam_files]\n"
   ]
  },
  {
   "cell_type": "code",
   "execution_count": 6,
   "metadata": {
    "collapsed": false
   },
   "outputs": [
    {
     "name": "stdout",
     "output_type": "stream",
     "text": [
      "/bin/sh: None: command not found\n",
      "/bin/sh: None: command not found\n",
      "/bin/sh: None: command not found\n",
      "/bin/sh: None: command not found\n",
      "/bin/sh: None: command not found\n",
      "/bin/sh: None: command not found\n",
      "/bin/sh: None: command not found\n",
      "/bin/sh: None: command not found\n",
      "/bin/sh: None: command not found\n",
      "/bin/sh: None: command not found\n",
      "/bin/sh: None: command not found\n",
      "/bin/sh: None: command not found\n",
      "/bin/sh: None: command not found\n",
      "/bin/sh: None: command not found\n",
      "/bin/sh: None: command not found\n",
      "/bin/sh: None: command not found\n",
      "/bin/sh: None: command not found\n",
      "/bin/sh: None: command not found\n",
      "/bin/sh: None: command not found\n",
      "/bin/sh: None: command not found\n",
      "/bin/sh: None: command not found\n",
      "/bin/sh: None: command not found\n"
     ]
    }
   ],
   "source": [
    "for x in insert_size_metrics:\n",
    "    !$x"
   ]
  },
  {
   "cell_type": "code",
   "execution_count": 16,
   "metadata": {
    "collapsed": false
   },
   "outputs": [],
   "source": [
    "metadata = pd.read_csv(\"/home/gpratt/Dropbox/cryptic_splicing/data/mouse_data/SampleInfo.csv\", index_col=0)"
   ]
  },
  {
   "cell_type": "code",
   "execution_count": 17,
   "metadata": {
    "collapsed": false
   },
   "outputs": [],
   "source": [
    "def make_size_metrics(row, bam_column):\n",
    "    return os.path.join(\"/projects/ps-yeolab3/from_hotel_node/for_anthony/analysis/insert_sizes\", os.path.basename(row[bam_column]).split(\".\")[0] + \".txt\")\n",
    "\n",
    "mn_metrics = functools.partial(make_size_metrics, bam_column=\"sample_id.1\")\n",
    "metadata['bam_size'] = metadata.apply(mn_metrics, axis=1)"
   ]
  },
  {
   "cell_type": "code",
   "execution_count": 18,
   "metadata": {
    "collapsed": true
   },
   "outputs": [],
   "source": [
    "bam_dir = \"/projects/ps-yeolab3/from_hotel_node/for_anthony/analysis/av_mouse_stress_v4/\""
   ]
  },
  {
   "cell_type": "code",
   "execution_count": 19,
   "metadata": {
    "collapsed": false
   },
   "outputs": [],
   "source": [
    "metadata['bam_file'] = metadata['sample_id.1'].apply(lambda x: bam_dir + x + \".sorted.rg.bam\")"
   ]
  },
  {
   "cell_type": "code",
   "execution_count": 20,
   "metadata": {
    "collapsed": false
   },
   "outputs": [],
   "source": [
    "june_metadata = metadata[(metadata.date == \"june\")]\n",
    "\n",
    "june_metadata_stressed = metadata[(metadata.date == \"june\") & (metadata.stress == True)]\n",
    "june_metadata_unstressed = metadata[(metadata.date == \"june\") & (metadata.stress == False)]\n"
   ]
  },
  {
   "cell_type": "code",
   "execution_count": 21,
   "metadata": {
    "collapsed": true
   },
   "outputs": [],
   "source": [
    "comparisons = [(\"q331k\", \"rev\"),\n",
    " (\"q331k\", \"hWT\"),\n",
    " (\"q331k\", \"gt\"),\n",
    " (\"hWT\" ,\"gt\"), \n",
    " (\"hWT\", \"rev\"),\n",
    " (\"gt\", \"rev\"),]\n"
   ]
  },
  {
   "cell_type": "code",
   "execution_count": 22,
   "metadata": {
    "collapsed": false
   },
   "outputs": [],
   "source": [
    "results = []\n",
    "for kd, ctrl in comparisons:\n",
    "    kd_df = june_metadata_stressed[june_metadata_stressed.genotype == kd]\n",
    "    ctrl_df = june_metadata_stressed[june_metadata_stressed.genotype == ctrl]\n",
    "    out_dir=\"/home/gpratt/projects/for_anthony/analysis/rMATS/{}_vs_{}_stressed\".format(kd, ctrl)\n",
    "\n",
    "    \n",
    "    kd_stats = pd.concat({\"rep1\": parse_insert_size_metrics(kd_df.iloc[0].bam_size), \n",
    "                          \"rep2\": parse_insert_size_metrics(kd_df.iloc[1].bam_size)}).unstack()\n",
    "\n",
    "    ctrl_stats = pd.concat({\"rep1\": parse_insert_size_metrics(ctrl_df.iloc[0].bam_size), \n",
    "                            \"rep2\": parse_insert_size_metrics(ctrl_df.iloc[1].bam_size)}).unstack()\n",
    "    \n",
    "\n",
    "    results.append(run_rmats([kd_df.iloc[0].bam_file, kd_df.iloc[1].bam_file],\n",
    "                                 [ctrl_df.iloc[0].bam_file, ctrl_df.iloc[1].bam_file],\n",
    "                                 kd_stats.MEAN_INSERT_SIZE, \n",
    "                                 ctrl_stats.MEAN_INSERT_SIZE, \n",
    "                                 kd_stats.STANDARD_DEVIATION,  \n",
    "                                 ctrl_stats.STANDARD_DEVIATION,\n",
    "                                 read_len = 55,\n",
    "                                 gtf=\"/projects/ps-yeolab/genomes/mm10/gencode/gencode.vM3.annotation.gtf\",\n",
    "                                 out_dir=out_dir))\n",
    "for kd, ctrl in comparisons:\n",
    "    kd_df = june_metadata_unstressed[june_metadata_unstressed.genotype == kd]\n",
    "    ctrl_df = june_metadata_unstressed[june_metadata_unstressed.genotype == ctrl]\n",
    "    out_dir=\"/home/gpratt/projects/for_anthony/analysis/rMATS/{}_vs_{}_unstressed\".format(kd, ctrl)\n",
    "    \n",
    "    kd_stats = pd.concat({\"rep1\": parse_insert_size_metrics(kd_df.iloc[0].bam_size), \n",
    "                          \"rep2\": parse_insert_size_metrics(kd_df.iloc[1].bam_size)}).unstack()\n",
    "\n",
    "    ctrl_stats = pd.concat({\"rep1\": parse_insert_size_metrics(ctrl_df.iloc[0].bam_size), \n",
    "                            \"rep2\": parse_insert_size_metrics(ctrl_df.iloc[1].bam_size)}).unstack()\n",
    "    \n",
    "\n",
    "    results.append(run_rmats([kd_df.iloc[0].bam_file, kd_df.iloc[1].bam_file],\n",
    "                                 [ctrl_df.iloc[0].bam_file, ctrl_df.iloc[1].bam_file],\n",
    "                                 kd_stats.MEAN_INSERT_SIZE, \n",
    "                                 ctrl_stats.MEAN_INSERT_SIZE, \n",
    "                                 kd_stats.STANDARD_DEVIATION,  \n",
    "                                 ctrl_stats.STANDARD_DEVIATION,\n",
    "                                 read_len = 55,\n",
    "                                 gtf=\"/projects/ps-yeolab/genomes/mm10/gencode/gencode.vM3.annotation.gtf\",\n",
    "                                 out_dir=out_dir))\n",
    "\n",
    "for genotype, df in june_metadata.groupby(\"genotype\"):\n",
    "    (foo, ctrl_df), (bar, kd_df) = list(df.groupby(\"stress\"))\n",
    "    if not bar or foo:\n",
    "        print \"error\"\n",
    "        \n",
    "        \n",
    "    out_dir=\"/home/gpratt/projects/for_anthony/analysis/rMATS/{}_stressed_vs_unstressed\".format(genotype)\n",
    "    \n",
    "    kd_stats = pd.concat({\"rep1\": parse_insert_size_metrics(kd_df.iloc[0].bam_size), \n",
    "                          \"rep2\": parse_insert_size_metrics(kd_df.iloc[1].bam_size)}).unstack()\n",
    "\n",
    "    ctrl_stats = pd.concat({\"rep1\": parse_insert_size_metrics(ctrl_df.iloc[0].bam_size), \n",
    "                            \"rep2\": parse_insert_size_metrics(ctrl_df.iloc[1].bam_size)}).unstack()\n",
    "    \n",
    "\n",
    "    results.append(run_rmats([kd_df.iloc[0].bam_file, kd_df.iloc[1].bam_file],\n",
    "                                 [ctrl_df.iloc[0].bam_file, ctrl_df.iloc[1].bam_file],\n",
    "                                 kd_stats.MEAN_INSERT_SIZE, \n",
    "                                 ctrl_stats.MEAN_INSERT_SIZE, \n",
    "                                 kd_stats.STANDARD_DEVIATION,  \n",
    "                                 ctrl_stats.STANDARD_DEVIATION,\n",
    "                                 read_len = 55,\n",
    "                                 gtf=\"/projects/ps-yeolab/genomes/mm10/gencode/gencode.vM3.annotation.gtf\",\n",
    "                                 out_dir=out_dir))"
   ]
  },
  {
   "cell_type": "code",
   "execution_count": 23,
   "metadata": {
    "collapsed": false
   },
   "outputs": [],
   "source": [
    "job_maker.make_script(results, script_name=\"/home/gpratt/projects/for_anthony/scripts/rMATS\", \n",
    "                     run_dir=\"/home/gpratt/projects/for_anthony/analysis/rMATS/\",\n",
    "                     ppn=8,\n",
    "                     walltime=48)"
   ]
  },
  {
   "cell_type": "markdown",
   "metadata": {
    "collapsed": true
   },
   "source": [
    "# Analysis "
   ]
  },
  {
   "cell_type": "code",
   "execution_count": 197,
   "metadata": {
    "collapsed": true
   },
   "outputs": [],
   "source": [
    "def parse_rMATS(fn):\n",
    "    \"\"\"Given a file name parses it but also uses rMATS file structure to find cryptic events, infer them and returns the entire thing\"\"\"\n",
    "    df = pd.read_table(fn, index_col=0)\n",
    "    splice_type = os.path.basename(fn).split(\".\")[0]\n",
    "    dir_name = os.path.split(os.path.split(fn)[0])[0]\n",
    "    \n",
    "    normal =  pd.read_table(os.path.join(dir_name, \"ASEvents\", \"fromGTF.{}.txt\").format(splice_type), index_col=0)\n",
    "    cryptic = pd.read_table(os.path.join(dir_name, \"ASEvents\", \"fromGTF.novelEvents.{}.txt\").format(splice_type), index_col=0)\n",
    "    normal[\"is_cryptic\"] = normal.index.isin(cryptic.index)\n",
    "    normal = normal.drop(set(normal.columns).difference(set([\"is_cryptic\"])), axis=1)\n",
    "    df = df.join(normal)\n",
    "    return df\n",
    "\n",
    "#I have to resort to this iterator stragety to keep my memory footprint low\n",
    "#this takes all merged events and returns a group_id (count) and all the samples that have the event, along with the event itself (value)\n",
    "def events_dict_iter(grouped_events):\n",
    "    for count, (key, value) in enumerate(grouped_events.iteritems()):\n",
    "        yield count, value\n",
    "\n",
    "#This takes all the actual events and makes a maping of group_id to the original dataframe id\n",
    "def real_results_iter(grouped_events, min_key):\n",
    "    for key, value in events_dict_iter(grouped_events):\n",
    "        for item in value:\n",
    "            yield item, key + min_key\n",
    "\n",
    "def annotate_events(events, grouped_df, min_key):\n",
    "    \"\"\"takes a grouped dataframe and returns annotated events\"\"\"\n",
    "    real_results_df = pd.DataFrame(pd.Series(dict(real_results_iter(grouped_df.groups, min_key)), name=\"group_id\"))\n",
    "    #Assign that value back to the full ist of event annotations\n",
    "    annotated_combined_events = pd.concat([events, real_results_df], axis=1)\n",
    "    return annotated_combined_events\n",
    "\n",
    "def annotate_se_events(se_events, min_key):\n",
    "    #Group events by location\n",
    "    df = se_events.groupby([\"chr\", \"strand\", \"downstreamEE\", \"downstreamES\", \"upstreamEE\", \"upstreamES\", \"exonEnd\", \"exonStart_0base\"])\n",
    "    return annotate_events(se_events, df, min_key)\n",
    "\n",
    "def annotate_mxe_events(se_events, min_key):\n",
    "\n",
    "    #Group events by location\n",
    "    df = se_events.groupby([\"chr\", \"strand\",  \"1stExonStart_0base\", \"1stExonEnd\", \"2ndExonStart_0base\", \"2ndExonEnd\", \"upstreamES\", \"upstreamEE\", \"downstreamES\", \"downstreamEE\"])\n",
    "    return annotate_events(se_events, df, min_key)\n",
    "\n",
    "def annotate_a5ss_events(se_events, min_key):\n",
    "\n",
    "    #Group events by location\n",
    "    df = se_events.groupby([\"chr\", \"strand\", \"longExonStart_0base\", \"longExonEnd\", \"shortES\", \"shortEE\", \"flankingES\", \"flankingEE\"])\n",
    "    return annotate_events(se_events, df, min_key)\n",
    "\n",
    "def annotate_a3ss_events(se_events, min_key):\n",
    "\n",
    "    #Group events by location\n",
    "    df = se_events.groupby([\"chr\", \"strand\", \"longExonStart_0base\", \"longExonEnd\", \"shortES\", \"shortEE\", \"flankingES\", \"flankingEE\"])\n",
    "    return annotate_events(se_events, df, min_key)\n",
    "\n",
    "def annotate_ri_events(se_events, min_key):\n",
    "\n",
    "    #Group events by location\n",
    "    df = se_events.groupby([\"chr\", \"strand\", \"riExonStart_0base\", \"riExonEnd\", \"upstreamES\", \"upstreamEE\", \"downstreamES\", \"downstreamEE\"])\n",
    "    return annotate_events(se_events, df, min_key)\n",
    "\n",
    "def get_rMATS_events(events_list):\n",
    "    #might want to eventually convert that into an events list\n",
    "    df = pd.DataFrame(pd.Series({os.path.basename(item): item for item in events_list}, name=\"events\"))\n",
    "    \n",
    "    df['SE'] = df.events.apply(lambda x: os.path.join(x, \"MATS_output\", \"SE.MATS.JunctionCountOnly.txt\"))\n",
    "    df['MXE'] = df.events.apply(lambda x: os.path.join(x, \"MATS_output\", \"MXE.MATS.JunctionCountOnly.txt\"))\n",
    "    df['A5SS'] = df.events.apply(lambda x: os.path.join(x, \"MATS_output\", \"A5SS.MATS.JunctionCountOnly.txt\"))\n",
    "    df['A3SS'] = df.events.apply(lambda x: os.path.join(x, \"MATS_output\", \"A3SS.MATS.JunctionCountOnly.txt\"))\n",
    "    df['RI'] = df.events.apply(lambda x: os.path.join(x, \"MATS_output\", \"RI.MATS.JunctionCountOnly.txt\"))\n",
    "    \n",
    "    print \"paths that didn't exist\", df[~df['SE'].apply(os.path.exists)].values\n",
    "    df = df[df['SE'].apply(os.path.exists)]\n",
    "    \n",
    "    se = pd.concat({key: parse_rMATS(value) for key, value in df.SE.iteritems()}, names=[\"condition\", \"event_id\"])\n",
    "    se = annotate_se_events(se, 0)\n",
    "    max_index = max(se.group_id)\n",
    "    \n",
    "    mxe = pd.concat({key: parse_rMATS(value) for key, value in df.MXE.iteritems()}, names=[\"condition\", \"event_id\"])\n",
    "    mxe = annotate_mxe_events(mxe, max_index + 1)\n",
    "    max_index = max(mxe.group_id)\n",
    "\n",
    "    a5ss = pd.concat({key: parse_rMATS(value) for key, value in df.A5SS.iteritems()}, names=[\"condition\", \"event_id\"])\n",
    "    a5ss = annotate_a5ss_events(a5ss, max_index + 1)\n",
    "    max_index = max(a5ss.group_id)\n",
    "\n",
    "    a3ss = pd.concat({key: parse_rMATS(value) for key, value in df.A3SS.iteritems()}, names=[\"condition\", \"event_id\"])\n",
    "    a3ss = annotate_a3ss_events(a3ss, max_index + 1)\n",
    "    max_index = max(a3ss.group_id)\n",
    "\n",
    "    ri = pd.concat({key: parse_rMATS(value) for key, value in df.RI.iteritems()}, names=[\"condition\", \"event_id\"])\n",
    "    ri = annotate_ri_events(ri, max_index + 1)\n",
    "\n",
    "    #return se, mxe, a5ss, a3ss, ri\n",
    "\n",
    "    all_events = pd.concat({\"SE\": se,\n",
    "                            \"MXE\": mxe,\n",
    "                            \"A5SS\": a5ss,\n",
    "                            \"A3SS\": a3ss,\n",
    "                            \"RI\": ri,\n",
    "                                  }, \n",
    "                                  names=[\"event_type\", \"condition\", \"event_id\"]\n",
    "                                 )\n",
    "    all_events = all_events.set_index(['group_id'], append=True)\n",
    "    all_events.index = all_events.index.droplevel(\"event_id\")\n",
    "    return all_events"
   ]
  },
  {
   "cell_type": "code",
   "execution_count": 198,
   "metadata": {
    "collapsed": false
   },
   "outputs": [
    {
     "name": "stdout",
     "output_type": "stream",
     "text": [
      "paths that didn't exist []\n"
     ]
    }
   ],
   "source": [
    "#THIS NEEDS LARGE AMOUNTS OF MEMORY, RUN WITH ppn=4 minium, will have to optomize very soon for scaling\n",
    "mouse_stress_events = glob.glob(\"/home/gpratt/projects/for_anthony/analysis/rMATS/*\")\n",
    "\n",
    "all_events = get_rMATS_events(mouse_stress_events)"
   ]
  },
  {
   "cell_type": "code",
   "execution_count": 200,
   "metadata": {
    "collapsed": false
   },
   "outputs": [],
   "source": [
    "def get_significant_events(events):\n",
    "    sig_events = events[events.FDR < .05]\n",
    "    sig_events = sig_events[np.abs(sig_events.IncLevelDifference) > .1]\n",
    "    sig_events = pd.concat({\"excluded\": sig_events[sig_events.IncLevelDifference < 0],\n",
    "                            \"included\": sig_events[sig_events.IncLevelDifference > 0],}, \n",
    "                           names=[\"direction\", \"event_type\", \"condition\", \"group_id\"])\n",
    "    sig_events = sig_events.swaplevel(0,1)\n",
    "    return sig_events\n",
    "\n",
    "all_events['is_cryptic'] = all_events.is_cryptic.fillna(True)\n",
    "all_annotated_events = all_events[~all_events.is_cryptic]\n",
    "\n",
    "all_sig_events = get_significant_events(all_annotated_events)"
   ]
  },
  {
   "cell_type": "code",
   "execution_count": 259,
   "metadata": {
    "collapsed": false
   },
   "outputs": [],
   "source": [
    "all_sig_events = all_sig_events.swaplevel(\"event_type\", \"condition\")"
   ]
  },
  {
   "cell_type": "code",
   "execution_count": 256,
   "metadata": {
    "collapsed": false
   },
   "outputs": [],
   "source": [
    "stress_vs_unstressed = ['gt_stressed_vs_unstressed', \"hWT_stressed_vs_unstressed\", 'q331k_stressed_vs_unstressed', 'rev_stressed_vs_unstressed']\n",
    "\n",
    "genotype_comparisons = [u'gt_vs_rev_stressed',\n",
    "                        u'gt_vs_rev_unstressed', \n",
    "                        u'hWT_vs_gt_stressed',\n",
    "                        u'hWT_vs_gt_unstressed', \n",
    "                        u'hWT_vs_rev_stressed',\n",
    "                        u'hWT_vs_rev_unstressed', \n",
    "       u'q331k_vs_gt_stressed', u'q331k_vs_gt_unstressed',\n",
    "       u'q331k_vs_hWT_stressed', u'q331k_vs_hWT_unstressed',\n",
    "       u'q331k_vs_rev_stressed', u'q331k_vs_rev_unstressed',]"
   ]
  },
  {
   "cell_type": "code",
   "execution_count": 260,
   "metadata": {
    "collapsed": false
   },
   "outputs": [],
   "source": [
    "stress_vs_unstressed_df = all_sig_events.ix[stress_vs_unstressed]\n",
    "genotype_comparisons_df = all_sig_events.ix[genotype_comparisons]"
   ]
  },
  {
   "cell_type": "code",
   "execution_count": 266,
   "metadata": {
    "collapsed": false
   },
   "outputs": [
    {
     "data": {
      "text/plain": [
       "(u'gt_vs_rev_stressed', 'excluded', 'A3SS', 154628)"
      ]
     },
     "execution_count": 266,
     "metadata": {},
     "output_type": "execute_result"
    }
   ],
   "source": [
    "item"
   ]
  },
  {
   "cell_type": "code",
   "execution_count": 269,
   "metadata": {
    "collapsed": false
   },
   "outputs": [],
   "source": [
    "new_index = []\n",
    "for item in genotype_comparisons_df.index:\n",
    "    genotype_1, vs, genotype_2, condition = item[0].split(\"_\")\n",
    "    new_index.append([genotype_1, genotype_2, condition, item[1], item[2], item[3]])\n",
    "\n",
    "genotype_comparisons_df.index = pd.MultiIndex.from_tuples(new_index, names=['genotype_1', 'genotype_2', 'condition', 'direction', 'event_type', 'group_id'])"
   ]
  },
  {
   "cell_type": "code",
   "execution_count": 296,
   "metadata": {
    "collapsed": false
   },
   "outputs": [
    {
     "data": {
      "text/plain": [
       "225.41666666666666"
      ]
     },
     "execution_count": 296,
     "metadata": {},
     "output_type": "execute_result"
    }
   ],
   "source": [
    "genotype_comparisons_df.groupby(level=[\"genotype_1\", \"genotype_2\", \"condition\", \"direction\"]).count().FDR.mean()"
   ]
  },
  {
   "cell_type": "code",
   "execution_count": 298,
   "metadata": {
    "collapsed": false
   },
   "outputs": [
    {
     "data": {
      "text/plain": [
       "8"
      ]
     },
     "execution_count": 298,
     "metadata": {},
     "output_type": "execute_result"
    }
   ],
   "source": [
    "(13 + 2 + 17 + 0) / 4"
   ]
  },
  {
   "cell_type": "markdown",
   "metadata": {},
   "source": [
    "# How Many events are there in total?"
   ]
  },
  {
   "cell_type": "code",
   "execution_count": 233,
   "metadata": {
    "collapsed": false
   },
   "outputs": [
    {
     "data": {
      "text/plain": [
       "<matplotlib.axes._subplots.AxesSubplot at 0x2b59d20ad990>"
      ]
     },
     "execution_count": 233,
     "metadata": {},
     "output_type": "execute_result"
    },
    {
     "data": {
      "image/png": "[encoded data removed]",
      "text/plain": [
       "<matplotlib.figure.Figure at 0x2b59d20aaa50>"
      ]
     },
     "metadata": {},
     "output_type": "display_data"
    }
   ],
   "source": [
    "all_sig_events_counts = all_sig_events.groupby(level=[\"event_type\", \"direction\", \"condition\"]).count().FDR.unstack()\n",
    "sns.heatmap(all_sig_events_counts.T)"
   ]
  },
  {
   "cell_type": "markdown",
   "metadata": {},
   "source": [
    "# How about a rough check of the number of shared events?"
   ]
  },
  {
   "cell_type": "code",
   "execution_count": 240,
   "metadata": {
    "collapsed": false
   },
   "outputs": [
    {
     "name": "stdout",
     "output_type": "stream",
     "text": [
      "num shared events 2087\n"
     ]
    }
   ],
   "source": [
    "shared_events = all_sig_events.groupby(level=\"group_id\").count().FDR \n",
    "print \"num shared events\", len(shared_events[shared_events > 1])"
   ]
  },
  {
   "cell_type": "code",
   "execution_count": 241,
   "metadata": {
    "collapsed": false
   },
   "outputs": [
    {
     "name": "stdout",
     "output_type": "stream",
     "text": [
      "num shared events 2087\n"
     ]
    }
   ],
   "source": [
    "shared_events = all_sig_events.groupby(level=[\"event_type\", \"group_id\"]).count().FDR \n",
    "print \"num shared events\", len(shared_events[shared_events > 1])\n"
   ]
  },
  {
   "cell_type": "code",
   "execution_count": 242,
   "metadata": {
    "collapsed": true
   },
   "outputs": [],
   "source": [
    "shared_events = all_sig_events.groupby(level=[\"event_type\", \"direction\", \"group_id\"]).count().FDR \n",
    "shared_events = shared_events[shared_events > 1]"
   ]
  },
  {
   "cell_type": "code",
   "execution_count": 243,
   "metadata": {
    "collapsed": false
   },
   "outputs": [
    {
     "data": {
      "text/plain": [
       "1717"
      ]
     },
     "execution_count": 243,
     "metadata": {},
     "output_type": "execute_result"
    }
   ],
   "source": [
    "len(shared_events)"
   ]
  },
  {
   "cell_type": "code",
   "execution_count": 244,
   "metadata": {
    "collapsed": false
   },
   "outputs": [],
   "source": [
    "shared_events = all_sig_events.groupby(level=[\"event_type\", \"direction\", \"group_id\"]).count().FDR \n",
    "shared_events = shared_events[shared_events > 1]"
   ]
  },
  {
   "cell_type": "code",
   "execution_count": 245,
   "metadata": {
    "collapsed": false
   },
   "outputs": [
    {
     "data": {
      "text/html": [
       "<div>\n",
       "<table border=\"1\" class=\"dataframe\">\n",
       "  <thead>\n",
       "    <tr style=\"text-align: right;\">\n",
       "      <th>direction</th>\n",
       "      <th>excluded</th>\n",
       "      <th>included</th>\n",
       "    </tr>\n",
       "    <tr>\n",
       "      <th>event_type</th>\n",
       "      <th></th>\n",
       "      <th></th>\n",
       "    </tr>\n",
       "  </thead>\n",
       "  <tbody>\n",
       "    <tr>\n",
       "      <th>A3SS</th>\n",
       "      <td>121</td>\n",
       "      <td>90</td>\n",
       "    </tr>\n",
       "    <tr>\n",
       "      <th>A5SS</th>\n",
       "      <td>79</td>\n",
       "      <td>77</td>\n",
       "    </tr>\n",
       "    <tr>\n",
       "      <th>MXE</th>\n",
       "      <td>52</td>\n",
       "      <td>33</td>\n",
       "    </tr>\n",
       "    <tr>\n",
       "      <th>RI</th>\n",
       "      <td>172</td>\n",
       "      <td>99</td>\n",
       "    </tr>\n",
       "    <tr>\n",
       "      <th>SE</th>\n",
       "      <td>544</td>\n",
       "      <td>450</td>\n",
       "    </tr>\n",
       "  </tbody>\n",
       "</table>\n",
       "</div>"
      ],
      "text/plain": [
       "direction   excluded  included\n",
       "event_type                    \n",
       "A3SS             121        90\n",
       "A5SS              79        77\n",
       "MXE               52        33\n",
       "RI               172        99\n",
       "SE               544       450"
      ]
     },
     "execution_count": 245,
     "metadata": {},
     "output_type": "execute_result"
    }
   ],
   "source": [
    "shared_events.groupby(level=[\"event_type\", \"direction\"]).count().unstack()"
   ]
  },
  {
   "cell_type": "markdown",
   "metadata": {},
   "source": [
    "# Break up the data to stress vs no stress and Q331K comparisons to everything else"
   ]
  },
  {
   "cell_type": "markdown",
   "metadata": {},
   "source": [
    "# Lets plot some venns\n",
    "I'll start by not even breaking down SE vs everything else, see how that goes."
   ]
  },
  {
   "cell_type": "code",
   "execution_count": 274,
   "metadata": {
    "collapsed": true
   },
   "outputs": [],
   "source": [
    "img_dir = \"/home/gpratt/Dropbox/mouse_stress/figures\""
   ]
  },
  {
   "cell_type": "code",
   "execution_count": 289,
   "metadata": {
    "collapsed": false
   },
   "outputs": [
    {
     "data": {
      "image/png": "[encoded data removed]",
      "text/plain": [
       "<matplotlib.figure.Figure at 0x2b5a88a8ff90>"
      ]
     },
     "metadata": {},
     "output_type": "display_data"
    }
   ],
   "source": [
    "num_rows = 2\n",
    "num_cols = 2\n",
    "with dataviz.Figure(os.path.join(img_dir, \"splicing_unstressed_all_changes_rmats.svg\"), figsize=(num_rows * 2, num_cols * 2)) as fig:\n",
    "    ax = fig.add_subplot(num_cols, num_rows,1)\n",
    "    venn = venn3([genotype_comparisons_df.ix['q331k', 'gt', 'unstressed', 'excluded'].index,\n",
    "                  genotype_comparisons_df.ix['q331k', 'hWT', 'unstressed', 'excluded'].index,\n",
    "                  genotype_comparisons_df.ix['q331k', 'rev', 'unstressed', 'excluded'].index,],\n",
    "            set_labels=map(lambda x: names[x], (\"gt\", \"hWT\", \"rev\")), \n",
    "            #set_colors=(rbp_colors['spinalcord'], rbp_colors['straitum'], rbp_colors['wholebrain']), \n",
    "                 ax=ax)\n",
    "    ax.set_title(\"Excluded\", fontsize=10)\n",
    "    [label.set_fontsize(6) for label in venn.subset_labels if label is not None]\n",
    "    [label.set_fontsize(10) for label in venn.set_labels  if label is not None]\n",
    "    \n",
    "    ax = fig.add_subplot(num_cols,num_rows,2)\n",
    "    venn = venn3([genotype_comparisons_df.ix['q331k', 'gt', 'unstressed', 'included'].index,\n",
    "                  genotype_comparisons_df.ix['q331k', 'hWT', 'unstressed', 'included'].index,\n",
    "                  genotype_comparisons_df.ix['q331k', 'rev', 'unstressed', 'included'].index,],\n",
    "            set_labels=map(lambda x: names[x], (\"gt\", \"hWT\", \"rev\")), \n",
    "            #set_colors=(rbp_colors['spinalcord'], rbp_colors['straitum'], rbp_colors['wholebrain']), \n",
    "                 ax=ax)\n",
    "    ax.set_title(\"Included\", fontsize=10)\n",
    "    [label.set_fontsize(6) for label in venn.subset_labels if label is not None]\n",
    "    [label.set_fontsize(10) for label in venn.set_labels  if label is not None]\n",
    "    \n",
    "    ax = fig.add_subplot(num_cols, num_rows,3)\n",
    "    venn = venn3([genotype_comparisons_df.ix['q331k', 'gt', 'stressed', 'excluded'].index,\n",
    "                  genotype_comparisons_df.ix['q331k', 'hWT', 'stressed', 'excluded'].index,\n",
    "                  genotype_comparisons_df.ix['q331k', 'rev', 'stressed', 'excluded'].index,],\n",
    "            set_labels=map(lambda x: names[x], (\"gt\", \"hWT\", \"rev\")), \n",
    "            #set_colors=(rbp_colors['spinalcord'], rbp_colors['straitum'], rbp_colors['wholebrain']), \n",
    "                 ax=ax)\n",
    "    ax.set_title(\"Excluded\", fontsize=10)\n",
    "    [label.set_fontsize(6) for label in venn.subset_labels if label is not None]\n",
    "    [label.set_fontsize(10) for label in venn.set_labels  if label is not None]\n",
    "    \n",
    "    ax = fig.add_subplot(num_cols,num_rows,4)\n",
    "    venn = venn3([genotype_comparisons_df.ix['q331k', 'gt', 'stressed', 'included'].index,\n",
    "                  genotype_comparisons_df.ix['q331k', 'hWT', 'stressed', 'included'].index,\n",
    "                  genotype_comparisons_df.ix['q331k', 'rev', 'stressed', 'included'].index,],\n",
    "            set_labels=map(lambda x: names[x], (\"gt\", \"hWT\", \"rev\")), \n",
    "            #set_colors=(rbp_colors['spinalcord'], rbp_colors['straitum'], rbp_colors['wholebrain']), \n",
    "                 ax=ax)\n",
    "    ax.set_title(\"Included\", fontsize=10)\n",
    "    [label.set_fontsize(6) for label in venn.subset_labels if label is not None]\n",
    "    [label.set_fontsize(10) for label in venn.set_labels  if label is not None]\n"
   ]
  },
  {
   "cell_type": "code",
   "execution_count": null,
   "metadata": {
    "collapsed": true
   },
   "outputs": [],
   "source": []
  }
 ],
 "metadata": {
  "kernelspec": {
   "display_name": "Python 2",
   "language": "python",
   "name": "python2"
  },
  "language_info": {
   "codemirror_mode": {
    "name": "ipython",
    "version": 2
   },
   "file_extension": ".py",
   "mimetype": "text/x-python",
   "name": "python",
   "nbconvert_exporter": "python",
   "pygments_lexer": "ipython2",
   "version": "2.7.12"
  }
 },
 "nbformat": 4,
 "nbformat_minor": 0
}
