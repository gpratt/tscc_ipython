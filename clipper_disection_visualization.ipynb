{
 "cells": [
  {
   "cell_type": "code",
   "execution_count": 99,
   "metadata": {
    "collapsed": true
   },
   "outputs": [],
   "source": [
    "%matplotlib inline\n",
    "from clipper.src.call_peak import *\n",
    "from clipper.src import readsToWiggle\n",
    "import HTSeq\n",
    "\n",
    "from gscripts.general import dataviz\n",
    "\n",
    "import os\n",
    "import seaborn as sns\n",
    "\n",
    "img_dir = \"/home/gpratt/Dropbox/Presentations/random_figures/\""
   ]
  },
  {
   "cell_type": "code",
   "execution_count": 104,
   "metadata": {
    "collapsed": true
   },
   "outputs": [],
   "source": [
    "import matplotlib as mpl\n",
    "legend = None\n",
    "\n",
    "OUTSIDE_LEGEND_SAVEFIG_KWS = dict(bbox_extra_artists=(legend,),\n",
    "                                  bbox_inches='tight')\n",
    "from matplotlib import rc\n",
    "\n",
    "mpl.rcParams['svg.fonttype'] = 'none'\n",
    "\n",
    "rc('text', usetex=False) \n",
    "rc('font',**{'family':'sans-serif','sans-serif':['Helvetica']})"
   ]
  },
  {
   "cell_type": "code",
   "execution_count": 6,
   "metadata": {
    "collapsed": true
   },
   "outputs": [],
   "source": [
    "import pysam"
   ]
  },
  {
   "cell_type": "code",
   "execution_count": 7,
   "metadata": {
    "collapsed": true
   },
   "outputs": [],
   "source": [
    "fn = \"/projects/ps-yeolab3/encode/analysis/encode_master/204_01_RBFOX2.merged.r2.bam\"\n",
    "#fn = \"/projects/ps-yeolab3/encode/analysis/encode_master/240_01_TRA2A.merged.r2.bam\"\n",
    "\n",
    "bam_file = pysam.Samfile(fn)"
   ]
  },
  {
   "cell_type": "code",
   "execution_count": 127,
   "metadata": {
    "collapsed": true
   },
   "outputs": [],
   "source": [
    "interval = pybedtools.create_interval_from_list(\"chrX    AS_STRUCTURE    gene    151121596       151143152       .       -       .       gene_id=ENSG00000102287.12;mrna_length=9631;premrna_length=21557\".split())"
   ]
  },
  {
   "cell_type": "code",
   "execution_count": 138,
   "metadata": {
    "collapsed": true
   },
   "outputs": [],
   "source": [
    "chrom = \"chrX\"\n",
    "start = interval.start\n",
    "end = interval.stop\n",
    "strand = str(interval.strand)\n",
    "reverse_strand = False\n",
    "plotit = False"
   ]
  },
  {
   "cell_type": "code",
   "execution_count": 139,
   "metadata": {
    "collapsed": true
   },
   "outputs": [],
   "source": [
    "subset_reads = list(bam_file.fetch(reference=str(chrom), start=start, end=end))"
   ]
  },
  {
   "cell_type": "code",
   "execution_count": 140,
   "metadata": {
    "collapsed": true
   },
   "outputs": [],
   "source": [
    "peak_start_mine = 151139169 - start \n",
    "peak_stop_mine = 151139608 - start"
   ]
  },
  {
   "cell_type": "code",
   "execution_count": 141,
   "metadata": {
    "collapsed": false
   },
   "outputs": [
    {
     "data": {
      "text/plain": [
       "18013"
      ]
     },
     "execution_count": 141,
     "metadata": {},
     "output_type": "execute_result"
    }
   ],
   "source": [
    "peak_stop_mine"
   ]
  },
  {
   "cell_type": "code",
   "execution_count": 142,
   "metadata": {
    "collapsed": false
   },
   "outputs": [
    {
     "data": {
      "text/plain": [
       "733"
      ]
     },
     "execution_count": 142,
     "metadata": {},
     "output_type": "execute_result"
    }
   ],
   "source": [
    "len(subset_reads)"
   ]
  },
  {
   "cell_type": "code",
   "execution_count": 143,
   "metadata": {
    "collapsed": false
   },
   "outputs": [],
   "source": [
    "(wiggle, jxns, pos_counts,\n",
    " lengths, allreads, read_locations) = readsToWiggle.readsToWiggle_pysam(subset_reads, start,\n",
    "                                          end, strand, \"start\", False)"
   ]
  },
  {
   "cell_type": "code",
   "execution_count": 144,
   "metadata": {
    "collapsed": false
   },
   "outputs": [],
   "source": [
    "gene_length = end - start\n",
    "user_threshold = None\n",
    "method=\"binomial\"\n",
    "binom_alpha=0.05\n",
    "exons = \"/home/gpratt/clipper/clipper/data/regions/hg19_exons.bed\"\n",
    "max_gap = 15\n",
    "min_reads = 3\n",
    "SloP = True\n",
    "algorithm=\"spline\"\n",
    "windowsize=1000\n",
    "\n"
   ]
  },
  {
   "cell_type": "code",
   "execution_count": 145,
   "metadata": {
    "collapsed": false
   },
   "outputs": [],
   "source": [
    "nreads_in_gene = sum(pos_counts)\n",
    "gene_length = int(gene_length)\n",
    "lengths = [gene_length - 1 if read >= gene_length else read for read in lengths]\n",
    "\n",
    "#pre-mRNA Threshold\n",
    "if user_threshold is None:\n",
    "    if method == \"binomial\":  #Uses Binomial Distribution to get cutoff if specified by user\n",
    "        #print len(lengths), gene_length, binom_alpha\n",
    "        premRNA_threshold = get_FDR_cutoff_binom(lengths, gene_length, binom_alpha)\n",
    "        #print premRNA_threshold\n",
    "    elif method == \"random\":\n",
    "        premRNA_threshold = get_FDR_cutoff_mean(readlengths=lengths,\n",
    "                                             genelength=gene_length,\n",
    "                                             alpha=fdr_alpha)\n",
    "    else:\n",
    "        raise ValueError(\"Method %s does not exist\" % (method))\n",
    "else:\n",
    "    logging.info(\"using user threshold\")\n",
    "    premRNA_threshold = user_threshold\n",
    "\n",
    "#mRNA Threshold\n",
    "exons = pybedtools.BedTool(exons)\n",
    "exons = exons.filter(lambda x: x.name == interval.attrs['gene_id']).saveas()\n",
    "\n",
    "total_exonic_reads = []\n",
    "total_exonic_length = 0\n",
    "htseq_exons = HTSeq.GenomicArrayOfSets(chroms=\"auto\", stranded=False)\n",
    "\n",
    "for exon, exon_interval in zip(exons, bed_to_genomic_interval(exons)):\n",
    "    exon.stop += 1\n",
    "    exonic_reads = get_reads_in_interval_pysam(exon, interval.start, read_locations)\n",
    "\n",
    "    exon_read_lengths = read_lengths_from_pysam(exonic_reads)\n",
    "    exon_read_lengths = [exon_interval.length - 1 if read > exon_interval.length else read for read in exon_read_lengths]\n",
    "    total_exonic_reads += exon_read_lengths\n",
    "    total_exonic_length += exon_interval.length\n",
    "    htseq_exons[exon_interval] += 'exon'\n",
    "\n",
    "mRNA_threshold = get_FDR_cutoff_binom(total_exonic_reads, total_exonic_length, binom_alpha)\n",
    "if not isinstance(premRNA_threshold, int):\n",
    "    raise TypeError\n",
    "\n",
    "#these are what is built in this dict, complicated enough that it might\n",
    "#be worth turning into an object\n",
    "peak_dict = {}\n",
    "peak_dict['clusters'] = []\n",
    "peak_dict['sections'] = {}\n",
    "peak_dict['nreads'] = int(nreads_in_gene)\n",
    "peak_dict['threshold'] = premRNA_threshold\n",
    "peak_dict['loc'] = interval\n",
    "\n",
    "peak_number = 0\n",
    "\n",
    "sections = find_sections(wiggle, max_gap)\n",
    "if plotit:\n",
    "    plot_sections(wiggle, sections, premRNA_threshold)\n"
   ]
  },
  {
   "cell_type": "code",
   "execution_count": 146,
   "metadata": {
    "collapsed": false
   },
   "outputs": [
    {
     "name": "stdout",
     "output_type": "stream",
     "text": [
      "found\n"
     ]
    }
   ],
   "source": [
    "for sect in sections:\n",
    "\n",
    "    sectstart, sectstop = sect\n",
    "    sect_length = sectstop - sectstart + 1\n",
    "    data = wiggle[sectstart:(sectstop + 1)]\n",
    "\n",
    "    cur_interval = HTSeq.GenomicInterval(str(interval.chrom),\n",
    "                                         sectstart + interval.start,\n",
    "                                         sectstop + interval.start + 1,\n",
    "                                         strand)\n",
    "\n",
    "    #Logic to use variable thresholds for exons or introns, still superseded by superLocal logic\n",
    "    overlaps_exon = len(reduce( set.union, ( val for iv, val in htseq_exons[cur_interval].steps()))) > 0\n",
    "    gene_threshold = mRNA_threshold if overlaps_exon else premRNA_threshold\n",
    "\n",
    "    #maybe make a function that takes a GI and converts it into a pybedtools interval\n",
    "    cur_pybedtools_interval = pybedtools.create_interval_from_list([interval.chrom,\n",
    "                                          sectstart + interval.start,\n",
    "                                          sectstop + interval.start + 1,\n",
    "                                          interval.name,\n",
    "                                          interval.score,\n",
    "                                          strand])\n",
    "\n",
    "    Nreads = count_reads_in_interval_pysam(cur_pybedtools_interval, interval.start, read_locations)\n",
    "\n",
    "    cts = pos_counts[sectstart:(sectstop + 1)]\n",
    "    xvals = arange(len(data))\n",
    "    peak_dict['sections'][sect] = {}\n",
    "    peak_dict['sections'][sect]['nreads'] = int(Nreads)\n",
    "\n",
    "    #makes sure there are enough reads\n",
    "    if Nreads < min_reads:\n",
    "        logging.info(\"\"\"%d is not enough reads, skipping section: %s\"\"\" % (Nreads, sect))\n",
    "        peak_dict['sections'][sect]['tried'] = False\n",
    "        continue\n",
    "    else:\n",
    "        logging.info(\"\"\"Analyzing section %s with %d reads\"\"\" % (sect, Nreads))\n",
    "        pass\n",
    "\n",
    "    if user_threshold is None:\n",
    "        if SloP:\n",
    "            half_width = 500\n",
    "            section_start = max(0, sectstart + interval.start - half_width)\n",
    "            section_stop = sectstop + interval.start + 1 + half_width\n",
    "            expanded_sect_length = section_stop - section_start\n",
    "\n",
    "            cur_pybedtools_interval = pybedtools.create_interval_from_list([interval.chrom,\n",
    "                                                                            section_start,\n",
    "                                                                            section_stop,\n",
    "                                                                            interval.name,\n",
    "                                                                            interval.score,\n",
    "                                                                            strand])\n",
    "\n",
    "            expanded_Nreads = get_reads_in_interval_pysam(cur_pybedtools_interval, interval.start, read_locations)\n",
    "            sect_read_lengths = read_lengths_from_pysam(expanded_Nreads)\n",
    "            sect_read_lengths = [sect_length - 1 if read > sect_length else read for read in sect_read_lengths]\n",
    "            peak_dict['sections'][sect]['expanded_Nreads'] = len(expanded_Nreads)\n",
    "\n",
    "            if method == \"binomial\":  #Uses Binomial Distribution to get cutoff if specified by user\n",
    "                slop_threshold = get_FDR_cutoff_binom(readlengths=sect_read_lengths,\n",
    "                                                      genelength=expanded_sect_length,\n",
    "                                                      alpha=binom_alpha)\n",
    "            elif method == \"random\":\n",
    "                #use the minimum FDR cutoff between superlocal and gene-wide calculations\n",
    "                slop_threshold = get_FDR_cutoff_mean(readlengths=sect_read_lengths,\n",
    "                                                     genelength=expanded_sect_length,\n",
    "                                                     alpha=fdr_alpha)\n",
    "            else:\n",
    "                raise ValueError(\"Method %s does not exist\" % (method))\n",
    "            threshold = max(gene_threshold, slop_threshold)\n",
    "\n",
    "            logging.info(\"Using super-local threshold %d\" %(threshold))\n",
    "\n",
    "\n",
    "        else:\n",
    "            threshold = gene_threshold\n",
    "    else:\n",
    "        threshold = user_threshold\n",
    "\n",
    "    #saves threshold for each individual section\n",
    "    peak_dict['sections'][sect]['threshold'] = threshold\n",
    "    peak_dict['sections'][sect]['nreads'] = int(Nreads)\n",
    "    peak_dict['sections'][sect]['tried'] = True\n",
    "    peak_dict['sections'][sect]['nPeaks'] = 0\n",
    "\n",
    "    if max(data) < threshold:\n",
    "        logging.info(\"data does not excede threshold, stopping\")\n",
    "        continue\n",
    "\n",
    "    if algorithm == \"spline\":\n",
    "        data = map(float, data)\n",
    "        #Magic number for initial smoothing, but it works\n",
    "        initial_smoothing_value = ((sectstop - sectstart + 1)**(1/3)) + 10\n",
    "\n",
    "        peak_dict['sections'][sect]['smoothing_factor'] = initial_smoothing_value\n",
    "\n",
    "        logging.info(\"initial smoothing value: %.2f\" % initial_smoothing_value)\n",
    "        fitter = SmoothingSpline(xvals, data, smoothing_factor=initial_smoothing_value,\n",
    "                        lossFunction=\"get_turn_penalized_residuals\",\n",
    "                        threshold=threshold,\n",
    "                        num_reads=Nreads)\n",
    "\n",
    "    elif algorithm == \"gaussian\":\n",
    "        cts = map(float, cts)\n",
    "        fitter = GaussMix(xvals, cts)\n",
    "\n",
    "    elif algorithm == \"classic\":\n",
    "        data = map(float, data)\n",
    "        fitter = Classic(xvals, data, max_width, min_width, max_gap)\n",
    "\n",
    "    try:\n",
    "        peak_definitions = fitter.peaks()\n",
    "        logging.info(\"optimized smoothing value: %.2f\" % fitter.smoothing_factor)\n",
    "        peak_dict['sections'][sect]['final_smoothing_factor'] = fitter.smoothing_factor\n",
    "        if peak_definitions is None:\n",
    "            numpeaks = 0\n",
    "        else:\n",
    "            numpeaks = len(peak_definitions)\n",
    "        logging.info(\"I identified %d potential peaks\" % (numpeaks))\n",
    "\n",
    "    except Exception as error:\n",
    "        logging.error(\"peak finding failed:, %s, %s\" % (interval.name, error))\n",
    "        raise error\n",
    "\n",
    "    #subsections that are above threshold\n",
    "    #peak center is actually the location where we think binding should\n",
    "    #occur, not the average of start and stop\n",
    "    \n",
    "    #Need to get all ranges, count number of reads in each range and compute from there\n",
    "    for peak_start, peak_stop, peak_center in peak_definitions:\n",
    "\n",
    "        genomic_start = interval.start + sectstart + peak_start\n",
    "        genomic_stop = interval.start + sectstart + peak_stop\n",
    "\n",
    "        cur_pybedtools_interval = pybedtools.create_interval_from_list([interval.chrom,\n",
    "                                                                            genomic_start,\n",
    "                                                                            genomic_stop,\n",
    "                                                                            interval.name,\n",
    "                                                                            interval.score,\n",
    "                                                                            strand])\n",
    "\n",
    "        number_reads_in_peak = count_reads_in_interval_pysam(cur_pybedtools_interval, interval.start, read_locations)\n",
    "\n",
    "        peak_length = genomic_stop - genomic_start + 1\n",
    "\n",
    "        logging.info(\"\"\"Peak %d (%d - %d) has %d\n",
    "                      reads\"\"\" % (peak_number, peak_start,\n",
    "                                 (peak_stop + 1), number_reads_in_peak))\n",
    "\n",
    "        #highest point in start stop\n",
    "        genomic_center = interval.start + sectstart + peak_center\n",
    "\n",
    "        #makes it thicker so we can see on the browser\n",
    "        #error checking logic to keep bed files from breaking\n",
    "        thick_start = max(genomic_center - 2, genomic_start)\n",
    "        thick_stop = min(genomic_center + 2, genomic_stop)\n",
    "\n",
    "\n",
    "        #super local logic\n",
    "        area_start = max(0, (peak_center + sectstart) - windowsize)\n",
    "        area_stop = min((peak_center + sectstart) + windowsize, len(wiggle))\n",
    "\n",
    "        cur_pybedtools_interval = pybedtools.create_interval_from_list([interval.chrom,\n",
    "                                                                            interval.start + area_start,\n",
    "                                                                            interval.start + area_stop,\n",
    "                                                                            interval.name,\n",
    "                                                                            interval.score,\n",
    "                                                                            strand])\n",
    "\n",
    "        number_reads_in_area = count_reads_in_interval_pysam(cur_pybedtools_interval, interval.start, read_locations)\n",
    "        area_length = area_stop - area_start + 1\n",
    "\n",
    "        peak_dict['clusters'].append(Peak(chrom=interval.chrom,\n",
    "                                          genomic_start=genomic_start,\n",
    "                                          genomic_stop=genomic_stop,\n",
    "                                          gene_name=interval.attrs['gene_id'],\n",
    "                                          strand=interval.strand,\n",
    "                                          thick_start=thick_start,\n",
    "                                          thick_stop=thick_stop,\n",
    "                                          peak_number=peak_number,\n",
    "                                          number_reads_in_peak=number_reads_in_peak,\n",
    "                                          size=peak_length,\n",
    "                                          p=0,\n",
    "                                          effective_length=0,\n",
    "                                          peak_length=peak_length,\n",
    "                                          area_reads=number_reads_in_area,\n",
    "                                          area_size=area_length,\n",
    "                                          nreads_in_gene=nreads_in_gene,\n",
    "                                          #nreads_in_input=input_number_reads_in_peak,\n",
    "                                          ))\n",
    "\n",
    "        peak_number += 1\n",
    "        peak_dict['sections'][sect]['nPeaks'] += 1\n",
    "\n",
    "    if sectstart < peak_start_mine and sectstop > peak_start_mine:\n",
    "        print \"found\"\n",
    "        break"
   ]
  },
  {
   "cell_type": "code",
   "execution_count": 147,
   "metadata": {
    "collapsed": false
   },
   "outputs": [],
   "source": [
    "spline_values = array([int(x) for x in fitter.spline(fitter.xRange)])"
   ]
  },
  {
   "cell_type": "code",
   "execution_count": 148,
   "metadata": {
    "collapsed": false
   },
   "outputs": [
    {
     "data": {
      "text/plain": [
       "[(166, 208, 187), (252, 296, 270), (338, 419, 388)]"
      ]
     },
     "execution_count": 148,
     "metadata": {},
     "output_type": "execute_result"
    }
   ],
   "source": [
    "peak_definitions"
   ]
  },
  {
   "cell_type": "code",
   "execution_count": 149,
   "metadata": {
    "collapsed": true
   },
   "outputs": [],
   "source": [
    "dataviz.Figure??"
   ]
  },
  {
   "cell_type": "code",
   "execution_count": 150,
   "metadata": {
    "collapsed": true
   },
   "outputs": [],
   "source": [
    "sns.set_style(\"ticks\")"
   ]
  },
  {
   "cell_type": "code",
   "execution_count": 187,
   "metadata": {
    "collapsed": false
   },
   "outputs": [
    {
     "data": {
      "image/png": "[encoded data removed]",
      "text/plain": [
       "<matplotlib.figure.Figure at 0x2ad7cd314750>"
      ]
     },
     "metadata": {},
     "output_type": "display_data"
    }
   ],
   "source": [
    "num_cols = 3\n",
    "num_rows = 1\n",
    "\n",
    "with dataviz.Figure(os.path.join(img_dir, \"clipper_smoothing_raw.svg\"), figsize=(1.5 * num_cols, 1.5 * num_rows)) as fig:\n",
    "\n",
    "    ax= fig.add_subplot(1,1,1)\n",
    "    ax.plot(data, alpha=.7, linewidth=3, label=\"Real Data\")\n",
    "    #ax.plot(spline_values, alpha=.7, linewidth=3, label=\"Smoothed Data\")\n",
    "    ax.set_ylim(0,)\n",
    "    ax.legend(fontsize=10, loc=0)\n",
    "    sns.despine(ax=ax)\n",
    "    ax.set_ylabel(\"Number\\nof Reads\", fontsize=10)\n",
    "    ax.set_xlabel(\"Location of Reads (bp)\", fontsize=10)\n",
    "    [tick.set_fontsize(8) for tick in ax.get_xticklabels()]\n",
    "    [tick.set_fontsize(8) for tick in ax.get_yticklabels()]"
   ]
  },
  {
   "cell_type": "code",
   "execution_count": 188,
   "metadata": {
    "collapsed": false
   },
   "outputs": [
    {
     "data": {
      "image/png": "[encoded data removed]",
      "text/plain": [
       "<matplotlib.figure.Figure at 0x2ad7cd361850>"
      ]
     },
     "metadata": {},
     "output_type": "display_data"
    }
   ],
   "source": [
    "num_cols = 3\n",
    "num_rows = 1\n",
    "\n",
    "with dataviz.Figure(os.path.join(img_dir, \"clipper_smoothing.svg\"), figsize=(1.5 * num_cols, 1.5 * num_rows)) as fig:\n",
    "\n",
    "    ax= fig.add_subplot(1,1,1)\n",
    "    ax.plot(data, alpha=.7, linewidth=3, label=\"Real Data\")\n",
    "    ax.plot(spline_values, alpha=.7, linewidth=3, label=\"Smoothed Data\")\n",
    "    ax.set_ylim(0,)\n",
    "    ax.legend(fontsize=10, loc=0)\n",
    "    sns.despine(ax=ax)\n",
    "    ax.set_ylabel(\"Number\\nof Reads\", fontsize=10)\n",
    "    ax.set_xlabel(\"Location of Reads (bp)\", fontsize=10)\n",
    "    [tick.set_fontsize(8) for tick in ax.get_xticklabels()]\n",
    "    [tick.set_fontsize(8) for tick in ax.get_yticklabels()]\n"
   ]
  },
  {
   "cell_type": "code",
   "execution_count": 195,
   "metadata": {
    "collapsed": false
   },
   "outputs": [
    {
     "data": {
      "image/png": "[encoded data removed]",
      "text/plain": [
       "<matplotlib.figure.Figure at 0x2ad7cd30e290>"
      ]
     },
     "metadata": {},
     "output_type": "display_data"
    }
   ],
   "source": [
    "with dataviz.Figure(os.path.join(img_dir, \"clipper_smoothing_with_cutoff.svg\"), figsize=(1.5 * num_cols, 1.5 * num_rows)) as fig:\n",
    "\n",
    "    ax= fig.add_subplot(1,1,1)\n",
    "    ax.plot(data, alpha=.7, linewidth=3, label=\"Real Data\")\n",
    "    ax.plot(spline_values, linewidth=3, alpha=.7, label=\"Smoothed Data\")\n",
    "    ax.set_ylim(0,)\n",
    "    sns.despine(ax=ax)\n",
    "    ax.set_ylabel(\"Number\\nof Reads\", fontsize=10)\n",
    "    ax.set_xlabel(\"Location of Reads (bp)\", fontsize=10)\n",
    "    [tick.set_fontsize(8) for tick in ax.get_xticklabels()]\n",
    "    [tick.set_fontsize(8) for tick in ax.get_yticklabels()]\n",
    "    ax.axhline(threshold, alpha=.7, linewidth=1, linestyle=\"dashed\", color=\".7\")\n",
    "    ax.legend(loc=0)\n"
   ]
  },
  {
   "cell_type": "code",
   "execution_count": 192,
   "metadata": {
    "collapsed": false
   },
   "outputs": [
    {
     "data": {
      "image/png": "[encoded data removed]",
      "text/plain": [
       "<matplotlib.figure.Figure at 0x2ad7ccaef0d0>"
      ]
     },
     "metadata": {},
     "output_type": "display_data"
    }
   ],
   "source": [
    "with dataviz.Figure(os.path.join(img_dir, \"clipper_smoothing_with_cutoff_peaks.svg\"), figsize=(1.5 * num_cols, 1.5 * num_rows)) as fig:\n",
    "\n",
    "    ax= fig.add_subplot(1,1,1)\n",
    "    ax.plot(data, alpha=.7, linewidth=3, label=\"Real Data\")\n",
    "    ax.plot(spline_values, linewidth=3, alpha=.7, label=\"Smoothed Data\")\n",
    "    ax.set_ylim(0,)\n",
    "    sns.despine(ax=ax)\n",
    "    ax.set_ylabel(\"Number\\nof Reads\", fontsize=10)\n",
    "    ax.set_xlabel(\"Location of Reads (bp)\", fontsize=10)\n",
    "    [tick.set_fontsize(8) for tick in ax.get_xticklabels()]\n",
    "    [tick.set_fontsize(8) for tick in ax.get_yticklabels()]\n",
    "    ax.axhline(threshold, alpha=.7, linewidth=1, linestyle=\"dashed\", color=\".7\")\n",
    "    \n",
    "    for x, (start, stop, middle) in enumerate(peak_definitions):\n",
    "        if x == 0:\n",
    "            label=\"Potental Peak\"\n",
    "        else: \n",
    "            label = \"\"\n",
    "        ax.axvspan(start, stop, ymin=.90, label=label, color='b')\n",
    "    ax.legend(fontsize=10, loc=0)\n"
   ]
  },
  {
   "cell_type": "code",
   "execution_count": 193,
   "metadata": {
    "collapsed": false
   },
   "outputs": [
    {
     "data": {
      "image/png": "[encoded data removed]",
      "text/plain": [
       "<matplotlib.figure.Figure at 0x2ad7c9afcc90>"
      ]
     },
     "metadata": {},
     "output_type": "display_data"
    }
   ],
   "source": [
    "with dataviz.Figure(os.path.join(img_dir, \"clipper_smoothing_with_cutoff_peaks_final.svg\"), figsize=(1.5 * num_cols, 1.5 * num_rows)) as fig:\n",
    "\n",
    "    ax= fig.add_subplot(1,1,1)\n",
    "    ax.plot(data, alpha=.7, linewidth=3, label=\"Real Data\")\n",
    "    ax.plot(spline_values, linewidth=3, alpha=.7, label=\"Smoothed Data\")\n",
    "    ax.set_ylim(0,)\n",
    "    sns.despine(ax=ax)\n",
    "    ax.set_ylabel(\"Number\\nof Reads\", fontsize=10)\n",
    "    ax.set_xlabel(\"Location of Reads (bp)\", fontsize=10)\n",
    "    [tick.set_fontsize(8) for tick in ax.get_xticklabels()]\n",
    "    [tick.set_fontsize(8) for tick in ax.get_yticklabels()]\n",
    "    ax.axhline(threshold, alpha=.7, linewidth=1, linestyle=\"dashed\", color=\".7\")\n",
    "    \n",
    "    for x, (start, stop, middle) in enumerate(peak_definitions):\n",
    "        if x == 0:\n",
    "            label=\"Peak\"\n",
    "        else: \n",
    "            label = \"\"\n",
    "        ax.axvspan(start, stop, ymin=.90, label=label, color='b')\n",
    "    ax.legend(fontsize=10, loc=0)\n"
   ]
  },
  {
   "cell_type": "code",
   "execution_count": null,
   "metadata": {
    "collapsed": true
   },
   "outputs": [],
   "source": []
  }
 ],
 "metadata": {
  "kernelspec": {
   "display_name": "Python 2",
   "language": "python",
   "name": "python2"
  },
  "language_info": {
   "codemirror_mode": {
    "name": "ipython",
    "version": 2
   },
   "file_extension": ".py",
   "mimetype": "text/x-python",
   "name": "python",
   "nbconvert_exporter": "python",
   "pygments_lexer": "ipython2",
   "version": "2.7.12"
  }
 },
 "nbformat": 4,
 "nbformat_minor": 0
}
