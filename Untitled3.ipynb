{
 "cells": [
  {
   "cell_type": "code",
   "execution_count": 33,
   "metadata": {
    "collapsed": true
   },
   "outputs": [],
   "source": [
    "import pybedtools\n",
    "from clipper.src import CLIP_analysis, get_genomic_regions\n",
    "import os\n",
    "import clipper"
   ]
  },
  {
   "cell_type": "code",
   "execution_count": 34,
   "metadata": {
    "collapsed": true
   },
   "outputs": [],
   "source": [
    "genomic_features = get_genomic_regions.GenomicFeatures(\"hg19\")\n",
    "features = genomic_features.get_feature_locations()\n",
    "genomic_regions = genomic_features.get_genomic_regions()\n"
   ]
  },
  {
   "cell_type": "code",
   "execution_count": 2,
   "metadata": {
    "collapsed": true
   },
   "outputs": [],
   "source": [
    "assigned_regions, regions = CLIP_analysis.regions_generator()\n"
   ]
  },
  {
   "cell_type": "code",
   "execution_count": 17,
   "metadata": {
    "collapsed": true
   },
   "outputs": [],
   "source": [
    "clusters_bed = pybedtools.BedTool(\"/home/gpratt/projects/encode/analysis/encode_v8/Stefan_1to25_Imp1_IGF2BP1.merged.r2.peaks.bed\")"
   ]
  },
  {
   "cell_type": "code",
   "execution_count": 6,
   "metadata": {
    "collapsed": true
   },
   "outputs": [],
   "source": [
    "clusters = os.path.basename(clusters_bed.fn)\n",
    "assigned_dir = \".\"\n",
    "species =\"hg19\"\n",
    "nrand = 3"
   ]
  },
  {
   "cell_type": "code",
   "execution_count": 8,
   "metadata": {
    "collapsed": false
   },
   "outputs": [
    {
     "name": "stdout",
     "output_type": "stream",
     "text": [
      "chr1\t134989\t135041\tENSG00000237683.5_0_9\t5.70240626459e-05\t-\t135007\t135011\n",
      " chr1\t135156\t135270\tENSG00000268903.1_0_6,ENSG00000237683.5_1_5,ENSG00000268903.1_1_5,ENSG00000237683.5_2_4\t0.00240472121891,0.00314965373128,0.00918068505768,0.0126783385927\t-\t135177\t135181\n",
      " chr1\t137790\t137853\tENSG00000237683.5_3_15,ENSG00000269981.1_0_15\t2.01638338403e-09,6.59308570372e-06\t-\t137814\t137818\n",
      " chr1\t137971\t137987\tENSG00000237683.5_4_4\t0.0117126711016\t-\t137976\t137980\n",
      " chr1\t138395\t138424\tENSG00000237683.5_5_5\t0.0241451675437\t-\t138407\t138411\n",
      " chr1\t138820\t138854\tENSG00000237683.5_6_7\t0.00318507162169\t-\t138842\t138846\n",
      " chr1\t139025\t139113\tENSG00000237683.5_7_30\t2.9931359122e-16\t-\t139048\t139052\n",
      " chr1\t139308\t139358\tENSG00000237683.5_8_12\t1.68469475427e-05\t-\t139333\t139337\n",
      " chr1\t324718\t324813\tENSG00000237094.6_0_12\t4.96774445657e-10\t+\t324750\t324754\n",
      " chr1\t569831\t569862\tENSG00000198744.5_0_27\t1.27314865392e-05\t+\t569841\t569845\n",
      " None\n"
     ]
    }
   ],
   "source": [
    "cluster_regions = CLIP_analysis.assign_to_regions(tool=clusters_bed, clusters=clusters, assigned_dir=assigned_dir, species=species, nrand=nrand)"
   ]
  },
  {
   "cell_type": "code",
   "execution_count": 29,
   "metadata": {
    "collapsed": true
   },
   "outputs": [],
   "source": [
    "clusters_bed = pybedtools.BedTool(\"/home/elvannostrand/data/clip/CLIPseq_analysis/IGF2BP_v8_20151112/S01_01_overlapped_with_S05_01.l10_0_l2f_-99.bed.fixed.bed\")"
   ]
  },
  {
   "cell_type": "code",
   "execution_count": 30,
   "metadata": {
    "collapsed": false
   },
   "outputs": [],
   "source": [
    "clusters_bed = pybedtools.BedTool(CLIP_analysis.make_unique(clusters_bed)).saveas()\n"
   ]
  },
  {
   "cell_type": "code",
   "execution_count": 31,
   "metadata": {
    "collapsed": true
   },
   "outputs": [],
   "source": [
    "clusters = os.path.basename(clusters_bed.fn)\n",
    "assigned_dir = \".\"\n",
    "species =\"hg19\"\n",
    "nrand = 3"
   ]
  },
  {
   "cell_type": "code",
   "execution_count": 32,
   "metadata": {
    "collapsed": false,
    "scrolled": false
   },
   "outputs": [
    {
     "name": "stdout",
     "output_type": "stream",
     "text": [
      "Not Valid bed12 file, continuing processing, some things may be strange\n",
      "chr1\t134989\t135041\t0.609418121449565_6111\t1.31835526675471\t-\n",
      " chr1\t135169\t135191\t0.636952405478907_26012\t2.05532086092092\t-\n",
      " chr1\t135239\t135260\t0.15776531365276_26542\t0.733392766033559\t-\n",
      " chr1\t137797\t137851\t0.96657624451305_3905\t1.31835526675471\t-\n",
      " chr1\t137971\t137987\t0_29075\t0.266607233966441\t-\n",
      " chr1\t139025\t139113\t5.63041310926365_5919\t3.64028336164208\t-\n",
      " chr1\t139308\t139358\t2.04421607108309_919\t3.31835526675472\t-\n",
      " chr1\t324718\t324813\t1.55005901122666_4788\t2.31835526675471\t+\n",
      " chr1\t569883\t569961\t0_31062\t0.3921381160503\t+\n",
      " chr1\t664703\t664747\t0.866141874796665_15460\t2.31835526675471\t-\n",
      " None\n",
      "Not Valid bed12 file, continuing processing, some things may be strange\n",
      "Not Valid bed12 file, continuing processing, some things may be strange\n",
      "Not Valid bed12 file, continuing processing, some things may be strange\n",
      "Not Valid bed12 file, continuing processing, some things may be strange\n",
      "Not Valid bed12 file, continuing processing, some things may be strange\n"
     ]
    }
   ],
   "source": [
    "cluster_regions = CLIP_analysis.assign_to_regions(tool=clusters_bed, clusters=clusters, assigned_dir=assigned_dir, species=species, nrand=nrand)"
   ]
  },
  {
   "cell_type": "code",
   "execution_count": 41,
   "metadata": {
    "collapsed": false
   },
   "outputs": [],
   "source": [
    "bedtracks = {}\n",
    "\n",
    "regions, assigned_regions = CLIP_analysis.regions_generator()\n",
    "\n",
    "for region in regions:\n",
    "    bedtracks[region] = pybedtools.BedTool(os.path.join(clipper.data_dir(), \"regions\", \"%s_%s.bed\" % (species,region)))\n"
   ]
  },
  {
   "cell_type": "code",
   "execution_count": 42,
   "metadata": {
    "collapsed": false
   },
   "outputs": [
    {
     "name": "stdout",
     "output_type": "stream",
     "text": [
      "Not Valid bed12 file, continuing processing, some things may be strange\n"
     ]
    }
   ],
   "source": [
    "offsets = CLIP_analysis.get_offsets_bed12(clusters_bed)\n"
   ]
  },
  {
   "cell_type": "code",
   "execution_count": 43,
   "metadata": {
    "collapsed": true
   },
   "outputs": [],
   "source": [
    "tool = clusters_bed.sort().merge(s=True, c=\"4,5,6\", o=\"collapse,collapse,collapse\").each(CLIP_analysis.fix_strand).saveas()\n"
   ]
  },
  {
   "cell_type": "code",
   "execution_count": 44,
   "metadata": {
    "collapsed": false
   },
   "outputs": [],
   "source": [
    "remaining_clusters = CLIP_analysis.adjust_offsets(tool, offsets)"
   ]
  },
  {
   "cell_type": "code",
   "execution_count": 45,
   "metadata": {
    "collapsed": false
   },
   "outputs": [],
   "source": [
    "remaining_clusters, overlapping = CLIP_analysis.intersection(remaining_clusters, b=bedtracks['cds'])\n"
   ]
  },
  {
   "cell_type": "code",
   "execution_count": 46,
   "metadata": {
    "collapsed": false
   },
   "outputs": [],
   "source": [
    "bed_dict = {'all': {'rand': {}}}\n",
    "\n",
    "bed_dict['cds'] = {'real': overlapping.sort(stream=True).saveas(),\n",
    "                            'rand': {}}"
   ]
  },
  {
   "cell_type": "code",
   "execution_count": 47,
   "metadata": {
    "collapsed": false
   },
   "outputs": [
    {
     "name": "stdout",
     "output_type": "stream",
     "text": [
      "Not Valid bed12 file, continuing processing, some things may be strange\n"
     ]
    }
   ],
   "source": [
    "offset_dict = CLIP_analysis.get_offsets_bed12(bed_dict['cds']['real'])\n"
   ]
  },
  {
   "cell_type": "code",
   "execution_count": 48,
   "metadata": {
    "collapsed": true
   },
   "outputs": [],
   "source": [
    "random_intervals = bed_dict['cds']['real'].shuffle(genome=species, incl=bedtracks['cds'].fn).sort()\n"
   ]
  },
  {
   "cell_type": "code",
   "execution_count": 49,
   "metadata": {
    "collapsed": false
   },
   "outputs": [
    {
     "ename": "OverflowError",
     "evalue": "can't convert negative value to CHRPOS",
     "output_type": "error",
     "traceback": [
      "\u001b[1;31m---------------------------------------------------------------------------\u001b[0m",
      "\u001b[1;31mOverflowError\u001b[0m                             Traceback (most recent call last)",
      "\u001b[1;32m<ipython-input-49-af342714bbff>\u001b[0m in \u001b[0;36m<module>\u001b[1;34m()\u001b[0m\n\u001b[1;32m----> 1\u001b[1;33m \u001b[0mrandom_intervals\u001b[0m \u001b[1;33m=\u001b[0m \u001b[0mCLIP_analysis\u001b[0m\u001b[1;33m.\u001b[0m\u001b[0mfix_shuffled_strand\u001b[0m\u001b[1;33m(\u001b[0m\u001b[0mrandom_intervals\u001b[0m\u001b[1;33m,\u001b[0m \u001b[0mbedtracks\u001b[0m\u001b[1;33m[\u001b[0m\u001b[1;34m'cds'\u001b[0m\u001b[1;33m]\u001b[0m\u001b[1;33m.\u001b[0m\u001b[0mfn\u001b[0m\u001b[1;33m)\u001b[0m\u001b[1;33m\u001b[0m\u001b[0m\n\u001b[0m",
      "\u001b[1;32m/home/gpratt/anaconda/lib/python2.7/site-packages/clipper-0.2.0-py2.7-linux-x86_64.egg/clipper/src/CLIP_analysis.pyc\u001b[0m in \u001b[0;36mfix_shuffled_strand\u001b[1;34m(shuffled_tool, regions_file)\u001b[0m\n\u001b[0;32m    162\u001b[0m \u001b[1;33m\u001b[0m\u001b[0m\n\u001b[0;32m    163\u001b[0m     \u001b[0mregions_tool\u001b[0m \u001b[1;33m=\u001b[0m \u001b[0mpybedtools\u001b[0m\u001b[1;33m.\u001b[0m\u001b[0mBedTool\u001b[0m\u001b[1;33m(\u001b[0m\u001b[0mregions_file\u001b[0m\u001b[1;33m)\u001b[0m\u001b[1;33m\u001b[0m\u001b[0m\n\u001b[1;32m--> 164\u001b[1;33m     \u001b[0mintersected\u001b[0m \u001b[1;33m=\u001b[0m \u001b[0mshuffled_tool\u001b[0m\u001b[1;33m.\u001b[0m\u001b[0mintersect\u001b[0m\u001b[1;33m(\u001b[0m\u001b[0mregions_file\u001b[0m\u001b[1;33m,\u001b[0m \u001b[0mwao\u001b[0m\u001b[1;33m=\u001b[0m\u001b[0mTrue\u001b[0m\u001b[1;33m,\u001b[0m \u001b[0mstream\u001b[0m\u001b[1;33m=\u001b[0m\u001b[0mTrue\u001b[0m\u001b[1;33m,\u001b[0m \u001b[0msorted\u001b[0m\u001b[1;33m=\u001b[0m\u001b[0mTrue\u001b[0m\u001b[1;33m)\u001b[0m\u001b[1;33m.\u001b[0m\u001b[0msaveas\u001b[0m\u001b[1;33m(\u001b[0m\u001b[1;33m)\u001b[0m\u001b[1;33m\u001b[0m\u001b[0m\n\u001b[0m\u001b[0;32m    165\u001b[0m \u001b[1;33m\u001b[0m\u001b[0m\n\u001b[0;32m    166\u001b[0m     \u001b[1;31m#Don't think about refactoring this because of leaky files in pybedtools\u001b[0m\u001b[1;33m\u001b[0m\u001b[1;33m\u001b[0m\u001b[0m\n",
      "\u001b[1;32m/home/gpratt/anaconda/lib/python2.7/site-packages/pybedtools-0.7.0-py2.7-linux-x86_64.egg/pybedtools/bedtool.pyc\u001b[0m in \u001b[0;36mdecorated\u001b[1;34m(self, *args, **kwargs)\u001b[0m\n\u001b[0;32m    773\u001b[0m             \u001b[1;31m# this calls the actual method in the first place; *result* is\u001b[0m\u001b[1;33m\u001b[0m\u001b[1;33m\u001b[0m\u001b[0m\n\u001b[0;32m    774\u001b[0m             \u001b[1;31m# whatever you get back\u001b[0m\u001b[1;33m\u001b[0m\u001b[1;33m\u001b[0m\u001b[0m\n\u001b[1;32m--> 775\u001b[1;33m             \u001b[0mresult\u001b[0m \u001b[1;33m=\u001b[0m \u001b[0mmethod\u001b[0m\u001b[1;33m(\u001b[0m\u001b[0mself\u001b[0m\u001b[1;33m,\u001b[0m \u001b[1;33m*\u001b[0m\u001b[0margs\u001b[0m\u001b[1;33m,\u001b[0m \u001b[1;33m**\u001b[0m\u001b[0mkwargs\u001b[0m\u001b[1;33m)\u001b[0m\u001b[1;33m\u001b[0m\u001b[0m\n\u001b[0m\u001b[0;32m    776\u001b[0m \u001b[1;33m\u001b[0m\u001b[0m\n\u001b[0;32m    777\u001b[0m             \u001b[1;31m# add appropriate tags\u001b[0m\u001b[1;33m\u001b[0m\u001b[1;33m\u001b[0m\u001b[0m\n",
      "\u001b[1;32m/home/gpratt/anaconda/lib/python2.7/site-packages/pybedtools-0.7.0-py2.7-linux-x86_64.egg/pybedtools/bedtool.pyc\u001b[0m in \u001b[0;36msaveas\u001b[1;34m(self, fn, trackline, compressed)\u001b[0m\n\u001b[0;32m   2885\u001b[0m \u001b[1;33m\u001b[0m\u001b[0m\n\u001b[0;32m   2886\u001b[0m         fn = self._collapse(self, fn=fn, trackline=trackline,\n\u001b[1;32m-> 2887\u001b[1;33m                             compressed=compressed)\n\u001b[0m\u001b[0;32m   2888\u001b[0m         \u001b[1;32mreturn\u001b[0m \u001b[0mBedTool\u001b[0m\u001b[1;33m(\u001b[0m\u001b[0mfn\u001b[0m\u001b[1;33m)\u001b[0m\u001b[1;33m\u001b[0m\u001b[0m\n\u001b[0;32m   2889\u001b[0m \u001b[1;33m\u001b[0m\u001b[0m\n",
      "\u001b[1;32m/home/gpratt/anaconda/lib/python2.7/site-packages/pybedtools-0.7.0-py2.7-linux-x86_64.egg/pybedtools/bedtool.pyc\u001b[0m in \u001b[0;36m_collapse\u001b[1;34m(self, iterable, fn, trackline, compressed)\u001b[0m\n\u001b[0;32m   1211\u001b[0m         \u001b[1;32melse\u001b[0m\u001b[1;33m:\u001b[0m\u001b[1;33m\u001b[0m\u001b[0m\n\u001b[0;32m   1212\u001b[0m             \u001b[1;32mwith\u001b[0m \u001b[0mopen\u001b[0m\u001b[1;33m(\u001b[0m\u001b[0mfn\u001b[0m\u001b[1;33m,\u001b[0m \u001b[1;34m'w'\u001b[0m\u001b[1;33m)\u001b[0m \u001b[1;32mas\u001b[0m \u001b[0mout_\u001b[0m\u001b[1;33m:\u001b[0m\u001b[1;33m\u001b[0m\u001b[0m\n\u001b[1;32m-> 1213\u001b[1;33m                 \u001b[1;32mfor\u001b[0m \u001b[0mi\u001b[0m \u001b[1;32min\u001b[0m \u001b[0miterable\u001b[0m\u001b[1;33m:\u001b[0m\u001b[1;33m\u001b[0m\u001b[0m\n\u001b[0m\u001b[0;32m   1214\u001b[0m                     \u001b[1;32mif\u001b[0m \u001b[0misinstance\u001b[0m\u001b[1;33m(\u001b[0m\u001b[0mi\u001b[0m\u001b[1;33m,\u001b[0m \u001b[1;33m(\u001b[0m\u001b[0mlist\u001b[0m\u001b[1;33m,\u001b[0m \u001b[0mtuple\u001b[0m\u001b[1;33m)\u001b[0m\u001b[1;33m)\u001b[0m\u001b[1;33m:\u001b[0m\u001b[1;33m\u001b[0m\u001b[0m\n\u001b[0;32m   1215\u001b[0m                         \u001b[0mi\u001b[0m \u001b[1;33m=\u001b[0m \u001b[0mcreate_interval_from_list\u001b[0m\u001b[1;33m(\u001b[0m\u001b[0mlist\u001b[0m\u001b[1;33m(\u001b[0m\u001b[0mi\u001b[0m\u001b[1;33m)\u001b[0m\u001b[1;33m)\u001b[0m\u001b[1;33m\u001b[0m\u001b[0m\n",
      "\u001b[1;32m/home/gpratt/anaconda/lib/python2.7/site-packages/pybedtools-0.7.0-py2.7-linux-x86_64.egg/pybedtools/cbedtools.pyx\u001b[0m in \u001b[0;36mpybedtools.cbedtools.IntervalIterator.__next__ (pybedtools/cbedtools.cxx:10356)\u001b[1;34m()\u001b[0m\n\u001b[0;32m    770\u001b[0m         \u001b[1;31m# TODO: optimization: create_interval_from_list should have a version\u001b[0m\u001b[1;33m\u001b[0m\u001b[1;33m\u001b[0m\u001b[0m\n\u001b[0;32m    771\u001b[0m         \u001b[1;31m# that accepts C++ string instances\u001b[0m\u001b[1;33m\u001b[0m\u001b[1;33m\u001b[0m\u001b[0m\n\u001b[1;32m--> 772\u001b[1;33m         \u001b[1;32mreturn\u001b[0m \u001b[0mcreate_interval_from_list\u001b[0m\u001b[1;33m(\u001b[0m\u001b[0mfields\u001b[0m\u001b[1;33m)\u001b[0m\u001b[1;33m\u001b[0m\u001b[0m\n\u001b[0m\u001b[0;32m    773\u001b[0m \u001b[1;33m\u001b[0m\u001b[0m\n\u001b[0;32m    774\u001b[0m \u001b[1;33m\u001b[0m\u001b[0m\n",
      "\u001b[1;32m/home/gpratt/anaconda/lib/python2.7/site-packages/pybedtools-0.7.0-py2.7-linux-x86_64.egg/pybedtools/cbedtools.pyx\u001b[0m in \u001b[0;36mpybedtools.cbedtools.create_interval_from_list (pybedtools/cbedtools.cxx:8470)\u001b[1;34m()\u001b[0m\n\u001b[0;32m    626\u001b[0m         pyb._bed = new BED(\n\u001b[0;32m    627\u001b[0m             \u001b[0mchrom\u001b[0m\u001b[1;33m,\u001b[0m\u001b[1;33m\u001b[0m\u001b[0m\n\u001b[1;32m--> 628\u001b[1;33m             \u001b[0mstart\u001b[0m\u001b[1;33m,\u001b[0m\u001b[1;33m\u001b[0m\u001b[0m\n\u001b[0m\u001b[0;32m    629\u001b[0m             \u001b[0mstop\u001b[0m\u001b[1;33m,\u001b[0m\u001b[1;33m\u001b[0m\u001b[0m\n\u001b[0;32m    630\u001b[0m             \u001b[0mstrand\u001b[0m\u001b[1;33m,\u001b[0m\u001b[1;33m\u001b[0m\u001b[0m\n",
      "\u001b[1;31mOverflowError\u001b[0m: can't convert negative value to CHRPOS"
     ]
    }
   ],
   "source": [
    "random_intervals = CLIP_analysis.fix_shuffled_strand(random_intervals, bedtracks['cds'].fn)\n"
   ]
  },
  {
   "cell_type": "code",
   "execution_count": null,
   "metadata": {
    "collapsed": true
   },
   "outputs": [],
   "source": [
    "regions_tool = pybedtools.BedTool(bedtracks['cds'].fn)\n"
   ]
  },
  {
   "cell_type": "code",
   "execution_count": 50,
   "metadata": {
    "collapsed": false
   },
   "outputs": [
    {
     "data": {
      "text/plain": [
       "13752"
      ]
     },
     "execution_count": 50,
     "metadata": {},
     "output_type": "execute_result"
    }
   ],
   "source": [
    "len(random_intervals)"
   ]
  },
  {
   "cell_type": "code",
   "execution_count": 57,
   "metadata": {
    "collapsed": false
   },
   "outputs": [
    {
     "name": "stdout",
     "output_type": "stream",
     "text": [
      "chr1\t874702\t874740\t0\t0.459252311908837\t-\n",
      " chr1\t880946\t880988\t0.248182212263121\t0.733392766033559\t-\n",
      " chr1\t887394\t887456\t4.37161106994969\t3.31835526675472\t+\n",
      " chr1\t887426\t887457\t0.133299243957501\t0.470358360199765\t-\n",
      " chr1\t899312\t899429\t6.44284181752467,7.27504454084474\t1.4656969828299,1.78175578759496\t+\n",
      " chr1\t979768\t979779\t1.57708201923234\t1.95578518737001\t+\n",
      " chr1\t986908\t986957\t0.124464167358694\t0.385469462613252\t+\n",
      " chr1\t1025751\t1025848\t1.37294153599901\t1.84886998345349\t-\n",
      " chr1\t1120409\t1120450\t1.58369241294012\t1.54074768809116\t+\n",
      " chr1\t1164153\t1164205\t0\t0.3921381160503\t-\n",
      " chr1\t1226462\t1226612\t3.00618915922509\t2.05532086092092\t+\n",
      " chr1\t1230916\t1230962\t0.707079700399994\t1.54074768809116\t-\n",
      " chr1\t1266913\t1267024\t1.55005901122666,0.866141874796665\t2.31835526675471,2.31835526675471\t+\n",
      " chr1\t1273482\t1273523\t0.707079700399994\t1.54074768809116\t-\n",
      " chr1\t1335562\t1335587\t1.77624454634276\t2.43383248417465\t+\n",
      " chr1\t1341113\t1341141\t0.514704561273911\t1.31835526675471\t+\n",
      " chr1\t1387426\t1387445\t0.413862974769207\t1.73339276603356\t-\n",
      " chr1\t1425793\t1425840\t49.7717793511316,63.6571629630836\t3.25302901887677,2.97988690127589\t+\n",
      " chr1\t1475111\t1475143\t2.20880075350112\t2.23589310656274\t+\n",
      " chr1\t1564078\t1564160\t0.866141874796665\t2.31835526675471\t+\n",
      " "
     ]
    }
   ],
   "source": [
    "random_intervals.head(n=20)"
   ]
  },
  {
   "cell_type": "code",
   "execution_count": 25,
   "metadata": {
    "collapsed": false
   },
   "outputs": [
    {
     "ename": "OverflowError",
     "evalue": "can't convert negative value to CHRPOS",
     "output_type": "error",
     "traceback": [
      "\u001b[1;31m---------------------------------------------------------------------------\u001b[0m",
      "\u001b[1;31mOverflowError\u001b[0m                             Traceback (most recent call last)",
      "\u001b[1;32m<ipython-input-25-c6efb0702665>\u001b[0m in \u001b[0;36m<module>\u001b[1;34m()\u001b[0m\n\u001b[1;32m----> 1\u001b[1;33m \u001b[1;32mprint\u001b[0m \u001b[0mpybedtools\u001b[0m\u001b[1;33m.\u001b[0m\u001b[0mcreate_interval_from_list\u001b[0m\u001b[1;33m(\u001b[0m\u001b[1;33m[\u001b[0m\u001b[1;34m\"chr1\"\u001b[0m\u001b[1;33m,\u001b[0m \u001b[1;34m\"1197700\"\u001b[0m\u001b[1;33m,\u001b[0m \u001b[1;34m\"1197758\"\u001b[0m\u001b[1;33m,\u001b[0m \u001b[1;34m\"0\"\u001b[0m\u001b[1;33m,\u001b[0m \u001b[1;34m\"0.318355266754715\"\u001b[0m\u001b[1;33m,\u001b[0m \u001b[1;34m\"-\"\u001b[0m\u001b[1;33m,\u001b[0m \u001b[1;34m\"foo\"\u001b[0m\u001b[1;33m,\u001b[0m \u001b[1;34m\"bar\"\u001b[0m\u001b[1;33m,\u001b[0m \u001b[1;34m\"bam\"\u001b[0m\u001b[1;33m,\u001b[0m \u001b[1;34m\"baz\"\u001b[0m\u001b[1;33m,\u001b[0m \u001b[1;34m\"bizzle\"\u001b[0m\u001b[1;33m,\u001b[0m \u001b[1;34m\"buz\"\u001b[0m\u001b[1;33m,\u001b[0m \u001b[1;34m\"bis\"\u001b[0m\u001b[1;33m]\u001b[0m\u001b[1;33m)\u001b[0m\u001b[1;33m\u001b[0m\u001b[0m\n\u001b[0m",
      "\u001b[1;32m/home/gpratt/anaconda/lib/python2.7/site-packages/pybedtools-0.7.0-py2.7-linux-x86_64.egg/pybedtools/cbedtools.pyx\u001b[0m in \u001b[0;36mpybedtools.cbedtools.create_interval_from_list (pybedtools/cbedtools.cxx:9337)\u001b[1;34m()\u001b[0m\n\u001b[0;32m    575\u001b[0m     \u001b[1;32mreturn\u001b[0m \u001b[0ms\u001b[0m\u001b[1;33m.\u001b[0m\u001b[0misdigit\u001b[0m\u001b[1;33m(\u001b[0m\u001b[1;33m)\u001b[0m\u001b[1;33m\u001b[0m\u001b[0m\n\u001b[0;32m    576\u001b[0m \u001b[1;33m\u001b[0m\u001b[0m\n\u001b[1;32m--> 577\u001b[1;33m \u001b[0mcpdef\u001b[0m \u001b[0mInterval\u001b[0m \u001b[0mcreate_interval_from_list\u001b[0m\u001b[1;33m(\u001b[0m\u001b[0mlist\u001b[0m \u001b[0mfields\u001b[0m\u001b[1;33m)\u001b[0m\u001b[1;33m:\u001b[0m\u001b[1;33m\u001b[0m\u001b[0m\n\u001b[0m\u001b[0;32m    578\u001b[0m     \"\"\"\n\u001b[0;32m    579\u001b[0m     \u001b[0mCreate\u001b[0m \u001b[0man\u001b[0m \u001b[0mInterval\u001b[0m \u001b[0mobject\u001b[0m \u001b[1;32mfrom\u001b[0m \u001b[0ma\u001b[0m \u001b[0mlist\u001b[0m \u001b[0mof\u001b[0m \u001b[0mstrings\u001b[0m\u001b[1;33m.\u001b[0m\u001b[1;33m\u001b[0m\u001b[0m\n",
      "\u001b[1;32m/home/gpratt/anaconda/lib/python2.7/site-packages/pybedtools-0.7.0-py2.7-linux-x86_64.egg/pybedtools/cbedtools.pyx\u001b[0m in \u001b[0;36mpybedtools.cbedtools.create_interval_from_list (pybedtools/cbedtools.cxx:8470)\u001b[1;34m()\u001b[0m\n\u001b[0;32m    626\u001b[0m         pyb._bed = new BED(\n\u001b[0;32m    627\u001b[0m             \u001b[0mchrom\u001b[0m\u001b[1;33m,\u001b[0m\u001b[1;33m\u001b[0m\u001b[0m\n\u001b[1;32m--> 628\u001b[1;33m             \u001b[0mstart\u001b[0m\u001b[1;33m,\u001b[0m\u001b[1;33m\u001b[0m\u001b[0m\n\u001b[0m\u001b[0;32m    629\u001b[0m             \u001b[0mstop\u001b[0m\u001b[1;33m,\u001b[0m\u001b[1;33m\u001b[0m\u001b[0m\n\u001b[0;32m    630\u001b[0m             \u001b[0mstrand\u001b[0m\u001b[1;33m,\u001b[0m\u001b[1;33m\u001b[0m\u001b[0m\n",
      "\u001b[1;31mOverflowError\u001b[0m: can't convert negative value to CHRPOS"
     ]
    }
   ],
   "source": [
    "print pybedtools.create_interval_from_list([\"chr1\", \"1197700\", \"1197758\", \"0\", \"0.318355266754715\", \"-\", \"foo\", \"bar\", \"bam\", \"baz\", \"bizzle\", \"buz\", \"bis\"])"
   ]
  },
  {
   "cell_type": "code",
   "execution_count": 55,
   "metadata": {
    "collapsed": false
   },
   "outputs": [
    {
     "name": "stdout",
     "output_type": "stream",
     "text": [
      "Automatic pdb calling has been turned ON\n"
     ]
    }
   ],
   "source": [
    "%pdb"
   ]
  },
  {
   "cell_type": "code",
   "execution_count": 58,
   "metadata": {
    "collapsed": false
   },
   "outputs": [],
   "source": [
    "intersected = random_intervals.intersect(bedtracks['cds'].fn, wao=True, stream=True, sorted=True)\n"
   ]
  },
  {
   "cell_type": "code",
   "execution_count": 38,
   "metadata": {
    "collapsed": true
   },
   "outputs": [],
   "source": [
    "exons = genomic_regions['exons']\n",
    "bedtool = cluster_regions['all']['real']"
   ]
  },
  {
   "cell_type": "code",
   "execution_count": 37,
   "metadata": {
    "collapsed": false,
    "scrolled": true
   },
   "outputs": [
    {
     "ename": "OverflowError",
     "evalue": "can't convert negative value to CHRPOS",
     "output_type": "error",
     "traceback": [
      "\u001b[1;31m---------------------------------------------------------------------------\u001b[0m",
      "\u001b[1;31mOverflowError\u001b[0m                             Traceback (most recent call last)",
      "\u001b[1;32m<ipython-input-37-b71cbc4d7ed7>\u001b[0m in \u001b[0;36m<module>\u001b[1;34m()\u001b[0m\n\u001b[0;32m      1\u001b[0m features_transcript_closest, features_mrna_closest = CLIP_analysis.get_feature_distances(cluster_regions['all']['real'], features,\n\u001b[1;32m----> 2\u001b[1;33m                                                                                genomic_regions['exons'], )\n\u001b[0m",
      "\u001b[1;32m/home/gpratt/anaconda/lib/python2.7/site-packages/clipper-0.2.0-py2.7-linux-x86_64.egg/clipper/src/CLIP_analysis.pyc\u001b[0m in \u001b[0;36mget_feature_distances\u001b[1;34m(bedtool, features, exons)\u001b[0m\n\u001b[0;32m    425\u001b[0m     \u001b[0mfeatures_transcript_closest\u001b[0m \u001b[1;33m=\u001b[0m \u001b[0mdefaultdict\u001b[0m\u001b[1;33m(\u001b[0m\u001b[1;32mlambda\u001b[0m\u001b[1;33m:\u001b[0m \u001b[0mNone\u001b[0m\u001b[1;33m)\u001b[0m\u001b[1;33m\u001b[0m\u001b[0m\n\u001b[0;32m    426\u001b[0m     \u001b[1;32mfor\u001b[0m \u001b[0mname\u001b[0m\u001b[1;33m,\u001b[0m \u001b[0mfeature\u001b[0m \u001b[1;32min\u001b[0m \u001b[0mfeatures_transcript\u001b[0m\u001b[1;33m.\u001b[0m\u001b[0mitems\u001b[0m\u001b[1;33m(\u001b[0m\u001b[1;33m)\u001b[0m\u001b[1;33m:\u001b[0m\u001b[1;33m\u001b[0m\u001b[0m\n\u001b[1;32m--> 427\u001b[1;33m         \u001b[0mfeatures_transcript_closest\u001b[0m\u001b[1;33m[\u001b[0m\u001b[0mname\u001b[0m\u001b[1;33m]\u001b[0m \u001b[1;33m=\u001b[0m \u001b[0mbeds_center_transcripts\u001b[0m\u001b[1;33m.\u001b[0m\u001b[0mclosest\u001b[0m\u001b[1;33m(\u001b[0m\u001b[0mfeature\u001b[0m\u001b[1;33m,\u001b[0m \u001b[0ms\u001b[0m\u001b[1;33m=\u001b[0m\u001b[0mTrue\u001b[0m\u001b[1;33m,\u001b[0m \u001b[0mD\u001b[0m\u001b[1;33m=\u001b[0m\u001b[1;34m\"b\"\u001b[0m\u001b[1;33m)\u001b[0m\u001b[1;33m.\u001b[0m\u001b[0mfilter\u001b[0m\u001b[1;33m(\u001b[0m\u001b[1;32mlambda\u001b[0m \u001b[0mx\u001b[0m\u001b[1;33m:\u001b[0m \u001b[0mx\u001b[0m\u001b[1;33m[\u001b[0m\u001b[1;33m-\u001b[0m\u001b[1;36m2\u001b[0m\u001b[1;33m]\u001b[0m \u001b[1;33m!=\u001b[0m \u001b[1;34m\".\"\u001b[0m\u001b[1;33m)\u001b[0m\u001b[1;33m.\u001b[0m\u001b[0msaveas\u001b[0m\u001b[1;33m(\u001b[0m\u001b[1;33m)\u001b[0m\u001b[1;33m\u001b[0m\u001b[0m\n\u001b[0m\u001b[0;32m    428\u001b[0m \u001b[1;33m\u001b[0m\u001b[0m\n\u001b[0;32m    429\u001b[0m     \u001b[1;31m#for mrna\u001b[0m\u001b[1;33m\u001b[0m\u001b[1;33m\u001b[0m\u001b[0m\n",
      "\u001b[1;32m/home/gpratt/anaconda/lib/python2.7/site-packages/pybedtools-0.7.0-py2.7-linux-x86_64.egg/pybedtools/bedtool.pyc\u001b[0m in \u001b[0;36mdecorated\u001b[1;34m(self, *args, **kwargs)\u001b[0m\n\u001b[0;32m    773\u001b[0m             \u001b[1;31m# this calls the actual method in the first place; *result* is\u001b[0m\u001b[1;33m\u001b[0m\u001b[1;33m\u001b[0m\u001b[0m\n\u001b[0;32m    774\u001b[0m             \u001b[1;31m# whatever you get back\u001b[0m\u001b[1;33m\u001b[0m\u001b[1;33m\u001b[0m\u001b[0m\n\u001b[1;32m--> 775\u001b[1;33m             \u001b[0mresult\u001b[0m \u001b[1;33m=\u001b[0m \u001b[0mmethod\u001b[0m\u001b[1;33m(\u001b[0m\u001b[0mself\u001b[0m\u001b[1;33m,\u001b[0m \u001b[1;33m*\u001b[0m\u001b[0margs\u001b[0m\u001b[1;33m,\u001b[0m \u001b[1;33m**\u001b[0m\u001b[0mkwargs\u001b[0m\u001b[1;33m)\u001b[0m\u001b[1;33m\u001b[0m\u001b[0m\n\u001b[0m\u001b[0;32m    776\u001b[0m \u001b[1;33m\u001b[0m\u001b[0m\n\u001b[0;32m    777\u001b[0m             \u001b[1;31m# add appropriate tags\u001b[0m\u001b[1;33m\u001b[0m\u001b[1;33m\u001b[0m\u001b[0m\n",
      "\u001b[1;32m/home/gpratt/anaconda/lib/python2.7/site-packages/pybedtools-0.7.0-py2.7-linux-x86_64.egg/pybedtools/bedtool.pyc\u001b[0m in \u001b[0;36msaveas\u001b[1;34m(self, fn, trackline, compressed)\u001b[0m\n\u001b[0;32m   2885\u001b[0m \u001b[1;33m\u001b[0m\u001b[0m\n\u001b[0;32m   2886\u001b[0m         fn = self._collapse(self, fn=fn, trackline=trackline,\n\u001b[1;32m-> 2887\u001b[1;33m                             compressed=compressed)\n\u001b[0m\u001b[0;32m   2888\u001b[0m         \u001b[1;32mreturn\u001b[0m \u001b[0mBedTool\u001b[0m\u001b[1;33m(\u001b[0m\u001b[0mfn\u001b[0m\u001b[1;33m)\u001b[0m\u001b[1;33m\u001b[0m\u001b[0m\n\u001b[0;32m   2889\u001b[0m \u001b[1;33m\u001b[0m\u001b[0m\n",
      "\u001b[1;32m/home/gpratt/anaconda/lib/python2.7/site-packages/pybedtools-0.7.0-py2.7-linux-x86_64.egg/pybedtools/bedtool.pyc\u001b[0m in \u001b[0;36m_collapse\u001b[1;34m(self, iterable, fn, trackline, compressed)\u001b[0m\n\u001b[0;32m   1211\u001b[0m         \u001b[1;32melse\u001b[0m\u001b[1;33m:\u001b[0m\u001b[1;33m\u001b[0m\u001b[0m\n\u001b[0;32m   1212\u001b[0m             \u001b[1;32mwith\u001b[0m \u001b[0mopen\u001b[0m\u001b[1;33m(\u001b[0m\u001b[0mfn\u001b[0m\u001b[1;33m,\u001b[0m \u001b[1;34m'w'\u001b[0m\u001b[1;33m)\u001b[0m \u001b[1;32mas\u001b[0m \u001b[0mout_\u001b[0m\u001b[1;33m:\u001b[0m\u001b[1;33m\u001b[0m\u001b[0m\n\u001b[1;32m-> 1213\u001b[1;33m                 \u001b[1;32mfor\u001b[0m \u001b[0mi\u001b[0m \u001b[1;32min\u001b[0m \u001b[0miterable\u001b[0m\u001b[1;33m:\u001b[0m\u001b[1;33m\u001b[0m\u001b[0m\n\u001b[0m\u001b[0;32m   1214\u001b[0m                     \u001b[1;32mif\u001b[0m \u001b[0misinstance\u001b[0m\u001b[1;33m(\u001b[0m\u001b[0mi\u001b[0m\u001b[1;33m,\u001b[0m \u001b[1;33m(\u001b[0m\u001b[0mlist\u001b[0m\u001b[1;33m,\u001b[0m \u001b[0mtuple\u001b[0m\u001b[1;33m)\u001b[0m\u001b[1;33m)\u001b[0m\u001b[1;33m:\u001b[0m\u001b[1;33m\u001b[0m\u001b[0m\n\u001b[0;32m   1215\u001b[0m                         \u001b[0mi\u001b[0m \u001b[1;33m=\u001b[0m \u001b[0mcreate_interval_from_list\u001b[0m\u001b[1;33m(\u001b[0m\u001b[0mlist\u001b[0m\u001b[1;33m(\u001b[0m\u001b[0mi\u001b[0m\u001b[1;33m)\u001b[0m\u001b[1;33m)\u001b[0m\u001b[1;33m\u001b[0m\u001b[0m\n",
      "\u001b[1;32m/home/gpratt/anaconda/lib/python2.7/site-packages/pybedtools-0.7.0-py2.7-linux-x86_64.egg/pybedtools/cbedtools.pyx\u001b[0m in \u001b[0;36mpybedtools.cbedtools.IntervalIterator.__next__ (pybedtools/cbedtools.cxx:10013)\u001b[1;34m()\u001b[0m\n\u001b[0;32m    729\u001b[0m         \u001b[1;32mwhile\u001b[0m \u001b[0mTrue\u001b[0m\u001b[1;33m:\u001b[0m\u001b[1;33m\u001b[0m\u001b[0m\n\u001b[0;32m    730\u001b[0m             \u001b[1;32mtry\u001b[0m\u001b[1;33m:\u001b[0m\u001b[1;33m\u001b[0m\u001b[0m\n\u001b[1;32m--> 731\u001b[1;33m                 \u001b[0mline\u001b[0m \u001b[1;33m=\u001b[0m \u001b[0mnext\u001b[0m\u001b[1;33m(\u001b[0m\u001b[0mself\u001b[0m\u001b[1;33m.\u001b[0m\u001b[0mstream\u001b[0m\u001b[1;33m)\u001b[0m\u001b[1;33m\u001b[0m\u001b[0m\n\u001b[0m\u001b[0;32m    732\u001b[0m                 \u001b[1;32mif\u001b[0m \u001b[0mself\u001b[0m\u001b[1;33m.\u001b[0m\u001b[0m_itemtype\u001b[0m \u001b[1;33m<\u001b[0m \u001b[1;36m0\u001b[0m\u001b[1;33m:\u001b[0m\u001b[1;33m\u001b[0m\u001b[0m\n\u001b[0;32m    733\u001b[0m                     \u001b[1;32mif\u001b[0m \u001b[0misinstance\u001b[0m\u001b[1;33m(\u001b[0m\u001b[0mline\u001b[0m\u001b[1;33m,\u001b[0m \u001b[0mInterval\u001b[0m\u001b[1;33m)\u001b[0m\u001b[1;33m:\u001b[0m\u001b[1;33m\u001b[0m\u001b[0m\n",
      "\u001b[1;32m/home/gpratt/anaconda/lib/python2.7/site-packages/pybedtools-0.7.0-py2.7-linux-x86_64.egg/pybedtools/bedtool.pyc\u001b[0m in \u001b[0;36m<genexpr>\u001b[1;34m(***failed resolving arguments***)\u001b[0m\n\u001b[0;32m    817\u001b[0m \u001b[1;33m\u001b[0m\u001b[0m\n\u001b[0;32m    818\u001b[0m         \"\"\"\n\u001b[1;32m--> 819\u001b[1;33m         \u001b[1;32mreturn\u001b[0m \u001b[0mBedTool\u001b[0m\u001b[1;33m(\u001b[0m\u001b[1;33m(\u001b[0m\u001b[0mf\u001b[0m \u001b[1;32mfor\u001b[0m \u001b[0mf\u001b[0m \u001b[1;32min\u001b[0m \u001b[0mself\u001b[0m \u001b[1;32mif\u001b[0m \u001b[0mfunc\u001b[0m\u001b[1;33m(\u001b[0m\u001b[0mf\u001b[0m\u001b[1;33m,\u001b[0m \u001b[1;33m*\u001b[0m\u001b[0margs\u001b[0m\u001b[1;33m,\u001b[0m \u001b[1;33m**\u001b[0m\u001b[0mkwargs\u001b[0m\u001b[1;33m)\u001b[0m\u001b[1;33m)\u001b[0m\u001b[1;33m)\u001b[0m\u001b[1;33m\u001b[0m\u001b[0m\n\u001b[0m\u001b[0;32m    820\u001b[0m \u001b[1;33m\u001b[0m\u001b[0m\n\u001b[0;32m    821\u001b[0m     \u001b[1;32mdef\u001b[0m \u001b[0mfield_count\u001b[0m\u001b[1;33m(\u001b[0m\u001b[0mself\u001b[0m\u001b[1;33m,\u001b[0m \u001b[0mn\u001b[0m\u001b[1;33m=\u001b[0m\u001b[1;36m10\u001b[0m\u001b[1;33m)\u001b[0m\u001b[1;33m:\u001b[0m\u001b[1;33m\u001b[0m\u001b[0m\n",
      "\u001b[1;32m/home/gpratt/anaconda/lib/python2.7/site-packages/pybedtools-0.7.0-py2.7-linux-x86_64.egg/pybedtools/cbedtools.pyx\u001b[0m in \u001b[0;36mpybedtools.cbedtools.IntervalIterator.__next__ (pybedtools/cbedtools.cxx:10356)\u001b[1;34m()\u001b[0m\n\u001b[0;32m    770\u001b[0m         \u001b[1;31m# TODO: optimization: create_interval_from_list should have a version\u001b[0m\u001b[1;33m\u001b[0m\u001b[1;33m\u001b[0m\u001b[0m\n\u001b[0;32m    771\u001b[0m         \u001b[1;31m# that accepts C++ string instances\u001b[0m\u001b[1;33m\u001b[0m\u001b[1;33m\u001b[0m\u001b[0m\n\u001b[1;32m--> 772\u001b[1;33m         \u001b[1;32mreturn\u001b[0m \u001b[0mcreate_interval_from_list\u001b[0m\u001b[1;33m(\u001b[0m\u001b[0mfields\u001b[0m\u001b[1;33m)\u001b[0m\u001b[1;33m\u001b[0m\u001b[0m\n\u001b[0m\u001b[0;32m    773\u001b[0m \u001b[1;33m\u001b[0m\u001b[0m\n\u001b[0;32m    774\u001b[0m \u001b[1;33m\u001b[0m\u001b[0m\n",
      "\u001b[1;32m/home/gpratt/anaconda/lib/python2.7/site-packages/pybedtools-0.7.0-py2.7-linux-x86_64.egg/pybedtools/cbedtools.pyx\u001b[0m in \u001b[0;36mpybedtools.cbedtools.create_interval_from_list (pybedtools/cbedtools.cxx:8470)\u001b[1;34m()\u001b[0m\n\u001b[0;32m    626\u001b[0m         pyb._bed = new BED(\n\u001b[0;32m    627\u001b[0m             \u001b[0mchrom\u001b[0m\u001b[1;33m,\u001b[0m\u001b[1;33m\u001b[0m\u001b[0m\n\u001b[1;32m--> 628\u001b[1;33m             \u001b[0mstart\u001b[0m\u001b[1;33m,\u001b[0m\u001b[1;33m\u001b[0m\u001b[0m\n\u001b[0m\u001b[0;32m    629\u001b[0m             \u001b[0mstop\u001b[0m\u001b[1;33m,\u001b[0m\u001b[1;33m\u001b[0m\u001b[0m\n\u001b[0;32m    630\u001b[0m             \u001b[0mstrand\u001b[0m\u001b[1;33m,\u001b[0m\u001b[1;33m\u001b[0m\u001b[0m\n",
      "\u001b[1;31mOverflowError\u001b[0m: can't convert negative value to CHRPOS"
     ]
    }
   ],
   "source": [
    "features_transcript_closest, features_mrna_closest = CLIP_analysis.get_feature_distances(cluster_regions['all']['real'], \n",
    "                                                                                         features,\n",
    "                                                                                         genomic_regions['exons'], )"
   ]
  },
  {
   "cell_type": "code",
   "execution_count": 40,
   "metadata": {
    "collapsed": false
   },
   "outputs": [],
   "source": [
    "exon_dict = CLIP_analysis.generate_region_dict(exons)\n",
    "\n",
    "bed_center = bedtool.each(CLIP_analysis.small_peaks).saveas()\n",
    "beds_center_transcripts = CLIP_analysis.convert_to_transcript(bed_center)\n",
    "beds_center_transcripts_mrna = CLIP_analysis.convert_to_mrna(beds_center_transcripts, exon_dict)"
   ]
  },
  {
   "cell_type": "code",
   "execution_count": 41,
   "metadata": {
    "collapsed": true
   },
   "outputs": [],
   "source": [
    "features_transcript = {name: CLIP_analysis.convert_to_transcript(bedtool) for name, bedtool in features.items()}\n",
    "features_mrna = {name: CLIP_analysis.convert_to_mrna(bedtool, exon_dict) for name, bedtool in features_transcript.items()}"
   ]
  },
  {
   "cell_type": "code",
   "execution_count": 43,
   "metadata": {
    "collapsed": true
   },
   "outputs": [],
   "source": [
    "from collections import defaultdict"
   ]
  },
  {
   "cell_type": "code",
   "execution_count": 44,
   "metadata": {
    "collapsed": false
   },
   "outputs": [
    {
     "ename": "OverflowError",
     "evalue": "can't convert negative value to CHRPOS",
     "output_type": "error",
     "traceback": [
      "\u001b[1;31m---------------------------------------------------------------------------\u001b[0m",
      "\u001b[1;31mOverflowError\u001b[0m                             Traceback (most recent call last)",
      "\u001b[1;32m<ipython-input-44-9c2445af0370>\u001b[0m in \u001b[0;36m<module>\u001b[1;34m()\u001b[0m\n\u001b[0;32m      1\u001b[0m \u001b[0mfeatures_transcript_closest\u001b[0m \u001b[1;33m=\u001b[0m \u001b[0mdefaultdict\u001b[0m\u001b[1;33m(\u001b[0m\u001b[1;32mlambda\u001b[0m\u001b[1;33m:\u001b[0m \u001b[0mNone\u001b[0m\u001b[1;33m)\u001b[0m\u001b[1;33m\u001b[0m\u001b[0m\n\u001b[0;32m      2\u001b[0m \u001b[1;32mfor\u001b[0m \u001b[0mname\u001b[0m\u001b[1;33m,\u001b[0m \u001b[0mfeature\u001b[0m \u001b[1;32min\u001b[0m \u001b[0mfeatures_transcript\u001b[0m\u001b[1;33m.\u001b[0m\u001b[0mitems\u001b[0m\u001b[1;33m(\u001b[0m\u001b[1;33m)\u001b[0m\u001b[1;33m:\u001b[0m\u001b[1;33m\u001b[0m\u001b[0m\n\u001b[1;32m----> 3\u001b[1;33m     \u001b[0mfeatures_transcript_closest\u001b[0m\u001b[1;33m[\u001b[0m\u001b[0mname\u001b[0m\u001b[1;33m]\u001b[0m \u001b[1;33m=\u001b[0m \u001b[0mbeds_center_transcripts\u001b[0m\u001b[1;33m.\u001b[0m\u001b[0mclosest\u001b[0m\u001b[1;33m(\u001b[0m\u001b[0mfeature\u001b[0m\u001b[1;33m,\u001b[0m \u001b[0ms\u001b[0m\u001b[1;33m=\u001b[0m\u001b[0mTrue\u001b[0m\u001b[1;33m,\u001b[0m \u001b[0mD\u001b[0m\u001b[1;33m=\u001b[0m\u001b[1;34m\"b\"\u001b[0m\u001b[1;33m)\u001b[0m\u001b[1;33m.\u001b[0m\u001b[0mfilter\u001b[0m\u001b[1;33m(\u001b[0m\u001b[1;32mlambda\u001b[0m \u001b[0mx\u001b[0m\u001b[1;33m:\u001b[0m \u001b[0mx\u001b[0m\u001b[1;33m[\u001b[0m\u001b[1;33m-\u001b[0m\u001b[1;36m2\u001b[0m\u001b[1;33m]\u001b[0m \u001b[1;33m!=\u001b[0m \u001b[1;34m\".\"\u001b[0m\u001b[1;33m)\u001b[0m\u001b[1;33m.\u001b[0m\u001b[0msaveas\u001b[0m\u001b[1;33m(\u001b[0m\u001b[1;33m)\u001b[0m\u001b[1;33m\u001b[0m\u001b[0m\n\u001b[0m",
      "\u001b[1;32m/home/gpratt/anaconda/lib/python2.7/site-packages/pybedtools-0.7.0-py2.7-linux-x86_64.egg/pybedtools/bedtool.pyc\u001b[0m in \u001b[0;36mdecorated\u001b[1;34m(self, *args, **kwargs)\u001b[0m\n\u001b[0;32m    773\u001b[0m             \u001b[1;31m# this calls the actual method in the first place; *result* is\u001b[0m\u001b[1;33m\u001b[0m\u001b[1;33m\u001b[0m\u001b[0m\n\u001b[0;32m    774\u001b[0m             \u001b[1;31m# whatever you get back\u001b[0m\u001b[1;33m\u001b[0m\u001b[1;33m\u001b[0m\u001b[0m\n\u001b[1;32m--> 775\u001b[1;33m             \u001b[0mresult\u001b[0m \u001b[1;33m=\u001b[0m \u001b[0mmethod\u001b[0m\u001b[1;33m(\u001b[0m\u001b[0mself\u001b[0m\u001b[1;33m,\u001b[0m \u001b[1;33m*\u001b[0m\u001b[0margs\u001b[0m\u001b[1;33m,\u001b[0m \u001b[1;33m**\u001b[0m\u001b[0mkwargs\u001b[0m\u001b[1;33m)\u001b[0m\u001b[1;33m\u001b[0m\u001b[0m\n\u001b[0m\u001b[0;32m    776\u001b[0m \u001b[1;33m\u001b[0m\u001b[0m\n\u001b[0;32m    777\u001b[0m             \u001b[1;31m# add appropriate tags\u001b[0m\u001b[1;33m\u001b[0m\u001b[1;33m\u001b[0m\u001b[0m\n",
      "\u001b[1;32m/home/gpratt/anaconda/lib/python2.7/site-packages/pybedtools-0.7.0-py2.7-linux-x86_64.egg/pybedtools/bedtool.pyc\u001b[0m in \u001b[0;36msaveas\u001b[1;34m(self, fn, trackline, compressed)\u001b[0m\n\u001b[0;32m   2885\u001b[0m \u001b[1;33m\u001b[0m\u001b[0m\n\u001b[0;32m   2886\u001b[0m         fn = self._collapse(self, fn=fn, trackline=trackline,\n\u001b[1;32m-> 2887\u001b[1;33m                             compressed=compressed)\n\u001b[0m\u001b[0;32m   2888\u001b[0m         \u001b[1;32mreturn\u001b[0m \u001b[0mBedTool\u001b[0m\u001b[1;33m(\u001b[0m\u001b[0mfn\u001b[0m\u001b[1;33m)\u001b[0m\u001b[1;33m\u001b[0m\u001b[0m\n\u001b[0;32m   2889\u001b[0m \u001b[1;33m\u001b[0m\u001b[0m\n",
      "\u001b[1;32m/home/gpratt/anaconda/lib/python2.7/site-packages/pybedtools-0.7.0-py2.7-linux-x86_64.egg/pybedtools/bedtool.pyc\u001b[0m in \u001b[0;36m_collapse\u001b[1;34m(self, iterable, fn, trackline, compressed)\u001b[0m\n\u001b[0;32m   1211\u001b[0m         \u001b[1;32melse\u001b[0m\u001b[1;33m:\u001b[0m\u001b[1;33m\u001b[0m\u001b[0m\n\u001b[0;32m   1212\u001b[0m             \u001b[1;32mwith\u001b[0m \u001b[0mopen\u001b[0m\u001b[1;33m(\u001b[0m\u001b[0mfn\u001b[0m\u001b[1;33m,\u001b[0m \u001b[1;34m'w'\u001b[0m\u001b[1;33m)\u001b[0m \u001b[1;32mas\u001b[0m \u001b[0mout_\u001b[0m\u001b[1;33m:\u001b[0m\u001b[1;33m\u001b[0m\u001b[0m\n\u001b[1;32m-> 1213\u001b[1;33m                 \u001b[1;32mfor\u001b[0m \u001b[0mi\u001b[0m \u001b[1;32min\u001b[0m \u001b[0miterable\u001b[0m\u001b[1;33m:\u001b[0m\u001b[1;33m\u001b[0m\u001b[0m\n\u001b[0m\u001b[0;32m   1214\u001b[0m                     \u001b[1;32mif\u001b[0m \u001b[0misinstance\u001b[0m\u001b[1;33m(\u001b[0m\u001b[0mi\u001b[0m\u001b[1;33m,\u001b[0m \u001b[1;33m(\u001b[0m\u001b[0mlist\u001b[0m\u001b[1;33m,\u001b[0m \u001b[0mtuple\u001b[0m\u001b[1;33m)\u001b[0m\u001b[1;33m)\u001b[0m\u001b[1;33m:\u001b[0m\u001b[1;33m\u001b[0m\u001b[0m\n\u001b[0;32m   1215\u001b[0m                         \u001b[0mi\u001b[0m \u001b[1;33m=\u001b[0m \u001b[0mcreate_interval_from_list\u001b[0m\u001b[1;33m(\u001b[0m\u001b[0mlist\u001b[0m\u001b[1;33m(\u001b[0m\u001b[0mi\u001b[0m\u001b[1;33m)\u001b[0m\u001b[1;33m)\u001b[0m\u001b[1;33m\u001b[0m\u001b[0m\n",
      "\u001b[1;32m/home/gpratt/anaconda/lib/python2.7/site-packages/pybedtools-0.7.0-py2.7-linux-x86_64.egg/pybedtools/cbedtools.pyx\u001b[0m in \u001b[0;36mpybedtools.cbedtools.IntervalIterator.__next__ (pybedtools/cbedtools.cxx:10013)\u001b[1;34m()\u001b[0m\n\u001b[0;32m    729\u001b[0m         \u001b[1;32mwhile\u001b[0m \u001b[0mTrue\u001b[0m\u001b[1;33m:\u001b[0m\u001b[1;33m\u001b[0m\u001b[0m\n\u001b[0;32m    730\u001b[0m             \u001b[1;32mtry\u001b[0m\u001b[1;33m:\u001b[0m\u001b[1;33m\u001b[0m\u001b[0m\n\u001b[1;32m--> 731\u001b[1;33m                 \u001b[0mline\u001b[0m \u001b[1;33m=\u001b[0m \u001b[0mnext\u001b[0m\u001b[1;33m(\u001b[0m\u001b[0mself\u001b[0m\u001b[1;33m.\u001b[0m\u001b[0mstream\u001b[0m\u001b[1;33m)\u001b[0m\u001b[1;33m\u001b[0m\u001b[0m\n\u001b[0m\u001b[0;32m    732\u001b[0m                 \u001b[1;32mif\u001b[0m \u001b[0mself\u001b[0m\u001b[1;33m.\u001b[0m\u001b[0m_itemtype\u001b[0m \u001b[1;33m<\u001b[0m \u001b[1;36m0\u001b[0m\u001b[1;33m:\u001b[0m\u001b[1;33m\u001b[0m\u001b[0m\n\u001b[0;32m    733\u001b[0m                     \u001b[1;32mif\u001b[0m \u001b[0misinstance\u001b[0m\u001b[1;33m(\u001b[0m\u001b[0mline\u001b[0m\u001b[1;33m,\u001b[0m \u001b[0mInterval\u001b[0m\u001b[1;33m)\u001b[0m\u001b[1;33m:\u001b[0m\u001b[1;33m\u001b[0m\u001b[0m\n",
      "\u001b[1;32m/home/gpratt/anaconda/lib/python2.7/site-packages/pybedtools-0.7.0-py2.7-linux-x86_64.egg/pybedtools/bedtool.pyc\u001b[0m in \u001b[0;36m<genexpr>\u001b[1;34m(***failed resolving arguments***)\u001b[0m\n\u001b[0;32m    817\u001b[0m \u001b[1;33m\u001b[0m\u001b[0m\n\u001b[0;32m    818\u001b[0m         \"\"\"\n\u001b[1;32m--> 819\u001b[1;33m         \u001b[1;32mreturn\u001b[0m \u001b[0mBedTool\u001b[0m\u001b[1;33m(\u001b[0m\u001b[1;33m(\u001b[0m\u001b[0mf\u001b[0m \u001b[1;32mfor\u001b[0m \u001b[0mf\u001b[0m \u001b[1;32min\u001b[0m \u001b[0mself\u001b[0m \u001b[1;32mif\u001b[0m \u001b[0mfunc\u001b[0m\u001b[1;33m(\u001b[0m\u001b[0mf\u001b[0m\u001b[1;33m,\u001b[0m \u001b[1;33m*\u001b[0m\u001b[0margs\u001b[0m\u001b[1;33m,\u001b[0m \u001b[1;33m**\u001b[0m\u001b[0mkwargs\u001b[0m\u001b[1;33m)\u001b[0m\u001b[1;33m)\u001b[0m\u001b[1;33m)\u001b[0m\u001b[1;33m\u001b[0m\u001b[0m\n\u001b[0m\u001b[0;32m    820\u001b[0m \u001b[1;33m\u001b[0m\u001b[0m\n\u001b[0;32m    821\u001b[0m     \u001b[1;32mdef\u001b[0m \u001b[0mfield_count\u001b[0m\u001b[1;33m(\u001b[0m\u001b[0mself\u001b[0m\u001b[1;33m,\u001b[0m \u001b[0mn\u001b[0m\u001b[1;33m=\u001b[0m\u001b[1;36m10\u001b[0m\u001b[1;33m)\u001b[0m\u001b[1;33m:\u001b[0m\u001b[1;33m\u001b[0m\u001b[0m\n",
      "\u001b[1;32m/home/gpratt/anaconda/lib/python2.7/site-packages/pybedtools-0.7.0-py2.7-linux-x86_64.egg/pybedtools/cbedtools.pyx\u001b[0m in \u001b[0;36mpybedtools.cbedtools.IntervalIterator.__next__ (pybedtools/cbedtools.cxx:10356)\u001b[1;34m()\u001b[0m\n\u001b[0;32m    770\u001b[0m         \u001b[1;31m# TODO: optimization: create_interval_from_list should have a version\u001b[0m\u001b[1;33m\u001b[0m\u001b[1;33m\u001b[0m\u001b[0m\n\u001b[0;32m    771\u001b[0m         \u001b[1;31m# that accepts C++ string instances\u001b[0m\u001b[1;33m\u001b[0m\u001b[1;33m\u001b[0m\u001b[0m\n\u001b[1;32m--> 772\u001b[1;33m         \u001b[1;32mreturn\u001b[0m \u001b[0mcreate_interval_from_list\u001b[0m\u001b[1;33m(\u001b[0m\u001b[0mfields\u001b[0m\u001b[1;33m)\u001b[0m\u001b[1;33m\u001b[0m\u001b[0m\n\u001b[0m\u001b[0;32m    773\u001b[0m \u001b[1;33m\u001b[0m\u001b[0m\n\u001b[0;32m    774\u001b[0m \u001b[1;33m\u001b[0m\u001b[0m\n",
      "\u001b[1;32m/home/gpratt/anaconda/lib/python2.7/site-packages/pybedtools-0.7.0-py2.7-linux-x86_64.egg/pybedtools/cbedtools.pyx\u001b[0m in \u001b[0;36mpybedtools.cbedtools.create_interval_from_list (pybedtools/cbedtools.cxx:8470)\u001b[1;34m()\u001b[0m\n\u001b[0;32m    626\u001b[0m         pyb._bed = new BED(\n\u001b[0;32m    627\u001b[0m             \u001b[0mchrom\u001b[0m\u001b[1;33m,\u001b[0m\u001b[1;33m\u001b[0m\u001b[0m\n\u001b[1;32m--> 628\u001b[1;33m             \u001b[0mstart\u001b[0m\u001b[1;33m,\u001b[0m\u001b[1;33m\u001b[0m\u001b[0m\n\u001b[0m\u001b[0;32m    629\u001b[0m             \u001b[0mstop\u001b[0m\u001b[1;33m,\u001b[0m\u001b[1;33m\u001b[0m\u001b[0m\n\u001b[0;32m    630\u001b[0m             \u001b[0mstrand\u001b[0m\u001b[1;33m,\u001b[0m\u001b[1;33m\u001b[0m\u001b[0m\n",
      "\u001b[1;31mOverflowError\u001b[0m: can't convert negative value to CHRPOS"
     ]
    }
   ],
   "source": [
    "features_transcript_closest = defaultdict(lambda: None)\n",
    "for name, feature in features_transcript.items():\n",
    "    features_transcript_closest[name] = beds_center_transcripts.closest(feature, s=True, D=\"b\").filter(lambda x: x[-2] != \".\").saveas()\n"
   ]
  },
  {
   "cell_type": "code",
   "execution_count": 49,
   "metadata": {
    "collapsed": false
   },
   "outputs": [
    {
     "name": "stdout",
     "output_type": "stream",
     "text": [
      "chr1\t134989\t135041\t0.609418121449565_6111\t1.31835526675471\t-\n",
      " chr1\t135169\t135191\t0.636952405478907_26012\t2.05532086092092\t-\n",
      " chr1\t135239\t135260\t0.15776531365276_26542\t0.733392766033559\t-\n",
      " chr1\t137797\t137851\t0.96657624451305_3905\t1.31835526675471\t-\n",
      " chr1\t137971\t137987\t0_29075\t0.266607233966441\t-\n",
      " chr1\t139025\t139113\t5.63041310926365_5919\t3.64028336164208\t-\n",
      " chr1\t139308\t139358\t2.04421607108309_919\t3.31835526675472\t-\n",
      " chr1\t324718\t324813\t1.55005901122666_4788\t2.31835526675471\t+\n",
      " chr1\t569883\t569961\t0_31062\t0.3921381160503\t+\n",
      " chr1\t664703\t664747\t0.866141874796665_15460\t2.31835526675471\t-\n",
      " "
     ]
    }
   ],
   "source": [
    "bedtool.head()"
   ]
  },
  {
   "cell_type": "code",
   "execution_count": 46,
   "metadata": {
    "collapsed": false
   },
   "outputs": [
    {
     "name": "stdout",
     "output_type": "stream",
     "text": [
      "chr1\t135015\t135016\t0.609418121449565\t1.31835526675471\t-\n",
      " chr1\t135180\t135181\t0.636952405478907\t2.05532086092092\t-\n",
      " chr1\t135249\t135250\t0.15776531365276\t0.733392766033559\t-\n",
      " chr1\t137824\t137825\t0.96657624451305\t1.31835526675471\t-\n",
      " chr1\t137979\t137980\t0\t0.266607233966441\t-\n",
      " chr1\t139069\t139070\t5.63041310926365\t3.64028336164208\t-\n",
      " chr1\t139333\t139334\t2.04421607108309\t3.31835526675472\t-\n",
      " chr1\t324765\t324766\t1.55005901122666\t2.31835526675471\t+\n",
      " chr1\t569922\t569923\t0\t0.3921381160503\t+\n",
      " chr1\t664725\t664726\t0.866141874796665\t2.31835526675471\t-\n",
      " "
     ]
    }
   ],
   "source": [
    "bed_center.head()"
   ]
  },
  {
   "cell_type": "code",
   "execution_count": 47,
   "metadata": {
    "collapsed": false
   },
   "outputs": [
    {
     "name": "stdout",
     "output_type": "stream",
     "text": [
      "0\t3334\t3335\t0\t0.327575251257868\t+\n",
      " 0\t3515\t3516\t0\t0.990972791353014,0.812348424889879\t+\n",
      " 0\t3587\t3588\t0\t1.10936749215524\t+\n",
      " 0\t3899\t3900\t0\t0.991891023085012\t+\n",
      " 0\t5151\t5152\t0\t0.296051011858923\t+\n",
      " 0\t5335\t5336\t0\t0.875817280934275\t+\n",
      " 0\t5459\t5460\t0\t1.52799378691875\t+\n",
      " 0\t6033\t6034\t0\t0.324282944863338\t+\n",
      " 0\t6262\t6263\t0\t0.0719143273751867\t+\n",
      " 0\t7221\t7222\t0\t0.609403076566319\t+\n",
      " "
     ]
    }
   ],
   "source": [
    "beds_center_transcripts.head()"
   ]
  },
  {
   "cell_type": "code",
   "execution_count": 48,
   "metadata": {
    "collapsed": true
   },
   "outputs": [],
   "source": [
    "beds_center_transcripts_mrna.head()"
   ]
  },
  {
   "cell_type": "code",
   "execution_count": 45,
   "metadata": {
    "collapsed": false
   },
   "outputs": [
    {
     "name": "stdout",
     "output_type": "stream",
     "text": [
      "0\t3334\t3335\t0\t0.327575251257868\t+\n",
      " 0\t3515\t3516\t0\t0.990972791353014,0.812348424889879\t+\n",
      " 0\t3587\t3588\t0\t1.10936749215524\t+\n",
      " 0\t3899\t3900\t0\t0.991891023085012\t+\n",
      " 0\t5151\t5152\t0\t0.296051011858923\t+\n",
      " 0\t5335\t5336\t0\t0.875817280934275\t+\n",
      " 0\t5459\t5460\t0\t1.52799378691875\t+\n",
      " 0\t6033\t6034\t0\t0.324282944863338\t+\n",
      " 0\t6262\t6263\t0\t0.0719143273751867\t+\n",
      " 0\t7221\t7222\t0\t0.609403076566319\t+\n",
      " "
     ]
    }
   ],
   "source": [
    "beds_center_transcripts.head()"
   ]
  },
  {
   "cell_type": "code",
   "execution_count": null,
   "metadata": {
    "collapsed": true
   },
   "outputs": [],
   "source": []
  }
 ],
 "metadata": {
  "kernelspec": {
   "display_name": "Python 2",
   "language": "python",
   "name": "python2"
  },
  "language_info": {
   "codemirror_mode": {
    "name": "ipython",
    "version": 2
   },
   "file_extension": ".py",
   "mimetype": "text/x-python",
   "name": "python",
   "nbconvert_exporter": "python",
   "pygments_lexer": "ipython2",
   "version": "2.7.10"
  }
 },
 "nbformat": 4,
 "nbformat_minor": 0
}
