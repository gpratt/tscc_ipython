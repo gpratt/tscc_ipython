{
 "cells": [
  {
   "cell_type": "code",
   "execution_count": 7,
   "metadata": {
    "collapsed": true
   },
   "outputs": [],
   "source": [
    "import glob\n",
    "import os\n",
    "import pysam\n",
    "from gscripts.general import parsers\n",
    "from IPython.core.display import HTML\n",
    "import gzip\n",
    "import pandas as pd"
   ]
  },
  {
   "cell_type": "code",
   "execution_count": 11,
   "metadata": {
    "collapsed": true
   },
   "outputs": [],
   "source": [
    "def check_order_fastq(r1, r2):\n",
    "    count = 0\n",
    "    with gzip.open(r1) as mate1:\n",
    "        with gzip.open(r1) as mate2:\n",
    "            while True:\n",
    "                try:\n",
    "                    count += 1\n",
    "                    r1_id = mate1.next()\n",
    "                    r1_seq = mate1.next()\n",
    "                    r1_null = mate1.next()\n",
    "                    r1_qscore = mate1.next()\n",
    "                    r2_id = mate2.next()\n",
    "                    r2_seq = mate2.next()\n",
    "                    r2_null = mate2.next()\n",
    "                    r2_qscore = mate2.next()\n",
    "                except StopIteration:\n",
    "                    break\n",
    "                if r1_id.split(\"/\")[0] != r2_id.split(\"/\")[0]:\n",
    "                    return \"out of order\"\n",
    "                    \n",
    "    return \"good\""
   ]
  },
  {
   "cell_type": "code",
   "execution_count": 3,
   "metadata": {
    "collapsed": false
   },
   "outputs": [
    {
     "ename": "NameError",
     "evalue": "name 'check_order' is not defined",
     "output_type": "error",
     "traceback": [
      "\u001b[1;31m---------------------------------------------------------------------------\u001b[0m",
      "\u001b[1;31mNameError\u001b[0m                                 Traceback (most recent call last)",
      "\u001b[1;32m<ipython-input-3-b445b54ee8ca>\u001b[0m in \u001b[0;36m<module>\u001b[1;34m()\u001b[0m\n\u001b[1;32m----> 1\u001b[1;33m check_order(\"/projects/ps-yeolab/encode/analysis/encode_v13/613_CLIP_S43_L004_R1_001.G07_613_01_RPL23A.adapterTrim.round2.rep.bamUnmapped.out.sorted.mate1\",\n\u001b[0m\u001b[0;32m      2\u001b[0m             \"/projects/ps-yeolab/encode/analysis/encode_v13/613_CLIP_S43_L004_R1_001.G07_613_01_RPL23A.adapterTrim.round2.rep.bamUnmapped.out.sorted.mate2\",)\n\u001b[0;32m      3\u001b[0m \u001b[1;33m\u001b[0m\u001b[0m\n",
      "\u001b[1;31mNameError\u001b[0m: name 'check_order' is not defined"
     ]
    }
   ],
   "source": [
    "check_order(\"/projects/ps-yeolab/encode/analysis/encode_v13/613_CLIP_S43_L004_R1_001.G07_613_01_RPL23A.adapterTrim.round2.rep.bamUnmapped.out.sorted.mate1\",\n",
    "            \"/projects/ps-yeolab/encode/analysis/encode_v13/613_CLIP_S43_L004_R1_001.G07_613_01_RPL23A.adapterTrim.round2.rep.bamUnmapped.out.sorted.mate2\",)\n",
    "            "
   ]
  },
  {
   "cell_type": "code",
   "execution_count": 12,
   "metadata": {
    "collapsed": false
   },
   "outputs": [
    {
     "data": {
      "text/plain": [
       "'good'"
      ]
     },
     "execution_count": 12,
     "metadata": {},
     "output_type": "execute_result"
    }
   ],
   "source": [
    "check_order_fastq(\"/home/gpratt/ad-hoc/ENCFF190JME.fastq.gz\",\n",
    "            \"/home/gpratt/ad-hoc/ENCFF452ZGU.fastq.gz\",)\n",
    "            "
   ]
  },
  {
   "cell_type": "code",
   "execution_count": 21,
   "metadata": {
    "collapsed": false
   },
   "outputs": [],
   "source": [
    "def get_read_pairs(samfile):\n",
    "    while True:\n",
    "        try:\n",
    "            r1 = samfile.next()\n",
    "            r2 = samfile.next()\n",
    "            \n",
    "            if r1.query_name != r2.query_name:\n",
    "                old_r1 = r1\n",
    "                r1 = r2\n",
    "                r2 = samfile.next()\n",
    "                print old_r1.query_name, r1.query_name, r2.query_name\n",
    "                print \"skipping\"\n",
    "            yield r1, r2\n",
    "        except:\n",
    "            break\n",
    "\n",
    "def check_sam_order_robust(sam_file):\n",
    "    sam = pysam.Samfile(sam_file)\n",
    "    error_count = 0 \n",
    "    for r1, r2 in get_read_pairs(sam):\n",
    "\n",
    "        if r1.query_name != r2.query_name:\n",
    "            error_count += 1\n",
    "            print \"error\"\n",
    "            print r1, r2\n",
    "            if error_count == 100:\n",
    "                break\n"
   ]
  },
  {
   "cell_type": "code",
   "execution_count": 22,
   "metadata": {
    "collapsed": false
   },
   "outputs": [
    {
     "name": "stdout",
     "output_type": "stream",
     "text": [
      "TGACGCACAA:K00180:131:H7J3YBBXX:4:1207:15260:26810 TGTAACCGCT:K00180:131:H7J3YBBXX:4:2110:17706:21658 TGTAACCGCT:K00180:131:H7J3YBBXX:4:2110:17706:21658\n",
      "skipping\n",
      "TGACGCACAA:K00180:131:H7J3YBBXX:4:1207:15260:26810 TGACGCACAG:K00180:131:H7J3YBBXX:4:2210:24637:5886 TGACGCACAG:K00180:131:H7J3YBBXX:4:2210:24637:5886\n",
      "skipping\n"
     ]
    }
   ],
   "source": [
    "check_sam_order_robust(\"/projects/ps-yeolab/encode/analysis/encode_v13/613_CLIP_S43_L004_R1_001.G07_613_01_RPL23A.adapterTrim.round2.rmRep.bam\")"
   ]
  },
  {
   "cell_type": "code",
   "execution_count": 23,
   "metadata": {
    "collapsed": false
   },
   "outputs": [
    {
     "name": "stdout",
     "output_type": "stream",
     "text": [
      "CTTCCGCCTA:K00180:131:H7J3YBBXX:7:2110:6542:2949 ACATTCAGCG:K00180:131:H7J3YBBXX:7:2212:14489:22450 ACATTCAGCG:K00180:131:H7J3YBBXX:7:2212:14489:22450\n",
      "skipping\n",
      "CTTCCGCCTA:K00180:131:H7J3YBBXX:7:2110:6542:2949 CTTCCGCCTA:K00180:131:H7J3YBBXX:7:2112:16914:25632 CTTCCGCCTA:K00180:131:H7J3YBBXX:7:2112:16914:25632\n",
      "skipping\n"
     ]
    }
   ],
   "source": [
    "check_sam_order_robust(\"/projects/ps-yeolab/encode/analysis/encode_v13/LNG2-S_CLIP_S80_L007_R1_001.B06_LNG2-S_CLIP_RBFOX2.adapterTrim.round2.rmRep.bam\")"
   ]
  },
  {
   "cell_type": "code",
   "execution_count": 24,
   "metadata": {
    "collapsed": true
   },
   "outputs": [],
   "source": [
    "check_sam_order_robust(\"/projects/ps-yeolab/encode/analysis/encode_v13/613_CLIP_S43_L004_R1_001.G07_613_01_RPL23A.adapterTrim.round2.rmRep.bam.sorted.bam\")"
   ]
  },
  {
   "cell_type": "code",
   "execution_count": 27,
   "metadata": {
    "collapsed": false
   },
   "outputs": [],
   "source": [
    "check_sam_order_robust(\"/projects/ps-yeolab/encode/analysis/encode_v13/LNG2-S_CLIP_S80_L007_R1_001.B06_LNG2-S_CLIP_RBFOX2.adapterTrim.round2.rmRep.bam.sorted.bam\")"
   ]
  },
  {
   "cell_type": "code",
   "execution_count": null,
   "metadata": {
    "collapsed": true
   },
   "outputs": [],
   "source": []
  }
 ],
 "metadata": {
  "kernelspec": {
   "display_name": "Python 2",
   "language": "python",
   "name": "python2"
  },
  "language_info": {
   "codemirror_mode": {
    "name": "ipython",
    "version": 2
   },
   "file_extension": ".py",
   "mimetype": "text/x-python",
   "name": "python",
   "nbconvert_exporter": "python",
   "pygments_lexer": "ipython2",
   "version": "2.7.11"
  }
 },
 "nbformat": 4,
 "nbformat_minor": 0
}
