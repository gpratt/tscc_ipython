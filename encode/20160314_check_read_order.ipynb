{
 "cells": [
  {
   "cell_type": "code",
   "execution_count": 1,
   "metadata": {
    "collapsed": true
   },
   "outputs": [],
   "source": [
    "import glob\n",
    "import os\n",
    "import pysam\n",
    "from gscripts.general import parsers\n",
    "from IPython.core.display import HTML\n",
    "import gzip\n",
    "import pandas as pd"
   ]
  },
  {
   "cell_type": "code",
   "execution_count": 51,
   "metadata": {
    "collapsed": true
   },
   "outputs": [],
   "source": [
    "def check_order_fastq(r1, r2):\n",
    "    count = 0\n",
    "    with gzip.open(r1) as mate1:\n",
    "        with gzip.open(r2) as mate2:\n",
    "            while True:\n",
    "                try:\n",
    "                    count += 1\n",
    "                    r1_id = mate1.next()\n",
    "                    r1_seq = mate1.next()\n",
    "                    r1_null = mate1.next()\n",
    "                    r1_qscore = mate1.next()\n",
    "                    r2_id = mate2.next()\n",
    "                    r2_seq = mate2.next()\n",
    "                    r2_null = mate2.next()\n",
    "                    r2_qscore = mate2.next()\n",
    "                except StopIteration:\n",
    "                    break\n",
    "                if r1_id.split(\"/\")[0] != r2_id.split(\"/\")[0]:\n",
    "                    return \"out of order\"\n",
    "                    \n",
    "    return \"good\"\n",
    "\n",
    "\n",
    "def check_order_fastq(r1, r2):\n",
    "    count = 0\n",
    "    with open(r1) as mate1:\n",
    "        with open(r2) as mate2:\n",
    "            while True:\n",
    "                try:\n",
    "                    count += 1\n",
    "                    r1_id = mate1.next()\n",
    "                    r1_seq = mate1.next()\n",
    "                    r1_null = mate1.next()\n",
    "                    r1_qscore = mate1.next()\n",
    "                    r2_id = mate2.next()\n",
    "                    r2_seq = mate2.next()\n",
    "                    r2_null = mate2.next()\n",
    "                    r2_qscore = mate2.next()\n",
    "                except StopIteration:\n",
    "                    break\n",
    "                if r1_id.split(\"/\")[0] != r2_id.split(\"/\")[0]:\n",
    "                    return \"out of order\"\n",
    "                    \n",
    "    return \"good\""
   ]
  },
  {
   "cell_type": "code",
   "execution_count": 10,
   "metadata": {
    "collapsed": false
   },
   "outputs": [],
   "source": [
    "# check_order(\"/projects/ps-yeolab/encode/analysis/encode_v13/613_CLIP_S43_L004_R1_001.G07_613_01_RPL23A.adapterTrim.round2.rep.bamUnmapped.out.sorted.mate1\",\n",
    "#             \"/projects/ps-yeolab/encode/analysis/encode_v13/613_CLIP_S43_L004_R1_001.G07_613_01_RPL23A.adapterTrim.round2.rep.bamUnmapped.out.sorted.mate2\",)\n",
    "            "
   ]
  },
  {
   "cell_type": "code",
   "execution_count": 11,
   "metadata": {
    "collapsed": false
   },
   "outputs": [
    {
     "data": {
      "text/plain": [
       "'good'"
      ]
     },
     "execution_count": 11,
     "metadata": {},
     "output_type": "execute_result"
    }
   ],
   "source": [
    "check_order_fastq(\"/projects/ps-yeolab3/encode/analysis/encode_GRCh38_v1/397_INPUT_ATTACTCG-AGGCGAAG_L006_R1.unassigned.adapterTrim.round2.rep.bamUnmapped.out.sorted.mate1\",\n",
    "            \"/projects/ps-yeolab3/encode/analysis/encode_GRCh38_v1/397_INPUT_ATTACTCG-AGGCGAAG_L006_R1.unassigned.adapterTrim.round2.rep.bamUnmapped.out.sorted.mate2\",)"
   ]
  },
  {
   "cell_type": "code",
   "execution_count": 12,
   "metadata": {
    "collapsed": false
   },
   "outputs": [
    {
     "data": {
      "text/plain": [
       "3201450"
      ]
     },
     "execution_count": 12,
     "metadata": {},
     "output_type": "execute_result"
    }
   ],
   "source": [
    "12805800 / 4"
   ]
  },
  {
   "cell_type": "code",
   "execution_count": 13,
   "metadata": {
    "collapsed": false
   },
   "outputs": [
    {
     "data": {
      "text/plain": [
       "3201450"
      ]
     },
     "execution_count": 13,
     "metadata": {},
     "output_type": "execute_result"
    }
   ],
   "source": [
    "6402900 / 2"
   ]
  },
  {
   "cell_type": "code",
   "execution_count": null,
   "metadata": {
    "collapsed": true
   },
   "outputs": [],
   "source": [
    "/projects/ps-yeolab3/encode/analysis/encode_GRCh38_v1/397_INPUT_ATTACTCG-AGGCGAAG_L006_R1.unassigned.adapterTrim.round2.rmRep.bam"
   ]
  },
  {
   "cell_type": "code",
   "execution_count": 12,
   "metadata": {
    "collapsed": false
   },
   "outputs": [
    {
     "data": {
      "text/plain": [
       "'good'"
      ]
     },
     "execution_count": 12,
     "metadata": {},
     "output_type": "execute_result"
    }
   ],
   "source": [
    "check_order_fastq(\"/home/gpratt/ad-hoc/ENCFF190JME.fastq.gz\",\n",
    "            \"/home/gpratt/ad-hoc/ENCFF452ZGU.fastq.gz\",)\n",
    "            "
   ]
  },
  {
   "cell_type": "code",
   "execution_count": 3,
   "metadata": {
    "collapsed": false
   },
   "outputs": [],
   "source": [
    "def get_read_pairs(samfile):\n",
    "    while True:\n",
    "        try:\n",
    "            r1 = samfile.next()\n",
    "            r2 = samfile.next()\n",
    "            \n",
    "            if r1.query_name != r2.query_name:\n",
    "                old_r1 = r1\n",
    "                r1 = r2\n",
    "                r2 = samfile.next()\n",
    "                print old_r1.query_name, r1.query_name, r2.query_name\n",
    "                print \"skipping\"\n",
    "            yield r1, r2\n",
    "        except:\n",
    "            break\n",
    "\n",
    "def check_sam_order_robust(sam_file):\n",
    "    sam = pysam.Samfile(sam_file)\n",
    "    error_count = 0 \n",
    "    for r1, r2 in get_read_pairs(sam):\n",
    "\n",
    "        if r1.query_name != r2.query_name:\n",
    "            error_count += 1\n",
    "            print \"error\"\n",
    "            print r1, r2\n",
    "            if error_count == 100:\n",
    "                break\n"
   ]
  },
  {
   "cell_type": "code",
   "execution_count": null,
   "metadata": {
    "collapsed": true
   },
   "outputs": [],
   "source": [
    "(1) Kapeli, K.; Pratt, G. A.; Vu, A. Q.; Hutt, K. R.; Martinez, F. J.; Sundararaman, B.; Batra, R.; \n",
    "Freese, P.; Lambert, N. J.; Huelga, S. C.; Chun, S. J.; Liang, T. Y.; Chang, J.; Donohue, J. P.; Shiue, L.; Zhang, J.; \n",
    "Zhu, H.; Cambi, F.; Kasarskis, E.; Hoon, S.; Jr, M. A.; Burge, C. B.; Ravits, J.; Rigo, F.; Yeo, G. W. Nat. Commun. 2016, 7, 1–14."
   ]
  },
  {
   "cell_type": "code",
   "execution_count": 5,
   "metadata": {
    "collapsed": false
   },
   "outputs": [
    {
     "name": "stdout",
     "output_type": "stream",
     "text": [
      "CTCAGCAACA:HWI-D00611:153:C6PBEANXX:6:1207:16826:70711 CCCTCCCCCA:HWI-D00611:153:C6PBEANXX:6:2107:15508:99584 CCCTCCCCCA:HWI-D00611:153:C6PBEANXX:6:2107:15508:99584\n",
      "skipping\n",
      "CTCAGCAACA:HWI-D00611:153:C6PBEANXX:6:1207:16826:70711 CTCAGCAACA:HWI-D00611:153:C6PBEANXX:6:1212:18934:18097 CTCAGCAACA:HWI-D00611:153:C6PBEANXX:6:1212:18934:18097\n",
      "skipping\n"
     ]
    }
   ],
   "source": [
    "check_sam_order_robust(\"/projects/ps-yeolab3/encode/analysis/encode_GRCh38_v1/397_INPUT_ATTACTCG-AGGCGAAG_L006_R1.unassigned.adapterTrim.round2.rmRep.bam\")"
   ]
  },
  {
   "cell_type": "code",
   "execution_count": 23,
   "metadata": {
    "collapsed": false
   },
   "outputs": [
    {
     "name": "stdout",
     "output_type": "stream",
     "text": [
      "CTTCCGCCTA:K00180:131:H7J3YBBXX:7:2110:6542:2949 ACATTCAGCG:K00180:131:H7J3YBBXX:7:2212:14489:22450 ACATTCAGCG:K00180:131:H7J3YBBXX:7:2212:14489:22450\n",
      "skipping\n",
      "CTTCCGCCTA:K00180:131:H7J3YBBXX:7:2110:6542:2949 CTTCCGCCTA:K00180:131:H7J3YBBXX:7:2112:16914:25632 CTTCCGCCTA:K00180:131:H7J3YBBXX:7:2112:16914:25632\n",
      "skipping\n"
     ]
    }
   ],
   "source": [
    "check_sam_order_robust(\"/projects/ps-yeolab/encode/analysis/encode_v13/LNG2-S_CLIP_S80_L007_R1_001.B06_LNG2-S_CLIP_RBFOX2.adapterTrim.round2.rmRep.bam\")"
   ]
  },
  {
   "cell_type": "code",
   "execution_count": 24,
   "metadata": {
    "collapsed": true
   },
   "outputs": [],
   "source": [
    "check_sam_order_robust(\"/projects/ps-yeolab/encode/analysis/encode_v13/613_CLIP_S43_L004_R1_001.G07_613_01_RPL23A.adapterTrim.round2.rmRep.bam.sorted.bam\")"
   ]
  },
  {
   "cell_type": "code",
   "execution_count": 27,
   "metadata": {
    "collapsed": false
   },
   "outputs": [],
   "source": [
    "check_sam_order_robust(\"/projects/ps-yeolab/encode/analysis/encode_v13/LNG2-S_CLIP_S80_L007_R1_001.B06_LNG2-S_CLIP_RBFOX2.adapterTrim.round2.rmRep.bam.sorted.bam\")"
   ]
  },
  {
   "cell_type": "code",
   "execution_count": 15,
   "metadata": {
    "collapsed": true
   },
   "outputs": [],
   "source": [
    "check_sam_order_robust(\"/projects/ps-yeolab3/encode/analysis/manual_sort_of_GRCh38/275_CLIP_GAGATTCC-ATAGAGGC_L004_R1.C01_275_02_CSTF2T.adapterTrim.round2.rmRep.sorted.bam\")\n",
    "14734708"
   ]
  },
  {
   "cell_type": "code",
   "execution_count": null,
   "metadata": {
    "collapsed": true
   },
   "outputs": [],
   "source": [
    "/projects/ps-yeolab3/encode/analysis/encode_GRCh38_v1/275_CLIP_GAGATTCC-ATAGAGGC_L004_R1.C01_275_02_CSTF2T.adapterTrim.round2.rmRep.bam"
   ]
  },
  {
   "cell_type": "code",
   "execution_count": 21,
   "metadata": {
    "collapsed": false
   },
   "outputs": [
    {
     "data": {
      "text/plain": [
       "14734708"
      ]
     },
     "execution_count": 21,
     "metadata": {},
     "output_type": "execute_result"
    }
   ],
   "source": [
    "29469416 / 2"
   ]
  },
  {
   "cell_type": "code",
   "execution_count": 16,
   "metadata": {
    "collapsed": true
   },
   "outputs": [],
   "source": [
    "check_sam_order_robust(\"/projects/ps-yeolab3/encode/analysis/manual_sort_of_GRCh38/397_INPUT_ATTACTCG-AGGCGAAG_L006_R1.unassigned.adapterTrim.round2.rmRep.sorted.bam\")\n"
   ]
  },
  {
   "cell_type": "code",
   "execution_count": 22,
   "metadata": {
    "collapsed": false
   },
   "outputs": [
    {
     "name": "stdout",
     "output_type": "stream",
     "text": [
      "6402900 + 0 in total (QC-passed reads + QC-failed reads)\r\n",
      "0 + 0 duplicates\r\n",
      "4484712 + 0 mapped (70.04%:-nan%)\r\n",
      "6402900 + 0 paired in sequencing\r\n",
      "3201450 + 0 read1\r\n",
      "3201450 + 0 read2\r\n",
      "4483452 + 0 properly paired (70.02%:-nan%)\r\n",
      "4483452 + 0 with itself and mate mapped\r\n",
      "1260 + 0 singletons (0.02%:-nan%)\r\n",
      "0 + 0 with mate mapped to a different chr\r\n",
      "0 + 0 with mate mapped to a different chr (mapQ>=5)\r\n"
     ]
    }
   ],
   "source": [
    "!samtools flagstat /projects/ps-yeolab3/encode/analysis/encode_GRCh38_v1/397_INPUT_ATTACTCG-AGGCGAAG_L006_R1.unassigned.adapterTrim.round2.rmRep.bam"
   ]
  },
  {
   "cell_type": "code",
   "execution_count": 23,
   "metadata": {
    "collapsed": false
   },
   "outputs": [
    {
     "name": "stdout",
     "output_type": "stream",
     "text": [
      "1105445 /projects/ps-yeolab3/encode/analysis/encode_GRCh38_v1/397_INPUT_ATTACTCG-AGGCGAAG_L006_R1.unassigned.adapterTrim.round2.rmRep.bam\r\n"
     ]
    }
   ],
   "source": [
    "!wc -l /projects/ps-yeolab3/encode/analysis/encode_GRCh38_v1/397_INPUT_ATTACTCG-AGGCGAAG_L006_R1.unassigned.adapterTrim.round2.rmRep.bam"
   ]
  },
  {
   "cell_type": "code",
   "execution_count": 17,
   "metadata": {
    "collapsed": true
   },
   "outputs": [],
   "source": [
    "check_sam_order_robust(\"/projects/ps-yeolab3/encode/analysis/manual_sort_of_GRCh38/464_CLIP_GAGATTCC-TAATCTTA_L002_R1.B06_464_02_FTO.adapterTrim.round2.rmRep.sorted.bam\")\n"
   ]
  },
  {
   "cell_type": "code",
   "execution_count": 24,
   "metadata": {
    "collapsed": false
   },
   "outputs": [
    {
     "name": "stdout",
     "output_type": "stream",
     "text": [
      "6507470 + 0 in total (QC-passed reads + QC-failed reads)\r\n",
      "0 + 0 duplicates\r\n",
      "4901814 + 0 mapped (75.33%:-nan%)\r\n",
      "6507470 + 0 paired in sequencing\r\n",
      "3253735 + 0 read1\r\n",
      "3253735 + 0 read2\r\n",
      "4899080 + 0 properly paired (75.28%:-nan%)\r\n",
      "4899080 + 0 with itself and mate mapped\r\n",
      "2734 + 0 singletons (0.04%:-nan%)\r\n",
      "0 + 0 with mate mapped to a different chr\r\n",
      "0 + 0 with mate mapped to a different chr (mapQ>=5)\r\n"
     ]
    }
   ],
   "source": [
    "!samtools flagstat  /projects/ps-yeolab3/encode/analysis/encode_GRCh38_v1/464_CLIP_GAGATTCC-TAATCTTA_L002_R1.B06_464_02_FTO.adapterTrim.round2.rmRep.bam"
   ]
  },
  {
   "cell_type": "code",
   "execution_count": 32,
   "metadata": {
    "collapsed": false
   },
   "outputs": [
    {
     "name": "stdout",
     "output_type": "stream",
     "text": [
      "13014940 /projects/ps-yeolab3/encode/analysis/encode_GRCh38_v1/464_CLIP_GAGATTCC-TAATCTTA_L002_R1.B06_464_02_FTO.adapterTrim.round2.rep.bamUnmapped.out.sorted.mate1\r\n"
     ]
    }
   ],
   "source": [
    "!wc -l /projects/ps-yeolab3/encode/analysis/encode_GRCh38_v1/464_CLIP_GAGATTCC-TAATCTTA_L002_R1.B06_464_02_FTO.adapterTrim.round2.rep.bamUnmapped.out.sorted.mate1"
   ]
  },
  {
   "cell_type": "code",
   "execution_count": null,
   "metadata": {
    "collapsed": true
   },
   "outputs": [],
   "source": [
    "13014940 / 2"
   ]
  },
  {
   "cell_type": "code",
   "execution_count": 18,
   "metadata": {
    "collapsed": true
   },
   "outputs": [],
   "source": [
    "check_sam_order_robust(\"/projects/ps-yeolab3/encode/analysis/manual_sort_of_GRCh38/500_CLIP_S3_L001_R1_001.B06_500_01_RAVER1.adapterTrim.round2.rmRep.sorted.bam\")\n"
   ]
  },
  {
   "cell_type": "code",
   "execution_count": 26,
   "metadata": {
    "collapsed": false
   },
   "outputs": [
    {
     "name": "stdout",
     "output_type": "stream",
     "text": [
      "9095838 + 0 in total (QC-passed reads + QC-failed reads)\r\n",
      "0 + 0 duplicates\r\n",
      "7060258 + 0 mapped (77.62%:-nan%)\r\n",
      "9095838 + 0 paired in sequencing\r\n",
      "4547919 + 0 read1\r\n",
      "4547919 + 0 read2\r\n",
      "7058430 + 0 properly paired (77.60%:-nan%)\r\n",
      "7058430 + 0 with itself and mate mapped\r\n",
      "1828 + 0 singletons (0.02%:-nan%)\r\n",
      "0 + 0 with mate mapped to a different chr\r\n",
      "0 + 0 with mate mapped to a different chr (mapQ>=5)\r\n"
     ]
    }
   ],
   "source": [
    "!samtools flagstat /projects/ps-yeolab3/encode/analysis/encode_GRCh38_v1/500_CLIP_S3_L001_R1_001.B06_500_01_RAVER1.adapterTrim.round2.rmRep.bam"
   ]
  },
  {
   "cell_type": "code",
   "execution_count": 27,
   "metadata": {
    "collapsed": false
   },
   "outputs": [
    {
     "name": "stdout",
     "output_type": "stream",
     "text": [
      "1271396 /projects/ps-yeolab3/encode/analysis/encode_GRCh38_v1/500_CLIP_S3_L001_R1_001.B06_500_01_RAVER1.adapterTrim.round2.rmRep.bam\r\n"
     ]
    }
   ],
   "source": [
    "!wc -l /projects/ps-yeolab3/encode/analysis/encode_GRCh38_v1/500_CLIP_S3_L001_R1_001.B06_500_01_RAVER1.adapterTrim.round2.rep.bamUnmapped.out.sorted.mate1"
   ]
  },
  {
   "cell_type": "code",
   "execution_count": 34,
   "metadata": {
    "collapsed": false
   },
   "outputs": [
    {
     "data": {
      "text/plain": [
       "635698"
      ]
     },
     "execution_count": 34,
     "metadata": {},
     "output_type": "execute_result"
    }
   ],
   "source": [
    "1271396 / 2"
   ]
  },
  {
   "cell_type": "code",
   "execution_count": 19,
   "metadata": {
    "collapsed": true
   },
   "outputs": [],
   "source": [
    "check_sam_order_robust(\"/projects/ps-yeolab3/encode/analysis/manual_sort_of_GRCh38/520_CLIP_S23_L003_R1_001.B06_520_01_RTF1.adapterTrim.round2.rmRep.sorted.bam\")\n"
   ]
  },
  {
   "cell_type": "code",
   "execution_count": 28,
   "metadata": {
    "collapsed": false
   },
   "outputs": [
    {
     "name": "stdout",
     "output_type": "stream",
     "text": [
      "5931364 + 0 in total (QC-passed reads + QC-failed reads)\r\n",
      "0 + 0 duplicates\r\n",
      "3612511 + 0 mapped (60.91%:-nan%)\r\n",
      "5931364 + 0 paired in sequencing\r\n",
      "2965682 + 0 read1\r\n",
      "2965682 + 0 read2\r\n",
      "3611356 + 0 properly paired (60.89%:-nan%)\r\n",
      "3611356 + 0 with itself and mate mapped\r\n",
      "1155 + 0 singletons (0.02%:-nan%)\r\n",
      "0 + 0 with mate mapped to a different chr\r\n",
      "0 + 0 with mate mapped to a different chr (mapQ>=5)\r\n"
     ]
    }
   ],
   "source": [
    "!samtools flagstat /projects/ps-yeolab3/encode/analysis/encode_GRCh38_v1/520_CLIP_S23_L003_R1_001.B06_520_01_RTF1.adapterTrim.round2.rmRep.bam"
   ]
  },
  {
   "cell_type": "code",
   "execution_count": 36,
   "metadata": {
    "collapsed": false
   },
   "outputs": [
    {
     "name": "stdout",
     "output_type": "stream",
     "text": [
      "11862728 /projects/ps-yeolab3/encode/analysis/encode_GRCh38_v1/520_CLIP_S23_L003_R1_001.B06_520_01_RTF1.adapterTrim.round2.rep.bamUnmapped.out.sorted.mate1\r\n"
     ]
    }
   ],
   "source": [
    "!wc -l /projects/ps-yeolab3/encode/analysis/encode_GRCh38_v1/520_CLIP_S23_L003_R1_001.B06_520_01_RTF1.adapterTrim.round2.rep.bamUnmapped.out.sorted.mate1"
   ]
  },
  {
   "cell_type": "code",
   "execution_count": 38,
   "metadata": {
    "collapsed": false
   },
   "outputs": [
    {
     "data": {
      "text/plain": [
       "5931364"
      ]
     },
     "execution_count": 38,
     "metadata": {},
     "output_type": "execute_result"
    }
   ],
   "source": [
    "11862728 / 2"
   ]
  },
  {
   "cell_type": "code",
   "execution_count": 20,
   "metadata": {
    "collapsed": true
   },
   "outputs": [],
   "source": [
    "check_sam_order_robust(\"/projects/ps-yeolab3/encode/analysis/manual_sort_of_GRCh38/LNG6-E_CLIP_S82_L007_R1_001.F05_LNG6-E_CLIP_U2AF2.adapterTrim.round2.rmRep.sorted.bam\")\n"
   ]
  },
  {
   "cell_type": "code",
   "execution_count": 30,
   "metadata": {
    "collapsed": false
   },
   "outputs": [
    {
     "name": "stdout",
     "output_type": "stream",
     "text": [
      "14115452 + 0 in total (QC-passed reads + QC-failed reads)\r\n",
      "0 + 0 duplicates\r\n",
      "11041419 + 0 mapped (78.22%:-nan%)\r\n",
      "14115452 + 0 paired in sequencing\r\n",
      "7057726 + 0 read1\r\n",
      "7057726 + 0 read2\r\n",
      "11036452 + 0 properly paired (78.19%:-nan%)\r\n",
      "11036452 + 0 with itself and mate mapped\r\n",
      "4967 + 0 singletons (0.04%:-nan%)\r\n",
      "0 + 0 with mate mapped to a different chr\r\n",
      "0 + 0 with mate mapped to a different chr (mapQ>=5)\r\n"
     ]
    }
   ],
   "source": [
    "!samtools flagstat /projects/ps-yeolab3/encode/analysis/encode_GRCh38_v1/LNG6-E_CLIP_S82_L007_R1_001.F05_LNG6-E_CLIP_U2AF2.adapterTrim.round2.rmRep.bam"
   ]
  },
  {
   "cell_type": "code",
   "execution_count": 39,
   "metadata": {
    "collapsed": false
   },
   "outputs": [
    {
     "name": "stdout",
     "output_type": "stream",
     "text": [
      "28230904 /projects/ps-yeolab3/encode/analysis/encode_GRCh38_v1/LNG6-E_CLIP_S82_L007_R1_001.F05_LNG6-E_CLIP_U2AF2.adapterTrim.round2.rep.bamUnmapped.out.sorted.mate1\r\n"
     ]
    }
   ],
   "source": [
    "!wc -l /projects/ps-yeolab3/encode/analysis/encode_GRCh38_v1/LNG6-E_CLIP_S82_L007_R1_001.F05_LNG6-E_CLIP_U2AF2.adapterTrim.round2.rep.bamUnmapped.out.sorted.mate1"
   ]
  },
  {
   "cell_type": "code",
   "execution_count": 40,
   "metadata": {
    "collapsed": false
   },
   "outputs": [
    {
     "data": {
      "text/plain": [
       "14115452"
      ]
     },
     "execution_count": 40,
     "metadata": {},
     "output_type": "execute_result"
    }
   ],
   "source": [
    "28230904 / 2"
   ]
  },
  {
   "cell_type": "code",
   "execution_count": 63,
   "metadata": {
    "collapsed": true
   },
   "outputs": [],
   "source": [
    "def check_order_fastq(r1, r2):\n",
    "    count = 0\n",
    "    errors = 0 \n",
    "    with gzip.open(r1) as mate1:\n",
    "        with gzip.open(r2) as mate2:\n",
    "            while True:\n",
    "                try:\n",
    "                    count += 1\n",
    "                    r1 = mate1.next()\n",
    "                    r2 = mate2.next()  \n",
    "                    \n",
    "                    if r1 != r2:\n",
    "                        old_r1 = r1\n",
    "                        r1 = mate1.next()\n",
    "                        print old_r1, r1, r2\n",
    "                        print \"skipping\"\n",
    "                        print r1 == r2\n",
    "                        break\n",
    "                except StopIteration:\n",
    "                    break\n",
    "                if r1 != r2:\n",
    "                    errors += 1\n",
    "                    #print r1, r2\n",
    "                    #return \"out of order\"\n",
    "    return \"good\", errors\n"
   ]
  },
  {
   "cell_type": "code",
   "execution_count": 64,
   "metadata": {
    "collapsed": false
   },
   "outputs": [
    {
     "name": "stdout",
     "output_type": "stream",
     "text": [
      "@AGATA:HWI-D00611:100:C6DB4ANXX:3:1311:10029:66047 2:N:0:ATTACTCGAGGCGAAG\n",
      "GGCTGAGGAGCCAATGGGGCGAAGCTACCATCTGTGGAACTTGTA\n",
      "@AAAGC:HWI-D00611:100:C6DB4ANXX:3:1311:9922:66211 2:N:0:ATTACTCGAGGCGAAG\n",
      "\n",
      "skipping\n",
      "False\n"
     ]
    },
    {
     "data": {
      "text/plain": [
       "('good', 0)"
      ]
     },
     "execution_count": 64,
     "metadata": {},
     "output_type": "execute_result"
    }
   ],
   "source": [
    "check_order_fastq(\"/home/gpratt/ad-hoc/228_02_SF3B4.R2.fastq.gz\", \"/home/gpratt/ad-hoc/ENCFF722QLW.fastq.gz\")"
   ]
  },
  {
   "cell_type": "code",
   "execution_count": 56,
   "metadata": {
    "collapsed": false
   },
   "outputs": [
    {
     "data": {
      "text/plain": [
       "'out of order'"
      ]
     },
     "execution_count": 56,
     "metadata": {},
     "output_type": "execute_result"
    }
   ],
   "source": [
    "check_order_fastq(\"/home/gpratt/ad-hoc/ENCFF722QLW.fastq.gz\", \"/home/gpratt/ad-hoc/228_02_SF3B4.R1.fastq.gz\")"
   ]
  },
  {
   "cell_type": "code",
   "execution_count": 83,
   "metadata": {
    "collapsed": true
   },
   "outputs": [],
   "source": [
    "\n",
    "def get_read_name_set(r1):\n",
    "    read_name_set = set([])\n",
    "    with gzip.open(r1) as mate1:\n",
    "            while True:\n",
    "                try:\n",
    "                    r1_id = mate1.next().strip()\n",
    "                    r1_seq = mate1.next()\n",
    "                    r1_null = mate1.next()\n",
    "                    r1_qscore = mate1.next()\n",
    "                    read_name_set.add(r1_id)\n",
    "                except StopIteration:\n",
    "                    break\n",
    "    return read_name_set"
   ]
  },
  {
   "cell_type": "code",
   "execution_count": 92,
   "metadata": {
    "collapsed": false
   },
   "outputs": [],
   "source": [
    "encode = get_read_name_set(\"/home/gpratt/ad-hoc/ENCFF722QLW.fastq.gz\")"
   ]
  },
  {
   "cell_type": "code",
   "execution_count": 93,
   "metadata": {
    "collapsed": true
   },
   "outputs": [],
   "source": [
    "local = get_read_name_set(\"/home/gpratt/ad-hoc/228_02_SF3B4.R2.fastq.gz\")"
   ]
  },
  {
   "cell_type": "code",
   "execution_count": 94,
   "metadata": {
    "collapsed": false
   },
   "outputs": [
    {
     "data": {
      "text/plain": [
       "9383938"
      ]
     },
     "execution_count": 94,
     "metadata": {},
     "output_type": "execute_result"
    }
   ],
   "source": [
    "len(encode)"
   ]
  },
  {
   "cell_type": "code",
   "execution_count": 95,
   "metadata": {
    "collapsed": false
   },
   "outputs": [
    {
     "data": {
      "text/plain": [
       "9383896"
      ]
     },
     "execution_count": 95,
     "metadata": {},
     "output_type": "execute_result"
    }
   ],
   "source": [
    "len(local)"
   ]
  },
  {
   "cell_type": "code",
   "execution_count": 96,
   "metadata": {
    "collapsed": false
   },
   "outputs": [
    {
     "data": {
      "text/plain": [
       "9383896"
      ]
     },
     "execution_count": 96,
     "metadata": {},
     "output_type": "execute_result"
    }
   ],
   "source": [
    "len(local & encode)"
   ]
  },
  {
   "cell_type": "code",
   "execution_count": 97,
   "metadata": {
    "collapsed": false
   },
   "outputs": [
    {
     "data": {
      "text/plain": [
       "set()"
      ]
     },
     "execution_count": 97,
     "metadata": {},
     "output_type": "execute_result"
    }
   ],
   "source": [
    "local - encode"
   ]
  },
  {
   "cell_type": "code",
   "execution_count": 99,
   "metadata": {
    "collapsed": false
   },
   "outputs": [
    {
     "data": {
      "text/plain": [
       "42"
      ]
     },
     "execution_count": 99,
     "metadata": {},
     "output_type": "execute_result"
    }
   ],
   "source": [
    "len(encode - local)"
   ]
  },
  {
   "cell_type": "code",
   "execution_count": 2,
   "metadata": {
    "collapsed": false
   },
   "outputs": [
    {
     "data": {
      "text/plain": [
       "9383938"
      ]
     },
     "execution_count": 2,
     "metadata": {},
     "output_type": "execute_result"
    }
   ],
   "source": [
    "(18589168 + 18946584) / 4"
   ]
  },
  {
   "cell_type": "code",
   "execution_count": 100,
   "metadata": {
    "collapsed": false
   },
   "outputs": [
    {
     "data": {
      "text/plain": [
       "{'@AAAAA:HWI-D00611:100:C6DB4ANXX:3:1115:5236:77436 2:N:0:ATTACTCGAGGCGAAG',\n",
       " '@AAAAG:HWI-D00611:100:C6DB4ANXX:3:1303:10453:72888 2:N:0:ATTACTCGAGGCGAAG',\n",
       " '@AAAGC:HWI-D00611:100:C6DB4ANXX:3:1311:9922:66211 2:N:0:ATTACTCGAGGCGAAG',\n",
       " '@AAATA:HWI-D00611:100:C6DB4ANXX:3:1110:8356:23394 2:N:0:ATTACTCGAGGCGAAG',\n",
       " '@AAATA:HWI-D00611:100:C6DB4ANXX:3:2110:20573:39333 2:N:0:ATTACTCGAGGCGAAG',\n",
       " '@AATAA:HWI-D00611:100:C6DB4ANXX:3:1105:13474:84522 2:N:0:ATTACTCGAGGCGAAG',\n",
       " '@AATAG:HWI-D00611:100:C6DB4ANXX:3:2103:12839:71568 2:N:0:ATTACTCGAGGCGAAG',\n",
       " '@ACAAA:HWI-D00611:100:C6DB4ANXX:3:1311:4608:82431 2:N:0:ATTACTCGAGGCGAAG',\n",
       " '@ACCCA:HWI-D00611:100:C6DB4ANXX:3:1201:5452:36283 2:N:0:ATTACTCGAGGCGAAG',\n",
       " '@AGACC:HWI-D00611:100:C6DB4ANXX:3:1103:18078:99002 2:N:0:ATTACTCGAGGCGAAG',\n",
       " '@AGGCC:HWI-D00611:100:C6DB4ANXX:3:2110:9164:2403 2:N:0:ATTACTCGAGGCGAAG',\n",
       " '@AGGCC:HWI-D00611:100:C6DB4ANXX:3:2113:2835:89009 2:N:0:ATTACTCGAGGCGAAG',\n",
       " '@ATAGC:HWI-D00611:100:C6DB4ANXX:3:2314:1683:95525 2:N:0:ATTACTCGAGGCGAAG',\n",
       " '@ATCAA:HWI-D00611:100:C6DB4ANXX:3:2104:17961:70563 2:N:0:ATTACTCGAGGCGAAG',\n",
       " '@ATCAA:HWI-D00611:100:C6DB4ANXX:3:2106:9002:96661 2:N:0:ATTACTCGAGGCGAAG',\n",
       " '@ATCTT:HWI-D00611:100:C6DB4ANXX:3:1213:9883:55727 2:N:0:ATTACTCGAGGCGAAG',\n",
       " '@ATCTT:HWI-D00611:100:C6DB4ANXX:3:2115:10653:43817 2:N:0:ATTACTCGAGGCGAAG',\n",
       " '@ATCTT:HWI-D00611:100:C6DB4ANXX:3:2215:4545:15818 2:N:0:ATTACTCGAGGCGAAG',\n",
       " '@CCCAG:HWI-D00611:100:C6DB4ANXX:3:2111:18258:40632 2:N:0:ATTACTCGAGGCGAAG',\n",
       " '@CCCCG:HWI-D00611:100:C6DB4ANXX:3:1316:4188:2551 2:N:0:ATTACTCGAGGCGAAG',\n",
       " '@CCTCG:HWI-D00611:100:C6DB4ANXX:3:1110:6463:8392 2:N:0:ATTACTCGAGGCGAAG',\n",
       " '@CGTGC:HWI-D00611:100:C6DB4ANXX:3:1214:2600:95292 2:N:0:ATTACTCGAGGCGAAG',\n",
       " '@CGTGC:HWI-D00611:100:C6DB4ANXX:3:1316:12454:42217 2:N:0:ATTACTCGAGGCGAAG',\n",
       " '@CGTGC:HWI-D00611:100:C6DB4ANXX:3:2202:20868:27348 2:N:0:ATTACTCGAGGCGAAG',\n",
       " '@GAAGG:HWI-D00611:100:C6DB4ANXX:3:2210:4714:58362 2:N:0:ATTACTCGAGGCGAAG',\n",
       " '@GAAGT:HWI-D00611:100:C6DB4ANXX:3:2110:4941:96010 2:N:0:ATTACTCGAGGCGAAG',\n",
       " '@GAATT:HWI-D00611:100:C6DB4ANXX:3:1114:4636:87277 2:N:0:ATTACTCGAGGCGAAG',\n",
       " '@GACTA:HWI-D00611:100:C6DB4ANXX:3:2203:17078:4402 2:N:0:ATTACTCGAGGCGAAG',\n",
       " '@GCCAA:HWI-D00611:100:C6DB4ANXX:3:2109:10519:40646 2:N:0:ATTACTCGAGGCGAAG',\n",
       " '@GCCCA:HWI-D00611:100:C6DB4ANXX:3:1216:14085:22309 2:N:0:ATTACTCGAGGCGAAG',\n",
       " '@GCGGC:HWI-D00611:100:C6DB4ANXX:3:1315:7333:41785 2:N:0:ATTACTCGAGGCGAAG',\n",
       " '@GGAGA:HWI-D00611:100:C6DB4ANXX:3:2206:7313:12565 2:N:0:ATTACTCGAGGCGAAG',\n",
       " '@GGGGA:HWI-D00611:100:C6DB4ANXX:3:1104:6428:11878 2:N:0:ATTACTCGAGGCGAAG',\n",
       " '@GGGGA:HWI-D00611:100:C6DB4ANXX:3:1316:1397:85652 2:N:0:ATTACTCGAGGCGAAG',\n",
       " '@GTACC:HWI-D00611:100:C6DB4ANXX:3:1206:1318:83949 2:N:0:ATTACTCGAGGCGAAG',\n",
       " '@GTACC:HWI-D00611:100:C6DB4ANXX:3:1312:17485:91661 2:N:0:ATTACTCGAGGCGAAG',\n",
       " '@TCCAG:HWI-D00611:100:C6DB4ANXX:3:2201:4761:37091 2:N:0:ATTACTCGAGGCGAAG',\n",
       " '@TGAAC:HWI-D00611:100:C6DB4ANXX:3:1105:9352:31288 2:N:0:ATTACTCGAGGCGAAG',\n",
       " '@TGAAC:HWI-D00611:100:C6DB4ANXX:3:1115:8491:47514 2:N:0:ATTACTCGAGGCGAAG',\n",
       " '@TGAAC:HWI-D00611:100:C6DB4ANXX:3:2308:15988:45308 2:N:0:ATTACTCGAGGCGAAG',\n",
       " '@TGACG:HWI-D00611:100:C6DB4ANXX:3:1113:4126:29549 2:N:0:ATTACTCGAGGCGAAG',\n",
       " '@TTACG:HWI-D00611:100:C6DB4ANXX:3:2308:10179:35445 2:N:0:ATTACTCGAGGCGAAG'}"
      ]
     },
     "execution_count": 100,
     "metadata": {},
     "output_type": "execute_result"
    }
   ],
   "source": [
    "encode - local"
   ]
  },
  {
   "cell_type": "code",
   "execution_count": null,
   "metadata": {
    "collapsed": true
   },
   "outputs": [],
   "source": [
    "def check_order_fastq(r1, r2):\n",
    "    count = 0\n",
    "    errors = 0 \n",
    "    with gzip.open(r1) as mate1:\n",
    "        with gzip.open(r2) as mate2:\n",
    "            while True:\n",
    "                try:\n",
    "                    count += 1\n",
    "                    r1 = mate1.next()\n",
    "                    r2 = mate2.next()  \n",
    "                    \n",
    "                    if r1 != r2:\n",
    "                        old_r1 = r1\n",
    "                        r1 = mate1.next()\n",
    "                        print old_r1, r1, r2\n",
    "                        print \"skipping\"\n",
    "                        print r1 == r2\n",
    "                        break\n",
    "                except StopIteration:\n",
    "                    break\n",
    "                if r1 != r2:\n",
    "                    errors += 1\n",
    "                    #print r1, r2\n",
    "                    #return \"out of order\"\n",
    "    return \"good\", errors\n"
   ]
  }
 ],
 "metadata": {
  "kernelspec": {
   "display_name": "Python 2",
   "language": "python",
   "name": "python2"
  },
  "language_info": {
   "codemirror_mode": {
    "name": "ipython",
    "version": 2
   },
   "file_extension": ".py",
   "mimetype": "text/x-python",
   "name": "python",
   "nbconvert_exporter": "python",
   "pygments_lexer": "ipython2",
   "version": "2.7.12"
  }
 },
 "nbformat": 4,
 "nbformat_minor": 0
}
