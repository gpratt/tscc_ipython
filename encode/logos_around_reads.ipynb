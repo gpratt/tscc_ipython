{
 "cells": [
  {
   "cell_type": "code",
   "execution_count": 1,
   "metadata": {
    "collapsed": true
   },
   "outputs": [],
   "source": [
    "from collections import Counter\n",
    "\n",
    "import pysam\n",
    "import pybedtools\n",
    "from Bio import SeqIO\n",
    "import pandas as pd\n",
    "import os\n",
    "from IPython.core.display import HTML\n",
    "from Bio.Seq import Seq"
   ]
  },
  {
   "cell_type": "markdown",
   "metadata": {},
   "source": [
    "4 cases \n",
    "\n",
    "is read 1 and is not reverse:\n",
    "\n",
    "    start of read one is start of cDNA\n",
    "\n",
    "is read 1 and is reverse:\n",
    "\n",
    "    end of read 1 is start of cDNA\n",
    "\n",
    "is read 2 and is not reverse:\n",
    "\n",
    "    start of read 2 is end of cDNA\n",
    "    \n",
    "is read 2 and is reverse:\n",
    "\n",
    "    end of read2 is end of cDNA\n"
   ]
  },
  {
   "cell_type": "code",
   "execution_count": 11,
   "metadata": {
    "collapsed": true
   },
   "outputs": [],
   "source": [
    "from collections import Counter"
   ]
  },
  {
   "cell_type": "code",
   "execution_count": 47,
   "metadata": {
    "collapsed": false
   },
   "outputs": [],
   "source": [
    "def filer_short_reads(interval):\n",
    "    return len(interval) == 21\n",
    "\n",
    "def get_seq_logos(fn, out_file):\n",
    "    hg19_chrom_sizes = \"/projects/ps-yeolab/genomes/hg19/hg19.chrom.sizes\"\n",
    "    hg19_fasta = \"/projects/ps-yeolab/genomes/hg19/chromosomes/all.fa\"\n",
    "    \n",
    "    sam_file = pysam.Samfile(fn)\n",
    "    \n",
    "    cDNA_start_neg = []\n",
    "    cDNA_start_pos = []\n",
    "    cDNA_end_neg = []\n",
    "    cDNA_end_pos = []\n",
    "    \n",
    "    read_1_start_base = Counter()\n",
    "    read_2_start_base = Counter()\n",
    "    for x, read in enumerate(sam_file):\n",
    "        if read.is_read1 and not read.is_reverse:\n",
    "            cDNA_start_neg.append(pybedtools.create_interval_from_list([sam_file.getrname(read.tid),\n",
    "                                                                    read.positions[0],\n",
    "                                                                    read.positions[0] + 1,\n",
    "                                                                   0,\n",
    "                                                                   0,\n",
    "                                                                   \"-\"]))\n",
    "            r1_seq = Seq(read.query)\n",
    "            read_1_start_base[r1_seq[0]] += 1\n",
    "\n",
    "        if read.is_read1 and read.is_reverse:\n",
    "            cDNA_start_pos.append(pybedtools.create_interval_from_list([sam_file.getrname(read.tid),\n",
    "                                                                    read.positions[-1],\n",
    "                                                                    read.positions[-1] + 1,\n",
    "                                                                   0,\n",
    "                                                                   0,\n",
    "                                                                   \"+\"]))\n",
    "            r1_seq = Seq(read.query).reverse_complement()\n",
    "            read_1_start_base[r1_seq[0]] += 1\n",
    "\n",
    "        if read.is_read2 and not read.is_reverse:\n",
    "            cDNA_end_pos.append(pybedtools.create_interval_from_list([sam_file.getrname(read.tid),\n",
    "                                                                  read.positions[0],\n",
    "                                                                  read.positions[0] + 1,\n",
    "                                                                 0,\n",
    "                                                                   0,\n",
    "                                                                   \"+\"]))\n",
    "            r2_seq = Seq(read.query)\n",
    "            read_2_start_base[r2_seq[0]] += 1\n",
    "\n",
    "        if read.is_read2 and read.is_reverse:\n",
    "            cDNA_end_neg.append(pybedtools.create_interval_from_list([sam_file.getrname(read.tid), \n",
    "                                                                  read.positions[-1], \n",
    "                                                                  read.positions[-1] + 1,\n",
    "                                                                 0,\n",
    "                                                                   0,\n",
    "                                                                   \"-\"]))\n",
    "            r2_seq = Seq(read.query).reverse_complement()\n",
    "            read_2_start_base[r2_seq[0]] += 1\n",
    "\n",
    "    print \"done getting reads\"\n",
    "    cDNA_start = pybedtools.BedTool(cDNA_start_pos + cDNA_start_neg)\n",
    "    cDNA_end = pybedtools.BedTool(cDNA_end_pos + cDNA_end_neg)\n",
    "        \n",
    "    #Expand out to 10bp around the cDNA start\n",
    "    cDNA_start = cDNA_start.slop(b=10, g=hg19_chrom_sizes)\n",
    "    #Remove reads that are near the start and end of a chromosome and will therefore mess with seqlogo\n",
    "    cDNA_start = cDNA_start.filter(filer_short_reads).saveas()\n",
    "    result = cDNA_start.sequence(fi=hg19_fasta, s=True, fo=\"cDNA_start.fasta\")\n",
    "    \n",
    "    #Expand out to 10bp around the cDNA start\n",
    "    cDNA_end = cDNA_end.slop(b=10, g=hg19_chrom_sizes)\n",
    "    #Remove reads that are near the start and end of a chromosome and will therefore mess with seqlogo\n",
    "    cDNA_end = cDNA_end.filter(filer_short_reads).saveas()\n",
    "    result = cDNA_end.sequence(fi=hg19_fasta, s=True, fo=\"cDNA_end.fasta\")\n",
    "\n",
    "    out_cDNA_start = out_file + \".cDNA_start.pdf\"\n",
    "    out_cDNA_end = out_file + \".cDNA_end.pdf\"\n",
    "    \n",
    "#     !seqlogo -f cDNA_start.fasta -F PDF -Y -a -S -n -x \"nt from start\" -s -10 -c -k 1 -B 2 -T 1  > $out_cDNA_start\n",
    "#     !seqlogo -f cDNA_end.fasta -F PDF -Y -a -S -n -x \"nt from end\" -s -10 -c -k 1 -B 2 -T 1  > $out_cDNA_end\n",
    "    return read_1_start_base, read_2_start_base"
   ]
  },
  {
   "cell_type": "code",
   "execution_count": 22,
   "metadata": {
    "collapsed": false
   },
   "outputs": [
    {
     "name": "stdout",
     "output_type": "stream",
     "text": [
      "done getting reads\n",
      "done getting reads\n",
      "done getting reads\n",
      "done getting reads\n",
      "done getting reads\n"
     ]
    },
    {
     "ename": "IOError",
     "evalue": "file `/home/gpratt/projects/encode/analysis/ad-hoc/encode_bams/ENCFF728QXQ.bam` not found",
     "output_type": "error",
     "traceback": [
      "\u001b[1;31m---------------------------------------------------------------------------\u001b[0m",
      "\u001b[1;31mIOError\u001b[0m                                   Traceback (most recent call last)",
      "\u001b[1;32m<ipython-input-22-ac99de4e997b>\u001b[0m in \u001b[0;36m<module>\u001b[1;34m()\u001b[0m\n\u001b[0;32m      6\u001b[0m \u001b[0mget_seq_logos\u001b[0m\u001b[1;33m(\u001b[0m\u001b[0mos\u001b[0m\u001b[1;33m.\u001b[0m\u001b[0mpath\u001b[0m\u001b[1;33m.\u001b[0m\u001b[0mjoin\u001b[0m\u001b[1;33m(\u001b[0m\u001b[0mfile_dir\u001b[0m\u001b[1;33m,\u001b[0m \u001b[1;34m\"ENCFF995HAG.bam\"\u001b[0m\u001b[1;33m)\u001b[0m\u001b[1;33m,\u001b[0m \u001b[1;34m\"U2AF2_K562_Rep2\"\u001b[0m\u001b[1;33m)\u001b[0m\u001b[1;33m\u001b[0m\u001b[0m\n\u001b[0;32m      7\u001b[0m \u001b[0mget_seq_logos\u001b[0m\u001b[1;33m(\u001b[0m\u001b[0mos\u001b[0m\u001b[1;33m.\u001b[0m\u001b[0mpath\u001b[0m\u001b[1;33m.\u001b[0m\u001b[0mjoin\u001b[0m\u001b[1;33m(\u001b[0m\u001b[0mfile_dir\u001b[0m\u001b[1;33m,\u001b[0m \u001b[1;34m\"ENCFF523UFV.bam\"\u001b[0m\u001b[1;33m)\u001b[0m\u001b[1;33m,\u001b[0m \u001b[1;34m\"U2AF2_HepG2_Rep1\"\u001b[0m\u001b[1;33m)\u001b[0m\u001b[1;33m\u001b[0m\u001b[0m\n\u001b[1;32m----> 8\u001b[1;33m \u001b[0mget_seq_logos\u001b[0m\u001b[1;33m(\u001b[0m\u001b[0mos\u001b[0m\u001b[1;33m.\u001b[0m\u001b[0mpath\u001b[0m\u001b[1;33m.\u001b[0m\u001b[0mjoin\u001b[0m\u001b[1;33m(\u001b[0m\u001b[0mfile_dir\u001b[0m\u001b[1;33m,\u001b[0m \u001b[1;34m\"ENCFF728QXQ.bam\"\u001b[0m\u001b[1;33m)\u001b[0m\u001b[1;33m,\u001b[0m \u001b[1;34m\"U2AF2_HepG2_Rep2\"\u001b[0m\u001b[1;33m)\u001b[0m\u001b[1;33m\u001b[0m\u001b[0m\n\u001b[0m\u001b[0;32m      9\u001b[0m \u001b[0mget_seq_logos\u001b[0m\u001b[1;33m(\u001b[0m\u001b[0mos\u001b[0m\u001b[1;33m.\u001b[0m\u001b[0mpath\u001b[0m\u001b[1;33m.\u001b[0m\u001b[0mjoin\u001b[0m\u001b[1;33m(\u001b[0m\u001b[0mfile_dir\u001b[0m\u001b[1;33m,\u001b[0m \u001b[1;34m\"ENCFF282IRT.bam\"\u001b[0m\u001b[1;33m)\u001b[0m\u001b[1;33m,\u001b[0m \u001b[1;34m\"TRA2A_K562_Rep1\"\u001b[0m\u001b[1;33m)\u001b[0m\u001b[1;33m\u001b[0m\u001b[0m\n\u001b[0;32m     10\u001b[0m \u001b[0mget_seq_logos\u001b[0m\u001b[1;33m(\u001b[0m\u001b[0mos\u001b[0m\u001b[1;33m.\u001b[0m\u001b[0mpath\u001b[0m\u001b[1;33m.\u001b[0m\u001b[0mjoin\u001b[0m\u001b[1;33m(\u001b[0m\u001b[0mfile_dir\u001b[0m\u001b[1;33m,\u001b[0m \u001b[1;34m\"ENCFF111LPA.bam\"\u001b[0m\u001b[1;33m)\u001b[0m\u001b[1;33m,\u001b[0m \u001b[1;34m\"TRA2A_K562_Rep2\"\u001b[0m\u001b[1;33m)\u001b[0m\u001b[1;33m\u001b[0m\u001b[0m\n",
      "\u001b[1;32m<ipython-input-21-c503a5a9520c>\u001b[0m in \u001b[0;36mget_seq_logos\u001b[1;34m(fn, out_file)\u001b[0m\n\u001b[0;32m      6\u001b[0m     \u001b[0mhg19_fasta\u001b[0m \u001b[1;33m=\u001b[0m \u001b[1;34m\"/projects/ps-yeolab/genomes/hg19/chromosomes/all.fa\"\u001b[0m\u001b[1;33m\u001b[0m\u001b[0m\n\u001b[0;32m      7\u001b[0m \u001b[1;33m\u001b[0m\u001b[0m\n\u001b[1;32m----> 8\u001b[1;33m     \u001b[0msam_file\u001b[0m \u001b[1;33m=\u001b[0m \u001b[0mpysam\u001b[0m\u001b[1;33m.\u001b[0m\u001b[0mSamfile\u001b[0m\u001b[1;33m(\u001b[0m\u001b[0mfn\u001b[0m\u001b[1;33m)\u001b[0m\u001b[1;33m\u001b[0m\u001b[0m\n\u001b[0m\u001b[0;32m      9\u001b[0m \u001b[1;33m\u001b[0m\u001b[0m\n\u001b[0;32m     10\u001b[0m     \u001b[0mcDNA_start_neg\u001b[0m \u001b[1;33m=\u001b[0m \u001b[1;33m[\u001b[0m\u001b[1;33m]\u001b[0m\u001b[1;33m\u001b[0m\u001b[0m\n",
      "\u001b[1;32mpysam/calignmentfile.pyx\u001b[0m in \u001b[0;36mpysam.calignmentfile.AlignmentFile.__cinit__ (pysam/calignmentfile.c:4929)\u001b[1;34m()\u001b[0m\n",
      "\u001b[1;32mpysam/calignmentfile.pyx\u001b[0m in \u001b[0;36mpysam.calignmentfile.AlignmentFile._open (pysam/calignmentfile.c:5646)\u001b[1;34m()\u001b[0m\n",
      "\u001b[1;32mpysam/calignmentfile.pyx\u001b[0m in \u001b[0;36mpysam.calignmentfile.AlignmentFile._open (pysam/calignmentfile.c:6905)\u001b[1;34m()\u001b[0m\n",
      "\u001b[1;31mIOError\u001b[0m: file `/home/gpratt/projects/encode/analysis/ad-hoc/encode_bams/ENCFF728QXQ.bam` not found"
     ]
    }
   ],
   "source": [
    "#PTBP Rep 2\n",
    "file_dir = \"/home/gpratt/projects/encode/analysis/ad-hoc/encode_bams\"\n",
    "get_seq_logos(os.path.join(file_dir, \"ENCFF511GIO.bam\"), \"PTBP_K562_Rep1\")\n",
    "get_seq_logos(os.path.join(file_dir, \"ENCFF227OUZ.bam\"), \"PTBP_K562_Rep2\")            \n",
    "get_seq_logos(os.path.join(file_dir, \"ENCFF289RXU.bam\"), \"U2AF2_K562_Rep1\")\n",
    "get_seq_logos(os.path.join(file_dir, \"ENCFF995HAG.bam\"), \"U2AF2_K562_Rep2\")\n",
    "get_seq_logos(os.path.join(file_dir, \"ENCFF523UFV.bam\"), \"U2AF2_HepG2_Rep1\")\n",
    "get_seq_logos(os.path.join(file_dir, \"ENCFF728QXQ.bam\"), \"U2AF2_HepG2_Rep2\")\n",
    "get_seq_logos(os.path.join(file_dir, \"ENCFF282IRT.bam\"), \"TRA2A_K562_Rep1\")\n",
    "get_seq_logos(os.path.join(file_dir, \"ENCFF111LPA.bam\"), \"TRA2A_K562_Rep2\")"
   ]
  },
  {
   "cell_type": "code",
   "execution_count": 31,
   "metadata": {
    "collapsed": false
   },
   "outputs": [
    {
     "data": {
      "text/plain": [
       "'/projects/ps-yeolab3/encode/analysis/encode_master/TDP_AFFSC_TARDBP.merged.bam'"
      ]
     },
     "execution_count": 31,
     "metadata": {},
     "output_type": "execute_result"
    }
   ],
   "source": [
    "os.path.join(file_dir, \"TDP_AFFSC_TARDBP.merged.bam\")"
   ]
  },
  {
   "cell_type": "code",
   "execution_count": 30,
   "metadata": {
    "collapsed": false
   },
   "outputs": [
    {
     "name": "stdout",
     "output_type": "stream",
     "text": [
      "GACTAGCCCC:K00180:248:HCT55BBXX:7:1223:8308:48034\t147\t0\t14943\t255\t20M9D23M\t0\t14932\t43\tGGGCGGGCAGCGGCCCTGCCTGCGCCTCATGACCAGCTTGTTG\tarray('B', [41, 27, 41, 41, 41, 41, 41, 41, 41, 41, 41, 41, 37, 37, 41, 41, 41, 41, 41, 41, 41, 41, 41, 41, 41, 41, 41, 41, 41, 41, 41, 41, 41, 41, 41, 41, 37, 41, 41, 41, 41, 41, 41])\t[('NH', 1), ('HI', 1), ('AS', 53), ('nM', 2), ('NM', 9), ('MD', '20^TCCTACCCT23'), ('jM', array('b', [-1])), ('jI', array('i', [-1])), ('RG', 'foo')]\n"
     ]
    }
   ],
   "source": [
    "file_dir = \"/projects/ps-yeolab3/encode/analysis/encode_master/\"\n",
    "\n",
    "for read in pysam.Samfile(os.path.join(file_dir, \"TDP_AFFSC_TARDBP.merged.bam\")):\n",
    "    if read.is_reverse:\n",
    "        print read\n",
    "        break"
   ]
  },
  {
   "cell_type": "code",
   "execution_count": 72,
   "metadata": {
    "collapsed": false
   },
   "outputs": [
    {
     "data": {
      "text/plain": [
       "Seq('TGGGCTATTTAGGCTTTATGG', SingleLetterAlphabet())"
      ]
     },
     "execution_count": 72,
     "metadata": {},
     "output_type": "execute_result"
    }
   ],
   "source": [
    "read.seq.upper()"
   ]
  },
  {
   "cell_type": "code",
   "execution_count": 73,
   "metadata": {
    "collapsed": false
   },
   "outputs": [],
   "source": [
    "result = defaultdict(Counter)\n",
    "\n",
    "for read in SeqIO.parse(\"cDNA_end.fasta\", \"fasta\"):\n",
    "    for loc, base in enumerate(read.seq.upper()):\n",
    "        result[loc][base] += 1\n",
    "result = pd.DataFrame(result)"
   ]
  },
  {
   "cell_type": "code",
   "execution_count": 75,
   "metadata": {
    "collapsed": false
   },
   "outputs": [
    {
     "data": {
      "text/html": [
       "<table border=\"1\" class=\"dataframe\">\n",
       "  <thead>\n",
       "    <tr style=\"text-align: right;\">\n",
       "      <th></th>\n",
       "      <th>0</th>\n",
       "      <th>1</th>\n",
       "      <th>2</th>\n",
       "      <th>3</th>\n",
       "      <th>4</th>\n",
       "      <th>5</th>\n",
       "      <th>6</th>\n",
       "      <th>7</th>\n",
       "      <th>8</th>\n",
       "      <th>9</th>\n",
       "      <th>10</th>\n",
       "      <th>11</th>\n",
       "      <th>12</th>\n",
       "      <th>13</th>\n",
       "      <th>14</th>\n",
       "      <th>15</th>\n",
       "      <th>16</th>\n",
       "      <th>17</th>\n",
       "      <th>18</th>\n",
       "      <th>19</th>\n",
       "      <th>20</th>\n",
       "    </tr>\n",
       "  </thead>\n",
       "  <tbody>\n",
       "    <tr>\n",
       "      <th>A</th>\n",
       "      <td>301379</td>\n",
       "      <td>297298</td>\n",
       "      <td>300712</td>\n",
       "      <td>305817</td>\n",
       "      <td>301459</td>\n",
       "      <td>299745</td>\n",
       "      <td>297147</td>\n",
       "      <td>299747</td>\n",
       "      <td>262917</td>\n",
       "      <td>218200</td>\n",
       "      <td>252120</td>\n",
       "      <td>256013</td>\n",
       "      <td>299506</td>\n",
       "      <td>321799</td>\n",
       "      <td>322639</td>\n",
       "      <td>298689</td>\n",
       "      <td>285403</td>\n",
       "      <td>282459</td>\n",
       "      <td>277169</td>\n",
       "      <td>276587</td>\n",
       "      <td>271759</td>\n",
       "    </tr>\n",
       "    <tr>\n",
       "      <th>C</th>\n",
       "      <td>288409</td>\n",
       "      <td>291780</td>\n",
       "      <td>282503</td>\n",
       "      <td>282261</td>\n",
       "      <td>286119</td>\n",
       "      <td>285956</td>\n",
       "      <td>287544</td>\n",
       "      <td>298892</td>\n",
       "      <td>264370</td>\n",
       "      <td>212057</td>\n",
       "      <td>225436</td>\n",
       "      <td>276117</td>\n",
       "      <td>282791</td>\n",
       "      <td>350645</td>\n",
       "      <td>323652</td>\n",
       "      <td>295166</td>\n",
       "      <td>306999</td>\n",
       "      <td>320121</td>\n",
       "      <td>328624</td>\n",
       "      <td>317128</td>\n",
       "      <td>319186</td>\n",
       "    </tr>\n",
       "    <tr>\n",
       "      <th>G</th>\n",
       "      <td>307171</td>\n",
       "      <td>300888</td>\n",
       "      <td>309343</td>\n",
       "      <td>300849</td>\n",
       "      <td>307584</td>\n",
       "      <td>291796</td>\n",
       "      <td>298093</td>\n",
       "      <td>255276</td>\n",
       "      <td>257345</td>\n",
       "      <td>243812</td>\n",
       "      <td>323407</td>\n",
       "      <td>307351</td>\n",
       "      <td>340599</td>\n",
       "      <td>284698</td>\n",
       "      <td>282216</td>\n",
       "      <td>343836</td>\n",
       "      <td>354318</td>\n",
       "      <td>353578</td>\n",
       "      <td>340527</td>\n",
       "      <td>351426</td>\n",
       "      <td>360143</td>\n",
       "    </tr>\n",
       "    <tr>\n",
       "      <th>N</th>\n",
       "      <td>2</td>\n",
       "      <td>2</td>\n",
       "      <td>2</td>\n",
       "      <td>2</td>\n",
       "      <td>2</td>\n",
       "      <td>2</td>\n",
       "      <td>2</td>\n",
       "      <td>2</td>\n",
       "      <td>2</td>\n",
       "      <td>2</td>\n",
       "      <td>2</td>\n",
       "      <td>2</td>\n",
       "      <td>2</td>\n",
       "      <td>2</td>\n",
       "      <td>2</td>\n",
       "      <td>2</td>\n",
       "      <td>2</td>\n",
       "      <td>2</td>\n",
       "      <td>2</td>\n",
       "      <td>2</td>\n",
       "      <td>2</td>\n",
       "    </tr>\n",
       "    <tr>\n",
       "      <th>T</th>\n",
       "      <td>318995</td>\n",
       "      <td>325988</td>\n",
       "      <td>323396</td>\n",
       "      <td>327027</td>\n",
       "      <td>320792</td>\n",
       "      <td>338457</td>\n",
       "      <td>333170</td>\n",
       "      <td>362039</td>\n",
       "      <td>431322</td>\n",
       "      <td>541885</td>\n",
       "      <td>414991</td>\n",
       "      <td>376473</td>\n",
       "      <td>293058</td>\n",
       "      <td>258812</td>\n",
       "      <td>287447</td>\n",
       "      <td>278263</td>\n",
       "      <td>269234</td>\n",
       "      <td>259796</td>\n",
       "      <td>269634</td>\n",
       "      <td>270813</td>\n",
       "      <td>264866</td>\n",
       "    </tr>\n",
       "  </tbody>\n",
       "</table>"
      ],
      "text/plain": [
       "<IPython.core.display.HTML object>"
      ]
     },
     "execution_count": 75,
     "metadata": {},
     "output_type": "execute_result"
    }
   ],
   "source": [
    "HTML(result.to_html())"
   ]
  },
  {
   "cell_type": "code",
   "execution_count": 48,
   "metadata": {
    "collapsed": false
   },
   "outputs": [
    {
     "name": "stdout",
     "output_type": "stream",
     "text": [
      "done getting reads\n"
     ]
    }
   ],
   "source": [
    "r1_start, r2_start = get_seq_logos(os.path.join(file_dir, \"TDP_AFFSC_TARDBP.merged.bam\"), \"TDP_AFFSC_TARDBP\")\n"
   ]
  },
  {
   "cell_type": "code",
   "execution_count": 49,
   "metadata": {
    "collapsed": false
   },
   "outputs": [],
   "source": [
    "foo = pd.DataFrame({\"r1\": r1_start, \"r2\": r2_start})"
   ]
  },
  {
   "cell_type": "code",
   "execution_count": 50,
   "metadata": {
    "collapsed": false
   },
   "outputs": [],
   "source": [
    "bar = foo / foo.sum()"
   ]
  },
  {
   "cell_type": "code",
   "execution_count": 51,
   "metadata": {
    "collapsed": false
   },
   "outputs": [
    {
     "data": {
      "text/plain": [
       "r1    1215956\n",
       "r2    1215956\n",
       "dtype: int64"
      ]
     },
     "execution_count": 51,
     "metadata": {},
     "output_type": "execute_result"
    }
   ],
   "source": [
    "foo.sum()"
   ]
  },
  {
   "cell_type": "code",
   "execution_count": 52,
   "metadata": {
    "collapsed": false
   },
   "outputs": [
    {
     "data": {
      "text/html": [
       "<div>\n",
       "<table border=\"1\" class=\"dataframe\">\n",
       "  <thead>\n",
       "    <tr style=\"text-align: right;\">\n",
       "      <th></th>\n",
       "      <th>r1</th>\n",
       "      <th>r2</th>\n",
       "    </tr>\n",
       "  </thead>\n",
       "  <tbody>\n",
       "    <tr>\n",
       "      <th>A</th>\n",
       "      <td>335211</td>\n",
       "      <td>251048</td>\n",
       "    </tr>\n",
       "    <tr>\n",
       "      <th>C</th>\n",
       "      <td>202907</td>\n",
       "      <td>221790</td>\n",
       "    </tr>\n",
       "    <tr>\n",
       "      <th>G</th>\n",
       "      <td>307840</td>\n",
       "      <td>324043</td>\n",
       "    </tr>\n",
       "    <tr>\n",
       "      <th>N</th>\n",
       "      <td>3</td>\n",
       "      <td>9</td>\n",
       "    </tr>\n",
       "    <tr>\n",
       "      <th>T</th>\n",
       "      <td>369995</td>\n",
       "      <td>419066</td>\n",
       "    </tr>\n",
       "  </tbody>\n",
       "</table>\n",
       "</div>"
      ],
      "text/plain": [
       "       r1      r2\n",
       "A  335211  251048\n",
       "C  202907  221790\n",
       "G  307840  324043\n",
       "N       3       9\n",
       "T  369995  419066"
      ]
     },
     "execution_count": 52,
     "metadata": {},
     "output_type": "execute_result"
    }
   ],
   "source": [
    "foo"
   ]
  },
  {
   "cell_type": "code",
   "execution_count": 53,
   "metadata": {
    "collapsed": false
   },
   "outputs": [
    {
     "data": {
      "text/html": [
       "<div>\n",
       "<table border=\"1\" class=\"dataframe\">\n",
       "  <thead>\n",
       "    <tr style=\"text-align: right;\">\n",
       "      <th></th>\n",
       "      <th>r1</th>\n",
       "      <th>r2</th>\n",
       "    </tr>\n",
       "  </thead>\n",
       "  <tbody>\n",
       "    <tr>\n",
       "      <th>A</th>\n",
       "      <td>0.275677</td>\n",
       "      <td>0.206461</td>\n",
       "    </tr>\n",
       "    <tr>\n",
       "      <th>C</th>\n",
       "      <td>0.166870</td>\n",
       "      <td>0.182400</td>\n",
       "    </tr>\n",
       "    <tr>\n",
       "      <th>G</th>\n",
       "      <td>0.253167</td>\n",
       "      <td>0.266492</td>\n",
       "    </tr>\n",
       "    <tr>\n",
       "      <th>N</th>\n",
       "      <td>0.000002</td>\n",
       "      <td>0.000007</td>\n",
       "    </tr>\n",
       "    <tr>\n",
       "      <th>T</th>\n",
       "      <td>0.304283</td>\n",
       "      <td>0.344639</td>\n",
       "    </tr>\n",
       "  </tbody>\n",
       "</table>\n",
       "</div>"
      ],
      "text/plain": [
       "         r1        r2\n",
       "A  0.275677  0.206461\n",
       "C  0.166870  0.182400\n",
       "G  0.253167  0.266492\n",
       "N  0.000002  0.000007\n",
       "T  0.304283  0.344639"
      ]
     },
     "execution_count": 53,
     "metadata": {},
     "output_type": "execute_result"
    }
   ],
   "source": [
    "bar"
   ]
  },
  {
   "cell_type": "code",
   "execution_count": 7,
   "metadata": {
    "collapsed": false
   },
   "outputs": [
    {
     "name": "stdout",
     "output_type": "stream",
     "text": [
      "done getting reads\n",
      "done getting reads\n",
      "done getting reads\n",
      "done getting reads\n"
     ]
    }
   ],
   "source": [
    "file_dir = \"/projects/ps-yeolab3/encode/analysis/encode_master/\"\n",
    "\n",
    "get_seq_logos(os.path.join(file_dir, \"TDP_AFFSC_TARDBP.merged.bam\"), \"TDP_AFFSC_TARDBP\")\n",
    "get_seq_logos(os.path.join(file_dir, \"TDP_SS4_MN_TARDBP.merged.bam\"), \"TDP_SS4_MN_TARDBP\")\n",
    "get_seq_logos(os.path.join(file_dir, \"AS_TDP_SSIII_IN_S112_L008_R1_001.unassigned.adapterTrim.round2.rmRep.rmDup.sorted.bam\"), \"AS_TDP_SSIII_IN_S112_L008_R1_001\")\n",
    "get_seq_logos(os.path.join(file_dir, \"AS_TDP_AFFSC_IN_S108_L008_R1_001.unassigned.adapterTrim.round2.rmRep.rmDup.sorted.bam\"), \"AS_TDP_AFFSC_IN_S108_L008_R1_001\")"
   ]
  },
  {
   "cell_type": "code",
   "execution_count": 23,
   "metadata": {
    "collapsed": false
   },
   "outputs": [
    {
     "name": "stdout",
     "output_type": "stream",
     "text": [
      "done getting reads\n"
     ]
    }
   ],
   "source": [
    "file_dir = \"/projects/ps-yeolab2/encode/analysis/encode_v12\"\n",
    "get_seq_logos(os.path.join(file_dir, \"254_02_BCCIP.merged.bam\"), \"254_02_BCCIP\")"
   ]
  },
  {
   "cell_type": "code",
   "execution_count": 25,
   "metadata": {
    "collapsed": false
   },
   "outputs": [
    {
     "name": "stdout",
     "output_type": "stream",
     "text": [
      "done getting reads\n"
     ]
    }
   ],
   "source": [
    "get_seq_logos(os.path.join(file_dir, \"254_INPUT_GAGATTCC-TAATCTTA_L006_R1.unassigned.adapterTrim.round2.rmRep.rmDup.sorted.bam\"), \"254_INPUT_BCCIP\")"
   ]
  },
  {
   "cell_type": "code",
   "execution_count": null,
   "metadata": {
    "collapsed": true
   },
   "outputs": [],
   "source": [
    "get_seq_logos(os.path.join(file_dir, \"242_INPUT_CGCTCATT-ATAGAGGC_L005_R1.unassigned.adapterTrim.round2.rmRep.rmDup.sorted.bam\"), \"242_INPUT_U2AF2\")\n",
    "get_seq_logos(os.path.join(file_dir, \"272_INPUT_CGCTCATT-GGCTCTGA_L002_R1.unassigned.adapterTrim.round2.rmRep.rmDup.sorted.bam\"), \"272_INPUT_U2AF2\")"
   ]
  },
  {
   "cell_type": "code",
   "execution_count": null,
   "metadata": {
    "collapsed": true
   },
   "outputs": [],
   "source": []
  }
 ],
 "metadata": {
  "kernelspec": {
   "display_name": "Python 2",
   "language": "python",
   "name": "python2"
  },
  "language_info": {
   "codemirror_mode": {
    "name": "ipython",
    "version": 2
   },
   "file_extension": ".py",
   "mimetype": "text/x-python",
   "name": "python",
   "nbconvert_exporter": "python",
   "pygments_lexer": "ipython2",
   "version": "2.7.12"
  }
 },
 "nbformat": 4,
 "nbformat_minor": 0
}
