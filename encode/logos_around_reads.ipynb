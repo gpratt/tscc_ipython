{
 "cells": [
  {
   "cell_type": "code",
   "execution_count": 20,
   "metadata": {
    "collapsed": true
   },
   "outputs": [],
   "source": [
    "from collections import Counter\n",
    "\n",
    "import pysam\n",
    "import pybedtools\n",
    "from Bio import SeqIO\n",
    "import pandas as pd\n",
    "import os"
   ]
  },
  {
   "cell_type": "markdown",
   "metadata": {},
   "source": [
    "4 cases \n",
    "\n",
    "is read 1 and is not reverse:\n",
    "\n",
    "    start of read one is start of cDNA\n",
    "\n",
    "is read 1 and is reverse:\n",
    "\n",
    "    end of read 1 is start of cDNA\n",
    "\n",
    "is read 2 and is not reverse:\n",
    "\n",
    "    start of read 2 is end of cDNA\n",
    "    \n",
    "is read 2 and is reverse:\n",
    "\n",
    "    end of read2 is end of cDNA\n"
   ]
  },
  {
   "cell_type": "code",
   "execution_count": 21,
   "metadata": {
    "collapsed": false
   },
   "outputs": [],
   "source": [
    "def filer_short_reads(interval):\n",
    "    return len(interval) == 21\n",
    "\n",
    "def get_seq_logos(fn, out_file):\n",
    "    hg19_chrom_sizes = \"/projects/ps-yeolab/genomes/hg19/hg19.chrom.sizes\"\n",
    "    hg19_fasta = \"/projects/ps-yeolab/genomes/hg19/chromosomes/all.fa\"\n",
    "    \n",
    "    sam_file = pysam.Samfile(fn)\n",
    "    \n",
    "    cDNA_start_neg = []\n",
    "    cDNA_start_pos = []\n",
    "    cDNA_end_neg = []\n",
    "    cDNA_end_pos = []\n",
    "\n",
    "    for x, read in enumerate(sam_file):\n",
    "        if read.is_read1 and not read.is_reverse:\n",
    "            cDNA_start_neg.append(pybedtools.create_interval_from_list([sam_file.getrname(read.tid),\n",
    "                                                                    read.positions[0],\n",
    "                                                                    read.positions[0] + 1,\n",
    "                                                                   0,\n",
    "                                                                   0,\n",
    "                                                                   \"-\"]))\n",
    "\n",
    "        if read.is_read1 and read.is_reverse:\n",
    "            cDNA_start_pos.append(pybedtools.create_interval_from_list([sam_file.getrname(read.tid),\n",
    "                                                                    read.positions[-1],\n",
    "                                                                    read.positions[-1] + 1,\n",
    "                                                                   0,\n",
    "                                                                   0,\n",
    "                                                                   \"+\"]))\n",
    "\n",
    "        if read.is_read2 and not read.is_reverse:\n",
    "            cDNA_end_pos.append(pybedtools.create_interval_from_list([sam_file.getrname(read.tid),\n",
    "                                                                  read.positions[0],\n",
    "                                                                  read.positions[0] + 1,\n",
    "                                                                 0,\n",
    "                                                                   0,\n",
    "                                                                   \"+\"]))\n",
    "\n",
    "        if read.is_read2 and read.is_reverse:\n",
    "            cDNA_end_neg.append(pybedtools.create_interval_from_list([sam_file.getrname(read.tid), \n",
    "                                                                  read.positions[-1], \n",
    "                                                                  read.positions[-1] + 1,\n",
    "                                                                 0,\n",
    "                                                                   0,\n",
    "                                                                   \"-\"]))\n",
    "    print \"done getting reads\"\n",
    "    cDNA_start = pybedtools.BedTool(cDNA_start_pos + cDNA_start_neg)\n",
    "    cDNA_end = cDNA_end = pybedtools.BedTool(cDNA_end_pos + cDNA_end_neg)\n",
    "        \n",
    "    #Expand out to 10bp around the cDNA start\n",
    "    cDNA_start = cDNA_start.slop(b=10, g=hg19_chrom_sizes)\n",
    "    #Remove reads that are near the start and end of a chromosome and will therefore mess with seqlogo\n",
    "    cDNA_start = cDNA_start.filter(filer_short_reads).saveas()\n",
    "    result = cDNA_start.sequence(fi=hg19_fasta, s=True, fo=\"cDNA_start.fasta\")\n",
    "    \n",
    "    #Expand out to 10bp around the cDNA start\n",
    "    cDNA_end = cDNA_end.slop(b=10, g=hg19_chrom_sizes)\n",
    "    #Remove reads that are near the start and end of a chromosome and will therefore mess with seqlogo\n",
    "    cDNA_end = cDNA_end.filter(filer_short_reads).saveas()\n",
    "    result = cDNA_end.sequence(fi=hg19_fasta, s=True, fo=\"cDNA_end.fasta\")\n",
    "\n",
    "    out_cDNA_start = out_file + \".cDNA_start.pdf\"\n",
    "    out_cDNA_end = out_file + \".cDNA_end.pdf\"\n",
    "    \n",
    "    !seqlogo -F PDF -Y -a -S -n -x \"nt from start\" -s -10 -c -k 1 -B 2 -T 1 -f cDNA_start.fasta > $out_cDNA_start\n",
    "    !seqlogo -F PDF -Y -a -S -n -x \"nt from end\" -s -10 -c -k 1 -B 2 -T 1 -f cDNA_end.fasta > $out_cDNA_end"
   ]
  },
  {
   "cell_type": "code",
   "execution_count": 22,
   "metadata": {
    "collapsed": false
   },
   "outputs": [
    {
     "name": "stdout",
     "output_type": "stream",
     "text": [
      "done getting reads\n",
      "done getting reads\n",
      "done getting reads\n",
      "done getting reads\n",
      "done getting reads\n"
     ]
    },
    {
     "ename": "IOError",
     "evalue": "file `/home/gpratt/projects/encode/analysis/ad-hoc/encode_bams/ENCFF728QXQ.bam` not found",
     "output_type": "error",
     "traceback": [
      "\u001b[1;31m---------------------------------------------------------------------------\u001b[0m",
      "\u001b[1;31mIOError\u001b[0m                                   Traceback (most recent call last)",
      "\u001b[1;32m<ipython-input-22-ac99de4e997b>\u001b[0m in \u001b[0;36m<module>\u001b[1;34m()\u001b[0m\n\u001b[0;32m      6\u001b[0m \u001b[0mget_seq_logos\u001b[0m\u001b[1;33m(\u001b[0m\u001b[0mos\u001b[0m\u001b[1;33m.\u001b[0m\u001b[0mpath\u001b[0m\u001b[1;33m.\u001b[0m\u001b[0mjoin\u001b[0m\u001b[1;33m(\u001b[0m\u001b[0mfile_dir\u001b[0m\u001b[1;33m,\u001b[0m \u001b[1;34m\"ENCFF995HAG.bam\"\u001b[0m\u001b[1;33m)\u001b[0m\u001b[1;33m,\u001b[0m \u001b[1;34m\"U2AF2_K562_Rep2\"\u001b[0m\u001b[1;33m)\u001b[0m\u001b[1;33m\u001b[0m\u001b[0m\n\u001b[0;32m      7\u001b[0m \u001b[0mget_seq_logos\u001b[0m\u001b[1;33m(\u001b[0m\u001b[0mos\u001b[0m\u001b[1;33m.\u001b[0m\u001b[0mpath\u001b[0m\u001b[1;33m.\u001b[0m\u001b[0mjoin\u001b[0m\u001b[1;33m(\u001b[0m\u001b[0mfile_dir\u001b[0m\u001b[1;33m,\u001b[0m \u001b[1;34m\"ENCFF523UFV.bam\"\u001b[0m\u001b[1;33m)\u001b[0m\u001b[1;33m,\u001b[0m \u001b[1;34m\"U2AF2_HepG2_Rep1\"\u001b[0m\u001b[1;33m)\u001b[0m\u001b[1;33m\u001b[0m\u001b[0m\n\u001b[1;32m----> 8\u001b[1;33m \u001b[0mget_seq_logos\u001b[0m\u001b[1;33m(\u001b[0m\u001b[0mos\u001b[0m\u001b[1;33m.\u001b[0m\u001b[0mpath\u001b[0m\u001b[1;33m.\u001b[0m\u001b[0mjoin\u001b[0m\u001b[1;33m(\u001b[0m\u001b[0mfile_dir\u001b[0m\u001b[1;33m,\u001b[0m \u001b[1;34m\"ENCFF728QXQ.bam\"\u001b[0m\u001b[1;33m)\u001b[0m\u001b[1;33m,\u001b[0m \u001b[1;34m\"U2AF2_HepG2_Rep2\"\u001b[0m\u001b[1;33m)\u001b[0m\u001b[1;33m\u001b[0m\u001b[0m\n\u001b[0m\u001b[0;32m      9\u001b[0m \u001b[0mget_seq_logos\u001b[0m\u001b[1;33m(\u001b[0m\u001b[0mos\u001b[0m\u001b[1;33m.\u001b[0m\u001b[0mpath\u001b[0m\u001b[1;33m.\u001b[0m\u001b[0mjoin\u001b[0m\u001b[1;33m(\u001b[0m\u001b[0mfile_dir\u001b[0m\u001b[1;33m,\u001b[0m \u001b[1;34m\"ENCFF282IRT.bam\"\u001b[0m\u001b[1;33m)\u001b[0m\u001b[1;33m,\u001b[0m \u001b[1;34m\"TRA2A_K562_Rep1\"\u001b[0m\u001b[1;33m)\u001b[0m\u001b[1;33m\u001b[0m\u001b[0m\n\u001b[0;32m     10\u001b[0m \u001b[0mget_seq_logos\u001b[0m\u001b[1;33m(\u001b[0m\u001b[0mos\u001b[0m\u001b[1;33m.\u001b[0m\u001b[0mpath\u001b[0m\u001b[1;33m.\u001b[0m\u001b[0mjoin\u001b[0m\u001b[1;33m(\u001b[0m\u001b[0mfile_dir\u001b[0m\u001b[1;33m,\u001b[0m \u001b[1;34m\"ENCFF111LPA.bam\"\u001b[0m\u001b[1;33m)\u001b[0m\u001b[1;33m,\u001b[0m \u001b[1;34m\"TRA2A_K562_Rep2\"\u001b[0m\u001b[1;33m)\u001b[0m\u001b[1;33m\u001b[0m\u001b[0m\n",
      "\u001b[1;32m<ipython-input-21-c503a5a9520c>\u001b[0m in \u001b[0;36mget_seq_logos\u001b[1;34m(fn, out_file)\u001b[0m\n\u001b[0;32m      6\u001b[0m     \u001b[0mhg19_fasta\u001b[0m \u001b[1;33m=\u001b[0m \u001b[1;34m\"/projects/ps-yeolab/genomes/hg19/chromosomes/all.fa\"\u001b[0m\u001b[1;33m\u001b[0m\u001b[0m\n\u001b[0;32m      7\u001b[0m \u001b[1;33m\u001b[0m\u001b[0m\n\u001b[1;32m----> 8\u001b[1;33m     \u001b[0msam_file\u001b[0m \u001b[1;33m=\u001b[0m \u001b[0mpysam\u001b[0m\u001b[1;33m.\u001b[0m\u001b[0mSamfile\u001b[0m\u001b[1;33m(\u001b[0m\u001b[0mfn\u001b[0m\u001b[1;33m)\u001b[0m\u001b[1;33m\u001b[0m\u001b[0m\n\u001b[0m\u001b[0;32m      9\u001b[0m \u001b[1;33m\u001b[0m\u001b[0m\n\u001b[0;32m     10\u001b[0m     \u001b[0mcDNA_start_neg\u001b[0m \u001b[1;33m=\u001b[0m \u001b[1;33m[\u001b[0m\u001b[1;33m]\u001b[0m\u001b[1;33m\u001b[0m\u001b[0m\n",
      "\u001b[1;32mpysam/calignmentfile.pyx\u001b[0m in \u001b[0;36mpysam.calignmentfile.AlignmentFile.__cinit__ (pysam/calignmentfile.c:4929)\u001b[1;34m()\u001b[0m\n",
      "\u001b[1;32mpysam/calignmentfile.pyx\u001b[0m in \u001b[0;36mpysam.calignmentfile.AlignmentFile._open (pysam/calignmentfile.c:5646)\u001b[1;34m()\u001b[0m\n",
      "\u001b[1;32mpysam/calignmentfile.pyx\u001b[0m in \u001b[0;36mpysam.calignmentfile.AlignmentFile._open (pysam/calignmentfile.c:6905)\u001b[1;34m()\u001b[0m\n",
      "\u001b[1;31mIOError\u001b[0m: file `/home/gpratt/projects/encode/analysis/ad-hoc/encode_bams/ENCFF728QXQ.bam` not found"
     ]
    }
   ],
   "source": [
    "#PTBP Rep 2\n",
    "file_dir = \"/home/gpratt/projects/encode/analysis/ad-hoc/encode_bams\"\n",
    "get_seq_logos(os.path.join(file_dir, \"ENCFF511GIO.bam\"), \"PTBP_K562_Rep1\")\n",
    "get_seq_logos(os.path.join(file_dir, \"ENCFF227OUZ.bam\"), \"PTBP_K562_Rep2\")            \n",
    "get_seq_logos(os.path.join(file_dir, \"ENCFF289RXU.bam\"), \"U2AF2_K562_Rep1\")\n",
    "get_seq_logos(os.path.join(file_dir, \"ENCFF995HAG.bam\"), \"U2AF2_K562_Rep2\")\n",
    "get_seq_logos(os.path.join(file_dir, \"ENCFF523UFV.bam\"), \"U2AF2_HepG2_Rep1\")\n",
    "get_seq_logos(os.path.join(file_dir, \"ENCFF728QXQ.bam\"), \"U2AF2_HepG2_Rep2\")\n",
    "get_seq_logos(os.path.join(file_dir, \"ENCFF282IRT.bam\"), \"TRA2A_K562_Rep1\")\n",
    "get_seq_logos(os.path.join(file_dir, \"ENCFF111LPA.bam\"), \"TRA2A_K562_Rep2\")"
   ]
  },
  {
   "cell_type": "code",
   "execution_count": null,
   "metadata": {
    "collapsed": true
   },
   "outputs": [],
   "source": []
  },
  {
   "cell_type": "code",
   "execution_count": 23,
   "metadata": {
    "collapsed": false
   },
   "outputs": [
    {
     "name": "stdout",
     "output_type": "stream",
     "text": [
      "done getting reads\n"
     ]
    }
   ],
   "source": [
    "file_dir = \"/projects/ps-yeolab2/encode/analysis/encode_v12\"\n",
    "get_seq_logos(os.path.join(file_dir, \"254_02_BCCIP.merged.bam\"), \"254_02_BCCIP\")"
   ]
  },
  {
   "cell_type": "code",
   "execution_count": 25,
   "metadata": {
    "collapsed": false
   },
   "outputs": [
    {
     "name": "stdout",
     "output_type": "stream",
     "text": [
      "done getting reads\n"
     ]
    }
   ],
   "source": [
    "get_seq_logos(os.path.join(file_dir, \"254_INPUT_GAGATTCC-TAATCTTA_L006_R1.unassigned.adapterTrim.round2.rmRep.rmDup.sorted.bam\"), \"254_INPUT_BCCIP\")"
   ]
  },
  {
   "cell_type": "code",
   "execution_count": null,
   "metadata": {
    "collapsed": true
   },
   "outputs": [],
   "source": [
    "get_seq_logos(os.path.join(file_dir, \"242_INPUT_CGCTCATT-ATAGAGGC_L005_R1.unassigned.adapterTrim.round2.rmRep.rmDup.sorted.bam\"), \"242_INPUT_U2AF2\")\n",
    "get_seq_logos(os.path.join(file_dir, \"272_INPUT_CGCTCATT-GGCTCTGA_L002_R1.unassigned.adapterTrim.round2.rmRep.rmDup.sorted.bam\"), \"272_INPUT_U2AF2\")"
   ]
  },
  {
   "cell_type": "code",
   "execution_count": null,
   "metadata": {
    "collapsed": true
   },
   "outputs": [],
   "source": []
  }
 ],
 "metadata": {
  "kernelspec": {
   "display_name": "Python 2",
   "language": "python",
   "name": "python2"
  },
  "language_info": {
   "codemirror_mode": {
    "name": "ipython",
    "version": 2
   },
   "file_extension": ".py",
   "mimetype": "text/x-python",
   "name": "python",
   "nbconvert_exporter": "python",
   "pygments_lexer": "ipython2",
   "version": "2.7.11"
  }
 },
 "nbformat": 4,
 "nbformat_minor": 0
}
