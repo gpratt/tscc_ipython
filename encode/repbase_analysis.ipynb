{
 "cells": [
  {
   "cell_type": "code",
   "execution_count": null,
   "metadata": {
    "collapsed": false
   },
   "outputs": [
    {
     "name": "stderr",
     "output_type": "stream",
     "text": [
      "/home/gpratt/anaconda/lib/python2.7/site-packages/IPython/html.py:14: ShimWarning: The `IPython.html` package has been deprecated. You should import from `notebook` instead. `IPython.html.widgets` has moved to `ipywidgets`.\n",
      "  \"`IPython.html.widgets` has moved to `ipywidgets`.\", ShimWarning)\n"
     ]
    }
   ],
   "source": [
    "import pandas as pd\n",
    "import glob\n",
    "import os\n",
    "\n",
    "%matplotlib inline\n",
    "from collections import defaultdict, Counter\n",
    "import glob\n",
    "import os\n",
    "import json\n",
    "\n",
    "from IPython.core.display import HTML, Image\n",
    "from matplotlib_venn import venn3\n",
    "import pandas as pd\n",
    "import pybedtools\n",
    "import pysam\n",
    "import gspread\n",
    "from gscripts.general import parsers\n",
    "from gscripts.general import dataviz\n",
    "%load_ext autoreload\n",
    "import numpy as np\n",
    "%autoreload 2\n",
    "reload(parsers)\n",
    "reload(pybedtools)\n",
    "import seaborn as sns\n",
    "import matplotlib\n",
    "from oauth2client.client import SignedJwtAssertionCredentials"
   ]
  },
  {
   "cell_type": "code",
   "execution_count": null,
   "metadata": {
    "collapsed": false
   },
   "outputs": [],
   "source": [
    "encode_qc_v12 = parsers.clipseq_metrics(\"/projects/ps-yeolab2/encode/analysis/encode_v12/\", iclip=True)\n",
    "encode_qc_v13 = parsers.clipseq_metrics(\"/projects/ps-yeolab/encode/analysis/encode_v13/\", iclip=True)\n"
   ]
  },
  {
   "cell_type": "code",
   "execution_count": null,
   "metadata": {
    "collapsed": false
   },
   "outputs": [],
   "source": [
    "rep_files = glob.glob(\"/projects/ps-yeolab/encode/analysis/encode_v13/*.rmRep.metrics\") + glob.glob(\"/projects/ps-yeolab2/encode/analysis/encode_v12/*.rmRep.metrics\")\n",
    "df = pd.concat({\".\".join(os.path.basename(fn).split(\".\")[:2]): pd.read_table(fn, header=None, names=[\"element\", \"count\"], sep=\" \", index_col=0) for fn in rep_files})\n",
    "df = df.unstack().fillna(0)\n",
    "\n",
    "encode_qc = pd.concat([encode_qc_v12, encode_qc_v13])\n",
    "encode_qc_reads = encode_qc['Input Reads']\n",
    "df = df.join(encode_qc_reads)\n"
   ]
  },
  {
   "cell_type": "code",
   "execution_count": null,
   "metadata": {
    "collapsed": false
   },
   "outputs": [],
   "source": [
    "df_normalized = df.div(df['Input Reads'], axis=0) * 1000000\n",
    "df_normalized = df_normalized.drop(\"Input Reads\", axis=1)\n",
    "df_normalized = df_normalized.groupby(level=0).first()"
   ]
  },
  {
   "cell_type": "code",
   "execution_count": null,
   "metadata": {
    "collapsed": false
   },
   "outputs": [],
   "source": [
    "for x in df_normalized.index:\n",
    "    print x"
   ]
  },
  {
   "cell_type": "code",
   "execution_count": null,
   "metadata": {
    "collapsed": false,
    "scrolled": false
   },
   "outputs": [],
   "source": [
    "rbp = \"345_CLIP_GAGATTCC-ATAGAGGC_L002_R1.C01_345_02_PCBP2\"\n",
    "rep_zscores = ((df_normalized - df_normalized.mean()) / df_normalized.std()).T\n",
    "rep_zscores.sort(rbp, ascending=False)[rbp]"
   ]
  },
  {
   "cell_type": "code",
   "execution_count": null,
   "metadata": {
    "collapsed": true
   },
   "outputs": [],
   "source": [
    "df.ix[rbp].sort_values(ascending=False)"
   ]
  },
  {
   "cell_type": "code",
   "execution_count": null,
   "metadata": {
    "collapsed": false
   },
   "outputs": [],
   "source": [
    "rep_zscores = (df_normalized.sub(df_normalized.mean(axis=1), axis=0).div(df_normalized.std(axis=1), axis=0)).T\n",
    "rep_zscores.sort(rbp, ascending=False)[rbp]"
   ]
  },
  {
   "cell_type": "code",
   "execution_count": null,
   "metadata": {
    "collapsed": true
   },
   "outputs": [],
   "source": []
  },
  {
   "cell_type": "code",
   "execution_count": null,
   "metadata": {
    "collapsed": true
   },
   "outputs": [],
   "source": []
  }
 ],
 "metadata": {
  "kernelspec": {
   "display_name": "Python 2",
   "language": "python",
   "name": "python2"
  },
  "language_info": {
   "codemirror_mode": {
    "name": "ipython",
    "version": 2
   },
   "file_extension": ".py",
   "mimetype": "text/x-python",
   "name": "python",
   "nbconvert_exporter": "python",
   "pygments_lexer": "ipython2",
   "version": "2.7.12"
  }
 },
 "nbformat": 4,
 "nbformat_minor": 0
}
