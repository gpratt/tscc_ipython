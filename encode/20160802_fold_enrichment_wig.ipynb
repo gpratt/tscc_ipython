{
 "cells": [
  {
   "cell_type": "code",
   "execution_count": 16,
   "metadata": {
    "collapsed": true
   },
   "outputs": [],
   "source": [
    "import pybedtools\n",
    "import pyBigWig\n",
    "import numpy as np\n",
    "import scipy.ndimage"
   ]
  },
  {
   "cell_type": "code",
   "execution_count": 68,
   "metadata": {
    "collapsed": true
   },
   "outputs": [],
   "source": [
    "ip_bw = pyBigWig.open(\"/home/gpratt/projects/idr/analysis/downsample_wigs/204_02_RBFOX2.merged.r2.bw\")\n",
    "input_bw = pyBigWig.open(\"/home/gpratt/projects/encode/analysis/ad-hoc/spp_smoothing/RBFOX2_Input.bw\")"
   ]
  },
  {
   "cell_type": "code",
   "execution_count": 69,
   "metadata": {
    "collapsed": false
   },
   "outputs": [],
   "source": [
    "genes = pybedtools.BedTool(\"/home/gpratt/clipper/clipper/data/regions/hg19_v19_genes.bed\")"
   ]
  },
  {
   "cell_type": "code",
   "execution_count": null,
   "metadata": {
    "collapsed": false
   },
   "outputs": [],
   "source": [
    "with open(\"/home/gpratt/projects/encode/analysis/ad-hoc/spp_smoothing/outfile.bg\", 'wb') as outfile: \n",
    "    for gene in genes:\n",
    "        ip_values = ip_bw.values(gene.chrom, gene.start, gene.stop)\n",
    "        input_values = input_bw.values(gene.chrom, gene.start, gene.stop)\n",
    "        if not all(np.isnan(ip_values)):\n",
    "            \n",
    "            ip_values = np.array(ip_values)\n",
    "            ip_values = np.nan_to_num(ip_values) + 1\n",
    "\n",
    "            input_values = np.array(input_values)\n",
    "            input_values = np.nan_to_num(input_values) + 1\n",
    "\n",
    "            log2_enrichment = np.log2(ip_values / input_values)\n",
    "            log2_convolution = scipy.ndimage.filters.gaussian_filter(log2_enrichment, sigma=5, order=0)\n",
    "\n",
    "            for x, value in enumerate(ip_convolution):\n",
    "                if not np.isnan(value):\n",
    "                    outfile.write(\"\\t\".join([gene.chrom, str(gene.start + x), str(gene.start + x + 1), str(value)]) + \"\\n\")"
   ]
  },
  {
   "cell_type": "code",
   "execution_count": null,
   "metadata": {
    "collapsed": true
   },
   "outputs": [],
   "source": []
  }
 ],
 "metadata": {
  "kernelspec": {
   "display_name": "Python 2",
   "language": "python",
   "name": "python2"
  },
  "language_info": {
   "codemirror_mode": {
    "name": "ipython",
    "version": 2
   },
   "file_extension": ".py",
   "mimetype": "text/x-python",
   "name": "python",
   "nbconvert_exporter": "python",
   "pygments_lexer": "ipython2",
   "version": "2.7.12"
  }
 },
 "nbformat": 4,
 "nbformat_minor": 0
}
