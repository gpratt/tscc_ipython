{
 "cells": [
  {
   "cell_type": "code",
   "execution_count": 148,
   "metadata": {
    "collapsed": true
   },
   "outputs": [],
   "source": [
    "import pandas as pd\n",
    "import numpy as np\n",
    "\n",
    "from IPython.core.display import HTML"
   ]
  },
  {
   "cell_type": "code",
   "execution_count": 149,
   "metadata": {
    "collapsed": false
   },
   "outputs": [],
   "source": [
    "eCT_data = pd.read_table(\"/home/elvannostrand/data/ENCODE/project_stuff/ENCODE_CLIP_alldata_20170313.txt\", \n",
    "                         index_col=0, \n",
    "                         skiprows=1,\n",
    "                        na_values=[\"#NUM!\", \"#VALUE!\", \"x\"])\n",
    "eCT_data = eCT_data.dropna(how=\"all\", axis=1).dropna(how=\"all\", axis=0)\n",
    "eCT_data = eCT_data.reset_index()[~eCT_data.reset_index().uID.isnull()].set_index(\"uID\")\n",
    "eCT_data.index = eCT_data.index.map(lambda x: str(int(x)))"
   ]
  },
  {
   "cell_type": "code",
   "execution_count": 155,
   "metadata": {
    "collapsed": false,
    "scrolled": true
   },
   "outputs": [
    {
     "name": "stdout",
     "output_type": "stream",
     "text": [
      "346\n"
     ]
    }
   ],
   "source": [
    "master_list = pd.read_table(\"/home/elvannostrand/data/clip/CLIPseq_analysis/scripts/integrated_paper_figures/DatasetListing_FINAL.txt.ENCODEFINAL.txt\", index_col=[0])\n",
    "print len(master_list)\n",
    "annotations = pd.read_table(\"/home/gpratt/Dropbox/EricGabe_ENCODE/DatasetListing_FINAL.annotations.txt\", index_col=[0])\n",
    "submitted_datasets = pd.read_table(\"/home/elvannostrand/data/clip/CLIPseq_analysis/ENCODE_FINALforpapers_20170325/ALLDATASETS_submittedonly.txt\")\n",
    "\n",
    "master_list = pd.merge(master_list, annotations, left_index=True, right_index=True, how=\"left\")"
   ]
  },
  {
   "cell_type": "code",
   "execution_count": 157,
   "metadata": {
    "collapsed": false
   },
   "outputs": [
    {
     "data": {
      "text/plain": [
       "181"
      ]
     },
     "execution_count": 157,
     "metadata": {},
     "output_type": "execute_result"
    }
   ],
   "source": [
    "len(submitted_datasets)"
   ]
  },
  {
   "cell_type": "code",
   "execution_count": 151,
   "metadata": {
    "collapsed": false
   },
   "outputs": [],
   "source": [
    "master_list = pd.merge(master_list, eCT_data, left_index=True, right_index=True, how=\"left\")\n",
    "master_list['submitted'] = master_list.index.get_level_values(level=0).isin(submitted_datasets.uID)"
   ]
  },
  {
   "cell_type": "code",
   "execution_count": 152,
   "metadata": {
    "collapsed": false
   },
   "outputs": [
    {
     "data": {
      "text/plain": [
       "'hiseq rapid 6/16/15 ; reseq in separate lanes 11/12/15'"
      ]
     },
     "execution_count": 152,
     "metadata": {},
     "output_type": "execute_result"
    }
   ],
   "source": [
    "eCT_data.ix[\"323\"]['Final comment']"
   ]
  },
  {
   "cell_type": "code",
   "execution_count": 153,
   "metadata": {
    "collapsed": true
   },
   "outputs": [],
   "source": [
    "master_list.to_csv(\"/home/gpratt/Dropbox/EricGabe_ENCODE/FinalList_Gabe.csv\")"
   ]
  },
  {
   "cell_type": "code",
   "execution_count": 15,
   "metadata": {
    "collapsed": false
   },
   "outputs": [],
   "source": [
    "def merge_actions(row):\n",
    "    if not pd.isnull(row.action):\n",
    "            return row.action\n",
    "    else:\n",
    "        return row.Action_fp\n",
    "\n",
    "def merge_notes(row):\n",
    "    if not pd.isnull(row.reason):\n",
    "            return row.reason\n",
    "    else:\n",
    "        return row.Notes"
   ]
  },
  {
   "cell_type": "code",
   "execution_count": 7,
   "metadata": {
    "collapsed": false
   },
   "outputs": [
    {
     "ename": "NameError",
     "evalue": "name 'all_merged_results' is not defined",
     "output_type": "error",
     "traceback": [
      "\u001b[0;31m---------------------------------------------------------------------------\u001b[0m",
      "\u001b[0;31mNameError\u001b[0m                                 Traceback (most recent call last)",
      "\u001b[0;32m<ipython-input-7-7d0e29cb5c84>\u001b[0m in \u001b[0;36m<module>\u001b[0;34m()\u001b[0m\n\u001b[0;32m----> 1\u001b[0;31m \u001b[0mall_merged_results\u001b[0m\u001b[0;34m[\u001b[0m\u001b[0;34m'action'\u001b[0m\u001b[0;34m]\u001b[0m \u001b[0;34m=\u001b[0m \u001b[0mall_merged_results\u001b[0m\u001b[0;34m.\u001b[0m\u001b[0mapply\u001b[0m\u001b[0;34m(\u001b[0m\u001b[0mmerge_actions\u001b[0m\u001b[0;34m,\u001b[0m \u001b[0maxis\u001b[0m\u001b[0;34m=\u001b[0m\u001b[0;36m1\u001b[0m\u001b[0;34m)\u001b[0m\u001b[0;34m\u001b[0m\u001b[0m\n\u001b[0m\u001b[1;32m      2\u001b[0m \u001b[0mall_merged_results\u001b[0m\u001b[0;34m[\u001b[0m\u001b[0;34m'reason'\u001b[0m\u001b[0;34m]\u001b[0m \u001b[0;34m=\u001b[0m \u001b[0mall_merged_results\u001b[0m\u001b[0;34m.\u001b[0m\u001b[0mapply\u001b[0m\u001b[0;34m(\u001b[0m\u001b[0mmerge_notes\u001b[0m\u001b[0;34m,\u001b[0m \u001b[0maxis\u001b[0m\u001b[0;34m=\u001b[0m\u001b[0;36m1\u001b[0m\u001b[0;34m)\u001b[0m\u001b[0;34m\u001b[0m\u001b[0m\n",
      "\u001b[0;31mNameError\u001b[0m: name 'all_merged_results' is not defined"
     ]
    }
   ],
   "source": [
    "all_merged_results['action'] = all_merged_results.apply(merge_actions, axis=1)\n",
    "all_merged_results['reason'] = all_merged_results.apply(merge_notes, axis=1)"
   ]
  },
  {
   "cell_type": "code",
   "execution_count": null,
   "metadata": {
    "collapsed": false
   },
   "outputs": [],
   "source": [
    "all_merged_results.tail()"
   ]
  },
  {
   "cell_type": "code",
   "execution_count": 110,
   "metadata": {
    "collapsed": false
   },
   "outputs": [],
   "source": [
    "all_merged_results = all_merged_results.drop([\"RBP_y\", \"Cell line_y\", \"submitted_y\", \"submitted_plot\", \"group\", \"total_entropy\" , 'Action_fp', 'Notes'], axis=1)\n",
    "all_merged_results = all_merged_results.rename(columns={\"RBP_x\": \"RBP\", \"Cell line_x\": \"Cell line\", \"submitted_x\": \"submitted\" })"
   ]
  },
  {
   "cell_type": "code",
   "execution_count": 112,
   "metadata": {
    "collapsed": true
   },
   "outputs": [],
   "source": [
    "all_merged_results.to_csv(\"/home/gpratt/Dropbox/EricGabe_ENCODE/FinalList_Gabe.csv\")"
   ]
  },
  {
   "cell_type": "code",
   "execution_count": null,
   "metadata": {
    "collapsed": true
   },
   "outputs": [],
   "source": []
  }
 ],
 "metadata": {
  "kernelspec": {
   "display_name": "Python 2",
   "language": "python",
   "name": "python2"
  },
  "language_info": {
   "codemirror_mode": {
    "name": "ipython",
    "version": 2
   },
   "file_extension": ".py",
   "mimetype": "text/x-python",
   "name": "python",
   "nbconvert_exporter": "python",
   "pygments_lexer": "ipython2",
   "version": "2.7.12"
  }
 },
 "nbformat": 4,
 "nbformat_minor": 0
}
