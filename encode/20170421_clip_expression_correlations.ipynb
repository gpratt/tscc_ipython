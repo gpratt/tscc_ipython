{
 "cells": [
  {
   "cell_type": "code",
   "execution_count": 1,
   "metadata": {
    "collapsed": false
   },
   "outputs": [],
   "source": [
    "%matplotlib inline\n",
    "\n",
    "import functools\n",
    "import os\n",
    "from collections import defaultdict\n",
    "from tqdm import tqdm, tqdm_notebook\n",
    "tqdm.pandas(\"Progress: \")\n",
    "\n",
    "import numpy as np\n",
    "import matplotlib\n",
    "import pandas as pd\n",
    "import pybedtools\n",
    "import pysam\n",
    "import seaborn as sns\n",
    "import matplotlib\n",
    "from matplotlib import gridspec\n",
    "import scipy\n",
    "from gscripts import qtools\n",
    "from Bio import SeqIO\n",
    "from gscripts.general import dataviz\n",
    "from IPython.core.display import HTML\n",
    "import urllib\n",
    "import datetime\n",
    "from gscripts.encode import encode_helpers\n",
    "from gscripts.rnaseq import helpers\n",
    "from gscripts.general import region_helpers\n",
    "\n",
    "img_dir = \"/home/gpratt/Dropbox/encode_integration/qc_work/\"\n",
    "\n",
    "sns.set_style(\"ticks\")\n",
    "xfmt = matplotlib.ticker.FuncFormatter(lambda x, p: format(float(x) / 1000000, ','))\n",
    "\n",
    "RESET = False\n",
    "\n"
   ]
  },
  {
   "cell_type": "code",
   "execution_count": 2,
   "metadata": {
    "collapsed": true
   },
   "outputs": [],
   "source": [
    "import matplotlib as mpl\n",
    "legend = None\n",
    "\n",
    "OUTSIDE_LEGEND_SAVEFIG_KWS = dict(bbox_extra_artists=(legend,),\n",
    "                                  bbox_inches='tight')\n",
    "from matplotlib import rc\n",
    "\n",
    "mpl.rcParams['svg.fonttype'] = 'none'\n",
    "\n",
    "rc('text', usetex=False) \n",
    "rc('font',**{'family':'sans-serif','sans-serif':['Helvetica']})"
   ]
  },
  {
   "cell_type": "code",
   "execution_count": 3,
   "metadata": {
    "collapsed": true
   },
   "outputs": [],
   "source": [
    "gene_id_to_name = region_helpers.gene_id_to_name(\"/projects/ps-yeolab/genomes/hg19/gencode_v19/gencode.v19.annotation.gtf.db\")\n",
    "gene_id_to_type = region_helpers.gene_id_to_type(\"/projects/ps-yeolab/genomes/hg19/gencode_v19/gencode.v19.annotation.gtf.db\")\n",
    "\n",
    "name_to_gene_id = {value: key for key, value in gene_id_to_name.items()}"
   ]
  },
  {
   "cell_type": "code",
   "execution_count": 4,
   "metadata": {
    "collapsed": true
   },
   "outputs": [],
   "source": [
    "def get_rpkm_uid(cell_type):\n",
    "    #enrichment_type, count_method, count_location, col\n",
    "    #This beast just matches the right input to the dataset counts or RPKMs\n",
    "    if cell_type == \"K562\":\n",
    "        uid = 'ENCFF131IST'\n",
    "    elif cell_type == \"HepG2\":\n",
    "        uid = 'ENCFF770XVY'\n",
    "    else:\n",
    "        print \"error\", col[5]\n",
    "    return uid\n",
    "\n",
    "def get_tpm_uid(cell_type):\n",
    "    #enrichment_type, count_method, count_location, col\n",
    "    #This beast just matches the right input to the dataset counts or RPKMs\n",
    "    if cell_type == \"K562\":\n",
    "        uid = 'ENCFF286GLL'\n",
    "    elif cell_type == \"HepG2\":\n",
    "        uid = 'ENCFF533XPJ'\n",
    "    else:\n",
    "        print \"error\", col[5]\n",
    "    return uid\n",
    "\n",
    "def get_tpm_transcript_uid(cell_type):\n",
    "    #enrichment_type, count_method, count_location, col\n",
    "    #This beast just matches the right input to the dataset counts or RPKMs\n",
    "    if cell_type == \"K562\":\n",
    "        uid = 'ENCFF424CXV'\n",
    "    elif cell_type == \"HepG2\":\n",
    "        uid = 'ENCFF205WUQ'\n",
    "    else:\n",
    "        print \"error\", col[5]\n",
    "    return uid\n",
    "\n",
    "def dict_to_corr_dataframe(expression_corr):\n",
    "    expression_corr = pd.Series(expression_corr, name=\"r-value\")\n",
    "    expression_corr = pd.DataFrame(expression_corr.sort_values(ascending=False))\n",
    "    expression_corr['r-squared'] = expression_corr['r-value'] ** 2\n",
    "    expression_corr = expression_corr.sort_index()\n",
    "    return expression_corr"
   ]
  },
  {
   "cell_type": "code",
   "execution_count": 5,
   "metadata": {
    "collapsed": false
   },
   "outputs": [],
   "source": [
    "merged_data = encode_helpers.get_merged_data()\n",
    "\n",
    "#For Peak Analysis we only want to analyze datasets that have been submitted\n",
    "# merged_data = merged_data[merged_data.submitted]\n",
    "# merged_data = merged_data[['CLIP', 'INPUT', 'input_norm']]"
   ]
  },
  {
   "cell_type": "code",
   "execution_count": 6,
   "metadata": {
    "collapsed": false
   },
   "outputs": [],
   "source": [
    "total_bedtools = merged_data.sort_index()"
   ]
  },
  {
   "cell_type": "code",
   "execution_count": 7,
   "metadata": {
    "collapsed": true
   },
   "outputs": [],
   "source": [
    "#in order\n",
    "#Count reads in all exons, reads each exon, reads in entire gene\n",
    "\n",
    "#in /projects/ps-yeolab3/encode/analysis/encode_master/\n",
    "\n",
    "#featureCounts -a /projects/ps-yeolab/genomes/hg19/gencode_v19/gencode.v19.annotation.gtf -o ../gene_expression.txt *{merged,unassigned}*.r2.bam -s 1 -T 16\n",
    "#featureCounts -a /projects/ps-yeolab/genomes/hg19/gencode_v19/gencode.v19.annotation.gtf -o ../gene_expression_exon_level.txt *{merged,unassigned}*.r2.bam -s 1 -f -T 16\n",
    "#featureCounts -a /projects/ps-yeolab/genomes/hg19/gencode_v19/gencode.v19.annotation.gtf -o ../gene_expression_whole_gene_level.txt *{merged,unassigned}*.r2.bam -s 1 -f -t gene -T 16\n",
    "\n",
    "#in /projects/ps-yeolab3/encode/analysis/rnaseq_bams_v2\n",
    "\n",
    "#featureCounts -a /projects/ps-yeolab/genomes/hg19/gencode_v19/gencode.v19.annotation.gtf -o encode_total_rna.txt -p ENCFF131IST.bam ENCFF726SMY.bam ENCFF770XVY.bam ENCFF002PXG.bam -S rf -C -B --primary -p -s 1 -T 16\n",
    "#featureCounts -a /projects/ps-yeolab/genomes/hg19/gencode_v19/gencode.v19.annotation.gtf -o encode_total_rna_exon_level.txt -p ENCFF131IST.bam ENCFF726SMY.bam ENCFF770XVY.bam ENCFF002PXG.bam  -S rf -C -B --primary -p -s 1 -f -T 16\n",
    "#featureCounts -a /projects/ps-yeolab/genomes/hg19/gencode_v19/gencode.v19.annotation.gtf -o encode_total_rna_whole_gene_level.txt -p ENCFF131IST.bam ENCFF726SMY.bam ENCFF770XVY.bam ENCFF002PXG.bam  -S rf -C -B --primary -p -s 1 -t gene -f -T 16"
   ]
  },
  {
   "cell_type": "markdown",
   "metadata": {},
   "source": [
    "# Get the data I'll use to as the followup questions "
   ]
  },
  {
   "cell_type": "code",
   "execution_count": 8,
   "metadata": {
    "collapsed": false
   },
   "outputs": [],
   "source": [
    "# @{$rnaseq_datasets{\"K562\"}} = (\"ENCFF424CXV\",\"ENCFF073NHK\");\n",
    "# @{$rnaseq_datasets{\"HepG2\"}} = (\"ENCFF205WUQ\",\"ENCFF915JUZ\");\n",
    "\n",
    "# !wget -P /projects/ps-yeolab3/encode/analysis/rnaseq_bams_v2/ https://www.encodeproject.org/files/ENCFF424CXV/@@download/ENCFF424CXV.tsv\n",
    "# !wget -P /projects/ps-yeolab3/encode/analysis/rnaseq_bams_v2/ https://www.encodeproject.org/files/ENCFF073NHK/@@download/ENCFF073NHK.tsv\n",
    "# !wget -P /projects/ps-yeolab3/encode/analysis/rnaseq_bams_v2/ https://www.encodeproject.org/files/ENCFF205WUQ/@@download/ENCFF205WUQ.tsv\n",
    "# !wget -P /projects/ps-yeolab3/encode/analysis/rnaseq_bams_v2/ https://www.encodeproject.org/files/ENCFF915JUZ/@@download/ENCFF915JUZ.tsv"
   ]
  },
  {
   "cell_type": "code",
   "execution_count": 9,
   "metadata": {
    "collapsed": false
   },
   "outputs": [],
   "source": [
    "df = pd.read_table(\"/projects/ps-yeolab3/encode/analysis/rnaseq_bams_v2/ENCFF424CXV.tsv\")"
   ]
  },
  {
   "cell_type": "code",
   "execution_count": 10,
   "metadata": {
    "collapsed": false
   },
   "outputs": [],
   "source": [
    "def get_best_transcript(fn):\n",
    "    df = pd.read_table(fn, index_col=0)\n",
    "    df = df.sort_values(\"TPM\", ascending=False).groupby(\"gene_id\").first()\n",
    "    return df"
   ]
  },
  {
   "cell_type": "code",
   "execution_count": 11,
   "metadata": {
    "collapsed": false
   },
   "outputs": [],
   "source": [
    "transcript_rsem = pd.concat({('ENCFF424CXV', \"K562\", 'rnaseq', \"rep1\"): get_best_transcript(\"/projects/ps-yeolab3/encode/analysis/rnaseq_bams_v2/ENCFF424CXV.tsv\").T,\n",
    "('ENCFF073NHK', \"K562\", 'rnaseq', \"rep2\"): get_best_transcript(\"/projects/ps-yeolab3/encode/analysis/rnaseq_bams_v2/ENCFF073NHK.tsv\").T,\n",
    "('ENCFF205WUQ', \"HepG2\", 'rnaseq', \"rep1\"): get_best_transcript(\"/projects/ps-yeolab3/encode/analysis/rnaseq_bams_v2/ENCFF205WUQ.tsv\").T,\n",
    "('ENCFF915JUZ', \"HepG2\", 'rnaseq', \"rep2\"): get_best_transcript(\"/projects/ps-yeolab3/encode/analysis/rnaseq_bams_v2/ENCFF915JUZ.tsv\").T,}).T\n",
    "\n",
    "transcript_tpm = transcript_rsem.xs(\"TPM\", level=4, axis=1)\n"
   ]
  },
  {
   "cell_type": "code",
   "execution_count": 12,
   "metadata": {
    "collapsed": false
   },
   "outputs": [],
   "source": [
    "gene_rsem = pd.concat({('ENCFF424CXV', \"K562\", 'rnaseq', \"rep1\"): pd.read_table(\"/projects/ps-yeolab3/encode/analysis/rnaseq_bams_v2/ENCFF424CXV.tsv\", index_col=0).T,\n",
    "('ENCFF986DBN', \"K562\", 'rnaseq', \"rep2\"): pd.read_table(\"/projects/ps-yeolab3/encode/analysis/rnaseq_bams_v2/ENCFF986DBN.tsv\", index_col=0).T,\n",
    "('ENCFF533XPJ', \"HepG2\", 'rnaseq', \"rep1\"): pd.read_table(\"/projects/ps-yeolab3/encode/analysis/rnaseq_bams_v2/ENCFF533XPJ.tsv\", index_col=0).T,\n",
    "('ENCFF321JIT', \"HepG2\", 'rnaseq', \"rep2\"): pd.read_table(\"/projects/ps-yeolab3/encode/analysis/rnaseq_bams_v2/ENCFF321JIT.tsv\", index_col=0).T,}).T\n",
    "\n",
    "gene_tpm = gene_rsem.xs(\"TPM\", level=4, axis=1)\n"
   ]
  },
  {
   "cell_type": "code",
   "execution_count": 13,
   "metadata": {
    "collapsed": false
   },
   "outputs": [],
   "source": [
    "#Get total rna RPKMs\n",
    "new_keys = {'ENCFF131IST.bam': ['ENCFF131IST', 'K562', 'rnaseq', 'rep1'],\n",
    "            'ENCFF726SMY.bam': ['ENCFF726SMY', 'K562', 'rnaseq', 'rep2'],\n",
    "            'ENCFF770XVY.bam': ['ENCFF770XVY', 'HepG2', 'rnaseq', 'rep1'],\n",
    "            'ENCFF002PXG.bam': ['ENCFF002PXG', 'HepG2', 'rnaseq', 'rep2'],\n",
    "}\n",
    "\n",
    "cell_expression_counts = pd.read_table(\"/projects/ps-yeolab3/encode/analysis/rnaseq_bams_v2/encode_total_rna.txt\", skiprows=1, index_col=0)\n",
    "cell_expression_rpkms = helpers.counts_to_rpkm(cell_expression_counts)\n",
    "\n",
    "cell_expression_rpkms.columns = pd.MultiIndex.from_tuples([new_keys[key] for key in cell_expression_rpkms.columns], \n",
    "                                                          names=['uID', 'Cell line', 'rbp', 'rep'])\n",
    "\n",
    "cell_expression_counts = cell_expression_counts[new_keys.keys()]\n",
    "cell_expression_counts.columns = pd.MultiIndex.from_tuples([new_keys[key] for key in cell_expression_counts.columns], \n",
    "                                                           names=['uID', 'Cell line', 'rbp', 'rep'])\n",
    "\n",
    "#All counts\n",
    "whole_cell_expression_counts = pd.read_table(\"/projects/ps-yeolab3/encode/analysis/rnaseq_bams_v2/encode_total_rna_whole_gene_level.txt\", skiprows=1, index_col=0)\n",
    "whole_cell_expression_rpkms = helpers.counts_to_rpkm(whole_cell_expression_counts)\n",
    "\n",
    "whole_cell_expression_rpkms.columns = pd.MultiIndex.from_tuples([new_keys[key] for key in whole_cell_expression_rpkms.columns], \n",
    "                                                                names=['uID', 'Cell line', 'rbp', 'rep'])\n",
    "\n",
    "whole_cell_expression_counts = whole_cell_expression_counts[new_keys.keys()]\n",
    "whole_cell_expression_counts.columns = pd.MultiIndex.from_tuples([new_keys[key] for key in whole_cell_expression_counts.columns], \n",
    "                                                                 names=['uID', 'Cell line', 'rbp', 'rep'])"
   ]
  },
  {
   "cell_type": "code",
   "execution_count": 14,
   "metadata": {
    "collapsed": false
   },
   "outputs": [],
   "source": [
    "clip_keys = {value: key for key, value in total_bedtools.CLIP.apply(os.path.basename).iteritems()}\n",
    "input_keys = {value: key for key, value in total_bedtools.INPUT.apply(os.path.basename).iteritems()}\n",
    "\n",
    "\n",
    "clips = list(set(total_bedtools.CLIP.apply(os.path.basename).values))\n",
    "inputs = list(set(total_bedtools.INPUT.apply(os.path.basename).values))\n",
    "\n",
    "def get_counts_and_rpkms(fn):\n",
    "    gene_expression_counts = pd.read_table(fn, skiprows=1, index_col=0)\n",
    "    clip_counts = gene_expression_counts[clips]\n",
    "    \n",
    "    count_cols = list(gene_expression_counts.columns[:5])\n",
    "    \n",
    "    clip_counts.columns = pd.MultiIndex.from_tuples([clip_keys[key] for key in clip_counts.columns], \n",
    "                                                   names=['uID', 'Cell line', 'RBP', 'rep'])\n",
    "\n",
    "    input_counts = gene_expression_counts[inputs]\n",
    "    input_counts.columns = pd.MultiIndex.from_tuples([input_keys[key] for key in input_counts.columns], \n",
    "                                                   names=['uID', 'Cell line', 'RBP', 'rep'])\n",
    "\n",
    "    clip_rpkms = helpers.counts_to_rpkm(gene_expression_counts[count_cols + clips])\n",
    "    clip_rpkms.columns = pd.MultiIndex.from_tuples([clip_keys[key] for key in clip_rpkms.columns], \n",
    "                                                   names=['uID', 'Cell line', 'RBP', 'rep'])\n",
    "\n",
    "    input_rpkms = helpers.counts_to_rpkm(gene_expression_counts[count_cols + inputs])\n",
    "    input_rpkms.columns = pd.MultiIndex.from_tuples([input_keys[key] for key in input_rpkms.columns], \n",
    "                                                   names=['uID', 'Cell line', 'RBP', 'rep'])\n",
    "    \n",
    "    return clip_counts, input_counts, clip_rpkms, input_rpkms\n",
    "\n",
    "clip_exon_counts, input_exon_counts, clip_exon_rpkm, input_exon_rpkm = get_counts_and_rpkms(\"/projects/ps-yeolab3/encode/analysis/gene_expression.txt\")\n",
    "clip_whole_gene_counts, input_whole_gene_counts, clip_whole_gene_rpkm, input_whole_gene_rpkm = get_counts_and_rpkms(\"/projects/ps-yeolab3/encode/analysis/gene_expression_whole_gene_level.txt\")"
   ]
  },
  {
   "cell_type": "code",
   "execution_count": 15,
   "metadata": {
    "collapsed": true
   },
   "outputs": [],
   "source": [
    "def get_exon_counts(count_file):\n",
    "    counts = pd.read_table(count_file, index_col=0)\n",
    "    counts = counts.drop('Unnamed: 43', axis=1)\n",
    "\n",
    "    new_columns = []\n",
    "    for col in counts.columns:\n",
    "        col = col.split(\"|\")\n",
    "        if len(col) == 2:\n",
    "            rep, element = col\n",
    "            rep = os.path.basename(rep).split(\".\")[0]\n",
    "        elif len(col) == 1:\n",
    "            element = col[0]\n",
    "            element = element.split(\".\")[0]\n",
    "        new_columns.append((rep, element))\n",
    "    counts.columns = pd.MultiIndex.from_tuples(new_columns)\n",
    "    return counts.T.groupby(level=0).apply(lambda x: x.swaplevel(0,1).ix[['5utr', '3utr', 'CDS']].sum(axis=0))"
   ]
  },
  {
   "cell_type": "code",
   "execution_count": 16,
   "metadata": {
    "collapsed": false
   },
   "outputs": [],
   "source": [
    "#At the end of the day I use featureCounts\n",
    "# loc_dir = \"/home/elvannostrand/data/clip/CLIPseq_analysis/ENCODE_FINALforpapers_20170325\"\n",
    "\n",
    "# merged_data = merged_data.reset_index()\n",
    "# merged_data['loc_counts'] = merged_data.apply(lambda x: os.path.join(loc_dir, \"{}_{}_ReadsByLoc_combined.csv\".format(x.uID, x.RBP)), axis=1)\n",
    "# merged_data = merged_data.set_index([\"uID\", 'Cell line', 'RBP', 'rep'])\n",
    "\n",
    "# eric_exon_counts = merged_data.xs(\"rep1\", level=\"rep\").loc_counts.progress_apply(get_exon_counts)\n",
    "# eric_exon_counts = pd.concat(dict(eric_exon_counts.iteritems()))\n",
    "\n",
    "# eric_exon_counts = eric_exon_counts.T\n",
    "\n",
    "# new_cols = []\n",
    "# for x, col in enumerate(eric_exon_counts.columns):\n",
    "#     uid, cell_type, rbp, fn = col\n",
    "#     if x % 3 == 0:\n",
    "#         rep = \"rep1\"\n",
    "#         ip_type = \"ip\"\n",
    "#     elif x % 3 == 1:\n",
    "#         rep = \"rep2\"\n",
    "#         ip_type = \"ip\"\n",
    "#     elif x % 3 == 2:\n",
    "#         rep = \"rep2\"\n",
    "#         ip_type = \"input\"\n",
    "    \n",
    "#     new_cols.append((ip_type, \"eric\", \"exon\", \"count\", uid, cell_type, rbp, rep))\n",
    "# eric_exon_counts.columns = pd.MultiIndex.from_tuples(new_cols)\n"
   ]
  },
  {
   "cell_type": "code",
   "execution_count": 17,
   "metadata": {
    "collapsed": false
   },
   "outputs": [],
   "source": [
    "merged_rpkms = pd.concat({(\"ip\", \"featurecounts\", \"exon\", 'rpkm'): clip_exon_rpkm,\n",
    "                          (\"ip\", \"featurecounts\", \"exon\", 'count'): clip_exon_counts,\n",
    "                          (\"input\", \"featurecounts\", \"exon\", 'rpkm'): input_exon_rpkm,\n",
    "                          (\"input\", \"featurecounts\", \"exon\", 'count'): input_exon_counts,\n",
    "                          (\"ip\", \"featurecounts\", \"whole_gene\", 'rpkm'): clip_whole_gene_rpkm,\n",
    "                          (\"ip\", \"featurecounts\", \"whole_gene\", 'count'): clip_whole_gene_counts,\n",
    "                          (\"input\", \"featurecounts\", \"whole_gene\", 'rpkm'): input_whole_gene_rpkm,\n",
    "                          (\"input\", \"featurecounts\", \"whole_gene\", 'count'): input_whole_gene_counts,\n",
    "                          ('rnaseq', \"featurecounts\", 'exon', 'rpkm'): cell_expression_rpkms,\n",
    "                          ('rnaseq', \"featurecounts\", 'exon', 'count'): cell_expression_counts,\n",
    "                          ('rnaseq', \"featurecounts\", 'whole_gene', 'rpkm'): whole_cell_expression_rpkms,\n",
    "                          ('rnaseq', \"featurecounts\", 'whole_gene', 'count'): whole_cell_expression_counts,\n",
    "                          ('rnaseq', \"featurecounts\", 'exon', 'tpm_length_normalized'): whole_cell_expression_rpkms,\n",
    "                          ('rnaseq', \"featurecounts\", 'whole_gene', 'tpm_length_normalized'): whole_cell_expression_counts,\n",
    "\n",
    "                          ('rnaseq', \"tpm\", 'exon', 'rpkm'): gene_tpm,\n",
    "                          ('rnaseq', \"tpm\", 'exon', 'count'): gene_tpm,\n",
    "                          ('rnaseq', \"tpm\", 'whole_gene', 'rpkm'): gene_tpm,\n",
    "                          ('rnaseq', \"tpm\", 'whole_gene', 'count'): gene_tpm,\n",
    "                          ('rnaseq', \"tpm\", 'exon', 'tpm_length_normalized'): gene_tpm,\n",
    "                          ('rnaseq', \"tpm\", 'whole_gene', 'tpm_length_normalized'): gene_tpm,\n",
    "\n",
    "                          ('rnaseq', \"tpm_transcript\", 'exon', 'rpkm'): transcript_tpm,\n",
    "                          ('rnaseq', \"tpm_transcript\", 'exon', 'count'): transcript_tpm,\n",
    "                          ('rnaseq', \"tpm_transcript\", 'whole_gene', 'rpkm'): transcript_tpm,\n",
    "                          ('rnaseq', \"tpm_transcript\", 'whole_gene', 'count'): transcript_tpm,\n",
    "                          ('rnaseq', \"tpm_transcript\", 'exon', 'tpm_length_normalized'): transcript_tpm,\n",
    "                          ('rnaseq', \"tpm_transcript\", 'whole_gene', 'tpm_length_normalized'): transcript_tpm,\n",
    "\n",
    "                          ('rnaseq', \"tpm\", 'exon', 'length'): transcript_rsem.xs(\"length\", level=4, axis=1),\n",
    "                          ('rnaseq', \"tpm\", 'exon', 'effective_length'): transcript_rsem.xs(\"effective_length\", level=4, axis=1),\n",
    "                          ('rnaseq', \"tpm\", 'whole_gene', 'length'): transcript_rsem.xs(\"length\", level=4, axis=1),\n",
    "                          ('rnaseq', \"tpm\", 'whole_gene', 'effective_length'): transcript_rsem.xs(\"effective_length\", level=4, axis=1),\n",
    "\n",
    "                         }, axis=1)"
   ]
  },
  {
   "cell_type": "code",
   "execution_count": 18,
   "metadata": {
    "collapsed": true
   },
   "outputs": [],
   "source": [
    "#merged_rpkms = pd.concat([merged_rpkms, eric_exon_counts], axis=1)"
   ]
  },
  {
   "cell_type": "code",
   "execution_count": 19,
   "metadata": {
    "collapsed": false
   },
   "outputs": [],
   "source": [
    "for col in merged_rpkms.columns:\n",
    "    if col[0] in (\"ip\", 'input') and col[3] == \"count\":\n",
    "        #Expression Correlation\n",
    "        uid = get_tpm_transcript_uid(col[5])\n",
    "        length_col = tuple(['rnaseq', 'tpm'] + list(col[2:3]) + ['length', uid, col[5], 'rnaseq', 'rep1']) \n",
    "        new_col = list(col)\n",
    "        new_col[3] = \"tpm_length_normalized\"\n",
    "        merged_rpkms[tuple(new_col)] = merged_rpkms[col] / merged_rpkms[length_col]\n",
    "        "
   ]
  },
  {
   "cell_type": "markdown",
   "metadata": {},
   "source": [
    "# All Genes"
   ]
  },
  {
   "cell_type": "code",
   "execution_count": 20,
   "metadata": {
    "collapsed": true
   },
   "outputs": [],
   "source": [
    "#get all genes in gencode, ignore the other random stuff thrown in by everyone else\n",
    "merged_rpkms_all_genes = merged_rpkms.ix[cell_expression_counts.index].copy()"
   ]
  },
  {
   "cell_type": "code",
   "execution_count": 21,
   "metadata": {
    "collapsed": false
   },
   "outputs": [
    {
     "name": "stderr",
     "output_type": "stream",
     "text": [
      "100%|██████████| 5940/5940 [00:45<00:00, 131.40it/s]\n",
      "100%|██████████| 5940/5940 [01:50<00:00, 53.86it/s]\n"
     ]
    }
   ],
   "source": [
    "#Expression Correlation\n",
    "def full_expression_corr(expression_type=\"featurecounts\", do_log2=False):\n",
    "    expression_corr_all_genes = {}\n",
    "    for col in tqdm(merged_rpkms_all_genes[['ip', 'input']].columns):\n",
    "        if expression_type == \"featurecounts\":\n",
    "            uid = get_rpkm_uid(col[5])\n",
    "        elif expression_type == \"tpm\":\n",
    "            uid = get_tpm_uid(col[5])\n",
    "        elif expression_type == \"tpm_transcript\":\n",
    "            uid = get_tpm_transcript_uid(col[5])\n",
    "            \n",
    "        expression_values = tuple(['rnaseq', expression_type] + list(col[2:4]) + [uid, col[5], 'rnaseq', 'rep1']) \n",
    "        tmp_rpkms = merged_rpkms_all_genes[[expression_values, col]].fillna(0)\n",
    "        if do_log2:\n",
    "            tmp_rpkms = np.log10(tmp_rpkms)\n",
    "            tmp_rpkms = tmp_rpkms.replace([np.inf, -np.inf], np.nan).dropna()\n",
    "        expression_corr_all_genes[col] = scipy.stats.linregress(tmp_rpkms[col], tmp_rpkms[expression_values]).rvalue\n",
    "    \n",
    "    expression_corr_all_genes = dict_to_corr_dataframe(expression_corr_all_genes)\n",
    "    return expression_corr_all_genes\n",
    "\n",
    "expression_corr_all_genes = full_expression_corr()\n",
    "# expression_corr_all_genes_tpm = full_expression_corr(\"tpm\")\n",
    "# expression_corr_all_genes_tpm_transcript = full_expression_corr(\"tpm_transcript\")\n",
    "\n",
    "expression_corr_all_genes_log2 = full_expression_corr(do_log2=True)\n",
    "# expression_corr_all_genes_tpm_log2 = full_expression_corr(\"tpm\", do_log2=True)\n",
    "# expression_corr_all_genes_tpm_transcript_log2 = full_expression_corr(\"tpm_transcript\", do_log2=True)"
   ]
  },
  {
   "cell_type": "markdown",
   "metadata": {},
   "source": [
    "All the stuff below is important, but if you just log2 the correlations it gets so much better.  I guess thats what I'll do"
   ]
  },
  {
   "cell_type": "code",
   "execution_count": 22,
   "metadata": {
    "collapsed": false
   },
   "outputs": [
    {
     "data": {
      "text/html": [
       "<div>\n",
       "<table border=\"1\" class=\"dataframe\">\n",
       "  <thead>\n",
       "    <tr style=\"text-align: right;\">\n",
       "      <th></th>\n",
       "      <th></th>\n",
       "      <th></th>\n",
       "      <th></th>\n",
       "      <th>r-value</th>\n",
       "      <th>r-squared</th>\n",
       "    </tr>\n",
       "  </thead>\n",
       "  <tbody>\n",
       "    <tr>\n",
       "      <th rowspan=\"6\" valign=\"top\">input</th>\n",
       "      <th rowspan=\"6\" valign=\"top\">featurecounts</th>\n",
       "      <th rowspan=\"3\" valign=\"top\">exon</th>\n",
       "      <th>count</th>\n",
       "      <td>0.154869</td>\n",
       "      <td>0.031582</td>\n",
       "    </tr>\n",
       "    <tr>\n",
       "      <th>rpkm</th>\n",
       "      <td>0.206153</td>\n",
       "      <td>0.069546</td>\n",
       "    </tr>\n",
       "    <tr>\n",
       "      <th>tpm_length_normalized</th>\n",
       "      <td>0.200157</td>\n",
       "      <td>0.063412</td>\n",
       "    </tr>\n",
       "    <tr>\n",
       "      <th rowspan=\"3\" valign=\"top\">whole_gene</th>\n",
       "      <th>count</th>\n",
       "      <td>0.192449</td>\n",
       "      <td>0.045472</td>\n",
       "    </tr>\n",
       "    <tr>\n",
       "      <th>rpkm</th>\n",
       "      <td>0.209158</td>\n",
       "      <td>0.071725</td>\n",
       "    </tr>\n",
       "    <tr>\n",
       "      <th>tpm_length_normalized</th>\n",
       "      <td>0.201106</td>\n",
       "      <td>0.060500</td>\n",
       "    </tr>\n",
       "    <tr>\n",
       "      <th rowspan=\"6\" valign=\"top\">ip</th>\n",
       "      <th rowspan=\"6\" valign=\"top\">featurecounts</th>\n",
       "      <th rowspan=\"3\" valign=\"top\">exon</th>\n",
       "      <th>count</th>\n",
       "      <td>0.146438</td>\n",
       "      <td>0.029676</td>\n",
       "    </tr>\n",
       "    <tr>\n",
       "      <th>rpkm</th>\n",
       "      <td>0.129062</td>\n",
       "      <td>0.034145</td>\n",
       "    </tr>\n",
       "    <tr>\n",
       "      <th>tpm_length_normalized</th>\n",
       "      <td>0.114096</td>\n",
       "      <td>0.027640</td>\n",
       "    </tr>\n",
       "    <tr>\n",
       "      <th rowspan=\"3\" valign=\"top\">whole_gene</th>\n",
       "      <th>count</th>\n",
       "      <td>0.185167</td>\n",
       "      <td>0.042580</td>\n",
       "    </tr>\n",
       "    <tr>\n",
       "      <th>rpkm</th>\n",
       "      <td>0.132230</td>\n",
       "      <td>0.036287</td>\n",
       "    </tr>\n",
       "    <tr>\n",
       "      <th>tpm_length_normalized</th>\n",
       "      <td>0.161762</td>\n",
       "      <td>0.038571</td>\n",
       "    </tr>\n",
       "  </tbody>\n",
       "</table>\n",
       "</div>"
      ],
      "text/plain": [
       "                                                       r-value  r-squared\n",
       "input featurecounts exon       count                  0.154869   0.031582\n",
       "                               rpkm                   0.206153   0.069546\n",
       "                               tpm_length_normalized  0.200157   0.063412\n",
       "                    whole_gene count                  0.192449   0.045472\n",
       "                               rpkm                   0.209158   0.071725\n",
       "                               tpm_length_normalized  0.201106   0.060500\n",
       "ip    featurecounts exon       count                  0.146438   0.029676\n",
       "                               rpkm                   0.129062   0.034145\n",
       "                               tpm_length_normalized  0.114096   0.027640\n",
       "                    whole_gene count                  0.185167   0.042580\n",
       "                               rpkm                   0.132230   0.036287\n",
       "                               tpm_length_normalized  0.161762   0.038571"
      ]
     },
     "execution_count": 22,
     "metadata": {},
     "output_type": "execute_result"
    }
   ],
   "source": [
    "expression_corr_all_genes_grp = expression_corr_all_genes.groupby(level=[0,1,2,3])\n",
    "expression_corr_all_genes_grp.mean()"
   ]
  },
  {
   "cell_type": "code",
   "execution_count": 23,
   "metadata": {
    "collapsed": false
   },
   "outputs": [],
   "source": [
    "# expression_corr_all_genes_tpm_grp = expression_corr_all_genes_tpm.groupby(level=[0,1,2,3])\n",
    "# expression_corr_all_genes_tpm_grp.mean()"
   ]
  },
  {
   "cell_type": "code",
   "execution_count": 24,
   "metadata": {
    "collapsed": false
   },
   "outputs": [],
   "source": [
    "# expression_corr_all_genes_tpm_transcript_grp = expression_corr_all_genes_tpm_transcript.groupby(level=[0,1,2,3])\n",
    "# expression_corr_all_genes_tpm_transcript_grp.mean()"
   ]
  },
  {
   "cell_type": "code",
   "execution_count": 25,
   "metadata": {
    "collapsed": true
   },
   "outputs": [],
   "source": [
    "#Protein Coding genes"
   ]
  },
  {
   "cell_type": "code",
   "execution_count": 26,
   "metadata": {
    "collapsed": true
   },
   "outputs": [],
   "source": [
    "protein_coding_genes = [(col in gene_id_to_type) and (gene_id_to_type[col] == \"protein_coding\") for col in merged_rpkms.index]\n",
    "merged_rpkms_pc = merged_rpkms[protein_coding_genes]"
   ]
  },
  {
   "cell_type": "code",
   "execution_count": 27,
   "metadata": {
    "collapsed": false
   },
   "outputs": [
    {
     "name": "stderr",
     "output_type": "stream",
     "text": [
      "100%|██████████| 5940/5940 [00:28<00:00, 207.50it/s]\n"
     ]
    }
   ],
   "source": [
    "#Expression Correlation\n",
    "def pc_expression_corr(expression_type=\"featurecounts\"):\n",
    "\n",
    "    expression_corr_pc = {}\n",
    "    \n",
    "\n",
    "    for col in tqdm(merged_rpkms_pc[['ip', 'input']].columns):\n",
    "        if expression_type == \"featurecounts\":\n",
    "            uid = get_rpkm_uid(col[5])\n",
    "        elif expression_type == \"tpm\":\n",
    "            uid = get_tpm_uid(col[5])\n",
    "        elif expression_type == \"tpm_transcript\":\n",
    "            uid = get_tpm_transcript_uid(col[5])\n",
    "\n",
    "        expression_values = tuple(['rnaseq', expression_type] + list(col[2:4]) + [uid, col[5], 'rnaseq', 'rep1']) \n",
    "\n",
    "        tmp_rpkms = merged_rpkms_pc[[expression_values, col]].fillna(0)\n",
    "        expression_corr_pc[col] = scipy.stats.linregress(tmp_rpkms[col], tmp_rpkms[expression_values]).rvalue\n",
    "\n",
    "    expression_corr_pc = dict_to_corr_dataframe(expression_corr_pc)\n",
    "    return expression_corr_pc\n",
    "\n",
    "expression_corr_pc = pc_expression_corr()\n",
    "# expression_corr_pc_tpm = pc_expression_corr(\"tpm\")\n",
    "# expression_corr_pc_tpm_transcript = pc_expression_corr(\"tpm_transcript\")"
   ]
  },
  {
   "cell_type": "code",
   "execution_count": 28,
   "metadata": {
    "collapsed": false
   },
   "outputs": [
    {
     "data": {
      "text/html": [
       "<div>\n",
       "<table border=\"1\" class=\"dataframe\">\n",
       "  <thead>\n",
       "    <tr style=\"text-align: right;\">\n",
       "      <th></th>\n",
       "      <th></th>\n",
       "      <th></th>\n",
       "      <th></th>\n",
       "      <th>r-value</th>\n",
       "      <th>r-squared</th>\n",
       "    </tr>\n",
       "  </thead>\n",
       "  <tbody>\n",
       "    <tr>\n",
       "      <th rowspan=\"6\" valign=\"top\">input</th>\n",
       "      <th rowspan=\"6\" valign=\"top\">featurecounts</th>\n",
       "      <th rowspan=\"3\" valign=\"top\">exon</th>\n",
       "      <th>count</th>\n",
       "      <td>0.570855</td>\n",
       "      <td>0.338724</td>\n",
       "    </tr>\n",
       "    <tr>\n",
       "      <th>rpkm</th>\n",
       "      <td>0.361632</td>\n",
       "      <td>0.140632</td>\n",
       "    </tr>\n",
       "    <tr>\n",
       "      <th>tpm_length_normalized</th>\n",
       "      <td>0.282000</td>\n",
       "      <td>0.087083</td>\n",
       "    </tr>\n",
       "    <tr>\n",
       "      <th rowspan=\"3\" valign=\"top\">whole_gene</th>\n",
       "      <th>count</th>\n",
       "      <td>0.485216</td>\n",
       "      <td>0.239620</td>\n",
       "    </tr>\n",
       "    <tr>\n",
       "      <th>rpkm</th>\n",
       "      <td>0.300377</td>\n",
       "      <td>0.098252</td>\n",
       "    </tr>\n",
       "    <tr>\n",
       "      <th>tpm_length_normalized</th>\n",
       "      <td>0.282519</td>\n",
       "      <td>0.082631</td>\n",
       "    </tr>\n",
       "    <tr>\n",
       "      <th rowspan=\"6\" valign=\"top\">ip</th>\n",
       "      <th rowspan=\"6\" valign=\"top\">featurecounts</th>\n",
       "      <th rowspan=\"3\" valign=\"top\">exon</th>\n",
       "      <th>count</th>\n",
       "      <td>0.495427</td>\n",
       "      <td>0.276623</td>\n",
       "    </tr>\n",
       "    <tr>\n",
       "      <th>rpkm</th>\n",
       "      <td>0.387067</td>\n",
       "      <td>0.177923</td>\n",
       "    </tr>\n",
       "    <tr>\n",
       "      <th>tpm_length_normalized</th>\n",
       "      <td>0.226986</td>\n",
       "      <td>0.061579</td>\n",
       "    </tr>\n",
       "    <tr>\n",
       "      <th rowspan=\"3\" valign=\"top\">whole_gene</th>\n",
       "      <th>count</th>\n",
       "      <td>0.433491</td>\n",
       "      <td>0.210035</td>\n",
       "    </tr>\n",
       "    <tr>\n",
       "      <th>rpkm</th>\n",
       "      <td>0.342329</td>\n",
       "      <td>0.137653</td>\n",
       "    </tr>\n",
       "    <tr>\n",
       "      <th>tpm_length_normalized</th>\n",
       "      <td>0.273754</td>\n",
       "      <td>0.086427</td>\n",
       "    </tr>\n",
       "  </tbody>\n",
       "</table>\n",
       "</div>"
      ],
      "text/plain": [
       "                                                       r-value  r-squared\n",
       "input featurecounts exon       count                  0.570855   0.338724\n",
       "                               rpkm                   0.361632   0.140632\n",
       "                               tpm_length_normalized  0.282000   0.087083\n",
       "                    whole_gene count                  0.485216   0.239620\n",
       "                               rpkm                   0.300377   0.098252\n",
       "                               tpm_length_normalized  0.282519   0.082631\n",
       "ip    featurecounts exon       count                  0.495427   0.276623\n",
       "                               rpkm                   0.387067   0.177923\n",
       "                               tpm_length_normalized  0.226986   0.061579\n",
       "                    whole_gene count                  0.433491   0.210035\n",
       "                               rpkm                   0.342329   0.137653\n",
       "                               tpm_length_normalized  0.273754   0.086427"
      ]
     },
     "execution_count": 28,
     "metadata": {},
     "output_type": "execute_result"
    }
   ],
   "source": [
    "expression_corr_pc_grp = expression_corr_pc.groupby(level=[0,1,2, 3])\n",
    "expression_corr_pc_grp.mean()"
   ]
  },
  {
   "cell_type": "code",
   "execution_count": 29,
   "metadata": {
    "collapsed": false
   },
   "outputs": [],
   "source": [
    "# expression_corr_pc_tpm_grp = expression_corr_pc_tpm.groupby(level=[0,1,2, 3])\n",
    "# expression_corr_pc_tpm_grp.mean()"
   ]
  },
  {
   "cell_type": "code",
   "execution_count": 30,
   "metadata": {
    "collapsed": false
   },
   "outputs": [],
   "source": [
    "# expression_corr_pc_tpm_transcript_grp = expression_corr_pc_tpm_transcript.groupby(level=[0,1,2, 3])\n",
    "# expression_corr_pc_tpm_transcript_grp.mean()"
   ]
  },
  {
   "cell_type": "markdown",
   "metadata": {
    "collapsed": true
   },
   "source": [
    "# Protein Coding Genes with only genes that have counts in everything"
   ]
  },
  {
   "cell_type": "code",
   "execution_count": 31,
   "metadata": {
    "collapsed": false,
    "scrolled": true
   },
   "outputs": [
    {
     "name": "stderr",
     "output_type": "stream",
     "text": [
      "100%|██████████| 5940/5940 [07:34<00:00, 12.56it/s]\n"
     ]
    }
   ],
   "source": [
    "#Expression Correlation\n",
    "def expression_corr_specific(expression_type=\"featurecounts\"):\n",
    "\n",
    "    expression_corr = {}\n",
    "    expression_type = expression_type.split(\"_\")[0]\n",
    "\n",
    "    for col in tqdm(merged_rpkms_pc[['ip', 'input']].columns):\n",
    "        if expression_type == \"featurecounts\":\n",
    "            uid = get_rpkm_uid(col[5])\n",
    "        elif expression_type == \"tpm\":\n",
    "            uid = get_tpm_uid(col[5])\n",
    "        elif expression_type == \"tpm_transcript\":\n",
    "            uid = get_tpm_transcript_uid(col[5])\n",
    "\n",
    "        expression_values = tuple(['rnaseq', expression_type] + list(col[2:4]) + [uid, col[5], 'rnaseq', 'rep1']) \n",
    "\n",
    "        tmp_rpkms = merged_rpkms_pc[[expression_values, col]]\n",
    "        tmp_rpkms = tmp_rpkms[tmp_rpkms.applymap(lambda x: x != 0).all(axis=1)].dropna()\n",
    "        expression_corr[col] = scipy.stats.linregress(tmp_rpkms[col], tmp_rpkms[expression_values]).rvalue\n",
    "\n",
    "    expression_corr = dict_to_corr_dataframe(expression_corr)\n",
    "    return expression_corr\n",
    "\n",
    "expression_corr = expression_corr_specific()\n",
    "# expression_corr_tpm = expression_corr_specific(\"tpm\")\n",
    "# expression_corr_tpm_transcript = expression_corr_specific(\"tpm_transcript\")"
   ]
  },
  {
   "cell_type": "code",
   "execution_count": 32,
   "metadata": {
    "collapsed": false
   },
   "outputs": [
    {
     "data": {
      "text/html": [
       "<div>\n",
       "<table border=\"1\" class=\"dataframe\">\n",
       "  <thead>\n",
       "    <tr style=\"text-align: right;\">\n",
       "      <th></th>\n",
       "      <th></th>\n",
       "      <th></th>\n",
       "      <th></th>\n",
       "      <th>r-value</th>\n",
       "      <th>r-squared</th>\n",
       "    </tr>\n",
       "  </thead>\n",
       "  <tbody>\n",
       "    <tr>\n",
       "      <th rowspan=\"6\" valign=\"top\">input</th>\n",
       "      <th rowspan=\"6\" valign=\"top\">featurecounts</th>\n",
       "      <th rowspan=\"3\" valign=\"top\">exon</th>\n",
       "      <th>count</th>\n",
       "      <td>0.551738</td>\n",
       "      <td>0.318384</td>\n",
       "    </tr>\n",
       "    <tr>\n",
       "      <th>rpkm</th>\n",
       "      <td>0.354125</td>\n",
       "      <td>0.135434</td>\n",
       "    </tr>\n",
       "    <tr>\n",
       "      <th>tpm_length_normalized</th>\n",
       "      <td>0.280427</td>\n",
       "      <td>0.086455</td>\n",
       "    </tr>\n",
       "    <tr>\n",
       "      <th rowspan=\"3\" valign=\"top\">whole_gene</th>\n",
       "      <th>count</th>\n",
       "      <td>0.462725</td>\n",
       "      <td>0.218816</td>\n",
       "    </tr>\n",
       "    <tr>\n",
       "      <th>rpkm</th>\n",
       "      <td>0.304180</td>\n",
       "      <td>0.100779</td>\n",
       "    </tr>\n",
       "    <tr>\n",
       "      <th>tpm_length_normalized</th>\n",
       "      <td>0.261877</td>\n",
       "      <td>0.071060</td>\n",
       "    </tr>\n",
       "    <tr>\n",
       "      <th rowspan=\"6\" valign=\"top\">ip</th>\n",
       "      <th rowspan=\"6\" valign=\"top\">featurecounts</th>\n",
       "      <th rowspan=\"3\" valign=\"top\">exon</th>\n",
       "      <th>count</th>\n",
       "      <td>0.473700</td>\n",
       "      <td>0.256503</td>\n",
       "    </tr>\n",
       "    <tr>\n",
       "      <th>rpkm</th>\n",
       "      <td>0.380474</td>\n",
       "      <td>0.172969</td>\n",
       "    </tr>\n",
       "    <tr>\n",
       "      <th>tpm_length_normalized</th>\n",
       "      <td>0.225667</td>\n",
       "      <td>0.061259</td>\n",
       "    </tr>\n",
       "    <tr>\n",
       "      <th rowspan=\"3\" valign=\"top\">whole_gene</th>\n",
       "      <th>count</th>\n",
       "      <td>0.407430</td>\n",
       "      <td>0.189140</td>\n",
       "    </tr>\n",
       "    <tr>\n",
       "      <th>rpkm</th>\n",
       "      <td>0.348795</td>\n",
       "      <td>0.142677</td>\n",
       "    </tr>\n",
       "    <tr>\n",
       "      <th>tpm_length_normalized</th>\n",
       "      <td>0.250761</td>\n",
       "      <td>0.074207</td>\n",
       "    </tr>\n",
       "  </tbody>\n",
       "</table>\n",
       "</div>"
      ],
      "text/plain": [
       "                                                       r-value  r-squared\n",
       "input featurecounts exon       count                  0.551738   0.318384\n",
       "                               rpkm                   0.354125   0.135434\n",
       "                               tpm_length_normalized  0.280427   0.086455\n",
       "                    whole_gene count                  0.462725   0.218816\n",
       "                               rpkm                   0.304180   0.100779\n",
       "                               tpm_length_normalized  0.261877   0.071060\n",
       "ip    featurecounts exon       count                  0.473700   0.256503\n",
       "                               rpkm                   0.380474   0.172969\n",
       "                               tpm_length_normalized  0.225667   0.061259\n",
       "                    whole_gene count                  0.407430   0.189140\n",
       "                               rpkm                   0.348795   0.142677\n",
       "                               tpm_length_normalized  0.250761   0.074207"
      ]
     },
     "execution_count": 32,
     "metadata": {},
     "output_type": "execute_result"
    }
   ],
   "source": [
    "expression_corr_grp = expression_corr.groupby(level=[0,1,2,3])\n",
    "expression_corr_grp.mean()"
   ]
  },
  {
   "cell_type": "code",
   "execution_count": 33,
   "metadata": {
    "collapsed": false
   },
   "outputs": [],
   "source": [
    "# expression_corr_tpm_gpr = expression_corr_tpm.groupby(level=[0,1,2,3])\n",
    "# expression_corr_tpm_gpr.mean()"
   ]
  },
  {
   "cell_type": "code",
   "execution_count": 34,
   "metadata": {
    "collapsed": false
   },
   "outputs": [],
   "source": [
    "# expression_corr_tpm_transcript_grp = expression_corr_tpm_transcript.groupby(level=[0,1,2,3])\n",
    "# expression_corr_tpm_transcript_grp.mean()"
   ]
  },
  {
   "cell_type": "markdown",
   "metadata": {},
   "source": [
    "I can push correlations higher or lower depending on how I parse the data.  Higher coors if I throw out things that aren't covered in both comparisons, lower coors if I do.  \n",
    "\n",
    "Erics counts, on average look like mine now, which is good.  Can't get quite "
   ]
  },
  {
   "cell_type": "code",
   "execution_count": 35,
   "metadata": {
    "collapsed": false
   },
   "outputs": [],
   "source": [
    "# num_rows = 1\n",
    "# num_cols = 1\n",
    "# with dataviz.Figure(os.path.join(img_dir, \"tpm_input_expression_corr.svg\"), figsize=(4* num_rows, 4*num_cols)) as fig:\n",
    "#     ax = fig.add_subplot(num_cols,num_rows,1)\n",
    "#     sns.violinplot(expression_corr.loc[('input', 'whole_gene')]['r-squared'], ax=ax)\n",
    "#     ax.set_xlim(0,1)\n",
    "#     ax.set_xlabel(\"$R^2$\")\n",
    "#     ax.set_title(\"Gene Expression (TPM)\\nand reads in input correlation\")\n",
    "#     ax.set_ylabel(\"All Experiments\")\n",
    "#     sns.despine(ax=ax)\n",
    "    \n",
    "#     sns.violinplot(expression_corr.loc[('ip', 'exon', 'count')]['r-squared'], ax=ax)\n",
    "\n",
    "#     sns.violinplot(rpkm_input_expression_corr.loc[('ip', 'gene', 'rpkm')]['r-squared'], ax=ax)\n"
   ]
  },
  {
   "cell_type": "code",
   "execution_count": 36,
   "metadata": {
    "collapsed": false
   },
   "outputs": [],
   "source": [
    "# rpkm_input_expression_corr.loc[('input', 'whole_gene')].mean()"
   ]
  },
  {
   "cell_type": "markdown",
   "metadata": {},
   "source": [
    "Note the x-axis, expression counts are uncorrelated with input counts, TPM is somehow better correlated, but I don't know why."
   ]
  },
  {
   "cell_type": "code",
   "execution_count": 37,
   "metadata": {
    "collapsed": false
   },
   "outputs": [],
   "source": [
    "# num_rows = 1\n",
    "# num_cols = 1\n",
    "# with dataviz.Figure(os.path.join(img_dir, \"tpm_input_expression_corr.svg\"), figsize=(4* num_rows, 4*num_cols)) as fig:\n",
    "#     ax = fig.add_subplot(num_cols,num_rows,1)\n",
    "#     sns.violinplot(tpm_input_expression_corr.loc[('input', 'gene')]['r-squared'], ax=ax)\n",
    "#     ax.set_xlim(0,1)\n",
    "#     ax.set_xlabel(\"$R^2$\")\n",
    "#     ax.set_title(\"Gene Expression (TPM)\\nand reads in input correlation\")\n",
    "#     ax.set_ylabel(\"All Experiments\")\n",
    "#     sns.despine(ax=ax)"
   ]
  },
  {
   "cell_type": "code",
   "execution_count": 38,
   "metadata": {
    "collapsed": false
   },
   "outputs": [],
   "source": [
    "\n",
    "# num_rows = 1\n",
    "# num_cols = 1\n",
    "# with dataviz.Figure(os.path.join(img_dir, \"rpkm_input_expression_corr.svg\"), figsize=(4* num_rows, 4*num_cols)) as fig:\n",
    "#     ax = fig.add_subplot(num_cols,num_rows,1)\n",
    "#     sns.violinplot(rpkm_input_expression_corr.loc[('input', 'gene')]['r-squared'], ax=ax)\n",
    "#     ax.set_xlim(0,1)\n",
    "#     sns.despine(ax=ax)"
   ]
  },
  {
   "cell_type": "markdown",
   "metadata": {},
   "source": [
    "# Correlations between IP and Input "
   ]
  },
  {
   "cell_type": "code",
   "execution_count": 39,
   "metadata": {
    "collapsed": false,
    "scrolled": true
   },
   "outputs": [
    {
     "name": "stderr",
     "output_type": "stream",
     "text": [
      " 91%|█████████ | 3585/3960 [13:20<01:28,  4.22it/s]"
     ]
    },
    {
     "ename": "ValueError",
     "evalue": "I/O operation on closed file",
     "output_type": "error",
     "traceback": [
      "\u001b[0;31m---------------------------------------------------------------------------\u001b[0m",
      "\u001b[0;31mValueError\u001b[0m                                Traceback (most recent call last)",
      "\u001b[0;32m<ipython-input-39-97f709df0a54>\u001b[0m in \u001b[0;36m<module>\u001b[0;34m()\u001b[0m\n\u001b[1;32m      2\u001b[0m \u001b[0;34m\u001b[0m\u001b[0m\n\u001b[1;32m      3\u001b[0m \u001b[0mip_input_correlations\u001b[0m \u001b[0;34m=\u001b[0m \u001b[0;34m{\u001b[0m\u001b[0;34m}\u001b[0m\u001b[0;34m\u001b[0m\u001b[0m\n\u001b[0;32m----> 4\u001b[0;31m \u001b[0;32mfor\u001b[0m \u001b[0mcol\u001b[0m \u001b[0;32min\u001b[0m \u001b[0mtqdm\u001b[0m\u001b[0;34m(\u001b[0m\u001b[0mip_values\u001b[0m\u001b[0;34m.\u001b[0m\u001b[0mcolumns\u001b[0m\u001b[0;34m)\u001b[0m\u001b[0;34m:\u001b[0m\u001b[0;34m\u001b[0m\u001b[0m\n\u001b[0m\u001b[1;32m      5\u001b[0m     \u001b[0mip_col\u001b[0m \u001b[0;34m=\u001b[0m \u001b[0mtuple\u001b[0m\u001b[0;34m(\u001b[0m\u001b[0;34m[\u001b[0m\u001b[0;34m'ip'\u001b[0m\u001b[0;34m]\u001b[0m \u001b[0;34m+\u001b[0m \u001b[0mlist\u001b[0m\u001b[0;34m(\u001b[0m\u001b[0mcol\u001b[0m\u001b[0;34m)\u001b[0m\u001b[0;34m)\u001b[0m\u001b[0;34m\u001b[0m\u001b[0m\n\u001b[1;32m      6\u001b[0m     \u001b[0minput_col\u001b[0m \u001b[0;34m=\u001b[0m \u001b[0mtuple\u001b[0m\u001b[0;34m(\u001b[0m\u001b[0;34m[\u001b[0m\u001b[0;34m'input'\u001b[0m\u001b[0;34m]\u001b[0m \u001b[0;34m+\u001b[0m \u001b[0mlist\u001b[0m\u001b[0;34m(\u001b[0m\u001b[0mcol\u001b[0m\u001b[0;34m[\u001b[0m\u001b[0;34m:\u001b[0m\u001b[0;34m-\u001b[0m\u001b[0;36m1\u001b[0m\u001b[0;34m]\u001b[0m\u001b[0;34m)\u001b[0m \u001b[0;34m+\u001b[0m \u001b[0;34m[\u001b[0m\u001b[0;34m\"rep2\"\u001b[0m\u001b[0;34m]\u001b[0m\u001b[0;34m)\u001b[0m\u001b[0;34m\u001b[0m\u001b[0m\n",
      "\u001b[0;32m/home/gpratt/anaconda/lib/python2.7/site-packages/tqdm/_tqdm.pyc\u001b[0m in \u001b[0;36m__iter__\u001b[0;34m(self)\u001b[0m\n\u001b[1;32m    861\u001b[0m                             \u001b[0mself\u001b[0m\u001b[0;34m.\u001b[0m\u001b[0mdesc\u001b[0m\u001b[0;34m,\u001b[0m \u001b[0mascii\u001b[0m\u001b[0;34m,\u001b[0m \u001b[0munit\u001b[0m\u001b[0;34m,\u001b[0m \u001b[0munit_scale\u001b[0m\u001b[0;34m,\u001b[0m\u001b[0;34m\u001b[0m\u001b[0m\n\u001b[1;32m    862\u001b[0m                             \u001b[0;36m1\u001b[0m \u001b[0;34m/\u001b[0m \u001b[0mavg_time\u001b[0m \u001b[0;32mif\u001b[0m \u001b[0mavg_time\u001b[0m \u001b[0;32melse\u001b[0m \u001b[0mNone\u001b[0m\u001b[0;34m,\u001b[0m \u001b[0mbar_format\u001b[0m\u001b[0;34m,\u001b[0m\u001b[0;34m\u001b[0m\u001b[0m\n\u001b[0;32m--> 863\u001b[0;31m                             self.postfix))\n\u001b[0m\u001b[1;32m    864\u001b[0m \u001b[0;34m\u001b[0m\u001b[0m\n\u001b[1;32m    865\u001b[0m                         \u001b[0;32mif\u001b[0m \u001b[0mself\u001b[0m\u001b[0;34m.\u001b[0m\u001b[0mpos\u001b[0m\u001b[0;34m:\u001b[0m\u001b[0;34m\u001b[0m\u001b[0m\n",
      "\u001b[0;32m/home/gpratt/anaconda/lib/python2.7/site-packages/tqdm/_tqdm.pyc\u001b[0m in \u001b[0;36mprint_status\u001b[0;34m(s)\u001b[0m\n\u001b[1;32m    197\u001b[0m         \u001b[0;32mdef\u001b[0m \u001b[0mprint_status\u001b[0m\u001b[0;34m(\u001b[0m\u001b[0ms\u001b[0m\u001b[0;34m)\u001b[0m\u001b[0;34m:\u001b[0m\u001b[0;34m\u001b[0m\u001b[0m\n\u001b[1;32m    198\u001b[0m             \u001b[0mlen_s\u001b[0m \u001b[0;34m=\u001b[0m \u001b[0mlen\u001b[0m\u001b[0;34m(\u001b[0m\u001b[0ms\u001b[0m\u001b[0;34m)\u001b[0m\u001b[0;34m\u001b[0m\u001b[0m\n\u001b[0;32m--> 199\u001b[0;31m             \u001b[0mfp_write\u001b[0m\u001b[0;34m(\u001b[0m\u001b[0;34m'\\r'\u001b[0m \u001b[0;34m+\u001b[0m \u001b[0ms\u001b[0m \u001b[0;34m+\u001b[0m \u001b[0;34m(\u001b[0m\u001b[0;34m' '\u001b[0m \u001b[0;34m*\u001b[0m \u001b[0mmax\u001b[0m\u001b[0;34m(\u001b[0m\u001b[0mlast_len\u001b[0m\u001b[0;34m[\u001b[0m\u001b[0;36m0\u001b[0m\u001b[0;34m]\u001b[0m \u001b[0;34m-\u001b[0m \u001b[0mlen_s\u001b[0m\u001b[0;34m,\u001b[0m \u001b[0;36m0\u001b[0m\u001b[0;34m)\u001b[0m\u001b[0;34m)\u001b[0m\u001b[0;34m)\u001b[0m\u001b[0;34m\u001b[0m\u001b[0m\n\u001b[0m\u001b[1;32m    200\u001b[0m             \u001b[0mlast_len\u001b[0m\u001b[0;34m[\u001b[0m\u001b[0;36m0\u001b[0m\u001b[0;34m]\u001b[0m \u001b[0;34m=\u001b[0m \u001b[0mlen_s\u001b[0m\u001b[0;34m\u001b[0m\u001b[0m\n\u001b[1;32m    201\u001b[0m         \u001b[0;32mreturn\u001b[0m \u001b[0mprint_status\u001b[0m\u001b[0;34m\u001b[0m\u001b[0m\n",
      "\u001b[0;32m/home/gpratt/anaconda/lib/python2.7/site-packages/tqdm/_tqdm.pyc\u001b[0m in \u001b[0;36mfp_write\u001b[0;34m(s)\u001b[0m\n\u001b[1;32m    190\u001b[0m \u001b[0;34m\u001b[0m\u001b[0m\n\u001b[1;32m    191\u001b[0m         \u001b[0;32mdef\u001b[0m \u001b[0mfp_write\u001b[0m\u001b[0;34m(\u001b[0m\u001b[0ms\u001b[0m\u001b[0;34m)\u001b[0m\u001b[0;34m:\u001b[0m\u001b[0;34m\u001b[0m\u001b[0m\n\u001b[0;32m--> 192\u001b[0;31m             \u001b[0mfp\u001b[0m\u001b[0;34m.\u001b[0m\u001b[0mwrite\u001b[0m\u001b[0;34m(\u001b[0m\u001b[0m_unicode\u001b[0m\u001b[0;34m(\u001b[0m\u001b[0ms\u001b[0m\u001b[0;34m)\u001b[0m\u001b[0;34m)\u001b[0m\u001b[0;34m\u001b[0m\u001b[0m\n\u001b[0m\u001b[1;32m    193\u001b[0m             \u001b[0mfp_flush\u001b[0m\u001b[0;34m(\u001b[0m\u001b[0;34m)\u001b[0m\u001b[0;34m\u001b[0m\u001b[0m\n\u001b[1;32m    194\u001b[0m \u001b[0;34m\u001b[0m\u001b[0m\n",
      "\u001b[0;32m/home/gpratt/anaconda/lib/python2.7/site-packages/ipykernel/iostream.pyc\u001b[0m in \u001b[0;36mwrite\u001b[0;34m(self, string)\u001b[0m\n\u001b[1;32m    315\u001b[0m \u001b[0;34m\u001b[0m\u001b[0m\n\u001b[1;32m    316\u001b[0m             \u001b[0mis_child\u001b[0m \u001b[0;34m=\u001b[0m \u001b[0;34m(\u001b[0m\u001b[0;32mnot\u001b[0m \u001b[0mself\u001b[0m\u001b[0;34m.\u001b[0m\u001b[0m_is_master_process\u001b[0m\u001b[0;34m(\u001b[0m\u001b[0;34m)\u001b[0m\u001b[0;34m)\u001b[0m\u001b[0;34m\u001b[0m\u001b[0m\n\u001b[0;32m--> 317\u001b[0;31m             \u001b[0mself\u001b[0m\u001b[0;34m.\u001b[0m\u001b[0m_buffer\u001b[0m\u001b[0;34m.\u001b[0m\u001b[0mwrite\u001b[0m\u001b[0;34m(\u001b[0m\u001b[0mstring\u001b[0m\u001b[0;34m)\u001b[0m\u001b[0;34m\u001b[0m\u001b[0m\n\u001b[0m\u001b[1;32m    318\u001b[0m             \u001b[0;32mif\u001b[0m \u001b[0mis_child\u001b[0m\u001b[0;34m:\u001b[0m\u001b[0;34m\u001b[0m\u001b[0m\n\u001b[1;32m    319\u001b[0m                 \u001b[0;31m# newlines imply flush in subprocesses\u001b[0m\u001b[0;34m\u001b[0m\u001b[0;34m\u001b[0m\u001b[0m\n",
      "\u001b[0;31mValueError\u001b[0m: I/O operation on closed file"
     ]
    }
   ],
   "source": [
    "ip_values = merged_rpkms['ip']\n",
    "\n",
    "ip_input_correlations = {}\n",
    "for col in tqdm(ip_values.columns):\n",
    "    ip_col = tuple(['ip'] + list(col))\n",
    "    input_col = tuple(['input'] + list(col[:-1]) + [\"rep2\"])\n",
    "    tmp_rpkms = merged_rpkms[[ip_col, input_col]]\n",
    "    tmp_rpkms = np.log10(tmp_rpkms)\n",
    "    tmp_rpkms = tmp_rpkms[(tmp_rpkms != 0).all(axis=1)]\n",
    "    tmp_rpkms = tmp_rpkms.replace([np.inf, -np.inf], np.nan).dropna()\n",
    "    ip_input_correlations[col] = scipy.stats.linregress(tmp_rpkms[ip_col], tmp_rpkms[input_col]).rvalue\n",
    "\n",
    "ip_input_correlations = pd.Series(ip_input_correlations, name=\"rvalue\")\n",
    "ip_input_correlations = pd.DataFrame(ip_input_correlations)\n",
    "ip_input_correlations['r-squared'] = ip_input_correlations['rvalue']**2"
   ]
  },
  {
   "cell_type": "code",
   "execution_count": null,
   "metadata": {
    "collapsed": false
   },
   "outputs": [],
   "source": [
    "ip_input_correlations.groupby(level=[0,1,2]).mean()"
   ]
  },
  {
   "cell_type": "markdown",
   "metadata": {},
   "source": [
    "Erics counts in this case are slightly less well correlated.  If its all the same I'll just use my results to improve the baseline.  "
   ]
  },
  {
   "cell_type": "code",
   "execution_count": null,
   "metadata": {
    "collapsed": false
   },
   "outputs": [],
   "source": [
    "num_rows = 1\n",
    "num_cols = 1\n",
    "with dataviz.Figure(os.path.join(img_dir, \"ip_input_rpkm_correlation.svg\"), figsize=(4* num_rows, 4*num_cols)) as fig:\n",
    "    ax = fig.add_subplot(num_cols,num_rows,1)\n",
    "    sns.violinplot(ip_input_correlations['r-squared'], ax=ax)\n",
    "    ax.set_xlim(0,1)\n",
    "    sns.despine(ax=ax)"
   ]
  },
  {
   "cell_type": "code",
   "execution_count": null,
   "metadata": {
    "collapsed": false
   },
   "outputs": [],
   "source": [
    "ip_input_correlations.mean()"
   ]
  },
  {
   "cell_type": "markdown",
   "metadata": {},
   "source": [
    "IP and input are better correlated, in praticular possibly abundtant RBPs are well correlated with input, where more lowly expressed RBPS are not, let me check this real quick."
   ]
  },
  {
   "cell_type": "code",
   "execution_count": null,
   "metadata": {
    "collapsed": false
   },
   "outputs": [],
   "source": [
    "def get_expression(row):\n",
    "    cell_type = row.name[4]\n",
    "\n",
    "    if cell_type == \"K562\":\n",
    "        expression = gene_rsem[('ENCFF424CXV', 'K562', 'rnaseq', 'rep1')]\n",
    "    if cell_type == \"HepG2\":\n",
    "        expression = gene_rsem[('ENCFF533XPJ', 'HepG2', 'rnaseq', 'rep1')]\n",
    "\n",
    "    return expression.ix[row.gene_id].TPM\n",
    "\n",
    "ip_input_correlations['gene_id'] = [name_to_gene_id[name] for name in ip_input_correlations.index.get_level_values(level=5)]\n",
    "ip_input_correlations['rbp_expression'] = ip_input_correlations.progress_apply(get_expression, axis=1)"
   ]
  },
  {
   "cell_type": "code",
   "execution_count": null,
   "metadata": {
    "collapsed": false
   },
   "outputs": [],
   "source": [
    "ip_input_correlations.sort_values(\"r-squared\", ascending=False).head()"
   ]
  },
  {
   "cell_type": "code",
   "execution_count": null,
   "metadata": {
    "collapsed": false
   },
   "outputs": [],
   "source": [
    "num_rows = 1\n",
    "num_cols = 1\n",
    "with dataviz.Figure(os.path.join(img_dir, \"ip_input_rpkm_correlation.svg\"), figsize=(4* num_rows, 4*num_cols)) as fig:\n",
    "    ax = fig.add_subplot(num_cols,num_rows,1)\n",
    "    ax.scatter(ip_input_correlations['r-squared'], ip_input_correlations['rbp_expression'])\n",
    "    ax.set_xlim(0,1)\n",
    "    ax.set_xlabel(\"R-Squared\")\n",
    "    ax.set_ylabel(\"RBP Expression\")\n",
    "    sns.despine(ax=ax)\n",
    "    "
   ]
  },
  {
   "cell_type": "markdown",
   "metadata": {},
   "source": [
    "Well, isnt not expression thats causing the high input correlations"
   ]
  },
  {
   "cell_type": "markdown",
   "metadata": {},
   "source": [
    "# IP Correlated with both measures of expression"
   ]
  },
  {
   "cell_type": "code",
   "execution_count": null,
   "metadata": {
    "collapsed": false
   },
   "outputs": [],
   "source": [
    "# k562_clip_rpkms = clip_rpkms.xs(\"K562\", level=\"Cell line\", axis=1)\n",
    "# hepg2_clip_rpkms = clip_rpkms.xs(\"HepG2\", level=\"Cell line\", axis=1)\n",
    "\n",
    "# k562_expression = pd.merge(k562_rep1, k562_clip_rpkms, left_index=True, right_index=True, how=\"inner\")\n",
    "# hepg2_expression = pd.merge(hepg2_rep1, hepg2_clip_rpkms, left_index=True, right_index=True, how=\"inner\")"
   ]
  },
  {
   "cell_type": "code",
   "execution_count": null,
   "metadata": {
    "collapsed": false
   },
   "outputs": [],
   "source": [
    "# expression_corr = {}\n",
    "# for col in k562_clip_rpkms.columns:\n",
    "#      expression_corr[col] = scipy.stats.linregress(k562_expression.TPM, k562_expression[col]).rvalue\n",
    "# for col in hepg2_clip_rpkms.columns:\n",
    "#      expression_corr[col] = scipy.stats.linregress(hepg2_expression.TPM, hepg2_expression[col]).rvalue\n",
    "        \n",
    "# tmp_ip_expression_corr = pd.Series(expression_corr, name=\"r-value\")\n",
    "# tmp_ip_expression_corr = pd.DataFrame(tmp_ip_expression_corr.sort_values(ascending=False))\n",
    "# tmp_ip_expression_corr['r-squared'] = tmp_ip_expression_corr['r-value'] ** 2"
   ]
  },
  {
   "cell_type": "code",
   "execution_count": null,
   "metadata": {
    "collapsed": false
   },
   "outputs": [],
   "source": [
    "# num_rows = 1\n",
    "# num_cols = 1\n",
    "# with dataviz.Figure(os.path.join(img_dir, \"tpm_ip_expression_corr.svg\"), figsize=(4* num_rows, 4*num_cols)) as fig:\n",
    "#     ax = fig.add_subplot(num_cols,num_rows,1)\n",
    "#     sns.violinplot(tmp_ip_expression_corr['r-squared'], ax=ax)\n",
    "#     ax.set_xlim(0,1)\n",
    "#     sns.despine(ax=ax)\n",
    "    "
   ]
  },
  {
   "cell_type": "code",
   "execution_count": null,
   "metadata": {
    "collapsed": false
   },
   "outputs": [],
   "source": [
    "# tmp_ip_expression_corr.mean()"
   ]
  },
  {
   "cell_type": "code",
   "execution_count": null,
   "metadata": {
    "collapsed": false
   },
   "outputs": [],
   "source": [
    "# #Expression Correlation\n",
    "# expression_corr = {}\n",
    "# for col in k562_clip_rpkms.columns:\n",
    "#      expression_corr[col] = scipy.stats.linregress(cell_expression_rpkms[('K562', \"rep1\")], k562_expression[col]).rvalue\n",
    "# for col in hepg2_clip_rpkms.columns:\n",
    "#      expression_corr[col] = scipy.stats.linregress(cell_expression_rpkms[('HepG2', \"rep1\")], hepg2_expression[col]).rvalue\n",
    "        \n",
    "# rpkm_ip_expression_corr = pd.Series(expression_corr, name=\"r-value\")\n",
    "# rpkm_ip_expression_corr = pd.DataFrame(rpkm_ip_expression_corr.sort_values(ascending=False))\n",
    "# rpkm_ip_expression_corr['r-squared'] = rpkm_ip_expression_corr['r-value'] ** 2"
   ]
  },
  {
   "cell_type": "code",
   "execution_count": null,
   "metadata": {
    "collapsed": false
   },
   "outputs": [],
   "source": [
    "# num_rows = 1\n",
    "# num_cols = 1\n",
    "# with dataviz.Figure(os.path.join(img_dir, \"tpm_ip_expression_corr.svg\"), figsize=(4* num_rows, 4*num_cols)) as fig:\n",
    "#     ax = fig.add_subplot(num_cols,num_rows,1)\n",
    "#     sns.violinplot(rpkm_ip_expression_corr['r-squared'], ax=ax)\n",
    "#     ax.set_xlim(0,1)\n",
    "#     sns.despine(ax=ax)\n",
    "    "
   ]
  },
  {
   "cell_type": "code",
   "execution_count": null,
   "metadata": {
    "collapsed": false
   },
   "outputs": [],
   "source": [
    "# rpkm_ip_expression_corr.mean()"
   ]
  },
  {
   "cell_type": "code",
   "execution_count": null,
   "metadata": {
    "collapsed": false,
    "scrolled": true
   },
   "outputs": [],
   "source": [
    "# no_counts = (clip_rpkms == 0).sum()\n",
    "# no_counts.sort_values(ascending=False)"
   ]
  },
  {
   "cell_type": "markdown",
   "metadata": {},
   "source": [
    "This is important becaue it explains LARP7, which should just bind one thing, but correlates well.  It correlates well because it binds so few sites in the genome, leading to an apparently better correlation I guess.  "
   ]
  },
  {
   "cell_type": "markdown",
   "metadata": {},
   "source": [
    "I want to show that gene expression in uncorrelated to reads in peaks.  This argunment will allow me to that peaks picked up are the strongest peaks, of the expression level of where that gene exists.  Alternatively, if you sequence deeply.\n",
    "\n",
    "Step 1: Show size matched controls correlate well to TPM\n",
    "Step 2: Show IPs correlate less well to TPM this indicates the the data we pick up is enriching more for binding strength rather than gene expression\n",
    "Step 3: Show peaks are basically uncorrelated to gene expression.  \n",
    "\n",
    "Next we were interested to see the quality of peaks that were recovered, we found that peaks recovered as we added back in reads had a small reduction in the number of motifs or regions discovered, but still had fairly high quality binding sites.  This leads us to believe that deeper sequencing will recover confident but less strongly bound sites\n",
    "\n",
    "Maybe look into this conservation thing, less strongy bound peaks are possibly less conserved?  "
   ]
  },
  {
   "cell_type": "markdown",
   "metadata": {},
   "source": [
    "# Final Figure?"
   ]
  },
  {
   "cell_type": "code",
   "execution_count": null,
   "metadata": {
    "collapsed": false
   },
   "outputs": [],
   "source": [
    "ip_input_correlations['exp'] = 'IP Input Correlation'\n",
    "ip_input_correlations['similar'] = \"foo\""
   ]
  },
  {
   "cell_type": "code",
   "execution_count": null,
   "metadata": {
    "collapsed": false
   },
   "outputs": [],
   "source": [
    "num_rows = 1\n",
    "num_cols = 1\n",
    "\n",
    "tmp_correlation = ip_input_correlations.ix[['featurecounts', 'whole_gene']]\n",
    "\n",
    "with dataviz.Figure(os.path.join(img_dir, \"tpm_ip_expression_corr_presentation.svg\"), figsize=(4* num_rows, 4*num_cols)) as fig:\n",
    "    ax = fig.add_subplot(num_cols,num_rows,1)\n",
    "    sns.violinplot(y='r-squared', x='exp', data=tmp_correlation,\n",
    "                   linewidth=.5, ax=ax)\n",
    "    ax.set_ylim(0,1)\n",
    "    sns.despine()\n",
    "    ax.set_ylabel(\"R2\", fontsize=20)\n",
    "    ax.set_xlabel(\"All Experiments\", fontsize=20)\n",
    "    ax.set_xticklabels([])\n",
    "    ax.set_title(\"R2 of Input to IP Expermients\", fontsize=20)\n",
    "    [tick.set_fontsize(20) for tick in ax.get_xticklabels()]\n",
    "    [tick.set_fontsize(20) for tick in ax.get_yticklabels()]\n",
    "\n",
    "with dataviz.Figure(os.path.join(img_dir, \"tpm_ip_expression_corr.svg\"), figsize=(2.5* num_rows, 2.5*num_cols)) as fig:\n",
    "    ax = fig.add_subplot(num_cols,num_rows,1)\n",
    "    sns.violinplot(y='r-squared', x='exp', data=tmp_correlation,\n",
    "                   linewidth=.5, ax=ax)\n",
    "    ax.set_ylim(0,1)\n",
    "    sns.despine()\n",
    "    ax.set_ylabel(\"Ra2\", fontsize=8)\n",
    "    ax.set_xlabel(\"All Experiments\", fontsize=8)\n",
    "    ax.set_xticklabels([])\n",
    "    ax.set_title(\"R2 of Input to IP Expermients\", fontsize=8)\n",
    "    [tick.set_fontsize(8) for tick in ax.get_xticklabels()]\n",
    "    [tick.set_fontsize(8) for tick in ax.get_yticklabels()]"
   ]
  },
  {
   "cell_type": "code",
   "execution_count": null,
   "metadata": {
    "collapsed": false
   },
   "outputs": [],
   "source": [
    "expression_corr_all_genes_log2 = expression_corr_all_genes_log2.reset_index()\n",
    "expression_corr_all_genes_log2['exp'] = expression_corr_all_genes_log2['level_0']\n",
    "expression_corr_all_genes_log2 = expression_corr_all_genes_log2.set_index(list(expression_corr_all_genes_log2.columns[:8]))\n",
    "expression_corr_all_genes_log2['similar'] = \"foo\""
   ]
  },
  {
   "cell_type": "code",
   "execution_count": null,
   "metadata": {
    "collapsed": false
   },
   "outputs": [],
   "source": [
    "num_rows = 1\n",
    "num_cols = 1\n",
    "\n",
    "tmp_expression_corr = expression_corr_all_genes_log2.xs(\"whole_gene\", level=2).xs(\"count\", level=2)\n",
    "\n",
    "with dataviz.Figure(os.path.join(img_dir, \"tpm_ip_and_input_expression_corr_presentation.svg\"), figsize=(4* num_rows, 4*num_cols)) as fig:\n",
    "    ax = fig.add_subplot(num_cols,num_rows,1)\n",
    "    sns.violinplot(y='r-squared', x='similar', hue=\"exp\", \n",
    "                   split=True, data=tmp_expression_corr, inner=\"quart\", \n",
    "                   linewidth=.5, ax=ax)\n",
    "    ax.set_ylim(0,1)\n",
    "    sns.despine(ax=ax)\n",
    "    ax.set_ylabel(\"R2\", fontsize=20)\n",
    "    ax.set_xlabel(\"All Experiments\", fontsize=20)\n",
    "    ax.set_xticklabels([])\n",
    "    ax.set_title(\"R2 of Input or IP Expermients\\nand gene expression\", fontsize=20)\n",
    "    [tick.set_fontsize(20) for tick in ax.get_xticklabels()]\n",
    "    [tick.set_fontsize(20) for tick in ax.get_yticklabels()]\n",
    "    ax.legend(loc=0, fontsize=20)\n",
    "    \n",
    "with dataviz.Figure(os.path.join(img_dir, \"tpm_ip_and_input_expression_corr.svg\"), figsize=(2.5* num_rows, 2.5*num_cols)) as fig:\n",
    "    ax = fig.add_subplot(num_cols,num_rows,1)\n",
    "    sns.violinplot(y='r-squared', x='similar', hue=\"exp\", \n",
    "                   split=True, data=tmp_expression_corr, inner=\"quart\", \n",
    "                   linewidth=.5, ax=ax)\n",
    "    ax.set_ylim(0,1)\n",
    "    sns.despine(ax=ax)\n",
    "    ax.set_ylabel(\"R2\", fontsize=8)\n",
    "    ax.set_xlabel(\"All Experiments\", fontsize=8)\n",
    "    ax.set_xticklabels([])\n",
    "    ax.set_title(\"R2 of Input or IP Expermients\\nand gene expression\", fontsize=8)\n",
    "    [tick.set_fontsize(8) for tick in ax.get_xticklabels()]\n",
    "    [tick.set_fontsize(8) for tick in ax.get_yticklabels()]\n",
    "    ax.legend(fontsize=8)"
   ]
  },
  {
   "cell_type": "markdown",
   "metadata": {},
   "source": [
    "# Why can't I reproduce Eric's results?"
   ]
  },
  {
   "cell_type": "code",
   "execution_count": null,
   "metadata": {
    "collapsed": false
   },
   "outputs": [],
   "source": [
    "test = merged_rpkms.xs('417', level=4, axis=1)\n",
    "test = test.ix[cell_expression_counts.index].fillna(0)"
   ]
  },
  {
   "cell_type": "code",
   "execution_count": null,
   "metadata": {
    "collapsed": false
   },
   "outputs": [],
   "source": [
    "# featurecounts = ('ip', 'featurecounts', 'exon', 'count', '417' 'K562', 'POLR2G', 'rep1')\n",
    "# eric = ('ip', 'eric', 'exon', 'count', '417', 'K562', 'POLR2G', 'rep1')\n",
    "# exon_counts = ('417', 'K562', 'POLR2G', 'rep1')\n",
    "\n",
    "# foo = clip_exon_counts[exon_counts]\n",
    "# bar = eric_exon_counts[eric]\n",
    "\n",
    "# featurecounts = ('ip', 'featurecounts', 'exon', 'count', 'K562', 'POLR2G', 'rep1')\n",
    "# eric = ('ip', 'eric', 'exon', 'count', 'K562', 'POLR2G', 'rep1')\n",
    "# corr = test[[featurecounts, eric]]\n",
    "\n",
    "# print scipy.stats.linregress(corr[corr.columns[0]], corr[corr.columns[1]]).rvalue\n",
    "# corr_all = corr[corr.applymap(lambda x: x != 0).all(axis=1)]\n",
    "# corr_all = corr_all.dropna()\n",
    "\n",
    "# print scipy.stats.linregress(corr_all[corr_all.columns[0]], corr_all[corr_all.columns[1]]).rvalue\n",
    "\n",
    "# corr_any = corr[corr.applymap(lambda x: x != 0).any(axis=1)]\n",
    "# corr_any = corr_any.dropna()\n",
    "\n",
    "# print scipy.stats.linregress(corr_any[corr_any.columns[0]], corr_any[corr_any.columns[1]]).rvalue\n"
   ]
  },
  {
   "cell_type": "code",
   "execution_count": null,
   "metadata": {
    "collapsed": false
   },
   "outputs": [],
   "source": [
    "# corr_all.columns[0]"
   ]
  },
  {
   "cell_type": "code",
   "execution_count": null,
   "metadata": {
    "collapsed": false
   },
   "outputs": [],
   "source": [
    "# num_rows = 1\n",
    "# num_cols = 1\n",
    "# with dataviz.Figure(os.path.join(img_dir, \"foo.svg\"), figsize=(4* num_rows, 4*num_cols)) as fig:\n",
    "#     ax = fig.add_subplot(num_cols,num_rows,1)\n",
    "#     ax.scatter(np.log10(corr_all[corr_all.columns[0]]), np.log10(corr_all[corr_all.columns[1]]))\n",
    "#     ax.set_xlabel(\"FeatureCounts\")\n",
    "#     ax.set_xlabel(\"EricsCounts\")\n",
    "\n",
    "#     sns.despine(ax=ax)\n",
    "    \n",
    "# print scipy.stats.linregress(corr_all[corr_all.columns[0]], corr_all[corr_all.columns[1]]).rvalue"
   ]
  },
  {
   "cell_type": "markdown",
   "metadata": {},
   "source": [
    "The really important thing here is to remove any sites that have at least one 0 coverage.  Really drives up correlation"
   ]
  },
  {
   "cell_type": "markdown",
   "metadata": {},
   "source": [
    "ok, so I can count correctly, now lets see if what the correlations look like"
   ]
  },
  {
   "cell_type": "code",
   "execution_count": null,
   "metadata": {
    "collapsed": false
   },
   "outputs": [],
   "source": [
    "# merged_expression = pd.merge(k562_rep1, counts, left_index=True, right_index=True, how=\"inner\")\n",
    "# merged_expression['rep1_normalized'] = merged_expression.rep1 / merged_expression.effective_length\n",
    "# merged_expression['mine_normalized_my_length'] = merged_expression['/projects/ps-yeolab3/encode/analysis/encode_master/417_01_POLR2G.merged.r2.bam'] / merged_expression.Length\n",
    "# merged_expression['mine_normalized_tpm_length'] = merged_expression['/projects/ps-yeolab3/encode/analysis/encode_master/417_01_POLR2G.merged.r2.bam'] / merged_expression.effective_length\n",
    "# merged_expression = merged_expression[~np.isinf(merged_expression['mine_normalized_tpm_length'])]\n",
    "\n",
    "# merged_expression = merged_expression.fillna(0)"
   ]
  },
  {
   "cell_type": "code",
   "execution_count": null,
   "metadata": {
    "collapsed": true
   },
   "outputs": [],
   "source": [
    "# counts_test = ('input', 'featurecounts', 'exon', 'count', '417', 'K562', 'POLR2G', 'rep2')\n",
    "# counts_test_e = ('input', 'eric', 'exon', 'count', '417', 'K562', 'POLR2G', 'rep2')\n"
   ]
  },
  {
   "cell_type": "code",
   "execution_count": null,
   "metadata": {
    "collapsed": false
   },
   "outputs": [],
   "source": [
    "# length_normalized = ('input', 'featurecounts', 'exon', 'length_normalized', '417', 'K562', 'POLR2G', 'rep2')\n",
    "# merged_rpkms[length_normalized] = merged_rpkms[counts_test] / merged_rpkms[length]\n",
    "\n",
    "# effective_length_normalized = ('input', 'featurecounts', 'exon', 'effective_length_normalized', '417', 'K562', 'POLR2G', 'rep2')\n",
    "# merged_rpkms[effective_length_normalized] = merged_rpkms[counts_test] / merged_rpkms[effective_length]\n",
    "\n",
    "# length_normalized_e = ('input', 'eric', 'exon', 'length_normalized', '417', 'K562', 'POLR2G', 'rep2')\n",
    "# merged_rpkms[length_normalized_e] = merged_rpkms[counts_test_e] / merged_rpkms[length]\n",
    "\n",
    "# effective_length_normalized_e = ('input', 'eric', 'exon', 'effective_length_normalized', '417', 'K562', 'POLR2G', 'rep2')\n",
    "# merged_rpkms[effective_length_normalized_e] = merged_rpkms[counts_test_e] / merged_rpkms[effective_length]"
   ]
  },
  {
   "cell_type": "code",
   "execution_count": null,
   "metadata": {
    "collapsed": false
   },
   "outputs": [],
   "source": [
    "# rnaseq_tpm = ('rnaseq', 'tpm', 'exon', 'tpm_length_normalized', 'ENCFF986DBN', 'K562', 'rnaseq', 'rep2')\n",
    "# rnaseq_tpm_transcript = ('rnaseq', 'tpm_transcript', 'exon', 'tpm_length_normalized', 'ENCFF424CXV', 'K562', 'rnaseq', 'rep1')\n",
    "\n",
    "# length = ('rnaseq', 'tpm', 'exon', 'length', 'ENCFF424CXV', 'K562', 'rnaseq', 'rep1')\n",
    "# effective_length = ('rnaseq', 'tpm', 'exon', 'effective_length', 'ENCFF424CXV', 'K562', 'rnaseq', 'rep1')\n",
    "\n",
    "# #Basic\n",
    "# tpm_expression = merged_rpkms[[counts_test, rnaseq_tpm]].dropna()\n",
    "# tpm_expression = tpm_expression[tpm_expression.applymap(lambda x: x != 0).all(axis=1)]\n",
    "# print \"basic\", scipy.stats.linregress(tpm_expression[counts_test], tpm_expression[rnaseq_tpm]).rvalue\n",
    "\n",
    "# #Length normalized\n",
    "# tpm_expression = merged_rpkms[[length_normalized, rnaseq_tpm]].dropna()\n",
    "# tpm_expression = tpm_expression[tpm_expression.applymap(lambda x: x != 0).all(axis=1)]\n",
    "# print \"length normalized\", scipy.stats.linregress(tpm_expression[length_normalized], tpm_expression[rnaseq_tpm]).rvalue\n",
    "\n",
    "# #effective length normalized\n",
    "# tpm_expression = merged_rpkms[[effective_length_normalized, rnaseq_tpm]].dropna()\n",
    "# tpm_expression = tpm_expression[tpm_expression.applymap(lambda x: x != 0).all(axis=1)]\n",
    "# tpm_expression = tpm_expression[tpm_expression.applymap(np.isfinite).all(axis=1)]\n",
    "# print \"effective length\", scipy.stats.linregress(tpm_expression[effective_length_normalized], tpm_expression[rnaseq_tpm]).rvalue\n",
    "\n",
    "# #effective length normalized taking only protein coding genes\n",
    "# tpm_expression = merged_rpkms[[length_normalized, rnaseq_tpm]].dropna()\n",
    "# tpm_expression = tpm_expression[tpm_expression.applymap(lambda x: x != 0).all(axis=1)]\n",
    "\n",
    "# protein_coding_genes = [(col in gene_id_to_type) and (gene_id_to_type[col] == \"protein_coding\") for col in tpm_expression.index]\n",
    "# tpm_expression = tpm_expression[protein_coding_genes]\n",
    "# print \"protein coding\", scipy.stats.linregress(tpm_expression[length_normalized], tpm_expression[rnaseq_tpm]).rvalue\n",
    "\n",
    "# #length normalized with protein coding genes and highest expressed transcript\n",
    "# tpm_expression = merged_rpkms[[length_normalized, rnaseq_tpm_transcript]].dropna()\n",
    "# tpm_expression = tpm_expression[tpm_expression.applymap(lambda x: x != 0).all(axis=1)]\n",
    "\n",
    "# protein_coding_genes = [(col in gene_id_to_type) and (gene_id_to_type[col] == \"protein_coding\") for col in tpm_expression.index]\n",
    "# tpm_expression = tpm_expression[protein_coding_genes]\n",
    "# print \"transcript based\", scipy.stats.linregress(tpm_expression[length_normalized], tpm_expression[rnaseq_tpm_transcript]).rvalue\n"
   ]
  },
  {
   "cell_type": "code",
   "execution_count": null,
   "metadata": {
    "collapsed": false
   },
   "outputs": [],
   "source": [
    "# #Length normalized\n",
    "# tpm_expression = merged_rpkms[[length_normalized_e, rnaseq_tpm]].dropna()\n",
    "# tpm_expression = tpm_expression[tpm_expression.applymap(lambda x: x != 0).all(axis=1)]\n",
    "# print \"length normalized\", scipy.stats.linregress(tpm_expression[length_normalized_e], tpm_expression[rnaseq_tpm]).rvalue\n"
   ]
  },
  {
   "cell_type": "code",
   "execution_count": null,
   "metadata": {
    "collapsed": false
   },
   "outputs": [],
   "source": [
    "# tpm_expression = merged_rpkms[[length_normalized_e, rnaseq_tpm_transcript]].dropna()\n",
    "# tpm_expression = tpm_expression[tpm_expression.applymap(lambda x: x != 0).all(axis=1)]\n",
    "\n",
    "# tpm_expression.to_csv(\"/home/gpratt/correlations.csv\")"
   ]
  },
  {
   "cell_type": "code",
   "execution_count": null,
   "metadata": {
    "collapsed": false
   },
   "outputs": [],
   "source": [
    "# print \"transcript based\", scipy.stats.linregress(np.log10(tpm_expression[length_normalized_e]), np.log10(tpm_expression[rnaseq_tpm_transcript])).rvalue\n"
   ]
  },
  {
   "cell_type": "code",
   "execution_count": null,
   "metadata": {
    "collapsed": false
   },
   "outputs": [],
   "source": [
    "# #Basic\n",
    "# tpm_expression = merged_rpkms[[counts_test_e, rnaseq_tpm]].dropna()\n",
    "# tpm_expression = tpm_expression[tpm_expression.applymap(lambda x: x != 0).all(axis=1)]\n",
    "# print \"basic\", scipy.stats.linregress(tpm_expression[counts_test_e], tpm_expression[rnaseq_tpm]).rvalue\n",
    "\n",
    "# #Length normalized\n",
    "# tpm_expression = merged_rpkms[[length_normalized_e, rnaseq_tpm]].dropna()\n",
    "# tpm_expression = tpm_expression[tpm_expression.applymap(lambda x: x != 0).all(axis=1)]\n",
    "# print \"length normalized\", scipy.stats.linregress(tpm_expression[length_normalized_e], tpm_expression[rnaseq_tpm]).rvalue\n",
    "\n",
    "# #effective length normalized\n",
    "# tpm_expression = merged_rpkms[[effective_length_normalized_e, rnaseq_tpm]].dropna()\n",
    "# tpm_expression = tpm_expression[tpm_expression.applymap(lambda x: x != 0).all(axis=1)]\n",
    "# tpm_expression = tpm_expression[tpm_expression.applymap(np.isfinite).all(axis=1)]\n",
    "# print \"effective length\", scipy.stats.linregress(tpm_expression[effective_length_normalized_e], tpm_expression[rnaseq_tpm]).rvalue\n",
    "\n",
    "# #effective length normalized taking only protein coding genes\n",
    "# tpm_expression = merged_rpkms[[length_normalized_e, rnaseq_tpm]].dropna()\n",
    "# tpm_expression = tpm_expression[tpm_expression.applymap(lambda x: x != 0).all(axis=1)]\n",
    "\n",
    "# protein_coding_genes = [(col in gene_id_to_type) and (gene_id_to_type[col] == \"protein_coding\") for col in tpm_expression.index]\n",
    "# tpm_expression = tpm_expression[protein_coding_genes]\n",
    "# print \"protein coding\", scipy.stats.linregress(tpm_expression[length_normalized_e], tpm_expression[rnaseq_tpm]).rvalue\n",
    "\n",
    "# #length normalized with protein coding genes and highest expressed transcript\n",
    "# tpm_expression = merged_rpkms[[length_normalized_e, rnaseq_tpm_transcript]].dropna()\n",
    "# tpm_expression = tpm_expression[tpm_expression.applymap(lambda x: x != 0).all(axis=1)]\n",
    "\n",
    "# # protein_coding_genes = [(col in gene_id_to_type) and (gene_id_to_type[col] == \"protein_coding\") for col in tpm_expression.index]\n",
    "# # tpm_expression = tpm_expression[protein_coding_genes]\n",
    "# print \"transcript based\", scipy.stats.linregress(tpm_expression[length_normalized_e], tpm_expression[rnaseq_tpm_transcript]).rvalue\n"
   ]
  },
  {
   "cell_type": "code",
   "execution_count": null,
   "metadata": {
    "collapsed": false
   },
   "outputs": [],
   "source": [
    "# #effective length normalized taking only protein coding genes\n",
    "# tpm_expression = merged_rpkms[[length_normalized, rnaseq_tpm]].dropna()\n",
    "# tpm_expression = tpm_expression[tpm_expression.applymap(lambda x: x != 0).all(axis=1)]\n",
    "\n",
    "# protein_coding_genes = [(col in gene_id_to_type) and (gene_id_to_type[col] == \"protein_coding\") for col in tpm_expression.index]\n",
    "# tpm_expression = tpm_expression[protein_coding_genes]\n",
    "\n",
    "# num_rows = 1\n",
    "# num_cols = 1\n",
    "# with dataviz.Figure(os.path.join(img_dir, \"foo.svg\"), figsize=(4* num_rows, 4*num_cols)) as fig:\n",
    "#     ax = fig.add_subplot(num_cols,num_rows,1)\n",
    "#     ax.scatter(np.log10(tpm_expression[length_normalized]), np.log10(tpm_expression[rnaseq_tpm].astype(float)))\n",
    "#     sns.despine(ax=ax)\n",
    "# print scipy.stats.linregress(tpm_expression[length_normalized], tpm_expression[rnaseq_tpm]).rvalue\n"
   ]
  },
  {
   "cell_type": "code",
   "execution_count": null,
   "metadata": {
    "collapsed": false
   },
   "outputs": [],
   "source": [
    "# num_rows = 1\n",
    "# num_cols = 1\n",
    "# with dataviz.Figure(os.path.join(img_dir, \"foo.svg\"), figsize=(4* num_rows, 4*num_cols)) as fig:\n",
    "#     ax = fig.add_subplot(num_cols,num_rows,1)\n",
    "#     ax.scatter(np.log10(merged_expression['rep1_normalized']), np.log10(merged_expression['TPM']))\n",
    "#     sns.despine(ax=ax)\n",
    "# print scipy.stats.linregress(merged_expression['rep1_normalized'], merged_expression['TPM']).rvalue\n"
   ]
  },
  {
   "cell_type": "code",
   "execution_count": null,
   "metadata": {
    "collapsed": false
   },
   "outputs": [],
   "source": [
    "# num_rows = 1\n",
    "# num_cols = 1\n",
    "# with dataviz.Figure(os.path.join(img_dir, \"foo.svg\"), figsize=(4* num_rows, 4*num_cols)) as fig:\n",
    "#     ax = fig.add_subplot(num_cols,num_rows,1)\n",
    "#     ax.scatter(np.log10(merged_expression['mine_normalized']), np.log10(merged_expression['TPM']))\n",
    "#     sns.despine(ax=ax)\n",
    "# print scipy.stats.linregress(merged_expression['mine_normalized'], merged_expression['TPM']).rvalue\n"
   ]
  },
  {
   "cell_type": "code",
   "execution_count": null,
   "metadata": {
    "collapsed": false
   },
   "outputs": [],
   "source": [
    "# print scipy.stats.linregress(merged_expression['mine_normalized_my_length'], merged_expression['TPM']).rvalue\n",
    "# print scipy.stats.linregress(merged_expression['mine_normalized_tpm_length'], merged_expression['TPM']).rvalue\n"
   ]
  },
  {
   "cell_type": "code",
   "execution_count": null,
   "metadata": {
    "collapsed": false
   },
   "outputs": [],
   "source": [
    "# ip_counts = pd.read_table(\"/home/gpratt/ad-hoc/test.txt\", skiprows=1, index_col=0)\n",
    "# rnaseq_counts = pd.read_table(\"/home/gpratt/ad-hoc/expression.txt\", skiprows=1, index_col=0)\n",
    "# rnaseq_counts['ip_counts'] = ip_counts['/projects/ps-yeolab3/encode/analysis/encode_master/417_01_POLR2G.merged.r2.bam']\n",
    "\n",
    "# # foo = [gene_id_to_type[col] == \"protein_coding\" for col in rnaseq_counts.index ]\n",
    "# # rnaseq_counts= rnaseq_counts[foo]"
   ]
  },
  {
   "cell_type": "markdown",
   "metadata": {},
   "source": [
    "# Plot the heatmap of IP and input correlations"
   ]
  },
  {
   "cell_type": "code",
   "execution_count": null,
   "metadata": {
    "collapsed": false
   },
   "outputs": [],
   "source": [
    "print \"Foo\""
   ]
  },
  {
   "cell_type": "code",
   "execution_count": null,
   "metadata": {
    "collapsed": false
   },
   "outputs": [],
   "source": [
    "#Fold Enrichment\n",
    "\n",
    "rep1_inputs = input_whole_gene_counts.copy()\n",
    "\n",
    "new_cols = []\n",
    "for col in rep1_inputs.columns:\n",
    "    col = list(col)\n",
    "    col[3] = \"rep1\"\n",
    "    new_cols.append(col)\n",
    "rep1_inputs.columns = pd.MultiIndex.from_tuples(new_cols, names=['uID', 'Cell line', 'RBP', 'rep'])\n",
    "\n",
    "combined_inputs = pd.concat([rep1_inputs, input_whole_gene_counts], axis=1)\n",
    "fold_enrichedment = np.log2((clip_whole_gene_counts + 1) / (combined_inputs + 1))\n",
    "\n",
    "result = defaultdict(dict)\n",
    "for name_1, row_1 in tqdm(list(fold_enrichedment.iteritems())):\n",
    "    for name_2, row_2 in tqdm(list(fold_enrichedment.iteritems())):\n",
    "        both_names = list(set([name_1, name_2]))\n",
    "        tmp_rpkms = fold_enrichedment[both_names]\n",
    "\n",
    "        result[name_1][name_2] = scipy.stats.linregress(tmp_rpkms[name_1], tmp_rpkms[name_2]).rvalue\n",
    "fold_enrichment_correlations = pd.DataFrame(result)"
   ]
  },
  {
   "cell_type": "code",
   "execution_count": null,
   "metadata": {
    "collapsed": true
   },
   "outputs": [],
   "source": [
    "del fold_enrichment_correlations"
   ]
  },
  {
   "cell_type": "code",
   "execution_count": null,
   "metadata": {
    "collapsed": true
   },
   "outputs": [],
   "source": [
    "fold_enrichment_correlations.to_csv(\"~/scratch/fold_enrichment.csv\")"
   ]
  },
  {
   "cell_type": "code",
   "execution_count": null,
   "metadata": {
    "collapsed": false
   },
   "outputs": [],
   "source": [
    "#IP Correlation\n",
    "result = defaultdict(dict)\n",
    "for name_1, row_1 in tqdm_notebook(list(clip_whole_gene_counts.iteritems())):\n",
    "    for name_2, row_2 in tqdm_notebook(list(clip_whole_gene_counts.iteritems())):\n",
    "        both_names = list(set([name_1, name_2]))\n",
    "        \n",
    "        tmp_rpkms = np.log10(clip_whole_gene_counts[both_names])\n",
    "        tmp_rpkms = tmp_rpkms.replace([np.inf, -np.inf], np.nan).dropna()\n",
    "\n",
    "        result[name_1][name_2] = scipy.stats.linregress(tmp_rpkms[name_1], tmp_rpkms[name_2]).rvalue\n",
    "clip_ip_correlations = pd.DataFrame(result)\n",
    "\n",
    "# #Input correlation\n",
    "# result = defaultdict(dict)\n",
    "# for name_1, row_1 in tqdm_notebook(list(input_whole_gene_counts.iteritems())):\n",
    "#     for name_2, row_2 in tqdm_notebook(list(input_whole_gene_counts.iteritems())):\n",
    "#         both_names = list(set([name_1, name_2]))\n",
    "#         tmp_rpkms = np.log10(input_whole_gene_counts[both_names])\n",
    "#         tmp_rpkms = tmp_rpkms.replace([np.inf, -np.inf], np.nan).dropna()\n",
    "\n",
    "#         result[name_1][name_2] = scipy.stats.linregress(tmp_rpkms[name_1], tmp_rpkms[name_2]).rvalue\n",
    "# clip_input_correlations = pd.DataFrame(result)"
   ]
  },
  {
   "cell_type": "code",
   "execution_count": null,
   "metadata": {
    "collapsed": false
   },
   "outputs": [],
   "source": [
    "cell_type = clip_ip_correlations.columns.get_level_values(1)\n",
    "colors = dict(zip(set(cell_type), sns.color_palette(\"Set2\", 2)))\n",
    "\n",
    "col_colors = pd.Series(cell_type, index=clip_ip_correlations.columns).map(colors)\n",
    "row_colors = pd.Series(cell_type, index=clip_ip_correlations.index).map(colors)\n",
    "\n",
    "foo = sns.clustermap(clip_ip_correlations, cmap='Greys', vmin=0, vmax=1, \n",
    "                     col_colors=col_colors, row_colors=row_colors,\n",
    "                     #xticklabels=False,\n",
    "                     #yticklabels=False,\n",
    "                     figsize=(90,90),\n",
    "                    )\n",
    "foo.ax_heatmap.set_rasterized(True)\n",
    "foo.savefig(os.path.join(img_dir, 'ip_clustermap.svg'))"
   ]
  },
  {
   "cell_type": "code",
   "execution_count": null,
   "metadata": {
    "collapsed": false
   },
   "outputs": [],
   "source": [
    "cell_type = clip_ip_correlations.columns.get_level_values(1)\n",
    "colors = dict(zip(set(cell_type), sns.color_palette(\"Set2\", 2)))\n",
    "\n",
    "col_colors = pd.Series(cell_type, index=clip_ip_correlations.columns).map(colors)\n",
    "row_colors = pd.Series(cell_type, index=clip_ip_correlations.index).map(colors)\n",
    "\n",
    "foo = sns.clustermap(clip_ip_correlations, cmap='Greys', vmin=0, vmax=1, \n",
    "                     col_colors=col_colors, row_colors=row_colors,\n",
    "                     xticklabels=False,\n",
    "                     yticklabels=False,\n",
    "                     figsize=(5,5),\n",
    "                    )\n",
    "foo.ax_heatmap.set_rasterized(True)\n",
    "foo.savefig(os.path.join(img_dir, 'ip_clustermap.svg'))"
   ]
  },
  {
   "cell_type": "code",
   "execution_count": null,
   "metadata": {
    "collapsed": false
   },
   "outputs": [],
   "source": [
    "cell_type = clip_input_correlations.columns.get_level_values(1)\n",
    "colors = dict(zip(set(cell_type), sns.color_palette(\"Set2\", 2)))\n",
    "\n",
    "col_colors = pd.Series(cell_type, index=clip_input_correlations.columns).map(colors)\n",
    "row_colors = pd.Series(cell_type, index=clip_input_correlations.index).map(colors)\n",
    "\n",
    "foo = sns.clustermap(clip_input_correlations, cmap='Greys', vmin=0, vmax=1,\n",
    "                     col_colors=col_colors, row_colors=row_colors,\n",
    "                     figsize=(40,40))\n",
    "\n",
    "foo.savefig(os.path.join(img_dir, 'input_clustermap.svg'))"
   ]
  },
  {
   "cell_type": "code",
   "execution_count": null,
   "metadata": {
    "collapsed": false
   },
   "outputs": [],
   "source": [
    "cell_type = fold_enrichment_correlations.columns.get_level_values(1)\n",
    "colors = dict(zip(set(cell_type), sns.color_palette(\"Set2\", 2)))\n",
    "\n",
    "col_colors = pd.Series(cell_type, index=fold_enrichment_correlations.columns).map(colors)\n",
    "row_colors = pd.Series(cell_type, index=fold_enrichment_correlations.index).map(colors)\n",
    "\n",
    "foo = sns.clustermap(fold_enrichment_correlations, cmap='Greys', vmin=0, vmax=1,\n",
    "               col_colors=col_colors, row_colors=row_colors, figsize=(40,40))\n",
    "\n",
    "foo.savefig(os.path.join(img_dir, 'fold_enrichment_clustermap.svg'))"
   ]
  },
  {
   "cell_type": "markdown",
   "metadata": {},
   "source": [
    "The last thing I should do with this is entropy it, show I can get much more specific plots when I use entropy rather than just counts"
   ]
  },
  {
   "cell_type": "code",
   "execution_count": null,
   "metadata": {
    "collapsed": true
   },
   "outputs": [],
   "source": []
  }
 ],
 "metadata": {
  "kernelspec": {
   "display_name": "Python 2",
   "language": "python",
   "name": "python2"
  },
  "language_info": {
   "codemirror_mode": {
    "name": "ipython",
    "version": 2
   },
   "file_extension": ".py",
   "mimetype": "text/x-python",
   "name": "python",
   "nbconvert_exporter": "python",
   "pygments_lexer": "ipython2",
   "version": "2.7.12"
  }
 },
 "nbformat": 4,
 "nbformat_minor": 0
}
