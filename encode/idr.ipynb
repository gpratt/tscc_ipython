{
 "cells": [
  {
   "cell_type": "code",
   "execution_count": 3,
   "metadata": {
    "collapsed": true
   },
   "outputs": [],
   "source": [
    "from gscripts.clipseq import perform_idr\n",
    "import pybedtools\n",
    "import itertools\n",
    "import pandas as pd\n",
    "import numpy as np\n",
    "from IPython.core.display import HTML"
   ]
  },
  {
   "cell_type": "code",
   "execution_count": 4,
   "metadata": {
    "collapsed": false
   },
   "outputs": [],
   "source": [
    "def make_bedtool(fn):\n",
    "    result = []\n",
    "    with open(fn) as lines:\n",
    "        for line in lines:\n",
    "            line = line.strip().split(\"\\t\")\n",
    "            location = line[0].split(\":\")\n",
    "            bp = location[1].split(\"-\")\n",
    "            new_interval = [location[0]] + bp + [location[3], \".\", location[2]] + line[1:]\n",
    "            new_interval = [item if item is not \"\" else \".\" for item in new_interval]\n",
    "            result.append(pybedtools.interval_constructor(new_interval))\n",
    "    return pybedtools.BedTool(result).saveas()\n",
    "\n",
    "def format_narrow_peaks(interval):\n",
    "    interval[7] = interval[12]\n",
    "    interval[6] = interval[13]\n",
    "    interval[8] = \"-1\"\n",
    "    interval[9] = \"-1\"\n",
    "    return pybedtools.interval_constructor(interval[:10])\n",
    "\n",
    "def format_clipper_p_value(interval):\n",
    "    interval[7] = str(-1 * np.log10(float(interval[3])))\n",
    "    interval[6] = interval[13]\n",
    "    interval[8] = \"-1\"\n",
    "    interval[9] = \"-1\"\n",
    "    return pybedtools.interval_constructor(interval[:10])\n",
    "\n",
    "def format_erics_output(interval):\n",
    "    interval.append(str(interval[3]))\n",
    "    interval.append(str(interval[4]))\n",
    "    interval.append(\"-1\")\n",
    "    interval.append(\"-1\")\n",
    "    return interval\n",
    "\n",
    "def make_narrow_peak(fn):\n",
    "    rep = fn\n",
    "    rep = make_bedtool(rep)\n",
    "    return rep.each(format_narrow_peaks).saveas()"
   ]
  },
  {
   "cell_type": "code",
   "execution_count": 5,
   "metadata": {
    "collapsed": false
   },
   "outputs": [
    {
     "ename": "NameError",
     "evalue": "name 'files' is not defined",
     "output_type": "error",
     "traceback": [
      "\u001b[1;31m---------------------------------------------------------------------------\u001b[0m",
      "\u001b[1;31mNameError\u001b[0m                                 Traceback (most recent call last)",
      "\u001b[1;32m<ipython-input-5-d28c61ebbc33>\u001b[0m in \u001b[0;36m<module>\u001b[1;34m()\u001b[0m\n\u001b[0;32m      1\u001b[0m \u001b[0mout_names\u001b[0m \u001b[1;33m=\u001b[0m \u001b[1;33m{\u001b[0m\u001b[1;33m}\u001b[0m\u001b[1;33m\u001b[0m\u001b[0m\n\u001b[1;32m----> 2\u001b[1;33m \u001b[1;32mfor\u001b[0m \u001b[0mline\u001b[0m \u001b[1;32min\u001b[0m \u001b[0mopen\u001b[0m\u001b[1;33m(\u001b[0m\u001b[0mfiles\u001b[0m\u001b[1;33m)\u001b[0m\u001b[1;33m:\u001b[0m\u001b[1;33m\u001b[0m\u001b[0m\n\u001b[0m\u001b[0;32m      3\u001b[0m     \u001b[0mencode_id\u001b[0m\u001b[1;33m,\u001b[0m \u001b[0mrbp\u001b[0m\u001b[1;33m,\u001b[0m \u001b[0mrep1\u001b[0m\u001b[1;33m,\u001b[0m \u001b[0mrep2\u001b[0m \u001b[1;33m=\u001b[0m \u001b[0mline\u001b[0m\u001b[1;33m.\u001b[0m\u001b[0msplit\u001b[0m\u001b[1;33m(\u001b[0m\u001b[1;33m)\u001b[0m\u001b[1;33m\u001b[0m\u001b[0m\n\u001b[0;32m      4\u001b[0m     \u001b[0mout_names\u001b[0m\u001b[1;33m[\u001b[0m\u001b[1;33m(\u001b[0m\u001b[0mint\u001b[0m\u001b[1;33m(\u001b[0m\u001b[0mencode_id\u001b[0m\u001b[1;33m)\u001b[0m\u001b[1;33m,\u001b[0m \u001b[0mrbp\u001b[0m\u001b[1;33m)\u001b[0m\u001b[1;33m]\u001b[0m \u001b[1;33m=\u001b[0m \u001b[1;33m{\u001b[0m\u001b[1;34m\"rep1\"\u001b[0m\u001b[1;33m:\u001b[0m \u001b[0mrep1\u001b[0m\u001b[1;33m,\u001b[0m \u001b[1;34m\"rep2\"\u001b[0m\u001b[1;33m:\u001b[0m \u001b[0mrep2\u001b[0m\u001b[1;33m}\u001b[0m\u001b[1;33m\u001b[0m\u001b[0m\n\u001b[0;32m      5\u001b[0m \u001b[0mout_names\u001b[0m \u001b[1;33m=\u001b[0m \u001b[0mpd\u001b[0m\u001b[1;33m.\u001b[0m\u001b[0mDataFrame\u001b[0m\u001b[1;33m(\u001b[0m\u001b[0mout_names\u001b[0m\u001b[1;33m)\u001b[0m\u001b[1;33m.\u001b[0m\u001b[0mT\u001b[0m\u001b[1;33m\u001b[0m\u001b[0m\n",
      "\u001b[1;31mNameError\u001b[0m: name 'files' is not defined"
     ]
    }
   ],
   "source": [
    "out_names = {}\n",
    "for line in open(files):\n",
    "    encode_id, rbp, rep1, rep2 = line.split()\n",
    "    out_names[(int(encode_id), rbp)] = {\"rep1\": rep1, \"rep2\": rep2}\n",
    "out_names = pd.DataFrame(out_names).T"
   ]
  },
  {
   "cell_type": "code",
   "execution_count": 6,
   "metadata": {
    "collapsed": true
   },
   "outputs": [],
   "source": [
    "idr = perform_idr.IDR()"
   ]
  },
  {
   "cell_type": "code",
   "execution_count": 43,
   "metadata": {
    "collapsed": false
   },
   "outputs": [
    {
     "ename": "IOError",
     "evalue": "[Errno 2] No such file or directory: '/home/elvannostrand/data/clip/CLIPseq_analysis/ENCODE_v8_072215/204_01_RBFOX2.merged.r2.bam_vs_RBFOX2-204-INPUT_S2_R1.unassigned.adapterTrim.round2.rmRep.rmDup.sorted.r2.bam_basedon_204_01_RBFOX2.merged.r2.peaks.bed_l2inputnormnew'",
     "output_type": "error",
     "traceback": [
      "\u001b[1;31m---------------------------------------------------------------------------\u001b[0m",
      "\u001b[1;31mIOError\u001b[0m                                   Traceback (most recent call last)",
      "\u001b[1;32m<ipython-input-43-75dfa7fb1b67>\u001b[0m in \u001b[0;36m<module>\u001b[1;34m()\u001b[0m\n\u001b[0;32m      1\u001b[0m \u001b[0mrep1\u001b[0m \u001b[1;33m=\u001b[0m \u001b[0mout_names\u001b[0m\u001b[1;33m.\u001b[0m\u001b[0mix\u001b[0m\u001b[1;33m[\u001b[0m\u001b[1;36m204\u001b[0m\u001b[1;33m,\u001b[0m \u001b[1;34m\"RBFOX2\"\u001b[0m\u001b[1;33m]\u001b[0m\u001b[1;33m.\u001b[0m\u001b[0mrep1\u001b[0m\u001b[1;33m\u001b[0m\u001b[0m\n\u001b[1;32m----> 2\u001b[1;33m \u001b[0mrep1\u001b[0m \u001b[1;33m=\u001b[0m \u001b[0mmake_bedtool\u001b[0m\u001b[1;33m(\u001b[0m\u001b[0mrep1\u001b[0m\u001b[1;33m)\u001b[0m\u001b[1;33m\u001b[0m\u001b[0m\n\u001b[0m\u001b[0;32m      3\u001b[0m \u001b[0mrep1\u001b[0m \u001b[1;33m=\u001b[0m \u001b[0mrep1\u001b[0m\u001b[1;33m.\u001b[0m\u001b[0meach\u001b[0m\u001b[1;33m(\u001b[0m\u001b[0mformat_clipper_p_value\u001b[0m\u001b[1;33m)\u001b[0m\u001b[1;33m.\u001b[0m\u001b[0msaveas\u001b[0m\u001b[1;33m(\u001b[0m\u001b[1;33m)\u001b[0m\u001b[1;33m\u001b[0m\u001b[0m\n\u001b[0;32m      4\u001b[0m \u001b[1;33m\u001b[0m\u001b[0m\n\u001b[0;32m      5\u001b[0m \u001b[0mrep2\u001b[0m \u001b[1;33m=\u001b[0m \u001b[0mout_names\u001b[0m\u001b[1;33m.\u001b[0m\u001b[0mix\u001b[0m\u001b[1;33m[\u001b[0m\u001b[1;36m204\u001b[0m\u001b[1;33m,\u001b[0m \u001b[1;34m\"RBFOX2\"\u001b[0m\u001b[1;33m]\u001b[0m\u001b[1;33m.\u001b[0m\u001b[0mrep2\u001b[0m\u001b[1;33m\u001b[0m\u001b[0m\n",
      "\u001b[1;32m<ipython-input-35-442183ab9582>\u001b[0m in \u001b[0;36mmake_bedtool\u001b[1;34m(fn)\u001b[0m\n\u001b[0;32m      1\u001b[0m \u001b[1;32mdef\u001b[0m \u001b[0mmake_bedtool\u001b[0m\u001b[1;33m(\u001b[0m\u001b[0mfn\u001b[0m\u001b[1;33m)\u001b[0m\u001b[1;33m:\u001b[0m\u001b[1;33m\u001b[0m\u001b[0m\n\u001b[0;32m      2\u001b[0m     \u001b[0mresult\u001b[0m \u001b[1;33m=\u001b[0m \u001b[1;33m[\u001b[0m\u001b[1;33m]\u001b[0m\u001b[1;33m\u001b[0m\u001b[0m\n\u001b[1;32m----> 3\u001b[1;33m     \u001b[1;32mwith\u001b[0m \u001b[0mopen\u001b[0m\u001b[1;33m(\u001b[0m\u001b[0mfn\u001b[0m\u001b[1;33m)\u001b[0m \u001b[1;32mas\u001b[0m \u001b[0mlines\u001b[0m\u001b[1;33m:\u001b[0m\u001b[1;33m\u001b[0m\u001b[0m\n\u001b[0m\u001b[0;32m      4\u001b[0m         \u001b[1;32mfor\u001b[0m \u001b[0mline\u001b[0m \u001b[1;32min\u001b[0m \u001b[0mlines\u001b[0m\u001b[1;33m:\u001b[0m\u001b[1;33m\u001b[0m\u001b[0m\n\u001b[0;32m      5\u001b[0m             \u001b[0mline\u001b[0m \u001b[1;33m=\u001b[0m \u001b[0mline\u001b[0m\u001b[1;33m.\u001b[0m\u001b[0mstrip\u001b[0m\u001b[1;33m(\u001b[0m\u001b[1;33m)\u001b[0m\u001b[1;33m.\u001b[0m\u001b[0msplit\u001b[0m\u001b[1;33m(\u001b[0m\u001b[1;34m\"\\t\"\u001b[0m\u001b[1;33m)\u001b[0m\u001b[1;33m\u001b[0m\u001b[0m\n",
      "\u001b[1;31mIOError\u001b[0m: [Errno 2] No such file or directory: '/home/elvannostrand/data/clip/CLIPseq_analysis/ENCODE_v8_072215/204_01_RBFOX2.merged.r2.bam_vs_RBFOX2-204-INPUT_S2_R1.unassigned.adapterTrim.round2.rmRep.rmDup.sorted.r2.bam_basedon_204_01_RBFOX2.merged.r2.peaks.bed_l2inputnormnew'"
     ]
    }
   ],
   "source": [
    "rep1 = out_names.ix[204, \"RBFOX2\"].rep1\n",
    "rep1 = make_bedtool(rep1)\n",
    "rep1 = rep1.each(format_clipper_p_value).saveas()\n",
    "\n",
    "rep2 = out_names.ix[204, \"RBFOX2\"].rep2\n",
    "rep2 = make_bedtool(rep2)\n",
    "rep2 = rep2.each(format_clipper_p_value).saveas()\n",
    "\n",
    "idr.idr(rep1.fn, rep2.fn, \"clipper_RBFOX2\", \"/projects/ps-yeolab/genomes/hg19/hg19.chrom.sizes\")"
   ]
  },
  {
   "cell_type": "code",
   "execution_count": null,
   "metadata": {
    "collapsed": false
   },
   "outputs": [],
   "source": [
    "#this no longer works with erics new files\n",
    "# idr = perform_idr.IDR()\n",
    "\n",
    "# out_names = []\n",
    "# for line in open(files):\n",
    "#     encode_id, rbp, rep1, rep2 = line.split()\n",
    "#     out_name = encode_id + \"_\" + rbp\n",
    "#     out_names.append(out_name)\n",
    "#     rep1 = make_narrow_peak(rep1)\n",
    "#     rep2 = make_narrow_peak(rep2)\n",
    "#     idr.idr(rep1.fn, rep2.fn, out_name, \"/projects/ps-yeolab/genomes/hg19/hg19.chrom.sizes\")\n"
   ]
  },
  {
   "cell_type": "code",
   "execution_count": 7,
   "metadata": {
    "collapsed": false
   },
   "outputs": [],
   "source": [
    "rep1 = pybedtools.BedTool(\"/home/elvannostrand/data/clip/CLIPseq_analysis/ENCODE_v8_072215/EV42_01.basedon_EV42_01.peaks.l2inputnormnew.bed.compressed.bed\").each(format_erics_output).sort().saveas(\"rep1.bed\") \n",
    "rep2 = pybedtools.BedTool(\"/home/elvannostrand/data/clip/CLIPseq_analysis/ENCODE_v8_072215/EV43_01.basedon_EV43_01.peaks.l2inputnormnew.bed.compressed.bed\").each(format_erics_output).sort().saveas(\"rep2.bed\")\n",
    "\n",
    "\n",
    "rep3 = pybedtools.BedTool(\"/home/elvannostrand/data/clip/CLIPseq_analysis/ENCODE_v8_072215/EV42_01.basedon_EV42_01.peaks.l2inputnormnew.bed.compressed.bed\").each(format_erics_output).sort().saveas(\"rep3.bed\")\n",
    "rep4 = pybedtools.BedTool(\"/home/elvannostrand/data/clip/CLIPseq_analysis/ENCODE_v8_072215/EV41_01.basedon_EV41_01.peaks.l2inputnormnew.bed.compressed.bed\").each(format_erics_output).sort().saveas(\"rep4.bed\")"
   ]
  },
  {
   "cell_type": "code",
   "execution_count": 60,
   "metadata": {
    "collapsed": false
   },
   "outputs": [],
   "source": [
    "idr.idr(rep1.fn, rep2.fn, \"evn42_43\", \"/projects/ps-yeolab/genomes/hg19/hg19.chrom.sizes\" )\n",
    "idr.idr(rep3.fn, rep4.fn, \"evn42_41\", \"/projects/ps-yeolab/genomes/hg19/hg19.chrom.sizes\" )"
   ]
  },
  {
   "cell_type": "code",
   "execution_count": 115,
   "metadata": {
    "collapsed": false
   },
   "outputs": [],
   "source": [
    "def chunks(l, n):\n",
    "    for i in xrange(0, len(l), n):\n",
    "        yield l[i:i+n]"
   ]
  },
  {
   "cell_type": "code",
   "execution_count": 134,
   "metadata": {
    "collapsed": false
   },
   "outputs": [
    {
     "name": "stdout",
     "output_type": "stream",
     "text": [
      "339_TAF15 340_TARDBP 341_DGCR8 342_GTF2F1 356_DDX20\n",
      "null device \n",
      "          1 \n",
      "339_TAF15 340_TARDBP 341_DGCR8 342_GTF2F1 356_DDX20\n",
      "null device \n",
      "          1 \n",
      "339_TAF15 340_TARDBP 341_DGCR8 342_GTF2F1 356_DDX20\n",
      "null device \n",
      "          1 \n",
      "339_TAF15 340_TARDBP 341_DGCR8 342_GTF2F1 356_DDX20\n",
      "null device \n",
      "          1 \n",
      "339_TAF15 340_TARDBP 341_DGCR8 342_GTF2F1 356_DDX20\n",
      "null device \n",
      "          1 \n",
      "339_TAF15 340_TARDBP 341_DGCR8 342_GTF2F1 356_DDX20\n",
      "null device \n",
      "          1 \n",
      "339_TAF15 340_TARDBP 341_DGCR8 342_GTF2F1 356_DDX20\n",
      "null device \n",
      "          1 \n",
      "339_TAF15 340_TARDBP 341_DGCR8 342_GTF2F1 356_DDX20\n",
      "null device \n",
      "          1 \n",
      "339_TAF15 340_TARDBP 341_DGCR8 342_GTF2F1 356_DDX20\n",
      "null device \n",
      "          1 \n",
      "339_TAF15 340_TARDBP 341_DGCR8 342_GTF2F1 356_DDX20\n",
      "null device \n",
      "          1 \n",
      "339_TAF15 340_TARDBP 341_DGCR8 342_GTF2F1 356_DDX20\n",
      "null device \n",
      "          1 \n",
      "339_TAF15 340_TARDBP 341_DGCR8 342_GTF2F1 356_DDX20\n",
      "null device \n",
      "          1 \n",
      "339_TAF15 340_TARDBP 341_DGCR8 342_GTF2F1 356_DDX20\n",
      "null device \n",
      "          1 \n",
      "339_TAF15 340_TARDBP 341_DGCR8 342_GTF2F1 356_DDX20\n",
      "null device \n",
      "          1 \n",
      "339_TAF15 340_TARDBP 341_DGCR8 342_GTF2F1 356_DDX20\n",
      "null device \n",
      "          1 \n",
      "339_TAF15 340_TARDBP 341_DGCR8 342_GTF2F1 356_DDX20\n",
      "null device \n",
      "          1 \n",
      "339_TAF15 340_TARDBP 341_DGCR8 342_GTF2F1 356_DDX20\n",
      "null device \n",
      "          1 \n",
      "339_TAF15 340_TARDBP 341_DGCR8 342_GTF2F1 356_DDX20\n",
      "null device \n",
      "          1 \n",
      "339_TAF15 340_TARDBP 341_DGCR8 342_GTF2F1 356_DDX20\n",
      "null device \n",
      "          1 \n",
      "339_TAF15 340_TARDBP 341_DGCR8 342_GTF2F1 356_DDX20\n",
      "null device \n",
      "          1 \n",
      "339_TAF15 340_TARDBP 341_DGCR8 342_GTF2F1 356_DDX20\n",
      "null device \n",
      "          1 \n",
      "339_TAF15 340_TARDBP 341_DGCR8 342_GTF2F1 356_DDX20\n",
      "null device \n",
      "          1 \n",
      "339_TAF15 340_TARDBP 341_DGCR8 342_GTF2F1 356_DDX20\n",
      "null device \n",
      "          1 \n",
      "339_TAF15 340_TARDBP 341_DGCR8 342_GTF2F1 356_DDX20\n",
      "null device \n",
      "          1 \n",
      "339_TAF15 340_TARDBP 341_DGCR8 342_GTF2F1 356_DDX20\n",
      "null device \n",
      "          1 \n",
      "339_TAF15 340_TARDBP 341_DGCR8 342_GTF2F1 356_DDX20\n",
      "null device \n",
      "          1 \n",
      "339_TAF15 340_TARDBP 341_DGCR8 342_GTF2F1 356_DDX20\n",
      "null device \n",
      "          1 \n",
      "339_TAF15 340_TARDBP 341_DGCR8 342_GTF2F1 356_DDX20\n",
      "null device \n",
      "          1 \n",
      "339_TAF15 340_TARDBP 341_DGCR8 342_GTF2F1 356_DDX20\n",
      "null device \n",
      "          1 \n",
      "339_TAF15 340_TARDBP 341_DGCR8 342_GTF2F1 356_DDX20\n",
      "null device \n",
      "          1 \n",
      "339_TAF15 340_TARDBP 341_DGCR8 342_GTF2F1 356_DDX20\n",
      "null device \n",
      "          1 \n",
      "339_TAF15 340_TARDBP 341_DGCR8 342_GTF2F1 356_DDX20\n",
      "null device \n",
      "          1 \n",
      "339_TAF15 340_TARDBP 341_DGCR8 342_GTF2F1 356_DDX20\n",
      "null device \n",
      "          1 \n",
      "339_TAF15 340_TARDBP 341_DGCR8 342_GTF2F1 356_DDX20\n",
      "null device \n",
      "          1 \n",
      "339_TAF15 340_TARDBP 341_DGCR8 342_GTF2F1 356_DDX20\n",
      "null device \n",
      "          1 \n",
      "339_TAF15 340_TARDBP 341_DGCR8 342_GTF2F1 356_DDX20\n",
      "null device \n",
      "          1 \n",
      "339_TAF15 340_TARDBP 341_DGCR8 342_GTF2F1 356_DDX20\n",
      "null device \n",
      "          1 \n",
      "339_TAF15 340_TARDBP 341_DGCR8 342_GTF2F1 356_DDX20\n",
      "null device \n",
      "          1 \n",
      "339_TAF15 340_TARDBP 341_DGCR8 342_GTF2F1 356_DDX20\n",
      "null device \n",
      "          1 \n",
      "339_TAF15 340_TARDBP 341_DGCR8 342_GTF2F1 356_DDX20\n",
      "null device \n",
      "          1 \n",
      "339_TAF15 340_TARDBP 341_DGCR8 342_GTF2F1 356_DDX20\n",
      "null device \n",
      "          1 \n",
      "339_TAF15 340_TARDBP 341_DGCR8 342_GTF2F1 356_DDX20\n",
      "null device \n",
      "          1 \n",
      "339_TAF15 340_TARDBP 341_DGCR8 342_GTF2F1 356_DDX20\n",
      "null device \n",
      "          1 \n",
      "339_TAF15 340_TARDBP 341_DGCR8 342_GTF2F1 356_DDX20\n",
      "null device \n",
      "          1 \n",
      "339_TAF15 340_TARDBP 341_DGCR8 342_GTF2F1 356_DDX20\n",
      "null device \n",
      "          1 \n",
      "339_TAF15 340_TARDBP 341_DGCR8 342_GTF2F1 356_DDX20\n",
      "null device \n",
      "          1 \n",
      "339_TAF15 340_TARDBP 341_DGCR8 342_GTF2F1 356_DDX20\n",
      "null device \n",
      "          1 \n",
      "339_TAF15 340_TARDBP 341_DGCR8 342_GTF2F1 356_DDX20\n",
      "null device \n",
      "          1 \n",
      "339_TAF15 340_TARDBP 341_DGCR8 342_GTF2F1 356_DDX20\n",
      "null device \n",
      "          1 \n",
      "339_TAF15 340_TARDBP 341_DGCR8 342_GTF2F1 356_DDX20\n",
      "null device \n",
      "          1 \n",
      "339_TAF15 340_TARDBP 341_DGCR8 342_GTF2F1 356_DDX20\n",
      "null device \n",
      "          1 \n",
      "339_TAF15 340_TARDBP 341_DGCR8 342_GTF2F1 356_DDX20\n",
      "null device \n",
      "          1 \n",
      "339_TAF15 340_TARDBP 341_DGCR8 342_GTF2F1 356_DDX20\n",
      "null device \n",
      "          1 \n",
      "339_TAF15 340_TARDBP 341_DGCR8 342_GTF2F1 356_DDX20\n",
      "null device \n",
      "          1 \n",
      "339_TAF15 340_TARDBP 341_DGCR8 342_GTF2F1 356_DDX20\n",
      "null device \n",
      "          1 \n",
      "339_TAF15 340_TARDBP 341_DGCR8 342_GTF2F1 356_DDX20\n",
      "null device \n",
      "          1 \n",
      "339_TAF15 340_TARDBP 341_DGCR8 342_GTF2F1 356_DDX20\n",
      "null device \n",
      "          1 \n",
      "339_TAF15 340_TARDBP 341_DGCR8 342_GTF2F1 356_DDX20\n",
      "null device \n",
      "          1 \n",
      "339_TAF15 340_TARDBP 341_DGCR8 342_GTF2F1 356_DDX20\n",
      "null device \n",
      "          1 \n",
      "339_TAF15 340_TARDBP 341_DGCR8 342_GTF2F1 356_DDX20\n",
      "null device \n",
      "          1 \n",
      "339_TAF15 340_TARDBP 341_DGCR8 342_GTF2F1 356_DDX20\n",
      "null device \n",
      "          1 \n",
      "339_TAF15 340_TARDBP 341_DGCR8 342_GTF2F1 356_DDX20\n",
      "null device \n",
      "          1 \n",
      "339_TAF15 340_TARDBP 341_DGCR8 342_GTF2F1 356_DDX20\n",
      "null device \n",
      "          1 \n",
      "339_TAF15 340_TARDBP 341_DGCR8 342_GTF2F1 356_DDX20\n",
      "null device \n",
      "          1 \n",
      "339_TAF15 340_TARDBP 341_DGCR8 342_GTF2F1 356_DDX20\n",
      "null device \n",
      "          1 \n",
      "339_TAF15 340_TARDBP 341_DGCR8 342_GTF2F1 356_DDX20\n",
      "null device \n",
      "          1 \n",
      "339_TAF15 340_TARDBP 341_DGCR8 342_GTF2F1 356_DDX20\n",
      "null device \n",
      "          1 \n",
      "339_TAF15 340_TARDBP 341_DGCR8 342_GTF2F1 356_DDX20\n",
      "null device \n",
      "          1 \n",
      "339_TAF15 340_TARDBP 341_DGCR8 342_GTF2F1 356_DDX20\n",
      "null device \n",
      "          1 \n",
      "339_TAF15 340_TARDBP 341_DGCR8 342_GTF2F1 356_DDX20\n",
      "null device \n",
      "          1 \n",
      "339_TAF15 340_TARDBP 341_DGCR8 342_GTF2F1 356_DDX20\n",
      "null device \n",
      "          1 \n",
      "339_TAF15 340_TARDBP 341_DGCR8 342_GTF2F1 356_DDX20\n",
      "null device \n",
      "          1 \n",
      "339_TAF15 340_TARDBP 341_DGCR8 342_GTF2F1 356_DDX20\n",
      "null device \n",
      "          1 \n",
      "339_TAF15 340_TARDBP 341_DGCR8 342_GTF2F1 356_DDX20\n",
      "null device \n",
      "          1 \n",
      "339_TAF15 340_TARDBP 341_DGCR8 342_GTF2F1 356_DDX20\n",
      "null device \n",
      "          1 \n",
      "339_TAF15 340_TARDBP 341_DGCR8 342_GTF2F1 356_DDX20\n",
      "null device \n",
      "          1 \n",
      "339_TAF15 340_TARDBP 341_DGCR8 342_GTF2F1 356_DDX20\n",
      "null device \n",
      "          1 \n",
      "339_TAF15 340_TARDBP 341_DGCR8 342_GTF2F1 356_DDX20\n",
      "null device \n",
      "          1 \n",
      "339_TAF15 340_TARDBP 341_DGCR8 342_GTF2F1 356_DDX20\n",
      "null device \n",
      "          1 \n",
      "339_TAF15 340_TARDBP 341_DGCR8 342_GTF2F1 356_DDX20\n",
      "null device \n",
      "          1 \n",
      "339_TAF15 340_TARDBP 341_DGCR8 342_GTF2F1 356_DDX20\n",
      "null device \n",
      "          1 \n",
      "339_TAF15 340_TARDBP 341_DGCR8 342_GTF2F1 356_DDX20\n",
      "null device \n",
      "          1 \n",
      "339_TAF15 340_TARDBP 341_DGCR8 342_GTF2F1 356_DDX20\n",
      "null device \n",
      "          1 \n",
      "339_TAF15 340_TARDBP 341_DGCR8 342_GTF2F1 356_DDX20\n",
      "null device \n",
      "          1 \n",
      "339_TAF15 340_TARDBP 341_DGCR8 342_GTF2F1 356_DDX20\n",
      "null device \n",
      "          1 \n"
     ]
    }
   ],
   "source": [
    "chunk_size = 10\n",
    "for out_name in out_names:ds\n",
    "    #cur_len = len(chunk)\n",
    "    #cur_format = \" \".join(chunk)\n",
    "    print cur_format\n",
    "    cur_out = \"all_{}\".format(x)\n",
    "    idr_out = out_name + \"-plot.ps\"\n",
    "    pdf_out = out_name + \"-plot.pdf\"\n",
    "    !Rscript /home/yeo-lab/software/idrCode/batch-consistency-plot.r 1 $out_name $out_name\n",
    "    !ps2pdf $idr_out $pdf_out"
   ]
  },
  {
   "cell_type": "code",
   "execution_count": 195,
   "metadata": {
    "collapsed": false
   },
   "outputs": [
    {
     "name": "stdout",
     "output_type": "stream",
     "text": [
      "null device \r\n",
      "          1 \r\n"
     ]
    }
   ],
   "source": [
    "!Rscript /home/yeo-lab/software/idrCode/batch-consistency-plot.r 2 fox2s clipper_RBFOX2 204_RBFOX2"
   ]
  },
  {
   "cell_type": "code",
   "execution_count": 122,
   "metadata": {
    "collapsed": true
   },
   "outputs": [],
   "source": [
    "def PDF(url):\n",
    "    return HTML('<iframe src=%s width=700 height=350></iframe>' % url)"
   ]
  },
  {
   "cell_type": "code",
   "execution_count": 124,
   "metadata": {
    "collapsed": false
   },
   "outputs": [],
   "source": []
  },
  {
   "cell_type": "code",
   "execution_count": 125,
   "metadata": {
    "collapsed": false
   },
   "outputs": [
    {
     "data": {
      "text/html": [
       "<iframe src=all_0-plot.pdf width=700 height=350></iframe>"
      ],
      "text/plain": [
       "<IPython.core.display.HTML object>"
      ]
     },
     "execution_count": 125,
     "metadata": {},
     "output_type": "execute_result"
    }
   ],
   "source": [
    "PDF(\"all_0-plot.pdf\")"
   ]
  },
  {
   "cell_type": "code",
   "execution_count": 10,
   "metadata": {
    "collapsed": false
   },
   "outputs": [],
   "source": [
    "#1) RBFOX2_vs_RBFOX2\n",
    "rbfox2_rep1 = pybedtools.BedTool(\"/home/elvannostrand/data/clip/CLIPseq_analysis/Method_paper_finalALLRERUN_102615/EV42_01.basedon_EV42_01.peaks.l2inputnormnew.bed.compressed.bed\").each(format_erics_output).sort().saveas(\"rbfox2_rep1.bed\") \n",
    "rbfox2_rep2 = pybedtools.BedTool(\"/home/elvannostrand/data/clip/CLIPseq_analysis/Method_paper_finalALLRERUN_102615/EV43_01.basedon_EV43_01.peaks.l2inputnormnew.bed.compressed.bed\").each(format_erics_output).sort().saveas(\"rbfox2_rep2.bed\") \n",
    "\n",
    "#2) RBFOX2_vs_IgG\n",
    "rbfox2_rep3 = pybedtools.BedTool(\"/home/elvannostrand/data/clip/CLIPseq_analysis/Method_paper_finalALLRERUN_102615/EV41_01.basedon_EV41_01.peaks.l2inputnormnew.bed.compressed.bed\").each(format_erics_output).sort().saveas(\"rbfox2_rep3.bed\") \n",
    "igg_rep1 = pybedtools.BedTool(\"/home/elvannostrand/data/clip/CLIPseq_analysis/Method_paper_finalALLRERUN_102615/EV42_01.basedon_EV42_01.peaks.l2inputnormnew.bed.compressed.bed\").each(format_erics_output).sort().saveas(\"igg_rep1.bed\") \n",
    "\n",
    "#3) SLBP_vs_SLBP 40u\n",
    "slbp_rep1 = pybedtools.BedTool(\"/home/elvannostrand/data/clip/CLIPseq_analysis/Method_paper_finalALLRERUN_102615/EV4-12_01.basedon_EV4-12_01.peaks.l2inputnormnew.bed.compressed.bed\").each(format_erics_output).sort().saveas(\"slbp_rep1.bed\") \n",
    "slbp_rep2 = pybedtools.BedTool(\"/home/elvannostrand/data/clip/CLIPseq_analysis/Method_paper_finalALLRERUN_102615/EV4-13_01.basedon_EV4-13_01.peaks.l2inputnormnew.bed.compressed.bed\").each(format_erics_output).sort().saveas(\"slbp_rep2.bed\")\n",
    "\n",
    "#4) SLBP_vs_SLBP 5u\n",
    "slbp_rep3 = pybedtools.BedTool(\"/home/elvannostrand/data/clip/CLIPseq_analysis/Method_paper_finalALLRERUN_102615/EV4-14_01.basedon_EV4-14_01.peaks.l2inputnormnew.bed.compressed.bed\").each(format_erics_output).sort().saveas(\"slbp_rep3.bed\") \n",
    "slbp_rep4 = pybedtools.BedTool(\"/home/elvannostrand/data/clip/CLIPseq_analysis/Method_paper_finalALLRERUN_102615/EV4-15_01.basedon_EV4-15_01.peaks.l2inputnormnew.bed.compressed.bed\").each(format_erics_output).sort().saveas(\"slbp_rep4.bed\")"
   ]
  },
  {
   "cell_type": "code",
   "execution_count": 22,
   "metadata": {
    "collapsed": true
   },
   "outputs": [],
   "source": [
    "idr.idr(rbfox2_rep1.fn, rbfox2_rep2.fn, \"RBFOX2_vs_RBFOX2\", \"/projects/ps-yeolab/genomes/hg19/hg19.chrom.sizes\" )\n",
    "idr.idr(rbfox2_rep3.fn, igg_rep1.fn, \"RBFOX2_vs_IgG\", \"/projects/ps-yeolab/genomes/hg19/hg19.chrom.sizes\" )"
   ]
  },
  {
   "cell_type": "code",
   "execution_count": 28,
   "metadata": {
    "collapsed": false
   },
   "outputs": [],
   "source": [
    "idr.idr(slbp_rep1.fn, slbp_rep2.fn, \"SLBP_vs_SLBP_40u\", \"/projects/ps-yeolab/genomes/hg19/hg19.chrom.sizes\" )\n",
    "idr.idr(slbp_rep3.fn, slbp_rep4.fn, \"SLBP_vs_SLBP_5u\", \"/projects/ps-yeolab/genomes/hg19/hg19.chrom.sizes\" )\n"
   ]
  },
  {
   "cell_type": "code",
   "execution_count": 36,
   "metadata": {
    "collapsed": false
   },
   "outputs": [],
   "source": [
    "idr.idr(slbp_rep1.fn, slbp_rep2.fn, \"SLBP_vs_SLBP_40u\", \"/projects/ps-yeolab/genomes/hg19/hg19.chrom.sizes\" )"
   ]
  },
  {
   "cell_type": "code",
   "execution_count": 38,
   "metadata": {
    "collapsed": false
   },
   "outputs": [
    {
     "name": "stdout",
     "output_type": "stream",
     "text": [
      "null device \r\n",
      "          1 \r\n"
     ]
    }
   ],
   "source": [
    "!Rscript /home/yeo-lab/software/idrCode/batch-consistency-plot.r 3 paper_submission RBFOX2_vs_RBFOX2 RBFOX2_vs_IgG SLBP_vs_SLBP\n",
    "!ps2pdf paper_submission-plot.ps rbfox2_vs_igg_paper-plot.pdf"
   ]
  },
  {
   "cell_type": "code",
   "execution_count": 39,
   "metadata": {
    "collapsed": false
   },
   "outputs": [
    {
     "name": "stdout",
     "output_type": "stream",
     "text": [
      "null device \r\n",
      "          1 \r\n"
     ]
    }
   ],
   "source": [
    "!Rscript /home/yeo-lab/software/idrCode/batch-consistency-plot.r 2 rbfox2_rbfox2_paper RBFOX2_vs_RBFOX2 RBFOX2_vs_IgG \n",
    "!ps2pdf rbfox2_rbfox2_paper-plot.ps rbfox2_rbfox2_paper-plot.pdf"
   ]
  },
  {
   "cell_type": "code",
   "execution_count": 40,
   "metadata": {
    "collapsed": false
   },
   "outputs": [
    {
     "name": "stdout",
     "output_type": "stream",
     "text": [
      "null device \r\n",
      "          1 \r\n"
     ]
    }
   ],
   "source": [
    "!Rscript /home/yeo-lab/software/idrCode/batch-consistency-plot.r 2 rbfox2_igg_paper RBFOX2_vs_RBFOX2 RBFOX2_vs_IgG \n",
    "!ps2pdf rbfox2_igg_paper-plot.ps rbfox2_igg_paper-plot.pdf"
   ]
  },
  {
   "cell_type": "code",
   "execution_count": 32,
   "metadata": {
    "collapsed": false
   },
   "outputs": [
    {
     "name": "stdout",
     "output_type": "stream",
     "text": [
      "null device \r\n",
      "          1 \r\n"
     ]
    }
   ],
   "source": [
    "!Rscript /home/yeo-lab/software/idrCode/batch-consistency-plot.r 1 slbp_paper_5u SLBP_vs_SLBP_5u\n",
    "!ps2pdf slbp_paper_5u-plot.ps slbp_paper_5u-plot.pdf"
   ]
  },
  {
   "cell_type": "code",
   "execution_count": 37,
   "metadata": {
    "collapsed": false
   },
   "outputs": [
    {
     "name": "stdout",
     "output_type": "stream",
     "text": [
      "null device \r\n",
      "          1 \r\n"
     ]
    }
   ],
   "source": [
    "!Rscript /home/yeo-lab/software/idrCode/batch-consistency-plot.r 1 slbp_paper_40u SLBP_vs_SLBP_40u\n",
    "!ps2pdf slbp_paper_40u-plot.ps slbp_paper_40u-plot.pdf"
   ]
  },
  {
   "cell_type": "code",
   "execution_count": 13,
   "metadata": {
    "collapsed": false
   },
   "outputs": [],
   "source": [
    "s01 = pybedtools.BedTool(\"/home/elvannostrand/data/clip/CLIPseq_analysis/ALLCLIP_v12_20160112//S01_01.basedon_S01_01.peaks.l2inputnormnew.bed.compressed.bed\").each(format_erics_output).sort().saveas()\n",
    "s05 = pybedtools.BedTool(\"/home/elvannostrand/data/clip/CLIPseq_analysis/ALLCLIP_v12_20160112/S05_01.basedon_S05_01.peaks.l2inputnormnew.bed.compressed.bed\").each(format_erics_output).sort().saveas()\n",
    "s08 = pybedtools.BedTool(\"/home/elvannostrand/data/clip/CLIPseq_analysis/ALLCLIP_v12_20160112/S08_01.basedon_S08_01.peaks.l2inputnormnew.bed.compressed.bed\").each(format_erics_output).sort().saveas()\n",
    "\n",
    "ev20 = pybedtools.BedTool(\"/home/elvannostrand/data/clip/CLIPseq_analysis/ALLCLIP_v12_20160112/EV20_01.basedon_EV20_01.peaks.l2inputnormnew.bed.compressed.bed\").each(format_erics_output).sort().saveas()\n",
    "ev71 = pybedtools.BedTool(\"/home/elvannostrand/data/clip/CLIPseq_analysis/ALLCLIP_v12_20160112/EV71-2_01.basedon_EV71-2_01.peaks.l2inputnormnew.bed.compressed.bed\").each(format_erics_output).sort().saveas()\n",
    "\n",
    "s03 = pybedtools.BedTool(\"/home/elvannostrand/data/clip/CLIPseq_analysis/ALLCLIP_v12_20160112/S03_01.basedon_S03_01.peaks.l2inputnormnew.bed.compressed.bed\").each(format_erics_output).sort().saveas()\n",
    "s06 = pybedtools.BedTool(\"/home/elvannostrand/data/clip/CLIPseq_analysis/ALLCLIP_v12_20160112/S06_01.basedon_S06_01.peaks.l2inputnormnew.bed.compressed.bed\").each(format_erics_output).sort().saveas()\n",
    "s07 = pybedtools.BedTool(\"/home/elvannostrand/data/clip/CLIPseq_analysis/ALLCLIP_v12_20160112/S07_01.basedon_S07_01.peaks.l2inputnormnew.bed.compressed.bed\").each(format_erics_output).sort().saveas()"
   ]
  },
  {
   "cell_type": "code",
   "execution_count": 14,
   "metadata": {
    "collapsed": false
   },
   "outputs": [],
   "source": [
    "idr.idr(s01.fn, s05.fn, \"S01_vs_S05\", \"/projects/ps-yeolab/genomes/hg19/hg19.chrom.sizes\" )\n",
    "idr.idr(s01.fn, s08.fn, \"S01_vs_S08\", \"/projects/ps-yeolab/genomes/hg19/hg19.chrom.sizes\" )\n",
    "idr.idr(s01.fn, ev20.fn, \"S01_vs_EV20\", \"/projects/ps-yeolab/genomes/hg19/hg19.chrom.sizes\" )\n",
    "idr.idr(s01.fn, ev71.fn, \"S01_vs_EV71\", \"/projects/ps-yeolab/genomes/hg19/hg19.chrom.sizes\" )\n",
    "\n",
    "idr.idr(s03.fn, s06.fn, \"S03_vs_S06\", \"/projects/ps-yeolab/genomes/hg19/hg19.chrom.sizes\" )\n",
    "idr.idr(s03.fn, s08.fn, \"S03_vs_S08\", \"/projects/ps-yeolab/genomes/hg19/hg19.chrom.sizes\" )\n",
    "idr.idr(s03.fn, s05.fn, \"S03_vs_S05\", \"/projects/ps-yeolab/genomes/hg19/hg19.chrom.sizes\" )\n",
    "idr.idr(s01.fn, s06.fn, \"S01_vs_S06\", \"/projects/ps-yeolab/genomes/hg19/hg19.chrom.sizes\" )\n",
    "idr.idr(s01.fn, s07.fn, \"S01_vs_S07\", \"/projects/ps-yeolab/genomes/hg19/hg19.chrom.sizes\" )\n",
    "idr.idr(s03.fn, s07.fn, \"S03_vs_S07\", \"/projects/ps-yeolab/genomes/hg19/hg19.chrom.sizes\" )"
   ]
  },
  {
   "cell_type": "code",
   "execution_count": 15,
   "metadata": {
    "collapsed": false
   },
   "outputs": [
    {
     "name": "stdout",
     "output_type": "stream",
     "text": [
      "null device \r\n",
      "          1 \r\n"
     ]
    }
   ],
   "source": [
    "!Rscript /home/yeo-lab/software/idrCode/batch-consistency-plot.r 1 S01_vs_S05 S01_vs_S05\n",
    "!ps2pdf S01_vs_S05-plot.ps /home/gpratt/Dropbox/IMP_team/Data/idr_v12/S01_vs_S05-plot.pdf"
   ]
  },
  {
   "cell_type": "code",
   "execution_count": 16,
   "metadata": {
    "collapsed": false
   },
   "outputs": [
    {
     "name": "stdout",
     "output_type": "stream",
     "text": [
      "null device \r\n",
      "          1 \r\n"
     ]
    }
   ],
   "source": [
    "!Rscript /home/yeo-lab/software/idrCode/batch-consistency-plot.r 1 S01_vs_S08 S01_vs_S08\n",
    "!ps2pdf S01_vs_S08-plot.ps /home/gpratt/Dropbox/IMP_team/Data/idr_v12/S01_vs_S08-plot.pdf"
   ]
  },
  {
   "cell_type": "code",
   "execution_count": 17,
   "metadata": {
    "collapsed": false
   },
   "outputs": [
    {
     "name": "stdout",
     "output_type": "stream",
     "text": [
      "null device \r\n",
      "          1 \r\n"
     ]
    }
   ],
   "source": [
    "!Rscript /home/yeo-lab/software/idrCode/batch-consistency-plot.r 1 S01_vs_EV20 S01_vs_EV20\n",
    "!ps2pdf S01_vs_EV20-plot.ps /home/gpratt/Dropbox/IMP_team/Data/idr_v12/S01_vs_EV20-plot.pdf"
   ]
  },
  {
   "cell_type": "code",
   "execution_count": 18,
   "metadata": {
    "collapsed": false
   },
   "outputs": [
    {
     "name": "stdout",
     "output_type": "stream",
     "text": [
      "null device \r\n",
      "          1 \r\n"
     ]
    }
   ],
   "source": [
    "!Rscript /home/yeo-lab/software/idrCode/batch-consistency-plot.r 1 S01_vs_EV71 S01_vs_EV71\n",
    "!ps2pdf S01_vs_EV71-plot.ps /home/gpratt/Dropbox/IMP_team/Data/idr_v12/S01_vs_EV71-plot.pdf"
   ]
  },
  {
   "cell_type": "code",
   "execution_count": 19,
   "metadata": {
    "collapsed": false
   },
   "outputs": [
    {
     "name": "stdout",
     "output_type": "stream",
     "text": [
      "null device \r\n",
      "          1 \r\n"
     ]
    }
   ],
   "source": [
    "!Rscript /home/yeo-lab/software/idrCode/batch-consistency-plot.r 1 S03_vs_S06 S03_vs_S06\n",
    "!ps2pdf S03_vs_S06-plot.ps /home/gpratt/Dropbox/IMP_team/Data/idr_v12/S03_vs_S06-plot.pdf"
   ]
  },
  {
   "cell_type": "code",
   "execution_count": 20,
   "metadata": {
    "collapsed": false
   },
   "outputs": [
    {
     "name": "stdout",
     "output_type": "stream",
     "text": [
      "null device \r\n",
      "          1 \r\n"
     ]
    }
   ],
   "source": [
    "!Rscript /home/yeo-lab/software/idrCode/batch-consistency-plot.r 1 S03_vs_S08 S03_vs_S08\n",
    "!ps2pdf S03_vs_S08-plot.ps /home/gpratt/Dropbox/IMP_team/Data/idr_v12/S03_vs_S08-plot.pdf"
   ]
  },
  {
   "cell_type": "code",
   "execution_count": 21,
   "metadata": {
    "collapsed": false
   },
   "outputs": [
    {
     "name": "stdout",
     "output_type": "stream",
     "text": [
      "null device \r\n",
      "          1 \r\n"
     ]
    }
   ],
   "source": [
    "!Rscript /home/yeo-lab/software/idrCode/batch-consistency-plot.r 1 S03_vs_S05 S03_vs_S05\n",
    "!ps2pdf S03_vs_S05-plot.ps /home/gpratt/Dropbox/IMP_team/Data/idr_v12/S03_vs_S05-plot.pdf"
   ]
  },
  {
   "cell_type": "code",
   "execution_count": 22,
   "metadata": {
    "collapsed": false
   },
   "outputs": [
    {
     "name": "stdout",
     "output_type": "stream",
     "text": [
      "null device \r\n",
      "          1 \r\n"
     ]
    }
   ],
   "source": [
    "!Rscript /home/yeo-lab/software/idrCode/batch-consistency-plot.r 4 s01 S01_vs_S05 S01_vs_S08 S01_vs_EV20 S01_vs_EV71\n",
    "!ps2pdf s01-plot.ps /home/gpratt/Dropbox/IMP_team/Data/idr_v12/s01-plot.pdf"
   ]
  },
  {
   "cell_type": "code",
   "execution_count": 23,
   "metadata": {
    "collapsed": false
   },
   "outputs": [
    {
     "name": "stdout",
     "output_type": "stream",
     "text": [
      "null device \r\n",
      "          1 \r\n"
     ]
    }
   ],
   "source": [
    "!Rscript /home/yeo-lab/software/idrCode/batch-consistency-plot.r 3 s03 S03_vs_S06 S03_vs_S08 S03_vs_S05\n",
    "!ps2pdf s03-plot.ps /home/gpratt/Dropbox/IMP_team/Data/idr_v12/s03-plot.pdf"
   ]
  },
  {
   "cell_type": "code",
   "execution_count": 24,
   "metadata": {
    "collapsed": false
   },
   "outputs": [
    {
     "name": "stdout",
     "output_type": "stream",
     "text": [
      "null device \r\n",
      "          1 \r\n"
     ]
    }
   ],
   "source": [
    "!Rscript /home/yeo-lab/software/idrCode/batch-consistency-plot.r 9 all S01_vs_S05 S01_vs_S06 S03_vs_S05 S03_vs_S06 S01_vs_S07 S03_vs_S07 S01_vs_EV20 S01_vs_EV71 S01_vs_S08  \n",
    "!ps2pdf all-plot.ps /home/gpratt/Dropbox/IMP_team/Data/idr_v12/all-plot.pdf"
   ]
  },
  {
   "cell_type": "code",
   "execution_count": null,
   "metadata": {
    "collapsed": true
   },
   "outputs": [],
   "source": [
    "#Next Round of comparisons"
   ]
  },
  {
   "cell_type": "code",
   "execution_count": 10,
   "metadata": {
    "collapsed": true
   },
   "outputs": [],
   "source": [
    "def format_erics_output_p_val(interval):\n",
    "    #column 8 is the column that gets sorted\n",
    "    #sort by -log10 p-value\n",
    "    interval.append(str(interval[3]))\n",
    "    interval.append(str(interval[3]))\n",
    "    interval.append(\"-1\")\n",
    "    interval.append(\"-1\")\n",
    "    return interval\n",
    "\n",
    "def format_erics_output_fc(interval):\n",
    "    #column 8 is the column that gets sorted\n",
    "    #sort by -log10 p-value\n",
    "    interval.append(str(interval[4]))\n",
    "    interval.append(str(interval[4]))\n",
    "    interval.append(\"-1\")\n",
    "    interval.append(\"-1\")\n",
    "    return interval"
   ]
  },
  {
   "cell_type": "code",
   "execution_count": 13,
   "metadata": {
    "collapsed": false
   },
   "outputs": [],
   "source": [
    "evn12 = pybedtools.BedTool(\"/home/elvannostrand/data/clip/CLIPseq_analysis/ALLCLIP_v12_20160112/EV4-12_01.basedon_EV4-12_01.peaks.l2inputnormnew.bed.compressed.bed\").each(format_erics_output_p_val).sort().saveas(\"evn12_p_val.bed\")  \n",
    "evn13 = pybedtools.BedTool(\"/home/elvannostrand/data/clip/CLIPseq_analysis/ALLCLIP_v12_20160112/EV4-13_01.basedon_EV4-13_01.peaks.l2inputnormnew.bed.compressed.bed\").each(format_erics_output_p_val).sort().saveas(\"evn13_p_val.bed\") \n",
    "\n",
    "evn42 = pybedtools.BedTool(\"/home/elvannostrand/data/clip/CLIPseq_analysis/ALLCLIP_v12_20160112/EV42_01.basedon_EV42_01.peaks.l2inputnormnew.bed.compressed.bed\").each(format_erics_output_p_val).sort().saveas(\"evn42_p_val.bed\") \n",
    "evn43 = pybedtools.BedTool(\"/home/elvannostrand/data/clip/CLIPseq_analysis/ALLCLIP_v12_20160112/EV43_01.basedon_EV43_01.peaks.l2inputnormnew.bed.compressed.bed\").each(format_erics_output_p_val).sort().saveas(\"evn43_p_val.bed\") \n",
    "\n",
    "evn41 = pybedtools.BedTool(\"/home/elvannostrand/data/clip/CLIPseq_analysis/ALLCLIP_v12_20160112/EV41_01.basedon_EV41_01.peaks.l2inputnormnew.bed.compressed.bed\").each(format_erics_output_p_val).sort().saveas(\"evn41_p_val.bed\") "
   ]
  },
  {
   "cell_type": "code",
   "execution_count": 14,
   "metadata": {
    "collapsed": true
   },
   "outputs": [],
   "source": [
    "idr.idr(evn12.fn, evn13.fn, \"evn12_vs_evn_13_p_val\", \"/projects/ps-yeolab/genomes/hg19/hg19.chrom.sizes\" )\n",
    "idr.idr(evn42.fn, evn43.fn, \"evn42_vs_evn43_p_val\", \"/projects/ps-yeolab/genomes/hg19/hg19.chrom.sizes\" )\n",
    "idr.idr(evn42.fn, evn41.fn, \"evn42_vs_evn41_p_val\", \"/projects/ps-yeolab/genomes/hg19/hg19.chrom.sizes\" )\n"
   ]
  },
  {
   "cell_type": "code",
   "execution_count": 27,
   "metadata": {
    "collapsed": false
   },
   "outputs": [
    {
     "name": "stdout",
     "output_type": "stream",
     "text": [
      "null device \r\n",
      "          1 \r\n"
     ]
    }
   ],
   "source": [
    "!Rscript /home/yeo-lab/software/idrCode/batch-consistency-plot.r 1 evn12_vs_evn_13_p_val evn12_vs_evn_13_p_val\n",
    "!ps2pdf evn12_vs_evn_13_p_val-plot.ps /home/gpratt/Dropbox/encode_integration/for_eric/idr/evn12_vs_evn_13_p_val-plot.pdf"
   ]
  },
  {
   "cell_type": "code",
   "execution_count": 28,
   "metadata": {
    "collapsed": false
   },
   "outputs": [
    {
     "name": "stdout",
     "output_type": "stream",
     "text": [
      "null device \r\n",
      "          1 \r\n"
     ]
    }
   ],
   "source": [
    "!Rscript /home/yeo-lab/software/idrCode/batch-consistency-plot.r 2 evn42_vs_comparison_p_val evn42_vs_evn43_p_val evn42_vs_evn41_p_val\n",
    "!ps2pdf evn42_vs_comparison_p_val-plot.ps /home/gpratt/Dropbox/encode_integration/for_eric/idr/evn42_vs_comparison_p_val-plot.pdf"
   ]
  },
  {
   "cell_type": "code",
   "execution_count": 15,
   "metadata": {
    "collapsed": true
   },
   "outputs": [],
   "source": [
    "evn12 = pybedtools.BedTool(\"/home/elvannostrand/data/clip/CLIPseq_analysis/ALLCLIP_v12_20160112/EV4-12_01.basedon_EV4-12_01.peaks.l2inputnormnew.bed.compressed.bed\").each(format_erics_output_fc).sort().saveas(\"evn12_fc.bed\")  \n",
    "evn13 = pybedtools.BedTool(\"/home/elvannostrand/data/clip/CLIPseq_analysis/ALLCLIP_v12_20160112/EV4-13_01.basedon_EV4-13_01.peaks.l2inputnormnew.bed.compressed.bed\").each(format_erics_output_fc).sort().saveas(\"evn13_fc.bed\") \n",
    "\n",
    "evn42 = pybedtools.BedTool(\"/home/elvannostrand/data/clip/CLIPseq_analysis/ALLCLIP_v12_20160112/EV42_01.basedon_EV42_01.peaks.l2inputnormnew.bed.compressed.bed\").each(format_erics_output_fc).sort().saveas(\"evn42_fc.bed\") \n",
    "evn43 = pybedtools.BedTool(\"/home/elvannostrand/data/clip/CLIPseq_analysis/ALLCLIP_v12_20160112/EV43_01.basedon_EV43_01.peaks.l2inputnormnew.bed.compressed.bed\").each(format_erics_output_fc).sort().saveas(\"evn43_fc.bed\") \n",
    "\n",
    "evn41 = pybedtools.BedTool(\"/home/elvannostrand/data/clip/CLIPseq_analysis/ALLCLIP_v12_20160112/EV41_01.basedon_EV41_01.peaks.l2inputnormnew.bed.compressed.bed\").each(format_erics_output_fc).sort().saveas(\"evn41_fc.bed\") "
   ]
  },
  {
   "cell_type": "code",
   "execution_count": 16,
   "metadata": {
    "collapsed": true
   },
   "outputs": [],
   "source": [
    "idr.idr(evn12.fn, evn13.fn, \"evn12_vs_evn_13_fc\", \"/projects/ps-yeolab/genomes/hg19/hg19.chrom.sizes\" )\n",
    "idr.idr(evn42.fn, evn43.fn, \"evn42_vs_evn43_fc\", \"/projects/ps-yeolab/genomes/hg19/hg19.chrom.sizes\" )\n",
    "idr.idr(evn42.fn, evn41.fn, \"evn42_vs_evn41_fc\", \"/projects/ps-yeolab/genomes/hg19/hg19.chrom.sizes\" )\n"
   ]
  },
  {
   "cell_type": "code",
   "execution_count": 25,
   "metadata": {
    "collapsed": false
   },
   "outputs": [
    {
     "name": "stdout",
     "output_type": "stream",
     "text": [
      "null device \r\n",
      "          1 \r\n"
     ]
    }
   ],
   "source": [
    "!Rscript /home/yeo-lab/software/idrCode/batch-consistency-plot.r 1 evn12_vs_evn_13_fc evn12_vs_evn_13_fc\n",
    "!ps2pdf evn12_vs_evn_13_fc-plot.ps /home/gpratt/Dropbox/encode_integration/for_eric/idr/evn12_vs_evn_13_fc-plot.pdf"
   ]
  },
  {
   "cell_type": "code",
   "execution_count": 26,
   "metadata": {
    "collapsed": false
   },
   "outputs": [
    {
     "name": "stdout",
     "output_type": "stream",
     "text": [
      "null device \r\n",
      "          1 \r\n"
     ]
    }
   ],
   "source": [
    "!Rscript /home/yeo-lab/software/idrCode/batch-consistency-plot.r 2 evn42_vs_comparison_fc evn42_vs_evn43_fc evn42_vs_evn41_fc\n",
    "!ps2pdf evn42_vs_comparison_fc-plot.ps /home/gpratt/Dropbox/encode_integration/for_eric/idr/evn42_vs_comparison_fc-plot.pdf"
   ]
  },
  {
   "cell_type": "code",
   "execution_count": null,
   "metadata": {
    "collapsed": true
   },
   "outputs": [],
   "source": []
  }
 ],
 "metadata": {
  "kernelspec": {
   "display_name": "Python 2",
   "language": "python",
   "name": "python2"
  },
  "language_info": {
   "codemirror_mode": {
    "name": "ipython",
    "version": 2
   },
   "file_extension": ".py",
   "mimetype": "text/x-python",
   "name": "python",
   "nbconvert_exporter": "python",
   "pygments_lexer": "ipython2",
   "version": "2.7.12"
  }
 },
 "nbformat": 4,
 "nbformat_minor": 0
}
