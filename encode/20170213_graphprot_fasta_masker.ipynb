{
 "cells": [
  {
   "cell_type": "code",
   "execution_count": 14,
   "metadata": {
    "collapsed": true
   },
   "outputs": [],
   "source": [
    "import glob\n",
    "import os\n",
    "from Bio import SeqIO"
   ]
  },
  {
   "cell_type": "code",
   "execution_count": 1,
   "metadata": {
    "collapsed": true
   },
   "outputs": [],
   "source": [
    "import pybedtools"
   ]
  },
  {
   "cell_type": "code",
   "execution_count": 47,
   "metadata": {
    "collapsed": true
   },
   "outputs": [],
   "source": [
    "def format_for_graph_prot(in_bed, out_fasta):\n",
    "    foo = pybedtools.BedTool(in_bed)\n",
    "    foo = foo.slop(b=150, g=\"/projects/ps-yeolab/genomes/hg19/hg19.chrom.sizes\")\n",
    "    fo = foo.sequence(fi=\"/projects/ps-yeolab/genomes/hg19/chromosomes/all.fa\", s=True, fo=\"/home/gpratt/scratch/ad-hoc/tmp.fa\")\n",
    "    \n",
    "    sequences = []\n",
    "    for seq in SeqIO.parse(\"/home/gpratt/scratch/ad-hoc/tmp.fa\", \"fasta\"):\n",
    "        seq.seq = seq.seq[:150].lower() + seq.seq[150:-150].upper() + seq.seq[-150:].lower()\n",
    "        sequences.append(seq)\n",
    "\n",
    "    SeqIO.write(sequences, out_fasta, \"fasta\")"
   ]
  },
  {
   "cell_type": "code",
   "execution_count": 48,
   "metadata": {
    "collapsed": false
   },
   "outputs": [],
   "source": [
    "format_for_graph_prot(\"/home/gpratt/scratch/ad-hoc/204_01.basedon_204_01.peaks.l2inputnormnew.bed.compressed.bed.annotatedl2fc_3_pval_3.clipper.bed.clip_formatted.bed.all.real.BED\",\n",
    "                     \"/home/gpratt/scratch/ad-hoc/real_tmp.fa\")"
   ]
  },
  {
   "cell_type": "code",
   "execution_count": 49,
   "metadata": {
    "collapsed": false
   },
   "outputs": [],
   "source": [
    "format_for_graph_prot(\"/home/gpratt/scratch/ad-hoc/204_01.basedon_204_01.peaks.l2inputnormnew.bed.compressed.bed.annotatedl2fc_3_pval_3.clipper.bed.clip_formatted.bed.all.rand.0.BED\",\n",
    "                     \"/home/gpratt/scratch/ad-hoc/rand_tmp.fa\")"
   ]
  },
  {
   "cell_type": "code",
   "execution_count": null,
   "metadata": {
    "collapsed": false
   },
   "outputs": [],
   "source": [
    " GraphProt.pl -action train -fasta real_tmp.fa -negfasta rand_tmp.fa -prefix 204_01"
   ]
  },
  {
   "cell_type": "code",
   "execution_count": 40,
   "metadata": {
    "collapsed": false
   },
   "outputs": [
    {
     "data": {
      "text/plain": [
       "6509"
      ]
     },
     "execution_count": 40,
     "metadata": {},
     "output_type": "execute_result"
    }
   ],
   "source": [
    "GraphProt.pl -action motif -fasta real_tmp.fa -model GraphProt.model -prefix 204_01_v2"
   ]
  },
  {
   "cell_type": "code",
   "execution_count": 23,
   "metadata": {
    "collapsed": false
   },
   "outputs": [],
   "source": []
  },
  {
   "cell_type": "code",
   "execution_count": 33,
   "metadata": {
    "collapsed": false
   },
   "outputs": [
    {
     "data": {
      "text/plain": [
       "368"
      ]
     },
     "execution_count": 33,
     "metadata": {},
     "output_type": "execute_result"
    }
   ],
   "source": [
    "len(seq)"
   ]
  },
  {
   "cell_type": "code",
   "execution_count": 30,
   "metadata": {
    "collapsed": false
   },
   "outputs": [],
   "source": []
  },
  {
   "cell_type": "code",
   "execution_count": 34,
   "metadata": {
    "collapsed": false
   },
   "outputs": [],
   "source": [
    " = foo"
   ]
  },
  {
   "cell_type": "code",
   "execution_count": 37,
   "metadata": {
    "collapsed": false
   },
   "outputs": [
    {
     "name": "stderr",
     "output_type": "stream",
     "text": [
      "/home/gpratt/anaconda/lib/python2.7/site-packages/Bio/Seq.py:342: BiopythonDeprecationWarning: This method is obsolete; please use str(my_seq) instead of my_seq.tostring().\n",
      "  BiopythonDeprecationWarning)\n"
     ]
    },
    {
     "data": {
      "text/plain": [
       "'catgcttggttacagccttaagaactttagggttttcactcaactttttgtggtatgcatggggagtgagtcatagttctttctatagtttttgcttggagtaggacatttattttctaagttttcaatttgcatgtttcctgatccataGGCTATAGGGGTGGCTGTGGGGAGGGAGGGTGCTTTTCTTATCTGCACCTACTAATGTTGGCAGGTTGctagatcttttagcttcaaatctggaatatatgaaataaaagaaaattctgggaattcactaccttcttgttccttatatttagaagtctctgtgaggtctacattcttctctttacttttcagggactattttcttccctattcttttc'"
      ]
     },
     "execution_count": 37,
     "metadata": {},
     "output_type": "execute_result"
    }
   ],
   "source": [
    "seq.seq.tostring()"
   ]
  },
  {
   "cell_type": "code",
   "execution_count": null,
   "metadata": {
    "collapsed": true
   },
   "outputs": [],
   "source": []
  }
 ],
 "metadata": {
  "kernelspec": {
   "display_name": "Python 2",
   "language": "python",
   "name": "python2"
  },
  "language_info": {
   "codemirror_mode": {
    "name": "ipython",
    "version": 2
   },
   "file_extension": ".py",
   "mimetype": "text/x-python",
   "name": "python",
   "nbconvert_exporter": "python",
   "pygments_lexer": "ipython2",
   "version": "2.7.12"
  }
 },
 "nbformat": 4,
 "nbformat_minor": 0
}
