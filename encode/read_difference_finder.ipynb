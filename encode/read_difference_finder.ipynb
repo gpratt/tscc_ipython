{
 "cells": [
  {
   "cell_type": "code",
   "execution_count": null,
   "metadata": {
    "collapsed": true
   },
   "outputs": [],
   "source": [
    "/home/gpratt/projects/idr/analysis/downsample_unshuffled_v2/206-01_S8_R1.C01_206_01_HNRNPK.adapterTrim.round2.rmRep.sorted.bam /home/gpratt/projects/idr/analysis/downsample_unshuffled_v2/206-01_S8_R1.D08fixed_206_01_HNRNPK.adapterTrim.round2.rmRep.sorted.bam\n",
    "these two files (combined) are rep01 of 206\n",
    "/home/gpratt/projects/idr/analysis/downsample_unshuffled_v2/206-01_S8_R1.C01_206_01_HNRNPK.adapterTrim.round2.rmRep.rmRep.sorted.bam /home/gpratt/projects/idr/analysis/downsample_unshuffled_v2/206-01_S8_R1.D08fixed_206_01_HNRNPK.adapterTrim.round2.rmRep.rmRep.sorted.bam\n"
   ]
  }
 ],
 "metadata": {
  "kernelspec": {
   "display_name": "Python 2",
   "language": "python",
   "name": "python2"
  },
  "language_info": {
   "codemirror_mode": {
    "name": "ipython",
    "version": 2
   },
   "file_extension": ".py",
   "mimetype": "text/x-python",
   "name": "python",
   "nbconvert_exporter": "python",
   "pygments_lexer": "ipython2",
   "version": "2.7.12"
  }
 },
 "nbformat": 4,
 "nbformat_minor": 0
}
