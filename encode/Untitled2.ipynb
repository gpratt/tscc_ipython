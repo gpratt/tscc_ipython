{
 "cells": [
  {
   "cell_type": "code",
   "execution_count": 6,
   "metadata": {
    "collapsed": true
   },
   "outputs": [],
   "source": [
    "from clipper.src import CLIP_analysis\n",
    "from clipper.src import get_genomic_regions"
   ]
  },
  {
   "cell_type": "code",
   "execution_count": 12,
   "metadata": {
    "collapsed": false
   },
   "outputs": [],
   "source": [
    "counts = CLIP_analysis.get_bam_counts(\"/home/gpratt/projects/encode/analysis/encode_v8/10_GM12878_CLIP_1_Infminus_AND_12_GM12878_CLIP_1_Infplus_ATTCAGAA-ATAGAGGC_R1.G07_10_GM12878_CLIP_1_Infminus_R60.adapterTrim.round2.rmRep.rmDup.sorted.r2.bam\")"
   ]
  },
  {
   "cell_type": "code",
   "execution_count": 10,
   "metadata": {
    "collapsed": false
   },
   "outputs": [],
   "source": [
    "genomic_features = get_genomic_regions.GenomicFeatures(\"hg19\")\n",
    "genomic_regions = genomic_features.get_genomic_regions()"
   ]
  },
  {
   "cell_type": "code",
   "execution_count": 11,
   "metadata": {
    "collapsed": false
   },
   "outputs": [
    {
     "data": {
      "text/plain": [
       "{'cds': <BedTool(/home/gpratt/anaconda/lib/python2.7/site-packages/clipper-0.2.0-py2.7-linux-x86_64.egg/clipper/data/regions/hg19_cds.bed)>,\n",
       " 'distintron': <BedTool(/home/gpratt/anaconda/lib/python2.7/site-packages/clipper-0.2.0-py2.7-linux-x86_64.egg/clipper/data/regions/hg19_distintron500.bed)>,\n",
       " 'exons': <BedTool(/home/gpratt/anaconda/lib/python2.7/site-packages/clipper-0.2.0-py2.7-linux-x86_64.egg/clipper/data/regions/hg19_exons.bed)>,\n",
       " 'five_prime_utrs': <BedTool(/home/gpratt/anaconda/lib/python2.7/site-packages/clipper-0.2.0-py2.7-linux-x86_64.egg/clipper/data/regions/hg19_five_prime_utrs.bed)>,\n",
       " 'genes': <BedTool(/home/gpratt/anaconda/lib/python2.7/site-packages/clipper-0.2.0-py2.7-linux-x86_64.egg/clipper/data/regions/hg19_genes.bed)>,\n",
       " 'introns': <BedTool(/home/gpratt/anaconda/lib/python2.7/site-packages/clipper-0.2.0-py2.7-linux-x86_64.egg/clipper/data/regions/hg19_introns.bed)>,\n",
       " 'proxintron': <BedTool(/home/gpratt/anaconda/lib/python2.7/site-packages/clipper-0.2.0-py2.7-linux-x86_64.egg/clipper/data/regions/hg19_proxintron500.bed)>,\n",
       " 'three_prime_utrs': <BedTool(/home/gpratt/anaconda/lib/python2.7/site-packages/clipper-0.2.0-py2.7-linux-x86_64.egg/clipper/data/regions/hg19_three_prime_utrs.bed)>}"
      ]
     },
     "execution_count": 11,
     "metadata": {},
     "output_type": "execute_result"
    }
   ],
   "source": [
    "genomic_regions"
   ]
  },
  {
   "cell_type": "code",
   "execution_count": 7,
   "metadata": {
    "collapsed": false
   },
   "outputs": [
    {
     "ename": "AttributeError",
     "evalue": "'module' object has no attribute 'genomic_features'",
     "output_type": "error",
     "traceback": [
      "\u001b[1;31m---------------------------------------------------------------------------\u001b[0m",
      "\u001b[1;31mAttributeError\u001b[0m                            Traceback (most recent call last)",
      "\u001b[1;32m<ipython-input-7-45618d4ddcc7>\u001b[0m in \u001b[0;36m<module>\u001b[1;34m()\u001b[0m\n\u001b[1;32m----> 1\u001b[1;33m \u001b[0mgenomic_regions\u001b[0m \u001b[1;33m=\u001b[0m \u001b[0mget_genomic_regions\u001b[0m\u001b[1;33m.\u001b[0m\u001b[0mgenomic_features\u001b[0m\u001b[1;33m.\u001b[0m\u001b[0mget_genomic_regions\u001b[0m\u001b[1;33m(\u001b[0m\u001b[1;33m)\u001b[0m\u001b[1;33m\u001b[0m\u001b[0m\n\u001b[0m",
      "\u001b[1;31mAttributeError\u001b[0m: 'module' object has no attribute 'genomic_features'"
     ]
    }
   ],
   "source": [
    "genomic_regions = get_genomic_regions.genomic_features.get_genomic_regions()\n"
   ]
  },
  {
   "cell_type": "code",
   "execution_count": 15,
   "metadata": {
    "collapsed": false
   },
   "outputs": [
    {
     "data": {
      "text/plain": [
       "{'cds': <BedTool(/home/gpratt/anaconda/lib/python2.7/site-packages/clipper-0.2.0-py2.7-linux-x86_64.egg/clipper/data/regions/hg19_cds.bed)>,\n",
       " 'distintron': <BedTool(/home/gpratt/anaconda/lib/python2.7/site-packages/clipper-0.2.0-py2.7-linux-x86_64.egg/clipper/data/regions/hg19_distintron500.bed)>,\n",
       " 'exons': <BedTool(/home/gpratt/anaconda/lib/python2.7/site-packages/clipper-0.2.0-py2.7-linux-x86_64.egg/clipper/data/regions/hg19_exons.bed)>,\n",
       " 'five_prime_utrs': <BedTool(/home/gpratt/anaconda/lib/python2.7/site-packages/clipper-0.2.0-py2.7-linux-x86_64.egg/clipper/data/regions/hg19_five_prime_utrs.bed)>,\n",
       " 'genes': <BedTool(/home/gpratt/anaconda/lib/python2.7/site-packages/clipper-0.2.0-py2.7-linux-x86_64.egg/clipper/data/regions/hg19_genes.bed)>,\n",
       " 'introns': <BedTool(/home/gpratt/anaconda/lib/python2.7/site-packages/clipper-0.2.0-py2.7-linux-x86_64.egg/clipper/data/regions/hg19_introns.bed)>,\n",
       " 'proxintron': <BedTool(/home/gpratt/anaconda/lib/python2.7/site-packages/clipper-0.2.0-py2.7-linux-x86_64.egg/clipper/data/regions/hg19_proxintron500.bed)>,\n",
       " 'three_prime_utrs': <BedTool(/home/gpratt/anaconda/lib/python2.7/site-packages/clipper-0.2.0-py2.7-linux-x86_64.egg/clipper/data/regions/hg19_three_prime_utrs.bed)>}"
      ]
     },
     "execution_count": 15,
     "metadata": {},
     "output_type": "execute_result"
    }
   ],
   "source": [
    "genomic_regions"
   ]
  },
  {
   "cell_type": "code",
   "execution_count": 14,
   "metadata": {
    "collapsed": false
   },
   "outputs": [
    {
     "ename": "IndexError",
     "evalue": "Cannot subset to zero-length interval.",
     "output_type": "error",
     "traceback": [
      "\u001b[1;31m---------------------------------------------------------------------------\u001b[0m",
      "\u001b[1;31mIndexError\u001b[0m                                Traceback (most recent call last)",
      "\u001b[1;32m<ipython-input-14-7be99199df74>\u001b[0m in \u001b[0;36m<module>\u001b[1;34m()\u001b[0m\n\u001b[1;32m----> 1\u001b[1;33m \u001b[0mregion_read_counts\u001b[0m \u001b[1;33m=\u001b[0m \u001b[0mCLIP_analysis\u001b[0m\u001b[1;33m.\u001b[0m\u001b[0mcount_total_reads\u001b[0m\u001b[1;33m(\u001b[0m\u001b[0mgenomic_regions\u001b[0m\u001b[1;33m,\u001b[0m \u001b[0mcounts\u001b[0m\u001b[1;33m)\u001b[0m\u001b[1;33m\u001b[0m\u001b[0m\n\u001b[0m",
      "\u001b[1;32m/home/gpratt/anaconda/lib/python2.7/site-packages/clipper-0.2.0-py2.7-linux-x86_64.egg/clipper/src/CLIP_analysis.pyc\u001b[0m in \u001b[0;36mcount_total_reads\u001b[1;34m(genomic_regions, counts)\u001b[0m\n\u001b[0;32m    799\u001b[0m     \u001b[1;32mfor\u001b[0m \u001b[0mregion_name\u001b[0m\u001b[1;33m,\u001b[0m \u001b[0mcur_region\u001b[0m \u001b[1;32min\u001b[0m \u001b[0mgenomic_regions\u001b[0m\u001b[1;33m.\u001b[0m\u001b[0mitems\u001b[0m\u001b[1;33m(\u001b[0m\u001b[1;33m)\u001b[0m\u001b[1;33m:\u001b[0m\u001b[1;33m\u001b[0m\u001b[0m\n\u001b[0;32m    800\u001b[0m         \u001b[1;32mfor\u001b[0m \u001b[0minterval\u001b[0m \u001b[1;32min\u001b[0m \u001b[0mbed_to_genomic_interval\u001b[0m\u001b[1;33m(\u001b[0m\u001b[0mcur_region\u001b[0m\u001b[1;33m)\u001b[0m\u001b[1;33m:\u001b[0m\u001b[1;33m\u001b[0m\u001b[0m\n\u001b[1;32m--> 801\u001b[1;33m             \u001b[0mgas\u001b[0m\u001b[1;33m[\u001b[0m\u001b[0minterval\u001b[0m\u001b[1;33m]\u001b[0m \u001b[1;33m+=\u001b[0m \u001b[0mregion_name\u001b[0m\u001b[1;33m\u001b[0m\u001b[0m\n\u001b[0m\u001b[0;32m    802\u001b[0m \u001b[1;33m\u001b[0m\u001b[0m\n\u001b[0;32m    803\u001b[0m     \u001b[0mtotal_counts\u001b[0m \u001b[1;33m=\u001b[0m \u001b[0mdefaultdict\u001b[0m\u001b[1;33m(\u001b[0m\u001b[0mint\u001b[0m\u001b[1;33m)\u001b[0m\u001b[1;33m\u001b[0m\u001b[0m\n",
      "\u001b[1;32m_HTSeq.pyx\u001b[0m in \u001b[0;36mHTSeq._HTSeq.GenomicArray.__getitem__ (src/_HTSeq.c:10761)\u001b[1;34m()\u001b[0m\n",
      "\u001b[1;32m_HTSeq.pyx\u001b[0m in \u001b[0;36mHTSeq._HTSeq.ChromVector.__getitem__ (src/_HTSeq.c:7809)\u001b[1;34m()\u001b[0m\n",
      "\u001b[1;32m_HTSeq.pyx\u001b[0m in \u001b[0;36mHTSeq._HTSeq.ChromVector._create_view (src/_HTSeq.c:7382)\u001b[1;34m()\u001b[0m\n",
      "\u001b[1;31mIndexError\u001b[0m: Cannot subset to zero-length interval."
     ]
    }
   ],
   "source": [
    "region_read_counts = CLIP_analysis.count_total_reads(genomic_regions, counts)\n"
   ]
  },
  {
   "cell_type": "code",
   "execution_count": 16,
   "metadata": {
    "collapsed": true
   },
   "outputs": [],
   "source": [
    "import pysam"
   ]
  },
  {
   "cell_type": "code",
   "execution_count": 17,
   "metadata": {
    "collapsed": true
   },
   "outputs": [],
   "source": [
    "bam = pysam.AlignmentFile(\"/home/gpratt/projects/encode/analysis/encode_v8/10_GM12878_CLIP_1_Infminus_AND_12_GM12878_CLIP_1_Infplus_ATTCAGAA-ATAGAGGC_R1.G07_10_GM12878_CLIP_1_Infminus_R60.adapterTrim.round2.rmRep.rmDup.sorted.r2.bam\")"
   ]
  },
  {
   "cell_type": "code",
   "execution_count": 18,
   "metadata": {
    "collapsed": true
   },
   "outputs": [],
   "source": [
    "for read in bam:\n",
    "    break"
   ]
  },
  {
   "cell_type": "code",
   "execution_count": 20,
   "metadata": {
    "collapsed": false
   },
   "outputs": [
    {
     "name": "stdout",
     "output_type": "stream",
     "text": [
      "AATCT:HWI-D00611:103:C6FLTANXX:5:1107:5274:12592\t147\t0\t564875\t255\t38M\t0\t564867\t38\tTGGCTAGGACTATGAGAATCGAACCCATCCCTGAGAAT\tarray('B', [37, 37, 37, 37, 37, 37, 37, 37, 37, 37, 37, 37, 37, 37, 37, 37, 37, 37, 37, 37, 37, 37, 37, 37, 37, 37, 37, 37, 37, 37, 37, 37, 37, 37, 37, 37, 37, 37])\t[('NH', 1), ('HI', 1), ('AS', 57), ('nM', 7), ('NM', 2), ('MD', '1T0T35'), ('jM', [-1]), ('jI', [-1]), ('RG', 'foo')]\n"
     ]
    }
   ],
   "source": [
    "print read"
   ]
  },
  {
   "cell_type": "code",
   "execution_count": 21,
   "metadata": {
    "collapsed": false
   },
   "outputs": [
    {
     "ename": "TypeError",
     "evalue": "object of type 'pysam.calignmentfile.AlignedSegment' has no len()",
     "output_type": "error",
     "traceback": [
      "\u001b[1;31m---------------------------------------------------------------------------\u001b[0m",
      "\u001b[1;31mTypeError\u001b[0m                                 Traceback (most recent call last)",
      "\u001b[1;32m<ipython-input-21-fc3d48e87ba9>\u001b[0m in \u001b[0;36m<module>\u001b[1;34m()\u001b[0m\n\u001b[1;32m----> 1\u001b[1;33m \u001b[0mlen\u001b[0m\u001b[1;33m(\u001b[0m\u001b[0mread\u001b[0m\u001b[1;33m)\u001b[0m\u001b[1;33m\u001b[0m\u001b[0m\n\u001b[0m",
      "\u001b[1;31mTypeError\u001b[0m: object of type 'pysam.calignmentfile.AlignedSegment' has no len()"
     ]
    }
   ],
   "source": [
    "len(read)"
   ]
  },
  {
   "cell_type": "code",
   "execution_count": 22,
   "metadata": {
    "collapsed": false
   },
   "outputs": [
    {
     "data": {
      "text/plain": [
       "38"
      ]
     },
     "execution_count": 22,
     "metadata": {},
     "output_type": "execute_result"
    }
   ],
   "source": [
    "read.qlen"
   ]
  },
  {
   "cell_type": "code",
   "execution_count": 23,
   "metadata": {
    "collapsed": false
   },
   "outputs": [
    {
     "data": {
      "text/plain": [
       "38"
      ]
     },
     "execution_count": 23,
     "metadata": {},
     "output_type": "execute_result"
    }
   ],
   "source": [
    "len(\"TGGCTAGGACTATGAGAATCGAACCCATCCCTGAGAAT\")"
   ]
  },
  {
   "cell_type": "code",
   "execution_count": null,
   "metadata": {
    "collapsed": true
   },
   "outputs": [],
   "source": []
  }
 ],
 "metadata": {
  "kernelspec": {
   "display_name": "Python 2",
   "language": "python",
   "name": "python2"
  }
 },
 "nbformat": 4,
 "nbformat_minor": 0
}
