{
 "cells": [
  {
   "cell_type": "code",
   "execution_count": 1,
   "metadata": {
    "collapsed": true
   },
   "outputs": [],
   "source": [
    "import pybedtools"
   ]
  },
  {
   "cell_type": "code",
   "execution_count": 2,
   "metadata": {
    "collapsed": true
   },
   "outputs": [],
   "source": []
  },
  {
   "cell_type": "code",
   "execution_count": 4,
   "metadata": {
    "collapsed": true
   },
   "outputs": [],
   "source": [
    "def filter_data(interval):\n",
    "    #col4 is -log10 p-val\n",
    "    #col5 is -log2 fold enrichment\n",
    "\n",
    "    #This is the standard one \n",
    "    return (float(interval[4]) >= 3) and (float(interval[3]) >= 5)\n",
    "\n",
    "    #return (float(interval[4]) >= 1) and (float(interval[3]) >= 0)"
   ]
  },
  {
   "cell_type": "code",
   "execution_count": 16,
   "metadata": {
    "collapsed": false
   },
   "outputs": [],
   "source": [
    "bedtool = pybedtools.BedTool(\"/home/elvannostrand/data/clip/CLIPseq_analysis/ALLCLIP_v12_20160112/204_01.basedon_204_01.peaks.l2inputnormnew.bed.compressed.bed.annotated\")\n",
    "bedtool = bedtool.filter(filter_data).slop(b=50, g=\"/projects/ps-yeolab/genomes/hg19/hg19.chrom.sizes\").saveas(\"\")\n",
    "fastq_file = bedtool.sequence(fo=\"foo.fasta\", fullHeader=True, s=True, fi=\"/projects/ps-yeolab/genomes/hg19/chromosomes/hg19.fa\")"
   ]
  },
  {
   "cell_type": "code",
   "execution_count": 24,
   "metadata": {
    "collapsed": false
   },
   "outputs": [],
   "source": []
  },
  {
   "cell_type": "markdown",
   "metadata": {},
   "source": [
    "# Compute background model"
   ]
  },
  {
   "cell_type": "code",
   "execution_count": 25,
   "metadata": {
    "collapsed": false
   },
   "outputs": [
    {
     "name": "stderr",
     "output_type": "stream",
     "text": [
      "WARNING. chromosome (chrM) was not found in the FASTA file. Skipping.\n",
      "WARNING. chromosome (chrM) was not found in the FASTA file. Skipping.\n",
      "WARNING. chromosome (chrM) was not found in the FASTA file. Skipping.\n",
      "WARNING. chromosome (chrM) was not found in the FASTA file. Skipping.\n",
      "WARNING. chromosome (chrM) was not found in the FASTA file. Skipping.\n",
      "WARNING. chromosome (chrM) was not found in the FASTA file. Skipping.\n",
      "WARNING. chromosome (chrM) was not found in the FASTA file. Skipping.\n",
      "WARNING. chromosome (chrM) was not found in the FASTA file. Skipping.\n",
      "WARNING. chromosome (chrM) was not found in the FASTA file. Skipping.\n",
      "WARNING. chromosome (chrM) was not found in the FASTA file. Skipping.\n",
      "WARNING. chromosome (chrM) was not found in the FASTA file. Skipping.\n",
      "WARNING. chromosome (chrM) was not found in the FASTA file. Skipping.\n",
      "WARNING. chromosome (chrM) was not found in the FASTA file. Skipping.\n",
      "WARNING. chromosome (chrM) was not found in the FASTA file. Skipping.\n",
      "WARNING. chromosome (chrM) was not found in the FASTA file. Skipping.\n",
      "WARNING. chromosome (chrM) was not found in the FASTA file. Skipping.\n",
      "WARNING. chromosome (chrM) was not found in the FASTA file. Skipping.\n",
      "WARNING. chromosome (chrM) was not found in the FASTA file. Skipping.\n",
      "WARNING. chromosome (chrM) was not found in the FASTA file. Skipping.\n",
      "WARNING. chromosome (chrM) was not found in the FASTA file. Skipping.\n",
      "WARNING. chromosome (chrM) was not found in the FASTA file. Skipping.\n",
      "WARNING. chromosome (chrM) was not found in the FASTA file. Skipping.\n",
      "WARNING. chromosome (chrM) was not found in the FASTA file. Skipping.\n",
      "WARNING. chromosome (chrM) was not found in the FASTA file. Skipping.\n",
      "WARNING. chromosome (chrM) was not found in the FASTA file. Skipping.\n",
      "WARNING. chromosome (chrM) was not found in the FASTA file. Skipping.\n",
      "WARNING. chromosome (chrM) was not found in the FASTA file. Skipping.\n",
      "WARNING. chromosome (chrM) was not found in the FASTA file. Skipping.\n",
      "WARNING. chromosome (chrM) was not found in the FASTA file. Skipping.\n",
      "WARNING. chromosome (chrM) was not found in the FASTA file. Skipping.\n",
      "WARNING. chromosome (chrM) was not found in the FASTA file. Skipping.\n",
      "WARNING. chromosome (chrM) was not found in the FASTA file. Skipping.\n",
      "WARNING. chromosome (chrM) was not found in the FASTA file. Skipping.\n",
      "WARNING. chromosome (chrM) was not found in the FASTA file. Skipping.\n",
      "WARNING. chromosome (chrM) was not found in the FASTA file. Skipping.\n",
      "WARNING. chromosome (chrM) was not found in the FASTA file. Skipping.\n",
      "WARNING. chromosome (chrM) was not found in the FASTA file. Skipping.\n"
     ]
    }
   ],
   "source": [
    "bedtool = pybedtools.BedTool(\"/home/gpratt/clipper/clipper/data/regions/hg19_genes.bed\")\n",
    "fastq_file = bedtool.sequence(fo=\"genes.fasta\", s=True, fi=\"/projects/ps-yeolab/genomes/hg19/chromosomes/hg19.fa\")"
   ]
  },
  {
   "cell_type": "code",
   "execution_count": null,
   "metadata": {
    "collapsed": true
   },
   "outputs": [],
   "source": []
  }
 ],
 "metadata": {
  "kernelspec": {
   "display_name": "Python 2",
   "language": "python",
   "name": "python2"
  },
  "language_info": {
   "codemirror_mode": {
    "name": "ipython",
    "version": 2
   },
   "file_extension": ".py",
   "mimetype": "text/x-python",
   "name": "python",
   "nbconvert_exporter": "python",
   "pygments_lexer": "ipython2",
   "version": "2.7.11"
  }
 },
 "nbformat": 4,
 "nbformat_minor": 0
}
