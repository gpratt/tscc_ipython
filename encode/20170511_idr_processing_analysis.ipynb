{
 "cells": [
  {
   "cell_type": "markdown",
   "metadata": {},
   "source": [
    "print SH \"perl /home/elvannostrand/data/clip/CLIPseq_analysis/scripts/PIPELINE_EricVersion/run_and_parse_IDR.pl $entropyfi_rep1 $entropyfi_rep2 $IDRoutfi\\n\";\n",
    "my $entropyfi_rep1 = $output_full_rep1.\".compressed2.bed.full.annotated_proxdist.entropy\";\n",
    "my $entropyfi_rep2 = $output_full_rep2.\".compressed2.bed.full.annotated_proxdist.entropy\";\n",
    "my $IDRoutfi = $idr_output_folder.$uid.\".01v02.IDR.out\";\n",
    "um\n",
    "ok that’s just the idr\n",
    "then\n",
    "perl /home/elvannostrand/data/clip/CLIPseq_analysis/scripts/PIPELINE_EricVersion/make_informationcontent_from_peaks.pl $idr_parsed_output_rep1full_annotated $mapped_num{$clip_fi1_short} $mapped_num{$input_fi_short}\n",
    "perl /home/elvannostrand/data/clip/CLIPseq_analysis/scripts/PIPELINE_EricVersion/merge_idr_entropy.pl $merged_rep1_entropy $merged_rep2_entropy $uid\n",
    "wait no i lost something in there\n",
    "screw it\n",
    "/home/elvannostrand/data/clip/CLIPseq_analysis/scripts/PIPELINE_EricVersion/compare_vs_input_peakbased_wrapper2_OneOrTwoRepVersion_PEbamfileversion_submit.pl is the pipeline\n"
   ]
  },
  {
   "cell_type": "markdown",
   "metadata": {
    "collapsed": true
   },
   "source": [
    "Use of uninitialized value $output_prefix in concatenation (.) or string at /home/elvannostrand/data/clip/CLIPseq_analysis/scripts/PIPELINE_EricVersion/get_reproducing_peaks.pl line 23.\n"
   ]
  },
  {
   "cell_type": "markdown",
   "metadata": {
    "collapsed": true
   },
   "source": [
    "perl /home/elvannostrand/data/clip/CLIPseq_analysis/scripts/PIPELINE_EricVersion/get_reproducing_peaks.pl \n",
    "/home/gpratt/projects/idr/analysis/eric_idr_test/IDR/209.01v02.IDR.out \n",
    "/home/gpratt/projects/idr/analysis/eric_idr_test/209_01.basedon_209_01.peaks.l2inputnormnew.bed.full.compressed2.bed.full.annotated_proxdist.entropy\n",
    "/home/gpratt/projects/idr/analysis/eric_idr_test/209_02.basedon_209_02.peaks.l2inputnormnew.bed.full.compressed2.bed.full.annotated_proxdist.entropy \n",
    "/projects/ps-yeolab3/encode/analysis/encode_master/209_01_SRSF7.merged.r2.bam \n",
    "/projects/ps-yeolab3/encode/analysis/encode_master/209_02_SRSF7.merged.r2.bam\n",
    "/projects/ps-yeolab3/encode/analysis/encode_master/Sample-209-input_S12_R1.unassigned.adapterTrim.round2.rmRep.rmDup.sorted.r2.bam \n",
    "ALLDATASETS_submittedonly.txt.mapped_read_num \n",
    "/home/gpratt/projects/idr/analysis/eric_idr_test/IDR/209.01v02.IDR.out.0102merged\n"
   ]
  },
  {
   "cell_type": "markdown",
   "metadata": {
    "collapsed": true
   },
   "source": [
    "perl /home/elvannostrand/data/clip/CLIPseq_analysis/scripts/PIPELINE_EricVersion/compare_vs_input_peakbased_wrapper2_OneOrTwoRepVersion_PEbamfileversion_submit.pl all_idr_datasets.txt /home/gpratt/projects/idr/analysis/eric_style_idr hg19"
   ]
  },
  {
   "cell_type": "code",
   "execution_count": 1,
   "metadata": {
    "collapsed": false
   },
   "outputs": [],
   "source": [
    "%matplotlib inline\n",
    "\n",
    "import glob\n",
    "import os\n",
    "import json\n",
    "\n",
    "import gspread\n",
    "from IPython.core.display import HTML\n",
    "import numpy as np\n",
    "from oauth2client.client import SignedJwtAssertionCredentials\n",
    "import pandas as pd\n",
    "import pybedtools\n",
    "import seaborn as sns\n",
    "import json\n",
    "import sklearn\n",
    "\n",
    "from gscripts.general import region_helpers\n",
    "from gscripts.general import dataviz\n",
    "import matplotlib as mpl\n",
    "import datetime\n",
    "img_dir =\"/home/gpratt/Dropbox/encode_integration/for_eric/idr_qc/\"\n",
    "\n",
    "from gscripts.encode import encode_helpers\n",
    "\n",
    "from tqdm import tqdm, tqdm_notebook\n",
    "tqdm.pandas(\"Progress: \")\n",
    "\n",
    "RESET = False"
   ]
  },
  {
   "cell_type": "code",
   "execution_count": 2,
   "metadata": {
    "collapsed": false
   },
   "outputs": [],
   "source": [
    "legend = None\n",
    "\n",
    "OUTSIDE_LEGEND_SAVEFIG_KWS = dict(bbox_extra_artists=(legend,),\n",
    "                                  bbox_inches='tight')\n",
    "from matplotlib import rc\n",
    "\n",
    "mpl.rcParams['svg.fonttype'] = 'none'\n",
    "\n",
    "rc('text', usetex=False)\n",
    "rc('font',**{'family':'sans-serif','sans-serif':['Helvetica']})"
   ]
  },
  {
   "cell_type": "markdown",
   "metadata": {},
   "source": [
    "# Get all datasets we will use in the final paper"
   ]
  },
  {
   "cell_type": "code",
   "execution_count": 3,
   "metadata": {
    "collapsed": false
   },
   "outputs": [],
   "source": [
    "input_norm_dir = \"/projects/ps-yeolab3/encode/analysis/Eric_Input_Norm/\"\n",
    "split_dir = \"/home/gpratt/projects/idr/analysis/idr_v2/\"\n",
    "idr_dir = \"/home/gpratt/projects/idr/analysis/idr_v3/\"\n",
    "out_dir = \"/home/gpratt/projects/encode/analysis/peak_reanalysis_v14/\"\n",
    "frip_out_dir = \"/home/gpratt/projects/encode/analysis/frip_calculations/\"\n",
    "downsample_path = \"/home/gpratt/projects/idr/analysis/downsample_v2/\""
   ]
  },
  {
   "cell_type": "code",
   "execution_count": 4,
   "metadata": {
    "collapsed": false
   },
   "outputs": [],
   "source": [
    "merged_data = encode_helpers.get_merged_data()\n",
    "\n",
    "#Filter out anything sequenced after 16/7/18\n",
    "merged_data = merged_data[merged_data['Submitted Date'] < datetime.date(2016, 7, 18)]\n",
    "#Filter out anything not_qced\n",
    "merged_data = merged_data[merged_data.is_qced]\n",
    "#Filter out any data we are planning on submitting, but haven't yet submitted\n",
    "merged_data = merged_data[merged_data.annotation != \"Submit\"]"
   ]
  },
  {
   "cell_type": "code",
   "execution_count": 5,
   "metadata": {
    "collapsed": true
   },
   "outputs": [],
   "source": [
    "#Construct manifest to process data\n",
    "rep_information = ['CLIP', 'input_norm']\n",
    "temp_index = list(merged_data.columns.difference(rep_information))\n",
    "idr_manifest = merged_data.set_index(temp_index, append=True)\n",
    "idr_manifest = idr_manifest.unstack(level=\"rep\")\n",
    "idr_manifest = idr_manifest.reset_index()\n",
    "idr_manifest = idr_manifest.set_index(merged_data.index.names[:-1])\n",
    "idr_manifest['uID', \"\"] = idr_manifest.index.get_level_values(\"uID\")"
   ]
  },
  {
   "cell_type": "markdown",
   "metadata": {},
   "source": [
    "# Make basic IDR manifest\n",
    "for my old pipeline, still need this to call peaks, Erics manifest is basically a finishing script"
   ]
  },
  {
   "cell_type": "code",
   "execution_count": 6,
   "metadata": {
    "collapsed": false
   },
   "outputs": [],
   "source": [
    "basic_idr = idr_manifest.reset_index()\n",
    "basic_idr['genome'] = 'hg19'\n",
    "basic_idr = basic_idr[[ (\"CLIP\", \"rep1\"), (\"CLIP\", \"rep2\"), \n",
    "                       (\"INPUT\", \"\"), \n",
    "                       (\"genome\", \"\"),\n",
    "                       (\"uID\", \"\"),\n",
    "                      ]]\n",
    "\n",
    "half_size = len(basic_idr) / 2\n",
    "basic_idr[:half_size].to_csv(\"/home/gpratt/projects/idr/scripts/idr_v2_condo.txt\", sep=\"\\t\", index=False, header=False)\n",
    "basic_idr[half_size:].to_csv(\"/home/gpratt/projects/idr/scripts/idr_v2_yeo.txt\", sep=\"\\t\", index=False, header=False)\n",
    "basic_idr.to_csv(\"/home/gpratt/projects/idr/scripts/idr_v2.txt\", sep=\"\\t\", index=False, header=False)"
   ]
  },
  {
   "cell_type": "markdown",
   "metadata": {},
   "source": [
    "# Make Erics IDR Manifest"
   ]
  },
  {
   "cell_type": "code",
   "execution_count": 7,
   "metadata": {
    "collapsed": false
   },
   "outputs": [],
   "source": [
    "pesudo_rep = idr_manifest[['CLIP','INPUT']]\n",
    "pesudo_rep = pesudo_rep.swaplevel(\"Cell line\", 'RBP')\n",
    "pesudo_rep = pesudo_rep.reset_index()\n",
    "\n",
    "pesudo_rep_1 = pesudo_rep.copy()\n",
    "pesudo_rep_1['CLIP', 'rep1'] = pesudo_rep['CLIP', 'rep1'].apply(lambda x: os.path.join(split_dir, \".\".join(os.path.basename(x).split(\".\")[:-1])) + \".01.bam\")\n",
    "pesudo_rep_1['CLIP', 'rep2'] = pesudo_rep['CLIP', 'rep1'].apply(lambda x: os.path.join(split_dir, \".\".join(os.path.basename(x).split(\".\")[:-1])) + \".02.bam\")\n",
    "pesudo_rep_1.uID = pesudo_rep.uID + \"_rep1\"\n",
    "\n",
    "pesudo_rep_2 = pesudo_rep.copy()\n",
    "pesudo_rep_2['CLIP', 'rep1'] = pesudo_rep['CLIP', 'rep2'].apply(lambda x: os.path.join(split_dir, \".\".join(os.path.basename(x).split(\".\")[:-1])) + \".01.bam\")\n",
    "pesudo_rep_2['CLIP', 'rep2'] = pesudo_rep['CLIP', 'rep2'].apply(lambda x: os.path.join(split_dir, \".\".join(os.path.basename(x).split(\".\")[:-1])) + \".02.bam\")\n",
    "pesudo_rep_2.uID = pesudo_rep.uID + \"_rep2\"\n",
    "\n",
    "combined_rep = pesudo_rep.copy()\n",
    "combined_rep['CLIP', 'rep1'] = pesudo_rep.uID.apply(lambda x: os.path.join(split_dir, x + \".merged.01.bam\"))\n",
    "combined_rep['CLIP', 'rep2'] = pesudo_rep.uID.apply(lambda x: os.path.join(split_dir, x + \".merged.02.bam\"))\n",
    "combined_rep.uID = pesudo_rep.uID + \"_combined\"\n",
    "all_idr = pd.concat([pesudo_rep_1, pesudo_rep_2, combined_rep])\n",
    "all_idr.columns = ['uID', 'RBP', 'Cell line', 'CLIP_rep1', 'CLIP_rep2', 'INPUT']\n",
    "all_idr.to_csv(\"/home/gpratt/projects/idr/analysis/eric_style_idr/all_idr_datasets.txt\", index=False, sep=\"\\t\")"
   ]
  },
  {
   "cell_type": "markdown",
   "metadata": {},
   "source": [
    "# Calculate IDR stats"
   ]
  },
  {
   "cell_type": "code",
   "execution_count": 11,
   "metadata": {
    "collapsed": false
   },
   "outputs": [],
   "source": [
    "idr_manifest['pesudoreplicate_merged'] = idr_manifest.uID.apply(lambda x: os.path.join(idr_dir, x + \".combined.txt\"))\n",
    "idr_manifest['rep1_merged'] = idr_manifest.uID.apply(lambda x: os.path.join(idr_dir, x + \".rep1.txt\"))\n",
    "idr_manifest['rep2_merged'] = idr_manifest.uID.apply(lambda x: os.path.join(idr_dir, x + \".rep2.txt\"))\n",
    "idr_manifest['replicate_merged'] = idr_manifest.uID.apply(lambda x: os.path.join(idr_dir, x + \".txt\"))"
   ]
  },
  {
   "cell_type": "code",
   "execution_count": 13,
   "metadata": {
    "collapsed": false
   },
   "outputs": [],
   "source": [
    "idr_manifest = idr_manifest[idr_manifest.pesudoreplicate_merged.apply(os.path.exists)]\n",
    "idr_manifest = idr_manifest[idr_manifest.rep1_merged.apply(os.path.exists)]\n",
    "idr_manifest = idr_manifest[idr_manifest.rep2_merged.apply(os.path.exists)]\n",
    "idr_manifest = idr_manifest[idr_manifest.replicate_merged.apply(os.path.exists)]"
   ]
  },
  {
   "cell_type": "code",
   "execution_count": 16,
   "metadata": {
    "collapsed": false
   },
   "outputs": [],
   "source": [
    "idr_peaks_dir = \"/home/gpratt/projects/idr/analysis/eric_style_idr/IDR/\"\n",
    "actual_peaks_dir = \"/projects/ps-yeolab3/encode/analysis/Eric_IDR/\"\n",
    "idr_manifest['pesudoreplicate_merged_v2'] = idr_manifest.uID.apply(lambda x: os.path.join(idr_peaks_dir, x + \"_combined.01v02.IDR.out.0102merged.bed\"))\n",
    "idr_manifest['rep1_merged_v2'] = idr_manifest.uID.apply(lambda x: os.path.join(idr_peaks_dir, x + \"_rep1.01v02.IDR.out.0102merged.bed\"))\n",
    "idr_manifest['rep2_merged_v2'] = idr_manifest.uID.apply(lambda x: os.path.join(idr_peaks_dir, x + \"_rep2.01v02.IDR.out.0102merged.bed\"))\n",
    "idr_manifest['replicate_merged_v2'] = idr_manifest.uID.apply(lambda x: os.path.join(actual_peaks_dir, x + \".01v02.IDR.out.0102merged.bed\"))"
   ]
  },
  {
   "cell_type": "code",
   "execution_count": 18,
   "metadata": {
    "collapsed": false
   },
   "outputs": [],
   "source": [
    "idr_manifest = idr_manifest[idr_manifest.pesudoreplicate_merged_v2.apply(os.path.exists)]\n",
    "idr_manifest = idr_manifest[idr_manifest.rep1_merged_v2.apply(os.path.exists)]\n",
    "idr_manifest = idr_manifest[idr_manifest.rep2_merged_v2.apply(os.path.exists)]\n",
    "idr_manifest = idr_manifest[idr_manifest.replicate_merged_v2.apply(os.path.exists)]"
   ]
  },
  {
   "cell_type": "code",
   "execution_count": 19,
   "metadata": {
    "collapsed": false
   },
   "outputs": [
    {
     "data": {
      "text/plain": [
       "248"
      ]
     },
     "execution_count": 19,
     "metadata": {},
     "output_type": "execute_result"
    }
   ],
   "source": [
    "len(idr_manifest)"
   ]
  },
  {
   "cell_type": "markdown",
   "metadata": {},
   "source": [
    ".01v02.IDR.out.0102merged.bed  "
   ]
  },
  {
   "cell_type": "code",
   "execution_count": 20,
   "metadata": {
    "collapsed": false
   },
   "outputs": [
    {
     "data": {
      "text/html": [
       "<div>\n",
       "<table border=\"1\" class=\"dataframe\">\n",
       "  <thead>\n",
       "    <tr>\n",
       "      <th></th>\n",
       "      <th>Cell line</th>\n",
       "      <th>HepG2</th>\n",
       "    </tr>\n",
       "    <tr>\n",
       "      <th></th>\n",
       "      <th>RBP</th>\n",
       "      <th>RBFOX2</th>\n",
       "    </tr>\n",
       "    <tr>\n",
       "      <th>CLIP</th>\n",
       "      <th>rep</th>\n",
       "      <th></th>\n",
       "    </tr>\n",
       "  </thead>\n",
       "  <tbody>\n",
       "    <tr>\n",
       "      <th></th>\n",
       "      <th></th>\n",
       "      <td></td>\n",
       "    </tr>\n",
       "    <tr>\n",
       "      <th>INPUT</th>\n",
       "      <th></th>\n",
       "      <td>/projects/ps-yeolab3/encode/analysis/encode_ma...</td>\n",
       "    </tr>\n",
       "    <tr>\n",
       "      <th>Submitted Date</th>\n",
       "      <th></th>\n",
       "      <td>2015-02-18 00:00:00</td>\n",
       "    </tr>\n",
       "    <tr>\n",
       "      <th>annotation</th>\n",
       "      <th></th>\n",
       "      <td></td>\n",
       "    </tr>\n",
       "    <tr>\n",
       "      <th>family</th>\n",
       "      <th></th>\n",
       "      <td></td>\n",
       "    </tr>\n",
       "    <tr>\n",
       "      <th>family_bound</th>\n",
       "      <th></th>\n",
       "      <td>FALSE</td>\n",
       "    </tr>\n",
       "    <tr>\n",
       "      <th>family_mapping_submitable</th>\n",
       "      <th></th>\n",
       "      <td>False</td>\n",
       "    </tr>\n",
       "    <tr>\n",
       "      <th>generally_submittable</th>\n",
       "      <th></th>\n",
       "      <td>True</td>\n",
       "    </tr>\n",
       "    <tr>\n",
       "      <th>is_qced</th>\n",
       "      <th></th>\n",
       "      <td>True</td>\n",
       "    </tr>\n",
       "    <tr>\n",
       "      <th>note</th>\n",
       "      <th></th>\n",
       "      <td></td>\n",
       "    </tr>\n",
       "    <tr>\n",
       "      <th>notes</th>\n",
       "      <th></th>\n",
       "      <td>Intronic, UGCAUG motif</td>\n",
       "    </tr>\n",
       "    <tr>\n",
       "      <th>peaks_submitable</th>\n",
       "      <th></th>\n",
       "      <td>True</td>\n",
       "    </tr>\n",
       "    <tr>\n",
       "      <th>reference</th>\n",
       "      <th></th>\n",
       "      <td></td>\n",
       "    </tr>\n",
       "    <tr>\n",
       "      <th>submitted</th>\n",
       "      <th></th>\n",
       "      <td>True</td>\n",
       "    </tr>\n",
       "    <tr>\n",
       "      <th rowspan=\"2\" valign=\"top\">CLIP</th>\n",
       "      <th>rep1</th>\n",
       "      <td>/projects/ps-yeolab3/encode/analysis/encode_ma...</td>\n",
       "    </tr>\n",
       "    <tr>\n",
       "      <th>rep2</th>\n",
       "      <td>/projects/ps-yeolab3/encode/analysis/encode_ma...</td>\n",
       "    </tr>\n",
       "    <tr>\n",
       "      <th rowspan=\"2\" valign=\"top\">input_norm</th>\n",
       "      <th>rep1</th>\n",
       "      <td>/projects/ps-yeolab3/encode/analysis/Eric_Inpu...</td>\n",
       "    </tr>\n",
       "    <tr>\n",
       "      <th>rep2</th>\n",
       "      <td>/projects/ps-yeolab3/encode/analysis/Eric_Inpu...</td>\n",
       "    </tr>\n",
       "    <tr>\n",
       "      <th>uID</th>\n",
       "      <th></th>\n",
       "      <td>204</td>\n",
       "    </tr>\n",
       "    <tr>\n",
       "      <th>pesudoreplicate_merged</th>\n",
       "      <th></th>\n",
       "      <td>/home/gpratt/projects/idr/analysis/idr_v3/204....</td>\n",
       "    </tr>\n",
       "    <tr>\n",
       "      <th>rep1_merged</th>\n",
       "      <th></th>\n",
       "      <td>/home/gpratt/projects/idr/analysis/idr_v3/204....</td>\n",
       "    </tr>\n",
       "    <tr>\n",
       "      <th>rep2_merged</th>\n",
       "      <th></th>\n",
       "      <td>/home/gpratt/projects/idr/analysis/idr_v3/204....</td>\n",
       "    </tr>\n",
       "    <tr>\n",
       "      <th>replicate_merged</th>\n",
       "      <th></th>\n",
       "      <td>/home/gpratt/projects/idr/analysis/idr_v3/204.txt</td>\n",
       "    </tr>\n",
       "    <tr>\n",
       "      <th>pesudoreplicate_merged_v2</th>\n",
       "      <th></th>\n",
       "      <td>/home/gpratt/projects/idr/analysis/eric_style_...</td>\n",
       "    </tr>\n",
       "    <tr>\n",
       "      <th>rep1_merged_v2</th>\n",
       "      <th></th>\n",
       "      <td>/home/gpratt/projects/idr/analysis/eric_style_...</td>\n",
       "    </tr>\n",
       "    <tr>\n",
       "      <th>rep2_merged_v2</th>\n",
       "      <th></th>\n",
       "      <td>/home/gpratt/projects/idr/analysis/eric_style_...</td>\n",
       "    </tr>\n",
       "    <tr>\n",
       "      <th>replicate_merged_v2</th>\n",
       "      <th></th>\n",
       "      <td>/projects/ps-yeolab3/encode/analysis/Eric_IDR/...</td>\n",
       "    </tr>\n",
       "  </tbody>\n",
       "</table>\n",
       "</div>"
      ],
      "text/plain": [
       "Cell line                                                                   HepG2\n",
       "RBP                                                                        RBFOX2\n",
       "CLIP                      rep                                                    \n",
       "                                                                                 \n",
       "INPUT                           /projects/ps-yeolab3/encode/analysis/encode_ma...\n",
       "Submitted Date                                                2015-02-18 00:00:00\n",
       "annotation                                                                       \n",
       "family                                                                           \n",
       "family_bound                                                                FALSE\n",
       "family_mapping_submitable                                                   False\n",
       "generally_submittable                                                        True\n",
       "is_qced                                                                      True\n",
       "note                                                                             \n",
       "notes                                                      Intronic, UGCAUG motif\n",
       "peaks_submitable                                                             True\n",
       "reference                                                                        \n",
       "submitted                                                                    True\n",
       "CLIP                      rep1  /projects/ps-yeolab3/encode/analysis/encode_ma...\n",
       "                          rep2  /projects/ps-yeolab3/encode/analysis/encode_ma...\n",
       "input_norm                rep1  /projects/ps-yeolab3/encode/analysis/Eric_Inpu...\n",
       "                          rep2  /projects/ps-yeolab3/encode/analysis/Eric_Inpu...\n",
       "uID                                                                           204\n",
       "pesudoreplicate_merged          /home/gpratt/projects/idr/analysis/idr_v3/204....\n",
       "rep1_merged                     /home/gpratt/projects/idr/analysis/idr_v3/204....\n",
       "rep2_merged                     /home/gpratt/projects/idr/analysis/idr_v3/204....\n",
       "replicate_merged                /home/gpratt/projects/idr/analysis/idr_v3/204.txt\n",
       "pesudoreplicate_merged_v2       /home/gpratt/projects/idr/analysis/eric_style_...\n",
       "rep1_merged_v2                  /home/gpratt/projects/idr/analysis/eric_style_...\n",
       "rep2_merged_v2                  /home/gpratt/projects/idr/analysis/eric_style_...\n",
       "replicate_merged_v2             /projects/ps-yeolab3/encode/analysis/Eric_IDR/..."
      ]
     },
     "execution_count": 20,
     "metadata": {},
     "output_type": "execute_result"
    }
   ],
   "source": [
    "idr_manifest.ix['204'].T"
   ]
  },
  {
   "cell_type": "code",
   "execution_count": 21,
   "metadata": {
    "collapsed": false
   },
   "outputs": [
    {
     "name": "stderr",
     "output_type": "stream",
     "text": [
      "100%|██████████| 248/248 [00:03<00:00, 65.66it/s]\n",
      "100%|██████████| 248/248 [00:04<00:00, 57.64it/s]\n",
      "100%|██████████| 248/248 [00:04<00:00, 53.59it/s]\n",
      "100%|██████████| 248/248 [00:04<00:00, 55.40it/s]\n"
     ]
    }
   ],
   "source": [
    "def make_significant_idr_peaks(fn):\n",
    "    file_name, ext = os.path.splitext(fn)\n",
    "    out_file = file_name + \".significant\" + ext\n",
    "\n",
    "    if os.path.exists(out_file) and not RESET:\n",
    "        return out_file\n",
    "    bedtool = pybedtools.BedTool(fn)\n",
    "    bedtool = bedtool.filter(lambda x: float(x.score) > 540).sort().saveas(out_file)\n",
    "    return out_file\n",
    "\n",
    "idr_manifest['pesudoreplicate_sig'] = idr_manifest.pesudoreplicate_merged.progress_apply(make_significant_idr_peaks)\n",
    "idr_manifest['rep1_sig'] = idr_manifest.rep1_merged.progress_apply(make_significant_idr_peaks)\n",
    "idr_manifest['rep2_sig'] = idr_manifest.rep2_merged.progress_apply(make_significant_idr_peaks)\n",
    "idr_manifest['replicate_sig'] = idr_manifest.replicate_merged.progress_apply(make_significant_idr_peaks)"
   ]
  },
  {
   "cell_type": "code",
   "execution_count": 22,
   "metadata": {
    "collapsed": false,
    "scrolled": true
   },
   "outputs": [
    {
     "name": "stderr",
     "output_type": "stream",
     "text": [
      "100%|██████████| 248/248 [03:32<00:00,  1.33it/s]\n",
      "100%|██████████| 248/248 [01:51<00:00,  2.99it/s]\n",
      "100%|██████████| 248/248 [01:47<00:00,  5.50it/s]\n",
      "100%|██████████| 248/248 [02:59<00:00,  2.77it/s]\n"
     ]
    }
   ],
   "source": [
    "def count_peaks(fn):\n",
    "    try:\n",
    "        bedtool = pybedtools.BedTool(fn)\n",
    "        return len(bedtool)\n",
    "    except Exception as e:\n",
    "        print fn, e\n",
    "        return 0\n",
    "    \n",
    "idr_manifest['pesudoreplicate_count'] = idr_manifest.pesudoreplicate_sig.progress_apply(count_peaks)\n",
    "idr_manifest['rep1_count'] = idr_manifest.rep1_sig.progress_apply(count_peaks)\n",
    "idr_manifest['rep2_count'] = idr_manifest.rep2_sig.progress_apply(count_peaks)\n",
    "idr_manifest['replicate_count'] = idr_manifest.replicate_sig.progress_apply(count_peaks)"
   ]
  },
  {
   "cell_type": "code",
   "execution_count": 23,
   "metadata": {
    "collapsed": false
   },
   "outputs": [
    {
     "name": "stderr",
     "output_type": "stream",
     "text": [
      "100%|██████████| 248/248 [00:49<00:00,  4.64it/s]\n",
      "100%|██████████| 248/248 [00:31<00:00,  7.89it/s]\n",
      "100%|██████████| 248/248 [00:35<00:00,  7.04it/s]\n",
      "100%|██████████| 248/248 [00:30<00:00,  8.26it/s]\n"
     ]
    }
   ],
   "source": [
    "def count_peaks(fn):\n",
    "    try:\n",
    "        bedtool = pybedtools.BedTool(fn)\n",
    "        return len(bedtool)\n",
    "    except Exception as e:\n",
    "        print fn, e\n",
    "        return 0\n",
    "    \n",
    "idr_manifest['pesudoreplicate_count_v2'] = idr_manifest.pesudoreplicate_merged_v2.progress_apply(count_peaks)\n",
    "idr_manifest['rep1_count_v2'] = idr_manifest.rep1_merged_v2.progress_apply(count_peaks)\n",
    "idr_manifest['rep2_count_v2'] = idr_manifest.rep2_merged_v2.progress_apply(count_peaks)\n",
    "idr_manifest['replicate_count_v2'] = idr_manifest.replicate_merged_v2.progress_apply(count_peaks)"
   ]
  },
  {
   "cell_type": "code",
   "execution_count": 24,
   "metadata": {
    "collapsed": false
   },
   "outputs": [],
   "source": [
    "#idr_manifest.to_csv(\"/home/gpratt/Dropbox/encode_integration/for_eric/idr_counts.csv\")"
   ]
  },
  {
   "cell_type": "code",
   "execution_count": 25,
   "metadata": {
    "collapsed": false
   },
   "outputs": [],
   "source": [
    "def rescue_ratio(row, version=\"\"):\n",
    "    try:\n",
    "        higher = float(max(row['pesudoreplicate_count' + version][0], row['replicate_count' + version][0])) \n",
    "        lower = float(min(row['pesudoreplicate_count' + version][0], row['replicate_count' + version][0]))\n",
    "        return higher / lower\n",
    "\n",
    "    except Exception as e:\n",
    "        print e, row.uID[0]\n",
    "        return np.nan\n",
    "\n",
    "def self_consistency_ratio(row, version=\"\"):\n",
    "    try:\n",
    "        higher = float(max(row['rep1_count' + version][0], row['rep2_count' + version][0])) \n",
    "        lower = float(min(row['rep1_count' + version][0], row['rep2_count' + version][0]))\n",
    "        return higher / lower\n",
    "    except Exception as e:\n",
    "        print e, row.uID\n",
    "        return np.nan\n",
    "\n",
    "def reproducibility_test(row, version=\"\"):\n",
    "    if row['rescue_ratio' + version][0] < 2 and row['self_consistency_ratio' + version][0] < 2:\n",
    "        return \"pass\"\n",
    "    elif row['rescue_ratio' + version][0] < 2 or row['self_consistency_ratio' + version][0] < 2:\n",
    "        return \"borderline\"\n",
    "    else:\n",
    "        return \"fail\""
   ]
  },
  {
   "cell_type": "code",
   "execution_count": 26,
   "metadata": {
    "collapsed": true
   },
   "outputs": [],
   "source": [
    "from functools import partial"
   ]
  },
  {
   "cell_type": "code",
   "execution_count": 27,
   "metadata": {
    "collapsed": false,
    "scrolled": true
   },
   "outputs": [
    {
     "name": "stdout",
     "output_type": "stream",
     "text": [
      "float division by zero 599\n",
      "float division by zero 618\n"
     ]
    }
   ],
   "source": [
    "idr_manifest['rescue_ratio'] =  idr_manifest.apply(rescue_ratio, axis=1)\n",
    "idr_manifest['self_consistency_ratio'] =  idr_manifest.apply(self_consistency_ratio, axis=1)\n",
    "idr_manifest['reproducibility_test'] = idr_manifest.apply(reproducibility_test, axis=1)\n",
    "\n",
    "rescue_ratio_v2 = partial(rescue_ratio, version=\"_v2\")\n",
    "self_consistency_ratio_v2 = partial(self_consistency_ratio, version=\"_v2\")\n",
    "reproducibility_test_v2 = partial(reproducibility_test, version=\"_v2\")\n",
    "\n",
    "idr_manifest['rescue_ratio_v2'] =  idr_manifest.apply(rescue_ratio_v2, axis=1)\n",
    "idr_manifest['self_consistency_ratio_v2'] =  idr_manifest.apply(self_consistency_ratio_v2, axis=1)\n",
    "idr_manifest['reproducibility_test_v2'] = idr_manifest.apply(reproducibility_test_v2, axis=1)"
   ]
  },
  {
   "cell_type": "code",
   "execution_count": 28,
   "metadata": {
    "collapsed": true
   },
   "outputs": [],
   "source": [
    "sns.set_style(\"ticks\")"
   ]
  },
  {
   "cell_type": "code",
   "execution_count": 29,
   "metadata": {
    "collapsed": false
   },
   "outputs": [
    {
     "name": "stderr",
     "output_type": "stream",
     "text": [
      "/home/gpratt/anaconda/lib/python2.7/site-packages/ipykernel/__main__.py:6: SettingWithCopyWarning: \n",
      "A value is trying to be set on a copy of a slice from a DataFrame\n",
      "\n",
      "See the caveats in the documentation: http://pandas.pydata.org/pandas-docs/stable/indexing.html#indexing-view-versus-copy\n",
      "/home/gpratt/anaconda/lib/python2.7/site-packages/pandas/core/generic.py:4428: SettingWithCopyWarning: \n",
      "A value is trying to be set on a copy of a slice from a DataFrame\n",
      "\n",
      "See the caveats in the documentation: http://pandas.pydata.org/pandas-docs/stable/indexing.html#indexing-view-versus-copy\n",
      "  self._update_inplace(new_data)\n"
     ]
    },
    {
     "data": {
      "image/png": "[encoded data removed]",
      "text/plain": [
       "<matplotlib.figure.Figure at 0x2b21711df150>"
      ]
     },
     "metadata": {},
     "output_type": "display_data"
    }
   ],
   "source": [
    "num_rows = 1\n",
    "num_cols = 1\n",
    "with dataviz.Figure(os.path.join(img_dir, \"self_consistency_ratio_presentation.svg\"), figsize=(5 * num_cols,5 * num_rows)) as fig:\n",
    "    ax = fig.add_subplot(1,1,1)\n",
    "    dist = idr_manifest['self_consistency_ratio']\n",
    "    dist[dist > 4] = 4\n",
    "    sns.distplot(dist, kde=False, bins=20, ax=ax)\n",
    "\n",
    "    sns.despine(ax=ax)\n",
    "    ax.set_ylabel(\"Number of Datasets\", fontsize=18)\n",
    "    ax.set_xlabel(\"Self Consistency Ratio\", fontsize=18)\n",
    "    [tick.set_fontsize(14) for tick in ax.get_xticklabels()]\n",
    "    [tick.set_fontsize(14) for tick in ax.get_yticklabels()]\n",
    "    ax.axvline(2, color='.75', linestyle=\"--\")\n",
    "                                "
   ]
  },
  {
   "cell_type": "code",
   "execution_count": 30,
   "metadata": {
    "collapsed": false
   },
   "outputs": [
    {
     "name": "stderr",
     "output_type": "stream",
     "text": [
      "/home/gpratt/anaconda/lib/python2.7/site-packages/ipykernel/__main__.py:6: SettingWithCopyWarning: \n",
      "A value is trying to be set on a copy of a slice from a DataFrame\n",
      "\n",
      "See the caveats in the documentation: http://pandas.pydata.org/pandas-docs/stable/indexing.html#indexing-view-versus-copy\n"
     ]
    },
    {
     "data": {
      "image/png": "[encoded data removed]",
      "text/plain": [
       "<matplotlib.figure.Figure at 0x2b2170e5eb90>"
      ]
     },
     "metadata": {},
     "output_type": "display_data"
    }
   ],
   "source": [
    "num_rows = 1\n",
    "num_cols = 1\n",
    "with dataviz.Figure(os.path.join(img_dir, \"self_consistency_ratio_v2.svg\"), figsize=(2.5 * num_cols,2.5 * num_rows)) as fig:\n",
    "    ax = fig.add_subplot(1,1,1)\n",
    "    dist = idr_manifest['self_consistency_ratio_v2']\n",
    "    dist[dist > 4] = 4\n",
    "    sns.distplot(dist, kde=False, bins=20, ax=ax)\n",
    "\n",
    "    sns.despine(ax=ax)\n",
    "    ax.set_ylabel(\"Number of Datasets\", fontsize=8)\n",
    "    ax.set_xlabel(\"Self Consistency Ratio\", fontsize=8)\n",
    "    [tick.set_fontsize(8) for tick in ax.get_xticklabels()]\n",
    "    [tick.set_fontsize(8) for tick in ax.get_yticklabels()]\n",
    "    ax.axvline(2, color='.75', linestyle=\"--\")"
   ]
  },
  {
   "cell_type": "code",
   "execution_count": 31,
   "metadata": {
    "collapsed": false,
    "scrolled": true
   },
   "outputs": [
    {
     "name": "stderr",
     "output_type": "stream",
     "text": [
      "/home/gpratt/anaconda/lib/python2.7/site-packages/ipykernel/__main__.py:6: SettingWithCopyWarning: \n",
      "A value is trying to be set on a copy of a slice from a DataFrame\n",
      "\n",
      "See the caveats in the documentation: http://pandas.pydata.org/pandas-docs/stable/indexing.html#indexing-view-versus-copy\n"
     ]
    },
    {
     "data": {
      "image/png": "[encoded data removed]",
      "text/plain": [
       "<matplotlib.figure.Figure at 0x2b2170af72d0>"
      ]
     },
     "metadata": {},
     "output_type": "display_data"
    }
   ],
   "source": [
    "num_rows = 1\n",
    "num_cols = 1\n",
    "with dataviz.Figure(os.path.join(img_dir, \"rescue_ratio.svg\"), figsize=(2.5 * num_cols,2.5 * num_rows)) as fig:\n",
    "    ax = fig.add_subplot(1,1,1)\n",
    "    dist = idr_manifest.rescue_ratio\n",
    "    dist[dist > 4] = 4\n",
    "    sns.distplot(dist, kde=False, bins=20, ax=ax)\n",
    "    sns.despine(ax=ax)\n",
    "    ax.set_ylabel(\"Number of Datasets\", fontsize=8)\n",
    "    ax.set_xlabel(\"Rescue Ratio\", fontsize=8)\n",
    "    [tick.set_fontsize(8) for tick in ax.get_xticklabels()]\n",
    "    [tick.set_fontsize(8) for tick in ax.get_yticklabels()]\n",
    "            \n",
    "    ax.axvline(2, color='.75', linestyle=\"--\")"
   ]
  },
  {
   "cell_type": "code",
   "execution_count": 32,
   "metadata": {
    "collapsed": false
   },
   "outputs": [
    {
     "name": "stderr",
     "output_type": "stream",
     "text": [
      "/home/gpratt/anaconda/lib/python2.7/site-packages/ipykernel/__main__.py:6: SettingWithCopyWarning: \n",
      "A value is trying to be set on a copy of a slice from a DataFrame\n",
      "\n",
      "See the caveats in the documentation: http://pandas.pydata.org/pandas-docs/stable/indexing.html#indexing-view-versus-copy\n"
     ]
    },
    {
     "data": {
      "image/png": "[encoded data removed]",
      "text/plain": [
       "<matplotlib.figure.Figure at 0x2b2170b10990>"
      ]
     },
     "metadata": {},
     "output_type": "display_data"
    }
   ],
   "source": [
    "num_rows = 1\n",
    "num_cols = 1\n",
    "with dataviz.Figure(os.path.join(img_dir, \"rescue_ratio_v2.svg\"), figsize=(5 * num_cols,5 * num_rows)) as fig:\n",
    "    ax = fig.add_subplot(1,1,1)\n",
    "    dist = idr_manifest['rescue_ratio_v2']\n",
    "    dist[dist > 4] = 4\n",
    "    dist = dist.dropna()\n",
    "    sns.distplot(dist, kde=False, bins=20, ax=ax)\n",
    "\n",
    "    sns.despine(ax=ax)\n",
    "    ax.set_ylabel(\"Number of Datasets\", fontsize=18)\n",
    "    ax.set_xlabel(\"Rescue Ratio\", fontsize=18)\n",
    "    [tick.set_fontsize(18) for tick in ax.get_xticklabels()]\n",
    "    [tick.set_fontsize(18) for tick in ax.get_yticklabels()]\n",
    "    ax.axvline(2, color='.75', linestyle=\"--\")"
   ]
  },
  {
   "cell_type": "code",
   "execution_count": 33,
   "metadata": {
    "collapsed": false
   },
   "outputs": [
    {
     "name": "stderr",
     "output_type": "stream",
     "text": [
      "/home/gpratt/anaconda/lib/python2.7/site-packages/ipykernel/__main__.py:6: SettingWithCopyWarning: \n",
      "A value is trying to be set on a copy of a slice from a DataFrame\n",
      "\n",
      "See the caveats in the documentation: http://pandas.pydata.org/pandas-docs/stable/indexing.html#indexing-view-versus-copy\n"
     ]
    },
    {
     "data": {
      "image/png": "[encoded data removed]",
      "text/plain": [
       "<matplotlib.figure.Figure at 0x2b217053a490>"
      ]
     },
     "metadata": {},
     "output_type": "display_data"
    }
   ],
   "source": [
    "num_rows = 1\n",
    "num_cols = 1\n",
    "with dataviz.Figure(os.path.join(img_dir, \"rescue_ratio_v2.svg\"), figsize=(2.5 * num_cols,2.5 * num_rows)) as fig:\n",
    "    ax = fig.add_subplot(1,1,1)\n",
    "    dist = idr_manifest['rescue_ratio_v2']\n",
    "    dist[dist > 4] = 4\n",
    "    dist = dist.dropna()\n",
    "    sns.distplot(dist, kde=False, bins=20, ax=ax)\n",
    "\n",
    "    sns.despine(ax=ax)\n",
    "    ax.set_ylabel(\"Number of Datasets\", fontsize=8)\n",
    "    ax.set_xlabel(\"Rescue Ratio\", fontsize=8)\n",
    "    [tick.set_fontsize(8) for tick in ax.get_xticklabels()]\n",
    "    [tick.set_fontsize(8) for tick in ax.get_yticklabels()]\n",
    "    ax.axvline(2, color='.75', linestyle=\"--\")"
   ]
  },
  {
   "cell_type": "code",
   "execution_count": 34,
   "metadata": {
    "collapsed": false
   },
   "outputs": [
    {
     "data": {
      "image/png": "[encoded data removed]",
      "text/plain": [
       "<matplotlib.figure.Figure at 0x2b2170b8c4d0>"
      ]
     },
     "metadata": {},
     "output_type": "display_data"
    },
    {
     "data": {
      "image/png": "[encoded data removed]",
      "text/plain": [
       "<matplotlib.figure.Figure at 0x2b21715faf10>"
      ]
     },
     "metadata": {},
     "output_type": "display_data"
    }
   ],
   "source": [
    "num_rows = 1\n",
    "num_cols = 1\n",
    "with dataviz.Figure(os.path.join(img_dir, \"reproducibility_test_v2_presentation.svg\"), figsize=(5* num_cols, 5 * num_rows)) as fig:\n",
    "    ax = fig.add_subplot(1,1,1)\n",
    "    \n",
    "    ax.set_ylabel(\"Count\")\n",
    "    ax.set_xlabel(\"Reproducablity Test\")\n",
    "    ax.set_title(\"Number of replicates\\npassing reproducibility test\", fontsize=20)\n",
    "    sns.despine(ax=ax)\n",
    "    \n",
    "    sns.factorplot(x='reproducibility_test_v2', \n",
    "                   kind='count', \n",
    "                   data=idr_manifest, \n",
    "                   order=[\"pass\", \"borderline\", \"fail\"],\n",
    "                   ax=ax\n",
    "                  )\n",
    "    ax.set_ylabel(\"Number of Datasets\", fontsize=20)\n",
    "    ax.set_xlabel(\"\")\n",
    "    [tick.set_fontsize(20) for tick in ax.get_xticklabels()]\n",
    "    [tick.set_fontsize(20) for tick in ax.get_yticklabels()]"
   ]
  },
  {
   "cell_type": "code",
   "execution_count": 35,
   "metadata": {
    "collapsed": false
   },
   "outputs": [
    {
     "data": {
      "image/png": "[encoded data removed]",
      "text/plain": [
       "<matplotlib.figure.Figure at 0x2b21711acd10>"
      ]
     },
     "metadata": {},
     "output_type": "display_data"
    },
    {
     "data": {
      "image/png": "[encoded data removed]",
      "text/plain": [
       "<matplotlib.figure.Figure at 0x2b21700ffa10>"
      ]
     },
     "metadata": {},
     "output_type": "display_data"
    }
   ],
   "source": [
    "num_rows = 1\n",
    "num_cols = 1\n",
    "with dataviz.Figure(os.path.join(img_dir, \"reproducibility_test_v2.svg\"), figsize=(2.5 * num_cols, 2.5 * num_rows)) as fig:\n",
    "    ax = fig.add_subplot(1,1,1)\n",
    "    \n",
    "    ax.set_ylabel(\"Count\")\n",
    "    ax.set_xlabel(\"Reproducablity Test\")\n",
    "    ax.set_title(\"Number of replicates\\npassing reproducibility test\", fontsize=8)\n",
    "    sns.despine(ax=ax)\n",
    "    \n",
    "    sns.factorplot(x='reproducibility_test_v2', \n",
    "                   kind='count', \n",
    "                   data=idr_manifest, \n",
    "                   order=[\"pass\", \"borderline\", \"fail\"],\n",
    "                   ax=ax\n",
    "                  )\n",
    "    ax.set_ylabel(\"Number of Datasets\", fontsize=8)\n",
    "    ax.set_xlabel(\"\")\n",
    "    [tick.set_fontsize(8) for tick in ax.get_xticklabels()]\n",
    "    [tick.set_fontsize(8) for tick in ax.get_yticklabels()]"
   ]
  },
  {
   "cell_type": "code",
   "execution_count": 36,
   "metadata": {
    "collapsed": false
   },
   "outputs": [
    {
     "name": "stdout",
     "output_type": "stream",
     "text": [
      "93 13 89 53\n",
      "0.645833333333\n"
     ]
    }
   ],
   "source": [
    "tp = len(idr_manifest[idr_manifest.generally_submittable & idr_manifest.reproducibility_test.isin([\"pass\"])])\n",
    "fp = len(idr_manifest[~idr_manifest.generally_submittable & idr_manifest.reproducibility_test.isin([\"pass\"])])\n",
    "fn = len(idr_manifest[idr_manifest.generally_submittable & ~idr_manifest.reproducibility_test.isin([\"pass\"])])\n",
    "tn = len(idr_manifest[~idr_manifest.generally_submittable & ~idr_manifest.reproducibility_test.isin([\"pass\"])])\n",
    "print tp, fp, fn, tn\n",
    "print sklearn.metrics.f1_score(idr_manifest.generally_submittable, idr_manifest.reproducibility_test.isin([\"pass\"]))"
   ]
  },
  {
   "cell_type": "code",
   "execution_count": 37,
   "metadata": {
    "collapsed": false
   },
   "outputs": [
    {
     "name": "stdout",
     "output_type": "stream",
     "text": [
      "157 37 25 29\n",
      "0.835106382979\n"
     ]
    }
   ],
   "source": [
    "tp = len(idr_manifest[idr_manifest.generally_submittable& idr_manifest.reproducibility_test.isin([\"pass\", 'borderline'])])\n",
    "fp = len(idr_manifest[~idr_manifest.generally_submittable & idr_manifest.reproducibility_test.isin([\"pass\", 'borderline'])])\n",
    "fn = idr_manifest[idr_manifest.generally_submittable & ~idr_manifest.reproducibility_test.isin([\"pass\", 'borderline'])]\n",
    "tn = len(idr_manifest[~idr_manifest.generally_submittable & ~idr_manifest.reproducibility_test.isin([\"pass\", 'borderline'])])\n",
    "print tp, fp, len(fn), tn\n",
    "print sklearn.metrics.f1_score(idr_manifest.generally_submittable, idr_manifest.reproducibility_test.isin([\"pass\", 'borderline']))"
   ]
  },
  {
   "cell_type": "code",
   "execution_count": 38,
   "metadata": {
    "collapsed": false
   },
   "outputs": [
    {
     "name": "stdout",
     "output_type": "stream",
     "text": [
      "134 24 48 42\n",
      "0.788235294118\n"
     ]
    }
   ],
   "source": [
    "tp = len(idr_manifest[idr_manifest.generally_submittable & idr_manifest.reproducibility_test_v2.isin([\"pass\"])])\n",
    "fp = len(idr_manifest[~idr_manifest.generally_submittable & idr_manifest.reproducibility_test_v2.isin([\"pass\"])])\n",
    "fn = len(idr_manifest[idr_manifest.generally_submittable & ~idr_manifest.reproducibility_test_v2.isin([\"pass\"])])\n",
    "tn = len(idr_manifest[~idr_manifest.generally_submittable & ~idr_manifest.reproducibility_test_v2.isin([\"pass\"])])\n",
    "print tp, fp, fn, tn\n",
    "print sklearn.metrics.f1_score(idr_manifest.generally_submittable, idr_manifest.reproducibility_test_v2.isin([\"pass\"]))"
   ]
  },
  {
   "cell_type": "code",
   "execution_count": 39,
   "metadata": {
    "collapsed": false
   },
   "outputs": [
    {
     "name": "stdout",
     "output_type": "stream",
     "text": [
      "172 46 10 20\n",
      "0.86\n"
     ]
    }
   ],
   "source": [
    "tp = len(idr_manifest[idr_manifest.generally_submittable& idr_manifest.reproducibility_test_v2.isin([\"pass\", 'borderline'])])\n",
    "fp = idr_manifest[~idr_manifest.generally_submittable & idr_manifest.reproducibility_test_v2.isin([\"pass\", 'borderline'])]\n",
    "fn = idr_manifest[idr_manifest.generally_submittable & ~idr_manifest.reproducibility_test_v2.isin([\"pass\", 'borderline'])]\n",
    "tn = len(idr_manifest[~idr_manifest.generally_submittable & ~idr_manifest.reproducibility_test_v2.isin([\"pass\", 'borderline'])])\n",
    "print tp, len(fp), len(fn), tn\n",
    "print sklearn.metrics.f1_score(idr_manifest.generally_submittable, idr_manifest.reproducibility_test_v2.isin([\"pass\", 'borderline']))"
   ]
  },
  {
   "cell_type": "markdown",
   "metadata": {},
   "source": [
    "Classification is pretty decent for IDR 26 submitted datasets failed"
   ]
  },
  {
   "cell_type": "code",
   "execution_count": 40,
   "metadata": {
    "collapsed": false
   },
   "outputs": [],
   "source": [
    "not_family_mapped = idr_manifest[~idr_manifest.family_mapping_submitable]"
   ]
  },
  {
   "cell_type": "code",
   "execution_count": 41,
   "metadata": {
    "collapsed": false
   },
   "outputs": [
    {
     "name": "stdout",
     "output_type": "stream",
     "text": [
      "129 37 19 29\n",
      "0.821656050955\n"
     ]
    }
   ],
   "source": [
    "tp = len(not_family_mapped[not_family_mapped.generally_submittable& not_family_mapped.reproducibility_test.isin([\"pass\", 'borderline'])])\n",
    "fp = len(not_family_mapped[~not_family_mapped.generally_submittable & not_family_mapped.reproducibility_test.isin([\"pass\", 'borderline'])])\n",
    "fn = not_family_mapped[not_family_mapped.generally_submittable & ~not_family_mapped.reproducibility_test.isin([\"pass\", 'borderline'])]\n",
    "tn = len(not_family_mapped[~not_family_mapped.generally_submittable & ~not_family_mapped.reproducibility_test.isin([\"pass\", 'borderline'])])\n",
    "print tp, fp, len(fn), tn\n",
    "print sklearn.metrics.f1_score(not_family_mapped.generally_submittable, not_family_mapped.reproducibility_test.isin([\"pass\", 'borderline']))"
   ]
  },
  {
   "cell_type": "code",
   "execution_count": 42,
   "metadata": {
    "collapsed": true
   },
   "outputs": [],
   "source": [
    "#I'll want to try out Erics post-IDR correction + filtering see if that fixes some of these, "
   ]
  },
  {
   "cell_type": "code",
   "execution_count": 43,
   "metadata": {
    "collapsed": true
   },
   "outputs": [],
   "source": [
    "idr_manifest.to_csv?"
   ]
  },
  {
   "cell_type": "code",
   "execution_count": 44,
   "metadata": {
    "collapsed": false
   },
   "outputs": [],
   "source": [
    "idr_manifest.to_csv(\"/home/gpratt/ipython_notebook/encode/idr_results.csv\", encoding=\"utf-8\")"
   ]
  },
  {
   "cell_type": "markdown",
   "metadata": {},
   "source": [
    "# Whats the actual overlap of PEAKS for the idr results vs the pesudo-replicates"
   ]
  },
  {
   "cell_type": "code",
   "execution_count": 45,
   "metadata": {
    "collapsed": true
   },
   "outputs": [],
   "source": [
    "def get_overlap_pesudo_and_real(row):\n",
    "    pesudo_rep = pybedtools.BedTool(row.pesudoreplicate_sig[0])\n",
    "    rep = pybedtools.BedTool(row.replicate_sig[0])\n",
    "    return len(pesudo_rep.intersect(rep, u=True, s=True, sorted=True))\n",
    "\n",
    "def get_overlap_real_and_pesudo(row):\n",
    "    pesudo_rep = pybedtools.BedTool(row.pesudoreplicate_sig[0])\n",
    "    rep = pybedtools.BedTool(row.replicate_sig[0])\n",
    "    return len(rep.intersect(pesudo_rep, u=True, s=True, sorted=True))\n",
    "\n",
    "def get_overlap_pesudo_rep1_and_rep2(row):\n",
    "    pesudo_rep = pybedtools.BedTool(row.rep1_sig[0])\n",
    "    rep = pybedtools.BedTool(row.rep2_sig[0])\n",
    "    return len(rep.intersect(pesudo_rep, u=True, s=True, sorted=True))\n",
    "\n",
    "def get_overlap_pesudo_rep2_and_rep1(row):\n",
    "    pesudo_rep = pybedtools.BedTool(row.rep1_sig[0])\n",
    "    rep = pybedtools.BedTool(row.rep2_sig[0])\n",
    "    return len(pesudo_rep.intersect(rep, u=True, s=True, sorted=True))"
   ]
  },
  {
   "cell_type": "code",
   "execution_count": 46,
   "metadata": {
    "collapsed": false,
    "scrolled": true
   },
   "outputs": [
    {
     "name": "stderr",
     "output_type": "stream",
     "text": [
      "248it [03:42,  1.89it/s]                       \n",
      "248it [03:06,  1.61it/s]                       \n",
      "248it [01:39,  4.35it/s]                       \n",
      "248it [01:08,  9.52it/s]                       \n"
     ]
    }
   ],
   "source": [
    "idr_manifest['overlapping_pesudo_and_real'] = idr_manifest.progress_apply(get_overlap_pesudo_and_real, axis=1)\n",
    "idr_manifest['overlapping_real_and_pesudo'] = idr_manifest.progress_apply(get_overlap_real_and_pesudo, axis=1)\n",
    "\n",
    "idr_manifest['overlapping_pesudo_rep1_and_rep2'] = idr_manifest.progress_apply(get_overlap_pesudo_rep1_and_rep2, axis=1)\n",
    "idr_manifest['overlapping_pesudo_rep2_and_rep1'] = idr_manifest.progress_apply(get_overlap_pesudo_rep2_and_rep1, axis=1)"
   ]
  },
  {
   "cell_type": "code",
   "execution_count": 47,
   "metadata": {
    "collapsed": false
   },
   "outputs": [
    {
     "data": {
      "text/plain": [
       "<matplotlib.axes._subplots.AxesSubplot at 0x2b21702d1c90>"
      ]
     },
     "execution_count": 47,
     "metadata": {},
     "output_type": "execute_result"
    },
    {
     "data": {
      "image/png": "[encoded data removed]",
      "text/plain": [
       "<matplotlib.figure.Figure at 0x2b217053acd0>"
      ]
     },
     "metadata": {},
     "output_type": "display_data"
    }
   ],
   "source": [
    "sns.distplot((idr_manifest.overlapping_pesudo_and_real / idr_manifest.pesudoreplicate_count).dropna())"
   ]
  },
  {
   "cell_type": "code",
   "execution_count": 48,
   "metadata": {
    "collapsed": false
   },
   "outputs": [
    {
     "data": {
      "text/plain": [
       "<matplotlib.axes._subplots.AxesSubplot at 0x2b21700baf50>"
      ]
     },
     "execution_count": 48,
     "metadata": {},
     "output_type": "execute_result"
    },
    {
     "data": {
      "image/png": "[encoded data removed]",
      "text/plain": [
       "<matplotlib.figure.Figure at 0x2b217105d4d0>"
      ]
     },
     "metadata": {},
     "output_type": "display_data"
    }
   ],
   "source": [
    "sns.distplot((idr_manifest.overlapping_real_and_pesudo / idr_manifest.pesudoreplicate_count).dropna())"
   ]
  },
  {
   "cell_type": "code",
   "execution_count": 49,
   "metadata": {
    "collapsed": false
   },
   "outputs": [
    {
     "data": {
      "text/plain": [
       "<matplotlib.axes._subplots.AxesSubplot at 0x2b216fddef90>"
      ]
     },
     "execution_count": 49,
     "metadata": {},
     "output_type": "execute_result"
    },
    {
     "data": {
      "image/png": "[encoded data removed]",
      "text/plain": [
       "<matplotlib.figure.Figure at 0x2b21701d12d0>"
      ]
     },
     "metadata": {},
     "output_type": "display_data"
    }
   ],
   "source": [
    "sns.distplot((idr_manifest.overlapping_pesudo_rep1_and_rep2 / idr_manifest.rep1_count))"
   ]
  },
  {
   "cell_type": "code",
   "execution_count": 50,
   "metadata": {
    "collapsed": false
   },
   "outputs": [
    {
     "data": {
      "text/plain": [
       "<matplotlib.axes._subplots.AxesSubplot at 0x2b2170209c10>"
      ]
     },
     "execution_count": 50,
     "metadata": {},
     "output_type": "execute_result"
    },
    {
     "data": {
      "image/png": "[encoded data removed]",
      "text/plain": [
       "<matplotlib.figure.Figure at 0x2b215eee4250>"
      ]
     },
     "metadata": {},
     "output_type": "display_data"
    }
   ],
   "source": [
    "sns.distplot((idr_manifest.overlapping_pesudo_rep2_and_rep1 / idr_manifest.rep2_count))"
   ]
  },
  {
   "cell_type": "markdown",
   "metadata": {
    "collapsed": true
   },
   "source": [
    "# What does SLBP look like"
   ]
  },
  {
   "cell_type": "code",
   "execution_count": 51,
   "metadata": {
    "collapsed": true
   },
   "outputs": [],
   "source": [
    "def add_order(bedtool):\n",
    "    for x, interval in enumerate(bedtool):\n",
    "        interval.append(x)\n",
    "        yield interval"
   ]
  },
  {
   "cell_type": "code",
   "execution_count": 52,
   "metadata": {
    "collapsed": false
   },
   "outputs": [],
   "source": [
    "bedtool = pybedtools.BedTool(idr_manifest[idr_manifest.uID == \"262\"]['replicate_sig'].iloc[0])\n",
    "bedtool = pybedtools.BedTool(add_order(bedtool)).saveas()\n",
    "bedtool_sort_order = bedtool.to_dataframe(names=range(15))"
   ]
  },
  {
   "cell_type": "code",
   "execution_count": 53,
   "metadata": {
    "collapsed": false
   },
   "outputs": [],
   "source": [
    "genes = pybedtools.BedTool(\"/home/gpratt/clipper/clipper/data/regions/hg19_genes.bed\")\n",
    "gene_id_to_name = region_helpers.gene_id_to_name(\"/projects/ps-yeolab/genomes/hg19/gencode.v17.annotation.gtf.db\")\n",
    "gene_id_to_type = region_helpers.gene_id_to_type(\"/projects/ps-yeolab/genomes/hg19/gencode.v17.annotation.gtf.db\")\n",
    "\n",
    "name_to_gene_id = {value: key for key, value in gene_id_to_name.items()}"
   ]
  },
  {
   "cell_type": "code",
   "execution_count": 54,
   "metadata": {
    "collapsed": false
   },
   "outputs": [],
   "source": [
    "overlapping_genes = bedtool.intersect(genes, s=True, wo=True).saveas()\n",
    "overlapping_genes_df = overlapping_genes.to_dataframe(names=range(22))\n",
    "overlapping_genes_df['gene_name'] = overlapping_genes_df[18].apply(lambda x: gene_id_to_name[x])\n",
    "overlapping_genes_df['is_histone'] = overlapping_genes_df.gene_name.apply(lambda x: \"HIST\" in x)"
   ]
  },
  {
   "cell_type": "code",
   "execution_count": 55,
   "metadata": {
    "collapsed": false
   },
   "outputs": [],
   "source": [
    "grouped_overlapping_df = overlapping_genes_df.groupby([0,1,2]).first()\n",
    "grouped_overlapping_df = grouped_overlapping_df.sort_values(14)"
   ]
  },
  {
   "cell_type": "code",
   "execution_count": 56,
   "metadata": {
    "collapsed": false
   },
   "outputs": [
    {
     "name": "stderr",
     "output_type": "stream",
     "text": [
      "/home/gpratt/anaconda/lib/python2.7/site-packages/ipykernel/__main__.py:5: FutureWarning: pd.rolling_sum is deprecated for Series and will be removed in a future version, replace with \n",
      "\tSeries.rolling(window=20,center=False).sum()\n"
     ]
    },
    {
     "data": {
      "image/png": "[encoded data removed]",
      "text/plain": [
       "<matplotlib.figure.Figure at 0x2b2170b8c150>"
      ]
     },
     "metadata": {},
     "output_type": "display_data"
    }
   ],
   "source": [
    "num_rows = 1\n",
    "num_cols = 1\n",
    "with dataviz.Figure(os.path.join(img_dir, \"rolling_mean.svg\"), figsize=(5 * num_cols,5 * num_rows)) as fig:\n",
    "    ax = fig.add_subplot(1,1,1)\n",
    "    ax.plot(pd.rolling_sum(grouped_overlapping_df.is_histone, window=20).dropna().values, linewidth=3, alpha=.7)\n",
    "    ax.set_ylabel(\"Number of histone peaks per 10 peaks\")\n",
    "    ax.set_title(\"Rolling sum of number of\\npeaks passing IDR that bind histones\")\n",
    "    ax.set_xlabel(\"Fold enrichment ranked peaks\")\n",
    "    sns.despine(ax=ax)\n",
    "    "
   ]
  },
  {
   "cell_type": "markdown",
   "metadata": {
    "collapsed": true
   },
   "source": [
    "# join IDR QC with ENCODE QC"
   ]
  },
  {
   "cell_type": "code",
   "execution_count": 57,
   "metadata": {
    "collapsed": false
   },
   "outputs": [
    {
     "ename": "KeyError",
     "evalue": "('peaks_submitable', 'rep1')",
     "output_type": "error",
     "traceback": [
      "\u001b[0;31m---------------------------------------------------------------------------\u001b[0m",
      "\u001b[0;31mKeyError\u001b[0m                                  Traceback (most recent call last)",
      "\u001b[0;32m<ipython-input-57-af2c61c5293e>\u001b[0m in \u001b[0;36m<module>\u001b[0;34m()\u001b[0m\n\u001b[0;32m----> 1\u001b[0;31m \u001b[0midr_manifest\u001b[0m\u001b[0;34m[\u001b[0m\u001b[0;34m(\u001b[0m\u001b[0;34m\"peaks_submitable\"\u001b[0m\u001b[0;34m,\u001b[0m \u001b[0;34m\"rep1\"\u001b[0m\u001b[0;34m)\u001b[0m\u001b[0;34m]\u001b[0m \u001b[0;34m=\u001b[0m \u001b[0midr_manifest\u001b[0m\u001b[0;34m[\u001b[0m\u001b[0;34m(\u001b[0m\u001b[0;34m\"peaks_submitable\"\u001b[0m\u001b[0;34m,\u001b[0m \u001b[0;34m\"rep1\"\u001b[0m\u001b[0;34m)\u001b[0m\u001b[0;34m]\u001b[0m\u001b[0;34m.\u001b[0m\u001b[0mapply\u001b[0m\u001b[0;34m(\u001b[0m\u001b[0;32mlambda\u001b[0m \u001b[0mx\u001b[0m\u001b[0;34m:\u001b[0m \u001b[0mFalse\u001b[0m \u001b[0;32mif\u001b[0m \u001b[0mx\u001b[0m\u001b[0;34m.\u001b[0m\u001b[0mstrip\u001b[0m\u001b[0;34m(\u001b[0m\u001b[0;34m)\u001b[0m \u001b[0;34m==\u001b[0m \u001b[0;34m\"FALSE\"\u001b[0m \u001b[0;32melse\u001b[0m \u001b[0mTrue\u001b[0m\u001b[0;34m)\u001b[0m\u001b[0;34m\u001b[0m\u001b[0m\n\u001b[0m",
      "\u001b[0;32m/home/gpratt/anaconda/lib/python2.7/site-packages/pandas/core/frame.pyc\u001b[0m in \u001b[0;36m__getitem__\u001b[0;34m(self, key)\u001b[0m\n\u001b[1;32m   1988\u001b[0m             \u001b[0;32mreturn\u001b[0m \u001b[0mself\u001b[0m\u001b[0;34m.\u001b[0m\u001b[0m_getitem_frame\u001b[0m\u001b[0;34m(\u001b[0m\u001b[0mkey\u001b[0m\u001b[0;34m)\u001b[0m\u001b[0;34m\u001b[0m\u001b[0m\n\u001b[1;32m   1989\u001b[0m         \u001b[0;32melif\u001b[0m \u001b[0mis_mi_columns\u001b[0m\u001b[0;34m:\u001b[0m\u001b[0;34m\u001b[0m\u001b[0m\n\u001b[0;32m-> 1990\u001b[0;31m             \u001b[0;32mreturn\u001b[0m \u001b[0mself\u001b[0m\u001b[0;34m.\u001b[0m\u001b[0m_getitem_multilevel\u001b[0m\u001b[0;34m(\u001b[0m\u001b[0mkey\u001b[0m\u001b[0;34m)\u001b[0m\u001b[0;34m\u001b[0m\u001b[0m\n\u001b[0m\u001b[1;32m   1991\u001b[0m         \u001b[0;32melse\u001b[0m\u001b[0;34m:\u001b[0m\u001b[0;34m\u001b[0m\u001b[0m\n\u001b[1;32m   1992\u001b[0m             \u001b[0;32mreturn\u001b[0m \u001b[0mself\u001b[0m\u001b[0;34m.\u001b[0m\u001b[0m_getitem_column\u001b[0m\u001b[0;34m(\u001b[0m\u001b[0mkey\u001b[0m\u001b[0;34m)\u001b[0m\u001b[0;34m\u001b[0m\u001b[0m\n",
      "\u001b[0;32m/home/gpratt/anaconda/lib/python2.7/site-packages/pandas/core/frame.pyc\u001b[0m in \u001b[0;36m_getitem_multilevel\u001b[0;34m(self, key)\u001b[0m\n\u001b[1;32m   2032\u001b[0m \u001b[0;34m\u001b[0m\u001b[0m\n\u001b[1;32m   2033\u001b[0m     \u001b[0;32mdef\u001b[0m \u001b[0m_getitem_multilevel\u001b[0m\u001b[0;34m(\u001b[0m\u001b[0mself\u001b[0m\u001b[0;34m,\u001b[0m \u001b[0mkey\u001b[0m\u001b[0;34m)\u001b[0m\u001b[0;34m:\u001b[0m\u001b[0;34m\u001b[0m\u001b[0m\n\u001b[0;32m-> 2034\u001b[0;31m         \u001b[0mloc\u001b[0m \u001b[0;34m=\u001b[0m \u001b[0mself\u001b[0m\u001b[0;34m.\u001b[0m\u001b[0mcolumns\u001b[0m\u001b[0;34m.\u001b[0m\u001b[0mget_loc\u001b[0m\u001b[0;34m(\u001b[0m\u001b[0mkey\u001b[0m\u001b[0;34m)\u001b[0m\u001b[0;34m\u001b[0m\u001b[0m\n\u001b[0m\u001b[1;32m   2035\u001b[0m         \u001b[0;32mif\u001b[0m \u001b[0misinstance\u001b[0m\u001b[0;34m(\u001b[0m\u001b[0mloc\u001b[0m\u001b[0;34m,\u001b[0m \u001b[0;34m(\u001b[0m\u001b[0mslice\u001b[0m\u001b[0;34m,\u001b[0m \u001b[0mSeries\u001b[0m\u001b[0;34m,\u001b[0m \u001b[0mnp\u001b[0m\u001b[0;34m.\u001b[0m\u001b[0mndarray\u001b[0m\u001b[0;34m,\u001b[0m \u001b[0mIndex\u001b[0m\u001b[0;34m)\u001b[0m\u001b[0;34m)\u001b[0m\u001b[0;34m:\u001b[0m\u001b[0;34m\u001b[0m\u001b[0m\n\u001b[1;32m   2036\u001b[0m             \u001b[0mnew_columns\u001b[0m \u001b[0;34m=\u001b[0m \u001b[0mself\u001b[0m\u001b[0;34m.\u001b[0m\u001b[0mcolumns\u001b[0m\u001b[0;34m[\u001b[0m\u001b[0mloc\u001b[0m\u001b[0;34m]\u001b[0m\u001b[0;34m\u001b[0m\u001b[0m\n",
      "\u001b[0;32m/home/gpratt/anaconda/lib/python2.7/site-packages/pandas/indexes/multi.pyc\u001b[0m in \u001b[0;36mget_loc\u001b[0;34m(self, key, method)\u001b[0m\n\u001b[1;32m   1527\u001b[0m             \u001b[0mkey\u001b[0m \u001b[0;34m=\u001b[0m \u001b[0m_values_from_object\u001b[0m\u001b[0;34m(\u001b[0m\u001b[0mkey\u001b[0m\u001b[0;34m)\u001b[0m\u001b[0;34m\u001b[0m\u001b[0m\n\u001b[1;32m   1528\u001b[0m             \u001b[0mkey\u001b[0m \u001b[0;34m=\u001b[0m \u001b[0mtuple\u001b[0m\u001b[0;34m(\u001b[0m\u001b[0mmap\u001b[0m\u001b[0;34m(\u001b[0m\u001b[0m_maybe_str_to_time_stamp\u001b[0m\u001b[0;34m,\u001b[0m \u001b[0mkey\u001b[0m\u001b[0;34m,\u001b[0m \u001b[0mself\u001b[0m\u001b[0;34m.\u001b[0m\u001b[0mlevels\u001b[0m\u001b[0;34m)\u001b[0m\u001b[0;34m)\u001b[0m\u001b[0;34m\u001b[0m\u001b[0m\n\u001b[0;32m-> 1529\u001b[0;31m             \u001b[0;32mreturn\u001b[0m \u001b[0mself\u001b[0m\u001b[0;34m.\u001b[0m\u001b[0m_engine\u001b[0m\u001b[0;34m.\u001b[0m\u001b[0mget_loc\u001b[0m\u001b[0;34m(\u001b[0m\u001b[0mkey\u001b[0m\u001b[0;34m)\u001b[0m\u001b[0;34m\u001b[0m\u001b[0m\n\u001b[0m\u001b[1;32m   1530\u001b[0m \u001b[0;34m\u001b[0m\u001b[0m\n\u001b[1;32m   1531\u001b[0m         \u001b[0;31m# -- partial selection or non-unique index\u001b[0m\u001b[0;34m\u001b[0m\u001b[0;34m\u001b[0m\u001b[0m\n",
      "\u001b[0;32mpandas/index.pyx\u001b[0m in \u001b[0;36mpandas.index.IndexEngine.get_loc (pandas/index.c:4027)\u001b[0;34m()\u001b[0m\n",
      "\u001b[0;32mpandas/index.pyx\u001b[0m in \u001b[0;36mpandas.index.IndexEngine.get_loc (pandas/index.c:3891)\u001b[0;34m()\u001b[0m\n",
      "\u001b[0;32mpandas/hashtable.pyx\u001b[0m in \u001b[0;36mpandas.hashtable.PyObjectHashTable.get_item (pandas/hashtable.c:12408)\u001b[0;34m()\u001b[0m\n",
      "\u001b[0;32mpandas/hashtable.pyx\u001b[0m in \u001b[0;36mpandas.hashtable.PyObjectHashTable.get_item (pandas/hashtable.c:12359)\u001b[0;34m()\u001b[0m\n",
      "\u001b[0;31mKeyError\u001b[0m: ('peaks_submitable', 'rep1')"
     ]
    }
   ],
   "source": [
    "idr_manifest[(\"peaks_submitable\", \"rep1\")] = idr_manifest[(\"peaks_submitable\", \"rep1\")].apply(lambda x: False if x.strip() == \"FALSE\" else True)"
   ]
  },
  {
   "cell_type": "code",
   "execution_count": null,
   "metadata": {
    "collapsed": false
   },
   "outputs": [],
   "source": [
    "passed_qc_idr_manifest = idr_manifest[idr_manifest[(\"peaks_submitable\", \"rep1\")]]"
   ]
  },
  {
   "cell_type": "code",
   "execution_count": null,
   "metadata": {
    "collapsed": false
   },
   "outputs": [],
   "source": [
    "num_rows = 1\n",
    "num_cols = 1\n",
    "with dataviz.Figure(os.path.join(img_dir, \"reproducibility_test_passed_qc.svg\"), figsize=(3 * num_cols, 3 * num_rows)) as fig:\n",
    "    ax = fig.add_subplot(1,1,1)\n",
    "    \n",
    "    ax.set_ylabel(\"Count\")\n",
    "    ax.set_xlabel(\"Reproducablity Test\")\n",
    "    ax.set_title(\"Number of replicates\\npassing reproducibility test\")\n",
    "    sns.despine(ax=ax)\n",
    "    \n",
    "    sns.factorplot(x='reproducibility_test', \n",
    "                   kind='count', \n",
    "                   data=passed_qc_idr_manifest, \n",
    "                   order=[\"pass\", \"borderline\", \"fail\"],\n",
    "                   ax=ax\n",
    "                  )\n",
    "    ax.set_ylabel(\"Number of Datasets\")\n",
    "    ax.set_xlabel(\"\")"
   ]
  },
  {
   "cell_type": "markdown",
   "metadata": {},
   "source": [
    "537 AGGF1 looks fine to be honest, may want to re-look at this as an honest to god false positive (or negative depending on how we are classifying)\n",
    "668 PUS1 we shouldn't have submitted, not enough read depth probably I'll need to talk with Eric about this\n",
    "617 TBERG, looks like its family mapping submittable, but we didn't call it as such.   I'll need to talk with Eric about this"
   ]
  },
  {
   "cell_type": "code",
   "execution_count": null,
   "metadata": {
    "collapsed": false
   },
   "outputs": [],
   "source": [
    "idr_manifest_passed = idr_manifest[idr_manifest.reproducibility_test != \"fail\"]\n",
    "idr_manifest_failed = idr_manifest[idr_manifest.reproducibility_test == \"fail\"]\n",
    "\n",
    "tp = len(idr_manifest_passed[idr_manifest_passed[(\"peaks_submitable\", \"rep1\")]]) * 1.0\n",
    "fp = len(idr_manifest_passed[~idr_manifest_passed[(\"peaks_submitable\", \"rep1\")]]) * 1.0\n",
    "\n",
    "fn = len(idr_manifest_failed[idr_manifest_failed[(\"peaks_submitable\", \"rep1\")]]) * 1.0\n",
    "tn = len(idr_manifest_failed[~idr_manifest_failed[(\"peaks_submitable\", \"rep1\")]]) * 1.0\n"
   ]
  },
  {
   "cell_type": "code",
   "execution_count": null,
   "metadata": {
    "collapsed": false
   },
   "outputs": [],
   "source": [
    "print tp, fp, fn, tn"
   ]
  },
  {
   "cell_type": "markdown",
   "metadata": {
    "collapsed": true
   },
   "source": [
    "# Saturation Test\n",
    "\n",
    "I'm going to ignore this, its the old peaks not sequenced deeply enough, but saturated analysis, its no unnessessary"
   ]
  },
  {
   "cell_type": "code",
   "execution_count": null,
   "metadata": {
    "collapsed": false
   },
   "outputs": [],
   "source": [
    "dataset_qc = pd.read_csv(\"/home/gpratt/Dropbox/encode_integration/for_eric/encode_master_qc.csv\")\n",
    "dataset_qc['Usable Reads'] = dataset_qc['Usable Reads'].apply(lambda x: int(x.replace(\",\", \"\")))"
   ]
  },
  {
   "cell_type": "code",
   "execution_count": null,
   "metadata": {
    "collapsed": false
   },
   "outputs": [],
   "source": [
    "merged_data.to_csv(\"/home/gpratt/Dropbox/encode_integration/for_eric/merged_data.csv\")"
   ]
  },
  {
   "cell_type": "code",
   "execution_count": null,
   "metadata": {
    "collapsed": false
   },
   "outputs": [],
   "source": [
    "small_merged_data = merged_data[merged_data.uID.isin(set(dataset_qc[dataset_qc['Usable Reads'] < 1000000].encode_id.astype(str).values))]"
   ]
  },
  {
   "cell_type": "code",
   "execution_count": null,
   "metadata": {
    "collapsed": true
   },
   "outputs": [],
   "source": [
    "def filter_data(interval):\n",
    "    #col4 is -log10 p-val\n",
    "    #col5 is -log2 fold enrichment\n",
    "    return (float(interval[4]) > 3) and (float(interval[3]) > 5)\n",
    "\n",
    "def filter_data_leneant(interval):\n",
    "    #col4 is -log10 p-val\n",
    "    #col5 is -log2 fold enrichment\n",
    "    return (float(interval[4]) > 2) and (float(interval[3]) > 3)"
   ]
  },
  {
   "cell_type": "code",
   "execution_count": null,
   "metadata": {
    "collapsed": true
   },
   "outputs": [],
   "source": [
    "def saturation_rep1(row):\n",
    "    downsampled_peaks = pybedtools.BedTool(row.clip_split_rep1)\n",
    "    normal_peaks = pybedtools.BedTool(row['uID_01.basedon_uID_01.peaks.l2inputnormnew.bed.compressed.bed'])\n",
    "    normal_peaks_filtered = normal_peaks.filter(filter_data).saveas()\n",
    "    num_normal_peaks = len(normal_peaks_filtered)\n",
    "    downsampled_filtered_peaks = downsampled_peaks.filter(filter_data_leneant).saveas()\n",
    "    num_overlapping_peaks = len(normal_peaks_filtered.intersect(downsampled_filtered_peaks, u=True, s=True))\n",
    "    return num_overlapping_peaks / (num_normal_peaks * 1.0)\n",
    "\n",
    "def saturation_rep2(row):\n",
    "    downsampled_peaks = pybedtools.BedTool(row.clip_split_rep2)\n",
    "    normal_peaks = pybedtools.BedTool(row['uID_02.basedon_uID_02.peaks.l2inputnormnew.bed.compressed.bed'])\n",
    "    normal_peaks_filtered = normal_peaks.filter(filter_data).saveas()\n",
    "    num_normal_peaks = len(normal_peaks_filtered)\n",
    "    downsampled_filtered_peaks = downsampled_peaks.filter(filter_data_leneant).saveas()\n",
    "    num_overlapping_peaks = len(normal_peaks_filtered.intersect(downsampled_filtered_peaks, u=True, s=True))\n",
    "    return num_overlapping_peaks / (num_normal_peaks * 1.0)"
   ]
  },
  {
   "cell_type": "code",
   "execution_count": null,
   "metadata": {
    "collapsed": false
   },
   "outputs": [],
   "source": [
    "hist_genes = pd.read_table(\"/home/elvannostrand/data/clip/CLIPseq_analysis/RNA_type_analysis/genelists.HISTall\", header=None,\n",
    "              )"
   ]
  },
  {
   "cell_type": "code",
   "execution_count": null,
   "metadata": {
    "collapsed": false
   },
   "outputs": [],
   "source": [
    "foo = pybedtools.BedTool(small_merged_data[small_merged_data.uID == \"262\"].clip_split_rep1.values[0]).filter(filter_data).saveas()\n",
    "foo = foo.intersect(\"/home/gpratt/clipper/clipper/data/regions/hg19_v19_genes.bed\", wo=True)"
   ]
  },
  {
   "cell_type": "code",
   "execution_count": null,
   "metadata": {
    "collapsed": false
   },
   "outputs": [],
   "source": [
    "len(foo)"
   ]
  },
  {
   "cell_type": "code",
   "execution_count": null,
   "metadata": {
    "collapsed": false
   },
   "outputs": [],
   "source": [
    "foo = pybedtools.BedTool(small_merged_data[small_merged_data.uID == \"262\"]['uID_01.basedon_uID_01.peaks.l2inputnormnew.bed.compressed.bed'].values[0]).filter(filter_data).saveas()\n",
    "foo = foo.intersect(\"/home/gpratt/clipper/clipper/data/regions/hg19_v19_genes.bed\", wo=True)\n",
    "bar = foo.filter(lambda x: x[-4] in hist_genes[0].values).saveas()"
   ]
  },
  {
   "cell_type": "code",
   "execution_count": null,
   "metadata": {
    "collapsed": false
   },
   "outputs": [],
   "source": [
    "print len(foo), len(bar)"
   ]
  },
  {
   "cell_type": "code",
   "execution_count": null,
   "metadata": {
    "collapsed": false
   },
   "outputs": [],
   "source": [
    "foo = pybedtools.BedTool(small_merged_data[small_merged_data.uID == \"262\"]['uID_02.basedon_uID_02.peaks.l2inputnormnew.bed.compressed.bed'].values[0]).filter(filter_data).saveas()\n",
    "foo = foo.intersect(\"/home/gpratt/clipper/clipper/data/regions/hg19_v19_genes.bed\", wo=True)\n",
    "bar = foo.filter(lambda x: x[-4] in hist_genes[0].values).saveas()"
   ]
  },
  {
   "cell_type": "code",
   "execution_count": null,
   "metadata": {
    "collapsed": false
   },
   "outputs": [],
   "source": [
    "print len(foo), len(bar)"
   ]
  },
  {
   "cell_type": "code",
   "execution_count": null,
   "metadata": {
    "collapsed": false
   },
   "outputs": [],
   "source": [
    "small_merged_data['downsample_rep1'] = small_merged_data.apply(saturation_rep1, axis=1)\n",
    "small_merged_data['downsample_rep2'] = small_merged_data.apply(saturation_rep2, axis=1)"
   ]
  },
  {
   "cell_type": "code",
   "execution_count": null,
   "metadata": {
    "collapsed": true
   },
   "outputs": [],
   "source": [
    "threshold = .8"
   ]
  },
  {
   "cell_type": "code",
   "execution_count": null,
   "metadata": {
    "collapsed": false
   },
   "outputs": [],
   "source": [
    "\" \".join(small_merged_data[(small_merged_data.downsample_rep1 > threshold) & (small_merged_data.downsample_rep2 > threshold)].RBP.values)"
   ]
  },
  {
   "cell_type": "code",
   "execution_count": null,
   "metadata": {
    "collapsed": false
   },
   "outputs": [],
   "source": [
    "\" \".join(small_merged_data[~((small_merged_data.downsample_rep1 > threshold) & (small_merged_data.downsample_rep2 > threshold))].RBP.values)"
   ]
  },
  {
   "cell_type": "code",
   "execution_count": null,
   "metadata": {
    "collapsed": true
   },
   "outputs": [],
   "source": [
    "def confusion_numbers(threshold):\n",
    "    small_merged_data_passed = small_merged_data[(small_merged_data.downsample_rep1 > threshold) & (small_merged_data.downsample_rep2 > threshold)]\n",
    "    small_merged_data_failed = small_merged_data[~((small_merged_data.downsample_rep1 > threshold) & (small_merged_data.downsample_rep2 > threshold))]\n",
    "\n",
    "    tp = len(small_merged_data_passed[small_merged_data_passed.uID.isin(passed_qc)]) * 1.0\n",
    "    fp = len(small_merged_data_passed[~small_merged_data_passed.uID.isin(passed_qc)]) * 1.0\n",
    "\n",
    "    fn = len(small_merged_data_failed[small_merged_data_failed.uID.isin(passed_qc)]) * 1.0\n",
    "    tn = len(small_merged_data_failed[~small_merged_data_failed.uID.isin(passed_qc)]) * 1.0\n",
    "    \n",
    "    return tp, fp, fn, tn"
   ]
  },
  {
   "cell_type": "code",
   "execution_count": null,
   "metadata": {
    "collapsed": false
   },
   "outputs": [],
   "source": [
    "true_positive_array = []\n",
    "false_positive_array = []\n",
    "\n",
    "for threshold in np.arange(0,1, .01):\n",
    "\n",
    "\n",
    "    tp, fp, fn, tn = confusion_numbers(threshold)\n",
    "    true_positive_rate = tp / (tp + fn)\n",
    "    false_positive_rate = fp / (fp + tn)\n",
    "    \n",
    "    true_positive_array.append(true_positive_rate)\n",
    "    false_positive_array.append(false_positive_rate)"
   ]
  },
  {
   "cell_type": "code",
   "execution_count": null,
   "metadata": {
    "collapsed": false
   },
   "outputs": [],
   "source": [
    "num_rows = 1\n",
    "num_cols = 1\n",
    "with dataviz.Figure(os.path.join(img_dir, \"reproducibility_test_passed_qc.svg\"), figsize=(3 * num_cols, 3 * num_rows)) as fig:\n",
    "    ax = fig.add_subplot(1,1,1)\n",
    "    ax.plot(false_positive_array, true_positive_array)\n",
    "    ax.set_ylabel(\"True Positive Rate\")\n",
    "    ax.set_xlabel(\"False Positive Rate\")\n",
    "    sns.despine(ax=ax)\n",
    "    ax.set_title(\"ROC Curve\")"
   ]
  },
  {
   "cell_type": "code",
   "execution_count": null,
   "metadata": {
    "collapsed": false
   },
   "outputs": [],
   "source": [
    "confusion_numbers(.8)"
   ]
  },
  {
   "cell_type": "code",
   "execution_count": null,
   "metadata": {
    "collapsed": true
   },
   "outputs": [],
   "source": [
    "sns.set_style(\"ticks\")"
   ]
  },
  {
   "cell_type": "code",
   "execution_count": null,
   "metadata": {
    "collapsed": false
   },
   "outputs": [],
   "source": [
    "num_rows = 1\n",
    "num_cols = 1\n",
    "with dataviz.Figure(os.path.join(img_dir, \"short_peak_overlap.svg\"), figsize=(5 * num_cols, 5 * num_rows)) as fig:\n",
    "    ax = fig.add_subplot(1,1,1)\n",
    "    \n",
    "    sns.distplot(pd.concat([small_merged_data.downsample_rep1, small_merged_data.downsample_rep2]), \n",
    "                 bins=10, \n",
    "                 kde=False,\n",
    "                ax=ax)\n",
    "    ax.set_ylabel(\"Number of Datasets\", fontsize=18)\n",
    "    ax.set_xlabel(\"Fraction Overlapping\", fontsize=18)\n",
    "    ax.set_title(\"Overlap of downsampled\\npeaks with all peaks\", fontsize=18)\n",
    "    sns.despine(ax=ax)\n",
    "    ax.axvline(.8, color=\".7\", linestyle=\"--\")\n",
    "    [tick.set_fontsize(14) for tick in ax.get_xticklabels()]\n",
    "    [tick.set_fontsize(14) for tick in ax.get_yticklabels()]"
   ]
  },
  {
   "cell_type": "markdown",
   "metadata": {},
   "source": [
    "I'll need to go back and look again somehow quantify?, but looking at the ones we failed and fail the low QC numbers they are all ones we didn't identify any real peaks.\n",
    "\n",
    "The ones that passesed we were generally confused about and decided not to submit because we couldn't find any real signal.  Additionally some still wouldn't pass due to differences in sequencing depth (one dataset only had 30k reads or something).  But would pass the initial filter step.  "
   ]
  },
  {
   "cell_type": "markdown",
   "metadata": {},
   "source": [
    "# This might still be useful, can't figure out whats going on with the code though"
   ]
  },
  {
   "cell_type": "code",
   "execution_count": null,
   "metadata": {
    "collapsed": true
   },
   "outputs": [],
   "source": [
    "# result = {}\n",
    "# for name, row in df.iterrows():\n",
    "#     encode_id = row['uID_01.basedon_uID_01.peaks.l2inputnormnew.bed.compressed.bed'].split(\"_\")[0]\n",
    "#     try:\n",
    "#         rep1 = pybedtools.BedTool(os.path.join(peaks_dir, (row['uID_01.basedon_uID_01.peaks.l2inputnormnew.bed.compressed.bed'])))\n",
    "#         rep2 = pybedtools.BedTool(os.path.join(peaks_dir, (row['uID_02.basedon_uID_02.peaks.l2inputnormnew.bed.compressed.bed'])))\n",
    "#         idr_peaks = pybedtools.BedTool(\"/home/gpratt/projects/encode/analysis/idr_analysis_score/{}.txt\".format(encode_id))\n",
    "#     except ValueError as e:\n",
    "#         print e\n",
    "#         continue\n",
    "#     rep1_enriched = rep1.filter(filter_data).saveas()\n",
    "#     rep2_enriched = rep2.filter(filter_data).saveas()\n",
    "#     idr_peaks_filtered = idr_peaks.filter(lambda x: float(x.score) > 540).saveas()\n",
    "    \n",
    "#     overlapping_r1_r2 = rep1.intersect(rep2, s=True, u=True)\n",
    "#     overlapping_r1_r2_enriched = overlapping_r1_r2.filter(filter_data).saveas()\n",
    "    \n",
    "#     result[encode_id] = {\"rep1_enriched_peaks\": len(rep1_enriched),\n",
    "#                          \"idr_peaks\": len(idr_peaks),\n",
    "#                          \"rep1_rep2_overlap\": len(overlapping_r1_r2),\n",
    "#                          \"rep1_rep2_overlap_enriched\": len(overlapping_r1_r2_enriched),\n",
    "#                          \"rep1_enriched_with_idr\": len(rep1_enriched.intersect(idr_peaks_filtered, u=True)),\n",
    "#                          \"overlapping_enriched_with_idr\": len(overlapping_r1_r2_enriched.intersect(idr_peaks_filtered, u=True)) \n",
    "#                         }\n",
    "    \n",
    "# result = pd.DataFrame(result).T\n",
    "\n",
    "# result['rep1_enriched_fraction'] = result.overlapping_enriched_with_idr / result.rep1_enriched_peaks\n",
    "# result['overlapping_enriched_fraction'] = result.overlapping_enriched_with_idr / result.rep1_rep2_overlap_enriched\n",
    "# with dataviz.Figure(os.path.join(img_dir, \"overlapping_enriched.svg\"), figsize=(2.5 * num_cols,2.5*num_rows)) as fig:\n",
    "#     ax = fig.add_subplot(1,1,1)\n",
    "#     dataviz.plot_cdf(result.overlapping_enriched_fraction, ax=ax)\n",
    "#     ax.set_xlim(0,1)\n",
    "#     sns.despine(ax=ax)\n",
    "\n",
    "# with dataviz.Figure(os.path.join(img_dir, \"overlapping_enriched.svg\"), figsize=(4 * num_cols,4*num_rows)) as fig:\n",
    "#     ax = fig.add_subplot(1,1,1)\n",
    "#     dataviz.plot_cdf(result.rep1_enriched_fraction, ax=ax, linewidth=4, alpha=.7, color='k')\n",
    "#     ax.set_xlim(0,1)\n",
    "#     sns.despine(ax=ax)\n",
    "#     ax.set_ylabel(\"Cumulative Fraction\", fontsize=14)\n",
    "#     ax.set_xlabel(\"Fraction of enriched\\npeaks overlapping with IDR peaks\", fontsize=14)\n",
    "\n",
    "# with dataviz.Figure(os.path.join(img_dir, \"enriched_scatter.svg\"), figsize=(4 * num_cols,4*num_rows)) as fig:\n",
    "#     ax = fig.add_subplot(1,1,1)\n",
    "#     ax.scatter(result.rep1_enriched_peaks, result.rep1_enriched_fraction, color='k', alpha=.5)\n",
    "#     sns.despine(ax=ax)\n",
    "#     ax.set_ylim(0,1)\n",
    "#     ax.set_xlabel(\"# of peaks stringently enriched above input\\np-value <= $10^{-5}$, fold enrichment >= 3\", fontsize=14)\n",
    "#     ax.set_ylabel(\"Fraction oberved in IDR\", fontsize=14)\n",
    "#     ax.set_xlim(0,)\n",
    "    \n"
   ]
  }
 ],
 "metadata": {
  "kernelspec": {
   "display_name": "Python 2",
   "language": "python",
   "name": "python2"
  },
  "language_info": {
   "codemirror_mode": {
    "name": "ipython",
    "version": 2
   },
   "file_extension": ".py",
   "mimetype": "text/x-python",
   "name": "python",
   "nbconvert_exporter": "python",
   "pygments_lexer": "ipython2",
   "version": "2.7.12"
  }
 },
 "nbformat": 4,
 "nbformat_minor": 0
}
