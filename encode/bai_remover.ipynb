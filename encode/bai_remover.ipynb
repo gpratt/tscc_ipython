{
 "cells": [
  {
   "cell_type": "code",
   "execution_count": 16,
   "metadata": {
    "collapsed": true
   },
   "outputs": [],
   "source": [
    "import glob\n",
    "import itertools\n",
    "import os"
   ]
  },
  {
   "cell_type": "code",
   "execution_count": 10,
   "metadata": {
    "collapsed": true
   },
   "outputs": [],
   "source": [
    "bam = glob.glob(\"/home/gpratt/projects/encode/analysis/encode_v8/*.rmDup.sorted.bam\")\n",
    "bai = glob.glob(\"/home/gpratt/projects/encode/analysis/encode_v8/*.rmDup.sorted.bam.bai\")\n",
    "merged_bam = glob.glob(\"/home/gpratt/projects/encode/analysis/encode_v8/*.merged.r2.bam\")\n",
    "merged_bai = glob.glob(\"/home/gpratt/projects/encode/analysis/encode_v8/*.merged.r2.bam.bai\")"
   ]
  },
  {
   "cell_type": "code",
   "execution_count": 13,
   "metadata": {
    "collapsed": false
   },
   "outputs": [],
   "source": [
    "all_important_bais = sorted(bam + bai + merged_bam + merged_bai)"
   ]
  },
  {
   "cell_type": "code",
   "execution_count": 25,
   "metadata": {
    "collapsed": false
   },
   "outputs": [
    {
     "data": {
      "text/plain": [
       "[]"
      ]
     },
     "execution_count": 25,
     "metadata": {},
     "output_type": "execute_result"
    }
   ],
   "source": [
    "list(lst)"
   ]
  },
  {
   "cell_type": "code",
   "execution_count": 36,
   "metadata": {
    "collapsed": false
   },
   "outputs": [
    {
     "data": {
      "text/plain": [
       "1439043882.0"
      ]
     },
     "execution_count": 36,
     "metadata": {},
     "output_type": "execute_result"
    }
   ],
   "source": [
    "os.path.getmtime(bam)"
   ]
  },
  {
   "cell_type": "code",
   "execution_count": 35,
   "metadata": {
    "collapsed": false
   },
   "outputs": [
    {
     "data": {
      "text/plain": [
       "1439044001.0"
      ]
     },
     "execution_count": 35,
     "metadata": {},
     "output_type": "execute_result"
    }
   ],
   "source": [
    "os.path.getmtime(bai)"
   ]
  },
  {
   "cell_type": "code",
   "execution_count": 38,
   "metadata": {
    "collapsed": false
   },
   "outputs": [
    {
     "data": {
      "text/plain": [
       "'/home/gpratt/projects/encode/analysis/encode_v8/344_INPUT_ATTACTCG-ATAGAGGC_L001_R1.unassigned.adapterTrim.round2.rmRep.rmDup.sorted.bam'"
      ]
     },
     "execution_count": 38,
     "metadata": {},
     "output_type": "execute_result"
    }
   ],
   "source": [
    "bam"
   ]
  },
  {
   "cell_type": "code",
   "execution_count": 39,
   "metadata": {
    "collapsed": false
   },
   "outputs": [
    {
     "data": {
      "text/plain": [
       "'/home/gpratt/projects/encode/analysis/encode_v8/344_INPUT_ATTACTCG-ATAGAGGC_L001_R1.unassigned.adapterTrim.round2.rmRep.rmDup.sorted.bam.bai'"
      ]
     },
     "execution_count": 39,
     "metadata": {},
     "output_type": "execute_result"
    }
   ],
   "source": [
    "bai"
   ]
  },
  {
   "cell_type": "code",
   "execution_count": 37,
   "metadata": {
    "collapsed": false
   },
   "outputs": [
    {
     "data": {
      "text/plain": [
       "True"
      ]
     },
     "execution_count": 37,
     "metadata": {},
     "output_type": "execute_result"
    }
   ],
   "source": [
    "os.path.getmtime(\"/home/gpratt/projects/encode/analysis/encode_v8/354_02_NPM1.merged.r2.bam\") > os.path.getmtime(\"/home/gpratt/projects/encode/analysis/encode_v8/354_02_NPM1.merged.r2.bam.bai\")\n"
   ]
  },
  {
   "cell_type": "code",
   "execution_count": 44,
   "metadata": {
    "collapsed": false,
    "scrolled": false
   },
   "outputs": [
    {
     "name": "stdout",
     "output_type": "stream",
     "text": [
      "need more than 1 value to unpack /home/gpratt/projects/encode/analysis/encode_v8/344_INPUT_ATTACTCG-ATAGAGGC_L001_R1.unassigned.adapterTrim.round2.rmRep.rmDup.sorted.bam.bai\n",
      "need more than 1 value to unpack /home/gpratt/projects/encode/analysis/encode_v8/393_01_SF3A3.merged.r2.bam.bai\n",
      "need more than 1 value to unpack /home/gpratt/projects/encode/analysis/encode_v8/393_INPUT_GAATTCGT-GGCTCTGA_L003_R1.unassigned.adapterTrim.round2.rmRep.rmDup.sorted.bam.bai\n",
      "need more than 1 value to unpack /home/gpratt/projects/encode/analysis/encode_v8/393_INPUT_GAATTCGT-GGCTCTGA_L003_R1.unassigned.adapterTrim.round2.rmRep.rmDup.sorted.bam.bai\n",
      "need more than 1 value to unpack /home/gpratt/projects/encode/analysis/encode_v8/405_01_NONO.merged.r2.bam.bai\n",
      "need more than 1 value to unpack /home/gpratt/projects/encode/analysis/encode_v8/F7_IP_IgG_CGCTCATT-CCTATCCT_L008_R1.B06_F7_IP_mnCLIP_IgG_high_1_hnRNPA2B1.adapterTrim.round2.rmRep.rmDup.sorted.bam.bai\n"
     ]
    }
   ],
   "source": [
    "for name, lst in itertools.groupby(all_important_bais, lambda x: \".\".join(os.path.basename(x).split(\".\")[:2])):\n",
    "    try:\n",
    "        bam, bai = list(lst)\n",
    "        if os.path.getmtime(bam) > os.path.getmtime(bai):\n",
    "            !rm $bai\n",
    "    except ValueError as e:\n",
    "        print e, bai"
   ]
  },
  {
   "cell_type": "code",
   "execution_count": null,
   "metadata": {
    "collapsed": true
   },
   "outputs": [],
   "source": []
  }
 ],
 "metadata": {
  "kernelspec": {
   "display_name": "Python 2",
   "language": "python",
   "name": "python2"
  },
  "language_info": {
   "codemirror_mode": {
    "name": "ipython",
    "version": 2
   },
   "file_extension": ".py",
   "mimetype": "text/x-python",
   "name": "python",
   "nbconvert_exporter": "python",
   "pygments_lexer": "ipython2",
   "version": "2.7.10"
  }
 },
 "nbformat": 4,
 "nbformat_minor": 0
}
