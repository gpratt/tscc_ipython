{
 "cells": [
  {
   "cell_type": "code",
   "execution_count": 6,
   "metadata": {
    "collapsed": true
   },
   "outputs": [],
   "source": [
    "import glob\n",
    "import os"
   ]
  },
  {
   "cell_type": "code",
   "execution_count": 3,
   "metadata": {
    "collapsed": false
   },
   "outputs": [],
   "source": [
    "bgs = glob.glob(\"/projects/ps-yeolab3/encode/analysis/normalized_wigs_v2/*.normalized.bg\")"
   ]
  },
  {
   "cell_type": "code",
   "execution_count": 16,
   "metadata": {
    "collapsed": true
   },
   "outputs": [],
   "source": [
    "bedgraph_names = [\"_\".join(os.path.basename(name).split(\"_\")[:2]) for name in bgs]\n",
    "bedgraph_out = \" \".join(bedgraph_names)"
   ]
  },
  {
   "cell_type": "code",
   "execution_count": 23,
   "metadata": {
    "collapsed": false
   },
   "outputs": [],
   "source": [
    "with open(\"/projects/ps-yeolab3/encode/analysis/segway/batch_load_full_data.sh\", 'w') as out_file:\n",
    "    out_file.write(\"#!/bin/bash\\n\\n\")\n",
    "    out_file.write(\"genomedata-open-data genomedata.full {}\\n\".format(bedgraph_out))\n",
    "    \n",
    "    for fn, track_name in zip(bgs, bedgraph_names):\n",
    "        out_file.write(\"genomedata-load-data genomedata.full {} < {}\\n\".format(track_name, fn))\n",
    "    \n",
    "    out_file.write(\"echo done loading data\\n\")\n",
    "    out_file.write(\"genomedata-close-data genomedata.full\\n\")"
   ]
  },
  {
   "cell_type": "code",
   "execution_count": null,
   "metadata": {
    "collapsed": true
   },
   "outputs": [],
   "source": []
  }
 ],
 "metadata": {
  "kernelspec": {
   "display_name": "Python 2",
   "language": "python",
   "name": "python2"
  },
  "language_info": {
   "codemirror_mode": {
    "name": "ipython",
    "version": 2
   },
   "file_extension": ".py",
   "mimetype": "text/x-python",
   "name": "python",
   "nbconvert_exporter": "python",
   "pygments_lexer": "ipython2",
   "version": "2.7.12"
  }
 },
 "nbformat": 4,
 "nbformat_minor": 0
}
