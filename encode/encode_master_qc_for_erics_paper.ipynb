{
 "cells": [
  {
   "cell_type": "code",
   "execution_count": 1,
   "metadata": {
    "collapsed": false
   },
   "outputs": [
    {
     "name": "stderr",
     "output_type": "stream",
     "text": [
      "/home/gpratt/anaconda/lib/python2.7/site-packages/IPython/html.py:14: ShimWarning: The `IPython.html` package has been deprecated. You should import from `notebook` instead. `IPython.html.widgets` has moved to `ipywidgets`.\n",
      "  \"`IPython.html.widgets` has moved to `ipywidgets`.\", ShimWarning)\n"
     ]
    }
   ],
   "source": [
    "%matplotlib inline\n",
    "from collections import defaultdict, Counter\n",
    "import glob\n",
    "import os\n",
    "import json\n",
    "\n",
    "from IPython.core.display import HTML, Image\n",
    "from matplotlib_venn import venn3\n",
    "import pandas as pd\n",
    "import pybedtools\n",
    "import pysam\n",
    "import gspread\n",
    "from gscripts.general import parsers\n",
    "from gscripts.general import dataviz\n",
    "%load_ext autoreload\n",
    "import numpy as np\n",
    "%autoreload 2\n",
    "reload(parsers)\n",
    "reload(pybedtools)\n",
    "import seaborn as sns\n",
    "import matplotlib\n",
    "from oauth2client.client import SignedJwtAssertionCredentials\n",
    "from matplotlib.ticker import ScalarFormatter, FormatStrFormatter\n",
    "\n",
    "img_dir = \"/home/gpratt/Dropbox/encode_integration/for_eric/\""
   ]
  },
  {
   "cell_type": "code",
   "execution_count": 8,
   "metadata": {
    "collapsed": false
   },
   "outputs": [],
   "source": [
    "# Load eCLIP Data\n",
    "final_qc_frame = pd.read_csv(\"/home/gpratt/Dropbox/EricGabe_ENCODE/encode_master_qc.csv\", index_col=[0,1,2,3,4,5])\n",
    "encode_qc = pd.read_csv(\"/home/gpratt/Dropbox/EricGabe_ENCODE/unannoated_encode_master_qc.csv\", index_col=0)\n",
    "\n",
    "filtered_final_qc_frame = final_qc_frame[[ \"Input Reads\", \"Reads Written\", \"repetitive_count\", \"Reads Passing Quality Filter\",\n",
    "                                          \"Uniquely Mapped Reads\", \"Uniquely mapped reads %\", 'Number of reads mapped to too many loci',\n",
    "                                          '% of reads unmapped: too short', '% of reads mapped to too many loci', \"Usable Reads\",\n",
    "                                          \"Fraction Collapsed\", \"Fraction Usable\", \"Num Peaks\",]]\n",
    "\n",
    "grouped_final_qc_frame = filtered_final_qc_frame.groupby(level=['rbp', 'encode_id', 'rep', 'cell_type', 'full_name']).sum()\n",
    "grouped_final_qc_frame[\"Fraction Collapsed\"] = grouped_final_qc_frame['Usable Reads'] / grouped_final_qc_frame['Uniquely Mapped Reads'].astype(float)\n",
    "grouped_final_qc_frame[\"Fraction Usable\"] = grouped_final_qc_frame['Usable Reads'] / grouped_final_qc_frame['Input Reads'].astype(float)\n",
    "grouped_final_qc_frame = grouped_final_qc_frame.drop(\"Num Peaks\", axis=1)\n",
    "grouped_final_qc_frame = grouped_final_qc_frame.dropna()\n",
    "\n",
    "encode_only_qc = grouped_final_qc_frame[[item[0].isdigit() and item[-1].isdigit() for item in grouped_final_qc_frame.index.get_level_values(level=\"encode_id\")]]\n"
   ]
  },
  {
   "cell_type": "code",
   "execution_count": 9,
   "metadata": {
    "collapsed": true
   },
   "outputs": [],
   "source": [
    "# Load iCLIP data\n",
    "old_encode = pd.read_csv(\"/home/gpratt/Dropbox/EricGabe_ENCODE/old_encode_qc.csv\", index_col=0)\n",
    "unmerged_old_encode_manifest = old_encode[[len(index.split(\".\")[1].split(\"_\")) > 1 for index in old_encode.index]]"
   ]
  },
  {
   "cell_type": "code",
   "execution_count": 16,
   "metadata": {
    "collapsed": true
   },
   "outputs": [],
   "source": [
    "unmerged_public_iclip_manifest = pd.read_csv('/home/gpratt/Dropbox/encode_integration/for_eric/public_iclip_qc.csv', index_col=0)"
   ]
  },
  {
   "cell_type": "code",
   "execution_count": 33,
   "metadata": {
    "collapsed": false
   },
   "outputs": [],
   "source": [
    "public_clip = pd.read_csv('/home/gpratt/Dropbox/encode_integration/for_eric/public_clip_qc.csv', index_col=0)\n",
    "public_iclip = pd.read_csv('/home/gpratt/Dropbox/encode_integration/for_eric/public_iclip_cleaned_qc.csv', index_col=0)"
   ]
  },
  {
   "cell_type": "code",
   "execution_count": 23,
   "metadata": {
    "collapsed": true
   },
   "outputs": [],
   "source": [
    "publication_list = pd.read_table(\"/home/elvannostrand/data/clip/CLIPseq_analysis/Method_paper_figures/MethodPaperFileList_FINAL100415.txt\")"
   ]
  },
  {
   "cell_type": "code",
   "execution_count": 24,
   "metadata": {
    "collapsed": false
   },
   "outputs": [],
   "source": [
    "stats_for_publication = encode_only_qc[[int(encode_id) in publication_list.uID.values for encode_id in encode_only_qc.index.get_level_values(level=\"encode_id\")]]\n",
    "stats_for_publication = stats_for_publication[[\"INPUT\" != rep for rep in stats_for_publication.index.get_level_values(level=\"rep\")]]\n",
    "stats_for_publication = stats_for_publication.dropna()"
   ]
  },
  {
   "cell_type": "code",
   "execution_count": 25,
   "metadata": {
    "collapsed": true
   },
   "outputs": [],
   "source": [
    "real_encode_v10 = unmerged_old_encode_manifest.ix[[\"DirectIP\" not in name for name in unmerged_old_encode_manifest.index]]\n",
    "real_encode_v10 = real_encode_v10.ix[[len(name.split(\".\")[1].split(\"_\")) > 1 for name in real_encode_v10.index]]\n",
    "real_encode_v10 = real_encode_v10.ix[[\"LiCLIP\" not in name for name in real_encode_v10.index]]\n",
    "real_encode_v10 = real_encode_v10.ix[[\"ZNL\" not in name for name in real_encode_v10.index]]\n",
    "real_encode_v10 = real_encode_v10.ix[[\"ZNH\" not in name for name in real_encode_v10.index]]\n",
    "real_encode_v10 = real_encode_v10.ix[[not name.endswith(\"_a\") for name in real_encode_v10.index]]\n",
    "real_encode_v10 = real_encode_v10.ix[[not name.endswith(\"_b\") for name in real_encode_v10.index]]\n",
    "\n",
    "fus = real_encode_v10.ix[[(\"FUS\" in name) or (\"EIF4G1\" in name) or (\"TAL1\" in name) for name in real_encode_v10.index]]\n",
    "\n",
    "imp_data = pd.read_table(\"/home/gpratt/projects/encode/scripts/encode_clipseq_imp.txt\", header=None, names=['path', 'species', 'merge'])\n",
    "imp_data['full_name'] = imp_data.path.apply(os.path.basename).apply(lambda x: \".\".join(x.split(\".\")[:2]))\n",
    "merged_imp = pd.merge(real_encode_v10, imp_data, left_index=True, right_on=\"full_name\")\n",
    "merged_imp = merged_imp.groupby(\"merge\").sum()\n",
    "\n",
    "merged_imp[\"Fraction Collapsed\"] = merged_imp['Usable Reads'] / merged_imp['Uniquely Mapped Reads'].astype(float)\n",
    "merged_imp[\"Fraction Usable\"] = merged_imp['Usable Reads'] / merged_imp['Input Reads'].astype(float)\n",
    "submitted_old_encode = pd.concat([fus, merged_imp])\n"
   ]
  },
  {
   "cell_type": "code",
   "execution_count": 26,
   "metadata": {
    "collapsed": false
   },
   "outputs": [],
   "source": [
    "all_iclip = pd.concat([submitted_old_encode, unmerged_public_iclip_manifest])\n",
    "all_iclip['annotation'] = \"All iCLIP\""
   ]
  },
  {
   "cell_type": "code",
   "execution_count": 27,
   "metadata": {
    "collapsed": false
   },
   "outputs": [],
   "source": [
    "stats_for_publication['annotation'] = \"ENCODE eCLIP\"\n",
    "submitted_old_encode['annotation'] = \"ENCODE iCLIP Submitted\"\n",
    "#unmerged_old_encode_manifest['annotation'] = \"ENCODE iCLIP\"\n",
    "unmerged_public_iclip_manifest['annotation'] = \"Public iCLIP\"\n",
    "public_clip['annotation'] = \"Public CLIP\"\n",
    "\n",
    "master_df = pd.concat([stats_for_publication,\n",
    "                       submitted_old_encode,\n",
    "                       #unmerged_old_encode_manifest,\n",
    "                       unmerged_public_iclip_manifest,\n",
    "                       public_clip,\n",
    "                       all_iclip])"
   ]
  },
  {
   "cell_type": "markdown",
   "metadata": {},
   "source": [
    "# Show that the total number of usable reads is far and away better than other non-encode stuff"
   ]
  },
  {
   "cell_type": "code",
   "execution_count": 28,
   "metadata": {
    "collapsed": true
   },
   "outputs": [],
   "source": [
    "master_df = master_df[master_df['Uniquely Mapped Reads'] > 100000]"
   ]
  },
  {
   "cell_type": "code",
   "execution_count": 29,
   "metadata": {
    "collapsed": true
   },
   "outputs": [],
   "source": [
    "master_df = master_df[[ \"Input Reads\",\n",
    "                                #'Trimmed bases',\n",
    "                            #\"Reads Written\",\n",
    "                            #\"repetitive_count\",\n",
    "                            \"Uniquely Mapped Reads\",\n",
    "                            #\"Uniquely mapped reads %\",\n",
    "                            \"Usable Reads\",\n",
    "                            \"Fraction Collapsed\",\n",
    "                            \"Fraction Usable\",\n",
    "                            #\"spot\",\n",
    "                            #\"Num Peaks\",\n",
    "                       \"annotation\"\n",
    "                            #\"Passed QC\"\n",
    "                            ]]"
   ]
  },
  {
   "cell_type": "code",
   "execution_count": 30,
   "metadata": {
    "collapsed": false
   },
   "outputs": [
    {
     "data": {
      "image/png": "[encoded data removed]",
      "text/plain": [
       "<matplotlib.figure.Figure at 0x2ae39dd2aad0>"
      ]
     },
     "metadata": {},
     "output_type": "display_data"
    }
   ],
   "source": [
    "num_rows = 1 \n",
    "num_cols = 2 \n",
    "with dataviz.Figure(os.path.join(img_dir, \"usable_reads_plots_publication.svg\"), figsize=(2.5 * num_cols,2.5*num_rows)) as fig:\n",
    "    ax = fig.add_subplot(1,1,1)\n",
    "    sns.violinplot(y=\"Usable Reads\", x=\"annotation\", data=master_df,\n",
    "                   ax=ax,\n",
    "                   fontsize=10,\n",
    "                  inner=\"box\",\n",
    "                   bw=.4,\n",
    "                  )\n",
    "    ax.set_ylim(0,15000000)\n",
    "    xx = ax.get_yticks()\n",
    "    ll = ['{:,d}'.format(int(a)) for a in xx]\n",
    "    ax.set_yticklabels(ll, fontsize=10)\n",
    "    sns.despine(ax=ax)\n",
    "    ax.set_title(\"Number of Usable Reads\", fontsize=12)\n",
    "    ax.set_ylabel(\"Number of Usable Reads\")\n",
    "    ax.set_xlabel(\"\")\n",
    "    #[tick.set_rotation(90) for tick in ax.get_xticklabels()]\n",
    "    #[tick.set_fontsize(8) for tick in ax.get_xticklabels()]"
   ]
  },
  {
   "cell_type": "code",
   "execution_count": 34,
   "metadata": {
    "collapsed": false
   },
   "outputs": [
    {
     "name": "stdout",
     "output_type": "stream",
     "text": [
      "4195094.66387 1207411.0 1117863.07895 1041426.67429\n",
      "3360275.0 433316.5 207549.0 191204.0\n"
     ]
    }
   ],
   "source": [
    "print stats_for_publication['Usable Reads'].dropna().mean(),unmerged_old_encode_manifest['Usable Reads'].dropna().mean(), public_iclip['Usable Reads'].dropna().mean(), public_clip['Usable Reads'].dropna().mean()\n",
    "print stats_for_publication['Usable Reads'].dropna().median(),unmerged_old_encode_manifest['Usable Reads'].dropna().median(), public_iclip['Usable Reads'].dropna().median(), public_clip['Usable Reads'].dropna().median()"
   ]
  },
  {
   "cell_type": "code",
   "execution_count": 35,
   "metadata": {
    "collapsed": false
   },
   "outputs": [
    {
     "data": {
      "image/png": "[encoded data removed]",
      "text/plain": [
       "<matplotlib.figure.Figure at 0x2ae3a10e9250>"
      ]
     },
     "metadata": {},
     "output_type": "display_data"
    }
   ],
   "source": [
    "num_rows = 1 \n",
    "num_cols = 2 \n",
    "with dataviz.Figure(os.path.join(img_dir, \"fraction_usable_reads_plots_publication.svg\"), figsize=(2.5 * num_cols,2.5*num_rows)) as fig:\n",
    "    ax = fig.add_subplot(1,1,1)\n",
    "    sns.violinplot(y=\"Fraction Usable\", x=\"annotation\", data=master_df,\n",
    "                   ax=ax,\n",
    "                   fontsize=10,\n",
    "                  inner=\"box\")\n",
    "\n",
    "    ax.set_ylim(0,1)\n",
    "    #xx = ax.get_yticks()\n",
    "    #ll = ['{:,d}'.format(int(a)) for a in xx]\n",
    "    #ax.set_yticklabels(ll, fontsize=10)\n",
    "    sns.despine(ax=ax)\n",
    "    ax.set_title(\"Fraction of Usable / Input\", fontsize=12)\n",
    "    ax.set_ylabel(\"Fraction of Usable / Input\")\n",
    "    ax.set_xlabel(\"\")"
   ]
  },
  {
   "cell_type": "code",
   "execution_count": 36,
   "metadata": {
    "collapsed": false
   },
   "outputs": [
    {
     "name": "stdout",
     "output_type": "stream",
     "text": [
      "0.338735499478 0.163483902124 0.228532752639 0.04305766771\n",
      "0.318402962709 0.131784929035 0.145375414729 0.011520680051\n"
     ]
    }
   ],
   "source": [
    "print stats_for_publication['Fraction Usable'].dropna().mean(), unmerged_old_encode_manifest['Fraction Usable'].dropna().mean(), public_iclip['Fraction Usable'].dropna().mean(), public_clip['Fraction Usable'].dropna().mean()\n",
    "print stats_for_publication['Fraction Usable'].dropna().median(), unmerged_old_encode_manifest['Fraction Usable'].dropna().median(), public_iclip['Fraction Usable'].dropna().median(), public_clip['Fraction Usable'].dropna().median()"
   ]
  },
  {
   "cell_type": "code",
   "execution_count": 37,
   "metadata": {
    "collapsed": false
   },
   "outputs": [
    {
     "data": {
      "image/png": "[encoded data removed]",
      "text/plain": [
       "<matplotlib.figure.Figure at 0x2ae3a11df310>"
      ]
     },
     "metadata": {},
     "output_type": "display_data"
    }
   ],
   "source": [
    "num_rows = 1 \n",
    "num_cols = 2 \n",
    "with dataviz.Figure(os.path.join(img_dir, \"fraction_collapsed_reads_publication.svg\"), figsize=(2.5 * num_cols,2.5*num_rows)) as fig:\n",
    "    ax = fig.add_subplot(1,1,1)\n",
    "\n",
    "    sns.stripplot(y=\"Fraction Collapsed\", x=\"annotation\", data=master_df,\n",
    "                   ax=ax,\n",
    "                   #fontsize=10,\n",
    "                  #inner=\"box\",\n",
    "                   # bw=.3,\n",
    "                   #scale=\"width\"\n",
    "                  jitter=1,\n",
    "                  edgecolor=None,\n",
    "                  size=3\n",
    "                  )\n",
    "    sns.violinplot(y=\"Fraction Collapsed\", x=\"annotation\", data=master_df,\n",
    "                   ax=ax,\n",
    "                   fontsize=10,\n",
    "                  inner=\"box\",\n",
    "                    bw=.3,\n",
    "                   scale=\"width\"\n",
    "                  )\n",
    "    \n",
    "    ax.set_ylim(0,1)\n",
    "    #xx = ax.get_yticks()\n",
    "    #ll = ['{:,d}'.format(int(a)) for a in xx]\n",
    "    #ax.set_yticklabels(ll, fontsize=10)\n",
    "    sns.despine(ax=ax)\n",
    "    ax.set_title(\"Fraction of Collapsed Reads / Mapped\", fontsize=12)\n",
    "    ax.set_ylabel(\"Fraction Usable / Mapped\")\n",
    "    ax.set_xlabel(\"\")"
   ]
  },
  {
   "cell_type": "code",
   "execution_count": 38,
   "metadata": {
    "collapsed": false
   },
   "outputs": [
    {
     "name": "stdout",
     "output_type": "stream",
     "text": [
      "0.791667603172 0.83315055382 0.394516165128 0.284485727844\n",
      "0.854945000252 0.8623792904 0.270837383991 0.211927306048\n"
     ]
    }
   ],
   "source": [
    "print stats_for_publication['Fraction Collapsed'].dropna().mean(),unmerged_old_encode_manifest['Fraction Collapsed'].dropna().mean(), public_iclip['Fraction Collapsed'].dropna().mean(), public_clip['Fraction Collapsed'].dropna().mean()\n",
    "print stats_for_publication['Fraction Collapsed'].dropna().median(),unmerged_old_encode_manifest['Fraction Collapsed'].dropna().median(), public_iclip['Fraction Collapsed'].dropna().median(), public_clip['Fraction Collapsed'].dropna().median()"
   ]
  },
  {
   "cell_type": "code",
   "execution_count": 39,
   "metadata": {
    "collapsed": false
   },
   "outputs": [
    {
     "data": {
      "text/plain": [
       "(119, 0, 36, 41, 180)"
      ]
     },
     "execution_count": 39,
     "metadata": {},
     "output_type": "execute_result"
    }
   ],
   "source": [
    "len(stats_for_publication), len(submitted_old_encode), len(unmerged_old_encode_manifest), len(public_iclip), len(public_clip)"
   ]
  },
  {
   "cell_type": "code",
   "execution_count": 41,
   "metadata": {
    "collapsed": true
   },
   "outputs": [],
   "source": [
    "submitted_old_encode.to_csv('/home/gpratt/Dropbox/encode_integration/for_eric/old_encode_clips.csv')\n",
    "public_clip.to_csv('/home/gpratt/Dropbox/encode_integration/for_eric/old_public_clips.csv')\n",
    "public_iclip.to_csv('/home/gpratt/Dropbox/encode_integration/for_eric/old_public_iclips.csv')"
   ]
  },
  {
   "cell_type": "code",
   "execution_count": null,
   "metadata": {
    "collapsed": true
   },
   "outputs": [],
   "source": [
    "def join_if_tuple(item):\n",
    "    if type(item) is tuple:\n",
    "        return \"_\".join(item)\n",
    "    else:\n",
    "        return item\n",
    "    \n",
    "master_df.index = [join_if_tuple(item) for item in master_df.index]"
   ]
  },
  {
   "cell_type": "code",
   "execution_count": 42,
   "metadata": {
    "collapsed": true
   },
   "outputs": [],
   "source": [
    "pd.read_csv(\"/home/gpratt/Dropbox/encode_integration/for_eric/master_qc.csv\")\n",
    "master_df.to_csv(\"/home/gpratt/Dropbox/encode_integration/for_eric/master_qc.csv\", sep=\"\\t\")"
   ]
  },
  {
   "cell_type": "markdown",
   "metadata": {},
   "source": [
    "# Remaking data from stable qc numbers"
   ]
  },
  {
   "cell_type": "code",
   "execution_count": 43,
   "metadata": {
    "collapsed": true
   },
   "outputs": [],
   "source": [
    "master_df = pd.read_table(\"/home/gpratt/Dropbox/encode_integration/for_eric/master_qc_stable.csv\", index_col=0)"
   ]
  },
  {
   "cell_type": "code",
   "execution_count": 44,
   "metadata": {
    "collapsed": true
   },
   "outputs": [],
   "source": [
    "public_df = master_df[(master_df.annotation != \"ENCODE eCLIP\") & \\\n",
    "                      (master_df.annotation != \"ENCODE iCLIP Submitted\")\n",
    "                     #(master_df.annotation != \"All iCLIP\") \\\n",
    "                     ]\n",
    "\n",
    "public_clip_df = master_df[master_df.annotation == \"Public CLIP\"]\n",
    "public_iclip_df = master_df[master_df.annotation == \"Public iCLIP\"]\n",
    "all_iclip_df = master_df[master_df.annotation == \"All iCLIP\"]"
   ]
  },
  {
   "cell_type": "code",
   "execution_count": 45,
   "metadata": {
    "collapsed": true
   },
   "outputs": [],
   "source": [
    "sup_table_1 = pd.read_excel(\"/home/gpratt/Dropbox/encode_integration/for_eric/SupTables/SupTable1.xlsx\", \"Sheet1\", index_col=0)\n",
    "sup_table_1_public_clip = sup_table_1[sup_table_1['experiment type (general)'] == 'Public CLIP'].copy()\n",
    "sup_table_1_all_iclip = sup_table_1[sup_table_1['experiment type (general)'] == 'All iCLIP'].copy()"
   ]
  },
  {
   "cell_type": "code",
   "execution_count": 46,
   "metadata": {
    "collapsed": true
   },
   "outputs": [],
   "source": [
    "public_clip_df = sup_table_1_public_clip.join(public_clip_df)\n",
    "public_iclip_df = sup_table_1.join(public_iclip_df)\n",
    "all_iclip_df = sup_table_1.join(all_iclip_df)"
   ]
  },
  {
   "cell_type": "code",
   "execution_count": 47,
   "metadata": {
    "collapsed": false
   },
   "outputs": [
    {
     "data": {
      "text/plain": [
       "{u'All iCLIP', u'Public CLIP'}"
      ]
     },
     "execution_count": 47,
     "metadata": {},
     "output_type": "execute_result"
    }
   ],
   "source": [
    "set(sup_table_1['experiment type (general)'])"
   ]
  },
  {
   "cell_type": "code",
   "execution_count": 48,
   "metadata": {
    "collapsed": false
   },
   "outputs": [
    {
     "name": "stdout",
     "output_type": "stream",
     "text": [
      "152 152\n",
      "279 115\n"
     ]
    }
   ],
   "source": [
    "print len(public_clip_df), len(public_clip_df.dropna())\n",
    "print len(all_iclip_df), len(all_iclip_df.dropna())"
   ]
  },
  {
   "cell_type": "code",
   "execution_count": 49,
   "metadata": {
    "collapsed": true
   },
   "outputs": [],
   "source": [
    "all_iclip_df['iclip_joiner'] = all_iclip_df.RBP + all_iclip_df['Cell type']\n",
    "master_df['iclip_joiner'] = [item.split(\"_\")[0] + item.split(\"_\")[-1] for item in master_df.index]"
   ]
  },
  {
   "cell_type": "code",
   "execution_count": 50,
   "metadata": {
    "collapsed": true
   },
   "outputs": [],
   "source": [
    "grouped_final_qc_frame['id'] = [\"_\".join(item) for item in grouped_final_qc_frame.index]\n",
    "grouped_final_qc_frame.to_csv(\"/home/gpratt/Dropbox/encode_integration/for_eric/encode_v9_qc.csv\")"
   ]
  },
  {
   "cell_type": "code",
   "execution_count": 51,
   "metadata": {
    "collapsed": false
   },
   "outputs": [
    {
     "name": "stdout",
     "output_type": "stream",
     "text": [
      "cutadapt file maybe be broken, ignoring calculation\n"
     ]
    },
    {
     "ename": "ValueError",
     "evalue": "labels ['Finished on' 'Mapping speed, Million of reads per hour' 'Started job on'\n 'Started mapping on'] not contained in axis",
     "output_type": "error",
     "traceback": [
      "\u001b[1;31m---------------------------------------------------------------------------\u001b[0m",
      "\u001b[1;31mValueError\u001b[0m                                Traceback (most recent call last)",
      "\u001b[1;32m<ipython-input-51-f86061262cb1>\u001b[0m in \u001b[0;36m<module>\u001b[1;34m()\u001b[0m\n\u001b[0;32m      1\u001b[0m \u001b[0manalysis_dir\u001b[0m \u001b[1;33m=\u001b[0m \u001b[1;34m\"/home/gpratt/projects/encode/analysis/encode_iclip_submitted_v1/\"\u001b[0m\u001b[1;33m\u001b[0m\u001b[0m\n\u001b[1;32m----> 2\u001b[1;33m \u001b[0mencode_qc\u001b[0m \u001b[1;33m=\u001b[0m \u001b[0mparsers\u001b[0m\u001b[1;33m.\u001b[0m\u001b[0mclipseq_metrics\u001b[0m\u001b[1;33m(\u001b[0m\u001b[0manalysis_dir\u001b[0m\u001b[1;33m,\u001b[0m \u001b[0miclip\u001b[0m\u001b[1;33m=\u001b[0m\u001b[0mFalse\u001b[0m\u001b[1;33m)\u001b[0m\u001b[1;33m\u001b[0m\u001b[0m\n\u001b[0m\u001b[0;32m      3\u001b[0m \u001b[1;33m\u001b[0m\u001b[0m\n\u001b[0;32m      4\u001b[0m \u001b[0mencode_qc\u001b[0m\u001b[1;33m[\u001b[0m\u001b[1;34m\"Fraction Collapsed\"\u001b[0m\u001b[1;33m]\u001b[0m \u001b[1;33m=\u001b[0m \u001b[0mencode_qc\u001b[0m\u001b[1;33m[\u001b[0m\u001b[1;34m'Usable Reads'\u001b[0m\u001b[1;33m]\u001b[0m \u001b[1;33m/\u001b[0m \u001b[0mencode_qc\u001b[0m\u001b[1;33m[\u001b[0m\u001b[1;34m'Uniquely Mapped Reads'\u001b[0m\u001b[1;33m]\u001b[0m\u001b[1;33m.\u001b[0m\u001b[0mastype\u001b[0m\u001b[1;33m(\u001b[0m\u001b[0mfloat\u001b[0m\u001b[1;33m)\u001b[0m\u001b[1;33m\u001b[0m\u001b[0m\n\u001b[0;32m      5\u001b[0m \u001b[0mencode_qc\u001b[0m\u001b[1;33m[\u001b[0m\u001b[1;34m\"Fraction Usable\"\u001b[0m\u001b[1;33m]\u001b[0m \u001b[1;33m=\u001b[0m \u001b[0mencode_qc\u001b[0m\u001b[1;33m[\u001b[0m\u001b[1;34m'Usable Reads'\u001b[0m\u001b[1;33m]\u001b[0m \u001b[1;33m/\u001b[0m \u001b[0mencode_qc\u001b[0m\u001b[1;33m[\u001b[0m\u001b[1;34m'Input Reads'\u001b[0m\u001b[1;33m]\u001b[0m\u001b[1;33m.\u001b[0m\u001b[0mastype\u001b[0m\u001b[1;33m(\u001b[0m\u001b[0mfloat\u001b[0m\u001b[1;33m)\u001b[0m\u001b[1;33m\u001b[0m\u001b[0m\n",
      "\u001b[1;32m/home/gpratt/anaconda/lib/python2.7/site-packages/gscripts-0.1.6-py2.7.egg/gscripts/general/parsers.pyc\u001b[0m in \u001b[0;36mclipseq_metrics\u001b[1;34m(analysis_dir, iclip, num_seps, sep, percent_usable, number_usable, frip)\u001b[0m\n\u001b[0;32m    130\u001b[0m     \u001b[0mspot_df\u001b[0m \u001b[1;33m=\u001b[0m \u001b[0mpd\u001b[0m\u001b[1;33m.\u001b[0m\u001b[0mDataFrame\u001b[0m\u001b[1;33m(\u001b[0m\u001b[1;33m{\u001b[0m\u001b[0mname\u001b[0m\u001b[1;33m:\u001b[0m \u001b[0mparse_peak_metrics\u001b[0m\u001b[1;33m(\u001b[0m\u001b[0mspot_file\u001b[0m\u001b[1;33m)\u001b[0m \u001b[1;32mfor\u001b[0m \u001b[0mname\u001b[0m\u001b[1;33m,\u001b[0m \u001b[0mspot_file\u001b[0m \u001b[1;32min\u001b[0m \u001b[0mspot_names\u001b[0m\u001b[1;33m.\u001b[0m\u001b[0mitems\u001b[0m\u001b[1;33m(\u001b[0m\u001b[1;33m)\u001b[0m\u001b[1;33m}\u001b[0m\u001b[1;33m)\u001b[0m\u001b[1;33m.\u001b[0m\u001b[0mtranspose\u001b[0m\u001b[1;33m(\u001b[0m\u001b[1;33m)\u001b[0m\u001b[1;33m\u001b[0m\u001b[0m\n\u001b[0;32m    131\u001b[0m     \u001b[0mpeaks_df\u001b[0m \u001b[1;33m=\u001b[0m \u001b[0mpd\u001b[0m\u001b[1;33m.\u001b[0m\u001b[0mDataFrame\u001b[0m\u001b[1;33m(\u001b[0m\u001b[1;33m{\u001b[0m\u001b[0mname\u001b[0m\u001b[1;33m:\u001b[0m \u001b[1;33m{\u001b[0m\u001b[1;34m\"Num Peaks\"\u001b[0m\u001b[1;33m:\u001b[0m \u001b[0mlen\u001b[0m\u001b[1;33m(\u001b[0m\u001b[0mpybedtools\u001b[0m\u001b[1;33m.\u001b[0m\u001b[0mBedTool\u001b[0m\u001b[1;33m(\u001b[0m\u001b[0mpeaks_file\u001b[0m\u001b[1;33m)\u001b[0m\u001b[1;33m)\u001b[0m\u001b[1;33m}\u001b[0m \u001b[1;32mfor\u001b[0m \u001b[0mname\u001b[0m\u001b[1;33m,\u001b[0m \u001b[0mpeaks_file\u001b[0m \u001b[1;32min\u001b[0m \u001b[0mpeaks_names\u001b[0m\u001b[1;33m.\u001b[0m\u001b[0mitems\u001b[0m\u001b[1;33m(\u001b[0m\u001b[1;33m)\u001b[0m\u001b[1;33m}\u001b[0m\u001b[1;33m)\u001b[0m\u001b[1;33m.\u001b[0m\u001b[0mtranspose\u001b[0m\u001b[1;33m(\u001b[0m\u001b[1;33m)\u001b[0m\u001b[1;33m\u001b[0m\u001b[0m\n\u001b[1;32m--> 132\u001b[1;33m     \u001b[0mcombined_df\u001b[0m \u001b[1;33m=\u001b[0m \u001b[0mrnaseq_metrics\u001b[0m\u001b[1;33m(\u001b[0m\u001b[0manalysis_dir\u001b[0m\u001b[1;33m,\u001b[0m \u001b[0mnum_seps\u001b[0m\u001b[1;33m,\u001b[0m \u001b[0msep\u001b[0m\u001b[1;33m)\u001b[0m\u001b[1;33m\u001b[0m\u001b[0m\n\u001b[0m\u001b[0;32m    133\u001b[0m \u001b[1;33m\u001b[0m\u001b[0m\n\u001b[0;32m    134\u001b[0m     \u001b[0mcombined_df\u001b[0m \u001b[1;33m=\u001b[0m \u001b[0mpd\u001b[0m\u001b[1;33m.\u001b[0m\u001b[0mmerge\u001b[0m\u001b[1;33m(\u001b[0m\u001b[0mcombined_df\u001b[0m\u001b[1;33m,\u001b[0m \u001b[0mcutadapt_round2_df\u001b[0m\u001b[1;33m,\u001b[0m \u001b[0mleft_index\u001b[0m\u001b[1;33m=\u001b[0m\u001b[0mTrue\u001b[0m\u001b[1;33m,\u001b[0m \u001b[0mright_index\u001b[0m\u001b[1;33m=\u001b[0m\u001b[0mTrue\u001b[0m\u001b[1;33m,\u001b[0m \u001b[0mhow\u001b[0m\u001b[1;33m=\u001b[0m\u001b[1;34m\"outer\"\u001b[0m\u001b[1;33m)\u001b[0m\u001b[1;33m\u001b[0m\u001b[0m\n",
      "\u001b[1;32m/home/gpratt/anaconda/lib/python2.7/site-packages/gscripts-0.1.6-py2.7.egg/gscripts/general/parsers.pyc\u001b[0m in \u001b[0;36mrnaseq_metrics\u001b[1;34m(analysis_dir, num_seps, sep)\u001b[0m\n\u001b[0;32m     82\u001b[0m                                     \u001b[1;34m\"Mapping speed, Million of reads per hour\"\u001b[0m\u001b[1;33m,\u001b[0m\u001b[1;33m\u001b[0m\u001b[0m\n\u001b[0;32m     83\u001b[0m                                     \u001b[1;34m\"Started job on\"\u001b[0m\u001b[1;33m,\u001b[0m\u001b[1;33m\u001b[0m\u001b[0m\n\u001b[1;32m---> 84\u001b[1;33m                                     \"Started mapping on\"], axis=1)\n\u001b[0m\u001b[0;32m     85\u001b[0m \u001b[1;33m\u001b[0m\u001b[0m\n\u001b[0;32m     86\u001b[0m     \u001b[1;32mreturn\u001b[0m \u001b[0mcombined_df\u001b[0m\u001b[1;33m\u001b[0m\u001b[0m\n",
      "\u001b[1;32m/home/gpratt/anaconda/lib/python2.7/site-packages/pandas/core/generic.pyc\u001b[0m in \u001b[0;36mdrop\u001b[1;34m(self, labels, axis, level, inplace, errors)\u001b[0m\n\u001b[0;32m   1871\u001b[0m                 \u001b[0mnew_axis\u001b[0m \u001b[1;33m=\u001b[0m \u001b[0maxis\u001b[0m\u001b[1;33m.\u001b[0m\u001b[0mdrop\u001b[0m\u001b[1;33m(\u001b[0m\u001b[0mlabels\u001b[0m\u001b[1;33m,\u001b[0m \u001b[0mlevel\u001b[0m\u001b[1;33m=\u001b[0m\u001b[0mlevel\u001b[0m\u001b[1;33m,\u001b[0m \u001b[0merrors\u001b[0m\u001b[1;33m=\u001b[0m\u001b[0merrors\u001b[0m\u001b[1;33m)\u001b[0m\u001b[1;33m\u001b[0m\u001b[0m\n\u001b[0;32m   1872\u001b[0m             \u001b[1;32melse\u001b[0m\u001b[1;33m:\u001b[0m\u001b[1;33m\u001b[0m\u001b[0m\n\u001b[1;32m-> 1873\u001b[1;33m                 \u001b[0mnew_axis\u001b[0m \u001b[1;33m=\u001b[0m \u001b[0maxis\u001b[0m\u001b[1;33m.\u001b[0m\u001b[0mdrop\u001b[0m\u001b[1;33m(\u001b[0m\u001b[0mlabels\u001b[0m\u001b[1;33m,\u001b[0m \u001b[0merrors\u001b[0m\u001b[1;33m=\u001b[0m\u001b[0merrors\u001b[0m\u001b[1;33m)\u001b[0m\u001b[1;33m\u001b[0m\u001b[0m\n\u001b[0m\u001b[0;32m   1874\u001b[0m             \u001b[0mdropped\u001b[0m \u001b[1;33m=\u001b[0m \u001b[0mself\u001b[0m\u001b[1;33m.\u001b[0m\u001b[0mreindex\u001b[0m\u001b[1;33m(\u001b[0m\u001b[1;33m**\u001b[0m\u001b[1;33m{\u001b[0m\u001b[0maxis_name\u001b[0m\u001b[1;33m:\u001b[0m \u001b[0mnew_axis\u001b[0m\u001b[1;33m}\u001b[0m\u001b[1;33m)\u001b[0m\u001b[1;33m\u001b[0m\u001b[0m\n\u001b[0;32m   1875\u001b[0m             \u001b[1;32mtry\u001b[0m\u001b[1;33m:\u001b[0m\u001b[1;33m\u001b[0m\u001b[0m\n",
      "\u001b[1;32m/home/gpratt/anaconda/lib/python2.7/site-packages/pandas/indexes/base.pyc\u001b[0m in \u001b[0;36mdrop\u001b[1;34m(self, labels, errors)\u001b[0m\n\u001b[0;32m   2964\u001b[0m             \u001b[1;32mif\u001b[0m \u001b[0merrors\u001b[0m \u001b[1;33m!=\u001b[0m \u001b[1;34m'ignore'\u001b[0m\u001b[1;33m:\u001b[0m\u001b[1;33m\u001b[0m\u001b[0m\n\u001b[0;32m   2965\u001b[0m                 raise ValueError('labels %s not contained in axis' %\n\u001b[1;32m-> 2966\u001b[1;33m                                  labels[mask])\n\u001b[0m\u001b[0;32m   2967\u001b[0m             \u001b[0mindexer\u001b[0m \u001b[1;33m=\u001b[0m \u001b[0mindexer\u001b[0m\u001b[1;33m[\u001b[0m\u001b[1;33m~\u001b[0m\u001b[0mmask\u001b[0m\u001b[1;33m]\u001b[0m\u001b[1;33m\u001b[0m\u001b[0m\n\u001b[0;32m   2968\u001b[0m         \u001b[1;32mreturn\u001b[0m \u001b[0mself\u001b[0m\u001b[1;33m.\u001b[0m\u001b[0mdelete\u001b[0m\u001b[1;33m(\u001b[0m\u001b[0mindexer\u001b[0m\u001b[1;33m)\u001b[0m\u001b[1;33m\u001b[0m\u001b[0m\n",
      "\u001b[1;31mValueError\u001b[0m: labels ['Finished on' 'Mapping speed, Million of reads per hour' 'Started job on'\n 'Started mapping on'] not contained in axis"
     ]
    }
   ],
   "source": [
    "analysis_dir = \"/home/gpratt/projects/encode/analysis/encode_iclip_submitted_v1/\"\n",
    "encode_qc = parsers.clipseq_metrics(analysis_dir, iclip=False)\n",
    "\n",
    "encode_qc[\"Fraction Collapsed\"] = encode_qc['Usable Reads'] / encode_qc['Uniquely Mapped Reads'].astype(float)\n",
    "encode_qc[\"Fraction Usable\"] = encode_qc['Usable Reads'] / encode_qc['Input Reads'].astype(float)\n",
    "#encode_qc['is_v12'] = 1"
   ]
  },
  {
   "cell_type": "code",
   "execution_count": 52,
   "metadata": {
    "collapsed": true
   },
   "outputs": [],
   "source": [
    "encode_qc.to_csv(\"/home/gpratt/Dropbox/encode_integration/for_eric/encode_iclip_submitted_qc_v12.csv\")"
   ]
  },
  {
   "cell_type": "code",
   "execution_count": null,
   "metadata": {
    "collapsed": true
   },
   "outputs": [],
   "source": []
  }
 ],
 "metadata": {
  "kernelspec": {
   "display_name": "Python 2",
   "language": "python",
   "name": "python2"
  },
  "language_info": {
   "codemirror_mode": {
    "name": "ipython",
    "version": 2
   },
   "file_extension": ".py",
   "mimetype": "text/x-python",
   "name": "python",
   "nbconvert_exporter": "python",
   "pygments_lexer": "ipython2",
   "version": "2.7.12"
  }
 },
 "nbformat": 4,
 "nbformat_minor": 0
}
