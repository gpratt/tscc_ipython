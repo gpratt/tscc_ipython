{
 "cells": [
  {
   "cell_type": "code",
   "execution_count": 1,
   "metadata": {
    "collapsed": true
   },
   "outputs": [],
   "source": [
    "import glob\n",
    "import os\n",
    "from itertools import groupby\n",
    "\n",
    "from gscripts.clipseq import cross_contamination_detector"
   ]
  },
  {
   "cell_type": "code",
   "execution_count": 2,
   "metadata": {
    "collapsed": true
   },
   "outputs": [],
   "source": [
    "raw_file_dir = \"/projects/ps-yeolab2/encode/analysis/encode_master/\"\n"
   ]
  },
  {
   "cell_type": "code",
   "execution_count": 3,
   "metadata": {
    "collapsed": false
   },
   "outputs": [],
   "source": [
    "clips = [fn for fn in glob.glob(os.path.join(raw_file_dir, \"*.r2.bam\")) if \"merged\" not in fn]\n",
    "inputs = glob.glob(os.path.join(raw_file_dir, \"*unassigned*.r2.bam\"))"
   ]
  },
  {
   "cell_type": "code",
   "execution_count": 4,
   "metadata": {
    "collapsed": false
   },
   "outputs": [],
   "source": [
    "raw_file_dir = \"/projects/ps-yeolab2/encode/analysis/encode_master/\"\n",
    "raw_files =  clips + inputs\n",
    "out_dir = \"/home/gpratt/projects/encode/analysis/merged_files\"\n",
    "\n",
    "key = lambda x: x.split(\".\")[1].split(\"_\")[0]"
   ]
  },
  {
   "cell_type": "code",
   "execution_count": null,
   "metadata": {
    "collapsed": false
   },
   "outputs": [
    {
     "name": "stdout",
     "output_type": "stream",
     "text": [
      "/home/gpratt/projects/encode/analysis/merged_files/A01.bam\n",
      "/home/gpratt/projects/encode/analysis/merged_files/A03.bam\n",
      "/home/gpratt/projects/encode/analysis/merged_files/A04.bam\n",
      "/home/gpratt/projects/encode/analysis/merged_files/B06.bam\n",
      "/home/gpratt/projects/encode/analysis/merged_files/C01.bam\n",
      "/home/gpratt/projects/encode/analysis/merged_files/D08fixed.bam\n",
      "/home/gpratt/projects/encode/analysis/merged_files/F05.bam\n",
      "/home/gpratt/projects/encode/analysis/merged_files/G07.bam\n",
      "/home/gpratt/projects/encode/analysis/merged_files/X1A.bam\n",
      "/home/gpratt/projects/encode/analysis/merged_files/X1B.bam\n",
      "/home/gpratt/projects/encode/analysis/merged_files/X2A.bam\n",
      "/home/gpratt/projects/encode/analysis/merged_files/X2B.bam\n",
      "/home/gpratt/projects/encode/analysis/merged_files/unassigned.bam\n"
     ]
    }
   ],
   "source": [
    "merged_files = []\n",
    "for group_name, lst in groupby(sorted(raw_files, key=key), key=key):\n",
    "    group_name = os.path.join(out_dir, group_name + \".bam\")\n",
    "    files = list(lst)\n",
    "    all_files = \" \".join(files)\n",
    "    print group_name\n",
    "    #!samtools merge -r $group_name $all_files\n",
    "    merged_files.append(group_name)"
   ]
  },
  {
   "cell_type": "code",
   "execution_count": null,
   "metadata": {
    "collapsed": false
   },
   "outputs": [],
   "source": [
    "merge = {}\n",
    "total = {}\n",
    "for fn in merged_files[:-1]:\n",
    "    group = os.path.splitext(os.path.basename(fn))[0]\n",
    "    print group, \"...\",\n",
    "    try:\n",
    "        cur_merge, cur_total = cross_contamination_detector.genome_count_contamination(fn)\n",
    "    except IOError as e:\n",
    "        print e\n",
    "    except ValueError as e:\n",
    "        print e\n",
    "    print \"done\"\n",
    "    merge[group] = cur_merge\n",
    "    total[group] = cur_total"
   ]
  },
  {
   "cell_type": "code",
   "execution_count": null,
   "metadata": {
    "collapsed": true
   },
   "outputs": [],
   "source": []
  }
 ],
 "metadata": {
  "kernelspec": {
   "display_name": "Python 2",
   "language": "python",
   "name": "python2"
  },
  "language_info": {
   "codemirror_mode": {
    "name": "ipython",
    "version": 2
   },
   "file_extension": ".py",
   "mimetype": "text/x-python",
   "name": "python",
   "nbconvert_exporter": "python",
   "pygments_lexer": "ipython2",
   "version": "2.7.12"
  }
 },
 "nbformat": 4,
 "nbformat_minor": 0
}
