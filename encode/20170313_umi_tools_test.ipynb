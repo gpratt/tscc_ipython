{
 "cells": [
  {
   "cell_type": "code",
   "execution_count": 2,
   "metadata": {
    "collapsed": true
   },
   "outputs": [],
   "source": [
    "import os \n",
    "import pysam\n",
    "\n",
    "import pandas as pd"
   ]
  },
  {
   "cell_type": "code",
   "execution_count": 3,
   "metadata": {
    "collapsed": true
   },
   "outputs": [],
   "source": [
    "input_dir = \"/projects/ps-yeolab3/encode/analysis/encode_master/\"\n",
    "out_dir = \"/home/gpratt/scratch/ad-hoc/\""
   ]
  },
  {
   "cell_type": "code",
   "execution_count": 4,
   "metadata": {
    "collapsed": false
   },
   "outputs": [],
   "source": [
    "fn = \"475_CLIP_S24_L003_R1_001.A03_475_01_UTP3.adapterTrim.round2.rmRep.bam\""
   ]
  },
  {
   "cell_type": "code",
   "execution_count": 31,
   "metadata": {
    "collapsed": false
   },
   "outputs": [],
   "source": []
  },
  {
   "cell_type": "code",
   "execution_count": 34,
   "metadata": {
    "collapsed": false
   },
   "outputs": [
    {
     "data": {
      "text/html": [
       "<div>\n",
       "<table border=\"1\" class=\"dataframe\">\n",
       "  <thead>\n",
       "    <tr style=\"text-align: right;\">\n",
       "      <th></th>\n",
       "      <th>directional</th>\n",
       "      <th>directional_null</th>\n",
       "      <th>edit_distance</th>\n",
       "      <th>unique</th>\n",
       "      <th>unique_null</th>\n",
       "    </tr>\n",
       "  </thead>\n",
       "  <tbody>\n",
       "    <tr>\n",
       "      <th>0</th>\n",
       "      <td>215979</td>\n",
       "      <td>215979</td>\n",
       "      <td>Single_UMI</td>\n",
       "      <td>145896</td>\n",
       "      <td>145896</td>\n",
       "    </tr>\n",
       "    <tr>\n",
       "      <th>1</th>\n",
       "      <td>0</td>\n",
       "      <td>1</td>\n",
       "      <td>0</td>\n",
       "      <td>0</td>\n",
       "      <td>2</td>\n",
       "    </tr>\n",
       "    <tr>\n",
       "      <th>2</th>\n",
       "      <td>91</td>\n",
       "      <td>6</td>\n",
       "      <td>1</td>\n",
       "      <td>53005</td>\n",
       "      <td>7</td>\n",
       "    </tr>\n",
       "    <tr>\n",
       "      <th>3</th>\n",
       "      <td>12040</td>\n",
       "      <td>32</td>\n",
       "      <td>2</td>\n",
       "      <td>29895</td>\n",
       "      <td>113</td>\n",
       "    </tr>\n",
       "    <tr>\n",
       "      <th>4</th>\n",
       "      <td>6477</td>\n",
       "      <td>219</td>\n",
       "      <td>3</td>\n",
       "      <td>7085</td>\n",
       "      <td>609</td>\n",
       "    </tr>\n",
       "    <tr>\n",
       "      <th>5</th>\n",
       "      <td>2936</td>\n",
       "      <td>764</td>\n",
       "      <td>4</td>\n",
       "      <td>2023</td>\n",
       "      <td>2218</td>\n",
       "    </tr>\n",
       "    <tr>\n",
       "      <th>6</th>\n",
       "      <td>853</td>\n",
       "      <td>2000</td>\n",
       "      <td>5</td>\n",
       "      <td>936</td>\n",
       "      <td>5859</td>\n",
       "    </tr>\n",
       "    <tr>\n",
       "      <th>7</th>\n",
       "      <td>594</td>\n",
       "      <td>4084</td>\n",
       "      <td>6</td>\n",
       "      <td>715</td>\n",
       "      <td>13717</td>\n",
       "    </tr>\n",
       "    <tr>\n",
       "      <th>8</th>\n",
       "      <td>826</td>\n",
       "      <td>6641</td>\n",
       "      <td>7</td>\n",
       "      <td>736</td>\n",
       "      <td>27171</td>\n",
       "    </tr>\n",
       "    <tr>\n",
       "      <th>9</th>\n",
       "      <td>729</td>\n",
       "      <td>6980</td>\n",
       "      <td>8</td>\n",
       "      <td>377</td>\n",
       "      <td>31418</td>\n",
       "    </tr>\n",
       "    <tr>\n",
       "      <th>10</th>\n",
       "      <td>223</td>\n",
       "      <td>3287</td>\n",
       "      <td>9</td>\n",
       "      <td>111</td>\n",
       "      <td>11335</td>\n",
       "    </tr>\n",
       "    <tr>\n",
       "      <th>11</th>\n",
       "      <td>54</td>\n",
       "      <td>809</td>\n",
       "      <td>10</td>\n",
       "      <td>23</td>\n",
       "      <td>2457</td>\n",
       "    </tr>\n",
       "    <tr>\n",
       "      <th>12</th>\n",
       "      <td>0</td>\n",
       "      <td>0</td>\n",
       "      <td>11</td>\n",
       "      <td>0</td>\n",
       "      <td>0</td>\n",
       "    </tr>\n",
       "  </tbody>\n",
       "</table>\n",
       "</div>"
      ],
      "text/plain": [
       "    directional  directional_null edit_distance  unique  unique_null\n",
       "0        215979            215979    Single_UMI  145896       145896\n",
       "1             0                 1             0       0            2\n",
       "2            91                 6             1   53005            7\n",
       "3         12040                32             2   29895          113\n",
       "4          6477               219             3    7085          609\n",
       "5          2936               764             4    2023         2218\n",
       "6           853              2000             5     936         5859\n",
       "7           594              4084             6     715        13717\n",
       "8           826              6641             7     736        27171\n",
       "9           729              6980             8     377        31418\n",
       "10          223              3287             9     111        11335\n",
       "11           54               809            10      23         2457\n",
       "12            0                 0            11       0            0"
      ]
     },
     "execution_count": 34,
     "metadata": {},
     "output_type": "execute_result"
    }
   ],
   "source": [
    "pd.read_table(os.path.join(out_dir, \"475_CLIP_S24_L003_R1_001.A03_475_01_UTP3.dedup_edit_distance.tsv\"))"
   ]
  },
  {
   "cell_type": "code",
   "execution_count": null,
   "metadata": {
    "collapsed": true
   },
   "outputs": [],
   "source": [
    "555230\n",
    "830850\n",
    "11118888"
   ]
  },
  {
   "cell_type": "code",
   "execution_count": null,
   "metadata": {
    "collapsed": true
   },
   "outputs": [],
   "source": [
    "23,325,398\n",
    "1,090,000\n"
   ]
  },
  {
   "cell_type": "code",
   "execution_count": 60,
   "metadata": {
    "collapsed": false
   },
   "outputs": [
    {
     "name": "stdout",
     "output_type": "stream",
     "text": [
      "num reads in chr1 1021374\n",
      "num reads in everything? 23325398\n"
     ]
    }
   ],
   "source": [
    "samtool = pysam.Samfile(os.path.join(\"/home/gpratt/projects/idr/analysis/umi_downsampling\", \"629_CLIP_S21_L005_R1_001.A03_629_02_UCHL5.adapterTrim.round2.rmRep.sorted.adjusted.bam\"))\n",
    "print \"num reads in chr1\", len(list(samtool.fetch(\"chr1\")))\n",
    "tid = samtool.get_tid(\"chr1\")\n",
    "print \"num reads in everything?\", len(list(samtool.fetch(tid=tid)))"
   ]
  },
  {
   "cell_type": "code",
   "execution_count": 61,
   "metadata": {
    "collapsed": false
   },
   "outputs": [
    {
     "data": {
      "text/plain": [
       "'0.10.0'"
      ]
     },
     "execution_count": 61,
     "metadata": {},
     "output_type": "execute_result"
    }
   ],
   "source": [
    "pysam.__version__"
   ]
  },
  {
   "cell_type": "code",
   "execution_count": 58,
   "metadata": {
    "collapsed": false
   },
   "outputs": [],
   "source": []
  },
  {
   "cell_type": "code",
   "execution_count": 59,
   "metadata": {
    "collapsed": false
   },
   "outputs": [
    {
     "name": "stdout",
     "output_type": "stream",
     "text": [
      "23325398\n"
     ]
    }
   ],
   "source": []
  }
 ],
 "metadata": {
  "kernelspec": {
   "display_name": "Python 2",
   "language": "python",
   "name": "python2"
  },
  "language_info": {
   "codemirror_mode": {
    "name": "ipython",
    "version": 2
   },
   "file_extension": ".py",
   "mimetype": "text/x-python",
   "name": "python",
   "nbconvert_exporter": "python",
   "pygments_lexer": "ipython2",
   "version": "2.7.12"
  }
 },
 "nbformat": 4,
 "nbformat_minor": 0
}
