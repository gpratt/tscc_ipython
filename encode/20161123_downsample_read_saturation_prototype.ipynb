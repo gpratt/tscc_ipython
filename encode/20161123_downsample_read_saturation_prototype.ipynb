{
 "cells": [
  {
   "cell_type": "code",
   "execution_count": 2,
   "metadata": {
    "collapsed": false
   },
   "outputs": [],
   "source": [
    "%matplotlib inline \n",
    "\n",
    "import glob \n",
    "import os \n",
    "\n",
    "import numpy as np\n",
    "import pysam\n",
    "import seaborn as sns\n",
    "from matplotlib import gridspec\n",
    "import matplotlib\n",
    "\n",
    "\n",
    "from gscripts.general import dataviz\n",
    "import pandas as pd\n",
    "from gscripts import qtools\n",
    "import itertools\n",
    "img_dir = \".\""
   ]
  },
  {
   "cell_type": "markdown",
   "metadata": {},
   "source": [
    "# Prototype Downsampling Analysis"
   ]
  },
  {
   "cell_type": "code",
   "execution_count": null,
   "metadata": {
    "collapsed": true
   },
   "outputs": [],
   "source": [
    "!downsample_bam.py '--bam' '/projects/ps-yeolab3/encode/analysis/ad-hoc/read_saturation/RBFOX2-204-CLIP_S1_R1.A01_204_01_RBFOX2.adapterTrim.round2.rmRep.bam'  '--bam01' '/projects/ps-yeolab3/encode/analysis/ad-hoc/read_saturation/204_01_RBFOX2.merged.r2.01.bam'  '--bam02' '/projects/ps-yeolab3/encode/analysis/ad-hoc/read_saturation/204_01_RBFOX2.merged.r2.02.bam'  '--bam03' '/projects/ps-yeolab3/encode/analysis/ad-hoc/read_saturation/204_01_RBFOX2.merged.r2.03.bam'  '--bam04' '/projects/ps-yeolab3/encode/analysis/ad-hoc/read_saturation/204_01_RBFOX2.merged.r2.04.bam'  '--bam05' '/projects/ps-yeolab3/encode/analysis/ad-hoc/read_saturation/204_01_RBFOX2.merged.r2.05.bam'  '--bam06' '/projects/ps-yeolab3/encode/analysis/ad-hoc/read_saturation/204_01_RBFOX2.merged.r2.06.bam'  '--bam07' '/projects/ps-yeolab3/encode/analysis/ad-hoc/read_saturation/204_01_RBFOX2.merged.r2.07.bam'  '--bam08' '/projects/ps-yeolab3/encode/analysis/ad-hoc/read_saturation/204_01_RBFOX2.merged.r2.08.bam'  '--bam09' '/projects/ps-yeolab3/encode/analysis/ad-hoc/read_saturation/204_01_RBFOX2.merged.r2.09.bam'  "
   ]
  },
  {
   "cell_type": "code",
   "execution_count": null,
   "metadata": {
    "collapsed": true
   },
   "outputs": [],
   "source": [
    "!barcode_collapse_pe.py -b /projects/ps-yeolab3/encode/analysis/ad-hoc/read_saturation/204_01_RBFOX2.merged.r2.01.bam -o /projects/ps-yeolab3/encode/analysis/ad-hoc/read_saturation/204_01_RBFOX2.merged.r2.01.rmDup.bam -m /projects/ps-yeolab3/encode/analysis/ad-hoc/foo.01.metrics\n",
    "!barcode_collapse_pe.py -b /projects/ps-yeolab3/encode/analysis/ad-hoc/read_saturation/204_01_RBFOX2.merged.r2.02.bam -o /projects/ps-yeolab3/encode/analysis/ad-hoc/read_saturation/204_01_RBFOX2.merged.r2.02.rmDup.bam -m /projects/ps-yeolab3/encode/analysis/ad-hoc/foo.02.metrics\n",
    "!barcode_collapse_pe.py -b /projects/ps-yeolab3/encode/analysis/ad-hoc/read_saturation/204_01_RBFOX2.merged.r2.03.bam -o /projects/ps-yeolab3/encode/analysis/ad-hoc/read_saturation/204_01_RBFOX2.merged.r2.03.rmDup.bam -m /projects/ps-yeolab3/encode/analysis/ad-hoc/foo.03.metrics\n",
    "!barcode_collapse_pe.py -b /projects/ps-yeolab3/encode/analysis/ad-hoc/read_saturation/204_01_RBFOX2.merged.r2.04.bam -o /projects/ps-yeolab3/encode/analysis/ad-hoc/read_saturation/204_01_RBFOX2.merged.r2.04.rmDup.bam -m /projects/ps-yeolab3/encode/analysis/ad-hoc/foo.04.metrics\n",
    "!barcode_collapse_pe.py -b /projects/ps-yeolab3/encode/analysis/ad-hoc/read_saturation/204_01_RBFOX2.merged.r2.05.bam -o /projects/ps-yeolab3/encode/analysis/ad-hoc/read_saturation/204_01_RBFOX2.merged.r2.05.rmDup.bam -m /projects/ps-yeolab3/encode/analysis/ad-hoc/foo.05.metrics\n",
    "!barcode_collapse_pe.py -b /projects/ps-yeolab3/encode/analysis/ad-hoc/read_saturation/204_01_RBFOX2.merged.r2.06.bam -o /projects/ps-yeolab3/encode/analysis/ad-hoc/read_saturation/204_01_RBFOX2.merged.r2.06.rmDup.bam -m /projects/ps-yeolab3/encode/analysis/ad-hoc/foo.06.metrics\n",
    "!barcode_collapse_pe.py -b /projects/ps-yeolab3/encode/analysis/ad-hoc/read_saturation/204_01_RBFOX2.merged.r2.07.bam -o /projects/ps-yeolab3/encode/analysis/ad-hoc/read_saturation/204_01_RBFOX2.merged.r2.07.rmDup.bam -m /projects/ps-yeolab3/encode/analysis/ad-hoc/foo.07.metrics\n",
    "!barcode_collapse_pe.py -b /projects/ps-yeolab3/encode/analysis/ad-hoc/read_saturation/204_01_RBFOX2.merged.r2.08.bam -o /projects/ps-yeolab3/encode/analysis/ad-hoc/read_saturation/204_01_RBFOX2.merged.r2.08.rmDup.bam -m /projects/ps-yeolab3/encode/analysis/ad-hoc/foo.08.metrics\n",
    "!barcode_collapse_pe.py -b /projects/ps-yeolab3/encode/analysis/ad-hoc/read_saturation/204_01_RBFOX2.merged.r2.09.bam -o /projects/ps-yeolab3/encode/analysis/ad-hoc/read_saturation/204_01_RBFOX2.merged.r2.09.rmDup.bam -m /projects/ps-yeolab3/encode/analysis/ad-hoc/foo.09.metrics"
   ]
  },
  {
   "cell_type": "code",
   "execution_count": null,
   "metadata": {
    "collapsed": true
   },
   "outputs": [],
   "source": [
    "#this won't quite work, copy and pate to /projects/ps-yeolab3/encode/analysis/ad-hoc/read_saturation\n",
    "!for x in *.rmDup.bam; do samtools sort $x ${x%.*}.sorted; done\n",
    "!for x in *.sorted.bam; do samtools index $x; done"
   ]
  },
  {
   "cell_type": "code",
   "execution_count": 3,
   "metadata": {
    "collapsed": true
   },
   "outputs": [],
   "source": [
    "total_reads = \"/projects/ps-yeolab3/encode/analysis/encode_master/RBFOX2-204-CLIP_S1_R1.A01_204_01_RBFOX2.adapterTrim.round2.rmRep.rmDup.sorted.bam\""
   ]
  },
  {
   "cell_type": "code",
   "execution_count": 4,
   "metadata": {
    "collapsed": true
   },
   "outputs": [],
   "source": [
    "rmDup_files = sorted(glob.glob(\"/projects/ps-yeolab3/encode/analysis/ad-hoc/read_saturation/*rmDup.sorted.bam\"))\n",
    "rmDup_files.append(total_reads)\n",
    "all_files = sorted(glob.glob(\"/projects/ps-yeolab3/encode/analysis/ad-hoc/read_saturation/*.sorted.bam\"))\n",
    "dup_files = [fn for fn in all_files if fn not in rmDup_files]"
   ]
  },
  {
   "cell_type": "code",
   "execution_count": 5,
   "metadata": {
    "collapsed": true
   },
   "outputs": [],
   "source": [
    "rmDup_counts = np.array([pysam.Samfile(fn).mapped for fn in rmDup_files]) * 1.0\n",
    "dup_counts    = np.array([pysam.Samfile(fn).mapped for fn in dup_files]) * 1.0\n",
    "\n",
    "fraction_usable = rmDup_counts / dup_counts\n",
    "\n",
    "fraction_recovered = (rmDup_counts[1:] - rmDup_counts[:-1]) / (dup_counts[1:] - dup_counts[:-1])"
   ]
  },
  {
   "cell_type": "code",
   "execution_count": 6,
   "metadata": {
    "collapsed": false
   },
   "outputs": [
    {
     "data": {
      "image/png": "[encoded data removed]",
      "text/plain": [
       "<matplotlib.figure.Figure at 0x2abe025544d0>"
      ]
     },
     "metadata": {},
     "output_type": "display_data"
    }
   ],
   "source": [
    "num_rows = 1\n",
    "num_cols = 3\n",
    "\n",
    "with dataviz.Figure(os.path.join(img_dir, \"foo.svg\"), figsize=(4 * num_cols, 4*num_rows)) as fig:\n",
    "    ax = fig.add_subplot(num_rows, num_cols,1)\n",
    "    ax.scatter(dup_counts, rmDup_counts)\n",
    "    ax.set_title(\"Usable vs Mapped\")\n",
    "    \n",
    "    ax = fig.add_subplot(num_rows, num_cols,2)\n",
    "    ax.scatter(dup_counts, fraction_usable)\n",
    "    ax.set_title(\"Mapped vs Fraction Usable\")\n",
    "    \n",
    "    ax = fig.add_subplot(num_rows, num_cols,3)\n",
    "    ax.scatter(dup_counts[:-1], fraction_recovered)\n",
    "    ax.set_title(\"Mapped vs Fraction Recovered\")"
   ]
  },
  {
   "cell_type": "markdown",
   "metadata": {},
   "source": [
    "Panel 1) Raw mapped reads vs sequenced reads\n",
    "Panel 2) Mapped reads vs Fraction Usable, showing there is a marginal loss of sequencing efficency\n",
    "Panel 3) Mapped vs fraction recovered, an invariant metric that calculates the utuility of adding x more reads to the sequencing dataset.\n",
    "\n",
    "I should I plot this against total reads?  What we really want is a metric based off the full sequecing library, not an intermedate step.  Also, we want a metric of how much more to sequence, an intermeate metric is bullshit for that.  \n",
    "\n",
    "I'll need to make a qscript for that, too many steps to process at once.  \n",
    "Real question: What is % of reads I recover, out of total when I add more reads\n",
    "\n",
    "I don't need a fraction usable metric, I need a fraction recovered metric\n",
    "\n"
   ]
  },
  {
   "cell_type": "markdown",
   "metadata": {},
   "source": [
    "# Prototype fastq demuxing"
   ]
  },
  {
   "cell_type": "code",
   "execution_count": null,
   "metadata": {
    "collapsed": true
   },
   "outputs": [],
   "source": [
    "downsample_fastq.py   '--fastq' '/home/gpratt/ad-hoc/RBFOX2-204-CLIP_S1_R1.A01_204_01_RBFOX2.fastq.gz'  '--fq01' '/projects/ps-yeolab3/encode/analysis/ad-hoc/read_saturation/RBFOX2-204-CLIP_S1_R1.A01_204_01_RBFOX2.01.fastq.gz' '--fq02' '/projects/ps-yeolab3/encode/analysis/ad-hoc/read_saturation/RBFOX2-204-CLIP_S1_R1.A01_204_01_RBFOX2.02.fastq.gz'  '--fq03' '/projects/ps-yeolab3/encode/analysis/ad-hoc/read_saturation/RBFOX2-204-CLIP_S1_R1.A01_204_01_RBFOX2.03.fastq.gz' '--fq04' '/projects/ps-yeolab3/encode/analysis/ad-hoc/read_saturation/RBFOX2-204-CLIP_S1_R1.A01_204_01_RBFOX2.04.fastq.gz'  '--fq05' '/projects/ps-yeolab3/encode/analysis/ad-hoc/read_saturation/RBFOX2-204-CLIP_S1_R1.A01_204_01_RBFOX2.05.fastq.gz' '--fq06' '/projects/ps-yeolab3/encode/analysis/ad-hoc/read_saturation/RBFOX2-204-CLIP_S1_R1.A01_204_01_RBFOX2.06.fastq.gz' '--fq07' '/projects/ps-yeolab3/encode/analysis/ad-hoc/read_saturation/RBFOX2-204-CLIP_S1_R1.A01_204_01_RBFOX2.07.fastq.gz'  '--fq08' '/projects/ps-yeolab3/encode/analysis/ad-hoc/read_saturation/RBFOX2-204-CLIP_S1_R1.A01_204_01_RBFOX2.08.fastq.gz'  '--fq09' '/projects/ps-yeolab3/encode/analysis/ad-hoc/read_saturation/RBFOX2-204-CLIP_S1_R1.A01_204_01_RBFOX2.09.fastq.gz'  "
   ]
  },
  {
   "cell_type": "markdown",
   "metadata": {},
   "source": [
    "# Use Erics rmduped files"
   ]
  },
  {
   "cell_type": "code",
   "execution_count": null,
   "metadata": {
    "collapsed": true
   },
   "outputs": [],
   "source": [
    "cut -f 1-21 406_CLIP_GAGATTCC-ATAGAGGC_L003_R1.A03_406_01_PABPC4.adapterTrim.round2.fastq.mapped_vs_MASTER_filelist.wrepbaseandtRNA.fa.fixed.fa.UpdatedSimpleRepeat.sam.combined_w_uniquemap.prermDup.sam | head"
   ]
  },
  {
   "cell_type": "code",
   "execution_count": null,
   "metadata": {
    "collapsed": true
   },
   "outputs": [],
   "source": [
    "python ~/gscripts/gscripts/clipseq/fix_sam_file.py --sam 406_CLIP_GAGATTCC-ATAGAGGC_L003_R1.A03_406_01_PABPC4.adapterTrim.round2.fastq.mapped_vs_MASTER_filelist.wrepbaseandtRNA.fa.fixed.fa.UpdatedSimpleRepeat.sam.combined_w_uniquemap.prermDup.sam | samtools view -bS - > ~/projects/idr/analysis/ad-hoc/foo.bam"
   ]
  },
  {
   "cell_type": "code",
   "execution_count": 1,
   "metadata": {
    "collapsed": true
   },
   "outputs": [],
   "source": [
    "!barcode_collapse_pe.py -b ~/projects/idr/analysis/ad-hoc/foo.bam -o ~/projects/idr/analysis/ad-hoc/foo.rmdup.bam -m /projects/ps-yeolab3/encode/analysis/ad-hoc/foo.01.metrics"
   ]
  },
  {
   "cell_type": "code",
   "execution_count": null,
   "metadata": {
    "collapsed": true
   },
   "outputs": [],
   "source": []
  }
 ],
 "metadata": {
  "kernelspec": {
   "display_name": "Python 2",
   "language": "python",
   "name": "python2"
  },
  "language_info": {
   "codemirror_mode": {
    "name": "ipython",
    "version": 2
   },
   "file_extension": ".py",
   "mimetype": "text/x-python",
   "name": "python",
   "nbconvert_exporter": "python",
   "pygments_lexer": "ipython2",
   "version": "2.7.12"
  }
 },
 "nbformat": 4,
 "nbformat_minor": 0
}
