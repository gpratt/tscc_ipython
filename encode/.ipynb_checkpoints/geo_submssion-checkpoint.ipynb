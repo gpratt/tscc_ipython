{
 "cells": [
  {
   "cell_type": "code",
   "execution_count": null,
   "metadata": {
    "collapsed": true
   },
   "outputs": [],
   "source": [
    "EV42    RBFOX2  293XT /home/gpratt/projects/encode/analysis/encode_v8/293XT_CLIP_RBFOX2_1120_RBFOX2.merged.r2.bam /home/gpratt/projects/encode/analysis/encode_v8/293XT_Input_1120_GAATTCGT-GGCTCTGA_R1.unassigned.adapterTrim.round2.rmRep.rmDup.sorted.r2.bam\n",
    "EV43    RBFOX2  293XT /home/gpratt/projects/encode/analysis/encode_v8/293XT_CLIP_RBFOX2_0204_RBFOX2.merged.r2.bam /home/gpratt/projects/encode/analysis/encode_v8/293XT_Input_0204_ATTCAGAA-TAATCTTA_R1.unassigned.adapterTrim.round2.rmRep.rmDup.sorted.r2.bam\n",
    "EV41    IgG     293XT /home/gpratt/projects/encode/analysis/encode_v8/293XT_CLIP_IgG_1120_fixed_IgG.merged.r2.bam /home/gpratt/projects/encode/analysis/encode_v8/293XT_Input_IgG1120_GAGATTCC-GGCTCTGA_R1.unassigned.adapterTrim.round2.rmRep.rmDup.sorted.r2.bam\n",
    "EV4-12  SLBP    293XT /home/gpratt/projects/encode/analysis/encode_v8/EVN_041315_CLIP12_SLBP.merged.r2.bam /home/gpratt/projects/encode/analysis/encode_v8/EVN_INPUT_12_ATTACTCG-ATAGAGGC_L007_R1.unassigned.adapterTrim.round2.rmRep.rmDup.sorted.r2.bam\n",
    "EV4-13  SLBP    293XT /home/gpratt/projects/encode/analysis/encode_v8/EVN_041315_CLIP13_SLBP.merged.r2.bam /home/gpratt/projects/encode/analysis/encode_v8/EVN_INPUT_13_TCCGGAGA-ATAGAGGC_L007_R1.unassigned.adapterTrim.round2.rmRep.rmDup.sorted.r2.bam\n",
    "EV4-14  SLBP    293XT /home/gpratt/projects/encode/analysis/encode_v8/EVN_041315_CLIP14_SLBP.merged.r2.bam /home/gpratt/projects/encode/analysis/encode_v8/EVN_INPUT_14_CGCTCATT-TATAGCCT_L007_R1.unassigned.adapterTrim.round2.rmRep.rmDup.sorted.r2.bam\n",
    "EV4-15  SLBP    293XT /home/gpratt/projects/encode/analysis/encode_v8/EVN_041315_CLIP15_SLBP.merged.r2.bam /home/gpratt/projects/encode/analysis/encode_v8/EVN_INPUT_15_GAGATTCC-TATAGCCT_L007_R1.unassigned.adapterTrim.round2.rmRep.rmDup.sorted.r2.bam"
   ]
  },
  {
   "cell_type": "code",
   "execution_count": null,
   "metadata": {
    "collapsed": true
   },
   "outputs": [],
   "source": [
    "EV62-1    RBFOX2    293XT /home/gpratt/projects/encode/analysis/encode_v8/RBFOX2_293XT_1to12_gel_RBFOX2.merged.r2.bam\n",
    "EV62-2    RBFOX2    293XT /home/gpratt/projects/encode/analysis/encode_v8/RBFOX2_293XT_1to25_gel_RBFOX2.merged.r2.bam\n",
    "EV62-3    RBFOX2    293XT /home/gpratt/projects/encode/analysis/encode_v8/RBFOX2_293XT_1to50_gel_RBFOX2.merged.r2.bam\n",
    "EV63-1    RBFOX2    293XT /home/gpratt/projects/encode/analysis/encode_v8/RBFOX2_293XT_1to100_gel_RBFOX2.merged.r2.bam\n",
    "EV63-2    RBFOX2    293XT /home/gpratt/projects/encode/analysis/encode_v8/RBFOX2_293XT_1to200_gel_RBFOX2.merged.r2.bam\n",
    "EV1-01    RBFOX2    293XT /home/gpratt/projects/encode/analysis/encode_v8/EVN_041315_CLIP1_RBFOX2.merged.r2.bam \n",
    "EV2-05    RBFOX2    293XT /home/gpratt/projects/encode/analysis/encode_v8/EVN_041315_CLIP5_RBFOX2.merged.r2.bam \n",
    "EV2-06    RBFOX2    293XT /home/gpratt/projects/encode/analysis/encode_v8/EVN_041315_CLIP6_RBFOX2.merged.r2.bam \n",
    "EV2-08    RBFOX2    293XT /home/gpratt/projects/encode/analysis/encode_v8/EVN_041315_CLIP8_RBFOX2.merged.r2.bam \n",
    "EV3-10    RBFOX2    293XT /home/gpratt/projects/encode/analysis/encode_v8/EVN_041315_CLIP10_RBFOX2.merged.r2.bam\n"
   ]
  },
  {
   "cell_type": "code",
   "execution_count": null,
   "metadata": {
    "collapsed": true
   },
   "outputs": [],
   "source": [
    "#files to add barcodes back into\n",
    "293XT_CLIP_RBFOX2_1120_GAATTCGT-TAATCTTA_R1.A04_293XT_CLIP_RBFOX2_1120_RBFOX2.fastq.gz\n",
    "293XT_CLIP_RBFOX2_1120_GAATTCGT-TAATCTTA_R2.A04_293XT_CLIP_RBFOX2_1120_RBFOX2.fastq.gz\n",
    "293XT_CLIP_RBFOX2_1120_GAATTCGT-TAATCTTA_R1.F05_293XT_CLIP_RBFOX2_1120_RBFOX2.fastq.gz\n",
    "293XT_CLIP_RBFOX2_1120_GAATTCGT-TAATCTTA_R2.F05_293XT_CLIP_RBFOX2_1120_RBFOX2.fastq.gz\n",
    "\n",
    "293XT_Input_1120_GAATTCGT-GGCTCTGA_R1.unassigned.fastq.gz\n",
    "293XT_Input_1120_GAATTCGT-GGCTCTGA_R2.unassigned.fastq.gz \n",
    "\n",
    "293XT_CLIP_RBFOX2_0204_GAGATTCC-TAATCTTA_R1.A03_293XT_CLIP_RBFOX2_0204_RBFOX2.fastq.gz\n",
    "293XT_CLIP_RBFOX2_0204_GAGATTCC-TAATCTTA_R2.A03_293XT_CLIP_RBFOX2_0204_RBFOX2.fastq.gz\n",
    "293XT_CLIP_RBFOX2_0204_GAGATTCC-TAATCTTA_R1.G07_293XT_CLIP_RBFOX2_0204_RBFOX2.fastq.gz\n",
    "293XT_CLIP_RBFOX2_0204_GAGATTCC-TAATCTTA_R2.G07_293XT_CLIP_RBFOX2_0204_RBFOX2.fastq.gz\n",
    "\n",
    "293XT_Input_0204_ATTCAGAA-TAATCTTA_R1.unassigned.fastq.gz\n",
    "293XT_Input_0204_ATTCAGAA-TAATCTTA_R2.unassigned.fastq.gz\n",
    "\n",
    "293XT_CLIP_IgG_1120_ATTCAGAA-GGCTCTGA_R1.A04_293XT_CLIP_IgG_1120_Input.fastq.gz\n",
    "293XT_CLIP_IgG_1120_ATTCAGAA-GGCTCTGA_R2.A04_293XT_CLIP_IgG_1120_Input.fastq.gz\n",
    "293XT_CLIP_IgG_1120_ATTCAGAA-GGCTCTGA_R1.F05_293XT_CLIP_IgG_1120_Input.fastq.gz\n",
    "293XT_CLIP_IgG_1120_ATTCAGAA-GGCTCTGA_R2.F05_293XT_CLIP_IgG_1120_Input.fastq.gz\n",
    "\n",
    "293XT_Input_IgG1120_GAGATTCC-GGCTCTGA_R1.unassigned.fastq.gz\n",
    "293XT_Input_IgG1120_GAGATTCC-GGCTCTGA_R2.unassigned.fastq.gz\n",
    "\n",
    "EVN_SLBP_pool4_ATTACTCG-CCTATCCT_L007_R1.A04_EVN_041315_CLIP12_SLBP.fastq.gz\n",
    "EVN_SLBP_pool4_ATTACTCG-CCTATCCT_L007_R2.A04_EVN_041315_CLIP12_SLBP.fastq.gz  \n",
    "EVN_SLBP_pool4_ATTACTCG-CCTATCCT_L007_R1.F05_EVN_041315_CLIP12_SLBP.fastq.gz\n",
    "EVN_SLBP_pool4_ATTACTCG-CCTATCCT_L007_R2.F05_EVN_041315_CLIP12_SLBP.fastq.gz \n",
    "\n",
    "EVN_INPUT_12_ATTACTCG-ATAGAGGC_L007_R1.unassigned.fastq.gz\n",
    "EVN_INPUT_12_ATTACTCG-ATAGAGGC_L007_R2.unassigned.fastq.gz\n",
    "\n",
    "EVN_SLBP_pool4_ATTACTCG-CCTATCCT_L007_R1.A03_EVN_041315_CLIP13_SLBP.fastq.gz\n",
    "EVN_SLBP_pool4_ATTACTCG-CCTATCCT_L007_R2.A03_EVN_041315_CLIP13_SLBP.fastq.gz\n",
    "EVN_SLBP_pool4_ATTACTCG-CCTATCCT_L007_R1.G07_EVN_041315_CLIP13_SLBP.fastq.gz\n",
    "EVN_SLBP_pool4_ATTACTCG-CCTATCCT_L007_R2.G07_EVN_041315_CLIP13_SLBP.fastq.gz\n",
    "\n",
    "EVN_INPUT_13_TCCGGAGA-ATAGAGGC_L007_R1.unassigned.fastq.gz\n",
    "EVN_INPUT_13_TCCGGAGA-ATAGAGGC_L007_R2.unassigned.fastq.gz\n",
    "\n",
    "EVN_SLBP_pool4_ATTACTCG-CCTATCCT_L007_R1.A01_EVN_041315_CLIP14_SLBP.fastq.gz\n",
    "EVN_SLBP_pool4_ATTACTCG-CCTATCCT_L007_R2.A01_EVN_041315_CLIP14_SLBP.fastq.gz\n",
    "EVN_SLBP_pool4_ATTACTCG-CCTATCCT_L007_R1.B06_EVN_041315_CLIP14_SLBP.fastq.gz\n",
    "EVN_SLBP_pool4_ATTACTCG-CCTATCCT_L007_R2.B06_EVN_041315_CLIP14_SLBP.fastq.gz \n",
    "\n",
    "EVN_INPUT_14_CGCTCATT-TATAGCCT_L007_R1.unassigned.fastq.gz\n",
    "EVN_INPUT_14_CGCTCATT-TATAGCCT_L007_R2.unassigned.fastq.gz\n",
    "\n",
    "EVN_SLBP_pool4_ATTACTCG-CCTATCCT_L007_R1.C01_EVN_041315_CLIP15_SLBP.fastq.gz\n",
    "EVN_SLBP_pool4_ATTACTCG-CCTATCCT_L007_R2.C01_EVN_041315_CLIP15_SLBP.fastq.gz \n",
    "EVN_SLBP_pool4_ATTACTCG-CCTATCCT_L007_R1.D08fixed_EVN_041315_CLIP15_SLBP.fastq.gz\n",
    "EVN_SLBP_pool4_ATTACTCG-CCTATCCT_L007_R2.D08fixed_EVN_041315_CLIP15_SLBP.fastq.gz\n",
    "\n",
    "EVN_INPUT_15_GAGATTCC-TATAGCCT_L007_R1.unassigned.fastq.gz\n",
    "EVN_INPUT_15_GAGATTCC-TATAGCCT_L007_R2.unassigned.fastq.gz\n",
    "\n",
    "FOX2gel-pool1_S1_R1.A01_RBFOX2_293XT_1to12_gel_RBFOX2.fastq.gz\n",
    "FOX2gel-pool1_S1_R2.A01_RBFOX2_293XT_1to12_gel_RBFOX2.fastq.gz \n",
    "FOX2gel-pool1_S1_R1.A04_RBFOX2_293XT_1to12_gel_RBFOX2.fastq.gz\n",
    "FOX2gel-pool1_S1_R2.A04_RBFOX2_293XT_1to12_gel_RBFOX2.fastq.gz\n",
    "\n",
    "FOX2gel-pool1_S1_R1.B06_RBFOX2_293XT_1to25_gel_RBFOX2.fastq.gz\n",
    "FOX2gel-pool1_S1_R2.B06_RBFOX2_293XT_1to25_gel_RBFOX2.fastq.gz \n",
    "FOX2gel-pool1_S1_R1.F05_RBFOX2_293XT_1to25_gel_RBFOX2.fastq.gz\n",
    "FOX2gel-pool1_S1_R2.F05_RBFOX2_293XT_1to25_gel_RBFOX2.fastq.gz\n",
    "\n",
    "FOX2gel-pool1_S1_R1.C01_RBFOX2_293XT_1to50_gel_RBFOX2.fastq.gz\n",
    "FOX2gel-pool1_S1_R2.C01_RBFOX2_293XT_1to50_gel_RBFOX2.fastq.gz \n",
    "FOX2gel-pool1_S1_R1.D08fixed_RBFOX2_293XT_1to50_gel_RBFOX2.fastq.gz\n",
    "FOX2gel-pool1_S1_R2.D08fixed_RBFOX2_293XT_1to50_gel_RBFOX2.fastq.gz\n",
    "\n",
    "FOX2gel-pool2_S2_R1.A01_RBFOX2_293XT_1to100_gel_RBFOX2.fastq.gz\n",
    "FOX2gel-pool2_S2_R2.A01_RBFOX2_293XT_1to100_gel_RBFOX2.fastq.gz\n",
    "FOX2gel-pool2_S2_R1.A03_RBFOX2_293XT_1to100_gel_RBFOX2.fastq.gz\n",
    "FOX2gel-pool2_S2_R2.A03_RBFOX2_293XT_1to100_gel_RBFOX2.fastq.gz \n",
    "\n",
    "FOX2gel-pool2_S2_R1.B06_RBFOX2_293XT_1to200_gel_RBFOX2.fastq.gz\n",
    "FOX2gel-pool2_S2_R2.B06_RBFOX2_293XT_1to200_gel_RBFOX2.fastq.gz\n",
    "FOX2gel-pool2_S2_R1.F05_RBFOX2_293XT_1to200_gel_RBFOX2.fastq.gz\n",
    "FOX2gel-pool2_S2_R2.F05_RBFOX2_293XT_1to200_gel_RBFOX2.fastq.gz\n",
    "\n",
    "EVN_RBFOX2_pool1_TCCGGAGA-CCTATCCT_L007_R1.A04_EVN_041315_CLIP1_RBFOX2.fastq.gz\n",
    "EVN_RBFOX2_pool1_TCCGGAGA-CCTATCCT_L007_R2.A04_EVN_041315_CLIP1_RBFOX2.fastq.gz\n",
    "EVN_RBFOX2_pool1_TCCGGAGA-CCTATCCT_L007_R1.F05_EVN_041315_CLIP1_RBFOX2.fastq.gz\n",
    "EVN_RBFOX2_pool1_TCCGGAGA-CCTATCCT_L007_R2.F05_EVN_041315_CLIP1_RBFOX2.fastq.gz\n",
    "\n",
    "EVN_RBFOX2_pool2_ATTACTCG-GGCTCTGA_L007_R1.A04_EVN_041315_CLIP5_RBFOX2.fastq.gz\n",
    "EVN_RBFOX2_pool2_ATTACTCG-GGCTCTGA_L007_R2.A04_EVN_041315_CLIP5_RBFOX2.fastq.gz\n",
    "EVN_RBFOX2_pool2_ATTACTCG-GGCTCTGA_L007_R1.F05_EVN_041315_CLIP5_RBFOX2.fastq.gz\n",
    "EVN_RBFOX2_pool2_ATTACTCG-GGCTCTGA_L007_R2.F05_EVN_041315_CLIP5_RBFOX2.fastq.gz \n",
    "\n",
    "EVN_RBFOX2_pool2_ATTACTCG-GGCTCTGA_L007_R1.A03_EVN_041315_CLIP6_RBFOX2.fastq.gz\n",
    "EVN_RBFOX2_pool2_ATTACTCG-GGCTCTGA_L007_R2.A03_EVN_041315_CLIP6_RBFOX2.fastq.gz\n",
    "EVN_RBFOX2_pool2_ATTACTCG-GGCTCTGA_L007_R1.G07_EVN_041315_CLIP6_RBFOX2.fastq.gz\n",
    "EVN_RBFOX2_pool2_ATTACTCG-GGCTCTGA_L007_R2.G07_EVN_041315_CLIP6_RBFOX2.fastq.gz \n",
    "\n",
    "EVN_RBFOX2_pool2_ATTACTCG-GGCTCTGA_L007_R1.A01_EVN_041315_CLIP8_RBFOX2.fastq.gz\n",
    "EVN_RBFOX2_pool2_ATTACTCG-GGCTCTGA_L007_R2.A01_EVN_041315_CLIP8_RBFOX2.fastq.gz\n",
    "EVN_RBFOX2_pool2_ATTACTCG-GGCTCTGA_L007_R1.B06_EVN_041315_CLIP8_RBFOX2.fastq.gz\n",
    "EVN_RBFOX2_pool2_ATTACTCG-GGCTCTGA_L007_R2.B06_EVN_041315_CLIP8_RBFOX2.fastq.gz\n",
    "\n",
    "EVN_RBFOX2_pool3_TCCGGAGA-GGCTCTGA_L007_R1.A01_EVN_041315_CLIP10_RBFOX2.fastq.gz\n",
    "EVN_RBFOX2_pool3_TCCGGAGA-GGCTCTGA_L007_R2.A01_EVN_041315_CLIP10_RBFOX2.fastq.gz \n",
    "EVN_RBFOX2_pool3_TCCGGAGA-GGCTCTGA_L007_R1.B06_EVN_041315_CLIP10_RBFOX2.fastq.gz\n",
    "EVN_RBFOX2_pool3_TCCGGAGA-GGCTCTGA_L007_R2.B06_EVN_041315_CLIP10_RBFOX2.fastq.gz "
   ]
  },
  {
   "cell_type": "code",
   "execution_count": 2,
   "metadata": {
    "collapsed": true
   },
   "outputs": [],
   "source": [
    "import gzip\n",
    "import os"
   ]
  },
  {
   "cell_type": "code",
   "execution_count": null,
   "metadata": {
    "collapsed": false
   },
   "outputs": [],
   "source": [
    "\n",
    "def add_back_randomers(fn):\n",
    "    #reads through initial file parses everything out\n",
    "    with gzip.open(os.path.join(\"/home/gpratt/projects/encode/analysis/encode_split/\", fn)) as fastq_file, gzip.open(os.path.join(\"/home/gpratt/projects/encode/data/van_nostrand_geo_submission\", \".\".join(fn.split(\".\")[:2]) + \".randomer.fastq.gz\"), 'w') as out_file:\n",
    "        while True:\n",
    "            try:\n",
    "                name_1 = fastq_file.next()\n",
    "                seq_1 = fastq_file.next()\n",
    "                fastq_file.next() #got to consume the read\n",
    "                plus = \"+\\n\" #sometimes the descriptor is here, don't want it\n",
    "                quality_1 = fastq_file.next()\n",
    "\n",
    "                randomer = name_1.split(\":\")[0][1:]\n",
    "                name_1 = \"@\" + \":\".join(name_1.split(\":\")[1:])\n",
    "                seq_1 = randomer + seq_1\n",
    "                quality_1 = len(randomer) * \"-\" + quality_1\n",
    "                \n",
    "                out_file.write(name_1)\n",
    "                out_file.write(seq_1)\n",
    "                out_file.write(plus)\n",
    "                out_file.write(quality_1)\n",
    "\n",
    "            except StopIteration:\n",
    "                break\n",
    "                "
   ]
  },
  {
   "cell_type": "code",
   "execution_count": null,
   "metadata": {
    "collapsed": true
   },
   "outputs": [],
   "source": [
    "r2_to_fix = \"\"\"293XT_CLIP_RBFOX2_1120_GAATTCGT-TAATCTTA_R2.A04_293XT_CLIP_RBFOX2_1120_RBFOX2.fastq.gz\n",
    "293XT_CLIP_RBFOX2_1120_GAATTCGT-TAATCTTA_R2.F05_293XT_CLIP_RBFOX2_1120_RBFOX2.fastq.gz\n",
    "293XT_Input_1120_GAATTCGT-GGCTCTGA_R2.unassigned.fastq.gz\n",
    "293XT_CLIP_RBFOX2_0204_GAGATTCC-TAATCTTA_R2.A03_293XT_CLIP_RBFOX2_0204_RBFOX2.fastq.gz\n",
    "293XT_CLIP_RBFOX2_0204_GAGATTCC-TAATCTTA_R2.G07_293XT_CLIP_RBFOX2_0204_RBFOX2.fastq.gz\n",
    "293XT_Input_0204_ATTCAGAA-TAATCTTA_R2.unassigned.fastq.gz\n",
    "293XT_CLIP_IgG_1120_ATTCAGAA-GGCTCTGA_R2.A04_293XT_CLIP_IgG_1120_Input.fastq.gz\n",
    "293XT_CLIP_IgG_1120_ATTCAGAA-GGCTCTGA_R2.F05_293XT_CLIP_IgG_1120_Input.fastq.gz\n",
    "293XT_Input_IgG1120_GAGATTCC-GGCTCTGA_R2.unassigned.fastq.gz\n",
    "EVN_SLBP_pool4_ATTACTCG-CCTATCCT_L007_R2.A04_EVN_041315_CLIP12_SLBP.fastq.gz\n",
    "EVN_SLBP_pool4_ATTACTCG-CCTATCCT_L007_R2.F05_EVN_041315_CLIP12_SLBP.fastq.gz\n",
    "EVN_INPUT_12_ATTACTCG-ATAGAGGC_L007_R2.unassigned.fastq.gz\n",
    "EVN_SLBP_pool4_ATTACTCG-CCTATCCT_L007_R2.A03_EVN_041315_CLIP13_SLBP.fastq.gz\n",
    "EVN_SLBP_pool4_ATTACTCG-CCTATCCT_L007_R2.G07_EVN_041315_CLIP13_SLBP.fastq.gz\n",
    "EVN_INPUT_13_TCCGGAGA-ATAGAGGC_L007_R2.unassigned.fastq.gz\n",
    "EVN_SLBP_pool4_ATTACTCG-CCTATCCT_L007_R2.A01_EVN_041315_CLIP14_SLBP.fastq.gz\n",
    "EVN_SLBP_pool4_ATTACTCG-CCTATCCT_L007_R2.B06_EVN_041315_CLIP14_SLBP.fastq.gz\n",
    "EVN_INPUT_14_CGCTCATT-TATAGCCT_L007_R2.unassigned.fastq.gz\n",
    "EVN_SLBP_pool4_ATTACTCG-CCTATCCT_L007_R2.C01_EVN_041315_CLIP15_SLBP.fastq.gz\n",
    "EVN_SLBP_pool4_ATTACTCG-CCTATCCT_L007_R2.D08fixed_EVN_041315_CLIP15_SLBP.fastq.gz\n",
    "EVN_INPUT_15_GAGATTCC-TATAGCCT_L007_R2.unassigned.fastq.gz\n",
    "FOX2gel-pool1_S1_R2.A01_RBFOX2_293XT_1to12_gel_RBFOX2.fastq.gz\n",
    "FOX2gel-pool1_S1_R2.A04_RBFOX2_293XT_1to12_gel_RBFOX2.fastq.gz\n",
    "FOX2gel-pool1_S1_R2.B06_RBFOX2_293XT_1to25_gel_RBFOX2.fastq.gz\n",
    "FOX2gel-pool1_S1_R2.F05_RBFOX2_293XT_1to25_gel_RBFOX2.fastq.gz\n",
    "FOX2gel-pool1_S1_R2.C01_RBFOX2_293XT_1to50_gel_RBFOX2.fastq.gz\n",
    "FOX2gel-pool1_S1_R2.D08fixed_RBFOX2_293XT_1to50_gel_RBFOX2.fastq.gz\n",
    "FOX2gel-pool2_S2_R2.A01_RBFOX2_293XT_1to100_gel_RBFOX2.fastq.gz\n",
    "FOX2gel-pool2_S2_R2.A03_RBFOX2_293XT_1to100_gel_RBFOX2.fastq.gz\n",
    "FOX2gel-pool2_S2_R2.B06_RBFOX2_293XT_1to200_gel_RBFOX2.fastq.gz\n",
    "FOX2gel-pool2_S2_R2.F05_RBFOX2_293XT_1to200_gel_RBFOX2.fastq.gz\n",
    "EVN_RBFOX2_pool1_TCCGGAGA-CCTATCCT_L007_R2.A04_EVN_041315_CLIP1_RBFOX2.fastq.gz\n",
    "EVN_RBFOX2_pool1_TCCGGAGA-CCTATCCT_L007_R2.F05_EVN_041315_CLIP1_RBFOX2.fastq.gz\n",
    "EVN_RBFOX2_pool2_ATTACTCG-GGCTCTGA_L007_R2.A04_EVN_041315_CLIP5_RBFOX2.fastq.gz\n",
    "EVN_RBFOX2_pool2_ATTACTCG-GGCTCTGA_L007_R2.F05_EVN_041315_CLIP5_RBFOX2.fastq.gz\n",
    "EVN_RBFOX2_pool2_ATTACTCG-GGCTCTGA_L007_R2.A03_EVN_041315_CLIP6_RBFOX2.fastq.gz\n",
    "EVN_RBFOX2_pool2_ATTACTCG-GGCTCTGA_L007_R2.G07_EVN_041315_CLIP6_RBFOX2.fastq.gz\n",
    "EVN_RBFOX2_pool2_ATTACTCG-GGCTCTGA_L007_R2.A01_EVN_041315_CLIP8_RBFOX2.fastq.gz\n",
    "EVN_RBFOX2_pool2_ATTACTCG-GGCTCTGA_L007_R2.B06_EVN_041315_CLIP8_RBFOX2.fastq.gz\n",
    "EVN_RBFOX2_pool3_TCCGGAGA-GGCTCTGA_L007_R2.A01_EVN_041315_CLIP10_RBFOX2.fastq.gz\n",
    "EVN_RBFOX2_pool3_TCCGGAGA-GGCTCTGA_L007_R2.B06_EVN_041315_CLIP10_RBFOX2.fastq.gz\"\"\".split(\"\\n\")"
   ]
  },
  {
   "cell_type": "code",
   "execution_count": null,
   "metadata": {
    "collapsed": false
   },
   "outputs": [
    {
     "name": "stdout",
     "output_type": "stream",
     "text": [
      "293XT_CLIP_RBFOX2_1120_GAATTCGT-TAATCTTA_R2.A04_293XT_CLIP_RBFOX2_1120_RBFOX2.fastq.gz\n",
      "293XT_CLIP_RBFOX2_1120_GAATTCGT-TAATCTTA_R2.F05_293XT_CLIP_RBFOX2_1120_RBFOX2.fastq.gz"
     ]
    }
   ],
   "source": [
    "for x in r2_to_fix:\n",
    "    print x\n",
    "    add_back_randomers(x.strip())"
   ]
  },
  {
   "cell_type": "code",
   "execution_count": null,
   "metadata": {
    "collapsed": true
   },
   "outputs": [],
   "source": [
    "#r1 files to submit\n",
    "\"\"\"293XT_CLIP_RBFOX2_1120_GAATTCGT-TAATCTTA_R1.A04_293XT_CLIP_RBFOX2_1120_RBFOX2.fastq.gz\n",
    "293XT_CLIP_RBFOX2_1120_GAATTCGT-TAATCTTA_R1.F05_293XT_CLIP_RBFOX2_1120_RBFOX2.fastq.gz\n",
    "293XT_Input_1120_GAATTCGT-GGCTCTGA_R1.unassigned.fastq.gz\n",
    "293XT_CLIP_RBFOX2_0204_GAGATTCC-TAATCTTA_R1.A03_293XT_CLIP_RBFOX2_0204_RBFOX2.fastq.gz\n",
    "293XT_CLIP_RBFOX2_0204_GAGATTCC-TAATCTTA_R1.G07_293XT_CLIP_RBFOX2_0204_RBFOX2.fastq.gz\n",
    "293XT_Input_0204_ATTCAGAA-TAATCTTA_R1.unassigned.fastq.gz\n",
    "293XT_CLIP_IgG_1120_ATTCAGAA-GGCTCTGA_R1.A04_293XT_CLIP_IgG_1120_Input.fastq.gz\n",
    "293XT_CLIP_IgG_1120_ATTCAGAA-GGCTCTGA_R1.F05_293XT_CLIP_IgG_1120_Input.fastq.gz\n",
    "293XT_Input_IgG1120_GAGATTCC-GGCTCTGA_R1.unassigned.fastq.gz\n",
    "EVN_SLBP_pool4_ATTACTCG-CCTATCCT_L007_R1.A04_EVN_041315_CLIP12_SLBP.fastq.gz\n",
    "EVN_SLBP_pool4_ATTACTCG-CCTATCCT_L007_R1.F05_EVN_041315_CLIP12_SLBP.fastq.gz\n",
    "EVN_INPUT_12_ATTACTCG-ATAGAGGC_L007_R1.unassigned.fastq.gz\n",
    "EVN_SLBP_pool4_ATTACTCG-CCTATCCT_L007_R1.A03_EVN_041315_CLIP13_SLBP.fastq.gz\n",
    "EVN_SLBP_pool4_ATTACTCG-CCTATCCT_L007_R1.G07_EVN_041315_CLIP13_SLBP.fastq.gz\n",
    "EVN_INPUT_13_TCCGGAGA-ATAGAGGC_L007_R1.unassigned.fastq.gz\n",
    "EVN_SLBP_pool4_ATTACTCG-CCTATCCT_L007_R1.A01_EVN_041315_CLIP14_SLBP.fastq.gz\n",
    "EVN_SLBP_pool4_ATTACTCG-CCTATCCT_L007_R1.B06_EVN_041315_CLIP14_SLBP.fastq.gz\n",
    "EVN_INPUT_14_CGCTCATT-TATAGCCT_L007_R1.unassigned.fastq.gz\n",
    "EVN_SLBP_pool4_ATTACTCG-CCTATCCT_L007_R1.C01_EVN_041315_CLIP15_SLBP.fastq.gz\n",
    "EVN_SLBP_pool4_ATTACTCG-CCTATCCT_L007_R1.D08fixed_EVN_041315_CLIP15_SLBP.fastq.gz\n",
    "EVN_INPUT_15_GAGATTCC-TATAGCCT_L007_R1.unassigned.fastq.gz\n",
    "FOX2gel-pool1_S1_R1.A01_RBFOX2_293XT_1to12_gel_RBFOX2.fastq.gz\n",
    "FOX2gel-pool1_S1_R1.A04_RBFOX2_293XT_1to12_gel_RBFOX2.fastq.gz\n",
    "FOX2gel-pool1_S1_R1.B06_RBFOX2_293XT_1to25_gel_RBFOX2.fastq.gz\n",
    "FOX2gel-pool1_S1_R1.F05_RBFOX2_293XT_1to25_gel_RBFOX2.fastq.gz\n",
    "FOX2gel-pool1_S1_R1.C01_RBFOX2_293XT_1to50_gel_RBFOX2.fastq.gz\n",
    "FOX2gel-pool1_S1_R1.D08fixed_RBFOX2_293XT_1to50_gel_RBFOX2.fastq.gz\n",
    "FOX2gel-pool2_S2_R1.A01_RBFOX2_293XT_1to100_gel_RBFOX2.fastq.gz\n",
    "FOX2gel-pool2_S2_R1.A03_RBFOX2_293XT_1to100_gel_RBFOX2.fastq.gz\n",
    "FOX2gel-pool2_S2_R1.B06_RBFOX2_293XT_1to200_gel_RBFOX2.fastq.gz\n",
    "FOX2gel-pool2_S2_R1.F05_RBFOX2_293XT_1to200_gel_RBFOX2.fastq.gz\n",
    "EVN_RBFOX2_pool1_TCCGGAGA-CCTATCCT_L007_R1.A04_EVN_041315_CLIP1_RBFOX2.fastq.gz\n",
    "EVN_RBFOX2_pool1_TCCGGAGA-CCTATCCT_L007_R1.F05_EVN_041315_CLIP1_RBFOX2.fastq.gz\n",
    "EVN_RBFOX2_pool2_ATTACTCG-GGCTCTGA_L007_R1.A04_EVN_041315_CLIP5_RBFOX2.fastq.gz\n",
    "EVN_RBFOX2_pool2_ATTACTCG-GGCTCTGA_L007_R1.F05_EVN_041315_CLIP5_RBFOX2.fastq.gz\n",
    "EVN_RBFOX2_pool2_ATTACTCG-GGCTCTGA_L007_R1.A03_EVN_041315_CLIP6_RBFOX2.fastq.gz\n",
    "EVN_RBFOX2_pool2_ATTACTCG-GGCTCTGA_L007_R1.G07_EVN_041315_CLIP6_RBFOX2.fastq.gz\n",
    "EVN_RBFOX2_pool2_ATTACTCG-GGCTCTGA_L007_R1.A01_EVN_041315_CLIP8_RBFOX2.fastq.gz\n",
    "EVN_RBFOX2_pool2_ATTACTCG-GGCTCTGA_L007_R1.B06_EVN_041315_CLIP8_RBFOX2.fastq.gz\n",
    "EVN_RBFOX2_pool3_TCCGGAGA-GGCTCTGA_L007_R1.A01_EVN_041315_CLIP10_RBFOX2.fastq.gz\n",
    "EVN_RBFOX2_pool3_TCCGGAGA-GGCTCTGA_L007_R1.B06_EVN_041315_CLIP10_RBFOX2.fastq.gz\"\"\".split(\"\\n\")\n"
   ]
  },
  {
   "cell_type": "code",
   "execution_count": null,
   "metadata": {
    "collapsed": true
   },
   "outputs": [],
   "source": [
    "{293XT_CLIP_RBFOX2_1120_GAATTCGT-TAATCTTA_R1.A04_293XT_CLIP_RBFOX2_1120_RBFOX2.fastq.gz,293XT_CLIP_RBFOX2_1120_GAATTCGT-TAATCTTA_R1.F05_293XT_CLIP_RBFOX2_1120_RBFOX2.fastq.gz,293XT_Input_1120_GAATTCGT-GGCTCTGA_R1.unassigned.fastq.gz,293XT_CLIP_RBFOX2_0204_GAGATTCC-TAATCTTA_R1.A03_293XT_CLIP_RBFOX2_0204_RBFOX2.fastq.gz293XT_CLIP_RBFOX2_0204_GAGATTCC-TAATCTTA_R1.G07_293XT_CLIP_RBFOX2_0204_RBFOX2.fastq.gz,293XT_Input_0204_ATTCAGAA-TAATCTTA_R1.unassigned.fastq.gz,293XT_CLIP_IgG_1120_ATTCAGAA-GGCTCTGA_R1.A04_293XT_CLIP_IgG_1120_Input.fastq.gz,293XT_CLIP_IgG_1120_ATTCAGAA-GGCTCTGA_R1.F05_293XT_CLIP_IgG_1120_Input.fastq.gz,293XT_Input_IgG1120_GAGATTCC-GGCTCTGA_R1.unassigned.fastq.gz,EVN_SLBP_pool4_ATTACTCG-CCTATCCT_L007_R1.A04_EVN_041315_CLIP12_SLBP.fastq.gz,EVN_SLBP_pool4_ATTACTCG-CCTATCCT_L007_R1.F05_EVN_041315_CLIP12_SLBP.fastq.gz,EVN_INPUT_12_ATTACTCG-ATAGAGGC_L007_R1.unassigned.fastq.gz,EVN_SLBP_pool4_ATTACTCG-CCTATCCT_L007_R1.A03_EVN_041315_CLIP13_SLBP.fastq.gz,EVN_SLBP_pool4_ATTACTCG-CCTATCCT_L007_R1.G07_EVN_041315_CLIP13_SLBP.fastq.gz,EVN_INPUT_13_TCCGGAGA-ATAGAGGC_L007_R1.unassigned.fastq.gz,EVN_SLBP_pool4_ATTACTCG-CCTATCCT_L007_R1.A01_EVN_041315_CLIP14_SLBP.fastq.gz,EVN_SLBP_pool4_ATTACTCG-CCTATCCT_L007_R1.B06_EVN_041315_CLIP14_SLBP.fastq.gz,EVN_INPUT_14_CGCTCATT-TATAGCCT_L007_R1.unassigned.fastq.gz,EVN_SLBP_pool4_ATTACTCG-CCTATCCT_L007_R1.C01_EVN_041315_CLIP15_SLBP.fastq.gz,EVN_SLBP_pool4_ATTACTCG-CCTATCCT_L007_R1.D08fixed_EVN_041315_CLIP15_SLBP.fastq.gz,EVN_INPUT_15_GAGATTCC-TATAGCCT_L007_R1.unassigned.fastq.gz,FOX2gel-pool1_S1_R1.A01_RBFOX2_293XT_1to12_gel_RBFOX2.fastq.gz,FOX2gel-pool1_S1_R1.A04_RBFOX2_293XT_1to12_gel_RBFOX2.fastq.gz,FOX2gel-pool1_S1_R1.B06_RBFOX2_293XT_1to25_gel_RBFOX2.fastq.gz,FOX2gel-pool1_S1_R1.F05_RBFOX2_293XT_1to25_gel_RBFOX2.fastq.gz,FOX2gel-pool1_S1_R1.C01_RBFOX2_293XT_1to50_gel_RBFOX2.fastq.gz,FOX2gel-pool1_S1_R1.D08fixed_RBFOX2_293XT_1to50_gel_RBFOX2.fastq.gz,FOX2gel-pool2_S2_R1.A01_RBFOX2_293XT_1to100_gel_RBFOX2.fastq.gz,FOX2gel-pool2_S2_R1.A03_RBFOX2_293XT_1to100_gel_RBFOX2.fastq.gz,FOX2gel-pool2_S2_R1.B06_RBFOX2_293XT_1to200_gel_RBFOX2.fastq.gz,FOX2gel-pool2_S2_R1.F05_RBFOX2_293XT_1to200_gel_RBFOX2.fastq.gz,EVN_RBFOX2_pool1_TCCGGAGA-CCTATCCT_L007_R1.A04_EVN_041315_CLIP1_RBFOX2.fastq.gz,EVN_RBFOX2_pool1_TCCGGAGA-CCTATCCT_L007_R1.F05_EVN_041315_CLIP1_RBFOX2.fastq.gz,EVN_RBFOX2_pool2_ATTACTCG-GGCTCTGA_L007_R1.A04_EVN_041315_CLIP5_RBFOX2.fastq.gz,EVN_RBFOX2_pool2_ATTACTCG-GGCTCTGA_L007_R1.F05_EVN_041315_CLIP5_RBFOX2.fastq.gz,EVN_RBFOX2_pool2_ATTACTCG-GGCTCTGA_L007_R1.A03_EVN_041315_CLIP6_RBFOX2.fastq.gz,EVN_RBFOX2_pool2_ATTACTCG-GGCTCTGA_L007_R1.G07_EVN_041315_CLIP6_RBFOX2.fastq.gz,EVN_RBFOX2_pool2_ATTACTCG-GGCTCTGA_L007_R1.A01_EVN_041315_CLIP8_RBFOX2.fastq.gz,EVN_RBFOX2_pool2_ATTACTCG-GGCTCTGA_L007_R1.B06_EVN_041315_CLIP8_RBFOX2.fastq.gz,EVN_RBFOX2_pool3_TCCGGAGA-GGCTCTGA_L007_R1.A01_EVN_041315_CLIP10_RBFOX2.fastq.gz,EVN_RBFOX2_pool3_TCCGGAGA-GGCTCTGA_L007_R1.B06_EVN_041315_CLIP10_RBFOX2.fastq.gz}"
   ]
  },
  {
   "cell_type": "code",
   "execution_count": null,
   "metadata": {
    "collapsed": true
   },
   "outputs": [],
   "source": [
    "{293XT_CLIP_RBFOX2_1120_GAATTCGT-TAATCTTA_R1.A04_293XT_CLIP_RBFOX2_1120_RBFOX2.fastq.gz,293XT_CLIP_RBFOX2_1120_GAATTCGT-TAATCTTA_R1.F05_293XT_CLIP_RBFOX2_1120_RBFOX2.fastq.gz,293XT_Input_1120_GAATTCGT-GGCTCTGA_R1.unassigned.fastq.gz,293XT_CLIP_RBFOX2_0204_GAGATTCC-TAATCTTA_R1.A03_293XT_CLIP_RBFOX2_0204_RBFOX2.fastq.gz,293XT_CLIP_RBFOX2_0204_GAGATTCC-TAATCTTA_R1.G07_293XT_CLIP_RBFOX2_0204_RBFOX2.fastq.gz,293XT_Input_0204_ATTCAGAA-TAATCTTA_R1.unassigned.fastq.gz,293XT_CLIP_IgG_1120_ATTCAGAA-GGCTCTGA_R1.A04_293XT_CLIP_IgG_1120_Input.fastq.gz,293XT_CLIP_IgG_1120_ATTCAGAA-GGCTCTGA_R1.F05_293XT_CLIP_IgG_1120_Input.fastq.gz,293XT_Input_IgG1120_GAGATTCC-GGCTCTGA_R1.unassigned.fastq.gz,EVN_SLBP_pool4_ATTACTCG-CCTATCCT_L007_R1.A04_EVN_041315_CLIP12_SLBP.fastq.gz,EVN_SLBP_pool4_ATTACTCG-CCTATCCT_L007_R1.F05_EVN_041315_CLIP12_SLBP.fastq.gz,EVN_INPUT_12_ATTACTCG-ATAGAGGC_L007_R1.unassigned.fastq.gz,EVN_SLBP_pool4_ATTACTCG-CCTATCCT_L007_R1.A03_EVN_041315_CLIP13_SLBP.fastq.gz,EVN_SLBP_pool4_ATTACTCG-CCTATCCT_L007_R1.G07_EVN_041315_CLIP13_SLBP.fastq.gz,EVN_INPUT_13_TCCGGAGA-ATAGAGGC_L007_R1.unassigned.fastq.gz,EVN_SLBP_pool4_ATTACTCG-CCTATCCT_L007_R1.A01_EVN_041315_CLIP14_SLBP.fastq.gz,EVN_SLBP_pool4_ATTACTCG-CCTATCCT_L007_R1.B06_EVN_041315_CLIP14_SLBP.fastq.gz,EVN_INPUT_14_CGCTCATT-TATAGCCT_L007_R1.unassigned.fastq.gz,EVN_SLBP_pool4_ATTACTCG-CCTATCCT_L007_R1.C01_EVN_041315_CLIP15_SLBP.fastq.gz,EVN_SLBP_pool4_ATTACTCG-CCTATCCT_L007_R1.D08fixed_EVN_041315_CLIP15_SLBP.fastq.gz,EVN_INPUT_15_GAGATTCC-TATAGCCT_L007_R1.unassigned.fastq.gz,FOX2gel-pool1_S1_R1.A01_RBFOX2_293XT_1to12_gel_RBFOX2.fastq.gz,FOX2gel-pool1_S1_R1.A04_RBFOX2_293XT_1to12_gel_RBFOX2.fastq.gz,FOX2gel-pool1_S1_R1.B06_RBFOX2_293XT_1to25_gel_RBFOX2.fastq.gz,FOX2gel-pool1_S1_R1.F05_RBFOX2_293XT_1to25_gel_RBFOX2.fastq.gz,FOX2gel-pool1_S1_R1.C01_RBFOX2_293XT_1to50_gel_RBFOX2.fastq.gz,FOX2gel-pool1_S1_R1.D08fixed_RBFOX2_293XT_1to50_gel_RBFOX2.fastq.gz,FOX2gel-pool2_S2_R1.A01_RBFOX2_293XT_1to100_gel_RBFOX2.fastq.gz,FOX2gel-pool2_S2_R1.A03_RBFOX2_293XT_1to100_gel_RBFOX2.fastq.gz,FOX2gel-pool2_S2_R1.B06_RBFOX2_293XT_1to200_gel_RBFOX2.fastq.gz,FOX2gel-pool2_S2_R1.F05_RBFOX2_293XT_1to200_gel_RBFOX2.fastq.gz,EVN_RBFOX2_pool1_TCCGGAGA-CCTATCCT_L007_R1.A04_EVN_041315_CLIP1_RBFOX2.fastq.gz,EVN_RBFOX2_pool1_TCCGGAGA-CCTATCCT_L007_R1.F05_EVN_041315_CLIP1_RBFOX2.fastq.gz,EVN_RBFOX2_pool2_ATTACTCG-GGCTCTGA_L007_R1.A04_EVN_041315_CLIP5_RBFOX2.fastq.gz,EVN_RBFOX2_pool2_ATTACTCG-GGCTCTGA_L007_R1.F05_EVN_041315_CLIP5_RBFOX2.fastq.gz,EVN_RBFOX2_pool2_ATTACTCG-GGCTCTGA_L007_R1.A03_EVN_041315_CLIP6_RBFOX2.fastq.gz,EVN_RBFOX2_pool2_ATTACTCG-GGCTCTGA_L007_R1.G07_EVN_041315_CLIP6_RBFOX2.fastq.gz,EVN_RBFOX2_pool2_ATTACTCG-GGCTCTGA_L007_R1.A01_EVN_041315_CLIP8_RBFOX2.fastq.gz,EVN_RBFOX2_pool2_ATTACTCG-GGCTCTGA_L007_R1.B06_EVN_041315_CLIP8_RBFOX2.fastq.gz,EVN_RBFOX2_pool3_TCCGGAGA-GGCTCTGA_L007_R1.A01_EVN_041315_CLIP10_RBFOX2.fastq.gz,EVN_RBFOX2_pool3_TCCGGAGA-GGCTCTGA_L007_R1.B06_EVN_041315_CLIP10_RBFOX2.fastq.gz}"
   ]
  }
 ],
 "metadata": {
  "kernelspec": {
   "display_name": "Python 2",
   "language": "python",
   "name": "python2"
  },
  "language_info": {
   "codemirror_mode": {
    "name": "ipython",
    "version": 2
   },
   "file_extension": ".py",
   "mimetype": "text/x-python",
   "name": "python",
   "nbconvert_exporter": "python",
   "pygments_lexer": "ipython2",
   "version": "2.7.10"
  }
 },
 "nbformat": 4,
 "nbformat_minor": 0
}
