{
 "cells": [
  {
   "cell_type": "code",
   "execution_count": 60,
   "metadata": {
    "collapsed": true
   },
   "outputs": [],
   "source": [
    "import pandas as pd\n",
    "\n",
    "import glob\n",
    "import functools\n",
    "import urllib2\n",
    "\n",
    "import pandas as pd\n",
    "import json\n",
    "import gspread\n",
    "import pandas as pd\n",
    "import os\n",
    "from IPython.core.display import HTML\n",
    "from oauth2client.client import SignedJwtAssertionCredentials\n",
    "import numpy as np\n",
    "import shutil\n",
    "\n",
    "from IPython.core.display import HTML"
   ]
  },
  {
   "cell_type": "code",
   "execution_count": 166,
   "metadata": {
    "collapsed": false
   },
   "outputs": [
    {
     "name": "stdout",
     "output_type": "stream",
     "text": [
      "\r",
      "read_counts.txt                       0%    0     0.0KB/s   0.0KB/s   --:-- ETA\r",
      "read_counts.txt                     100%   10KB   9.9KB/s   9.9KB/s   00:00    \r\n"
     ]
    }
   ],
   "source": [
    "!scp sauron.ucsd.edu:/rpool/www/for_encode/read_counts.txt ."
   ]
  },
  {
   "cell_type": "code",
   "execution_count": null,
   "metadata": {
    "collapsed": true
   },
   "outputs": [],
   "source": [
    "json_key = json.load(open(\"/home/gpratt/ipython_notebook/public clip-588adbc137f3.json\"))\n",
    "scope = ['https://spreadsheets.google.com/feeds']\n",
    "\n",
    "credentials = SignedJwtAssertionCredentials(json_key['client_email'], json_key['private_key'], scope)\n",
    "gc = gspread.authorize(credentials)\n",
    "\n",
    "sht1 = gc.open_by_url(\"https://docs.google.com/spreadsheets/d/1ZU2mQh54jentqvhR_oMnviLGWR8Nw_x338gULzKjNDI/edit#gid=0\")\n",
    "ws = sht1.worksheet(\"Sheet1\")\n",
    "list_of_lists = ws.get_all_values()\n",
    "manifest = pd.DataFrame(list_of_lists[1:], columns=list_of_lists[0])\n",
    "manifest.is_encode = manifest.is_encode == \"TRUE\"\n",
    "manifest.is_4000 = manifest.is_4000 == \"TRUE\"\n",
    "\n",
    "manifest.method_Paper_flag = manifest.Method_Paper_flag == \"TRUE\" \n",
    "manifest['exp_id'] = manifest.ENCODE_ID.apply(lambda x: x.split(\"_\")[0])"
   ]
  },
  {
   "cell_type": "code",
   "execution_count": 167,
   "metadata": {
    "collapsed": false
   },
   "outputs": [],
   "source": [
    "results = []\n",
    "with open(\"read_counts.txt\") as counts:\n",
    "    while True:\n",
    "        try:\n",
    "            name_1 = counts.next().strip()\n",
    "            read_count_1 = counts.next().strip()\n",
    "            \n",
    "            name_2 = counts.next().strip()\n",
    "            read_count_2 = counts.next().strip()\n",
    "            \n",
    "            \n",
    "            results.append({\"name_1\": name_1,\n",
    "                            \"name2\": name_2,\n",
    "                          \"read_count_1\": read_count_1,\n",
    "                          \"read_count_2\": read_count_2,\n",
    "})\n",
    "        except:\n",
    "            break\n",
    "            \n",
    "results = pd.DataFrame(results)\n",
    "results['name'] = results.name2.apply(lambda x: x.split(\".\")[0])"
   ]
  },
  {
   "cell_type": "code",
   "execution_count": 183,
   "metadata": {
    "collapsed": false
   },
   "outputs": [
    {
     "data": {
      "text/html": [
       "<div>\n",
       "<table border=\"1\" class=\"dataframe\">\n",
       "  <thead>\n",
       "    <tr style=\"text-align: right;\">\n",
       "      <th></th>\n",
       "      <th>name2</th>\n",
       "      <th>name_1</th>\n",
       "      <th>read_count_1</th>\n",
       "      <th>name</th>\n",
       "      <th>rbp</th>\n",
       "    </tr>\n",
       "  </thead>\n",
       "  <tbody>\n",
       "    <tr>\n",
       "      <th>70</th>\n",
       "      <td>243_02_LARP7.R2.fastq.gz</td>\n",
       "      <td>243_02_LARP7.R1.fastq.gz</td>\n",
       "      <td>14949533</td>\n",
       "      <td>243_02_LARP7</td>\n",
       "      <td>LARP7</td>\n",
       "    </tr>\n",
       "  </tbody>\n",
       "</table>\n",
       "</div>"
      ],
      "text/plain": [
       "                       name2                    name_1 read_count_1  \\\n",
       "70  243_02_LARP7.R2.fastq.gz  243_02_LARP7.R1.fastq.gz     14949533   \n",
       "\n",
       "            name    rbp  \n",
       "70  243_02_LARP7  LARP7  "
      ]
     },
     "execution_count": 183,
     "metadata": {},
     "output_type": "execute_result"
    }
   ],
   "source": [
    "results[results.read_count_1.astype(int) == 14949533]"
   ]
  },
  {
   "cell_type": "code",
   "execution_count": 168,
   "metadata": {
    "collapsed": false
   },
   "outputs": [],
   "source": [
    "results = results.drop(\"read_count_2\", axis=1)\n",
    "results['rbp'] = results.name.apply(lambda x: x.split(\"_\")[-1])"
   ]
  },
  {
   "cell_type": "code",
   "execution_count": 169,
   "metadata": {
    "collapsed": false
   },
   "outputs": [],
   "source": [
    "manifest['fastq_name'] = manifest.apply(lambda x: \"_\".join([x.ENCODE_ID, x.RBP]), axis=1)"
   ]
  },
  {
   "cell_type": "code",
   "execution_count": 170,
   "metadata": {
    "collapsed": false
   },
   "outputs": [],
   "source": [
    "file_sizes = pd.merge(manifest, results, left_on=\"fastq_name\", right_on=\"name\") "
   ]
  },
  {
   "cell_type": "code",
   "execution_count": 171,
   "metadata": {
    "collapsed": false
   },
   "outputs": [],
   "source": [
    "erics_numbers = pd.read_excel(\"/home/gpratt/Dropbox/NatMethodsPaper/SupTable2.xlsx\", \"Sheet1\", skiprows=2)\n",
    "erics_numbers['rbp_and_gene_id'] = erics_numbers.apply(lambda x: \"_\".join([x['RBP'], x['Cell line']]), axis=1)"
   ]
  },
  {
   "cell_type": "code",
   "execution_count": 173,
   "metadata": {
    "collapsed": false
   },
   "outputs": [],
   "source": [
    "file_sizes['foo'] = file_sizes.RBP + \"_\" + file_sizes.cell_type\n",
    "bar  = file_sizes.drop([u'inline_1', u'inline_2',\n",
    "       u'index_1', u'index_2', u'Lane', u'file_location', u'unmerged_location',\n",
    "       u'original_file_name', u'is_encode', u'hiseq_run_date',\n",
    "       u'randomer_length', u'', u'Method_Paper_flag', u'species', u'is_4000',\n",
    "       u'exp_id', u'fastq_name', 'Hiseq_file_name'],axis=1)\n",
    "\n",
    "bar = bar[~bar.ENCODE_ID.apply(lambda x: \"INPUT\" in x)]"
   ]
  },
  {
   "cell_type": "code",
   "execution_count": 175,
   "metadata": {
    "collapsed": false
   },
   "outputs": [],
   "source": [
    "result = []\n",
    "for name, df in bar.groupby([\"RBP\", \"cell_type\"]):\n",
    "    try:\n",
    "        result.append({\"name\": df.iloc[0]['foo'], \"rep1\": df.iloc[0].read_count_1, \"rep2\": df.iloc[1].read_count_1})\n",
    "    except:\n",
    "        pass\n",
    "result = pd.DataFrame(result)"
   ]
  },
  {
   "cell_type": "code",
   "execution_count": 176,
   "metadata": {
    "collapsed": true
   },
   "outputs": [],
   "source": [
    "master_table = pd.merge(erics_numbers, result, left_on=\"rbp_and_gene_id\", right_on=\"name\")"
   ]
  },
  {
   "cell_type": "code",
   "execution_count": 178,
   "metadata": {
    "collapsed": false
   },
   "outputs": [
    {
     "data": {
      "text/html": [
       "<div>\n",
       "<table border=\"1\" class=\"dataframe\">\n",
       "  <thead>\n",
       "    <tr style=\"text-align: right;\">\n",
       "      <th></th>\n",
       "      <th>RBP</th>\n",
       "      <th>Cell line</th>\n",
       "      <th>Antibody catalog #</th>\n",
       "      <th>Antibody lot #</th>\n",
       "      <th>eCLIP accession</th>\n",
       "      <th>SMInput accession</th>\n",
       "      <th>Replicate accession</th>\n",
       "      <th>Input read #</th>\n",
       "      <th>Uniquely mapped read #</th>\n",
       "      <th>Usable read #</th>\n",
       "      <th>% usable (out of uniquely mapped)</th>\n",
       "      <th>Replicate accession.1</th>\n",
       "      <th>Input read #.1</th>\n",
       "      <th>Uniquely mapped read #.1</th>\n",
       "      <th>Usable read #.1</th>\n",
       "      <th>% usable (out of uniquely mapped).1</th>\n",
       "      <th>rbp_and_gene_id</th>\n",
       "      <th>name</th>\n",
       "      <th>rep1</th>\n",
       "      <th>rep2</th>\n",
       "    </tr>\n",
       "  </thead>\n",
       "  <tbody>\n",
       "    <tr>\n",
       "      <th>14</th>\n",
       "      <td>HNRNPC</td>\n",
       "      <td>HepG2</td>\n",
       "      <td>RN052PW</td>\n",
       "      <td>1</td>\n",
       "      <td>ENCSR550DVK</td>\n",
       "      <td>ENCSR497ANA</td>\n",
       "      <td>ENCLB094PVE</td>\n",
       "      <td>31226412</td>\n",
       "      <td>15430668</td>\n",
       "      <td>15153574</td>\n",
       "      <td>0.982043</td>\n",
       "      <td>ENCLB392RHM</td>\n",
       "      <td>22156717</td>\n",
       "      <td>12927959</td>\n",
       "      <td>10173752</td>\n",
       "      <td>0.786957</td>\n",
       "      <td>HNRNPC_HepG2</td>\n",
       "      <td>HNRNPC_HepG2</td>\n",
       "      <td>5428248</td>\n",
       "      <td>22156717</td>\n",
       "    </tr>\n",
       "  </tbody>\n",
       "</table>\n",
       "</div>"
      ],
      "text/plain": [
       "       RBP Cell line Antibody catalog # Antibody lot # eCLIP accession  \\\n",
       "14  HNRNPC     HepG2            RN052PW              1     ENCSR550DVK   \n",
       "\n",
       "   SMInput accession Replicate accession  Input read #  \\\n",
       "14       ENCSR497ANA         ENCLB094PVE      31226412   \n",
       "\n",
       "    Uniquely mapped read #  Usable read #  % usable (out of uniquely mapped)  \\\n",
       "14                15430668       15153574                           0.982043   \n",
       "\n",
       "   Replicate accession.1  Input read #.1  Uniquely mapped read #.1  \\\n",
       "14           ENCLB392RHM        22156717                  12927959   \n",
       "\n",
       "    Usable read #.1  % usable (out of uniquely mapped).1 rbp_and_gene_id  \\\n",
       "14         10173752                             0.786957    HNRNPC_HepG2   \n",
       "\n",
       "            name     rep1      rep2  \n",
       "14  HNRNPC_HepG2  5428248  22156717  "
      ]
     },
     "execution_count": 178,
     "metadata": {},
     "output_type": "execute_result"
    }
   ],
   "source": [
    "master_table[~(master_table['Input read #'].astype(float) == master_table['rep1'].astype(float))]"
   ]
  },
  {
   "cell_type": "code",
   "execution_count": 179,
   "metadata": {
    "collapsed": false
   },
   "outputs": [
    {
     "data": {
      "text/html": [
       "<div>\n",
       "<table border=\"1\" class=\"dataframe\">\n",
       "  <thead>\n",
       "    <tr style=\"text-align: right;\">\n",
       "      <th></th>\n",
       "      <th>RBP</th>\n",
       "      <th>Cell line</th>\n",
       "      <th>Antibody catalog #</th>\n",
       "      <th>Antibody lot #</th>\n",
       "      <th>eCLIP accession</th>\n",
       "      <th>SMInput accession</th>\n",
       "      <th>Replicate accession</th>\n",
       "      <th>Input read #</th>\n",
       "      <th>Uniquely mapped read #</th>\n",
       "      <th>Usable read #</th>\n",
       "      <th>% usable (out of uniquely mapped)</th>\n",
       "      <th>Replicate accession.1</th>\n",
       "      <th>Input read #.1</th>\n",
       "      <th>Uniquely mapped read #.1</th>\n",
       "      <th>Usable read #.1</th>\n",
       "      <th>% usable (out of uniquely mapped).1</th>\n",
       "      <th>rbp_and_gene_id</th>\n",
       "      <th>name</th>\n",
       "      <th>rep1</th>\n",
       "      <th>rep2</th>\n",
       "    </tr>\n",
       "  </thead>\n",
       "  <tbody>\n",
       "    <tr>\n",
       "      <th>25</th>\n",
       "      <td>LARP7</td>\n",
       "      <td>K562</td>\n",
       "      <td>A303-723A</td>\n",
       "      <td>1</td>\n",
       "      <td>ENCSR456KXI</td>\n",
       "      <td>ENCSR863ZGZ</td>\n",
       "      <td>ENCLB186JKI</td>\n",
       "      <td>12673956</td>\n",
       "      <td>1094656</td>\n",
       "      <td>906304</td>\n",
       "      <td>0.827935</td>\n",
       "      <td>ENCLB069IAV</td>\n",
       "      <td>14951178</td>\n",
       "      <td>1167817</td>\n",
       "      <td>779284</td>\n",
       "      <td>0.6673</td>\n",
       "      <td>LARP7_K562</td>\n",
       "      <td>LARP7_K562</td>\n",
       "      <td>12673956</td>\n",
       "      <td>14949533</td>\n",
       "    </tr>\n",
       "  </tbody>\n",
       "</table>\n",
       "</div>"
      ],
      "text/plain": [
       "      RBP Cell line Antibody catalog # Antibody lot # eCLIP accession  \\\n",
       "25  LARP7      K562          A303-723A              1     ENCSR456KXI   \n",
       "\n",
       "   SMInput accession Replicate accession  Input read #  \\\n",
       "25       ENCSR863ZGZ         ENCLB186JKI      12673956   \n",
       "\n",
       "    Uniquely mapped read #  Usable read #  % usable (out of uniquely mapped)  \\\n",
       "25                 1094656         906304                           0.827935   \n",
       "\n",
       "   Replicate accession.1  Input read #.1  Uniquely mapped read #.1  \\\n",
       "25           ENCLB069IAV        14951178                   1167817   \n",
       "\n",
       "    Usable read #.1  % usable (out of uniquely mapped).1 rbp_and_gene_id  \\\n",
       "25           779284                               0.6673      LARP7_K562   \n",
       "\n",
       "          name      rep1      rep2  \n",
       "25  LARP7_K562  12673956  14949533  "
      ]
     },
     "execution_count": 179,
     "metadata": {},
     "output_type": "execute_result"
    }
   ],
   "source": [
    "master_table[~(master_table['Input read #.1'].astype(float) == master_table['rep2'].astype(float))]"
   ]
  },
  {
   "cell_type": "code",
   "execution_count": null,
   "metadata": {
    "collapsed": true
   },
   "outputs": [],
   "source": [
    "14951178 \n",
    "14949533\n",
    "14949533 "
   ]
  },
  {
   "cell_type": "code",
   "execution_count": 184,
   "metadata": {
    "collapsed": false
   },
   "outputs": [
    {
     "data": {
      "text/plain": [
       "14949533"
      ]
     },
     "execution_count": 184,
     "metadata": {},
     "output_type": "execute_result"
    }
   ],
   "source": [
    "9934828 + 5014705"
   ]
  },
  {
   "cell_type": "code",
   "execution_count": 185,
   "metadata": {
    "collapsed": false
   },
   "outputs": [
    {
     "data": {
      "text/plain": [
       "14949533"
      ]
     },
     "execution_count": 185,
     "metadata": {},
     "output_type": "execute_result"
    }
   ],
   "source": [
    "9934828 + 5014705"
   ]
  },
  {
   "cell_type": "code",
   "execution_count": null,
   "metadata": {
    "collapsed": true
   },
   "outputs": [],
   "source": [
    "14,949,533"
   ]
  }
 ],
 "metadata": {
  "kernelspec": {
   "display_name": "Python 2",
   "language": "python",
   "name": "python2"
  },
  "language_info": {
   "codemirror_mode": {
    "name": "ipython",
    "version": 2
   },
   "file_extension": ".py",
   "mimetype": "text/x-python",
   "name": "python",
   "nbconvert_exporter": "python",
   "pygments_lexer": "ipython2",
   "version": "2.7.11"
  }
 },
 "nbformat": 4,
 "nbformat_minor": 0
}
