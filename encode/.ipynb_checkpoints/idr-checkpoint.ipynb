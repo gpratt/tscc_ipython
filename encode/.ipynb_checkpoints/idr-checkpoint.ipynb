{
 "cells": [
  {
   "cell_type": "code",
   "execution_count": 33,
   "metadata": {
    "collapsed": true
   },
   "outputs": [],
   "source": [
    "from gscripts.clipseq import perform_idr\n",
    "import pybedtools"
   ]
  },
  {
   "cell_type": "code",
   "execution_count": null,
   "metadata": {
    "collapsed": true
   },
   "outputs": [],
   "source": [
    "!head /home/elvannostrand/data/clip/CLIPseq_analysis/scripts/encode_v8_filelist_pairs.list"
   ]
  },
  {
   "cell_type": "code",
   "execution_count": 29,
   "metadata": {
    "collapsed": false
   },
   "outputs": [],
   "source": [
    "def make_bedtool(fn):\n",
    "    result = []\n",
    "    with open(fn) as lines:\n",
    "        for line in lines:\n",
    "            line = line.split()\n",
    "            location = line[0].split(\":\")\n",
    "            bp = location[1].split(\"-\")\n",
    "            result.append(pybedtools.interval_constructor([location[0]] + bp + [location[3], \".\", location[2]] + line[1:]))\n",
    "    return pybedtools.BedTool(result).saveas()\n",
    "\n",
    "def format_narrow_peaks(interval):\n",
    "    interval[7] = interval[12]\n",
    "    interval[6] = interval[13]\n",
    "    interval[8] = \"-1\"\n",
    "    interval[9] = \"-1\"\n",
    "    return pybedtools.interval_constructor(interval[:10])"
   ]
  },
  {
   "cell_type": "code",
   "execution_count": 38,
   "metadata": {
    "collapsed": false
   },
   "outputs": [],
   "source": [
    "def make_narrow_peak(fn):\n",
    "    rep = fn\n",
    "    rep = make_bedtool(rep)\n",
    "    return rep.each(format_narrow_peaks).saveas()\n",
    "\n",
    "fox2_rep1 = make_narrow_peak(\"/home/elvannostrand/data/clip/CLIPseq_analysis/ENCODE_v8_072215/204_01_RBFOX2.merged.r2.bam_vs_RBFOX2-204-INPUT_S2_R1.unassigned.adapterTrim.round2.rmRep.rmDup.sorted.r2.bam_basedon_204_01_RBFOX2.merged.r2.peaks.bed_l2inputnormnew\")\n",
    "fox2_rep2 = make_narrow_peak(\"/home/elvannostrand/data/clip/CLIPseq_analysis/ENCODE_v8_072215/204_02_RBFOX2.merged.r2.bam_vs_RBFOX2-204-INPUT_S2_R1.unassigned.adapterTrim.round2.rmRep.rmDup.sorted.r2.bam_basedon_204_02_RBFOX2.merged.r2.peaks.bed_l2inputnormnew\")\n",
    "\n",
    "sf3b4_rep1 = make_narrow_peak(\"/home/elvannostrand/data/clip/CLIPseq_analysis/ENCODE_v8_072215/228_01_SF3B4.merged.r2.bam_vs_228_INPUT_TCCGGAGA-AGGCGAAG_L001_R1.unassigned.adapterTrim.round2.rmRep.rmDup.sorted.r2.bam_basedon_228_01_SF3B4.merged.r2.peaks.bed_l2inputnormnew\")\n",
    "sf3b4_rep2 = make_narrow_peak(\"/home/elvannostrand/data/clip/CLIPseq_analysis/ENCODE_v8_072215/228_02_SF3B4.merged.r2.bam_vs_228_INPUT_TCCGGAGA-AGGCGAAG_L001_R1.unassigned.adapterTrim.round2.rmRep.rmDup.sorted.r2.bam_basedon_228_02_SF3B4.merged.r2.peaks.bed_l2inputnormnew\")\n",
    "\n",
    "igf2bp1_rep1 = make_narrow_peak(\"/home/elvannostrand/data/clip/CLIPseq_analysis/ENCODE_v8_072215/205_01_IGF2BP1.merged.r2.bam_vs_IGF2BP1-205-INPUT_S4_R1.unassigned.adapterTrim.round2.rmRep.rmDup.sorted.r2.bam_basedon_205_01_IGF2BP1.merged.r2.peaks.bed_l2inputnormnew\")\n",
    "igf2bp1_rep2 = make_narrow_peak(\"/home/elvannostrand/data/clip/CLIPseq_analysis/ENCODE_v8_072215/205_02_IGF2BP1.merged.r2.bam_vs_IGF2BP1-205-INPUT_S4_R1.unassigned.adapterTrim.round2.rmRep.rmDup.sorted.r2.bam_basedon_205_02_IGF2BP1.merged.r2.peaks.bed_l2inputnormnew\")"
   ]
  },
  {
   "cell_type": "code",
   "execution_count": 39,
   "metadata": {
    "collapsed": false
   },
   "outputs": [],
   "source": [
    "idr = perform_idr.IDR()"
   ]
  },
  {
   "cell_type": "code",
   "execution_count": 40,
   "metadata": {
    "collapsed": false
   },
   "outputs": [],
   "source": [
    "idr.idr(fox2_rep1.fn, fox2_rep2.fn, \"fox2\", \"/projects/ps-yeolab/genomes/hg19/hg19.chrom.sizes\")\n",
    "idr.idr(sf3b4_rep1.fn, sf3b4_rep2.fn, \"sf3b4\", \"/projects/ps-yeolab/genomes/hg19/hg19.chrom.sizes\")\n",
    "idr.idr(igf2bp1_rep1.fn, igf2bp1_rep2.fn, \"igf2bp1\", \"/projects/ps-yeolab/genomes/hg19/hg19.chrom.sizes\")"
   ]
  },
  {
   "cell_type": "code",
   "execution_count": 41,
   "metadata": {
    "collapsed": false
   },
   "outputs": [
    {
     "name": "stdout",
     "output_type": "stream",
     "text": [
      "null device \r\n",
      "          1 \r\n"
     ]
    }
   ],
   "source": [
    "!Rscript /home/yeo-lab/software/idrCode/batch-consistency-plot.r 3 all fox2.out sf3b4.out igf2bp1.out "
   ]
  },
  {
   "cell_type": "code",
   "execution_count": null,
   "metadata": {
    "collapsed": true
   },
   "outputs": [],
   "source": []
  }
 ],
 "metadata": {
  "kernelspec": {
   "display_name": "Python 2",
   "language": "python",
   "name": "python2"
  },
  "language_info": {
   "codemirror_mode": {
    "name": "ipython",
    "version": 2
   },
   "file_extension": ".py",
   "mimetype": "text/x-python",
   "name": "python",
   "nbconvert_exporter": "python",
   "pygments_lexer": "ipython2",
   "version": "2.7.10"
  }
 },
 "nbformat": 4,
 "nbformat_minor": 0
}
