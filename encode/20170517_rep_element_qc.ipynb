{
 "cells": [
  {
   "cell_type": "code",
   "execution_count": 1,
   "metadata": {
    "collapsed": true
   },
   "outputs": [],
   "source": [
    "%matplotlib inline\n",
    "\n",
    "import functools\n",
    "from itertools import izip\n",
    "import os\n",
    "import datetime\n",
    "\n",
    "from IPython.core.display import HTML\n",
    "import matplotlib\n",
    "import matplotlib.pyplot as plt\n",
    "import numpy as np\n",
    "import pandas as pd\n",
    "import pybedtools\n",
    "import pysam\n",
    "import scipy.stats\n",
    "import seaborn as sns\n",
    "from tqdm import tqdm, tqdm_notebook\n",
    "\n",
    "from clipper.src import CLIP_analysis\n",
    "from gscripts import qtools\n",
    "from gscripts.encode import encode_helpers\n",
    "from gscripts.general import dataviz\n",
    "from gscripts.rnaseq import splicing_map\n",
    "\n",
    "tqdm.pandas(desc=\"Progress\")\n",
    "sns.set_style(\"ticks\")\n",
    "img_dir = \"/home/gpratt/Dropbox/Pratt_Gabriel/PapersInProgress/eCLIP_qc/working_figures/fig_2/\""
   ]
  },
  {
   "cell_type": "code",
   "execution_count": 2,
   "metadata": {
    "collapsed": true
   },
   "outputs": [],
   "source": [
    "legend = None\n",
    "\n",
    "OUTSIDE_LEGEND_SAVEFIG_KWS = dict(bbox_extra_artists=(legend,),\n",
    "                                  bbox_inches='tight')\n",
    "from matplotlib import rc\n",
    "\n",
    "matplotlib.rcParams['svg.fonttype'] = 'none'\n",
    "\n",
    "rc('text', usetex=False) \n",
    "rc('font',**{'family':'sans-serif','sans-serif':['Helvetica']})"
   ]
  },
  {
   "cell_type": "code",
   "execution_count": 3,
   "metadata": {
    "collapsed": true
   },
   "outputs": [],
   "source": [
    "input_norm_dir = \"/projects/ps-yeolab3/encode/analysis/Eric_Input_Norm/\"\n",
    "split_dir = \"/home/gpratt/projects/idr/analysis/idr_v1/\"\n",
    "out_dir = \"/home/gpratt/projects/encode/analysis/peak_reanalysis_v14/\"\n",
    "frip_out_dir = \"/home/gpratt/projects/encode/analysis/frip_calculations/\"\n",
    "\n",
    "downsample_path = \"/home/gpratt/projects/idr/analysis/downsample_v2/\""
   ]
  },
  {
   "cell_type": "code",
   "execution_count": 4,
   "metadata": {
    "collapsed": false
   },
   "outputs": [
    {
     "name": "stdout",
     "output_type": "stream",
     "text": [
      "660\n"
     ]
    }
   ],
   "source": [
    "merged_data = encode_helpers.get_merged_data()\n",
    "\n",
    "print len(merged_data)\n",
    "#Filter out anything sequenced after 16/7/18\n",
    "merged_data = merged_data[merged_data['Submitted Date'] < datetime.date(2016, 7, 18)]\n",
    "#Filter out anything not_qced\n",
    "merged_data = merged_data[merged_data.is_qced]\n",
    "#Filter out any data we are planning on submitting, but haven't yet submitted\n",
    "merged_data = merged_data[merged_data.annotation != \"Submit\"]"
   ]
  },
  {
   "cell_type": "markdown",
   "metadata": {},
   "source": [
    "# Merge rmrep Counts"
   ]
  },
  {
   "cell_type": "code",
   "execution_count": 5,
   "metadata": {
    "collapsed": true
   },
   "outputs": [],
   "source": [
    "#Get all the counts\n",
    "counts_list = pd.read_csv(\"downsample_counts_full_v4.csv\", dtype={\"RBP_ID\": str, \"bio_rep\": str, \"tech_rep\": str},\n",
    "                         index_col=[\"RBP_ID\", \"RBP\", \"bio_rep\", \"tech_rep\", \"fraction\"])\n",
    "counts_list = counts_list.xs(1.0, level=\"fraction\").groupby(level=['RBP_ID', \"RBP\", \"bio_rep\"]).sum()\n",
    "counts_list.index.rename([\"uID\", \"RBP\", \"rep\"], inplace=True)\n",
    "counts_list.index = counts_list.index.droplevel(\"RBP\")\n",
    "\n",
    "counts_list['rep'] = [\"rep1\" if rep == 1 else \"rep2\" for rep in counts_list.index.get_level_values(level=\"rep\")]\n",
    "counts_list.index = counts_list.index.droplevel(\"rep\")\n",
    "counts_list = counts_list.set_index(\"rep\", append=True)\n"
   ]
  },
  {
   "cell_type": "code",
   "execution_count": 6,
   "metadata": {
    "collapsed": true
   },
   "outputs": [],
   "source": [
    "merged_data = merged_data.reset_index(['Cell line', 'RBP'])\n",
    "\n",
    "merged_data = pd.merge(merged_data, counts_list,\n",
    "        left_index=True, right_index=True, how=\"left\")\n",
    "\n",
    "merged_data = merged_data.set_index([\"RBP\", \"Cell line\"], append=True)\n",
    "merged_data = merged_data.reorder_levels(['uID','RBP', 'Cell line','rep'])"
   ]
  },
  {
   "cell_type": "code",
   "execution_count": 7,
   "metadata": {
    "collapsed": false
   },
   "outputs": [
    {
     "name": "stdout",
     "output_type": "stream",
     "text": [
      "number of datasets without reads merged\n",
      "0\n"
     ]
    }
   ],
   "source": [
    "print \"number of datasets without reads merged\"\n",
    "print len(merged_data[merged_data.unique.isnull()])"
   ]
  },
  {
   "cell_type": "markdown",
   "metadata": {},
   "source": [
    "# Merge regular counts (non-repmapped counts)"
   ]
  },
  {
   "cell_type": "code",
   "execution_count": 8,
   "metadata": {
    "collapsed": true
   },
   "outputs": [],
   "source": [
    "final_qc_frame = pd.read_csv(\"/home/gpratt/Dropbox/EricGabe_ENCODE/encode_master_qc.csv\")\n",
    "final_qc_frame = final_qc_frame.fillna(\"\")\n",
    "final_qc_frame['Reads Written Round 2'] = final_qc_frame['Reads Written Round 2'].astype(int)\n",
    "final_qc_frame = final_qc_frame.set_index(keys=[\"rbp\", \"encode_id\", \"rep\", \"cell_type\", \"full_name\", \"barcode\"])\n",
    "filtered_final_qc_frame = final_qc_frame[[ \"Input Reads\", \"Reads Written\", \"repetitive_count\", \"Reads Passing Quality Filter\",\n",
    "                                          \"Uniquely Mapped Reads\", \"Uniquely mapped reads %\", 'Number of reads mapped to too many loci',\n",
    "                                          '% of reads unmapped: too short', '% of reads mapped to too many loci', \"Usable Reads\",\n",
    "                                          \"Fraction Collapsed\", \"Fraction Usable\", \"Num Peaks\", \"Reads Written Round 2\"]]\n",
    "\n",
    "grouped_final_qc_frame = filtered_final_qc_frame.groupby(level=['rbp', 'encode_id', 'rep', 'cell_type', 'full_name']).sum()\n",
    "grouped_final_qc_frame[\"Fraction Collapsed\"] = grouped_final_qc_frame['Usable Reads'] / grouped_final_qc_frame['Uniquely Mapped Reads'].astype(float)\n",
    "grouped_final_qc_frame[\"Fraction Usable\"] = grouped_final_qc_frame['Usable Reads'] / grouped_final_qc_frame['Input Reads'].astype(float)\n",
    "grouped_final_qc_frame = grouped_final_qc_frame.dropna()\n",
    "grouped_final_qc_frame['full_name'] = grouped_final_qc_frame.index.get_level_values(level=\"full_name\")\n"
   ]
  },
  {
   "cell_type": "code",
   "execution_count": 9,
   "metadata": {
    "collapsed": true
   },
   "outputs": [],
   "source": [
    "#Make sure we can join input counts\n",
    "fn_label_map = pd.read_table(\"/home/gpratt/projects/encode/scripts/encode_GRCh38_v1.txt\", header=None,\n",
    "              names=['fn', 'species', 'label', 'foo', 'bar', 'baz', 'biz'])\n",
    "fn_label_map['fn_basename'] = fn_label_map.fn.apply(lambda x: os.path.basename(x.split(\";\")[0]).split(\".\")[0])\n",
    "fn_label_map['label'] = fn_label_map.label.apply(lambda x: \"_\".join(x.split(\"_\")[:-1]))\n",
    "\n",
    "#Need to set the full name of the inputs to the actual name of the file, sadly I'm going to do this badly\n",
    "inputs = grouped_final_qc_frame.xs(\"INPUT\", level=\"rep\")    \n",
    "inputs = pd.merge(inputs, fn_label_map,\n",
    "         left_on=\"full_name\", right_on=\"label\")"
   ]
  },
  {
   "cell_type": "code",
   "execution_count": 10,
   "metadata": {
    "collapsed": false
   },
   "outputs": [
    {
     "name": "stdout",
     "output_type": "stream",
     "text": [
      "error LNG8-M_INPUT_A04F05\n",
      "error LNG8-S_INPUT_C01D08\n",
      "error LNG12-N_INPUT_A04F05\n",
      "error LNG10-M_INPUT_A04F05\n",
      "error LNG10-S_INPUT_C01D08\n",
      "error LNG11-M_INPUT_A04F05\n",
      "error LNG11-S_INPUT_C01D08\n",
      "error LNG9-M_INPUT_A04F05\n",
      "error LNG9-S_INPUT_C01D08\n"
     ]
    }
   ],
   "source": [
    "new_full_name = []\n",
    "for name, row in grouped_final_qc_frame.iterrows():\n",
    "    #print name, row\n",
    "    name = inputs[inputs.label == row.full_name]\n",
    "    if len(name) == 1:\n",
    "        new_full_name.append(name.iloc[0].fn_basename)\n",
    "    elif len(name) == 0:\n",
    "        new_full_name.append(row.full_name)\n",
    "    else:\n",
    "        new_full_name.append(np.nan)\n",
    "        print \"error\", row.full_name\n",
    "grouped_final_qc_frame['full_file_name'] = new_full_name"
   ]
  },
  {
   "cell_type": "code",
   "execution_count": 11,
   "metadata": {
    "collapsed": true
   },
   "outputs": [],
   "source": [
    "merged_data['full_name'] = merged_data.CLIP.apply(lambda x: \"_\".join(os.path.basename(x).split(\"_\")[:-1]))\n",
    "merged_data = merged_data.reset_index()\n",
    "\n",
    "merged_data = pd.merge(merged_data, grouped_final_qc_frame, \n",
    "               left_on=\"full_name\", right_on=\"full_name\", \n",
    "               how=\"left\")\n",
    "\n",
    "merged_data = merged_data.set_index(['uID', 'RBP', 'Cell line', 'rep'])"
   ]
  },
  {
   "cell_type": "markdown",
   "metadata": {},
   "source": [
    "# Get Input Reads"
   ]
  },
  {
   "cell_type": "code",
   "execution_count": 12,
   "metadata": {
    "collapsed": true
   },
   "outputs": [],
   "source": [
    "input_names = grouped_final_qc_frame.set_index(\"full_file_name\")\n",
    "merged_data['input_file_name'] = merged_data.INPUT.apply(lambda x: os.path.basename(x).split(\".\")[0])\n",
    "merged_data['input_usable'] = merged_data['input_file_name'].apply(lambda x: input_names.ix[x]['Usable Reads'])\n",
    "merged_data['input_name'] = merged_data['input_file_name'].apply(lambda x: input_names.ix[x]['full_name'])"
   ]
  },
  {
   "cell_type": "markdown",
   "metadata": {},
   "source": [
    "# Get Erics rmduped input reads"
   ]
  },
  {
   "cell_type": "code",
   "execution_count": 13,
   "metadata": {
    "collapsed": false
   },
   "outputs": [],
   "source": [
    "eric_reads = pd.read_table(\"/home/elvannostrand/data/clip/CLIPseq_analysis/scripts/inline_processing/ENCODE_20170429_newannotations_FINAL.readnumbers.csv\",\n",
    "             names=[\"uID\", \"rep\", \"full_name\", \"same\", \"input_reads_name\", \"input_reads\", \"usable_name\", \"usable\", \n",
    "              \"unique_genome_nonrep_name\", \"unique_genome_nonrep\"])\n",
    "eric_reads = eric_reads.drop([\"usable_name\", \"unique_genome_nonrep_name\", \"input_reads_name\", \"same\"],axis=1)\n",
    "eric_reads['uid'] = eric_reads.full_name.apply(lambda x: \"_\".join(x.split(\"_\")[:-1]))\n",
    "eric_reads = eric_reads.set_index(\"uid\")\n",
    "\n",
    "merged_data['family_map_input_usable'] = merged_data['input_name'].apply(lambda x: eric_reads.ix[x]['input_reads'])\n",
    "#Don't forget that family map input usable is different than unique counts by a bit because I collapse more agressaveily than Eric does (stipping strange muiti-mappers)"
   ]
  },
  {
   "cell_type": "markdown",
   "metadata": {},
   "source": [
    "# Filter by min read number\n"
   ]
  },
  {
   "cell_type": "code",
   "execution_count": 14,
   "metadata": {
    "collapsed": true
   },
   "outputs": [],
   "source": [
    "arbitray_threshold = 1500000"
   ]
  },
  {
   "cell_type": "code",
   "execution_count": 15,
   "metadata": {
    "collapsed": false
   },
   "outputs": [
    {
     "name": "stdout",
     "output_type": "stream",
     "text": [
      "before removing low read counts 498\n",
      "after removing low read counts 474\n"
     ]
    }
   ],
   "source": [
    "#Data that passes minimum read threshold requierments\n",
    "print \"before removing low read counts\", len(merged_data)\n",
    "\n",
    "#I'm keep\n",
    "merged_data = merged_data[(merged_data.unique >= arbitray_threshold) | merged_data.submitted]\n",
    "#Len after filtering for min reads\n",
    "print \"after removing low read counts\", len(merged_data)"
   ]
  },
  {
   "cell_type": "code",
   "execution_count": 16,
   "metadata": {
    "collapsed": true
   },
   "outputs": [],
   "source": [
    "# print \"before removing low read counts in input\", len(merged_data)\n",
    "# merged_data = merged_data[merged_data.total_reads_input > 1000000]\n",
    "# print \"after removing low read counts in input\", len(merged_data)"
   ]
  },
  {
   "cell_type": "code",
   "execution_count": 17,
   "metadata": {
    "collapsed": true
   },
   "outputs": [],
   "source": [
    "make_and_filter_clipper_stringent = functools.partial(encode_helpers.make_and_filter_clipper, l2fc=5, pval=3)\n",
    "make_and_filter_clipper_very_lineant = functools.partial(encode_helpers.make_and_filter_clipper, l2fc=0, pval=1)\n",
    "make_and_filter_clipper_lineant = functools.partial(encode_helpers.make_and_filter_clipper, l2fc=2, pval=1.3)\n",
    "make_and_filter_clipper_moderate = functools.partial(encode_helpers.make_and_filter_clipper, l2fc=3, pval=3)"
   ]
  },
  {
   "cell_type": "code",
   "execution_count": 18,
   "metadata": {
    "collapsed": false
   },
   "outputs": [
    {
     "name": "stderr",
     "output_type": "stream",
     "text": [
      "Progress: 100%|██████████| 472/472 [00:17<00:00, 17.78it/s]\n"
     ]
    }
   ],
   "source": [
    "#There are some missing bam files, and peak files this is an issue\n",
    "merged_data = merged_data[merged_data['input_norm'].apply(os.path.exists)]\n",
    "merged_data = merged_data[merged_data['CLIP'].apply(os.path.exists)]\n",
    "\n",
    "merged_data['filtered_moderate'] = merged_data['input_norm'].progress_apply(make_and_filter_clipper_moderate)"
   ]
  },
  {
   "cell_type": "code",
   "execution_count": 19,
   "metadata": {
    "collapsed": true
   },
   "outputs": [],
   "source": [
    "#Can't make this a progress_apply statement because something strange is going on with opening and closing of files\n",
    "merged_data[\"CLIP_counts\"] = merged_data.CLIP.apply(encode_helpers.get_mapped_reads)\n",
    "merged_data[\"INPUT_counts\"] = merged_data.INPUT.apply(encode_helpers.get_mapped_reads)"
   ]
  },
  {
   "cell_type": "markdown",
   "metadata": {},
   "source": [
    "# Combine Reproducable Information with reads mapping to repetitive elements"
   ]
  },
  {
   "cell_type": "code",
   "execution_count": 20,
   "metadata": {
    "collapsed": true
   },
   "outputs": [],
   "source": [
    "rep_elements = pd.read_table(\"/home/elvannostrand/data/clip/CLIPseq_analysis/scripts/inline_processing/20170505.ALLENCODEinclnotsubmitted.txt.nopipes.txt\",\n",
    "                            header=0, names= [\"element\", \"file\",\"something\", \"clip_count\", \"clip_rpr\", \"input_count\", \"input_rpr\", \"fold-enrichment\", \"information content\"])\n",
    "merged_data['ip_raw_names'] = merged_data.CLIP.apply(lambda x: os.path.basename(x).split(\".\")[0])\n",
    "important_reads = merged_data[['ip_raw_names', 'family_map_input_usable', 'unique']]"
   ]
  },
  {
   "cell_type": "code",
   "execution_count": 21,
   "metadata": {
    "collapsed": true
   },
   "outputs": [],
   "source": [
    "entropy_to_ignore = set([\n",
    "    'unique_3utr',\n",
    "    'unique_5utr',\n",
    "    'unique_5utr_and_3utr',\n",
    "    'unique_CDS',\n",
    "    'unique_antisense_gencode',\n",
    "    'unique_distintron',\n",
    "    'unique_intergenic',\n",
    "    'unique_noncoding_distintron',\n",
    "    'unique_noncoding_exon',\n",
    "    'unique_noncoding_proxintron',\n",
    "    'unique_proxintron',\n",
    "    'chrM',\n",
    "    'antisense_chrM',])\n",
    "\n",
    "entropy_to_use = list(set(rep_elements.element) - entropy_to_ignore)\n",
    "rep_elements = rep_elements[rep_elements.element.isin(entropy_to_use)]"
   ]
  },
  {
   "cell_type": "code",
   "execution_count": 22,
   "metadata": {
    "collapsed": true
   },
   "outputs": [],
   "source": [
    "def get_chisq_value(row):\n",
    "    \"Calculates Chiseq values for all the reptitive elements\"\n",
    "    clip_total = row['unique'] - row.clip_count \n",
    "    input_total = row.family_map_input_usable - row.input_count\n",
    "\n",
    "    g, p, dof, expctd = scipy.stats.chi2_contingency([[row.clip_count, clip_total], [row.input_count, input_total]])\n",
    "    return p"
   ]
  },
  {
   "cell_type": "code",
   "execution_count": 23,
   "metadata": {
    "collapsed": true
   },
   "outputs": [],
   "source": [
    "rep_elements = pd.merge(rep_elements, important_reads, left_on=\"file\", right_on=\"ip_raw_names\")\n",
    "rep_elements['p_val'] = rep_elements.apply(get_chisq_value, axis=1)\n",
    "rep_elements['log10_p_val'] = rep_elements['p_val'].apply(lambda x: np.log10(x) * -1)\n",
    "rep_elements.loc[np.isinf(rep_elements.log10_p_val), \"log10_p_val\"] = 400"
   ]
  },
  {
   "cell_type": "code",
   "execution_count": 24,
   "metadata": {
    "collapsed": true
   },
   "outputs": [],
   "source": [
    "sig_rep_elements = rep_elements[((rep_elements['log10_p_val'] > 3) & (rep_elements['fold-enrichment'] > 3)) | ((rep_elements.clip_rpr > .4) & (rep_elements['fold-enrichment'] > 1))]\n",
    "rep_element_information = sig_rep_elements.groupby(\"file\").sum()\n",
    "rep_element_information = rep_element_information.drop([\"fold-enrichment\", \"family_map_input_usable\", \"unique\", \"p_val\", \"log10_p_val\"], axis=1)"
   ]
  },
  {
   "cell_type": "code",
   "execution_count": 25,
   "metadata": {
    "collapsed": true
   },
   "outputs": [],
   "source": [
    "merged_data = merged_data.reset_index()\n",
    "\n",
    "#Some RBPs don't have any rep elements enriched, so I'm just saying they have 0 entropy\n",
    "merged_data = pd.merge(merged_data, rep_element_information, left_on=\"ip_raw_names\", right_index=True, how=\"left\")\n",
    "merged_data = merged_data.set_index(['uID', 'RBP', 'Cell line', 'rep'])\n",
    "merged_data = merged_data.fillna(0)"
   ]
  },
  {
   "cell_type": "markdown",
   "metadata": {},
   "source": [
    "# Calculate entropy"
   ]
  },
  {
   "cell_type": "code",
   "execution_count": 26,
   "metadata": {
    "collapsed": true
   },
   "outputs": [],
   "source": [
    "annotated_bedtool_header = ['chrom', 'start', \"stop\", \"name\", \"score\", \"strand\", \"annotation\", \"gene_id\"]\n",
    "full_header = [\"chrom\", \"start\", \"stop\", \"full_name\", \"ip_reads\", \"input_reads\", \"p_val\", \"chisq\", \"test_type\", \n",
    "               \"enrichment\", \"log10_p_val\", \"log2_fold_change\"]"
   ]
  },
  {
   "cell_type": "code",
   "execution_count": 27,
   "metadata": {
    "collapsed": true
   },
   "outputs": [],
   "source": [
    "def get_full_from_annotated(fn):\n",
    "    stripped_fn = \".\".join(fn.split(\".\")[:-3])\n",
    "    return stripped_fn + \".full.compressed2.bed.full\"\n",
    "\n",
    "def calculate_entropy(row, total_ip_reads, total_input_reads):\n",
    "    p_ip = float(row.ip_reads) / total_ip_reads\n",
    "    p_input = float(row.input_reads) / total_input_reads\n",
    "    \n",
    "    return p_ip * np.log2(p_ip / p_input)\n",
    "\n",
    "def get_entropy_from_annotated(fn):\n",
    "    fn = os.path.basename(fn)\n",
    "    stripped_fn = \".\".join(fn.split(\".\")[:-3])\n",
    "    stripped_fn = os.path.join(out_dir, stripped_fn)\n",
    "    return stripped_fn + \".full.compressed2.bed.full.entropy.bed\"\n",
    "\n",
    "def sum_entropy(filtered_peaks, original_peaks):\n",
    "    entropy = pd.read_table(get_entropy_from_annotated(original_peaks))\n",
    "    filtered_peaks = pd.read_table(filtered_peaks, names=annotated_bedtool_header)\n",
    "\n",
    "    merged_peaks = pd.merge(filtered_peaks, entropy, \n",
    "             left_on=['chrom', 'start', 'stop'],\n",
    "             right_on=['chrom', 'start', 'stop'])\n",
    "\n",
    "    return merged_peaks.entropy.sum()\n",
    "\n",
    "def sum_entropy_row(row):\n",
    "    #Sadly the majority of the time in this operation is opening the files, can't make it faster :(\n",
    "    return sum_entropy(row.filtered_moderate, row['input_norm'])"
   ]
  },
  {
   "cell_type": "code",
   "execution_count": 28,
   "metadata": {
    "collapsed": false
   },
   "outputs": [
    {
     "name": "stderr",
     "output_type": "stream",
     "text": [
      "100%|██████████| 472/472 [00:00<00:00, 1088.48it/s]\n"
     ]
    }
   ],
   "source": [
    "for name, row in tqdm(list(merged_data.iterrows())):    \n",
    "    full_fn = get_full_from_annotated(row['input_norm'])\n",
    "    out_fn = os.path.join(out_dir, os.path.basename(full_fn) + \".entropy.bed\")\n",
    "    if os.path.exists(out_fn):\n",
    "        continue\n",
    "\n",
    "    ip_reads = row['CLIP_counts']\n",
    "    input_reads = row['INPUT_counts']\n",
    "\n",
    "    read_counts = pd.read_table(full_fn, names=full_header)\n",
    "    \n",
    "    tool = functools.partial(calculate_entropy, total_ip_reads=ip_reads, total_input_reads=input_reads)\n",
    "    read_counts['entropy'] = read_counts.apply(tool, axis=1)\n",
    "    read_counts.to_csv(out_fn, sep=\"\\t\", index=False, header=True)"
   ]
  },
  {
   "cell_type": "code",
   "execution_count": 29,
   "metadata": {
    "collapsed": false
   },
   "outputs": [
    {
     "name": "stderr",
     "output_type": "stream",
     "text": [
      "Progress: 472it [08:25,  2.25s/it]                       \n"
     ]
    }
   ],
   "source": [
    "merged_data['entropy'] = merged_data.progress_apply(sum_entropy_row, axis=1)"
   ]
  },
  {
   "cell_type": "markdown",
   "metadata": {},
   "source": [
    "# Create Analysis for General Plotting\n"
   ]
  },
  {
   "cell_type": "code",
   "execution_count": 30,
   "metadata": {
    "collapsed": true
   },
   "outputs": [],
   "source": [
    "def thresholding_plotter(threshold_col, actual_classification, df):\n",
    "    df['submitted_plot'] = [\"Passed\" if submitted else \"Failed\" for submitted in df[actual_classification]]\n",
    "    df['group'] = 1\n",
    "    \n",
    "    num_rows = 1\n",
    "    num_cols = 1\n",
    "    with dataviz.Figure(os.path.join(img_dir, \"frip_distribution.svg\"), figsize=(5 * num_cols, 5*num_rows)) as fig:\n",
    "        ax = fig.add_subplot(1,1,1)\n",
    "        sns.swarmplot(x=\"group\", y=threshold_col, hue=\"submitted_plot\", data=df, ax=ax)\n",
    "        sns.despine(ax=ax)\n",
    "        \n",
    "    true_positive_array, false_positive_array, threshold_array, best_threshold = encode_helpers.get_best_f_score(threshold_col, \n",
    "                                                                                              true_clasification_col= actual_classification,\n",
    "                                                                                              df=df)\n",
    "    \n",
    "    \n",
    "    num_rows = 1\n",
    "    num_cols = 3\n",
    "    with dataviz.Figure(os.path.join(img_dir, \"reproducibility_test_passed_qc_frip.svg\"), figsize=(3 * num_cols, 3 * num_rows)) as fig:\n",
    "        ax = fig.add_subplot(1,3,1)\n",
    "        ax.plot(false_positive_array, true_positive_array, label=\"ROC Curve\")\n",
    "        ax.set_ylabel(\"True Positive Rate\")\n",
    "        ax.set_xlabel(\"False Positive Rate\")\n",
    "        ax.plot([0,1], [0,1], label=\"Null Expectation\") \n",
    "        sns.despine(ax=ax)\n",
    "        ax.set_title(\"ROC Curve\")\n",
    "        ax.legend()\n",
    "\n",
    "        ax = fig.add_subplot(1,3,2)\n",
    "        ax.plot(threshold_array, true_positive_array)\n",
    "        ax.set_ylabel(\"True Positive Rate\")\n",
    "        ax.set_xlabel(\"Threshold\")\n",
    "        sns.despine(ax=ax)\n",
    "        ax.set_title(\"ROC Curve\")\n",
    "        ax.axvline(best_threshold)\n",
    "\n",
    "        ax = fig.add_subplot(1,3,3)\n",
    "        ax.plot(threshold_array, false_positive_array)\n",
    "        ax.set_ylabel(\"False Positive Rate\")\n",
    "        ax.set_xlabel(\"Threshold\")\n",
    "        sns.despine(ax=ax)\n",
    "        ax.set_title(\"ROC Curve\")\n",
    "        ax.axvline(best_threshold)\n",
    "\n",
    "    print encode_helpers.confusion_numbers(best_threshold, threshold_col, true_clasification_col= actual_classification, df=df)"
   ]
  },
  {
   "cell_type": "markdown",
   "metadata": {},
   "source": [
    "# Classifier for just the family mapping submittable stuff\n",
    "Family mapping stuff effects ~8 datasets out of ~15, I think I'm going to ignore classifying is differently.  Or just write around it.  "
   ]
  },
  {
   "cell_type": "code",
   "execution_count": 31,
   "metadata": {
    "collapsed": true
   },
   "outputs": [],
   "source": [
    "family_map_and_negatives = merged_data[~merged_data.peaks_submitable]"
   ]
  },
  {
   "cell_type": "code",
   "execution_count": 32,
   "metadata": {
    "collapsed": false
   },
   "outputs": [
    {
     "name": "stderr",
     "output_type": "stream",
     "text": [
      "/home/gpratt/anaconda/lib/python2.7/site-packages/ipykernel/__main__.py:2: SettingWithCopyWarning: \n",
      "A value is trying to be set on a copy of a slice from a DataFrame.\n",
      "Try using .loc[row_indexer,col_indexer] = value instead\n",
      "\n",
      "See the caveats in the documentation: http://pandas.pydata.org/pandas-docs/stable/indexing.html#indexing-view-versus-copy\n",
      "  from ipykernel import kernelapp as app\n",
      "/home/gpratt/anaconda/lib/python2.7/site-packages/ipykernel/__main__.py:3: SettingWithCopyWarning: \n",
      "A value is trying to be set on a copy of a slice from a DataFrame.\n",
      "Try using .loc[row_indexer,col_indexer] = value instead\n",
      "\n",
      "See the caveats in the documentation: http://pandas.pydata.org/pandas-docs/stable/indexing.html#indexing-view-versus-copy\n",
      "  app.launch_new_instance()\n"
     ]
    },
    {
     "name": "stdout",
     "output_type": "stream",
     "text": [
      "0.657894736842\n",
      "0.612\n",
      "(25.0, 1.0, 25.0, 107.0)\n"
     ]
    },
    {
     "data": {
      "image/png": "[encoded data removed]",
      "text/plain": [
       "<matplotlib.figure.Figure at 0x2b3a6f0eeed0>"
      ]
     },
     "metadata": {},
     "output_type": "display_data"
    },
    {
     "data": {
      "image/png": "[encoded data removed]",
      "text/plain": [
       "<matplotlib.figure.Figure at 0x2b3ab02e2d10>"
      ]
     },
     "metadata": {},
     "output_type": "display_data"
    }
   ],
   "source": [
    "thresholding_plotter('information content', \"generally_submittable\", family_map_and_negatives)"
   ]
  },
  {
   "cell_type": "markdown",
   "metadata": {},
   "source": [
    "1. 246  AUH     K562 - failed unknown\n",
    "1. 358  GNL3    K562 -- failed low info content, due to low reads, ip rpr is under 40% cutoff, would work at 30, rep2 1. doesn't really corospond to rep1, we might have passed something bad...\n",
    "1. 596  GRSF1   HepG2 -- chrM binder\n",
    "1. 352  SBDS    K562 -- just misses my rpr cutoff, binds rRNA\n",
    "1. 450  GPKOW   K562 -- enriched for U6, but not enough, only .3\n",
    "1. 280  AUH     HepG2 -- chrM stuff\n",
    "1. 503  TROVE2  HepG2 -- binds too many other places\n",
    "1. 241  DDX42   K562 -- binds u2, rpr just a bit too low\n",
    "1. 506  SF3B1   K562 -- information content not high enough\n",
    "1. 354  NPM1    K562 -- specific to pre-mrna, but again, just not high enuogh\n",
    "1. 679  RPL23A  HepG2 -- should have passed?\n",
    "1. 444  LSM11   K562       rep2 -- binds U7, just not highly enough to register"
   ]
  },
  {
   "cell_type": "code",
   "execution_count": 43,
   "metadata": {
    "collapsed": false
   },
   "outputs": [
    {
     "data": {
      "text/html": [
       "<div>\n",
       "<table border=\"1\" class=\"dataframe\">\n",
       "  <thead>\n",
       "    <tr style=\"text-align: right;\">\n",
       "      <th></th>\n",
       "      <th></th>\n",
       "      <th></th>\n",
       "      <th>CLIP</th>\n",
       "      <th>information content</th>\n",
       "      <th>notes</th>\n",
       "    </tr>\n",
       "    <tr>\n",
       "      <th>uID</th>\n",
       "      <th>RBP</th>\n",
       "      <th>Cell line</th>\n",
       "      <th>rep</th>\n",
       "      <th></th>\n",
       "      <th></th>\n",
       "    </tr>\n",
       "  </thead>\n",
       "  <tbody>\n",
       "    <tr>\n",
       "      <th rowspan=\"2\" valign=\"top\">241</th>\n",
       "      <th rowspan=\"2\" valign=\"top\">DDX42</th>\n",
       "      <th rowspan=\"2\" valign=\"top\">K562</th>\n",
       "      <th>rep1</th>\n",
       "      <td>0.069584</td>\n",
       "      <td>U2 snRNA, MtDNA</td>\n",
       "    </tr>\n",
       "    <tr>\n",
       "      <th>rep2</th>\n",
       "      <td>0.113787</td>\n",
       "      <td>U2 snRNA, MtDNA</td>\n",
       "    </tr>\n",
       "    <tr>\n",
       "      <th rowspan=\"2\" valign=\"top\">246</th>\n",
       "      <th rowspan=\"2\" valign=\"top\">AUH</th>\n",
       "      <th rowspan=\"2\" valign=\"top\">K562</th>\n",
       "      <th>rep1</th>\n",
       "      <td>0.000011</td>\n",
       "      <td>MT-Trna binding? also 5sRNA</td>\n",
       "    </tr>\n",
       "    <tr>\n",
       "      <th>rep2</th>\n",
       "      <td>0.032831</td>\n",
       "      <td>MT-Trna binding? also 5sRNA</td>\n",
       "    </tr>\n",
       "    <tr>\n",
       "      <th rowspan=\"2\" valign=\"top\">280</th>\n",
       "      <th rowspan=\"2\" valign=\"top\">AUH</th>\n",
       "      <th rowspan=\"2\" valign=\"top\">HepG2</th>\n",
       "      <th>rep1</th>\n",
       "      <td>0.021087</td>\n",
       "      <td>MT-TRNA binding?</td>\n",
       "    </tr>\n",
       "    <tr>\n",
       "      <th>rep2</th>\n",
       "      <td>0.014862</td>\n",
       "      <td>MT-TRNA binding?</td>\n",
       "    </tr>\n",
       "    <tr>\n",
       "      <th rowspan=\"2\" valign=\"top\">352</th>\n",
       "      <th rowspan=\"2\" valign=\"top\">SBDS</th>\n",
       "      <th rowspan=\"2\" valign=\"top\">K562</th>\n",
       "      <th>rep1</th>\n",
       "      <td>0.040066</td>\n",
       "      <td>binds ribosome (rRNA very high, % unique mappi...</td>\n",
       "    </tr>\n",
       "    <tr>\n",
       "      <th>rep2</th>\n",
       "      <td>0.015478</td>\n",
       "      <td>binds ribosome (rRNA very high, % unique mappi...</td>\n",
       "    </tr>\n",
       "    <tr>\n",
       "      <th rowspan=\"2\" valign=\"top\">354</th>\n",
       "      <th rowspan=\"2\" valign=\"top\">NPM1</th>\n",
       "      <th rowspan=\"2\" valign=\"top\">K562</th>\n",
       "      <th>rep1</th>\n",
       "      <td>0.348901</td>\n",
       "      <td>binds ribosome, and tRNAs? rep1 only 500k usab...</td>\n",
       "    </tr>\n",
       "    <tr>\n",
       "      <th>rep2</th>\n",
       "      <td>0.355152</td>\n",
       "      <td>binds ribosome, and tRNAs? rep1 only 500k usab...</td>\n",
       "    </tr>\n",
       "    <tr>\n",
       "      <th rowspan=\"2\" valign=\"top\">358</th>\n",
       "      <th rowspan=\"2\" valign=\"top\">GNL3</th>\n",
       "      <th rowspan=\"2\" valign=\"top\">K562</th>\n",
       "      <th>rep1</th>\n",
       "      <td>0.043788</td>\n",
       "      <td>binds ribosome, and tRNAs? rep1 only 500k usab...</td>\n",
       "    </tr>\n",
       "    <tr>\n",
       "      <th>rep2</th>\n",
       "      <td>0.000450</td>\n",
       "      <td>binds ribosome, and tRNAs? rep1 only 500k usab...</td>\n",
       "    </tr>\n",
       "    <tr>\n",
       "      <th>444</th>\n",
       "      <th>LSM11</th>\n",
       "      <th>K562</th>\n",
       "      <th>rep2</th>\n",
       "      <td>0.481618</td>\n",
       "      <td>U7, and a specific repeat very highly chr6    ...</td>\n",
       "    </tr>\n",
       "    <tr>\n",
       "      <th rowspan=\"2\" valign=\"top\">450</th>\n",
       "      <th rowspan=\"2\" valign=\"top\">GPKOW</th>\n",
       "      <th rowspan=\"2\" valign=\"top\">K562</th>\n",
       "      <th>rep1</th>\n",
       "      <td>0.036082</td>\n",
       "      <td>U6, then a few specific introns but not much else</td>\n",
       "    </tr>\n",
       "    <tr>\n",
       "      <th>rep2</th>\n",
       "      <td>0.018227</td>\n",
       "      <td>U6, then a few specific introns but not much else</td>\n",
       "    </tr>\n",
       "    <tr>\n",
       "      <th rowspan=\"2\" valign=\"top\">503</th>\n",
       "      <th rowspan=\"2\" valign=\"top\">TROVE2</th>\n",
       "      <th rowspan=\"2\" valign=\"top\">HepG2</th>\n",
       "      <th>rep1</th>\n",
       "      <td>0.315248</td>\n",
       "      <td>good, yRNA, few CDS/3'UTR also??</td>\n",
       "    </tr>\n",
       "    <tr>\n",
       "      <th>rep2</th>\n",
       "      <td>0.102513</td>\n",
       "      <td>good, yRNA, few CDS/3'UTR also??</td>\n",
       "    </tr>\n",
       "    <tr>\n",
       "      <th rowspan=\"2\" valign=\"top\">506</th>\n",
       "      <th rowspan=\"2\" valign=\"top\">SF3B1</th>\n",
       "      <th rowspan=\"2\" valign=\"top\">K562</th>\n",
       "      <th>rep1</th>\n",
       "      <td>0.152487</td>\n",
       "      <td>low usable reads, but only crosslinks to U2/U11</td>\n",
       "    </tr>\n",
       "    <tr>\n",
       "      <th>rep2</th>\n",
       "      <td>0.310007</td>\n",
       "      <td>low usable reads, but only crosslinks to U2/U11</td>\n",
       "    </tr>\n",
       "    <tr>\n",
       "      <th rowspan=\"2\" valign=\"top\">539</th>\n",
       "      <th rowspan=\"2\" valign=\"top\">NOL12</th>\n",
       "      <th rowspan=\"2\" valign=\"top\">HepG2</th>\n",
       "      <th>rep1</th>\n",
       "      <td>0.277125</td>\n",
       "      <td>looks like LSU rRNA binding only</td>\n",
       "    </tr>\n",
       "    <tr>\n",
       "      <th>rep2</th>\n",
       "      <td>0.566965</td>\n",
       "      <td>looks like LSU rRNA binding only</td>\n",
       "    </tr>\n",
       "    <tr>\n",
       "      <th rowspan=\"2\" valign=\"top\">596</th>\n",
       "      <th rowspan=\"2\" valign=\"top\">GRSF1</th>\n",
       "      <th rowspan=\"2\" valign=\"top\">HepG2</th>\n",
       "      <th>rep1</th>\n",
       "      <td>0.002802</td>\n",
       "      <td>binds crazily to 5’ end of mtDNA chromosome (5...</td>\n",
       "    </tr>\n",
       "    <tr>\n",
       "      <th>rep2</th>\n",
       "      <td>0.003521</td>\n",
       "      <td>binds crazily to 5’ end of mtDNA chromosome (5...</td>\n",
       "    </tr>\n",
       "    <tr>\n",
       "      <th>679</th>\n",
       "      <th>RPL23A</th>\n",
       "      <th>HepG2</th>\n",
       "      <th>rep1</th>\n",
       "      <td>0.474850</td>\n",
       "      <td>looks ok - binds rRNAs well; family mapping 28...</td>\n",
       "    </tr>\n",
       "    <tr>\n",
       "      <th>693</th>\n",
       "      <th>SERBP1</th>\n",
       "      <th>K562</th>\n",
       "      <th>rep1</th>\n",
       "      <td>0.542019</td>\n",
       "      <td>&gt;700k RPM to 28S rRNA</td>\n",
       "    </tr>\n",
       "  </tbody>\n",
       "</table>\n",
       "</div>"
      ],
      "text/plain": [
       "CLIP                       information content  \\\n",
       "uID RBP    Cell line rep                         \n",
       "241 DDX42  K562      rep1             0.069584   \n",
       "                     rep2             0.113787   \n",
       "246 AUH    K562      rep1             0.000011   \n",
       "                     rep2             0.032831   \n",
       "280 AUH    HepG2     rep1             0.021087   \n",
       "                     rep2             0.014862   \n",
       "352 SBDS   K562      rep1             0.040066   \n",
       "                     rep2             0.015478   \n",
       "354 NPM1   K562      rep1             0.348901   \n",
       "                     rep2             0.355152   \n",
       "358 GNL3   K562      rep1             0.043788   \n",
       "                     rep2             0.000450   \n",
       "444 LSM11  K562      rep2             0.481618   \n",
       "450 GPKOW  K562      rep1             0.036082   \n",
       "                     rep2             0.018227   \n",
       "503 TROVE2 HepG2     rep1             0.315248   \n",
       "                     rep2             0.102513   \n",
       "506 SF3B1  K562      rep1             0.152487   \n",
       "                     rep2             0.310007   \n",
       "539 NOL12  HepG2     rep1             0.277125   \n",
       "                     rep2             0.566965   \n",
       "596 GRSF1  HepG2     rep1             0.002802   \n",
       "                     rep2             0.003521   \n",
       "679 RPL23A HepG2     rep1             0.474850   \n",
       "693 SERBP1 K562      rep1             0.542019   \n",
       "\n",
       "CLIP                                                                   notes  \n",
       "uID RBP    Cell line rep                                                      \n",
       "241 DDX42  K562      rep1                                    U2 snRNA, MtDNA  \n",
       "                     rep2                                    U2 snRNA, MtDNA  \n",
       "246 AUH    K562      rep1                        MT-Trna binding? also 5sRNA  \n",
       "                     rep2                        MT-Trna binding? also 5sRNA  \n",
       "280 AUH    HepG2     rep1                                   MT-TRNA binding?  \n",
       "                     rep2                                   MT-TRNA binding?  \n",
       "352 SBDS   K562      rep1  binds ribosome (rRNA very high, % unique mappi...  \n",
       "                     rep2  binds ribosome (rRNA very high, % unique mappi...  \n",
       "354 NPM1   K562      rep1  binds ribosome, and tRNAs? rep1 only 500k usab...  \n",
       "                     rep2  binds ribosome, and tRNAs? rep1 only 500k usab...  \n",
       "358 GNL3   K562      rep1  binds ribosome, and tRNAs? rep1 only 500k usab...  \n",
       "                     rep2  binds ribosome, and tRNAs? rep1 only 500k usab...  \n",
       "444 LSM11  K562      rep2  U7, and a specific repeat very highly chr6    ...  \n",
       "450 GPKOW  K562      rep1  U6, then a few specific introns but not much else  \n",
       "                     rep2  U6, then a few specific introns but not much else  \n",
       "503 TROVE2 HepG2     rep1                   good, yRNA, few CDS/3'UTR also??  \n",
       "                     rep2                   good, yRNA, few CDS/3'UTR also??  \n",
       "506 SF3B1  K562      rep1    low usable reads, but only crosslinks to U2/U11  \n",
       "                     rep2    low usable reads, but only crosslinks to U2/U11  \n",
       "539 NOL12  HepG2     rep1                   looks like LSU rRNA binding only  \n",
       "                     rep2                   looks like LSU rRNA binding only  \n",
       "596 GRSF1  HepG2     rep1  binds crazily to 5’ end of mtDNA chromosome (5...  \n",
       "                     rep2  binds crazily to 5’ end of mtDNA chromosome (5...  \n",
       "679 RPL23A HepG2     rep1  looks ok - binds rRNAs well; family mapping 28...  \n",
       "693 SERBP1 K562      rep1                              >700k RPM to 28S rRNA  "
      ]
     },
     "execution_count": 43,
     "metadata": {},
     "output_type": "execute_result"
    }
   ],
   "source": [
    "family_map_and_negatives_fn = (family_map_and_negatives[(family_map_and_negatives['information content'] < .612) & family_map_and_negatives.generally_submittable])\n",
    "family_map_and_negatives_fn[['information content', 'notes']]"
   ]
  },
  {
   "cell_type": "markdown",
   "metadata": {},
   "source": [
    "# How many datasets can I RECOVER from false negatives in peak level filtering"
   ]
  },
  {
   "cell_type": "code",
   "execution_count": 44,
   "metadata": {
    "collapsed": true
   },
   "outputs": [],
   "source": [
    "peak_level_false_negative = merged_data[merged_data.generally_submittable & (merged_data.entropy < .044)]"
   ]
  },
  {
   "cell_type": "code",
   "execution_count": 46,
   "metadata": {
    "collapsed": false
   },
   "outputs": [
    {
     "data": {
      "text/html": [
       "<div>\n",
       "<table border=\"1\" class=\"dataframe\">\n",
       "  <thead>\n",
       "    <tr style=\"text-align: right;\">\n",
       "      <th></th>\n",
       "      <th></th>\n",
       "      <th></th>\n",
       "      <th>CLIP</th>\n",
       "      <th>CLIP</th>\n",
       "      <th></th>\n",
       "      <th>INPUT</th>\n",
       "      <th>Submitted Date</th>\n",
       "      <th>annotation</th>\n",
       "      <th>family</th>\n",
       "      <th>family_bound</th>\n",
       "      <th>family_mapping_submitable</th>\n",
       "      <th>is_qced</th>\n",
       "      <th>note</th>\n",
       "      <th>...</th>\n",
       "      <th>filtered_moderate</th>\n",
       "      <th>CLIP_counts</th>\n",
       "      <th>INPUT_counts</th>\n",
       "      <th>ip_raw_names</th>\n",
       "      <th>clip_count</th>\n",
       "      <th>clip_rpr</th>\n",
       "      <th>input_count</th>\n",
       "      <th>input_rpr</th>\n",
       "      <th>information content</th>\n",
       "      <th>entropy</th>\n",
       "    </tr>\n",
       "    <tr>\n",
       "      <th>uID</th>\n",
       "      <th>RBP</th>\n",
       "      <th>Cell line</th>\n",
       "      <th>rep</th>\n",
       "      <th></th>\n",
       "      <th></th>\n",
       "      <th></th>\n",
       "      <th></th>\n",
       "      <th></th>\n",
       "      <th></th>\n",
       "      <th></th>\n",
       "      <th></th>\n",
       "      <th></th>\n",
       "      <th></th>\n",
       "      <th></th>\n",
       "      <th></th>\n",
       "      <th></th>\n",
       "      <th></th>\n",
       "      <th></th>\n",
       "      <th></th>\n",
       "      <th></th>\n",
       "      <th></th>\n",
       "      <th></th>\n",
       "      <th></th>\n",
       "      <th></th>\n",
       "    </tr>\n",
       "  </thead>\n",
       "  <tbody>\n",
       "    <tr>\n",
       "      <th rowspan=\"2\" valign=\"top\">283</th>\n",
       "      <th rowspan=\"2\" valign=\"top\">HNRNPA1</th>\n",
       "      <th rowspan=\"2\" valign=\"top\">HepG2</th>\n",
       "      <th>rep1</th>\n",
       "      <td>/projects/ps-yeolab3/encode/analysis/encode_ma...</td>\n",
       "      <td></td>\n",
       "      <td>/projects/ps-yeolab3/encode/analysis/encode_ma...</td>\n",
       "      <td>2015-05-06</td>\n",
       "      <td></td>\n",
       "      <td></td>\n",
       "      <td>FALSE</td>\n",
       "      <td>False</td>\n",
       "      <td>True</td>\n",
       "      <td></td>\n",
       "      <td>...</td>\n",
       "      <td>/home/gpratt/projects/encode/analysis/peak_rea...</td>\n",
       "      <td>13900913</td>\n",
       "      <td>1968283</td>\n",
       "      <td>283_01_HNRNPA1</td>\n",
       "      <td>4455434.0</td>\n",
       "      <td>0.271495</td>\n",
       "      <td>390783.0</td>\n",
       "      <td>0.052105</td>\n",
       "      <td>0.663731</td>\n",
       "      <td>0.006988</td>\n",
       "    </tr>\n",
       "    <tr>\n",
       "      <th>rep2</th>\n",
       "      <td>/projects/ps-yeolab3/encode/analysis/encode_ma...</td>\n",
       "      <td></td>\n",
       "      <td>/projects/ps-yeolab3/encode/analysis/encode_ma...</td>\n",
       "      <td>2015-05-06</td>\n",
       "      <td></td>\n",
       "      <td></td>\n",
       "      <td>FALSE</td>\n",
       "      <td>False</td>\n",
       "      <td>True</td>\n",
       "      <td></td>\n",
       "      <td>...</td>\n",
       "      <td>/home/gpratt/projects/encode/analysis/peak_rea...</td>\n",
       "      <td>6842287</td>\n",
       "      <td>1968283</td>\n",
       "      <td>283_02_HNRNPA1</td>\n",
       "      <td>2176385.0</td>\n",
       "      <td>0.273157</td>\n",
       "      <td>390309.0</td>\n",
       "      <td>0.052042</td>\n",
       "      <td>0.669311</td>\n",
       "      <td>0.010772</td>\n",
       "    </tr>\n",
       "    <tr>\n",
       "      <th>352</th>\n",
       "      <th>SBDS</th>\n",
       "      <th>K562</th>\n",
       "      <th>rep1</th>\n",
       "      <td>/projects/ps-yeolab3/encode/analysis/encode_ma...</td>\n",
       "      <td></td>\n",
       "      <td>/projects/ps-yeolab3/encode/analysis/encode_ma...</td>\n",
       "      <td>2015-07-26</td>\n",
       "      <td></td>\n",
       "      <td></td>\n",
       "      <td>TRUE</td>\n",
       "      <td>True</td>\n",
       "      <td>True</td>\n",
       "      <td></td>\n",
       "      <td>...</td>\n",
       "      <td>/home/gpratt/projects/encode/analysis/peak_rea...</td>\n",
       "      <td>690094</td>\n",
       "      <td>1838774</td>\n",
       "      <td>352_01_SBDS</td>\n",
       "      <td>2335018.0</td>\n",
       "      <td>0.420820</td>\n",
       "      <td>3832722.0</td>\n",
       "      <td>0.393945</td>\n",
       "      <td>0.040066</td>\n",
       "      <td>0.012259</td>\n",
       "    </tr>\n",
       "    <tr>\n",
       "      <th>417</th>\n",
       "      <th>POLR2G</th>\n",
       "      <th>K562</th>\n",
       "      <th>rep1</th>\n",
       "      <td>/projects/ps-yeolab3/encode/analysis/encode_ma...</td>\n",
       "      <td></td>\n",
       "      <td>/projects/ps-yeolab3/encode/analysis/encode_ma...</td>\n",
       "      <td>2015-11-16</td>\n",
       "      <td></td>\n",
       "      <td></td>\n",
       "      <td>FALSE</td>\n",
       "      <td>False</td>\n",
       "      <td>True</td>\n",
       "      <td></td>\n",
       "      <td>...</td>\n",
       "      <td>/home/gpratt/projects/encode/analysis/peak_rea...</td>\n",
       "      <td>5530247</td>\n",
       "      <td>2767750</td>\n",
       "      <td>417_01_POLR2G</td>\n",
       "      <td>2627189.0</td>\n",
       "      <td>0.219576</td>\n",
       "      <td>696378.0</td>\n",
       "      <td>0.033782</td>\n",
       "      <td>0.614075</td>\n",
       "      <td>0.005114</td>\n",
       "    </tr>\n",
       "    <tr>\n",
       "      <th>539</th>\n",
       "      <th>NOL12</th>\n",
       "      <th>HepG2</th>\n",
       "      <th>rep1</th>\n",
       "      <td>/projects/ps-yeolab3/encode/analysis/encode_ma...</td>\n",
       "      <td></td>\n",
       "      <td>/projects/ps-yeolab3/encode/analysis/encode_ma...</td>\n",
       "      <td>2016-01-21</td>\n",
       "      <td></td>\n",
       "      <td></td>\n",
       "      <td>TRUE</td>\n",
       "      <td>True</td>\n",
       "      <td>True</td>\n",
       "      <td></td>\n",
       "      <td>...</td>\n",
       "      <td>/home/gpratt/projects/encode/analysis/peak_rea...</td>\n",
       "      <td>2499259</td>\n",
       "      <td>5415087</td>\n",
       "      <td>539_01_NOL12</td>\n",
       "      <td>8548098.0</td>\n",
       "      <td>0.552184</td>\n",
       "      <td>7063424.0</td>\n",
       "      <td>0.389955</td>\n",
       "      <td>0.277125</td>\n",
       "      <td>0.024386</td>\n",
       "    </tr>\n",
       "  </tbody>\n",
       "</table>\n",
       "<p>5 rows × 45 columns</p>\n",
       "</div>"
      ],
      "text/plain": [
       "CLIP                                                                     CLIP  \\\n",
       "uID RBP     Cell line rep                                                       \n",
       "283 HNRNPA1 HepG2     rep1  /projects/ps-yeolab3/encode/analysis/encode_ma...   \n",
       "                      rep2  /projects/ps-yeolab3/encode/analysis/encode_ma...   \n",
       "352 SBDS    K562      rep1  /projects/ps-yeolab3/encode/analysis/encode_ma...   \n",
       "417 POLR2G  K562      rep1  /projects/ps-yeolab3/encode/analysis/encode_ma...   \n",
       "539 NOL12   HepG2     rep1  /projects/ps-yeolab3/encode/analysis/encode_ma...   \n",
       "\n",
       "CLIP                          \\\n",
       "uID RBP     Cell line rep      \n",
       "283 HNRNPA1 HepG2     rep1     \n",
       "                      rep2     \n",
       "352 SBDS    K562      rep1     \n",
       "417 POLR2G  K562      rep1     \n",
       "539 NOL12   HepG2     rep1     \n",
       "\n",
       "CLIP                                                                    INPUT  \\\n",
       "uID RBP     Cell line rep                                                       \n",
       "283 HNRNPA1 HepG2     rep1  /projects/ps-yeolab3/encode/analysis/encode_ma...   \n",
       "                      rep2  /projects/ps-yeolab3/encode/analysis/encode_ma...   \n",
       "352 SBDS    K562      rep1  /projects/ps-yeolab3/encode/analysis/encode_ma...   \n",
       "417 POLR2G  K562      rep1  /projects/ps-yeolab3/encode/analysis/encode_ma...   \n",
       "539 NOL12   HepG2     rep1  /projects/ps-yeolab3/encode/analysis/encode_ma...   \n",
       "\n",
       "CLIP                       Submitted Date annotation family family_bound  \\\n",
       "uID RBP     Cell line rep                                                  \n",
       "283 HNRNPA1 HepG2     rep1     2015-05-06                          FALSE   \n",
       "                      rep2     2015-05-06                          FALSE   \n",
       "352 SBDS    K562      rep1     2015-07-26                           TRUE   \n",
       "417 POLR2G  K562      rep1     2015-11-16                          FALSE   \n",
       "539 NOL12   HepG2     rep1     2016-01-21                           TRUE   \n",
       "\n",
       "CLIP                       family_mapping_submitable is_qced note    ...     \\\n",
       "uID RBP     Cell line rep                                            ...      \n",
       "283 HNRNPA1 HepG2     rep1                     False    True         ...      \n",
       "                      rep2                     False    True         ...      \n",
       "352 SBDS    K562      rep1                      True    True         ...      \n",
       "417 POLR2G  K562      rep1                     False    True         ...      \n",
       "539 NOL12   HepG2     rep1                      True    True         ...      \n",
       "\n",
       "CLIP                                                        filtered_moderate  \\\n",
       "uID RBP     Cell line rep                                                       \n",
       "283 HNRNPA1 HepG2     rep1  /home/gpratt/projects/encode/analysis/peak_rea...   \n",
       "                      rep2  /home/gpratt/projects/encode/analysis/peak_rea...   \n",
       "352 SBDS    K562      rep1  /home/gpratt/projects/encode/analysis/peak_rea...   \n",
       "417 POLR2G  K562      rep1  /home/gpratt/projects/encode/analysis/peak_rea...   \n",
       "539 NOL12   HepG2     rep1  /home/gpratt/projects/encode/analysis/peak_rea...   \n",
       "\n",
       "CLIP                       CLIP_counts INPUT_counts    ip_raw_names  \\\n",
       "uID RBP     Cell line rep                                             \n",
       "283 HNRNPA1 HepG2     rep1    13900913      1968283  283_01_HNRNPA1   \n",
       "                      rep2     6842287      1968283  283_02_HNRNPA1   \n",
       "352 SBDS    K562      rep1      690094      1838774     352_01_SBDS   \n",
       "417 POLR2G  K562      rep1     5530247      2767750   417_01_POLR2G   \n",
       "539 NOL12   HepG2     rep1     2499259      5415087    539_01_NOL12   \n",
       "\n",
       "CLIP                       clip_count  clip_rpr  input_count  input_rpr  \\\n",
       "uID RBP     Cell line rep                                                 \n",
       "283 HNRNPA1 HepG2     rep1  4455434.0  0.271495     390783.0   0.052105   \n",
       "                      rep2  2176385.0  0.273157     390309.0   0.052042   \n",
       "352 SBDS    K562      rep1  2335018.0  0.420820    3832722.0   0.393945   \n",
       "417 POLR2G  K562      rep1  2627189.0  0.219576     696378.0   0.033782   \n",
       "539 NOL12   HepG2     rep1  8548098.0  0.552184    7063424.0   0.389955   \n",
       "\n",
       "CLIP                        information content   entropy  \n",
       "uID RBP     Cell line rep                                  \n",
       "283 HNRNPA1 HepG2     rep1             0.663731  0.006988  \n",
       "                      rep2             0.669311  0.010772  \n",
       "352 SBDS    K562      rep1             0.040066  0.012259  \n",
       "417 POLR2G  K562      rep1             0.614075  0.005114  \n",
       "539 NOL12   HepG2     rep1             0.277125  0.024386  \n",
       "\n",
       "[5 rows x 45 columns]"
      ]
     },
     "execution_count": 46,
     "metadata": {},
     "output_type": "execute_result"
    }
   ],
   "source": [
    "peak_level_false_negative[(peak_level_false_negative['information content'] > .612) | (peak_level_false_negative.clip_rpr > .40)]"
   ]
  },
  {
   "cell_type": "markdown",
   "metadata": {},
   "source": [
    "This is all I need to know right here.  Adding in a term to rescue repetitive element binders doesn't help at all. I can safely ignore a rep-element false negative rescue stragety"
   ]
  },
  {
   "cell_type": "code",
   "execution_count": 37,
   "metadata": {
    "collapsed": true
   },
   "outputs": [],
   "source": [
    "threshold = 2\n",
    "sig_rep_elements = rep_elements[((rep_elements['log10_p_val'] > threshold) & (rep_elements['fold-enrichment'] > threshold)) | ((rep_elements.clip_rpr > .3) & (rep_elements['fold-enrichment'] > 1))]\n",
    "rep_element_information = sig_rep_elements.groupby(\"file\").sum()\n",
    "rep_element_information = rep_element_information.drop([\"fold-enrichment\", \"family_map_input_usable\", \"unique\", \"p_val\", \"log10_p_val\"], axis=1)\n",
    "\n",
    "merged_data_rep = merged_data.reset_index()\n",
    "\n",
    "#Some RBPs don't have any rep elements enriched, so I'm just saying they have 0 entropy\n",
    "merged_data_rep = pd.merge(merged_data_rep, rep_element_information, left_on=\"ip_raw_names\", right_index=True, how=\"left\")\n",
    "merged_data_rep = merged_data_rep.set_index(['uID', 'RBP', 'Cell line', 'rep'])\n",
    "merged_data_rep = merged_data_rep.fillna(0)\n",
    "family_map_and_negatives_rep = merged_data_rep[~merged_data_rep.peaks_submitable]"
   ]
  },
  {
   "cell_type": "code",
   "execution_count": 38,
   "metadata": {
    "collapsed": false
   },
   "outputs": [],
   "source": [
    "#thresholding_plotter('information content', \"generally_submittable\", family_map_and_negatives_rep)"
   ]
  },
  {
   "cell_type": "markdown",
   "metadata": {},
   "source": [
    "# Other Expermental Methods"
   ]
  },
  {
   "cell_type": "markdown",
   "metadata": {},
   "source": [
    "# Fit Rep Elements\n"
   ]
  },
  {
   "cell_type": "code",
   "execution_count": 44,
   "metadata": {
    "collapsed": true
   },
   "outputs": [],
   "source": [
    "from sklearn import linear_model\n",
    "rep_elements = rep_elements.set_index(['ip_raw_names', 'element'])"
   ]
  },
  {
   "cell_type": "code",
   "execution_count": 45,
   "metadata": {
    "collapsed": true
   },
   "outputs": [],
   "source": [
    "import json\n",
    "import gspread\n",
    "from oauth2client.client import SignedJwtAssertionCredentials\n",
    "import statsmodels.api as sm\n",
    "from sklearn import metrics\n",
    "\n",
    "json_key = json.load(open(\"/home/gpratt/ipython_notebook/public clip-588adbc137f3.json\"))\n",
    "scope = ['https://spreadsheets.google.com/feeds']\n",
    "\n",
    "credentials = SignedJwtAssertionCredentials(json_key['client_email'], json_key['private_key'], scope)\n",
    "gc = gspread.authorize(credentials)\n",
    "\n",
    "sht1 = gc.open_by_url(\"https://docs.google.com/spreadsheets/d/1NMjzbneXf8bGN13K9azoqK2YbMCrjQqfJBKFoCkkrtY/edit#gid=0\")\n",
    "ws = sht1.worksheet(\"Sheet2\")\n",
    "list_of_lists = ws.get_all_values()\n",
    "rep_element_annotations = pd.DataFrame(list_of_lists[1:], columns=list_of_lists[0])\n",
    "rep_element_annotations.interesting = [item == \"TRUE\" for item in rep_element_annotations.interesting]\n",
    "rep_element_annotations.checked = [item == \"TRUE\" for item in rep_element_annotations.checked]\n",
    "\n",
    "rep_element_annotations = rep_element_annotations[rep_element_annotations.interesting]\n",
    "#rep_element_annotations = rep_element_annotations[~rep_element_annotations.checked]"
   ]
  },
  {
   "cell_type": "code",
   "execution_count": null,
   "metadata": {
    "collapsed": true
   },
   "outputs": [],
   "source": [
    "foo = rep_elements['information content'].unstack()\n",
    "bar = pd.merge(family_map_and_negatives, foo, left_on=\"ip_raw_names\", right_index=True, how=\"left\")\n"
   ]
  },
  {
   "cell_type": "code",
   "execution_count": null,
   "metadata": {
    "collapsed": true
   },
   "outputs": [],
   "source": [
    "families_to_use = set(rep_element_annotations.Family.values) - set(['antisense_chrM', 'chrM'])"
   ]
  },
  {
   "cell_type": "code",
   "execution_count": null,
   "metadata": {
    "collapsed": true
   },
   "outputs": [],
   "source": [
    "len(rep_element_annotations.Family.values)"
   ]
  },
  {
   "cell_type": "code",
   "execution_count": null,
   "metadata": {
    "collapsed": true
   },
   "outputs": [],
   "source": [
    "len(rep_element_annotations)"
   ]
  },
  {
   "cell_type": "code",
   "execution_count": null,
   "metadata": {
    "collapsed": true
   },
   "outputs": [],
   "source": [
    "logit = sm.Logit(bar.generally_submittable, bar[list(families_to_use)])"
   ]
  },
  {
   "cell_type": "code",
   "execution_count": null,
   "metadata": {
    "collapsed": true
   },
   "outputs": [],
   "source": [
    "len(bar) - len(bar[bar.generally_submittable]), len(bar[bar.generally_submittable]) "
   ]
  },
  {
   "cell_type": "code",
   "execution_count": null,
   "metadata": {
    "collapsed": true
   },
   "outputs": [],
   "source": [
    "bar['predicted_results'] = result.predict(bar[list(families_to_use)]) < .5 "
   ]
  },
  {
   "cell_type": "code",
   "execution_count": null,
   "metadata": {
    "collapsed": true
   },
   "outputs": [],
   "source": [
    "metrics.confusion_matrix(bar['family_mapping_submitable'], bar['predicted_results'], labels=[True, False])"
   ]
  },
  {
   "cell_type": "code",
   "execution_count": null,
   "metadata": {
    "collapsed": true
   },
   "outputs": [],
   "source": [
    "result.summary()"
   ]
  },
  {
   "cell_type": "code",
   "execution_count": null,
   "metadata": {
    "collapsed": true
   },
   "outputs": [],
   "source": [
    "solver = linear_model.LogisticRegression()\n"
   ]
  },
  {
   "cell_type": "markdown",
   "metadata": {},
   "source": [
    "# Decision Tree"
   ]
  },
  {
   "cell_type": "markdown",
   "metadata": {},
   "source": [
    "https://matterhorn.dce.harvard.edu/engage/player/watch.html?id=8892a8b7-25eb-4bc5-80b6-47b9cf681a05\n",
    "this class is great\n",
    "depending on how much you care\n",
    "this talks about feature importance in a random forest\n",
    "https://github.com/cs109/2015/blob/master/Lectures/13-BestPractices_Recommendations.pdf\n"
   ]
  },
  {
   "cell_type": "code",
   "execution_count": null,
   "metadata": {
    "collapsed": true
   },
   "outputs": [],
   "source": [
    "from sklearn import tree\n",
    "import pydotplus \n",
    "import pyparsing\n",
    "from IPython.display import Image  \n",
    "from sklearn.datasets import load_iris\n",
    "from sklearn import tree\n"
   ]
  },
  {
   "cell_type": "code",
   "execution_count": null,
   "metadata": {
    "collapsed": true
   },
   "outputs": [],
   "source": [
    "clf = tree.DecisionTreeClassifier()\n",
    "clf = clf.fit(bar[list(families_to_use)], bar.generally_submittable)\n",
    "#clf.predict(bar.ix['451x4000', \"ILF2\", \"K562\", \"rep1\"][list(families_to_use)])"
   ]
  },
  {
   "cell_type": "code",
   "execution_count": null,
   "metadata": {
    "collapsed": true
   },
   "outputs": [],
   "source": [
    "with open(\"iris.dot\", 'w') as f:\n",
    "    dot_data = tree.export_graphviz(clf, out_file=f, \n",
    "                                    feature_names=list(families_to_use),  \n",
    "                                    #class_names=list(set(bar.generally_submittable)),  \n",
    "                                    filled=True, rounded=True,  \n",
    "                                    special_characters=True) \n"
   ]
  },
  {
   "cell_type": "code",
   "execution_count": null,
   "metadata": {
    "collapsed": true
   },
   "outputs": [],
   "source": [
    "iris = load_iris()\n",
    "clf = tree.DecisionTreeClassifier()\n",
    "clf = clf.fit(iris.data, iris.target)\n"
   ]
  },
  {
   "cell_type": "code",
   "execution_count": null,
   "metadata": {
    "collapsed": true
   },
   "outputs": [],
   "source": [
    "with open(\"iris.dot\", 'w') as f:\n",
    "    dot_data = tree.export_graphviz(clf, out_file=f, \n",
    "                             feature_names=iris.feature_names,  \n",
    "                             class_names=iris.target_names,  \n",
    "                             filled=True, rounded=True,  \n",
    "                             special_characters=True)  \n",
    "    graph = pydotplus.graph_from_dot_data(dot_data)  \n",
    "    Image(graph.create_png())  "
   ]
  }
 ],
 "metadata": {
  "kernelspec": {
   "display_name": "Python 2",
   "language": "python",
   "name": "python2"
  },
  "language_info": {
   "codemirror_mode": {
    "name": "ipython",
    "version": 2
   },
   "file_extension": ".py",
   "mimetype": "text/x-python",
   "name": "python",
   "nbconvert_exporter": "python",
   "pygments_lexer": "ipython2",
   "version": "2.7.12"
  }
 },
 "nbformat": 4,
 "nbformat_minor": 0
}
