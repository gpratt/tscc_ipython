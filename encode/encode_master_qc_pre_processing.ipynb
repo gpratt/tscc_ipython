{
 "cells": [
  {
   "cell_type": "code",
   "execution_count": 1,
   "metadata": {
    "collapsed": false
   },
   "outputs": [],
   "source": [
    "%matplotlib inline\n",
    "from collections import defaultdict, Counter\n",
    "import glob\n",
    "import os\n",
    "import json\n",
    "\n",
    "from IPython.core.display import HTML, Image\n",
    "from matplotlib_venn import venn3\n",
    "import pandas as pd\n",
    "import pybedtools\n",
    "import pysam\n",
    "import gspread\n",
    "from gscripts.general import parsers\n",
    "from gscripts.general import dataviz\n",
    "%load_ext autoreload\n",
    "import numpy as np\n",
    "%autoreload 2\n",
    "reload(parsers)\n",
    "reload(pybedtools)\n",
    "import seaborn as sns\n",
    "import matplotlib\n",
    "from oauth2client.client import SignedJwtAssertionCredentials\n",
    "from matplotlib.ticker import ScalarFormatter, FormatStrFormatter\n",
    "\n",
    "img_dir = \"/home/gpratt/Dropbox/encode_integration/qc_work/\""
   ]
  },
  {
   "cell_type": "code",
   "execution_count": 2,
   "metadata": {
    "collapsed": true
   },
   "outputs": [],
   "source": [
    "from matplotlib import rc\n",
    "rc('text', usetex=False)\n",
    "matplotlib.rcParams['svg.fonttype'] = 'none'\n",
    "\n",
    "rc('font',**{'family':'sans-serif','sans-serif':['Helvetica']})"
   ]
  },
  {
   "cell_type": "code",
   "execution_count": 3,
   "metadata": {
    "collapsed": false
   },
   "outputs": [],
   "source": [
    "json_key = json.load(open(\"../public clip-588adbc137f3.json\"))\n",
    "scope = ['https://spreadsheets.google.com/feeds']\n",
    "\n",
    "credentials = SignedJwtAssertionCredentials(json_key['client_email'], json_key['private_key'], scope)\n",
    "gc = gspread.authorize(credentials)\n",
    "\n",
    "sht1 = gc.open_by_url(\"https://docs.google.com/spreadsheets/d/1ZU2mQh54jentqvhR_oMnviLGWR8Nw_x338gULzKjNDI/edit#gid=0\")\n",
    "ws = sht1.worksheet(\"Sheet1\")\n",
    "list_of_lists = ws.get_all_values()\n",
    "manifest = pd.DataFrame(list_of_lists[1:], columns=list_of_lists[0])\n",
    "manifest['qc_id'] = manifest.apply(lambda x: \"{}_{}\".format(x.ENCODE_ID, x.RBP), axis=1)\n",
    "manifest.is_encode = manifest.is_encode == \"TRUE\""
   ]
  },
  {
   "cell_type": "code",
   "execution_count": 4,
   "metadata": {
    "collapsed": false
   },
   "outputs": [],
   "source": [
    "def get_rep_num(encode_id):\n",
    "    try:\n",
    "        return encode_id.split(\"_\")[1]\n",
    "    except:\n",
    "        return np.nan\n",
    "    \n",
    "def format_qc_frame(qc_frame, metadata_table):\n",
    "    \"\"\"Takes dataframe from clipseq metrics and formats it for more general aggergaion\n",
    "    qc_frame: dataframe clipseq_metrics function\n",
    "    metadata_table: file location generated from eCLIP manifest generator (might make more general later)\n",
    "    \"\"\"\n",
    "    \n",
    "    qc_frame[\"Fraction Collapsed\"] = qc_frame['Usable Reads'] / qc_frame['Uniquely Mapped Reads'].astype(float)\n",
    "    qc_frame[\"Fraction Usable\"] = qc_frame['Usable Reads'] / qc_frame['Input Reads'].astype(float)\n",
    "    qc_frame['barcode'] = qc_frame.index.map(lambda x: x.split(\".\")[1].split(\"_\")[0])\n",
    "\n",
    "    #If its a merged file remove it, can have merged in the file name\n",
    "    unmerged_clip_manifest = qc_frame[[\"merged\" not in index.split(\".\")[1] for index in qc_frame.index]]\n",
    "\n",
    "    manifest_df = pd.read_table(metadata_table, header=None,\n",
    "                 names=['fastq', 'species', 'encode_id', 'barcodes', 'barcodes_len', 'more_barcodes', \"randomer_length\"])\n",
    "    manifest_df['qc_name'] = manifest_df.fastq.apply(lambda x: \".\".join(os.path.basename(x.split(\";\")[0]).split(\".\")[:2]))\n",
    "\n",
    "    tmp = pd.merge(manifest_df, unmerged_clip_manifest, left_on=\"qc_name\", right_index=True)\n",
    "\n",
    "    final_qc_frame = pd.merge(manifest, tmp, left_on='qc_id', right_on='encode_id')\n",
    "    final_qc_frame['exp_id'] = final_qc_frame.ENCODE_ID.apply(lambda x:x.split(\"_\")[0])\n",
    "\n",
    "    final_qc_frame['rep_num'] = final_qc_frame.ENCODE_ID.apply(get_rep_num)\n",
    "    final_qc_frame['Input Reads'] = final_qc_frame['Input Reads'].fillna(0)\n",
    "    final_qc_frame['repetitive_count'] = final_qc_frame['Number of input reads rmRep'] - final_qc_frame['Reads Passing Quality Filter']\n",
    "\n",
    "    new_index = []\n",
    "    for index, row in final_qc_frame.iterrows():\n",
    "        new_index.append([row.RBP, row.exp_id, row.rep_num, row.cell_type, row.ENCODE_ID, row.barcode])\n",
    "\n",
    "    final_qc_frame.index = pd.MultiIndex.from_tuples(new_index, names=['rbp', 'encode_id', 'rep', 'cell_type', \"full_name\", 'barcode'])\n",
    "    final_qc_frame = final_qc_frame.sort_index()\n",
    "    \n",
    "    return final_qc_frame"
   ]
  },
  {
   "cell_type": "markdown",
   "metadata": {},
   "source": [
    "# Load save hg19 QC values"
   ]
  },
  {
   "cell_type": "markdown",
   "metadata": {},
   "source": [
    "#Command to find and remove dangling simlinks\n",
    "\n",
    "find -L . -type l -delete"
   ]
  },
  {
   "cell_type": "code",
   "execution_count": null,
   "metadata": {
    "collapsed": false
   },
   "outputs": [],
   "source": [
    "encode_qc = parsers.clipseq_metrics(\"/projects/ps-yeolab3/encode/analysis/encode_master/\", iclip=True)\n",
    "final_qc_frame = format_qc_frame(encode_qc, \"/home/gpratt/projects/encode/scripts/encode_GRCh38_v1.txt\")\n",
    "encode_qc.to_csv(\"/home/gpratt/Dropbox/EricGabe_ENCODE/unannoated_encode_master_qc.csv\")\n",
    "final_qc_frame.to_csv(\"/home/gpratt/Dropbox/EricGabe_ENCODE/encode_master_qc.csv\")"
   ]
  },
  {
   "cell_type": "markdown",
   "metadata": {},
   "source": [
    "# Load and save single end QC values"
   ]
  },
  {
   "cell_type": "code",
   "execution_count": null,
   "metadata": {
    "collapsed": false
   },
   "outputs": [],
   "source": [
    "encode_single_end_qc = parsers.clipseq_metrics(\"/projects/ps-yeolab3/encode/analysis/encode_single_end_v1/\", iclip=True)\n",
    "encode_single_end_qc[\"Fraction Collapsed\"] = encode_single_end_qc['Usable Reads'] / encode_single_end_qc['Uniquely Mapped Reads'].astype(float)\n",
    "encode_single_end_qc[\"Fraction Usable\"] = encode_single_end_qc['Usable Reads'] / encode_single_end_qc['Input Reads'].astype(float)\n",
    "encode_single_end_qc['repetitive_count'] = encode_single_end_qc['Number of input reads rmRep'] - encode_single_end_qc['Reads Passing Quality Filter'] \n",
    "\n",
    "encode_single_end_qc[[ \"Input Reads\",\n",
    "           #'Trimmed bases',\n",
    "           \"Reads Written\",\n",
    "           \"repetitive_count\",\n",
    "           \"Uniquely Mapped Reads\",\n",
    "           \"Uniquely mapped reads %\",\n",
    "           \"Usable Reads\",\n",
    "           \"Fraction Collapsed\",\n",
    "           \"Fraction Usable\",\n",
    "           #\"spot\",\n",
    "           #\"Num Peaks\",\n",
    "           #\"Passed QC\"\n",
    "          ]].to_csv(\"/home/gpratt/Dropbox/encode_integration/for_eric/unannoated_single_end_qc_filtered_v1.csv\")\n",
    "\n",
    "encode_single_end_qc.to_csv(\"/home/gpratt/Dropbox/encode_integration/for_eric/unannoated_single_end_qc_v1.csv\")\n",
    "\n",
    "# single_end_qc_frame = format_qc_frame(encode_single_end_qc, \"/home/gpratt/projects/encode/scripts/encode_single_end_v1.txt\")\n",
    "# single_end_qc_frame.to_csv(\"/home/gpratt/Dropbox/EricGabe_ENCODE/encode_single_end_qc_v1.csv\")"
   ]
  },
  {
   "cell_type": "markdown",
   "metadata": {},
   "source": [
    "# Load and save GRCh38 QC values"
   ]
  },
  {
   "cell_type": "code",
   "execution_count": null,
   "metadata": {
    "collapsed": true
   },
   "outputs": [],
   "source": [
    "encode_qc[[ \"Input Reads\",\n",
    "           #'Trimmed bases',\n",
    "           \"Reads Written\",\n",
    "           \"repetitive_count\",\n",
    "           \"Uniquely Mapped Reads\",\n",
    "           \"Uniquely mapped reads %\",\n",
    "           \"Usable Reads\",\n",
    "           \"Fraction Collapsed\",\n",
    "           \"Fraction Usable\",\n",
    "           #\"spot\",\n",
    "           #\"Num Peaks\",\n",
    "           #\"Passed QC\"\n",
    "          ]].to_csv(\"/home/gpratt/Dropbox/encode_integration/for_eric/unannoated_qc_filtered_v13.csv\")\n",
    "\n",
    "encode_qc.to_csv(\"/home/gpratt/Dropbox/encode_integration/for_eric/unannoated_qc_v13.csv\")"
   ]
  },
  {
   "cell_type": "code",
   "execution_count": null,
   "metadata": {
    "collapsed": false
   },
   "outputs": [],
   "source": [
    "encode_GRCh38_qc = parsers.clipseq_metrics(\"/projects/ps-yeolab3/encode/analysis/encode_GRCh38_v1/\", iclip=True)\n",
    "final_GRCh38_qc_frame = format_qc_frame(encode_qc, \"/home/gpratt/projects/encode/scripts/encode_GRCh38_v1.txt\")\n",
    "encode_GRCh38_qc.to_csv(\"/home/gpratt/Dropbox/EricGabe_ENCODE/unannoated_encode_GRCh38_qc.csv\")\n",
    "final_GRCh38_qc_frame.to_csv(\"/home/gpratt/Dropbox/EricGabe_ENCODE/encode_GRCh38_qc.csv\")"
   ]
  },
  {
   "cell_type": "markdown",
   "metadata": {},
   "source": [
    "# Load Public CLIP QC Metrics"
   ]
  },
  {
   "cell_type": "code",
   "execution_count": null,
   "metadata": {
    "collapsed": false
   },
   "outputs": [],
   "source": [
    "analysis_dir = \"/home/gpratt/projects/public_clip/analysis/public_clip_v9/\"\n",
    "public_clip = parsers.clipseq_metrics(analysis_dir, iclip=True)\n",
    "\n",
    "public_clip[\"Fraction Collapsed\"] = public_clip['Usable Reads'] / public_clip['Uniquely Mapped Reads'].astype(float)\n",
    "public_clip[\"Fraction Usable\"] = public_clip['Usable Reads'] / public_clip['Input Reads'].astype(float)\n",
    "\n",
    "public_clip.to_csv\n",
    "unmerged_public_clip_manifest = public_clip[[\"merged\" not in index for index in public_clip.index]]\n"
   ]
  },
  {
   "cell_type": "code",
   "execution_count": null,
   "metadata": {
    "collapsed": true
   },
   "outputs": [],
   "source": [
    "filtered_unmerged_public_clip_manifest = unmerged_public_clip_manifest[[ \"Input Reads\",\n",
    "                                #'Trimmed bases',\n",
    "                            \"Reads Written\",\n",
    "                            \"repetitive_count\",\n",
    "                            \"Uniquely Mapped Reads\",\n",
    "                            #\"Uniquely mapped reads %\",\n",
    "                            \"Usable Reads\",\n",
    "                            \"Fraction Collapsed\",\n",
    "                            \"Fraction Usable\",\n",
    "                            #\"spot\",\n",
    "                            \"Num Peaks\",\n",
    "                            #\"Passed QC\"\n",
    "                            ]]\n",
    "\n",
    "filtered_unmerged_public_clip_manifest = filtered_unmerged_public_clip_manifest.astype(float)\n",
    "filtered_unmerged_public_clip_manifest.index = filtered_unmerged_public_clip_manifest.index.map(lambda x: x.split(\".\")[0])"
   ]
  },
  {
   "cell_type": "code",
   "execution_count": null,
   "metadata": {
    "collapsed": false
   },
   "outputs": [],
   "source": [
    "# HTML(filtered_unmerged_public_clip_manifest.to_html(formatters={\"Input Reads\" : parsers.commas,\n",
    "#                                      \"Reads Written\" : parsers.commas,\n",
    "#                                      \"repetitive_count\": parsers.commas,\n",
    "#                                      \"Reads after Quality Filtering\" : parsers.commas,\n",
    "#                                      \"Uniquely Mapped Reads\" : parsers.commas,\n",
    "#                                      \"Usable Reads\" : parsers.commas,\n",
    "#                                      \"Num Peaks\": parsers.commas\n",
    "#                                      } ))"
   ]
  },
  {
   "cell_type": "code",
   "execution_count": null,
   "metadata": {
    "collapsed": true
   },
   "outputs": [],
   "source": [
    "analysis_dir = \"/home/gpratt/projects/public_clip/analysis/public_iclip_v1/\"\n",
    "public_iclip = parsers.clipseq_metrics(analysis_dir, iclip=True)\n",
    "\n",
    "public_iclip[\"Fraction Collapsed\"] = public_iclip['Usable Reads'] / public_iclip['Uniquely Mapped Reads'].astype(float)\n",
    "public_iclip[\"Fraction Usable\"] = public_iclip['Usable Reads'] / public_iclip['Input Reads'].astype(float)\n",
    "\n",
    "unmerged_public_iclip_manifest = public_iclip[[\"merged\" not in index for index in public_iclip.index]]\n",
    "unmerged_public_iclip_manifest.index = pd.MultiIndex.from_tuples([item.split(\".\") for item in unmerged_public_iclip_manifest.index], \n",
    "                          names=[\"sra_id\", \"barcode\"])\n",
    "unmerged_public_iclip_manifest = unmerged_public_iclip_manifest.groupby(level=\"sra_id\").sum()\n",
    "unmerged_public_iclip_manifest[\"Fraction Collapsed\"] = unmerged_public_iclip_manifest['Usable Reads'] / unmerged_public_iclip_manifest['Uniquely Mapped Reads'].astype(float)\n",
    "unmerged_public_iclip_manifest[\"Fraction Usable\"] = unmerged_public_iclip_manifest['Usable Reads'] / unmerged_public_iclip_manifest['Input Reads'].astype(float)\n",
    "unmerged_public_iclip_manifest.to_csv('/home/gpratt/Dropbox/encode_integration/for_eric/public_iclip_qc.csv')"
   ]
  },
  {
   "cell_type": "code",
   "execution_count": null,
   "metadata": {
    "collapsed": false
   },
   "outputs": [],
   "source": [
    "public_clip_database = sht1.worksheet(\"public_clip_database\")\n",
    "list_of_lists = public_clip_database.get_all_values()\n",
    "public_clip_database = pd.DataFrame(list_of_lists[1:], columns=list_of_lists[0])\n",
    "\n",
    "merged_public_df = pd.merge(public_clip_database, filtered_unmerged_public_clip_manifest , left_on=\"SRA\", right_index=True)\n",
    "merged_public_df = merged_public_df[merged_public_df.Species.isin([\"hg19\", \"mn9\"])]\n",
    "merged_public_df.index = merged_public_df.SRA\n",
    "\n",
    "public_iclip = merged_public_df[merged_public_df['type'] == 'iclip']\n",
    "public_clip = merged_public_df[merged_public_df['type'].isin({'clip', 'par-clip', 'par-clip 4SU'})]\n"
   ]
  },
  {
   "cell_type": "code",
   "execution_count": null,
   "metadata": {
    "collapsed": false
   },
   "outputs": [],
   "source": [
    "public_clip.to_csv('/home/gpratt/Dropbox/encode_integration/for_eric/public_clip_qc.csv')\n",
    "public_iclip.to_csv('/home/gpratt/Dropbox/encode_integration/for_eric/public_iclip_cleaned_qc.csv')"
   ]
  },
  {
   "cell_type": "code",
   "execution_count": null,
   "metadata": {
    "collapsed": false
   },
   "outputs": [],
   "source": [
    "filtered_unmerged_public_iclip_manifest = unmerged_public_iclip_manifest[[ \"Input Reads\",\n",
    "                                #'Trimmed bases',\n",
    "                            \"Reads Written\",\n",
    "                            \"repetitive_count\",\n",
    "                            \"Uniquely Mapped Reads\",\n",
    "                            #\"Uniquely mapped reads %\",\n",
    "                            \"Usable Reads\",\n",
    "                            \"Fraction Collapsed\",\n",
    "                            \"Fraction Usable\",\n",
    "                            #\"spot\",\n",
    "                            \"Num Peaks\",\n",
    "                            #\"Passed QC\"\n",
    "                            ]]\n",
    "\n",
    "# HTML(filtered_unmerged_public_iclip_manifest.to_html(formatters={\"Input Reads\" : parsers.commas,\n",
    "#                                      \"Reads Written\" : parsers.commas,\n",
    "#                                      \"repetitive_count\": parsers.commas,\n",
    "#                                      \"Reads after Quality Filtering\" : parsers.commas,\n",
    "#                                      \"Uniquely Mapped Reads\" : parsers.commas,\n",
    "#                                      \"Usable Reads\" : parsers.commas,\n",
    "#                                      \"Num Peaks\": parsers.commas\n",
    "#                                      } ))"
   ]
  },
  {
   "cell_type": "markdown",
   "metadata": {},
   "source": [
    "# Load encode v10 data (legacy code)"
   ]
  },
  {
   "cell_type": "code",
   "execution_count": null,
   "metadata": {
    "collapsed": false
   },
   "outputs": [],
   "source": [
    "analysis_dir = \"/projects/ps-yeolab3/encode/analysis/encode_v10/\"\n",
    "old_encode = parsers.clipseq_metrics(analysis_dir, iclip=True)\n",
    "\n",
    "old_encode[\"Fraction Collapsed\"] = old_encode['Usable Reads'] / old_encode['Uniquely Mapped Reads'].astype(float)\n",
    "old_encode[\"Fraction Usable\"] = old_encode['Usable Reads'] / old_encode['Input Reads'].astype(float)\n",
    "old_encode.to_csv(\"/home/gpratt/Dropbox/EricGabe_ENCODE/old_encode_qc.csv\")"
   ]
  },
  {
   "cell_type": "markdown",
   "metadata": {},
   "source": [
    "# Load Mouse Data"
   ]
  },
  {
   "cell_type": "code",
   "execution_count": 19,
   "metadata": {
    "collapsed": false
   },
   "outputs": [
    {
     "ename": "KeyboardInterrupt",
     "evalue": "",
     "output_type": "error",
     "traceback": [
      "\u001b[0;31m---------------------------------------------------------------------------\u001b[0m",
      "\u001b[0;31mKeyboardInterrupt\u001b[0m                         Traceback (most recent call last)",
      "\u001b[0;32m<ipython-input-19-ce234b7c4c2e>\u001b[0m in \u001b[0;36m<module>\u001b[0;34m()\u001b[0m\n\u001b[1;32m      1\u001b[0m \u001b[0manalysis_dir\u001b[0m \u001b[0;34m=\u001b[0m \u001b[0;34m\"/projects/ps-yeolab3/encode/analysis/encode_mouse_v9\"\u001b[0m\u001b[0;34m\u001b[0m\u001b[0m\n\u001b[0;32m----> 2\u001b[0;31m \u001b[0mencode_mouse\u001b[0m \u001b[0;34m=\u001b[0m \u001b[0mparsers\u001b[0m\u001b[0;34m.\u001b[0m\u001b[0mclipseq_metrics\u001b[0m\u001b[0;34m(\u001b[0m\u001b[0manalysis_dir\u001b[0m\u001b[0;34m,\u001b[0m \u001b[0miclip\u001b[0m\u001b[0;34m=\u001b[0m\u001b[0mTrue\u001b[0m\u001b[0;34m)\u001b[0m\u001b[0;34m\u001b[0m\u001b[0m\n\u001b[0m\u001b[1;32m      3\u001b[0m \u001b[0mfinal_qc_frame\u001b[0m \u001b[0;34m=\u001b[0m \u001b[0mformat_qc_frame\u001b[0m\u001b[0;34m(\u001b[0m\u001b[0mencode_mouse\u001b[0m\u001b[0;34m,\u001b[0m \u001b[0;34m\"/home/gpratt/projects/encode/scripts/encode_mouse_v9.txt\"\u001b[0m\u001b[0;34m)\u001b[0m\u001b[0;34m\u001b[0m\u001b[0m\n\u001b[1;32m      4\u001b[0m \u001b[0mencode_mouse\u001b[0m\u001b[0;34m.\u001b[0m\u001b[0mto_csv\u001b[0m\u001b[0;34m(\u001b[0m\u001b[0;34m\"/home/gpratt/Dropbox/EricGabe_ENCODE/mouse_clip_qc.csv\"\u001b[0m\u001b[0;34m)\u001b[0m\u001b[0;34m\u001b[0m\u001b[0m\n\u001b[1;32m      5\u001b[0m \u001b[0mfinal_qc_frame\u001b[0m\u001b[0;34m.\u001b[0m\u001b[0mto_csv\u001b[0m\u001b[0;34m(\u001b[0m\u001b[0;34m\"/home/gpratt/Dropbox/EricGabe_ENCODE/mouse_master_qc.csv\"\u001b[0m\u001b[0;34m)\u001b[0m\u001b[0;34m\u001b[0m\u001b[0m\n",
      "\u001b[0;32m/home/gpratt/gscripts/gscripts/general/parsers.pyc\u001b[0m in \u001b[0;36mclipseq_metrics\u001b[0;34m(analysis_dir, iclip, num_seps, sep, percent_usable, number_usable, frip)\u001b[0m\n\u001b[1;32m    127\u001b[0m     \u001b[0mrmRep_mapping_df\u001b[0m\u001b[0;34m.\u001b[0m\u001b[0mcolumns\u001b[0m \u001b[0;34m=\u001b[0m \u001b[0;34m[\u001b[0m\u001b[0;34m\"{} rmRep\"\u001b[0m\u001b[0;34m.\u001b[0m\u001b[0mformat\u001b[0m\u001b[0;34m(\u001b[0m\u001b[0mcol\u001b[0m\u001b[0;34m)\u001b[0m \u001b[0;32mfor\u001b[0m \u001b[0mcol\u001b[0m \u001b[0;32min\u001b[0m \u001b[0mrmRep_mapping_df\u001b[0m\u001b[0;34m.\u001b[0m\u001b[0mcolumns\u001b[0m\u001b[0;34m]\u001b[0m\u001b[0;34m\u001b[0m\u001b[0m\n\u001b[1;32m    128\u001b[0m \u001b[0;34m\u001b[0m\u001b[0m\n\u001b[0;32m--> 129\u001b[0;31m     \u001b[0mrm_duped_df\u001b[0m \u001b[0;34m=\u001b[0m \u001b[0mpd\u001b[0m\u001b[0;34m.\u001b[0m\u001b[0mDataFrame\u001b[0m\u001b[0;34m(\u001b[0m\u001b[0;34m{\u001b[0m\u001b[0mname\u001b[0m\u001b[0;34m:\u001b[0m \u001b[0mparse_rm_duped_metrics_file\u001b[0m\u001b[0;34m(\u001b[0m\u001b[0mrm_duped_file\u001b[0m\u001b[0;34m)\u001b[0m \u001b[0;32mfor\u001b[0m \u001b[0mname\u001b[0m\u001b[0;34m,\u001b[0m \u001b[0mrm_duped_file\u001b[0m \u001b[0;32min\u001b[0m \u001b[0mrm_duped_names\u001b[0m\u001b[0;34m.\u001b[0m\u001b[0mitems\u001b[0m\u001b[0;34m(\u001b[0m\u001b[0;34m)\u001b[0m\u001b[0;34m}\u001b[0m\u001b[0;34m)\u001b[0m\u001b[0;34m.\u001b[0m\u001b[0mtranspose\u001b[0m\u001b[0;34m(\u001b[0m\u001b[0;34m)\u001b[0m\u001b[0;34m\u001b[0m\u001b[0m\n\u001b[0m\u001b[1;32m    130\u001b[0m     \u001b[0mspot_df\u001b[0m \u001b[0;34m=\u001b[0m \u001b[0mpd\u001b[0m\u001b[0;34m.\u001b[0m\u001b[0mDataFrame\u001b[0m\u001b[0;34m(\u001b[0m\u001b[0;34m{\u001b[0m\u001b[0mname\u001b[0m\u001b[0;34m:\u001b[0m \u001b[0mparse_peak_metrics\u001b[0m\u001b[0;34m(\u001b[0m\u001b[0mspot_file\u001b[0m\u001b[0;34m)\u001b[0m \u001b[0;32mfor\u001b[0m \u001b[0mname\u001b[0m\u001b[0;34m,\u001b[0m \u001b[0mspot_file\u001b[0m \u001b[0;32min\u001b[0m \u001b[0mspot_names\u001b[0m\u001b[0;34m.\u001b[0m\u001b[0mitems\u001b[0m\u001b[0;34m(\u001b[0m\u001b[0;34m)\u001b[0m\u001b[0;34m}\u001b[0m\u001b[0;34m)\u001b[0m\u001b[0;34m.\u001b[0m\u001b[0mtranspose\u001b[0m\u001b[0;34m(\u001b[0m\u001b[0;34m)\u001b[0m\u001b[0;34m\u001b[0m\u001b[0m\n\u001b[1;32m    131\u001b[0m     \u001b[0mpeaks_df\u001b[0m \u001b[0;34m=\u001b[0m \u001b[0mpd\u001b[0m\u001b[0;34m.\u001b[0m\u001b[0mDataFrame\u001b[0m\u001b[0;34m(\u001b[0m\u001b[0;34m{\u001b[0m\u001b[0mname\u001b[0m\u001b[0;34m:\u001b[0m \u001b[0;34m{\u001b[0m\u001b[0;34m\"Num Peaks\"\u001b[0m\u001b[0;34m:\u001b[0m \u001b[0mlen\u001b[0m\u001b[0;34m(\u001b[0m\u001b[0mpybedtools\u001b[0m\u001b[0;34m.\u001b[0m\u001b[0mBedTool\u001b[0m\u001b[0;34m(\u001b[0m\u001b[0mpeaks_file\u001b[0m\u001b[0;34m)\u001b[0m\u001b[0;34m)\u001b[0m\u001b[0;34m}\u001b[0m \u001b[0;32mfor\u001b[0m \u001b[0mname\u001b[0m\u001b[0;34m,\u001b[0m \u001b[0mpeaks_file\u001b[0m \u001b[0;32min\u001b[0m \u001b[0mpeaks_names\u001b[0m\u001b[0;34m.\u001b[0m\u001b[0mitems\u001b[0m\u001b[0;34m(\u001b[0m\u001b[0;34m)\u001b[0m\u001b[0;34m}\u001b[0m\u001b[0;34m)\u001b[0m\u001b[0;34m.\u001b[0m\u001b[0mtranspose\u001b[0m\u001b[0;34m(\u001b[0m\u001b[0;34m)\u001b[0m\u001b[0;34m\u001b[0m\u001b[0m\n",
      "\u001b[0;32m/home/gpratt/gscripts/gscripts/general/parsers.pyc\u001b[0m in \u001b[0;36m<dictcomp>\u001b[0;34m((name, rm_duped_file))\u001b[0m\n\u001b[1;32m    127\u001b[0m     \u001b[0mrmRep_mapping_df\u001b[0m\u001b[0;34m.\u001b[0m\u001b[0mcolumns\u001b[0m \u001b[0;34m=\u001b[0m \u001b[0;34m[\u001b[0m\u001b[0;34m\"{} rmRep\"\u001b[0m\u001b[0;34m.\u001b[0m\u001b[0mformat\u001b[0m\u001b[0;34m(\u001b[0m\u001b[0mcol\u001b[0m\u001b[0;34m)\u001b[0m \u001b[0;32mfor\u001b[0m \u001b[0mcol\u001b[0m \u001b[0;32min\u001b[0m \u001b[0mrmRep_mapping_df\u001b[0m\u001b[0;34m.\u001b[0m\u001b[0mcolumns\u001b[0m\u001b[0;34m]\u001b[0m\u001b[0;34m\u001b[0m\u001b[0m\n\u001b[1;32m    128\u001b[0m \u001b[0;34m\u001b[0m\u001b[0m\n\u001b[0;32m--> 129\u001b[0;31m     \u001b[0mrm_duped_df\u001b[0m \u001b[0;34m=\u001b[0m \u001b[0mpd\u001b[0m\u001b[0;34m.\u001b[0m\u001b[0mDataFrame\u001b[0m\u001b[0;34m(\u001b[0m\u001b[0;34m{\u001b[0m\u001b[0mname\u001b[0m\u001b[0;34m:\u001b[0m \u001b[0mparse_rm_duped_metrics_file\u001b[0m\u001b[0;34m(\u001b[0m\u001b[0mrm_duped_file\u001b[0m\u001b[0;34m)\u001b[0m \u001b[0;32mfor\u001b[0m \u001b[0mname\u001b[0m\u001b[0;34m,\u001b[0m \u001b[0mrm_duped_file\u001b[0m \u001b[0;32min\u001b[0m \u001b[0mrm_duped_names\u001b[0m\u001b[0;34m.\u001b[0m\u001b[0mitems\u001b[0m\u001b[0;34m(\u001b[0m\u001b[0;34m)\u001b[0m\u001b[0;34m}\u001b[0m\u001b[0;34m)\u001b[0m\u001b[0;34m.\u001b[0m\u001b[0mtranspose\u001b[0m\u001b[0;34m(\u001b[0m\u001b[0;34m)\u001b[0m\u001b[0;34m\u001b[0m\u001b[0m\n\u001b[0m\u001b[1;32m    130\u001b[0m     \u001b[0mspot_df\u001b[0m \u001b[0;34m=\u001b[0m \u001b[0mpd\u001b[0m\u001b[0;34m.\u001b[0m\u001b[0mDataFrame\u001b[0m\u001b[0;34m(\u001b[0m\u001b[0;34m{\u001b[0m\u001b[0mname\u001b[0m\u001b[0;34m:\u001b[0m \u001b[0mparse_peak_metrics\u001b[0m\u001b[0;34m(\u001b[0m\u001b[0mspot_file\u001b[0m\u001b[0;34m)\u001b[0m \u001b[0;32mfor\u001b[0m \u001b[0mname\u001b[0m\u001b[0;34m,\u001b[0m \u001b[0mspot_file\u001b[0m \u001b[0;32min\u001b[0m \u001b[0mspot_names\u001b[0m\u001b[0;34m.\u001b[0m\u001b[0mitems\u001b[0m\u001b[0;34m(\u001b[0m\u001b[0;34m)\u001b[0m\u001b[0;34m}\u001b[0m\u001b[0;34m)\u001b[0m\u001b[0;34m.\u001b[0m\u001b[0mtranspose\u001b[0m\u001b[0;34m(\u001b[0m\u001b[0;34m)\u001b[0m\u001b[0;34m\u001b[0m\u001b[0m\n\u001b[1;32m    131\u001b[0m     \u001b[0mpeaks_df\u001b[0m \u001b[0;34m=\u001b[0m \u001b[0mpd\u001b[0m\u001b[0;34m.\u001b[0m\u001b[0mDataFrame\u001b[0m\u001b[0;34m(\u001b[0m\u001b[0;34m{\u001b[0m\u001b[0mname\u001b[0m\u001b[0;34m:\u001b[0m \u001b[0;34m{\u001b[0m\u001b[0;34m\"Num Peaks\"\u001b[0m\u001b[0;34m:\u001b[0m \u001b[0mlen\u001b[0m\u001b[0;34m(\u001b[0m\u001b[0mpybedtools\u001b[0m\u001b[0;34m.\u001b[0m\u001b[0mBedTool\u001b[0m\u001b[0;34m(\u001b[0m\u001b[0mpeaks_file\u001b[0m\u001b[0;34m)\u001b[0m\u001b[0;34m)\u001b[0m\u001b[0;34m}\u001b[0m \u001b[0;32mfor\u001b[0m \u001b[0mname\u001b[0m\u001b[0;34m,\u001b[0m \u001b[0mpeaks_file\u001b[0m \u001b[0;32min\u001b[0m \u001b[0mpeaks_names\u001b[0m\u001b[0;34m.\u001b[0m\u001b[0mitems\u001b[0m\u001b[0;34m(\u001b[0m\u001b[0;34m)\u001b[0m\u001b[0;34m}\u001b[0m\u001b[0;34m)\u001b[0m\u001b[0;34m.\u001b[0m\u001b[0mtranspose\u001b[0m\u001b[0;34m(\u001b[0m\u001b[0;34m)\u001b[0m\u001b[0;34m\u001b[0m\u001b[0m\n",
      "\u001b[0;32m/home/gpratt/gscripts/gscripts/general/parsers.pyc\u001b[0m in \u001b[0;36mparse_rm_duped_metrics_file\u001b[0;34m(rmDup_file)\u001b[0m\n\u001b[1;32m    214\u001b[0m         \u001b[0mdf\u001b[0m \u001b[0;34m=\u001b[0m \u001b[0mpd\u001b[0m\u001b[0;34m.\u001b[0m\u001b[0mread_csv\u001b[0m\u001b[0;34m(\u001b[0m\u001b[0mrmDup_file\u001b[0m\u001b[0;34m,\u001b[0m \u001b[0msep\u001b[0m\u001b[0;34m=\u001b[0m\u001b[0;34m\"\\t\"\u001b[0m\u001b[0;34m)\u001b[0m\u001b[0;34m\u001b[0m\u001b[0m\n\u001b[1;32m    215\u001b[0m \u001b[0;34m\u001b[0m\u001b[0m\n\u001b[0;32m--> 216\u001b[0;31m         return {\"total_count\": sum(df.total_count),\n\u001b[0m\u001b[1;32m    217\u001b[0m                     \u001b[0;34m\"removed_count\"\u001b[0m\u001b[0;34m:\u001b[0m \u001b[0msum\u001b[0m\u001b[0;34m(\u001b[0m\u001b[0mdf\u001b[0m\u001b[0;34m.\u001b[0m\u001b[0mremoved_count\u001b[0m\u001b[0;34m)\u001b[0m\u001b[0;34m,\u001b[0m\u001b[0;34m\u001b[0m\u001b[0m\n\u001b[1;32m    218\u001b[0m                     \"Usable Reads\": sum(df.total_count) - sum(df.removed_count)}\n",
      "\u001b[0;31mKeyboardInterrupt\u001b[0m: "
     ]
    }
   ],
   "source": [
    "analysis_dir = \"/projects/ps-yeolab3/encode/analysis/encode_mouse_v9\"\n",
    "encode_mouse = parsers.clipseq_metrics(analysis_dir, iclip=True)\n",
    "final_qc_frame = format_qc_frame(encode_mouse, \"/home/gpratt/projects/encode/scripts/encode_mouse_v9.txt\")\n",
    "encode_mouse.to_csv(\"/home/gpratt/Dropbox/EricGabe_ENCODE/mouse_clip_qc.csv\")\n",
    "final_qc_frame.to_csv(\"/home/gpratt/Dropbox/EricGabe_ENCODE/mouse_master_qc.csv\")"
   ]
  },
  {
   "cell_type": "code",
   "execution_count": 22,
   "metadata": {
    "collapsed": true
   },
   "outputs": [],
   "source": [
    "filtered_final_qc_frame = final_qc_frame[[ \"Input Reads\", \"Reads Written\", \"repetitive_count\", \"Reads Passing Quality Filter\",\n",
    "                                          \"Uniquely Mapped Reads\", \"Uniquely mapped reads %\", 'Number of reads mapped to too many loci',\n",
    "                                          '% of reads unmapped: too short', '% of reads mapped to too many loci', \"Usable Reads\",\n",
    "                                          \"Fraction Collapsed\", \"Fraction Usable\", \"Num Peaks\",]]\n",
    "\n",
    "filtered_final_qc_frame.to_csv(\"/home/gpratt/Dropbox/EricGabe_ENCODE/mouse_clip_qc_filtered.csv\")"
   ]
  },
  {
   "cell_type": "code",
   "execution_count": null,
   "metadata": {
    "collapsed": true
   },
   "outputs": [],
   "source": [
    "filtered_final_qc_frame = final_qc_frame[[\"Hiseq_file_name\", \"ENCODE_ID\", \"RBP\", \"Input Reads\",\n",
    "                                #'Trimmed bases',\n",
    "                            \"Reads Written\",\n",
    "                            \"repetitive_count\",\n",
    "                            \"Uniquely Mapped Reads\",\n",
    "                            \"Uniquely mapped reads %\",\n",
    "                            \"Usable Reads\",\n",
    "                            \"Fraction Collapsed\",\n",
    "                            \"Fraction Usable\",\n",
    "                            #\"spot\",\n",
    "                            \"Num Peaks\",\n",
    "                            #\"Passed QC\"\n",
    "                            ]]\n",
    "\n",
    "#filtered_final_qc_frame = filtered_final_qc_frame.astype(float)\n",
    "\n",
    "HTML(filtered_final_qc_frame.to_html(formatters={\"Input Reads\" : parsers.commas,\n",
    "                                     \"Reads Written\" : parsers.commas,\n",
    "                                     \"repetitive_count\": parsers.commas,\n",
    "                                     \"Reads after Quality Filtering\" : parsers.commas,\n",
    "                                     \"Uniquely Mapped Reads\" : parsers.commas,\n",
    "                                     \"Usable Reads\" : parsers.commas,\n",
    "                                     \"Num Peaks\": parsers.commas\n",
    "                                     } ))"
   ]
  },
  {
   "cell_type": "code",
   "execution_count": null,
   "metadata": {
    "collapsed": true
   },
   "outputs": [],
   "source": [
    "filtered_final_qc_frame.to_csv(\"/home/gpratt/Dropbox/Rbfox3/qc_table.csv\")"
   ]
  },
  {
   "cell_type": "code",
   "execution_count": null,
   "metadata": {
    "collapsed": true
   },
   "outputs": [],
   "source": [
    "encode_qc = parsers.clipseq_metrics(\"/projects/ps-yeolab3/encode/analysis/singapore_clip/\", iclip=True)\n",
    "final_qc_frame = format_qc_frame(encode_qc, \"/home/gpratt/projects/encode/scripts/encode_GRCh38_v1.txt\")\n",
    "encode_qc.to_csv(\"/home/gpratt/Dropbox/EricGabe_ENCODE/singapore_clip_qc.csv\")\n",
    "final_qc_frame.to_csv(\"/home/gpratt/Dropbox/EricGabe_ENCODE/singapore_clip_master_qc.csv\")"
   ]
  },
  {
   "cell_type": "code",
   "execution_count": null,
   "metadata": {
    "collapsed": true
   },
   "outputs": [],
   "source": [
    "filtered_final_qc_frame = final_qc_frame[[ \"Input Reads\", \"Reads Written\", \"repetitive_count\", \"Reads Passing Quality Filter\",\n",
    "                                          \"Uniquely Mapped Reads\", \"Uniquely mapped reads %\", 'Number of reads mapped to too many loci',\n",
    "                                          '% of reads unmapped: too short', '% of reads mapped to too many loci', \"Usable Reads\",\n",
    "                                          \"Fraction Collapsed\", \"Fraction Usable\", \"Num Peaks\",]]"
   ]
  },
  {
   "cell_type": "code",
   "execution_count": null,
   "metadata": {
    "collapsed": false
   },
   "outputs": [],
   "source": [
    "filtered_final_qc_frame.to_csv(\"/home/gpratt/Dropbox/EricGabe_ENCODE/singapore_clip_master_qc.csv\")"
   ]
  },
  {
   "cell_type": "code",
   "execution_count": null,
   "metadata": {
    "collapsed": false
   },
   "outputs": [],
   "source": [
    "filtered_final_qc_frame"
   ]
  },
  {
   "cell_type": "code",
   "execution_count": null,
   "metadata": {
    "collapsed": true
   },
   "outputs": [],
   "source": []
  }
 ],
 "metadata": {
  "kernelspec": {
   "display_name": "Python 2",
   "language": "python",
   "name": "python2"
  },
  "language_info": {
   "codemirror_mode": {
    "name": "ipython",
    "version": 2
   },
   "file_extension": ".py",
   "mimetype": "text/x-python",
   "name": "python",
   "nbconvert_exporter": "python",
   "pygments_lexer": "ipython2",
   "version": "2.7.12"
  }
 },
 "nbformat": 4,
 "nbformat_minor": 0
}
