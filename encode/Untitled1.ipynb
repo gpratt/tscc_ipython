{
 "cells": [
  {
   "cell_type": "code",
   "execution_count": 1,
   "metadata": {
    "collapsed": true
   },
   "outputs": [],
   "source": [
    "from IPython.core.display import HTML"
   ]
  },
  {
   "cell_type": "code",
   "execution_count": 2,
   "metadata": {
    "collapsed": false
   },
   "outputs": [
    {
     "data": {
      "text/html": [
       "<HTML><HEAD><TITLE>Homer de novo Motif Results</TITLE></HEAD>\n",
       "<BODY>\n",
       "<H1>Homer <i>de novo</i> Motif Results</H1>\n",
       "<A HREF=\"knownResults.html\">Known Motif Enrichment Results</A><BR/>\n",
       "<A HREF=\"geneOntology.html\">Gene Ontology Enrichment Results</A><BR/>\n",
       "If Homer is having trouble matching a motif to a known motif, try copy/pasting the matrix file into \n",
       "<A HREF=\"http://www.benoslab.pitt.edu/stamp/\">STAMP</A><BR/>\n",
       "More information on motif finding results: <A HREF=\"http://biowhat.ucsd.edu/homer/\">HOMER</A>\n",
       " | <A HREF=\"http://biowhat.ucsd.edu/homer/motif/index.html\">Description of Results</A>\n",
       " | <A HREF=\"http://biowhat.ucsd.edu/homer/motif/practicalTips.html\">Tips</A>\n",
       "<BR/>\n",
       "Total target sequences = 90429<BR/>\n",
       "Total background sequences = 78042<BR/>\n",
       "<FONT color=\"red\">* - possible false positive</FONT><BR/>\n",
       "<TABLE border=\"1\" cellpading=\"0\" cellspacing=\"0\">\n",
       "<TR><TD>Rank</TD><TD>Motif</TD><TD>P-value</TD><TD>log P-pvalue</TD><TD>% of Targets</TD><TD>% of Background</TD>\n",
       "<TD>STD(Bg STD)</TD>\n",
       "<TD>Best Match/Details</TD><TD>Motif File</TD></TR>\n",
       "<TR><TD>1\n",
       "</TD><TD><IMG src=\"homerResults/motif1.logo.png\"/></TD><TD>1e-1154</TD><TD>-2.659e+03</TD><TD>49.70%</TD><TD>32.24%</TD><TD>11.5bp (15.4bp)</TD><TD>hsa-miR-3607-3p MIMAT0017985 Homo sapiens miR-3607-3p Targets (miRBase)<BR/><A target=\"_blank\" HREF=\"homerResults/motif1.info.html\">More Information</A> | <A target=\"blank\" HREF=\"homerResults/motif1.similar.html\">Similar Motifs Found</A></TD><TD><A target=\"_blank\" HREF=\"homerResults/motif1.motif\">motif file (matrix)</A></TD></TR>\n",
       "<TR><TD>2\n",
       "</TD><TD><IMG src=\"homerResults/motif2.logo.png\"/></TD><TD>1e-310</TD><TD>-7.142e+02</TD><TD>8.33%</TD><TD>3.94%</TD><TD>10.8bp (16.3bp)</TD><TD>DAZAP1_ENSG00000071626_M013_0.6<BR/><A target=\"_blank\" HREF=\"homerResults/motif2.info.html\">More Information</A> | <A target=\"blank\" HREF=\"homerResults/motif2.similar.html\">Similar Motifs Found</A></TD><TD><A target=\"_blank\" HREF=\"homerResults/motif2.motif\">motif file (matrix)</A></TD></TR>\n",
       "<TR><TD>3\n",
       "</TD><TD><IMG src=\"homerResults/motif3.logo.png\"/></TD><TD>1e-140</TD><TD>-3.225e+02</TD><TD>13.65%</TD><TD>9.69%</TD><TD>12.4bp (15.3bp)</TD><TD>PCBP4_ENSG00000090097_M188_0.6<BR/><A target=\"_blank\" HREF=\"homerResults/motif3.info.html\">More Information</A> | <A target=\"blank\" HREF=\"homerResults/motif3.similar.html\">Similar Motifs Found</A></TD><TD><A target=\"_blank\" HREF=\"homerResults/motif3.motif\">motif file (matrix)</A></TD></TR>\n",
       "<TR><TD>4\n",
       "</TD><TD><IMG src=\"homerResults/motif4.logo.png\"/></TD><TD>1e-53</TD><TD>-1.221e+02</TD><TD>6.77%</TD><TD>5.00%</TD><TD>12.5bp (13.7bp)</TD><TD>PABPN1_ENSG00000100836_M148_0.6<BR/><A target=\"_blank\" HREF=\"homerResults/motif4.info.html\">More Information</A> | <A target=\"blank\" HREF=\"homerResults/motif4.similar.html\">Similar Motifs Found</A></TD><TD><A target=\"_blank\" HREF=\"homerResults/motif4.motif\">motif file (matrix)</A></TD></TR>\n",
       "<TR><TD>5\n",
       "</TD><TD><IMG src=\"homerResults/motif5.logo.png\"/></TD><TD>1e-20</TD><TD>-4.808e+01</TD><TD>2.16%</TD><TD>1.54%</TD><TD>16.5bp (12.6bp)</TD><TD>hsa-miR-192* MIMAT0004543 Homo sapiens miR-192* Targets (miRBase)<BR/><A target=\"_blank\" HREF=\"homerResults/motif5.info.html\">More Information</A> | <A target=\"blank\" HREF=\"homerResults/motif5.similar.html\">Similar Motifs Found</A></TD><TD><A target=\"_blank\" HREF=\"homerResults/motif5.motif\">motif file (matrix)</A></TD></TR>\n",
       "<TR><TD>6\n",
       "</TD><TD><IMG src=\"homerResults/motif6.logo.png\"/></TD><TD>1e-17</TD><TD>-4.076e+01</TD><TD>3.24%</TD><TD>2.53%</TD><TD>12.4bp (15.5bp)</TD><TD>hsa-miR-452 MIMAT0001635 Homo sapiens miR-452 Targets (miRBase)<BR/><A target=\"_blank\" HREF=\"homerResults/motif6.info.html\">More Information</A> | <A target=\"blank\" HREF=\"homerResults/motif6.similar.html\">Similar Motifs Found</A></TD><TD><A target=\"_blank\" HREF=\"homerResults/motif6.motif\">motif file (matrix)</A></TD></TR>\n",
       "</TABLE>\n",
       "<P></P>\n",
       "</BODY></HTML>\n"
      ],
      "text/plain": [
       "<IPython.core.display.HTML object>"
      ]
     },
     "execution_count": 2,
     "metadata": {},
     "output_type": "execute_result"
    }
   ],
   "source": [
    "HTML(\"/home/gpratt/projects/encode/analysis/encode_v8/homer/U2AF1_SY_1_U2AF1.merged.r2.peaks.bed/all/homerResults.html\")"
   ]
  },
  {
   "cell_type": "code",
   "execution_count": 11,
   "metadata": {
    "collapsed": true
   },
   "outputs": [],
   "source": [
    "class foo():\n",
    "    pass\n",
    "#     def __len__(self):\n",
    "#         return 5\n",
    "\n",
    "bar = foo()"
   ]
  },
  {
   "cell_type": "code",
   "execution_count": 2,
   "metadata": {
    "collapsed": true
   },
   "outputs": [],
   "source": [
    "my_string = \"fasdfsafa\""
   ]
  },
  {
   "cell_type": "code",
   "execution_count": 3,
   "metadata": {
    "collapsed": false
   },
   "outputs": [
    {
     "data": {
      "text/plain": [
       "9"
      ]
     },
     "execution_count": 3,
     "metadata": {},
     "output_type": "execute_result"
    }
   ],
   "source": [
    "len(my_string)"
   ]
  },
  {
   "cell_type": "code",
   "execution_count": 9,
   "metadata": {
    "collapsed": true
   },
   "outputs": [],
   "source": []
  },
  {
   "cell_type": "code",
   "execution_count": null,
   "metadata": {
    "collapsed": true
   },
   "outputs": [],
   "source": []
  },
  {
   "cell_type": "code",
   "execution_count": 12,
   "metadata": {
    "collapsed": false
   },
   "outputs": [
    {
     "ename": "AttributeError",
     "evalue": "foo instance has no attribute '__len__'",
     "output_type": "error",
     "traceback": [
      "\u001b[1;31m---------------------------------------------------------------------------\u001b[0m",
      "\u001b[1;31mAttributeError\u001b[0m                            Traceback (most recent call last)",
      "\u001b[1;32m<ipython-input-12-4fd2c76d76cf>\u001b[0m in \u001b[0;36m<module>\u001b[1;34m()\u001b[0m\n\u001b[1;32m----> 1\u001b[1;33m \u001b[0mlen\u001b[0m\u001b[1;33m(\u001b[0m\u001b[0mbar\u001b[0m\u001b[1;33m)\u001b[0m\u001b[1;33m\u001b[0m\u001b[0m\n\u001b[0m",
      "\u001b[1;31mAttributeError\u001b[0m: foo instance has no attribute '__len__'"
     ]
    }
   ],
   "source": [
    "len(bar)"
   ]
  },
  {
   "cell_type": "code",
   "execution_count": null,
   "metadata": {
    "collapsed": true
   },
   "outputs": [],
   "source": []
  }
 ],
 "metadata": {
  "kernelspec": {
   "display_name": "Python 2",
   "language": "python",
   "name": "python2"
  },
  "language_info": {
   "codemirror_mode": {
    "name": "ipython",
    "version": 2
   },
   "file_extension": ".py",
   "mimetype": "text/x-python",
   "name": "python",
   "nbconvert_exporter": "python",
   "pygments_lexer": "ipython2",
   "version": "2.7.11"
  }
 },
 "nbformat": 4,
 "nbformat_minor": 0
}
