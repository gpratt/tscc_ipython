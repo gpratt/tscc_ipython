{
 "cells": [
  {
   "cell_type": "code",
   "execution_count": 1,
   "metadata": {
    "collapsed": false
   },
   "outputs": [
    {
     "name": "stderr",
     "output_type": "stream",
     "text": [
      "/home/gpratt/anaconda/lib/python2.7/site-packages/IPython/html.py:14: ShimWarning: The `IPython.html` package has been deprecated. You should import from `notebook` instead. `IPython.html.widgets` has moved to `ipywidgets`.\n",
      "  \"`IPython.html.widgets` has moved to `ipywidgets`.\", ShimWarning)\n"
     ]
    }
   ],
   "source": [
    "%matplotlib inline \n",
    "\n",
    "import pandas as pd\n",
    "import functools\n",
    "import os\n",
    "import pybedtools\n",
    "from IPython.core.display import HTML\n",
    "import itertools\n",
    "import seaborn as sns\n",
    "from collections import defaultdict"
   ]
  },
  {
   "cell_type": "code",
   "execution_count": 2,
   "metadata": {
    "collapsed": true
   },
   "outputs": [],
   "source": [
    "submitted_datasets = pd.read_table(\"/home/elvannostrand/data/clip/CLIPseq_analysis/ENCODEclip_20160718/ALLDATASETS_submittedonly.txt\")"
   ]
  },
  {
   "cell_type": "code",
   "execution_count": 3,
   "metadata": {
    "collapsed": true
   },
   "outputs": [],
   "source": [
    "def get_gps_peak(fn):\n",
    "    gps_dir = \"/projects/ps-yeolab3/encode/analysis/gps_peaks\"\n",
    "    fn = os.path.basename(fn)\n",
    "    basename = fn.split(\".\")[0]\n",
    "    \n",
    "    fn = os.path.join(gps_dir, \"{}/{}_outputs/{}_2_GEM_events.bed\".format(basename, basename, basename))\n",
    "    return fn"
   ]
  },
  {
   "cell_type": "code",
   "execution_count": 4,
   "metadata": {
    "collapsed": true
   },
   "outputs": [],
   "source": [
    "submitted_datasets['gps_rep1'] = submitted_datasets.CLIP_rep1.apply(get_gps_peak)\n",
    "submitted_datasets['gps_rep2'] = submitted_datasets.CLIP_rep2.apply(get_gps_peak)"
   ]
  },
  {
   "cell_type": "code",
   "execution_count": 5,
   "metadata": {
    "collapsed": true
   },
   "outputs": [],
   "source": [
    "def get_input_norm_peaks(fn, rep, run_dir):\n",
    "    uid = \"{}_{}\".format(fn, rep)\n",
    "    \n",
    "    return os.path.join(run_dir, \"{}.basedon_{}.peaks.l2inputnormnew.bed.compressed.bed\".format(uid, uid))"
   ]
  },
  {
   "cell_type": "code",
   "execution_count": 6,
   "metadata": {
    "collapsed": true
   },
   "outputs": [],
   "source": [
    "clip_rep1 = functools.partial(get_input_norm_peaks, rep=\"01\", run_dir=\"/home/elvannostrand/data/clip/CLIPseq_analysis/ENCODEclip_20160718\")\n",
    "clip_rep2 = functools.partial(get_input_norm_peaks, rep=\"02\", run_dir=\"/home/elvannostrand/data/clip/CLIPseq_analysis/ENCODEclip_20160718\")\n",
    "submitted_datasets['old_clip_rep1'] = submitted_datasets.uID.apply(clip_rep1)\n",
    "submitted_datasets['old_clip_rep2'] = submitted_datasets.uID.apply(clip_rep2)\n",
    "\n",
    "clip_rep1 = functools.partial(get_input_norm_peaks, rep=\"01\", run_dir=\"/home/elvannostrand/data/clip/CLIPseq_analysis/ENCODE_CLIPperv2_20161017\")\n",
    "clip_rep2 = functools.partial(get_input_norm_peaks, rep=\"02\", run_dir=\"/home/elvannostrand/data/clip/CLIPseq_analysis/ENCODE_CLIPperv2_20161017\")\n",
    "submitted_datasets['new_clip_rep1'] = submitted_datasets.uID.apply(clip_rep1)\n",
    "submitted_datasets['new_clip_rep2'] = submitted_datasets.uID.apply(clip_rep2)"
   ]
  },
  {
   "cell_type": "code",
   "execution_count": 7,
   "metadata": {
    "collapsed": true
   },
   "outputs": [],
   "source": [
    "def sort_and_return_peaks(fn):\n",
    "    out_dir = \"/projects/ps-yeolab3/encode/analysis/gps_peaks\"\n",
    "    bedtool = pybedtools.BedTool(fn)\n",
    "    out_fn = os.path.join(out_dir, os.path.basename(fn))\n",
    "    if os.path.exists(out_fn):\n",
    "        return out_fn\n",
    "    bedtool = bedtool.sort().saveas(out_fn)\n",
    "    return bedtool.fn"
   ]
  },
  {
   "cell_type": "code",
   "execution_count": 8,
   "metadata": {
    "collapsed": false
   },
   "outputs": [
    {
     "name": "stdout",
     "output_type": "stream",
     "text": [
      "14\n"
     ]
    }
   ],
   "source": [
    "processed_peaks = submitted_datasets.copy()\n",
    "processed_peaks.index = pd.MultiIndex.from_tuples([row.values for name, row in processed_peaks[['uID', 'RBP', \"Cell line\"]].iterrows()])\n",
    "processed_peaks = processed_peaks.drop([\"CLIP_rep1\", \"CLIP_rep2\", \"INPUT\", \"uID\", \"RBP\", \"Cell line\"], axis=1)\n",
    "\n",
    "#How many peak files don't exist\n",
    "print len(processed_peaks[~processed_peaks.applymap(os.path.exists).apply(all, axis=1)])\n",
    "\n",
    "#Filter out peak files that don't exist\n",
    "processed_peaks = processed_peaks[processed_peaks.applymap(os.path.exists).apply(all, axis=1)]\n",
    "processed_peaks.columns = pd.MultiIndex.from_tuples([(\"_\".join(item.split(\"_\")[:-1]), item.split(\"_\")[-1]) for item in processed_peaks.columns])\n",
    "processed_peaks = processed_peaks.stack()\n",
    "#processed_peaks = processed_peaks[:15]\n",
    "processed_peaks.gps = processed_peaks.gps.apply(sort_and_return_peaks)"
   ]
  },
  {
   "cell_type": "markdown",
   "metadata": {},
   "source": [
    "# Does RBFOX2 have the known motif?"
   ]
  },
  {
   "cell_type": "code",
   "execution_count": 9,
   "metadata": {
    "collapsed": false
   },
   "outputs": [],
   "source": [
    "GCATG_hg19_motif = pybedtools.BedTool(\"/projects/ps-yeolab3/oolite_backup/gpratt/projects/pipeline_analysis/motifs/hg19/motif_GCATG.BED\")\n",
    "\n",
    "def calc_percent_motif_in_peaks(peaks):\n",
    "    peaks_with_motif = peaks.intersect(GCATG_hg19_motif, u=True)\n",
    "    return len(peaks), len(peaks_with_motif), len(peaks_with_motif) / (len(peaks) * 1.0) "
   ]
  },
  {
   "cell_type": "code",
   "execution_count": 10,
   "metadata": {
    "collapsed": false
   },
   "outputs": [],
   "source": [
    "rbfox2 = processed_peaks.xs(\"RBFOX2\", level=1)"
   ]
  },
  {
   "cell_type": "code",
   "execution_count": 11,
   "metadata": {
    "collapsed": false
   },
   "outputs": [
    {
     "ename": "NameError",
     "evalue": "name 'bedtool' is not defined",
     "output_type": "error",
     "traceback": [
      "\u001b[1;31m---------------------------------------------------------------------------\u001b[0m",
      "\u001b[1;31mNameError\u001b[0m                                 Traceback (most recent call last)",
      "\u001b[1;32m<ipython-input-11-3fd2f7da7d4e>\u001b[0m in \u001b[0;36m<module>\u001b[1;34m()\u001b[0m\n\u001b[1;32m----> 1\u001b[1;33m \u001b[0mbedtool\u001b[0m\u001b[1;33m.\u001b[0m\u001b[0mfn\u001b[0m\u001b[1;33m\u001b[0m\u001b[0m\n\u001b[0m",
      "\u001b[1;31mNameError\u001b[0m: name 'bedtool' is not defined"
     ]
    }
   ],
   "source": [
    "bedtool.fn"
   ]
  },
  {
   "cell_type": "code",
   "execution_count": null,
   "metadata": {
    "collapsed": false
   },
   "outputs": [],
   "source": [
    "for fn in rbfox2.gps:\n",
    "    bedtool = pybedtools.BedTool(fn)\n",
    "    print calc_percent_motif_in_peaks(bedtool)"
   ]
  },
  {
   "cell_type": "markdown",
   "metadata": {},
   "source": [
    "# Does SLBP Bind Histones"
   ]
  },
  {
   "cell_type": "code",
   "execution_count": null,
   "metadata": {
    "collapsed": true
   },
   "outputs": [],
   "source": [
    "slbp = processed_peaks.xs(\"SLBP\", level=1)"
   ]
  },
  {
   "cell_type": "code",
   "execution_count": null,
   "metadata": {
    "collapsed": true
   },
   "outputs": [],
   "source": [
    "hist_genes = pd.read_table(\"/home/elvannostrand/data/clip/CLIPseq_analysis/RNA_type_analysis/genelists.HISTall\", header=None,\n",
    "              )\n",
    "genes = pybedtools.BedTool(\"/home/gpratt/clipper/clipper/data/regions/hg19_v19_genes.bed\")\n",
    "hist_genes_bed = genes.filter(lambda x: x.name in hist_genes[0].values).saveas()\n",
    "\n",
    "def calc_percent_in_hist(peaks):\n",
    "    peaks_with_motif = peaks.intersect(hist_genes_bed, u=True)\n",
    "    return len(peaks), len(peaks_with_motif), len(peaks_with_motif) / (len(peaks) * 1.0) "
   ]
  },
  {
   "cell_type": "code",
   "execution_count": null,
   "metadata": {
    "collapsed": false
   },
   "outputs": [],
   "source": [
    "for fn in slbp.gps:\n",
    "    bedtool = pybedtools.BedTool(fn)\n",
    "    print calc_percent_in_hist(bedtool)"
   ]
  },
  {
   "cell_type": "markdown",
   "metadata": {},
   "source": [
    "# Does FXR1 and FXR2 Bind only CDS"
   ]
  },
  {
   "cell_type": "code",
   "execution_count": null,
   "metadata": {
    "collapsed": true
   },
   "outputs": [],
   "source": [
    "from clipper.src import CLIP_analysis"
   ]
  },
  {
   "cell_type": "code",
   "execution_count": null,
   "metadata": {
    "collapsed": true
   },
   "outputs": [],
   "source": [
    "fxr1 = processed_peaks.xs(\"FXR1\", level=1)"
   ]
  },
  {
   "cell_type": "code",
   "execution_count": null,
   "metadata": {
    "collapsed": false
   },
   "outputs": [],
   "source": [
    "for fn in fxr1.gps:\n",
    "\n",
    "    result = CLIP_analysis.assign_to_regions(pybedtools.BedTool(fn), assigned_dir=\".\", species=\"hg19\", nrand=0)\n",
    "\n",
    "    for x in result:\n",
    "        print x, len(result[x]['real'])"
   ]
  },
  {
   "cell_type": "code",
   "execution_count": null,
   "metadata": {
    "collapsed": false
   },
   "outputs": [],
   "source": [
    "fmr1 = processed_peaks.xs(\"FMR1\", level=1)\n",
    "\n",
    "for fn in fmr1.gps:\n",
    "\n",
    "    result = CLIP_analysis.assign_to_regions(pybedtools.BedTool(fn), assigned_dir=\".\", species=\"hg19\", nrand=0)\n",
    "\n",
    "    for x in result:\n",
    "        print x, len(result[x]['real'])"
   ]
  },
  {
   "cell_type": "code",
   "execution_count": null,
   "metadata": {
    "collapsed": false
   },
   "outputs": [],
   "source": [
    "fxr2 = processed_peaks.xs(\"FXR2\", level=1)\n",
    "\n",
    "for fn in fxr2.gps:\n",
    "\n",
    "    result = CLIP_analysis.assign_to_regions(pybedtools.BedTool(fn), assigned_dir=\".\", species=\"hg19\", nrand=0)\n",
    "\n",
    "    for x in result:\n",
    "        print x, len(result[x]['real'])"
   ]
  },
  {
   "cell_type": "markdown",
   "metadata": {},
   "source": [
    "# Do the Splicing Factors overlap the correct 3' or 5' splice site"
   ]
  },
  {
   "cell_type": "code",
   "execution_count": null,
   "metadata": {
    "collapsed": true
   },
   "outputs": [],
   "source": [
    "five_prime_ends = pybedtools.BedTool(\"/home/gpratt/clipper/clipper/data/regions/hg19_v19_five_prime_ends.bed\")\n",
    "three_prime_ends = pybedtools.BedTool(\"/home/gpratt/clipper/clipper/data/regions/hg19_v19_three_prime_ends.bed\")\n",
    "\n",
    "def calc_percent_3_prime_overlap(peaks):\n",
    "    peaks_with_motif = peaks.intersect(three_prime_ends, u=True)\n",
    "    return len(peaks), len(peaks_with_motif), len(peaks_with_motif) / (len(peaks) * 1.0) \n",
    "\n",
    "def calc_percent_5_prime_overlap(peaks):\n",
    "    peaks_with_motif = peaks.intersect(five_prime_ends, u=True)\n",
    "    return len(peaks), len(peaks_with_motif), len(peaks_with_motif) / (len(peaks) * 1.0) "
   ]
  },
  {
   "cell_type": "code",
   "execution_count": null,
   "metadata": {
    "collapsed": true
   },
   "outputs": [],
   "source": [
    "u2af2 = processed_peaks.xs(\"U2AF2\", level=1)\n"
   ]
  },
  {
   "cell_type": "code",
   "execution_count": null,
   "metadata": {
    "collapsed": false
   },
   "outputs": [],
   "source": [
    "u2af2 = processed_peaks.xs(\"U2AF2\", level=1)\n",
    "\n",
    "for fn in u2af2.gps:\n",
    "    bedtool = pybedtools.BedTool(fn)\n",
    "    print \"3 prime\", calc_percent_3_prime_overlap(bedtool)\n",
    "    print \"5 prime\", calc_percent_5_prime_overlap(bedtool)"
   ]
  },
  {
   "cell_type": "code",
   "execution_count": null,
   "metadata": {
    "collapsed": false
   },
   "outputs": [],
   "source": [
    "u2af1 = processed_peaks.xs(\"U2AF1\", level=1)\n",
    "\n",
    "for fn in u2af1.gps:\n",
    "    bedtool = pybedtools.BedTool(fn)\n",
    "    print \"3 prime\", calc_percent_3_prime_overlap(bedtool)\n",
    "    print \"5 prime\", calc_percent_5_prime_overlap(bedtool)"
   ]
  },
  {
   "cell_type": "code",
   "execution_count": null,
   "metadata": {
    "collapsed": false
   },
   "outputs": [],
   "source": [
    "u2af1 = processed_peaks.xs(\"U2AF1\", level=1)\n",
    "\n",
    "for fn in rbfox2.gps:\n",
    "    bedtool = pybedtools.BedTool(fn)\n",
    "    print \"3 prime\", calc_percent_3_prime_overlap(bedtool)\n",
    "    print \"5 prime\", calc_percent_5_prime_overlap(bedtool)"
   ]
  },
  {
   "cell_type": "code",
   "execution_count": null,
   "metadata": {
    "collapsed": false
   },
   "outputs": [],
   "source": [
    "for fn in fxr1.gps:\n",
    "    bedtool = pybedtools.BedTool(fn)\n",
    "    print \"3 prime\", calc_percent_3_prime_overlap(bedtool)\n",
    "    print \"5 prime\", calc_percent_5_prime_overlap(bedtool)"
   ]
  },
  {
   "cell_type": "code",
   "execution_count": null,
   "metadata": {
    "collapsed": false
   },
   "outputs": [],
   "source": [
    "prpf8 = processed_peaks.xs(\"PRPF8\", level=1)\n",
    "\n",
    "for fn in prpf8.gps:\n",
    "    bedtool = pybedtools.BedTool(fn)\n",
    "    print \"3 prime\", calc_percent_3_prime_overlap(bedtool)\n",
    "    print \"5 prime\", calc_percent_5_prime_overlap(bedtool)"
   ]
  },
  {
   "cell_type": "code",
   "execution_count": null,
   "metadata": {
    "collapsed": false
   },
   "outputs": [],
   "source": [
    "rbm22 = processed_peaks.xs(\"RBM22\", level=1)\n",
    "\n",
    "for fn in rbm22.gps:\n",
    "    bedtool = pybedtools.BedTool(fn)\n",
    "    print \"3 prime\", calc_percent_3_prime_overlap(bedtool)\n",
    "    print \"5 prime\", calc_percent_5_prime_overlap(bedtool)"
   ]
  },
  {
   "cell_type": "code",
   "execution_count": null,
   "metadata": {
    "collapsed": false
   },
   "outputs": [],
   "source": [
    "rbm5 = processed_peaks.xs(\"RBM5\", level=1)\n",
    "\n",
    "for fn in rbm5.gps:\n",
    "    bedtool = pybedtools.BedTool(fn)\n",
    "    print \"3 prime\", calc_percent_3_prime_overlap(bedtool)\n",
    "    print \"5 prime\", calc_percent_5_prime_overlap(bedtool)"
   ]
  },
  {
   "cell_type": "code",
   "execution_count": null,
   "metadata": {
    "collapsed": false
   },
   "outputs": [],
   "source": [
    "print \"foo\""
   ]
  },
  {
   "cell_type": "code",
   "execution_count": null,
   "metadata": {
    "collapsed": true
   },
   "outputs": [],
   "source": []
  }
 ],
 "metadata": {
  "kernelspec": {
   "display_name": "Python 2",
   "language": "python",
   "name": "python2"
  },
  "language_info": {
   "codemirror_mode": {
    "name": "ipython",
    "version": 2
   },
   "file_extension": ".py",
   "mimetype": "text/x-python",
   "name": "python",
   "nbconvert_exporter": "python",
   "pygments_lexer": "ipython2",
   "version": "2.7.12"
  }
 },
 "nbformat": 4,
 "nbformat_minor": 0
}
