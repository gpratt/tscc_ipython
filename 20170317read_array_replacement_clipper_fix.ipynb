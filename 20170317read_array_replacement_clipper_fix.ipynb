{
 "cells": [
  {
   "cell_type": "markdown",
   "metadata": {},
   "source": [
    "I need a very light weight data structure that probably hashes all my reads, and returns just the reads that overlap back to me\n",
    "Can either be htseq or pysam based, which a preference for pysam, ideally I'd drop this into my c function, but I'll prototype in python first"
   ]
  },
  {
   "cell_type": "markdown",
   "metadata": {},
   "source": [
    "Given Interval, start, stop, strand\n",
    "\n",
    "Return all reads overlapping that interval, in O(1) time, really only need two things, read length and number of reads, must take into account splice sites"
   ]
  },
  {
   "cell_type": "code",
   "execution_count": 1,
   "metadata": {
    "collapsed": true
   },
   "outputs": [],
   "source": [
    "import HTSeq\n",
    "from clipper.src.bam_helpers import Robust_BAM_Reader\n",
    "import pysam\n",
    "import pandas as pd\n",
    "from tqdm import tqdm, tqdm_notebook\n",
    "import numpy as np\n",
    "import sys\n",
    "import numpy\n"
   ]
  },
  {
   "cell_type": "code",
   "execution_count": 2,
   "metadata": {
    "collapsed": true
   },
   "outputs": [],
   "source": [
    "bam_file = \"/projects/ps-yeolab3/encode/analysis/encode_master/204_01_RBFOX2.merged.r2.bam\"\n",
    "#bam_file = \"/projects/ps-yeolab3/encode/analysis/encode_master/240_01_TRA2A.merged.r2.bam\"\n",
    "\n",
    "samfile = pysam.Samfile(bam_file)"
   ]
  },
  {
   "cell_type": "code",
   "execution_count": 3,
   "metadata": {
    "collapsed": true
   },
   "outputs": [],
   "source": [
    "chrom_lengths = pd.read_table(\"/projects/ps-yeolab/genomes/hg19/chromosomes/all.fa.fai\", names=['chrom', 'length', 'index', 'len_1', 'len_2'])\n",
    "chrom_lengths = dict(zip(chrom_lengths.chrom, chrom_lengths[\"length\"]))\n",
    "chrom_lengths = {\"chr11\": chrom_lengths['chr11']}"
   ]
  },
  {
   "cell_type": "code",
   "execution_count": 4,
   "metadata": {
    "collapsed": true
   },
   "outputs": [],
   "source": [
    "def read_array(reads, start, stop):\n",
    "    reads = (read for read in reads if (read.iv.start_d > start) & (read.iv.end_d < stop))\n",
    "    set_of_reads = HTSeq.GenomicArrayOfSets(\"auto\", stranded=True)\n",
    "    for read in tqdm(reads):\n",
    "        if read.aligned:\n",
    "                for cigop in read.cigar:\n",
    "                    if cigop.type != \"M\":\n",
    "                        continue\n",
    "                    set_of_reads[cigop.ref_iv] += read\n",
    "    return set_of_reads"
   ]
  },
  {
   "cell_type": "code",
   "execution_count": 5,
   "metadata": {
    "collapsed": true
   },
   "outputs": [],
   "source": [
    "start = 65265233\n",
    "stop = 65273940"
   ]
  },
  {
   "cell_type": "code",
   "execution_count": 6,
   "metadata": {
    "collapsed": true
   },
   "outputs": [],
   "source": [
    "reads = Robust_BAM_Reader(bam_file)\n",
    "reads = list(reads.fetch(\"chr11\", start, stop))\n"
   ]
  },
  {
   "cell_type": "code",
   "execution_count": 7,
   "metadata": {
    "collapsed": false
   },
   "outputs": [
    {
     "ename": "NameError",
     "evalue": "name 'read' is not defined",
     "output_type": "error",
     "traceback": [
      "\u001b[0;31m---------------------------------------------------------------------------\u001b[0m",
      "\u001b[0;31mNameError\u001b[0m                                 Traceback (most recent call last)",
      "\u001b[0;32m<ipython-input-7-1f3689ab0f35>\u001b[0m in \u001b[0;36m<module>\u001b[0;34m()\u001b[0m\n\u001b[0;32m----> 1\u001b[0;31m \u001b[0mread\u001b[0m\u001b[0;34m.\u001b[0m\u001b[0mqlen\u001b[0m\u001b[0;34m\u001b[0m\u001b[0m\n\u001b[0m",
      "\u001b[0;31mNameError\u001b[0m: name 'read' is not defined"
     ]
    }
   ],
   "source": [
    "read.qlen"
   ]
  },
  {
   "cell_type": "code",
   "execution_count": 7,
   "metadata": {
    "collapsed": false
   },
   "outputs": [],
   "source": [
    "#old_version = read_array(reads, start, stop)"
   ]
  },
  {
   "cell_type": "code",
   "execution_count": 45,
   "metadata": {
    "collapsed": false
   },
   "outputs": [
    {
     "name": "stderr",
     "output_type": "stream",
     "text": [
      "35431it [02:30, 235.30it/s]\n",
      "0it [00:00, ?it/s]\u001b[A\n",
      "740it [00:00, 7380.30it/s]\u001b[A\n",
      "962it [00:00, 3931.44it/s]\u001b[A\n",
      "1174it [00:00, 2406.71it/s]\u001b[A\n",
      "1360it [00:00, 1699.55it/s]\u001b[A\n",
      "1521it [00:00, 1247.35it/s]\u001b[A\n",
      "1657it [00:00, 993.46it/s] \u001b[A\n",
      "1772it [00:01, 836.28it/s]\u001b[A\n",
      "1871it [00:01, 728.29it/s]\u001b[A\n",
      "1957it [00:01, 657.53it/s]\u001b[A\n",
      "2034it [00:01, 605.96it/s]\u001b[A\n",
      "2103it [00:01, 563.98it/s]\u001b[A\n",
      "2166it [00:01, 527.77it/s]\u001b[A\n",
      "2224it [00:02, 497.60it/s]\u001b[A\n",
      "2278it [00:02, 482.61it/s]\u001b[A\n",
      "2329it [00:02, 462.00it/s]\u001b[A\n",
      "2378it [00:02, 441.88it/s]\u001b[A\n",
      "2424it [00:02, 430.27it/s]\u001b[A\n",
      "2469it [00:02, 411.48it/s]\u001b[A\n",
      "2512it [00:02, 393.46it/s]\u001b[A\n",
      "2553it [00:02, 382.21it/s]\u001b[A\n",
      "2592it [00:03, 371.34it/s]\u001b[A\n",
      "2630it [00:03, 363.16it/s]\u001b[A\n",
      "2667it [00:03, 355.09it/s]\u001b[A\n",
      "2703it [00:03, 350.22it/s]\u001b[A\n",
      "2739it [00:03, 349.09it/s]\u001b[A\n",
      "2776it [00:03, 352.76it/s]\u001b[A\n",
      "2812it [00:03, 347.04it/s]\u001b[A\n",
      "2847it [00:03, 341.16it/s]\u001b[A\n",
      "2882it [00:03, 336.31it/s]\u001b[A\n",
      "2916it [00:03, 330.22it/s]\u001b[A\n",
      "2950it [00:04, 325.00it/s]\u001b[A\n",
      "2983it [00:04, 320.34it/s]\u001b[A\n",
      "3016it [00:04, 315.13it/s]\u001b[A\n",
      "3048it [00:04, 310.41it/s]\u001b[A\n",
      "3080it [00:04, 310.20it/s]\u001b[A\n",
      "3112it [00:04, 308.34it/s]\u001b[A\n",
      "3143it [00:04, 305.20it/s]\u001b[A\n",
      "3174it [00:04, 301.33it/s]\u001b[A\n",
      "3205it [00:04, 296.79it/s]\u001b[A\n",
      "3235it [00:05, 290.94it/s]\u001b[A\n",
      "3265it [00:05, 288.15it/s]\u001b[A\n",
      "3294it [00:05, 282.62it/s]\u001b[A\n",
      "3323it [00:05, 278.43it/s]\u001b[A\n",
      "3351it [00:05, 275.07it/s]\u001b[A\n",
      "3379it [00:05, 275.79it/s]\u001b[A\n",
      "\n",
      "3407it [00:06, 131.22it/s]\u001b[A\n",
      "3434it [00:06, 154.93it/s]\u001b[A\n",
      "3461it [00:06, 177.11it/s]\u001b[A\n",
      "3488it [00:06, 196.24it/s]\u001b[A\n",
      "3515it [00:06, 213.65it/s]\u001b[A\n",
      "3541it [00:06, 209.09it/s]\u001b[A\n",
      "3565it [00:06, 210.46it/s]\u001b[A\n",
      "3592it [00:06, 223.84it/s]\u001b[A\n",
      "3619it [00:06, 234.81it/s]\u001b[A\n",
      "3645it [00:06, 241.50it/s]\u001b[A\n",
      "3672it [00:07, 247.73it/s]\u001b[A\n",
      "3699it [00:07, 253.79it/s]\u001b[A\n",
      "3727it [00:07, 259.26it/s]\u001b[A\n",
      "3754it [00:07, 261.82it/s]\u001b[A\n",
      "3782it [00:07, 265.51it/s]\u001b[A\n",
      "3810it [00:07, 268.78it/s]\u001b[A\n",
      "3839it [00:07, 272.54it/s]\u001b[A\n",
      "3867it [00:07, 273.39it/s]\u001b[A\n",
      "3896it [00:07, 277.59it/s]\u001b[A\n",
      "3925it [00:08, 278.65it/s]\u001b[A\n",
      "3954it [00:08, 280.99it/s]\u001b[A\n",
      "3983it [00:08, 281.77it/s]\u001b[A\n",
      "4012it [00:08, 281.16it/s]\u001b[A\n",
      "4041it [00:08, 283.15it/s]\u001b[A\n",
      "4070it [00:08, 281.94it/s]\u001b[A\n",
      "4099it [00:08, 282.15it/s]\u001b[A\n",
      "4129it [00:08, 285.85it/s]\u001b[A\n",
      "4158it [00:08, 286.72it/s]\u001b[A\n",
      "4189it [00:08, 291.22it/s]\u001b[A\n",
      "4219it [00:09, 290.88it/s]\u001b[A\n",
      "4249it [00:09, 291.34it/s]\u001b[A\n",
      "4279it [00:09, 289.14it/s]\u001b[A\n",
      "4308it [00:09, 288.74it/s]\u001b[A\n",
      "4338it [00:09, 289.65it/s]\u001b[A\n",
      "4367it [00:09, 288.36it/s]\u001b[A\n",
      "4396it [00:09, 287.90it/s]\u001b[A\n",
      "4425it [00:09, 285.86it/s]\u001b[A\n",
      "4454it [00:09, 285.56it/s]\u001b[A\n",
      "4483it [00:09, 283.80it/s]\u001b[A\n",
      "4512it [00:10, 280.86it/s]\u001b[A\n",
      "4541it [00:10, 276.98it/s]\u001b[A\n",
      "4569it [00:10, 276.32it/s]\u001b[A\n",
      "4597it [00:10, 275.54it/s]\u001b[A\n",
      "4625it [00:10, 273.67it/s]\u001b[A\n",
      "4653it [00:10, 274.96it/s]\u001b[A\n",
      "4681it [00:10, 275.00it/s]\u001b[A\n",
      "4709it [00:10, 272.83it/s]\u001b[A\n",
      "4738it [00:10, 275.20it/s]\u001b[A\n",
      "4766it [00:10, 275.46it/s]\u001b[A\n",
      "4794it [00:11, 274.29it/s]\u001b[A\n",
      "4822it [00:11, 273.73it/s]\u001b[A\n",
      "4850it [00:11, 270.93it/s]\u001b[A\n",
      "4878it [00:11, 270.15it/s]\u001b[A\n",
      "4906it [00:11, 267.76it/s]\u001b[A\n",
      "4933it [00:11, 265.59it/s]\u001b[A\n",
      "4960it [00:11, 264.13it/s]\u001b[A\n",
      "4987it [00:11, 262.10it/s]\u001b[A\n",
      "5014it [00:11, 263.62it/s]\u001b[A\n",
      "5041it [00:12, 261.26it/s]\u001b[A\n",
      "5068it [00:12, 260.91it/s]\u001b[A\n",
      "5095it [00:12, 258.91it/s]\u001b[A\n",
      "5121it [00:12, 258.34it/s]\u001b[A\n",
      "5147it [00:12, 257.67it/s]\u001b[A\n",
      "5174it [00:12, 259.70it/s]\u001b[A\n",
      "5200it [00:12, 256.03it/s]\u001b[A\n",
      "5226it [00:12, 253.20it/s]\u001b[A\n",
      "5252it [00:12, 251.92it/s]\u001b[A\n",
      "5278it [00:12, 252.11it/s]\u001b[A\n",
      "5304it [00:13, 250.35it/s]\u001b[A\n",
      "5330it [00:13, 248.16it/s]\u001b[A\n",
      "5355it [00:13, 244.63it/s]\u001b[A\n",
      "5380it [00:13, 242.01it/s]\u001b[A\n",
      "5406it [00:13, 244.29it/s]\u001b[A\n",
      "5431it [00:13, 241.22it/s]\u001b[A\n",
      "5456it [00:13, 239.54it/s]\u001b[A\n",
      "5480it [00:13, 238.99it/s]\u001b[A\n",
      "5505it [00:13, 239.18it/s]\u001b[A\n",
      "5529it [00:14, 238.08it/s]\u001b[A\n",
      "5553it [00:14, 238.43it/s]\u001b[A\n",
      "5577it [00:14, 236.93it/s]\u001b[A\n",
      "5601it [00:14, 237.03it/s]\u001b[A\n",
      "5626it [00:14, 238.32it/s]\u001b[A\n",
      "5650it [00:14, 238.31it/s]\u001b[A\n",
      "5675it [00:14, 238.93it/s]\u001b[A\n",
      "5699it [00:14, 237.23it/s]\u001b[A\n",
      "5723it [00:14, 236.16it/s]\u001b[A\n",
      "5747it [00:14, 235.45it/s]\u001b[A\n",
      "5771it [00:15, 235.12it/s]\u001b[A\n",
      "5795it [00:15, 234.69it/s]\u001b[A\n",
      "5819it [00:15, 233.17it/s]\u001b[A\n",
      "5843it [00:15, 234.54it/s]\u001b[A\n",
      "5867it [00:15, 235.32it/s]\u001b[A\n",
      "5891it [00:15, 235.87it/s]\u001b[A\n",
      "5916it [00:15, 236.84it/s]\u001b[A\n",
      "5941it [00:15, 240.06it/s]\u001b[A\n",
      "5966it [00:15, 240.42it/s]\u001b[A\n",
      "5991it [00:15, 240.66it/s]\u001b[A\n",
      "6017it [00:16, 244.05it/s]\u001b[A\n",
      "6042it [00:16, 244.07it/s]\u001b[A\n",
      "6067it [00:16, 243.87it/s]\u001b[A\n",
      "6092it [00:16, 244.46it/s]\u001b[A\n",
      "6117it [00:16, 242.03it/s]\u001b[A\n",
      "6142it [00:16, 242.61it/s]\u001b[A\n",
      "6167it [00:16, 240.33it/s]\u001b[A\n",
      "6192it [00:16, 238.63it/s]\u001b[A\n",
      "6216it [00:16, 237.19it/s]\u001b[A\n",
      "6241it [00:16, 238.17it/s]\u001b[A\n",
      "6265it [00:17, 236.88it/s]\u001b[A\n",
      "6289it [00:17, 237.67it/s]\u001b[A\n",
      "6314it [00:17, 239.85it/s]\u001b[A\n",
      "6340it [00:17, 245.20it/s]\u001b[A\n",
      "6367it [00:17, 248.81it/s]\u001b[A\n",
      "6392it [00:17, 248.48it/s]\u001b[A\n",
      "6418it [00:17, 250.15it/s]\u001b[A\n",
      "6445it [00:17, 255.68it/s]\u001b[A\n",
      "6472it [00:17, 256.80it/s]\u001b[A\n",
      "6499it [00:18, 259.77it/s]\u001b[A\n",
      "6526it [00:18, 257.59it/s]\u001b[A\n",
      "6552it [00:18, 257.46it/s]\u001b[A\n",
      "6579it [00:18, 259.40it/s]\u001b[A\n",
      "6605it [00:18, 258.63it/s]\u001b[A\n",
      "6631it [00:18, 256.60it/s]\u001b[A\n",
      "6657it [00:18, 254.87it/s]\u001b[A\n",
      "6683it [00:18, 252.82it/s]\u001b[A\n",
      "6709it [00:18, 251.30it/s]\u001b[A\n",
      "6735it [00:18, 245.92it/s]\u001b[A\n",
      "6760it [00:19, 245.50it/s]\u001b[A\n",
      "6785it [00:19, 246.34it/s]\u001b[A\n",
      "6812it [00:19, 249.82it/s]\u001b[A\n",
      "6838it [00:19, 250.07it/s]\u001b[A\n",
      "6864it [00:19, 249.40it/s]\u001b[A\n",
      "6889it [00:19, 248.74it/s]\u001b[A\n",
      "6915it [00:19, 248.96it/s]\u001b[A\n",
      "6940it [00:19, 243.99it/s]\u001b[A\n",
      "6965it [00:19, 242.71it/s]\u001b[A\n",
      "6990it [00:19, 242.55it/s]\u001b[A\n",
      "7015it [00:20, 243.76it/s]\u001b[A\n",
      "7040it [00:20, 243.93it/s]\u001b[A\n",
      "7065it [00:20, 244.02it/s]\u001b[A\n",
      "7090it [00:20, 245.23it/s]\u001b[A\n",
      "7115it [00:20, 244.15it/s]\u001b[A\n",
      "7140it [00:20, 243.40it/s]\u001b[A\n",
      "7165it [00:20, 242.24it/s]\u001b[A\n",
      "7190it [00:20, 241.62it/s]\u001b[A\n",
      "7215it [00:20, 239.42it/s]\u001b[A\n",
      "7240it [00:21, 241.00it/s]\u001b[A\n",
      "7266it [00:21, 243.82it/s]\u001b[A\n",
      "7292it [00:21, 246.06it/s]\u001b[A\n",
      "7320it [00:21, 253.64it/s]\u001b[A\n",
      "7349it [00:21, 261.47it/s]\u001b[A\n",
      "7378it [00:21, 269.40it/s]\u001b[A\n",
      "7408it [00:21, 275.71it/s]\u001b[A\n",
      "7439it [00:21, 282.93it/s]\u001b[A\n",
      "7471it [00:21, 291.04it/s]\u001b[A\n",
      "7503it [00:21, 298.92it/s]\u001b[A\n",
      "7536it [00:22, 305.92it/s]\u001b[A\n",
      "7568it [00:22, 309.22it/s]\u001b[A\n",
      "7603it [00:22, 318.42it/s]\u001b[A\n",
      "7642it [00:22, 335.49it/s]\u001b[A\n",
      "7681it [00:22, 349.81it/s]\u001b[A\n",
      "7722it [00:22, 364.03it/s]\u001b[A\n",
      "7764it [00:22, 378.51it/s]\u001b[A\n",
      "7812it [00:22, 402.07it/s]\u001b[A\n",
      "7909it [00:22, 487.54it/s]\u001b[A\n",
      "8160it [00:22, 642.12it/s]\u001b[A\n",
      "8482it [00:23, 844.92it/s]\u001b[A\n",
      "8903it [00:23, 1109.93it/s]\u001b[A\n",
      "9183it [00:23, 1354.86it/s]\u001b[A\n",
      "9441it [00:23, 1396.62it/s]\u001b[A\n",
      "9667it [00:23, 1280.64it/s]\u001b[A\n",
      "9857it [00:23, 1113.72it/s]\u001b[A\n",
      "10016it [00:24, 967.34it/s]\u001b[A\n",
      "10150it [00:24, 881.71it/s]\u001b[A\n",
      "10266it [00:24, 804.79it/s]\u001b[A\n",
      "10367it [00:24, 741.76it/s]\u001b[A\n",
      "10457it [00:24, 702.71it/s]\u001b[A\n",
      "10539it [00:24, 678.24it/s]\u001b[A\n",
      "10615it [00:24, 665.90it/s]\u001b[A\n",
      "10688it [00:25, 646.94it/s]\u001b[A\n",
      "10757it [00:25, 634.09it/s]\u001b[A\n",
      "10824it [00:25, 621.40it/s]\u001b[A\n",
      "10889it [00:25, 599.71it/s]\u001b[A\n",
      "10951it [00:25, 574.94it/s]\u001b[A\n",
      "11010it [00:25, 557.09it/s]\u001b[A\n",
      "11067it [00:25, 554.20it/s]\u001b[A\n",
      "11125it [00:25, 559.32it/s]\u001b[A\n",
      "11186it [00:25, 571.33it/s]\u001b[A\n",
      "11245it [00:26, 575.01it/s]\u001b[A\n",
      "11303it [00:26, 567.12it/s]\u001b[A\n",
      "11360it [00:26, 559.55it/s]\u001b[A\n",
      "11417it [00:26, 556.44it/s]\u001b[A\n",
      "11473it [00:26, 554.41it/s]\u001b[A\n",
      "11531it [00:26, 561.47it/s]\u001b[A\n",
      "11597it [00:26, 583.75it/s]\u001b[A\n",
      "11662it [00:26, 601.45it/s]\u001b[A\n",
      "11742it [00:26, 646.42it/s]\u001b[A\n",
      "11837it [00:27, 714.50it/s]\u001b[A\n",
      "11930it [00:27, 764.69it/s]\u001b[A\n",
      "12024it [00:27, 808.39it/s]\u001b[A\n",
      "12135it [00:27, 877.36it/s]\u001b[A\n",
      "12233it [00:27, 904.21it/s]\u001b[A\n",
      "12327it [00:27, 894.81it/s]\u001b[A\n",
      "12419it [00:27, 870.69it/s]\u001b[A\n",
      "12508it [00:27, 830.90it/s]\u001b[A\n",
      "12593it [00:27, 795.04it/s]\u001b[A\n",
      "12674it [00:27, 752.37it/s]\u001b[A\n",
      "12751it [00:28, 709.68it/s]\u001b[A\n",
      "12824it [00:28, 669.86it/s]\u001b[A\n",
      "12893it [00:28, 640.60it/s]\u001b[A\n",
      "12959it [00:28, 616.02it/s]\u001b[A\n",
      "13022it [00:28, 595.17it/s]\u001b[A\n",
      "13083it [00:28, 581.84it/s]\u001b[A\n",
      "13142it [00:28, 574.38it/s]\u001b[A\n",
      "13200it [00:28, 562.48it/s]\u001b[A\n",
      "13257it [00:29, 553.67it/s]\u001b[A\n",
      "13313it [00:29, 545.99it/s]\u001b[A\n",
      "13368it [00:29, 541.62it/s]\u001b[A\n",
      "13423it [00:29, 542.23it/s]\u001b[A\n",
      "13478it [00:29, 539.70it/s]\u001b[A\n",
      "13536it [00:29, 548.79it/s]\u001b[A\n",
      "13602it [00:29, 575.21it/s]\u001b[A\n",
      "13669it [00:29, 599.42it/s]\u001b[A\n",
      "13744it [00:29, 635.13it/s]\u001b[A\n",
      "13841it [00:29, 707.30it/s]\u001b[A\n",
      "14089it [00:30, 898.86it/s]\u001b[A\n",
      "14288it [00:30, 1074.99it/s]\u001b[A\n",
      "14439it [00:30, 1172.27it/s]\u001b[A\n",
      "14587it [00:30, 1224.78it/s]\u001b[A\n",
      "14732it [00:30, 1211.37it/s]\u001b[A\n",
      "14869it [00:30, 1136.68it/s]\u001b[A\n",
      "14995it [00:30, 1033.92it/s]\u001b[A\n",
      "15109it [00:30, 949.66it/s] \u001b[A\n",
      "15213it [00:31, 876.55it/s]\u001b[A\n",
      "15308it [00:31, 824.74it/s]\u001b[A\n",
      "15396it [00:31, 783.77it/s]\u001b[A\n",
      "15479it [00:31, 755.51it/s]\u001b[A\n",
      "15558it [00:31, 740.98it/s]\u001b[A\n",
      "15642it [00:31, 767.98it/s]\u001b[A\n",
      "15780it [00:31, 882.02it/s]\u001b[A\n",
      "15911it [00:31, 976.24it/s]\u001b[A\n",
      "16129it [00:31, 1167.24it/s]\u001b[A\n",
      "16434it [00:32, 1431.49it/s]\u001b[A\n",
      "16760it [00:32, 1716.78it/s]\u001b[A\n",
      "17008it [00:32, 1888.13it/s]\u001b[A\n",
      "17242it [00:32, 1934.89it/s]\u001b[A\n",
      "17467it [00:32, 2016.14it/s]\u001b[A\n",
      "17692it [00:32, 2063.10it/s]\u001b[A\n",
      "17915it [00:32, 1932.72it/s]\u001b[A\n",
      "18122it [00:32, 1685.51it/s]\u001b[A\n",
      "18306it [00:33, 1514.11it/s]\u001b[A\n",
      "18489it [00:33, 1595.39it/s]\u001b[A\n",
      "18678it [00:33, 1666.60it/s]\u001b[A\n",
      "18872it [00:33, 1739.62it/s]\u001b[A\n",
      "19053it [00:33, 1706.69it/s]\u001b[A\n",
      "19229it [00:33, 1550.46it/s]\u001b[A\n",
      "19391it [00:33, 1352.90it/s]\u001b[A\n",
      "19536it [00:33, 1147.78it/s]\u001b[A\n",
      "19663it [00:34, 1015.08it/s]\u001b[A\n",
      "19776it [00:34, 929.37it/s] \u001b[A\n",
      "19878it [00:34, 856.55it/s]\u001b[A\n",
      "19972it [00:34, 798.52it/s]\u001b[A\n",
      "20058it [00:34, 756.75it/s]\u001b[A\n",
      "20139it [00:34, 727.79it/s]\u001b[A\n",
      "20216it [00:34, 707.51it/s]\u001b[A\n",
      "20290it [00:34, 685.66it/s]\u001b[A\n",
      "20361it [00:35, 666.26it/s]\u001b[A\n",
      "20430it [00:35, 642.74it/s]\u001b[A\n",
      "20496it [00:35, 630.67it/s]\u001b[A\n",
      "20560it [00:35, 622.23it/s]\u001b[A\n",
      "20623it [00:35, 614.62it/s]\u001b[A\n",
      "20685it [00:35, 606.87it/s]\u001b[A\n",
      "20747it [00:35, 595.36it/s]\u001b[A\n",
      "20807it [00:35, 582.00it/s]\u001b[A\n",
      "20866it [00:35, 560.39it/s]\u001b[A\n",
      "20923it [00:36, 538.14it/s]\u001b[A\n",
      "20978it [00:36, 518.45it/s]\u001b[A\n",
      "21031it [00:36, 497.23it/s]\u001b[A\n",
      "21082it [00:36, 478.54it/s]\u001b[A\n",
      "21131it [00:36, 464.35it/s]\u001b[A\n",
      "21178it [00:36, 453.38it/s]\u001b[A\n",
      "21224it [00:36, 442.26it/s]\u001b[A\n",
      "21269it [00:36, 431.33it/s]\u001b[A\n",
      "21313it [00:36, 420.40it/s]\u001b[A\n",
      "21356it [00:37, 413.67it/s]\u001b[A\n",
      "21398it [00:37, 406.79it/s]\u001b[A\n",
      "21439it [00:37, 399.77it/s]\u001b[A\n",
      "21480it [00:37, 393.45it/s]\u001b[A\n",
      "21520it [00:37, 383.72it/s]\u001b[A\n",
      "21559it [00:37, 378.19it/s]\u001b[A\n",
      "21597it [00:37, 370.08it/s]\u001b[A\n",
      "21635it [00:37, 362.69it/s]\u001b[A\n",
      "21672it [00:37, 357.09it/s]\u001b[A\n",
      "21708it [00:38, 349.95it/s]\u001b[A\n",
      "21744it [00:38, 343.19it/s]\u001b[A\n",
      "21779it [00:38, 340.42it/s]\u001b[A\n",
      "21814it [00:38, 336.70it/s]\u001b[A\n",
      "21848it [00:38, 333.69it/s]\u001b[A\n",
      "21882it [00:38, 328.49it/s]\u001b[A\n",
      "21915it [00:38, 323.98it/s]\u001b[A\n",
      "21948it [00:38, 318.95it/s]\u001b[A\n",
      "21980it [00:38, 315.88it/s]\u001b[A\n",
      "22012it [00:38, 310.92it/s]\u001b[A\n",
      "22044it [00:39, 311.79it/s]\u001b[A\n",
      "22076it [00:39, 306.91it/s]\u001b[A\n",
      "22107it [00:39, 306.90it/s]\u001b[A\n",
      "22138it [00:39, 304.79it/s]\u001b[A\n",
      "22169it [00:39, 303.11it/s]\u001b[A\n",
      "22200it [00:39, 298.28it/s]\u001b[A\n",
      "22230it [00:39, 293.44it/s]\u001b[A\n",
      "22260it [00:39, 288.14it/s]\u001b[A\n",
      "22289it [00:39, 284.17it/s]\u001b[A\n",
      "22318it [00:40, 279.93it/s]\u001b[A\n",
      "22347it [00:40, 277.82it/s]\u001b[A\n",
      "22375it [00:40, 276.52it/s]\u001b[A\n",
      "22403it [00:40, 274.01it/s]\u001b[A\n",
      "22431it [00:40, 269.59it/s]\u001b[A\n",
      "22458it [00:40, 268.11it/s]\u001b[A\n",
      "22485it [00:40, 264.46it/s]\u001b[A\n",
      "22512it [00:40, 260.28it/s]\u001b[A\n",
      "22539it [00:40, 259.05it/s]\u001b[A\n",
      "22565it [00:40, 255.75it/s]\u001b[A\n",
      "22591it [00:41, 255.19it/s]\u001b[A\n",
      "22618it [00:41, 259.02it/s]\u001b[A\n",
      "22644it [00:41, 257.07it/s]\u001b[A\n",
      "22670it [00:41, 254.37it/s]\u001b[A\n",
      "22696it [00:41, 251.21it/s]\u001b[A\n",
      "22722it [00:41, 248.96it/s]\u001b[A\n",
      "22747it [00:41, 246.37it/s]\u001b[A\n",
      "22772it [00:41, 244.46it/s]\u001b[A\n",
      "22797it [00:41, 240.93it/s]\u001b[A\n",
      "22822it [00:42, 239.60it/s]\u001b[A\n",
      "22846it [00:42, 238.34it/s]\u001b[A\n",
      "22870it [00:42, 236.96it/s]\u001b[A\n",
      "22894it [00:42, 235.75it/s]\u001b[A\n",
      "22918it [00:42, 232.96it/s]\u001b[A\n",
      "22942it [00:42, 231.69it/s]\u001b[A\n",
      "22966it [00:42, 227.92it/s]\u001b[A\n",
      "22989it [00:42, 226.32it/s]\u001b[A\n",
      "23012it [00:42, 223.09it/s]\u001b[A\n",
      "23035it [00:42, 220.49it/s]\u001b[A\n",
      "23058it [00:43, 219.02it/s]\u001b[A\n",
      "23080it [00:43, 217.16it/s]\u001b[A\n",
      "23102it [00:43, 215.74it/s]\u001b[A\n",
      "23124it [00:43, 214.45it/s]\u001b[A\n",
      "23146it [00:43, 211.71it/s]\u001b[A\n",
      "23168it [00:43, 210.05it/s]\u001b[A\n",
      "23190it [00:43, 208.91it/s]\u001b[A\n",
      "23211it [00:43, 207.54it/s]\u001b[A\n",
      "23232it [00:43, 205.72it/s]\u001b[A\n",
      "23253it [00:44, 204.96it/s]\u001b[A\n",
      "23274it [00:44, 203.91it/s]\u001b[A\n",
      "23295it [00:44, 202.05it/s]\u001b[A\n",
      "23316it [00:44, 200.07it/s]\u001b[A\n",
      "23337it [00:44, 199.38it/s]\u001b[A\n",
      "23357it [00:44, 197.80it/s]\u001b[A\n",
      "23377it [00:44, 196.48it/s]\u001b[A\n",
      "23397it [00:44, 196.24it/s]\u001b[A\n",
      "23417it [00:44, 195.38it/s]\u001b[A\n",
      "23437it [00:44, 194.18it/s]\u001b[A\n",
      "23457it [00:45, 193.87it/s]\u001b[A\n",
      "23477it [00:45, 193.10it/s]\u001b[A\n",
      "23497it [00:45, 189.97it/s]\u001b[A\n",
      "23517it [00:45, 189.22it/s]\u001b[A\n",
      "23536it [00:45, 187.91it/s]\u001b[A\n",
      "23555it [00:45, 187.42it/s]\u001b[A\n",
      "23574it [00:45, 185.62it/s]\u001b[A\n",
      "23594it [00:45, 187.28it/s]\u001b[A\n",
      "23613it [00:45, 187.72it/s]\u001b[A\n",
      "23632it [00:45, 186.47it/s]\u001b[A\n",
      "23651it [00:46, 186.09it/s]\u001b[A\n",
      "23670it [00:46, 185.21it/s]\u001b[A\n",
      "23689it [00:46, 184.84it/s]\u001b[A\n",
      "23708it [00:46, 183.56it/s]\u001b[A\n",
      "23727it [00:46, 183.59it/s]\u001b[A\n",
      "23746it [00:46, 182.45it/s]\u001b[A\n",
      "23765it [00:46, 183.20it/s]\u001b[A\n",
      "23784it [00:46, 182.66it/s]\u001b[A\n",
      "23803it [00:46, 181.23it/s]\u001b[A"
     ]
    },
    {
     "ename": "KeyboardInterrupt",
     "evalue": "",
     "output_type": "error",
     "traceback": [
      "\u001b[0;31m---------------------------------------------------------------------------\u001b[0m",
      "\u001b[0;31mKeyboardInterrupt\u001b[0m                         Traceback (most recent call last)",
      "\u001b[0;32m<ipython-input-45-3bdb6551ac96>\u001b[0m in \u001b[0;36m<module>\u001b[0;34m()\u001b[0m\n\u001b[1;32m     12\u001b[0m             \u001b[0mcigop\u001b[0m\u001b[0;34m.\u001b[0m\u001b[0mref_iv\u001b[0m\u001b[0;34m.\u001b[0m\u001b[0mstart\u001b[0m \u001b[0;34m=\u001b[0m \u001b[0mcigop\u001b[0m\u001b[0;34m.\u001b[0m\u001b[0mref_iv\u001b[0m\u001b[0;34m.\u001b[0m\u001b[0mstart\u001b[0m \u001b[0;34m-\u001b[0m \u001b[0mstart\u001b[0m\u001b[0;34m\u001b[0m\u001b[0m\n\u001b[1;32m     13\u001b[0m             \u001b[0mcigop\u001b[0m\u001b[0;34m.\u001b[0m\u001b[0mref_iv\u001b[0m\u001b[0;34m.\u001b[0m\u001b[0mend\u001b[0m \u001b[0;34m=\u001b[0m \u001b[0mcigop\u001b[0m\u001b[0;34m.\u001b[0m\u001b[0mref_iv\u001b[0m\u001b[0;34m.\u001b[0m\u001b[0mend\u001b[0m \u001b[0;34m-\u001b[0m \u001b[0mstart\u001b[0m\u001b[0;34m\u001b[0m\u001b[0m\n\u001b[0;32m---> 14\u001b[0;31m             \u001b[0mset_of_reads\u001b[0m\u001b[0;34m[\u001b[0m\u001b[0mcigop\u001b[0m\u001b[0;34m.\u001b[0m\u001b[0mref_iv\u001b[0m\u001b[0;34m]\u001b[0m \u001b[0;34m+=\u001b[0m \u001b[0mread\u001b[0m\u001b[0;34m.\u001b[0m\u001b[0mread\u001b[0m\u001b[0;34m.\u001b[0m\u001b[0mname\u001b[0m\u001b[0;34m\u001b[0m\u001b[0m\n\u001b[0m",
      "\u001b[0;32m_HTSeq.pyx\u001b[0m in \u001b[0;36mHTSeq._HTSeq.ChromVector.__iadd__ (src/_HTSeq.c:8747)\u001b[0;34m()\u001b[0m\n",
      "\u001b[0;32m_HTSeq.pyx\u001b[0m in \u001b[0;36mHTSeq._HTSeq.ChromVector.apply (src/_HTSeq.c:9051)\u001b[0;34m()\u001b[0m\n",
      "\u001b[0;32m/home/gpratt/anaconda/lib/python2.7/site-packages/HTSeq-0.6.1-py2.7-linux-x86_64.egg/HTSeq/_HTSeq_internal.pyc\u001b[0m in \u001b[0;36mChromVector_steps\u001b[0;34m(cv)\u001b[0m\n\u001b[1;32m     21\u001b[0m          \u001b[0;32mif\u001b[0m \u001b[0mprev_val\u001b[0m \u001b[0;32mis\u001b[0m \u001b[0mNone\u001b[0m \u001b[0;32mor\u001b[0m \u001b[0mval\u001b[0m \u001b[0;34m!=\u001b[0m \u001b[0mprev_val\u001b[0m\u001b[0;34m:\u001b[0m\u001b[0;34m\u001b[0m\u001b[0m\n\u001b[1;32m     22\u001b[0m             \u001b[0;32mif\u001b[0m \u001b[0mprev_val\u001b[0m \u001b[0;32mis\u001b[0m \u001b[0;32mnot\u001b[0m \u001b[0mNone\u001b[0m\u001b[0;34m:\u001b[0m\u001b[0;34m\u001b[0m\u001b[0m\n\u001b[0;32m---> 23\u001b[0;31m                \u001b[0;32myield\u001b[0m \u001b[0;34m(\u001b[0m \u001b[0mHTSeq\u001b[0m\u001b[0;34m.\u001b[0m\u001b[0mGenomicInterval\u001b[0m\u001b[0;34m(\u001b[0m \u001b[0mcv\u001b[0m\u001b[0;34m.\u001b[0m\u001b[0miv\u001b[0m\u001b[0;34m.\u001b[0m\u001b[0mchrom\u001b[0m\u001b[0;34m,\u001b[0m \u001b[0mstart\u001b[0m\u001b[0;34m,\u001b[0m \u001b[0mi\u001b[0m\u001b[0;34m,\u001b[0m \u001b[0mcv\u001b[0m\u001b[0;34m.\u001b[0m\u001b[0miv\u001b[0m\u001b[0;34m.\u001b[0m\u001b[0mstrand\u001b[0m \u001b[0;34m)\u001b[0m\u001b[0;34m,\u001b[0m \u001b[0mprev_val\u001b[0m \u001b[0;34m)\u001b[0m\u001b[0;34m\u001b[0m\u001b[0m\n\u001b[0m\u001b[1;32m     24\u001b[0m             \u001b[0mprev_val\u001b[0m \u001b[0;34m=\u001b[0m \u001b[0mval\u001b[0m\u001b[0;34m\u001b[0m\u001b[0m\n\u001b[1;32m     25\u001b[0m             \u001b[0mstart\u001b[0m \u001b[0;34m=\u001b[0m \u001b[0mi\u001b[0m\u001b[0;34m\u001b[0m\u001b[0m\n",
      "\u001b[0;31mKeyboardInterrupt\u001b[0m: "
     ]
    }
   ],
   "source": [
    "reads = Robust_BAM_Reader(bam_file)\n",
    "reads = list(reads.fetch(\"chr11\", 65265233, 65273940))\n",
    "\n",
    "reads = (read for read in reads if (read.iv.start_d > start) & (read.iv.end_d < stop))\n",
    "set_of_reads = HTSeq.GenomicArray(gene_dict, stranded=True, storage=\"ndarray\")\n",
    "for read in tqdm(reads):\n",
    "    if read.aligned:\n",
    "        #read_len = sum(cigar.size for cigar in read.cigar if cigar.type == \"M\")\n",
    "        for cigop in read.cigar:\n",
    "            if cigop.type != \"M\":\n",
    "                continue\n",
    "            cigop.ref_iv.start = cigop.ref_iv.start - start\n",
    "            cigop.ref_iv.end = cigop.ref_iv.end - start\n",
    "            set_of_reads[cigop.ref_iv] += read.read.name"
   ]
  },
  {
   "cell_type": "code",
   "execution_count": 30,
   "metadata": {
    "collapsed": true
   },
   "outputs": [],
   "source": [
    "def get_reads_in_interval(interval, array_of_sets):\n",
    "    return set().union(*[baz for bar, baz in array_of_sets[interval].steps()])"
   ]
  },
  {
   "cell_type": "code",
   "execution_count": 31,
   "metadata": {
    "collapsed": false
   },
   "outputs": [
    {
     "data": {
      "text/plain": [
       "{('ATTCC:SN1001:449:HGTN3ADXX:2:2114:20422:71492', 42),\n",
       " ('TAAAC:SN1001:449:HGTN3ADXX:2:2102:8286:29155', 25),\n",
       " ('TTCAG:SN1001:449:HGTN3ADXX:1:1102:11505:40543', 44)}"
      ]
     },
     "execution_count": 31,
     "metadata": {},
     "output_type": "execute_result"
    }
   ],
   "source": [
    "get_reads_in_interval(cigop.ref_iv, set_of_reads)"
   ]
  },
  {
   "cell_type": "code",
   "execution_count": 36,
   "metadata": {
    "collapsed": false
   },
   "outputs": [],
   "source": [
    "cigop.ref_iv.start += start\n",
    "cigop.ref_iv.end += start"
   ]
  },
  {
   "cell_type": "code",
   "execution_count": 37,
   "metadata": {
    "collapsed": false
   },
   "outputs": [
    {
     "data": {
      "text/plain": [
       "{<SAM_Alignment object: Paired-end read 'TTCAG:SN1001:449:HGTN3ADXX:1:1102:11505:40543' aligned to chr11:[65273511,65273555)/+>,\n",
       " <SAM_Alignment object: Paired-end read 'ATTCC:SN1001:449:HGTN3ADXX:2:2114:20422:71492' aligned to chr11:[65273517,65273559)/+>,\n",
       " <SAM_Alignment object: Paired-end read 'TAAAC:SN1001:449:HGTN3ADXX:2:2102:8286:29155' aligned to chr11:[65273539,65273564)/+>}"
      ]
     },
     "execution_count": 37,
     "metadata": {},
     "output_type": "execute_result"
    }
   ],
   "source": [
    "get_reads_in_interval(cigop.ref_iv, old_version)"
   ]
  },
  {
   "cell_type": "code",
   "execution_count": 14,
   "metadata": {
    "collapsed": false
   },
   "outputs": [
    {
     "name": "stderr",
     "output_type": "stream",
     "text": [
      "271430it [00:49, 5522.91it/s]\n"
     ]
    }
   ],
   "source": [
    "reads = Robust_BAM_Reader(bam_file)\n",
    "reads = list(reads.fetch(\"chr11\", 65265233, 65273940))\n",
    "\n",
    "reads = (read for read in reads if (read.iv.start_d > start) & (read.iv.end_d < stop))\n",
    "set_of_reads = HTSeq.GenomicArrayOfSets(\"auto\", stranded=True)\n",
    "for read in tqdm(reads):\n",
    "    if read.aligned:\n",
    "        read_len = sum(cigar.size for cigar in read.cigar if cigar.type == \"M\")\n",
    "        for cigop in read.cigar:\n",
    "            if cigop.type != \"M\":\n",
    "                continue\n",
    "            cigop.ref_iv.start = cigop.ref_iv.start - start\n",
    "            cigop.ref_iv.end = cigop.ref_iv.end - start\n",
    "            set_of_reads[cigop.ref_iv] += read_len"
   ]
  },
  {
   "cell_type": "code",
   "execution_count": 9,
   "metadata": {
    "collapsed": false
   },
   "outputs": [],
   "source": [
    "def add_chrom( self, chrom, length = sys.maxint, start_index = 0 ):\n",
    "  HTSeq.GenomicArray.add_chrom( self, chrom, length, start_index )\n",
    "  for cv in self.chrom_vectors[ chrom ].values():\n",
    "    for x in xrange(len(cv.array)):\n",
    "        cv.array[x] = set([])\n",
    "    cv.is_vector_of_sets = True\n",
    "    \n",
    "def ChromVector_steps( cv ):\n",
    "   if isinstance( cv.array, numpy.ndarray ):\n",
    "      start = cv.iv.start\n",
    "      prev_val = None\n",
    "      for i in xrange( cv.iv.start, cv.iv.end ):\n",
    "         val = cv.array[ i - cv.offset ]\n",
    "         if prev_val is None or val is not prev_val:\n",
    "            \n",
    "            if prev_val is not None:\n",
    "               yield ( HTSeq.GenomicInterval( cv.iv.chrom, start, i, cv.iv.strand ), prev_val )\n",
    "            prev_val = val\n",
    "            start = i\n",
    "      yield ( HTSeq.GenomicInterval( cv.iv.chrom, start, cv.iv.end, cv.iv.strand ), prev_val )\n",
    "   elif isinstance( cv.array, HTSeq.StepVector.StepVector ):\n",
    "      for start, stop, value in cv.array[cv.iv.start:cv.iv.end].get_steps():\n",
    "         yield ( HTSeq.GenomicInterval( cv.iv.chrom, start, stop, cv.iv.strand ), value )\n",
    "   else:\n",
    "      raise SystemError, \"Unknown array type.\""
   ]
  },
  {
   "cell_type": "code",
   "execution_count": 10,
   "metadata": {
    "collapsed": true
   },
   "outputs": [],
   "source": [
    "HTSeq._HTSeq_internal.ChromVector_steps = ChromVector_steps\n",
    "HTSeq.GenomicArrayOfSets.add_chrom = add_chrom\n"
   ]
  },
  {
   "cell_type": "code",
   "execution_count": 38,
   "metadata": {
    "collapsed": false
   },
   "outputs": [],
   "source": [
    "class ChromVector_fast( HTSeq.ChromVector ):\n",
    "   @classmethod\n",
    "   def create( cls, iv, typecode, storage, memmap_dir = \"\" ):\n",
    "      ncv = cls()\n",
    "      ncv.iv = iv\n",
    "      if storage == \"ndarray\":\n",
    "         if typecode != 'O':\n",
    "            ncv.array = numpy.zeros( shape = ( iv.length, ), dtype = typecode )\n",
    "         else:\n",
    "            ncv.array = numpy.empty( shape = ( iv.length, ), dtype = typecode )\n",
    "            ncv.array[:] = None\n",
    "      elif storage == \"memmap\":\n",
    "         ncv.array = numpy.memmap( shape = ( iv.length, ), dtype = typecode,\n",
    "            filename = os.path.join( memmap_dir, iv.chrom + iv.strand + \".nmm\" ), mode='w+' )\n",
    "      elif storage == \"step\":\n",
    "         ncv.array = StepVector.StepVector.create( typecode = typecode )\n",
    "      else:\n",
    "         raise ValueError, \"Illegal storage mode.\"\n",
    "      ncv._storage = storage\n",
    "      # TODO: Test whether offset works properly\n",
    "      ncv.offset = iv.start\n",
    "      ncv.is_vector_of_sets = False\n",
    "      return ncv\n",
    "\n",
    "   def __iadd__( self, value ):\n",
    "      print \"going fast\"\n",
    "      if not self.is_vector_of_sets:\n",
    "         self.array[ self.iv.start - self.offset : self.iv.end - self.offset ].__iadd__( value )\n",
    "      else:\n",
    "         def addval( x ):\n",
    "            x.add( value )\n",
    "         for iv, value in self.steps():\n",
    "            addval(value)\n",
    "      return self\n",
    "\n",
    "   def __setitem__( self, index, value ):\n",
    "      print \"setting vector\"\n",
    "      if isinstance( value, ChromVector ):\n",
    "         if self.array is value.array and value.iv.start == index.start and \\\n",
    "               value.iv.end == index.stop and ( index.step is None or index.step == 1 ):\n",
    "            return\n",
    "         else:\n",
    "            raise NotImplementedError, \"Required assignment signature not yet implemented.\"\n",
    "      if isinstance( index, int ):\n",
    "         self.array[ index - self.iv.start ] = value\n",
    "      elif isinstance( index, slice ):\n",
    "         index_slice = index\n",
    "         if index_slice.start is not None:\n",
    "            start = index_slice.start\n",
    "            if start < self.iv.start:\n",
    "               raise IndexError, \"start too small\"\n",
    "         else:\n",
    "            start = self.iv.start\n",
    "         if index_slice.stop is not None:\n",
    "            stop = index_slice.stop\n",
    "            if stop > self.iv.end:\n",
    "               raise IndexError, \"stop too large\"\n",
    "         else:\n",
    "            stop = self.iv.end\n",
    "         if start > stop:\n",
    "            raise IndexError, \"Start of interval is after its end.\"\n",
    "         if start == stop:\n",
    "            raise IndexError, \"Cannot assign to zero-length interval.\"\n",
    "         self.array[ start - self.offset : stop - self.iv.start : index.step ] = value\n",
    "      elif isinstance( index, GenomicInterval ):\n",
    "         if index.chrom != self.iv.chrom:\n",
    "            raise KeyError, \"Chromosome name mismatch.\"\n",
    "         if self.iv.strand is not strand_nostrand and \\\n",
    "               self.iv.strand is not self.index.strand:\n",
    "            raise KeyError, \"Strand mismatch.\"\n",
    "         self.array[ index.iv.start - self.iv.start,\n",
    "            index.iv.end - self.iv.start ] = value\n",
    "      else:\n",
    "         raise TypeError, \"Illegal index type\"\n"
   ]
  },
  {
   "cell_type": "code",
   "execution_count": 39,
   "metadata": {
    "collapsed": false
   },
   "outputs": [],
   "source": [
    "strand_plus = \"+\"\n",
    "strand_minus =\"-\"\n",
    "strand_nostrand = \".\"\n",
    "class GenomicArray_fast( HTSeq.GenomicArray ):\n",
    "    \n",
    "   def add_chrom( self, chrom, length = sys.maxint, start_index = 0 ):\n",
    "      if length == sys.maxint:\n",
    "         iv = HTSeq.GenomicInterval( chrom, start_index, sys.maxint, \".\" )\n",
    "      else:\n",
    "         iv = HTSeq.GenomicInterval( chrom, start_index, start_index + length, \".\" )\n",
    "      if self.stranded:\n",
    "         self.chrom_vectors[ chrom ] = {}\n",
    "         iv.strand = \"+\"\n",
    "         self.chrom_vectors[ chrom ][ strand_plus ] = \\\n",
    "            ChromVector_fast.create( iv, self.typecode, self.storage, self.memmap_dir )\n",
    "         iv = iv.copy()\n",
    "         iv.strand = \"-\"\n",
    "         self.chrom_vectors[ chrom ][ strand_minus ] = \\\n",
    "            ChromVector_fast.create( iv, self.typecode, self.storage, self.memmap_dir )\n",
    "      else:\n",
    "         self.chrom_vectors[ chrom ] = {\n",
    "            strand_nostrand:  ChromVector_fast.create( iv, self.typecode, self.storage ) }\n",
    "            \n",
    "   def __setitem__( self, index, value ):\n",
    "      return\n",
    "      if isinstance( index, HTSeq.GenomicInterval ):\n",
    "         print \"gi detected\" \n",
    "         if self.stranded and index.strand not in ( strand_plus, strand_minus ):\n",
    "            raise KeyError, \"Non-stranded index used for stranded GenomicArray.\"\n",
    "         if self.auto_add_chroms and index.chrom not in self.chrom_vectors:\n",
    "            self.add_chrom( index.chrom )\n",
    "         if self.stranded:\n",
    "            self.chrom_vectors[ index.chrom ][ index.strand ][ index.start : index.end ] = value\n",
    "         else:\n",
    "            self.chrom_vectors[ index.chrom ][ strand_nostrand ][ index.start : index.end ] = value\n",
    "      else:\n",
    "         raise TypeError, \"Illegal index type.\""
   ]
  },
  {
   "cell_type": "code",
   "execution_count": 40,
   "metadata": {
    "collapsed": true
   },
   "outputs": [],
   "source": [
    "class GenomicArrayOfSets( GenomicArray_fast ):\n",
    "\n",
    "   \"\"\"A GenomicArrayOfSets is a specialization of GenomicArray that allows to store                                                                                            \n",
    "   sets of objects. On construction, the step vectors are initialized with empty sets.                                                                                         \n",
    "   By using the 'add_value' method, objects can be added to intervals. If an object                                                                                            \n",
    "   is already present in the set(s) at this interval, an the new object is added to                                                                                            \n",
    "   the present set, and the set is split if necessary.                                                                                                                         \n",
    "   \"\"\"\n",
    "\n",
    "   def __init__( self, chroms, stranded=True, storage='step', memmap_dir = \"\" ):\n",
    "      GenomicArray_fast.__init__( self, chroms, stranded, 'O', storage, memmap_dir )\n",
    "\n",
    "   def add_chrom( self, chrom, length = sys.maxint, start_index = 0 ):\n",
    "      GenomicArray_fast.add_chrom( self, chrom, length, start_index )\n",
    "      for cv in self.chrom_vectors[ chrom ].values():\n",
    "        for x in xrange(len(cv.array)):\n",
    "            cv.array[x] = set([])\n",
    "        cv.is_vector_of_sets = True"
   ]
  },
  {
   "cell_type": "code",
   "execution_count": 65,
   "metadata": {
    "collapsed": true
   },
   "outputs": [],
   "source": [
    "for read in samfile:\n",
    "    if len(read.cigar) != 1:\n",
    "        break"
   ]
  },
  {
   "cell_type": "code",
   "execution_count": 82,
   "metadata": {
    "collapsed": false
   },
   "outputs": [
    {
     "ename": "TypeError",
     "evalue": "can't set attributes of built-in/extension type 'pysam.libcsamfile.AlignedRead'",
     "output_type": "error",
     "traceback": [
      "\u001b[0;31m---------------------------------------------------------------------------\u001b[0m",
      "\u001b[0;31mTypeError\u001b[0m                                 Traceback (most recent call last)",
      "\u001b[0;32m<ipython-input-82-44ee34e0d67a>\u001b[0m in \u001b[0;36m<module>\u001b[0;34m()\u001b[0m\n\u001b[0;32m----> 1\u001b[0;31m \u001b[0mpysam\u001b[0m\u001b[0;34m.\u001b[0m\u001b[0mAlignedRead\u001b[0m\u001b[0;34m.\u001b[0m\u001b[0mget_full_length_cigar\u001b[0m \u001b[0;34m=\u001b[0m \u001b[0mget_full_length_cigar\u001b[0m\u001b[0;34m\u001b[0m\u001b[0m\n\u001b[0m",
      "\u001b[0;31mTypeError\u001b[0m: can't set attributes of built-in/extension type 'pysam.libcsamfile.AlignedRead'"
     ]
    }
   ],
   "source": [
    "pysam.AlignedRead = get_full_length_cigar"
   ]
  },
  {
   "cell_type": "code",
   "execution_count": 78,
   "metadata": {
    "collapsed": false
   },
   "outputs": [
    {
     "data": {
      "text/plain": [
       "[(0, 12), (2, 1), (0, 31)]"
      ]
     },
     "execution_count": 78,
     "metadata": {},
     "output_type": "execute_result"
    }
   ],
   "source": [
    "read.cigartuples"
   ]
  },
  {
   "cell_type": "code",
   "execution_count": 72,
   "metadata": {
    "collapsed": false
   },
   "outputs": [
    {
     "data": {
      "text/plain": [
       "43"
      ]
     },
     "execution_count": 72,
     "metadata": {},
     "output_type": "execute_result"
    }
   ],
   "source": [
    "len(read.query)"
   ]
  },
  {
   "cell_type": "code",
   "execution_count": 73,
   "metadata": {
    "collapsed": false
   },
   "outputs": [
    {
     "data": {
      "text/plain": [
       "'12M1D31M'"
      ]
     },
     "execution_count": 73,
     "metadata": {},
     "output_type": "execute_result"
    }
   ],
   "source": [
    "read.cigarstring"
   ]
  },
  {
   "cell_type": "code",
   "execution_count": 75,
   "metadata": {
    "collapsed": true
   },
   "outputs": [],
   "source": [
    "from collections import Counter"
   ]
  },
  {
   "cell_type": "code",
   "execution_count": 86,
   "metadata": {
    "collapsed": false
   },
   "outputs": [],
   "source": [
    "def get_full_length_cigar(read):\n",
    "    for t in read.cigartuples:\n",
    "        value, times = t\n",
    "        for x in xrange(times):\n",
    "            yield value"
   ]
  },
  {
   "cell_type": "code",
   "execution_count": 76,
   "metadata": {
    "collapsed": false
   },
   "outputs": [
    {
     "data": {
      "text/plain": [
       "Counter({17477: 1,\n",
       "         17478: 1,\n",
       "         17479: 1,\n",
       "         17480: 1,\n",
       "         17481: 1,\n",
       "         17482: 1,\n",
       "         17483: 1,\n",
       "         17484: 1,\n",
       "         17485: 1,\n",
       "         17486: 1,\n",
       "         17487: 1,\n",
       "         17488: 1,\n",
       "         17490: 1,\n",
       "         17491: 1,\n",
       "         17492: 1,\n",
       "         17493: 1,\n",
       "         17494: 1,\n",
       "         17495: 1,\n",
       "         17496: 1,\n",
       "         17497: 1,\n",
       "         17498: 1,\n",
       "         17499: 1,\n",
       "         17500: 1,\n",
       "         17501: 1,\n",
       "         17502: 1,\n",
       "         17503: 1,\n",
       "         17504: 1,\n",
       "         17505: 1,\n",
       "         17506: 1,\n",
       "         17507: 1,\n",
       "         17508: 1,\n",
       "         17509: 1,\n",
       "         17510: 1,\n",
       "         17511: 1,\n",
       "         17512: 1,\n",
       "         17513: 1,\n",
       "         17514: 1,\n",
       "         17515: 1,\n",
       "         17516: 1,\n",
       "         17517: 1,\n",
       "         17518: 1,\n",
       "         17519: 1,\n",
       "         17520: 1})"
      ]
     },
     "execution_count": 76,
     "metadata": {},
     "output_type": "execute_result"
    }
   ],
   "source": [
    "Counter(read.positions)"
   ]
  },
  {
   "cell_type": "code",
   "execution_count": 69,
   "metadata": {
    "collapsed": false
   },
   "outputs": [
    {
     "data": {
      "text/plain": [
       "43"
      ]
     },
     "execution_count": 69,
     "metadata": {},
     "output_type": "execute_result"
    }
   ],
   "source": [
    "len(read.positions)"
   ]
  },
  {
   "cell_type": "code",
   "execution_count": 41,
   "metadata": {
    "collapsed": false
   },
   "outputs": [],
   "source": [
    "set_of_reads = GenomicArrayOfSets(gene_dict, stranded=True, storage=\"ndarray\")"
   ]
  },
  {
   "cell_type": "code",
   "execution_count": 42,
   "metadata": {
    "collapsed": false
   },
   "outputs": [],
   "source": [
    "reads = Robust_BAM_Reader(bam_file)\n",
    "reads = list(reads.fetch(\"chr11\", 65265233, 65273940))"
   ]
  },
  {
   "cell_type": "code",
   "execution_count": 43,
   "metadata": {
    "collapsed": false
   },
   "outputs": [
    {
     "ename": "IndexError",
     "evalue": "stop too large",
     "output_type": "error",
     "traceback": [
      "\u001b[0;31m---------------------------------------------------------------------------\u001b[0m",
      "\u001b[0;31mIndexError\u001b[0m                                Traceback (most recent call last)",
      "\u001b[0;32m<ipython-input-43-9a1ad7ef9f2e>\u001b[0m in \u001b[0;36m<module>\u001b[0;34m()\u001b[0m\n\u001b[1;32m      8\u001b[0m             \u001b[0mcigop\u001b[0m\u001b[0;34m.\u001b[0m\u001b[0mref_iv\u001b[0m\u001b[0;34m.\u001b[0m\u001b[0mstart\u001b[0m \u001b[0;34m=\u001b[0m \u001b[0mcigop\u001b[0m\u001b[0;34m.\u001b[0m\u001b[0mref_iv\u001b[0m\u001b[0;34m.\u001b[0m\u001b[0mstart\u001b[0m \u001b[0;34m-\u001b[0m \u001b[0mstart\u001b[0m\u001b[0;34m\u001b[0m\u001b[0m\n\u001b[1;32m      9\u001b[0m             \u001b[0mcigop\u001b[0m\u001b[0;34m.\u001b[0m\u001b[0mref_iv\u001b[0m\u001b[0;34m.\u001b[0m\u001b[0mend\u001b[0m \u001b[0;34m=\u001b[0m \u001b[0mcigop\u001b[0m\u001b[0;34m.\u001b[0m\u001b[0mref_iv\u001b[0m\u001b[0;34m.\u001b[0m\u001b[0mend\u001b[0m \u001b[0;34m-\u001b[0m \u001b[0mstart\u001b[0m\u001b[0;34m\u001b[0m\u001b[0m\n\u001b[0;32m---> 10\u001b[0;31m             \u001b[0mset_of_reads\u001b[0m\u001b[0;34m[\u001b[0m\u001b[0mcigop\u001b[0m\u001b[0;34m.\u001b[0m\u001b[0mref_iv\u001b[0m\u001b[0;34m]\u001b[0m \u001b[0;34m+=\u001b[0m \u001b[0mread\u001b[0m\u001b[0;34m.\u001b[0m\u001b[0mread\u001b[0m\u001b[0;34m.\u001b[0m\u001b[0mname\u001b[0m\u001b[0;34m\u001b[0m\u001b[0m\n\u001b[0m\u001b[1;32m     11\u001b[0m     \u001b[0;32mbreak\u001b[0m\u001b[0;34m\u001b[0m\u001b[0m\n",
      "\u001b[0;32m_HTSeq.pyx\u001b[0m in \u001b[0;36mHTSeq._HTSeq.GenomicArray.__getitem__ (src/_HTSeq.c:10761)\u001b[0;34m()\u001b[0m\n",
      "\u001b[0;32m_HTSeq.pyx\u001b[0m in \u001b[0;36mHTSeq._HTSeq.ChromVector.__getitem__ (src/_HTSeq.c:7711)\u001b[0;34m()\u001b[0m\n",
      "\u001b[0;31mIndexError\u001b[0m: stop too large"
     ]
    }
   ],
   "source": [
    "reads = (read for read in reads if (read.iv.start_d > start) & (read.iv.end_d < stop))\n",
    "for read in reads:\n",
    "    if read.aligned:\n",
    "        #read_len = sum(cigar.size for cigar in read.cigar if cigar.type == \"M\")\n",
    "        for cigop in read.cigar:\n",
    "            if cigop.type != \"M\":\n",
    "                continue\n",
    "            cigop.ref_iv.start = cigop.ref_iv.start - start\n",
    "            cigop.ref_iv.end = cigop.ref_iv.end - start\n",
    "            set_of_reads[cigop.ref_iv] += read.read.name\n",
    "    break"
   ]
  },
  {
   "cell_type": "code",
   "execution_count": 51,
   "metadata": {
    "collapsed": true
   },
   "outputs": [],
   "source": [
    "gene_len = stop - start\n",
    "gene_dict = {\"chr11\": gene_len}\n",
    "\n",
    "set_of_reads = GenomicArrayOfSets(gene_dict, stranded=True, storage=\"ndarray\")\n"
   ]
  },
  {
   "cell_type": "code",
   "execution_count": 50,
   "metadata": {
    "collapsed": false
   },
   "outputs": [
    {
     "data": {
      "text/plain": [
       "[{'TCCCG:SN1001:449:HGTN3ADXX:1:2115:2850:77718'},\n",
       " {'TCCCG:SN1001:449:HGTN3ADXX:1:2115:2850:77718'}]"
      ]
     },
     "execution_count": 50,
     "metadata": {},
     "output_type": "execute_result"
    }
   ],
   "source": [
    "list(set_of_reads[cigop.ref_iv])"
   ]
  },
  {
   "cell_type": "code",
   "execution_count": 48,
   "metadata": {
    "collapsed": true
   },
   "outputs": [],
   "source": [
    "from IPython.core.debugger import Tracer\n",
    "\n",
    "def my_function():\n",
    "    x = 5\n",
    "    Tracer()()\n",
    "    set_of_reads[cigop.ref_iv] += read.read.name"
   ]
  },
  {
   "cell_type": "code",
   "execution_count": 49,
   "metadata": {
    "collapsed": false
   },
   "outputs": [
    {
     "name": "stderr",
     "output_type": "stream",
     "text": [
      "/home/gpratt/anaconda/lib/python2.7/site-packages/ipykernel/__main__.py:5: DeprecationWarning: `Tracer` is deprecated since version 5.1, directly use `IPython.core.debugger.Pdb.set_trace()`\n"
     ]
    },
    {
     "name": "stdout",
     "output_type": "stream",
     "text": [
      "> \u001b[0;32m<ipython-input-48-30221326aa39>\u001b[0m(6)\u001b[0;36mmy_function\u001b[0;34m()\u001b[0m\n",
      "\u001b[0;32m      2 \u001b[0;31m\u001b[0;34m\u001b[0m\u001b[0m\n",
      "\u001b[0m\u001b[0;32m      3 \u001b[0;31m\u001b[0;32mdef\u001b[0m \u001b[0mmy_function\u001b[0m\u001b[0;34m(\u001b[0m\u001b[0;34m)\u001b[0m\u001b[0;34m:\u001b[0m\u001b[0;34m\u001b[0m\u001b[0m\n",
      "\u001b[0m\u001b[0;32m      4 \u001b[0;31m    \u001b[0mx\u001b[0m \u001b[0;34m=\u001b[0m \u001b[0;36m5\u001b[0m\u001b[0;34m\u001b[0m\u001b[0m\n",
      "\u001b[0m\u001b[0;32m      5 \u001b[0;31m    \u001b[0mTracer\u001b[0m\u001b[0;34m(\u001b[0m\u001b[0;34m)\u001b[0m\u001b[0;34m(\u001b[0m\u001b[0;34m)\u001b[0m\u001b[0;34m\u001b[0m\u001b[0m\n",
      "\u001b[0m\u001b[0;32m----> 6 \u001b[0;31m    \u001b[0mset_of_reads\u001b[0m\u001b[0;34m[\u001b[0m\u001b[0mcigop\u001b[0m\u001b[0;34m.\u001b[0m\u001b[0mref_iv\u001b[0m\u001b[0;34m]\u001b[0m \u001b[0;34m+=\u001b[0m \u001b[0mread\u001b[0m\u001b[0;34m.\u001b[0m\u001b[0mread\u001b[0m\u001b[0;34m.\u001b[0m\u001b[0mname\u001b[0m\u001b[0;34m\u001b[0m\u001b[0m\n",
      "\u001b[0m\n",
      "ipdb> s\n",
      "--Call--\n",
      "> \u001b[0;32m<ipython-input-9-f86c948f772b>\u001b[0m(8)\u001b[0;36mChromVector_steps\u001b[0;34m()\u001b[0m\n",
      "\u001b[0;32m      6 \u001b[0;31m    \u001b[0mcv\u001b[0m\u001b[0;34m.\u001b[0m\u001b[0mis_vector_of_sets\u001b[0m \u001b[0;34m=\u001b[0m \u001b[0mTrue\u001b[0m\u001b[0;34m\u001b[0m\u001b[0m\n",
      "\u001b[0m\u001b[0;32m      7 \u001b[0;31m\u001b[0;34m\u001b[0m\u001b[0m\n",
      "\u001b[0m\u001b[0;32m----> 8 \u001b[0;31m\u001b[0;32mdef\u001b[0m \u001b[0mChromVector_steps\u001b[0m\u001b[0;34m(\u001b[0m \u001b[0mcv\u001b[0m \u001b[0;34m)\u001b[0m\u001b[0;34m:\u001b[0m\u001b[0;34m\u001b[0m\u001b[0m\n",
      "\u001b[0m\u001b[0;32m      9 \u001b[0;31m   \u001b[0;32mif\u001b[0m \u001b[0misinstance\u001b[0m\u001b[0;34m(\u001b[0m \u001b[0mcv\u001b[0m\u001b[0;34m.\u001b[0m\u001b[0marray\u001b[0m\u001b[0;34m,\u001b[0m \u001b[0mnumpy\u001b[0m\u001b[0;34m.\u001b[0m\u001b[0mndarray\u001b[0m \u001b[0;34m)\u001b[0m\u001b[0;34m:\u001b[0m\u001b[0;34m\u001b[0m\u001b[0m\n",
      "\u001b[0m\u001b[0;32m     10 \u001b[0;31m      \u001b[0mstart\u001b[0m \u001b[0;34m=\u001b[0m \u001b[0mcv\u001b[0m\u001b[0;34m.\u001b[0m\u001b[0miv\u001b[0m\u001b[0;34m.\u001b[0m\u001b[0mstart\u001b[0m\u001b[0;34m\u001b[0m\u001b[0m\n",
      "\u001b[0m\n",
      "ipdb> s\n",
      "> \u001b[0;32m<ipython-input-9-f86c948f772b>\u001b[0m(9)\u001b[0;36mChromVector_steps\u001b[0;34m()\u001b[0m\n",
      "\u001b[0;32m      7 \u001b[0;31m\u001b[0;34m\u001b[0m\u001b[0m\n",
      "\u001b[0m\u001b[0;32m      8 \u001b[0;31m\u001b[0;32mdef\u001b[0m \u001b[0mChromVector_steps\u001b[0m\u001b[0;34m(\u001b[0m \u001b[0mcv\u001b[0m \u001b[0;34m)\u001b[0m\u001b[0;34m:\u001b[0m\u001b[0;34m\u001b[0m\u001b[0m\n",
      "\u001b[0m\u001b[0;32m----> 9 \u001b[0;31m   \u001b[0;32mif\u001b[0m \u001b[0misinstance\u001b[0m\u001b[0;34m(\u001b[0m \u001b[0mcv\u001b[0m\u001b[0;34m.\u001b[0m\u001b[0marray\u001b[0m\u001b[0;34m,\u001b[0m \u001b[0mnumpy\u001b[0m\u001b[0;34m.\u001b[0m\u001b[0mndarray\u001b[0m \u001b[0;34m)\u001b[0m\u001b[0;34m:\u001b[0m\u001b[0;34m\u001b[0m\u001b[0m\n",
      "\u001b[0m\u001b[0;32m     10 \u001b[0;31m      \u001b[0mstart\u001b[0m \u001b[0;34m=\u001b[0m \u001b[0mcv\u001b[0m\u001b[0;34m.\u001b[0m\u001b[0miv\u001b[0m\u001b[0;34m.\u001b[0m\u001b[0mstart\u001b[0m\u001b[0;34m\u001b[0m\u001b[0m\n",
      "\u001b[0m\u001b[0;32m     11 \u001b[0;31m      \u001b[0mprev_val\u001b[0m \u001b[0;34m=\u001b[0m \u001b[0mNone\u001b[0m\u001b[0;34m\u001b[0m\u001b[0m\n",
      "\u001b[0m\n",
      "ipdb> n\n",
      "> \u001b[0;32m<ipython-input-9-f86c948f772b>\u001b[0m(10)\u001b[0;36mChromVector_steps\u001b[0;34m()\u001b[0m\n",
      "\u001b[0;32m      8 \u001b[0;31m\u001b[0;32mdef\u001b[0m \u001b[0mChromVector_steps\u001b[0m\u001b[0;34m(\u001b[0m \u001b[0mcv\u001b[0m \u001b[0;34m)\u001b[0m\u001b[0;34m:\u001b[0m\u001b[0;34m\u001b[0m\u001b[0m\n",
      "\u001b[0m\u001b[0;32m      9 \u001b[0;31m   \u001b[0;32mif\u001b[0m \u001b[0misinstance\u001b[0m\u001b[0;34m(\u001b[0m \u001b[0mcv\u001b[0m\u001b[0;34m.\u001b[0m\u001b[0marray\u001b[0m\u001b[0;34m,\u001b[0m \u001b[0mnumpy\u001b[0m\u001b[0;34m.\u001b[0m\u001b[0mndarray\u001b[0m \u001b[0;34m)\u001b[0m\u001b[0;34m:\u001b[0m\u001b[0;34m\u001b[0m\u001b[0m\n",
      "\u001b[0m\u001b[0;32m---> 10 \u001b[0;31m      \u001b[0mstart\u001b[0m \u001b[0;34m=\u001b[0m \u001b[0mcv\u001b[0m\u001b[0;34m.\u001b[0m\u001b[0miv\u001b[0m\u001b[0;34m.\u001b[0m\u001b[0mstart\u001b[0m\u001b[0;34m\u001b[0m\u001b[0m\n",
      "\u001b[0m\u001b[0;32m     11 \u001b[0;31m      \u001b[0mprev_val\u001b[0m \u001b[0;34m=\u001b[0m \u001b[0mNone\u001b[0m\u001b[0;34m\u001b[0m\u001b[0m\n",
      "\u001b[0m\u001b[0;32m     12 \u001b[0;31m      \u001b[0;32mfor\u001b[0m \u001b[0mi\u001b[0m \u001b[0;32min\u001b[0m \u001b[0mxrange\u001b[0m\u001b[0;34m(\u001b[0m \u001b[0mcv\u001b[0m\u001b[0;34m.\u001b[0m\u001b[0miv\u001b[0m\u001b[0;34m.\u001b[0m\u001b[0mstart\u001b[0m\u001b[0;34m,\u001b[0m \u001b[0mcv\u001b[0m\u001b[0;34m.\u001b[0m\u001b[0miv\u001b[0m\u001b[0;34m.\u001b[0m\u001b[0mend\u001b[0m \u001b[0;34m)\u001b[0m\u001b[0;34m:\u001b[0m\u001b[0;34m\u001b[0m\u001b[0m\n",
      "\u001b[0m\n",
      "ipdb> n\n",
      "> \u001b[0;32m<ipython-input-9-f86c948f772b>\u001b[0m(11)\u001b[0;36mChromVector_steps\u001b[0;34m()\u001b[0m\n",
      "\u001b[0;32m      9 \u001b[0;31m   \u001b[0;32mif\u001b[0m \u001b[0misinstance\u001b[0m\u001b[0;34m(\u001b[0m \u001b[0mcv\u001b[0m\u001b[0;34m.\u001b[0m\u001b[0marray\u001b[0m\u001b[0;34m,\u001b[0m \u001b[0mnumpy\u001b[0m\u001b[0;34m.\u001b[0m\u001b[0mndarray\u001b[0m \u001b[0;34m)\u001b[0m\u001b[0;34m:\u001b[0m\u001b[0;34m\u001b[0m\u001b[0m\n",
      "\u001b[0m\u001b[0;32m     10 \u001b[0;31m      \u001b[0mstart\u001b[0m \u001b[0;34m=\u001b[0m \u001b[0mcv\u001b[0m\u001b[0;34m.\u001b[0m\u001b[0miv\u001b[0m\u001b[0;34m.\u001b[0m\u001b[0mstart\u001b[0m\u001b[0;34m\u001b[0m\u001b[0m\n",
      "\u001b[0m\u001b[0;32m---> 11 \u001b[0;31m      \u001b[0mprev_val\u001b[0m \u001b[0;34m=\u001b[0m \u001b[0mNone\u001b[0m\u001b[0;34m\u001b[0m\u001b[0m\n",
      "\u001b[0m\u001b[0;32m     12 \u001b[0;31m      \u001b[0;32mfor\u001b[0m \u001b[0mi\u001b[0m \u001b[0;32min\u001b[0m \u001b[0mxrange\u001b[0m\u001b[0;34m(\u001b[0m \u001b[0mcv\u001b[0m\u001b[0;34m.\u001b[0m\u001b[0miv\u001b[0m\u001b[0;34m.\u001b[0m\u001b[0mstart\u001b[0m\u001b[0;34m,\u001b[0m \u001b[0mcv\u001b[0m\u001b[0;34m.\u001b[0m\u001b[0miv\u001b[0m\u001b[0;34m.\u001b[0m\u001b[0mend\u001b[0m \u001b[0;34m)\u001b[0m\u001b[0;34m:\u001b[0m\u001b[0;34m\u001b[0m\u001b[0m\n",
      "\u001b[0m\u001b[0;32m     13 \u001b[0;31m         \u001b[0mval\u001b[0m \u001b[0;34m=\u001b[0m \u001b[0mcv\u001b[0m\u001b[0;34m.\u001b[0m\u001b[0marray\u001b[0m\u001b[0;34m[\u001b[0m \u001b[0mi\u001b[0m \u001b[0;34m-\u001b[0m \u001b[0mcv\u001b[0m\u001b[0;34m.\u001b[0m\u001b[0moffset\u001b[0m \u001b[0;34m]\u001b[0m\u001b[0;34m\u001b[0m\u001b[0m\n",
      "\u001b[0m\n",
      "ipdb> n\n",
      "> \u001b[0;32m<ipython-input-9-f86c948f772b>\u001b[0m(12)\u001b[0;36mChromVector_steps\u001b[0;34m()\u001b[0m\n",
      "\u001b[0;32m     10 \u001b[0;31m      \u001b[0mstart\u001b[0m \u001b[0;34m=\u001b[0m \u001b[0mcv\u001b[0m\u001b[0;34m.\u001b[0m\u001b[0miv\u001b[0m\u001b[0;34m.\u001b[0m\u001b[0mstart\u001b[0m\u001b[0;34m\u001b[0m\u001b[0m\n",
      "\u001b[0m\u001b[0;32m     11 \u001b[0;31m      \u001b[0mprev_val\u001b[0m \u001b[0;34m=\u001b[0m \u001b[0mNone\u001b[0m\u001b[0;34m\u001b[0m\u001b[0m\n",
      "\u001b[0m\u001b[0;32m---> 12 \u001b[0;31m      \u001b[0;32mfor\u001b[0m \u001b[0mi\u001b[0m \u001b[0;32min\u001b[0m \u001b[0mxrange\u001b[0m\u001b[0;34m(\u001b[0m \u001b[0mcv\u001b[0m\u001b[0;34m.\u001b[0m\u001b[0miv\u001b[0m\u001b[0;34m.\u001b[0m\u001b[0mstart\u001b[0m\u001b[0;34m,\u001b[0m \u001b[0mcv\u001b[0m\u001b[0;34m.\u001b[0m\u001b[0miv\u001b[0m\u001b[0;34m.\u001b[0m\u001b[0mend\u001b[0m \u001b[0;34m)\u001b[0m\u001b[0;34m:\u001b[0m\u001b[0;34m\u001b[0m\u001b[0m\n",
      "\u001b[0m\u001b[0;32m     13 \u001b[0;31m         \u001b[0mval\u001b[0m \u001b[0;34m=\u001b[0m \u001b[0mcv\u001b[0m\u001b[0;34m.\u001b[0m\u001b[0marray\u001b[0m\u001b[0;34m[\u001b[0m \u001b[0mi\u001b[0m \u001b[0;34m-\u001b[0m \u001b[0mcv\u001b[0m\u001b[0;34m.\u001b[0m\u001b[0moffset\u001b[0m \u001b[0;34m]\u001b[0m\u001b[0;34m\u001b[0m\u001b[0m\n",
      "\u001b[0m\u001b[0;32m     14 \u001b[0;31m         \u001b[0;32mif\u001b[0m \u001b[0mprev_val\u001b[0m \u001b[0;32mis\u001b[0m \u001b[0mNone\u001b[0m \u001b[0;32mor\u001b[0m \u001b[0mval\u001b[0m \u001b[0;32mis\u001b[0m \u001b[0;32mnot\u001b[0m \u001b[0mprev_val\u001b[0m\u001b[0;34m:\u001b[0m\u001b[0;34m\u001b[0m\u001b[0m\n",
      "\u001b[0m\n",
      "ipdb> s\n",
      "> \u001b[0;32m<ipython-input-9-f86c948f772b>\u001b[0m(13)\u001b[0;36mChromVector_steps\u001b[0;34m()\u001b[0m\n",
      "\u001b[0;32m     11 \u001b[0;31m      \u001b[0mprev_val\u001b[0m \u001b[0;34m=\u001b[0m \u001b[0mNone\u001b[0m\u001b[0;34m\u001b[0m\u001b[0m\n",
      "\u001b[0m\u001b[0;32m     12 \u001b[0;31m      \u001b[0;32mfor\u001b[0m \u001b[0mi\u001b[0m \u001b[0;32min\u001b[0m \u001b[0mxrange\u001b[0m\u001b[0;34m(\u001b[0m \u001b[0mcv\u001b[0m\u001b[0;34m.\u001b[0m\u001b[0miv\u001b[0m\u001b[0;34m.\u001b[0m\u001b[0mstart\u001b[0m\u001b[0;34m,\u001b[0m \u001b[0mcv\u001b[0m\u001b[0;34m.\u001b[0m\u001b[0miv\u001b[0m\u001b[0;34m.\u001b[0m\u001b[0mend\u001b[0m \u001b[0;34m)\u001b[0m\u001b[0;34m:\u001b[0m\u001b[0;34m\u001b[0m\u001b[0m\n",
      "\u001b[0m\u001b[0;32m---> 13 \u001b[0;31m         \u001b[0mval\u001b[0m \u001b[0;34m=\u001b[0m \u001b[0mcv\u001b[0m\u001b[0;34m.\u001b[0m\u001b[0marray\u001b[0m\u001b[0;34m[\u001b[0m \u001b[0mi\u001b[0m \u001b[0;34m-\u001b[0m \u001b[0mcv\u001b[0m\u001b[0;34m.\u001b[0m\u001b[0moffset\u001b[0m \u001b[0;34m]\u001b[0m\u001b[0;34m\u001b[0m\u001b[0m\n",
      "\u001b[0m\u001b[0;32m     14 \u001b[0;31m         \u001b[0;32mif\u001b[0m \u001b[0mprev_val\u001b[0m \u001b[0;32mis\u001b[0m \u001b[0mNone\u001b[0m \u001b[0;32mor\u001b[0m \u001b[0mval\u001b[0m \u001b[0;32mis\u001b[0m \u001b[0;32mnot\u001b[0m \u001b[0mprev_val\u001b[0m\u001b[0;34m:\u001b[0m\u001b[0;34m\u001b[0m\u001b[0m\n",
      "\u001b[0m\u001b[0;32m     15 \u001b[0;31m\u001b[0;34m\u001b[0m\u001b[0m\n",
      "\u001b[0m\n",
      "ipdb> s\n",
      "> \u001b[0;32m<ipython-input-9-f86c948f772b>\u001b[0m(14)\u001b[0;36mChromVector_steps\u001b[0;34m()\u001b[0m\n",
      "\u001b[0;32m     12 \u001b[0;31m      \u001b[0;32mfor\u001b[0m \u001b[0mi\u001b[0m \u001b[0;32min\u001b[0m \u001b[0mxrange\u001b[0m\u001b[0;34m(\u001b[0m \u001b[0mcv\u001b[0m\u001b[0;34m.\u001b[0m\u001b[0miv\u001b[0m\u001b[0;34m.\u001b[0m\u001b[0mstart\u001b[0m\u001b[0;34m,\u001b[0m \u001b[0mcv\u001b[0m\u001b[0;34m.\u001b[0m\u001b[0miv\u001b[0m\u001b[0;34m.\u001b[0m\u001b[0mend\u001b[0m \u001b[0;34m)\u001b[0m\u001b[0;34m:\u001b[0m\u001b[0;34m\u001b[0m\u001b[0m\n",
      "\u001b[0m\u001b[0;32m     13 \u001b[0;31m         \u001b[0mval\u001b[0m \u001b[0;34m=\u001b[0m \u001b[0mcv\u001b[0m\u001b[0;34m.\u001b[0m\u001b[0marray\u001b[0m\u001b[0;34m[\u001b[0m \u001b[0mi\u001b[0m \u001b[0;34m-\u001b[0m \u001b[0mcv\u001b[0m\u001b[0;34m.\u001b[0m\u001b[0moffset\u001b[0m \u001b[0;34m]\u001b[0m\u001b[0;34m\u001b[0m\u001b[0m\n",
      "\u001b[0m\u001b[0;32m---> 14 \u001b[0;31m         \u001b[0;32mif\u001b[0m \u001b[0mprev_val\u001b[0m \u001b[0;32mis\u001b[0m \u001b[0mNone\u001b[0m \u001b[0;32mor\u001b[0m \u001b[0mval\u001b[0m \u001b[0;32mis\u001b[0m \u001b[0;32mnot\u001b[0m \u001b[0mprev_val\u001b[0m\u001b[0;34m:\u001b[0m\u001b[0;34m\u001b[0m\u001b[0m\n",
      "\u001b[0m\u001b[0;32m     15 \u001b[0;31m\u001b[0;34m\u001b[0m\u001b[0m\n",
      "\u001b[0m\u001b[0;32m     16 \u001b[0;31m            \u001b[0;32mif\u001b[0m \u001b[0mprev_val\u001b[0m \u001b[0;32mis\u001b[0m \u001b[0;32mnot\u001b[0m \u001b[0mNone\u001b[0m\u001b[0;34m:\u001b[0m\u001b[0;34m\u001b[0m\u001b[0m\n",
      "\u001b[0m\n",
      "ipdb> s\n",
      "> \u001b[0;32m<ipython-input-9-f86c948f772b>\u001b[0m(16)\u001b[0;36mChromVector_steps\u001b[0;34m()\u001b[0m\n",
      "\u001b[0;32m     14 \u001b[0;31m         \u001b[0;32mif\u001b[0m \u001b[0mprev_val\u001b[0m \u001b[0;32mis\u001b[0m \u001b[0mNone\u001b[0m \u001b[0;32mor\u001b[0m \u001b[0mval\u001b[0m \u001b[0;32mis\u001b[0m \u001b[0;32mnot\u001b[0m \u001b[0mprev_val\u001b[0m\u001b[0;34m:\u001b[0m\u001b[0;34m\u001b[0m\u001b[0m\n",
      "\u001b[0m\u001b[0;32m     15 \u001b[0;31m\u001b[0;34m\u001b[0m\u001b[0m\n",
      "\u001b[0m\u001b[0;32m---> 16 \u001b[0;31m            \u001b[0;32mif\u001b[0m \u001b[0mprev_val\u001b[0m \u001b[0;32mis\u001b[0m \u001b[0;32mnot\u001b[0m \u001b[0mNone\u001b[0m\u001b[0;34m:\u001b[0m\u001b[0;34m\u001b[0m\u001b[0m\n",
      "\u001b[0m\u001b[0;32m     17 \u001b[0;31m               \u001b[0;32myield\u001b[0m \u001b[0;34m(\u001b[0m \u001b[0mHTSeq\u001b[0m\u001b[0;34m.\u001b[0m\u001b[0mGenomicInterval\u001b[0m\u001b[0;34m(\u001b[0m \u001b[0mcv\u001b[0m\u001b[0;34m.\u001b[0m\u001b[0miv\u001b[0m\u001b[0;34m.\u001b[0m\u001b[0mchrom\u001b[0m\u001b[0;34m,\u001b[0m \u001b[0mstart\u001b[0m\u001b[0;34m,\u001b[0m \u001b[0mi\u001b[0m\u001b[0;34m,\u001b[0m \u001b[0mcv\u001b[0m\u001b[0;34m.\u001b[0m\u001b[0miv\u001b[0m\u001b[0;34m.\u001b[0m\u001b[0mstrand\u001b[0m \u001b[0;34m)\u001b[0m\u001b[0;34m,\u001b[0m \u001b[0mprev_val\u001b[0m \u001b[0;34m)\u001b[0m\u001b[0;34m\u001b[0m\u001b[0m\n",
      "\u001b[0m\u001b[0;32m     18 \u001b[0;31m            \u001b[0mprev_val\u001b[0m \u001b[0;34m=\u001b[0m \u001b[0mval\u001b[0m\u001b[0;34m\u001b[0m\u001b[0m\n",
      "\u001b[0m\n",
      "ipdb> s\n",
      "> \u001b[0;32m<ipython-input-9-f86c948f772b>\u001b[0m(18)\u001b[0;36mChromVector_steps\u001b[0;34m()\u001b[0m\n",
      "\u001b[0;32m     16 \u001b[0;31m            \u001b[0;32mif\u001b[0m \u001b[0mprev_val\u001b[0m \u001b[0;32mis\u001b[0m \u001b[0;32mnot\u001b[0m \u001b[0mNone\u001b[0m\u001b[0;34m:\u001b[0m\u001b[0;34m\u001b[0m\u001b[0m\n",
      "\u001b[0m\u001b[0;32m     17 \u001b[0;31m               \u001b[0;32myield\u001b[0m \u001b[0;34m(\u001b[0m \u001b[0mHTSeq\u001b[0m\u001b[0;34m.\u001b[0m\u001b[0mGenomicInterval\u001b[0m\u001b[0;34m(\u001b[0m \u001b[0mcv\u001b[0m\u001b[0;34m.\u001b[0m\u001b[0miv\u001b[0m\u001b[0;34m.\u001b[0m\u001b[0mchrom\u001b[0m\u001b[0;34m,\u001b[0m \u001b[0mstart\u001b[0m\u001b[0;34m,\u001b[0m \u001b[0mi\u001b[0m\u001b[0;34m,\u001b[0m \u001b[0mcv\u001b[0m\u001b[0;34m.\u001b[0m\u001b[0miv\u001b[0m\u001b[0;34m.\u001b[0m\u001b[0mstrand\u001b[0m \u001b[0;34m)\u001b[0m\u001b[0;34m,\u001b[0m \u001b[0mprev_val\u001b[0m \u001b[0;34m)\u001b[0m\u001b[0;34m\u001b[0m\u001b[0m\n",
      "\u001b[0m\u001b[0;32m---> 18 \u001b[0;31m            \u001b[0mprev_val\u001b[0m \u001b[0;34m=\u001b[0m \u001b[0mval\u001b[0m\u001b[0;34m\u001b[0m\u001b[0m\n",
      "\u001b[0m\u001b[0;32m     19 \u001b[0;31m            \u001b[0mstart\u001b[0m \u001b[0;34m=\u001b[0m \u001b[0mi\u001b[0m\u001b[0;34m\u001b[0m\u001b[0m\n",
      "\u001b[0m\u001b[0;32m     20 \u001b[0;31m      \u001b[0;32myield\u001b[0m \u001b[0;34m(\u001b[0m \u001b[0mHTSeq\u001b[0m\u001b[0;34m.\u001b[0m\u001b[0mGenomicInterval\u001b[0m\u001b[0;34m(\u001b[0m \u001b[0mcv\u001b[0m\u001b[0;34m.\u001b[0m\u001b[0miv\u001b[0m\u001b[0;34m.\u001b[0m\u001b[0mchrom\u001b[0m\u001b[0;34m,\u001b[0m \u001b[0mstart\u001b[0m\u001b[0;34m,\u001b[0m \u001b[0mcv\u001b[0m\u001b[0;34m.\u001b[0m\u001b[0miv\u001b[0m\u001b[0;34m.\u001b[0m\u001b[0mend\u001b[0m\u001b[0;34m,\u001b[0m \u001b[0mcv\u001b[0m\u001b[0;34m.\u001b[0m\u001b[0miv\u001b[0m\u001b[0;34m.\u001b[0m\u001b[0mstrand\u001b[0m \u001b[0;34m)\u001b[0m\u001b[0;34m,\u001b[0m \u001b[0mprev_val\u001b[0m \u001b[0;34m)\u001b[0m\u001b[0;34m\u001b[0m\u001b[0m\n",
      "\u001b[0m\n",
      "ipdb> s\n",
      "> \u001b[0;32m<ipython-input-9-f86c948f772b>\u001b[0m(19)\u001b[0;36mChromVector_steps\u001b[0;34m()\u001b[0m\n",
      "\u001b[0;32m     17 \u001b[0;31m               \u001b[0;32myield\u001b[0m \u001b[0;34m(\u001b[0m \u001b[0mHTSeq\u001b[0m\u001b[0;34m.\u001b[0m\u001b[0mGenomicInterval\u001b[0m\u001b[0;34m(\u001b[0m \u001b[0mcv\u001b[0m\u001b[0;34m.\u001b[0m\u001b[0miv\u001b[0m\u001b[0;34m.\u001b[0m\u001b[0mchrom\u001b[0m\u001b[0;34m,\u001b[0m \u001b[0mstart\u001b[0m\u001b[0;34m,\u001b[0m \u001b[0mi\u001b[0m\u001b[0;34m,\u001b[0m \u001b[0mcv\u001b[0m\u001b[0;34m.\u001b[0m\u001b[0miv\u001b[0m\u001b[0;34m.\u001b[0m\u001b[0mstrand\u001b[0m \u001b[0;34m)\u001b[0m\u001b[0;34m,\u001b[0m \u001b[0mprev_val\u001b[0m \u001b[0;34m)\u001b[0m\u001b[0;34m\u001b[0m\u001b[0m\n",
      "\u001b[0m\u001b[0;32m     18 \u001b[0;31m            \u001b[0mprev_val\u001b[0m \u001b[0;34m=\u001b[0m \u001b[0mval\u001b[0m\u001b[0;34m\u001b[0m\u001b[0m\n",
      "\u001b[0m\u001b[0;32m---> 19 \u001b[0;31m            \u001b[0mstart\u001b[0m \u001b[0;34m=\u001b[0m \u001b[0mi\u001b[0m\u001b[0;34m\u001b[0m\u001b[0m\n",
      "\u001b[0m\u001b[0;32m     20 \u001b[0;31m      \u001b[0;32myield\u001b[0m \u001b[0;34m(\u001b[0m \u001b[0mHTSeq\u001b[0m\u001b[0;34m.\u001b[0m\u001b[0mGenomicInterval\u001b[0m\u001b[0;34m(\u001b[0m \u001b[0mcv\u001b[0m\u001b[0;34m.\u001b[0m\u001b[0miv\u001b[0m\u001b[0;34m.\u001b[0m\u001b[0mchrom\u001b[0m\u001b[0;34m,\u001b[0m \u001b[0mstart\u001b[0m\u001b[0;34m,\u001b[0m \u001b[0mcv\u001b[0m\u001b[0;34m.\u001b[0m\u001b[0miv\u001b[0m\u001b[0;34m.\u001b[0m\u001b[0mend\u001b[0m\u001b[0;34m,\u001b[0m \u001b[0mcv\u001b[0m\u001b[0;34m.\u001b[0m\u001b[0miv\u001b[0m\u001b[0;34m.\u001b[0m\u001b[0mstrand\u001b[0m \u001b[0;34m)\u001b[0m\u001b[0;34m,\u001b[0m \u001b[0mprev_val\u001b[0m \u001b[0;34m)\u001b[0m\u001b[0;34m\u001b[0m\u001b[0m\n",
      "\u001b[0m\u001b[0;32m     21 \u001b[0;31m   \u001b[0;32melif\u001b[0m \u001b[0misinstance\u001b[0m\u001b[0;34m(\u001b[0m \u001b[0mcv\u001b[0m\u001b[0;34m.\u001b[0m\u001b[0marray\u001b[0m\u001b[0;34m,\u001b[0m \u001b[0mHTSeq\u001b[0m\u001b[0;34m.\u001b[0m\u001b[0mStepVector\u001b[0m\u001b[0;34m.\u001b[0m\u001b[0mStepVector\u001b[0m \u001b[0;34m)\u001b[0m\u001b[0;34m:\u001b[0m\u001b[0;34m\u001b[0m\u001b[0m\n",
      "\u001b[0m\n",
      "ipdb> s\n",
      "> \u001b[0;32m<ipython-input-9-f86c948f772b>\u001b[0m(12)\u001b[0;36mChromVector_steps\u001b[0;34m()\u001b[0m\n",
      "\u001b[0;32m     10 \u001b[0;31m      \u001b[0mstart\u001b[0m \u001b[0;34m=\u001b[0m \u001b[0mcv\u001b[0m\u001b[0;34m.\u001b[0m\u001b[0miv\u001b[0m\u001b[0;34m.\u001b[0m\u001b[0mstart\u001b[0m\u001b[0;34m\u001b[0m\u001b[0m\n",
      "\u001b[0m\u001b[0;32m     11 \u001b[0;31m      \u001b[0mprev_val\u001b[0m \u001b[0;34m=\u001b[0m \u001b[0mNone\u001b[0m\u001b[0;34m\u001b[0m\u001b[0m\n",
      "\u001b[0m\u001b[0;32m---> 12 \u001b[0;31m      \u001b[0;32mfor\u001b[0m \u001b[0mi\u001b[0m \u001b[0;32min\u001b[0m \u001b[0mxrange\u001b[0m\u001b[0;34m(\u001b[0m \u001b[0mcv\u001b[0m\u001b[0;34m.\u001b[0m\u001b[0miv\u001b[0m\u001b[0;34m.\u001b[0m\u001b[0mstart\u001b[0m\u001b[0;34m,\u001b[0m \u001b[0mcv\u001b[0m\u001b[0;34m.\u001b[0m\u001b[0miv\u001b[0m\u001b[0;34m.\u001b[0m\u001b[0mend\u001b[0m \u001b[0;34m)\u001b[0m\u001b[0;34m:\u001b[0m\u001b[0;34m\u001b[0m\u001b[0m\n",
      "\u001b[0m\u001b[0;32m     13 \u001b[0;31m         \u001b[0mval\u001b[0m \u001b[0;34m=\u001b[0m \u001b[0mcv\u001b[0m\u001b[0;34m.\u001b[0m\u001b[0marray\u001b[0m\u001b[0;34m[\u001b[0m \u001b[0mi\u001b[0m \u001b[0;34m-\u001b[0m \u001b[0mcv\u001b[0m\u001b[0;34m.\u001b[0m\u001b[0moffset\u001b[0m \u001b[0;34m]\u001b[0m\u001b[0;34m\u001b[0m\u001b[0m\n",
      "\u001b[0m\u001b[0;32m     14 \u001b[0;31m         \u001b[0;32mif\u001b[0m \u001b[0mprev_val\u001b[0m \u001b[0;32mis\u001b[0m \u001b[0mNone\u001b[0m \u001b[0;32mor\u001b[0m \u001b[0mval\u001b[0m \u001b[0;32mis\u001b[0m \u001b[0;32mnot\u001b[0m \u001b[0mprev_val\u001b[0m\u001b[0;34m:\u001b[0m\u001b[0;34m\u001b[0m\u001b[0m\n",
      "\u001b[0m\n",
      "ipdb> s\n",
      "> \u001b[0;32m<ipython-input-9-f86c948f772b>\u001b[0m(13)\u001b[0;36mChromVector_steps\u001b[0;34m()\u001b[0m\n",
      "\u001b[0;32m     11 \u001b[0;31m      \u001b[0mprev_val\u001b[0m \u001b[0;34m=\u001b[0m \u001b[0mNone\u001b[0m\u001b[0;34m\u001b[0m\u001b[0m\n",
      "\u001b[0m\u001b[0;32m     12 \u001b[0;31m      \u001b[0;32mfor\u001b[0m \u001b[0mi\u001b[0m \u001b[0;32min\u001b[0m \u001b[0mxrange\u001b[0m\u001b[0;34m(\u001b[0m \u001b[0mcv\u001b[0m\u001b[0;34m.\u001b[0m\u001b[0miv\u001b[0m\u001b[0;34m.\u001b[0m\u001b[0mstart\u001b[0m\u001b[0;34m,\u001b[0m \u001b[0mcv\u001b[0m\u001b[0;34m.\u001b[0m\u001b[0miv\u001b[0m\u001b[0;34m.\u001b[0m\u001b[0mend\u001b[0m \u001b[0;34m)\u001b[0m\u001b[0;34m:\u001b[0m\u001b[0;34m\u001b[0m\u001b[0m\n",
      "\u001b[0m\u001b[0;32m---> 13 \u001b[0;31m         \u001b[0mval\u001b[0m \u001b[0;34m=\u001b[0m \u001b[0mcv\u001b[0m\u001b[0;34m.\u001b[0m\u001b[0marray\u001b[0m\u001b[0;34m[\u001b[0m \u001b[0mi\u001b[0m \u001b[0;34m-\u001b[0m \u001b[0mcv\u001b[0m\u001b[0;34m.\u001b[0m\u001b[0moffset\u001b[0m \u001b[0;34m]\u001b[0m\u001b[0;34m\u001b[0m\u001b[0m\n",
      "\u001b[0m\u001b[0;32m     14 \u001b[0;31m         \u001b[0;32mif\u001b[0m \u001b[0mprev_val\u001b[0m \u001b[0;32mis\u001b[0m \u001b[0mNone\u001b[0m \u001b[0;32mor\u001b[0m \u001b[0mval\u001b[0m \u001b[0;32mis\u001b[0m \u001b[0;32mnot\u001b[0m \u001b[0mprev_val\u001b[0m\u001b[0;34m:\u001b[0m\u001b[0;34m\u001b[0m\u001b[0m\n",
      "\u001b[0m\u001b[0;32m     15 \u001b[0;31m\u001b[0;34m\u001b[0m\u001b[0m\n",
      "\u001b[0m\n",
      "ipdb> s\n",
      "> \u001b[0;32m<ipython-input-9-f86c948f772b>\u001b[0m(14)\u001b[0;36mChromVector_steps\u001b[0;34m()\u001b[0m\n",
      "\u001b[0;32m     12 \u001b[0;31m      \u001b[0;32mfor\u001b[0m \u001b[0mi\u001b[0m \u001b[0;32min\u001b[0m \u001b[0mxrange\u001b[0m\u001b[0;34m(\u001b[0m \u001b[0mcv\u001b[0m\u001b[0;34m.\u001b[0m\u001b[0miv\u001b[0m\u001b[0;34m.\u001b[0m\u001b[0mstart\u001b[0m\u001b[0;34m,\u001b[0m \u001b[0mcv\u001b[0m\u001b[0;34m.\u001b[0m\u001b[0miv\u001b[0m\u001b[0;34m.\u001b[0m\u001b[0mend\u001b[0m \u001b[0;34m)\u001b[0m\u001b[0;34m:\u001b[0m\u001b[0;34m\u001b[0m\u001b[0m\n",
      "\u001b[0m\u001b[0;32m     13 \u001b[0;31m         \u001b[0mval\u001b[0m \u001b[0;34m=\u001b[0m \u001b[0mcv\u001b[0m\u001b[0;34m.\u001b[0m\u001b[0marray\u001b[0m\u001b[0;34m[\u001b[0m \u001b[0mi\u001b[0m \u001b[0;34m-\u001b[0m \u001b[0mcv\u001b[0m\u001b[0;34m.\u001b[0m\u001b[0moffset\u001b[0m \u001b[0;34m]\u001b[0m\u001b[0;34m\u001b[0m\u001b[0m\n",
      "\u001b[0m\u001b[0;32m---> 14 \u001b[0;31m         \u001b[0;32mif\u001b[0m \u001b[0mprev_val\u001b[0m \u001b[0;32mis\u001b[0m \u001b[0mNone\u001b[0m \u001b[0;32mor\u001b[0m \u001b[0mval\u001b[0m \u001b[0;32mis\u001b[0m \u001b[0;32mnot\u001b[0m \u001b[0mprev_val\u001b[0m\u001b[0;34m:\u001b[0m\u001b[0;34m\u001b[0m\u001b[0m\n",
      "\u001b[0m\u001b[0;32m     15 \u001b[0;31m\u001b[0;34m\u001b[0m\u001b[0m\n",
      "\u001b[0m\u001b[0;32m     16 \u001b[0;31m            \u001b[0;32mif\u001b[0m \u001b[0mprev_val\u001b[0m \u001b[0;32mis\u001b[0m \u001b[0;32mnot\u001b[0m \u001b[0mNone\u001b[0m\u001b[0;34m:\u001b[0m\u001b[0;34m\u001b[0m\u001b[0m\n",
      "\u001b[0m\n",
      "ipdb> s\n",
      "> \u001b[0;32m<ipython-input-9-f86c948f772b>\u001b[0m(16)\u001b[0;36mChromVector_steps\u001b[0;34m()\u001b[0m\n",
      "\u001b[0;32m     14 \u001b[0;31m         \u001b[0;32mif\u001b[0m \u001b[0mprev_val\u001b[0m \u001b[0;32mis\u001b[0m \u001b[0mNone\u001b[0m \u001b[0;32mor\u001b[0m \u001b[0mval\u001b[0m \u001b[0;32mis\u001b[0m \u001b[0;32mnot\u001b[0m \u001b[0mprev_val\u001b[0m\u001b[0;34m:\u001b[0m\u001b[0;34m\u001b[0m\u001b[0m\n",
      "\u001b[0m\u001b[0;32m     15 \u001b[0;31m\u001b[0;34m\u001b[0m\u001b[0m\n",
      "\u001b[0m\u001b[0;32m---> 16 \u001b[0;31m            \u001b[0;32mif\u001b[0m \u001b[0mprev_val\u001b[0m \u001b[0;32mis\u001b[0m \u001b[0;32mnot\u001b[0m \u001b[0mNone\u001b[0m\u001b[0;34m:\u001b[0m\u001b[0;34m\u001b[0m\u001b[0m\n",
      "\u001b[0m\u001b[0;32m     17 \u001b[0;31m               \u001b[0;32myield\u001b[0m \u001b[0;34m(\u001b[0m \u001b[0mHTSeq\u001b[0m\u001b[0;34m.\u001b[0m\u001b[0mGenomicInterval\u001b[0m\u001b[0;34m(\u001b[0m \u001b[0mcv\u001b[0m\u001b[0;34m.\u001b[0m\u001b[0miv\u001b[0m\u001b[0;34m.\u001b[0m\u001b[0mchrom\u001b[0m\u001b[0;34m,\u001b[0m \u001b[0mstart\u001b[0m\u001b[0;34m,\u001b[0m \u001b[0mi\u001b[0m\u001b[0;34m,\u001b[0m \u001b[0mcv\u001b[0m\u001b[0;34m.\u001b[0m\u001b[0miv\u001b[0m\u001b[0;34m.\u001b[0m\u001b[0mstrand\u001b[0m \u001b[0;34m)\u001b[0m\u001b[0;34m,\u001b[0m \u001b[0mprev_val\u001b[0m \u001b[0;34m)\u001b[0m\u001b[0;34m\u001b[0m\u001b[0m\n",
      "\u001b[0m\u001b[0;32m     18 \u001b[0;31m            \u001b[0mprev_val\u001b[0m \u001b[0;34m=\u001b[0m \u001b[0mval\u001b[0m\u001b[0;34m\u001b[0m\u001b[0m\n",
      "\u001b[0m\n",
      "ipdb> s\n",
      "> \u001b[0;32m<ipython-input-9-f86c948f772b>\u001b[0m(17)\u001b[0;36mChromVector_steps\u001b[0;34m()\u001b[0m\n",
      "\u001b[0;32m     15 \u001b[0;31m\u001b[0;34m\u001b[0m\u001b[0m\n",
      "\u001b[0m\u001b[0;32m     16 \u001b[0;31m            \u001b[0;32mif\u001b[0m \u001b[0mprev_val\u001b[0m \u001b[0;32mis\u001b[0m \u001b[0;32mnot\u001b[0m \u001b[0mNone\u001b[0m\u001b[0;34m:\u001b[0m\u001b[0;34m\u001b[0m\u001b[0m\n",
      "\u001b[0m\u001b[0;32m---> 17 \u001b[0;31m               \u001b[0;32myield\u001b[0m \u001b[0;34m(\u001b[0m \u001b[0mHTSeq\u001b[0m\u001b[0;34m.\u001b[0m\u001b[0mGenomicInterval\u001b[0m\u001b[0;34m(\u001b[0m \u001b[0mcv\u001b[0m\u001b[0;34m.\u001b[0m\u001b[0miv\u001b[0m\u001b[0;34m.\u001b[0m\u001b[0mchrom\u001b[0m\u001b[0;34m,\u001b[0m \u001b[0mstart\u001b[0m\u001b[0;34m,\u001b[0m \u001b[0mi\u001b[0m\u001b[0;34m,\u001b[0m \u001b[0mcv\u001b[0m\u001b[0;34m.\u001b[0m\u001b[0miv\u001b[0m\u001b[0;34m.\u001b[0m\u001b[0mstrand\u001b[0m \u001b[0;34m)\u001b[0m\u001b[0;34m,\u001b[0m \u001b[0mprev_val\u001b[0m \u001b[0;34m)\u001b[0m\u001b[0;34m\u001b[0m\u001b[0m\n",
      "\u001b[0m\u001b[0;32m     18 \u001b[0;31m            \u001b[0mprev_val\u001b[0m \u001b[0;34m=\u001b[0m \u001b[0mval\u001b[0m\u001b[0;34m\u001b[0m\u001b[0m\n",
      "\u001b[0m\u001b[0;32m     19 \u001b[0;31m            \u001b[0mstart\u001b[0m \u001b[0;34m=\u001b[0m \u001b[0mi\u001b[0m\u001b[0;34m\u001b[0m\u001b[0m\n",
      "\u001b[0m\n",
      "ipdb> s\n",
      "--Return--\n",
      "(<Genomic...rand '+'>, set([]))\n",
      "> \u001b[0;32m<ipython-input-9-f86c948f772b>\u001b[0m(17)\u001b[0;36mChromVector_steps\u001b[0;34m()\u001b[0m\n",
      "\u001b[0;32m     15 \u001b[0;31m\u001b[0;34m\u001b[0m\u001b[0m\n",
      "\u001b[0m\u001b[0;32m     16 \u001b[0;31m            \u001b[0;32mif\u001b[0m \u001b[0mprev_val\u001b[0m \u001b[0;32mis\u001b[0m \u001b[0;32mnot\u001b[0m \u001b[0mNone\u001b[0m\u001b[0;34m:\u001b[0m\u001b[0;34m\u001b[0m\u001b[0m\n",
      "\u001b[0m\u001b[0;32m---> 17 \u001b[0;31m               \u001b[0;32myield\u001b[0m \u001b[0;34m(\u001b[0m \u001b[0mHTSeq\u001b[0m\u001b[0;34m.\u001b[0m\u001b[0mGenomicInterval\u001b[0m\u001b[0;34m(\u001b[0m \u001b[0mcv\u001b[0m\u001b[0;34m.\u001b[0m\u001b[0miv\u001b[0m\u001b[0;34m.\u001b[0m\u001b[0mchrom\u001b[0m\u001b[0;34m,\u001b[0m \u001b[0mstart\u001b[0m\u001b[0;34m,\u001b[0m \u001b[0mi\u001b[0m\u001b[0;34m,\u001b[0m \u001b[0mcv\u001b[0m\u001b[0;34m.\u001b[0m\u001b[0miv\u001b[0m\u001b[0;34m.\u001b[0m\u001b[0mstrand\u001b[0m \u001b[0;34m)\u001b[0m\u001b[0;34m,\u001b[0m \u001b[0mprev_val\u001b[0m \u001b[0;34m)\u001b[0m\u001b[0;34m\u001b[0m\u001b[0m\n",
      "\u001b[0m\u001b[0;32m     18 \u001b[0;31m            \u001b[0mprev_val\u001b[0m \u001b[0;34m=\u001b[0m \u001b[0mval\u001b[0m\u001b[0;34m\u001b[0m\u001b[0m\n",
      "\u001b[0m\u001b[0;32m     19 \u001b[0;31m            \u001b[0mstart\u001b[0m \u001b[0;34m=\u001b[0m \u001b[0mi\u001b[0m\u001b[0;34m\u001b[0m\u001b[0m\n",
      "\u001b[0m\n",
      "ipdb> s\n",
      "--Call--\n",
      "(<Genomic...rand '+'>, set([]))\n",
      "> \u001b[0;32m<ipython-input-9-f86c948f772b>\u001b[0m(17)\u001b[0;36mChromVector_steps\u001b[0;34m()\u001b[0m\n",
      "\u001b[0;32m     15 \u001b[0;31m\u001b[0;34m\u001b[0m\u001b[0m\n",
      "\u001b[0m\u001b[0;32m     16 \u001b[0;31m            \u001b[0;32mif\u001b[0m \u001b[0mprev_val\u001b[0m \u001b[0;32mis\u001b[0m \u001b[0;32mnot\u001b[0m \u001b[0mNone\u001b[0m\u001b[0;34m:\u001b[0m\u001b[0;34m\u001b[0m\u001b[0m\n",
      "\u001b[0m\u001b[0;32m---> 17 \u001b[0;31m               \u001b[0;32myield\u001b[0m \u001b[0;34m(\u001b[0m \u001b[0mHTSeq\u001b[0m\u001b[0;34m.\u001b[0m\u001b[0mGenomicInterval\u001b[0m\u001b[0;34m(\u001b[0m \u001b[0mcv\u001b[0m\u001b[0;34m.\u001b[0m\u001b[0miv\u001b[0m\u001b[0;34m.\u001b[0m\u001b[0mchrom\u001b[0m\u001b[0;34m,\u001b[0m \u001b[0mstart\u001b[0m\u001b[0;34m,\u001b[0m \u001b[0mi\u001b[0m\u001b[0;34m,\u001b[0m \u001b[0mcv\u001b[0m\u001b[0;34m.\u001b[0m\u001b[0miv\u001b[0m\u001b[0;34m.\u001b[0m\u001b[0mstrand\u001b[0m \u001b[0;34m)\u001b[0m\u001b[0;34m,\u001b[0m \u001b[0mprev_val\u001b[0m \u001b[0;34m)\u001b[0m\u001b[0;34m\u001b[0m\u001b[0m\n",
      "\u001b[0m\u001b[0;32m     18 \u001b[0;31m            \u001b[0mprev_val\u001b[0m \u001b[0;34m=\u001b[0m \u001b[0mval\u001b[0m\u001b[0;34m\u001b[0m\u001b[0m\n",
      "\u001b[0m\u001b[0;32m     19 \u001b[0;31m            \u001b[0mstart\u001b[0m \u001b[0;34m=\u001b[0m \u001b[0mi\u001b[0m\u001b[0;34m\u001b[0m\u001b[0m\n",
      "\u001b[0m\n",
      "ipdb> s\n",
      "(<Genomic...rand '+'>, set([]))\n",
      "> \u001b[0;32m<ipython-input-9-f86c948f772b>\u001b[0m(18)\u001b[0;36mChromVector_steps\u001b[0;34m()\u001b[0m\n",
      "\u001b[0;32m     16 \u001b[0;31m            \u001b[0;32mif\u001b[0m \u001b[0mprev_val\u001b[0m \u001b[0;32mis\u001b[0m \u001b[0;32mnot\u001b[0m \u001b[0mNone\u001b[0m\u001b[0;34m:\u001b[0m\u001b[0;34m\u001b[0m\u001b[0m\n",
      "\u001b[0m\u001b[0;32m     17 \u001b[0;31m               \u001b[0;32myield\u001b[0m \u001b[0;34m(\u001b[0m \u001b[0mHTSeq\u001b[0m\u001b[0;34m.\u001b[0m\u001b[0mGenomicInterval\u001b[0m\u001b[0;34m(\u001b[0m \u001b[0mcv\u001b[0m\u001b[0;34m.\u001b[0m\u001b[0miv\u001b[0m\u001b[0;34m.\u001b[0m\u001b[0mchrom\u001b[0m\u001b[0;34m,\u001b[0m \u001b[0mstart\u001b[0m\u001b[0;34m,\u001b[0m \u001b[0mi\u001b[0m\u001b[0;34m,\u001b[0m \u001b[0mcv\u001b[0m\u001b[0;34m.\u001b[0m\u001b[0miv\u001b[0m\u001b[0;34m.\u001b[0m\u001b[0mstrand\u001b[0m \u001b[0;34m)\u001b[0m\u001b[0;34m,\u001b[0m \u001b[0mprev_val\u001b[0m \u001b[0;34m)\u001b[0m\u001b[0;34m\u001b[0m\u001b[0m\n",
      "\u001b[0m\u001b[0;32m---> 18 \u001b[0;31m            \u001b[0mprev_val\u001b[0m \u001b[0;34m=\u001b[0m \u001b[0mval\u001b[0m\u001b[0;34m\u001b[0m\u001b[0m\n",
      "\u001b[0m\u001b[0;32m     19 \u001b[0;31m            \u001b[0mstart\u001b[0m \u001b[0;34m=\u001b[0m \u001b[0mi\u001b[0m\u001b[0;34m\u001b[0m\u001b[0m\n",
      "\u001b[0m\u001b[0;32m     20 \u001b[0;31m      \u001b[0;32myield\u001b[0m \u001b[0;34m(\u001b[0m \u001b[0mHTSeq\u001b[0m\u001b[0;34m.\u001b[0m\u001b[0mGenomicInterval\u001b[0m\u001b[0;34m(\u001b[0m \u001b[0mcv\u001b[0m\u001b[0;34m.\u001b[0m\u001b[0miv\u001b[0m\u001b[0;34m.\u001b[0m\u001b[0mchrom\u001b[0m\u001b[0;34m,\u001b[0m \u001b[0mstart\u001b[0m\u001b[0;34m,\u001b[0m \u001b[0mcv\u001b[0m\u001b[0;34m.\u001b[0m\u001b[0miv\u001b[0m\u001b[0;34m.\u001b[0m\u001b[0mend\u001b[0m\u001b[0;34m,\u001b[0m \u001b[0mcv\u001b[0m\u001b[0;34m.\u001b[0m\u001b[0miv\u001b[0m\u001b[0;34m.\u001b[0m\u001b[0mstrand\u001b[0m \u001b[0;34m)\u001b[0m\u001b[0;34m,\u001b[0m \u001b[0mprev_val\u001b[0m \u001b[0;34m)\u001b[0m\u001b[0;34m\u001b[0m\u001b[0m\n",
      "\u001b[0m\n",
      "ipdb> s\n",
      "(<Genomic...rand '+'>, set([]))\n",
      "> \u001b[0;32m<ipython-input-9-f86c948f772b>\u001b[0m(19)\u001b[0;36mChromVector_steps\u001b[0;34m()\u001b[0m\n",
      "\u001b[0;32m     17 \u001b[0;31m               \u001b[0;32myield\u001b[0m \u001b[0;34m(\u001b[0m \u001b[0mHTSeq\u001b[0m\u001b[0;34m.\u001b[0m\u001b[0mGenomicInterval\u001b[0m\u001b[0;34m(\u001b[0m \u001b[0mcv\u001b[0m\u001b[0;34m.\u001b[0m\u001b[0miv\u001b[0m\u001b[0;34m.\u001b[0m\u001b[0mchrom\u001b[0m\u001b[0;34m,\u001b[0m \u001b[0mstart\u001b[0m\u001b[0;34m,\u001b[0m \u001b[0mi\u001b[0m\u001b[0;34m,\u001b[0m \u001b[0mcv\u001b[0m\u001b[0;34m.\u001b[0m\u001b[0miv\u001b[0m\u001b[0;34m.\u001b[0m\u001b[0mstrand\u001b[0m \u001b[0;34m)\u001b[0m\u001b[0;34m,\u001b[0m \u001b[0mprev_val\u001b[0m \u001b[0;34m)\u001b[0m\u001b[0;34m\u001b[0m\u001b[0m\n",
      "\u001b[0m\u001b[0;32m     18 \u001b[0;31m            \u001b[0mprev_val\u001b[0m \u001b[0;34m=\u001b[0m \u001b[0mval\u001b[0m\u001b[0;34m\u001b[0m\u001b[0m\n",
      "\u001b[0m\u001b[0;32m---> 19 \u001b[0;31m            \u001b[0mstart\u001b[0m \u001b[0;34m=\u001b[0m \u001b[0mi\u001b[0m\u001b[0;34m\u001b[0m\u001b[0m\n",
      "\u001b[0m\u001b[0;32m     20 \u001b[0;31m      \u001b[0;32myield\u001b[0m \u001b[0;34m(\u001b[0m \u001b[0mHTSeq\u001b[0m\u001b[0;34m.\u001b[0m\u001b[0mGenomicInterval\u001b[0m\u001b[0;34m(\u001b[0m \u001b[0mcv\u001b[0m\u001b[0;34m.\u001b[0m\u001b[0miv\u001b[0m\u001b[0;34m.\u001b[0m\u001b[0mchrom\u001b[0m\u001b[0;34m,\u001b[0m \u001b[0mstart\u001b[0m\u001b[0;34m,\u001b[0m \u001b[0mcv\u001b[0m\u001b[0;34m.\u001b[0m\u001b[0miv\u001b[0m\u001b[0;34m.\u001b[0m\u001b[0mend\u001b[0m\u001b[0;34m,\u001b[0m \u001b[0mcv\u001b[0m\u001b[0;34m.\u001b[0m\u001b[0miv\u001b[0m\u001b[0;34m.\u001b[0m\u001b[0mstrand\u001b[0m \u001b[0;34m)\u001b[0m\u001b[0;34m,\u001b[0m \u001b[0mprev_val\u001b[0m \u001b[0;34m)\u001b[0m\u001b[0;34m\u001b[0m\u001b[0m\n",
      "\u001b[0m\u001b[0;32m     21 \u001b[0;31m   \u001b[0;32melif\u001b[0m \u001b[0misinstance\u001b[0m\u001b[0;34m(\u001b[0m \u001b[0mcv\u001b[0m\u001b[0;34m.\u001b[0m\u001b[0marray\u001b[0m\u001b[0;34m,\u001b[0m \u001b[0mHTSeq\u001b[0m\u001b[0;34m.\u001b[0m\u001b[0mStepVector\u001b[0m\u001b[0;34m.\u001b[0m\u001b[0mStepVector\u001b[0m \u001b[0;34m)\u001b[0m\u001b[0;34m:\u001b[0m\u001b[0;34m\u001b[0m\u001b[0m\n",
      "\u001b[0m\n",
      "ipdb> s\n",
      "(<Genomic...rand '+'>, set([]))\n",
      "> \u001b[0;32m<ipython-input-9-f86c948f772b>\u001b[0m(12)\u001b[0;36mChromVector_steps\u001b[0;34m()\u001b[0m\n",
      "\u001b[0;32m     10 \u001b[0;31m      \u001b[0mstart\u001b[0m \u001b[0;34m=\u001b[0m \u001b[0mcv\u001b[0m\u001b[0;34m.\u001b[0m\u001b[0miv\u001b[0m\u001b[0;34m.\u001b[0m\u001b[0mstart\u001b[0m\u001b[0;34m\u001b[0m\u001b[0m\n",
      "\u001b[0m\u001b[0;32m     11 \u001b[0;31m      \u001b[0mprev_val\u001b[0m \u001b[0;34m=\u001b[0m \u001b[0mNone\u001b[0m\u001b[0;34m\u001b[0m\u001b[0m\n",
      "\u001b[0m\u001b[0;32m---> 12 \u001b[0;31m      \u001b[0;32mfor\u001b[0m \u001b[0mi\u001b[0m \u001b[0;32min\u001b[0m \u001b[0mxrange\u001b[0m\u001b[0;34m(\u001b[0m \u001b[0mcv\u001b[0m\u001b[0;34m.\u001b[0m\u001b[0miv\u001b[0m\u001b[0;34m.\u001b[0m\u001b[0mstart\u001b[0m\u001b[0;34m,\u001b[0m \u001b[0mcv\u001b[0m\u001b[0;34m.\u001b[0m\u001b[0miv\u001b[0m\u001b[0;34m.\u001b[0m\u001b[0mend\u001b[0m \u001b[0;34m)\u001b[0m\u001b[0;34m:\u001b[0m\u001b[0;34m\u001b[0m\u001b[0m\n",
      "\u001b[0m\u001b[0;32m     13 \u001b[0;31m         \u001b[0mval\u001b[0m \u001b[0;34m=\u001b[0m \u001b[0mcv\u001b[0m\u001b[0;34m.\u001b[0m\u001b[0marray\u001b[0m\u001b[0;34m[\u001b[0m \u001b[0mi\u001b[0m \u001b[0;34m-\u001b[0m \u001b[0mcv\u001b[0m\u001b[0;34m.\u001b[0m\u001b[0moffset\u001b[0m \u001b[0;34m]\u001b[0m\u001b[0;34m\u001b[0m\u001b[0m\n",
      "\u001b[0m\u001b[0;32m     14 \u001b[0;31m         \u001b[0;32mif\u001b[0m \u001b[0mprev_val\u001b[0m \u001b[0;32mis\u001b[0m \u001b[0mNone\u001b[0m \u001b[0;32mor\u001b[0m \u001b[0mval\u001b[0m \u001b[0;32mis\u001b[0m \u001b[0;32mnot\u001b[0m \u001b[0mprev_val\u001b[0m\u001b[0;34m:\u001b[0m\u001b[0;34m\u001b[0m\u001b[0m\n",
      "\u001b[0m\n",
      "ipdb> s\n",
      "(<Genomic...rand '+'>, set([]))\n",
      "> \u001b[0;32m<ipython-input-9-f86c948f772b>\u001b[0m(20)\u001b[0;36mChromVector_steps\u001b[0;34m()\u001b[0m\n",
      "\u001b[0;32m     18 \u001b[0;31m            \u001b[0mprev_val\u001b[0m \u001b[0;34m=\u001b[0m \u001b[0mval\u001b[0m\u001b[0;34m\u001b[0m\u001b[0m\n",
      "\u001b[0m\u001b[0;32m     19 \u001b[0;31m            \u001b[0mstart\u001b[0m \u001b[0;34m=\u001b[0m \u001b[0mi\u001b[0m\u001b[0;34m\u001b[0m\u001b[0m\n",
      "\u001b[0m\u001b[0;32m---> 20 \u001b[0;31m      \u001b[0;32myield\u001b[0m \u001b[0;34m(\u001b[0m \u001b[0mHTSeq\u001b[0m\u001b[0;34m.\u001b[0m\u001b[0mGenomicInterval\u001b[0m\u001b[0;34m(\u001b[0m \u001b[0mcv\u001b[0m\u001b[0;34m.\u001b[0m\u001b[0miv\u001b[0m\u001b[0;34m.\u001b[0m\u001b[0mchrom\u001b[0m\u001b[0;34m,\u001b[0m \u001b[0mstart\u001b[0m\u001b[0;34m,\u001b[0m \u001b[0mcv\u001b[0m\u001b[0;34m.\u001b[0m\u001b[0miv\u001b[0m\u001b[0;34m.\u001b[0m\u001b[0mend\u001b[0m\u001b[0;34m,\u001b[0m \u001b[0mcv\u001b[0m\u001b[0;34m.\u001b[0m\u001b[0miv\u001b[0m\u001b[0;34m.\u001b[0m\u001b[0mstrand\u001b[0m \u001b[0;34m)\u001b[0m\u001b[0;34m,\u001b[0m \u001b[0mprev_val\u001b[0m \u001b[0;34m)\u001b[0m\u001b[0;34m\u001b[0m\u001b[0m\n",
      "\u001b[0m\u001b[0;32m     21 \u001b[0;31m   \u001b[0;32melif\u001b[0m \u001b[0misinstance\u001b[0m\u001b[0;34m(\u001b[0m \u001b[0mcv\u001b[0m\u001b[0;34m.\u001b[0m\u001b[0marray\u001b[0m\u001b[0;34m,\u001b[0m \u001b[0mHTSeq\u001b[0m\u001b[0;34m.\u001b[0m\u001b[0mStepVector\u001b[0m\u001b[0;34m.\u001b[0m\u001b[0mStepVector\u001b[0m \u001b[0;34m)\u001b[0m\u001b[0;34m:\u001b[0m\u001b[0;34m\u001b[0m\u001b[0m\n",
      "\u001b[0m\u001b[0;32m     22 \u001b[0;31m      \u001b[0;32mfor\u001b[0m \u001b[0mstart\u001b[0m\u001b[0;34m,\u001b[0m \u001b[0mstop\u001b[0m\u001b[0;34m,\u001b[0m \u001b[0mvalue\u001b[0m \u001b[0;32min\u001b[0m \u001b[0mcv\u001b[0m\u001b[0;34m.\u001b[0m\u001b[0marray\u001b[0m\u001b[0;34m[\u001b[0m\u001b[0mcv\u001b[0m\u001b[0;34m.\u001b[0m\u001b[0miv\u001b[0m\u001b[0;34m.\u001b[0m\u001b[0mstart\u001b[0m\u001b[0;34m:\u001b[0m\u001b[0mcv\u001b[0m\u001b[0;34m.\u001b[0m\u001b[0miv\u001b[0m\u001b[0;34m.\u001b[0m\u001b[0mend\u001b[0m\u001b[0;34m]\u001b[0m\u001b[0;34m.\u001b[0m\u001b[0mget_steps\u001b[0m\u001b[0;34m(\u001b[0m\u001b[0;34m)\u001b[0m\u001b[0;34m:\u001b[0m\u001b[0;34m\u001b[0m\u001b[0m\n",
      "\u001b[0m\n",
      "ipdb> s\n",
      "--Return--\n",
      "(<Genomic...rand '+'>, set([]))\n",
      "> \u001b[0;32m<ipython-input-9-f86c948f772b>\u001b[0m(20)\u001b[0;36mChromVector_steps\u001b[0;34m()\u001b[0m\n",
      "\u001b[0;32m     18 \u001b[0;31m            \u001b[0mprev_val\u001b[0m \u001b[0;34m=\u001b[0m \u001b[0mval\u001b[0m\u001b[0;34m\u001b[0m\u001b[0m\n",
      "\u001b[0m\u001b[0;32m     19 \u001b[0;31m            \u001b[0mstart\u001b[0m \u001b[0;34m=\u001b[0m \u001b[0mi\u001b[0m\u001b[0;34m\u001b[0m\u001b[0m\n",
      "\u001b[0m\u001b[0;32m---> 20 \u001b[0;31m      \u001b[0;32myield\u001b[0m \u001b[0;34m(\u001b[0m \u001b[0mHTSeq\u001b[0m\u001b[0;34m.\u001b[0m\u001b[0mGenomicInterval\u001b[0m\u001b[0;34m(\u001b[0m \u001b[0mcv\u001b[0m\u001b[0;34m.\u001b[0m\u001b[0miv\u001b[0m\u001b[0;34m.\u001b[0m\u001b[0mchrom\u001b[0m\u001b[0;34m,\u001b[0m \u001b[0mstart\u001b[0m\u001b[0;34m,\u001b[0m \u001b[0mcv\u001b[0m\u001b[0;34m.\u001b[0m\u001b[0miv\u001b[0m\u001b[0;34m.\u001b[0m\u001b[0mend\u001b[0m\u001b[0;34m,\u001b[0m \u001b[0mcv\u001b[0m\u001b[0;34m.\u001b[0m\u001b[0miv\u001b[0m\u001b[0;34m.\u001b[0m\u001b[0mstrand\u001b[0m \u001b[0;34m)\u001b[0m\u001b[0;34m,\u001b[0m \u001b[0mprev_val\u001b[0m \u001b[0;34m)\u001b[0m\u001b[0;34m\u001b[0m\u001b[0m\n",
      "\u001b[0m\u001b[0;32m     21 \u001b[0;31m   \u001b[0;32melif\u001b[0m \u001b[0misinstance\u001b[0m\u001b[0;34m(\u001b[0m \u001b[0mcv\u001b[0m\u001b[0;34m.\u001b[0m\u001b[0marray\u001b[0m\u001b[0;34m,\u001b[0m \u001b[0mHTSeq\u001b[0m\u001b[0;34m.\u001b[0m\u001b[0mStepVector\u001b[0m\u001b[0;34m.\u001b[0m\u001b[0mStepVector\u001b[0m \u001b[0;34m)\u001b[0m\u001b[0;34m:\u001b[0m\u001b[0;34m\u001b[0m\u001b[0m\n",
      "\u001b[0m\u001b[0;32m     22 \u001b[0;31m      \u001b[0;32mfor\u001b[0m \u001b[0mstart\u001b[0m\u001b[0;34m,\u001b[0m \u001b[0mstop\u001b[0m\u001b[0;34m,\u001b[0m \u001b[0mvalue\u001b[0m \u001b[0;32min\u001b[0m \u001b[0mcv\u001b[0m\u001b[0;34m.\u001b[0m\u001b[0marray\u001b[0m\u001b[0;34m[\u001b[0m\u001b[0mcv\u001b[0m\u001b[0;34m.\u001b[0m\u001b[0miv\u001b[0m\u001b[0;34m.\u001b[0m\u001b[0mstart\u001b[0m\u001b[0;34m:\u001b[0m\u001b[0mcv\u001b[0m\u001b[0;34m.\u001b[0m\u001b[0miv\u001b[0m\u001b[0;34m.\u001b[0m\u001b[0mend\u001b[0m\u001b[0;34m]\u001b[0m\u001b[0;34m.\u001b[0m\u001b[0mget_steps\u001b[0m\u001b[0;34m(\u001b[0m\u001b[0;34m)\u001b[0m\u001b[0;34m:\u001b[0m\u001b[0;34m\u001b[0m\u001b[0m\n",
      "\u001b[0m\n",
      "ipdb> s\n",
      "--Call--\n",
      "(<Genomic...rand '+'>, set([]))\n",
      "> \u001b[0;32m<ipython-input-9-f86c948f772b>\u001b[0m(20)\u001b[0;36mChromVector_steps\u001b[0;34m()\u001b[0m\n",
      "\u001b[0;32m     18 \u001b[0;31m            \u001b[0mprev_val\u001b[0m \u001b[0;34m=\u001b[0m \u001b[0mval\u001b[0m\u001b[0;34m\u001b[0m\u001b[0m\n",
      "\u001b[0m\u001b[0;32m     19 \u001b[0;31m            \u001b[0mstart\u001b[0m \u001b[0;34m=\u001b[0m \u001b[0mi\u001b[0m\u001b[0;34m\u001b[0m\u001b[0m\n",
      "\u001b[0m\u001b[0;32m---> 20 \u001b[0;31m      \u001b[0;32myield\u001b[0m \u001b[0;34m(\u001b[0m \u001b[0mHTSeq\u001b[0m\u001b[0;34m.\u001b[0m\u001b[0mGenomicInterval\u001b[0m\u001b[0;34m(\u001b[0m \u001b[0mcv\u001b[0m\u001b[0;34m.\u001b[0m\u001b[0miv\u001b[0m\u001b[0;34m.\u001b[0m\u001b[0mchrom\u001b[0m\u001b[0;34m,\u001b[0m \u001b[0mstart\u001b[0m\u001b[0;34m,\u001b[0m \u001b[0mcv\u001b[0m\u001b[0;34m.\u001b[0m\u001b[0miv\u001b[0m\u001b[0;34m.\u001b[0m\u001b[0mend\u001b[0m\u001b[0;34m,\u001b[0m \u001b[0mcv\u001b[0m\u001b[0;34m.\u001b[0m\u001b[0miv\u001b[0m\u001b[0;34m.\u001b[0m\u001b[0mstrand\u001b[0m \u001b[0;34m)\u001b[0m\u001b[0;34m,\u001b[0m \u001b[0mprev_val\u001b[0m \u001b[0;34m)\u001b[0m\u001b[0;34m\u001b[0m\u001b[0m\n",
      "\u001b[0m\u001b[0;32m     21 \u001b[0;31m   \u001b[0;32melif\u001b[0m \u001b[0misinstance\u001b[0m\u001b[0;34m(\u001b[0m \u001b[0mcv\u001b[0m\u001b[0;34m.\u001b[0m\u001b[0marray\u001b[0m\u001b[0;34m,\u001b[0m \u001b[0mHTSeq\u001b[0m\u001b[0;34m.\u001b[0m\u001b[0mStepVector\u001b[0m\u001b[0;34m.\u001b[0m\u001b[0mStepVector\u001b[0m \u001b[0;34m)\u001b[0m\u001b[0;34m:\u001b[0m\u001b[0;34m\u001b[0m\u001b[0m\n",
      "\u001b[0m\u001b[0;32m     22 \u001b[0;31m      \u001b[0;32mfor\u001b[0m \u001b[0mstart\u001b[0m\u001b[0;34m,\u001b[0m \u001b[0mstop\u001b[0m\u001b[0;34m,\u001b[0m \u001b[0mvalue\u001b[0m \u001b[0;32min\u001b[0m \u001b[0mcv\u001b[0m\u001b[0;34m.\u001b[0m\u001b[0marray\u001b[0m\u001b[0;34m[\u001b[0m\u001b[0mcv\u001b[0m\u001b[0;34m.\u001b[0m\u001b[0miv\u001b[0m\u001b[0;34m.\u001b[0m\u001b[0mstart\u001b[0m\u001b[0;34m:\u001b[0m\u001b[0mcv\u001b[0m\u001b[0;34m.\u001b[0m\u001b[0miv\u001b[0m\u001b[0;34m.\u001b[0m\u001b[0mend\u001b[0m\u001b[0;34m]\u001b[0m\u001b[0;34m.\u001b[0m\u001b[0mget_steps\u001b[0m\u001b[0;34m(\u001b[0m\u001b[0;34m)\u001b[0m\u001b[0;34m:\u001b[0m\u001b[0;34m\u001b[0m\u001b[0m\n",
      "\u001b[0m\n",
      "ipdb> s\n",
      "--Return--\n",
      "None\n",
      "> \u001b[0;32m<ipython-input-9-f86c948f772b>\u001b[0m(20)\u001b[0;36mChromVector_steps\u001b[0;34m()\u001b[0m\n",
      "\u001b[0;32m     18 \u001b[0;31m            \u001b[0mprev_val\u001b[0m \u001b[0;34m=\u001b[0m \u001b[0mval\u001b[0m\u001b[0;34m\u001b[0m\u001b[0m\n",
      "\u001b[0m\u001b[0;32m     19 \u001b[0;31m            \u001b[0mstart\u001b[0m \u001b[0;34m=\u001b[0m \u001b[0mi\u001b[0m\u001b[0;34m\u001b[0m\u001b[0m\n",
      "\u001b[0m\u001b[0;32m---> 20 \u001b[0;31m      \u001b[0;32myield\u001b[0m \u001b[0;34m(\u001b[0m \u001b[0mHTSeq\u001b[0m\u001b[0;34m.\u001b[0m\u001b[0mGenomicInterval\u001b[0m\u001b[0;34m(\u001b[0m \u001b[0mcv\u001b[0m\u001b[0;34m.\u001b[0m\u001b[0miv\u001b[0m\u001b[0;34m.\u001b[0m\u001b[0mchrom\u001b[0m\u001b[0;34m,\u001b[0m \u001b[0mstart\u001b[0m\u001b[0;34m,\u001b[0m \u001b[0mcv\u001b[0m\u001b[0;34m.\u001b[0m\u001b[0miv\u001b[0m\u001b[0;34m.\u001b[0m\u001b[0mend\u001b[0m\u001b[0;34m,\u001b[0m \u001b[0mcv\u001b[0m\u001b[0;34m.\u001b[0m\u001b[0miv\u001b[0m\u001b[0;34m.\u001b[0m\u001b[0mstrand\u001b[0m \u001b[0;34m)\u001b[0m\u001b[0;34m,\u001b[0m \u001b[0mprev_val\u001b[0m \u001b[0;34m)\u001b[0m\u001b[0;34m\u001b[0m\u001b[0m\n",
      "\u001b[0m\u001b[0;32m     21 \u001b[0;31m   \u001b[0;32melif\u001b[0m \u001b[0misinstance\u001b[0m\u001b[0;34m(\u001b[0m \u001b[0mcv\u001b[0m\u001b[0;34m.\u001b[0m\u001b[0marray\u001b[0m\u001b[0;34m,\u001b[0m \u001b[0mHTSeq\u001b[0m\u001b[0;34m.\u001b[0m\u001b[0mStepVector\u001b[0m\u001b[0;34m.\u001b[0m\u001b[0mStepVector\u001b[0m \u001b[0;34m)\u001b[0m\u001b[0;34m:\u001b[0m\u001b[0;34m\u001b[0m\u001b[0m\n",
      "\u001b[0m\u001b[0;32m     22 \u001b[0;31m      \u001b[0;32mfor\u001b[0m \u001b[0mstart\u001b[0m\u001b[0;34m,\u001b[0m \u001b[0mstop\u001b[0m\u001b[0;34m,\u001b[0m \u001b[0mvalue\u001b[0m \u001b[0;32min\u001b[0m \u001b[0mcv\u001b[0m\u001b[0;34m.\u001b[0m\u001b[0marray\u001b[0m\u001b[0;34m[\u001b[0m\u001b[0mcv\u001b[0m\u001b[0;34m.\u001b[0m\u001b[0miv\u001b[0m\u001b[0;34m.\u001b[0m\u001b[0mstart\u001b[0m\u001b[0;34m:\u001b[0m\u001b[0mcv\u001b[0m\u001b[0;34m.\u001b[0m\u001b[0miv\u001b[0m\u001b[0;34m.\u001b[0m\u001b[0mend\u001b[0m\u001b[0;34m]\u001b[0m\u001b[0;34m.\u001b[0m\u001b[0mget_steps\u001b[0m\u001b[0;34m(\u001b[0m\u001b[0;34m)\u001b[0m\u001b[0;34m:\u001b[0m\u001b[0;34m\u001b[0m\u001b[0m\n",
      "\u001b[0m\n",
      "ipdb> s\n",
      "--Call--\n",
      "> \u001b[0;32m<ipython-input-39-245beded9bb9>\u001b[0m(22)\u001b[0;36m__setitem__\u001b[0;34m()\u001b[0m\n",
      "\u001b[0;32m     20 \u001b[0;31m            strand_nostrand:  ChromVector_fast.create( iv, self.typecode, self.storage ) }\n",
      "\u001b[0m\u001b[0;32m     21 \u001b[0;31m\u001b[0;34m\u001b[0m\u001b[0m\n",
      "\u001b[0m\u001b[0;32m---> 22 \u001b[0;31m   \u001b[0;32mdef\u001b[0m \u001b[0m__setitem__\u001b[0m\u001b[0;34m(\u001b[0m \u001b[0mself\u001b[0m\u001b[0;34m,\u001b[0m \u001b[0mindex\u001b[0m\u001b[0;34m,\u001b[0m \u001b[0mvalue\u001b[0m \u001b[0;34m)\u001b[0m\u001b[0;34m:\u001b[0m\u001b[0;34m\u001b[0m\u001b[0m\n",
      "\u001b[0m\u001b[0;32m     23 \u001b[0;31m      \u001b[0;32mreturn\u001b[0m\u001b[0;34m\u001b[0m\u001b[0m\n",
      "\u001b[0m\u001b[0;32m     24 \u001b[0;31m      \u001b[0;32mif\u001b[0m \u001b[0misinstance\u001b[0m\u001b[0;34m(\u001b[0m \u001b[0mindex\u001b[0m\u001b[0;34m,\u001b[0m \u001b[0mHTSeq\u001b[0m\u001b[0;34m.\u001b[0m\u001b[0mGenomicInterval\u001b[0m \u001b[0;34m)\u001b[0m\u001b[0;34m:\u001b[0m\u001b[0;34m\u001b[0m\u001b[0m\n",
      "\u001b[0m\n",
      "ipdb> s\n",
      "> \u001b[0;32m<ipython-input-39-245beded9bb9>\u001b[0m(23)\u001b[0;36m__setitem__\u001b[0;34m()\u001b[0m\n",
      "\u001b[0;32m     21 \u001b[0;31m\u001b[0;34m\u001b[0m\u001b[0m\n",
      "\u001b[0m\u001b[0;32m     22 \u001b[0;31m   \u001b[0;32mdef\u001b[0m \u001b[0m__setitem__\u001b[0m\u001b[0;34m(\u001b[0m \u001b[0mself\u001b[0m\u001b[0;34m,\u001b[0m \u001b[0mindex\u001b[0m\u001b[0;34m,\u001b[0m \u001b[0mvalue\u001b[0m \u001b[0;34m)\u001b[0m\u001b[0;34m:\u001b[0m\u001b[0;34m\u001b[0m\u001b[0m\n",
      "\u001b[0m\u001b[0;32m---> 23 \u001b[0;31m      \u001b[0;32mreturn\u001b[0m\u001b[0;34m\u001b[0m\u001b[0m\n",
      "\u001b[0m\u001b[0;32m     24 \u001b[0;31m      \u001b[0;32mif\u001b[0m \u001b[0misinstance\u001b[0m\u001b[0;34m(\u001b[0m \u001b[0mindex\u001b[0m\u001b[0;34m,\u001b[0m \u001b[0mHTSeq\u001b[0m\u001b[0;34m.\u001b[0m\u001b[0mGenomicInterval\u001b[0m \u001b[0;34m)\u001b[0m\u001b[0;34m:\u001b[0m\u001b[0;34m\u001b[0m\u001b[0m\n",
      "\u001b[0m\u001b[0;32m     25 \u001b[0;31m         \u001b[0;32mprint\u001b[0m \u001b[0;34m\"gi detected\"\u001b[0m\u001b[0;34m\u001b[0m\u001b[0m\n",
      "\u001b[0m\n",
      "ipdb> s\n",
      "--Return--\n",
      "None\n",
      "> \u001b[0;32m<ipython-input-39-245beded9bb9>\u001b[0m(23)\u001b[0;36m__setitem__\u001b[0;34m()\u001b[0m\n",
      "\u001b[0;32m     21 \u001b[0;31m\u001b[0;34m\u001b[0m\u001b[0m\n",
      "\u001b[0m\u001b[0;32m     22 \u001b[0;31m   \u001b[0;32mdef\u001b[0m \u001b[0m__setitem__\u001b[0m\u001b[0;34m(\u001b[0m \u001b[0mself\u001b[0m\u001b[0;34m,\u001b[0m \u001b[0mindex\u001b[0m\u001b[0;34m,\u001b[0m \u001b[0mvalue\u001b[0m \u001b[0;34m)\u001b[0m\u001b[0;34m:\u001b[0m\u001b[0;34m\u001b[0m\u001b[0m\n",
      "\u001b[0m\u001b[0;32m---> 23 \u001b[0;31m      \u001b[0;32mreturn\u001b[0m\u001b[0;34m\u001b[0m\u001b[0m\n",
      "\u001b[0m\u001b[0;32m     24 \u001b[0;31m      \u001b[0;32mif\u001b[0m \u001b[0misinstance\u001b[0m\u001b[0;34m(\u001b[0m \u001b[0mindex\u001b[0m\u001b[0;34m,\u001b[0m \u001b[0mHTSeq\u001b[0m\u001b[0;34m.\u001b[0m\u001b[0mGenomicInterval\u001b[0m \u001b[0;34m)\u001b[0m\u001b[0;34m:\u001b[0m\u001b[0;34m\u001b[0m\u001b[0m\n",
      "\u001b[0m\u001b[0;32m     25 \u001b[0;31m         \u001b[0;32mprint\u001b[0m \u001b[0;34m\"gi detected\"\u001b[0m\u001b[0;34m\u001b[0m\u001b[0m\n",
      "\u001b[0m\n",
      "ipdb> s\n",
      "--Return--\n",
      "None\n",
      "> \u001b[0;32m<ipython-input-48-30221326aa39>\u001b[0m(6)\u001b[0;36mmy_function\u001b[0;34m()\u001b[0m\n",
      "\u001b[0;32m      2 \u001b[0;31m\u001b[0;34m\u001b[0m\u001b[0m\n",
      "\u001b[0m\u001b[0;32m      3 \u001b[0;31m\u001b[0;32mdef\u001b[0m \u001b[0mmy_function\u001b[0m\u001b[0;34m(\u001b[0m\u001b[0;34m)\u001b[0m\u001b[0;34m:\u001b[0m\u001b[0;34m\u001b[0m\u001b[0m\n",
      "\u001b[0m\u001b[0;32m      4 \u001b[0;31m    \u001b[0mx\u001b[0m \u001b[0;34m=\u001b[0m \u001b[0;36m5\u001b[0m\u001b[0;34m\u001b[0m\u001b[0m\n",
      "\u001b[0m\u001b[0;32m      5 \u001b[0;31m    \u001b[0mTracer\u001b[0m\u001b[0;34m(\u001b[0m\u001b[0;34m)\u001b[0m\u001b[0;34m(\u001b[0m\u001b[0;34m)\u001b[0m\u001b[0;34m\u001b[0m\u001b[0m\n",
      "\u001b[0m\u001b[0;32m----> 6 \u001b[0;31m    \u001b[0mset_of_reads\u001b[0m\u001b[0;34m[\u001b[0m\u001b[0mcigop\u001b[0m\u001b[0;34m.\u001b[0m\u001b[0mref_iv\u001b[0m\u001b[0;34m]\u001b[0m \u001b[0;34m+=\u001b[0m \u001b[0mread\u001b[0m\u001b[0;34m.\u001b[0m\u001b[0mread\u001b[0m\u001b[0;34m.\u001b[0m\u001b[0mname\u001b[0m\u001b[0;34m\u001b[0m\u001b[0m\n",
      "\u001b[0m\n",
      "ipdb> n\n",
      "--Call--\n",
      "> \u001b[0;32m/home/gpratt/anaconda/lib/python2.7/site-packages/IPython/core/displayhook.py\u001b[0m(236)\u001b[0;36m__call__\u001b[0;34m()\u001b[0m\n",
      "\u001b[0;32m    234 \u001b[0;31m        \u001b[0msys\u001b[0m\u001b[0;34m.\u001b[0m\u001b[0mstdout\u001b[0m\u001b[0;34m.\u001b[0m\u001b[0mflush\u001b[0m\u001b[0;34m(\u001b[0m\u001b[0;34m)\u001b[0m\u001b[0;34m\u001b[0m\u001b[0m\n",
      "\u001b[0m\u001b[0;32m    235 \u001b[0;31m\u001b[0;34m\u001b[0m\u001b[0m\n",
      "\u001b[0m\u001b[0;32m--> 236 \u001b[0;31m    \u001b[0;32mdef\u001b[0m \u001b[0m__call__\u001b[0m\u001b[0;34m(\u001b[0m\u001b[0mself\u001b[0m\u001b[0;34m,\u001b[0m \u001b[0mresult\u001b[0m\u001b[0;34m=\u001b[0m\u001b[0mNone\u001b[0m\u001b[0;34m)\u001b[0m\u001b[0;34m:\u001b[0m\u001b[0;34m\u001b[0m\u001b[0m\n",
      "\u001b[0m\u001b[0;32m    237 \u001b[0;31m        \"\"\"Printing with history cache management.\n",
      "\u001b[0m\u001b[0;32m    238 \u001b[0;31m\u001b[0;34m\u001b[0m\u001b[0m\n",
      "\u001b[0m\n",
      "ipdb> c\n"
     ]
    }
   ],
   "source": [
    "my_function()"
   ]
  },
  {
   "cell_type": "markdown",
   "metadata": {
    "collapsed": true
   },
   "source": [
    "# Lets actually make test hooks now"
   ]
  },
  {
   "cell_type": "code",
   "execution_count": null,
   "metadata": {
    "collapsed": true
   },
   "outputs": [],
   "source": []
  }
 ],
 "metadata": {
  "kernelspec": {
   "display_name": "Python 2",
   "language": "python",
   "name": "python2"
  },
  "language_info": {
   "codemirror_mode": {
    "name": "ipython",
    "version": 2
   },
   "file_extension": ".py",
   "mimetype": "text/x-python",
   "name": "python",
   "nbconvert_exporter": "python",
   "pygments_lexer": "ipython2",
   "version": "2.7.12"
  }
 },
 "nbformat": 4,
 "nbformat_minor": 0
}
