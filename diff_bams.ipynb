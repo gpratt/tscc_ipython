{
 "cells": [
  {
   "cell_type": "code",
   "execution_count": 4,
   "metadata": {
    "collapsed": true
   },
   "outputs": [],
   "source": [
    "import pysam\n",
    "from itertools import izip\n",
    "import os"
   ]
  },
  {
   "cell_type": "code",
   "execution_count": 10,
   "metadata": {
    "collapsed": false
   },
   "outputs": [],
   "source": [
    "alain_dir = \"/home/gpratt/scratch/eclip_pipeline_test/RBFOX2/results/intermediates\"\n",
    "gabe_dir = \"/projects/ps-yeolab3/encode/analysis/ad-hoc/rbfox2_test\"\n",
    "file_1 = pysam.Samfile(os.path.join(alain_dir,  \"204_RBFOX2.rep1.CLIP.---.r-.fqTrTrU-SoMaSoCoSoMeV2.bam\"))\n",
    "file_2 = pysam.Samfile(os.path.join(gabe_dir, \"204_RBFOX2.rep1.merged.r2.bam\"))\n",
    "\n",
    "file_1_qnames = set([])\n",
    "file_2_qnames = set([])\n",
    "\n",
    "for x, (read_1, read_2) in enumerate(izip(file_1, file_2)):\n",
    "    file_1_qnames.add(read_1.qname)\n",
    "    file_2_qnames.add(read_2.qname)\n",
    "\n",
    "    if read_1.qname != read_2.qname:\n",
    "        print x\n",
    "        print read_1\n",
    "        print read_2\n",
    "        break"
   ]
  },
  {
   "cell_type": "code",
   "execution_count": 38,
   "metadata": {
    "collapsed": false
   },
   "outputs": [
    {
     "data": {
      "text/plain": [
       "(4275391, 4275391, 4275357)"
      ]
     },
     "execution_count": 38,
     "metadata": {},
     "output_type": "execute_result"
    }
   ],
   "source": [
    "len(file_1_qnames), len(file_2_qnames), len(file_1_qnames & file_2_qnames)"
   ]
  }
 ],
 "metadata": {
  "kernelspec": {
   "display_name": "Python 2",
   "language": "python",
   "name": "python2"
  },
  "language_info": {
   "codemirror_mode": {
    "name": "ipython",
    "version": 2
   },
   "file_extension": ".py",
   "mimetype": "text/x-python",
   "name": "python",
   "nbconvert_exporter": "python",
   "pygments_lexer": "ipython2",
   "version": "2.7.12"
  }
 },
 "nbformat": 4,
 "nbformat_minor": 0
}
