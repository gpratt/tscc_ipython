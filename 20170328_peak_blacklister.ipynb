{
 "cells": [
  {
   "cell_type": "code",
   "execution_count": 13,
   "metadata": {
    "collapsed": true
   },
   "outputs": [],
   "source": [
    "%matplotlib inline\n",
    "\n",
    "import functools\n",
    "import os\n",
    "from collections import defaultdict\n",
    "from tqdm import tqdm, tqdm_notebook\n",
    "tqdm.pandas(\"Progress: \")\n",
    "\n",
    "import numpy as np\n",
    "import matplotlib\n",
    "import pandas as pd\n",
    "import pybedtools\n",
    "import pysam\n",
    "import seaborn as sns\n",
    "import matplotlib\n",
    "from matplotlib import gridspec\n",
    "import scipy\n",
    "from gscripts import qtools\n",
    "from Bio import SeqIO\n",
    "from gscripts.general import dataviz\n",
    "from IPython.core.display import HTML\n",
    "from matplotlib import pyplot as plt\n",
    "\n",
    "img_dir = \"/home/gpratt/Dropbox/EricGabe_ENCODE/papers/peaks_outside_genes\"\n",
    "\n",
    "sns.set_style(\"ticks\")\n",
    "\n",
    "RESET = False"
   ]
  },
  {
   "cell_type": "code",
   "execution_count": 46,
   "metadata": {
    "collapsed": true
   },
   "outputs": [],
   "source": [
    "import matplotlib as mpl\n",
    "legend = None\n",
    "\n",
    "OUTSIDE_LEGEND_SAVEFIG_KWS = dict(bbox_extra_artists=(legend,),\n",
    "                                  bbox_inches='tight')\n",
    "from matplotlib import rc\n",
    "\n",
    "mpl.rcParams['svg.fonttype'] = 'none'\n",
    "\n",
    "rc('text', usetex=False) \n",
    "rc('font',**{'family':'sans-serif','sans-serif':['Helvetica']})"
   ]
  },
  {
   "cell_type": "code",
   "execution_count": null,
   "metadata": {
    "collapsed": true
   },
   "outputs": [],
   "source": [
    "sort -i /home/gpratt/clipper/clipper/data/hg19.AS.STRUCTURE.COMPILED.gff > ~/projects/encode/analysis/ad-hoc/hg19.AS.STRUCTURE.COMPILED.sorted.gff\n",
    "merge -i ~/projects/encode/analysis/ad-hoc/hg19.AS.STRUCTURE.COMPILED.sorted.gff > ~/projects/encode/analysis/ad-hoc/hg19.AS.STRUCTURE.COMPILED.sorted.merged.gff\n"
   ]
  },
  {
   "cell_type": "code",
   "execution_count": null,
   "metadata": {
    "collapsed": true
   },
   "outputs": [],
   "source": [
    "bedtools makewindows -b hg19.AS.STRUCTURE.COMPILED.gff -w 100 > ~/projects/encode/analysis/ad-hoc/windows.bed"
   ]
  },
  {
   "cell_type": "code",
   "execution_count": 8,
   "metadata": {
    "collapsed": true
   },
   "outputs": [],
   "source": [
    "input_norm_dir = \"/home/elvannostrand/data/clip/CLIPseq_analysis/ENCODE_CLIPperv2_20170130\"\n",
    "split_dir = \"/home/gpratt/projects/idr/analysis/idr_v1/\"\n",
    "out_dir = \"/home/gpratt/projects/encode/analysis/peak_reanalysis_v14/\"\n",
    "downsample_path = \"/home/gpratt/projects/idr/analysis/downsample_v2/\""
   ]
  },
  {
   "cell_type": "code",
   "execution_count": null,
   "metadata": {
    "collapsed": true
   },
   "outputs": [],
   "source": [
    " intersectBed -a ~/projects/encode/analysis/ad-hoc/windows.bed -b /home/gpratt/projects/encode/analysis/peak_reanalysis_v14/*_3_pval_3.clipper.bed -wo -filenames"
   ]
  },
  {
   "cell_type": "code",
   "execution_count": 14,
   "metadata": {
    "collapsed": true
   },
   "outputs": [],
   "source": [
    "def get_gps_peak(fn):\n",
    "    gps_dir = \"/projects/ps-yeolab3/encode/analysis/gps_peaks\"\n",
    "    fn = os.path.basename(fn)\n",
    "    basename = fn.split(\".\")[0]\n",
    "    \n",
    "    fn = os.path.join(gps_dir, \"{}/{}_outputs/{}_2_GEM_events.bed\".format(basename, basename, basename))\n",
    "    return fn\n",
    "\n",
    "def make_and_filter_clipper(fn, l2fc, pval):\n",
    "    bedtool = pybedtools.BedTool(fn)\n",
    "    \n",
    "    filter_data_inst = functools.partial(filter_data, l2fc=l2fc, pval=pval)\n",
    "    out_file = os.path.join(out_dir, os.path.basename(bedtool.fn) + \"l2fc_{}_pval_{}.clipper.bed\".format(l2fc, pval))\n",
    "    if not os.path.exists(out_file):\n",
    "        bedtool = bedtool.filter(filter_data_inst).saveas(out_file)\n",
    "\n",
    "    return out_file\n",
    "\n",
    "def make_clipper_ish(interval):\n",
    "    interval.name = interval[7]\n",
    "    interval[6] = interval.start\n",
    "    interval[7] = interval.stop\n",
    "    return interval\n",
    "\n",
    "def filter_data(interval, l2fc, pval):\n",
    "    #col4 is -log10 p-val\n",
    "    #col5 is -log2 fold enrichment\n",
    "\n",
    "    #This is the standard one \n",
    "    return (float(interval[3]) >= pval) and (float(interval[4]) >= l2fc)\n",
    "\n",
    "def format_frip_analysis(bam_file, bed_file, out_file=None):\n",
    "    path, ext = os.path.splitext(os.path.basename(bed_file))\n",
    "    if not out_file:\n",
    "        metrics = path + \".metrics\"\n",
    "    else:\n",
    "        metrics = out_file\n",
    "        \n",
    "    return \"python /home/gpratt/gscripts/gscripts/clipseq/calculate_frip.py --bed {} --bam {} --out_file {}\".format(bed_file, bam_file, metrics)\n",
    "\n",
    "def sort_and_return_peaks(fn, force=False):\n",
    "    out_dir = \"/projects/ps-yeolab3/encode/analysis/gps_peaks\"\n",
    "    out_fn = os.path.join(out_dir, os.path.basename(fn))\n",
    "    if os.path.exists(out_fn) and not RESET:\n",
    "        return out_fn\n",
    "    \n",
    "    bedtool = pybedtools.BedTool(fn)\n",
    "    bedtool = pybedtools.BedTool([pybedtools.create_interval_from_list(str(interval).split()) for interval in bedtool])\n",
    "\n",
    "    \n",
    "    bedtool = bedtool.sort().saveas(out_fn)\n",
    "    return bedtool.fn\n",
    "\n",
    "def sort_bed(fn):\n",
    "    out_file = os.path.splitext(fn)[0] + \".sorted.bed\"\n",
    "    \n",
    "    if os.path.exists(out_file) and not RESET:\n",
    "        return out_file\n",
    "    bedtool = pybedtools.BedTool(fn)\n",
    "    bedtool = bedtool.sort().saveas(out_file)\n",
    "    return bedtool.fn"
   ]
  },
  {
   "cell_type": "code",
   "execution_count": 4,
   "metadata": {
    "collapsed": false
   },
   "outputs": [],
   "source": [
    "make_and_filter_clipper_stringent = functools.partial(make_and_filter_clipper, l2fc=5, pval=3)\n",
    "make_and_filter_clipper_very_lineant = functools.partial(make_and_filter_clipper, l2fc=0, pval=1)\n",
    "make_and_filter_clipper_lineant = functools.partial(make_and_filter_clipper, l2fc=2, pval=1.3)\n",
    "make_and_filter_clipper_moderate = functools.partial(make_and_filter_clipper, l2fc=3, pval=3)"
   ]
  },
  {
   "cell_type": "code",
   "execution_count": 5,
   "metadata": {
    "collapsed": true
   },
   "outputs": [],
   "source": [
    "#Converts reps into dataframe, like they should be\n",
    "submitted_datasets = pd.read_table(\"/home/elvannostrand/data/clip/CLIPseq_analysis/ENCODE_CLIPperv2_20170130/ALLDATASETS_submittedonly.txt\")\n",
    "submitted_datasets = submitted_datasets.set_index([\"uID\", \"RBP\", \"Cell line\", \"INPUT\"])\n",
    "submitted_datasets.columns = pd.MultiIndex.from_tuples([item.split(\"_\") for item in submitted_datasets.columns])\n",
    "submitted_datasets = submitted_datasets.stack()\n",
    "submitted_datasets['INPUT'] = submitted_datasets.index.get_level_values(level=\"INPUT\")\n",
    "submitted_datasets.index = submitted_datasets.index.droplevel(\"INPUT\")"
   ]
  },
  {
   "cell_type": "code",
   "execution_count": 6,
   "metadata": {
    "collapsed": true
   },
   "outputs": [],
   "source": [
    "def format_input_norm(row):\n",
    "    uID = row.name[0]\n",
    "    rep = row.name[-1]\n",
    "    if rep == \"rep1\":\n",
    "        rep_num = \"01\"\n",
    "    elif rep == \"rep2\":\n",
    "        rep_num = \"02\"\n",
    "    else:\n",
    "        print \"error\"\n",
    "    #The one shitty part of this new approach is being careful how I deal with the input norm datasets\n",
    "    return os.path.join(input_norm_dir, \"{0}_{1}.basedon_{0}_{1}.peaks.l2inputnormnew.bed.compressed.bed.annotated\".format(uID, rep_num))"
   ]
  },
  {
   "cell_type": "code",
   "execution_count": 9,
   "metadata": {
    "collapsed": false
   },
   "outputs": [
    {
     "name": "stderr",
     "output_type": "stream",
     "text": [
      "\n",
      "  0%|          | 0/362 [00:00<?, ?it/s]\u001b[A\n",
      "100%|██████████| 362/362 [00:00<00:00, 171311.98it/s]\u001b[A\n",
      "  0%|          | 0/3 [00:00<?, ?it/s]\u001b[A\n",
      "362it [00:00, 4096.04it/s]           \u001b[A\n",
      "  0%|          | 0/362 [00:00<?, ?it/s]\u001b[A\n",
      " 16%|█▋        | 59/362 [00:00<00:00, 575.78it/s]\u001b[A\n",
      " 33%|███▎      | 118/362 [00:00<00:00, 579.23it/s]\u001b[A\n",
      " 48%|████▊     | 173/362 [00:00<00:00, 566.07it/s]\u001b[A\n",
      " 63%|██████▎   | 229/362 [00:00<00:00, 563.05it/s]\u001b[A\n",
      " 78%|███████▊  | 284/362 [00:00<00:00, 555.69it/s]\u001b[A\n",
      " 94%|█████████▍| 341/362 [00:00<00:00, 555.82it/s]\u001b[A\n",
      "100%|██████████| 362/362 [00:00<00:00, 562.76it/s]\u001b[A"
     ]
    }
   ],
   "source": [
    "#Format Data\n",
    "submitted_datasets['gps'] = submitted_datasets.CLIP.progress_apply(get_gps_peak)\n",
    "submitted_datasets['input_norm'] = submitted_datasets.progress_apply(format_input_norm, axis=1)\n",
    "submitted_datasets = submitted_datasets[submitted_datasets['input_norm'].apply(os.path.exists)]\n",
    "submitted_datasets['filtered_moderate'] = submitted_datasets['input_norm'].progress_apply(make_and_filter_clipper_moderate)\n"
   ]
  },
  {
   "cell_type": "code",
   "execution_count": 15,
   "metadata": {
    "collapsed": false
   },
   "outputs": [],
   "source": [
    "submitted_datasets['filtered_moderate_sorted'] = submitted_datasets.filtered_moderate.progress_apply(sort_bed)"
   ]
  },
  {
   "cell_type": "code",
   "execution_count": 17,
   "metadata": {
    "collapsed": false
   },
   "outputs": [
    {
     "data": {
      "text/plain": [
       "'/home/gpratt/projects/encode/analysis/peak_reanalysis_v14/203_01.basedon_203_01.peaks.l2inputnormnew.bed.compressed.bed.annotatedl2fc_3_pval_3.clipper.sorted.bed'"
      ]
     },
     "execution_count": 17,
     "metadata": {},
     "output_type": "execute_result"
    }
   ],
   "source": [
    "submitted_datasets['filtered_moderate_sorted'][0]"
   ]
  },
  {
   "cell_type": "code",
   "execution_count": 18,
   "metadata": {
    "collapsed": true
   },
   "outputs": [],
   "source": [
    "intersectBed -a ~/projects/encode/analysis/ad-hoc/windows.sorted.bed -b /home/gpratt/projects/encode/analysis/peak_reanalysis_v14/*_3_pval_3.clipper.sorted.bed -wo -filenames -sorted > ~/projects/encode/analysis/ad-hoc/interesected.bed"
   ]
  },
  {
   "cell_type": "code",
   "execution_count": 47,
   "metadata": {
    "collapsed": true
   },
   "outputs": [],
   "source": [
    "names = [\"chrom\", \"start\", \"stop\", \"fn\", \"chrom_peak\", \n",
    "         \"start_peak\", \"stop_peak\", \"name_peak\", \"score_peak\", \n",
    "         \"strand_peak\", \"annotation_peak\", \"gene_peak\", \"overlap_peak\"]"
   ]
  },
  {
   "cell_type": "code",
   "execution_count": 59,
   "metadata": {
    "collapsed": false
   },
   "outputs": [],
   "source": [
    "df = pd.read_table(\"/home/gpratt/projects/encode/analysis/ad-hoc/interesected_smaller.bed\", header=None, names=names)"
   ]
  },
  {
   "cell_type": "code",
   "execution_count": 60,
   "metadata": {
    "collapsed": false
   },
   "outputs": [],
   "source": [
    "grouped = df.groupby([\"chrom\", \"start\", \"stop\"])"
   ]
  },
  {
   "cell_type": "code",
   "execution_count": 75,
   "metadata": {
    "collapsed": false
   },
   "outputs": [],
   "source": [
    "foo = grouped['fn'].agg(lambda x: len(set(x)))"
   ]
  },
  {
   "cell_type": "code",
   "execution_count": 62,
   "metadata": {
    "collapsed": false
   },
   "outputs": [
    {
     "data": {
      "text/plain": [
       "<matplotlib.axes._subplots.AxesSubplot at 0x2b72ed24e850>"
      ]
     },
     "execution_count": 62,
     "metadata": {},
     "output_type": "execute_result"
    },
    {
     "data": {
      "image/png": "[encoded data removed]",
      "text/plain": [
       "<matplotlib.figure.Figure at 0x2b72ece0ad90>"
      ]
     },
     "metadata": {},
     "output_type": "display_data"
    }
   ],
   "source": [
    "sns.violinplot(foo)"
   ]
  },
  {
   "cell_type": "code",
   "execution_count": null,
   "metadata": {
    "collapsed": true
   },
   "outputs": [],
   "source": [
    "Filtering Criteria\n",
    "Potentally filter out SLBP\n",
    "Use motif analysis on these highly repetitive regions"
   ]
  },
  {
   "cell_type": "code",
   "execution_count": 76,
   "metadata": {
    "collapsed": false
   },
   "outputs": [],
   "source": [
    "foo = foo[foo > 30]"
   ]
  },
  {
   "cell_type": "markdown",
   "metadata": {},
   "source": [
    "This is the list of potentally blacklisted regions, sorted from most peaks with shit to least"
   ]
  },
  {
   "cell_type": "code",
   "execution_count": 77,
   "metadata": {
    "collapsed": false
   },
   "outputs": [],
   "source": [
    "pd.DataFrame(foo).to_csv(\"/home/gpratt/Dropbox/EricGabe_ENCODE/potental_blacklist_sites.csv\")"
   ]
  },
  {
   "cell_type": "code",
   "execution_count": null,
   "metadata": {
    "collapsed": true
   },
   "outputs": [],
   "source": [
    "blacklist_regions = []\n",
    "\n",
    "chr6   31958186   31958286\n",
    "chr15  96826097   96826197 "
   ]
  },
  {
   "cell_type": "code",
   "execution_count": 64,
   "metadata": {
    "collapsed": false,
    "scrolled": false
   },
   "outputs": [
    {
     "data": {
      "text/plain": [
       "chrom  start      stop     \n",
       "chr6   31958186   31958286     233\n",
       "chr15  96826097   96826197     173\n",
       "chr17  18965324   18965424     151\n",
       "       18965424   18965524     151\n",
       "chr19  893483     893583       143\n",
       "chr6   10887791   10887891     138\n",
       "chr19  893583     893590       136\n",
       "chr14  102706574  102706674    129\n",
       "       102706674  102706774    129\n",
       "chr2   230045641  230045741    119\n",
       "chr10  72577316   72577416     117\n",
       "chr19  2270251    2270351      117\n",
       "       2270151    2270251      115\n",
       "chr3   160122322  160122422    110\n",
       "chr22  20111054   20111154     105\n",
       "chr11  32165294   32165394     102\n",
       "chr6   86352613   86352713     101\n",
       "chr1   91853022   91853122      99\n",
       "chr2   230045541  230045641     99\n",
       "chr1   245026523  245026623     97\n",
       "chr16  89555737   89555837      96\n",
       "chrX   117415421  117415521     95\n",
       "chr7   5569981    5570081       95\n",
       "chr6   86352713   86352813      93\n",
       "chrM   9965       10065         92\n",
       "chr22  20110954   20111054      92\n",
       "chr13  92000273   92000373      91\n",
       "chr19  18548173   18548273      91\n",
       "chr13  92000173   92000273      90\n",
       "chr21  45734533   45734633      90\n",
       "                              ... \n",
       "chr4   23807045   23807145       1\n",
       "chr16  4816112    4816212        1\n",
       "chr4   23831245   23831345       1\n",
       "chr16  4815912    4816012        1\n",
       "       4803012    4803112        1\n",
       "chr4   23861745   23861845       1\n",
       "chr16  4799812    4799912        1\n",
       "chr4   23861345   23861445       1\n",
       "       23861045   23861145       1\n",
       "chr16  4800312    4800412        1\n",
       "       4800812    4800912        1\n",
       "chr4   23860945   23861045       1\n",
       "chr16  4801012    4801112        1\n",
       "       4801612    4801712        1\n",
       "       4801912    4802012        1\n",
       "       4802912    4803012        1\n",
       "       4810012    4810112        1\n",
       "chr4   23836945   23837045       1\n",
       "chr16  4810112    4810212        1\n",
       "chr4   23852845   23852945       1\n",
       "       23852745   23852845       1\n",
       "       23851545   23851645       1\n",
       "       23851445   23851545       1\n",
       "       23848645   23848745       1\n",
       "chr16  4812412    4812512        1\n",
       "       4812512    4812612        1\n",
       "chr4   23838045   23838145       1\n",
       "       23837945   23838045       1\n",
       "chr16  4815212    4815312        1\n",
       "chrY   28767997   28768097       1\n",
       "Name: fn, dtype: int64"
      ]
     },
     "execution_count": 64,
     "metadata": {},
     "output_type": "execute_result"
    }
   ],
   "source": [
    "foo.sort_values(ascending=False)"
   ]
  },
  {
   "cell_type": "code",
   "execution_count": null,
   "metadata": {
    "collapsed": true
   },
   "outputs": [],
   "source": []
  }
 ],
 "metadata": {
  "kernelspec": {
   "display_name": "Python 2",
   "language": "python",
   "name": "python2"
  },
  "language_info": {
   "codemirror_mode": {
    "name": "ipython",
    "version": 2
   },
   "file_extension": ".py",
   "mimetype": "text/x-python",
   "name": "python",
   "nbconvert_exporter": "python",
   "pygments_lexer": "ipython2",
   "version": "2.7.12"
  }
 },
 "nbformat": 4,
 "nbformat_minor": 0
}
