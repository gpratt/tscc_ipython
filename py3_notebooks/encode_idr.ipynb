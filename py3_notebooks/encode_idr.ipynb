{
 "cells": [
  {
   "cell_type": "code",
   "execution_count": 3,
   "metadata": {
    "collapsed": false
   },
   "outputs": [],
   "source": [
    "import pandas as pd\n",
    "import os\n",
    "import pybedtools"
   ]
  },
  {
   "cell_type": "code",
   "execution_count": 4,
   "metadata": {
    "collapsed": false
   },
   "outputs": [],
   "source": [
    "df = pd.read_table(\"/home/elvannostrand/data/clip/CLIPseq_analysis/ALLCLIP_v12_20160112/encode_v12_filelist.MethodPaperSubmittedList_20160122.txt.listforIDR.txt\")"
   ]
  },
  {
   "cell_type": "code",
   "execution_count": 21,
   "metadata": {
    "collapsed": true
   },
   "outputs": [],
   "source": [
    "def format_erics_output_p_val(interval):\n",
    "    #column 8 is the column that gets sorted\n",
    "    #sort by -log10 p-value\n",
    "    interval.append(str(interval[3]))\n",
    "    interval.append(str(interval[3]))\n",
    "    interval.append(\"-1\")\n",
    "    interval.append(\"-1\")\n",
    "    return interval\n",
    "\n",
    "def format_erics_output_fc(interval):\n",
    "    #column 8 is the column that gets sorted\n",
    "    #sort by -log10 p-value\n",
    "    interval.append(str(interval[4]))\n",
    "    interval.append(str(interval[4]))\n",
    "    interval.append(\"-1\")\n",
    "    interval.append(\"-1\")\n",
    "    return interval\n",
    "\n",
    "def fix_score(interval):\n",
    "    #column 8 is the column that gets sorted\n",
    "    #sort by -log10 p-value\n",
    "    interval.score = str(pow(2, float(interval.score)))\n",
    "\n",
    "    return interval"
   ]
  },
  {
   "cell_type": "code",
   "execution_count": 6,
   "metadata": {
    "collapsed": true
   },
   "outputs": [],
   "source": [
    "peaks_dir = \"/home/elvannostrand/data/clip/CLIPseq_analysis/ALLCLIP_v12_20160112/\""
   ]
  },
  {
   "cell_type": "code",
   "execution_count": 16,
   "metadata": {
    "collapsed": false,
    "scrolled": false
   },
   "outputs": [],
   "source": [
    "for name, row in df.iterrows():\n",
    "    rep1 = os.path.join(peaks_dir, (row['uID_01.basedon_uID_01.peaks.l2inputnormnew.bed.compressed.bed']))\n",
    "    rep2 = os.path.join(peaks_dir, (row['uID_02.basedon_uID_02.peaks.l2inputnormnew.bed.compressed.bed']))\n",
    "    break\n",
    "    #output = os.path.basename(rep1).split(\"_\")[0] + \".txt\"\n",
    "\n",
    "    #!idr --samples $rep1 $rep2 --input-file-type bed --rank 4 --peak-merge-method min --plot -o $output"
   ]
  },
  {
   "cell_type": "code",
   "execution_count": 22,
   "metadata": {
    "collapsed": false
   },
   "outputs": [],
   "source": [
    "evn12 = pybedtools.BedTool(os.path.join(peaks_dir, \"203_01.basedon_203_01.peaks.l2inputnormnew.bed.compressed.bed\")).each(fix_score).sort().saveas(\"evn12_fc.bed\")  \n",
    "evn13 = pybedtools.BedTool(os.path.join(peaks_dir, \"203_02.basedon_203_02.peaks.l2inputnormnew.bed.compressed.bed\")).each(fix_score).sort().saveas(\"evn13_fc.bed\") \n"
   ]
  },
  {
   "cell_type": "code",
   "execution_count": null,
   "metadata": {
    "collapsed": false
   },
   "outputs": [],
   "source": [
    "df['uID_01.basedon_uID_01.peaks.l2inputnormnew.bed.compressed.bed'][0]"
   ]
  },
  {
   "cell_type": "code",
   "execution_count": null,
   "metadata": {
    "collapsed": false
   },
   "outputs": [],
   "source": [
    "df['uID_02.basedon_uID_02.peaks.l2inputnormnew.bed.compressed.bed'][0]"
   ]
  },
  {
   "cell_type": "code",
   "execution_count": 12,
   "metadata": {
    "collapsed": false,
    "scrolled": false
   },
   "outputs": [
    {
     "name": "stdout",
     "output_type": "stream",
     "text": [
      "Initial parameter values: [0.10 1.00 0.20 0.50]\n",
      "Final parameter values: [1.60 0.75 0.72 0.71]\n",
      "/home/gpratt/anaconda/envs/py3/lib/python3.5/site-packages/idr-2.0.2-py3.5-linux-x86_64.egg/idr/idr.py:415: FutureWarning: comparison to `None` will result in an elementwise object comparison in the future.\n",
      "  if localIDRs == None or IDRs == None:\n",
      "Number of reported peaks - 36513/36513 (100.0%)\n",
      "\n",
      "Number of peaks passing IDR cutoff of 0.05 - 25054/36513 (68.6%)\n",
      "\n"
     ]
    }
   ],
   "source": [
    "!idr --samples $rep1 $rep2 --input-file-type bed --rank 4 --peak-merge-method min --plot -o $output"
   ]
  },
  {
   "cell_type": "code",
   "execution_count": 13,
   "metadata": {
    "collapsed": false
   },
   "outputs": [
    {
     "name": "stdout",
     "output_type": "stream",
     "text": [
      "/home/gpratt/anaconda/envs/py3/bin/idr --samples /home/elvannostrand/data/clip/CLIPseq_analysis/ALLCLIP_v12_20160112/203_01.basedon_203_01.peaks.l2inputnormnew.bed.compressed.bed /home/elvannostrand/data/clip/CLIPseq_analysis/ALLCLIP_v12_20160112/203_02.basedon_203_02.peaks.l2inputnormnew.bed.compressed.bed --input-file-type bed --rank 5 --peak-merge-method max --plot -o 203.txt\r\n",
      "Traceback (most recent call last):\r\n",
      "  File \"/home/gpratt/anaconda/envs/py3/bin/idr\", line 4, in <module>\r\n",
      "    __import__('pkg_resources').run_script('idr==2.0.2', 'idr')\r\n",
      "  File \"/home/gpratt/anaconda/envs/py3/lib/python3.5/site-packages/setuptools-19.4-py3.5.egg/pkg_resources/__init__.py\", line 726, in run_script\r\n",
      "  File \"/home/gpratt/anaconda/envs/py3/lib/python3.5/site-packages/setuptools-19.4-py3.5.egg/pkg_resources/__init__.py\", line 1651, in run_script\r\n",
      "  File \"/home/gpratt/anaconda/envs/py3/lib/python3.5/site-packages/idr-2.0.2-py3.5-linux-x86_64.egg/EGG-INFO/scripts/idr\", line 10, in <module>\r\n",
      "    idr.idr.main()\r\n",
      "  File \"/home/gpratt/anaconda/envs/py3/lib/python3.5/site-packages/idr-2.0.2-py3.5-linux-x86_64.egg/idr/idr.py\", line 733, in main\r\n",
      "    merged_peaks, signal_type = load_samples(args)\r\n",
      "  File \"/home/gpratt/anaconda/envs/py3/lib/python3.5/site-packages/idr-2.0.2-py3.5-linux-x86_64.egg/idr/idr.py\", line 648, in load_samples\r\n",
      "    f1, f2 = [load_bed(fp, signal_index) for fp in args.samples]\r\n",
      "  File \"/home/gpratt/anaconda/envs/py3/lib/python3.5/site-packages/idr-2.0.2-py3.5-linux-x86_64.egg/idr/idr.py\", line 648, in <listcomp>\r\n",
      "    f1, f2 = [load_bed(fp, signal_index) for fp in args.samples]\r\n",
      "  File \"/home/gpratt/anaconda/envs/py3/lib/python3.5/site-packages/idr-2.0.2-py3.5-linux-x86_64.egg/idr/idr.py\", line 38, in load_bed\r\n",
      "    raise ValueError(\"Invalid Signal Value: {:e}\".format(signal))\r\n",
      "ValueError: Invalid Signal Value: -4.867644e-02\r\n"
     ]
    }
   ],
   "source": [
    "!idr --samples $rep1 $rep2 --input-file-type bed --rank 5 --peak-merge-method max --plot -o $output"
   ]
  },
  {
   "cell_type": "code",
   "execution_count": null,
   "metadata": {
    "collapsed": true
   },
   "outputs": [],
   "source": []
  }
 ],
 "metadata": {
  "kernelspec": {
   "display_name": "Python 3",
   "language": "python",
   "name": "python3"
  },
  "language_info": {
   "codemirror_mode": {
    "name": "ipython",
    "version": 3
   },
   "file_extension": ".py",
   "mimetype": "text/x-python",
   "name": "python",
   "nbconvert_exporter": "python",
   "pygments_lexer": "ipython3",
   "version": "3.5.1"
  }
 },
 "nbformat": 4,
 "nbformat_minor": 0
}
