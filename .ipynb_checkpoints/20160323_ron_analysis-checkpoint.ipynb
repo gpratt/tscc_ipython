{
 "cells": [
  {
   "cell_type": "code",
   "execution_count": 1,
   "metadata": {
    "collapsed": true
   },
   "outputs": [],
   "source": [
    "import pandas as pd"
   ]
  },
  {
   "cell_type": "code",
   "execution_count": null,
   "metadata": {
    "collapsed": true
   },
   "outputs": [],
   "source": [
    "sALS = pd.read_csv(\"/nas3/gpratt/Dropbox/TAF15/Data/sALS/sALS.csv\", index_col=0)\n",
    "sALS.index.names = [\"gene_id\"]\n",
    "sALS['gene_name'] = [gene_id_to_name[gene_id] for gene_id in sALS.index]\n",
    "\n",
    "new_index = []\n",
    "for index in sALS.index:\n",
    "    new_index.append(['mn', 'sALS', index])\n",
    "sALS.index = pd.MultiIndex.from_tuples(new_index)\n",
    "\n",
    "cashe = {'G298S': 'tdp', 'N352S': 'tdp', 'R521G': 'fus', 'T198C': 'fus'}\n",
    "\n",
    "ips_knockdowns = pd.concat({os.path.basename(rbp).split(\".\")[0]: pd.read_csv(rbp, index_col=0) for rbp in glob.glob(\"/nas3/gpratt/Dropbox/TAF15/Data/anthony_rnaseq/deseq/*\")})\n",
    "ips_knockdowns['gene_names'] = [gene_id_to_name[gene_id] for gene_id in ips_knockdowns.index.get_level_values(level=1)]\n",
    "\n",
    "results = []\n",
    "for item in ips_knockdowns.index:\n",
    "    gene_id = item[1]\n",
    "    mutation = item[0].upper()\n",
    "    rbp = cashe[mutation]\n",
    "    \n",
    "    results.append([mutation, rbp, gene_id])\n",
    "    \n",
    "ips_knockdowns.index = pd.MultiIndex.from_tuples(results, names=[\"rbp\", 'mutation', \"gene\"])\n",
    "ips_knockdowns = ips_knockdowns.sortlevel()"
   ]
  },
  {
   "cell_type": "code",
   "execution_count": 2,
   "metadata": {
    "collapsed": false
   },
   "outputs": [
    {
     "ename": "IOError",
     "evalue": "File /nas3/gpratt/Dropbox/TAF15/Data/all_significant_knockdowns.csv does not exist",
     "output_type": "error",
     "traceback": [
      "\u001b[1;31m---------------------------------------------------------------------------\u001b[0m",
      "\u001b[1;31mIOError\u001b[0m                                   Traceback (most recent call last)",
      "\u001b[1;32m<ipython-input-2-250d4a11b4d3>\u001b[0m in \u001b[0;36m<module>\u001b[1;34m()\u001b[0m\n\u001b[1;32m----> 1\u001b[1;33m \u001b[0mpd\u001b[0m\u001b[1;33m.\u001b[0m\u001b[0mread_csv\u001b[0m\u001b[1;33m(\u001b[0m\u001b[1;34m\"/nas3/gpratt/Dropbox/TAF15/Data/all_significant_knockdowns.csv\"\u001b[0m\u001b[1;33m)\u001b[0m\u001b[1;33m\u001b[0m\u001b[0m\n\u001b[0m",
      "\u001b[1;32m/home/gpratt/anaconda/lib/python2.7/site-packages/pandas/io/parsers.pyc\u001b[0m in \u001b[0;36mparser_f\u001b[1;34m(filepath_or_buffer, sep, dialect, compression, doublequote, escapechar, quotechar, quoting, skipinitialspace, lineterminator, header, index_col, names, prefix, skiprows, skipfooter, skip_footer, na_values, true_values, false_values, delimiter, converters, dtype, usecols, engine, delim_whitespace, as_recarray, na_filter, compact_ints, use_unsigned, low_memory, buffer_lines, warn_bad_lines, error_bad_lines, keep_default_na, thousands, comment, decimal, parse_dates, keep_date_col, dayfirst, date_parser, memory_map, float_precision, nrows, iterator, chunksize, verbose, encoding, squeeze, mangle_dupe_cols, tupleize_cols, infer_datetime_format, skip_blank_lines)\u001b[0m\n\u001b[0;32m    489\u001b[0m                     skip_blank_lines=skip_blank_lines)\n\u001b[0;32m    490\u001b[0m \u001b[1;33m\u001b[0m\u001b[0m\n\u001b[1;32m--> 491\u001b[1;33m         \u001b[1;32mreturn\u001b[0m \u001b[0m_read\u001b[0m\u001b[1;33m(\u001b[0m\u001b[0mfilepath_or_buffer\u001b[0m\u001b[1;33m,\u001b[0m \u001b[0mkwds\u001b[0m\u001b[1;33m)\u001b[0m\u001b[1;33m\u001b[0m\u001b[0m\n\u001b[0m\u001b[0;32m    492\u001b[0m \u001b[1;33m\u001b[0m\u001b[0m\n\u001b[0;32m    493\u001b[0m     \u001b[0mparser_f\u001b[0m\u001b[1;33m.\u001b[0m\u001b[0m__name__\u001b[0m \u001b[1;33m=\u001b[0m \u001b[0mname\u001b[0m\u001b[1;33m\u001b[0m\u001b[0m\n",
      "\u001b[1;32m/home/gpratt/anaconda/lib/python2.7/site-packages/pandas/io/parsers.pyc\u001b[0m in \u001b[0;36m_read\u001b[1;34m(filepath_or_buffer, kwds)\u001b[0m\n\u001b[0;32m    266\u001b[0m \u001b[1;33m\u001b[0m\u001b[0m\n\u001b[0;32m    267\u001b[0m     \u001b[1;31m# Create the parser.\u001b[0m\u001b[1;33m\u001b[0m\u001b[1;33m\u001b[0m\u001b[0m\n\u001b[1;32m--> 268\u001b[1;33m     \u001b[0mparser\u001b[0m \u001b[1;33m=\u001b[0m \u001b[0mTextFileReader\u001b[0m\u001b[1;33m(\u001b[0m\u001b[0mfilepath_or_buffer\u001b[0m\u001b[1;33m,\u001b[0m \u001b[1;33m**\u001b[0m\u001b[0mkwds\u001b[0m\u001b[1;33m)\u001b[0m\u001b[1;33m\u001b[0m\u001b[0m\n\u001b[0m\u001b[0;32m    269\u001b[0m \u001b[1;33m\u001b[0m\u001b[0m\n\u001b[0;32m    270\u001b[0m     \u001b[1;32mif\u001b[0m \u001b[1;33m(\u001b[0m\u001b[0mnrows\u001b[0m \u001b[1;32mis\u001b[0m \u001b[1;32mnot\u001b[0m \u001b[0mNone\u001b[0m\u001b[1;33m)\u001b[0m \u001b[1;32mand\u001b[0m \u001b[1;33m(\u001b[0m\u001b[0mchunksize\u001b[0m \u001b[1;32mis\u001b[0m \u001b[1;32mnot\u001b[0m \u001b[0mNone\u001b[0m\u001b[1;33m)\u001b[0m\u001b[1;33m:\u001b[0m\u001b[1;33m\u001b[0m\u001b[0m\n",
      "\u001b[1;32m/home/gpratt/anaconda/lib/python2.7/site-packages/pandas/io/parsers.pyc\u001b[0m in \u001b[0;36m__init__\u001b[1;34m(self, f, engine, **kwds)\u001b[0m\n\u001b[0;32m    581\u001b[0m             \u001b[0mself\u001b[0m\u001b[1;33m.\u001b[0m\u001b[0moptions\u001b[0m\u001b[1;33m[\u001b[0m\u001b[1;34m'has_index_names'\u001b[0m\u001b[1;33m]\u001b[0m \u001b[1;33m=\u001b[0m \u001b[0mkwds\u001b[0m\u001b[1;33m[\u001b[0m\u001b[1;34m'has_index_names'\u001b[0m\u001b[1;33m]\u001b[0m\u001b[1;33m\u001b[0m\u001b[0m\n\u001b[0;32m    582\u001b[0m \u001b[1;33m\u001b[0m\u001b[0m\n\u001b[1;32m--> 583\u001b[1;33m         \u001b[0mself\u001b[0m\u001b[1;33m.\u001b[0m\u001b[0m_make_engine\u001b[0m\u001b[1;33m(\u001b[0m\u001b[0mself\u001b[0m\u001b[1;33m.\u001b[0m\u001b[0mengine\u001b[0m\u001b[1;33m)\u001b[0m\u001b[1;33m\u001b[0m\u001b[0m\n\u001b[0m\u001b[0;32m    584\u001b[0m \u001b[1;33m\u001b[0m\u001b[0m\n\u001b[0;32m    585\u001b[0m     \u001b[1;32mdef\u001b[0m \u001b[0m_get_options_with_defaults\u001b[0m\u001b[1;33m(\u001b[0m\u001b[0mself\u001b[0m\u001b[1;33m,\u001b[0m \u001b[0mengine\u001b[0m\u001b[1;33m)\u001b[0m\u001b[1;33m:\u001b[0m\u001b[1;33m\u001b[0m\u001b[0m\n",
      "\u001b[1;32m/home/gpratt/anaconda/lib/python2.7/site-packages/pandas/io/parsers.pyc\u001b[0m in \u001b[0;36m_make_engine\u001b[1;34m(self, engine)\u001b[0m\n\u001b[0;32m    722\u001b[0m     \u001b[1;32mdef\u001b[0m \u001b[0m_make_engine\u001b[0m\u001b[1;33m(\u001b[0m\u001b[0mself\u001b[0m\u001b[1;33m,\u001b[0m \u001b[0mengine\u001b[0m\u001b[1;33m=\u001b[0m\u001b[1;34m'c'\u001b[0m\u001b[1;33m)\u001b[0m\u001b[1;33m:\u001b[0m\u001b[1;33m\u001b[0m\u001b[0m\n\u001b[0;32m    723\u001b[0m         \u001b[1;32mif\u001b[0m \u001b[0mengine\u001b[0m \u001b[1;33m==\u001b[0m \u001b[1;34m'c'\u001b[0m\u001b[1;33m:\u001b[0m\u001b[1;33m\u001b[0m\u001b[0m\n\u001b[1;32m--> 724\u001b[1;33m             \u001b[0mself\u001b[0m\u001b[1;33m.\u001b[0m\u001b[0m_engine\u001b[0m \u001b[1;33m=\u001b[0m \u001b[0mCParserWrapper\u001b[0m\u001b[1;33m(\u001b[0m\u001b[0mself\u001b[0m\u001b[1;33m.\u001b[0m\u001b[0mf\u001b[0m\u001b[1;33m,\u001b[0m \u001b[1;33m**\u001b[0m\u001b[0mself\u001b[0m\u001b[1;33m.\u001b[0m\u001b[0moptions\u001b[0m\u001b[1;33m)\u001b[0m\u001b[1;33m\u001b[0m\u001b[0m\n\u001b[0m\u001b[0;32m    725\u001b[0m         \u001b[1;32melse\u001b[0m\u001b[1;33m:\u001b[0m\u001b[1;33m\u001b[0m\u001b[0m\n\u001b[0;32m    726\u001b[0m             \u001b[1;32mif\u001b[0m \u001b[0mengine\u001b[0m \u001b[1;33m==\u001b[0m \u001b[1;34m'python'\u001b[0m\u001b[1;33m:\u001b[0m\u001b[1;33m\u001b[0m\u001b[0m\n",
      "\u001b[1;32m/home/gpratt/anaconda/lib/python2.7/site-packages/pandas/io/parsers.pyc\u001b[0m in \u001b[0;36m__init__\u001b[1;34m(self, src, **kwds)\u001b[0m\n\u001b[0;32m   1091\u001b[0m         \u001b[0mkwds\u001b[0m\u001b[1;33m[\u001b[0m\u001b[1;34m'allow_leading_cols'\u001b[0m\u001b[1;33m]\u001b[0m \u001b[1;33m=\u001b[0m \u001b[0mself\u001b[0m\u001b[1;33m.\u001b[0m\u001b[0mindex_col\u001b[0m \u001b[1;32mis\u001b[0m \u001b[1;32mnot\u001b[0m \u001b[0mFalse\u001b[0m\u001b[1;33m\u001b[0m\u001b[0m\n\u001b[0;32m   1092\u001b[0m \u001b[1;33m\u001b[0m\u001b[0m\n\u001b[1;32m-> 1093\u001b[1;33m         \u001b[0mself\u001b[0m\u001b[1;33m.\u001b[0m\u001b[0m_reader\u001b[0m \u001b[1;33m=\u001b[0m \u001b[0m_parser\u001b[0m\u001b[1;33m.\u001b[0m\u001b[0mTextReader\u001b[0m\u001b[1;33m(\u001b[0m\u001b[0msrc\u001b[0m\u001b[1;33m,\u001b[0m \u001b[1;33m**\u001b[0m\u001b[0mkwds\u001b[0m\u001b[1;33m)\u001b[0m\u001b[1;33m\u001b[0m\u001b[0m\n\u001b[0m\u001b[0;32m   1094\u001b[0m \u001b[1;33m\u001b[0m\u001b[0m\n\u001b[0;32m   1095\u001b[0m         \u001b[1;31m# XXX\u001b[0m\u001b[1;33m\u001b[0m\u001b[1;33m\u001b[0m\u001b[0m\n",
      "\u001b[1;32mpandas/parser.pyx\u001b[0m in \u001b[0;36mpandas.parser.TextReader.__cinit__ (pandas/parser.c:3229)\u001b[1;34m()\u001b[0m\n",
      "\u001b[1;32mpandas/parser.pyx\u001b[0m in \u001b[0;36mpandas.parser.TextReader._setup_parser_source (pandas/parser.c:6042)\u001b[1;34m()\u001b[0m\n",
      "\u001b[1;31mIOError\u001b[0m: File /nas3/gpratt/Dropbox/TAF15/Data/all_significant_knockdowns.csv does not exist"
     ]
    }
   ],
   "source": [
    "all_knockdowns = pd.concat([ips_knockdowns, sALS])\n",
    "all_knockdowns = all_knockdowns.drop([\"gene_name\", \"gene_names\", \"human_gene_id\"], axis=1)\n",
    "all_knockdowns[\"gene_name\"] = [gene_id_to_name[gene_id] for gene_id in all_knockdowns.index.get_level_values(level=2)]\n",
    "all_knockdowns.index.names = ['cell_type', 'rbp', 'gene_id']\n",
    "all_knockdowns = all_knockdowns.drop([\"ews\", \"hur\", \"tia1\", \"hnrnpa2b1\"], level=\"rbp\")\n",
    "all_knockdowns = all_knockdowns.drop([\"N352S\", \"T198C\", \"G298S\"], level=\"cell_type\")\n",
    "\n",
    "significant_all_knockdowns = all_knockdowns[(all_knockdowns.padj <= .05) & (abs(all_knockdowns.log2FoldChange) > np.log2(1.5))]\n",
    "significant_all_upregulated = significant_all_knockdowns[significant_all_knockdowns.log2FoldChange > 0]\n",
    "significant_all_downregulated = significant_all_knockdowns[significant_all_knockdowns.log2FoldChange < 0]\n",
    "\n",
    "coding_all_knockdowns = all_knockdowns[[gene_id_to_type[gene] == 'protein_coding' for gene in all_knockdowns.index.get_level_values(level=\"gene_id\")]]\n",
    "coding_significant_all_knockdowns = significant_all_knockdowns[[gene_id_to_type[gene] == 'protein_coding' for gene in significant_all_knockdowns.index.get_level_values(level=\"gene_id\")]]\n",
    "coding_significant_all_upregulated = significant_all_upregulated[[gene_id_to_type[gene] == 'protein_coding' for gene in significant_all_upregulated.index.get_level_values(level=\"gene_id\")]]\n",
    "coding_significant_all_downregulated = significant_all_downregulated[[gene_id_to_type[gene] == 'protein_coding' for gene in significant_all_downregulated.index.get_level_values(level=\"gene_id\")]]\n"
   ]
  },
  {
   "cell_type": "code",
   "execution_count": null,
   "metadata": {
    "collapsed": true
   },
   "outputs": [],
   "source": [
    "sALS_all = coding_significant_all_knockdowns.ix['mn', 'sALS']\n",
    "sALS_upregulated = coding_significant_all_upregulated.ix['mn', 'sALS']\n",
    "sALS_all_all = coding_all_knockdowns.ix['mn', 'sALS']\n",
    "\n",
    "shuffled_all_sals = shuffled_significant_all_knockdowns.ix['mn', 'sALS']\n",
    "not_significant_changes = coding_all_knockdowns[coding_all_knockdowns.padj > .05]\n",
    "not_signficant_sals_all = not_significant_changes.ix['mn', 'sALS']"
   ]
  },
  {
   "cell_type": "code",
   "execution_count": null,
   "metadata": {
    "collapsed": true
   },
   "outputs": [],
   "source": [
    "row_num = 1\n",
    "col_num = 4\n",
    "\n",
    "real_result = {}\n",
    "shuffled_result = {}\n",
    "with dataviz.Figure(os.path.join(img_dir, \"significant_regulation.svg\"), figsize=(col_num * 2.0, row_num * 2.0)) as fig:\n",
    "    overlapping_mn_kds = coding_significant_all_knockdowns.ix['mn'].drop(['sALS', \"taf15_tdp43\"], level=\"rbp\")\n",
    "    for x, (name, df) in enumerate(overlapping_mn_kds.groupby(level=\"rbp\")):\n",
    "        ax = fig.add_subplot(row_num, col_num, x)\n",
    "\n",
    "        merged_df = sALS_all.join(df, lsuffix=\"_1\", rsuffix=\"_2\")\n",
    "        \n",
    "        not_significant_merged_df = sALS_all_all.join(all_knockdowns.ix['mn', name], lsuffix=\"_1\", rsuffix=\"_2\")\n",
    "        not_significant_merged_df = not_significant_merged_df[(np.abs(not_significant_merged_df.log2FoldChange_1) < np.log2(1.5)) |  (np.abs(not_significant_merged_df.log2FoldChange_2) < np.log2(1.5))]\n",
    "\n",
    "        real_result[name], shuffled_result[name] = plot_regressions(merged_df, shuffled_merged_df, not_significant_merged_df, ax=ax)\n",
    "        \n",
    "        if ax.is_last_col() and ax.is_first_row():\n",
    "            ax.legend(loc=0, fontsize=6)\n",
    "        sns.despine(ax=ax)\n",
    "        if ax.is_last_row():\n",
    "            ax.set_xlabel(\"sALS Log2 Fold Change\", fontsize=6)\n",
    "            \n",
    "        ax.set_ylabel(\"{} Log2 Fold Change\".format(rbp_names[name]), fontsize=6)\n",
    "        \n",
    "real_result = pd.DataFrame(real_result)\n",
    "shuffled_result = pd.DataFrame(shuffled_result)"
   ]
  }
 ],
 "metadata": {
  "kernelspec": {
   "display_name": "Python 2",
   "language": "python",
   "name": "python2"
  },
  "language_info": {
   "codemirror_mode": {
    "name": "ipython",
    "version": 2
   },
   "file_extension": ".py",
   "mimetype": "text/x-python",
   "name": "python",
   "nbconvert_exporter": "python",
   "pygments_lexer": "ipython2",
   "version": "2.7.11"
  }
 },
 "nbformat": 4,
 "nbformat_minor": 0
}
