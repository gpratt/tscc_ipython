{
 "cells": [
  {
   "cell_type": "code",
   "execution_count": 4,
   "metadata": {
    "collapsed": true
   },
   "outputs": [],
   "source": [
    "%matplotlib inline\n",
    "from collections import Counter, OrderedDict, defaultdict\n",
    "import copy\n",
    "import glob\n",
    "import itertools\n",
    "from itertools import izip\n",
    "import itertools\n",
    "import os\n",
    "import subprocess\n",
    "import tempfile\n",
    "\n",
    "from IPython.core.display import HTML, Image\n",
    "import itertools\n",
    "import pandas as pd\n",
    "from matplotlib import gridspec\n",
    "from matplotlib import pyplot\n",
    "import matplotlib.patches as mpatches\n",
    "\n",
    "import matplotlib as mpl\n",
    "from matplotlib_venn import venn2, venn3\n",
    "import numpy as np\n",
    "import scipy\n",
    "import seaborn as sns\n",
    "\n",
    "from clipper.src import CLIP_analysis\n",
    "from clipper.src import get_genomic_regions\n",
    "import flotilla\n",
    "from gscripts import GO\n",
    "from gscripts.general import dataviz\n",
    "from gscripts.general import parsers\n",
    "from gscripts.general import region_helpers\n",
    "from gscripts.rnaseq.helpers import counts_to_rpkm\n",
    "\n",
    "img_dir = \"/home/gpratt/Dropbox/mouse_stress/figures\""
   ]
  },
  {
   "cell_type": "code",
   "execution_count": null,
   "metadata": {
    "collapsed": true
   },
   "outputs": [],
   "source": [
    "count_file = \"/projects/ps-yeolab2/encode/analysis/encode_v12/lf_counts.txt\"\n",
    "count_df = pd.read_table(count_file, skiprows=1, index_col=0)\n",
    "count_df.columns = [os.path.basename(item).split(\".\")[0] for item in count_df.columns]\n",
    "\n",
    "rpkm_df = counts_to_rpkm(count_df).T\n",
    "rpkm_df.columns = [item.split(\".\")[0] for item in rpkm_df.columns]\n",
    "flotilla_rpkm_df = rpkm_df.copy()\n"
   ]
  },
  {
   "cell_type": "code",
   "execution_count": null,
   "metadata": {
    "collapsed": true
   },
   "outputs": [],
   "source": []
  }
 ],
 "metadata": {
  "kernelspec": {
   "display_name": "Python 2",
   "language": "python",
   "name": "python2"
  },
  "language_info": {
   "codemirror_mode": {
    "name": "ipython",
    "version": 2
   },
   "file_extension": ".py",
   "mimetype": "text/x-python",
   "name": "python",
   "nbconvert_exporter": "python",
   "pygments_lexer": "ipython2",
   "version": "2.7.11"
  }
 },
 "nbformat": 4,
 "nbformat_minor": 0
}
