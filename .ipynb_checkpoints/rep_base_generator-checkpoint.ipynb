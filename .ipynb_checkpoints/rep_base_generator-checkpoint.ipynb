{
 "metadata": {
  "name": "",
  "signature": "sha256:f61b104698edff2d16ee43f69aa7f86a9e15e9ae22c4d2d1b09d1e52ad6f7558"
 },
 "nbformat": 3,
 "nbformat_minor": 0,
 "worksheets": [
  {
   "cells": [
    {
     "cell_type": "code",
     "collapsed": false,
     "input": [
      "from Bio import SeqIO"
     ],
     "language": "python",
     "metadata": {},
     "outputs": [],
     "prompt_number": 1
    },
    {
     "cell_type": "markdown",
     "metadata": {},
     "source": [
      "I manually downloaded Mouse and Human Repbase files from Repbase,\n",
      " \n",
      "Options were these:\n",
      " \n",
      "Include elements:  Autonomous  Non-autonomous  Simple \n",
      " \n",
      "Mus musculus and ancestral (shared) repeats (1182) \n",
      " \n",
      "Current downloaded version RepBase20.05 "
     ]
    },
    {
     "cell_type": "code",
     "collapsed": false,
     "input": [
      "#For Whatever Reason Mouse is lacking some of the snRNAs, lets add them back in. "
     ],
     "language": "python",
     "metadata": {},
     "outputs": []
    },
    {
     "cell_type": "markdown",
     "metadata": {},
     "source": [
      "#Additional Transcripts"
     ]
    },
    {
     "cell_type": "code",
     "collapsed": false,
     "input": [
      "extra_records =  list(SeqIO.parse(open(\"extra_rrnas.fasta\"), 'fasta'))\n"
     ],
     "language": "python",
     "metadata": {},
     "outputs": [],
     "prompt_number": 39
    },
    {
     "cell_type": "code",
     "collapsed": false,
     "input": [
      "mouse_records =  list(SeqIO.parse(open(\"/projects/ps-yeolab/genomes/RepBase18.05.fasta/species_specic/mus_musculus_repbase.fastq\"), 'fasta'))\n",
      "human_records =  list(SeqIO.parse(open(\"/projects/ps-yeolab/genomes/RepBase18.05.fasta/species_specic/homo_sapiens_repbase.fasta\"), 'fasta'))\n",
      "pesudo =  list(SeqIO.parse(open(\"/projects/ps-yeolab/genomes/RepBase18.05.fasta/tests/RepBase20.05.fasta/pseudo.ref\"), 'fasta'))"
     ],
     "language": "python",
     "metadata": {},
     "outputs": [],
     "prompt_number": 40
    },
    {
     "cell_type": "code",
     "collapsed": false,
     "input": [
      "snrnas = []\n",
      "for record in pesudo:\n",
      "    if record.name.startswith(\"U\"):\n",
      "        mouse_records.append(record)\n",
      "\n",
      "for record in extra_records:\n",
      "    mouse_records.append(record)\n",
      "    human_records.append(record)"
     ],
     "language": "python",
     "metadata": {},
     "outputs": [],
     "prompt_number": 41
    },
    {
     "cell_type": "code",
     "collapsed": false,
     "input": [
      "with open(\"/projects/ps-yeolab/genomes/RepBase18.05.fasta/species_specic/mus_musculus_repbase_extra_u1.fastq\", 'w') as out_file:\n",
      "    SeqIO.write(mouse_records, out_file, 'fasta')\n",
      "    \n",
      "with open(\"/projects/ps-yeolab/genomes/RepBase18.05.fasta/species_specic/homo_sapiens_repbase_extra.fastq\", 'w') as out_file:\n",
      "    SeqIO.write(human_records, out_file, 'fasta')"
     ],
     "language": "python",
     "metadata": {},
     "outputs": [],
     "prompt_number": 42
    },
    {
     "cell_type": "code",
     "collapsed": false,
     "input": [
      "/projects/ps-yeolab/genomes/RepBase18.05.fasta/species_specic/mus_musculus_repbase_u1.fastq"
     ],
     "language": "python",
     "metadata": {},
     "outputs": [
      {
       "output_type": "stream",
       "stream": "stdout",
       "text": [
        ">U7\r\n",
        "aagtgttacagctcttttagaatttgtctagcaggctttctggcttttcaccggaaagcc\r\n",
        "cct\r\n",
        ">U14\r\n",
        "tcgctgtgatgatggattccaaaaccattcgtagtttccaccagaagtgctgtgttggct\r\n",
        "agttccttccttggatgtctgagcgaa\r\n",
        ">U8\r\n",
        "atcgtcaggtgggataatccttacctgttcctcctccggagggcagattagaacatgatg\r\n",
        "attggagatgcatgaaacgtgattaacgtctctgcgtaatcaggtcttgcaacatcctga\r\n",
        "ttgctcctatctgatt\r\n"
       ]
      }
     ],
     "prompt_number": 34
    },
    {
     "cell_type": "code",
     "collapsed": false,
     "input": [
      "#Converts all.ref spaces into underscores so I can properly index and count stuff\n",
      "def combine_header(in_file, out_file):\n",
      "    with open(in_file) as in_file, open(out_file, 'w') as out_file:\n",
      "        for line in in_file:\n",
      "            if line.startswith(\">\"):\n",
      "                line = \"_\".join(line.split()) + \"\\n\"\n",
      "            out_file.write(line)"
     ],
     "language": "python",
     "metadata": {},
     "outputs": [],
     "prompt_number": 35
    },
    {
     "cell_type": "code",
     "collapsed": false,
     "input": [
      "combine_header(\"/projects/ps-yeolab/genomes/RepBase18.05.fasta/species_specic/mus_musculus_repbase_extra_u1.fastq\",\n",
      "               \"/projects/ps-yeolab/genomes/RepBase18.05.fasta/species_specic/mus_musculus_repbase_u1_fixed.fastq\")\n",
      "\n",
      "combine_header(\"/projects/ps-yeolab/genomes/RepBase18.05.fasta/species_specic/homo_sapiens_repbase_extra.fastq\",\n",
      "               \"/projects/ps-yeolab/genomes/RepBase18.05.fasta/species_specic/homo_sapiens_repbase_fixed.fasta\")"
     ],
     "language": "python",
     "metadata": {},
     "outputs": [],
     "prompt_number": 43
    },
    {
     "cell_type": "code",
     "collapsed": false,
     "input": [
      "!bowtie-build /projects/ps-yeolab/genomes/RepBase18.05.fasta/species_specic/mus_musculus_repbase_u1_fixed.fastq /projects/ps-yeolab/genomes/bowtie_index/mus_musculus_repbase\n",
      "!bowtie-build /projects/ps-yeolab/genomes/RepBase18.05.fasta/species_specic/homo_sapiens_repbase_fixed.fastq /projects/ps-yeolab/genomes/bowtie_index/homo_sapiens_repbase"
     ],
     "language": "python",
     "metadata": {},
     "outputs": [
      {
       "output_type": "stream",
       "stream": "stdout",
       "text": [
        "Settings:\r\n",
        "  Output files: \"/projects/ps-yeolab/genomes/bowtie_index/mus_musculus_repbase.*.ebwt\"\r\n",
        "  Line rate: 6 (line is 64 bytes)\r\n",
        "  Lines per side: 1 (side is 64 bytes)\r\n",
        "  Offset rate: 5 (one in 32)\r\n",
        "  FTable chars: 10\r\n",
        "  Strings: unpacked\r\n",
        "  Max bucket size: default\r\n",
        "  Max bucket size, sqrt multiplier: default\r\n",
        "  Max bucket size, len divisor: 4\r\n",
        "  Difference-cover sample period: 1024\r\n",
        "  Endianness: little\r\n",
        "  Actual local endianness: little\r\n",
        "  Sanity checking: disabled\r\n",
        "  Assertions: disabled\r\n",
        "  Random seed: 0\r\n",
        "  Sizeofs: void*:8, int:4, long:8, size_t:8\r\n",
        "Input files DNA, FASTA:\r\n",
        "  /projects/ps-yeolab/genomes/RepBase18.05.fasta/species_specic/mus_musculus_repbase_u1_fixed.fastq\r\n",
        "Reading reference sizes\r\n"
       ]
      },
      {
       "output_type": "stream",
       "stream": "stdout",
       "text": [
        "  Time reading reference sizes: 00:00:00\r\n"
       ]
      },
      {
       "output_type": "stream",
       "stream": "stdout",
       "text": [
        "Calculating joined length\r\n",
        "Writing header\r\n",
        "Reserving space for joined string\r\n",
        "Joining reference sequences\r\n"
       ]
      },
      {
       "output_type": "stream",
       "stream": "stdout",
       "text": [
        "  Time to join reference sequences: 00:00:00\r\n",
        "bmax according to bmaxDivN setting: 315321\r\n",
        "Using parameters --bmax 236491 --dcv 1024\r\n",
        "  Doing ahead-of-time memory usage test\r\n"
       ]
      },
      {
       "output_type": "stream",
       "stream": "stdout",
       "text": [
        "  Passed!  Constructing with these parameters: --bmax 236491 --dcv 1024\r\n"
       ]
      },
      {
       "output_type": "stream",
       "stream": "stdout",
       "text": [
        "Constructing suffix-array element generator\r\n",
        "Building DifferenceCoverSample\r\n",
        "  Building sPrime\r\n",
        "  Building sPrimeOrder\r\n",
        "  V-Sorting samples\r\n",
        "  V-Sorting samples time: 00:00:00\r\n",
        "  Allocating rank array\r\n",
        "  Ranking v-sort output\r\n",
        "  Ranking v-sort output time: 00:00:00\r\n",
        "  Invoking Larsson-Sadakane on ranks\r\n",
        "  Invoking Larsson-Sadakane on ranks time: 00:00:00\r\n",
        "  Sanity-checking and returning\r\n",
        "Building samples\r\n",
        "Reserving space for 12 sample suffixes\r\n",
        "Generating random suffixes\r\n",
        "QSorting 12 sample offsets, eliminating duplicates\r\n",
        "QSorting sample offsets, eliminating duplicates time: 00:00:00\r\n",
        "Multikey QSorting 12 samples\r\n",
        "  (Using difference cover)\r\n",
        "  Multikey QSorting samples time: 00:00:00\r\n",
        "Calculating bucket sizes\r\n",
        "  Binary sorting into buckets\r\n",
        "  10%\r\n",
        "  20%\r\n",
        "  30%\r\n",
        "  40%\r\n",
        "  50%\r\n"
       ]
      },
      {
       "output_type": "stream",
       "stream": "stdout",
       "text": [
        "  60%\r\n",
        "  70%\r\n",
        "  80%\r\n",
        "  90%\r\n",
        "  100%\r\n",
        "  Binary sorting into buckets time: 00:00:00\r\n",
        "Splitting and merging\r\n",
        "  Splitting and merging time: 00:00:00\r\n",
        "Split 2, merged 6; iterating...\r\n",
        "  Binary sorting into buckets\r\n",
        "  10%\r\n",
        "  20%\r\n",
        "  30%\r\n",
        "  40%\r\n",
        "  50%\r\n",
        "  60%\r\n"
       ]
      },
      {
       "output_type": "stream",
       "stream": "stdout",
       "text": [
        "  70%\r\n",
        "  80%\r\n",
        "  90%\r\n",
        "  100%\r\n",
        "  Binary sorting into buckets time: 00:00:00\r\n",
        "Splitting and merging\r\n",
        "  Splitting and merging time: 00:00:00\r\n",
        "Avg bucket size: 157660 (target: 236490)\r\n",
        "Converting suffix-array elements to index image\r\n",
        "Allocating ftab, absorbFtab\r\n",
        "Entering Ebwt loop\r\n",
        "Getting block 1 of 8\r\n",
        "  Reserving size (236491) for bucket\r\n",
        "  Calculating Z arrays\r\n",
        "  Calculating Z arrays time: 00:00:00\r\n",
        "  Entering block accumulator loop:\r\n",
        "  10%\r\n",
        "  20%\r\n",
        "  30%\r\n",
        "  40%\r\n",
        "  50%\r\n",
        "  60%\r\n",
        "  70%\r\n",
        "  80%\r\n",
        "  90%\r\n",
        "  100%\r\n",
        "  Block accumulator loop time: 00:00:00\r\n",
        "  Sorting block of length 179647\r\n",
        "  (Using difference cover)\r\n"
       ]
      },
      {
       "output_type": "stream",
       "stream": "stdout",
       "text": [
        "  Sorting block time: 00:00:00\r\n",
        "Returning block of 179648\r\n",
        "Getting block 2 of 8\r\n",
        "  Reserving size (236491) for bucket\r\n",
        "  Calculating Z arrays\r\n",
        "  Calculating Z arrays time: 00:00:00\r\n",
        "  Entering block accumulator loop:\r\n",
        "  10%\r\n",
        "  20%\r\n",
        "  30%\r\n",
        "  40%\r\n",
        "  50%\r\n",
        "  60%\r\n"
       ]
      },
      {
       "output_type": "stream",
       "stream": "stdout",
       "text": [
        "  70%\r\n",
        "  80%\r\n",
        "  90%\r\n",
        "  100%\r\n",
        "  Block accumulator loop time: 00:00:00\r\n",
        "  Sorting block of length 63735\r\n",
        "  (Using difference cover)\r\n",
        "  Sorting block time: 00:00:00\r\n",
        "Returning block of 63736\r\n",
        "Getting block 3 of 8\r\n",
        "  Reserving size (236491) for bucket\r\n",
        "  Calculating Z arrays\r\n",
        "  Calculating Z arrays time: 00:00:00\r\n",
        "  Entering block accumulator loop:\r\n",
        "  10%\r\n",
        "  20%\r\n",
        "  30%\r\n",
        "  40%\r\n",
        "  50%\r\n",
        "  60%\r\n",
        "  70%\r\n",
        "  80%\r\n",
        "  90%\r\n",
        "  100%\r\n",
        "  Block accumulator loop time: 00:00:00\r\n",
        "  Sorting block of length 195466\r\n",
        "  (Using difference cover)\r\n"
       ]
      },
      {
       "output_type": "stream",
       "stream": "stdout",
       "text": [
        "  Sorting block time: 00:00:00\r\n",
        "Returning block of 195467\r\n",
        "Getting block 4 of 8\r\n",
        "  Reserving size (236491) for bucket\r\n",
        "  Calculating Z arrays\r\n",
        "  Calculating Z arrays time: 00:00:00\r\n",
        "  Entering block accumulator loop:\r\n",
        "  10%\r\n",
        "  20%\r\n",
        "  30%\r\n"
       ]
      },
      {
       "output_type": "stream",
       "stream": "stdout",
       "text": [
        "  40%\r\n",
        "  50%\r\n",
        "  60%\r\n",
        "  70%\r\n",
        "  80%\r\n",
        "  90%\r\n",
        "  100%\r\n",
        "  Block accumulator loop time: 00:00:00\r\n",
        "  Sorting block of length 137503\r\n",
        "  (Using difference cover)\r\n",
        "  Sorting block time: 00:00:00\r\n",
        "Returning block of 137504\r\n",
        "Getting block 5 of 8\r\n",
        "  Reserving size (236491) for bucket\r\n",
        "  Calculating Z arrays\r\n",
        "  Calculating Z arrays time: 00:00:00\r\n",
        "  Entering block accumulator loop:\r\n",
        "  10%\r\n"
       ]
      },
      {
       "output_type": "stream",
       "stream": "stdout",
       "text": [
        "  20%\r\n",
        "  30%\r\n",
        "  40%\r\n",
        "  50%\r\n",
        "  60%\r\n",
        "  70%\r\n",
        "  80%\r\n",
        "  90%\r\n",
        "  100%\r\n",
        "  Block accumulator loop time: 00:00:00\r\n",
        "  Sorting block of length 113474\r\n",
        "  (Using difference cover)\r\n",
        "  Sorting block time: 00:00:00\r\n",
        "Returning block of 113475\r\n",
        "Getting block 6 of 8\r\n",
        "  Reserving size (236491) for bucket\r\n",
        "  Calculating Z arrays\r\n",
        "  Calculating Z arrays time: 00:00:00\r\n",
        "  Entering block accumulator loop:\r\n",
        "  10%\r\n"
       ]
      },
      {
       "output_type": "stream",
       "stream": "stdout",
       "text": [
        "  20%\r\n",
        "  30%\r\n",
        "  40%\r\n",
        "  50%\r\n",
        "  60%\r\n",
        "  70%\r\n",
        "  80%\r\n",
        "  90%\r\n",
        "  100%\r\n",
        "  Block accumulator loop time: 00:00:00\r\n",
        "  Sorting block of length 228037\r\n",
        "  (Using difference cover)\r\n"
       ]
      },
      {
       "output_type": "stream",
       "stream": "stdout",
       "text": [
        "  Sorting block time: 00:00:00\r\n",
        "Returning block of 228038\r\n",
        "Getting block 7 of 8\r\n",
        "  Reserving size (236491) for bucket\r\n",
        "  Calculating Z arrays\r\n",
        "  Calculating Z arrays time: 00:00:00\r\n",
        "  Entering block accumulator loop:\r\n",
        "  10%\r\n",
        "  20%\r\n",
        "  30%\r\n",
        "  40%\r\n",
        "  50%\r\n",
        "  60%\r\n",
        "  70%\r\n",
        "  80%\r\n",
        "  90%\r\n",
        "  100%\r\n",
        "  Block accumulator loop time: 00:00:00\r\n",
        "  Sorting block of length 225174\r\n",
        "  (Using difference cover)\r\n"
       ]
      },
      {
       "output_type": "stream",
       "stream": "stdout",
       "text": [
        "  Sorting block time: 00:00:00\r\n",
        "Returning block of 225175\r\n",
        "Getting block 8 of 8\r\n",
        "  Reserving size (236491) for bucket\r\n",
        "  Calculating Z arrays\r\n",
        "  Calculating Z arrays time: 00:00:00\r\n",
        "  Entering block accumulator loop:\r\n"
       ]
      },
      {
       "output_type": "stream",
       "stream": "stdout",
       "text": [
        "  10%\r\n",
        "  20%\r\n",
        "  30%\r\n",
        "  40%\r\n",
        "  50%\r\n",
        "  60%\r\n",
        "  70%\r\n",
        "  80%\r\n",
        "  90%\r\n",
        "  100%\r\n",
        "  Block accumulator loop time: 00:00:00\r\n",
        "  Sorting block of length 118244\r\n",
        "  (Using difference cover)\r\n",
        "  Sorting block time: 00:00:00\r\n",
        "Returning block of 118245\r\n",
        "Exited Ebwt loop\r\n",
        "fchr[A]: 0\r\n",
        "fchr[C]: 382581\r\n",
        "fchr[G]: 664658\r\n",
        "fchr[T]: 948219\r\n",
        "fchr[$]: 1261287\r\n"
       ]
      },
      {
       "output_type": "stream",
       "stream": "stdout",
       "text": [
        "Exiting Ebwt::buildToDisk()\r\n",
        "Returning from initFromVector\r\n",
        "Wrote 4695264 bytes to primary EBWT file: /projects/ps-yeolab/genomes/bowtie_index/mus_musculus_repbase.1.ebwt\r\n"
       ]
      },
      {
       "output_type": "stream",
       "stream": "stdout",
       "text": [
        "Wrote 157668 bytes to secondary EBWT file: /projects/ps-yeolab/genomes/bowtie_index/mus_musculus_repbase.2.ebwt\r\n"
       ]
      },
      {
       "output_type": "stream",
       "stream": "stdout",
       "text": [
        "Re-opening _in1 and _in2 as input streams\r\n",
        "Returning from Ebwt constructor\r\n",
        "Headers:\r\n",
        "    len: 1261287\r\n",
        "    bwtLen: 1261288\r\n",
        "    sz: 315322\r\n",
        "    bwtSz: 315322\r\n",
        "    lineRate: 6\r\n",
        "    linesPerSide: 1\r\n",
        "    offRate: 5\r\n",
        "    offMask: 0xffffffe0\r\n",
        "    isaRate: -1\r\n",
        "    isaMask: 0xffffffff\r\n",
        "    ftabChars: 10\r\n",
        "    eftabLen: 20\r\n",
        "    eftabSz: 80\r\n",
        "    ftabLen: 1048577\r\n",
        "    ftabSz: 4194308\r\n",
        "    offsLen: 39416\r\n",
        "    offsSz: 157664\r\n",
        "    isaLen: 0\r\n",
        "    isaSz: 0\r\n",
        "    lineSz: 64\r\n",
        "    sideSz: 64\r\n",
        "    sideBwtSz: 56\r\n",
        "    sideBwtLen: 224\r\n",
        "    numSidePairs: 2816\r\n",
        "    numSides: 5632\r\n",
        "    numLines: 5632\r\n",
        "    ebwtTotLen: 360448\r\n",
        "    ebwtTotSz: 360448\r\n",
        "    reverse: 0\r\n",
        "Total time for call to driver() for forward index: 00:00:01\r\n",
        "Reading reference sizes\r\n"
       ]
      },
      {
       "output_type": "stream",
       "stream": "stdout",
       "text": [
        "  Time reading reference sizes: 00:00:00\r\n",
        "Calculating joined length\r\n",
        "Writing header\r\n",
        "Reserving space for joined string\r\n",
        "Joining reference sequences\r\n"
       ]
      },
      {
       "output_type": "stream",
       "stream": "stdout",
       "text": [
        "  Time to join reference sequences: 00:00:00\r\n",
        "bmax according to bmaxDivN setting: 315321\r\n",
        "Using parameters --bmax 236491 --dcv 1024\r\n",
        "  Doing ahead-of-time memory usage test\r\n"
       ]
      },
      {
       "output_type": "stream",
       "stream": "stdout",
       "text": [
        "  Passed!  Constructing with these parameters: --bmax 236491 --dcv 1024\r\n",
        "Constructing suffix-array element generator\r\n",
        "Building DifferenceCoverSample\r\n",
        "  Building sPrime\r\n",
        "  Building sPrimeOrder\r\n",
        "  V-Sorting samples\r\n",
        "  V-Sorting samples time: 00:00:00\r\n",
        "  Allocating rank array\r\n",
        "  Ranking v-sort output\r\n",
        "  Ranking v-sort output time: 00:00:00\r\n",
        "  Invoking Larsson-Sadakane on ranks\r\n"
       ]
      },
      {
       "output_type": "stream",
       "stream": "stdout",
       "text": [
        "  Invoking Larsson-Sadakane on ranks time: 00:00:00\r\n",
        "  Sanity-checking and returning\r\n",
        "Building samples\r\n",
        "Reserving space for 12 sample suffixes\r\n",
        "Generating random suffixes\r\n",
        "QSorting 12 sample offsets, eliminating duplicates\r\n",
        "QSorting sample offsets, eliminating duplicates time: 00:00:00\r\n",
        "Multikey QSorting 12 samples\r\n",
        "  (Using difference cover)\r\n",
        "  Multikey QSorting samples time: 00:00:00\r\n",
        "Calculating bucket sizes\r\n",
        "  Binary sorting into buckets\r\n",
        "  10%\r\n",
        "  20%\r\n",
        "  30%\r\n",
        "  40%\r\n",
        "  50%\r\n",
        "  60%\r\n",
        "  70%\r\n",
        "  80%\r\n",
        "  90%\r\n"
       ]
      },
      {
       "output_type": "stream",
       "stream": "stdout",
       "text": [
        "  100%\r\n",
        "  Binary sorting into buckets time: 00:00:00\r\n",
        "Splitting and merging\r\n",
        "  Splitting and merging time: 00:00:00\r\n",
        "Split 1, merged 7; iterating...\r\n",
        "  Binary sorting into buckets\r\n",
        "  10%\r\n",
        "  20%\r\n",
        "  30%\r\n",
        "  40%\r\n",
        "  50%\r\n",
        "  60%\r\n",
        "  70%\r\n",
        "  80%\r\n",
        "  90%\r\n",
        "  100%\r\n",
        "  Binary sorting into buckets time: 00:00:00\r\n",
        "Splitting and merging\r\n",
        "  Splitting and merging time: 00:00:00\r\n",
        "Split 1, merged 0; iterating...\r\n",
        "  Binary sorting into buckets\r\n",
        "  10%\r\n"
       ]
      },
      {
       "output_type": "stream",
       "stream": "stdout",
       "text": [
        "  20%\r\n",
        "  30%\r\n",
        "  40%\r\n",
        "  50%\r\n",
        "  60%\r\n",
        "  70%\r\n",
        "  80%\r\n",
        "  90%\r\n",
        "  100%\r\n",
        "  Binary sorting into buckets time: 00:00:00\r\n",
        "Splitting and merging\r\n",
        "  Splitting and merging time: 00:00:00\r\n",
        "Split 1, merged 1; iterating...\r\n",
        "  Binary sorting into buckets\r\n",
        "  10%\r\n",
        "  20%\r\n"
       ]
      },
      {
       "output_type": "stream",
       "stream": "stdout",
       "text": [
        "  30%\r\n",
        "  40%\r\n",
        "  50%\r\n",
        "  60%\r\n",
        "  70%\r\n",
        "  80%\r\n",
        "  90%\r\n",
        "  100%\r\n",
        "  Binary sorting into buckets time: 00:00:00\r\n",
        "Splitting and merging\r\n",
        "  Splitting and merging time: 00:00:00\r\n",
        "Avg bucket size: 180183 (target: 236490)\r\n",
        "Converting suffix-array elements to index image\r\n",
        "Allocating ftab, absorbFtab\r\n",
        "Entering Ebwt loop\r\n",
        "Getting block 1 of 7\r\n",
        "  Reserving size (236491) for bucket\r\n",
        "  Calculating Z arrays\r\n",
        "  Calculating Z arrays time: 00:00:00\r\n",
        "  Entering block accumulator loop:\r\n",
        "  10%\r\n",
        "  20%\r\n",
        "  30%\r\n",
        "  40%\r\n",
        "  50%\r\n",
        "  60%\r\n",
        "  70%\r\n",
        "  80%\r\n",
        "  90%\r\n"
       ]
      },
      {
       "output_type": "stream",
       "stream": "stdout",
       "text": [
        "  100%\r\n",
        "  Block accumulator loop time: 00:00:00\r\n",
        "  Sorting block of length 166956\r\n",
        "  (Using difference cover)\r\n",
        "  Sorting block time: 00:00:00\r\n",
        "Returning block of 166957\r\n",
        "Getting block 2 of 7\r\n",
        "  Reserving size (236491) for bucket\r\n",
        "  Calculating Z arrays\r\n",
        "  Calculating Z arrays time: 00:00:00\r\n",
        "  Entering block accumulator loop:\r\n"
       ]
      },
      {
       "output_type": "stream",
       "stream": "stdout",
       "text": [
        "  10%\r\n",
        "  20%\r\n",
        "  30%\r\n",
        "  40%\r\n",
        "  50%\r\n",
        "  60%\r\n",
        "  70%\r\n",
        "  80%\r\n",
        "  90%\r\n",
        "  100%\r\n",
        "  Block accumulator loop time: 00:00:00\r\n",
        "  Sorting block of length 196559\r\n",
        "  (Using difference cover)\r\n"
       ]
      },
      {
       "output_type": "stream",
       "stream": "stdout",
       "text": [
        "  Sorting block time: 00:00:00\r\n",
        "Returning block of 196560\r\n",
        "Getting block 3 of 7\r\n",
        "  Reserving size (236491) for bucket\r\n",
        "  Calculating Z arrays\r\n",
        "  Calculating Z arrays time: 00:00:00\r\n",
        "  Entering block accumulator loop:\r\n",
        "  10%\r\n",
        "  20%\r\n",
        "  30%\r\n",
        "  40%\r\n",
        "  50%\r\n",
        "  60%\r\n",
        "  70%\r\n",
        "  80%\r\n",
        "  90%\r\n",
        "  100%\r\n",
        "  Block accumulator loop time: 00:00:00\r\n",
        "  Sorting block of length 204765\r\n",
        "  (Using difference cover)\r\n"
       ]
      },
      {
       "output_type": "stream",
       "stream": "stdout",
       "text": [
        "  Sorting block time: 00:00:00\r\n",
        "Returning block of 204766\r\n",
        "Getting block 4 of 7\r\n",
        "  Reserving size (236491) for bucket\r\n",
        "  Calculating Z arrays\r\n",
        "  Calculating Z arrays time: 00:00:00\r\n",
        "  Entering block accumulator loop:\r\n",
        "  10%\r\n",
        "  20%\r\n",
        "  30%\r\n",
        "  40%\r\n"
       ]
      },
      {
       "output_type": "stream",
       "stream": "stdout",
       "text": [
        "  50%\r\n",
        "  60%\r\n",
        "  70%\r\n",
        "  80%\r\n",
        "  90%\r\n",
        "  100%\r\n",
        "  Block accumulator loop time: 00:00:00\r\n",
        "  Sorting block of length 164449\r\n",
        "  (Using difference cover)\r\n",
        "  Sorting block time: 00:00:00\r\n",
        "Returning block of 164450\r\n",
        "Getting block 5 of 7\r\n",
        "  Reserving size (236491) for bucket\r\n",
        "  Calculating Z arrays\r\n",
        "  Calculating Z arrays time: 00:00:00\r\n",
        "  Entering block accumulator loop:\r\n",
        "  10%\r\n"
       ]
      },
      {
       "output_type": "stream",
       "stream": "stdout",
       "text": [
        "  20%\r\n",
        "  30%\r\n",
        "  40%\r\n",
        "  50%\r\n",
        "  60%\r\n",
        "  70%\r\n",
        "  80%\r\n",
        "  90%\r\n",
        "  100%\r\n",
        "  Block accumulator loop time: 00:00:00\r\n",
        "  Sorting block of length 233499\r\n",
        "  (Using difference cover)\r\n"
       ]
      },
      {
       "output_type": "stream",
       "stream": "stdout",
       "text": [
        "  Sorting block time: 00:00:00\r\n",
        "Returning block of 233500\r\n",
        "Getting block 6 of 7\r\n",
        "  Reserving size (236491) for bucket\r\n",
        "  Calculating Z arrays\r\n",
        "  Calculating Z arrays time: 00:00:00\r\n",
        "  Entering block accumulator loop:\r\n",
        "  10%\r\n",
        "  20%\r\n",
        "  30%\r\n",
        "  40%\r\n",
        "  50%\r\n",
        "  60%\r\n",
        "  70%\r\n",
        "  80%\r\n",
        "  90%\r\n",
        "  100%\r\n",
        "  Block accumulator loop time: 00:00:00\r\n",
        "  Sorting block of length 190486\r\n",
        "  (Using difference cover)\r\n"
       ]
      },
      {
       "output_type": "stream",
       "stream": "stdout",
       "text": [
        "  Sorting block time: 00:00:00\r\n",
        "Returning block of 190487\r\n",
        "Getting block 7 of 7\r\n",
        "  Reserving size (236491) for bucket\r\n",
        "  Calculating Z arrays\r\n",
        "  Calculating Z arrays time: 00:00:00\r\n",
        "  Entering block accumulator loop:\r\n",
        "  10%\r\n",
        "  20%\r\n",
        "  30%\r\n",
        "  40%\r\n",
        "  50%\r\n",
        "  60%\r\n",
        "  70%\r\n",
        "  80%\r\n",
        "  90%\r\n",
        "  100%\r\n",
        "  Block accumulator loop time: 00:00:00\r\n",
        "  Sorting block of length 104567\r\n",
        "  (Using difference cover)\r\n",
        "  Sorting block time: 00:00:00\r\n",
        "Returning block of 104568\r\n",
        "Exited Ebwt loop\r\n",
        "fchr[A]: 0\r\n",
        "fchr[C]: 382581\r\n",
        "fchr[G]: 664658\r\n",
        "fchr[T]: 948219\r\n",
        "fchr[$]: 1261287\r\n"
       ]
      },
      {
       "output_type": "stream",
       "stream": "stdout",
       "text": [
        "Exiting Ebwt::buildToDisk()\r\n",
        "Returning from initFromVector\r\n",
        "Wrote 4695264 bytes to primary EBWT file: /projects/ps-yeolab/genomes/bowtie_index/mus_musculus_repbase.rev.1.ebwt\r\n"
       ]
      },
      {
       "output_type": "stream",
       "stream": "stdout",
       "text": [
        "Wrote 157668 bytes to secondary EBWT file: /projects/ps-yeolab/genomes/bowtie_index/mus_musculus_repbase.rev.2.ebwt\r\n"
       ]
      },
      {
       "output_type": "stream",
       "stream": "stdout",
       "text": [
        "Re-opening _in1 and _in2 as input streams\r\n",
        "Returning from Ebwt constructor\r\n",
        "Headers:\r\n",
        "    len: 1261287\r\n",
        "    bwtLen: 1261288\r\n",
        "    sz: 315322\r\n",
        "    bwtSz: 315322\r\n",
        "    lineRate: 6\r\n",
        "    linesPerSide: 1\r\n",
        "    offRate: 5\r\n",
        "    offMask: 0xffffffe0\r\n",
        "    isaRate: -1\r\n",
        "    isaMask: 0xffffffff\r\n",
        "    ftabChars: 10\r\n",
        "    eftabLen: 20\r\n",
        "    eftabSz: 80\r\n",
        "    ftabLen: 1048577\r\n",
        "    ftabSz: 4194308\r\n",
        "    offsLen: 39416\r\n",
        "    offsSz: 157664\r\n",
        "    isaLen: 0\r\n",
        "    isaSz: 0\r\n",
        "    lineSz: 64\r\n",
        "    sideSz: 64\r\n",
        "    sideBwtSz: 56\r\n",
        "    sideBwtLen: 224\r\n",
        "    numSidePairs: 2816\r\n",
        "    numSides: 5632\r\n",
        "    numLines: 5632\r\n",
        "    ebwtTotLen: 360448\r\n",
        "    ebwtTotSz: 360448\r\n",
        "    reverse: 0\r\n",
        "Total time for backward call to driver() for mirror index: 00:00:01\r\n"
       ]
      },
      {
       "output_type": "stream",
       "stream": "stdout",
       "text": [
        "Settings:\r\n",
        "  Output files: \"/projects/ps-yeolab/genomes/bowtie_index/homo_sapiens_repbase.*.ebwt\"\r\n",
        "  Line rate: 6 (line is 64 bytes)\r\n",
        "  Lines per side: 1 (side is 64 bytes)\r\n",
        "  Offset rate: 5 (one in 32)\r\n",
        "  FTable chars: 10\r\n",
        "  Strings: unpacked\r\n",
        "  Max bucket size: default\r\n",
        "  Max bucket size, sqrt multiplier: default\r\n",
        "  Max bucket size, len divisor: 4\r\n",
        "  Difference-cover sample period: 1024\r\n",
        "  Endianness: little\r\n",
        "  Actual local endianness: little\r\n",
        "  Sanity checking: disabled\r\n",
        "  Assertions: disabled\r\n",
        "  Random seed: 0\r\n",
        "  Sizeofs: void*:8, int:4, long:8, size_t:8\r\n",
        "Input files DNA, FASTA:\r\n",
        "  /projects/ps-yeolab/genomes/RepBase18.05.fasta/species_specic/homo_sapiens_repbase_fixed.fastq\r\n",
        "Error: could not open /projects/ps-yeolab/genomes/RepBase18.05.fasta/species_specic/homo_sapiens_repbase_fixed.fastq\r\n",
        "Total time for call to driver() for forward index: 00:00:00\r\n",
        "Command: bowtie-build --wrapper basic-0 /projects/ps-yeolab/genomes/RepBase18.05.fasta/species_specic/homo_sapiens_repbase_fixed.fastq /projects/ps-yeolab/genomes/bowtie_index/homo_sapiens_repbase \r\n"
       ]
      }
     ],
     "prompt_number": 44
    },
    {
     "cell_type": "code",
     "collapsed": false,
     "input": [
      "!bowtie2-build /projects/ps-yeolab/genomes/RepBase18.05.fasta/species_specic/mus_musculus_repbase_u1_fixed.fastq /projects/ps-yeolab/genomes/bowtie2_indexes/mus_musculus_repbase\n",
      "!bowtie2-build /projects/ps-yeolab/genomes/RepBase18.05.fasta/species_specic/homo_sapiens_repbase_fixed.fastq /projects/ps-yeolab/genomes/bowtie2_indexes/homo_sapiens_repbase"
     ],
     "language": "python",
     "metadata": {},
     "outputs": []
    },
    {
     "cell_type": "code",
     "collapsed": false,
     "input": [
      "!STAR --runMode genomeGenerate --genomeDir /projects/ps-yeolab/genomes/RepBase18.05.fasta/species_specic/mus_musculus_repbase  --genomeFastaFiles /projects/ps-yeolab/genomes/RepBase18.05.fasta/species_specic/mus_musculus_repbase_u1_fixed.fastq "
     ],
     "language": "python",
     "metadata": {},
     "outputs": [
      {
       "output_type": "stream",
       "stream": "stdout",
       "text": [
        "Jun 26 22:16:39 ..... Started STAR run\r\n",
        "Jun 26 22:16:42 ... Starting to generate Genome files\r\n"
       ]
      },
      {
       "output_type": "stream",
       "stream": "stdout",
       "text": [
        "Jun 26 22:16:48 ... starting to sort  Suffix Array. This may take a long time...\r\n"
       ]
      },
      {
       "output_type": "stream",
       "stream": "stdout",
       "text": [
        "Jun 26 22:16:49 ... sorting Suffix Array chunks and saving them to disk...\r\n"
       ]
      },
      {
       "output_type": "stream",
       "stream": "stdout",
       "text": [
        "Jun 26 22:16:50 ... loading chunks from disk, packing SA...\r\n"
       ]
      },
      {
       "output_type": "stream",
       "stream": "stdout",
       "text": [
        "Jun 26 22:16:51 ... writing Suffix Array to disk ...\r\n"
       ]
      },
      {
       "output_type": "stream",
       "stream": "stdout",
       "text": [
        "Jun 26 22:16:51 ... Finished generating suffix array\r\n",
        "Jun 26 22:16:51 ... starting to generate Suffix Array index...\r\n"
       ]
      },
      {
       "output_type": "stream",
       "stream": "stdout",
       "text": [
        "Jun 26 22:16:58 ... writing SAindex to disk\r\n"
       ]
      },
      {
       "output_type": "stream",
       "stream": "stdout",
       "text": [
        "Jun 26 22:17:05 ..... Finished successfully\r\n"
       ]
      }
     ],
     "prompt_number": 46
    },
    {
     "cell_type": "code",
     "collapsed": false,
     "input": [
      "!STAR --runMode genomeGenerate --genomeDir /projects/ps-yeolab/genomes/RepBase18.05.fasta/species_specic/homo_sapiens_repbase  --genomeFastaFiles /projects/ps-yeolab/genomes/RepBase18.05.fasta/species_specic/homo_sapiens_repbase_fixed.fasta "
     ],
     "language": "python",
     "metadata": {},
     "outputs": [
      {
       "output_type": "stream",
       "stream": "stdout",
       "text": [
        "Jun 26 22:18:12 ..... Started STAR run\r\n",
        "Jun 26 22:18:12 ... Starting to generate Genome files\r\n"
       ]
      },
      {
       "output_type": "stream",
       "stream": "stdout",
       "text": [
        "Jun 26 22:18:19 ... starting to sort  Suffix Array. This may take a long time...\r\n"
       ]
      },
      {
       "output_type": "stream",
       "stream": "stdout",
       "text": [
        "Jun 26 22:18:20 ... sorting Suffix Array chunks and saving them to disk...\r\n"
       ]
      },
      {
       "output_type": "stream",
       "stream": "stdout",
       "text": [
        "Jun 26 22:18:22 ... loading chunks from disk, packing SA...\r\n"
       ]
      },
      {
       "output_type": "stream",
       "stream": "stdout",
       "text": [
        "Jun 26 22:18:22 ... writing Suffix Array to disk ...\r\n"
       ]
      },
      {
       "output_type": "stream",
       "stream": "stdout",
       "text": [
        "Jun 26 22:18:23 ... Finished generating suffix array\r\n",
        "Jun 26 22:18:23 ... starting to generate Suffix Array index...\r\n"
       ]
      }
     ]
    },
    {
     "cell_type": "code",
     "collapsed": false,
     "input": [],
     "language": "python",
     "metadata": {},
     "outputs": []
    }
   ],
   "metadata": {}
  }
 ]
}