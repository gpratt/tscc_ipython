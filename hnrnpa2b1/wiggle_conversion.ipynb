{
 "cells": [
  {
   "cell_type": "code",
   "execution_count": 16,
   "metadata": {
    "collapsed": false
   },
   "outputs": [],
   "source": [
    "def wiggle_converstion(ip_fn, input_fn, neg_strand):\n",
    "    #so lazy...\n",
    "    if neg_strand:\n",
    "        !/home/gpratt/software/WiggleTools/bin/wiggletools scale -1 $ip_fn > $ip_fn.reversed.wig\n",
    "        !/home/gpratt/software/WiggleTools/bin/wiggletools scale -1 $input_fn > $input_fn.reversed.wig\n",
    "        !/home/gpratt/software/WiggleTools/bin/wiggletools offset 1 $ip_fn.reversed.wig > $ip_fn.offset.wig\n",
    "        !/home/gpratt/software/WiggleTools/bin/wiggletools offset 1 $input_fn.reversed.wig > $input_fn.offset.wig\n",
    "    else:\n",
    "        !/home/gpratt/software/WiggleTools/bin/wiggletools offset 1 $ip_fn > $ip_fn.offset.wig\n",
    "        !/home/gpratt/software/WiggleTools/bin/wiggletools offset 1 $input_fn > $input_fn.offset.wig\n",
    "        \n",
    "    !/home/gpratt/software/WiggleTools/bin/wiggletools ratio $ip_fn.offset.wig default 1 $input.offset.wig > $ip_fn.div.wig\n",
    "    !/home/gpratt/software/WiggleTools/bin/wiggletools log 2 $ip_fn.div.log.wig\n"
   ]
  },
  {
   "cell_type": "code",
   "execution_count": 17,
   "metadata": {
    "collapsed": false
   },
   "outputs": [],
   "source": [
    "ip_fn = \"/home/gpratt/projects/hnrnpa2b1/analysis/wiggle_div/F1_IP_mnCLIP_A2B1_high_1_hnRNPA2B1.merged.r2.norm.neg.bw\"\n",
    "input_fn = \"/home/gpratt/projects/hnrnpa2b1/analysis/wiggle_div/F1_IP_mnCLIP_A2B1_high_1_hnRNPA2B1.merged.r2.norm.neg.bw\""
   ]
  },
  {
   "cell_type": "code",
   "execution_count": 18,
   "metadata": {
    "collapsed": false
   },
   "outputs": [
    {
     "name": "stdout",
     "output_type": "stream",
     "text": [
      "wiggletools: Unexpected end of command line\n",
      "wiggletools: Unexpected end of command line\n",
      "Could not open input file .div.log.wig\n"
     ]
    }
   ],
   "source": [
    "wiggle_converstion(ip_fn, input_fn, True)"
   ]
  },
  {
   "cell_type": "code",
   "execution_count": 14,
   "metadata": {
    "collapsed": true
   },
   "outputs": [],
   "source": [
    "!export PATH=/home/gpratt/software/WiggleTools/bin:$PATH "
   ]
  },
  {
   "cell_type": "code",
   "execution_count": null,
   "metadata": {
    "collapsed": true
   },
   "outputs": [],
   "source": []
  }
 ],
 "metadata": {
  "kernelspec": {
   "display_name": "Python 2",
   "language": "python",
   "name": "python2"
  },
  "language_info": {
   "codemirror_mode": {
    "name": "ipython",
    "version": 2
   },
   "file_extension": ".py",
   "mimetype": "text/x-python",
   "name": "python",
   "nbconvert_exporter": "python",
   "pygments_lexer": "ipython2",
   "version": "2.7.11"
  }
 },
 "nbformat": 4,
 "nbformat_minor": 0
}
