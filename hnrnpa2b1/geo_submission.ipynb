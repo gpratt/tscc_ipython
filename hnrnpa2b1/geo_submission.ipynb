{
 "cells": [
  {
   "cell_type": "code",
   "execution_count": 4,
   "metadata": {
    "collapsed": true
   },
   "outputs": [],
   "source": [
    "import gzip\n",
    "import os\n",
    "import pandas as pd"
   ]
  },
  {
   "cell_type": "code",
   "execution_count": 2,
   "metadata": {
    "collapsed": true
   },
   "outputs": [],
   "source": [
    "def eplouge(count):\n",
    "    return \"\"\"#!/bin/bash\n",
    "#PBS -N barcode_adder\n",
    "#PBS -l nodes=1:ppn=1\n",
    "#PBS -o 20150224_splitter.out\n",
    "#PBS -e 20150224_splitter.err\n",
    "#PBS -V\n",
    "#PBS -q home-yeo\n",
    "#PBS -W group_list=yeo-group\n",
    "#PBS -t 1-{}\n",
    "#PBS -l walltime=12:00:00\n",
    "cd /home/gpratt/projects/encode/data/encode_split\n",
    "echo \"hello, starting\"\n",
    "\"\"\".format(count)\n",
    "\n",
    "prolouge = \"eval ${cmd[$PBS_ARRAYID]}\""
   ]
  },
  {
   "cell_type": "code",
   "execution_count": 11,
   "metadata": {
    "collapsed": true
   },
   "outputs": [],
   "source": [
    "def format_randomer_script(fn, in_dir=\"/home/gpratt/projects/encode/analysis/encode_split/\"):\n",
    "    in_file = os.path.join(in_dir, fn) \n",
    "    out_file = os.path.join(\"/home/gpratt/projects/hnrnpa2b1/data/geo_data_submission/\", \".\".join(fn.split(\".\")[:2]) + \".randomer.fastq.gz\")\n",
    "\n",
    "    return \"python /home/gpratt/gscripts/gscripts/clipseq/add_randomer.py -i {} -o {}\".format(in_file, out_file)"
   ]
  },
  {
   "cell_type": "code",
   "execution_count": 14,
   "metadata": {
    "collapsed": true
   },
   "outputs": [],
   "source": [
    "in_dir = \"/home/gpratt/projects/encode/analysis/encode_split/\""
   ]
  },
  {
   "cell_type": "code",
   "execution_count": 21,
   "metadata": {
    "collapsed": false
   },
   "outputs": [],
   "source": [
    "files = pd.read_csv(\"/home/gpratt/projects/hnrnpa2b1/data/eclip_list.txt\", header=None)"
   ]
  },
  {
   "cell_type": "code",
   "execution_count": 25,
   "metadata": {
    "collapsed": false
   },
   "outputs": [
    {
     "name": "stdout",
     "output_type": "stream",
     "text": [
      "F1_IN_A2B1_ATTACTCG-TATAGCCT_L008_R1.unassigned.fastq.gz\n",
      "F1_IN_A2B1_ATTACTCG-TATAGCCT_L008_R2.unassigned.fastq.gz\n",
      "F1_IP_A2B1_TCCGGAGA-TATAGCCT_L008_R1.A01_F1_IP_mnCLIP_A2B1_high_1_hnRNPA2B1.fastq.gz\n",
      "F1_IP_A2B1_TCCGGAGA-TATAGCCT_L008_R1.B06_F1_IP_mnCLIP_A2B1_high_1_hnRNPA2B1.fastq.gz\n",
      "F1_IP_A2B1_TCCGGAGA-TATAGCCT_L008_R2.A01_F1_IP_mnCLIP_A2B1_high_1_hnRNPA2B1.fastq.gz\n",
      "F1_IP_A2B1_TCCGGAGA-TATAGCCT_L008_R2.B06_F1_IP_mnCLIP_A2B1_high_1_hnRNPA2B1.fastq.gz\n",
      "F1_IP_A2B1_TCCGGAGA-TATAGCCT_L008_R2.unassigned.fastq.gz\n",
      "F2_IN_A2B1_CGCTCATT-TATAGCCT_L008_R1.unassigned.fastq.gz\n",
      "F2_IN_A2B1_CGCTCATT-TATAGCCT_L008_R2.unassigned.fastq.gz\n",
      "F2_IP_A2B1_GAGATTCC-TATAGCCT_L008_R1.C01_F2_IP_mnCLIP_A2B1_high_2_hnRNPA2B1.fastq.gz\n",
      "F2_IP_A2B1_GAGATTCC-TATAGCCT_L008_R1.D08fixed_F2_IP_mnCLIP_A2B1_high_2_hnRNPA2B1.fastq.gz\n",
      "F2_IP_A2B1_GAGATTCC-TATAGCCT_L008_R2.C01_F2_IP_mnCLIP_A2B1_high_2_hnRNPA2B1.fastq.gz\n",
      "F2_IP_A2B1_GAGATTCC-TATAGCCT_L008_R2.D08fixed_F2_IP_mnCLIP_A2B1_high_2_hnRNPA2B1.fastq.gz\n",
      "F3_IN_A2B1_ATTCAGAA-TATAGCCT_L008_R1.unassigned.fastq.gz\n",
      "F3_IN_A2B1_ATTCAGAA-TATAGCCT_L008_R2.unassigned.fastq.gz\n",
      "F3_IP_A2B1_GAATTCGT-TATAGCCT_L008_R1.A01_F3_IP_mnCLIP_A2B1_med_1_hnRNPA2B1.fastq.gz\n",
      "F3_IP_A2B1_GAATTCGT-TATAGCCT_L008_R1.B06_F3_IP_mnCLIP_A2B1_med_1_hnRNPA2B1.fastq.gz\n",
      "F3_IP_A2B1_GAATTCGT-TATAGCCT_L008_R2.A01_F3_IP_mnCLIP_A2B1_med_1_hnRNPA2B1.fastq.gz\n",
      "F3_IP_A2B1_GAATTCGT-TATAGCCT_L008_R2.B06_F3_IP_mnCLIP_A2B1_med_1_hnRNPA2B1.fastq.gz\n",
      "F4_IN_A2B1_ATTACTCG-ATAGAGGC_L008_R1.unassigned.fastq.gz\n",
      "F4_IN_A2B1_ATTACTCG-ATAGAGGC_L008_R2.unassigned.fastq.gz\n",
      "F4_IP_A2B1_TCCGGAGA-ATAGAGGC_L008_R1.C01_F4_IP_mnCLIP_A2B1_med_2_hnRNPA2B1.fastq.gz\n",
      "F4_IP_A2B1_TCCGGAGA-ATAGAGGC_L008_R1.D08fixed_F4_IP_mnCLIP_A2B1_med_2_hnRNPA2B1.fastq.gz\n",
      "F4_IP_A2B1_TCCGGAGA-ATAGAGGC_L008_R2.C01_F4_IP_mnCLIP_A2B1_med_2_hnRNPA2B1.fastq.gz\n",
      "F4_IP_A2B1_TCCGGAGA-ATAGAGGC_L008_R2.D08fixed_F4_IP_mnCLIP_A2B1_med_2_hnRNPA2B1.fastq.gz\n",
      "F5_IN_A2B1_CGCTCATT-ATAGAGGC_L008_R1.unassigned.fastq.gz\n",
      "F5_IN_A2B1_CGCTCATT-ATAGAGGC_L008_R2.unassigned.fastq.gz\n",
      "F5_IP_A2B1_GAGATTCC-ATAGAGGC_L008_R1.A01_F5_IP_mnCLIP_A2B1_low_1_hnRNPA2B1.fastq.gz\n",
      "F5_IP_A2B1_GAGATTCC-ATAGAGGC_L008_R1.B06_F5_IP_mnCLIP_A2B1_low_1_hnRNPA2B1.fastq.gz\n",
      "F5_IP_A2B1_GAGATTCC-ATAGAGGC_L008_R2.A01_F5_IP_mnCLIP_A2B1_low_1_hnRNPA2B1.fastq.gz\n",
      "F5_IP_A2B1_GAGATTCC-ATAGAGGC_L008_R2.B06_F5_IP_mnCLIP_A2B1_low_1_hnRNPA2B1.fastq.gz\n",
      "F6_IN_A2B1_ATTCAGAA-ATAGAGGC_L008_R1.unassigned.fastq.gz\n",
      "F6_IN_A2B1_ATTCAGAA-ATAGAGGC_L008_R2.unassigned.fastq.gz\n",
      "F6_IP_A2B1_GAATTCGT-ATAGAGGC_L008_R1.C01_F6_IP_mnCLIP_A2B1_low_2_hnRNPA2B1.fastq.gz\n",
      "F6_IP_A2B1_GAATTCGT-ATAGAGGC_L008_R1.D08fixed_F6_IP_mnCLIP_A2B1_low_2_hnRNPA2B1.fastq.gz\n",
      "F6_IP_A2B1_GAATTCGT-ATAGAGGC_L008_R2.C01_F6_IP_mnCLIP_A2B1_low_2_hnRNPA2B1.fastq.gz\n",
      "F6_IP_A2B1_GAATTCGT-ATAGAGGC_L008_R2.D08fixed_F6_IP_mnCLIP_A2B1_low_2_hnRNPA2B1.fastq.gz\n",
      "F7_IN_IgG_ATTACTCG-CCTATCCT_L008_R1.unassigned.fastq.gz\n",
      "F7_IN_IgG_ATTACTCG-CCTATCCT_L008_R2.unassigned.fastq.gz\n",
      "F7_IP_IgG_ATTCAGAA-CCTATCCT_L008_R1.A01_F7_IP_mnCLIP_IgG_high_1_hnRNPA2B1.fastq.gz\n",
      "F7_IP_IgG_ATTCAGAA-CCTATCCT_L008_R1.B06_F7_IP_mnCLIP_IgG_high_1_hnRNPA2B1.fastq.gz\n",
      "F7_IP_IgG_ATTCAGAA-CCTATCCT_L008_R2.A01_F7_IP_mnCLIP_IgG_high_1_hnRNPA2B1.fastq.gz\n",
      "F7_IP_IgG_ATTCAGAA-CCTATCCT_L008_R2.B06_F7_IP_mnCLIP_IgG_high_1_hnRNPA2B1.fastq.gz\n",
      "F7_IP_IgG_CGCTCATT-CCTATCCT_L008_R1.A01_F7_IP_mnCLIP_IgG_high_1_hnRNPA2B1.fastq.gz\n",
      "F7_IP_IgG_CGCTCATT-CCTATCCT_L008_R1.B06_F7_IP_mnCLIP_IgG_high_1_hnRNPA2B1.fastq.gz\n",
      "F7_IP_IgG_CGCTCATT-CCTATCCT_L008_R2.A01_F7_IP_mnCLIP_IgG_high_1_hnRNPA2B1.fastq.gz\n",
      "F7_IP_IgG_CGCTCATT-CCTATCCT_L008_R2.B06_F7_IP_mnCLIP_IgG_high_1_hnRNPA2B1.fastq.gz\n"
     ]
    }
   ],
   "source": [
    "result = []\n",
    "for total, x in enumerate(files[0]):\n",
    "    print x\n",
    "    total += 1\n",
    "    result.append('cmd[{}]=\\\"{}\\\"'.format(total, format_randomer_script(x)))\n"
   ]
  },
  {
   "cell_type": "code",
   "execution_count": 26,
   "metadata": {
    "collapsed": true
   },
   "outputs": [],
   "source": [
    "with open(os.path.join(\"/home/gpratt/projects/hnrnpa2b1/scripts\", \"add_back_randomers.sh\"), 'w') as out_file:\n",
    "    out_file.write(eplouge(total))\n",
    "    for line in result:\n",
    "        out_file.write(line + \"\\n\\n\")\n",
    "    out_file.write(prolouge + \"\\n\")"
   ]
  },
  {
   "cell_type": "code",
   "execution_count": null,
   "metadata": {
    "collapsed": true
   },
   "outputs": [],
   "source": []
  }
 ],
 "metadata": {
  "kernelspec": {
   "display_name": "Python 2",
   "language": "python",
   "name": "python2"
  },
  "language_info": {
   "codemirror_mode": {
    "name": "ipython",
    "version": 2
   },
   "file_extension": ".py",
   "mimetype": "text/x-python",
   "name": "python",
   "nbconvert_exporter": "python",
   "pygments_lexer": "ipython2",
   "version": "2.7.11"
  }
 },
 "nbformat": 4,
 "nbformat_minor": 0
}
