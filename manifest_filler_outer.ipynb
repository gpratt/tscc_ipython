{
 "cells": [
  {
   "cell_type": "code",
   "execution_count": 1,
   "metadata": {
    "collapsed": true
   },
   "outputs": [],
   "source": [
    "#For filling out empty parts of the manifest (as indicated by lack of lane information)"
   ]
  },
  {
   "cell_type": "code",
   "execution_count": 1,
   "metadata": {
    "collapsed": false
   },
   "outputs": [],
   "source": [
    "import glob\n",
    "import functools\n",
    "import urllib2\n",
    "\n",
    "import pandas as pd\n",
    "import json\n",
    "import gspread\n",
    "import pandas as pd\n",
    "import os\n",
    "from IPython.core.display import HTML\n",
    "from oauth2client.client import SignedJwtAssertionCredentials\n",
    "import numpy as np\n",
    "import shutil\n",
    "\n",
    "import boto"
   ]
  },
  {
   "cell_type": "code",
   "execution_count": 2,
   "metadata": {
    "collapsed": false
   },
   "outputs": [],
   "source": [
    "black_list = \"\"\"293XT_Input_IgG1120\n",
    "293XT_Input_1120\n",
    "293XT_Input_0204\n",
    "293XT_CLIP_IgG_1120\n",
    "293XT_CLIP_RBFOX2_1120\n",
    "293XT_CLIP_RBFOX2_0204\n",
    "Skin_CLIP_YB1and_DDX6\n",
    "Skin_CLIP_YB1and_DDX6\n",
    "Skin_CLIP_IgG\n",
    "Skin_Input\n",
    "Stefan_IgG_040915\n",
    "Stefan_IGF2BP1_040915\n",
    "Stefan_IGF2BP2_040915\n",
    "Stefan_IGF2BP3_040915\n",
    "Stefan_Input_040915\n",
    "1_K562_Input_1_Infminus\n",
    "3_K562_Input_1_Infplus\n",
    "5_K562_Input_2_Infminus\n",
    "7_K562_Input_2_Infplus\n",
    "2_K5621_Infminus_AND_4_K5621_Infplus\n",
    "2_K5621_Infminus_AND_4_K5621_Infplus\n",
    "6_K5622_Infminus_AND_8_K5622_Infplus\n",
    "6_K5622_Infminus_AND_8_K5622_Infplus\n",
    "13_GM12878_Input_2_Infminus\n",
    "15_GM12878_Input_2_Infplus\n",
    "9_GM12878_Input_1_Infminus\n",
    "11_GM12878_Input_1_Infplus\n",
    "10_GM12878_CLIP_1_Infminus_AND_12_GM12878_CLIP_1_Infplus\n",
    "10_GM12878_CLIP_1_Infminus_AND_12_GM12878_CLIP_1_Infplus\n",
    "14_GM12878_CLIP_2_Infminus_AND_16_GM12878_CLIP_2_Infplus\n",
    "14_GM12878_CLIP_2_Infminus_AND_16_GM12878_CLIP_2_Infplus\n",
    "KK_1_CLIPin_Fus\n",
    "KK_2_CLIPin_Fus\n",
    "KK_3_CLIPip_Fus\n",
    "KK_4_CLIPip_Fus\n",
    "KK_5_CLIPin_Fus\n",
    "KK_6_CLIPin_Fus\n",
    "KK_7_CLIPip_Fus\n",
    "KK_8_CLIPip_Fus\n",
    "KK_9_CLIPin_Taf\n",
    "KK_10_CLIPin_Taf\n",
    "KK_11_CLIPip_Taf\n",
    "KK_12_CLIPip_Taf\n",
    "KK_13_CLIPin_Taf\n",
    "KK_14_CLIPin_Taf\n",
    "KK_15_CLIPip_Taf\n",
    "KK_16_CLIPip_Taf\n",
    "KK_17_CLIPin_tdp\n",
    "KK_18_CLIPin_tdp\n",
    "KK_19_CLIPip_tdp\n",
    "KK_20_CLIPip_tdp\n",
    "KK_21_CLIPin_tdp\n",
    "KK_22_CLIPin_tdp\n",
    "KK_23_CLIPip_tdp\n",
    "KK_24_mnCLIP_TDP43_IP_low_2\"\"\".split(\"\\n\")"
   ]
  },
  {
   "cell_type": "code",
   "execution_count": 3,
   "metadata": {
    "collapsed": true
   },
   "outputs": [],
   "source": [
    "json_key = json.load(open(\"/home/gpratt/ipython_notebook/public clip-588adbc137f3.json\"))\n",
    "scope = ['https://spreadsheets.google.com/feeds']\n",
    "\n",
    "credentials = SignedJwtAssertionCredentials(json_key['client_email'], json_key['private_key'], scope)\n",
    "gc = gspread.authorize(credentials)\n",
    "\n",
    "sht1 = gc.open_by_url(\"https://docs.google.com/spreadsheets/d/1ZU2mQh54jentqvhR_oMnviLGWR8Nw_x338gULzKjNDI/edit#gid=0\")\n",
    "ws = sht1.worksheet(\"Sheet1\")\n",
    "list_of_lists = ws.get_all_values()\n",
    "manifest = pd.DataFrame(list_of_lists[1:], columns=list_of_lists[0])\n",
    "manifest.is_encode = manifest.is_encode == \"TRUE\"\n",
    "manifest.is_4000 = manifest.is_4000 == \"TRUE\"\n",
    "\n",
    "manifest.method_Paper_flag = manifest.Method_Paper_flag == \"TRUE\" \n",
    "manifest['exp_id'] = manifest.ENCODE_ID.apply(lambda x: x.split(\"_\")[0])\n",
    "#manifest = manifest.drop(u'', axis=1) #Drops empty columns to try and get rid of a bug\n",
    "\n"
   ]
  },
  {
   "cell_type": "code",
   "execution_count": 4,
   "metadata": {
    "collapsed": false
   },
   "outputs": [],
   "source": [
    "#Returns R1 file of any file that matches the name of the short hiseq file name in the dir\n",
    "def get_matching_file(short_hiseq_name, file_location):\n",
    "    files_in_dir = glob.glob(os.path.join(file_location, \"*_R1_*\"))\n",
    "    files_in_dir = [os.path.basename(full_name) for full_name in files_in_dir]\n",
    "\n",
    "    #don't know why I took this appraoch the first time...\n",
    "    #matching_files = [full_name for full_name in files_in_dir if os.path.basename(full_name).startswith(short_hiseq_name)]\n",
    "\n",
    "    matching_files = [full_name for full_name in files_in_dir if \"_\".join(full_name.split(\"_\")[:-4]) == short_hiseq_name]\n",
    "    \n",
    "    if len(matching_files) > 1:\n",
    "        print matching_files, short_hiseq_name\n",
    "        print \"double match, trying to identify the experiment with most exact match ...\",\n",
    "        matching_files = [item for item in files_in_dir if \"_\".join(os.path.basename(item).split(\"_\")[:-4]) == \"FOX2_SS4in3B_CLIP\" ]    \n",
    "        if len(matching_files) == 1:\n",
    "            print \"found\"\n",
    "        else:\n",
    "            print \"not found\"\n",
    "    if len(matching_files) != 1:\n",
    "        print \"error match wrong\"\n",
    "        print matching_files, short_hiseq_name\n",
    "    matching_file = matching_files[0] \n",
    "    return matching_file\n",
    "\n",
    "def get_sample_number(row):\n",
    "    short_hiseq_name = row.Hiseq_file_name\n",
    "    file_location = row.file_location\n",
    "\n",
    "    matching_file = get_matching_file(short_hiseq_name, file_location)\n",
    "    sample_number = os.path.basename(matching_file).split(\".\")[0].split(\"_\")[-4]\n",
    "    \n",
    "    return \"{}_{}\".format(short_hiseq_name, sample_number)\n",
    "\n",
    "def get_lane_number(row):\n",
    "    short_hiseq_name = row.Hiseq_file_name\n",
    "    file_location = row.file_location\n",
    "    \n",
    "    matching_file = get_matching_file(short_hiseq_name, file_location)\n",
    "    lane_number = os.path.basename(matching_file).split(\".\")[0].split(\"_\")[-3]\n",
    "    \n",
    "    return lane_number"
   ]
  },
  {
   "cell_type": "code",
   "execution_count": 5,
   "metadata": {
    "collapsed": true
   },
   "outputs": [],
   "source": [
    "filtered_files = manifest[(manifest.Lane == \"\") & ~(manifest.Hiseq_file_name.isin(black_list))].copy()"
   ]
  },
  {
   "cell_type": "code",
   "execution_count": 6,
   "metadata": {
    "collapsed": false
   },
   "outputs": [],
   "source": [
    "filtered_files[\"Lane\"] = filtered_files.apply(get_lane_number, axis=1)\n",
    "filtered_files['Hiseq_file_name'] = filtered_files.apply(get_sample_number, axis=1)"
   ]
  },
  {
   "cell_type": "code",
   "execution_count": 7,
   "metadata": {
    "collapsed": false
   },
   "outputs": [],
   "source": [
    "filtered_files.to_csv(\"/home/gpratt/Dropbox/EricGabe_ENCODE/tmp_manifest_update.csv\")"
   ]
  },
  {
   "cell_type": "code",
   "execution_count": null,
   "metadata": {
    "collapsed": true
   },
   "outputs": [],
   "source": []
  }
 ],
 "metadata": {
  "kernelspec": {
   "display_name": "Python 2",
   "language": "python",
   "name": "python2"
  },
  "language_info": {
   "codemirror_mode": {
    "name": "ipython",
    "version": 2
   },
   "file_extension": ".py",
   "mimetype": "text/x-python",
   "name": "python",
   "nbconvert_exporter": "python",
   "pygments_lexer": "ipython2",
   "version": "2.7.12"
  }
 },
 "nbformat": 4,
 "nbformat_minor": 0
}
