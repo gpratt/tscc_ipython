{
 "cells": [
  {
   "cell_type": "markdown",
   "metadata": {},
   "source": [
    "Here I was trying to figure out why the metrics parser was throwing errors, in my attempt to have perfectly groomed data.\n",
    "\n",
    "The answer was I was properly getting rid of ghost runs, stuff that I later replaced.  "
   ]
  },
  {
   "cell_type": "code",
   "execution_count": null,
   "metadata": {
    "collapsed": true
   },
   "outputs": [],
   "source": [
    "import os"
   ]
  },
  {
   "cell_type": "code",
   "execution_count": 19,
   "metadata": {
    "collapsed": false
   },
   "outputs": [],
   "source": [
    "qc_files = \"\"\"/projects/ps-yeolab3/encode/analysis/encode_master/SEB10_S93_L007_R1_001.A01_SEB10_HUR.adapterTrim.round2.metrics\n",
    "\n",
    "/projects/ps-yeolab3/encode/analysis/encode_master/A11_B_IN_S1_L001_R1_001.unassigned.adapterTrim.round2.metrics\n",
    "\n",
    "/projects/ps-yeolab3/encode/analysis/encode_master/A1_B_IN_S29_L001_R1_001.unassigned.adapterTrim.round2.metrics\n",
    "\n",
    "/projects/ps-yeolab3/encode/analysis/encode_master/TDP_SS4in3B_AS48_L000_R1_001.B06_TDP_SS4in3B_AS48_TARDBP.adapterTrim.round2.metrics\n",
    "\n",
    "/projects/ps-yeolab3/encode/analysis/encode_master/SEB10_S93_L007_R1_001.B06_SEB10_HUR.adapterTrim.round2.metrics\n",
    "\n",
    "/projects/ps-yeolab3/encode/analysis/encode_master/TDP_SS4in3B_L000_R1_001.A01_TDP_SS4in3B_TARDBP.adapterTrim.round2.metrics\n",
    "\n",
    "/projects/ps-yeolab3/encode/analysis/encode_master/TDP_SS4in3B_L000_R1_001.B06_TDP_SS4in3B_TARDBP.adapterTrim.round2.metrics\n",
    "\n",
    "/projects/ps-yeolab3/encode/analysis/encode_master/SEB8_S91_L007_R1_001.unassigned.adapterTrim.round2.metrics\n",
    "\n",
    "/projects/ps-yeolab3/encode/analysis/encode_master/TDP_SS4in3B_AS48_L000_R1_001.A01_TDP_SS4in3B_AS48_TARDBP.adapterTrim.round2.metrics\n",
    "\n",
    "/projects/ps-yeolab3/encode/analysis/encode_master/eGFP_A_IN_S19_LL002_R1_001.unassigned.adapterTrim.round2.metrics\n",
    "\n",
    "/projects/ps-yeolab3/encode/analysis/encode_master/TAG9_INPUT_S63_L005_R1_001.unassigned.adapterTrim.round2.metrics\n",
    "\n",
    "/projects/ps-yeolab3/encode/analysis/encode_master/701_CLIP_S29_L003_R1_001.A04_701_02_SUB1.adapterTrim.metrics\n",
    "\n",
    "/projects/ps-yeolab3/encode/analysis/encode_master/713_CLIP_S33_L003_R1_001.A04_713_02_SRSF5.adapterTrim.metrics\n",
    "\n",
    "/projects/ps-yeolab3/encode/analysis/encode_master/713_CLIP_S33_L003_R1_001.F05_713_02_SRSF5.adapterTrim.metrics\n",
    "\n",
    "/projects/ps-yeolab3/encode/analysis/encode_master/698_CLIP_S27_L003_R1_001.G07_698_01_SRSF4.adapterTrim.metrics\n",
    "\n",
    "/projects/ps-yeolab3/encode/analysis/encode_master/632_CLIP_bc2_S19_L005_R1_001.X1A_632_01_bc2_SUB1.adapterTrim.metrics\n",
    "\n",
    "/projects/ps-yeolab3/encode/analysis/encode_master/690_CLIP_S25_L003_R1_001.F05_690_02_PUM1.adapterTrim.metrics\n",
    "\n",
    "/projects/ps-yeolab3/encode/analysis/encode_master/713_CLIP_S33_L003_R1_001.A03_713_01_SRSF5.adapterTrim.metrics\n",
    "\n",
    "/projects/ps-yeolab3/encode/analysis/encode_master/SEB10_S93_L007_R1_001.A01_SEB10_HUR.adapterTrim.metrics\n",
    "\n",
    "/projects/ps-yeolab3/encode/analysis/encode_master/A11_B_IN_S1_L001_R1_001.unassigned.adapterTrim.metrics\n",
    "\n",
    "/projects/ps-yeolab3/encode/analysis/encode_master/698_CLIP_S27_L003_R1_001.A04_698_02_SRSF4.adapterTrim.metrics\n",
    "\n",
    "/projects/ps-yeolab3/encode/analysis/encode_master/702_CLIP_S31_L003_R1_001.F05_702_02_MAK16.adapterTrim.metrics\n",
    "\n",
    "/projects/ps-yeolab3/encode/analysis/encode_master/A1_B_IN_S29_L001_R1_001.unassigned.adapterTrim.metrics\n",
    "\n",
    "/projects/ps-yeolab3/encode/analysis/encode_master/632_CLIP_bc2_S19_L005_R1_001.X1B_632_01_bc2_SUB1.adapterTrim.metrics\n",
    "\n",
    "/projects/ps-yeolab3/encode/analysis/encode_master/TDP_SS4in3B_AS48_L000_R1_001.B06_TDP_SS4in3B_AS48_TARDBP.adapterTrim.metrics\n",
    "\n",
    "/projects/ps-yeolab3/encode/analysis/encode_master/713_CLIP_S33_L003_R1_001.G07_713_01_SRSF5.adapterTrim.metrics\n",
    "\n",
    "/projects/ps-yeolab3/encode/analysis/encode_master/SEB10_S93_L007_R1_001.B06_SEB10_HUR.adapterTrim.metrics\n",
    "\n",
    "/projects/ps-yeolab3/encode/analysis/encode_master/TDP_SS4in3B_L000_R1_001.A01_TDP_SS4in3B_TARDBP.adapterTrim.metrics\n",
    "\n",
    "/projects/ps-yeolab3/encode/analysis/encode_master/TDP_SS4in3B_AS48_L000_R1_001.A01_TDP_SS4in3B_AS48_TARDBP.adapterTrim.metrics\n",
    "\n",
    "/projects/ps-yeolab3/encode/analysis/encode_master/TDP_SS4in3B_L000_R1_001.B06_TDP_SS4in3B_TARDBP.adapterTrim.metrics\n",
    "\n",
    "/projects/ps-yeolab3/encode/analysis/encode_master/SEB8_S91_L007_R1_001.unassigned.adapterTrim.metrics\n",
    "\n",
    "/projects/ps-yeolab3/encode/analysis/encode_master/698_INPUT_S26_L003_R1_001.unassigned.adapterTrim.metrics\n",
    "\n",
    "/projects/ps-yeolab3/encode/analysis/encode_master/632_CLIP_bc2_S19_L005_R1_001.X2A_632_02_bc2_SUB1.adapterTrim.metrics\n",
    "\n",
    "/projects/ps-yeolab3/encode/analysis/encode_master/632_CLIP_bc2_S19_L005_R1_001.X2B_632_02_bc2_SUB1.adapterTrim.metrics\n",
    "\n",
    "/projects/ps-yeolab3/encode/analysis/encode_master/690_CLIP_S25_L003_R1_001.A04_690_02_PUM1.adapterTrim.metrics\n",
    "\n",
    "/projects/ps-yeolab3/encode/analysis/encode_master/702_CLIP_S31_L003_R1_001.G07_702_01_MAK16.adapterTrim.metrics\n",
    "\n",
    "/projects/ps-yeolab3/encode/analysis/encode_master/698_CLIP_S27_L003_R1_001.F05_698_02_SRSF4.adapterTrim.metrics\n",
    "\n",
    "/projects/ps-yeolab3/encode/analysis/encode_master/698_CLIP_S27_L003_R1_001.A03_698_01_SRSF4.adapterTrim.metrics\n",
    "\n",
    "/projects/ps-yeolab3/encode/analysis/encode_master/701_CLIP_S29_L003_R1_001.A03_701_01_SUB1.adapterTrim.metrics\n",
    "\n",
    "/projects/ps-yeolab3/encode/analysis/encode_master/702_INPUT_S30_L003_R1_001.unassigned.adapterTrim.metrics\n",
    "\n",
    "/projects/ps-yeolab3/encode/analysis/encode_master/TAG9_INPUT_S63_L005_R1_001.unassigned.adapterTrim.metrics\n",
    "\n",
    "/projects/ps-yeolab3/encode/analysis/encode_master/701_CLIP_S29_L003_R1_001.F05_701_02_SUB1.adapterTrim.metrics\n",
    "\n",
    "/projects/ps-yeolab3/encode/analysis/encode_master/701_CLIP_S29_L003_R1_001.G07_701_01_SUB1.adapterTrim.metrics\n",
    "\n",
    "/projects/ps-yeolab3/encode/analysis/encode_master/702_CLIP_S31_L003_R1_001.A03_702_01_MAK16.adapterTrim.metrics\n",
    "\n",
    "/projects/ps-yeolab3/encode/analysis/encode_master/701_INPUT_S28_L003_R1_001.unassigned.adapterTrim.metrics\n",
    "\n",
    "/projects/ps-yeolab3/encode/analysis/encode_master/702_CLIP_S31_L003_R1_001.A04_702_02_MAK16.adapterTrim.metrics\n",
    "\n",
    "/projects/ps-yeolab3/encode/analysis/encode_master/690_INPUT_S24_L003_R1_001.unassigned.adapterTrim.metrics\n",
    "\n",
    "/projects/ps-yeolab3/encode/analysis/encode_master/690_CLIP_S25_L003_R1_001.G07_690_01_PUM1.adapterTrim.metrics\n",
    "\n",
    "/projects/ps-yeolab3/encode/analysis/encode_master/690_CLIP_S25_L003_R1_001.A03_690_01_PUM1.adapterTrim.metrics\n",
    "\n",
    "/projects/ps-yeolab3/encode/analysis/encode_master/713_INPUT_S32_L003_R1_001.unassigned.adapterTrim.metrics\n",
    "\n",
    "/projects/ps-yeolab3/encode/analysis/encode_master/eGFP_A_IN_S19_LL002_R1_001.unassigned.adapterTrim.metrics\"\"\".split()\n"
   ]
  },
  {
   "cell_type": "code",
   "execution_count": 9,
   "metadata": {
    "collapsed": true
   },
   "outputs": [],
   "source": []
  },
  {
   "cell_type": "code",
   "execution_count": 29,
   "metadata": {
    "collapsed": false
   },
   "outputs": [],
   "source": [
    "# for qc_file in qc_files:\n",
    "for qc_file in qc_files:\n",
    "    if os.path.exists(qc_file):\n",
    "        with open(qc_file) as handle:\n",
    "            handle.next()\n",
    "            input_file = handle.next().split()[-1]\n",
    "            #if not os.path.exists(input_file):\n",
    "            print qc_file, input_file"
   ]
  },
  {
   "cell_type": "code",
   "execution_count": null,
   "metadata": {
    "collapsed": true
   },
   "outputs": [],
   "source": []
  }
 ],
 "metadata": {
  "kernelspec": {
   "display_name": "Python 2",
   "language": "python",
   "name": "python2"
  },
  "language_info": {
   "codemirror_mode": {
    "name": "ipython",
    "version": 2
   },
   "file_extension": ".py",
   "mimetype": "text/x-python",
   "name": "python",
   "nbconvert_exporter": "python",
   "pygments_lexer": "ipython2",
   "version": "2.7.12"
  }
 },
 "nbformat": 4,
 "nbformat_minor": 0
}
