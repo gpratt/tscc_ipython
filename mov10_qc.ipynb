{
 "cells": [
  {
   "cell_type": "code",
   "execution_count": 1,
   "metadata": {
    "collapsed": false
   },
   "outputs": [
    {
     "name": "stderr",
     "output_type": "stream",
     "text": [
      ":0: FutureWarning: IPython widgets are experimental and may change in the future.\n"
     ]
    }
   ],
   "source": [
    "%matplotlib inline\n",
    "from collections import Counter, OrderedDict, defaultdict\n",
    "import copy\n",
    "import glob\n",
    "from itertools import izip\n",
    "import itertools\n",
    "import os\n",
    "import subprocess\n",
    "import tempfile\n",
    "\n",
    "from IPython.core.display import HTML, Image\n",
    "import itertools\n",
    "import pandas as pd\n",
    "from matplotlib import gridspec\n",
    "from matplotlib import pyplot\n",
    "import matplotlib as mpl\n",
    "from matplotlib_venn import venn2, venn3\n",
    "import numpy as np\n",
    "import scipy\n",
    "import seaborn as sns\n",
    "\n",
    "from clipper.src import CLIP_analysis\n",
    "from clipper.src import get_genomic_regions\n",
    "import flotilla\n",
    "from gscripts import GO\n",
    "from gscripts.general import dataviz\n",
    "from gscripts.general import parsers\n",
    "from gscripts.general import region_helpers\n",
    "from gscripts.rnaseq.helpers import counts_to_rpkm\n",
    "\n",
    "img_dir = \"/home/gpratt/Dropbox/cryptic_splicing/data/mouse_data/\""
   ]
  },
  {
   "cell_type": "code",
   "execution_count": 2,
   "metadata": {
    "collapsed": true
   },
   "outputs": [],
   "source": [
    "av_resequencing = parsers.rnaseq_metrics(\"/home/gpratt/projects/mov10/analysis/mov10_v1/\")"
   ]
  },
  {
   "cell_type": "code",
   "execution_count": 3,
   "metadata": {
    "collapsed": false
   },
   "outputs": [
    {
     "data": {
      "text/html": [
       "<table border=\"1\" class=\"dataframe\">\n",
       "  <thead>\n",
       "    <tr style=\"text-align: right;\">\n",
       "      <th></th>\n",
       "      <th>Input Reads</th>\n",
       "      <th>Uniquely Mapped Reads</th>\n",
       "      <th>Uniquely mapped reads %</th>\n",
       "    </tr>\n",
       "  </thead>\n",
       "  <tbody>\n",
       "    <tr>\n",
       "      <th>DECaf_710_CAGATC_L002_R1</th>\n",
       "      <td>33,705,559</td>\n",
       "      <td>25,522,861</td>\n",
       "      <td>84.64%</td>\n",
       "    </tr>\n",
       "    <tr>\n",
       "      <th>DECaf_718_CTTGTA_L002_R1</th>\n",
       "      <td>29,762,206</td>\n",
       "      <td>22,047,530</td>\n",
       "      <td>83.85%</td>\n",
       "    </tr>\n",
       "    <tr>\n",
       "      <th>F_710_CGATGT_L002_R1</th>\n",
       "      <td>22,273,129</td>\n",
       "      <td>16,363,977</td>\n",
       "      <td>84.12%</td>\n",
       "    </tr>\n",
       "    <tr>\n",
       "      <th>F_714_ATCACG_L001_R1</th>\n",
       "      <td>33,796,220</td>\n",
       "      <td>3,458,938</td>\n",
       "      <td>79.55%</td>\n",
       "    </tr>\n",
       "    <tr>\n",
       "      <th>KAMOV_714_TAGCTT_L001_R1</th>\n",
       "      <td>20,058,431</td>\n",
       "      <td>12,715,581</td>\n",
       "      <td>84.46%</td>\n",
       "    </tr>\n",
       "    <tr>\n",
       "      <th>KAMOV_718_GGCTAC_L001_R1</th>\n",
       "      <td>8,338,875</td>\n",
       "      <td>6,049,867</td>\n",
       "      <td>84.52%</td>\n",
       "    </tr>\n",
       "    <tr>\n",
       "      <th>RIP_DECaf_710_GTCCGC_L002_R1</th>\n",
       "      <td>13,581,397</td>\n",
       "      <td>3,747,060</td>\n",
       "      <td>81.69%</td>\n",
       "    </tr>\n",
       "    <tr>\n",
       "      <th>RIP_DECaf_718_GTGAAA_L002_R1</th>\n",
       "      <td>10,782,542</td>\n",
       "      <td>6,788,230</td>\n",
       "      <td>85.94%</td>\n",
       "    </tr>\n",
       "    <tr>\n",
       "      <th>RIP_F_710_AGTCAA_L002_R1</th>\n",
       "      <td>12,502,548</td>\n",
       "      <td>1,560,336</td>\n",
       "      <td>68.58%</td>\n",
       "    </tr>\n",
       "    <tr>\n",
       "      <th>RIP_F_718_AGTTCC_L002_R1</th>\n",
       "      <td>12,410,921</td>\n",
       "      <td>295,365</td>\n",
       "      <td>60.80%</td>\n",
       "    </tr>\n",
       "    <tr>\n",
       "      <th>RIP_KAMOV_718_ATTCCT_L001_R1</th>\n",
       "      <td>17,438,642</td>\n",
       "      <td>11,834,265</td>\n",
       "      <td>80.35%</td>\n",
       "    </tr>\n",
       "    <tr>\n",
       "      <th>RIP_KAMO_714_ACTGAT_L001_R1</th>\n",
       "      <td>31,537,383</td>\n",
       "      <td>21,749,945</td>\n",
       "      <td>82.05%</td>\n",
       "    </tr>\n",
       "    <tr>\n",
       "      <th>RIP_WTCaf_710_ATGTCA_L002_R1</th>\n",
       "      <td>11,006,370</td>\n",
       "      <td>3,222,453</td>\n",
       "      <td>81.86%</td>\n",
       "    </tr>\n",
       "    <tr>\n",
       "      <th>RIP_WTCaf_718_CCGTCC_L002_R1</th>\n",
       "      <td>16,358,907</td>\n",
       "      <td>9,252,357</td>\n",
       "      <td>80.25%</td>\n",
       "    </tr>\n",
       "    <tr>\n",
       "      <th>RIP_WTMOV_714_CGTACG_L001_R1</th>\n",
       "      <td>15,906,833</td>\n",
       "      <td>13,284,434</td>\n",
       "      <td>87.60%</td>\n",
       "    </tr>\n",
       "    <tr>\n",
       "      <th>RIP_WTMOV_718_GAGTGG_L001_R1</th>\n",
       "      <td>29,218,683</td>\n",
       "      <td>17,212,122</td>\n",
       "      <td>85.90%</td>\n",
       "    </tr>\n",
       "    <tr>\n",
       "      <th>WTCaf_710_ACAGTG_L002_R1</th>\n",
       "      <td>10,268,369</td>\n",
       "      <td>7,742,412</td>\n",
       "      <td>84.41%</td>\n",
       "    </tr>\n",
       "    <tr>\n",
       "      <th>WTCaf_718_GCCAAT_L002_R1</th>\n",
       "      <td>24,193,060</td>\n",
       "      <td>15,693,920</td>\n",
       "      <td>83.40%</td>\n",
       "    </tr>\n",
       "    <tr>\n",
       "      <th>WTMOV_714_ACTTGA_L001_R1</th>\n",
       "      <td>8,902,158</td>\n",
       "      <td>6,584,408</td>\n",
       "      <td>84.76%</td>\n",
       "    </tr>\n",
       "    <tr>\n",
       "      <th>WTMOV_718_GATCAG_L001_R1</th>\n",
       "      <td>12,538,600</td>\n",
       "      <td>8,799,914</td>\n",
       "      <td>83.92%</td>\n",
       "    </tr>\n",
       "  </tbody>\n",
       "</table>"
      ],
      "text/plain": [
       "<IPython.core.display.HTML object>"
      ]
     },
     "execution_count": 3,
     "metadata": {},
     "output_type": "execute_result"
    }
   ],
   "source": [
    "av_resequencing_filtered = av_resequencing[[ \"Input Reads\",\n",
    "                            #\"Reads After Triming\",\n",
    "                            \"Uniquely Mapped Reads\",\n",
    "                            \"Uniquely mapped reads %\",\n",
    "                            ]]\n",
    "\n",
    "HTML(av_resequencing_filtered.to_html(formatters={\"Input Reads\" : parsers.commas,\n",
    "                                     \"Reads After Triming\" : parsers.commas,\n",
    "                                     \"Reads after Quality Filtering\" : parsers.commas,\n",
    "                                     \"Uniquely Mapped Reads\" : parsers.commas,\n",
    "                                     } ))"
   ]
  },
  {
   "cell_type": "code",
   "execution_count": 43,
   "metadata": {
    "collapsed": true
   },
   "outputs": [],
   "source": [
    "#RBP, mutation, ip/input, knockdown\n",
    "data_organization = {\n",
    "    \n",
    "\"DECaf_710_CAGATC_L002_R1\": (\"Caf1z\", \"DE\", \"input\", \"710\", \"none\"),\n",
    "\"DECaf_718_CTTGTA_L002_R1\": (\"Caf1z\", \"DE\", \"input\", \"718\",\"none\"),\n",
    "\"F_710_CGATGT_L002_R1\":  (\"FLAG\", \"WT\", \"input\", \"710\",\"Caf1z\"),\n",
    "\"F_714_ATCACG_L001_R1\":  (\"FLAG\", \"WT\", \"input\", \"714\",\"none\"),\n",
    "\"KAMOV_714_TAGCTT_L001_R1\": (\"MOV10\", \"KA\", \"input\", \"714\",\"none\"),\n",
    "\"KAMOV_718_GGCTAC_L001_R1\": (\"MOV10\", \"KA\", \"input\", \"718\",\"none\"),\n",
    "\"RIP_DECaf_710_GTCCGC_L002_R1\": (\"Caf1z\", \"DE\", \"ip\", \"710\",\"none\"),\n",
    "\"RIP_DECaf_718_GTGAAA_L002_R1\": (\"Caf1z\", \"DE\", \"ip\", \"718\",\"none\"),\n",
    "\"RIP_F_710_AGTCAA_L002_R1\": (\"FLAG\", \"WT\", \"ip\", \"710\",\"Caf1z\"),\n",
    "\"RIP_F_718_AGTTCC_L002_R1\": (\"FLAG\", \"WT\", \"ip\", \"718\",\"Caf1z\"),\n",
    "\"RIP_KAMOV_718_ATTCCT_L001_R1\": (\"MOV10\", \"KA\", \"ip\", \"718\",\"none\"),\n",
    "\"RIP_KAMO_714_ACTGAT_L001_R1\": (\"MOV10\", \"KA\", \"ip\", \"714\",\"none\"),\n",
    "\"RIP_WTCaf_710_ATGTCA_L002_R1\": (\"Caf1z\", \"WT\", \"ip\", \"710\",\"none\"),\n",
    "\"RIP_WTCaf_718_CCGTCC_L002_R1\": (\"Caf1z\", \"WT\",  \"ip\", \"718\",\"none\"),\n",
    "\"RIP_WTMOV_714_CGTACG_L001_R1\": (\"MOV10\", \"WT\",  \"ip\", \"714\",\"none\"),\n",
    "\"RIP_WTMOV_718_GAGTGG_L001_R1\": (\"MOV10\", \"WT\",  \"ip\", \"718\",\"none\"),\n",
    "\"WTCaf_710_ACAGTG_L002_R1\": (\"Caf1z\", \"WT\", \"input\", \"710\",\"none\"),\n",
    "\"WTCaf_718_GCCAAT_L002_R1\": (\"Caf1z\", \"WT\", \"input\", \"718\",\"none\"),\n",
    "\"WTMOV_714_ACTTGA_L001_R1\": (\"MOV10\", \"WT\", \"input\", \"714\",\"none\"),\n",
    "\"WTMOV_718_GATCAG_L001_R1\": (\"MOV10\", \"WT\", \"input\", \"718\",\"none\"),\n",
    "\n",
    "    \n",
    "}"
   ]
  },
  {
   "cell_type": "code",
   "execution_count": 55,
   "metadata": {
    "collapsed": false
   },
   "outputs": [],
   "source": [
    "count_df = pd.read_table(\"/home/gpratt/projects/mov10/analysis/mov10_v1/all_counts.txt\", skiprows=1, index_col=0)\n",
    "count_df.columns = [os.path.basename(item).split(\".\")[0] for item in count_df.columns]\n",
    "rpkm_df = counts_to_rpkm(count_df).T\n",
    "\n",
    "\n",
    "results = [data_organization[item] for item in rpkm_df.index]\n",
    "metadata = [[name] + list(item) for name, item in zip(rpkm_df.index, results)]\n",
    "rpkm_df.index = pd.MultiIndex.from_tuples(results, names=['rbp', 'mutation', 'condition', 'date', 'knockdown'])"
   ]
  },
  {
   "cell_type": "code",
   "execution_count": 45,
   "metadata": {
    "collapsed": false
   },
   "outputs": [],
   "source": [
    "count_df[count_df.columns[5:]].to_csv(\"/home/gpratt/Dropbox/mov10/data/deseq//important_counts.csv\")\n",
    "\n",
    "metadata = pd.DataFrame(metadata)\n",
    "metadata.columns = [\"name\", 'rbp', 'mutation', 'condition', 'date', 'knockdown']\n",
    "metadata.to_csv(\"/home/gpratt/Dropbox/mov10/data/deseq/SampleInfo.csv\")"
   ]
  },
  {
   "cell_type": "code",
   "execution_count": 37,
   "metadata": {
    "collapsed": false
   },
   "outputs": [],
   "source": [
    "rpkm_df = rpkm_df.sort_index()"
   ]
  },
  {
   "cell_type": "code",
   "execution_count": 132,
   "metadata": {
    "collapsed": false
   },
   "outputs": [],
   "source": [
    "de_df = pd.concat({os.path.basename(item).split(\"_\")[1].split(\".\")[0]: pd.read_csv(item, index_col=0) for item in glob.glob(\"/home/gpratt/Dropbox/mov10/data/deseq/mov10*.csv\")}, names=[\"genotype\", \"gene_id\"])\n",
    "sig_de_df = de_df[(de_df.padj <= .05)  & (abs(de_df.log2FoldChange) > 2)]\n",
    "sig_de_df_enriched = sig_de_df[sig_de_df.log2FoldChange > 0]\n",
    "sig_de_df_depleted = sig_de_df[sig_de_df.log2FoldChange < 0]"
   ]
  },
  {
   "cell_type": "code",
   "execution_count": 133,
   "metadata": {
    "collapsed": false
   },
   "outputs": [
    {
     "data": {
      "text/html": [
       "<div>\n",
       "<table border=\"1\" class=\"dataframe\">\n",
       "  <thead>\n",
       "    <tr style=\"text-align: right;\">\n",
       "      <th></th>\n",
       "      <th>baseMean</th>\n",
       "      <th>log2FoldChange</th>\n",
       "      <th>lfcSE</th>\n",
       "      <th>stat</th>\n",
       "      <th>pvalue</th>\n",
       "      <th>padj</th>\n",
       "    </tr>\n",
       "    <tr>\n",
       "      <th>genotype</th>\n",
       "      <th></th>\n",
       "      <th></th>\n",
       "      <th></th>\n",
       "      <th></th>\n",
       "      <th></th>\n",
       "      <th></th>\n",
       "    </tr>\n",
       "  </thead>\n",
       "  <tbody>\n",
       "    <tr>\n",
       "      <th>ka</th>\n",
       "      <td>909</td>\n",
       "      <td>909</td>\n",
       "      <td>909</td>\n",
       "      <td>909</td>\n",
       "      <td>909</td>\n",
       "      <td>909</td>\n",
       "    </tr>\n",
       "    <tr>\n",
       "      <th>wt</th>\n",
       "      <td>2536</td>\n",
       "      <td>2536</td>\n",
       "      <td>2536</td>\n",
       "      <td>2536</td>\n",
       "      <td>2536</td>\n",
       "      <td>2536</td>\n",
       "    </tr>\n",
       "  </tbody>\n",
       "</table>\n",
       "</div>"
      ],
      "text/plain": [
       "          baseMean  log2FoldChange  lfcSE  stat  pvalue  padj\n",
       "genotype                                                     \n",
       "ka             909             909    909   909     909   909\n",
       "wt            2536            2536   2536  2536    2536  2536"
      ]
     },
     "execution_count": 133,
     "metadata": {},
     "output_type": "execute_result"
    }
   ],
   "source": [
    "sig_de_df.groupby(level=\"genotype\").count()"
   ]
  },
  {
   "cell_type": "code",
   "execution_count": 135,
   "metadata": {
    "collapsed": false
   },
   "outputs": [
    {
     "data": {
      "text/html": [
       "<div>\n",
       "<table border=\"1\" class=\"dataframe\">\n",
       "  <thead>\n",
       "    <tr style=\"text-align: right;\">\n",
       "      <th></th>\n",
       "      <th>baseMean</th>\n",
       "      <th>log2FoldChange</th>\n",
       "      <th>lfcSE</th>\n",
       "      <th>stat</th>\n",
       "      <th>pvalue</th>\n",
       "      <th>padj</th>\n",
       "    </tr>\n",
       "    <tr>\n",
       "      <th>genotype</th>\n",
       "      <th></th>\n",
       "      <th></th>\n",
       "      <th></th>\n",
       "      <th></th>\n",
       "      <th></th>\n",
       "      <th></th>\n",
       "    </tr>\n",
       "  </thead>\n",
       "  <tbody>\n",
       "    <tr>\n",
       "      <th>ka</th>\n",
       "      <td>445</td>\n",
       "      <td>445</td>\n",
       "      <td>445</td>\n",
       "      <td>445</td>\n",
       "      <td>445</td>\n",
       "      <td>445</td>\n",
       "    </tr>\n",
       "    <tr>\n",
       "      <th>wt</th>\n",
       "      <td>1103</td>\n",
       "      <td>1103</td>\n",
       "      <td>1103</td>\n",
       "      <td>1103</td>\n",
       "      <td>1103</td>\n",
       "      <td>1103</td>\n",
       "    </tr>\n",
       "  </tbody>\n",
       "</table>\n",
       "</div>"
      ],
      "text/plain": [
       "          baseMean  log2FoldChange  lfcSE  stat  pvalue  padj\n",
       "genotype                                                     \n",
       "ka             445             445    445   445     445   445\n",
       "wt            1103            1103   1103  1103    1103  1103"
      ]
     },
     "execution_count": 135,
     "metadata": {},
     "output_type": "execute_result"
    }
   ],
   "source": [
    "sig_de_df_enriched.groupby(level=\"genotype\").count()"
   ]
  },
  {
   "cell_type": "code",
   "execution_count": 136,
   "metadata": {
    "collapsed": false
   },
   "outputs": [
    {
     "data": {
      "text/html": [
       "<div>\n",
       "<table border=\"1\" class=\"dataframe\">\n",
       "  <thead>\n",
       "    <tr style=\"text-align: right;\">\n",
       "      <th></th>\n",
       "      <th>baseMean</th>\n",
       "      <th>log2FoldChange</th>\n",
       "      <th>lfcSE</th>\n",
       "      <th>stat</th>\n",
       "      <th>pvalue</th>\n",
       "      <th>padj</th>\n",
       "    </tr>\n",
       "    <tr>\n",
       "      <th>genotype</th>\n",
       "      <th></th>\n",
       "      <th></th>\n",
       "      <th></th>\n",
       "      <th></th>\n",
       "      <th></th>\n",
       "      <th></th>\n",
       "    </tr>\n",
       "  </thead>\n",
       "  <tbody>\n",
       "    <tr>\n",
       "      <th>ka</th>\n",
       "      <td>464</td>\n",
       "      <td>464</td>\n",
       "      <td>464</td>\n",
       "      <td>464</td>\n",
       "      <td>464</td>\n",
       "      <td>464</td>\n",
       "    </tr>\n",
       "    <tr>\n",
       "      <th>wt</th>\n",
       "      <td>1433</td>\n",
       "      <td>1433</td>\n",
       "      <td>1433</td>\n",
       "      <td>1433</td>\n",
       "      <td>1433</td>\n",
       "      <td>1433</td>\n",
       "    </tr>\n",
       "  </tbody>\n",
       "</table>\n",
       "</div>"
      ],
      "text/plain": [
       "          baseMean  log2FoldChange  lfcSE  stat  pvalue  padj\n",
       "genotype                                                     \n",
       "ka             464             464    464   464     464   464\n",
       "wt            1433            1433   1433  1433    1433  1433"
      ]
     },
     "execution_count": 136,
     "metadata": {},
     "output_type": "execute_result"
    }
   ],
   "source": [
    "sig_de_df_depleted.groupby(level=\"genotype\").count()"
   ]
  },
  {
   "cell_type": "code",
   "execution_count": 137,
   "metadata": {
    "collapsed": false
   },
   "outputs": [],
   "source": [
    "(ka_name, ka_df), (wt_name, wt_df) = sig_de_df_enriched.groupby(level=\"genotype\")"
   ]
  },
  {
   "cell_type": "code",
   "execution_count": 139,
   "metadata": {
    "collapsed": true
   },
   "outputs": [],
   "source": [
    "significantly_enriched_genes_either = ka_df.index.get_level_values(level=\"gene_id\") | wt_df.index.get_level_values(level=\"gene_id\")\n",
    "changing_in_either = de_df.log2FoldChange.unstack()[significantly_enriched_genes_either]"
   ]
  },
  {
   "cell_type": "code",
   "execution_count": 165,
   "metadata": {
    "collapsed": false,
    "scrolled": true
   },
   "outputs": [
    {
     "data": {
      "image/png": "[encoded data removed]",
      "text/plain": [
       "<matplotlib.figure.Figure at 0x2aea17d53ad0>"
      ]
     },
     "metadata": {},
     "output_type": "display_data"
    }
   ],
   "source": [
    "img_dir = \".\"\n",
    "\n",
    "with dataviz.Figure(os.path.join(img_dir, \"control_change.svg\"), figsize=(8, 4)) as fig:\n",
    "    ax = fig.add_subplot(1,2,1)\n",
    "    venn = venn2((ka_df.index.get_level_values(level=\"gene_id\"), wt_df.index.get_level_values(level=\"gene_id\")),\n",
    "         ax=ax,\n",
    "         set_labels=(\"KA\", \"WT\"))\n",
    "    ax.set_title(\"Overlapping Genes\")\n",
    "\n",
    "    ax = fig.add_subplot(1,2,2)\n",
    "    KA, WT, middle = [item.get_facecolor() for item in venn.patches]\n",
    "    ka_genes = ka_df.index.get_level_values(level=\"gene_id\")\n",
    "    wt_genes = wt_df.index.get_level_values(level=\"gene_id\")\n",
    "    \n",
    "    colors = []\n",
    "    for gene in changing_in_either.columns:\n",
    "        if gene in ka_genes and gene in wt_genes:\n",
    "            colors.append(middle)\n",
    "        elif gene in ka_genes:\n",
    "            colors.append(KA)\n",
    "        elif gene in wt_genes:\n",
    "            colors.append(WT)\n",
    "        \n",
    "        \n",
    "    ax.scatter(changing_in_either.ix['ka'].values, changing_in_either.ix['wt'].values, alpha=.7, color=colors, s=5)\n",
    "    ax.set_xlabel(\"KA IP / Input Log2 Fold Change\")\n",
    "    ax.set_ylabel(\"WT IP / Input Log2 Fold Change\")\n",
    "    ax.set_title(\"Differental Espression of WT vs KA Mutant\")\n",
    "    sns.despine(ax=ax)"
   ]
  },
  {
   "cell_type": "markdown",
   "metadata": {},
   "source": [
    "#Do Go analysis on uniquely changing genes"
   ]
  },
  {
   "cell_type": "code",
   "execution_count": 125,
   "metadata": {
    "collapsed": false
   },
   "outputs": [
    {
     "ename": "MemoryError",
     "evalue": "",
     "output_type": "error",
     "traceback": [
      "\u001b[1;31m---------------------------------------------------------------------------\u001b[0m",
      "\u001b[1;31mMemoryError\u001b[0m                               Traceback (most recent call last)",
      "\u001b[1;32m<ipython-input-125-f4c8f955f798>\u001b[0m in \u001b[0;36m<module>\u001b[1;34m()\u001b[0m\n\u001b[1;32m----> 1\u001b[1;33m \u001b[0mhg19go\u001b[0m \u001b[1;33m=\u001b[0m \u001b[0mGO\u001b[0m\u001b[1;33m.\u001b[0m\u001b[0mGO\u001b[0m\u001b[1;33m(\u001b[0m\u001b[0mGOFile\u001b[0m\u001b[1;33m=\u001b[0m\u001b[1;34m\"/projects/ps-yeolab/genomes/hg19/hg19.ENSG_to_GO.txt.gz\"\u001b[0m\u001b[1;33m)\u001b[0m\u001b[1;33m\u001b[0m\u001b[0m\n\u001b[0m",
      "\u001b[1;32m/home/gpratt/anaconda/lib/python2.7/site-packages/gscripts-0.1.6-py2.7.egg/gscripts/GO/GO.pyc\u001b[0m in \u001b[0;36m__init__\u001b[1;34m(self, GOFile)\u001b[0m\n\u001b[0;32m     23\u001b[0m \u001b[1;33m\u001b[0m\u001b[0m\n\u001b[0;32m     24\u001b[0m     \u001b[1;32mdef\u001b[0m \u001b[0m__init__\u001b[0m\u001b[1;33m(\u001b[0m\u001b[0mself\u001b[0m\u001b[1;33m,\u001b[0m \u001b[0mGOFile\u001b[0m\u001b[1;33m)\u001b[0m\u001b[1;33m:\u001b[0m\u001b[1;33m\u001b[0m\u001b[0m\n\u001b[1;32m---> 25\u001b[1;33m         \u001b[0mself\u001b[0m\u001b[1;33m.\u001b[0m\u001b[0mGO_to_ENSG\u001b[0m \u001b[1;33m=\u001b[0m \u001b[0mpd\u001b[0m\u001b[1;33m.\u001b[0m\u001b[0mread_table\u001b[0m\u001b[1;33m(\u001b[0m\u001b[0mGOFile\u001b[0m\u001b[1;33m,\u001b[0m \u001b[0mcompression\u001b[0m\u001b[1;33m=\u001b[0m\u001b[1;34m\"gzip\"\u001b[0m\u001b[1;33m)\u001b[0m\u001b[1;33m.\u001b[0m\u001b[0mdropna\u001b[0m\u001b[1;33m(\u001b[0m\u001b[1;33m)\u001b[0m\u001b[1;33m\u001b[0m\u001b[0m\n\u001b[0m\u001b[0;32m     26\u001b[0m \u001b[1;33m\u001b[0m\u001b[0m\n\u001b[0;32m     27\u001b[0m         \u001b[0mGO\u001b[0m\u001b[1;33m,\u001b[0m \u001b[0mallGenes\u001b[0m \u001b[1;33m=\u001b[0m \u001b[0mself\u001b[0m\u001b[1;33m.\u001b[0m\u001b[0m_generateOntology\u001b[0m\u001b[1;33m(\u001b[0m\u001b[1;33m)\u001b[0m\u001b[1;33m\u001b[0m\u001b[0m\n",
      "\u001b[1;32m/home/gpratt/anaconda/lib/python2.7/site-packages/pandas/core/frame.pyc\u001b[0m in \u001b[0;36mdropna\u001b[1;34m(self, axis, how, thresh, subset, inplace)\u001b[0m\n\u001b[0;32m   2902\u001b[0m                 \u001b[0magg_obj\u001b[0m \u001b[1;33m=\u001b[0m \u001b[0mself\u001b[0m\u001b[1;33m.\u001b[0m\u001b[0mtake\u001b[0m\u001b[1;33m(\u001b[0m\u001b[0mindices\u001b[0m\u001b[1;33m,\u001b[0m\u001b[0maxis\u001b[0m\u001b[1;33m=\u001b[0m\u001b[0magg_axis\u001b[0m\u001b[1;33m)\u001b[0m\u001b[1;33m\u001b[0m\u001b[0m\n\u001b[0;32m   2903\u001b[0m \u001b[1;33m\u001b[0m\u001b[0m\n\u001b[1;32m-> 2904\u001b[1;33m             \u001b[0mcount\u001b[0m \u001b[1;33m=\u001b[0m \u001b[0magg_obj\u001b[0m\u001b[1;33m.\u001b[0m\u001b[0mcount\u001b[0m\u001b[1;33m(\u001b[0m\u001b[0maxis\u001b[0m\u001b[1;33m=\u001b[0m\u001b[0magg_axis\u001b[0m\u001b[1;33m)\u001b[0m\u001b[1;33m\u001b[0m\u001b[0m\n\u001b[0m\u001b[0;32m   2905\u001b[0m \u001b[1;33m\u001b[0m\u001b[0m\n\u001b[0;32m   2906\u001b[0m             \u001b[1;32mif\u001b[0m \u001b[0mthresh\u001b[0m \u001b[1;32mis\u001b[0m \u001b[1;32mnot\u001b[0m \u001b[0mNone\u001b[0m\u001b[1;33m:\u001b[0m\u001b[1;33m\u001b[0m\u001b[0m\n",
      "\u001b[1;32m/home/gpratt/anaconda/lib/python2.7/site-packages/pandas/core/frame.pyc\u001b[0m in \u001b[0;36mcount\u001b[1;34m(self, axis, level, numeric_only)\u001b[0m\n\u001b[0;32m   4521\u001b[0m                 \u001b[0mresult\u001b[0m \u001b[1;33m=\u001b[0m \u001b[0mnotnull\u001b[0m\u001b[1;33m(\u001b[0m\u001b[0mframe\u001b[0m\u001b[1;33m)\u001b[0m\u001b[1;33m.\u001b[0m\u001b[0msum\u001b[0m\u001b[1;33m(\u001b[0m\u001b[0maxis\u001b[0m\u001b[1;33m=\u001b[0m\u001b[0maxis\u001b[0m\u001b[1;33m)\u001b[0m\u001b[1;33m\u001b[0m\u001b[0m\n\u001b[0;32m   4522\u001b[0m             \u001b[1;32melse\u001b[0m\u001b[1;33m:\u001b[0m\u001b[1;33m\u001b[0m\u001b[0m\n\u001b[1;32m-> 4523\u001b[1;33m                 \u001b[0mcounts\u001b[0m \u001b[1;33m=\u001b[0m \u001b[0mnotnull\u001b[0m\u001b[1;33m(\u001b[0m\u001b[0mframe\u001b[0m\u001b[1;33m.\u001b[0m\u001b[0mvalues\u001b[0m\u001b[1;33m)\u001b[0m\u001b[1;33m.\u001b[0m\u001b[0msum\u001b[0m\u001b[1;33m(\u001b[0m\u001b[0maxis\u001b[0m\u001b[1;33m=\u001b[0m\u001b[0maxis\u001b[0m\u001b[1;33m)\u001b[0m\u001b[1;33m\u001b[0m\u001b[0m\n\u001b[0m\u001b[0;32m   4524\u001b[0m                 \u001b[0mresult\u001b[0m \u001b[1;33m=\u001b[0m \u001b[0mSeries\u001b[0m\u001b[1;33m(\u001b[0m\u001b[0mcounts\u001b[0m\u001b[1;33m,\u001b[0m \u001b[0mindex\u001b[0m\u001b[1;33m=\u001b[0m\u001b[0mframe\u001b[0m\u001b[1;33m.\u001b[0m\u001b[0m_get_agg_axis\u001b[0m\u001b[1;33m(\u001b[0m\u001b[0maxis\u001b[0m\u001b[1;33m)\u001b[0m\u001b[1;33m)\u001b[0m\u001b[1;33m\u001b[0m\u001b[0m\n\u001b[0;32m   4525\u001b[0m \u001b[1;33m\u001b[0m\u001b[0m\n",
      "\u001b[1;32m/home/gpratt/anaconda/lib/python2.7/site-packages/pandas/core/common.pyc\u001b[0m in \u001b[0;36mnotnull\u001b[1;34m(obj)\u001b[0m\n\u001b[0;32m    314\u001b[0m     \u001b[0mpandas\u001b[0m\u001b[1;33m.\u001b[0m\u001b[0misnull\u001b[0m \u001b[1;33m:\u001b[0m \u001b[0mboolean\u001b[0m \u001b[0minverse\u001b[0m \u001b[0mof\u001b[0m \u001b[0mpandas\u001b[0m\u001b[1;33m.\u001b[0m\u001b[0mnotnull\u001b[0m\u001b[1;33m\u001b[0m\u001b[0m\n\u001b[0;32m    315\u001b[0m     \"\"\"\n\u001b[1;32m--> 316\u001b[1;33m     \u001b[0mres\u001b[0m \u001b[1;33m=\u001b[0m \u001b[0misnull\u001b[0m\u001b[1;33m(\u001b[0m\u001b[0mobj\u001b[0m\u001b[1;33m)\u001b[0m\u001b[1;33m\u001b[0m\u001b[0m\n\u001b[0m\u001b[0;32m    317\u001b[0m     \u001b[1;32mif\u001b[0m \u001b[0mnp\u001b[0m\u001b[1;33m.\u001b[0m\u001b[0misscalar\u001b[0m\u001b[1;33m(\u001b[0m\u001b[0mres\u001b[0m\u001b[1;33m)\u001b[0m\u001b[1;33m:\u001b[0m\u001b[1;33m\u001b[0m\u001b[0m\n\u001b[0;32m    318\u001b[0m         \u001b[1;32mreturn\u001b[0m \u001b[1;32mnot\u001b[0m \u001b[0mres\u001b[0m\u001b[1;33m\u001b[0m\u001b[0m\n",
      "\u001b[1;32m/home/gpratt/anaconda/lib/python2.7/site-packages/pandas/core/common.pyc\u001b[0m in \u001b[0;36misnull\u001b[1;34m(obj)\u001b[0m\n\u001b[0;32m    157\u001b[0m     \u001b[0mpandas\u001b[0m\u001b[1;33m.\u001b[0m\u001b[0mnotnull\u001b[0m\u001b[1;33m:\u001b[0m \u001b[0mboolean\u001b[0m \u001b[0minverse\u001b[0m \u001b[0mof\u001b[0m \u001b[0mpandas\u001b[0m\u001b[1;33m.\u001b[0m\u001b[0misnull\u001b[0m\u001b[1;33m\u001b[0m\u001b[0m\n\u001b[0;32m    158\u001b[0m     \"\"\"\n\u001b[1;32m--> 159\u001b[1;33m     \u001b[1;32mreturn\u001b[0m \u001b[0m_isnull\u001b[0m\u001b[1;33m(\u001b[0m\u001b[0mobj\u001b[0m\u001b[1;33m)\u001b[0m\u001b[1;33m\u001b[0m\u001b[0m\n\u001b[0m\u001b[0;32m    160\u001b[0m \u001b[1;33m\u001b[0m\u001b[0m\n\u001b[0;32m    161\u001b[0m \u001b[1;33m\u001b[0m\u001b[0m\n",
      "\u001b[1;32m/home/gpratt/anaconda/lib/python2.7/site-packages/pandas/core/common.pyc\u001b[0m in \u001b[0;36m_isnull_new\u001b[1;34m(obj)\u001b[0m\n\u001b[0;32m    167\u001b[0m         \u001b[1;32mraise\u001b[0m \u001b[0mNotImplementedError\u001b[0m\u001b[1;33m(\u001b[0m\u001b[1;34m\"isnull is not defined for MultiIndex\"\u001b[0m\u001b[1;33m)\u001b[0m\u001b[1;33m\u001b[0m\u001b[0m\n\u001b[0;32m    168\u001b[0m     \u001b[1;32melif\u001b[0m \u001b[0misinstance\u001b[0m\u001b[1;33m(\u001b[0m\u001b[0mobj\u001b[0m\u001b[1;33m,\u001b[0m \u001b[1;33m(\u001b[0m\u001b[0mABCSeries\u001b[0m\u001b[1;33m,\u001b[0m \u001b[0mnp\u001b[0m\u001b[1;33m.\u001b[0m\u001b[0mndarray\u001b[0m\u001b[1;33m,\u001b[0m \u001b[0mpd\u001b[0m\u001b[1;33m.\u001b[0m\u001b[0mIndex\u001b[0m\u001b[1;33m)\u001b[0m\u001b[1;33m)\u001b[0m\u001b[1;33m:\u001b[0m\u001b[1;33m\u001b[0m\u001b[0m\n\u001b[1;32m--> 169\u001b[1;33m         \u001b[1;32mreturn\u001b[0m \u001b[0m_isnull_ndarraylike\u001b[0m\u001b[1;33m(\u001b[0m\u001b[0mobj\u001b[0m\u001b[1;33m)\u001b[0m\u001b[1;33m\u001b[0m\u001b[0m\n\u001b[0m\u001b[0;32m    170\u001b[0m     \u001b[1;32melif\u001b[0m \u001b[0misinstance\u001b[0m\u001b[1;33m(\u001b[0m\u001b[0mobj\u001b[0m\u001b[1;33m,\u001b[0m \u001b[0mABCGeneric\u001b[0m\u001b[1;33m)\u001b[0m\u001b[1;33m:\u001b[0m\u001b[1;33m\u001b[0m\u001b[0m\n\u001b[0;32m    171\u001b[0m         \u001b[1;32mreturn\u001b[0m \u001b[0mobj\u001b[0m\u001b[1;33m.\u001b[0m\u001b[0m_constructor\u001b[0m\u001b[1;33m(\u001b[0m\u001b[0mobj\u001b[0m\u001b[1;33m.\u001b[0m\u001b[0m_data\u001b[0m\u001b[1;33m.\u001b[0m\u001b[0misnull\u001b[0m\u001b[1;33m(\u001b[0m\u001b[0mfunc\u001b[0m\u001b[1;33m=\u001b[0m\u001b[0misnull\u001b[0m\u001b[1;33m)\u001b[0m\u001b[1;33m)\u001b[0m\u001b[1;33m\u001b[0m\u001b[0m\n",
      "\u001b[1;32m/home/gpratt/anaconda/lib/python2.7/site-packages/pandas/core/common.pyc\u001b[0m in \u001b[0;36m_isnull_ndarraylike\u001b[1;34m(obj)\u001b[0m\n\u001b[0;32m    250\u001b[0m             \u001b[1;32melse\u001b[0m\u001b[1;33m:\u001b[0m\u001b[1;33m\u001b[0m\u001b[0m\n\u001b[0;32m    251\u001b[0m                 \u001b[0mresult\u001b[0m \u001b[1;33m=\u001b[0m \u001b[0mnp\u001b[0m\u001b[1;33m.\u001b[0m\u001b[0mempty\u001b[0m\u001b[1;33m(\u001b[0m\u001b[0mshape\u001b[0m\u001b[1;33m,\u001b[0m \u001b[0mdtype\u001b[0m\u001b[1;33m=\u001b[0m\u001b[0mbool\u001b[0m\u001b[1;33m)\u001b[0m\u001b[1;33m\u001b[0m\u001b[0m\n\u001b[1;32m--> 252\u001b[1;33m                 \u001b[0mvec\u001b[0m \u001b[1;33m=\u001b[0m \u001b[0mlib\u001b[0m\u001b[1;33m.\u001b[0m\u001b[0misnullobj\u001b[0m\u001b[1;33m(\u001b[0m\u001b[0mvalues\u001b[0m\u001b[1;33m.\u001b[0m\u001b[0mravel\u001b[0m\u001b[1;33m(\u001b[0m\u001b[1;33m)\u001b[0m\u001b[1;33m)\u001b[0m\u001b[1;33m\u001b[0m\u001b[0m\n\u001b[0m\u001b[0;32m    253\u001b[0m                 \u001b[0mresult\u001b[0m\u001b[1;33m[\u001b[0m\u001b[1;33m.\u001b[0m\u001b[1;33m.\u001b[0m\u001b[1;33m.\u001b[0m\u001b[1;33m]\u001b[0m \u001b[1;33m=\u001b[0m \u001b[0mvec\u001b[0m\u001b[1;33m.\u001b[0m\u001b[0mreshape\u001b[0m\u001b[1;33m(\u001b[0m\u001b[0mshape\u001b[0m\u001b[1;33m)\u001b[0m\u001b[1;33m\u001b[0m\u001b[0m\n\u001b[0;32m    254\u001b[0m \u001b[1;33m\u001b[0m\u001b[0m\n",
      "\u001b[1;31mMemoryError\u001b[0m: "
     ]
    }
   ],
   "source": [
    "hg19go = GO.GO(GOFile=\"/projects/ps-yeolab/genomes/hg19/hg19.ENSG_to_GO.txt.gz\")"
   ]
  },
  {
   "cell_type": "code",
   "execution_count": null,
   "metadata": {
    "collapsed": true
   },
   "outputs": [],
   "source": []
  }
 ],
 "metadata": {
  "kernelspec": {
   "display_name": "Python 2",
   "language": "python",
   "name": "python2"
  },
  "language_info": {
   "codemirror_mode": {
    "name": "ipython",
    "version": 2
   },
   "file_extension": ".py",
   "mimetype": "text/x-python",
   "name": "python",
   "nbconvert_exporter": "python",
   "pygments_lexer": "ipython2",
   "version": "2.7.11"
  }
 },
 "nbformat": 4,
 "nbformat_minor": 0
}
