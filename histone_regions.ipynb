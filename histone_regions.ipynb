{
 "cells": [
  {
   "cell_type": "code",
   "execution_count": 6,
   "metadata": {
    "collapsed": true
   },
   "outputs": [],
   "source": [
    "from gscripts.general import region_helpers\n",
    "import pandas as pd\n",
    "import random\n",
    "from clipper.src import CLIP_analysis\n",
    "import pybedtools"
   ]
  },
  {
   "cell_type": "code",
   "execution_count": 2,
   "metadata": {
    "collapsed": true
   },
   "outputs": [],
   "source": [
    "gene_id_to_name = region_helpers.gene_id_to_name(\"/projects/ps-yeolab/genomes/hg19/gencode.v17.annotation.gtf.db\")\n",
    "\n",
    "name_to_gene_id = {value: key for key, value in gene_id_to_name.items()}\n",
    "\n",
    "#hg19_gene_id_to_name = region_helpers.gene_id_to_name(\"/nas3/gpratt/gencode/gencode.v17.annotation.gtf.db\")\n",
    "#mm9_gene_id_to_name = region_helpers.gene_id_to_name(\"/nas3/gpratt/gencode/gencode.vM1.annotation.gtf.db\")\n",
    "\n",
    "#pd.Series(mm9_gene_id_to_name).to_csv(\"/nas3/gpratt/Dropbox/ENCORE-YEOLAB/data/localization/mm9_gene_id.csv\")\n",
    "#pd.Series(hg19_gene_id_to_name).to_csv(\"/nas3/gpratt/Dropbox/ENCORE-YEOLAB/data/localization/hg19_gene_id.csv\")"
   ]
  },
  {
   "cell_type": "code",
   "execution_count": 5,
   "metadata": {
    "collapsed": false
   },
   "outputs": [
    {
     "name": "stdout",
     "output_type": "stream",
     "text": [
      "--2015-09-23 21:28:30--  http://www.genenames.org/cgi-bin/genefamilies/set/864/download/node\n",
      "Resolving www.genenames.org... 193.62.193.83\n",
      "Connecting to www.genenames.org|193.62.193.83|:80... connected.\n",
      "HTTP request sent, awaiting response... 200 OK\n",
      "Length: unspecified [text/plain]\n",
      "Saving to: “node”\n",
      "\n",
      "    [ <=>                                   ] 12,057      --.-K/s   in 0.005s  \n",
      "\n",
      "2015-09-23 21:28:31 (2.34 MB/s) - “node” saved [12057]\n",
      "\n"
     ]
    }
   ],
   "source": [
    "!wget http://www.genenames.org/cgi-bin/genefamilies/set/864/download/node\n",
    "!mv node histone_genes.csv"
   ]
  },
  {
   "cell_type": "code",
   "execution_count": 8,
   "metadata": {
    "collapsed": false
   },
   "outputs": [],
   "source": [
    "histone_genes = pd.read_table(\"histone_genes.csv\")"
   ]
  },
  {
   "cell_type": "code",
   "execution_count": 15,
   "metadata": {
    "collapsed": false
   },
   "outputs": [],
   "source": [
    "error = 0\n",
    "histones = []\n",
    "for symbol in histone_genes['Approved Symbol']:\n",
    "    try:\n",
    "        histones.append(name_to_gene_id[symbol])\n",
    "    except:\n",
    "        error += 1"
   ]
  },
  {
   "cell_type": "code",
   "execution_count": 16,
   "metadata": {
    "collapsed": true
   },
   "outputs": [],
   "source": []
  },
  {
   "cell_type": "code",
   "execution_count": 17,
   "metadata": {
    "collapsed": true
   },
   "outputs": [],
   "source": [
    "five_prime_utrs = pybedtools.BedTool(\"/home/gpratt/clipper/clipper/data/regions/hg19_five_prime_utrs.bed\")"
   ]
  },
  {
   "cell_type": "code",
   "execution_count": 34,
   "metadata": {
    "collapsed": false
   },
   "outputs": [
    {
     "data": {
      "text/plain": [
       "<BedTool(/tmp/pybedtools.k8G8Oc.tmp)>"
      ]
     },
     "execution_count": 34,
     "metadata": {},
     "output_type": "execute_result"
    }
   ],
   "source": [
    "histone_five_prime_utrs = five_prime_utrs.filter(lambda x: x.name in histones).saveas()\n",
    "histone_five_prime_utrs.sequence(fi=\"/projects/ps-yeolab/genomes/hg19/chromosomes/all.fa\", s=True).save_seqs(\"histone_utrs.fasta\")"
   ]
  },
  {
   "cell_type": "code",
   "execution_count": 35,
   "metadata": {
    "collapsed": false
   },
   "outputs": [
    {
     "data": {
      "text/plain": [
       "<BedTool(/tmp/pybedtools.vZdhTk.tmp)>"
      ]
     },
     "execution_count": 35,
     "metadata": {},
     "output_type": "execute_result"
    }
   ],
   "source": [
    "random_five_prime_utrs = pybedtools.BedTool(random.sample(list(five_prime_utrs), 1000))\n",
    "random_five_prime_utrs.sequence(fi=\"/projects/ps-yeolab/genomes/hg19/chromosomes/all.fa\", s=True).save_seqs(\"histone_utrs_random.fasta\")"
   ]
  },
  {
   "cell_type": "code",
   "execution_count": 36,
   "metadata": {
    "collapsed": false
   },
   "outputs": [
    {
     "name": "stdout",
     "output_type": "stream",
     "text": [
      "starting Homer\n",
      "Homer Finished, output here: /home/gpratt/ipython_notebook\n"
     ]
    }
   ],
   "source": [
    "CLIP_analysis.run_homer(\"histone_utrs.fasta\", \"histone_utrs_random.fasta\")"
   ]
  },
  {
   "cell_type": "code",
   "execution_count": 38,
   "metadata": {
    "collapsed": false
   },
   "outputs": [
    {
     "name": "stdout",
     "output_type": "stream",
     "text": [
      "chr1\t139310\t139379\tENSG00000237683.5\t0\t-\n",
      " chr1\t367640\t367658\tENSG00000235249.1\t0\t+\n",
      " chr1\t622035\t622053\tENSG00000185097.2\t0\t-\n",
      " chr1\t860260\t860328\tENSG00000187634.6\t0\t+\n",
      " chr1\t860530\t860569\tENSG00000187634.6\t0\t+\n",
      " chr1\t861118\t861180\tENSG00000187634.6\t0\t+\n",
      " chr1\t861302\t861321\tENSG00000187634.6\t0\t+\n",
      " chr1\t894621\t894670\tENSG00000188976.6\t0\t-\n",
      " chr1\t895967\t896073\tENSG00000187961.9\t0\t+\n",
      " chr1\t901877\t901911\tENSG00000187583.5\t0\t+\n",
      " "
     ]
    }
   ],
   "source": [
    "five_prime_utrs.head()"
   ]
  },
  {
   "cell_type": "code",
   "execution_count": 40,
   "metadata": {
    "collapsed": false
   },
   "outputs": [],
   "source": [
    "interval = five_prime_utrs[0]"
   ]
  },
  {
   "cell_type": "code",
   "execution_count": 42,
   "metadata": {
    "collapsed": false
   },
   "outputs": [
    {
     "data": {
      "text/plain": [
       "False"
      ]
     },
     "execution_count": 42,
     "metadata": {},
     "output_type": "execute_result"
    }
   ],
   "source": [
    "interval.name in histones"
   ]
  },
  {
   "cell_type": "code",
   "execution_count": 44,
   "metadata": {
    "collapsed": false
   },
   "outputs": [
    {
     "data": {
      "text/plain": [
       "False"
      ]
     },
     "execution_count": 44,
     "metadata": {},
     "output_type": "execute_result"
    }
   ],
   "source": [
    "def filter_by_lenlen(interval) > 100"
   ]
  },
  {
   "cell_type": "code",
   "execution_count": null,
   "metadata": {
    "collapsed": true
   },
   "outputs": [],
   "source": []
  }
 ],
 "metadata": {
  "kernelspec": {
   "display_name": "Python 2",
   "language": "python",
   "name": "python2"
  },
  "language_info": {
   "codemirror_mode": {
    "name": "ipython",
    "version": 2
   },
   "file_extension": ".py",
   "mimetype": "text/x-python",
   "name": "python",
   "nbconvert_exporter": "python",
   "pygments_lexer": "ipython2",
   "version": "2.7.10"
  }
 },
 "nbformat": 4,
 "nbformat_minor": 0
}
