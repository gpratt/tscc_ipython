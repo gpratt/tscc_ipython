{
 "cells": [
  {
   "cell_type": "code",
   "execution_count": 1,
   "metadata": {
    "collapsed": false
   },
   "outputs": [],
   "source": [
    "import pysam\n",
    "from umi_tools import umi_methods, network\n",
    "from  functools import partial\n",
    "import itertools\n",
    "from tqdm import tqdm, tqdm_notebook"
   ]
  },
  {
   "cell_type": "code",
   "execution_count": 2,
   "metadata": {
    "collapsed": true
   },
   "outputs": [],
   "source": [
    "from umi_tools._dedup_umi import edit_distance"
   ]
  },
  {
   "cell_type": "code",
   "execution_count": 3,
   "metadata": {
    "collapsed": true
   },
   "outputs": [],
   "source": [
    "def breadth_first_search(node, adj_list):\n",
    "    searched = set()\n",
    "    found = set()\n",
    "    queue = set()\n",
    "    queue.update((node,))\n",
    "    found.update((node,))\n",
    "\n",
    "    while len(queue) > 0:\n",
    "        node = queue.pop()\n",
    "        found.update(adj_list[node])\n",
    "        queue.update(adj_list[node])\n",
    "        searched.update((node,))\n",
    "        queue.difference_update(searched)\n",
    "\n",
    "    return found\n",
    "\n",
    "def recursive_search(node, adj_list):\n",
    "    children = adj_list[node]\n",
    "    children = [x for x in children if x not in recursive_search.component]\n",
    "    for child in children:\n",
    "        recursive_search.component.update((child,))\n",
    "        recursive_search.component.update(\n",
    "            recursive_search(child, adj_list))\n",
    "    return recursive_search.component\n",
    "\n",
    "def breadth_first_search_recursive(node, adj_list):\n",
    "    try:\n",
    "        recursive_search.component = set((node,))\n",
    "        return recursive_search(node, adj_list)\n",
    "\n",
    "    except RecursionError as error:\n",
    "        U.info('Recursion Error: %s' % error)\n",
    "        return breadth_first_search(node, adj_list)\n",
    "    \n",
    "def _get_adj_list_directional(umis, counts, threshold=1):\n",
    "    ''' identify all umis within the hamming distance threshold\n",
    "    and where the counts of the first umi is > (2 * second umi counts)-1'''\n",
    "\n",
    "    adj_list = {umi: [] for umi in umis}\n",
    "    for umi1, umi2 in itertools.combinations(umis, 2):\n",
    "        if edit_distance(umi1, umi2) <= threshold:\n",
    "            if counts[umi1] >= (counts[umi2]*2)-1:\n",
    "                adj_list[umi1].append(umi2)\n",
    "            if counts[umi2] >= (counts[umi1]*2)-1:\n",
    "                adj_list[umi2].append(umi1)\n",
    "\n",
    "    return adj_list\n",
    "\n",
    "def _get_connected_components_adjacency_old(umis, graph, counts):\n",
    "    ''' find the connected UMIs within an adjacency dictionary'''\n",
    "\n",
    "    # TS: TO DO: Work out why recursive function does lead to same\n",
    "    # final output. Then uncomment below\n",
    "\n",
    "    #if len(graph) < 10000:\n",
    "    #    self.search = breadth_first_search_recursive\n",
    "    #else:\n",
    "    #    self.search = breadth_first_search\n",
    "\n",
    "    found = set()\n",
    "    components = list()\n",
    "\n",
    "    for node in sorted(graph, key=lambda x: counts[x], reverse=True):\n",
    "        if node not in found:\n",
    "            #component = self.search(node, graph)\n",
    "            component = breadth_first_search(node, graph)\n",
    "            found.update(component)\n",
    "            components.append(component)\n",
    "\n",
    "    return components\n",
    "\n",
    "def _get_connected_components_adjacency_new(umis, graph, counts):\n",
    "    ''' find the connected UMIs within an adjacency dictionary'''\n",
    "\n",
    "    # TS: TO DO: Work out why recursive function does lead to same\n",
    "    # final output. Then uncomment below\n",
    "\n",
    "    #if len(graph) < 10000:\n",
    "    #    self.search = breadth_first_search_recursive\n",
    "    #else:\n",
    "    #    self.search = breadth_first_search\n",
    "\n",
    "    found = set()\n",
    "    components = list()\n",
    "\n",
    "    for node in sorted(graph, key=lambda x: counts[x], reverse=True):\n",
    "        if node not in found:\n",
    "            #component = self.search(node, graph)\n",
    "            component = breadth_first_search_new(node, graph)\n",
    "            found.update(component)\n",
    "            components.append(component)\n",
    "\n",
    "    return components"
   ]
  },
  {
   "cell_type": "code",
   "execution_count": 4,
   "metadata": {
    "collapsed": true
   },
   "outputs": [],
   "source": [
    "def breadth_first_search_new(node, adj_list):\n",
    "    searched = set()\n",
    "    queue = set()\n",
    "    queue.update((node,))\n",
    "    searched.update((node,))\n",
    "    \n",
    "    while len(queue) > 0:\n",
    "        node = queue.pop()\n",
    "        for next_node in adj_list[node]:\n",
    "            if next_node not in searched:\n",
    "                queue.update((next_node,))\n",
    "                searched.update((next_node,))\n",
    "\n",
    "    return searched"
   ]
  },
  {
   "cell_type": "code",
   "execution_count": null,
   "metadata": {
    "collapsed": true
   },
   "outputs": [],
   "source": [
    "< NB501001:62:HLWYHBGXX:1:11101:18506:2912_AGCTTT       0       chr2    33141309        0       105M5D46M       *       0       0       GGGGGGGGGGGGGGGGGGGGGGGGGGGGGGGGGGGGGGGGGGGGGGGGGGGGGGGGGGGGGGGGGGGGGGGGGGGGGGGGGGGGGGGGGGGGGGGGGGGGGGGGGGGGGGGGGGGGGGGGGGGGGGGGGGGGGGGGGGGGGGGGGGGGGGG   AAAAAEEEEEEEEEEEEEEEEEEEAEEEEEEEEEEEEEEEEEEEEEEEEEEEEEEEEEEEEEEEEEEEEEEEEEEEEEEEEEEEEEEEEEEEEEEEEEEEEEEEEEEEEEEEEEEEEEEEEE<EAEAEEAAEEEEEEEEEAEEEEEEEEEA   NM:i:8  AS:i:125 XS:i:125 RG:Z:MOB3799_6_plasma_nr6       UG:i:9  BX:Z:TGCTTT\n",
    "> NB501001:62:HLWYHBGXX:1:11101:18506:2912_AGCTTT       0       chr2    33141309        0       105M5D46M       *       0       0       GGGGGGGGGGGGGGGGGGGGGGGGGGGGGGGGGGGGGGGGGGGGGGGGGGGGGGGGGGGGGGGGGGGGGGGGGGGGGGGGGGGGGGGGGGGGGGGGGGGGGGGGGGGGGGGGGGGGGGGGGGGGGGGGGGGGGGGGGGGGGGGGGGGGGGG   AAAAAEEEEEEEEEEEEEEEEEEEAEEEEEEEEEEEEEEEEEEEEEEEEEEEEEEEEEEEEEEEEEEEEEEEEEEEEEEEEEEEEEEEEEEEEEEEEEEEEEEEEEEEEEEEEEEEEEEEEE<EAEAEEAAEEEEEEEEEAEEEEEEEEEA   NM:i:8  AS:i:125 XS:i:125 RG:Z:MOB3799_6_plasma_nr6       UG:i:9  BX:Z:TGCTTT\n",
    "\n",
    "> NB501001:62:HLWYHBGXX:1:11101:23689:4353_TTGGTG       0       chr2    33141309        0       105M5D46M       *       0       0       GGGGGGGGGGGGGGGGGGGGGGGGGGGGGGGGGGGGGGGGGGGGGGGGGGGGGGGGGGGGGGGGGGGGGGGGGGGGGGGGGGGGGGGGGGGGGGGGGGGGGGGGGGGGGGGGGGGGGGGGGGGGGGGGGGGGGGGGGGGGGGGGGGGGGGG   AAAAAEEEEEEEEEEEEEEEEEEEEEEEEEEEEEEEEEEEEEEEEEEEEEEEEEEEEEEEEEEEEEEEEEEEEEEEEEEEEEEEEEEEEEEEEEEEEEEEEEEEEEEEEEEEEAEEEEEEEEEEEEEEEEEEEEEEEEEEEEEEEEEEEEA   NM:i:8  AS:i:125 XS:i:125 RG:Z:MOB3799_6_plasma_nr6       UG:i:9  BX:Z:TGCTTT\n",
    "< NB501001:62:HLWYHBGXX:1:11101:23689:4353_TTGGTG       0       chr2    33141309        0       105M5D46M       *       0       0       GGGGGGGGGGGGGGGGGGGGGGGGGGGGGGGGGGGGGGGGGGGGGGGGGGGGGGGGGGGGGGGGGGGGGGGGGGGGGGGGGGGGGGGGGGGGGGGGGGGGGGGGGGGGGGGGGGGGGGGGGGGGGGGGGGGGGGGGGGGGGGGGGGGGGGG   AAAAAEEEEEEEEEEEEEEEEEEEEEEEEEEEEEEEEEEEEEEEEEEEEEEEEEEEEEEEEEEEEEEEEEEEEEEEEEEEEEEEEEEEEEEEEEEEEEEEEEEEEEEEEEEEEAEEEEEEEEEEEEEEEEEEEEEEEEEEEEEEEEEEEEA   NM:i:8  AS:i:125 XS:i:125 RG:Z:MOB3799_6_plasma_nr6       UG:i:9  BX:Z:TGCTTT\n",
    "\n",
    "> NB501001:62:HLWYHBGXX:1:11101:5151:5165_GGTGAG        0       chr2    33141309        0       105M5D46M       *       0       0       GGGGGGGGGGGGGGGGGGGGGGGGGGGGGGGGGGGGGGGGGGGGGGGGGGGGGGGGGGGGGGGGGGGGGGGGGGGGGGGGGGGGGGGGGGGGGGGGGGGGGGGGGGGGGGGGGGGGGGGGGGGGGGGGGGGGGGGGGGGGGGGGGGGGGGG   AAAAAEEEEEEEEEEEEE/A/EE/EAEEEAEAEEEEEEEE<EEEEEEEEEEEEEAEEEEEEAAEEEEAEEEA/EE<<AAEEEAEEEEEEAEEEEEAEAEEAE6/EA<EEEAEEEE/A/A/<EEE/EEE<EE<EEEEEAEEEA<EEAE/EEA   NM:i:8  AS:i:125 XS:i:125 RG:Z:MOB3799_6_plasma_nr6       UG:i:9  BX:Z:TGCTTT\n",
    "< NB501001:62:HLWYHBGXX:1:11101:5151:5165_GGTGAG        0       chr2    33141309        0       105M5D46M       *       0       0       GGGGGGGGGGGGGGGGGGGGGGGGGGGGGGGGGGGGGGGGGGGGGGGGGGGGGGGGGGGGGGGGGGGGGGGGGGGGGGGGGGGGGGGGGGGGGGGGGGGGGGGGGGGGGGGGGGGGGGGGGGGGGGGGGGGGGGGGGGGGGGGGGGGGGGG   AAAAAEEEEEEEEEEEEE/A/EE/EAEEEAEAEEEEEEEE<EEEEEEEEEEEEEAEEEEEEAAEEEEAEEEA/EE<<AAEEEAEEEEEEAEEEEEAEAEEAE6/EA<EEEAEEEE/A/A/<EEE/EEE<EE<EEEEEAEEEA<EEAE/EEA   NM:i:8  AS:i:125 XS:i:125 RG:Z:MOB3799_6_plasma_nr6       UG:i:9  BX:Z:TGCTTT\n",
    "\n",
    "> NB501001:62:HLWYHBGXX:1:11101:22013:2113_GGTGCA       0       chr2    33141309        0       105M5D46M       *       0       0       GGGGGGGGGGGGGGGGGGGGGGGGGGGGGGGGGGGGGGGGGGGGGGGGGGGGGGGGGGGGGGGGGGGGGGGGGGGGGGGGGGGGGGGGGGGGGGGGGGGGGGGGGGGGGGGGGGGGCGGGGGGGGGGGGGGGGGGGGGGGGGGGGGGGGGG   /AAAA6///E//E/A///EEEEAAE//E//E/AEE/E//EA//E//E/EEEA/EE/A/EEEEEEE/EEEA/E/E<E/AA/66/EE//A/EA/E//EAA/6///A6/6A/AA<<//E/<<6/E6<6EEEE<AAA6E//AE///6/6E<E/E/   NM:i:9  AS:i:120 XS:i:120 RG:Z:MOB3799_6_plasma_nr6       UG:i:9  BX:Z:TGCTTT\n",
    "< NB501001:62:HLWYHBGXX:1:11101:22013:2113_GGTGCA       0       chr2    33141309        0       105M5D46M       *       0       0       GGGGGGGGGGGGGGGGGGGGGGGGGGGGGGGGGGGGGGGGGGGGGGGGGGGGGGGGGGGGGGGGGGGGGGGGGGGGGGGGGGGGGGGGGGGGGGGGGGGGGGGGGGGGGGGGGGGGCGGGGGGGGGGGGGGGGGGGGGGGGGGGGGGGGGG   /AAAA6///E//E/A///EEEEAAE//E//E/AEE/E//EA//E//E/EEEA/EE/A/EEEEEEE/EEEA/E/E<E/AA/66/EE//A/EA/E//EAA/6///A6/6A/AA<<//E/<<6/E6<6EEEE<AAA6E//AE///6/6E<E/E/   NM:i:9  AS:i:120 XS:i:120 RG:Z:MOB3799_6_plasma_nr6       UG:i:9  BX:Z:TGCTTT\n",
    "\n"
   ]
  },
  {
   "cell_type": "code",
   "execution_count": null,
   "metadata": {
    "collapsed": true
   },
   "outputs": [],
   "source": [
    "['TGCTTT', 'GGGTTG', 'TGTGTG', 'GGATTT', 'GGCTTT', 'CCTCAT', 'CGGTTT', 'GGAGTT', 'TTGGTG', 'GAAGTT', 'GGGAAG', 'TGGGTT', 'CGTGAA', 'GGCGCA', 'TGCGTT', 'CGTGTG', 'GGCGGA', 'TTGGTC', 'AGCTTT', 'TGGGTG', 'TAGGTG', 'GCTGAT', 'TATTTT', 'CGGGAA', 'GGTGAA', 'CCTGAT', 'GTTGCG', 'CAGGTG', 'GTTTCG', 'TAAGTT', 'GGTGTG', 'GGTGCG', 'TGGTTG', 'GGTGCA', 'GGGGTT', 'GGGATG', 'TGGTTT', 'TGCTTC', 'GGTGAT', 'TACTTT', 'GGGGTG', 'GGTTCG']\n",
    "['TGCTTT', 'GGGTTG', 'TGTGTG', 'GGATTT', 'GGCTTT', 'CCTCAT', 'CGGTTT', 'CGGGAA', 'AGCTTT', 'GAAGTT', 'GGGAAG', 'TGGGTT', 'CGTGAA', 'GGCGCA', 'TGCGTT', 'CGTGTG', 'GGCGGA', 'TTGGTC', 'TTGGTG', 'TGGGTG', 'TAGGTG', 'GCTGAT', 'TATTTT', 'GGAGTT', 'GGTGAA', 'CCTGAT', 'GTTGCG', 'CAGGTG', 'GTTTCG', 'TAAGTT', 'GGTGTG', 'GGTGCG', 'TGGTTG', 'GGGATG', 'GGGGTT', 'GGTGCA', 'TGGTTT', 'TGCTTC', 'GGTGAT', 'TACTTT', 'GGGGTG', 'GGTTCG']\n",
    "\n"
   ]
  },
  {
   "cell_type": "code",
   "execution_count": null,
   "metadata": {
    "collapsed": true
   },
   "outputs": [],
   "source": [
    "{'GGGTTG': 1, 'TGTGTG': 1, 'GGATTT': 1, 'GGCTTT': 1, 'CCTCAT': 1, 'CGGTTT': 1, 'CGGGAA': 1, 'GGCGAG': 1, 'TTGGTG': 1, 'GAAGTT': 1, 'TGGGTT': 1, 'CGTGAA': 1, 'GGCGCA': 1, 'TGCGTT': 1, 'CGTGTG': 1, 'GGCGGA': 1, 'TTGGTC': 1, 'AGCTTT': 1, 'TGGGTG': 1, 'TAGGTG': 1, 'GCTGAT': 1, 'TATTTT': 1, 'GGAGTT': 1, 'GGTGCG': 1, 'CCTGAT': 1, 'GTTGCG': 1, 'CAGGTG': 1, 'GTTTCG': 1, 'TAAGTT': 1, 'GGGGTG': 1, 'GGGAAG': 1, 'GGTGAA': 1, 'TGGTTG': 1, 'GGTGTG': 1, 'GGTGCA': 1, 'GGGGTT': 1, 'GGGATG': 1, 'TGGTTT': 1, 'TGCTTC': 1, 'GGTGAT': 1, 'TACTTT': 1, 'TGCTTT': 2, 'GGTTCG': 1}\n",
    "{'GGGTTG': 1, 'TGTGTG': 1, 'GGATTT': 1, 'GGCTTT': 1, 'CCTCAT': 1, 'CGGTTT': 1, 'CGGGAA': 1, 'GGCGAG': 1, 'TTGGTG': 1, 'GAAGTT': 1, 'TGGGTT': 1, 'CGTGAA': 1, 'GGCGCA': 1, 'TGCGTT': 1, 'CGTGTG': 1, 'GGCGGA': 1, 'TTGGTC': 1, 'AGCTTT': 1, 'TGGGTG': 1, 'TAGGTG': 1, 'GCTGAT': 1, 'TATTTT': 1, 'GGAGTT': 1, 'GGTGCG': 1, 'CCTGAT': 1, 'GTTGCG': 1, 'CAGGTG': 1, 'GTTTCG': 1, 'TAAGTT': 1, 'GGGGTG': 1, 'GGGAAG': 1, 'GGTGAA': 1, 'TGGTTG': 1, 'GGTGTG': 1, 'GGTGCA': 1, 'GGGGTT': 1, 'GGGATG': 1, 'TGGTTT': 1, 'TGCTTC': 1, 'GGTGAT': 1, 'TACTTT': 1, 'TGCTTT': 2, 'GGTTCG': 1}\n"
   ]
  },
  {
   "cell_type": "code",
   "execution_count": 20,
   "metadata": {
    "collapsed": true
   },
   "outputs": [],
   "source": [
    "#old \n",
    "old_cluster = set(['GGGTTG', 'TGTGTG', 'GGATTT', 'GGCTTT', 'CCTCAT', 'CGGTTT', 'GGAGTT', 'TTGGTG', 'GAAGTT', 'GGGAAG', 'TGGGTT', 'CGTGAA', 'GGCGCA', 'TGCGTT', 'CGTGTG', 'GGCGGA', 'TTGGTC', 'AGCTTT', 'TGGGTG', 'TAGGTG', 'GCTGAT', 'TATTTT', 'CGGGAA', 'GGTGAA', 'CCTGAT', 'GTTGCG', 'CAGGTG', 'GTTTCG', 'TAAGTT', 'GGTGTG', 'GGTGCG', 'TGGTTG', 'TGCTTT', 'GGTGCA', 'GGGGTT', 'GGGATG', 'TGGTTT', 'TGCTTC', 'GGTGAT', 'TACTTT', 'GGGGTG', 'GGTTCG'])\n",
    "old_counts = {'GGGTTG': 1, 'TGTGTG': 1, 'GGATTT': 1, 'GGCTTT': 1, 'CCTCAT': 1, 'CGGTTT': 1, 'CGGGAA': 1, 'GGCGAG': 1, 'TTGGTG': 1, 'GAAGTT': 1, 'TGGGTT': 1, 'CGTGAA': 1, 'GGCGCA': 1, 'TGCGTT': 1, 'CGTGTG': 1, 'GGCGGA': 1, 'TTGGTC': 1, 'AGCTTT': 1, 'TGGGTG': 1, 'TAGGTG': 1, 'GCTGAT': 1, 'TATTTT': 1, 'GGAGTT': 1, 'GGTGCG': 1, 'CCTGAT': 1, 'GTTGCG': 1, 'CAGGTG': 1, 'GTTTCG': 1, 'TAAGTT': 1, 'GGGGTG': 1, 'GGGAAG': 1, 'GGTGAA': 1, 'TGGTTG': 1, 'GGTGTG': 1, 'GGTGCA': 1, 'GGGGTT': 1, 'GGGATG': 1, 'TGGTTT': 1, 'TGCTTC': 1, 'GGTGAT': 1, 'TACTTT': 1, 'TGCTTT': 2, 'GGTTCG': 1}\n",
    "\n",
    "#new\n",
    "new_cluster = set(['GGGTTG', 'TGTGTG', 'GGATTT', 'GGCTTT', 'CCTCAT', 'CGGTTT', 'CGGGAA', 'AGCTTT', 'GAAGTT', 'GGGAAG', 'TGGGTT', 'CGTGAA', 'GGCGCA', 'TGCGTT', 'CGTGTG', 'GGCGGA', 'TTGGTC', 'TTGGTG', 'TGGGTG', 'TAGGTG', 'GCTGAT', 'TATTTT', 'GGAGTT', 'GGTGAA', 'CCTGAT', 'GTTGCG', 'CAGGTG', 'GTTTCG', 'TAAGTT', 'GGTGTG', 'GGTGCG', 'TGGTTG', 'TGCTTT', 'GGGATG', 'GGGGTT', 'GGTGCA', 'TGGTTT', 'TGCTTC', 'GGTGAT', 'TACTTT', 'GGGGTG', 'GGTTCG'])\n",
    "new_counts = {'GGGTTG': 1, 'TGTGTG': 1, 'GGATTT': 1, 'GGCTTT': 1, 'CCTCAT': 1, 'CGGTTT': 1, 'CGGGAA': 1, 'GGCGAG': 1, 'TTGGTG': 1, 'GAAGTT': 1, 'TGGGTT': 1, 'CGTGAA': 1, 'GGCGCA': 1, 'TGCGTT': 1, 'CGTGTG': 1, 'GGCGGA': 1, 'TTGGTC': 1, 'AGCTTT': 1, 'TGGGTG': 1, 'TAGGTG': 1, 'GCTGAT': 1, 'TATTTT': 1, 'GGAGTT': 1, 'GGTGCG': 1, 'CCTGAT': 1, 'GTTGCG': 1, 'CAGGTG': 1, 'GTTTCG': 1, 'TAAGTT': 1, 'GGGGTG': 1, 'GGGAAG': 1, 'GGTGAA': 1, 'TGGTTG': 1, 'GGTGTG': 1, 'GGTGCA': 1, 'GGGGTT': 1, 'GGGATG': 1, 'TGGTTT': 1, 'TGCTTC': 1, 'GGTGAT': 1, 'TACTTT': 1, 'TGCTTT': 2, 'GGTTCG': 1}\n"
   ]
  },
  {
   "cell_type": "code",
   "execution_count": 23,
   "metadata": {
    "collapsed": true
   },
   "outputs": [],
   "source": [
    "old_final = ['TGCTTT', 'GGGTTG', 'TGTGTG', 'GGATTT', 'GGCTTT', 'CCTCAT', 'CGGTTT', 'GGAGTT', 'TTGGTG', 'GAAGTT', 'GGGAAG', 'TGGGTT', 'CGTGAA', 'GGCGCA', 'TGCGTT', 'CGTGTG', 'GGCGGA', 'TTGGTC', 'AGCTTT', 'TGGGTG', 'TAGGTG', 'GCTGAT', 'TATTTT', 'CGGGAA', 'GGTGAA', 'CCTGAT', 'GTTGCG', 'CAGGTG', 'GTTTCG', 'TAAGTT', 'GGTGTG', 'GGTGCG', 'TGGTTG', 'GGTGCA', 'GGGGTT', 'GGGATG', 'TGGTTT', 'TGCTTC', 'GGTGAT', 'TACTTT', 'GGGGTG', 'GGTTCG']\n",
    "new_final = ['TGCTTT', 'GGGTTG', 'TGTGTG', 'GGATTT', 'GGCTTT', 'CCTCAT', 'CGGTTT', 'CGGGAA', 'AGCTTT', 'GAAGTT', 'GGGAAG', 'TGGGTT', 'CGTGAA', 'GGCGCA', 'TGCGTT', 'CGTGTG', 'GGCGGA', 'TTGGTC', 'TTGGTG', 'TGGGTG', 'TAGGTG', 'GCTGAT', 'TATTTT', 'GGAGTT', 'GGTGAA', 'CCTGAT', 'GTTGCG', 'CAGGTG', 'GTTTCG', 'TAAGTT', 'GGTGTG', 'GGTGCG', 'TGGTTG', 'GGGATG', 'GGGGTT', 'GGTGCA', 'TGGTTT', 'TGCTTC', 'GGTGAT', 'TACTTT', 'GGGGTG', 'GGTTCG']\n"
   ]
  },
  {
   "cell_type": "code",
   "execution_count": 24,
   "metadata": {
    "collapsed": false
   },
   "outputs": [
    {
     "data": {
      "text/plain": [
       "False"
      ]
     },
     "execution_count": 24,
     "metadata": {},
     "output_type": "execute_result"
    }
   ],
   "source": [
    "old_final == new_final"
   ]
  },
  {
   "cell_type": "code",
   "execution_count": null,
   "metadata": {
    "collapsed": true
   },
   "outputs": [],
   "source": [
    "#old\n",
    "set(['GGGTTG', 'TGTGTG', 'GGATTT', 'GGCTTT', 'CCTCAT', 'CGGTTT', 'GGAGTT', 'TTGGTG', 'GAAGTT', 'GGGAAG', 'TGGGTT', 'CGTGAA', 'GGCGCA', 'TGCGTT', 'CGTGTG', 'GGCGGA', 'TTGGTC', 'AGCTTT', 'TGGGTG', 'TAGGTG', 'GCTGAT', 'TATTTT', 'CGGGAA', 'GGTGAA', 'CCTGAT', 'GTTGCG', 'CAGGTG', 'GTTTCG', 'TAAGTT', 'GGTGTG', 'GGTGCG', 'TGGTTG', 'TGCTTT', 'GGTGCA', 'GGGGTT', 'GGGATG', 'TGGTTT', 'TGCTTC', 'GGTGAT', 'TACTTT', 'GGGGTG', 'GGTTCG'])\n",
    "set(['GGGTTG', 'TGTGTG', 'GGATTT', 'GGCTTT', 'CCTCAT', 'CGGTTT', 'CGGGAA', 'AGCTTT', 'GAAGTT', 'GGGAAG', 'TGGGTT', 'CGTGAA', 'GGCGCA', 'TGCGTT', 'CGTGTG', 'GGCGGA', 'TTGGTC', 'TTGGTG', 'TGGGTG', 'TAGGTG', 'GCTGAT', 'TATTTT', 'GGAGTT', 'GGTGAA', 'CCTGAT', 'GTTGCG', 'CAGGTG', 'GTTTCG', 'TAAGTT', 'GGTGTG', 'GGTGCG', 'TGGTTG', 'TGCTTT', 'GGGATG', 'GGGGTT', 'GGTGCA', 'TGGTTT', 'TGCTTC', 'GGTGAT', 'TACTTT', 'GGGGTG', 'GGTTCG'])\n",
    "\n",
    "{'GGGTTG': 1, 'TGTGTG': 1, 'GGATTT': 1, 'GGCTTT': 1, 'CCTCAT': 1, 'CGGTTT': 1, 'CGGGAA': 1, 'GGCGAG': 1, 'TTGGTG': 1, 'GAAGTT': 1, 'TGGGTT': 1, 'CGTGAA': 1, 'GGCGCA': 1, 'TGCGTT': 1, 'CGTGTG': 1, 'GGCGGA': 1, 'TTGGTC': 1, 'AGCTTT': 1, 'TGGGTG': 1, 'TAGGTG': 1, 'GCTGAT': 1, 'TATTTT': 1, 'GGAGTT': 1, 'GGTGCG': 1, 'CCTGAT': 1, 'GTTGCG': 1, 'CAGGTG': 1, 'GTTTCG': 1, 'TAAGTT': 1, 'GGGGTG': 1, 'GGGAAG': 1, 'GGTGAA': 1, 'TGGTTG': 1, 'GGTGTG': 1, 'GGTGCA': 1, 'GGGGTT': 1, 'GGGATG': 1, 'TGGTTT': 1, 'TGCTTC': 1, 'GGTGAT': 1, 'TACTTT': 1, 'TGCTTT': 2, 'GGTTCG': 1}\n",
    "['TGCTTT', 'GGGTTG', 'TGTGTG', 'GGATTT', 'GGCTTT', 'CCTCAT', 'CGGTTT', 'GGAGTT', 'TTGGTG', 'GAAGTT', 'GGGAAG', 'TGGGTT', 'CGTGAA', 'GGCGCA', 'TGCGTT', 'CGTGTG', 'GGCGGA', 'TTGGTC', 'AGCTTT', 'TGGGTG', 'TAGGTG', 'GCTGAT', 'TATTTT', 'CGGGAA', 'GGTGAA', 'CCTGAT', 'GTTGCG', 'CAGGTG', 'GTTTCG', 'TAAGTT', 'GGTGTG', 'GGTGCG', 'TGGTTG', 'GGTGCA', 'GGGGTT', 'GGGATG', 'TGGTTT', 'TGCTTC', 'GGTGAT', 'TACTTT', 'GGGGTG', 'GGTTCG']\n",
    "\n",
    "\n",
    "\n",
    "#new\n",
    "{'GGGTTG': 1, 'TGTGTG': 1, 'GGATTT': 1, 'GGCTTT': 1, 'CCTCAT': 1, 'CGGTTT': 1, 'CGGGAA': 1, 'GGCGAG': 1, 'TTGGTG': 1, 'GAAGTT': 1, 'TGGGTT': 1, 'CGTGAA': 1, 'GGCGCA': 1, 'TGCGTT': 1, 'CGTGTG': 1, 'GGCGGA': 1, 'TTGGTC': 1, 'AGCTTT': 1, 'TGGGTG': 1, 'TAGGTG': 1, 'GCTGAT': 1, 'TATTTT': 1, 'GGAGTT': 1, 'GGTGCG': 1, 'CCTGAT': 1, 'GTTGCG': 1, 'CAGGTG': 1, 'GTTTCG': 1, 'TAAGTT': 1, 'GGGGTG': 1, 'GGGAAG': 1, 'GGTGAA': 1, 'TGGTTG': 1, 'GGTGTG': 1, 'GGTGCA': 1, 'GGGGTT': 1, 'GGGATG': 1, 'TGGTTT': 1, 'TGCTTC': 1, 'GGTGAT': 1, 'TACTTT': 1, 'TGCTTT': 2, 'GGTTCG': 1}\n",
    "['TGCTTT', 'GGGTTG', 'TGTGTG', 'GGATTT', 'GGCTTT', 'CCTCAT', 'CGGTTT', 'CGGGAA', 'AGCTTT', 'GAAGTT', 'GGGAAG', 'TGGGTT', 'CGTGAA', 'GGCGCA', 'TGCGTT', 'CGTGTG', 'GGCGGA', 'TTGGTC', 'TTGGTG', 'TGGGTG', 'TAGGTG', 'GCTGAT', 'TATTTT', 'GGAGTT', 'GGTGAA', 'CCTGAT', 'GTTGCG', 'CAGGTG', 'GTTTCG', 'TAAGTT', 'GGTGTG', 'GGTGCG', 'TGGTTG', 'GGGATG', 'GGGGTT', 'GGTGCA', 'TGGTTT', 'TGCTTC', 'GGTGAT', 'TACTTT', 'GGGGTG', 'GGTTCG']\n"
   ]
  },
  {
   "cell_type": "code",
   "execution_count": 28,
   "metadata": {
    "collapsed": true
   },
   "outputs": [],
   "source": [
    "old_final_test = sorted(old_cluster, key=lambda x: old_counts[x],\n",
    "                 reverse=True)"
   ]
  },
  {
   "cell_type": "code",
   "execution_count": 38,
   "metadata": {
    "collapsed": true
   },
   "outputs": [],
   "source": [
    "new_final_test = sorted(new_cluster, key=lambda x: new_counts[x],\n",
    "                 reverse=True)"
   ]
  },
  {
   "cell_type": "code",
   "execution_count": 39,
   "metadata": {
    "collapsed": false
   },
   "outputs": [
    {
     "data": {
      "text/plain": [
       "True"
      ]
     },
     "execution_count": 39,
     "metadata": {},
     "output_type": "execute_result"
    }
   ],
   "source": [
    "old_final_test == new_final_test"
   ]
  },
  {
   "cell_type": "code",
   "execution_count": 32,
   "metadata": {
    "collapsed": false
   },
   "outputs": [
    {
     "data": {
      "text/plain": [
       "'TGCTTT GGGTTG TGTGTG GGATTT GGCTTT CCTCAT CGGTTT GGAGTT TTGGTG GAAGTT TGGGTT CGTGAA GGCGCA TGCGTT CGTGTG GGCGGA TTGGTC AGCTTT TGGGTG TAGGTG GCTGAT TATTTT CGGGAA GGTGCG CCTGAT GTTGCG CAGGTG GTTTCG TAAGTT GGGGTG GGTGTG GGTGAA TGGTTG GGGAAG GGGATG GGGGTT GGTGCA TGGTTT TGCTTC GGTGAT TACTTT GGTTCG'"
      ]
     },
     "execution_count": 32,
     "metadata": {},
     "output_type": "execute_result"
    }
   ],
   "source": [
    "\" \".join(new_final_test)"
   ]
  },
  {
   "cell_type": "code",
   "execution_count": 21,
   "metadata": {
    "collapsed": false
   },
   "outputs": [
    {
     "data": {
      "text/plain": [
       "True"
      ]
     },
     "execution_count": 21,
     "metadata": {},
     "output_type": "execute_result"
    }
   ],
   "source": [
    "new_counts == old_counts"
   ]
  },
  {
   "cell_type": "code",
   "execution_count": 22,
   "metadata": {
    "collapsed": false
   },
   "outputs": [
    {
     "data": {
      "text/plain": [
       "True"
      ]
     },
     "execution_count": 22,
     "metadata": {},
     "output_type": "execute_result"
    }
   ],
   "source": [
    "new_cluster == old_cluster"
   ]
  },
  {
   "cell_type": "code",
   "execution_count": 5,
   "metadata": {
    "collapsed": false
   },
   "outputs": [],
   "source": [
    "umi_getter = partial(umi_methods.get_umi_read_id, sep=\"_\")"
   ]
  },
  {
   "cell_type": "code",
   "execution_count": 19,
   "metadata": {
    "collapsed": false
   },
   "outputs": [
    {
     "data": {
      "text/plain": [
       "'TGCTTT\\\\|GGGTTG\\\\|TGTGTG\\\\|GGATTT\\\\|GGCTTT\\\\|CCTCAT\\\\|CGGTTT\\\\|CGGGAA\\\\|GGCGAG\\\\|AGCTTT\\\\|GAAGTT\\\\|GGGAAG\\\\|TGGGTT\\\\|CGTGAA\\\\|GGCGCA\\\\|TGCGTT\\\\|CGTGTG\\\\|GGCGGA\\\\|TTGGTC\\\\|TTGGTG\\\\|TGGGTG\\\\|TAGGTG\\\\|GCTGAT\\\\|TATTTT\\\\|GGAGTT\\\\|GGTGAA\\\\|CCTGAT\\\\|GTTGCG\\\\|CAGGTG\\\\|GTTTCG\\\\|TAAGTT\\\\|GGTGTG\\\\|GGTGCG\\\\|TGGTTG\\\\|GGGATG\\\\|GGGGTT\\\\|GGTGAG\\\\|CGTCAT\\\\|TGGTTT\\\\|TGCTTC\\\\|GGTGAT\\\\|TACTTT\\\\|GGGGTG\\\\|GGTGCA\\\\|GGTTCG'"
      ]
     },
     "execution_count": 19,
     "metadata": {},
     "output_type": "execute_result"
    }
   ],
   "source": [
    "'\\|'.join(['TGCTTT', 'GGGTTG', 'TGTGTG', 'GGATTT', 'GGCTTT', 'CCTCAT', 'CGGTTT', 'CGGGAA', 'GGCGAG', 'AGCTTT', 'GAAGTT', 'GGGAAG', 'TGGGTT', 'CGTGAA', 'GGCGCA', 'TGCGTT', 'CGTGTG', 'GGCGGA', 'TTGGTC', 'TTGGTG', 'TGGGTG', 'TAGGTG', 'GCTGAT', 'TATTTT', 'GGAGTT', 'GGTGAA', 'CCTGAT', 'GTTGCG', 'CAGGTG', 'GTTTCG', 'TAAGTT', 'GGTGTG', 'GGTGCG', 'TGGTTG', 'GGGATG', 'GGGGTT', 'GGTGAG', 'CGTCAT', 'TGGTTT', 'TGCTTC', 'GGTGAT', 'TACTTT', 'GGGGTG', 'GGTGCA', 'GGTTCG'])"
   ]
  },
  {
   "cell_type": "code",
   "execution_count": 6,
   "metadata": {
    "collapsed": false
   },
   "outputs": [
    {
     "ename": "ValueError",
     "evalue": "could not open file (mode='r') - is it SAM/BAM format?",
     "output_type": "error",
     "traceback": [
      "\u001b[0;31m---------------------------------------------------------------------------\u001b[0m",
      "\u001b[0;31mValueError\u001b[0m                                Traceback (most recent call last)",
      "\u001b[0;32m<ipython-input-6-60200f45b339>\u001b[0m in \u001b[0;36m<module>\u001b[0;34m()\u001b[0m\n\u001b[0;32m----> 1\u001b[0;31m \u001b[0minfile\u001b[0m \u001b[0;34m=\u001b[0m \u001b[0mpysam\u001b[0m\u001b[0;34m.\u001b[0m\u001b[0mSamfile\u001b[0m\u001b[0;34m(\u001b[0m\u001b[0;34m\"https://s3-us-west-1.amazonaws.com/sauron-yeo/NSUN2.bam\"\u001b[0m\u001b[0;34m)\u001b[0m\u001b[0;34m\u001b[0m\u001b[0m\n\u001b[0m\u001b[1;32m      2\u001b[0m \u001b[0minreads\u001b[0m \u001b[0;34m=\u001b[0m \u001b[0minfile\u001b[0m\u001b[0;34m.\u001b[0m\u001b[0mfetch\u001b[0m\u001b[0;34m(\u001b[0m\u001b[0mreference\u001b[0m\u001b[0;34m=\u001b[0m\u001b[0;34m\"tRNA-Pro-TGG-2-1_withgenomeflank\"\u001b[0m\u001b[0;34m)\u001b[0m\u001b[0;34m\u001b[0m\u001b[0m\n",
      "\u001b[0;32mpysam/libcalignmentfile.pyx\u001b[0m in \u001b[0;36mpysam.libcalignmentfile.AlignmentFile.__cinit__ (pysam/libcalignmentfile.c:5209)\u001b[0;34m()\u001b[0m\n",
      "\u001b[0;32mpysam/libcalignmentfile.pyx\u001b[0m in \u001b[0;36mpysam.libcalignmentfile.AlignmentFile._open (pysam/libcalignmentfile.c:7433)\u001b[0;34m()\u001b[0m\n",
      "\u001b[0;31mValueError\u001b[0m: could not open file (mode='r') - is it SAM/BAM format?"
     ]
    }
   ],
   "source": [
    "infile = pysam.Samfile(\"https://s3-us-west-1.amazonaws.com/sauron-yeo/NSUN2.bam\")\n",
    "inreads = infile.fetch(reference=\"tRNA-Pro-TGG-2-1_withgenomeflank\")"
   ]
  },
  {
   "cell_type": "code",
   "execution_count": null,
   "metadata": {
    "collapsed": true
   },
   "outputs": [],
   "source": [
    "infile = pysam.Samfile(\"/home/gpratt/projects/idr/analysis/umi_downsampling/452_CLIP_GAGATTCC-GGCTCTGA_L005_R1.A01_452_01_NSUN2.adapterTrim.round2.rmRep.sorted.adjusted.bam\")\n",
    "inreads = infile.fetch(reference=\"tRNA-Pro-TGG-2-1_withgenomeflank\")"
   ]
  },
  {
   "cell_type": "code",
   "execution_count": 11,
   "metadata": {
    "collapsed": true
   },
   "outputs": [],
   "source": [
    "def _group_directional(clusters, adj_list, counts):\n",
    "    ''' return groups for directional method'''\n",
    "\n",
    "    observed = set()\n",
    "    groups = []\n",
    "\n",
    "    for cluster in clusters:\n",
    "        if len(cluster) == 1:\n",
    "            groups.append(list(cluster))\n",
    "            observed.update(cluster)\n",
    "        else:\n",
    "            cluster = sorted(cluster, key=lambda x: counts[x],\n",
    "                             reverse=True)\n",
    "            # need to remove any node which has already been observed\n",
    "            temp_cluster = []\n",
    "            for node in cluster:\n",
    "                if node not in observed:\n",
    "                    temp_cluster.append(node)\n",
    "                    observed.add(node)\n",
    "            groups.append(temp_cluster)\n",
    "\n",
    "    return groups"
   ]
  },
  {
   "cell_type": "code",
   "execution_count": 13,
   "metadata": {
    "collapsed": false
   },
   "outputs": [
    {
     "data": {
      "text/plain": [
       "[['GGGCGG']]"
      ]
     },
     "execution_count": 13,
     "metadata": {},
     "output_type": "execute_result"
    }
   ],
   "source": [
    "groups_old"
   ]
  },
  {
   "cell_type": "code",
   "execution_count": 14,
   "metadata": {
    "collapsed": false
   },
   "outputs": [
    {
     "data": {
      "text/plain": [
       "[['GGGCGG']]"
      ]
     },
     "execution_count": 14,
     "metadata": {},
     "output_type": "execute_result"
    }
   ],
   "source": [
    "groups_new"
   ]
  },
  {
   "cell_type": "code",
   "execution_count": 12,
   "metadata": {
    "collapsed": false
   },
   "outputs": [],
   "source": [
    "infile = pysam.Samfile(\"/home/gpratt/software/UMI-tools/tests/unmapped.bam\")\n",
    "inreads = infile.fetch(until_eof=True)\n",
    "\n",
    "for bundle, read_events, status in umi_methods.get_bundles(inreads, \n",
    "                        ignore_umi=False,\n",
    "                        paired=True,\n",
    "                        soft_clip_threshold=4,\n",
    "                        detection_method=None,\n",
    "                        umi_getter=umi_getter):\n",
    "    #print len(bundle.keys())\n",
    "    umis = bundle.keys()\n",
    "    counts = {umi: bundle[umi][\"count\"] for umi in umis}\n",
    "    \n",
    "    adj_list = _get_adj_list_directional(umis, counts, 1)\n",
    "    old = _get_connected_components_adjacency_old(umis, adj_list, counts)\n",
    "    new = _get_connected_components_adjacency_new(umis, adj_list, counts)\n",
    "    \n",
    "    groups_old = [list(x) for x in\n",
    "              _group_directional(old, adj_list, counts)]\n",
    "    groups_new = [list(x) for x in\n",
    "              _group_directional(new, adj_list, counts)]\n",
    "    \n",
    "    if groups_old != groups_new:\n",
    "        print \"Error\""
   ]
  },
  {
   "cell_type": "code",
   "execution_count": 10,
   "metadata": {
    "collapsed": false
   },
   "outputs": [
    {
     "data": {
      "text/plain": [
       "[{'GGGCGG'}]"
      ]
     },
     "execution_count": 10,
     "metadata": {},
     "output_type": "execute_result"
    }
   ],
   "source": [
    "new"
   ]
  },
  {
   "cell_type": "code",
   "execution_count": 9,
   "metadata": {
    "collapsed": false
   },
   "outputs": [
    {
     "data": {
      "text/plain": [
       "[{'GGGCGG'}]"
      ]
     },
     "execution_count": 9,
     "metadata": {},
     "output_type": "execute_result"
    }
   ],
   "source": [
    "old"
   ]
  },
  {
   "cell_type": "code",
   "execution_count": 127,
   "metadata": {
    "collapsed": false
   },
   "outputs": [],
   "source": [
    "processor = network.ReadClusterer(\"directional\")"
   ]
  },
  {
   "cell_type": "code",
   "execution_count": 90,
   "metadata": {
    "collapsed": false
   },
   "outputs": [],
   "source": [
    "# reads, umis, umi_counts, topologies, nodes = processor(bundle=bundle,\n",
    "#                 threshold=1,\n",
    "#                 stats=False,\n",
    "#                 further_stats=False)"
   ]
  },
  {
   "cell_type": "code",
   "execution_count": 101,
   "metadata": {
    "collapsed": false
   },
   "outputs": [],
   "source": [
    "node = sorted(adj_list, key=lambda x: counts[x], reverse=True)[0]"
   ]
  },
  {
   "cell_type": "code",
   "execution_count": 119,
   "metadata": {
    "collapsed": false
   },
   "outputs": [
    {
     "data": {
      "text/plain": [
       "7475"
      ]
     },
     "execution_count": 119,
     "metadata": {},
     "output_type": "execute_result"
    }
   ],
   "source": [
    "len(breadth_first_search(node, adj_list))"
   ]
  },
  {
   "cell_type": "code",
   "execution_count": 118,
   "metadata": {
    "collapsed": false
   },
   "outputs": [
    {
     "data": {
      "text/plain": [
       "7475"
      ]
     },
     "execution_count": 118,
     "metadata": {},
     "output_type": "execute_result"
    }
   ],
   "source": [
    "len(breadth_first_search_new(node, adj_list))"
   ]
  },
  {
   "cell_type": "code",
   "execution_count": 122,
   "metadata": {
    "collapsed": false,
    "scrolled": true
   },
   "outputs": [
    {
     "name": "stderr",
     "output_type": "stream",
     "text": [
      "\n",
      "  0%|          | 0/30010 [00:00<?, ?it/s]\u001b[A\n",
      "  0%|          | 10/30010 [00:00<05:50, 85.62it/s]\u001b[A\n",
      "  0%|          | 22/30010 [00:00<05:29, 91.06it/s]\u001b[A\n",
      "  0%|          | 34/30010 [00:00<05:10, 96.58it/s]\u001b[A\n",
      "  0%|          | 43/30010 [00:00<05:26, 91.76it/s]\u001b[A\n",
      "  0%|          | 58/30010 [00:00<04:49, 103.51it/s]\u001b[A\n",
      "  0%|          | 68/30010 [00:00<05:06, 97.70it/s] \u001b[A\n",
      "  0%|          | 81/30010 [00:00<04:51, 102.83it/s]\u001b[A\n",
      "  0%|          | 92/30010 [00:00<04:56, 101.00it/s]\u001b[A\n",
      "  0%|          | 113/30010 [00:01<04:17, 116.30it/s]\u001b[A\n",
      "  0%|          | 126/30010 [00:01<04:27, 111.86it/s]\u001b[A\n",
      "  0%|          | 143/30010 [00:01<04:00, 123.98it/s]\u001b[A\n",
      "  1%|          | 159/30010 [00:01<03:57, 125.79it/s]\u001b[A\n",
      "  1%|          | 176/30010 [00:01<03:53, 127.67it/s]\u001b[A\n",
      "  1%|          | 196/30010 [00:01<03:33, 139.56it/s]\u001b[A\n",
      "  1%|          | 211/30010 [00:01<04:22, 113.58it/s]\u001b[A\n",
      "  1%|          | 224/30010 [00:01<04:23, 113.22it/s]\u001b[A\n",
      "  1%|          | 237/30010 [00:02<04:43, 104.95it/s]\u001b[A\n",
      "  1%|          | 250/30010 [00:02<04:33, 108.87it/s]\u001b[A\n",
      "  1%|          | 263/30010 [00:02<04:24, 112.26it/s]\u001b[A\n",
      "  1%|          | 275/30010 [00:02<04:21, 113.80it/s]\u001b[A\n",
      "  1%|          | 287/30010 [00:02<04:42, 105.16it/s]\u001b[A\n",
      "  1%|          | 302/30010 [00:02<04:26, 111.45it/s]\u001b[A\n",
      "  1%|          | 324/30010 [00:02<03:48, 130.12it/s]\u001b[A\n",
      "  1%|          | 339/30010 [00:02<04:10, 118.39it/s]\u001b[A\n",
      "  1%|          | 353/30010 [00:02<04:11, 117.98it/s]\u001b[A\n",
      "  1%|          | 366/30010 [00:03<04:15, 116.21it/s]\u001b[A\n",
      "  1%|▏         | 387/30010 [00:03<03:45, 131.24it/s]\u001b[A\n",
      "  1%|▏         | 402/30010 [00:03<04:13, 116.57it/s]\u001b[A\n",
      "  1%|▏         | 415/30010 [00:03<04:22, 112.61it/s]\u001b[A\n",
      "  1%|▏         | 431/30010 [00:03<04:06, 119.78it/s]\u001b[A\n",
      "\n",
      "  1%|▏         | 444/30010 [00:03<04:18, 114.59it/s]\u001b[A\n",
      "  2%|▏         | 460/30010 [00:03<03:59, 123.14it/s]\u001b[A\n",
      "  2%|▏         | 473/30010 [00:03<04:04, 120.71it/s]\u001b[A\n",
      "  2%|▏         | 495/30010 [00:04<03:33, 137.98it/s]\u001b[A\n",
      "  2%|▏         | 510/30010 [00:04<03:35, 137.01it/s]\u001b[A\n",
      "  2%|▏         | 528/30010 [00:04<03:28, 141.72it/s]\u001b[A\n",
      "  2%|▏         | 543/30010 [00:04<03:36, 136.15it/s]\u001b[A\n",
      "  2%|▏         | 558/30010 [00:04<03:37, 135.67it/s]\u001b[A\n",
      "  2%|▏         | 572/30010 [00:04<04:22, 111.98it/s]\u001b[A\n",
      "  2%|▏         | 585/30010 [00:04<04:33, 107.53it/s]\u001b[A\n",
      "  2%|▏         | 597/30010 [00:04<05:06, 96.12it/s] \u001b[A\n",
      "  2%|▏         | 616/30010 [00:05<04:25, 110.82it/s]\u001b[A\n",
      "  2%|▏         | 629/30010 [00:05<04:45, 102.76it/s]\u001b[A\n",
      "  2%|▏         | 647/30010 [00:05<04:18, 113.79it/s]\u001b[A\n",
      "  2%|▏         | 665/30010 [00:05<03:50, 127.26it/s]\u001b[A\n",
      "  2%|▏         | 680/30010 [00:05<04:10, 117.27it/s]\u001b[A\n",
      "  2%|▏         | 695/30010 [00:05<04:03, 120.32it/s]\u001b[A\n",
      "  2%|▏         | 708/30010 [00:05<04:47, 101.87it/s]\u001b[A\n",
      "  2%|▏         | 720/30010 [00:06<04:44, 102.80it/s]\u001b[A\n",
      "  2%|▏         | 731/30010 [00:06<07:21, 66.34it/s] \u001b[A\n",
      "  2%|▏         | 750/30010 [00:06<05:57, 81.75it/s]\u001b[A\n",
      "  3%|▎         | 762/30010 [00:06<05:37, 86.60it/s]\u001b[A\n",
      "  3%|▎         | 774/30010 [00:06<05:26, 89.68it/s]\u001b[A\n",
      "  3%|▎         | 786/30010 [00:06<05:05, 95.81it/s]\u001b[A\n",
      "  3%|▎         | 797/30010 [00:06<05:07, 95.06it/s]\u001b[A\n",
      "  3%|▎         | 816/30010 [00:07<04:27, 109.06it/s]\u001b[A\n",
      "  3%|▎         | 829/30010 [00:07<04:59, 97.50it/s] \u001b[A\n",
      "  3%|▎         | 843/30010 [00:07<04:42, 103.07it/s]\u001b[A\n",
      "  3%|▎         | 855/30010 [00:07<04:46, 101.92it/s]\u001b[A\n",
      "  3%|▎         | 867/30010 [00:07<04:45, 102.25it/s]\u001b[A\n",
      "  3%|▎         | 886/30010 [00:07<04:09, 116.64it/s]\u001b[A\n",
      "  3%|▎         | 901/30010 [00:07<04:04, 119.15it/s]\u001b[A\n",
      "  3%|▎         | 914/30010 [00:07<04:35, 105.59it/s]\u001b[A\n",
      "  3%|▎         | 926/30010 [00:08<04:33, 106.36it/s]\u001b[A\n",
      "  3%|▎         | 938/30010 [00:08<04:32, 106.56it/s]\u001b[A\n",
      "  3%|▎         | 957/30010 [00:08<03:59, 121.26it/s]\u001b[A\n",
      "  3%|▎         | 972/30010 [00:08<03:46, 128.26it/s]\u001b[A\n",
      "  3%|▎         | 992/30010 [00:08<03:24, 142.18it/s]\u001b[A\n",
      "  3%|▎         | 1011/30010 [00:08<03:09, 153.16it/s]\u001b[A\n",
      "  3%|▎         | 1032/30010 [00:08<03:03, 158.16it/s]\u001b[A\n",
      "  3%|▎         | 1049/30010 [00:08<03:35, 134.36it/s]\u001b[A\n",
      "  4%|▎         | 1064/30010 [00:09<04:13, 114.31it/s]\u001b[A\n",
      "  4%|▎         | 1077/30010 [00:09<04:51, 99.15it/s] \u001b[A\n",
      "  4%|▎         | 1089/30010 [00:09<04:54, 98.29it/s]\u001b[A\n",
      "  4%|▎         | 1100/30010 [00:09<05:14, 91.80it/s]\u001b[A\n",
      "  4%|▎         | 1119/30010 [00:09<04:30, 106.97it/s]\u001b[A\n",
      "  4%|▍         | 1132/30010 [00:09<04:46, 100.70it/s]\u001b[A\n",
      "  4%|▍         | 1146/30010 [00:09<04:26, 108.33it/s]\u001b[A\n",
      "  4%|▍         | 1166/30010 [00:09<03:54, 123.07it/s]\u001b[A\n",
      "  4%|▍         | 1180/30010 [00:10<04:13, 113.78it/s]\u001b[A\n",
      "  4%|▍         | 1193/30010 [00:10<04:17, 112.00it/s]\u001b[A\n",
      "  4%|▍         | 1205/30010 [00:10<04:23, 109.49it/s]\u001b[A\n",
      "  4%|▍         | 1227/30010 [00:10<03:43, 128.57it/s]\u001b[A\n",
      "  4%|▍         | 1247/30010 [00:10<03:25, 140.24it/s]\u001b[A\n",
      "  4%|▍         | 1263/30010 [00:10<03:43, 128.78it/s]\u001b[A\n",
      "  4%|▍         | 1278/30010 [00:10<04:00, 119.33it/s]\u001b[A\n",
      "  4%|▍         | 1291/30010 [00:10<04:33, 105.06it/s]\u001b[A\n",
      "  4%|▍         | 1304/30010 [00:11<04:21, 109.72it/s]\u001b[A\n",
      "  4%|▍         | 1324/30010 [00:11<03:47, 125.84it/s]\u001b[A\n",
      "  4%|▍         | 1348/30010 [00:11<03:18, 144.66it/s]\u001b[A\n",
      "  5%|▍         | 1365/30010 [00:11<03:11, 149.56it/s]\u001b[A\n",
      "  5%|▍         | 1385/30010 [00:11<03:02, 156.68it/s]\u001b[A\n",
      "  5%|▍         | 1407/30010 [00:11<03:52, 123.05it/s]\u001b[A\n",
      "  5%|▍         | 1423/30010 [00:11<03:45, 126.66it/s]\u001b[A\n",
      "  5%|▍         | 1445/30010 [00:12<03:17, 144.64it/s]\u001b[A\n",
      "  5%|▍         | 1464/30010 [00:12<03:14, 146.52it/s]\u001b[A\n",
      "  5%|▍         | 1480/30010 [00:12<03:41, 128.88it/s]\u001b[A\n",
      "  5%|▍         | 1497/30010 [00:12<03:31, 134.97it/s]\u001b[A\n",
      "  5%|▌         | 1515/30010 [00:12<03:20, 142.46it/s]\u001b[A\n",
      "  5%|▌         | 1535/30010 [00:12<03:08, 150.68it/s]\u001b[A\n",
      "  5%|▌         | 1551/30010 [00:12<03:17, 144.01it/s]\u001b[A\n",
      "  5%|▌         | 1566/30010 [00:12<03:43, 127.48it/s]\u001b[A\n",
      "  5%|▌         | 1584/30010 [00:13<03:25, 138.45it/s]\u001b[A\n",
      "  5%|▌         | 1604/30010 [00:13<03:08, 150.47it/s]\u001b[A\n",
      "  5%|▌         | 1625/30010 [00:13<02:58, 158.91it/s]\u001b[A\n",
      "  5%|▌         | 1645/30010 [00:13<02:51, 165.39it/s]\u001b[A\n",
      "  6%|▌         | 1663/30010 [00:13<02:53, 163.03it/s]\u001b[A\n",
      "  6%|▌         | 1680/30010 [00:13<02:59, 157.87it/s]\u001b[A\n",
      "  6%|▌         | 1698/30010 [00:13<02:58, 158.20it/s]\u001b[A\n",
      "  6%|▌         | 1732/30010 [00:13<02:31, 186.83it/s]\u001b[A\n",
      "  6%|▌         | 1753/30010 [00:13<02:37, 179.39it/s]\u001b[A\n",
      "  6%|▌         | 1778/30010 [00:14<02:27, 191.36it/s]\u001b[A\n",
      "  6%|▌         | 1799/30010 [00:14<02:26, 191.95it/s]\u001b[A\n",
      "  6%|▌         | 1827/30010 [00:14<02:17, 204.79it/s]\u001b[A\n",
      "  6%|▌         | 1849/30010 [00:14<02:20, 201.13it/s]\u001b[A\n",
      "  6%|▌         | 1870/30010 [00:14<02:24, 194.24it/s]\u001b[A\n",
      "  6%|▋         | 1890/30010 [00:14<02:38, 177.69it/s]\u001b[A\n",
      "  6%|▋         | 1909/30010 [00:14<02:42, 173.22it/s]\u001b[A\n",
      "  6%|▋         | 1927/30010 [00:14<02:46, 168.54it/s]\u001b[A\n",
      "  7%|▋         | 1967/30010 [00:14<02:17, 203.71it/s]\u001b[A\n",
      "  7%|▋         | 1992/30010 [00:15<02:14, 208.37it/s]\u001b[A\n",
      "  7%|▋         | 2031/30010 [00:15<01:58, 236.18it/s]\u001b[A\n",
      "  7%|▋         | 2058/30010 [00:15<01:56, 239.53it/s]\u001b[A\n",
      "  7%|▋         | 2085/30010 [00:15<02:41, 172.91it/s]\u001b[A\n",
      "  7%|▋         | 2108/30010 [00:15<02:31, 183.99it/s]\u001b[A\n",
      "  7%|▋         | 2134/30010 [00:15<02:20, 198.67it/s]\u001b[A\n",
      "  7%|▋         | 2157/30010 [00:16<03:19, 139.82it/s]\u001b[A\n",
      "  7%|▋         | 2176/30010 [00:16<03:07, 148.10it/s]\u001b[A\n",
      "  7%|▋         | 2197/30010 [00:16<02:53, 159.86it/s]\u001b[A\n",
      "  7%|▋         | 2234/30010 [00:16<02:27, 188.52it/s]\u001b[A\n",
      "  8%|▊         | 2262/30010 [00:16<02:14, 206.70it/s]\u001b[A\n",
      "  8%|▊         | 2289/30010 [00:16<02:07, 218.26it/s]\u001b[A\n",
      "  8%|▊         | 2326/30010 [00:16<01:52, 245.76it/s]\u001b[A\n",
      "  8%|▊         | 2354/30010 [00:16<01:52, 245.89it/s]\u001b[A\n",
      "  8%|▊         | 2381/30010 [00:16<01:58, 233.21it/s]\u001b[A\n",
      "  8%|▊         | 2406/30010 [00:17<02:00, 229.60it/s]\u001b[A\n",
      "  8%|▊         | 2439/30010 [00:17<01:51, 246.79it/s]\u001b[A\n",
      "  8%|▊         | 2465/30010 [00:17<01:51, 246.58it/s]\u001b[A\n",
      "  8%|▊         | 2494/30010 [00:17<01:49, 251.82it/s]\u001b[A\n",
      "  8%|▊         | 2520/30010 [00:17<01:54, 239.11it/s]\u001b[A\n",
      "  8%|▊         | 2545/30010 [00:17<02:02, 223.88it/s]\u001b[A\n",
      "  9%|▊         | 2576/30010 [00:17<01:56, 235.14it/s]\u001b[A\n",
      "  9%|▊         | 2607/30010 [00:17<01:49, 249.75it/s]\u001b[A\n",
      "  9%|▉         | 2633/30010 [00:18<02:15, 202.66it/s]\u001b[A\n",
      "  9%|▉         | 2660/30010 [00:18<02:06, 215.37it/s]\u001b[A\n",
      "  9%|▉         | 2684/30010 [00:18<02:22, 191.75it/s]\u001b[A\n",
      "  9%|▉         | 2711/30010 [00:18<02:14, 203.31it/s]\u001b[A\n",
      "  9%|▉         | 2734/30010 [00:18<02:13, 204.37it/s]\u001b[A\n",
      "  9%|▉         | 2756/30010 [00:18<02:11, 207.79it/s]\u001b[A\n",
      "  9%|▉         | 2778/30010 [00:18<02:20, 193.80it/s]\u001b[A\n",
      "  9%|▉         | 2805/30010 [00:18<02:12, 205.70it/s]\u001b[A\n",
      "  9%|▉         | 2827/30010 [00:18<02:12, 204.41it/s]\u001b[A\n",
      " 10%|▉         | 2863/30010 [00:19<01:57, 231.61it/s]\u001b[A\n",
      " 10%|▉         | 2889/30010 [00:19<01:58, 229.07it/s]\u001b[A\n",
      " 10%|▉         | 2913/30010 [00:19<01:58, 229.62it/s]\u001b[A\n",
      " 10%|▉         | 2937/30010 [00:19<02:38, 170.43it/s]\u001b[A\n",
      " 10%|▉         | 2957/30010 [00:19<02:48, 160.45it/s]\u001b[A\n",
      " 10%|▉         | 2976/30010 [00:19<02:46, 162.39it/s]\u001b[A\n",
      " 10%|█         | 3002/30010 [00:19<02:29, 180.60it/s]\u001b[A\n",
      " 10%|█         | 3028/30010 [00:19<02:15, 198.59it/s]\u001b[A\n",
      " 10%|█         | 3057/30010 [00:20<02:06, 213.82it/s]\u001b[A\n",
      " 10%|█         | 3086/30010 [00:20<01:57, 229.87it/s]\u001b[A\n",
      " 10%|█         | 3111/30010 [00:20<01:56, 231.05it/s]\u001b[A\n",
      " 10%|█         | 3136/30010 [00:20<01:59, 224.75it/s]\u001b[A\n",
      " 11%|█         | 3165/30010 [00:20<01:53, 237.37it/s]\u001b[A\n",
      " 11%|█         | 3190/30010 [00:20<02:00, 221.87it/s]\u001b[A\n",
      " 11%|█         | 3215/30010 [00:20<01:59, 224.98it/s]\u001b[A\n",
      " 11%|█         | 3247/30010 [00:20<01:49, 245.15it/s]\u001b[A\n",
      " 11%|█         | 3274/30010 [00:20<01:46, 251.61it/s]\u001b[A\n",
      " 11%|█         | 3300/30010 [00:21<01:48, 245.41it/s]\u001b[A\n",
      " 11%|█         | 3341/30010 [00:21<01:36, 275.23it/s]\u001b[A\n",
      " 11%|█         | 3371/30010 [00:21<01:54, 232.47it/s]\u001b[A\n",
      " 11%|█▏        | 3398/30010 [00:21<01:50, 240.69it/s]\u001b[A\n",
      " 11%|█▏        | 3424/30010 [00:21<01:49, 242.64it/s]\u001b[A\n",
      " 11%|█▏        | 3450/30010 [00:21<01:50, 240.01it/s]\u001b[A\n",
      " 12%|█▏        | 3475/30010 [00:21<01:54, 232.37it/s]\u001b[A\n",
      " 12%|█▏        | 3499/30010 [00:21<02:03, 214.87it/s]\u001b[A\n",
      " 12%|█▏        | 3524/30010 [00:22<01:58, 222.95it/s]\u001b[A\n",
      " 12%|█▏        | 3547/30010 [00:22<02:17, 192.79it/s]\u001b[A\n",
      " 12%|█▏        | 3570/30010 [00:22<02:12, 199.84it/s]\u001b[A\n",
      " 12%|█▏        | 3591/30010 [00:22<02:27, 178.99it/s]\u001b[A\n",
      " 12%|█▏        | 3610/30010 [00:22<02:25, 181.33it/s]\u001b[A\n",
      " 12%|█▏        | 3632/30010 [00:22<02:18, 191.01it/s]\u001b[A\n",
      " 12%|█▏        | 3652/30010 [00:22<02:25, 181.64it/s]\u001b[A\n",
      " 12%|█▏        | 3679/30010 [00:22<02:12, 198.22it/s]\u001b[A\n",
      " 12%|█▏        | 3700/30010 [00:23<03:02, 144.18it/s]\u001b[A\n",
      " 12%|█▏        | 3718/30010 [00:23<03:00, 145.53it/s]\u001b[A\n",
      " 12%|█▏        | 3742/30010 [00:23<02:39, 164.85it/s]\u001b[A\n",
      " 13%|█▎        | 3762/30010 [00:23<02:30, 173.86it/s]\u001b[A\n",
      " 13%|█▎        | 3782/30010 [00:23<02:35, 168.50it/s]\u001b[A\n",
      " 13%|█▎        | 3801/30010 [00:23<02:41, 162.71it/s]\u001b[A\n",
      " 13%|█▎        | 3819/30010 [00:23<02:48, 155.25it/s]\u001b[A\n",
      " 13%|█▎        | 3836/30010 [00:23<02:44, 159.11it/s]\u001b[A\n",
      " 13%|█▎        | 3861/30010 [00:24<02:31, 172.40it/s]\u001b[A\n",
      " 13%|█▎        | 3907/30010 [00:24<02:04, 209.30it/s]\u001b[A\n",
      " 13%|█▎        | 3948/30010 [00:24<01:49, 238.07it/s]\u001b[A\n",
      " 13%|█▎        | 3977/30010 [00:24<01:57, 222.26it/s]\u001b[A\n",
      " 13%|█▎        | 4007/30010 [00:24<01:51, 233.82it/s]\u001b[A\n",
      " 13%|█▎        | 4033/30010 [00:24<01:53, 228.24it/s]\u001b[A\n",
      " 14%|█▎        | 4058/30010 [00:24<02:08, 201.81it/s]\u001b[A\n",
      " 14%|█▎        | 4080/30010 [00:24<02:09, 199.50it/s]\u001b[A\n",
      " 14%|█▎        | 4106/30010 [00:25<02:05, 206.76it/s]\u001b[A\n",
      " 14%|█▍        | 4128/30010 [00:25<02:04, 208.61it/s]\u001b[A\n",
      " 14%|█▍        | 4153/30010 [00:25<02:03, 209.67it/s]\u001b[A\n",
      " 14%|█▍        | 4175/30010 [00:25<02:02, 211.38it/s]\u001b[A\n",
      " 14%|█▍        | 4202/30010 [00:25<01:57, 219.28it/s]\u001b[A\n",
      " 14%|█▍        | 4225/30010 [00:25<01:59, 216.48it/s]\u001b[A\n",
      " 14%|█▍        | 4247/30010 [00:25<02:02, 210.13it/s]\u001b[A\n",
      " 14%|█▍        | 4275/30010 [00:25<01:54, 223.87it/s]\u001b[A\n",
      " 14%|█▍        | 4299/30010 [00:25<01:53, 226.80it/s]\u001b[A\n",
      " 14%|█▍        | 4324/30010 [00:25<01:51, 229.77it/s]\u001b[A\n",
      " 14%|█▍        | 4349/30010 [00:26<01:51, 230.98it/s]\u001b[A\n",
      " 15%|█▍        | 4381/30010 [00:26<01:42, 249.00it/s]\u001b[A\n",
      " 15%|█▍        | 4407/30010 [00:26<01:44, 244.29it/s]\u001b[A\n",
      " 15%|█▍        | 4432/30010 [00:26<01:44, 244.29it/s]\u001b[A\n",
      " 15%|█▍        | 4457/30010 [00:26<01:54, 223.99it/s]\u001b[A\n",
      " 15%|█▍        | 4480/30010 [00:27<07:10, 59.28it/s] \u001b[A\n",
      " 15%|█▌        | 4507/30010 [00:27<05:30, 77.06it/s]\u001b[A\n",
      " 15%|█▌        | 4533/30010 [00:27<04:23, 96.75it/s]\u001b[A\n",
      " 15%|█▌        | 4557/30010 [00:27<03:39, 116.20it/s]\u001b[A\n",
      " 15%|█▌        | 4579/30010 [00:28<03:09, 134.01it/s]\u001b[A\n",
      " 15%|█▌        | 4605/30010 [00:28<02:46, 152.89it/s]\u001b[A\n",
      " 15%|█▌        | 4627/30010 [00:28<03:07, 135.54it/s]\u001b[A\n",
      " 15%|█▌        | 4651/30010 [00:28<02:48, 150.94it/s]\u001b[A\n",
      " 16%|█▌        | 4676/30010 [00:28<02:29, 169.91it/s]\u001b[A\n",
      " 16%|█▌        | 4699/30010 [00:28<02:21, 179.40it/s]\u001b[A\n",
      " 16%|█▌        | 4730/30010 [00:28<02:05, 201.68it/s]\u001b[A\n",
      " 16%|█▌        | 4758/30010 [00:28<01:59, 211.44it/s]\u001b[A\n",
      " 16%|█▌        | 4782/30010 [00:29<02:00, 209.89it/s]\u001b[A\n",
      " 16%|█▌        | 4805/30010 [00:29<02:04, 203.21it/s]\u001b[A\n",
      " 16%|█▌        | 4827/30010 [00:29<02:16, 184.61it/s]\u001b[A\n",
      " 16%|█▌        | 4852/30010 [00:29<02:06, 199.38it/s]\u001b[A\n",
      " 16%|█▌        | 4874/30010 [00:29<02:07, 197.01it/s]\u001b[A\n",
      " 16%|█▋        | 4895/30010 [00:29<02:18, 180.99it/s]\u001b[A\n",
      " 16%|█▋        | 4914/30010 [00:29<02:19, 180.23it/s]\u001b[A\n",
      " 16%|█▋        | 4941/30010 [00:29<02:07, 196.30it/s]\u001b[A\n",
      " 17%|█▋        | 4970/30010 [00:29<01:56, 214.28it/s]\u001b[A\n",
      " 17%|█▋        | 5000/30010 [00:30<01:50, 227.33it/s]\u001b[A\n",
      " 17%|█▋        | 5024/30010 [00:30<01:51, 224.03it/s]\u001b[A\n",
      " 17%|█▋        | 5049/30010 [00:30<01:52, 221.11it/s]\u001b[A\n",
      " 17%|█▋        | 5080/30010 [00:30<01:45, 235.87it/s]\u001b[A\n",
      " 17%|█▋        | 5105/30010 [00:30<01:45, 236.51it/s]\u001b[A\n",
      " 17%|█▋        | 5137/30010 [00:30<01:42, 241.62it/s]\u001b[A\n",
      " 17%|█▋        | 5172/30010 [00:30<01:34, 263.76it/s]\u001b[A\n",
      " 17%|█▋        | 5200/30010 [00:30<01:36, 255.88it/s]\u001b[A\n",
      " 17%|█▋        | 5232/30010 [00:31<01:36, 258.01it/s]\u001b[A\n",
      " 18%|█▊        | 5259/30010 [00:31<02:13, 185.02it/s]\u001b[A\n",
      " 18%|█▊        | 5286/30010 [00:31<02:02, 201.46it/s]\u001b[A\n",
      " 18%|█▊        | 5311/30010 [00:31<02:00, 204.31it/s]\u001b[A\n",
      " 18%|█▊        | 5340/30010 [00:31<01:51, 220.37it/s]\u001b[A\n",
      " 18%|█▊        | 5364/30010 [00:31<01:54, 214.75it/s]\u001b[A\n",
      " 18%|█▊        | 5400/30010 [00:31<01:42, 241.12it/s]\u001b[A\n",
      " 18%|█▊        | 5427/30010 [00:31<01:38, 248.99it/s]\u001b[A\n",
      " 18%|█▊        | 5461/30010 [00:32<01:32, 266.21it/s]\u001b[A\n",
      " 18%|█▊        | 5489/30010 [00:32<01:43, 237.76it/s]\u001b[A\n",
      " 18%|█▊        | 5515/30010 [00:32<01:53, 215.82it/s]\u001b[A\n",
      " 18%|█▊        | 5540/30010 [00:32<01:51, 218.63it/s]\u001b[A\n",
      " 19%|█▊        | 5563/30010 [00:32<02:02, 199.46it/s]\u001b[A\n",
      " 19%|█▊        | 5584/30010 [00:32<02:01, 201.86it/s]\u001b[A\n",
      " 19%|█▊        | 5605/30010 [00:32<01:59, 204.07it/s]\u001b[A\n",
      " 19%|█▊        | 5626/30010 [00:32<02:13, 182.29it/s]\u001b[A\n",
      " 19%|█▉        | 5646/30010 [00:33<02:25, 166.98it/s]\u001b[A\n",
      " 19%|█▉        | 5682/30010 [00:33<02:05, 194.47it/s]\u001b[A\n",
      " 19%|█▉        | 5704/30010 [00:33<02:18, 175.39it/s]\u001b[A\n",
      " 19%|█▉        | 5732/30010 [00:33<02:03, 196.39it/s]\u001b[A\n",
      " 19%|█▉        | 5754/30010 [00:33<02:03, 196.27it/s]\u001b[A\n",
      " 19%|█▉        | 5777/30010 [00:33<02:03, 196.98it/s]\u001b[A\n",
      " 19%|█▉        | 5798/30010 [00:33<02:13, 180.85it/s]\u001b[A\n",
      " 19%|█▉        | 5818/30010 [00:33<02:19, 174.01it/s]\u001b[A\n",
      " 19%|█▉        | 5842/30010 [00:34<02:08, 187.93it/s]\u001b[A\n",
      " 20%|█▉        | 5867/30010 [00:34<02:02, 196.53it/s]\u001b[A\n",
      " 20%|█▉        | 5888/30010 [00:34<02:10, 184.46it/s]\u001b[A\n",
      " 20%|█▉        | 5908/30010 [00:34<02:16, 176.79it/s]\u001b[A\n",
      " 20%|█▉        | 5944/30010 [00:34<01:59, 202.10it/s]\u001b[A\n",
      " 20%|█▉        | 5966/30010 [00:34<02:04, 192.81it/s]\u001b[A\n",
      " 20%|█▉        | 5987/30010 [00:34<02:14, 178.18it/s]\u001b[A\n",
      " 20%|██        | 6007/30010 [00:34<02:12, 180.98it/s]\u001b[A\n",
      " 20%|██        | 6026/30010 [00:35<02:40, 149.39it/s]\u001b[A\n",
      " 20%|██        | 6047/30010 [00:35<02:31, 158.67it/s]\u001b[A\n",
      " 20%|██        | 6070/30010 [00:35<02:21, 169.25it/s]\u001b[A\n",
      " 20%|██        | 6100/30010 [00:35<02:04, 191.78it/s]\u001b[A\n",
      " 20%|██        | 6121/30010 [00:35<02:02, 195.51it/s]\u001b[A\n",
      " 21%|██        | 6153/30010 [00:35<01:52, 212.71it/s]\u001b[A\n",
      " 21%|██        | 6181/30010 [00:35<01:48, 220.47it/s]\u001b[A\n",
      " 21%|██        | 6205/30010 [00:35<01:51, 213.76it/s]\u001b[A\n",
      " 21%|██        | 6228/30010 [00:35<01:49, 216.46it/s]\u001b[A\n",
      " 21%|██        | 6251/30010 [00:36<02:06, 187.95it/s]\u001b[A\n",
      " 21%|██        | 6282/30010 [00:36<01:54, 207.89it/s]\u001b[A\n",
      " 21%|██        | 6305/30010 [00:36<02:29, 158.36it/s]\u001b[A\n",
      " 21%|██        | 6337/30010 [00:36<02:07, 185.04it/s]\u001b[A\n",
      " 21%|██        | 6360/30010 [00:36<02:02, 192.48it/s]\u001b[A\n",
      " 21%|██▏       | 6385/30010 [00:36<01:56, 202.07it/s]\u001b[A\n",
      " 21%|██▏       | 6408/30010 [00:36<01:59, 196.87it/s]\u001b[A\n",
      " 21%|██▏       | 6430/30010 [00:36<01:57, 200.30it/s]\u001b[A\n",
      " 22%|██▏       | 6458/30010 [00:37<01:48, 216.96it/s]\u001b[A\n",
      " 22%|██▏       | 6481/30010 [00:37<02:01, 194.38it/s]\u001b[A\n",
      " 22%|██▏       | 6512/30010 [00:37<01:47, 217.89it/s]\u001b[A\n",
      " 22%|██▏       | 6536/30010 [00:37<02:07, 184.61it/s]\u001b[A\n",
      " 22%|██▏       | 6557/30010 [00:37<02:08, 182.80it/s]\u001b[A\n",
      " 22%|██▏       | 6577/30010 [00:37<02:05, 187.40it/s]\u001b[A\n",
      " 22%|██▏       | 6597/30010 [00:37<02:10, 180.07it/s]\u001b[A\n",
      " 22%|██▏       | 6616/30010 [00:37<02:10, 179.91it/s]\u001b[A\n",
      " 22%|██▏       | 6638/30010 [00:38<02:06, 184.97it/s]\u001b[A\n",
      " 22%|██▏       | 6669/30010 [00:38<01:54, 204.26it/s]\u001b[A\n",
      " 22%|██▏       | 6691/30010 [00:38<02:04, 186.66it/s]\u001b[A\n",
      " 22%|██▏       | 6711/30010 [00:38<02:15, 171.62it/s]\u001b[A\n",
      " 22%|██▏       | 6730/30010 [00:38<02:29, 155.70it/s]\u001b[A\n",
      " 23%|██▎       | 6759/30010 [00:38<02:11, 177.35it/s]\u001b[A\n",
      " 23%|██▎       | 6782/30010 [00:38<02:07, 182.48it/s]\u001b[A\n",
      " 23%|██▎       | 6803/30010 [00:39<02:33, 151.16it/s]\u001b[A\n",
      " 23%|██▎       | 6820/30010 [00:39<02:43, 141.92it/s]\u001b[A\n",
      " 23%|██▎       | 6849/30010 [00:39<02:21, 164.14it/s]\u001b[A\n",
      " 23%|██▎       | 6868/30010 [00:39<02:17, 167.78it/s]\u001b[A\n",
      " 23%|██▎       | 6897/30010 [00:39<02:02, 188.88it/s]\u001b[A\n",
      " 23%|██▎       | 6918/30010 [00:39<02:02, 188.33it/s]\u001b[A\n",
      " 23%|██▎       | 6945/30010 [00:39<01:52, 204.82it/s]\u001b[A\n",
      " 23%|██▎       | 6967/30010 [00:39<01:51, 206.67it/s]\u001b[A\n",
      " 23%|██▎       | 6989/30010 [00:39<02:01, 190.21it/s]\u001b[A\n",
      " 23%|██▎       | 7010/30010 [00:40<01:58, 194.43it/s]\u001b[A\n",
      " 23%|██▎       | 7033/30010 [00:40<01:56, 197.04it/s]\u001b[A\n",
      " 24%|██▎       | 7063/30010 [00:40<01:46, 214.80it/s]\u001b[A\n",
      " 24%|██▎       | 7098/30010 [00:40<01:34, 242.89it/s]\u001b[A\n",
      " 24%|██▎       | 7125/30010 [00:40<01:41, 226.36it/s]\u001b[A\n",
      " 24%|██▍       | 7150/30010 [00:40<01:39, 230.71it/s]\u001b[A\n",
      " 24%|██▍       | 7175/30010 [00:40<01:40, 227.13it/s]\u001b[A\n",
      " 24%|██▍       | 7207/30010 [00:40<01:31, 248.79it/s]\u001b[A\n",
      " 24%|██▍       | 7241/30010 [00:40<01:26, 264.42it/s]\u001b[A\n",
      " 24%|██▍       | 7269/30010 [00:41<01:28, 255.91it/s]\u001b[A\n",
      " 24%|██▍       | 7296/30010 [00:41<01:27, 259.69it/s]\u001b[A\n",
      " 24%|██▍       | 7326/30010 [00:41<01:24, 268.69it/s]\u001b[A\n",
      " 25%|██▍       | 7354/30010 [00:41<01:35, 237.72it/s]\u001b[A\n",
      " 25%|██▍       | 7379/30010 [00:41<01:41, 222.71it/s]\u001b[A\n",
      " 25%|██▍       | 7403/30010 [00:41<01:45, 214.65it/s]\u001b[A\n",
      " 25%|██▍       | 7426/30010 [00:41<01:45, 214.63it/s]\u001b[A\n",
      " 25%|██▍       | 7454/30010 [00:41<01:38, 228.74it/s]\u001b[A\n",
      " 25%|██▍       | 7481/30010 [00:41<01:34, 238.83it/s]\u001b[A\n",
      " 25%|██▌       | 7506/30010 [00:42<01:40, 223.61it/s]\u001b[A\n",
      " 25%|██▌       | 7530/30010 [00:42<01:40, 224.12it/s]\u001b[A\n",
      " 25%|██▌       | 7565/30010 [00:42<01:29, 250.07it/s]\u001b[A\n",
      " 25%|██▌       | 7592/30010 [00:42<01:48, 206.99it/s]\u001b[A\n",
      " 25%|██▌       | 7625/30010 [00:42<01:37, 228.94it/s]\u001b[A\n",
      " 25%|██▌       | 7651/30010 [00:42<01:39, 225.54it/s]\u001b[A\n",
      " 26%|██▌       | 7676/30010 [00:42<01:43, 216.39it/s]\u001b[A\n",
      " 79%|███████▉  | 23722/30010 [00:43<00:20, 308.08it/s]\u001b[A\n",
      "100%|██████████| 30010/30010 [00:43<00:00, 690.43it/s]\u001b[A"
     ]
    }
   ],
   "source": []
  },
  {
   "cell_type": "code",
   "execution_count": 124,
   "metadata": {
    "collapsed": false
   },
   "outputs": [
    {
     "name": "stderr",
     "output_type": "stream",
     "text": [
      "100%|██████████| 30010/30010 [04:23<00:00, 113.90it/s]\n"
     ]
    }
   ],
   "source": [
    "recursive = _get_connected_components_adjacency(umis, adj_list, counts)"
   ]
  },
  {
   "cell_type": "code",
   "execution_count": 111,
   "metadata": {
    "collapsed": false
   },
   "outputs": [
    {
     "name": "stderr",
     "output_type": "stream",
     "text": [
      "100%|██████████| 30010/30010 [04:20<00:00, 115.42it/s]\n"
     ]
    }
   ],
   "source": [
    "old = _get_connected_components_adjacency(umis, adj_list, counts)"
   ]
  },
  {
   "cell_type": "code",
   "execution_count": 125,
   "metadata": {
    "collapsed": false
   },
   "outputs": [
    {
     "data": {
      "text/plain": [
       "True"
      ]
     },
     "execution_count": 125,
     "metadata": {},
     "output_type": "execute_result"
    }
   ],
   "source": [
    "old == recursive"
   ]
  },
  {
   "cell_type": "code",
   "execution_count": 102,
   "metadata": {
    "collapsed": false
   },
   "outputs": [
    {
     "data": {
      "text/plain": [
       "7475"
      ]
     },
     "execution_count": 102,
     "metadata": {},
     "output_type": "execute_result"
    }
   ],
   "source": [
    "len(breadth_first_search_recursive(node, adj_list))"
   ]
  },
  {
   "cell_type": "code",
   "execution_count": 98,
   "metadata": {
    "collapsed": false
   },
   "outputs": [
    {
     "ename": "NameError",
     "evalue": "name 'RecursionError' is not defined",
     "output_type": "error",
     "traceback": [
      "\u001b[0;31m---------------------------------------------------------------------------\u001b[0m",
      "\u001b[0;31mNameError\u001b[0m                                 Traceback (most recent call last)",
      "\u001b[0;32m<ipython-input-98-dfbb99547789>\u001b[0m in \u001b[0;36m<module>\u001b[0;34m()\u001b[0m\n\u001b[0;32m----> 1\u001b[0;31m \u001b[0mRecursionError\u001b[0m\u001b[0;34m(\u001b[0m\u001b[0;34m)\u001b[0m\u001b[0;34m\u001b[0m\u001b[0m\n\u001b[0m",
      "\u001b[0;31mNameError\u001b[0m: name 'RecursionError' is not defined"
     ]
    }
   ],
   "source": [
    "RecursionError()"
   ]
  },
  {
   "cell_type": "code",
   "execution_count": null,
   "metadata": {
    "collapsed": true
   },
   "outputs": [],
   "source": []
  }
 ],
 "metadata": {
  "kernelspec": {
   "display_name": "Python 2",
   "language": "python",
   "name": "python2"
  },
  "language_info": {
   "codemirror_mode": {
    "name": "ipython",
    "version": 2
   },
   "file_extension": ".py",
   "mimetype": "text/x-python",
   "name": "python",
   "nbconvert_exporter": "python",
   "pygments_lexer": "ipython2",
   "version": "2.7.12"
  }
 },
 "nbformat": 4,
 "nbformat_minor": 0
}
