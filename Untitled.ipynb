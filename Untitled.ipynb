{
 "cells": [
  {
   "cell_type": "code",
   "execution_count": 9,
   "metadata": {
    "collapsed": true
   },
   "outputs": [],
   "source": [
    "import glob\n",
    "import pysam\n",
    "import pandas as pd\n",
    "import os"
   ]
  },
  {
   "cell_type": "code",
   "execution_count": 2,
   "metadata": {
    "collapsed": false
   },
   "outputs": [
    {
     "data": {
      "text/plain": [
       "48"
      ]
     },
     "execution_count": 2,
     "metadata": {},
     "output_type": "execute_result"
    }
   ],
   "source": [
    "172800 / 60 / 60"
   ]
  },
  {
   "cell_type": "code",
   "execution_count": 4,
   "metadata": {
    "collapsed": false,
    "scrolled": false
   },
   "outputs": [],
   "source": [
    "files = glob.glob(\"/projects/ps-yeolab3/encode/analysis/encode_v13/EVNAS*.r2.bam\")"
   ]
  },
  {
   "cell_type": "code",
   "execution_count": 10,
   "metadata": {
    "collapsed": false
   },
   "outputs": [],
   "source": [
    "foo = pd.Series({os.path.basename(fn): pysam.Samfile(fn).mapped for fn in files})"
   ]
  },
  {
   "cell_type": "code",
   "execution_count": 11,
   "metadata": {
    "collapsed": false
   },
   "outputs": [
    {
     "data": {
      "text/plain": [
       "EVNAS_D1_S76_L005_R1_001.A01_EVNAS_D1_DGCR8.adapterTrim.round2.rmRep.rmDup.sorted.r2.bam           3413961\n",
       "EVNAS_D1i_S89_L006_R1_001.unassigned.adapterTrim.round2.rmRep.rmDup.sorted.r2.bam                  3214628\n",
       "EVNAS_D2_S77_L005_R1_001.B06_EVNAS_D2_DGCR8.adapterTrim.round2.rmRep.rmDup.sorted.r2.bam           2986526\n",
       "EVNAS_D2i_S90_L006_R1_001.unassigned.adapterTrim.round2.rmRep.rmDup.sorted.r2.bam                  1466162\n",
       "EVNAS_D3_S78_L005_R1_001.A01_EVNAS_D3a_DGCR8.adapterTrim.round2.rmRep.rmDup.sorted.r2.bam          1803250\n",
       "EVNAS_D3_S78_L005_R1_001.B06_EVNAS_D3b_DGCR8.adapterTrim.round2.rmRep.rmDup.sorted.r2.bam          2547139\n",
       "EVNAS_D3_S78_L005_R1_001.C01_EVNAS_D3c_DGCR8.adapterTrim.round2.rmRep.rmDup.sorted.r2.bam          2781081\n",
       "EVNAS_D3_S78_L005_R1_001.D08fixed_EVNAS_D3d_DGCR8.adapterTrim.round2.rmRep.rmDup.sorted.r2.bam     3211851\n",
       "EVNAS_D3i_S91_L006_R1_001.unassigned.adapterTrim.round2.rmRep.rmDup.sorted.r2.bam                  1624445\n",
       "EVNAS_D4_S79_L005_R1_001.A01_EVNAS_D4a_DGCR8.adapterTrim.round2.rmRep.rmDup.sorted.r2.bam           824678\n",
       "EVNAS_D4_S79_L005_R1_001.B06_EVNAS_D4b_DGCR8.adapterTrim.round2.rmRep.rmDup.sorted.r2.bam           720099\n",
       "EVNAS_D4_S79_L005_R1_001.C01_EVNAS_D4c_DGCR8.adapterTrim.round2.rmRep.rmDup.sorted.r2.bam           457056\n",
       "EVNAS_D4_S79_L005_R1_001.D08fixed_EVNAS_D4d_DGCR8.adapterTrim.round2.rmRep.rmDup.sorted.r2.bam      806488\n",
       "EVNAS_D4i_S92_L006_R1_001.unassigned.adapterTrim.round2.rmRep.rmDup.sorted.r2.bam                   832295\n",
       "EVNAS_D5_S80_L005_R1_001.A01_EVNAS_D5a_DGCR8.adapterTrim.round2.rmRep.rmDup.sorted.r2.bam           808321\n",
       "EVNAS_D5_S80_L005_R1_001.B06_EVNAS_D5b_DGCR8.adapterTrim.round2.rmRep.rmDup.sorted.r2.bam           358533\n",
       "EVNAS_D5_S80_L005_R1_001.C01_EVNAS_D5c_DGCR8.adapterTrim.round2.rmRep.rmDup.sorted.r2.bam           122261\n",
       "EVNAS_D5_S80_L005_R1_001.D08fixed_EVNAS_D5d_DGCR8.adapterTrim.round2.rmRep.rmDup.sorted.r2.bam      131870\n",
       "EVNAS_D5i_S93_L006_R1_001.unassigned.adapterTrim.round2.rmRep.rmDup.sorted.r2.bam                   173861\n",
       "EVNAS_F1_S84_L006_R1_001.A01_EVNAS_F1_RBFOX2.adapterTrim.round2.rmRep.rmDup.sorted.r2.bam          8549691\n",
       "EVNAS_F1i_S104_L007_R1_001.unassigned.adapterTrim.round2.rmRep.rmDup.sorted.r2.bam                 3468888\n",
       "EVNAS_F2_S85_L006_R1_001.B06_EVNAS_F2_RBFOX2.adapterTrim.round2.rmRep.rmDup.sorted.r2.bam          6688447\n",
       "EVNAS_F2i_S105_L007_R1_001.unassigned.adapterTrim.round2.rmRep.rmDup.sorted.r2.bam                 2296184\n",
       "EVNAS_F3_S86_L006_R1_001.A01_EVNAS_F3a_RBFOX2.adapterTrim.round2.rmRep.rmDup.sorted.r2.bam         2024430\n",
       "EVNAS_F3_S86_L006_R1_001.B06_EVNAS_F3b_RBFOX2.adapterTrim.round2.rmRep.rmDup.sorted.r2.bam         8085971\n",
       "EVNAS_F3_S86_L006_R1_001.C01_EVNAS_F3c_RBFOX2.adapterTrim.round2.rmRep.rmDup.sorted.r2.bam         5220097\n",
       "EVNAS_F3_S86_L006_R1_001.D08fixed_EVNAS_F3d_RBFOX2.adapterTrim.round2.rmRep.rmDup.sorted.r2.bam    4391099\n",
       "EVNAS_F3i_S94_L006_R1_001.unassigned.adapterTrim.round2.rmRep.rmDup.sorted.r2.bam                  1953385\n",
       "EVNAS_F4_S87_L006_R1_001.A01_EVNAS_F4a_RBFOX2.adapterTrim.round2.rmRep.rmDup.sorted.r2.bam         1019222\n",
       "EVNAS_F4_S87_L006_R1_001.B06_EVNAS_F4b_RBFOX2.adapterTrim.round2.rmRep.rmDup.sorted.r2.bam         2280528\n",
       "EVNAS_F4_S87_L006_R1_001.C01_EVNAS_F4c_RBFOX2.adapterTrim.round2.rmRep.rmDup.sorted.r2.bam         7753994\n",
       "EVNAS_F4_S87_L006_R1_001.D08fixed_EVNAS_F4d_RBFOX2.adapterTrim.round2.rmRep.rmDup.sorted.r2.bam    2413611\n",
       "EVNAS_F4i_S95_L006_R1_001.unassigned.adapterTrim.round2.rmRep.rmDup.sorted.r2.bam                  1126163\n",
       "EVNAS_F5_S88_L006_R1_001.A01_EVNAS_F5a_RBFOX2.adapterTrim.round2.rmRep.rmDup.sorted.r2.bam          506291\n",
       "EVNAS_F5_S88_L006_R1_001.B06_EVNAS_F5b_RBFOX2.adapterTrim.round2.rmRep.rmDup.sorted.r2.bam          445765\n",
       "EVNAS_F5_S88_L006_R1_001.C01_EVNAS_F5c_RBFOX2.adapterTrim.round2.rmRep.rmDup.sorted.r2.bam          582975\n",
       "EVNAS_F5_S88_L006_R1_001.D08fixed_EVNAS_F5d_RBFOX2.adapterTrim.round2.rmRep.rmDup.sorted.r2.bam     381848\n",
       "EVNAS_F5i_S96_L006_R1_001.unassigned.adapterTrim.round2.rmRep.rmDup.sorted.r2.bam                   243893\n",
       "dtype: int64"
      ]
     },
     "execution_count": 11,
     "metadata": {},
     "output_type": "execute_result"
    }
   ],
   "source": [
    "foo"
   ]
  },
  {
   "cell_type": "code",
   "execution_count": 12,
   "metadata": {
    "collapsed": true
   },
   "outputs": [],
   "source": [
    "from clipper.src import CLIP_analysis"
   ]
  },
  {
   "cell_type": "code",
   "execution_count": 14,
   "metadata": {
    "collapsed": true
   },
   "outputs": [],
   "source": [
    "import pybedtools"
   ]
  },
  {
   "cell_type": "code",
   "execution_count": 59,
   "metadata": {
    "collapsed": false
   },
   "outputs": [],
   "source": [
    "tool = pybedtools.BedTool(\"/projects/ps-yeolab3/encode/analysis/encode_v13/TBN_23_S2_L001_R1_001.A01_TBN_23_MDA5.adapterTrim.round2.rmRep.rmDup.sorted.r2.peaks.bed\")"
   ]
  },
  {
   "cell_type": "code",
   "execution_count": 19,
   "metadata": {
    "collapsed": true
   },
   "outputs": [],
   "source": [
    "CLIP_analysis.assign_to_regions??"
   ]
  },
  {
   "cell_type": "code",
   "execution_count": 18,
   "metadata": {
    "collapsed": false
   },
   "outputs": [
    {
     "ename": "NameError",
     "evalue": "Both strands are present, something went wrong during the merge",
     "output_type": "error",
     "traceback": [
      "\u001b[0;31m---------------------------------------------------------------------------\u001b[0m",
      "\u001b[0;31mNameError\u001b[0m                                 Traceback (most recent call last)",
      "\u001b[0;32m<ipython-input-18-bb5fccc3ee9a>\u001b[0m in \u001b[0;36m<module>\u001b[0;34m()\u001b[0m\n\u001b[0;32m----> 1\u001b[0;31m \u001b[0mCLIP_analysis\u001b[0m\u001b[0;34m.\u001b[0m\u001b[0massign_to_regions\u001b[0m\u001b[0;34m(\u001b[0m\u001b[0mtool\u001b[0m\u001b[0;34m)\u001b[0m\u001b[0;34m\u001b[0m\u001b[0m\n\u001b[0m",
      "\u001b[0;32m/home/gpratt/anaconda/lib/python2.7/site-packages/clipper-0.2.0-py2.7-linux-x86_64.egg/clipper/src/CLIP_analysis.pyc\u001b[0m in \u001b[0;36massign_to_regions\u001b[0;34m(tool, clusters, assigned_dir, species, nrand)\u001b[0m\n\u001b[1;32m    320\u001b[0m     \u001b[0;31m#    tool = tool.sort().merge(s=True, c=\"4,5,6\", o=\"collapse,collapse,collapse\").each(fix_strand).each(fix_name).saveas()\u001b[0m\u001b[0;34m\u001b[0m\u001b[0;34m\u001b[0m\u001b[0m\n\u001b[1;32m    321\u001b[0m     \u001b[0;32melse\u001b[0m\u001b[0;34m:\u001b[0m \u001b[0;31m#Clipper, this is ideal we like this technique\u001b[0m\u001b[0;34m\u001b[0m\u001b[0m\n\u001b[0;32m--> 322\u001b[0;31m         \u001b[0mtool\u001b[0m \u001b[0;34m=\u001b[0m \u001b[0mtool\u001b[0m\u001b[0;34m.\u001b[0m\u001b[0msort\u001b[0m\u001b[0;34m(\u001b[0m\u001b[0;34m)\u001b[0m\u001b[0;34m.\u001b[0m\u001b[0mmerge\u001b[0m\u001b[0;34m(\u001b[0m\u001b[0ms\u001b[0m\u001b[0;34m=\u001b[0m\u001b[0mTrue\u001b[0m\u001b[0;34m,\u001b[0m \u001b[0mc\u001b[0m\u001b[0;34m=\u001b[0m\u001b[0;34m\"4,5,6,7,8\"\u001b[0m\u001b[0;34m,\u001b[0m \u001b[0mo\u001b[0m\u001b[0;34m=\u001b[0m\u001b[0;34m\"collapse,collapse,collapse,min,min\"\u001b[0m\u001b[0;34m)\u001b[0m\u001b[0;34m.\u001b[0m\u001b[0meach\u001b[0m\u001b[0;34m(\u001b[0m\u001b[0mfix_strand\u001b[0m\u001b[0;34m)\u001b[0m\u001b[0;34m.\u001b[0m\u001b[0msaveas\u001b[0m\u001b[0;34m(\u001b[0m\u001b[0;34m)\u001b[0m\u001b[0;34m\u001b[0m\u001b[0m\n\u001b[0m\u001b[1;32m    323\u001b[0m \u001b[0;34m\u001b[0m\u001b[0m\n\u001b[1;32m    324\u001b[0m     \u001b[0mremaining_clusters\u001b[0m \u001b[0;34m=\u001b[0m \u001b[0madjust_offsets\u001b[0m\u001b[0;34m(\u001b[0m\u001b[0mtool\u001b[0m\u001b[0;34m,\u001b[0m \u001b[0moffsets\u001b[0m\u001b[0;34m)\u001b[0m\u001b[0;34m\u001b[0m\u001b[0m\n",
      "\u001b[0;32m/home/gpratt/anaconda/lib/python2.7/site-packages/pybedtools-0.7.0-py2.7-linux-x86_64.egg/pybedtools/bedtool.pyc\u001b[0m in \u001b[0;36mdecorated\u001b[0;34m(self, *args, **kwargs)\u001b[0m\n\u001b[1;32m    773\u001b[0m             \u001b[0;31m# this calls the actual method in the first place; *result* is\u001b[0m\u001b[0;34m\u001b[0m\u001b[0;34m\u001b[0m\u001b[0m\n\u001b[1;32m    774\u001b[0m             \u001b[0;31m# whatever you get back\u001b[0m\u001b[0;34m\u001b[0m\u001b[0;34m\u001b[0m\u001b[0m\n\u001b[0;32m--> 775\u001b[0;31m             \u001b[0mresult\u001b[0m \u001b[0;34m=\u001b[0m \u001b[0mmethod\u001b[0m\u001b[0;34m(\u001b[0m\u001b[0mself\u001b[0m\u001b[0;34m,\u001b[0m \u001b[0;34m*\u001b[0m\u001b[0margs\u001b[0m\u001b[0;34m,\u001b[0m \u001b[0;34m**\u001b[0m\u001b[0mkwargs\u001b[0m\u001b[0;34m)\u001b[0m\u001b[0;34m\u001b[0m\u001b[0m\n\u001b[0m\u001b[1;32m    776\u001b[0m \u001b[0;34m\u001b[0m\u001b[0m\n\u001b[1;32m    777\u001b[0m             \u001b[0;31m# add appropriate tags\u001b[0m\u001b[0;34m\u001b[0m\u001b[0;34m\u001b[0m\u001b[0m\n",
      "\u001b[0;32m/home/gpratt/anaconda/lib/python2.7/site-packages/pybedtools-0.7.0-py2.7-linux-x86_64.egg/pybedtools/bedtool.pyc\u001b[0m in \u001b[0;36msaveas\u001b[0;34m(self, fn, trackline, compressed)\u001b[0m\n\u001b[1;32m   2885\u001b[0m \u001b[0;34m\u001b[0m\u001b[0m\n\u001b[1;32m   2886\u001b[0m         fn = self._collapse(self, fn=fn, trackline=trackline,\n\u001b[0;32m-> 2887\u001b[0;31m                             compressed=compressed)\n\u001b[0m\u001b[1;32m   2888\u001b[0m         \u001b[0;32mreturn\u001b[0m \u001b[0mBedTool\u001b[0m\u001b[0;34m(\u001b[0m\u001b[0mfn\u001b[0m\u001b[0;34m)\u001b[0m\u001b[0;34m\u001b[0m\u001b[0m\n\u001b[1;32m   2889\u001b[0m \u001b[0;34m\u001b[0m\u001b[0m\n",
      "\u001b[0;32m/home/gpratt/anaconda/lib/python2.7/site-packages/pybedtools-0.7.0-py2.7-linux-x86_64.egg/pybedtools/bedtool.pyc\u001b[0m in \u001b[0;36m_collapse\u001b[0;34m(self, iterable, fn, trackline, compressed)\u001b[0m\n\u001b[1;32m   1211\u001b[0m         \u001b[0;32melse\u001b[0m\u001b[0;34m:\u001b[0m\u001b[0;34m\u001b[0m\u001b[0m\n\u001b[1;32m   1212\u001b[0m             \u001b[0;32mwith\u001b[0m \u001b[0mopen\u001b[0m\u001b[0;34m(\u001b[0m\u001b[0mfn\u001b[0m\u001b[0;34m,\u001b[0m \u001b[0;34m'w'\u001b[0m\u001b[0;34m)\u001b[0m \u001b[0;32mas\u001b[0m \u001b[0mout_\u001b[0m\u001b[0;34m:\u001b[0m\u001b[0;34m\u001b[0m\u001b[0m\n\u001b[0;32m-> 1213\u001b[0;31m                 \u001b[0;32mfor\u001b[0m \u001b[0mi\u001b[0m \u001b[0;32min\u001b[0m \u001b[0miterable\u001b[0m\u001b[0;34m:\u001b[0m\u001b[0;34m\u001b[0m\u001b[0m\n\u001b[0m\u001b[1;32m   1214\u001b[0m                     \u001b[0;32mif\u001b[0m \u001b[0misinstance\u001b[0m\u001b[0;34m(\u001b[0m\u001b[0mi\u001b[0m\u001b[0;34m,\u001b[0m \u001b[0;34m(\u001b[0m\u001b[0mlist\u001b[0m\u001b[0;34m,\u001b[0m \u001b[0mtuple\u001b[0m\u001b[0;34m)\u001b[0m\u001b[0;34m)\u001b[0m\u001b[0;34m:\u001b[0m\u001b[0;34m\u001b[0m\u001b[0m\n\u001b[1;32m   1215\u001b[0m                         \u001b[0mi\u001b[0m \u001b[0;34m=\u001b[0m \u001b[0mcreate_interval_from_list\u001b[0m\u001b[0;34m(\u001b[0m\u001b[0mlist\u001b[0m\u001b[0;34m(\u001b[0m\u001b[0mi\u001b[0m\u001b[0;34m)\u001b[0m\u001b[0;34m)\u001b[0m\u001b[0;34m\u001b[0m\u001b[0m\n",
      "\u001b[0;32m/home/gpratt/anaconda/lib/python2.7/site-packages/pybedtools-0.7.0-py2.7-linux-x86_64.egg/pybedtools/cbedtools.pyx\u001b[0m in \u001b[0;36mpybedtools.cbedtools.IntervalIterator.__next__ (pybedtools/cbedtools.cxx:10013)\u001b[0;34m()\u001b[0m\n\u001b[1;32m    729\u001b[0m         \u001b[0;32mwhile\u001b[0m \u001b[0mTrue\u001b[0m\u001b[0;34m:\u001b[0m\u001b[0;34m\u001b[0m\u001b[0m\n\u001b[1;32m    730\u001b[0m             \u001b[0;32mtry\u001b[0m\u001b[0;34m:\u001b[0m\u001b[0;34m\u001b[0m\u001b[0m\n\u001b[0;32m--> 731\u001b[0;31m                 \u001b[0mline\u001b[0m \u001b[0;34m=\u001b[0m \u001b[0mnext\u001b[0m\u001b[0;34m(\u001b[0m\u001b[0mself\u001b[0m\u001b[0;34m.\u001b[0m\u001b[0mstream\u001b[0m\u001b[0;34m)\u001b[0m\u001b[0;34m\u001b[0m\u001b[0m\n\u001b[0m\u001b[1;32m    732\u001b[0m                 \u001b[0;32mif\u001b[0m \u001b[0mself\u001b[0m\u001b[0;34m.\u001b[0m\u001b[0m_itemtype\u001b[0m \u001b[0;34m<\u001b[0m \u001b[0;36m0\u001b[0m\u001b[0;34m:\u001b[0m\u001b[0;34m\u001b[0m\u001b[0m\n\u001b[1;32m    733\u001b[0m                     \u001b[0;32mif\u001b[0m \u001b[0misinstance\u001b[0m\u001b[0;34m(\u001b[0m\u001b[0mline\u001b[0m\u001b[0;34m,\u001b[0m \u001b[0mInterval\u001b[0m\u001b[0;34m)\u001b[0m\u001b[0;34m:\u001b[0m\u001b[0;34m\u001b[0m\u001b[0m\n",
      "\u001b[0;32m/home/gpratt/anaconda/lib/python2.7/site-packages/pybedtools-0.7.0-py2.7-linux-x86_64.egg/pybedtools/bedtool.pyc\u001b[0m in \u001b[0;36m_generator\u001b[0;34m()\u001b[0m\n\u001b[1;32m    874\u001b[0m         \u001b[0;32mdef\u001b[0m \u001b[0m_generator\u001b[0m\u001b[0;34m(\u001b[0m\u001b[0;34m)\u001b[0m\u001b[0;34m:\u001b[0m\u001b[0;34m\u001b[0m\u001b[0m\n\u001b[1;32m    875\u001b[0m             \u001b[0;32mfor\u001b[0m \u001b[0mf\u001b[0m \u001b[0;32min\u001b[0m \u001b[0mself\u001b[0m\u001b[0;34m:\u001b[0m\u001b[0;34m\u001b[0m\u001b[0m\n\u001b[0;32m--> 876\u001b[0;31m                 \u001b[0mresult\u001b[0m \u001b[0;34m=\u001b[0m \u001b[0mfunc\u001b[0m\u001b[0;34m(\u001b[0m\u001b[0mf\u001b[0m\u001b[0;34m,\u001b[0m \u001b[0;34m*\u001b[0m\u001b[0margs\u001b[0m\u001b[0;34m,\u001b[0m \u001b[0;34m**\u001b[0m\u001b[0mkwargs\u001b[0m\u001b[0;34m)\u001b[0m\u001b[0;34m\u001b[0m\u001b[0m\n\u001b[0m\u001b[1;32m    877\u001b[0m                 \u001b[0;32mif\u001b[0m \u001b[0mresult\u001b[0m\u001b[0;34m:\u001b[0m\u001b[0;34m\u001b[0m\u001b[0m\n\u001b[1;32m    878\u001b[0m                     \u001b[0;32myield\u001b[0m \u001b[0mresult\u001b[0m\u001b[0;34m\u001b[0m\u001b[0m\n",
      "\u001b[0;32m/home/gpratt/anaconda/lib/python2.7/site-packages/clipper-0.2.0-py2.7-linux-x86_64.egg/clipper/src/CLIP_analysis.pyc\u001b[0m in \u001b[0;36mfix_strand\u001b[0;34m(interval, warn)\u001b[0m\n\u001b[1;32m    224\u001b[0m     \u001b[0;32mif\u001b[0m \u001b[0mlen\u001b[0m\u001b[0;34m(\u001b[0m\u001b[0mstrands\u001b[0m\u001b[0;34m)\u001b[0m \u001b[0;34m>\u001b[0m \u001b[0;36m1\u001b[0m \u001b[0;32mand\u001b[0m \u001b[0mwarn\u001b[0m\u001b[0;34m:\u001b[0m\u001b[0;34m\u001b[0m\u001b[0m\n\u001b[1;32m    225\u001b[0m         \u001b[0;31m#There is something odd going on between my local box, pybedtools and bedtools.  Merge isn't acting exacly the same, this works on TSCC\u001b[0m\u001b[0;34m\u001b[0m\u001b[0;34m\u001b[0m\u001b[0m\n\u001b[0;32m--> 226\u001b[0;31m         \u001b[0;32mraise\u001b[0m \u001b[0mNameError\u001b[0m\u001b[0;34m(\u001b[0m\u001b[0;34m\"Both strands are present, something went wrong during the merge\"\u001b[0m\u001b[0;34m)\u001b[0m\u001b[0;34m\u001b[0m\u001b[0m\n\u001b[0m\u001b[1;32m    227\u001b[0m     \u001b[0minterval\u001b[0m\u001b[0;34m.\u001b[0m\u001b[0mstrand\u001b[0m \u001b[0;34m=\u001b[0m \u001b[0mstrands\u001b[0m\u001b[0;34m[\u001b[0m\u001b[0;36m0\u001b[0m\u001b[0;34m]\u001b[0m\u001b[0;34m\u001b[0m\u001b[0m\n\u001b[1;32m    228\u001b[0m     \u001b[0;32mreturn\u001b[0m \u001b[0minterval\u001b[0m\u001b[0;34m\u001b[0m\u001b[0m\n",
      "\u001b[0;31mNameError\u001b[0m: Both strands are present, something went wrong during the merge"
     ]
    }
   ],
   "source": [
    "CLIP_analysis.assign_to_regions(tool)"
   ]
  },
  {
   "cell_type": "code",
   "execution_count": 56,
   "metadata": {
    "collapsed": true
   },
   "outputs": [],
   "source": [
    "def fix_strand(interval, warn=True):\n",
    "    #this only is comptabale with bedtools 2.25.0\n",
    "    #lst = interval.fields\n",
    "    #del lst[3]\n",
    "    #interval = pybedtools.interval_constructor(lst)\n",
    "    strands = list(set(interval.strand.split(\",\")))\n",
    "    if len(strands) > 1 and warn:\n",
    "        #There is something odd going on between my local box, pybedtools and bedtools.  Merge isn't acting exacly the same, this works on TSCC\n",
    "        print interval\n",
    "        print interval.strand\n",
    "        print strands\n",
    "        raise NameError(\"Both strands are present, something went wrong during the merge\")\n",
    "    interval.strand = strands[0]\n",
    "    return interval\n",
    "\n",
    "def fix_strand_v26(interval, warn=True):\n",
    "    #this only is comptabale with bedtools 2.26.0\n",
    "    interval = list(interval)\n",
    "    interval.pop(3)\n",
    "    interval = pybedtools.create_interval_from_list(interval)\n",
    "\n",
    "    strands = list(set(interval.strand.split(\",\")))\n",
    "    \n",
    "    if len(strands) > 1 and warn:\n",
    "        #There is something odd going on between my local box, pybedtools and bedtools.  Merge isn't acting exacly the same, this works on TSCC\n",
    "        print interval\n",
    "        print interval.strand\n",
    "        print strands\n",
    "        raise NameError(\"Both strands are present, something went wrong during the merge\")\n",
    "    interval.strand = strands[0]\n",
    "    return interval"
   ]
  },
  {
   "cell_type": "code",
   "execution_count": 60,
   "metadata": {
    "collapsed": false
   },
   "outputs": [],
   "source": [
    "tool = tool.sort().merge(s=True, c=\"4,5,6,7,8\", o=\"collapse,collapse,collapse,min,min\").each(fix_strand_v26).saveas()"
   ]
  },
  {
   "cell_type": "code",
   "execution_count": 61,
   "metadata": {
    "collapsed": false
   },
   "outputs": [
    {
     "name": "stdout",
     "output_type": "stream",
     "text": [
      "chr1\t569886\t569957\tENSG00000198744.5_0_26\t4.0448753628e-12\t+\t569921\t569925\n",
      " chr1\t569900\t569984\tENSG00000230021.2_0_14\t3.59182559409e-13\t-\t569926\t569930\n",
      " chr1\t725531\t725579\tENSG00000237491.3_0_5\t0.000685632099838\t+\t725553\t725557\n",
      " chr1\t860710\t860755\tENSG00000187634.6_0_4\t0.00932705476235\t+\t860730\t860734\n",
      " chr1\t861167\t861196\tENSG00000187634.6_1_4\t0.00693282869315\t+\t861179\t861183\n",
      " chr1\t864977\t865012\tENSG00000187634.6_4_4\t0.00777330398028\t+\t864993\t864997\n",
      " chr1\t865521\t865575\tENSG00000187634.6_5_5\t0.00229167606219\t+\t865545\t865549\n",
      " chr1\t934915\t934954\tENSG00000188290.6_0_4\t0.0382988108489\t-\t934932\t934936\n",
      " chr1\t935184\t935296\tENSG00000188290.6_1_10\t0.00069060543798\t-\t935231\t935235\n",
      " chr1\t1029230\t1029256\tENSG00000131591.13_0_3\t0.0279950226975\t-\t1029240\t1029244\n",
      " "
     ]
    }
   ],
   "source": [
    "tool.head()"
   ]
  },
  {
   "cell_type": "code",
   "execution_count": 53,
   "metadata": {
    "collapsed": false
   },
   "outputs": [],
   "source": [
    "interval = tool[0]"
   ]
  },
  {
   "cell_type": "code",
   "execution_count": 54,
   "metadata": {
    "collapsed": false
   },
   "outputs": [],
   "source": []
  },
  {
   "cell_type": "code",
   "execution_count": 55,
   "metadata": {
    "collapsed": false
   },
   "outputs": [
    {
     "data": {
      "text/plain": [
       "Interval(chr1:569886-569957)"
      ]
     },
     "execution_count": 55,
     "metadata": {},
     "output_type": "execute_result"
    }
   ],
   "source": [
    "interval"
   ]
  },
  {
   "cell_type": "code",
   "execution_count": 51,
   "metadata": {
    "collapsed": false
   },
   "outputs": [
    {
     "data": {
      "text/plain": [
       "[u'chr1',\n",
       " u'569886',\n",
       " u'569957',\n",
       " u'ENSG00000198744.5_0_26',\n",
       " u'4.0448753628e-12',\n",
       " u'+',\n",
       " u'569921',\n",
       " u'569925']"
      ]
     },
     "execution_count": 51,
     "metadata": {},
     "output_type": "execute_result"
    }
   ],
   "source": [
    "foo"
   ]
  },
  {
   "cell_type": "code",
   "execution_count": 22,
   "metadata": {
    "collapsed": false
   },
   "outputs": [
    {
     "name": "stdout",
     "output_type": "stream",
     "text": [
      "chr1\t569886\t569957\t+\tENSG00000198744.5_0_26\t4.0448753628e-12\t+\t569921\t569925\n",
      " chr1\t569900\t569984\t-\tENSG00000230021.2_0_14\t3.59182559409e-13\t-\t569926\t569930\n",
      " chr1\t725531\t725579\t+\tENSG00000237491.3_0_5\t0.000685632099838\t+\t725553\t725557\n",
      " chr1\t860710\t860755\t+\tENSG00000187634.6_0_4\t0.00932705476235\t+\t860730\t860734\n",
      " chr1\t861167\t861196\t+\tENSG00000187634.6_1_4\t0.00693282869315\t+\t861179\t861183\n",
      " chr1\t864977\t865012\t+\tENSG00000187634.6_4_4\t0.00777330398028\t+\t864993\t864997\n",
      " chr1\t865521\t865575\t+\tENSG00000187634.6_5_5\t0.00229167606219\t+\t865545\t865549\n",
      " chr1\t934915\t934954\t-\tENSG00000188290.6_0_4\t0.0382988108489\t-\t934932\t934936\n",
      " chr1\t935184\t935296\t-\tENSG00000188290.6_1_10\t0.00069060543798\t-\t935231\t935235\n",
      " chr1\t1029230\t1029256\t-\tENSG00000131591.13_0_3\t0.0279950226975\t-\t1029240\t1029244\n",
      " "
     ]
    }
   ],
   "source": [
    "tool.head()"
   ]
  },
  {
   "cell_type": "code",
   "execution_count": 4,
   "metadata": {
    "collapsed": true
   },
   "outputs": [],
   "source": [
    "import pysam"
   ]
  },
  {
   "cell_type": "code",
   "execution_count": 6,
   "metadata": {
    "collapsed": false
   },
   "outputs": [],
   "source": [
    "foo = pysam.Samfile(\"/home/gpratt/scratch/foo.chrY.small.bam\")"
   ]
  },
  {
   "cell_type": "code",
   "execution_count": 12,
   "metadata": {
    "collapsed": false
   },
   "outputs": [
    {
     "data": {
      "text/plain": [
       "{'ID': '10_GM12878_CLIP_1_Infminus_AND_12_GM12878_CLIP_1_Infplus_ATTCAGAA-ATAGAGGC_R1.A04_12_GM12878_CLIP_1_Infplus_R60.adapterTrim.round2.rmRep.rmDup.sorted'}"
      ]
     },
     "execution_count": 12,
     "metadata": {},
     "output_type": "execute_result"
    }
   ],
   "source": [
    "foo.header['RG'][0]"
   ]
  },
  {
   "cell_type": "code",
   "execution_count": 13,
   "metadata": {
    "collapsed": false
   },
   "outputs": [],
   "source": [
    "read_groups = [rg['ID'] for rg in foo.header['RG']]"
   ]
  },
  {
   "cell_type": "code",
   "execution_count": 23,
   "metadata": {
    "collapsed": false
   },
   "outputs": [],
   "source": [
    "import pstats\n",
    "p = pstats.Stats('/home/gpratt/ad-hoc/prof.txt')\n",
    "#p.strip_dirs().sort_stats(-1).print_stats()"
   ]
  },
  {
   "cell_type": "code",
   "execution_count": 24,
   "metadata": {
    "collapsed": false
   },
   "outputs": [
    {
     "name": "stdout",
     "output_type": "stream",
     "text": [
      "Fri Apr 21 12:04:50 2017    /home/gpratt/ad-hoc/prof.txt\n",
      "\n",
      "         31991004 function calls (31984669 primitive calls) in 41.443 seconds\n",
      "\n",
      "   Ordered by: internal time\n",
      "   List reduced from 3922 to 10 due to restriction <10>\n",
      "\n",
      "   ncalls  tottime  percall  cumtime  percall filename:lineno(function)\n",
      "   515504   12.074    0.000   12.074    0.000 /home/gpratt/software/cross_contamination/crosser/cross_contamination_tools.py:26(get_total_counts)\n",
      "   475137    8.412    0.000   22.876    0.000 /home/gpratt/software/UMI-tools/umi_tools/umi_methods.py:216(get_bundles)\n",
      "   517775    1.470    0.000    4.316    0.000 /home/gpratt/software/UMI-tools/umi_tools/umi_methods.py:162(get_read_position)\n",
      "  1035575    1.453    0.000    1.453    0.000 pysam/libcalignmentfile.pyx:1721(cnext)\n",
      "   517775    1.360    0.000    1.446    0.000 pysam/libcalignedsegment.pyx:934(__get__)\n",
      "   990640    1.345    0.000    1.755    0.000 /home/gpratt/anaconda/lib/python2.7/site-packages/future/types/newdict.py:83(__new__)\n",
      "        1    1.204    1.204   38.834   38.834 /home/gpratt/software/cross_contamination/crosser/cross_contamination.py:70(main)\n",
      "   517851    0.766    0.000    0.766    0.000 {method 'encode' of 'str' objects}\n",
      "   517775    0.730    0.000    2.289    0.000 /home/gpratt/software/cross_contamination/crosser/cross_contamination.py:60(get_umi_read_front)\n",
      "  1035550    0.675    0.000    0.675    0.000 pysam/libcalignedsegment.pyx:455(makeAlignedSegment)\n",
      "\n",
      "\n"
     ]
    },
    {
     "data": {
      "text/plain": [
       "<pstats.Stats instance at 0x2b00ec80f128>"
      ]
     },
     "execution_count": 24,
     "metadata": {},
     "output_type": "execute_result"
    }
   ],
   "source": [
    "p.sort_stats('time').print_stats(10)\n"
   ]
  },
  {
   "cell_type": "code",
   "execution_count": null,
   "metadata": {
    "collapsed": true
   },
   "outputs": [],
   "source": []
  }
 ],
 "metadata": {
  "kernelspec": {
   "display_name": "Python 2",
   "language": "python",
   "name": "python2"
  },
  "language_info": {
   "codemirror_mode": {
    "name": "ipython",
    "version": 2
   },
   "file_extension": ".py",
   "mimetype": "text/x-python",
   "name": "python",
   "nbconvert_exporter": "python",
   "pygments_lexer": "ipython2",
   "version": "2.7.12"
  }
 },
 "nbformat": 4,
 "nbformat_minor": 0
}
