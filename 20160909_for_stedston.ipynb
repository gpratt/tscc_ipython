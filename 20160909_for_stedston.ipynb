{
 "cells": [
  {
   "cell_type": "code",
   "execution_count": 1,
   "metadata": {
    "collapsed": false
   },
   "outputs": [
    {
     "name": "stderr",
     "output_type": "stream",
     "text": [
      "/home/gpratt/anaconda/lib/python2.7/site-packages/IPython/html.py:14: ShimWarning: The `IPython.html` package has been deprecated. You should import from `notebook` instead. `IPython.html.widgets` has moved to `ipywidgets`.\n",
      "  \"`IPython.html.widgets` has moved to `ipywidgets`.\", ShimWarning)\n"
     ]
    }
   ],
   "source": [
    "%matplotlib inline\n",
    "from collections import defaultdict, Counter\n",
    "import glob\n",
    "import os\n",
    "import json\n",
    "\n",
    "from IPython.core.display import HTML, Image\n",
    "from matplotlib_venn import venn3\n",
    "import pandas as pd\n",
    "import pybedtools\n",
    "import pysam\n",
    "import gspread\n",
    "from gscripts.general import parsers\n",
    "from gscripts.general import dataviz\n",
    "%load_ext autoreload\n",
    "import numpy as np\n",
    "%autoreload 2\n",
    "reload(parsers)\n",
    "reload(pybedtools)\n",
    "import seaborn as sns\n",
    "import matplotlib\n",
    "from oauth2client.client import SignedJwtAssertionCredentials\n",
    "from matplotlib.ticker import ScalarFormatter, FormatStrFormatter\n",
    "\n",
    "import gzip\n",
    "img_dir = \"/home/gpratt/Dropbox/encode_integration/qc_work/\""
   ]
  },
  {
   "cell_type": "code",
   "execution_count": 11,
   "metadata": {
    "collapsed": true
   },
   "outputs": [],
   "source": [
    "stetson_qc = parsers.clipseq_metrics(\"/home/gpratt/projects/for_stetson/analysis/stetson_v1/\", iclip=False)\n",
    "stetson_qc[\"Fraction Collapsed\"] = stetson_qc['Usable Reads'] / stetson_qc['Uniquely Mapped Reads'].astype(float)\n",
    "stetson_qc[\"Fraction Usable\"] = stetson_qc['Usable Reads'] / stetson_qc['Input Reads'].astype(float)\n"
   ]
  },
  {
   "cell_type": "code",
   "execution_count": 12,
   "metadata": {
    "collapsed": false
   },
   "outputs": [],
   "source": [
    "filtered_stetson_qc = stetson_qc[[ \"Input Reads\",\n",
    "           #'Trimmed bases',\n",
    "           \"Reads Written\",\n",
    "           \"repetitive_count\",\n",
    "           \"Uniquely Mapped Reads\",\n",
    "           \"Uniquely mapped reads %\",\n",
    "           \"Usable Reads\",\n",
    "           \"Fraction Collapsed\",\n",
    "           \"Fraction Usable\",\n",
    "           #\"spot\",\n",
    "           \"Num Peaks\",\n",
    "           #\"Passed QC\"\n",
    "          ]]\n",
    "\n"
   ]
  },
  {
   "cell_type": "code",
   "execution_count": 13,
   "metadata": {
    "collapsed": false
   },
   "outputs": [
    {
     "data": {
      "text/html": [
       "<table border=\"1\" class=\"dataframe\">\n",
       "  <thead>\n",
       "    <tr style=\"text-align: right;\">\n",
       "      <th></th>\n",
       "      <th>Input Reads</th>\n",
       "      <th>Reads Written</th>\n",
       "      <th>repetitive_count</th>\n",
       "      <th>Uniquely Mapped Reads</th>\n",
       "      <th>Uniquely mapped reads %</th>\n",
       "      <th>Usable Reads</th>\n",
       "      <th>Fraction Collapsed</th>\n",
       "      <th>Fraction Usable</th>\n",
       "      <th>Num Peaks</th>\n",
       "    </tr>\n",
       "  </thead>\n",
       "  <tbody>\n",
       "    <tr>\n",
       "      <th>2_SG_Stetson_iCLIP_S1_R1_001</th>\n",
       "      <td>99,555,463</td>\n",
       "      <td>78,802,893</td>\n",
       "      <td>40,051,587</td>\n",
       "      <td>43,075,184</td>\n",
       "      <td>78.94%</td>\n",
       "      <td>553,386</td>\n",
       "      <td>0.012847</td>\n",
       "      <td>0.005559</td>\n",
       "      <td>22,739</td>\n",
       "    </tr>\n",
       "    <tr>\n",
       "      <th>4_SG_Stetson_iCLIP_S2_R1_001</th>\n",
       "      <td>85,117,679</td>\n",
       "      <td>75,148,807</td>\n",
       "      <td>45,043,868</td>\n",
       "      <td>28,463,198</td>\n",
       "      <td>69.65%</td>\n",
       "      <td>145,996</td>\n",
       "      <td>0.005129</td>\n",
       "      <td>0.001715</td>\n",
       "      <td>16,823</td>\n",
       "    </tr>\n",
       "    <tr>\n",
       "      <th>6_SG_Stetson_iCLIP_S3_R1_001</th>\n",
       "      <td>95,000,723</td>\n",
       "      <td>83,356,872</td>\n",
       "      <td>49,830,895</td>\n",
       "      <td>43,940,044</td>\n",
       "      <td>88.84%</td>\n",
       "      <td>387,314</td>\n",
       "      <td>0.008815</td>\n",
       "      <td>0.004077</td>\n",
       "      <td>26,508</td>\n",
       "    </tr>\n",
       "    <tr>\n",
       "      <th>8_SG_Stetson_iCLIP_S4_R1_001</th>\n",
       "      <td>124,747,095</td>\n",
       "      <td>103,326,069</td>\n",
       "      <td>81,679,572</td>\n",
       "      <td>28,089,460</td>\n",
       "      <td>79.44%</td>\n",
       "      <td>376,956</td>\n",
       "      <td>0.013420</td>\n",
       "      <td>0.003022</td>\n",
       "      <td>19,544</td>\n",
       "    </tr>\n",
       "    <tr>\n",
       "      <th>Undetermined_S0_R1_001</th>\n",
       "      <td>27,408,143</td>\n",
       "      <td>26,150,616</td>\n",
       "      <td>3,224,302</td>\n",
       "      <td>2,252,896</td>\n",
       "      <td>9.45%</td>\n",
       "      <td>624,248</td>\n",
       "      <td>0.277087</td>\n",
       "      <td>0.022776</td>\n",
       "      <td>16,643</td>\n",
       "    </tr>\n",
       "  </tbody>\n",
       "</table>"
      ],
      "text/plain": [
       "<IPython.core.display.HTML object>"
      ]
     },
     "execution_count": 13,
     "metadata": {},
     "output_type": "execute_result"
    }
   ],
   "source": [
    "HTML(filtered_stetson_qc.to_html(formatters={\"Input Reads\" : parsers.commas,\n",
    "                                     \"Reads Written\" : parsers.commas,\n",
    "                                     \"repetitive_count\": parsers.commas,\n",
    "                                     \"Reads after Quality Filtering\" : parsers.commas,\n",
    "                                     \"Uniquely Mapped Reads\" : parsers.commas,\n",
    "                                     \"Usable Reads\" : parsers.commas,\n",
    "                                     \"Num Peaks\": parsers.commas\n",
    "                                     } ))"
   ]
  },
  {
   "cell_type": "markdown",
   "metadata": {},
   "source": [
    "# Append Barcode to Stetson_clip so I can better process data"
   ]
  },
  {
   "cell_type": "code",
   "execution_count": null,
   "metadata": {
    "collapsed": false
   },
   "outputs": [],
   "source": [
    "def append_fake_barcode(fn):\n",
    "    with gzip.open(fn) as in_file:\n",
    "        with gzip.open(\".\".join(fn.split(\".\")[:-2] + [\"bc\", \"fastq\", \"gz\"]), 'w') as out_file:\n",
    "            while True:\n",
    "                try:\n",
    "                    name = in_file.next()\n",
    "                    seq = in_file.next()\n",
    "                    at = in_file.next()\n",
    "                    score = in_file.next()\n",
    "\n",
    "                    name = name[0] + \"AAAAA:\" + name[1:]\n",
    "\n",
    "                    out_file.write(name)\n",
    "                    out_file.write(seq)\n",
    "                    out_file.write(at)\n",
    "                    out_file.write(score)\n",
    "                except StopIteration:\n",
    "                    break"
   ]
  },
  {
   "cell_type": "code",
   "execution_count": null,
   "metadata": {
    "collapsed": true
   },
   "outputs": [],
   "source": [
    "fns = glob.glob(\"/home/gpratt/projects/for_stetson/data/*\")\n",
    "\n",
    "for fn in fns:\n",
    "    append_fake_barcode(fn)"
   ]
  },
  {
   "cell_type": "code",
   "execution_count": null,
   "metadata": {
    "collapsed": true
   },
   "outputs": [],
   "source": []
  }
 ],
 "metadata": {
  "kernelspec": {
   "display_name": "Python 2",
   "language": "python",
   "name": "python2"
  },
  "language_info": {
   "codemirror_mode": {
    "name": "ipython",
    "version": 2
   },
   "file_extension": ".py",
   "mimetype": "text/x-python",
   "name": "python",
   "nbconvert_exporter": "python",
   "pygments_lexer": "ipython2",
   "version": "2.7.12"
  }
 },
 "nbformat": 4,
 "nbformat_minor": 0
}
